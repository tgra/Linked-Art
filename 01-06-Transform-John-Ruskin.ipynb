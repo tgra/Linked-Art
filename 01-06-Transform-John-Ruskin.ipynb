{
 "cells": [
  {
   "cell_type": "markdown",
   "id": "c09fa7b0",
   "metadata": {},
   "source": [
    "# Linked Art - Transform - John Ruskin \n",
    "\n",
    "This notebook is transforms Collections data on John Ruskin artworks to Linked Art, in preparation for a data visualisation. "
   ]
  },
  {
   "cell_type": "markdown",
   "id": "ab18fe02",
   "metadata": {},
   "source": [
    "## Import What We Need\n",
    "\n",
    "See the [Transform Introduction](01-00-Transform-Intro.ipynb) for a description of the Python libraries used"
   ]
  },
  {
   "cell_type": "code",
   "execution_count": 51,
   "id": "61ab067d",
   "metadata": {},
   "outputs": [],
   "source": [
    "try:\n",
    "    import ipywidgets as widgets\n",
    "except:\n",
    "    !pip install ipywidgets\n",
    "    import ipywidgets as widgets\n",
    "\n",
    "from ipywidgets import Layout\n",
    "from ipywidgets import FileUpload\n",
    "\n",
    "import os\n",
    "\n",
    "\n",
    "try:\n",
    "    import IPython\n",
    "except:\n",
    "    !pip install IPython\n",
    "    import IPython   \n",
    "    \n",
    "from IPython.display import display, IFrame, HTML\n",
    "\n",
    "try:\n",
    "    import xmltodict\n",
    "except:\n",
    "    !pip install xmltodict\n",
    "    import xmltodict\n",
    "\n",
    "try:\n",
    "    import json\n",
    "except:\n",
    "    !pip install json\n",
    "    import json \n",
    "    \n",
    "    \n",
    "try:\n",
    "    import requests\n",
    "except:\n",
    "    !pip install requests\n",
    "    import requests\n",
    "\n",
    "import csv\n",
    "\n",
    "try:\n",
    "    import cromulent \n",
    "except:\n",
    "    !pip install cromulent\n",
    "    import cromulent\n",
    "    \n",
    "from cromulent.model import factory\n",
    "from lib import linkedart as la\n",
    "\n",
    "\n",
    "try:\n",
    "    import pandas as pd\n",
    "except:\n",
    "    !pip install pandas\n",
    "    import pandas as pd\n",
    "    \n",
    "    \n",
    "try:\n",
    "    from ipy_table import *\n",
    "except:\n",
    "    !pip install ipy_table\n",
    "    from ipy_table import *\n",
    "    \n",
    "\n",
    "    \n",
    "# display python dictionary in HTML table\n",
    "# adapated from https://bit.ly/3dVDy7v\n",
    "def dict2table(d):\n",
    "\n",
    "    # lists\n",
    "    temp = []\n",
    "    dictList = []\n",
    "\n",
    "    # convert the dictionary to a list\n",
    "    for key, value in d.items():\n",
    "        temp = [key,value]\n",
    "        dictList.append(temp)\n",
    "\n",
    "    # create table with make_table\n",
    "    make_table(dictList)\n",
    "    \n",
    "    # apply some styles to the table after it is created\n",
    "    set_column_style(0, width='100', bold=True, color='hsla(225, 80%, 94%, 1)',align='left')\n",
    "    set_column_style(1, width='100',align='left')\n",
    "\n",
    "    # render the table\n",
    "    return render()\n"
   ]
  },
  {
   "cell_type": "code",
   "execution_count": 52,
   "id": "25c066fb",
   "metadata": {},
   "outputs": [],
   "source": [
    "outputdir = \"./data/ruskin/output/json/\"\n",
    "\n",
    "images = {}"
   ]
  },
  {
   "cell_type": "markdown",
   "id": "50354532",
   "metadata": {},
   "source": [
    "### National Gallery of Art\n",
    "\n",
    "- [data file](./data/nga/input/nga_ruskin.csv)"
   ]
  },
  {
   "cell_type": "code",
   "execution_count": 53,
   "id": "f6b866a4",
   "metadata": {},
   "outputs": [
    {
     "data": {
      "text/html": [
       "<div>\n",
       "<style scoped>\n",
       "    .dataframe tbody tr th:only-of-type {\n",
       "        vertical-align: middle;\n",
       "    }\n",
       "\n",
       "    .dataframe tbody tr th {\n",
       "        vertical-align: top;\n",
       "    }\n",
       "\n",
       "    .dataframe thead th {\n",
       "        text-align: right;\n",
       "    }\n",
       "</style>\n",
       "<table border=\"1\" class=\"dataframe\">\n",
       "  <thead>\n",
       "    <tr style=\"text-align: right;\">\n",
       "      <th></th>\n",
       "      <th>objectid</th>\n",
       "      <th>accessioned</th>\n",
       "      <th>accessionnum</th>\n",
       "      <th>locationid</th>\n",
       "      <th>title</th>\n",
       "      <th>displaydate</th>\n",
       "      <th>beginyear</th>\n",
       "      <th>endyear</th>\n",
       "      <th>visualbrowsertimespan</th>\n",
       "      <th>medium</th>\n",
       "      <th>...</th>\n",
       "      <th>visualbrowserclassification</th>\n",
       "      <th>parentid</th>\n",
       "      <th>isvirtual</th>\n",
       "      <th>departmentabbr</th>\n",
       "      <th>portfolio</th>\n",
       "      <th>series</th>\n",
       "      <th>volume</th>\n",
       "      <th>watermarks</th>\n",
       "      <th>lastdetectedmodification</th>\n",
       "      <th>customprinturl</th>\n",
       "    </tr>\n",
       "  </thead>\n",
       "  <tbody>\n",
       "    <tr>\n",
       "      <th>0</th>\n",
       "      <td>70238</td>\n",
       "      <td>1</td>\n",
       "      <td>1987.73.2</td>\n",
       "      <td>NaN</td>\n",
       "      <td>Tower of the Cathedral at Sens</td>\n",
       "      <td>c. 1845</td>\n",
       "      <td>1845</td>\n",
       "      <td>1845</td>\n",
       "      <td>1826 to 1850</td>\n",
       "      <td>pen and brown ink, brush and black ink, black ...</td>\n",
       "      <td>...</td>\n",
       "      <td>drawing</td>\n",
       "      <td>NaN</td>\n",
       "      <td>0</td>\n",
       "      <td>CG-E</td>\n",
       "      <td>NaN</td>\n",
       "      <td>NaN</td>\n",
       "      <td>NaN</td>\n",
       "      <td>NaN</td>\n",
       "      <td>2019-10-28 22:01:34.883-04</td>\n",
       "      <td>NaN</td>\n",
       "    </tr>\n",
       "    <tr>\n",
       "      <th>1</th>\n",
       "      <td>70367</td>\n",
       "      <td>1</td>\n",
       "      <td>1988.20.38</td>\n",
       "      <td>NaN</td>\n",
       "      <td>Tree Study</td>\n",
       "      <td>mid-1850s</td>\n",
       "      <td>1845</td>\n",
       "      <td>1855</td>\n",
       "      <td>1826 to 1850</td>\n",
       "      <td>pen and black ink with blue-gray and gray wash...</td>\n",
       "      <td>...</td>\n",
       "      <td>drawing</td>\n",
       "      <td>NaN</td>\n",
       "      <td>0</td>\n",
       "      <td>CG-E</td>\n",
       "      <td>NaN</td>\n",
       "      <td>NaN</td>\n",
       "      <td>NaN</td>\n",
       "      <td>NaN</td>\n",
       "      <td>2020-04-10 22:01:40.093-04</td>\n",
       "      <td>NaN</td>\n",
       "    </tr>\n",
       "    <tr>\n",
       "      <th>2</th>\n",
       "      <td>72870</td>\n",
       "      <td>1</td>\n",
       "      <td>1991.88.1</td>\n",
       "      <td>NaN</td>\n",
       "      <td>The Garden of San Miniato near Florence</td>\n",
       "      <td>1845</td>\n",
       "      <td>1845</td>\n",
       "      <td>1845</td>\n",
       "      <td>1826 to 1850</td>\n",
       "      <td>watercolor and pen and black ink, heightened w...</td>\n",
       "      <td>...</td>\n",
       "      <td>drawing</td>\n",
       "      <td>NaN</td>\n",
       "      <td>0</td>\n",
       "      <td>CG-E</td>\n",
       "      <td>NaN</td>\n",
       "      <td>NaN</td>\n",
       "      <td>NaN</td>\n",
       "      <td>NaN</td>\n",
       "      <td>2019-10-28 22:01:34.883-04</td>\n",
       "      <td>NaN</td>\n",
       "    </tr>\n",
       "    <tr>\n",
       "      <th>3</th>\n",
       "      <td>76140</td>\n",
       "      <td>1</td>\n",
       "      <td>1995.52.158</td>\n",
       "      <td>NaN</td>\n",
       "      <td>Ornamental Study with Acanthus Motif for \"The ...</td>\n",
       "      <td>1849</td>\n",
       "      <td>1849</td>\n",
       "      <td>1849</td>\n",
       "      <td>1826 to 1850</td>\n",
       "      <td>pen and brown ink with watercolor and graphite...</td>\n",
       "      <td>...</td>\n",
       "      <td>drawing</td>\n",
       "      <td>NaN</td>\n",
       "      <td>0</td>\n",
       "      <td>CG-E</td>\n",
       "      <td>NaN</td>\n",
       "      <td>NaN</td>\n",
       "      <td>NaN</td>\n",
       "      <td>NaN</td>\n",
       "      <td>2019-10-28 22:01:34.883-04</td>\n",
       "      <td>NaN</td>\n",
       "    </tr>\n",
       "  </tbody>\n",
       "</table>\n",
       "<p>4 rows × 28 columns</p>\n",
       "</div>"
      ],
      "text/plain": [
       "   objectid  accessioned accessionnum  locationid  \\\n",
       "0     70238            1    1987.73.2         NaN   \n",
       "1     70367            1   1988.20.38         NaN   \n",
       "2     72870            1    1991.88.1         NaN   \n",
       "3     76140            1  1995.52.158         NaN   \n",
       "\n",
       "                                               title displaydate  beginyear  \\\n",
       "0                     Tower of the Cathedral at Sens     c. 1845       1845   \n",
       "1                                         Tree Study   mid-1850s       1845   \n",
       "2            The Garden of San Miniato near Florence        1845       1845   \n",
       "3  Ornamental Study with Acanthus Motif for \"The ...        1849       1849   \n",
       "\n",
       "   endyear visualbrowsertimespan  \\\n",
       "0     1845          1826 to 1850   \n",
       "1     1855          1826 to 1850   \n",
       "2     1845          1826 to 1850   \n",
       "3     1849          1826 to 1850   \n",
       "\n",
       "                                              medium  ...  \\\n",
       "0  pen and brown ink, brush and black ink, black ...  ...   \n",
       "1  pen and black ink with blue-gray and gray wash...  ...   \n",
       "2  watercolor and pen and black ink, heightened w...  ...   \n",
       "3  pen and brown ink with watercolor and graphite...  ...   \n",
       "\n",
       "  visualbrowserclassification parentid  isvirtual departmentabbr portfolio  \\\n",
       "0                     drawing      NaN          0           CG-E       NaN   \n",
       "1                     drawing      NaN          0           CG-E       NaN   \n",
       "2                     drawing      NaN          0           CG-E       NaN   \n",
       "3                     drawing      NaN          0           CG-E       NaN   \n",
       "\n",
       "  series volume  watermarks    lastdetectedmodification  customprinturl  \n",
       "0    NaN    NaN         NaN  2019-10-28 22:01:34.883-04             NaN  \n",
       "1    NaN    NaN         NaN  2020-04-10 22:01:40.093-04             NaN  \n",
       "2    NaN    NaN         NaN  2019-10-28 22:01:34.883-04             NaN  \n",
       "3    NaN    NaN         NaN  2019-10-28 22:01:34.883-04             NaN  \n",
       "\n",
       "[4 rows x 28 columns]"
      ]
     },
     "execution_count": 53,
     "metadata": {},
     "output_type": "execute_result"
    }
   ],
   "source": [
    "\n",
    "#  baseURI for JSON-LD document\n",
    "baseURI = \"https://www.nga.gov/collection/\"\n",
    "file = 'data/nga/input/nga_ruskin.csv'\n",
    "mpg = pd.read_csv(file)\n",
    "mpg.head()"
   ]
  },
  {
   "cell_type": "code",
   "execution_count": 54,
   "id": "efdadbe1",
   "metadata": {},
   "outputs": [
    {
     "data": {
      "text/html": [
       "<div>\n",
       "<style scoped>\n",
       "    .dataframe tbody tr th:only-of-type {\n",
       "        vertical-align: middle;\n",
       "    }\n",
       "\n",
       "    .dataframe tbody tr th {\n",
       "        vertical-align: top;\n",
       "    }\n",
       "\n",
       "    .dataframe thead th {\n",
       "        text-align: right;\n",
       "    }\n",
       "</style>\n",
       "<table border=\"1\" class=\"dataframe\">\n",
       "  <thead>\n",
       "    <tr style=\"text-align: right;\">\n",
       "      <th></th>\n",
       "      <th>uuid</th>\n",
       "      <th>iiifurl</th>\n",
       "      <th>iiifthumburl</th>\n",
       "      <th>viewtype</th>\n",
       "      <th>sequence</th>\n",
       "      <th>width</th>\n",
       "      <th>height</th>\n",
       "      <th>maxpixels</th>\n",
       "      <th>created</th>\n",
       "      <th>modified</th>\n",
       "      <th>depictstmsobjectid</th>\n",
       "      <th>assistivetext</th>\n",
       "    </tr>\n",
       "  </thead>\n",
       "  <tbody>\n",
       "    <tr>\n",
       "      <th>0</th>\n",
       "      <td>00004dec-8300-4487-8d89-562d0126b6a1</td>\n",
       "      <td>https://api.nga.gov/iiif/00004dec-8300-4487-8d...</td>\n",
       "      <td>https://api.nga.gov/iiif/00004dec-8300-4487-8d...</td>\n",
       "      <td>primary</td>\n",
       "      <td>0.0</td>\n",
       "      <td>2623</td>\n",
       "      <td>4000</td>\n",
       "      <td>640.0</td>\n",
       "      <td>2010-09-07 15:08:48-04</td>\n",
       "      <td>2021-08-26 14:28:24-04</td>\n",
       "      <td>11975</td>\n",
       "      <td>NaN</td>\n",
       "    </tr>\n",
       "    <tr>\n",
       "      <th>1</th>\n",
       "      <td>00007f61-4922-417b-8f27-893ea328206c</td>\n",
       "      <td>https://api.nga.gov/iiif/00007f61-4922-417b-8f...</td>\n",
       "      <td>https://api.nga.gov/iiif/00007f61-4922-417b-8f...</td>\n",
       "      <td>primary</td>\n",
       "      <td>0.0</td>\n",
       "      <td>3365</td>\n",
       "      <td>4332</td>\n",
       "      <td>NaN</td>\n",
       "      <td>2013-07-05 15:41:08-04</td>\n",
       "      <td>2021-07-07 10:26:29-04</td>\n",
       "      <td>17387</td>\n",
       "      <td>NaN</td>\n",
       "    </tr>\n",
       "    <tr>\n",
       "      <th>2</th>\n",
       "      <td>0000bd8c-39de-4453-b55d-5e28a9beed38</td>\n",
       "      <td>https://api.nga.gov/iiif/0000bd8c-39de-4453-b5...</td>\n",
       "      <td>https://api.nga.gov/iiif/0000bd8c-39de-4453-b5...</td>\n",
       "      <td>primary</td>\n",
       "      <td>0.0</td>\n",
       "      <td>3500</td>\n",
       "      <td>4688</td>\n",
       "      <td>NaN</td>\n",
       "      <td>2013-08-05 14:31:59-04</td>\n",
       "      <td>2021-07-07 10:34:01-04</td>\n",
       "      <td>19245</td>\n",
       "      <td>NaN</td>\n",
       "    </tr>\n",
       "    <tr>\n",
       "      <th>3</th>\n",
       "      <td>0000e5a4-7d32-4c2a-97c6-a6b571c9fd71</td>\n",
       "      <td>https://api.nga.gov/iiif/0000e5a4-7d32-4c2a-97...</td>\n",
       "      <td>https://api.nga.gov/iiif/0000e5a4-7d32-4c2a-97...</td>\n",
       "      <td>primary</td>\n",
       "      <td>0.0</td>\n",
       "      <td>2252</td>\n",
       "      <td>3000</td>\n",
       "      <td>NaN</td>\n",
       "      <td>2013-03-18 14:39:55-04</td>\n",
       "      <td>2021-08-31 10:29:14-04</td>\n",
       "      <td>153987</td>\n",
       "      <td>NaN</td>\n",
       "    </tr>\n",
       "    <tr>\n",
       "      <th>4</th>\n",
       "      <td>0001668a-dd1c-48e8-9267-b6d1697d43c8</td>\n",
       "      <td>https://api.nga.gov/iiif/0001668a-dd1c-48e8-92...</td>\n",
       "      <td>https://api.nga.gov/iiif/0001668a-dd1c-48e8-92...</td>\n",
       "      <td>primary</td>\n",
       "      <td>0.0</td>\n",
       "      <td>3446</td>\n",
       "      <td>4448</td>\n",
       "      <td>NaN</td>\n",
       "      <td>2014-01-02 14:50:50-05</td>\n",
       "      <td>2021-07-07 11:09:58-04</td>\n",
       "      <td>23830</td>\n",
       "      <td>NaN</td>\n",
       "    </tr>\n",
       "  </tbody>\n",
       "</table>\n",
       "</div>"
      ],
      "text/plain": [
       "                                   uuid  \\\n",
       "0  00004dec-8300-4487-8d89-562d0126b6a1   \n",
       "1  00007f61-4922-417b-8f27-893ea328206c   \n",
       "2  0000bd8c-39de-4453-b55d-5e28a9beed38   \n",
       "3  0000e5a4-7d32-4c2a-97c6-a6b571c9fd71   \n",
       "4  0001668a-dd1c-48e8-9267-b6d1697d43c8   \n",
       "\n",
       "                                             iiifurl  \\\n",
       "0  https://api.nga.gov/iiif/00004dec-8300-4487-8d...   \n",
       "1  https://api.nga.gov/iiif/00007f61-4922-417b-8f...   \n",
       "2  https://api.nga.gov/iiif/0000bd8c-39de-4453-b5...   \n",
       "3  https://api.nga.gov/iiif/0000e5a4-7d32-4c2a-97...   \n",
       "4  https://api.nga.gov/iiif/0001668a-dd1c-48e8-92...   \n",
       "\n",
       "                                        iiifthumburl viewtype  sequence  \\\n",
       "0  https://api.nga.gov/iiif/00004dec-8300-4487-8d...  primary       0.0   \n",
       "1  https://api.nga.gov/iiif/00007f61-4922-417b-8f...  primary       0.0   \n",
       "2  https://api.nga.gov/iiif/0000bd8c-39de-4453-b5...  primary       0.0   \n",
       "3  https://api.nga.gov/iiif/0000e5a4-7d32-4c2a-97...  primary       0.0   \n",
       "4  https://api.nga.gov/iiif/0001668a-dd1c-48e8-92...  primary       0.0   \n",
       "\n",
       "   width  height  maxpixels                 created                modified  \\\n",
       "0   2623    4000      640.0  2010-09-07 15:08:48-04  2021-08-26 14:28:24-04   \n",
       "1   3365    4332        NaN  2013-07-05 15:41:08-04  2021-07-07 10:26:29-04   \n",
       "2   3500    4688        NaN  2013-08-05 14:31:59-04  2021-07-07 10:34:01-04   \n",
       "3   2252    3000        NaN  2013-03-18 14:39:55-04  2021-08-31 10:29:14-04   \n",
       "4   3446    4448        NaN  2014-01-02 14:50:50-05  2021-07-07 11:09:58-04   \n",
       "\n",
       "   depictstmsobjectid assistivetext  \n",
       "0               11975           NaN  \n",
       "1               17387           NaN  \n",
       "2               19245           NaN  \n",
       "3              153987           NaN  \n",
       "4               23830           NaN  "
      ]
     },
     "execution_count": 54,
     "metadata": {},
     "output_type": "execute_result"
    }
   ],
   "source": [
    "file_images = \"https://raw.githubusercontent.com/NationalGalleryOfArt/opendata/main/data/published_images.csv\"\n",
    "\n",
    "df_images = pd.read_csv(file_images)\n",
    "\n",
    "df_images.head()"
   ]
  },
  {
   "cell_type": "code",
   "execution_count": 55,
   "id": "ac618108",
   "metadata": {},
   "outputs": [
    {
     "data": {
      "text/html": [
       "<table border=\"1\" cellpadding=\"3\" cellspacing=\"0\"  style=\"border:black; border-collapse:collapse;\"><tr><td  style=\"background-color:hsla(225, 80%, 94%, 1);border-left: 1px solid;border-right: 1px solid;border-top: 1px solid;border-bottom: 1px solid;text-align:left;width:100px;\"><b>id</b></td><td  style=\"border-left: 1px solid;border-right: 1px solid;border-top: 1px solid;border-bottom: 1px solid;text-align:left;width:100px;\">objectid</td></tr><tr><td  style=\"background-color:hsla(225, 80%, 94%, 1);border-left: 1px solid;border-right: 1px solid;border-top: 1px solid;border-bottom: 1px solid;text-align:left;width:100px;\"><b>accession_number</b></td><td  style=\"border-left: 1px solid;border-right: 1px solid;border-top: 1px solid;border-bottom: 1px solid;text-align:left;width:100px;\">accessionnum</td></tr><tr><td  style=\"background-color:hsla(225, 80%, 94%, 1);border-left: 1px solid;border-right: 1px solid;border-top: 1px solid;border-bottom: 1px solid;text-align:left;width:100px;\"><b>accession_date</b></td><td  style=\"border-left: 1px solid;border-right: 1px solid;border-top: 1px solid;border-bottom: 1px solid;text-align:left;width:100px;\"></td></tr><tr><td  style=\"background-color:hsla(225, 80%, 94%, 1);border-left: 1px solid;border-right: 1px solid;border-top: 1px solid;border-bottom: 1px solid;text-align:left;width:100px;\"><b>classification</b></td><td  style=\"border-left: 1px solid;border-right: 1px solid;border-top: 1px solid;border-bottom: 1px solid;text-align:left;width:100px;\">classification</td></tr><tr><td  style=\"background-color:hsla(225, 80%, 94%, 1);border-left: 1px solid;border-right: 1px solid;border-top: 1px solid;border-bottom: 1px solid;text-align:left;width:100px;\"><b>title</b></td><td  style=\"border-left: 1px solid;border-right: 1px solid;border-top: 1px solid;border-bottom: 1px solid;text-align:left;width:100px;\">title</td></tr><tr><td  style=\"background-color:hsla(225, 80%, 94%, 1);border-left: 1px solid;border-right: 1px solid;border-top: 1px solid;border-bottom: 1px solid;text-align:left;width:100px;\"><b>alt_title</b></td><td  style=\"border-left: 1px solid;border-right: 1px solid;border-top: 1px solid;border-bottom: 1px solid;text-align:left;width:100px;\"></td></tr><tr><td  style=\"background-color:hsla(225, 80%, 94%, 1);border-left: 1px solid;border-right: 1px solid;border-top: 1px solid;border-bottom: 1px solid;text-align:left;width:100px;\"><b>notes</b></td><td  style=\"border-left: 1px solid;border-right: 1px solid;border-top: 1px solid;border-bottom: 1px solid;text-align:left;width:100px;\"></td></tr><tr><td  style=\"background-color:hsla(225, 80%, 94%, 1);border-left: 1px solid;border-right: 1px solid;border-top: 1px solid;border-bottom: 1px solid;text-align:left;width:100px;\"><b>date_created</b></td><td  style=\"border-left: 1px solid;border-right: 1px solid;border-top: 1px solid;border-bottom: 1px solid;text-align:left;width:100px;\">displaydate</td></tr><tr><td  style=\"background-color:hsla(225, 80%, 94%, 1);border-left: 1px solid;border-right: 1px solid;border-top: 1px solid;border-bottom: 1px solid;text-align:left;width:100px;\"><b>date_created_earliest</b></td><td  style=\"border-left: 1px solid;border-right: 1px solid;border-top: 1px solid;border-bottom: 1px solid;text-align:left;width:100px;\">beginyear</td></tr><tr><td  style=\"background-color:hsla(225, 80%, 94%, 1);border-left: 1px solid;border-right: 1px solid;border-top: 1px solid;border-bottom: 1px solid;text-align:left;width:100px;\"><b>date_created_latest</b></td><td  style=\"border-left: 1px solid;border-right: 1px solid;border-top: 1px solid;border-bottom: 1px solid;text-align:left;width:100px;\">endyear</td></tr><tr><td  style=\"background-color:hsla(225, 80%, 94%, 1);border-left: 1px solid;border-right: 1px solid;border-top: 1px solid;border-bottom: 1px solid;text-align:left;width:100px;\"><b>created_period</b></td><td  style=\"border-left: 1px solid;border-right: 1px solid;border-top: 1px solid;border-bottom: 1px solid;text-align:left;width:100px;\"></td></tr><tr><td  style=\"background-color:hsla(225, 80%, 94%, 1);border-left: 1px solid;border-right: 1px solid;border-top: 1px solid;border-bottom: 1px solid;text-align:left;width:100px;\"><b>created_dynasty</b></td><td  style=\"border-left: 1px solid;border-right: 1px solid;border-top: 1px solid;border-bottom: 1px solid;text-align:left;width:100px;\"></td></tr><tr><td  style=\"background-color:hsla(225, 80%, 94%, 1);border-left: 1px solid;border-right: 1px solid;border-top: 1px solid;border-bottom: 1px solid;text-align:left;width:100px;\"><b>created_inscriptions</b></td><td  style=\"border-left: 1px solid;border-right: 1px solid;border-top: 1px solid;border-bottom: 1px solid;text-align:left;width:100px;\"></td></tr><tr><td  style=\"background-color:hsla(225, 80%, 94%, 1);border-left: 1px solid;border-right: 1px solid;border-top: 1px solid;border-bottom: 1px solid;text-align:left;width:100px;\"><b>created_notes</b></td><td  style=\"border-left: 1px solid;border-right: 1px solid;border-top: 1px solid;border-bottom: 1px solid;text-align:left;width:100px;\"></td></tr><tr><td  style=\"background-color:hsla(225, 80%, 94%, 1);border-left: 1px solid;border-right: 1px solid;border-top: 1px solid;border-bottom: 1px solid;text-align:left;width:100px;\"><b>created_provenance</b></td><td  style=\"border-left: 1px solid;border-right: 1px solid;border-top: 1px solid;border-bottom: 1px solid;text-align:left;width:100px;\"></td></tr><tr><td  style=\"background-color:hsla(225, 80%, 94%, 1);border-left: 1px solid;border-right: 1px solid;border-top: 1px solid;border-bottom: 1px solid;text-align:left;width:100px;\"><b>creator</b></td><td  style=\"border-left: 1px solid;border-right: 1px solid;border-top: 1px solid;border-bottom: 1px solid;text-align:left;width:100px;\">attribution</td></tr><tr><td  style=\"background-color:hsla(225, 80%, 94%, 1);border-left: 1px solid;border-right: 1px solid;border-top: 1px solid;border-bottom: 1px solid;text-align:left;width:100px;\"><b>physical_medium</b></td><td  style=\"border-left: 1px solid;border-right: 1px solid;border-top: 1px solid;border-bottom: 1px solid;text-align:left;width:100px;\">medium</td></tr><tr><td  style=\"background-color:hsla(225, 80%, 94%, 1);border-left: 1px solid;border-right: 1px solid;border-top: 1px solid;border-bottom: 1px solid;text-align:left;width:100px;\"><b>physical_style</b></td><td  style=\"border-left: 1px solid;border-right: 1px solid;border-top: 1px solid;border-bottom: 1px solid;text-align:left;width:100px;\"></td></tr><tr><td  style=\"background-color:hsla(225, 80%, 94%, 1);border-left: 1px solid;border-right: 1px solid;border-top: 1px solid;border-bottom: 1px solid;text-align:left;width:100px;\"><b>physical_technique</b></td><td  style=\"border-left: 1px solid;border-right: 1px solid;border-top: 1px solid;border-bottom: 1px solid;text-align:left;width:100px;\"></td></tr><tr><td  style=\"background-color:hsla(225, 80%, 94%, 1);border-left: 1px solid;border-right: 1px solid;border-top: 1px solid;border-bottom: 1px solid;text-align:left;width:100px;\"><b>physical_description</b></td><td  style=\"border-left: 1px solid;border-right: 1px solid;border-top: 1px solid;border-bottom: 1px solid;text-align:left;width:100px;\"></td></tr><tr><td  style=\"background-color:hsla(225, 80%, 94%, 1);border-left: 1px solid;border-right: 1px solid;border-top: 1px solid;border-bottom: 1px solid;text-align:left;width:100px;\"><b>physical_dimensions</b></td><td  style=\"border-left: 1px solid;border-right: 1px solid;border-top: 1px solid;border-bottom: 1px solid;text-align:left;width:100px;\">dimensions</td></tr><tr><td  style=\"background-color:hsla(225, 80%, 94%, 1);border-left: 1px solid;border-right: 1px solid;border-top: 1px solid;border-bottom: 1px solid;text-align:left;width:100px;\"><b>credit_line</b></td><td  style=\"border-left: 1px solid;border-right: 1px solid;border-top: 1px solid;border-bottom: 1px solid;text-align:left;width:100px;\">creditline</td></tr><tr><td  style=\"background-color:hsla(225, 80%, 94%, 1);border-left: 1px solid;border-right: 1px solid;border-top: 1px solid;border-bottom: 1px solid;text-align:left;width:100px;\"><b>collection</b></td><td  style=\"border-left: 1px solid;border-right: 1px solid;border-top: 1px solid;border-bottom: 1px solid;text-align:left;width:100px;\">departmentabbr</td></tr><tr><td  style=\"background-color:hsla(225, 80%, 94%, 1);border-left: 1px solid;border-right: 1px solid;border-top: 1px solid;border-bottom: 1px solid;text-align:left;width:100px;\"><b>current_status</b></td><td  style=\"border-left: 1px solid;border-right: 1px solid;border-top: 1px solid;border-bottom: 1px solid;text-align:left;width:100px;\"></td></tr><tr><td  style=\"background-color:hsla(225, 80%, 94%, 1);border-left: 1px solid;border-right: 1px solid;border-top: 1px solid;border-bottom: 1px solid;text-align:left;width:100px;\"><b>current_owner</b></td><td  style=\"border-left: 1px solid;border-right: 1px solid;border-top: 1px solid;border-bottom: 1px solid;text-align:left;width:100px;\"></td></tr><tr><td  style=\"background-color:hsla(225, 80%, 94%, 1);border-left: 1px solid;border-right: 1px solid;border-top: 1px solid;border-bottom: 1px solid;text-align:left;width:100px;\"><b>homepage</b></td><td  style=\"border-left: 1px solid;border-right: 1px solid;border-top: 1px solid;border-bottom: 1px solid;text-align:left;width:100px;\"></td></tr></table>"
      ],
      "text/plain": [
       "<ipy_table.ipy_table.IpyTable at 0x1230f7250>"
      ]
     },
     "execution_count": 55,
     "metadata": {},
     "output_type": "execute_result"
    }
   ],
   "source": [
    "s = open(file, mode='r', encoding='utf-8-sig').read()\n",
    "open(file, mode='w', encoding='utf-8').write(s)\n",
    "\n",
    "mapp_nga =  {\n",
    "    \"id\":\"objectid\",\n",
    "    \"accession_number\":\"accessionnum\",\n",
    "    \"accession_date\": \"\",\n",
    "    \"classification\" : \"classification\",\n",
    "    \"title\": \"title\",\n",
    "    \"alt_title\": \"\",\n",
    "    \"notes\": \"\",\n",
    "    \"date_created\":\"displaydate\",\n",
    "    \"date_created_earliest\": \"beginyear\",\n",
    "    \"date_created_latest\": \"endyear\",\n",
    "    \"created_period\":\"\",\n",
    "    \"created_dynasty\":\"\",\n",
    "    \"created_inscriptions\":\"\",\n",
    "    \"created_notes\": \"\",\n",
    "    \"created_provenance\" : \"\",\n",
    "    \"creator\":\"attribution\",\n",
    "    \"physical_medium\": \"medium\",\n",
    "    \"physical_style\": \"\",\n",
    "    \"physical_technique\": \"\",\n",
    "    \"physical_description\": \"\",\n",
    "    \"physical_dimensions\": \"dimensions\",\n",
    "    \"created_provenance\": \"\" ,\n",
    "    \"credit_line\": \"creditline\",\n",
    "    \"collection\" : \"departmentabbr\",\n",
    "    \"current_status\" : \"\",\n",
    "    \"current_owner\" : \"\",\n",
    "    \"homepage\": \"\"\n",
    "}\n",
    "\n",
    "dict2table(mapp_nga)"
   ]
  },
  {
   "cell_type": "code",
   "execution_count": 57,
   "id": "fbb40f16",
   "metadata": {},
   "outputs": [
    {
     "name": "stdout",
     "output_type": "stream",
     "text": [
      "https://api.nga.gov/iiif/49a6128c-8d5a-4b00-beb3-36b29b97c0a1/full/!500,500/0/default.jpg\n",
      "https://api.nga.gov/iiif/9310c903-7099-4138-b380-d90af8b06703/full/!500,500/0/default.jpg\n",
      "https://api.nga.gov/iiif/f6ef48d3-3512-4f46-ac5b-c221b3fa320e/full/!500,500/0/default.jpg\n",
      "https://api.nga.gov/iiif/bc567179-9c1e-4493-b712-956cc4e6b00a/full/!500,500/0/default.jpg\n"
     ]
    },
    {
     "data": {
      "text/html": [
       "<table border=\"1\" cellpadding=\"3\" cellspacing=\"0\"  style=\"border:black; border-collapse:collapse;\"><tr><td  style=\"background-color:hsla(225, 80%, 94%, 1);border-left: 1px solid;border-right: 1px solid;border-top: 1px solid;border-bottom: 1px solid;text-align:left;width:100px;\"><b>id</b></td><td  style=\"border-left: 1px solid;border-right: 1px solid;border-top: 1px solid;border-bottom: 1px solid;text-align:left;width:100px;\">76140</td></tr><tr><td  style=\"background-color:hsla(225, 80%, 94%, 1);border-left: 1px solid;border-right: 1px solid;border-top: 1px solid;border-bottom: 1px solid;text-align:left;width:100px;\"><b>accession_number</b></td><td  style=\"border-left: 1px solid;border-right: 1px solid;border-top: 1px solid;border-bottom: 1px solid;text-align:left;width:100px;\">1995.52.158</td></tr><tr><td  style=\"background-color:hsla(225, 80%, 94%, 1);border-left: 1px solid;border-right: 1px solid;border-top: 1px solid;border-bottom: 1px solid;text-align:left;width:100px;\"><b>title</b></td><td  style=\"border-left: 1px solid;border-right: 1px solid;border-top: 1px solid;border-bottom: 1px solid;text-align:left;width:100px;\">Ornamental&nbsp;Study&nbsp;with&nbsp;Acanthus&nbsp;Motif&nbsp;for&nbsp;\"The&nbsp;Stones&nbsp;of&nbsp;Venice\"</td></tr><tr><td  style=\"background-color:hsla(225, 80%, 94%, 1);border-left: 1px solid;border-right: 1px solid;border-top: 1px solid;border-bottom: 1px solid;text-align:left;width:100px;\"><b>date_created</b></td><td  style=\"border-left: 1px solid;border-right: 1px solid;border-top: 1px solid;border-bottom: 1px solid;text-align:left;width:100px;\">1849</td></tr><tr><td  style=\"background-color:hsla(225, 80%, 94%, 1);border-left: 1px solid;border-right: 1px solid;border-top: 1px solid;border-bottom: 1px solid;text-align:left;width:100px;\"><b>date_created_earliest</b></td><td  style=\"border-left: 1px solid;border-right: 1px solid;border-top: 1px solid;border-bottom: 1px solid;text-align:left;width:100px;\">1849</td></tr><tr><td  style=\"background-color:hsla(225, 80%, 94%, 1);border-left: 1px solid;border-right: 1px solid;border-top: 1px solid;border-bottom: 1px solid;text-align:left;width:100px;\"><b>date_created_latest</b></td><td  style=\"border-left: 1px solid;border-right: 1px solid;border-top: 1px solid;border-bottom: 1px solid;text-align:left;width:100px;\">1849</td></tr><tr><td  style=\"background-color:hsla(225, 80%, 94%, 1);border-left: 1px solid;border-right: 1px solid;border-top: 1px solid;border-bottom: 1px solid;text-align:left;width:100px;\"><b>physical_medium</b></td><td  style=\"border-left: 1px solid;border-right: 1px solid;border-top: 1px solid;border-bottom: 1px solid;text-align:left;width:100px;\">pen&nbsp;and&nbsp;brown&nbsp;ink&nbsp;with&nbsp;watercolor&nbsp;and&nbsp;graphite&nbsp;on&nbsp;wove&nbsp;paper</td></tr><tr><td  style=\"background-color:hsla(225, 80%, 94%, 1);border-left: 1px solid;border-right: 1px solid;border-top: 1px solid;border-bottom: 1px solid;text-align:left;width:100px;\"><b>physical_dimensions</b></td><td  style=\"border-left: 1px solid;border-right: 1px solid;border-top: 1px solid;border-bottom: 1px solid;text-align:left;width:100px;\">overall:&nbsp;20.1&nbsp;x&nbsp;16.6&nbsp;cm&nbsp;(7&nbsp;15/16&nbsp;x&nbsp;6&nbsp;9/16&nbsp;in.)</td></tr><tr><td  style=\"background-color:hsla(225, 80%, 94%, 1);border-left: 1px solid;border-right: 1px solid;border-top: 1px solid;border-bottom: 1px solid;text-align:left;width:100px;\"><b>creator</b></td><td  style=\"border-left: 1px solid;border-right: 1px solid;border-top: 1px solid;border-bottom: 1px solid;text-align:left;width:100px;\">[{'id':&nbsp;'https://www.nga.gov/collection/creatorid/76140',&nbsp;'name':&nbsp;'John&nbsp;Ruskin',&nbsp;'role':&nbsp;'Artist'}]</td></tr><tr><td  style=\"background-color:hsla(225, 80%, 94%, 1);border-left: 1px solid;border-right: 1px solid;border-top: 1px solid;border-bottom: 1px solid;text-align:left;width:100px;\"><b>credit_line</b></td><td  style=\"border-left: 1px solid;border-right: 1px solid;border-top: 1px solid;border-bottom: 1px solid;text-align:left;width:100px;\">Gift&nbsp;of&nbsp;William&nbsp;B.&nbsp;O'Neal</td></tr><tr><td  style=\"background-color:hsla(225, 80%, 94%, 1);border-left: 1px solid;border-right: 1px solid;border-top: 1px solid;border-bottom: 1px solid;text-align:left;width:100px;\"><b>classification</b></td><td  style=\"border-left: 1px solid;border-right: 1px solid;border-top: 1px solid;border-bottom: 1px solid;text-align:left;width:100px;\">Drawing</td></tr><tr><td  style=\"background-color:hsla(225, 80%, 94%, 1);border-left: 1px solid;border-right: 1px solid;border-top: 1px solid;border-bottom: 1px solid;text-align:left;width:100px;\"><b>collection</b></td><td  style=\"border-left: 1px solid;border-right: 1px solid;border-top: 1px solid;border-bottom: 1px solid;text-align:left;width:100px;\">CG-E</td></tr><tr><td  style=\"background-color:hsla(225, 80%, 94%, 1);border-left: 1px solid;border-right: 1px solid;border-top: 1px solid;border-bottom: 1px solid;text-align:left;width:100px;\"><b>image_url</b></td><td  style=\"border-left: 1px solid;border-right: 1px solid;border-top: 1px solid;border-bottom: 1px solid;text-align:left;width:100px;\">https://api.nga.gov/iiif/bc567179-9c1e-4493-b712-956cc4e6b00a/full/!500,500/0/default.jpg</td></tr><tr><td  style=\"background-color:hsla(225, 80%, 94%, 1);border-left: 1px solid;border-right: 1px solid;border-top: 1px solid;border-bottom: 1px solid;text-align:left;width:100px;\"><b>homepage</b></td><td  style=\"border-left: 1px solid;border-right: 1px solid;border-top: 1px solid;border-bottom: 1px solid;text-align:left;width:100px;\">https://www.nga.gov/collection/art-object-page.76140.html</td></tr></table>"
      ],
      "text/plain": [
       "<ipy_table.ipy_table.IpyTable at 0x12b482070>"
      ]
     },
     "execution_count": 57,
     "metadata": {},
     "output_type": "execute_result"
    }
   ],
   "source": [
    "\n",
    "\n",
    "#remove BOM\n",
    "\n",
    "dfimg_list = df_images['depictstmsobjectid'].tolist()\n",
    "dfimgurl_list = df_images['iiifurl'].tolist()\n",
    "\n",
    "def createObjProp(obj,mapp):\n",
    "    objProp = {}\n",
    "    csv_keys = list(obj.keys())\n",
    "    for key in csv_keys:\n",
    "        for prop in mapp:\n",
    "            if key == mapp[prop]:\n",
    "                if prop == \"creator\":\n",
    "                    objProp[prop] = [{\"id\": baseURI +\"creatorid/\" + obj[mapp[\"id\"]] ,\"name\": obj[key],\"role\":\"Artist\"}]\n",
    "                else:\n",
    "                    objProp[prop] = obj[key]\n",
    "    for image in images:\n",
    "        if objProp[\"id\"] in image:\n",
    "            objProp[\"image_url\"] = images[image]\n",
    "    return objProp   \n",
    "\n",
    "    \n",
    "allObjects = csv.DictReader(open(file, mode='r',encoding='utf-8'))\n",
    "\n",
    "for obj in allObjects:\n",
    "    # create object property dictionary\n",
    "    objProp = createObjProp(obj,mapp_nga)\n",
    "    id = objProp[\"id\"]\n",
    "\n",
    "    if int(id) in dfimg_list:\n",
    "        df_images_match = df_images.loc[df_images['depictstmsobjectid'] == int(id)]\n",
    "        objProp[\"image_url\"] = df_images_match.iloc[0][\"iiifurl\"] + \"/full/!500,500/0/default.jpg\"\n",
    "        \n",
    "        print(objProp[\"image_url\"])\n",
    "    objProp[\"homepage\"] = \"https://www.nga.gov/collection/art-object-page.\" + id + \".html\"\n",
    "    object_uri = baseURI + id\n",
    "    \n",
    "    # create obj description\n",
    "    objLA = la.createObjDesc(objProp,la.objTypes,object_uri)\n",
    "\n",
    "    # write to file \n",
    "    text_file = open(outputdir + objProp[\"id\"] + \".json\", \"wt\")\n",
    "    n = text_file.write(factory.toString(objLA, compact=False))\n",
    "    text_file.close()\n",
    "    \n",
    "dict2table(objProp)"
   ]
  },
  {
   "cell_type": "markdown",
   "id": "d588ad01",
   "metadata": {},
   "source": [
    "### Cleveland Museum of Art \n",
    "http://www.clevelandart.org/\n",
    "- Download CSV file from GitHub https://github.com/ClevelandMuseumArt/openaccess\n",
    "- View file with OpenRefine https://openrefine.org/\n",
    "- Create a text facet for the Creator field to identify artworks by John Ruskin\n",
    "- Export this subset of records (1 record found)\n",
    "- [data file](./data/cma/input/ruskin.csv) \n"
   ]
  },
  {
   "cell_type": "code",
   "execution_count": 58,
   "id": "05a28564",
   "metadata": {},
   "outputs": [
    {
     "data": {
      "text/html": [
       "<div>\n",
       "<style scoped>\n",
       "    .dataframe tbody tr th:only-of-type {\n",
       "        vertical-align: middle;\n",
       "    }\n",
       "\n",
       "    .dataframe tbody tr th {\n",
       "        vertical-align: top;\n",
       "    }\n",
       "\n",
       "    .dataframe thead th {\n",
       "        text-align: right;\n",
       "    }\n",
       "</style>\n",
       "<table border=\"1\" class=\"dataframe\">\n",
       "  <thead>\n",
       "    <tr style=\"text-align: right;\">\n",
       "      <th></th>\n",
       "      <th>id</th>\n",
       "      <th>accession_number</th>\n",
       "      <th>share_license_status</th>\n",
       "      <th>tombstone</th>\n",
       "      <th>current_location</th>\n",
       "      <th>title</th>\n",
       "      <th>title_in_original_language</th>\n",
       "      <th>series</th>\n",
       "      <th>series_in_original_language</th>\n",
       "      <th>creation_date</th>\n",
       "      <th>...</th>\n",
       "      <th>digital_description</th>\n",
       "      <th>wall_description</th>\n",
       "      <th>external_resources</th>\n",
       "      <th>citations</th>\n",
       "      <th>catalogue_raisonne</th>\n",
       "      <th>url</th>\n",
       "      <th>image_web</th>\n",
       "      <th>image_print</th>\n",
       "      <th>image_full</th>\n",
       "      <th>updated_at</th>\n",
       "    </tr>\n",
       "  </thead>\n",
       "  <tbody>\n",
       "    <tr>\n",
       "      <th>0</th>\n",
       "      <td>154494</td>\n",
       "      <td>1989.14</td>\n",
       "      <td>CC0</td>\n",
       "      <td>Budding Sycamore, c. 1876. John Ruskin (Britis...</td>\n",
       "      <td>NaN</td>\n",
       "      <td>Budding Sycamore</td>\n",
       "      <td>NaN</td>\n",
       "      <td>NaN</td>\n",
       "      <td>NaN</td>\n",
       "      <td>c. 1876</td>\n",
       "      <td>...</td>\n",
       "      <td>The most influential art critic in Britain dur...</td>\n",
       "      <td>The most influential art critic in Britain dur...</td>\n",
       "      <td>{'wikidata': [], 'internet_archive': []}</td>\n",
       "      <td>Cook, Edward Tyas and Alexander Wedderburn. &lt;e...</td>\n",
       "      <td>NaN</td>\n",
       "      <td>https://clevelandart.org/art/1989.14</td>\n",
       "      <td>https://openaccess-cdn.clevelandart.org/1989.1...</td>\n",
       "      <td>https://openaccess-cdn.clevelandart.org/1989.1...</td>\n",
       "      <td>https://openaccess-cdn.clevelandart.org/1989.1...</td>\n",
       "      <td>2021-03-27 12:16:10.046000</td>\n",
       "    </tr>\n",
       "  </tbody>\n",
       "</table>\n",
       "<p>1 rows × 41 columns</p>\n",
       "</div>"
      ],
      "text/plain": [
       "       id  accession_number share_license_status  \\\n",
       "0  154494           1989.14                  CC0   \n",
       "\n",
       "                                           tombstone  current_location  \\\n",
       "0  Budding Sycamore, c. 1876. John Ruskin (Britis...               NaN   \n",
       "\n",
       "              title  title_in_original_language  series  \\\n",
       "0  Budding Sycamore                         NaN     NaN   \n",
       "\n",
       "   series_in_original_language creation_date  ...  \\\n",
       "0                          NaN       c. 1876  ...   \n",
       "\n",
       "                                 digital_description  \\\n",
       "0  The most influential art critic in Britain dur...   \n",
       "\n",
       "                                    wall_description  \\\n",
       "0  The most influential art critic in Britain dur...   \n",
       "\n",
       "                         external_resources  \\\n",
       "0  {'wikidata': [], 'internet_archive': []}   \n",
       "\n",
       "                                           citations catalogue_raisonne  \\\n",
       "0  Cook, Edward Tyas and Alexander Wedderburn. <e...                NaN   \n",
       "\n",
       "                                    url  \\\n",
       "0  https://clevelandart.org/art/1989.14   \n",
       "\n",
       "                                           image_web  \\\n",
       "0  https://openaccess-cdn.clevelandart.org/1989.1...   \n",
       "\n",
       "                                         image_print  \\\n",
       "0  https://openaccess-cdn.clevelandart.org/1989.1...   \n",
       "\n",
       "                                          image_full  \\\n",
       "0  https://openaccess-cdn.clevelandart.org/1989.1...   \n",
       "\n",
       "                   updated_at  \n",
       "0  2021-03-27 12:16:10.046000  \n",
       "\n",
       "[1 rows x 41 columns]"
      ]
     },
     "execution_count": 58,
     "metadata": {},
     "output_type": "execute_result"
    }
   ],
   "source": [
    "#  baseURI for JSON-LD document\n",
    "baseURI = \"https://clevelandart.org/art/\"\n",
    "file = './data/cma/input/ruskin.csv'\n",
    "mpg = pd.read_csv(file)\n",
    "mpg.head()"
   ]
  },
  {
   "cell_type": "code",
   "execution_count": 59,
   "id": "b3a96abd",
   "metadata": {},
   "outputs": [
    {
     "data": {
      "text/html": [
       "<table border=\"1\" cellpadding=\"3\" cellspacing=\"0\"  style=\"border:black; border-collapse:collapse;\"><tr><td  style=\"background-color:hsla(225, 80%, 94%, 1);border-left: 1px solid;border-right: 1px solid;border-top: 1px solid;border-bottom: 1px solid;text-align:left;width:100px;\"><b>id</b></td><td  style=\"border-left: 1px solid;border-right: 1px solid;border-top: 1px solid;border-bottom: 1px solid;text-align:left;width:100px;\">id</td></tr><tr><td  style=\"background-color:hsla(225, 80%, 94%, 1);border-left: 1px solid;border-right: 1px solid;border-top: 1px solid;border-bottom: 1px solid;text-align:left;width:100px;\"><b>accession_number</b></td><td  style=\"border-left: 1px solid;border-right: 1px solid;border-top: 1px solid;border-bottom: 1px solid;text-align:left;width:100px;\">accession_number</td></tr><tr><td  style=\"background-color:hsla(225, 80%, 94%, 1);border-left: 1px solid;border-right: 1px solid;border-top: 1px solid;border-bottom: 1px solid;text-align:left;width:100px;\"><b>accession_date</b></td><td  style=\"border-left: 1px solid;border-right: 1px solid;border-top: 1px solid;border-bottom: 1px solid;text-align:left;width:100px;\"></td></tr><tr><td  style=\"background-color:hsla(225, 80%, 94%, 1);border-left: 1px solid;border-right: 1px solid;border-top: 1px solid;border-bottom: 1px solid;text-align:left;width:100px;\"><b>classification</b></td><td  style=\"border-left: 1px solid;border-right: 1px solid;border-top: 1px solid;border-bottom: 1px solid;text-align:left;width:100px;\">type</td></tr><tr><td  style=\"background-color:hsla(225, 80%, 94%, 1);border-left: 1px solid;border-right: 1px solid;border-top: 1px solid;border-bottom: 1px solid;text-align:left;width:100px;\"><b>title</b></td><td  style=\"border-left: 1px solid;border-right: 1px solid;border-top: 1px solid;border-bottom: 1px solid;text-align:left;width:100px;\">title</td></tr><tr><td  style=\"background-color:hsla(225, 80%, 94%, 1);border-left: 1px solid;border-right: 1px solid;border-top: 1px solid;border-bottom: 1px solid;text-align:left;width:100px;\"><b>alt_title</b></td><td  style=\"border-left: 1px solid;border-right: 1px solid;border-top: 1px solid;border-bottom: 1px solid;text-align:left;width:100px;\">title_in_original_language</td></tr><tr><td  style=\"background-color:hsla(225, 80%, 94%, 1);border-left: 1px solid;border-right: 1px solid;border-top: 1px solid;border-bottom: 1px solid;text-align:left;width:100px;\"><b>notes</b></td><td  style=\"border-left: 1px solid;border-right: 1px solid;border-top: 1px solid;border-bottom: 1px solid;text-align:left;width:100px;\">tombstone</td></tr><tr><td  style=\"background-color:hsla(225, 80%, 94%, 1);border-left: 1px solid;border-right: 1px solid;border-top: 1px solid;border-bottom: 1px solid;text-align:left;width:100px;\"><b>date_created</b></td><td  style=\"border-left: 1px solid;border-right: 1px solid;border-top: 1px solid;border-bottom: 1px solid;text-align:left;width:100px;\">creation_date</td></tr><tr><td  style=\"background-color:hsla(225, 80%, 94%, 1);border-left: 1px solid;border-right: 1px solid;border-top: 1px solid;border-bottom: 1px solid;text-align:left;width:100px;\"><b>date_created_earliest</b></td><td  style=\"border-left: 1px solid;border-right: 1px solid;border-top: 1px solid;border-bottom: 1px solid;text-align:left;width:100px;\">creation_date_earliest</td></tr><tr><td  style=\"background-color:hsla(225, 80%, 94%, 1);border-left: 1px solid;border-right: 1px solid;border-top: 1px solid;border-bottom: 1px solid;text-align:left;width:100px;\"><b>date_created_latest</b></td><td  style=\"border-left: 1px solid;border-right: 1px solid;border-top: 1px solid;border-bottom: 1px solid;text-align:left;width:100px;\">creation_date_latest</td></tr><tr><td  style=\"background-color:hsla(225, 80%, 94%, 1);border-left: 1px solid;border-right: 1px solid;border-top: 1px solid;border-bottom: 1px solid;text-align:left;width:100px;\"><b>created_period</b></td><td  style=\"border-left: 1px solid;border-right: 1px solid;border-top: 1px solid;border-bottom: 1px solid;text-align:left;width:100px;\">culture</td></tr><tr><td  style=\"background-color:hsla(225, 80%, 94%, 1);border-left: 1px solid;border-right: 1px solid;border-top: 1px solid;border-bottom: 1px solid;text-align:left;width:100px;\"><b>created_dynasty</b></td><td  style=\"border-left: 1px solid;border-right: 1px solid;border-top: 1px solid;border-bottom: 1px solid;text-align:left;width:100px;\"></td></tr><tr><td  style=\"background-color:hsla(225, 80%, 94%, 1);border-left: 1px solid;border-right: 1px solid;border-top: 1px solid;border-bottom: 1px solid;text-align:left;width:100px;\"><b>created_inscriptions</b></td><td  style=\"border-left: 1px solid;border-right: 1px solid;border-top: 1px solid;border-bottom: 1px solid;text-align:left;width:100px;\">inscriptions</td></tr><tr><td  style=\"background-color:hsla(225, 80%, 94%, 1);border-left: 1px solid;border-right: 1px solid;border-top: 1px solid;border-bottom: 1px solid;text-align:left;width:100px;\"><b>created_notes</b></td><td  style=\"border-left: 1px solid;border-right: 1px solid;border-top: 1px solid;border-bottom: 1px solid;text-align:left;width:100px;\">fun_fact</td></tr><tr><td  style=\"background-color:hsla(225, 80%, 94%, 1);border-left: 1px solid;border-right: 1px solid;border-top: 1px solid;border-bottom: 1px solid;text-align:left;width:100px;\"><b>creator</b></td><td  style=\"border-left: 1px solid;border-right: 1px solid;border-top: 1px solid;border-bottom: 1px solid;text-align:left;width:100px;\">{'name':&nbsp;'John&nbsp;Ruskin'}</td></tr><tr><td  style=\"background-color:hsla(225, 80%, 94%, 1);border-left: 1px solid;border-right: 1px solid;border-top: 1px solid;border-bottom: 1px solid;text-align:left;width:100px;\"><b>physical_medium</b></td><td  style=\"border-left: 1px solid;border-right: 1px solid;border-top: 1px solid;border-bottom: 1px solid;text-align:left;width:100px;\">Medium</td></tr><tr><td  style=\"background-color:hsla(225, 80%, 94%, 1);border-left: 1px solid;border-right: 1px solid;border-top: 1px solid;border-bottom: 1px solid;text-align:left;width:100px;\"><b>physical_style</b></td><td  style=\"border-left: 1px solid;border-right: 1px solid;border-top: 1px solid;border-bottom: 1px solid;text-align:left;width:100px;\"></td></tr><tr><td  style=\"background-color:hsla(225, 80%, 94%, 1);border-left: 1px solid;border-right: 1px solid;border-top: 1px solid;border-bottom: 1px solid;text-align:left;width:100px;\"><b>physical_technique</b></td><td  style=\"border-left: 1px solid;border-right: 1px solid;border-top: 1px solid;border-bottom: 1px solid;text-align:left;width:100px;\">technique</td></tr><tr><td  style=\"background-color:hsla(225, 80%, 94%, 1);border-left: 1px solid;border-right: 1px solid;border-top: 1px solid;border-bottom: 1px solid;text-align:left;width:100px;\"><b>physical_description</b></td><td  style=\"border-left: 1px solid;border-right: 1px solid;border-top: 1px solid;border-bottom: 1px solid;text-align:left;width:100px;\"></td></tr><tr><td  style=\"background-color:hsla(225, 80%, 94%, 1);border-left: 1px solid;border-right: 1px solid;border-top: 1px solid;border-bottom: 1px solid;text-align:left;width:100px;\"><b>physical_dimensions</b></td><td  style=\"border-left: 1px solid;border-right: 1px solid;border-top: 1px solid;border-bottom: 1px solid;text-align:left;width:100px;\">measurements</td></tr><tr><td  style=\"background-color:hsla(225, 80%, 94%, 1);border-left: 1px solid;border-right: 1px solid;border-top: 1px solid;border-bottom: 1px solid;text-align:left;width:100px;\"><b>created_provenance</b></td><td  style=\"border-left: 1px solid;border-right: 1px solid;border-top: 1px solid;border-bottom: 1px solid;text-align:left;width:100px;\">provenance</td></tr><tr><td  style=\"background-color:hsla(225, 80%, 94%, 1);border-left: 1px solid;border-right: 1px solid;border-top: 1px solid;border-bottom: 1px solid;text-align:left;width:100px;\"><b>credit_line</b></td><td  style=\"border-left: 1px solid;border-right: 1px solid;border-top: 1px solid;border-bottom: 1px solid;text-align:left;width:100px;\">creditline</td></tr><tr><td  style=\"background-color:hsla(225, 80%, 94%, 1);border-left: 1px solid;border-right: 1px solid;border-top: 1px solid;border-bottom: 1px solid;text-align:left;width:100px;\"><b>collection</b></td><td  style=\"border-left: 1px solid;border-right: 1px solid;border-top: 1px solid;border-bottom: 1px solid;text-align:left;width:100px;\">department</td></tr><tr><td  style=\"background-color:hsla(225, 80%, 94%, 1);border-left: 1px solid;border-right: 1px solid;border-top: 1px solid;border-bottom: 1px solid;text-align:left;width:100px;\"><b>current_status</b></td><td  style=\"border-left: 1px solid;border-right: 1px solid;border-top: 1px solid;border-bottom: 1px solid;text-align:left;width:100px;\">current_location</td></tr><tr><td  style=\"background-color:hsla(225, 80%, 94%, 1);border-left: 1px solid;border-right: 1px solid;border-top: 1px solid;border-bottom: 1px solid;text-align:left;width:100px;\"><b>current_owner</b></td><td  style=\"border-left: 1px solid;border-right: 1px solid;border-top: 1px solid;border-bottom: 1px solid;text-align:left;width:100px;\"></td></tr><tr><td  style=\"background-color:hsla(225, 80%, 94%, 1);border-left: 1px solid;border-right: 1px solid;border-top: 1px solid;border-bottom: 1px solid;text-align:left;width:100px;\"><b>homepage</b></td><td  style=\"border-left: 1px solid;border-right: 1px solid;border-top: 1px solid;border-bottom: 1px solid;text-align:left;width:100px;\">url</td></tr></table>"
      ],
      "text/plain": [
       "<ipy_table.ipy_table.IpyTable at 0x129c13850>"
      ]
     },
     "execution_count": 59,
     "metadata": {},
     "output_type": "execute_result"
    }
   ],
   "source": [
    "\n",
    "#remove BOM\n",
    "s = open(file, mode='r', encoding='utf-8-sig').read()\n",
    "open(file, mode='w', encoding='utf-8').write(s)\n",
    "\n",
    "mapp_cma =  {\n",
    "    \"id\":\"id\",\n",
    "    \"accession_number\":\"accession_number\",\n",
    "    \"accession_date\": \"\",\n",
    "    \"classification\" : \"type\",\n",
    "    \"title\": \"title\",\n",
    "    \"alt_title\": \"title_in_original_language\",\n",
    "    \"notes\": \"tombstone\",\n",
    "    \"date_created\":\"creation_date\",\n",
    "    \"date_created_earliest\": \"creation_date_earliest\",\n",
    "    \"date_created_latest\": \"creation_date_latest\",\n",
    "    \"created_period\":\"culture\",\n",
    "    \"created_dynasty\":\"\",\n",
    "    \"created_inscriptions\":\"inscriptions\",\n",
    "    \"created_notes\": \"fun_fact\",\n",
    "    \"creator\":\"creator\",\n",
    "    \"physical_medium\": \"Medium\",\n",
    "    \"physical_style\": \"\",\n",
    "    \"physical_technique\": \"technique\",\n",
    "    \"physical_description\": \"\",\n",
    "    \"physical_dimensions\": \"measurements\",\n",
    "    \"created_provenance\": \"provenance\" ,\n",
    "    \"credit_line\": \"creditline\",\n",
    "    \"collection\" : \"department\",\n",
    "    \"current_status\" : \"current_location\",\n",
    "    \"current_owner\": \"\",\n",
    "    \"creator\": {\"name\": \"John Ruskin\"},\n",
    "    \"homepage\": \"url\"\n",
    "    \n",
    "    \n",
    "}\n",
    "\n",
    "dict2table(mapp_cma)"
   ]
  },
  {
   "cell_type": "code",
   "execution_count": 60,
   "id": "a76779e6",
   "metadata": {},
   "outputs": [],
   "source": [
    "\n",
    "\n",
    "def createObjProp(obj,mapp):\n",
    "    objProp = {}\n",
    "    csv_keys = list(obj.keys())\n",
    "    for key in csv_keys:\n",
    "        for prop in mapp:\n",
    "            if key == mapp[prop]:\n",
    "                if prop == \"creator\":\n",
    "                    objProp[prop] = [{\"id\": baseURI +\"creatorid/\" + obj[mapp[\"id\"]] ,\"name\": obj[key],\"role\":\"Artist\"}]\n",
    "                else:\n",
    "                    objProp[prop] = obj[key]\n",
    "    return objProp   \n",
    "\n",
    "allObjects = csv.DictReader(open(file, mode='r',encoding='utf-8'))\n",
    "\n",
    "for obj in allObjects:\n",
    "    # create object property dictionary\n",
    "    objProp = createObjProp(obj,mapp_cma)\n",
    "\n",
    "    id = objProp[\"id\"]\n",
    "    object_uri = baseURI + id\n",
    "    \n",
    "    objProp[\"image_url\"] = \"https://clevelandart.org/art/\" + id\n",
    "    \n",
    "    # create obj description\n",
    "    objLA = la.createObjDesc(objProp,la.objTypes,object_uri)\n",
    "    \n",
    "    # write to file \n",
    "    text_file = open(outputdir + \"/\" + objProp[\"id\"] + \".json\", \"wt\")\n",
    "    n = text_file.write(factory.toString(objLA, compact=False))\n",
    "    text_file.close()"
   ]
  },
  {
   "cell_type": "markdown",
   "id": "b5d5b83f",
   "metadata": {},
   "source": [
    "## Tate Museum\n",
    "\n",
    "The Tate Museum has three items by John Ruskin in its Collection Online database. JSON format file are available from \n",
    "\n",
    "https://github.com/tategallery/collection\n",
    "\n",
    "### N02726 \n",
    "\n",
    "https://www.tate.org.uk/art/artworks/ruskin-an-olive-spray-and-two-leaf-outlines-n02726 \n",
    "\n",
    "https://raw.githubusercontent.com/tategallery/collection/master/artworks/n/027/n02726-13031.json \n",
    "\n",
    " \n",
    "\n",
    "### N02972 \n",
    "\n",
    "https://www.tate.org.uk/art/artworks/ruskin-the-north-west-angle-of-the-facade-of-st-marks-venice-n02972 \n",
    "\n",
    "https://raw.githubusercontent.com/tategallery/collection/master/artworks/n/029/n02972-13032.json  \n",
    "\n",
    " \n",
    "### N03507 \n",
    "\n",
    "https://www.tate.org.uk/art/artworks/ruskin-view-of-bologna-n03507 \n",
    "\n",
    "https://raw.githubusercontent.com/tategallery/collection/master/artworks/n/035/n03507-13033.json  "
   ]
  },
  {
   "cell_type": "code",
   "execution_count": 61,
   "id": "731e1dc7",
   "metadata": {},
   "outputs": [
    {
     "data": {
      "text/html": [
       "<table border=\"1\" cellpadding=\"3\" cellspacing=\"0\"  style=\"border:black; border-collapse:collapse;\"><tr><td  style=\"background-color:hsla(225, 80%, 94%, 1);border-left: 1px solid;border-right: 1px solid;border-top: 1px solid;border-bottom: 1px solid;text-align:left;width:100px;\"><b>id</b></td><td  style=\"border-left: 1px solid;border-right: 1px solid;border-top: 1px solid;border-bottom: 1px solid;text-align:left;width:100px;\">id</td></tr><tr><td  style=\"background-color:hsla(225, 80%, 94%, 1);border-left: 1px solid;border-right: 1px solid;border-top: 1px solid;border-bottom: 1px solid;text-align:left;width:100px;\"><b>accession_number</b></td><td  style=\"border-left: 1px solid;border-right: 1px solid;border-top: 1px solid;border-bottom: 1px solid;text-align:left;width:100px;\">acno</td></tr><tr><td  style=\"background-color:hsla(225, 80%, 94%, 1);border-left: 1px solid;border-right: 1px solid;border-top: 1px solid;border-bottom: 1px solid;text-align:left;width:100px;\"><b>accession_date</b></td><td  style=\"border-left: 1px solid;border-right: 1px solid;border-top: 1px solid;border-bottom: 1px solid;text-align:left;width:100px;\">acquisitionYear</td></tr><tr><td  style=\"background-color:hsla(225, 80%, 94%, 1);border-left: 1px solid;border-right: 1px solid;border-top: 1px solid;border-bottom: 1px solid;text-align:left;width:100px;\"><b>classification</b></td><td  style=\"border-left: 1px solid;border-right: 1px solid;border-top: 1px solid;border-bottom: 1px solid;text-align:left;width:100px;\">classification</td></tr><tr><td  style=\"background-color:hsla(225, 80%, 94%, 1);border-left: 1px solid;border-right: 1px solid;border-top: 1px solid;border-bottom: 1px solid;text-align:left;width:100px;\"><b>title</b></td><td  style=\"border-left: 1px solid;border-right: 1px solid;border-top: 1px solid;border-bottom: 1px solid;text-align:left;width:100px;\">title</td></tr><tr><td  style=\"background-color:hsla(225, 80%, 94%, 1);border-left: 1px solid;border-right: 1px solid;border-top: 1px solid;border-bottom: 1px solid;text-align:left;width:100px;\"><b>alt_title</b></td><td  style=\"border-left: 1px solid;border-right: 1px solid;border-top: 1px solid;border-bottom: 1px solid;text-align:left;width:100px;\"></td></tr><tr><td  style=\"background-color:hsla(225, 80%, 94%, 1);border-left: 1px solid;border-right: 1px solid;border-top: 1px solid;border-bottom: 1px solid;text-align:left;width:100px;\"><b>notes</b></td><td  style=\"border-left: 1px solid;border-right: 1px solid;border-top: 1px solid;border-bottom: 1px solid;text-align:left;width:100px;\"></td></tr><tr><td  style=\"background-color:hsla(225, 80%, 94%, 1);border-left: 1px solid;border-right: 1px solid;border-top: 1px solid;border-bottom: 1px solid;text-align:left;width:100px;\"><b>date_created</b></td><td  style=\"border-left: 1px solid;border-right: 1px solid;border-top: 1px solid;border-bottom: 1px solid;text-align:left;width:100px;\">dateText</td></tr><tr><td  style=\"background-color:hsla(225, 80%, 94%, 1);border-left: 1px solid;border-right: 1px solid;border-top: 1px solid;border-bottom: 1px solid;text-align:left;width:100px;\"><b>date_created_earliest</b></td><td  style=\"border-left: 1px solid;border-right: 1px solid;border-top: 1px solid;border-bottom: 1px solid;text-align:left;width:100px;\">Dated</td></tr><tr><td  style=\"background-color:hsla(225, 80%, 94%, 1);border-left: 1px solid;border-right: 1px solid;border-top: 1px solid;border-bottom: 1px solid;text-align:left;width:100px;\"><b>date_created_latest</b></td><td  style=\"border-left: 1px solid;border-right: 1px solid;border-top: 1px solid;border-bottom: 1px solid;text-align:left;width:100px;\">Dated</td></tr><tr><td  style=\"background-color:hsla(225, 80%, 94%, 1);border-left: 1px solid;border-right: 1px solid;border-top: 1px solid;border-bottom: 1px solid;text-align:left;width:100px;\"><b>created_period</b></td><td  style=\"border-left: 1px solid;border-right: 1px solid;border-top: 1px solid;border-bottom: 1px solid;text-align:left;width:100px;\"></td></tr><tr><td  style=\"background-color:hsla(225, 80%, 94%, 1);border-left: 1px solid;border-right: 1px solid;border-top: 1px solid;border-bottom: 1px solid;text-align:left;width:100px;\"><b>created_dynasty</b></td><td  style=\"border-left: 1px solid;border-right: 1px solid;border-top: 1px solid;border-bottom: 1px solid;text-align:left;width:100px;\"></td></tr><tr><td  style=\"background-color:hsla(225, 80%, 94%, 1);border-left: 1px solid;border-right: 1px solid;border-top: 1px solid;border-bottom: 1px solid;text-align:left;width:100px;\"><b>created_inscriptions</b></td><td  style=\"border-left: 1px solid;border-right: 1px solid;border-top: 1px solid;border-bottom: 1px solid;text-align:left;width:100px;\"></td></tr><tr><td  style=\"background-color:hsla(225, 80%, 94%, 1);border-left: 1px solid;border-right: 1px solid;border-top: 1px solid;border-bottom: 1px solid;text-align:left;width:100px;\"><b>created_notes</b></td><td  style=\"border-left: 1px solid;border-right: 1px solid;border-top: 1px solid;border-bottom: 1px solid;text-align:left;width:100px;\"></td></tr><tr><td  style=\"background-color:hsla(225, 80%, 94%, 1);border-left: 1px solid;border-right: 1px solid;border-top: 1px solid;border-bottom: 1px solid;text-align:left;width:100px;\"><b>creator</b></td><td  style=\"border-left: 1px solid;border-right: 1px solid;border-top: 1px solid;border-bottom: 1px solid;text-align:left;width:100px;\">contributors</td></tr><tr><td  style=\"background-color:hsla(225, 80%, 94%, 1);border-left: 1px solid;border-right: 1px solid;border-top: 1px solid;border-bottom: 1px solid;text-align:left;width:100px;\"><b>physical_medium</b></td><td  style=\"border-left: 1px solid;border-right: 1px solid;border-top: 1px solid;border-bottom: 1px solid;text-align:left;width:100px;\">medium</td></tr><tr><td  style=\"background-color:hsla(225, 80%, 94%, 1);border-left: 1px solid;border-right: 1px solid;border-top: 1px solid;border-bottom: 1px solid;text-align:left;width:100px;\"><b>physical_style</b></td><td  style=\"border-left: 1px solid;border-right: 1px solid;border-top: 1px solid;border-bottom: 1px solid;text-align:left;width:100px;\"></td></tr><tr><td  style=\"background-color:hsla(225, 80%, 94%, 1);border-left: 1px solid;border-right: 1px solid;border-top: 1px solid;border-bottom: 1px solid;text-align:left;width:100px;\"><b>physical_technique</b></td><td  style=\"border-left: 1px solid;border-right: 1px solid;border-top: 1px solid;border-bottom: 1px solid;text-align:left;width:100px;\"></td></tr><tr><td  style=\"background-color:hsla(225, 80%, 94%, 1);border-left: 1px solid;border-right: 1px solid;border-top: 1px solid;border-bottom: 1px solid;text-align:left;width:100px;\"><b>physical_description</b></td><td  style=\"border-left: 1px solid;border-right: 1px solid;border-top: 1px solid;border-bottom: 1px solid;text-align:left;width:100px;\"></td></tr><tr><td  style=\"background-color:hsla(225, 80%, 94%, 1);border-left: 1px solid;border-right: 1px solid;border-top: 1px solid;border-bottom: 1px solid;text-align:left;width:100px;\"><b>physical_dimensions</b></td><td  style=\"border-left: 1px solid;border-right: 1px solid;border-top: 1px solid;border-bottom: 1px solid;text-align:left;width:100px;\">dimensions</td></tr><tr><td  style=\"background-color:hsla(225, 80%, 94%, 1);border-left: 1px solid;border-right: 1px solid;border-top: 1px solid;border-bottom: 1px solid;text-align:left;width:100px;\"><b>created_provenance</b></td><td  style=\"border-left: 1px solid;border-right: 1px solid;border-top: 1px solid;border-bottom: 1px solid;text-align:left;width:100px;\"></td></tr><tr><td  style=\"background-color:hsla(225, 80%, 94%, 1);border-left: 1px solid;border-right: 1px solid;border-top: 1px solid;border-bottom: 1px solid;text-align:left;width:100px;\"><b>credit_line</b></td><td  style=\"border-left: 1px solid;border-right: 1px solid;border-top: 1px solid;border-bottom: 1px solid;text-align:left;width:100px;\">creditLine</td></tr><tr><td  style=\"background-color:hsla(225, 80%, 94%, 1);border-left: 1px solid;border-right: 1px solid;border-top: 1px solid;border-bottom: 1px solid;text-align:left;width:100px;\"><b>collection</b></td><td  style=\"border-left: 1px solid;border-right: 1px solid;border-top: 1px solid;border-bottom: 1px solid;text-align:left;width:100px;\">Department</td></tr><tr><td  style=\"background-color:hsla(225, 80%, 94%, 1);border-left: 1px solid;border-right: 1px solid;border-top: 1px solid;border-bottom: 1px solid;text-align:left;width:100px;\"><b>current_status</b></td><td  style=\"border-left: 1px solid;border-right: 1px solid;border-top: 1px solid;border-bottom: 1px solid;text-align:left;width:100px;\"></td></tr><tr><td  style=\"background-color:hsla(225, 80%, 94%, 1);border-left: 1px solid;border-right: 1px solid;border-top: 1px solid;border-bottom: 1px solid;text-align:left;width:100px;\"><b>current_owner</b></td><td  style=\"border-left: 1px solid;border-right: 1px solid;border-top: 1px solid;border-bottom: 1px solid;text-align:left;width:100px;\">Tate&nbsp;Museum</td></tr><tr><td  style=\"background-color:hsla(225, 80%, 94%, 1);border-left: 1px solid;border-right: 1px solid;border-top: 1px solid;border-bottom: 1px solid;text-align:left;width:100px;\"><b>image_url</b></td><td  style=\"border-left: 1px solid;border-right: 1px solid;border-top: 1px solid;border-bottom: 1px solid;text-align:left;width:100px;\">thumbnailUrl</td></tr><tr><td  style=\"background-color:hsla(225, 80%, 94%, 1);border-left: 1px solid;border-right: 1px solid;border-top: 1px solid;border-bottom: 1px solid;text-align:left;width:100px;\"><b>homepage</b></td><td  style=\"border-left: 1px solid;border-right: 1px solid;border-top: 1px solid;border-bottom: 1px solid;text-align:left;width:100px;\">url</td></tr></table>"
      ],
      "text/plain": [
       "<ipy_table.ipy_table.IpyTable at 0x12308d4c0>"
      ]
     },
     "execution_count": 61,
     "metadata": {},
     "output_type": "execute_result"
    }
   ],
   "source": [
    "fileprefix = \"./data/tate/\"\n",
    "\n",
    "files = (\"n02726-13031.json\", \n",
    "         \"n02972-13032.json\", \n",
    "         \"n03507-13033.json\")\n",
    "\n",
    "baseURI = \"https://www.tate.org.uk/art/artworks/\"\n",
    "\n",
    "mapp_tate =  {\n",
    "    \"id\":\"id\",\n",
    "    \"accession_number\":\"acno\",\n",
    "    \"accession_date\": \"acquisitionYear\",\n",
    "    \"classification\" : \"classification\",\n",
    "    \"title\": \"title\",\n",
    "    \"alt_title\": \"\",\n",
    "    \"notes\": \"\",\n",
    "    \"date_created\":\"dateText\",\n",
    "    \"date_created_earliest\": \"Dated\",\n",
    "    \"date_created_latest\": \"Dated\",\n",
    "    \"created_period\":\"\",\n",
    "    \"created_dynasty\":\"\",\n",
    "    \"created_inscriptions\":\"\",\n",
    "    \"created_notes\": \"\",\n",
    "    \"creator\":\"contributors\",\n",
    "    \"physical_medium\": \"medium\",\n",
    "    \"physical_style\": \"\",\n",
    "    \"physical_technique\": \"\",\n",
    "    \"physical_description\": \"\",\n",
    "    \"physical_dimensions\": \"dimensions\",\n",
    "    \"created_provenance\": \"\" ,\n",
    "    \"credit_line\": \"creditLine\",\n",
    "    \"collection\" : \"Department\",\n",
    "    \"current_status\" : \"\",\n",
    "    \"current_owner\": \"Tate Museum\",\n",
    "    \"image_url\":\"thumbnailUrl\",\n",
    "    \"homepage\" : \"url\"\n",
    "}\n",
    "\n",
    "dict2table(mapp_tate)"
   ]
  },
  {
   "cell_type": "code",
   "execution_count": 63,
   "id": "917a6fb6",
   "metadata": {},
   "outputs": [
    {
     "data": {
      "text/html": [
       "<table border=\"1\" cellpadding=\"3\" cellspacing=\"0\"  style=\"border:black; border-collapse:collapse;\"><tr><td  style=\"background-color:hsla(225, 80%, 94%, 1);border-left: 1px solid;border-right: 1px solid;border-top: 1px solid;border-bottom: 1px solid;text-align:left;width:100px;\"><b>id</b></td><td  style=\"border-left: 1px solid;border-right: 1px solid;border-top: 1px solid;border-bottom: 1px solid;text-align:left;width:100px;\">13033</td></tr><tr><td  style=\"background-color:hsla(225, 80%, 94%, 1);border-left: 1px solid;border-right: 1px solid;border-top: 1px solid;border-bottom: 1px solid;text-align:left;width:100px;\"><b>accession_number</b></td><td  style=\"border-left: 1px solid;border-right: 1px solid;border-top: 1px solid;border-bottom: 1px solid;text-align:left;width:100px;\">N03507</td></tr><tr><td  style=\"background-color:hsla(225, 80%, 94%, 1);border-left: 1px solid;border-right: 1px solid;border-top: 1px solid;border-bottom: 1px solid;text-align:left;width:100px;\"><b>accession_date</b></td><td  style=\"border-left: 1px solid;border-right: 1px solid;border-top: 1px solid;border-bottom: 1px solid;text-align:left;width:100px;\">1920</td></tr><tr><td  style=\"background-color:hsla(225, 80%, 94%, 1);border-left: 1px solid;border-right: 1px solid;border-top: 1px solid;border-bottom: 1px solid;text-align:left;width:100px;\"><b>classification</b></td><td  style=\"border-left: 1px solid;border-right: 1px solid;border-top: 1px solid;border-bottom: 1px solid;text-align:left;width:100px;\">on&nbsp;paper,&nbsp;unique</td></tr><tr><td  style=\"background-color:hsla(225, 80%, 94%, 1);border-left: 1px solid;border-right: 1px solid;border-top: 1px solid;border-bottom: 1px solid;text-align:left;width:100px;\"><b>title</b></td><td  style=\"border-left: 1px solid;border-right: 1px solid;border-top: 1px solid;border-bottom: 1px solid;text-align:left;width:100px;\">View&nbsp;of&nbsp;Bologna</td></tr><tr><td  style=\"background-color:hsla(225, 80%, 94%, 1);border-left: 1px solid;border-right: 1px solid;border-top: 1px solid;border-bottom: 1px solid;text-align:left;width:100px;\"><b>alt_title</b></td><td  style=\"border-left: 1px solid;border-right: 1px solid;border-top: 1px solid;border-bottom: 1px solid;text-align:left;width:100px;\"></td></tr><tr><td  style=\"background-color:hsla(225, 80%, 94%, 1);border-left: 1px solid;border-right: 1px solid;border-top: 1px solid;border-bottom: 1px solid;text-align:left;width:100px;\"><b>notes</b></td><td  style=\"border-left: 1px solid;border-right: 1px solid;border-top: 1px solid;border-bottom: 1px solid;text-align:left;width:100px;\"></td></tr><tr><td  style=\"background-color:hsla(225, 80%, 94%, 1);border-left: 1px solid;border-right: 1px solid;border-top: 1px solid;border-bottom: 1px solid;text-align:left;width:100px;\"><b>date_created</b></td><td  style=\"border-left: 1px solid;border-right: 1px solid;border-top: 1px solid;border-bottom: 1px solid;text-align:left;width:100px;\">c.1845–6</td></tr><tr><td  style=\"background-color:hsla(225, 80%, 94%, 1);border-left: 1px solid;border-right: 1px solid;border-top: 1px solid;border-bottom: 1px solid;text-align:left;width:100px;\"><b>date_created_earliest</b></td><td  style=\"border-left: 1px solid;border-right: 1px solid;border-top: 1px solid;border-bottom: 1px solid;text-align:left;width:100px;\"></td></tr><tr><td  style=\"background-color:hsla(225, 80%, 94%, 1);border-left: 1px solid;border-right: 1px solid;border-top: 1px solid;border-bottom: 1px solid;text-align:left;width:100px;\"><b>date_created_latest</b></td><td  style=\"border-left: 1px solid;border-right: 1px solid;border-top: 1px solid;border-bottom: 1px solid;text-align:left;width:100px;\"></td></tr><tr><td  style=\"background-color:hsla(225, 80%, 94%, 1);border-left: 1px solid;border-right: 1px solid;border-top: 1px solid;border-bottom: 1px solid;text-align:left;width:100px;\"><b>created_period</b></td><td  style=\"border-left: 1px solid;border-right: 1px solid;border-top: 1px solid;border-bottom: 1px solid;text-align:left;width:100px;\"></td></tr><tr><td  style=\"background-color:hsla(225, 80%, 94%, 1);border-left: 1px solid;border-right: 1px solid;border-top: 1px solid;border-bottom: 1px solid;text-align:left;width:100px;\"><b>created_dynasty</b></td><td  style=\"border-left: 1px solid;border-right: 1px solid;border-top: 1px solid;border-bottom: 1px solid;text-align:left;width:100px;\"></td></tr><tr><td  style=\"background-color:hsla(225, 80%, 94%, 1);border-left: 1px solid;border-right: 1px solid;border-top: 1px solid;border-bottom: 1px solid;text-align:left;width:100px;\"><b>created_inscriptions</b></td><td  style=\"border-left: 1px solid;border-right: 1px solid;border-top: 1px solid;border-bottom: 1px solid;text-align:left;width:100px;\"></td></tr><tr><td  style=\"background-color:hsla(225, 80%, 94%, 1);border-left: 1px solid;border-right: 1px solid;border-top: 1px solid;border-bottom: 1px solid;text-align:left;width:100px;\"><b>created_notes</b></td><td  style=\"border-left: 1px solid;border-right: 1px solid;border-top: 1px solid;border-bottom: 1px solid;text-align:left;width:100px;\"></td></tr><tr><td  style=\"background-color:hsla(225, 80%, 94%, 1);border-left: 1px solid;border-right: 1px solid;border-top: 1px solid;border-bottom: 1px solid;text-align:left;width:100px;\"><b>creator</b></td><td  style=\"border-left: 1px solid;border-right: 1px solid;border-top: 1px solid;border-bottom: 1px solid;text-align:left;width:100px;\">[{'id':&nbsp;'465',&nbsp;'name':&nbsp;'John&nbsp;Ruskin'}]</td></tr><tr><td  style=\"background-color:hsla(225, 80%, 94%, 1);border-left: 1px solid;border-right: 1px solid;border-top: 1px solid;border-bottom: 1px solid;text-align:left;width:100px;\"><b>physical_medium</b></td><td  style=\"border-left: 1px solid;border-right: 1px solid;border-top: 1px solid;border-bottom: 1px solid;text-align:left;width:100px;\">Ink&nbsp;and&nbsp;watercolour&nbsp;on&nbsp;paper</td></tr><tr><td  style=\"background-color:hsla(225, 80%, 94%, 1);border-left: 1px solid;border-right: 1px solid;border-top: 1px solid;border-bottom: 1px solid;text-align:left;width:100px;\"><b>physical_style</b></td><td  style=\"border-left: 1px solid;border-right: 1px solid;border-top: 1px solid;border-bottom: 1px solid;text-align:left;width:100px;\"></td></tr><tr><td  style=\"background-color:hsla(225, 80%, 94%, 1);border-left: 1px solid;border-right: 1px solid;border-top: 1px solid;border-bottom: 1px solid;text-align:left;width:100px;\"><b>physical_technique</b></td><td  style=\"border-left: 1px solid;border-right: 1px solid;border-top: 1px solid;border-bottom: 1px solid;text-align:left;width:100px;\"></td></tr><tr><td  style=\"background-color:hsla(225, 80%, 94%, 1);border-left: 1px solid;border-right: 1px solid;border-top: 1px solid;border-bottom: 1px solid;text-align:left;width:100px;\"><b>physical_description</b></td><td  style=\"border-left: 1px solid;border-right: 1px solid;border-top: 1px solid;border-bottom: 1px solid;text-align:left;width:100px;\"></td></tr><tr><td  style=\"background-color:hsla(225, 80%, 94%, 1);border-left: 1px solid;border-right: 1px solid;border-top: 1px solid;border-bottom: 1px solid;text-align:left;width:100px;\"><b>physical_dimensions</b></td><td  style=\"border-left: 1px solid;border-right: 1px solid;border-top: 1px solid;border-bottom: 1px solid;text-align:left;width:100px;\">support:&nbsp;343&nbsp;x&nbsp;489&nbsp;mm</td></tr><tr><td  style=\"background-color:hsla(225, 80%, 94%, 1);border-left: 1px solid;border-right: 1px solid;border-top: 1px solid;border-bottom: 1px solid;text-align:left;width:100px;\"><b>created_provenance</b></td><td  style=\"border-left: 1px solid;border-right: 1px solid;border-top: 1px solid;border-bottom: 1px solid;text-align:left;width:100px;\"></td></tr><tr><td  style=\"background-color:hsla(225, 80%, 94%, 1);border-left: 1px solid;border-right: 1px solid;border-top: 1px solid;border-bottom: 1px solid;text-align:left;width:100px;\"><b>credit_line</b></td><td  style=\"border-left: 1px solid;border-right: 1px solid;border-top: 1px solid;border-bottom: 1px solid;text-align:left;width:100px;\">Purchased&nbsp;1920</td></tr><tr><td  style=\"background-color:hsla(225, 80%, 94%, 1);border-left: 1px solid;border-right: 1px solid;border-top: 1px solid;border-bottom: 1px solid;text-align:left;width:100px;\"><b>collection</b></td><td  style=\"border-left: 1px solid;border-right: 1px solid;border-top: 1px solid;border-bottom: 1px solid;text-align:left;width:100px;\"></td></tr><tr><td  style=\"background-color:hsla(225, 80%, 94%, 1);border-left: 1px solid;border-right: 1px solid;border-top: 1px solid;border-bottom: 1px solid;text-align:left;width:100px;\"><b>current_status</b></td><td  style=\"border-left: 1px solid;border-right: 1px solid;border-top: 1px solid;border-bottom: 1px solid;text-align:left;width:100px;\"></td></tr><tr><td  style=\"background-color:hsla(225, 80%, 94%, 1);border-left: 1px solid;border-right: 1px solid;border-top: 1px solid;border-bottom: 1px solid;text-align:left;width:100px;\"><b>current_owner</b></td><td  style=\"border-left: 1px solid;border-right: 1px solid;border-top: 1px solid;border-bottom: 1px solid;text-align:left;width:100px;\">{'name':&nbsp;'Tate&nbsp;Museum',&nbsp;'location':&nbsp;'London,England',&nbsp;'type':&nbsp;'http://vocab.getty.edu/aat/300312281',&nbsp;'type_label':&nbsp;''}</td></tr><tr><td  style=\"background-color:hsla(225, 80%, 94%, 1);border-left: 1px solid;border-right: 1px solid;border-top: 1px solid;border-bottom: 1px solid;text-align:left;width:100px;\"><b>image_url</b></td><td  style=\"border-left: 1px solid;border-right: 1px solid;border-top: 1px solid;border-bottom: 1px solid;text-align:left;width:100px;\">thumbnailUrl</td></tr><tr><td  style=\"background-color:hsla(225, 80%, 94%, 1);border-left: 1px solid;border-right: 1px solid;border-top: 1px solid;border-bottom: 1px solid;text-align:left;width:100px;\"><b>homepage</b></td><td  style=\"border-left: 1px solid;border-right: 1px solid;border-top: 1px solid;border-bottom: 1px solid;text-align:left;width:100px;\">url</td></tr></table>"
      ],
      "text/plain": [
       "<ipy_table.ipy_table.IpyTable at 0x12308dc40>"
      ]
     },
     "execution_count": 63,
     "metadata": {},
     "output_type": "execute_result"
    }
   ],
   "source": [
    "\n",
    "\n",
    "\n",
    "def createObjProp(obj,mapp):\n",
    "    objProp = {}\n",
    "    csv_keys = list(obj.keys())\n",
    "    for key in csv_keys:\n",
    "        for prop in mapp:\n",
    "            if key == mapp[prop]:\n",
    "                if prop == \"creator\":\n",
    "                    objProp[prop] = [{\"name\": obj[key]}]\n",
    "                else:\n",
    "                    objProp[prop] = obj[key]\n",
    "    return objProp   \n",
    "\n",
    "for file in files:\n",
    "    objProp = {}\n",
    "    with open(fileprefix + file) as json_file:\n",
    "        data = json.load(json_file)\n",
    "        objProp =  {\n",
    "            \"id\": data[\"id\"],\n",
    "            \"accession_number\":data[\"acno\"],\n",
    "            \"accession_date\": data[\"acquisitionYear\"],\n",
    "            \"classification\" : data[\"classification\"],\n",
    "            \"title\": data[\"title\"],\n",
    "            \"alt_title\": \"\",\n",
    "            \"notes\": \"\",\n",
    "            \"date_created\":data[\"dateText\"],\n",
    "            \"date_created_earliest\": \"\",\n",
    "            \"date_created_latest\": \"\",\n",
    "            \"created_period\":\"\",\n",
    "            \"created_dynasty\":\"\",\n",
    "            \"created_inscriptions\":\"\",\n",
    "            \"created_notes\": \"\",\n",
    "            \"creator\":[],\n",
    "            \"physical_medium\": data[\"medium\"],\n",
    "            \"physical_style\": \"\",\n",
    "            \"physical_technique\": \"\",\n",
    "            \"physical_description\": \"\",\n",
    "            \"physical_dimensions\": data[\"dimensions\"],\n",
    "            \"created_provenance\": \"\" ,\n",
    "            \"credit_line\": data[\"creditLine\"],\n",
    "            \"collection\" : \"\",\n",
    "            \"current_status\" : \"\",\n",
    "            \"current_owner\": \"Tate Museum\",\n",
    "            \"image_url\" : \"thumbnailUrl\",\n",
    "            \"homepage\" : \"url\"\n",
    "            }\n",
    "        \n",
    "        creator = data[\"contributors\"]\n",
    "        for contributor in creator:\n",
    "            id = str(contributor[\"id\"])\n",
    "            name = str(contributor[\"fc\"])\n",
    "            objProp[\"creator\"].append({\"id\":id,\"name\":name})\n",
    "            \n",
    "        objProp[\"current_owner\"] = {\"name\":\"Tate Museum\",\n",
    "                                \"location\":\"London,England\",\n",
    "                                \"type\": \"http://vocab.getty.edu/aat/300312281\" ,\n",
    "                                \"type_label\": \"\"}\n",
    "        id = str(objProp[\"id\"])\n",
    "        object_uri = baseURI + str(id)\n",
    "    \n",
    "        # create obj description\n",
    "        objLA = la.createObjDesc(objProp,la.objTypes,object_uri)\n",
    "     \n",
    "        # write to file \n",
    "        text_file = open(outputdir + \"/\" + id + \".json\", \"wt\")\n",
    "        n = text_file.write(factory.toString(objLA, compact=False))\n",
    "        text_file.close()\n",
    "dict2table(objProp)        "
   ]
  },
  {
   "cell_type": "markdown",
   "id": "ddadd2f0",
   "metadata": {},
   "source": [
    "## Harvard Art Museum\n",
    "\n",
    "https://harvardartmuseums.org/collections/person/28419?person=28419\n"
   ]
  },
  {
   "cell_type": "code",
   "execution_count": 64,
   "id": "d546f981",
   "metadata": {},
   "outputs": [],
   "source": [
    "apidocs = \"https://github.com/harvardartmuseums/api-docs\"\n",
    "\n",
    "keyfile = \"data/ruskin/input/key.txt\"\n",
    "key = open(keyfile, mode='r', encoding='utf-8-sig').read()\n",
    "uri = \"https://api.harvardartmuseums.org/object?person=28419&apikey=\" + key\n",
    "\n",
    "for page in range(1, 11):\n",
    "    response = requests.get(uri + \"&page=\" + str(page))\n",
    "    json_data = response.json()\n",
    "    text_file = open( \"./data/harvard/input/\" + str(page) + \".json\", \"wt\")\n",
    "    n = text_file.write(json.dumps(json_data, indent=2))\n",
    "    text_file.close()\n"
   ]
  },
  {
   "cell_type": "markdown",
   "id": "034947fb",
   "metadata": {},
   "source": [
    "### mapping"
   ]
  },
  {
   "cell_type": "code",
   "execution_count": 65,
   "id": "c1953625",
   "metadata": {},
   "outputs": [
    {
     "data": {
      "text/html": [
       "<table border=\"1\" cellpadding=\"3\" cellspacing=\"0\"  style=\"border:black; border-collapse:collapse;\"><tr><td  style=\"background-color:hsla(225, 80%, 94%, 1);border-left: 1px solid;border-right: 1px solid;border-top: 1px solid;border-bottom: 1px solid;text-align:left;width:100px;\"><b>id</b></td><td  style=\"border-left: 1px solid;border-right: 1px solid;border-top: 1px solid;border-bottom: 1px solid;text-align:left;width:100px;\">id</td></tr><tr><td  style=\"background-color:hsla(225, 80%, 94%, 1);border-left: 1px solid;border-right: 1px solid;border-top: 1px solid;border-bottom: 1px solid;text-align:left;width:100px;\"><b>accession_number</b></td><td  style=\"border-left: 1px solid;border-right: 1px solid;border-top: 1px solid;border-bottom: 1px solid;text-align:left;width:100px;\">objectnumber</td></tr><tr><td  style=\"background-color:hsla(225, 80%, 94%, 1);border-left: 1px solid;border-right: 1px solid;border-top: 1px solid;border-bottom: 1px solid;text-align:left;width:100px;\"><b>accession_date</b></td><td  style=\"border-left: 1px solid;border-right: 1px solid;border-top: 1px solid;border-bottom: 1px solid;text-align:left;width:100px;\">accessionyear</td></tr><tr><td  style=\"background-color:hsla(225, 80%, 94%, 1);border-left: 1px solid;border-right: 1px solid;border-top: 1px solid;border-bottom: 1px solid;text-align:left;width:100px;\"><b>classification</b></td><td  style=\"border-left: 1px solid;border-right: 1px solid;border-top: 1px solid;border-bottom: 1px solid;text-align:left;width:100px;\">classification</td></tr><tr><td  style=\"background-color:hsla(225, 80%, 94%, 1);border-left: 1px solid;border-right: 1px solid;border-top: 1px solid;border-bottom: 1px solid;text-align:left;width:100px;\"><b>title</b></td><td  style=\"border-left: 1px solid;border-right: 1px solid;border-top: 1px solid;border-bottom: 1px solid;text-align:left;width:100px;\">title</td></tr><tr><td  style=\"background-color:hsla(225, 80%, 94%, 1);border-left: 1px solid;border-right: 1px solid;border-top: 1px solid;border-bottom: 1px solid;text-align:left;width:100px;\"><b>alt_title</b></td><td  style=\"border-left: 1px solid;border-right: 1px solid;border-top: 1px solid;border-bottom: 1px solid;text-align:left;width:100px;\"></td></tr><tr><td  style=\"background-color:hsla(225, 80%, 94%, 1);border-left: 1px solid;border-right: 1px solid;border-top: 1px solid;border-bottom: 1px solid;text-align:left;width:100px;\"><b>notes</b></td><td  style=\"border-left: 1px solid;border-right: 1px solid;border-top: 1px solid;border-bottom: 1px solid;text-align:left;width:100px;\">commentary</td></tr><tr><td  style=\"background-color:hsla(225, 80%, 94%, 1);border-left: 1px solid;border-right: 1px solid;border-top: 1px solid;border-bottom: 1px solid;text-align:left;width:100px;\"><b>date_created</b></td><td  style=\"border-left: 1px solid;border-right: 1px solid;border-top: 1px solid;border-bottom: 1px solid;text-align:left;width:100px;\">dated</td></tr><tr><td  style=\"background-color:hsla(225, 80%, 94%, 1);border-left: 1px solid;border-right: 1px solid;border-top: 1px solid;border-bottom: 1px solid;text-align:left;width:100px;\"><b>date_created_earliest</b></td><td  style=\"border-left: 1px solid;border-right: 1px solid;border-top: 1px solid;border-bottom: 1px solid;text-align:left;width:100px;\"></td></tr><tr><td  style=\"background-color:hsla(225, 80%, 94%, 1);border-left: 1px solid;border-right: 1px solid;border-top: 1px solid;border-bottom: 1px solid;text-align:left;width:100px;\"><b>date_created_latest</b></td><td  style=\"border-left: 1px solid;border-right: 1px solid;border-top: 1px solid;border-bottom: 1px solid;text-align:left;width:100px;\"></td></tr><tr><td  style=\"background-color:hsla(225, 80%, 94%, 1);border-left: 1px solid;border-right: 1px solid;border-top: 1px solid;border-bottom: 1px solid;text-align:left;width:100px;\"><b>created_period</b></td><td  style=\"border-left: 1px solid;border-right: 1px solid;border-top: 1px solid;border-bottom: 1px solid;text-align:left;width:100px;\">period</td></tr><tr><td  style=\"background-color:hsla(225, 80%, 94%, 1);border-left: 1px solid;border-right: 1px solid;border-top: 1px solid;border-bottom: 1px solid;text-align:left;width:100px;\"><b>created_dynasty</b></td><td  style=\"border-left: 1px solid;border-right: 1px solid;border-top: 1px solid;border-bottom: 1px solid;text-align:left;width:100px;\">century</td></tr><tr><td  style=\"background-color:hsla(225, 80%, 94%, 1);border-left: 1px solid;border-right: 1px solid;border-top: 1px solid;border-bottom: 1px solid;text-align:left;width:100px;\"><b>created_inscriptions</b></td><td  style=\"border-left: 1px solid;border-right: 1px solid;border-top: 1px solid;border-bottom: 1px solid;text-align:left;width:100px;\"></td></tr><tr><td  style=\"background-color:hsla(225, 80%, 94%, 1);border-left: 1px solid;border-right: 1px solid;border-top: 1px solid;border-bottom: 1px solid;text-align:left;width:100px;\"><b>created_notes</b></td><td  style=\"border-left: 1px solid;border-right: 1px solid;border-top: 1px solid;border-bottom: 1px solid;text-align:left;width:100px;\"></td></tr><tr><td  style=\"background-color:hsla(225, 80%, 94%, 1);border-left: 1px solid;border-right: 1px solid;border-top: 1px solid;border-bottom: 1px solid;text-align:left;width:100px;\"><b>creator</b></td><td  style=\"border-left: 1px solid;border-right: 1px solid;border-top: 1px solid;border-bottom: 1px solid;text-align:left;width:100px;\">people</td></tr><tr><td  style=\"background-color:hsla(225, 80%, 94%, 1);border-left: 1px solid;border-right: 1px solid;border-top: 1px solid;border-bottom: 1px solid;text-align:left;width:100px;\"><b>physical_medium</b></td><td  style=\"border-left: 1px solid;border-right: 1px solid;border-top: 1px solid;border-bottom: 1px solid;text-align:left;width:100px;\">medium</td></tr><tr><td  style=\"background-color:hsla(225, 80%, 94%, 1);border-left: 1px solid;border-right: 1px solid;border-top: 1px solid;border-bottom: 1px solid;text-align:left;width:100px;\"><b>physical_style</b></td><td  style=\"border-left: 1px solid;border-right: 1px solid;border-top: 1px solid;border-bottom: 1px solid;text-align:left;width:100px;\"></td></tr><tr><td  style=\"background-color:hsla(225, 80%, 94%, 1);border-left: 1px solid;border-right: 1px solid;border-top: 1px solid;border-bottom: 1px solid;text-align:left;width:100px;\"><b>physical_technique</b></td><td  style=\"border-left: 1px solid;border-right: 1px solid;border-top: 1px solid;border-bottom: 1px solid;text-align:left;width:100px;\">technique</td></tr><tr><td  style=\"background-color:hsla(225, 80%, 94%, 1);border-left: 1px solid;border-right: 1px solid;border-top: 1px solid;border-bottom: 1px solid;text-align:left;width:100px;\"><b>physical_description</b></td><td  style=\"border-left: 1px solid;border-right: 1px solid;border-top: 1px solid;border-bottom: 1px solid;text-align:left;width:100px;\">description</td></tr><tr><td  style=\"background-color:hsla(225, 80%, 94%, 1);border-left: 1px solid;border-right: 1px solid;border-top: 1px solid;border-bottom: 1px solid;text-align:left;width:100px;\"><b>physical_dimensions</b></td><td  style=\"border-left: 1px solid;border-right: 1px solid;border-top: 1px solid;border-bottom: 1px solid;text-align:left;width:100px;\">dimensions</td></tr><tr><td  style=\"background-color:hsla(225, 80%, 94%, 1);border-left: 1px solid;border-right: 1px solid;border-top: 1px solid;border-bottom: 1px solid;text-align:left;width:100px;\"><b>created_provenance</b></td><td  style=\"border-left: 1px solid;border-right: 1px solid;border-top: 1px solid;border-bottom: 1px solid;text-align:left;width:100px;\">provenance</td></tr><tr><td  style=\"background-color:hsla(225, 80%, 94%, 1);border-left: 1px solid;border-right: 1px solid;border-top: 1px solid;border-bottom: 1px solid;text-align:left;width:100px;\"><b>credit_line</b></td><td  style=\"border-left: 1px solid;border-right: 1px solid;border-top: 1px solid;border-bottom: 1px solid;text-align:left;width:100px;\">creditline</td></tr><tr><td  style=\"background-color:hsla(225, 80%, 94%, 1);border-left: 1px solid;border-right: 1px solid;border-top: 1px solid;border-bottom: 1px solid;text-align:left;width:100px;\"><b>collection</b></td><td  style=\"border-left: 1px solid;border-right: 1px solid;border-top: 1px solid;border-bottom: 1px solid;text-align:left;width:100px;\">division</td></tr><tr><td  style=\"background-color:hsla(225, 80%, 94%, 1);border-left: 1px solid;border-right: 1px solid;border-top: 1px solid;border-bottom: 1px solid;text-align:left;width:100px;\"><b>current_status</b></td><td  style=\"border-left: 1px solid;border-right: 1px solid;border-top: 1px solid;border-bottom: 1px solid;text-align:left;width:100px;\"></td></tr><tr><td  style=\"background-color:hsla(225, 80%, 94%, 1);border-left: 1px solid;border-right: 1px solid;border-top: 1px solid;border-bottom: 1px solid;text-align:left;width:100px;\"><b>current_owner</b></td><td  style=\"border-left: 1px solid;border-right: 1px solid;border-top: 1px solid;border-bottom: 1px solid;text-align:left;width:100px;\">Harvard&nbsp;Museum&nbsp;of&nbsp;Art</td></tr><tr><td  style=\"background-color:hsla(225, 80%, 94%, 1);border-left: 1px solid;border-right: 1px solid;border-top: 1px solid;border-bottom: 1px solid;text-align:left;width:100px;\"><b>image_url</b></td><td  style=\"border-left: 1px solid;border-right: 1px solid;border-top: 1px solid;border-bottom: 1px solid;text-align:left;width:100px;\">primaryimageurl</td></tr><tr><td  style=\"background-color:hsla(225, 80%, 94%, 1);border-left: 1px solid;border-right: 1px solid;border-top: 1px solid;border-bottom: 1px solid;text-align:left;width:100px;\"><b>homepage</b></td><td  style=\"border-left: 1px solid;border-right: 1px solid;border-top: 1px solid;border-bottom: 1px solid;text-align:left;width:100px;\">url</td></tr></table>"
      ],
      "text/plain": [
       "<ipy_table.ipy_table.IpyTable at 0x12b469fa0>"
      ]
     },
     "execution_count": 65,
     "metadata": {},
     "output_type": "execute_result"
    }
   ],
   "source": [
    "import re\n",
    "\n",
    "baseURI = \"https://www.harvardartmuseums.org/collections/object/\"\n",
    "\n",
    "mapp_harvard =  {\n",
    "    \"id\":\"id\",\n",
    "    \"accession_number\":\"objectnumber\",\n",
    "    \"accession_date\": \"accessionyear\",\n",
    "    \"classification\" : \"\",\n",
    "    \"title\": \"title\",\n",
    "    \"alt_title\": \"\",\n",
    "    \"notes\": \"commentary\",\n",
    "    \"date_created\":\"dated\",\n",
    "    \"date_created_earliest\": \"\",\n",
    "    \"date_created_latest\": \"\",\n",
    "    \"created_period\":\"period\",\n",
    "    \"created_dynasty\":\"century\",\n",
    "    \"created_inscriptions\":\"\",\n",
    "    \"created_notes\": \"\",\n",
    "    \"creator\":\"people\",\n",
    "    \"physical_medium\": \"medium\",\n",
    "    \"physical_style\": \"\",\n",
    "    \"physical_technique\": \"technique\",\n",
    "    \"physical_description\": \"description\",\n",
    "    \"physical_dimensions\": \"dimensions\",\n",
    "    \"created_provenance\": \"provenance\" ,\n",
    "    \"credit_line\": \"creditline\",\n",
    "    \"collection\" : \"division\",\n",
    "    \"classification\": \"classification\",\n",
    "    \"current_status\" : \"\",\n",
    "    \"current_owner\": \"Harvard Museum of Art\",\n",
    "    \"image_url\":\"primaryimageurl\",\n",
    "    \"homepage\" : \"url\"\n",
    "}\n",
    "\n",
    "dict2table(mapp_harvard)"
   ]
  },
  {
   "cell_type": "code",
   "execution_count": 66,
   "id": "4158fe3f",
   "metadata": {},
   "outputs": [
    {
     "data": {
      "text/html": [
       "<table border=\"1\" cellpadding=\"3\" cellspacing=\"0\"  style=\"border:black; border-collapse:collapse;\"><tr><td  style=\"background-color:hsla(225, 80%, 94%, 1);border-left: 1px solid;border-right: 1px solid;border-top: 1px solid;border-bottom: 1px solid;text-align:left;width:100px;\"><b>credit_line</b></td><td  style=\"border-left: 1px solid;border-right: 1px solid;border-top: 1px solid;border-bottom: 1px solid;text-align:left;width:100px;\">Harvard&nbsp;Art&nbsp;Museums/Fogg&nbsp;Museum,&nbsp;Gift&nbsp;of&nbsp;Samuel&nbsp;Sachs</td></tr><tr><td  style=\"background-color:hsla(225, 80%, 94%, 1);border-left: 1px solid;border-right: 1px solid;border-top: 1px solid;border-bottom: 1px solid;text-align:left;width:100px;\"><b>collection</b></td><td  style=\"border-left: 1px solid;border-right: 1px solid;border-top: 1px solid;border-bottom: 1px solid;text-align:left;width:100px;\">European&nbsp;and&nbsp;American&nbsp;Art</td></tr><tr><td  style=\"background-color:hsla(225, 80%, 94%, 1);border-left: 1px solid;border-right: 1px solid;border-top: 1px solid;border-bottom: 1px solid;text-align:left;width:100px;\"><b>id</b></td><td  style=\"border-left: 1px solid;border-right: 1px solid;border-top: 1px solid;border-bottom: 1px solid;text-align:left;width:100px;\">298628</td></tr><tr><td  style=\"background-color:hsla(225, 80%, 94%, 1);border-left: 1px solid;border-right: 1px solid;border-top: 1px solid;border-bottom: 1px solid;text-align:left;width:100px;\"><b>created_period</b></td><td  style=\"border-left: 1px solid;border-right: 1px solid;border-top: 1px solid;border-bottom: 1px solid;text-align:left;width:100px;\">None</td></tr><tr><td  style=\"background-color:hsla(225, 80%, 94%, 1);border-left: 1px solid;border-right: 1px solid;border-top: 1px solid;border-bottom: 1px solid;text-align:left;width:100px;\"><b>accession_date</b></td><td  style=\"border-left: 1px solid;border-right: 1px solid;border-top: 1px solid;border-bottom: 1px solid;text-align:left;width:100px;\">1919</td></tr><tr><td  style=\"background-color:hsla(225, 80%, 94%, 1);border-left: 1px solid;border-right: 1px solid;border-top: 1px solid;border-bottom: 1px solid;text-align:left;width:100px;\"><b>classification</b></td><td  style=\"border-left: 1px solid;border-right: 1px solid;border-top: 1px solid;border-bottom: 1px solid;text-align:left;width:100px;\">Drawings</td></tr><tr><td  style=\"background-color:hsla(225, 80%, 94%, 1);border-left: 1px solid;border-right: 1px solid;border-top: 1px solid;border-bottom: 1px solid;text-align:left;width:100px;\"><b>image_url</b></td><td  style=\"border-left: 1px solid;border-right: 1px solid;border-top: 1px solid;border-bottom: 1px solid;text-align:left;width:100px;\">https://nrs.harvard.edu/urn-3:HUAM:38491_dynmc</td></tr><tr><td  style=\"background-color:hsla(225, 80%, 94%, 1);border-left: 1px solid;border-right: 1px solid;border-top: 1px solid;border-bottom: 1px solid;text-align:left;width:100px;\"><b>notes</b></td><td  style=\"border-left: 1px solid;border-right: 1px solid;border-top: 1px solid;border-bottom: 1px solid;text-align:left;width:100px;\">A&nbsp;portion&nbsp;of&nbsp;this&nbsp;drawing&nbsp;is&nbsp;engraved,&nbsp;in&nbsp;reverse,&nbsp;in&nbsp;\"The&nbsp;Seven&nbsp;Lamps&nbsp;of&nbsp;Architecture\",&nbsp;pl.&nbsp;II.</td></tr><tr><td  style=\"background-color:hsla(225, 80%, 94%, 1);border-left: 1px solid;border-right: 1px solid;border-top: 1px solid;border-bottom: 1px solid;text-align:left;width:100px;\"><b>physical_technique</b></td><td  style=\"border-left: 1px solid;border-right: 1px solid;border-top: 1px solid;border-bottom: 1px solid;text-align:left;width:100px;\">None</td></tr><tr><td  style=\"background-color:hsla(225, 80%, 94%, 1);border-left: 1px solid;border-right: 1px solid;border-top: 1px solid;border-bottom: 1px solid;text-align:left;width:100px;\"><b>physical_description</b></td><td  style=\"border-left: 1px solid;border-right: 1px solid;border-top: 1px solid;border-bottom: 1px solid;text-align:left;width:100px;\">None</td></tr><tr><td  style=\"background-color:hsla(225, 80%, 94%, 1);border-left: 1px solid;border-right: 1px solid;border-top: 1px solid;border-bottom: 1px solid;text-align:left;width:100px;\"><b>physical_medium</b></td><td  style=\"border-left: 1px solid;border-right: 1px solid;border-top: 1px solid;border-bottom: 1px solid;text-align:left;width:100px;\">Graphite,&nbsp;brown&nbsp;ink,&nbsp;and&nbsp;brown&nbsp;wash&nbsp;on&nbsp;cream&nbsp;wove&nbsp;paper</td></tr><tr><td  style=\"background-color:hsla(225, 80%, 94%, 1);border-left: 1px solid;border-right: 1px solid;border-top: 1px solid;border-bottom: 1px solid;text-align:left;width:100px;\"><b>title</b></td><td  style=\"border-left: 1px solid;border-right: 1px solid;border-top: 1px solid;border-bottom: 1px solid;text-align:left;width:100px;\">Study&nbsp;of&nbsp;Portal&nbsp;and&nbsp;Carved&nbsp;Pinnacles,&nbsp;Cathedral&nbsp;of&nbsp;St.&nbsp;Lô,&nbsp;Normandy</td></tr><tr><td  style=\"background-color:hsla(225, 80%, 94%, 1);border-left: 1px solid;border-right: 1px solid;border-top: 1px solid;border-bottom: 1px solid;text-align:left;width:100px;\"><b>created_provenance</b></td><td  style=\"border-left: 1px solid;border-right: 1px solid;border-top: 1px solid;border-bottom: 1px solid;text-align:left;width:100px;\">Charles&nbsp;Eliot&nbsp;Norton,&nbsp;to;&nbsp;his&nbsp;daughters&nbsp;Sara,&nbsp;Margaret,&nbsp;and&nbsp;Elizabeth,&nbsp;sold;&nbsp;to&nbsp;Fogg&nbsp;Art&nbsp;Museum,&nbsp;1919&nbsp;[1]\r\n",
       "\r\n",
       "[1]&nbsp;purchased&nbsp;with&nbsp;funds&nbsp;provided&nbsp;by&nbsp;Samuel&nbsp;Sachs</td></tr><tr><td  style=\"background-color:hsla(225, 80%, 94%, 1);border-left: 1px solid;border-right: 1px solid;border-top: 1px solid;border-bottom: 1px solid;text-align:left;width:100px;\"><b>date_created_earliest</b></td><td  style=\"border-left: 1px solid;border-right: 1px solid;border-top: 1px solid;border-bottom: 1px solid;text-align:left;width:100px;\">1848</td></tr><tr><td  style=\"background-color:hsla(225, 80%, 94%, 1);border-left: 1px solid;border-right: 1px solid;border-top: 1px solid;border-bottom: 1px solid;text-align:left;width:100px;\"><b>date_created_latest</b></td><td  style=\"border-left: 1px solid;border-right: 1px solid;border-top: 1px solid;border-bottom: 1px solid;text-align:left;width:100px;\">1848</td></tr><tr><td  style=\"background-color:hsla(225, 80%, 94%, 1);border-left: 1px solid;border-right: 1px solid;border-top: 1px solid;border-bottom: 1px solid;text-align:left;width:100px;\"><b>date_created</b></td><td  style=\"border-left: 1px solid;border-right: 1px solid;border-top: 1px solid;border-bottom: 1px solid;text-align:left;width:100px;\">1848</td></tr><tr><td  style=\"background-color:hsla(225, 80%, 94%, 1);border-left: 1px solid;border-right: 1px solid;border-top: 1px solid;border-bottom: 1px solid;text-align:left;width:100px;\"><b>creator</b></td><td  style=\"border-left: 1px solid;border-right: 1px solid;border-top: 1px solid;border-bottom: 1px solid;text-align:left;width:100px;\">[{'id':&nbsp;'28419',&nbsp;'name':&nbsp;'John&nbsp;Ruskin'}]</td></tr><tr><td  style=\"background-color:hsla(225, 80%, 94%, 1);border-left: 1px solid;border-right: 1px solid;border-top: 1px solid;border-bottom: 1px solid;text-align:left;width:100px;\"><b>homepage</b></td><td  style=\"border-left: 1px solid;border-right: 1px solid;border-top: 1px solid;border-bottom: 1px solid;text-align:left;width:100px;\">https://www.harvardartmuseums.org/collections/object/298628</td></tr><tr><td  style=\"background-color:hsla(225, 80%, 94%, 1);border-left: 1px solid;border-right: 1px solid;border-top: 1px solid;border-bottom: 1px solid;text-align:left;width:100px;\"><b>created_dynasty</b></td><td  style=\"border-left: 1px solid;border-right: 1px solid;border-top: 1px solid;border-bottom: 1px solid;text-align:left;width:100px;\">19th&nbsp;century</td></tr><tr><td  style=\"background-color:hsla(225, 80%, 94%, 1);border-left: 1px solid;border-right: 1px solid;border-top: 1px solid;border-bottom: 1px solid;text-align:left;width:100px;\"><b>accession_number</b></td><td  style=\"border-left: 1px solid;border-right: 1px solid;border-top: 1px solid;border-bottom: 1px solid;text-align:left;width:100px;\">1919.504</td></tr><tr><td  style=\"background-color:hsla(225, 80%, 94%, 1);border-left: 1px solid;border-right: 1px solid;border-top: 1px solid;border-bottom: 1px solid;text-align:left;width:100px;\"><b>physical_dimensions</b></td><td  style=\"border-left: 1px solid;border-right: 1px solid;border-top: 1px solid;border-bottom: 1px solid;text-align:left;width:100px;\">48.1&nbsp;x&nbsp;36.2&nbsp;cm&nbsp;(18&nbsp;15/16&nbsp;x&nbsp;14&nbsp;1/4&nbsp;in.)</td></tr><tr><td  style=\"background-color:hsla(225, 80%, 94%, 1);border-left: 1px solid;border-right: 1px solid;border-top: 1px solid;border-bottom: 1px solid;text-align:left;width:100px;\"><b>current_owner</b></td><td  style=\"border-left: 1px solid;border-right: 1px solid;border-top: 1px solid;border-bottom: 1px solid;text-align:left;width:100px;\">{'name':&nbsp;'Harvard&nbsp;Art&nbsp;Museum',&nbsp;'location':&nbsp;'Cambridge,&nbsp;MA',&nbsp;'type':&nbsp;'http://vocab.getty.edu/aat/300312281',&nbsp;'type_label':&nbsp;''}</td></tr></table>"
      ],
      "text/plain": [
       "<ipy_table.ipy_table.IpyTable at 0x129c06400>"
      ]
     },
     "execution_count": 66,
     "metadata": {},
     "output_type": "execute_result"
    }
   ],
   "source": [
    "\n",
    "\n",
    "def createObjPropHarvard(obj,mapp):\n",
    "\n",
    "    objProp = {}\n",
    "    csv_keys = list(obj.keys())\n",
    "    for key in csv_keys:\n",
    "        for prop in mapp:\n",
    "            if key == mapp[prop]:\n",
    "                if key == \"dated\":\n",
    "                    \n",
    "                    # look for year in value \n",
    "                    years = re.findall('(\\d{4})', obj[key])\n",
    "                    if len(years) == 1:\n",
    "                        #objProp[\"date\"] = years[0]\n",
    "                        objProp[\"date_created_earliest\"] = years[0]\n",
    "                        objProp[\"date_created_latest\"] = years[0]\n",
    "                    elif len(years) == 2:\n",
    "                       # objProp[\"dated\"] = str(years[0]) + \"-\" + str(years[1])\n",
    "                        objProp[\"date_created_earliest\"] = years[0]\n",
    "                        objProp[\"date_created_latest\"] = years[1]\n",
    "                    else:\n",
    "                        # use Ruskins birth/death years\n",
    "                        objProp[\"date_created_earliest\"] = 1819\n",
    "                        objProp[\"date_created_latest\"] = 1900\n",
    "                        \n",
    "    \n",
    "                        \n",
    "                        \n",
    "                \n",
    "                if prop == \"creator\":\n",
    "                    objProp[\"creator\"] = \"\"\n",
    "                    for person in obj[key]:\n",
    "                        \n",
    "                        if \"personid\" in person and person[\"personid\"] == 28419 and person[\"role\"] == \"Artist\": \n",
    "                            objProp[prop] = [{\n",
    "                                \"id\": str(person[\"personid\"]),\n",
    "                                \"name\": person[\"displayname\"],\n",
    "                                }]      \n",
    "                else:\n",
    "                    objProp[prop] = obj[key]\n",
    "    objProp[\"current_owner\"] = {\"name\":\"Harvard Art Museum\",\n",
    "                                \"location\":\"Cambridge, MA\",\n",
    "                                \"type\": \"http://vocab.getty.edu/aat/300312281\" ,\n",
    "                                \"type_label\": \"\"}\n",
    "    return objProp   \n",
    "\n",
    "for x in range(1,11):\n",
    "    \n",
    "    with open(\"./data/harvard/input/\" + str(x) + \".json\") as json_file:\n",
    "        data = json.load(json_file)\n",
    "        for obj in data[\"records\"]:\n",
    "            #print(json.dumps(obj,indent=2))\n",
    "            objProp=createObjPropHarvard(obj,mapp_harvard)\n",
    "            if \"image_url\" in objProp and objProp[\"image_url\"] != \"\":\n",
    "                images[\"https://www.harvardartmuseums.org/collections/object/\" + str(objProp[\"id\"])] = objProp[\"image_url\"]\n",
    "            if objProp[\"creator\"] != \"\":\n",
    "                #print(json.dumps(objProp,indent=2))\n",
    "                \n",
    "                id = str(objProp[\"id\"])\n",
    "                object_uri = baseURI + id\n",
    "    \n",
    "                # create obj description\n",
    "                objLA = la.createObjDesc(objProp,la.objTypes,object_uri)\n",
    "                #print(json.dumps(objLA,indent=2))\n",
    "                # write to file \n",
    "                text_file = open(outputdir + \"/\" + id + \".json\", \"wt\")\n",
    "                #print(factory.toString(objLA, compact=False))\n",
    "                n = text_file.write(factory.toString(objLA, compact=False))\n",
    "                text_file.close()\n",
    "    \n",
    "    \n",
    "dict2table(objProp)   \n",
    "\n"
   ]
  },
  {
   "cell_type": "markdown",
   "id": "2a727369",
   "metadata": {},
   "source": [
    "## Rijksmuseum"
   ]
  },
  {
   "cell_type": "code",
   "execution_count": 67,
   "id": "4a349f5f",
   "metadata": {},
   "outputs": [
    {
     "data": {
      "text/html": [
       "<table border=\"1\" cellpadding=\"3\" cellspacing=\"0\"  style=\"border:black; border-collapse:collapse;\"><tr><td  style=\"background-color:hsla(225, 80%, 94%, 1);border-left: 1px solid;border-right: 1px solid;border-top: 1px solid;border-bottom: 1px solid;text-align:left;width:100px;\"><b>id</b></td><td  style=\"border-left: 1px solid;border-right: 1px solid;border-top: 1px solid;border-bottom: 1px solid;text-align:left;width:100px;\">id</td></tr><tr><td  style=\"background-color:hsla(225, 80%, 94%, 1);border-left: 1px solid;border-right: 1px solid;border-top: 1px solid;border-bottom: 1px solid;text-align:left;width:100px;\"><b>accession_number</b></td><td  style=\"border-left: 1px solid;border-right: 1px solid;border-top: 1px solid;border-bottom: 1px solid;text-align:left;width:100px;\">objectNumber</td></tr><tr><td  style=\"background-color:hsla(225, 80%, 94%, 1);border-left: 1px solid;border-right: 1px solid;border-top: 1px solid;border-bottom: 1px solid;text-align:left;width:100px;\"><b>classification</b></td><td  style=\"border-left: 1px solid;border-right: 1px solid;border-top: 1px solid;border-bottom: 1px solid;text-align:left;width:100px;\"></td></tr><tr><td  style=\"background-color:hsla(225, 80%, 94%, 1);border-left: 1px solid;border-right: 1px solid;border-top: 1px solid;border-bottom: 1px solid;text-align:left;width:100px;\"><b>title</b></td><td  style=\"border-left: 1px solid;border-right: 1px solid;border-top: 1px solid;border-bottom: 1px solid;text-align:left;width:100px;\">title</td></tr><tr><td  style=\"background-color:hsla(225, 80%, 94%, 1);border-left: 1px solid;border-right: 1px solid;border-top: 1px solid;border-bottom: 1px solid;text-align:left;width:100px;\"><b>alt_title</b></td><td  style=\"border-left: 1px solid;border-right: 1px solid;border-top: 1px solid;border-bottom: 1px solid;text-align:left;width:100px;\">longTitle</td></tr><tr><td  style=\"background-color:hsla(225, 80%, 94%, 1);border-left: 1px solid;border-right: 1px solid;border-top: 1px solid;border-bottom: 1px solid;text-align:left;width:100px;\"><b>notes</b></td><td  style=\"border-left: 1px solid;border-right: 1px solid;border-top: 1px solid;border-bottom: 1px solid;text-align:left;width:100px;\"></td></tr><tr><td  style=\"background-color:hsla(225, 80%, 94%, 1);border-left: 1px solid;border-right: 1px solid;border-top: 1px solid;border-bottom: 1px solid;text-align:left;width:100px;\"><b>date_created</b></td><td  style=\"border-left: 1px solid;border-right: 1px solid;border-top: 1px solid;border-bottom: 1px solid;text-align:left;width:100px;\"></td></tr><tr><td  style=\"background-color:hsla(225, 80%, 94%, 1);border-left: 1px solid;border-right: 1px solid;border-top: 1px solid;border-bottom: 1px solid;text-align:left;width:100px;\"><b>date_created_earliest</b></td><td  style=\"border-left: 1px solid;border-right: 1px solid;border-top: 1px solid;border-bottom: 1px solid;text-align:left;width:100px;\"></td></tr><tr><td  style=\"background-color:hsla(225, 80%, 94%, 1);border-left: 1px solid;border-right: 1px solid;border-top: 1px solid;border-bottom: 1px solid;text-align:left;width:100px;\"><b>date_created_latest</b></td><td  style=\"border-left: 1px solid;border-right: 1px solid;border-top: 1px solid;border-bottom: 1px solid;text-align:left;width:100px;\"></td></tr><tr><td  style=\"background-color:hsla(225, 80%, 94%, 1);border-left: 1px solid;border-right: 1px solid;border-top: 1px solid;border-bottom: 1px solid;text-align:left;width:100px;\"><b>created_period</b></td><td  style=\"border-left: 1px solid;border-right: 1px solid;border-top: 1px solid;border-bottom: 1px solid;text-align:left;width:100px;\"></td></tr><tr><td  style=\"background-color:hsla(225, 80%, 94%, 1);border-left: 1px solid;border-right: 1px solid;border-top: 1px solid;border-bottom: 1px solid;text-align:left;width:100px;\"><b>created_dynasty</b></td><td  style=\"border-left: 1px solid;border-right: 1px solid;border-top: 1px solid;border-bottom: 1px solid;text-align:left;width:100px;\"></td></tr><tr><td  style=\"background-color:hsla(225, 80%, 94%, 1);border-left: 1px solid;border-right: 1px solid;border-top: 1px solid;border-bottom: 1px solid;text-align:left;width:100px;\"><b>created_inscriptions</b></td><td  style=\"border-left: 1px solid;border-right: 1px solid;border-top: 1px solid;border-bottom: 1px solid;text-align:left;width:100px;\"></td></tr><tr><td  style=\"background-color:hsla(225, 80%, 94%, 1);border-left: 1px solid;border-right: 1px solid;border-top: 1px solid;border-bottom: 1px solid;text-align:left;width:100px;\"><b>created_notes</b></td><td  style=\"border-left: 1px solid;border-right: 1px solid;border-top: 1px solid;border-bottom: 1px solid;text-align:left;width:100px;\"></td></tr><tr><td  style=\"background-color:hsla(225, 80%, 94%, 1);border-left: 1px solid;border-right: 1px solid;border-top: 1px solid;border-bottom: 1px solid;text-align:left;width:100px;\"><b>creator</b></td><td  style=\"border-left: 1px solid;border-right: 1px solid;border-top: 1px solid;border-bottom: 1px solid;text-align:left;width:100px;\">principalOrFirstMaker</td></tr><tr><td  style=\"background-color:hsla(225, 80%, 94%, 1);border-left: 1px solid;border-right: 1px solid;border-top: 1px solid;border-bottom: 1px solid;text-align:left;width:100px;\"><b>physical_medium</b></td><td  style=\"border-left: 1px solid;border-right: 1px solid;border-top: 1px solid;border-bottom: 1px solid;text-align:left;width:100px;\"></td></tr><tr><td  style=\"background-color:hsla(225, 80%, 94%, 1);border-left: 1px solid;border-right: 1px solid;border-top: 1px solid;border-bottom: 1px solid;text-align:left;width:100px;\"><b>physical_style</b></td><td  style=\"border-left: 1px solid;border-right: 1px solid;border-top: 1px solid;border-bottom: 1px solid;text-align:left;width:100px;\"></td></tr><tr><td  style=\"background-color:hsla(225, 80%, 94%, 1);border-left: 1px solid;border-right: 1px solid;border-top: 1px solid;border-bottom: 1px solid;text-align:left;width:100px;\"><b>physical_technique</b></td><td  style=\"border-left: 1px solid;border-right: 1px solid;border-top: 1px solid;border-bottom: 1px solid;text-align:left;width:100px;\"></td></tr><tr><td  style=\"background-color:hsla(225, 80%, 94%, 1);border-left: 1px solid;border-right: 1px solid;border-top: 1px solid;border-bottom: 1px solid;text-align:left;width:100px;\"><b>physical_description</b></td><td  style=\"border-left: 1px solid;border-right: 1px solid;border-top: 1px solid;border-bottom: 1px solid;text-align:left;width:100px;\"></td></tr><tr><td  style=\"background-color:hsla(225, 80%, 94%, 1);border-left: 1px solid;border-right: 1px solid;border-top: 1px solid;border-bottom: 1px solid;text-align:left;width:100px;\"><b>physical_dimensions</b></td><td  style=\"border-left: 1px solid;border-right: 1px solid;border-top: 1px solid;border-bottom: 1px solid;text-align:left;width:100px;\"></td></tr><tr><td  style=\"background-color:hsla(225, 80%, 94%, 1);border-left: 1px solid;border-right: 1px solid;border-top: 1px solid;border-bottom: 1px solid;text-align:left;width:100px;\"><b>created_provenance</b></td><td  style=\"border-left: 1px solid;border-right: 1px solid;border-top: 1px solid;border-bottom: 1px solid;text-align:left;width:100px;\"></td></tr><tr><td  style=\"background-color:hsla(225, 80%, 94%, 1);border-left: 1px solid;border-right: 1px solid;border-top: 1px solid;border-bottom: 1px solid;text-align:left;width:100px;\"><b>credit_line</b></td><td  style=\"border-left: 1px solid;border-right: 1px solid;border-top: 1px solid;border-bottom: 1px solid;text-align:left;width:100px;\"></td></tr><tr><td  style=\"background-color:hsla(225, 80%, 94%, 1);border-left: 1px solid;border-right: 1px solid;border-top: 1px solid;border-bottom: 1px solid;text-align:left;width:100px;\"><b>collection</b></td><td  style=\"border-left: 1px solid;border-right: 1px solid;border-top: 1px solid;border-bottom: 1px solid;text-align:left;width:100px;\"></td></tr><tr><td  style=\"background-color:hsla(225, 80%, 94%, 1);border-left: 1px solid;border-right: 1px solid;border-top: 1px solid;border-bottom: 1px solid;text-align:left;width:100px;\"><b>current_status</b></td><td  style=\"border-left: 1px solid;border-right: 1px solid;border-top: 1px solid;border-bottom: 1px solid;text-align:left;width:100px;\"></td></tr><tr><td  style=\"background-color:hsla(225, 80%, 94%, 1);border-left: 1px solid;border-right: 1px solid;border-top: 1px solid;border-bottom: 1px solid;text-align:left;width:100px;\"><b>current_owner</b></td><td  style=\"border-left: 1px solid;border-right: 1px solid;border-top: 1px solid;border-bottom: 1px solid;text-align:left;width:100px;\"></td></tr><tr><td  style=\"background-color:hsla(225, 80%, 94%, 1);border-left: 1px solid;border-right: 1px solid;border-top: 1px solid;border-bottom: 1px solid;text-align:left;width:100px;\"><b>image_url</b></td><td  style=\"border-left: 1px solid;border-right: 1px solid;border-top: 1px solid;border-bottom: 1px solid;text-align:left;width:100px;\"></td></tr><tr><td  style=\"background-color:hsla(225, 80%, 94%, 1);border-left: 1px solid;border-right: 1px solid;border-top: 1px solid;border-bottom: 1px solid;text-align:left;width:100px;\"><b>homepage</b></td><td  style=\"border-left: 1px solid;border-right: 1px solid;border-top: 1px solid;border-bottom: 1px solid;text-align:left;width:100px;\"></td></tr></table>"
      ],
      "text/plain": [
       "<ipy_table.ipy_table.IpyTable at 0x12309bb50>"
      ]
     },
     "execution_count": 67,
     "metadata": {},
     "output_type": "execute_result"
    }
   ],
   "source": [
    "keyfile = \"data/ruskin/input/keyrijks.txt\"\n",
    "key = open(keyfile, mode='r', encoding='utf-8-sig').read()\n",
    "url = \"https://www.rijksmuseum.nl/api/nl/collection?key=\" + key + \"&involvedMaker=John+Ruskin\"\n",
    "\n",
    "rijksdir = \"data/rijks/json/\"\n",
    "\n",
    "baseURI = \"http://www.rijksmuseum.nl/nl/collectie/\"\n",
    "\n",
    "\n",
    "response = requests.get(url)\n",
    "data = response.json()\n",
    "\n",
    "for artwork in data[\"artObjects\"]:\n",
    "    \n",
    "    if artwork[\"hasImage\"] == False:\n",
    "        continue\n",
    "    if artwork[\"principalOrFirstMaker\"] != \"John Ruskin\":\n",
    "        continue\n",
    "    text_file = open( rijksdir + artwork[\"id\"] + \".json\", \"wt\")\n",
    "    text_file.write(json.dumps(artwork, indent=2))\n",
    "    text_file.close()\n",
    "    \n",
    "    \n",
    "    \n",
    "mapp = {\n",
    "    \n",
    "    \"id\":\"id\",\n",
    "    \"accession_number\":\"objectNumber\",\n",
    "    \"classification\" : \"\",\n",
    "    \"title\": \"title\",\n",
    "    \"alt_title\": \"longTitle\",\n",
    "    \"notes\": \"\",\n",
    "    \"date_created\":\"\",\n",
    "    \"date_created_earliest\": \"\",\n",
    "    \"date_created_latest\": \"\",\n",
    "    \"created_period\":\"\",\n",
    "    \"created_dynasty\":\"\",\n",
    "    \"created_inscriptions\":\"\",\n",
    "    \"created_notes\": \"\",\n",
    "    \"creator\":\"principalOrFirstMaker\",\n",
    "    \"physical_medium\": \"\",\n",
    "    \"physical_style\": \"\",\n",
    "    \"physical_technique\": \"\",\n",
    "    \"physical_description\": \"\",\n",
    "    \"physical_dimensions\": \"\",\n",
    "    \"created_provenance\": \"\" ,\n",
    "    \"credit_line\": \"\",\n",
    "    \"collection\" : \"\",\n",
    "    \"classification\": \"\",\n",
    "    \"current_status\" : \"\",\n",
    "    \"current_owner\": \"\",\n",
    "    \"image_url\":\"\",\n",
    "    \"homepage\" : \"\"\n",
    "}\n",
    "\n",
    "dict2table(mapp)"
   ]
  },
  {
   "cell_type": "code",
   "execution_count": 68,
   "id": "cc348a15",
   "metadata": {},
   "outputs": [
    {
     "name": "stdout",
     "output_type": "stream",
     "text": [
      "./data/ruskin/output/json/\n",
      "./data/ruskin/output/json/\n"
     ]
    },
    {
     "data": {
      "text/html": [
       "<table border=\"1\" cellpadding=\"3\" cellspacing=\"0\"  style=\"border:black; border-collapse:collapse;\"><tr><td  style=\"background-color:hsla(225, 80%, 94%, 1);border-left: 1px solid;border-right: 1px solid;border-top: 1px solid;border-bottom: 1px solid;text-align:left;width:100px;\"><b>id</b></td><td  style=\"border-left: 1px solid;border-right: 1px solid;border-top: 1px solid;border-bottom: 1px solid;text-align:left;width:100px;\">nl-RP-T-1957-335</td></tr><tr><td  style=\"background-color:hsla(225, 80%, 94%, 1);border-left: 1px solid;border-right: 1px solid;border-top: 1px solid;border-bottom: 1px solid;text-align:left;width:100px;\"><b>accession_number</b></td><td  style=\"border-left: 1px solid;border-right: 1px solid;border-top: 1px solid;border-bottom: 1px solid;text-align:left;width:100px;\">RP-T-1957-335</td></tr><tr><td  style=\"background-color:hsla(225, 80%, 94%, 1);border-left: 1px solid;border-right: 1px solid;border-top: 1px solid;border-bottom: 1px solid;text-align:left;width:100px;\"><b>title</b></td><td  style=\"border-left: 1px solid;border-right: 1px solid;border-top: 1px solid;border-bottom: 1px solid;text-align:left;width:100px;\">Gezicht&nbsp;op&nbsp;S.&nbsp;Anastasia&nbsp;te&nbsp;Verona,&nbsp;over&nbsp;de&nbsp;Adige</td></tr><tr><td  style=\"background-color:hsla(225, 80%, 94%, 1);border-left: 1px solid;border-right: 1px solid;border-top: 1px solid;border-bottom: 1px solid;text-align:left;width:100px;\"><b>creator</b></td><td  style=\"border-left: 1px solid;border-right: 1px solid;border-top: 1px solid;border-bottom: 1px solid;text-align:left;width:100px;\">John&nbsp;Ruskin</td></tr><tr><td  style=\"background-color:hsla(225, 80%, 94%, 1);border-left: 1px solid;border-right: 1px solid;border-top: 1px solid;border-bottom: 1px solid;text-align:left;width:100px;\"><b>alt_title</b></td><td  style=\"border-left: 1px solid;border-right: 1px solid;border-top: 1px solid;border-bottom: 1px solid;text-align:left;width:100px;\">Gezicht&nbsp;op&nbsp;S.&nbsp;Anastasia&nbsp;te&nbsp;Verona,&nbsp;over&nbsp;de&nbsp;Adige,&nbsp;John&nbsp;Ruskin,&nbsp;1829&nbsp;-&nbsp;1900</td></tr><tr><td  style=\"background-color:hsla(225, 80%, 94%, 1);border-left: 1px solid;border-right: 1px solid;border-top: 1px solid;border-bottom: 1px solid;text-align:left;width:100px;\"><b>current_owner</b></td><td  style=\"border-left: 1px solid;border-right: 1px solid;border-top: 1px solid;border-bottom: 1px solid;text-align:left;width:100px;\">{'name':&nbsp;'Rijksmuseum',&nbsp;'location':&nbsp;'Amsterdam,&nbsp;Netherlands',&nbsp;'type':&nbsp;'http://vocab.getty.edu/aat/300312281',&nbsp;'type_label':&nbsp;'Museum'}</td></tr><tr><td  style=\"background-color:hsla(225, 80%, 94%, 1);border-left: 1px solid;border-right: 1px solid;border-top: 1px solid;border-bottom: 1px solid;text-align:left;width:100px;\"><b>classification</b></td><td  style=\"border-left: 1px solid;border-right: 1px solid;border-top: 1px solid;border-bottom: 1px solid;text-align:left;width:100px;\">Painting</td></tr><tr><td  style=\"background-color:hsla(225, 80%, 94%, 1);border-left: 1px solid;border-right: 1px solid;border-top: 1px solid;border-bottom: 1px solid;text-align:left;width:100px;\"><b>homepage</b></td><td  style=\"border-left: 1px solid;border-right: 1px solid;border-top: 1px solid;border-bottom: 1px solid;text-align:left;width:100px;\">http://www.rijksmuseum.nl/nl/collectie/RP-T-1957-335</td></tr></table>"
      ],
      "text/plain": [
       "<ipy_table.ipy_table.IpyTable at 0x127de93a0>"
      ]
     },
     "execution_count": 68,
     "metadata": {},
     "output_type": "execute_result"
    }
   ],
   "source": [
    "\n",
    "def createObjProp(obj,mapp):\n",
    "    objProp = {}\n",
    "    csv_keys = list(obj.keys())\n",
    "    for key in csv_keys:\n",
    "        for prop in mapp:\n",
    "            if key == mapp[prop]:\n",
    "                if prop == \"creator\":\n",
    "                    objProp[\"creator\"] = \"\"\n",
    "                    for person in obj[key]:\n",
    "                        \n",
    "                        if \"personid\" in person and person[\"personid\"] == 28419 and person[\"role\"] == \"Artist\": \n",
    "                            objProp[prop] = [{\n",
    "                                \"id\": str(person[\"personid\"]),\n",
    "                                \"name\": person[\"displayname\"],\n",
    "                                }]      \n",
    "                else:\n",
    "                    objProp[prop] = obj[key]\n",
    "    objProp[\"current_owner\"] = {\"name\":\"Rijksmuseum\",\n",
    "                                \"location\":\"Amsterdam, Netherlands\",\n",
    "                                \"type\": \"http://vocab.getty.edu/aat/300312281\" ,\n",
    "                                \"type_label\": \"Museum\"}\n",
    "    return objProp   \n",
    "\n",
    "\n",
    "file_list=os.listdir(rijksdir)\n",
    "for file in file_list:\n",
    "    with open(rijksdir + file) as json_file:\n",
    "        obj = json.load(json_file)\n",
    "        objProp=createObjProp(obj,mapp)\n",
    "        \n",
    "        objProp[\"creator\"] = obj[\"principalOrFirstMaker\"]\n",
    "        objProp[\"classification\"] = \"Painting\"\n",
    "        objProp[\"homepage\"] = obj[\"links\"][\"web\"]\n",
    "        \n",
    "        \n",
    "        \n",
    "        if objProp[\"creator\"] != \"\":\n",
    "           \n",
    "            id = str(objProp[\"id\"])\n",
    "            \n",
    "            object_uri = baseURI + id\n",
    "            \n",
    "            # create obj description\n",
    "            objLA = la.createObjDesc(objProp,la.objTypes,object_uri)\n",
    "            print(outputdir)\n",
    "            # write to file \n",
    "            text_file = open(outputdir + id + \".json\", \"wt\")\n",
    "            n = text_file.write(factory.toString(objLA, compact=False))\n",
    "            text_file.close()\n",
    "\n",
    "dict2table(objProp)\n",
    "\n"
   ]
  },
  {
   "cell_type": "markdown",
   "id": "419759b5",
   "metadata": {},
   "source": [
    "## Ashmolean Museum"
   ]
  },
  {
   "cell_type": "code",
   "execution_count": 70,
   "id": "059ba51f",
   "metadata": {},
   "outputs": [
    {
     "data": {
      "text/html": [
       "<table border=\"1\" cellpadding=\"3\" cellspacing=\"0\"  style=\"border:black; border-collapse:collapse;\"><tr><td  style=\"background-color:hsla(225, 80%, 94%, 1);border-left: 1px solid;border-right: 1px solid;border-top: 1px solid;border-bottom: 1px solid;text-align:left;width:100px;\"><b>classification</b></td><td  style=\"border-left: 1px solid;border-right: 1px solid;border-top: 1px solid;border-bottom: 1px solid;text-align:left;width:100px;\"></td></tr><tr><td  style=\"background-color:hsla(225, 80%, 94%, 1);border-left: 1px solid;border-right: 1px solid;border-top: 1px solid;border-bottom: 1px solid;text-align:left;width:100px;\"><b>homepage</b></td><td  style=\"border-left: 1px solid;border-right: 1px solid;border-top: 1px solid;border-bottom: 1px solid;text-align:left;width:100px;\">https://collections.ashmolean.org/collection/browse-9148/object/103910</td></tr><tr><td  style=\"background-color:hsla(225, 80%, 94%, 1);border-left: 1px solid;border-right: 1px solid;border-top: 1px solid;border-bottom: 1px solid;text-align:left;width:100px;\"><b>id</b></td><td  style=\"border-left: 1px solid;border-right: 1px solid;border-top: 1px solid;border-bottom: 1px solid;text-align:left;width:100px;\">103910</td></tr><tr><td  style=\"background-color:hsla(225, 80%, 94%, 1);border-left: 1px solid;border-right: 1px solid;border-top: 1px solid;border-bottom: 1px solid;text-align:left;width:100px;\"><b>title</b></td><td  style=\"border-left: 1px solid;border-right: 1px solid;border-top: 1px solid;border-bottom: 1px solid;text-align:left;width:100px;\">Small&nbsp;sketch&nbsp;stated&nbsp;to&nbsp;be&nbsp;by&nbsp;John&nbsp;Ruskin</td></tr><tr><td  style=\"background-color:hsla(225, 80%, 94%, 1);border-left: 1px solid;border-right: 1px solid;border-top: 1px solid;border-bottom: 1px solid;text-align:left;width:100px;\"><b>creator</b></td><td  style=\"border-left: 1px solid;border-right: 1px solid;border-top: 1px solid;border-bottom: 1px solid;text-align:left;width:100px;\">[{'id':&nbsp;'',&nbsp;'name':&nbsp;'John&nbsp;Ruskin',&nbsp;'role':&nbsp;'Artist'}]</td></tr><tr><td  style=\"background-color:hsla(225, 80%, 94%, 1);border-left: 1px solid;border-right: 1px solid;border-top: 1px solid;border-bottom: 1px solid;text-align:left;width:100px;\"><b>accession_number</b></td><td  style=\"border-left: 1px solid;border-right: 1px solid;border-top: 1px solid;border-bottom: 1px solid;text-align:left;width:100px;\">WA1960.77.47.4</td></tr><tr><td  style=\"background-color:hsla(225, 80%, 94%, 1);border-left: 1px solid;border-right: 1px solid;border-top: 1px solid;border-bottom: 1px solid;text-align:left;width:100px;\"><b>image_url</b></td><td  style=\"border-left: 1px solid;border-right: 1px solid;border-top: 1px solid;border-bottom: 1px solid;text-align:left;width:100px;\">https://collections.ashmolean.org/static/shared/assets/placeholder_collection_w800.png</td></tr><tr><td  style=\"background-color:hsla(225, 80%, 94%, 1);border-left: 1px solid;border-right: 1px solid;border-top: 1px solid;border-bottom: 1px solid;text-align:left;width:100px;\"><b>date_created</b></td><td  style=\"border-left: 1px solid;border-right: 1px solid;border-top: 1px solid;border-bottom: 1px solid;text-align:left;width:100px;\">possibly&nbsp;1870&nbsp;-&nbsp;1880</td></tr><tr><td  style=\"background-color:hsla(225, 80%, 94%, 1);border-left: 1px solid;border-right: 1px solid;border-top: 1px solid;border-bottom: 1px solid;text-align:left;width:100px;\"><b>current_owner</b></td><td  style=\"border-left: 1px solid;border-right: 1px solid;border-top: 1px solid;border-bottom: 1px solid;text-align:left;width:100px;\">{'name':&nbsp;'Ashmolean&nbsp;Museum',&nbsp;'location':&nbsp;'Oxford,&nbsp;England,&nbsp;UK',&nbsp;'type':&nbsp;'http://vocab.getty.edu/aat/300312281',&nbsp;'type_label':&nbsp;''}</td></tr><tr><td  style=\"background-color:hsla(225, 80%, 94%, 1);border-left: 1px solid;border-right: 1px solid;border-top: 1px solid;border-bottom: 1px solid;text-align:left;width:100px;\"><b>date_created_earliest</b></td><td  style=\"border-left: 1px solid;border-right: 1px solid;border-top: 1px solid;border-bottom: 1px solid;text-align:left;width:100px;\">1870</td></tr><tr><td  style=\"background-color:hsla(225, 80%, 94%, 1);border-left: 1px solid;border-right: 1px solid;border-top: 1px solid;border-bottom: 1px solid;text-align:left;width:100px;\"><b>date_created_latest</b></td><td  style=\"border-left: 1px solid;border-right: 1px solid;border-top: 1px solid;border-bottom: 1px solid;text-align:left;width:100px;\">1880</td></tr></table>"
      ],
      "text/plain": [
       "<ipy_table.ipy_table.IpyTable at 0x121030a90>"
      ]
     },
     "execution_count": 70,
     "metadata": {},
     "output_type": "execute_result"
    }
   ],
   "source": [
    "import requests\n",
    "\n",
    "try:\n",
    "    from bs4 import BeautifulSoup\n",
    "except:\n",
    "    !pip install bs4\n",
    "    from bs4 import BeautifulSoup\n",
    "    \n",
    "import re\n",
    "\n",
    "from cromulent.model import factory\n",
    "    \n",
    "from lib import linkedart as la\n",
    "\n",
    "\n",
    "baseURI = \"https://collections.ashmolean.org/collection/\"\n",
    "\n",
    "\n",
    "ash_file = '/Users/tanya/Documents/Code/linkedart/linked-art/data/ashmolean/ash.html'\n",
    "\n",
    "html_text = open(ash_file, 'r').read()\n",
    "soup = BeautifulSoup(html_text, 'html.parser')\n",
    "\n",
    "\n",
    "\n",
    "\n",
    "for artwork in soup.find_all('div',attrs={\"class\":\"list-inner\"}):\n",
    "    \n",
    "    title = artwork.find('h3').string\n",
    "    id = artwork.find('h3').find('a').get('href')\n",
    "    id = id[-6:]\n",
    "    creator = [{\"id\": \"\", \"name\":\"John Ruskin\",\"role\":\"Artist\"}]\n",
    "    accession_number = artwork.find('span').string\n",
    "    accession_number = accession_number.replace(\"Accession no. \", \"\")\n",
    "    image_url = artwork.find(\"img\").get(\"src\")\n",
    "    date_created = artwork.find(\"p\").string\n",
    "    date_created = date_created.replace(\"Date: \",\"\")\n",
    "    \n",
    "    objProp = {\n",
    "        \"classification\":\"\",\n",
    "        \"homepage\":\"https://collections.ashmolean.org/collection/browse-9148/object/\" + id,\n",
    "        \"id\":id,\n",
    "        \"title\":title,\n",
    "        \"creator\":creator,\n",
    "        \"accession_number\":accession_number,\n",
    "        \"image_url\":image_url,\n",
    "        \"date_created\":date_created,\n",
    "        \"current_owner\" : {\"name\":\"Ashmolean Museum\",\n",
    "                                \"location\":\"Oxford, England, UK\",\n",
    "                                \"type\": \"http://vocab.getty.edu/aat/300312281\" ,\n",
    "                                \"type_label\": \"\"}\n",
    "    }\n",
    "    \n",
    "    # look for year in value \n",
    "    years = re.findall('(\\d{4})', date_created)\n",
    "    if len(years) == 1:\n",
    "                        \n",
    "        objProp[\"date_created_earliest\"] = years[0]\n",
    "        objProp[\"date_created_latest\"] = years[0]\n",
    "    elif len(years) == 2:                \n",
    "        objProp[\"date_created_earliest\"] = years[0]\n",
    "        objProp[\"date_created_latest\"] = years[1]\n",
    "    else:\n",
    "        # use Ruskins birth/death years\n",
    "        objProp[\"date_created_earliest\"] = 1819\n",
    "        objProp[\"date_created_latest\"] = 1900\n",
    "    \n",
    "    \n",
    "    object_uri = baseURI + id\n",
    "    \n",
    "    objLA = la.createObjDesc(objProp,la.objTypes,object_uri)\n",
    "    \n",
    "    # write to file \n",
    "    text_file = open(outputdir + objProp[\"id\"] + \".json\", \"wt\")\n",
    "    n = text_file.write(factory.toString(objLA, compact=False))\n",
    "    text_file.close()\n",
    "    \n",
    "dict2table(objProp)"
   ]
  },
  {
   "cell_type": "code",
   "execution_count": 20,
   "id": "98bbb823",
   "metadata": {},
   "outputs": [
    {
     "data": {
      "text/html": [
       "<a target='_new' href='./data/ruskin/output/json/159474.json'>159474.json</a>"
      ],
      "text/plain": [
       "<IPython.core.display.HTML object>"
      ]
     },
     "metadata": {},
     "output_type": "display_data"
    },
    {
     "data": {
      "text/html": [
       "<a target='_new' href='./data/ruskin/output/json/159531.json'>159531.json</a>"
      ],
      "text/plain": [
       "<IPython.core.display.HTML object>"
      ]
     },
     "metadata": {},
     "output_type": "display_data"
    },
    {
     "data": {
      "text/html": [
       "<a target='_new' href='./data/ruskin/output/json/298597.json'>298597.json</a>"
      ],
      "text/plain": [
       "<IPython.core.display.HTML object>"
      ]
     },
     "metadata": {},
     "output_type": "display_data"
    },
    {
     "data": {
      "text/html": [
       "<a target='_new' href='./data/ruskin/output/json/159589.json'>159589.json</a>"
      ],
      "text/plain": [
       "<IPython.core.display.HTML object>"
      ]
     },
     "metadata": {},
     "output_type": "display_data"
    },
    {
     "data": {
      "text/html": [
       "<a target='_new' href='./data/ruskin/output/json/125702.json'>125702.json</a>"
      ],
      "text/plain": [
       "<IPython.core.display.HTML object>"
      ]
     },
     "metadata": {},
     "output_type": "display_data"
    },
    {
     "data": {
      "text/html": [
       "<a target='_new' href='./data/ruskin/output/json/159835.json'>159835.json</a>"
      ],
      "text/plain": [
       "<IPython.core.display.HTML object>"
      ]
     },
     "metadata": {},
     "output_type": "display_data"
    },
    {
     "data": {
      "text/html": [
       "<a target='_new' href='./data/ruskin/output/json/159566.json'>159566.json</a>"
      ],
      "text/plain": [
       "<IPython.core.display.HTML object>"
      ]
     },
     "metadata": {},
     "output_type": "display_data"
    },
    {
     "data": {
      "text/html": [
       "<a target='_new' href='./data/ruskin/output/json/298606.json'>298606.json</a>"
      ],
      "text/plain": [
       "<IPython.core.display.HTML object>"
      ]
     },
     "metadata": {},
     "output_type": "display_data"
    },
    {
     "data": {
      "text/html": [
       "<a target='_new' href='./data/ruskin/output/json/159570.json'>159570.json</a>"
      ],
      "text/plain": [
       "<IPython.core.display.HTML object>"
      ]
     },
     "metadata": {},
     "output_type": "display_data"
    },
    {
     "data": {
      "text/html": [
       "<a target='_new' href='./data/ruskin/output/json/159527.json'>159527.json</a>"
      ],
      "text/plain": [
       "<IPython.core.display.HTML object>"
      ]
     },
     "metadata": {},
     "output_type": "display_data"
    },
    {
     "data": {
      "text/html": [
       "<a target='_new' href='./data/ruskin/output/json/159730.json'>159730.json</a>"
      ],
      "text/plain": [
       "<IPython.core.display.HTML object>"
      ]
     },
     "metadata": {},
     "output_type": "display_data"
    },
    {
     "data": {
      "text/html": [
       "<a target='_new' href='./data/ruskin/output/json/159360.json'>159360.json</a>"
      ],
      "text/plain": [
       "<IPython.core.display.HTML object>"
      ]
     },
     "metadata": {},
     "output_type": "display_data"
    },
    {
     "data": {
      "text/html": [
       "<a target='_new' href='./data/ruskin/output/json/299187.json'>299187.json</a>"
      ],
      "text/plain": [
       "<IPython.core.display.HTML object>"
      ]
     },
     "metadata": {},
     "output_type": "display_data"
    },
    {
     "data": {
      "text/html": [
       "<a target='_new' href='./data/ruskin/output/json/13033.json'>13033.json</a>"
      ],
      "text/plain": [
       "<IPython.core.display.HTML object>"
      ]
     },
     "metadata": {},
     "output_type": "display_data"
    },
    {
     "data": {
      "text/html": [
       "<a target='_new' href='./data/ruskin/output/json/141091.json'>141091.json</a>"
      ],
      "text/plain": [
       "<IPython.core.display.HTML object>"
      ]
     },
     "metadata": {},
     "output_type": "display_data"
    },
    {
     "data": {
      "text/html": [
       "<a target='_new' href='./data/ruskin/output/json/159767.json'>159767.json</a>"
      ],
      "text/plain": [
       "<IPython.core.display.HTML object>"
      ]
     },
     "metadata": {},
     "output_type": "display_data"
    },
    {
     "data": {
      "text/html": [
       "<a target='_new' href='./data/ruskin/output/json/303730.json'>303730.json</a>"
      ],
      "text/plain": [
       "<IPython.core.display.HTML object>"
      ]
     },
     "metadata": {},
     "output_type": "display_data"
    },
    {
     "data": {
      "text/html": [
       "<a target='_new' href='./data/ruskin/output/json/293768.json'>293768.json</a>"
      ],
      "text/plain": [
       "<IPython.core.display.HTML object>"
      ]
     },
     "metadata": {},
     "output_type": "display_data"
    },
    {
     "data": {
      "text/html": [
       "<a target='_new' href='./data/ruskin/output/json/159497.json'>159497.json</a>"
      ],
      "text/plain": [
       "<IPython.core.display.HTML object>"
      ]
     },
     "metadata": {},
     "output_type": "display_data"
    },
    {
     "data": {
      "text/html": [
       "<a target='_new' href='./data/ruskin/output/json/159643.json'>159643.json</a>"
      ],
      "text/plain": [
       "<IPython.core.display.HTML object>"
      ]
     },
     "metadata": {},
     "output_type": "display_data"
    },
    {
     "data": {
      "text/html": [
       "<a target='_new' href='./data/ruskin/output/json/159356.json'>159356.json</a>"
      ],
      "text/plain": [
       "<IPython.core.display.HTML object>"
      ]
     },
     "metadata": {},
     "output_type": "display_data"
    },
    {
     "data": {
      "text/html": [
       "<a target='_new' href='./data/ruskin/output/json/298489.json'>298489.json</a>"
      ],
      "text/plain": [
       "<IPython.core.display.HTML object>"
      ]
     },
     "metadata": {},
     "output_type": "display_data"
    },
    {
     "data": {
      "text/html": [
       "<a target='_new' href='./data/ruskin/output/json/48684.json'>48684.json</a>"
      ],
      "text/plain": [
       "<IPython.core.display.HTML object>"
      ]
     },
     "metadata": {},
     "output_type": "display_data"
    },
    {
     "data": {
      "text/html": [
       "<a target='_new' href='./data/ruskin/output/json/159710.json'>159710.json</a>"
      ],
      "text/plain": [
       "<IPython.core.display.HTML object>"
      ]
     },
     "metadata": {},
     "output_type": "display_data"
    },
    {
     "data": {
      "text/html": [
       "<a target='_new' href='./data/ruskin/output/json/159340.json'>159340.json</a>"
      ],
      "text/plain": [
       "<IPython.core.display.HTML object>"
      ]
     },
     "metadata": {},
     "output_type": "display_data"
    },
    {
     "data": {
      "text/html": [
       "<a target='_new' href='./data/ruskin/output/json/262415.json'>262415.json</a>"
      ],
      "text/plain": [
       "<IPython.core.display.HTML object>"
      ]
     },
     "metadata": {},
     "output_type": "display_data"
    },
    {
     "data": {
      "text/html": [
       "<a target='_new' href='./data/ruskin/output/json/159602.json'>159602.json</a>"
      ],
      "text/plain": [
       "<IPython.core.display.HTML object>"
      ]
     },
     "metadata": {},
     "output_type": "display_data"
    },
    {
     "data": {
      "text/html": [
       "<a target='_new' href='./data/ruskin/output/json/159696.json'>159696.json</a>"
      ],
      "text/plain": [
       "<IPython.core.display.HTML object>"
      ]
     },
     "metadata": {},
     "output_type": "display_data"
    },
    {
     "data": {
      "text/html": [
       "<a target='_new' href='./data/ruskin/output/json/298630.json'>298630.json</a>"
      ],
      "text/plain": [
       "<IPython.core.display.HTML object>"
      ]
     },
     "metadata": {},
     "output_type": "display_data"
    },
    {
     "data": {
      "text/html": [
       "<a target='_new' href='./data/ruskin/output/json/159803.json'>159803.json</a>"
      ],
      "text/plain": [
       "<IPython.core.display.HTML object>"
      ]
     },
     "metadata": {},
     "output_type": "display_data"
    },
    {
     "data": {
      "text/html": [
       "<a target='_new' href='./data/ruskin/output/json/298667.json'>298667.json</a>"
      ],
      "text/plain": [
       "<IPython.core.display.HTML object>"
      ]
     },
     "metadata": {},
     "output_type": "display_data"
    },
    {
     "data": {
      "text/html": [
       "<a target='_new' href='./data/ruskin/output/json/159507.json'>159507.json</a>"
      ],
      "text/plain": [
       "<IPython.core.display.HTML object>"
      ]
     },
     "metadata": {},
     "output_type": "display_data"
    },
    {
     "data": {
      "text/html": [
       "<a target='_new' href='./data/ruskin/output/json/298671.json'>298671.json</a>"
      ],
      "text/plain": [
       "<IPython.core.display.HTML object>"
      ]
     },
     "metadata": {},
     "output_type": "display_data"
    },
    {
     "data": {
      "text/html": [
       "<a target='_new' href='./data/ruskin/output/json/298364.json'>298364.json</a>"
      ],
      "text/plain": [
       "<IPython.core.display.HTML object>"
      ]
     },
     "metadata": {},
     "output_type": "display_data"
    },
    {
     "data": {
      "text/html": [
       "<a target='_new' href='./data/ruskin/output/json/159454.json'>159454.json</a>"
      ],
      "text/plain": [
       "<IPython.core.display.HTML object>"
      ]
     },
     "metadata": {},
     "output_type": "display_data"
    },
    {
     "data": {
      "text/html": [
       "<a target='_new' href='./data/ruskin/output/json/299037.json'>299037.json</a>"
      ],
      "text/plain": [
       "<IPython.core.display.HTML object>"
      ]
     },
     "metadata": {},
     "output_type": "display_data"
    },
    {
     "data": {
      "text/html": [
       "<a target='_new' href='./data/ruskin/output/json/159403.json'>159403.json</a>"
      ],
      "text/plain": [
       "<IPython.core.display.HTML object>"
      ]
     },
     "metadata": {},
     "output_type": "display_data"
    },
    {
     "data": {
      "text/html": [
       "<a target='_new' href='./data/ruskin/output/json/206017.json'>206017.json</a>"
      ],
      "text/plain": [
       "<IPython.core.display.HTML object>"
      ]
     },
     "metadata": {},
     "output_type": "display_data"
    },
    {
     "data": {
      "text/html": [
       "<a target='_new' href='./data/ruskin/output/json/159402.json'>159402.json</a>"
      ],
      "text/plain": [
       "<IPython.core.display.HTML object>"
      ]
     },
     "metadata": {},
     "output_type": "display_data"
    },
    {
     "data": {
      "text/html": [
       "<a target='_new' href='./data/ruskin/output/json/298627.json'>298627.json</a>"
      ],
      "text/plain": [
       "<IPython.core.display.HTML object>"
      ]
     },
     "metadata": {},
     "output_type": "display_data"
    },
    {
     "data": {
      "text/html": [
       "<a target='_new' href='./data/ruskin/output/json/298365.json'>298365.json</a>"
      ],
      "text/plain": [
       "<IPython.core.display.HTML object>"
      ]
     },
     "metadata": {},
     "output_type": "display_data"
    },
    {
     "data": {
      "text/html": [
       "<a target='_new' href='./data/ruskin/output/json/298666.json'>298666.json</a>"
      ],
      "text/plain": [
       "<IPython.core.display.HTML object>"
      ]
     },
     "metadata": {},
     "output_type": "display_data"
    },
    {
     "data": {
      "text/html": [
       "<a target='_new' href='./data/ruskin/output/json/298373.json'>298373.json</a>"
      ],
      "text/plain": [
       "<IPython.core.display.HTML object>"
      ]
     },
     "metadata": {},
     "output_type": "display_data"
    },
    {
     "data": {
      "text/html": [
       "<a target='_new' href='./data/ruskin/output/json/159802.json'>159802.json</a>"
      ],
      "text/plain": [
       "<IPython.core.display.HTML object>"
      ]
     },
     "metadata": {},
     "output_type": "display_data"
    },
    {
     "data": {
      "text/html": [
       "<a target='_new' href='./data/ruskin/output/json/159414.json'>159414.json</a>"
      ],
      "text/plain": [
       "<IPython.core.display.HTML object>"
      ]
     },
     "metadata": {},
     "output_type": "display_data"
    },
    {
     "data": {
      "text/html": [
       "<a target='_new' href='./data/ruskin/output/json/159697.json'>159697.json</a>"
      ],
      "text/plain": [
       "<IPython.core.display.HTML object>"
      ]
     },
     "metadata": {},
     "output_type": "display_data"
    },
    {
     "data": {
      "text/html": [
       "<a target='_new' href='./data/ruskin/output/json/159382.json'>159382.json</a>"
      ],
      "text/plain": [
       "<IPython.core.display.HTML object>"
      ]
     },
     "metadata": {},
     "output_type": "display_data"
    },
    {
     "data": {
      "text/html": [
       "<a target='_new' href='./data/ruskin/output/json/296290.json'>296290.json</a>"
      ],
      "text/plain": [
       "<IPython.core.display.HTML object>"
      ]
     },
     "metadata": {},
     "output_type": "display_data"
    },
    {
     "data": {
      "text/html": [
       "<a target='_new' href='./data/ruskin/output/json/262443.json'>262443.json</a>"
      ],
      "text/plain": [
       "<IPython.core.display.HTML object>"
      ]
     },
     "metadata": {},
     "output_type": "display_data"
    },
    {
     "data": {
      "text/html": [
       "<a target='_new' href='./data/ruskin/output/json/298758.json'>298758.json</a>"
      ],
      "text/plain": [
       "<IPython.core.display.HTML object>"
      ]
     },
     "metadata": {},
     "output_type": "display_data"
    },
    {
     "data": {
      "text/html": [
       "<a target='_new' href='./data/ruskin/output/json/262414.json'>262414.json</a>"
      ],
      "text/plain": [
       "<IPython.core.display.HTML object>"
      ]
     },
     "metadata": {},
     "output_type": "display_data"
    },
    {
     "data": {
      "text/html": [
       "<a target='_new' href='./data/ruskin/output/json/159584.json'>159584.json</a>"
      ],
      "text/plain": [
       "<IPython.core.display.HTML object>"
      ]
     },
     "metadata": {},
     "output_type": "display_data"
    },
    {
     "data": {
      "text/html": [
       "<a target='_new' href='./data/ruskin/output/json/48685.json'>48685.json</a>"
      ],
      "text/plain": [
       "<IPython.core.display.HTML object>"
      ]
     },
     "metadata": {},
     "output_type": "display_data"
    },
    {
     "data": {
      "text/html": [
       "<a target='_new' href='./data/ruskin/output/json/159357.json'>159357.json</a>"
      ],
      "text/plain": [
       "<IPython.core.display.HTML object>"
      ]
     },
     "metadata": {},
     "output_type": "display_data"
    },
    {
     "data": {
      "text/html": [
       "<a target='_new' href='./data/ruskin/output/json/297454.json'>297454.json</a>"
      ],
      "text/plain": [
       "<IPython.core.display.HTML object>"
      ]
     },
     "metadata": {},
     "output_type": "display_data"
    },
    {
     "data": {
      "text/html": [
       "<a target='_new' href='./data/ruskin/output/json/159707.json'>159707.json</a>"
      ],
      "text/plain": [
       "<IPython.core.display.HTML object>"
      ]
     },
     "metadata": {},
     "output_type": "display_data"
    },
    {
     "data": {
      "text/html": [
       "<a target='_new' href='./data/ruskin/output/json/159496.json'>159496.json</a>"
      ],
      "text/plain": [
       "<IPython.core.display.HTML object>"
      ]
     },
     "metadata": {},
     "output_type": "display_data"
    },
    {
     "data": {
      "text/html": [
       "<a target='_new' href='./data/ruskin/output/json/207488.json'>207488.json</a>"
      ],
      "text/plain": [
       "<IPython.core.display.HTML object>"
      ]
     },
     "metadata": {},
     "output_type": "display_data"
    },
    {
     "data": {
      "text/html": [
       "<a target='_new' href='./data/ruskin/output/json/299485.json'>299485.json</a>"
      ],
      "text/plain": [
       "<IPython.core.display.HTML object>"
      ]
     },
     "metadata": {},
     "output_type": "display_data"
    },
    {
     "data": {
      "text/html": [
       "<a target='_new' href='./data/ruskin/output/json/159361.json'>159361.json</a>"
      ],
      "text/plain": [
       "<IPython.core.display.HTML object>"
      ]
     },
     "metadata": {},
     "output_type": "display_data"
    },
    {
     "data": {
      "text/html": [
       "<a target='_new' href='./data/ruskin/output/json/299186.json'>299186.json</a>"
      ],
      "text/plain": [
       "<IPython.core.display.HTML object>"
      ]
     },
     "metadata": {},
     "output_type": "display_data"
    },
    {
     "data": {
      "text/html": [
       "<a target='_new' href='./data/ruskin/output/json/13032.json'>13032.json</a>"
      ],
      "text/plain": [
       "<IPython.core.display.HTML object>"
      ]
     },
     "metadata": {},
     "output_type": "display_data"
    },
    {
     "data": {
      "text/html": [
       "<a target='_new' href='./data/ruskin/output/json/296967.json'>296967.json</a>"
      ],
      "text/plain": [
       "<IPython.core.display.HTML object>"
      ]
     },
     "metadata": {},
     "output_type": "display_data"
    },
    {
     "data": {
      "text/html": [
       "<a target='_new' href='./data/ruskin/output/json/159571.json'>159571.json</a>"
      ],
      "text/plain": [
       "<IPython.core.display.HTML object>"
      ]
     },
     "metadata": {},
     "output_type": "display_data"
    },
    {
     "data": {
      "text/html": [
       "<a target='_new' href='./data/ruskin/output/json/159588.json'>159588.json</a>"
      ],
      "text/plain": [
       "<IPython.core.display.HTML object>"
      ]
     },
     "metadata": {},
     "output_type": "display_data"
    },
    {
     "data": {
      "text/html": [
       "<a target='_new' href='./data/ruskin/output/json/159567.json'>159567.json</a>"
      ],
      "text/plain": [
       "<IPython.core.display.HTML object>"
      ]
     },
     "metadata": {},
     "output_type": "display_data"
    },
    {
     "data": {
      "text/html": [
       "<a target='_new' href='./data/ruskin/output/json/154494.json'>154494.json</a>"
      ],
      "text/plain": [
       "<IPython.core.display.HTML object>"
      ]
     },
     "metadata": {},
     "output_type": "display_data"
    },
    {
     "data": {
      "text/html": [
       "<a target='_new' href='./data/ruskin/output/json/159475.json'>159475.json</a>"
      ],
      "text/plain": [
       "<IPython.core.display.HTML object>"
      ]
     },
     "metadata": {},
     "output_type": "display_data"
    },
    {
     "data": {
      "text/html": [
       "<a target='_new' href='./data/ruskin/output/json/159530.json'>159530.json</a>"
      ],
      "text/plain": [
       "<IPython.core.display.HTML object>"
      ]
     },
     "metadata": {},
     "output_type": "display_data"
    },
    {
     "data": {
      "text/html": [
       "<a target='_new' href='./data/ruskin/output/json/298749.json'>298749.json</a>"
      ],
      "text/plain": [
       "<IPython.core.display.HTML object>"
      ]
     },
     "metadata": {},
     "output_type": "display_data"
    },
    {
     "data": {
      "text/html": [
       "<a target='_new' href='./data/ruskin/output/json/159350.json'>159350.json</a>"
      ],
      "text/plain": [
       "<IPython.core.display.HTML object>"
      ]
     },
     "metadata": {},
     "output_type": "display_data"
    },
    {
     "data": {
      "text/html": [
       "<a target='_new' href='./data/ruskin/output/json/159429.json'>159429.json</a>"
      ],
      "text/plain": [
       "<IPython.core.display.HTML object>"
      ]
     },
     "metadata": {},
     "output_type": "display_data"
    },
    {
     "data": {
      "text/html": [
       "<a target='_new' href='./data/ruskin/output/json/159583.json'>159583.json</a>"
      ],
      "text/plain": [
       "<IPython.core.display.HTML object>"
      ]
     },
     "metadata": {},
     "output_type": "display_data"
    },
    {
     "data": {
      "text/html": [
       "<a target='_new' href='./data/ruskin/output/json/48682.json'>48682.json</a>"
      ],
      "text/plain": [
       "<IPython.core.display.HTML object>"
      ]
     },
     "metadata": {},
     "output_type": "display_data"
    },
    {
     "data": {
      "text/html": [
       "<a target='_new' href='./data/ruskin/output/json/237625.json'>237625.json</a>"
      ],
      "text/plain": [
       "<IPython.core.display.HTML object>"
      ]
     },
     "metadata": {},
     "output_type": "display_data"
    },
    {
     "data": {
      "text/html": [
       "<a target='_new' href='./data/ruskin/output/json/48944.json'>48944.json</a>"
      ],
      "text/plain": [
       "<IPython.core.display.HTML object>"
      ]
     },
     "metadata": {},
     "output_type": "display_data"
    },
    {
     "data": {
      "text/html": [
       "<a target='_new' href='./data/ruskin/output/json/299119.json'>299119.json</a>"
      ],
      "text/plain": [
       "<IPython.core.display.HTML object>"
      ]
     },
     "metadata": {},
     "output_type": "display_data"
    },
    {
     "data": {
      "text/html": [
       "<a target='_new' href='./data/ruskin/output/json/159604.json'>159604.json</a>"
      ],
      "text/plain": [
       "<IPython.core.display.HTML object>"
      ]
     },
     "metadata": {},
     "output_type": "display_data"
    },
    {
     "data": {
      "text/html": [
       "<a target='_new' href='./data/ruskin/output/json/230772.json'>230772.json</a>"
      ],
      "text/plain": [
       "<IPython.core.display.HTML object>"
      ]
     },
     "metadata": {},
     "output_type": "display_data"
    },
    {
     "data": {
      "text/html": [
       "<a target='_new' href='./data/ruskin/output/json/262444.json'>262444.json</a>"
      ],
      "text/plain": [
       "<IPython.core.display.HTML object>"
      ]
     },
     "metadata": {},
     "output_type": "display_data"
    },
    {
     "data": {
      "text/html": [
       "<a target='_new' href='./data/ruskin/output/json/159690.json'>159690.json</a>"
      ],
      "text/plain": [
       "<IPython.core.display.HTML object>"
      ]
     },
     "metadata": {},
     "output_type": "display_data"
    },
    {
     "data": {
      "text/html": [
       "<a target='_new' href='./data/ruskin/output/json/159413.json'>159413.json</a>"
      ],
      "text/plain": [
       "<IPython.core.display.HTML object>"
      ]
     },
     "metadata": {},
     "output_type": "display_data"
    },
    {
     "data": {
      "text/html": [
       "<a target='_new' href='./data/ruskin/output/json/159452.json'>159452.json</a>"
      ],
      "text/plain": [
       "<IPython.core.display.HTML object>"
      ]
     },
     "metadata": {},
     "output_type": "display_data"
    },
    {
     "data": {
      "text/html": [
       "<a target='_new' href='./data/ruskin/output/json/159669.json'>159669.json</a>"
      ],
      "text/plain": [
       "<IPython.core.display.HTML object>"
      ]
     },
     "metadata": {},
     "output_type": "display_data"
    },
    {
     "data": {
      "text/html": [
       "<a target='_new' href='./data/ruskin/output/json/296901.json'>296901.json</a>"
      ],
      "text/plain": [
       "<IPython.core.display.HTML object>"
      ]
     },
     "metadata": {},
     "output_type": "display_data"
    },
    {
     "data": {
      "text/html": [
       "<a target='_new' href='./data/ruskin/output/json/159405.json'>159405.json</a>"
      ],
      "text/plain": [
       "<IPython.core.display.HTML object>"
      ]
     },
     "metadata": {},
     "output_type": "display_data"
    },
    {
     "data": {
      "text/html": [
       "<a target='_new' href='./data/ruskin/output/json/159472.json'>159472.json</a>"
      ],
      "text/plain": [
       "<IPython.core.display.HTML object>"
      ]
     },
     "metadata": {},
     "output_type": "display_data"
    },
    {
     "data": {
      "text/html": [
       "<a target='_new' href='./data/ruskin/output/json/176331.json'>176331.json</a>"
      ],
      "text/plain": [
       "<IPython.core.display.HTML object>"
      ]
     },
     "metadata": {},
     "output_type": "display_data"
    },
    {
     "data": {
      "text/html": [
       "<a target='_new' href='./data/ruskin/output/json/299103.json'>299103.json</a>"
      ],
      "text/plain": [
       "<IPython.core.display.HTML object>"
      ]
     },
     "metadata": {},
     "output_type": "display_data"
    },
    {
     "data": {
      "text/html": [
       "<a target='_new' href='./data/ruskin/output/json/159833.json'>159833.json</a>"
      ],
      "text/plain": [
       "<IPython.core.display.HTML object>"
      ]
     },
     "metadata": {},
     "output_type": "display_data"
    },
    {
     "data": {
      "text/html": [
       "<a target='_new' href='./data/ruskin/output/json/159649.json'>159649.json</a>"
      ],
      "text/plain": [
       "<IPython.core.display.HTML object>"
      ]
     },
     "metadata": {},
     "output_type": "display_data"
    },
    {
     "data": {
      "text/html": [
       "<a target='_new' href='./data/ruskin/output/json/262409.json'>262409.json</a>"
      ],
      "text/plain": [
       "<IPython.core.display.HTML object>"
      ]
     },
     "metadata": {},
     "output_type": "display_data"
    },
    {
     "data": {
      "text/html": [
       "<a target='_new' href='./data/ruskin/output/json/159599.json'>159599.json</a>"
      ],
      "text/plain": [
       "<IPython.core.display.HTML object>"
      ]
     },
     "metadata": {},
     "output_type": "display_data"
    },
    {
     "data": {
      "text/html": [
       "<a target='_new' href='./data/ruskin/output/json/159576.json'>159576.json</a>"
      ],
      "text/plain": [
       "<IPython.core.display.HTML object>"
      ]
     },
     "metadata": {},
     "output_type": "display_data"
    },
    {
     "data": {
      "text/html": [
       "<a target='_new' href='./data/ruskin/output/json/176327.json'>176327.json</a>"
      ],
      "text/plain": [
       "<IPython.core.display.HTML object>"
      ]
     },
     "metadata": {},
     "output_type": "display_data"
    },
    {
     "data": {
      "text/html": [
       "<a target='_new' href='./data/ruskin/output/json/159809.json'>159809.json</a>"
      ],
      "text/plain": [
       "<IPython.core.display.HTML object>"
      ]
     },
     "metadata": {},
     "output_type": "display_data"
    },
    {
     "data": {
      "text/html": [
       "<a target='_new' href='./data/ruskin/output/json/299181.json'>299181.json</a>"
      ],
      "text/plain": [
       "<IPython.core.display.HTML object>"
      ]
     },
     "metadata": {},
     "output_type": "display_data"
    },
    {
     "data": {
      "text/html": [
       "<a target='_new' href='./data/ruskin/output/json/159366.json'>159366.json</a>"
      ],
      "text/plain": [
       "<IPython.core.display.HTML object>"
      ]
     },
     "metadata": {},
     "output_type": "display_data"
    },
    {
     "data": {
      "text/html": [
       "<a target='_new' href='./data/ruskin/output/json/159673.json'>159673.json</a>"
      ],
      "text/plain": [
       "<IPython.core.display.HTML object>"
      ]
     },
     "metadata": {},
     "output_type": "display_data"
    },
    {
     "data": {
      "text/html": [
       "<a target='_new' href='./data/ruskin/output/json/141097.json'>141097.json</a>"
      ],
      "text/plain": [
       "<IPython.core.display.HTML object>"
      ]
     },
     "metadata": {},
     "output_type": "display_data"
    },
    {
     "data": {
      "text/html": [
       "<a target='_new' href='./data/ruskin/output/json/159409.json'>159409.json</a>"
      ],
      "text/plain": [
       "<IPython.core.display.HTML object>"
      ]
     },
     "metadata": {},
     "output_type": "display_data"
    },
    {
     "data": {
      "text/html": [
       "<a target='_new' href='./data/ruskin/output/json/299178.json'>299178.json</a>"
      ],
      "text/plain": [
       "<IPython.core.display.HTML object>"
      ]
     },
     "metadata": {},
     "output_type": "display_data"
    },
    {
     "data": {
      "text/html": [
       "<a target='_new' href='./data/ruskin/output/json/262999.json'>262999.json</a>"
      ],
      "text/plain": [
       "<IPython.core.display.HTML object>"
      ]
     },
     "metadata": {},
     "output_type": "display_data"
    },
    {
     "data": {
      "text/html": [
       "<a target='_new' href='./data/ruskin/output/json/159371.json'>159371.json</a>"
      ],
      "text/plain": [
       "<IPython.core.display.HTML object>"
      ]
     },
     "metadata": {},
     "output_type": "display_data"
    },
    {
     "data": {
      "text/html": [
       "<a target='_new' href='./data/ruskin/output/json/299179.json'>299179.json</a>"
      ],
      "text/plain": [
       "<IPython.core.display.HTML object>"
      ]
     },
     "metadata": {},
     "output_type": "display_data"
    },
    {
     "data": {
      "text/html": [
       "<a target='_new' href='./data/ruskin/output/json/159408.json'>159408.json</a>"
      ],
      "text/plain": [
       "<IPython.core.display.HTML object>"
      ]
     },
     "metadata": {},
     "output_type": "display_data"
    },
    {
     "data": {
      "text/html": [
       "<a target='_new' href='./data/ruskin/output/json/159799.json'>159799.json</a>"
      ],
      "text/plain": [
       "<IPython.core.display.HTML object>"
      ]
     },
     "metadata": {},
     "output_type": "display_data"
    },
    {
     "data": {
      "text/html": [
       "<a target='_new' href='./data/ruskin/output/json/70367.json'>70367.json</a>"
      ],
      "text/plain": [
       "<IPython.core.display.HTML object>"
      ]
     },
     "metadata": {},
     "output_type": "display_data"
    },
    {
     "data": {
      "text/html": [
       "<a target='_new' href='./data/ruskin/output/json/159760.json'>159760.json</a>"
      ],
      "text/plain": [
       "<IPython.core.display.HTML object>"
      ]
     },
     "metadata": {},
     "output_type": "display_data"
    },
    {
     "data": {
      "text/html": [
       "<a target='_new' href='./data/ruskin/output/json/299092.json'>299092.json</a>"
      ],
      "text/plain": [
       "<IPython.core.display.HTML object>"
      ]
     },
     "metadata": {},
     "output_type": "display_data"
    },
    {
     "data": {
      "text/html": [
       "<a target='_new' href='./data/ruskin/output/json/141096.json'>141096.json</a>"
      ],
      "text/plain": [
       "<IPython.core.display.HTML object>"
      ]
     },
     "metadata": {},
     "output_type": "display_data"
    },
    {
     "data": {
      "text/html": [
       "<a target='_new' href='./data/ruskin/output/json/263018.json'>263018.json</a>"
      ],
      "text/plain": [
       "<IPython.core.display.HTML object>"
      ]
     },
     "metadata": {},
     "output_type": "display_data"
    },
    {
     "data": {
      "text/html": [
       "<a target='_new' href='./data/ruskin/output/json/299704.json'>299704.json</a>"
      ],
      "text/plain": [
       "<IPython.core.display.HTML object>"
      ]
     },
     "metadata": {},
     "output_type": "display_data"
    },
    {
     "data": {
      "text/html": [
       "<a target='_new' href='./data/ruskin/output/json/262432.json'>262432.json</a>"
      ],
      "text/plain": [
       "<IPython.core.display.HTML object>"
      ]
     },
     "metadata": {},
     "output_type": "display_data"
    },
    {
     "data": {
      "text/html": [
       "<a target='_new' href='./data/ruskin/output/json/299180.json'>299180.json</a>"
      ],
      "text/plain": [
       "<IPython.core.display.HTML object>"
      ]
     },
     "metadata": {},
     "output_type": "display_data"
    },
    {
     "data": {
      "text/html": [
       "<a target='_new' href='./data/ruskin/output/json/297464.json'>297464.json</a>"
      ],
      "text/plain": [
       "<IPython.core.display.HTML object>"
      ]
     },
     "metadata": {},
     "output_type": "display_data"
    },
    {
     "data": {
      "text/html": [
       "<a target='_new' href='./data/ruskin/output/json/159367.json'>159367.json</a>"
      ],
      "text/plain": [
       "<IPython.core.display.HTML object>"
      ]
     },
     "metadata": {},
     "output_type": "display_data"
    },
    {
     "data": {
      "text/html": [
       "<a target='_new' href='./data/ruskin/output/json/159672.json'>159672.json</a>"
      ],
      "text/plain": [
       "<IPython.core.display.HTML object>"
      ]
     },
     "metadata": {},
     "output_type": "display_data"
    },
    {
     "data": {
      "text/html": [
       "<a target='_new' href='./data/ruskin/output/json/159808.json'>159808.json</a>"
      ],
      "text/plain": [
       "<IPython.core.display.HTML object>"
      ]
     },
     "metadata": {},
     "output_type": "display_data"
    },
    {
     "data": {
      "text/html": [
       "<a target='_new' href='./data/ruskin/output/json/299114.json'>299114.json</a>"
      ],
      "text/plain": [
       "<IPython.core.display.HTML object>"
      ]
     },
     "metadata": {},
     "output_type": "display_data"
    },
    {
     "data": {
      "text/html": [
       "<a target='_new' href='./data/ruskin/output/json/176326.json'>176326.json</a>"
      ],
      "text/plain": [
       "<IPython.core.display.HTML object>"
      ]
     },
     "metadata": {},
     "output_type": "display_data"
    },
    {
     "data": {
      "text/html": [
       "<a target='_new' href='./data/ruskin/output/json/140644.json'>140644.json</a>"
      ],
      "text/plain": [
       "<IPython.core.display.HTML object>"
      ]
     },
     "metadata": {},
     "output_type": "display_data"
    },
    {
     "data": {
      "text/html": [
       "<a target='_new' href='./data/ruskin/output/json/159432.json'>159432.json</a>"
      ],
      "text/plain": [
       "<IPython.core.display.HTML object>"
      ]
     },
     "metadata": {},
     "output_type": "display_data"
    },
    {
     "data": {
      "text/html": [
       "<a target='_new' href='./data/ruskin/output/json/159598.json'>159598.json</a>"
      ],
      "text/plain": [
       "<IPython.core.display.HTML object>"
      ]
     },
     "metadata": {},
     "output_type": "display_data"
    },
    {
     "data": {
      "text/html": [
       "<a target='_new' href='./data/ruskin/output/json/159577.json'>159577.json</a>"
      ],
      "text/plain": [
       "<IPython.core.display.HTML object>"
      ]
     },
     "metadata": {},
     "output_type": "display_data"
    },
    {
     "data": {
      "text/html": [
       "<a target='_new' href='./data/ruskin/output/json/159648.json'>159648.json</a>"
      ],
      "text/plain": [
       "<IPython.core.display.HTML object>"
      ]
     },
     "metadata": {},
     "output_type": "display_data"
    },
    {
     "data": {
      "text/html": [
       "<a target='_new' href='./data/ruskin/output/json/262408.json'>262408.json</a>"
      ],
      "text/plain": [
       "<IPython.core.display.HTML object>"
      ]
     },
     "metadata": {},
     "output_type": "display_data"
    },
    {
     "data": {
      "text/html": [
       "<a target='_new' href='./data/ruskin/output/json/298601.json'>298601.json</a>"
      ],
      "text/plain": [
       "<IPython.core.display.HTML object>"
      ]
     },
     "metadata": {},
     "output_type": "display_data"
    },
    {
     "data": {
      "text/html": [
       "<a target='_new' href='./data/ruskin/output/json/159424.json'>159424.json</a>"
      ],
      "text/plain": [
       "<IPython.core.display.HTML object>"
      ]
     },
     "metadata": {},
     "output_type": "display_data"
    },
    {
     "data": {
      "text/html": [
       "<a target='_new' href='./data/ruskin/output/json/159832.json'>159832.json</a>"
      ],
      "text/plain": [
       "<IPython.core.display.HTML object>"
      ]
     },
     "metadata": {},
     "output_type": "display_data"
    },
    {
     "data": {
      "text/html": [
       "<a target='_new' href='./data/ruskin/output/json/159473.json'>159473.json</a>"
      ],
      "text/plain": [
       "<IPython.core.display.HTML object>"
      ]
     },
     "metadata": {},
     "output_type": "display_data"
    },
    {
     "data": {
      "text/html": [
       "<a target='_new' href='./data/ruskin/output/json/176330.json'>176330.json</a>"
      ],
      "text/plain": [
       "<IPython.core.display.HTML object>"
      ]
     },
     "metadata": {},
     "output_type": "display_data"
    },
    {
     "data": {
      "text/html": [
       "<a target='_new' href='./data/ruskin/output/json/159536.json'>159536.json</a>"
      ],
      "text/plain": [
       "<IPython.core.display.HTML object>"
      ]
     },
     "metadata": {},
     "output_type": "display_data"
    },
    {
     "data": {
      "text/html": [
       "<a target='_new' href='./data/ruskin/output/json/296900.json'>296900.json</a>"
      ],
      "text/plain": [
       "<IPython.core.display.HTML object>"
      ]
     },
     "metadata": {},
     "output_type": "display_data"
    },
    {
     "data": {
      "text/html": [
       "<a target='_new' href='./data/ruskin/output/json/255472.json'>255472.json</a>"
      ],
      "text/plain": [
       "<IPython.core.display.HTML object>"
      ]
     },
     "metadata": {},
     "output_type": "display_data"
    },
    {
     "data": {
      "text/html": [
       "<a target='_new' href='./data/ruskin/output/json/159404.json'>159404.json</a>"
      ],
      "text/plain": [
       "<IPython.core.display.HTML object>"
      ]
     },
     "metadata": {},
     "output_type": "display_data"
    },
    {
     "data": {
      "text/html": [
       "<a target='_new' href='./data/ruskin/output/json/159453.json'>159453.json</a>"
      ],
      "text/plain": [
       "<IPython.core.display.HTML object>"
      ]
     },
     "metadata": {},
     "output_type": "display_data"
    },
    {
     "data": {
      "text/html": [
       "<a target='_new' href='./data/ruskin/output/json/298363.json'>298363.json</a>"
      ],
      "text/plain": [
       "<IPython.core.display.HTML object>"
      ]
     },
     "metadata": {},
     "output_type": "display_data"
    },
    {
     "data": {
      "text/html": [
       "<a target='_new' href='./data/ruskin/output/json/159500.json'>159500.json</a>"
      ],
      "text/plain": [
       "<IPython.core.display.HTML object>"
      ]
     },
     "metadata": {},
     "output_type": "display_data"
    },
    {
     "data": {
      "text/html": [
       "<a target='_new' href='./data/ruskin/output/json/70238.json'>70238.json</a>"
      ],
      "text/plain": [
       "<IPython.core.display.HTML object>"
      ]
     },
     "metadata": {},
     "output_type": "display_data"
    },
    {
     "data": {
      "text/html": [
       "<a target='_new' href='./data/ruskin/output/json/222332.json'>222332.json</a>"
      ],
      "text/plain": [
       "<IPython.core.display.HTML object>"
      ]
     },
     "metadata": {},
     "output_type": "display_data"
    },
    {
     "data": {
      "text/html": [
       "<a target='_new' href='./data/ruskin/output/json/159804.json'>159804.json</a>"
      ],
      "text/plain": [
       "<IPython.core.display.HTML object>"
      ]
     },
     "metadata": {},
     "output_type": "display_data"
    },
    {
     "data": {
      "text/html": [
       "<a target='_new' href='./data/ruskin/output/json/159412.json'>159412.json</a>"
      ],
      "text/plain": [
       "<IPython.core.display.HTML object>"
      ]
     },
     "metadata": {},
     "output_type": "display_data"
    },
    {
     "data": {
      "text/html": [
       "<a target='_new' href='./data/ruskin/output/json/159691.json'>159691.json</a>"
      ],
      "text/plain": [
       "<IPython.core.display.HTML object>"
      ]
     },
     "metadata": {},
     "output_type": "display_data"
    },
    {
     "data": {
      "text/html": [
       "<a target='_new' href='./data/ruskin/output/json/159469.json'>159469.json</a>"
      ],
      "text/plain": [
       "<IPython.core.display.HTML object>"
      ]
     },
     "metadata": {},
     "output_type": "display_data"
    },
    {
     "data": {
      "text/html": [
       "<a target='_new' href='./data/ruskin/output/json/159605.json'>159605.json</a>"
      ],
      "text/plain": [
       "<IPython.core.display.HTML object>"
      ]
     },
     "metadata": {},
     "output_type": "display_data"
    },
    {
     "data": {
      "text/html": [
       "<a target='_new' href='./data/ruskin/output/json/262445.json'>262445.json</a>"
      ],
      "text/plain": [
       "<IPython.core.display.HTML object>"
      ]
     },
     "metadata": {},
     "output_type": "display_data"
    },
    {
     "data": {
      "text/html": [
       "<a target='_new' href='./data/ruskin/output/json/298498.json'>298498.json</a>"
      ],
      "text/plain": [
       "<IPython.core.display.HTML object>"
      ]
     },
     "metadata": {},
     "output_type": "display_data"
    },
    {
     "data": {
      "text/html": [
       "<a target='_new' href='./data/ruskin/output/json/48945.json'>48945.json</a>"
      ],
      "text/plain": [
       "<IPython.core.display.HTML object>"
      ]
     },
     "metadata": {},
     "output_type": "display_data"
    },
    {
     "data": {
      "text/html": [
       "<a target='_new' href='./data/ruskin/output/json/nl-RP-T-1987-19.json'>nl-RP-T-1987-19.json</a>"
      ],
      "text/plain": [
       "<IPython.core.display.HTML object>"
      ]
     },
     "metadata": {},
     "output_type": "display_data"
    },
    {
     "data": {
      "text/html": [
       "<a target='_new' href='./data/ruskin/output/json/159347.json'>159347.json</a>"
      ],
      "text/plain": [
       "<IPython.core.display.HTML object>"
      ]
     },
     "metadata": {},
     "output_type": "display_data"
    },
    {
     "data": {
      "text/html": [
       "<a target='_new' href='./data/ruskin/output/json/159582.json'>159582.json</a>"
      ],
      "text/plain": [
       "<IPython.core.display.HTML object>"
      ]
     },
     "metadata": {},
     "output_type": "display_data"
    },
    {
     "data": {
      "text/html": [
       "<a target='_new' href='./data/ruskin/output/json/48683.json'>48683.json</a>"
      ],
      "text/plain": [
       "<IPython.core.display.HTML object>"
      ]
     },
     "metadata": {},
     "output_type": "display_data"
    },
    {
     "data": {
      "text/html": [
       "<a target='_new' href='./data/ruskin/output/json/159644.json'>159644.json</a>"
      ],
      "text/plain": [
       "<IPython.core.display.HTML object>"
      ]
     },
     "metadata": {},
     "output_type": "display_data"
    },
    {
     "data": {
      "text/html": [
       "<a target='_new' href='./data/ruskin/output/json/159351.json'>159351.json</a>"
      ],
      "text/plain": [
       "<IPython.core.display.HTML object>"
      ]
     },
     "metadata": {},
     "output_type": "display_data"
    },
    {
     "data": {
      "text/html": [
       "<a target='_new' href='./data/ruskin/output/json/159701.json'>159701.json</a>"
      ],
      "text/plain": [
       "<IPython.core.display.HTML object>"
      ]
     },
     "metadata": {},
     "output_type": "display_data"
    },
    {
     "data": {
      "text/html": [
       "<a target='_new' href='./data/ruskin/output/json/298820.json'>298820.json</a>"
      ],
      "text/plain": [
       "<IPython.core.display.HTML object>"
      ]
     },
     "metadata": {},
     "output_type": "display_data"
    },
    {
     "data": {
      "text/html": [
       "<a target='_new' href='./data/ruskin/output/json/159756.json'>159756.json</a>"
      ],
      "text/plain": [
       "<IPython.core.display.HTML object>"
      ]
     },
     "metadata": {},
     "output_type": "display_data"
    },
    {
     "data": {
      "text/html": [
       "<a target='_new' href='./data/ruskin/output/json/159407.json'>159407.json</a>"
      ],
      "text/plain": [
       "<IPython.core.display.HTML object>"
      ]
     },
     "metadata": {},
     "output_type": "display_data"
    },
    {
     "data": {
      "text/html": [
       "<a target='_new' href='./data/ruskin/output/json/299176.json'>299176.json</a>"
      ],
      "text/plain": [
       "<IPython.core.display.HTML object>"
      ]
     },
     "metadata": {},
     "output_type": "display_data"
    },
    {
     "data": {
      "text/html": [
       "<a target='_new' href='./data/ruskin/output/json/298767.json'>298767.json</a>"
      ],
      "text/plain": [
       "<IPython.core.display.HTML object>"
      ]
     },
     "metadata": {},
     "output_type": "display_data"
    },
    {
     "data": {
      "text/html": [
       "<a target='_new' href='./data/ruskin/output/json/298819.json'>298819.json</a>"
      ],
      "text/plain": [
       "<IPython.core.display.HTML object>"
      ]
     },
     "metadata": {},
     "output_type": "display_data"
    },
    {
     "data": {
      "text/html": [
       "<a target='_new' href='./data/ruskin/output/json/159503.json'>159503.json</a>"
      ],
      "text/plain": [
       "<IPython.core.display.HTML object>"
      ]
     },
     "metadata": {},
     "output_type": "display_data"
    },
    {
     "data": {
      "text/html": [
       "<a target='_new' href='./data/ruskin/output/json/263017.json'>263017.json</a>"
      ],
      "text/plain": [
       "<IPython.core.display.HTML object>"
      ]
     },
     "metadata": {},
     "output_type": "display_data"
    },
    {
     "data": {
      "text/html": [
       "<a target='_new' href='./data/ruskin/output/json/159411.json'>159411.json</a>"
      ],
      "text/plain": [
       "<IPython.core.display.HTML object>"
      ]
     },
     "metadata": {},
     "output_type": "display_data"
    },
    {
     "data": {
      "text/html": [
       "<a target='_new' href='./data/ruskin/output/json/159554.json'>159554.json</a>"
      ],
      "text/plain": [
       "<IPython.core.display.HTML object>"
      ]
     },
     "metadata": {},
     "output_type": "display_data"
    },
    {
     "data": {
      "text/html": [
       "<a target='_new' href='./data/ruskin/output/json/159807.json'>159807.json</a>"
      ],
      "text/plain": [
       "<IPython.core.display.HTML object>"
      ]
     },
     "metadata": {},
     "output_type": "display_data"
    },
    {
     "data": {
      "text/html": [
       "<a target='_new' href='./data/ruskin/output/json/298634.json'>298634.json</a>"
      ],
      "text/plain": [
       "<IPython.core.display.HTML object>"
      ]
     },
     "metadata": {},
     "output_type": "display_data"
    },
    {
     "data": {
      "text/html": [
       "<a target='_new' href='./data/ruskin/output/json/159368.json'>159368.json</a>"
      ],
      "text/plain": [
       "<IPython.core.display.HTML object>"
      ]
     },
     "metadata": {},
     "output_type": "display_data"
    },
    {
     "data": {
      "text/html": [
       "<a target='_new' href='./data/ruskin/output/json/159692.json'>159692.json</a>"
      ],
      "text/plain": [
       "<IPython.core.display.HTML object>"
      ]
     },
     "metadata": {},
     "output_type": "display_data"
    },
    {
     "data": {
      "text/html": [
       "<a target='_new' href='./data/ruskin/output/json/176329.json'>176329.json</a>"
      ],
      "text/plain": [
       "<IPython.core.display.HTML object>"
      ]
     },
     "metadata": {},
     "output_type": "display_data"
    },
    {
     "data": {
      "text/html": [
       "<a target='_new' href='./data/ruskin/output/json/76140.json'>76140.json</a>"
      ],
      "text/plain": [
       "<IPython.core.display.HTML object>"
      ]
     },
     "metadata": {},
     "output_type": "display_data"
    },
    {
     "data": {
      "text/html": [
       "<a target='_new' href='./data/ruskin/output/json/159606.json'>159606.json</a>"
      ],
      "text/plain": [
       "<IPython.core.display.HTML object>"
      ]
     },
     "metadata": {},
     "output_type": "display_data"
    },
    {
     "data": {
      "text/html": [
       "<a target='_new' href='./data/ruskin/output/json/159578.json'>159578.json</a>"
      ],
      "text/plain": [
       "<IPython.core.display.HTML object>"
      ]
     },
     "metadata": {},
     "output_type": "display_data"
    },
    {
     "data": {
      "text/html": [
       "<a target='_new' href='./data/ruskin/output/json/159597.json'>159597.json</a>"
      ],
      "text/plain": [
       "<IPython.core.display.HTML object>"
      ]
     },
     "metadata": {},
     "output_type": "display_data"
    },
    {
     "data": {
      "text/html": [
       "<a target='_new' href='./data/ruskin/output/json/159714.json'>159714.json</a>"
      ],
      "text/plain": [
       "<IPython.core.display.HTML object>"
      ]
     },
     "metadata": {},
     "output_type": "display_data"
    },
    {
     "data": {
      "text/html": [
       "<a target='_new' href='./data/ruskin/output/json/159352.json'>159352.json</a>"
      ],
      "text/plain": [
       "<IPython.core.display.HTML object>"
      ]
     },
     "metadata": {},
     "output_type": "display_data"
    },
    {
     "data": {
      "text/html": [
       "<a target='_new' href='./data/ruskin/output/json/159702.json'>159702.json</a>"
      ],
      "text/plain": [
       "<IPython.core.display.HTML object>"
      ]
     },
     "metadata": {},
     "output_type": "display_data"
    },
    {
     "data": {
      "text/html": [
       "<a target='_new' href='./data/ruskin/output/json/159647.json'>159647.json</a>"
      ],
      "text/plain": [
       "<IPython.core.display.HTML object>"
      ]
     },
     "metadata": {},
     "output_type": "display_data"
    },
    {
     "data": {
      "text/html": [
       "<a target='_new' href='./data/ruskin/output/json/159539.json'>159539.json</a>"
      ],
      "text/plain": [
       "<IPython.core.display.HTML object>"
      ]
     },
     "metadata": {},
     "output_type": "display_data"
    },
    {
     "data": {
      "text/html": [
       "<a target='_new' href='./data/ruskin/output/json/159755.json'>159755.json</a>"
      ],
      "text/plain": [
       "<IPython.core.display.HTML object>"
      ]
     },
     "metadata": {},
     "output_type": "display_data"
    },
    {
     "data": {
      "text/html": [
       "<a target='_new' href='./data/ruskin/output/json/297164.json'>297164.json</a>"
      ],
      "text/plain": [
       "<IPython.core.display.HTML object>"
      ]
     },
     "metadata": {},
     "output_type": "display_data"
    },
    {
     "data": {
      "text/html": [
       "<a target='_new' href='./data/ruskin/output/json/121155.json'>121155.json</a>"
      ],
      "text/plain": [
       "<IPython.core.display.HTML object>"
      ]
     },
     "metadata": {},
     "output_type": "display_data"
    },
    {
     "data": {
      "text/html": [
       "<a target='_new' href='./data/ruskin/output/json/262489.json'>262489.json</a>"
      ],
      "text/plain": [
       "<IPython.core.display.HTML object>"
      ]
     },
     "metadata": {},
     "output_type": "display_data"
    },
    {
     "data": {
      "text/html": [
       "<a target='_new' href='./data/ruskin/output/json/298815.json'>298815.json</a>"
      ],
      "text/plain": [
       "<IPython.core.display.HTML object>"
      ]
     },
     "metadata": {},
     "output_type": "display_data"
    },
    {
     "data": {
      "text/html": [
       "<a target='_new' href='./data/ruskin/output/json/141095.json'>141095.json</a>"
      ],
      "text/plain": [
       "<IPython.core.display.HTML object>"
      ]
     },
     "metadata": {},
     "output_type": "display_data"
    },
    {
     "data": {
      "text/html": [
       "<a target='_new' href='./data/ruskin/output/json/159671.json'>159671.json</a>"
      ],
      "text/plain": [
       "<IPython.core.display.HTML object>"
      ]
     },
     "metadata": {},
     "output_type": "display_data"
    },
    {
     "data": {
      "text/html": [
       "<a target='_new' href='./data/ruskin/output/json/159364.json'>159364.json</a>"
      ],
      "text/plain": [
       "<IPython.core.display.HTML object>"
      ]
     },
     "metadata": {},
     "output_type": "display_data"
    },
    {
     "data": {
      "text/html": [
       "<a target='_new' href='./data/ruskin/output/json/176325.json'>176325.json</a>"
      ],
      "text/plain": [
       "<IPython.core.display.HTML object>"
      ]
     },
     "metadata": {},
     "output_type": "display_data"
    },
    {
     "data": {
      "text/html": [
       "<a target='_new' href='./data/ruskin/output/json/159348.json'>159348.json</a>"
      ],
      "text/plain": [
       "<IPython.core.display.HTML object>"
      ]
     },
     "metadata": {},
     "output_type": "display_data"
    },
    {
     "data": {
      "text/html": [
       "<a target='_new' href='./data/ruskin/output/json/159718.json'>159718.json</a>"
      ],
      "text/plain": [
       "<IPython.core.display.HTML object>"
      ]
     },
     "metadata": {},
     "output_type": "display_data"
    },
    {
     "data": {
      "text/html": [
       "<a target='_new' href='./data/ruskin/output/json/298751.json'>298751.json</a>"
      ],
      "text/plain": [
       "<IPython.core.display.HTML object>"
      ]
     },
     "metadata": {},
     "output_type": "display_data"
    },
    {
     "data": {
      "text/html": [
       "<a target='_new' href='./data/ruskin/output/json/159427.json'>159427.json</a>"
      ],
      "text/plain": [
       "<IPython.core.display.HTML object>"
      ]
     },
     "metadata": {},
     "output_type": "display_data"
    },
    {
     "data": {
      "text/html": [
       "<a target='_new' href='./data/ruskin/output/json/159470.json'>159470.json</a>"
      ],
      "text/plain": [
       "<IPython.core.display.HTML object>"
      ]
     },
     "metadata": {},
     "output_type": "display_data"
    },
    {
     "data": {
      "text/html": [
       "<a target='_new' href='./data/ruskin/output/json/159534.json'>159534.json</a>"
      ],
      "text/plain": [
       "<IPython.core.display.HTML object>"
      ]
     },
     "metadata": {},
     "output_type": "display_data"
    },
    {
     "data": {
      "text/html": [
       "<a target='_new' href='./data/ruskin/output/json/176332.json'>176332.json</a>"
      ],
      "text/plain": [
       "<IPython.core.display.HTML object>"
      ]
     },
     "metadata": {},
     "output_type": "display_data"
    },
    {
     "data": {
      "text/html": [
       "<a target='_new' href='./data/ruskin/output/json/159471.json'>159471.json</a>"
      ],
      "text/plain": [
       "<IPython.core.display.HTML object>"
      ]
     },
     "metadata": {},
     "output_type": "display_data"
    },
    {
     "data": {
      "text/html": [
       "<a target='_new' href='./data/ruskin/output/json/59248.json'>59248.json</a>"
      ],
      "text/plain": [
       "<IPython.core.display.HTML object>"
      ]
     },
     "metadata": {},
     "output_type": "display_data"
    },
    {
     "data": {
      "text/html": [
       "<a target='_new' href='./data/ruskin/output/json/159430.json'>159430.json</a>"
      ],
      "text/plain": [
       "<IPython.core.display.HTML object>"
      ]
     },
     "metadata": {},
     "output_type": "display_data"
    },
    {
     "data": {
      "text/html": [
       "<a target='_new' href='./data/ruskin/output/json/159349.json'>159349.json</a>"
      ],
      "text/plain": [
       "<IPython.core.display.HTML object>"
      ]
     },
     "metadata": {},
     "output_type": "display_data"
    },
    {
     "data": {
      "text/html": [
       "<a target='_new' href='./data/ruskin/output/json/176324.json'>176324.json</a>"
      ],
      "text/plain": [
       "<IPython.core.display.HTML object>"
      ]
     },
     "metadata": {},
     "output_type": "display_data"
    },
    {
     "data": {
      "text/html": [
       "<a target='_new' href='./data/ruskin/output/json/159670.json'>159670.json</a>"
      ],
      "text/plain": [
       "<IPython.core.display.HTML object>"
      ]
     },
     "metadata": {},
     "output_type": "display_data"
    },
    {
     "data": {
      "text/html": [
       "<a target='_new' href='./data/ruskin/output/json/159365.json'>159365.json</a>"
      ],
      "text/plain": [
       "<IPython.core.display.HTML object>"
      ]
     },
     "metadata": {},
     "output_type": "display_data"
    },
    {
     "data": {
      "text/html": [
       "<a target='_new' href='./data/ruskin/output/json/160008.json'>160008.json</a>"
      ],
      "text/plain": [
       "<IPython.core.display.HTML object>"
      ]
     },
     "metadata": {},
     "output_type": "display_data"
    },
    {
     "data": {
      "text/html": [
       "<a target='_new' href='./data/ruskin/output/json/298814.json'>298814.json</a>"
      ],
      "text/plain": [
       "<IPython.core.display.HTML object>"
      ]
     },
     "metadata": {},
     "output_type": "display_data"
    },
    {
     "data": {
      "text/html": [
       "<a target='_new' href='./data/ruskin/output/json/141094.json'>141094.json</a>"
      ],
      "text/plain": [
       "<IPython.core.display.HTML object>"
      ]
     },
     "metadata": {},
     "output_type": "display_data"
    },
    {
     "data": {
      "text/html": [
       "<a target='_new' href='./data/ruskin/output/json/159518.json'>159518.json</a>"
      ],
      "text/plain": [
       "<IPython.core.display.HTML object>"
      ]
     },
     "metadata": {},
     "output_type": "display_data"
    },
    {
     "data": {
      "text/html": [
       "<a target='_new' href='./data/ruskin/output/json/159754.json'>159754.json</a>"
      ],
      "text/plain": [
       "<IPython.core.display.HTML object>"
      ]
     },
     "metadata": {},
     "output_type": "display_data"
    },
    {
     "data": {
      "text/html": [
       "<a target='_new' href='./data/ruskin/output/json/159611.json'>159611.json</a>"
      ],
      "text/plain": [
       "<IPython.core.display.HTML object>"
      ]
     },
     "metadata": {},
     "output_type": "display_data"
    },
    {
     "data": {
      "text/html": [
       "<a target='_new' href='./data/ruskin/output/json/122975.json'>122975.json</a>"
      ],
      "text/plain": [
       "<IPython.core.display.HTML object>"
      ]
     },
     "metadata": {},
     "output_type": "display_data"
    },
    {
     "data": {
      "text/html": [
       "<a target='_new' href='./data/ruskin/output/json/159538.json'>159538.json</a>"
      ],
      "text/plain": [
       "<IPython.core.display.HTML object>"
      ]
     },
     "metadata": {},
     "output_type": "display_data"
    },
    {
     "data": {
      "text/html": [
       "<a target='_new' href='./data/ruskin/output/json/159353.json'>159353.json</a>"
      ],
      "text/plain": [
       "<IPython.core.display.HTML object>"
      ]
     },
     "metadata": {},
     "output_type": "display_data"
    },
    {
     "data": {
      "text/html": [
       "<a target='_new' href='./data/ruskin/output/json/297450.json'>297450.json</a>"
      ],
      "text/plain": [
       "<IPython.core.display.HTML object>"
      ]
     },
     "metadata": {},
     "output_type": "display_data"
    },
    {
     "data": {
      "text/html": [
       "<a target='_new' href='./data/ruskin/output/json/159646.json'>159646.json</a>"
      ],
      "text/plain": [
       "<IPython.core.display.HTML object>"
      ]
     },
     "metadata": {},
     "output_type": "display_data"
    },
    {
     "data": {
      "text/html": [
       "<a target='_new' href='./data/ruskin/output/json/159580.json'>159580.json</a>"
      ],
      "text/plain": [
       "<IPython.core.display.HTML object>"
      ]
     },
     "metadata": {},
     "output_type": "display_data"
    },
    {
     "data": {
      "text/html": [
       "<a target='_new' href='./data/ruskin/output/json/159715.json'>159715.json</a>"
      ],
      "text/plain": [
       "<IPython.core.display.HTML object>"
      ]
     },
     "metadata": {},
     "output_type": "display_data"
    },
    {
     "data": {
      "text/html": [
       "<a target='_new' href='./data/ruskin/output/json/262410.json'>262410.json</a>"
      ],
      "text/plain": [
       "<IPython.core.display.HTML object>"
      ]
     },
     "metadata": {},
     "output_type": "display_data"
    },
    {
     "data": {
      "text/html": [
       "<a target='_new' href='./data/ruskin/output/json/159650.json'>159650.json</a>"
      ],
      "text/plain": [
       "<IPython.core.display.HTML object>"
      ]
     },
     "metadata": {},
     "output_type": "display_data"
    },
    {
     "data": {
      "text/html": [
       "<a target='_new' href='./data/ruskin/output/json/103910.json'>103910.json</a>"
      ],
      "text/plain": [
       "<IPython.core.display.HTML object>"
      ]
     },
     "metadata": {},
     "output_type": "display_data"
    },
    {
     "data": {
      "text/html": [
       "<a target='_new' href='./data/ruskin/output/json/159596.json'>159596.json</a>"
      ],
      "text/plain": [
       "<IPython.core.display.HTML object>"
      ]
     },
     "metadata": {},
     "output_type": "display_data"
    },
    {
     "data": {
      "text/html": [
       "<a target='_new' href='./data/ruskin/output/json/176328.json'>176328.json</a>"
      ],
      "text/plain": [
       "<IPython.core.display.HTML object>"
      ]
     },
     "metadata": {},
     "output_type": "display_data"
    },
    {
     "data": {
      "text/html": [
       "<a target='_new' href='./data/ruskin/output/json/298635.json'>298635.json</a>"
      ],
      "text/plain": [
       "<IPython.core.display.HTML object>"
      ]
     },
     "metadata": {},
     "output_type": "display_data"
    },
    {
     "data": {
      "text/html": [
       "<a target='_new' href='./data/ruskin/output/json/159693.json'>159693.json</a>"
      ],
      "text/plain": [
       "<IPython.core.display.HTML object>"
      ]
     },
     "metadata": {},
     "output_type": "display_data"
    },
    {
     "data": {
      "text/html": [
       "<a target='_new' href='./data/ruskin/output/json/159410.json'>159410.json</a>"
      ],
      "text/plain": [
       "<IPython.core.display.HTML object>"
      ]
     },
     "metadata": {},
     "output_type": "display_data"
    },
    {
     "data": {
      "text/html": [
       "<a target='_new' href='./data/ruskin/output/json/159806.json'>159806.json</a>"
      ],
      "text/plain": [
       "<IPython.core.display.HTML object>"
      ]
     },
     "metadata": {},
     "output_type": "display_data"
    },
    {
     "data": {
      "text/html": [
       "<a target='_new' href='./data/ruskin/output/json/159781.json'>159781.json</a>"
      ],
      "text/plain": [
       "<IPython.core.display.HTML object>"
      ]
     },
     "metadata": {},
     "output_type": "display_data"
    },
    {
     "data": {
      "text/html": [
       "<a target='_new' href='./data/ruskin/output/json/222326.json'>222326.json</a>"
      ],
      "text/plain": [
       "<IPython.core.display.HTML object>"
      ]
     },
     "metadata": {},
     "output_type": "display_data"
    },
    {
     "data": {
      "text/html": [
       "<a target='_new' href='./data/ruskin/output/json/298674.json'>298674.json</a>"
      ],
      "text/plain": [
       "<IPython.core.display.HTML object>"
      ]
     },
     "metadata": {},
     "output_type": "display_data"
    },
    {
     "data": {
      "text/html": [
       "<a target='_new' href='./data/ruskin/output/json/159451.json'>159451.json</a>"
      ],
      "text/plain": [
       "<IPython.core.display.HTML object>"
      ]
     },
     "metadata": {},
     "output_type": "display_data"
    },
    {
     "data": {
      "text/html": [
       "<a target='_new' href='./data/ruskin/output/json/299177.json'>299177.json</a>"
      ],
      "text/plain": [
       "<IPython.core.display.HTML object>"
      ]
     },
     "metadata": {},
     "output_type": "display_data"
    },
    {
     "data": {
      "text/html": [
       "<a target='_new' href='./data/ruskin/output/json/298766.json'>298766.json</a>"
      ],
      "text/plain": [
       "<IPython.core.display.HTML object>"
      ]
     },
     "metadata": {},
     "output_type": "display_data"
    },
    {
     "data": {
      "text/html": [
       "<a target='_new' href='./data/ruskin/output/json/262979.json'>262979.json</a>"
      ],
      "text/plain": [
       "<IPython.core.display.HTML object>"
      ]
     },
     "metadata": {},
     "output_type": "display_data"
    },
    {
     "data": {
      "text/html": [
       "<a target='_new' href='./data/ruskin/output/json/159406.json'>159406.json</a>"
      ],
      "text/plain": [
       "<IPython.core.display.HTML object>"
      ]
     },
     "metadata": {},
     "output_type": "display_data"
    },
    {
     "data": {
      "text/html": [
       "<a target='_new' href='./data/ruskin/output/json/159810.json'>159810.json</a>"
      ],
      "text/plain": [
       "<IPython.core.display.HTML object>"
      ]
     },
     "metadata": {},
     "output_type": "display_data"
    },
    {
     "data": {
      "text/html": [
       "<a target='_new' href='./data/ruskin/output/json/218791.json'>218791.json</a>"
      ],
      "text/plain": [
       "<IPython.core.display.HTML object>"
      ]
     },
     "metadata": {},
     "output_type": "display_data"
    },
    {
     "data": {
      "text/html": [
       "<a target='_new' href='./data/ruskin/output/json/203077.json'>203077.json</a>"
      ],
      "text/plain": [
       "<IPython.core.display.HTML object>"
      ]
     },
     "metadata": {},
     "output_type": "display_data"
    },
    {
     "data": {
      "text/html": [
       "<a target='_new' href='./data/ruskin/output/json/298628.json'>298628.json</a>"
      ],
      "text/plain": [
       "<IPython.core.display.HTML object>"
      ]
     },
     "metadata": {},
     "output_type": "display_data"
    },
    {
     "data": {
      "text/html": [
       "<a target='_new' href='./data/ruskin/output/json/299039.json'>299039.json</a>"
      ],
      "text/plain": [
       "<IPython.core.display.HTML object>"
      ]
     },
     "metadata": {},
     "output_type": "display_data"
    },
    {
     "data": {
      "text/html": [
       "<a target='_new' href='./data/ruskin/output/json/141093.json'>141093.json</a>"
      ],
      "text/plain": [
       "<IPython.core.display.HTML object>"
      ]
     },
     "metadata": {},
     "output_type": "display_data"
    },
    {
     "data": {
      "text/html": [
       "<a target='_new' href='./data/ruskin/output/json/159509.json'>159509.json</a>"
      ],
      "text/plain": [
       "<IPython.core.display.HTML object>"
      ]
     },
     "metadata": {},
     "output_type": "display_data"
    },
    {
     "data": {
      "text/html": [
       "<a target='_new' href='./data/ruskin/output/json/13031.json'>13031.json</a>"
      ],
      "text/plain": [
       "<IPython.core.display.HTML object>"
      ]
     },
     "metadata": {},
     "output_type": "display_data"
    },
    {
     "data": {
      "text/html": [
       "<a target='_new' href='./data/ruskin/output/json/299185.json'>299185.json</a>"
      ],
      "text/plain": [
       "<IPython.core.display.HTML object>"
      ]
     },
     "metadata": {},
     "output_type": "display_data"
    },
    {
     "data": {
      "text/html": [
       "<a target='_new' href='./data/ruskin/output/json/159362.json'>159362.json</a>"
      ],
      "text/plain": [
       "<IPython.core.display.HTML object>"
      ]
     },
     "metadata": {},
     "output_type": "display_data"
    },
    {
     "data": {
      "text/html": [
       "<a target='_new' href='./data/ruskin/output/json/159572.json'>159572.json</a>"
      ],
      "text/plain": [
       "<IPython.core.display.HTML object>"
      ]
     },
     "metadata": {},
     "output_type": "display_data"
    },
    {
     "data": {
      "text/html": [
       "<a target='_new' href='./data/ruskin/output/json/159533.json'>159533.json</a>"
      ],
      "text/plain": [
       "<IPython.core.display.HTML object>"
      ]
     },
     "metadata": {},
     "output_type": "display_data"
    },
    {
     "data": {
      "text/html": [
       "<a target='_new' href='./data/ruskin/output/json/159499.json'>159499.json</a>"
      ],
      "text/plain": [
       "<IPython.core.display.HTML object>"
      ]
     },
     "metadata": {},
     "output_type": "display_data"
    },
    {
     "data": {
      "text/html": [
       "<a target='_new' href='./data/ruskin/output/json/159476.json'>159476.json</a>"
      ],
      "text/plain": [
       "<IPython.core.display.HTML object>"
      ]
     },
     "metadata": {},
     "output_type": "display_data"
    },
    {
     "data": {
      "text/html": [
       "<a target='_new' href='./data/ruskin/output/json/159401.json'>159401.json</a>"
      ],
      "text/plain": [
       "<IPython.core.display.HTML object>"
      ]
     },
     "metadata": {},
     "output_type": "display_data"
    },
    {
     "data": {
      "text/html": [
       "<a target='_new' href='./data/ruskin/output/json/159505.json'>159505.json</a>"
      ],
      "text/plain": [
       "<IPython.core.display.HTML object>"
      ]
     },
     "metadata": {},
     "output_type": "display_data"
    },
    {
     "data": {
      "text/html": [
       "<a target='_new' href='./data/ruskin/output/json/159769.json'>159769.json</a>"
      ],
      "text/plain": [
       "<IPython.core.display.HTML object>"
      ]
     },
     "metadata": {},
     "output_type": "display_data"
    },
    {
     "data": {
      "text/html": [
       "<a target='_new' href='./data/ruskin/output/json/159417.json'>159417.json</a>"
      ],
      "text/plain": [
       "<IPython.core.display.HTML object>"
      ]
     },
     "metadata": {},
     "output_type": "display_data"
    },
    {
     "data": {
      "text/html": [
       "<a target='_new' href='./data/ruskin/output/json/159801.json'>159801.json</a>"
      ],
      "text/plain": [
       "<IPython.core.display.HTML object>"
      ]
     },
     "metadata": {},
     "output_type": "display_data"
    },
    {
     "data": {
      "text/html": [
       "<a target='_new' href='./data/ruskin/output/json/159694.json'>159694.json</a>"
      ],
      "text/plain": [
       "<IPython.core.display.HTML object>"
      ]
     },
     "metadata": {},
     "output_type": "display_data"
    },
    {
     "data": {
      "text/html": [
       "<a target='_new' href='./data/ruskin/output/json/159529.json'>159529.json</a>"
      ],
      "text/plain": [
       "<IPython.core.display.HTML object>"
      ]
     },
     "metadata": {},
     "output_type": "display_data"
    },
    {
     "data": {
      "text/html": [
       "<a target='_new' href='./data/ruskin/output/json/159600.json'>159600.json</a>"
      ],
      "text/plain": [
       "<IPython.core.display.HTML object>"
      ]
     },
     "metadata": {},
     "output_type": "display_data"
    },
    {
     "data": {
      "text/html": [
       "<a target='_new' href='./data/ruskin/output/json/159591.json'>159591.json</a>"
      ],
      "text/plain": [
       "<IPython.core.display.HTML object>"
      ]
     },
     "metadata": {},
     "output_type": "display_data"
    },
    {
     "data": {
      "text/html": [
       "<a target='_new' href='./data/ruskin/output/json/159712.json'>159712.json</a>"
      ],
      "text/plain": [
       "<IPython.core.display.HTML object>"
      ]
     },
     "metadata": {},
     "output_type": "display_data"
    },
    {
     "data": {
      "text/html": [
       "<a target='_new' href='./data/ruskin/output/json/159568.json'>159568.json</a>"
      ],
      "text/plain": [
       "<IPython.core.display.HTML object>"
      ]
     },
     "metadata": {},
     "output_type": "display_data"
    },
    {
     "data": {
      "text/html": [
       "<a target='_new' href='./data/ruskin/output/json/159354.json'>159354.json</a>"
      ],
      "text/plain": [
       "<IPython.core.display.HTML object>"
      ]
     },
     "metadata": {},
     "output_type": "display_data"
    },
    {
     "data": {
      "text/html": [
       "<a target='_new' href='./data/ruskin/output/json/159753.json'>159753.json</a>"
      ],
      "text/plain": [
       "<IPython.core.display.HTML object>"
      ]
     },
     "metadata": {},
     "output_type": "display_data"
    },
    {
     "data": {
      "text/html": [
       "<a target='_new' href='./data/ruskin/output/json/298598.json'>298598.json</a>"
      ],
      "text/plain": [
       "<IPython.core.display.HTML object>"
      ]
     },
     "metadata": {},
     "output_type": "display_data"
    },
    {
     "data": {
      "text/html": [
       "<a target='_new' href='./data/ruskin/output/json/159355.json'>159355.json</a>"
      ],
      "text/plain": [
       "<IPython.core.display.HTML object>"
      ]
     },
     "metadata": {},
     "output_type": "display_data"
    },
    {
     "data": {
      "text/html": [
       "<a target='_new' href='./data/ruskin/output/json/297456.json'>297456.json</a>"
      ],
      "text/plain": [
       "<IPython.core.display.HTML object>"
      ]
     },
     "metadata": {},
     "output_type": "display_data"
    },
    {
     "data": {
      "text/html": [
       "<a target='_new' href='./data/ruskin/output/json/159705.json'>159705.json</a>"
      ],
      "text/plain": [
       "<IPython.core.display.HTML object>"
      ]
     },
     "metadata": {},
     "output_type": "display_data"
    },
    {
     "data": {
      "text/html": [
       "<a target='_new' href='./data/ruskin/output/json/159569.json'>159569.json</a>"
      ],
      "text/plain": [
       "<IPython.core.display.HTML object>"
      ]
     },
     "metadata": {},
     "output_type": "display_data"
    },
    {
     "data": {
      "text/html": [
       "<a target='_new' href='./data/ruskin/output/json/101252.json'>101252.json</a>"
      ],
      "text/plain": [
       "<IPython.core.display.HTML object>"
      ]
     },
     "metadata": {},
     "output_type": "display_data"
    },
    {
     "data": {
      "text/html": [
       "<a target='_new' href='./data/ruskin/output/json/159590.json'>159590.json</a>"
      ],
      "text/plain": [
       "<IPython.core.display.HTML object>"
      ]
     },
     "metadata": {},
     "output_type": "display_data"
    },
    {
     "data": {
      "text/html": [
       "<a target='_new' href='./data/ruskin/output/json/160096.json'>160096.json</a>"
      ],
      "text/plain": [
       "<IPython.core.display.HTML object>"
      ]
     },
     "metadata": {},
     "output_type": "display_data"
    },
    {
     "data": {
      "text/html": [
       "<a target='_new' href='./data/ruskin/output/json/159601.json'>159601.json</a>"
      ],
      "text/plain": [
       "<IPython.core.display.HTML object>"
      ]
     },
     "metadata": {},
     "output_type": "display_data"
    },
    {
     "data": {
      "text/html": [
       "<a target='_new' href='./data/ruskin/output/json/159528.json'>159528.json</a>"
      ],
      "text/plain": [
       "<IPython.core.display.HTML object>"
      ]
     },
     "metadata": {},
     "output_type": "display_data"
    },
    {
     "data": {
      "text/html": [
       "<a target='_new' href='./data/ruskin/output/json/159695.json'>159695.json</a>"
      ],
      "text/plain": [
       "<IPython.core.display.HTML object>"
      ]
     },
     "metadata": {},
     "output_type": "display_data"
    },
    {
     "data": {
      "text/html": [
       "<a target='_new' href='./data/ruskin/output/json/298633.json'>298633.json</a>"
      ],
      "text/plain": [
       "<IPython.core.display.HTML object>"
      ]
     },
     "metadata": {},
     "output_type": "display_data"
    },
    {
     "data": {
      "text/html": [
       "<a target='_new' href='./data/ruskin/output/json/159416.json'>159416.json</a>"
      ],
      "text/plain": [
       "<IPython.core.display.HTML object>"
      ]
     },
     "metadata": {},
     "output_type": "display_data"
    },
    {
     "data": {
      "text/html": [
       "<a target='_new' href='./data/ruskin/output/json/159800.json'>159800.json</a>"
      ],
      "text/plain": [
       "<IPython.core.display.HTML object>"
      ]
     },
     "metadata": {},
     "output_type": "display_data"
    },
    {
     "data": {
      "text/html": [
       "<a target='_new' href='./data/ruskin/output/json/159768.json'>159768.json</a>"
      ],
      "text/plain": [
       "<IPython.core.display.HTML object>"
      ]
     },
     "metadata": {},
     "output_type": "display_data"
    },
    {
     "data": {
      "text/html": [
       "<a target='_new' href='./data/ruskin/output/json/159841.json'>159841.json</a>"
      ],
      "text/plain": [
       "<IPython.core.display.HTML object>"
      ]
     },
     "metadata": {},
     "output_type": "display_data"
    },
    {
     "data": {
      "text/html": [
       "<a target='_new' href='./data/ruskin/output/json/159532.json'>159532.json</a>"
      ],
      "text/plain": [
       "<IPython.core.display.HTML object>"
      ]
     },
     "metadata": {},
     "output_type": "display_data"
    },
    {
     "data": {
      "text/html": [
       "<a target='_new' href='./data/ruskin/output/json/159477.json'>159477.json</a>"
      ],
      "text/plain": [
       "<IPython.core.display.HTML object>"
      ]
     },
     "metadata": {},
     "output_type": "display_data"
    },
    {
     "data": {
      "text/html": [
       "<a target='_new' href='./data/ruskin/output/json/159565.json'>159565.json</a>"
      ],
      "text/plain": [
       "<IPython.core.display.HTML object>"
      ]
     },
     "metadata": {},
     "output_type": "display_data"
    },
    {
     "data": {
      "text/html": [
       "<a target='_new' href='./data/ruskin/output/json/298605.json'>298605.json</a>"
      ],
      "text/plain": [
       "<IPython.core.display.HTML object>"
      ]
     },
     "metadata": {},
     "output_type": "display_data"
    },
    {
     "data": {
      "text/html": [
       "<a target='_new' href='./data/ruskin/output/json/159676.json'>159676.json</a>"
      ],
      "text/plain": [
       "<IPython.core.display.HTML object>"
      ]
     },
     "metadata": {},
     "output_type": "display_data"
    },
    {
     "data": {
      "text/html": [
       "<a target='_new' href='./data/ruskin/output/json/72870.json'>72870.json</a>"
      ],
      "text/plain": [
       "<IPython.core.display.HTML object>"
      ]
     },
     "metadata": {},
     "output_type": "display_data"
    },
    {
     "data": {
      "text/html": [
       "<a target='_new' href='./data/ruskin/output/json/159363.json'>159363.json</a>"
      ],
      "text/plain": [
       "<IPython.core.display.HTML object>"
      ]
     },
     "metadata": {},
     "output_type": "display_data"
    },
    {
     "data": {
      "text/html": [
       "<a target='_new' href='./data/ruskin/output/json/141092.json'>141092.json</a>"
      ],
      "text/plain": [
       "<IPython.core.display.HTML object>"
      ]
     },
     "metadata": {},
     "output_type": "display_data"
    },
    {
     "data": {
      "text/html": [
       "<a target='_new' href='./data/ruskin/output/json/159508.json'>159508.json</a>"
      ],
      "text/plain": [
       "<IPython.core.display.HTML object>"
      ]
     },
     "metadata": {},
     "output_type": "display_data"
    },
    {
     "data": {
      "text/html": [
       "<a target='_new' href='./data/ruskin/output/json/298668.json'>298668.json</a>"
      ],
      "text/plain": [
       "<IPython.core.display.HTML object>"
      ]
     },
     "metadata": {},
     "output_type": "display_data"
    },
    {
     "data": {
      "text/html": [
       "<a target='_new' href='./data/ruskin/output/json/nl-RP-T-1957-335.json'>nl-RP-T-1957-335.json</a>"
      ],
      "text/plain": [
       "<IPython.core.display.HTML object>"
      ]
     },
     "metadata": {},
     "output_type": "display_data"
    },
    {
     "data": {
      "text/html": [
       "<a target='_new' href='./data/ruskin/output/json/206018.json'>206018.json</a>"
      ],
      "text/plain": [
       "<IPython.core.display.HTML object>"
      ]
     },
     "metadata": {},
     "output_type": "display_data"
    },
    {
     "data": {
      "text/html": [
       "<a target='_new' href='./data/ruskin/output/json/159660.json'>159660.json</a>"
      ],
      "text/plain": [
       "<IPython.core.display.HTML object>"
      ]
     },
     "metadata": {},
     "output_type": "display_data"
    }
   ],
   "source": [
    "file_list=os.listdir(outputdir)\n",
    "   \n",
    "for file in file_list:\n",
    "    display(HTML(\"<a target='_new' href='\" + outputdir + file +\"'>\" + file + \"</a>\"))\n"
   ]
  },
  {
   "cell_type": "code",
   "execution_count": null,
   "id": "0a8b52eb",
   "metadata": {},
   "outputs": [],
   "source": []
  }
 ],
 "metadata": {
  "kernelspec": {
   "display_name": "Python 3",
   "language": "python",
   "name": "python3"
  },
  "language_info": {
   "codemirror_mode": {
    "name": "ipython",
    "version": 3
   },
   "file_extension": ".py",
   "mimetype": "text/x-python",
   "name": "python",
   "nbconvert_exporter": "python",
   "pygments_lexer": "ipython3",
   "version": "3.8.8"
  }
 },
 "nbformat": 4,
 "nbformat_minor": 5
}
