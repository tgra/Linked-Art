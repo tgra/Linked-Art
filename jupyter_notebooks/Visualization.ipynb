{
 "cells": [
  {
   "cell_type": "markdown",
   "id": "dca20744",
   "metadata": {},
   "source": [
    "# Linked Art JSON-LD Data Visualization \n",
    "\n",
    "There are a number of tools available that allow you to visualize Linked Data including Linked Art JSON-LD\n",
    "\n",
    "- Simple Dynamic Modeller\n"
   ]
  },
  {
   "cell_type": "markdown",
   "id": "b6a6992f",
   "metadata": {},
   "source": [
    "## Import what we need"
   ]
  },
  {
   "cell_type": "code",
   "execution_count": 1,
   "id": "e1b1b1ab",
   "metadata": {},
   "outputs": [],
   "source": [
    "import webbrowser"
   ]
  },
  {
   "cell_type": "markdown",
   "id": "646d1409",
   "metadata": {},
   "source": [
    "## Simple Dynamic Modeller\n",
    "\n",
    "https://github.com/jpadfield/dynamic-modelling \n",
    "\n",
    "Developed by J Padfield, Dynamic Modelling is an interactive visualization tool for JSON-LD\n",
    "\n",
    "A live implementation is available at https://research.ng-london.org.uk/modelling/\n",
    "    \n",
    "\n",
    "The website accepts a `url` parameter.\n",
    "\n",
    "e.g. https://research.ng-london.org.uk/modelling/?url=https://raw.githubusercontent.com/tgra/Linked-Art/main/jupyter_notebooks/data/core_properties.json \n",
    "    \n",
    "The `url` parameter points to a JSON-LD file that can be viewed in the `Simple Dynamic Modeller` tool."
   ]
  },
  {
   "cell_type": "markdown",
   "id": "fdc03474",
   "metadata": {},
   "source": [
    "### Try the Simple Dynamic Modeller with another Linked Art JSON-LD file\n",
    "\n",
    "Enter a URL to a JSON-LD file to view in the Simple Dynamic Modeller:\n",
    "\n",
    "Examples: \n",
    "\n",
    "- https://raw.githubusercontent.com/linked-art/showcase1/master/data/met/262098.json\n",
    "\n",
    "- https://raw.githubusercontent.com/linked-art/showcase1/master/data/ycba/YCBA_OKeeffe-OwnedWork.json"
   ]
  },
  {
   "cell_type": "code",
   "execution_count": null,
   "id": "b7b1f079",
   "metadata": {},
   "outputs": [],
   "source": [
    "url = input()"
   ]
  },
  {
   "cell_type": "code",
   "execution_count": null,
   "id": "bb193585",
   "metadata": {},
   "outputs": [],
   "source": [
    "# generate an URL\n",
    "dynamic_modeller = 'https://research.ng-london.org.uk/modelling/?url=' + url\n",
    "webbrowser.open(dynamic_modeller)"
   ]
  },
  {
   "cell_type": "markdown",
   "id": "6ef9df42",
   "metadata": {},
   "source": [
    "## JSON-LD Playground\n",
    "\n",
    "https://json-ld.org/playground/\n",
    "    \n",
    "The JSON-LD Playground allows you to visualize a JSON-LD document. Enter a document URL or paste JSON-LD into the input field.\n",
    "\n",
    "The JSON-LD Playground uses the jsonld.js available at https://github.com/digitalbazaar/jsonld.js. "
   ]
  },
  {
   "cell_type": "markdown",
   "id": "08e9b170",
   "metadata": {},
   "source": [
    "## jsonld-vis\n",
    "\n",
    "https://github.com/science-periodicals/jsonld-vis\n",
    "    \n",
    "    "
   ]
  },
  {
   "cell_type": "code",
   "execution_count": null,
   "id": "ee2915d9",
   "metadata": {},
   "outputs": [],
   "source": []
  }
 ],
 "metadata": {
  "kernelspec": {
   "display_name": "Python 3",
   "language": "python",
   "name": "python3"
  },
  "language_info": {
   "codemirror_mode": {
    "name": "ipython",
    "version": 3
   },
   "file_extension": ".py",
   "mimetype": "text/x-python",
   "name": "python",
   "nbconvert_exporter": "python",
   "pygments_lexer": "ipython3",
   "version": "3.8.8"
  }
 },
 "nbformat": 4,
 "nbformat_minor": 5
}
