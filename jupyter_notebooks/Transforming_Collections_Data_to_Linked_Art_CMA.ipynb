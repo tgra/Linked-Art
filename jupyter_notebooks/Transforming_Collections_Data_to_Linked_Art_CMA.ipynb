{
 "cells": [
  {
   "cell_type": "markdown",
   "id": "11e94730",
   "metadata": {},
   "source": [
    "#  Transforming Collections Data to Linked Art \n",
    "## Cleveland Museum of Art"
   ]
  },
  {
   "cell_type": "markdown",
   "id": "785212c2",
   "metadata": {},
   "source": [
    "## Introduction\n",
    "\n",
    "[Linked Art](https://linked.art) is a community working together to create a shared Model based on Linked Open Data to describe Art. A number of exemplars will be published to demonstrate the processes involved in producing Linked Art JSON-LD, and also the potential applications of Linked Art, on the theme of:\n",
    "- `Transformation` - Documented transformation process - using code, documentation and possibly visualisation\n",
    "- `Reconciliation` - Documented reconciliation process - matching data with an external identifier source\n",
    "- `Visualisation` - Documented transformation of Linked Art JSON-LD to data visualisation\n",
    "\n",
    "This exemplar is concerned with `Transformation` - the transformation process, from collections data to Linked Art JSON-LD."
   ]
  },
  {
   "cell_type": "markdown",
   "id": "c0e616a9",
   "metadata": {},
   "source": [
    "## Aim of the Notebook\n",
    "The aim of the notebook is to demonstrate how easy it is to transform collections data to Linked Art JSON-LD.\n",
    "## How\n",
    "The notebook provides a documented, interactive code example of the transformation process, from collections data to Linked Art using data from the Cleveland Museum of Art (CMA). \n",
    "\n",
    "## Input Data\n",
    "The input data file is from https://github.com/ClevelandMuseumArt/openaccess\n",
    "\n",
    "## Attribution\n",
    "\n",
    "- The Linked Art data model documentation has been sourced from the [Linked Art website](https://linked.art)"
   ]
  },
  {
   "cell_type": "markdown",
   "id": "270dddcf",
   "metadata": {},
   "source": [
    "## Transformation Steps\n",
    "\n",
    "### 1. Import What We Need for Notebook\n",
    "- Import Python libraries"
   ]
  },
  {
   "cell_type": "code",
   "execution_count": 17,
   "id": "e14c71a3",
   "metadata": {},
   "outputs": [],
   "source": [
    "\n",
    "try:\n",
    "    import IPython\n",
    "except:\n",
    "    !pip install IPython\n",
    "    import IPython   \n",
    "    \n",
    "from IPython.display import display\n",
    "from IPython.core.display import HTML\n",
    "from IPython.display import IFrame\n",
    "\n",
    "\n",
    "try:\n",
    "    import json\n",
    "except:\n",
    "    !pip install json\n",
    "    import json \n",
    "    \n",
    "try:\n",
    "    import requests\n",
    "except:\n",
    "    !pip install requests\n",
    "    import requests\n",
    "\n",
    "\n",
    "import cromulent\n",
    "from cromulent.model import factory\n",
    "    \n",
    "from lib import linkedart as la\n",
    "       \n",
    "#  baseURI for JSON-LD document\n",
    "baseURI = \"https://clevelandart.org/art/\"\n"
   ]
  },
  {
   "cell_type": "markdown",
   "id": "91b86264",
   "metadata": {},
   "source": [
    "### 2. Parse CSV File"
   ]
  },
  {
   "cell_type": "code",
   "execution_count": 13,
   "id": "66bad752",
   "metadata": {},
   "outputs": [
    {
     "name": "stdout",
     "output_type": "stream",
     "text": [
      "{\n",
      "  \"id\": \"74539\",\n",
      "  \"accession_number\": \"2015.449\",\n",
      "  \"share_license_status\": \"CC0\",\n",
      "  \"tombstone\": \"A Miller's Carriage, c. 1895. Albert-Charles Lebourg (French, 1849-1928). Black and white chalk with stumping ; sheet: 33.2 x 49.7 cm (13 1/16 x 19 9/16 in.). The Cleveland Museum of Art, Bequest of Muriel Butkin 2015.449\",\n",
      "  \"current_location\": \"\",\n",
      "  \"title\": \"A Miller's Carriage\",\n",
      "  \"title_in_original_language\": \"\",\n",
      "  \"series\": \"\",\n",
      "  \"series_in_original_language\": \"\",\n",
      "  \"creation_date\": \"c. 1895\",\n",
      "  \"creation_date_earliest\": \"1890\",\n",
      "  \"creation_date_latest\": \"1900\",\n",
      "  \"creators\": \"Albert-Charles Lebourg (French, 1849-1928), artist\",\n",
      "  \"culture\": \"France, 19th-20th century\",\n",
      "  \"technique\": \"Black and white chalk with stumping \",\n",
      "  \"support_materials\": \"gray laid paper\",\n",
      "  \"department\": \"Drawings\",\n",
      "  \"collection\": \"DR - French\",\n",
      "  \"type\": \"Drawing\",\n",
      "  \"measurements\": \"Sheet: 33.2 x 49.7 cm (13 1/16 x 19 9/16 in.)\",\n",
      "  \"state_of_the_work\": \"\",\n",
      "  \"edition_of_the_work\": \"\",\n",
      "  \"creditline\": \"Bequest of Muriel Butkin\",\n",
      "  \"copyright\": \"\",\n",
      "  \"inscriptions\": \"Verso: upper right in green ink: 80355 / circular estate stamp (Lugt 1664b) \",\n",
      "  \"exhibitions\": \" **LEGACY: Exposition de Lebourg, Mus\\u00e9e de Rouen, 1932\",\n",
      "  \"provenance\": \"\",\n",
      "  \"find_spot\": \"\",\n",
      "  \"related_works\": \"\",\n",
      "  \"former_accession_numbers\": \"[]\",\n",
      "  \"fun_fact\": \"\",\n",
      "  \"digital_description\": \"\",\n",
      "  \"wall_description\": \"\",\n",
      "  \"external_resources\": \"{'wikidata': [], 'internet_archive': ['https://archive.org/details/clevelandart-2015.449-a-miller-s-carriage']}\",\n",
      "  \"citations\": \"\",\n",
      "  \"catalogue_raisonne\": \"\",\n",
      "  \"url\": \"https://clevelandart.org/art/2015.449\",\n",
      "  \"image_web\": \"https://openaccess-cdn.clevelandart.org/2015.449/2015.449_web.jpg\",\n",
      "  \"image_print\": \"https://openaccess-cdn.clevelandart.org/2015.449/2015.449_print.jpg\",\n",
      "  \"image_full\": \"https://openaccess-cdn.clevelandart.org/2015.449/2015.449_full.tif\",\n",
      "  \"updated_at\": \"2021-06-29 06:35:50.572000\"\n",
      "}\n"
     ]
    }
   ],
   "source": [
    "import csv\n",
    "\n",
    "file = './data/cma/input/data.csv'\n",
    "\n",
    "#remove BOM\n",
    "s = open(file, mode='r', encoding='utf-8-sig').read()\n",
    "open(file, mode='w', encoding='utf-8').write(s)\n",
    "\n",
    "allObjects = csv.DictReader(open(file, mode='r',encoding='utf-8'))\n",
    "\n",
    "for obj in allObjects:\n",
    "    print(json.dumps(obj,indent=2))\n",
    "    break  "
   ]
  },
  {
   "cell_type": "code",
   "execution_count": 14,
   "id": "f137b0c6",
   "metadata": {},
   "outputs": [],
   "source": [
    "mapp =  {\n",
    "    \"id\":\"id\",\n",
    "    \"accession_number\":\"accession_number\",\n",
    "    \"accession_date\": \"\",\n",
    "    \"classification\" : \"type\",\n",
    "    \"title\": \"title\",\n",
    "    \"alt_title\": \"title_in_original_language\",\n",
    "    \"notes\": \"tombstone\",\n",
    "    \"date_created\":\"creation_date\",\n",
    "    \"date_created_earliest\": \"creation_date_earliest\",\n",
    "    \"date_created_latest\": \"creation_date_latest\",\n",
    "    \"created_period\":\"culture\",\n",
    "    \"created_dynasty\":\"\",\n",
    "    \"created_inscriptions\":\"inscriptions\",\n",
    "    \"created_notes\": \"fun_fact\",\n",
    "    \"creator\":\"creators\",\n",
    "    \"physical_medium\": \"Medium\",\n",
    "    \"physical_style\": \"\",\n",
    "    \"physical_technique\": \"technique\",\n",
    "    \"physical_description\": \"\",\n",
    "    \"physical_dimensions\": \"measurements\",\n",
    "    \"created_provenance\": \"provenance\" ,\n",
    "    \"credit_line\": \"creditline\",\n",
    "    \"collection\" : \"department\",\n",
    "    \"current_status\" : \"current_location\"\n",
    "}\n",
    "\n",
    "def createObjProp(obj,mapp):\n",
    "    objProp = {}\n",
    "    csv_keys = list(obj.keys())\n",
    "    for key in csv_keys:\n",
    "        for prop in mapp:\n",
    "            if key == mapp[prop]:\n",
    "                if prop == \"creator\":\n",
    "                    objProp[prop] = {\"name\": obj[key]}\n",
    "                else:\n",
    "                    objProp[prop] = obj[key]\n",
    "    return objProp\n"
   ]
  },
  {
   "cell_type": "code",
   "execution_count": 15,
   "id": "01ef203c",
   "metadata": {},
   "outputs": [],
   "source": [
    "from cromulent.model import factory\n",
    "\n",
    "for obj in allObjects:\n",
    "    # create object property dictionary\n",
    "    objProp = createObjProp(obj,mapp)\n",
    "    \n",
    "    id = obj[mapp.get(\"id\")]\n",
    "    object_uri = baseURI + id\n",
    "    \n",
    "    # create obj description\n",
    "    objLA = None\n",
    "    objLA = la.createObjDesc(obj,mapp,la.objTypes,object_uri)\n",
    "    #print(factory.toString(objLA, compact=False))\n",
    "    # write to file \n",
    "    text_file = open(\"./data/cma/output/json/all/\" + objProp[\"id\"] + \".json\", \"wt\")\n",
    "    n = text_file.write(factory.toString(objLA, compact=False))\n",
    "    text_file.close()"
   ]
  },
  {
   "cell_type": "code",
   "execution_count": 16,
   "id": "6cf3e2db",
   "metadata": {},
   "outputs": [],
   "source": [
    "import os\n",
    "from IPython.core.display import display, HTML\n",
    "\n",
    "\n",
    "def fn():       # 1.Get file names from directory\n",
    "    file_list=os.listdir(r\"./data/cma/output/json/all/\")\n",
    "   \n",
    "    for file in file_list:\n",
    "        display(HTML(\"<a href='./data/cma/output/json/all/\" + file +\"'>\" + file + \"</a>\"))\n",
    "    "
   ]
  }
 ],
 "metadata": {
  "kernelspec": {
   "display_name": "Python 3",
   "language": "python",
   "name": "python3"
  },
  "language_info": {
   "codemirror_mode": {
    "name": "ipython",
    "version": 3
   },
   "file_extension": ".py",
   "mimetype": "text/x-python",
   "name": "python",
   "nbconvert_exporter": "python",
   "pygments_lexer": "ipython3",
   "version": "3.8.8"
  }
 },
 "nbformat": 4,
 "nbformat_minor": 5
}
