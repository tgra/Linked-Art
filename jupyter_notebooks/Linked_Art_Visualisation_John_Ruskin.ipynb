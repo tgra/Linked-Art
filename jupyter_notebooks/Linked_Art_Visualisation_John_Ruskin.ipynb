{
 "cells": [
  {
   "cell_type": "markdown",
   "id": "c09fa7b0",
   "metadata": {},
   "source": [
    "# Linked Art - Visualisation - John Ruskin\n",
    "\n",
    "This notebook is concerned with a visualisation of artworks represented in Linked Art.\n"
   ]
  },
  {
   "cell_type": "code",
   "execution_count": 8,
   "id": "61ab067d",
   "metadata": {},
   "outputs": [],
   "source": [
    "try:\n",
    "    import ipywidgets as widgets\n",
    "except:\n",
    "    !pip install ipywidgets\n",
    "    import ipywidgets as widgets\n",
    "\n",
    "from ipywidgets import Layout\n",
    "from ipywidgets import FileUpload\n",
    "\n",
    "try:\n",
    "    import IPython\n",
    "except:\n",
    "    !pip install IPython\n",
    "    import IPython   \n",
    "    \n",
    "from IPython.display import display\n",
    "from IPython.core.display import HTML\n",
    "from IPython.display import IFrame\n",
    "\n",
    "   \n",
    "try:\n",
    "    import xmltodict\n",
    "except:\n",
    "    !pip install xmltodict\n",
    "    import xmltodict\n",
    "\n",
    "try:\n",
    "    import json\n",
    "except:\n",
    "    !pip install json\n",
    "    import json \n",
    "    \n",
    "    \n",
    "try:\n",
    "    import requests\n",
    "except:\n",
    "    !pip install requests\n",
    "    import requests\n",
    "\n",
    "import csv\n",
    "\n",
    "try:\n",
    "    import cromulent \n",
    "except:\n",
    "    !pip install cromulent\n",
    "    import cromulent\n",
    "    \n",
    "from cromulent.model import factory\n",
    "from lib import linkedart as la"
   ]
  },
  {
   "cell_type": "code",
   "execution_count": 16,
   "id": "ebd9a623",
   "metadata": {},
   "outputs": [],
   "source": [
    "import os\n",
    "from IPython.core.display import display, HTML\n",
    "\n",
    "def fn():       # 1.Get file names from directory\n",
    "    file_list=os.listdir(r\"./data/ruskin/output/json\")\n",
    "   \n",
    "    for file in file_list:\n",
    "        display(HTML(\"<a target='_new' href='./data/ruskin/output/json/\" + file +\"'>\" + file + \"</a>\"))\n",
    "\n",
    "\n",
    "outputdir = \"./data/ruskin/output/json\""
   ]
  },
  {
   "cell_type": "markdown",
   "id": "50354532",
   "metadata": {},
   "source": [
    "### National Gallery of Art\n",
    "\n",
    "- [data file](./data/nga/input/nga_ruskin.csv)"
   ]
  },
  {
   "cell_type": "code",
   "execution_count": 17,
   "id": "fbb40f16",
   "metadata": {},
   "outputs": [],
   "source": [
    "#  baseURI for JSON-LD document\n",
    "baseURI = \"https://www.nga.gov/collection/\"\n",
    "file = './data/nga/input/nga_ruskin.csv'\n",
    "\n",
    "#remove BOM\n",
    "s = open(file, mode='r', encoding='utf-8-sig').read()\n",
    "open(file, mode='w', encoding='utf-8').write(s)\n",
    "\n",
    "mapp_nga =  {\n",
    "    \"id\":\"objectid\",\n",
    "    \"accession_number\":\"accessionnum\",\n",
    "    \"accession_date\": \"\",\n",
    "    \"classification\" : \"classification\",\n",
    "    \"title\": \"title\",\n",
    "    \"alt_title\": \"\",\n",
    "    \"notes\": \"\",\n",
    "    \"date_created\":\"displaydate\",\n",
    "    \"date_created_earliest\": \"beginyear\",\n",
    "    \"date_created_latest\": \"endyear\",\n",
    "    \"created_period\":\"\",\n",
    "    \"created_dynasty\":\"\",\n",
    "    \"created_inscriptions\":\"\",\n",
    "    \"created_notes\": \"\",\n",
    "    \"created_provenance\" : \"\",\n",
    "    \"creator\":\"attribution\",\n",
    "    \"physical_medium\": \"medium\",\n",
    "    \"physical_style\": \"\",\n",
    "    \"physical_technique\": \"\",\n",
    "    \"physical_description\": \"\",\n",
    "    \"physical_dimensions\": \"dimensions\",\n",
    "    \"created_provenance\": \"\" ,\n",
    "    \"credit_line\": \"creditline\",\n",
    "    \"collection\" : \"departmentabbr\",\n",
    "    \"current_status\" : \"\",\n",
    "    \"current_owner\" : \"\"\n",
    "}\n",
    "\n",
    "def createObjProp(obj,mapp):\n",
    "    objProp = {}\n",
    "    csv_keys = list(obj.keys())\n",
    "    for key in csv_keys:\n",
    "        for prop in mapp:\n",
    "            if key == mapp[prop]:\n",
    "                if prop == \"creator\":\n",
    "                    objProp[prop] = {\"name\": obj[key]}\n",
    "                else:\n",
    "                    objProp[prop] = obj[key]\n",
    "    return objProp   \n",
    "    \n",
    "allObjects = csv.DictReader(open(file, mode='r',encoding='utf-8'))\n",
    "\n",
    "for obj in allObjects:\n",
    "    # create object property dictionary\n",
    "    objProp = createObjProp(obj,mapp_nga)\n",
    "    id = objProp[\"id\"]\n",
    "    object_uri = baseURI + id\n",
    "    \n",
    "    # create obj description\n",
    "    objLA = la.createObjDesc(objProp,mapp_nga,la.objTypes,object_uri)\n",
    "\n",
    "    # write to file \n",
    "    text_file = open(outputdir + \"/\" + objProp[\"id\"] + \".json\", \"wt\")\n",
    "    n = text_file.write(factory.toString(objLA, compact=False))\n",
    "    text_file.close()"
   ]
  },
  {
   "cell_type": "markdown",
   "id": "d588ad01",
   "metadata": {},
   "source": [
    "### Cleveland Museum of Art \n",
    "http://www.clevelandart.org/\n",
    "- Download CSV file from GitHub https://github.com/ClevelandMuseumArt/openaccess\n",
    "- View file with OpenRefine https://openrefine.org/\n",
    "- Create a text facet for the Creator field to identify artworks by John Ruskin\n",
    "- Export this subset of records (1 record found)\n",
    "- [data file](./data/cma/input/ruskin.csv) \n"
   ]
  },
  {
   "cell_type": "code",
   "execution_count": 18,
   "id": "62d72aa2",
   "metadata": {},
   "outputs": [],
   "source": [
    "#  baseURI for JSON-LD document\n",
    "baseURI = \"https://clevelandart.org/art/\"\n",
    "\n",
    "file = './data/cma/input/ruskin.csv'\n",
    "\n",
    "#remove BOM\n",
    "s = open(file, mode='r', encoding='utf-8-sig').read()\n",
    "open(file, mode='w', encoding='utf-8').write(s)\n",
    "\n",
    "mapp_cma =  {\n",
    "    \"id\":\"id\",\n",
    "    \"accession_number\":\"accession_number\",\n",
    "    \"accession_date\": \"\",\n",
    "    \"classification\" : \"type\",\n",
    "    \"title\": \"title\",\n",
    "    \"alt_title\": \"title_in_original_language\",\n",
    "    \"notes\": \"tombstone\",\n",
    "    \"date_created\":\"creation_date\",\n",
    "    \"date_created_earliest\": \"creation_date_earliest\",\n",
    "    \"date_created_latest\": \"creation_date_latest\",\n",
    "    \"created_period\":\"culture\",\n",
    "    \"created_dynasty\":\"\",\n",
    "    \"created_inscriptions\":\"inscriptions\",\n",
    "    \"created_notes\": \"fun_fact\",\n",
    "    \"creator\":\"creator\",\n",
    "    \"physical_medium\": \"Medium\",\n",
    "    \"physical_style\": \"\",\n",
    "    \"physical_technique\": \"technique\",\n",
    "    \"physical_description\": \"\",\n",
    "    \"physical_dimensions\": \"measurements\",\n",
    "    \"created_provenance\": \"provenance\" ,\n",
    "    \"credit_line\": \"creditline\",\n",
    "    \"collection\" : \"department\",\n",
    "    \"current_status\" : \"current_location\",\n",
    "    \"current_owner\": \"\"\n",
    "    \n",
    "}\n",
    "\n",
    "\n",
    "allObjects = csv.DictReader(open(file, mode='r',encoding='utf-8'))\n",
    "\n",
    "for obj in allObjects:\n",
    "    # create object property dictionary\n",
    "    objProp = createObjProp(obj,mapp_cma)\n",
    "\n",
    "    id = obj[mapp_cma.get(\"id\")]\n",
    "    object_uri = baseURI + id\n",
    "    \n",
    "    # create obj description\n",
    "    objLA = la.createObjDesc(objProp,mapp_cma,la.objTypes,object_uri)\n",
    "    \n",
    "    # write to file \n",
    "    text_file = open(outputdir + \"/\" + objProp[\"id\"] + \".json\", \"wt\")\n",
    "    n = text_file.write(factory.toString(objLA, compact=False))\n",
    "    text_file.close()"
   ]
  },
  {
   "cell_type": "markdown",
   "id": "8f40421a",
   "metadata": {},
   "source": [
    "### Philadelphia Museum of Art\n",
    "\n",
    "- [data file](./data/pma/input/pma_ruskin.csv)"
   ]
  },
  {
   "cell_type": "code",
   "execution_count": 19,
   "id": "42cdea34",
   "metadata": {},
   "outputs": [],
   "source": [
    "file = './data/pma/input/pma_ruskin.csv'\n",
    "baseURI = \"https://www.philamuseum.org/collection/object/\"\n",
    "\n",
    "#remove BOM\n",
    "s = open(file, mode='r', encoding='utf-8-sig').read()\n",
    "open(file, mode='w', encoding='utf-8').write(s)\n",
    "\n",
    "mapp_pma =  {\n",
    "    \"id\":\"Object Number\",\n",
    "    \"accession_number\":\"Object Number\",\n",
    "    \"accession_date\": \"\",\n",
    "    \"classification\" : \"Classification\",\n",
    "    \"title\": \"Title\",\n",
    "    \"alt_title\": \"\",\n",
    "    \"notes\": \"\",\n",
    "    \"date_created\":\"Dated\",\n",
    "    \"date_created_earliest\": \"Dated\",\n",
    "    \"date_created_latest\": \"Dated\",\n",
    "    \"created_period\":\"\",\n",
    "    \"created_dynasty\":\"\",\n",
    "    \"created_inscriptions\":\"\",\n",
    "    \"created_notes\": \"\",\n",
    "    \"creator\":\"Attribution\",\n",
    "    \"physical_medium\": \"Medium\",\n",
    "    \"physical_style\": \"\",\n",
    "    \"physical_technique\": \"\",\n",
    "    \"physical_description\": \"\",\n",
    "    \"physical_dimensions\": \"\",\n",
    "    \"created_provenance\": \"\" ,\n",
    "    \"credit_line\": \"Credit Line\",\n",
    "    \"collection\" : \"Department\",\n",
    "    \"current_status\" : \"\",\n",
    "    \"current_owner\": \"\"\n",
    "}\n",
    "\n",
    "\n",
    "allObjects = csv.DictReader(open(file, mode='r',encoding='utf-8'))\n",
    "\n",
    "cnt=0\n",
    "for obj in allObjects:\n",
    "    \n",
    "    cnt=cnt+1\n",
    "    # create object property dictionary\n",
    "    objProp = createObjProp(obj,mapp_pma)\n",
    "    \n",
    "    id = \"pma\" + str(cnt)\n",
    "    object_uri = baseURI + id\n",
    "    \n",
    "    # create obj description\n",
    "    objLA = la.createObjDesc(objProp,mapp_pma,la.objTypes,object_uri)\n",
    "     \n",
    "    # write to file \n",
    "    text_file = open(outputdir + \"/\" + id + \".json\", \"wt\")\n",
    "    n = text_file.write(factory.toString(objLA, compact=False))\n",
    "    text_file.close()"
   ]
  },
  {
   "cell_type": "code",
   "execution_count": 20,
   "id": "fb419cbd",
   "metadata": {},
   "outputs": [
    {
     "data": {
      "text/html": [
       "<a target='_new' href='./data/ruskin/output/json/pma1.json'>pma1.json</a>"
      ],
      "text/plain": [
       "<IPython.core.display.HTML object>"
      ]
     },
     "metadata": {},
     "output_type": "display_data"
    },
    {
     "data": {
      "text/html": [
       "<a target='_new' href='./data/ruskin/output/json/154494.json'>154494.json</a>"
      ],
      "text/plain": [
       "<IPython.core.display.HTML object>"
      ]
     },
     "metadata": {},
     "output_type": "display_data"
    },
    {
     "data": {
      "text/html": [
       "<a target='_new' href='./data/ruskin/output/json/70367.json'>70367.json</a>"
      ],
      "text/plain": [
       "<IPython.core.display.HTML object>"
      ]
     },
     "metadata": {},
     "output_type": "display_data"
    },
    {
     "data": {
      "text/html": [
       "<a target='_new' href='./data/ruskin/output/json/70238.json'>70238.json</a>"
      ],
      "text/plain": [
       "<IPython.core.display.HTML object>"
      ]
     },
     "metadata": {},
     "output_type": "display_data"
    },
    {
     "data": {
      "text/html": [
       "<a target='_new' href='./data/ruskin/output/json/76140.json'>76140.json</a>"
      ],
      "text/plain": [
       "<IPython.core.display.HTML object>"
      ]
     },
     "metadata": {},
     "output_type": "display_data"
    },
    {
     "data": {
      "text/html": [
       "<a target='_new' href='./data/ruskin/output/json/pma2.json'>pma2.json</a>"
      ],
      "text/plain": [
       "<IPython.core.display.HTML object>"
      ]
     },
     "metadata": {},
     "output_type": "display_data"
    },
    {
     "data": {
      "text/html": [
       "<a target='_new' href='./data/ruskin/output/json/72870.json'>72870.json</a>"
      ],
      "text/plain": [
       "<IPython.core.display.HTML object>"
      ]
     },
     "metadata": {},
     "output_type": "display_data"
    }
   ],
   "source": [
    "fn()"
   ]
  },
  {
   "cell_type": "markdown",
   "id": "aa511e4f",
   "metadata": {},
   "source": [
    "## Convert JSON file to CSV"
   ]
  },
  {
   "cell_type": "code",
   "execution_count": 25,
   "id": "bd985534",
   "metadata": {},
   "outputs": [],
   "source": [
    "import csv\n",
    "\n",
    "file_list=os.listdir(r\"./data/ruskin/output/json/\")\n",
    "  \n",
    "    \n",
    "sources = {   \n",
    "    \"https://www.nga.gov/collection/\" : \"National Gallery of Art\",\n",
    "    \"https://clevelandart.org/art/\": \"Cleveland Museum of Art\",\n",
    "    \"https://www.philamuseum.org/collection/object/\": \"Philadelphia Museum of Art\"\n",
    "}  \n",
    "    \n",
    "    \n",
    "json_all = {}\n",
    "for file in file_list:\n",
    "    # read file and append to \n",
    "    with open(outputdir + \"/\" + file) as json_file:\n",
    "        json_text = json.load(json_file)\n",
    "        json_all.update({file : json_text})\n",
    "        \n",
    "my_dict = []\n",
    "\n",
    "title_rows = [\n",
    "     {\n",
    "        \"Year\": \"\",\n",
    "        \"Month\" : \"\",\n",
    "        \"Day\" : \"\",\n",
    "        \"Time\" : \"\",\n",
    "        \"End Year\": \"\",\n",
    "        \"End Month\" : \"\",\n",
    "        \"End Day\" : \"\",\n",
    "        \"End Time\" : \"\",\n",
    "        \"Display Date\": \"\",\n",
    "        \"Headline\" :   \"John Ruskin\" ,\n",
    "        \"Text\": \"<p>This timeline visualisation shows artworks created by John Ruskin.</p><p>It demonstrates how the Linked Art data model can be used to transform, reconcile and visualise collections data for artworks.</p> <p>See https://linked.art for more information.</p>\",\n",
    "        \"Media\": \"https://upload.wikimedia.org/wikipedia/commons/0/0a/John_Ruskin_1863.jpg\",\n",
    "        \"Media Credit\": \"Wikipedia\",\n",
    "        \"Media Caption\": \"John Ruskin\",\n",
    "        \"Media Thumbnail\" : \"\",\n",
    "        \"Type\": \"title\",\n",
    "        \"Group\" :\"\",\n",
    "        \"Background\": \"\"   },\n",
    "    \n",
    "   {\n",
    "        \"Year\": \"1819\",\n",
    "        \"Month\" : 2,\n",
    "        \"Day\" : 8,\n",
    "        \"Time\" : \"\",\n",
    "        \"End Year\": \"1900\",\n",
    "        \"End Month\" : 1,\n",
    "        \"End Day\" : 20,\n",
    "        \"End Time\" : \"\",\n",
    "        \"Display Date\": \"\",\n",
    "        \"Headline\" :   \"John Ruskin's lifetime\" ,\n",
    "        \"Text\": \"\",\n",
    "        \"Media\": \"https://en.wikipedia.org/wiki/John_Ruskin#/media/File:John_Ruskin_1863.jpg\",\n",
    "        \"Media Credit\": \"Wikipedia\",\n",
    "        \"Media Caption\": \"John Ruskin\",\n",
    "        \"Media Thumbnail\" : \"\",\n",
    "        \"Type\": \"era\",\n",
    "        \"Group\" :\"\",\n",
    "        \"Background\": \"\"},\n",
    "    \n",
    "]\n",
    "\n",
    "my_dict = title_rows\n",
    "\n",
    "\n",
    "images = {\n",
    "    \n",
    "    \"https://www.nga.gov/collection/1987.73.2\" : \"https://media.nga.gov/iiif/49a6128c-8d5a-4b00-beb3-36b29b97c0a1/full/!384,384/0/default.jpg\", # tower\n",
    "    \"https://www.nga.gov/collection/1988.20.38\" : \"https://media.nga.gov/iiif/9310c903-7099-4138-b380-d90af8b06703/full/!384,384/0/default.jpg\", #tree study\n",
    "    \"https://www.nga.gov/collection/1991.88.1\" : \"https://media.nga.gov/iiif/f6ef48d3-3512-4f46-ac5b-c221b3fa320e/full/!384,384/0/default.jpg\" , # florence\n",
    "    \"https://www.nga.gov/collection/1995.52.158\": \"https://media.nga.gov/iiif/bc567179-9c1e-4493-b712-956cc4e6b00a/full/!384,384/0/default.jpg\", # stones\n",
    "    \"https://clevelandart.org/art/1989.14\": \"https://piction.clevelandart.org/cma/ump.di?e=09E1858D0AB6939812E58428D451CA97E557EAA1228FEB07BD281BBBD4FC3A89&s=24247294&se=1946452765&v=4&f=1989.14_o4.jpg\", # sycamore\n",
    "    \"https://www.philamuseum.org/collection/object/01/07/1995\" : \"https://iiif.micr.io/YwKQj/full/1200,/0/default.jpg\"\n",
    "}\n",
    "\n",
    "for file in json_all:\n",
    "   \n",
    "    artwork = json_all[file]\n",
    "    #print(json.dumps(artwork,indent=2))\n",
    "    id = artwork[\"id\"]\n",
    "    \n",
    "    if \"produced_by\" not in artwork:\n",
    "        continue\n",
    "    \n",
    "    credit = \"\"\n",
    "    for source in sources:\n",
    "        if source in id:\n",
    "            credit = sources[source]\n",
    "            \n",
    "    text = \"\"\n",
    "    imageurl = \"\"\n",
    "    \n",
    "    if \"referred_to_by\" in artwork and len(artwork[\"referred_to_by\"]) > 0:  \n",
    "        text = artwork[\"referred_to_by\"][0][\"content\"]\n",
    "        \n",
    "    if id in images:\n",
    "        imageurl = images[id]\n",
    "    \n",
    "   \n",
    "    if artwork[\"produced_by\"][\"timespan\"][\"begin_of_the_begin\"] is not None:\n",
    "        begin = artwork[\"produced_by\"][\"timespan\"][\"begin_of_the_begin\"]\n",
    "    try:\n",
    "        begin = int(begin)\n",
    "    except:\n",
    "        begin = 1819\n",
    "    \n",
    "    \n",
    "    end = artwork[\"produced_by\"][\"timespan\"][\"end_of_the_end\"]\n",
    "    try:\n",
    "        end = int(end)\n",
    "    except:\n",
    "        end = 1900\n",
    "    \n",
    "    row = {\n",
    "        \"Year\": begin,\n",
    "        \"Month\" : 1,\n",
    "        \"Day\" : 1,\n",
    "        \"Time\" : \"\",\n",
    "        \"End Year\": end,\n",
    "        \"End Month\" : 12,\n",
    "        \"End Day\" : 31,\n",
    "        \"End Time\" : \"\",\n",
    "        \"Display Date\": artwork[\"produced_by\"][\"timespan\"][\"_label\"],\n",
    "        \"Headline\" :   artwork[\"identified_by\"][0][\"content\"] ,\n",
    "        \"Text\": text,\n",
    "        \"Media\": imageurl,\n",
    "        \"Media Credit\": credit,\n",
    "        \"Media Caption\": \"\",\n",
    "        \"Media Thumbnail\" :  imageurl,\n",
    "        \"Type\": \"title\",\n",
    "        \"Group\" :\"\",\n",
    "        \"Background\": \"\"     \n",
    "    }\n",
    "    my_dict.append(row)\n",
    "\n",
    "with open('./data/ruskin/output/csv/ruskin_vis.csv', 'w') as f:  \n",
    "    w = csv.DictWriter(f, my_dict[0].keys())\n",
    "    w.writeheader()\n",
    "    for row in my_dict:\n",
    "        w.writerow(row)\n",
    "       "
   ]
  },
  {
   "cell_type": "markdown",
   "id": "126d4b8d",
   "metadata": {},
   "source": [
    "## Visualisation\n",
    "Follow instructions at https://timeline.knightlab.com/#make to make a timeline using a Google Spreadsheet"
   ]
  },
  {
   "cell_type": "code",
   "execution_count": 30,
   "id": "eed0487a",
   "metadata": {},
   "outputs": [],
   "source": [
    "vis = \"https://cdn.knightlab.com/libs/timeline3/latest/embed/index.html?source=1LttNXCohJsD7XByCSt3KVUC02_J57DFOwtb5Cxq8JuI&font=Default&lang=en&initial_zoom=1&height=650\""
   ]
  },
  {
   "cell_type": "code",
   "execution_count": 31,
   "id": "c6297fbe",
   "metadata": {},
   "outputs": [
    {
     "data": {
      "text/html": [
       "\n",
       "        <iframe\n",
       "            width=\"100%\"\n",
       "            height=\"700\"\n",
       "            src=\"https://cdn.knightlab.com/libs/timeline3/latest/embed/index.html?source=1LttNXCohJsD7XByCSt3KVUC02_J57DFOwtb5Cxq8JuI&font=Default&lang=en&initial_zoom=1&height=650\"\n",
       "            frameborder=\"0\"\n",
       "            allowfullscreen\n",
       "            \n",
       "        ></iframe>\n",
       "        "
      ],
      "text/plain": [
       "<IPython.lib.display.IFrame at 0x1139f97c0>"
      ]
     },
     "metadata": {},
     "output_type": "display_data"
    }
   ],
   "source": [
    "display(IFrame(vis, width='100%', height=700))"
   ]
  },
  {
   "cell_type": "code",
   "execution_count": 29,
   "id": "e509c361",
   "metadata": {},
   "outputs": [
    {
     "name": "stdout",
     "output_type": "stream",
     "text": [
      "https://cdn.knightlab.com/libs/timeline3/latest/embed/index.html?source=1LttNXCohJsD7XByCSt3KVUC02_J57DFOwtb5Cxq8JuI&font=Default&lang=en&initial_zoom=1&height=650\n"
     ]
    }
   ],
   "source": [
    "print(vis)"
   ]
  }
 ],
 "metadata": {
  "kernelspec": {
   "display_name": "Python 3",
   "language": "python",
   "name": "python3"
  },
  "language_info": {
   "codemirror_mode": {
    "name": "ipython",
    "version": 3
   },
   "file_extension": ".py",
   "mimetype": "text/x-python",
   "name": "python",
   "nbconvert_exporter": "python",
   "pygments_lexer": "ipython3",
   "version": "3.8.8"
  }
 },
 "nbformat": 4,
 "nbformat_minor": 5
}
