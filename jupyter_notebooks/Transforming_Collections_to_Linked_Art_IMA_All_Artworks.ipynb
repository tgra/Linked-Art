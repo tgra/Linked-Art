{
 "cells": [
  {
   "cell_type": "markdown",
   "id": "c4b4ad69",
   "metadata": {},
   "source": [
    "# Catalogue Data to Linked Art - Indianapolis Museum of Art - Transform All Records"
   ]
  },
  {
   "cell_type": "markdown",
   "id": "0b3c9105",
   "metadata": {},
   "source": [
    "## Introduction\n",
    "\n",
    "- [Linked Art](https://linked.art) is a community working together to create a shared Model and API specificaiton, based on Linked Open Data to describe Art. \n",
    "\n",
    "- The [Indianapolis Museum of Art (IMA)](https://discovernewfields.org/) has transformed a sample of its catalogue data to Linked Art JSON-LD, available at https://github.com/IMAmuseum/LinkedArt \n",
    "- Data were sourced from EMu in XML format (EMu source: Catalogue, Rights, Narratives, and Locations modules)\n",
    "- This Jupyter notebook uses the [Objects catalogue data](https://github.com/IMAmuseum/LinkedArt/blob/master/XML/ObjectsSample.xml) ([raw file](https://raw.githubusercontent.com/IMAmuseum/LinkedArt/master/XML/ObjectsSample.xml) ) to provided a documented exemplar of the transformation process, from catalogue data to Linked Art JSON-LD. The notebook transforms all objects in the file to Linked Art.\n",
    "\n",
    "\n",
    "### Import What We Need for Notebook\n",
    "- Import Python libraries"
   ]
  },
  {
   "cell_type": "code",
   "execution_count": 207,
   "id": "40d0ee99",
   "metadata": {},
   "outputs": [],
   "source": [
    "try:\n",
    "    import ipywidgets as widgets\n",
    "except:\n",
    "    !pip install ipywidgets\n",
    "    import ipywidgets as widgets\n",
    "\n",
    "try:\n",
    "    import IPython\n",
    "except:\n",
    "    !pip install IPython\n",
    "    import IPython   \n",
    "    \n",
    "    \n",
    "try:\n",
    "    import xmltodict\n",
    "except:\n",
    "    !pip install xmltodict\n",
    "    import xmltodict\n",
    "\n",
    "try:\n",
    "    import json\n",
    "except:\n",
    "    !pip install json\n",
    "    import json  \n",
    "        \n",
    "from ipywidgets import Layout\n",
    "\n",
    "def widgeText(desc, jdoc, ht):\n",
    "    widg = widgets.Textarea(\n",
    "        value=json.dumps(jdoc, indent=2),\n",
    "        placeholder=\"\",\n",
    "        description=desc,\n",
    "        disabled=False,\n",
    "        layout=Layout(width='100%', height=ht))\n",
    "    return widg"
   ]
  },
  {
   "cell_type": "markdown",
   "id": "43c2e53c",
   "metadata": {},
   "source": [
    "## Data Transformation "
   ]
  },
  {
   "cell_type": "code",
   "execution_count": 208,
   "id": "62a52083",
   "metadata": {},
   "outputs": [],
   "source": [
    "#define vars\n",
    "baseURI = \"https://data.discovernewfields.org/\""
   ]
  },
  {
   "cell_type": "markdown",
   "id": "ee8478c1",
   "metadata": {},
   "source": [
    "### Upload XML File\n",
    "- Choose a file on your local system to upload and transform to Linked Art\n",
    "- The IMA files are available to download from: https://github.com/IMAmuseum/LinkedArt/tree/master/XML"
   ]
  },
  {
   "cell_type": "code",
   "execution_count": 209,
   "id": "befa33d0",
   "metadata": {},
   "outputs": [],
   "source": [
    "from ipywidgets import FileUpload\n",
    "from IPython.display import display\n",
    "\n",
    "upload = FileUpload(accept='.xml', multiple=False, description='Select XML file')"
   ]
  },
  {
   "cell_type": "code",
   "execution_count": 210,
   "id": "2d7add0d",
   "metadata": {},
   "outputs": [
    {
     "data": {
      "application/vnd.jupyter.widget-view+json": {
       "model_id": "13746ac471a04b4a9fb4c94b31c152d4",
       "version_major": 2,
       "version_minor": 0
      },
      "text/plain": [
       "FileUpload(value={}, accept='.xml', description='Select XML file')"
      ]
     },
     "metadata": {},
     "output_type": "display_data"
    },
    {
     "name": "stdout",
     "output_type": "stream",
     "text": [
      "Please select a file to transform\n"
     ]
    }
   ],
   "source": [
    "display(upload)\n",
    "\n",
    "obj = \"UNDEFINED\"\n",
    "\n",
    "# get content from uploaded file \n",
    "for uploaded_filename in upload.value:\n",
    "    content = upload.value[uploaded_filename]['content']\n",
    "    obj = xmltodict.parse(content) \n",
    "    \n",
    "if obj == \"UNDEFINED\":\n",
    "    print(\"Please select a file to transform\")"
   ]
  },
  {
   "cell_type": "code",
   "execution_count": 212,
   "id": "36e737f3",
   "metadata": {},
   "outputs": [
    {
     "ename": "TypeError",
     "evalue": "string indices must be integers",
     "output_type": "error",
     "traceback": [
      "\u001b[0;31m---------------------------------------------------------------------------\u001b[0m",
      "\u001b[0;31mTypeError\u001b[0m                                 Traceback (most recent call last)",
      "\u001b[0;32m<ipython-input-212-0a42beffefca>\u001b[0m in \u001b[0;36m<module>\u001b[0;34m\u001b[0m\n\u001b[0;32m----> 1\u001b[0;31m \u001b[0mallObjects\u001b[0m \u001b[0;34m=\u001b[0m \u001b[0mobj\u001b[0m\u001b[0;34m[\u001b[0m\u001b[0;34m\"table\"\u001b[0m\u001b[0;34m]\u001b[0m\u001b[0;34m[\u001b[0m\u001b[0;34m\"tuple\"\u001b[0m\u001b[0;34m]\u001b[0m\u001b[0;34m\u001b[0m\u001b[0;34m\u001b[0m\u001b[0m\n\u001b[0m\u001b[1;32m      2\u001b[0m \u001b[0;34m\u001b[0m\u001b[0m\n\u001b[1;32m      3\u001b[0m \u001b[0mall_linkedart\u001b[0m \u001b[0;34m=\u001b[0m \u001b[0;34m{\u001b[0m\u001b[0;34m}\u001b[0m\u001b[0;34m\u001b[0m\u001b[0;34m\u001b[0m\u001b[0m\n",
      "\u001b[0;31mTypeError\u001b[0m: string indices must be integers"
     ]
    }
   ],
   "source": [
    "allObjects = obj[\"table\"][\"tuple\"]\n",
    "\n",
    "all_linkedart = {}"
   ]
  },
  {
   "cell_type": "markdown",
   "id": "2ee1caff",
   "metadata": {},
   "source": [
    "### Minimum Linked Art representation\n",
    "\n",
    "<a id='core_properties'></a>\n",
    "\n",
    "#### Core Properties\n",
    "https://linked.art/model/base/#core-properties\n",
    "\n",
    "There are a few core properties that every resource should have for it to be a useful part of the world of Linked Open Data:\n",
    "\n",
    "- @context\n",
    "- id\n",
    "- type\n",
    "- _label\n",
    "The simplest possible object has a URI, a class and a label.\n",
    "\n",
    "##### Mapping\n",
    "- The `id` is a URL and has been created from the `irn` value together with a URL prefix: https://data.discovernewfields.org/\n",
    "\n",
    "- The `_label` is a human readable label, intended for developers and other people reading the data. The value is taken from the `TitMainTitle` property."
   ]
  },
  {
   "cell_type": "code",
   "execution_count": 213,
   "id": "d358d72e",
   "metadata": {},
   "outputs": [
    {
     "data": {
      "application/vnd.jupyter.widget-view+json": {
       "model_id": "e10133a8ec1046a29d0f6b0f4db569df",
       "version_major": 2,
       "version_minor": 0
      },
      "text/plain": [
       "Textarea(value='{\\n  \"1032\": {\\n    \"@context\": \"https://linked.art/ns/v1/linked-art.json\",\\n    \"id\": \"https:…"
      ]
     },
     "metadata": {},
     "output_type": "display_data"
    }
   ],
   "source": [
    "for obj in allObjects:\n",
    "    \n",
    "    minla = {}\n",
    "    irn = title = \"\"\n",
    "    \n",
    "    for prop in obj[\"atom\"]:         \n",
    "        propName = prop[\"@name\"]     \n",
    "        if \"#text\" in prop:\n",
    "            if propName == \"irn\":\n",
    "                irn = prop[\"#text\"]\n",
    "            if propName == \"TitMainTitle\":\n",
    "                title = prop[\"#text\"]\n",
    "\n",
    "    # minimum Linked Art properties\n",
    "    minla[\"@context\"] = \"https://linked.art/ns/v1/linked-art.json\"\n",
    "    minla[\"id\"] = baseURI + \"object/\" + irn\n",
    "    minla[\"type\"] = \"HumanMadeObject\"\n",
    "    minla[\"_label\"] = title \n",
    "\n",
    "    min = {}\n",
    "    min[irn] = minla\n",
    "\n",
    "    all_linkedart.update(min)\n",
    "\n",
    "# display json in textarea\n",
    "widgeText(\"Linked Art\", all_linkedart,'150px' )"
   ]
  },
  {
   "cell_type": "markdown",
   "id": "f04e6fc2",
   "metadata": {},
   "source": [
    "### Identifiers\n",
    "\n",
    "https://linked.art/model/base/#identifiers\n",
    "\n",
    "Many resources of interest are also given external identifiers, such as accession numbers for objects, ORCIDs for people or groups, lot numbers for auctions, and so forth. Identifiers are represented in a very similar way to names, but instead use the Identifier class. Identifiers will normally have a classification determining which sort of identifier it is, to distinguish between internal repository system assigned numbers from museum assigned accession numbers, for example.\n",
    "\n",
    "As Identifiers and Names use the same `identified_by` property, the JSON will frequently have mixed classes in the array. Unlike Names, Identifiers are not part of human language and thus cannot have translations or a language associated with them."
   ]
  },
  {
   "cell_type": "code",
   "execution_count": 214,
   "id": "68ef2c60",
   "metadata": {},
   "outputs": [
    {
     "data": {
      "application/vnd.jupyter.widget-view+json": {
       "model_id": "b88cc577fcf045da84193d4b0786881a",
       "version_major": 2,
       "version_minor": 0
      },
      "text/plain": [
       "Textarea(value='{\\n  \"1032\": {\\n    \"@context\": \"https://linked.art/ns/v1/linked-art.json\",\\n    \"id\": \"https:…"
      ]
     },
     "metadata": {},
     "output_type": "display_data"
    }
   ],
   "source": [
    "\n",
    "\n",
    "\n",
    "for obj in allObjects:\n",
    "    jdoc = {}\n",
    "    minla = {}\n",
    "    irn = title = \"\"\n",
    "    \n",
    "    for prop in obj[\"atom\"]:         \n",
    "        propName = prop[\"@name\"]     \n",
    "        if \"#text\" in prop:\n",
    "            if propName == \"irn\":\n",
    "                irn = prop[\"#text\"]\n",
    "            if propName == \"TitAccessionNo\":\n",
    "                titAccessionNo = prop[\"#text\"]\n",
    "\n",
    "                           \n",
    "    jdoc[\"identified_by\"] = []          \n",
    "    jdoc[\"identified_by\"].append({\n",
    "        \"id\": baseURI + \"object/\" + irn + \"/irn\",\n",
    "        \"type\": \"Identifier\",\n",
    "        \"_label\": \"IMA at Newfields Collections Database Number for the Object\",\n",
    "        \"content\": irn,\n",
    "        \"classified_as\": [{\n",
    "            \"id\": \"http://vocab.getty.edu/aat/300404621\",\n",
    "            \"type\": \"Type\",\n",
    "            \"_label\": \"repository numbers\"\n",
    "                        }]\n",
    "                })\n",
    "                   \n",
    "    jdoc[\"identified_by\"].append({\n",
    "        \"id\": baseURI + \"object/\" + irn + \"/object-number\",\n",
    "        \"type\": \"Identifier\",\n",
    "        \"_label\": \"IMA at Newfields Object Number for the Object\",\n",
    "        \"content\": titAccessionNo,\n",
    "        \"classified_as\": [{\n",
    "            \"id\": \"http://vocab.getty.edu/aat/300312355\",\n",
    "            \"type\": \"Type\",\n",
    "            \"_label\": \"accession numbers\"\n",
    "                        }]\n",
    "                    })\n",
    "\n",
    "    \n",
    "    all_linkedart[irn].update(jdoc)\n",
    "\n",
    "widgeText(\"Linked Art\", all_linkedart,'200px' )"
   ]
  },
  {
   "cell_type": "markdown",
   "id": "7554143e",
   "metadata": {},
   "source": [
    "### Names\n",
    "\n",
    "https://linked.art/model/base/#names\n",
    "\n",
    "As the `_label` property is intended as internal documentation for the data, it is strongly recommended that every resource that should be rendered to an end user also have at least one specific name. The name could be for an object, a person, a group, an event or anything else. This pattern uses the `identified_by` property, with a `Name` resource. The value of the name is given in the content property of the `Name`.\n",
    "\n",
    "It is somewhat unintuitive to think of a name as identifying the resource it is associated with, as names are typically not unique. However, as the name itself is uniquely identified rather than just an anonymous string, they are no longer a shared label and instead the particular instance of a name is uniquely associated with the resource. With this formulation, the name instance does uniquely identify the resource.\n",
    "\n",
    "If there is more than one name given, then there should be one that is `classified_as` the primary name for use. This is done by adding the `Primary Name (aat:300404670) term to it. There should be exactly one primary title given per language.\n",
    "\n",
    "Names are also part of human communication, and can have the Linguistic features of the model associated with them, such as having a particular language, or having translations."
   ]
  },
  {
   "cell_type": "code",
   "execution_count": 215,
   "id": "94d959bb",
   "metadata": {},
   "outputs": [
    {
     "data": {
      "application/vnd.jupyter.widget-view+json": {
       "model_id": "970ff8044f6b4362a5e2892abc435d16",
       "version_major": 2,
       "version_minor": 0
      },
      "text/plain": [
       "Textarea(value='{\\n  \"1032\": {\\n    \"@context\": \"https://linked.art/ns/v1/linked-art.json\",\\n    \"id\": \"https:…"
      ]
     },
     "metadata": {},
     "output_type": "display_data"
    }
   ],
   "source": [
    "for obj in allObjects:\n",
    "    jdoc = {}\n",
    "    jdoc[\"identified_by\"] = []\n",
    "    irn = title = \"\"\n",
    "    \n",
    "    \n",
    "    for prop in obj[\"atom\"]:         \n",
    "        propName = prop[\"@name\"]     \n",
    "        if \"#text\" in prop:\n",
    "            if propName == \"irn\":\n",
    "                irn = prop[\"#text\"]\n",
    "            if propName == \"TitMainTitle\":\n",
    "                title = prop[\"#text\"]\n",
    "\n",
    "\n",
    "    jdoc[\"identified_by\"].append({\n",
    "        \"id\": baseURI + \"object/\" + irn + \"/title\",\n",
    "        \"type\": \"Name\",\n",
    "        \"_label\": \"Primary Title for the Object\",\n",
    "        \"content\": title ,\n",
    "        \"classified_as\": [{\n",
    "        \"id\": \"http://vocab.getty.edu/aat/300404670\",\n",
    "        \"type\": \"Type\",\n",
    "        \"_label\": \"preferred terms\"\n",
    "                        }]\n",
    "                })\n",
    "    try:   \n",
    "        if obj[\"table\"][\"@name\"] == \"AltTitles\":\n",
    "            x = 0\n",
    "            for tuple in obj[\"table\"][\"tuple\"]:\n",
    "                x +=1\n",
    "                for atom in tuple:\n",
    "                    if atom[\"@name\"] == \"TitAlternateTitles\":\n",
    "                        content = atom[\"#text\"]\n",
    "                    else:\n",
    "                        content = \"\"\n",
    "                    \n",
    "                    jdoc[\"identified_by\"].append({\n",
    "                    \"id\": baseURI + \"object/\" + irn + \"/alt-title-\" + x,\n",
    "                    \"type\": \"Name\",\n",
    "                    \"_label\": \"Alternate Title for the Object\",\n",
    "                    \"content\": content,\n",
    "                    \"classified_as\": [{\n",
    "                            \"id\": \"http://vocab.getty.edu/aat/300417227\",\n",
    "                            \"type\": \"Type\",\n",
    "                            \"_label\": \"alternate titles\"}]   \n",
    "                    })\n",
    "    except:\n",
    "        pass\n",
    "    \n",
    "    for idby in jdoc[\"identified_by\"]:\n",
    "        all_linkedart[irn][\"identified_by\"].append(idby)\n",
    "        \n",
    "widgeText(\"Linked Art\", all_linkedart,'200px' )"
   ]
  },
  {
   "cell_type": "markdown",
   "id": "a545f1ec",
   "metadata": {},
   "source": [
    "### Classification\n",
    "\n",
    "https://linked.art/model/base/#types-and-classifications\n",
    "\n",
    "CIDOC-CRM is a framework that must be extended via additional vocabularies and ontologies to be useful. The provided mechanism for doing this is the classified_as property, which refers to a term from a controlled vocabulary. This is in contrast to the `type` property, which is used for CIDOC-CRM defined classes, and a few extensions as needed. \n",
    "\n",
    "The `classified_as` property is thus a way to be more specific about the sort of entity, while maintaining the core information as the class using type. Controlled vocabulary entries should not be used with `type`, nor classes used with `classified_as`.\n",
    "\n",
    "While any external vocabulary of terms can be used, the Getty's Art and Architecture Thesaurus is used whenever possible for consistency and that it is already widespread in the museum domain. The set of terms that have been identified as useful are listed in the community best-practices for recommendations, and within the documentation of the model when a particular choice is essential for interoperability."
   ]
  },
  {
   "cell_type": "code",
   "execution_count": 216,
   "id": "a7d4f91d",
   "metadata": {},
   "outputs": [
    {
     "data": {
      "application/vnd.jupyter.widget-view+json": {
       "model_id": "76359b32504b48f0a20c7c10b282b7a7",
       "version_major": 2,
       "version_minor": 0
      },
      "text/plain": [
       "Textarea(value='{\\n  \"1032\": {\\n    \"@context\": \"https://linked.art/ns/v1/linked-art.json\",\\n    \"id\": \"https:…"
      ]
     },
     "metadata": {},
     "output_type": "display_data"
    }
   ],
   "source": [
    "for obj in allObjects:\n",
    "    jdoc = {}\n",
    "    irn = title = \"\"\n",
    "    phyMediaCategory = \"\"\n",
    "    \n",
    "    for prop in obj[\"atom\"]:         \n",
    "        propName = prop[\"@name\"]     \n",
    "        if \"#text\" in prop:\n",
    "            if propName == \"irn\":\n",
    "                irn = prop[\"#text\"]\n",
    "            if propName == \"TitObjectType\":\n",
    "                titleObjectType = prop[\"#text\"]\n",
    "                             \n",
    "    for table in obj[\"table\"]:\n",
    "        tableName = table[\"@name\"]\n",
    "        if tableName == \"ObjectTypes\":\n",
    "            try:\n",
    "                for atom in table[\"tuple\"]:\n",
    "                    if atom[\"atom\"][\"@name\"] == \"PhyMediaCategory\":\n",
    "                        phyMediaCategory = atom[\"atom\"][\"#text\"]\n",
    "            except:\n",
    "                pass\n",
    "            \n",
    "        if titleObjectType.startswith(\"Visual Work\"):\n",
    "            jdoc[\"classified_as\"] = [{\n",
    "                    \"id\": \"http://vocab.getty.edu/aat/300133025\",\n",
    "                    \"type\": \"Type\",\n",
    "                    \"_label\": \"works of art\" \n",
    "                }]\n",
    "                \n",
    "        if \"Drawings\" in titleObjectType:\n",
    "            jdoc[\"classified_as\"] = [{\n",
    "                    \"id\": \"http://vocab.getty.edu/aat/300033973\",\n",
    "                    \"type\": \"Type\",\n",
    "                    \"_label\": \"drawings (visual works)\" \n",
    "                }]\n",
    "                \n",
    "        if \"Multimedia\" in titleObjectType:\n",
    "            jdoc[\"classified_as\"] = [{\n",
    "                    \"id\": \"http://vocab.getty.edu/aat/300047910\",\n",
    "                    \"type\": \"Type\",\n",
    "                    \"_label\": \"multimedia works\" \n",
    "                }]\n",
    "                \n",
    "        if \"Needlework\" in titleObjectType:\n",
    "            jdoc[\"classified_as\"] = [{\n",
    "                    \"id\": \"http://vocab.getty.edu/aat/300264072\",\n",
    "                    \"type\": \"Type\",\n",
    "                    \"_label\": \"needlework (visual works)\" \n",
    "                }]\n",
    "                \n",
    "        if \"Paintings\" in titleObjectType:\n",
    "            jdoc[\"classified_as\"] = [{\n",
    "                    \"id\": \"http://vocab.getty.edu/aat/300033618\",\n",
    "                    \"type\": \"Type\",\n",
    "                    \"_label\": \"paintings (visual works)\" \n",
    "                }] \n",
    "                \n",
    "        if \"Pastel\" in titleObjectType:\n",
    "            jdoc[\"classified_as\"] = [{\n",
    "                    \"id\": \"http://vocab.getty.edu/aat/300076922\",\n",
    "                    \"type\": \"Type\",\n",
    "                    \"_label\": \"pastels (visual works)\" \n",
    "                }] \n",
    "        if \"Performance\" in titleObjectType:\n",
    "            jdoc[\"classified_as\"] = [{\n",
    "                    \"id\": \"http://vocab.getty.edu/aat/300121445\",\n",
    "                    \"type\": \"Type\",\n",
    "                    \"_label\": \"performance art\" \n",
    "                }] \n",
    "        if \"Photograph\" in titleObjectType:\n",
    "            jdoc[\"classified_as\"] = [{\n",
    "                    \"id\": \"http://vocab.getty.edu/aat/300046300\",\n",
    "                    \"type\": \"Type\",\n",
    "                    \"_label\": \"photographs\" \n",
    "                }]\n",
    "        if \"Prints\" in titleObjectType:\n",
    "            jdoc[\"classified_as\"] = [{\n",
    "                    \"id\": \"http://vocab.getty.edu/aat/300041273\",\n",
    "                    \"type\": \"Type\",\n",
    "                    \"_label\": \"prints (visual works)\" \n",
    "                }]\n",
    "        if \"Sculpture\" in titleObjectType:\n",
    "            jdoc[\"classified_as\"] = [{\n",
    "                    \"id\": \"http://vocab.getty.edu/aat/300047090\",\n",
    "                    \"type\": \"Type\",\n",
    "                    \"_label\": \"sculpture (visual works)\" \n",
    "                }]\n",
    "                \n",
    "        if phyMediaCategory != \"\":  \n",
    "            try:\n",
    "                atoms = table[\"tuple\"][\"atom\"]\n",
    "                for atom in atoms:\n",
    "                    if atom[\"@name\"] == \"PhyMediaCategory\":\n",
    "                        value = atom[\"#text\"]\n",
    "                        c = {\n",
    "                            \"id\": baseURI + \"thesauri/type/\",\n",
    "                            \"type\": \"Type\",\n",
    "                            \"_label\": value\n",
    "                            }\n",
    "                        jdoc[\"classified_as\"].append(c)\n",
    "            except:\n",
    "                pass\n",
    " \n",
    "    all_linkedart[irn].update(jdoc)\n",
    "        \n",
    "widgeText(\"Linked Art\", all_linkedart,'200px' )"
   ]
  },
  {
   "cell_type": "markdown",
   "id": "5791297e",
   "metadata": {},
   "source": [
    "### Home Page\n",
    "https://linked.art/model/digital/#home-page\n",
    "\n",
    "A very common scenario is that there is a web page about the object, perhaps managed by a collections management system. For humans, this page is much more useful than the data intended for machines. It can be referenced with the `subject_of` property, and points to a `DigitalObject` which is `classified_as` a web page, or `aat:300264578`. As with digital images, the home page can have a format of \"text/html\" and other properties.\n"
   ]
  },
  {
   "cell_type": "code",
   "execution_count": 217,
   "id": "9796b839",
   "metadata": {},
   "outputs": [
    {
     "data": {
      "application/vnd.jupyter.widget-view+json": {
       "model_id": "1d44df9b20ab46a897fecf38b3489b65",
       "version_major": 2,
       "version_minor": 0
      },
      "text/plain": [
       "Textarea(value='{\\n  \"1032\": {\\n    \"@context\": \"https://linked.art/ns/v1/linked-art.json\",\\n    \"id\": \"https:…"
      ]
     },
     "metadata": {},
     "output_type": "display_data"
    }
   ],
   "source": [
    "for obj in allObjects:\n",
    "    jdoc = {}\n",
    "    irn = title = \"\"\n",
    "    homepageId = \"\"\n",
    "    \n",
    "    for prop in obj[\"atom\"]:         \n",
    "        propName = prop[\"@name\"]     \n",
    "        if \"#text\" in prop:\n",
    "            if propName == \"irn\":\n",
    "                irn = prop[\"#text\"]\n",
    "            if propName == \"TitAccessionNo\":\n",
    "                titAccessionNo = prop[\"#text\"]\n",
    "                \n",
    "                       \n",
    "    for table in obj[\"table\"]:\n",
    "        tableName = table[\"@name\"]\n",
    "        if tableName == \"Homepage\":\n",
    "            try:\n",
    "                for atom in table[\"tuple\"][\"atom\"]:\n",
    "                    if atom[\"@name\"] == \"EleIdentifier\":\n",
    "                        homepageId = atom[\"#text\"]\n",
    "            except:\n",
    "                pass\n",
    "                               \n",
    "    jdoc[\"subject_of\"] = []  \n",
    "    jdoc[\"subject_of\"].append({\n",
    "        \"id\": \"http://collection.imamuseum.org/artwork/\" + homepageId,\n",
    "        \"type\": \"LinguisticObject\",\n",
    "        \"_label\": \"Homepage for the Object\",\n",
    "        \"classified_as\": [\n",
    "            {\n",
    "            \"id\": \"http://vocab/getty.edu/aat/300264578\",\n",
    "            \"type\": \"Type\",\n",
    "            \"_label\": \"Web pages (documents)\"\n",
    "            },\n",
    "            {\n",
    "            \"id\": \"http://vocab.getty.edu/aat/300266277\",\n",
    "            \"type\": \"Type\",\n",
    "            \"_label\": \"home pages\"\n",
    "            }\n",
    "        ],\n",
    "        \"format\": \"text/html\"\n",
    "                })\n",
    "                  \n",
    "    all_linkedart[irn].update(jdoc)\n",
    "        \n",
    "widgeText(\"Linked Art\", all_linkedart,'200px' )"
   ]
  },
  {
   "cell_type": "markdown",
   "id": "ebaebdde",
   "metadata": {},
   "source": [
    "### Current Location\n",
    "https://linked.art/model/object/ownership/#location\n",
    "\n",
    "- The current location of the object is given using the `current_location` property. \n",
    "- This can give a reference to a gallery or specific part of a facility, or be used for the general address of the organization where the object is currently held. \n",
    "- There are further modeling details available about [Places](https://linked.art/model/place/) on the Linked Art website.\n",
    "\n"
   ]
  },
  {
   "cell_type": "code",
   "execution_count": 218,
   "id": "64ff4899",
   "metadata": {},
   "outputs": [
    {
     "data": {
      "application/vnd.jupyter.widget-view+json": {
       "model_id": "a6ac93e2eb88439aa8fcdb9f97b79ee1",
       "version_major": 2,
       "version_minor": 0
      },
      "text/plain": [
       "Textarea(value='{\\n  \"1032\": {\\n    \"@context\": \"https://linked.art/ns/v1/linked-art.json\",\\n    \"id\": \"https:…"
      ]
     },
     "metadata": {},
     "output_type": "display_data"
    }
   ],
   "source": [
    "for obj in allObjects:\n",
    "    jdoc = {}\n",
    "    jdoc[\"current_location\"] = []\n",
    "    level2val = level3val = \"\"\n",
    "    irn = title = \"\"\n",
    "    homepageId = \"\"\n",
    "    \n",
    "    for prop in obj[\"atom\"]:         \n",
    "        propName = prop[\"@name\"]     \n",
    "        if \"#text\" in prop:\n",
    "            if propName == \"irn\":\n",
    "                irn = prop[\"#text\"]\n",
    "                \n",
    "    for tuple in obj[\"tuple\"]:\n",
    "        if tuple['@name'] == 'LocCurrentLocationRef':\n",
    "            for atom in tuple[\"atom\"]:\n",
    "                if \"#text\" in atom:\n",
    "                    if atom[\"@name\"] == 'LocLevel2':\n",
    "                        if atom[\"#text\"] == 'see related parts':\n",
    "                            see_related_parts = True\n",
    "                        else:\n",
    "                            see_related_parts = False\n",
    "                    level2val = atom[\"#text\"]\n",
    "                    if atom[\"@name\"] == \"LocLevel3\":\n",
    "                        try:\n",
    "                            level3val = atom[\"#text\"]\n",
    "                        except:\n",
    "                            level3val = \"\"\n",
    "        \n",
    "    for tuple in obj[\"tuple\"]:\n",
    "        if tuple['@name'] == 'LocCurrentLocationRef':\n",
    "            for atom in tuple[\"atom\"]:\n",
    "                if \"#text\" in atom:\n",
    "                    if atom[\"@name\"] == 'LocLevel1':    \n",
    "                        if atom[\"#text\"] == 'On Loan':\n",
    "                            jdoc[\"current_location\"].append({\n",
    "                            \"id\": baseURI + \"thesauri/location/on-loan\",\n",
    "                            \"type\": \"Place\",\n",
    "                            \"_label\": \"On Loan\"})\n",
    "                    \n",
    "                        if 'Galler' in atom[\"#text\"] or 'Suite' in atom[\"#text\"]:\n",
    "                            jdoc[\"current_location\"].append({\n",
    "                            \"id\": baseURI + \"thesauri/location/\" + level3val,\n",
    "                            \"type\": \"Place\",\n",
    "                            \"_label\": level2val,\n",
    "                        \"clasified_as\": [{\n",
    "                        \"id\": \"http://vocab.getty.edu/aat/300240057\",\n",
    "                        \"type\": \"Type\",\n",
    "                        \"_label\": \"galleries (display spaces)\"\n",
    "                        }] })\n",
    "            \n",
    "                    if atom[\"@name\"] == 'LocLevel2': \n",
    "                        if atom[\"#text\"] == 'Efroymson Family Entrance':\n",
    "                         jdoc[\"current_location\"].append({ \n",
    "                         \"id\": baseURI + \"thesauri/location/F02\",\n",
    "                        \"type\": \"Place\",\n",
    "                        \"_label\": \"Efroymson Family Entrance Pavilion\"\n",
    "                     })\n",
    "                        elif atom[\"#text\"] == 'Nature Park':\n",
    "                             jdoc[\"current_location\"].append({ \n",
    "                         \"id\": baseURI + \"thesauri/location/ANP\",\n",
    "                        \"type\": \"Place\",\n",
    "                        \"_label\": \"Virginia B. Fairbanks Art &amp; Nature Park\"})\n",
    "                        \n",
    "                        elif atom[\"#text\"] == 'Grounds':\n",
    "                            jdoc[\"current_location\"].append({ \n",
    "                         \"id\": baseURI + \"thesauri/location/G\",\n",
    "                        \"type\": \"Place\",\n",
    "                        \"_label\": \"Newfields Grounds\"})\n",
    "                    \n",
    "                        elif atom[\"#text\"] == 'Asian Visible Storage':\n",
    "                             jdoc[\"current_location\"].append({ \n",
    "                         \"id\": baseURI + \"thesauri/location/K241\",\n",
    "                        \"type\": \"Place\",\n",
    "                        \"_label\": \"Leah and Charles Reddish Gallery - Asian Visible Storage\",\n",
    "                         \"classified_as\": [\n",
    "                            {\n",
    "                            \"id\": \"http://vocab.getty.edu/aat/300240057\",\n",
    "                            \"type\": \"Type\",\n",
    "                            \"_label\": \"galleries (display spaces)\"\n",
    "                            }]\n",
    "                     })\n",
    "                        elif atom[\"#text\"] == 'Westerley':\n",
    "                            jdoc[\"current_location\"].append({ \n",
    "                         \"id\": baseURI + \"thesauri/location/westerley\",\n",
    "                        \"type\": \"Place\",\n",
    "                        \"_label\": \"Westerley\"})    \n",
    "                \n",
    "                        else:\n",
    "                            jdoc[\"current_location\"].append({ \n",
    "                         \"id\": baseURI + \"thesauri/location/storage\",\n",
    "                        \"type\": \"Place\",\n",
    "                        \"_label\": \"IMA Storage\"})  \n",
    "\n",
    "    all_linkedart[irn].update(jdoc)\n",
    "        \n",
    "widgeText(\"Linked Art\", all_linkedart,'200px' )"
   ]
  },
  {
   "cell_type": "markdown",
   "id": "7a67b937",
   "metadata": {},
   "source": [
    "### Statements about a Resource - Linguistic Objects \n",
    "\n",
    "https://linked.art/model/base/#statements-about-a-resource\n",
    "    \n",
    "In many cases, current data does not support the level of specificity that the full ontology allows, or the information is simply best expressed in human-readable form. For example, instead of a completely modeled set of parts with materials, many museum collection management systems allow only a single human-readable string for the \"medium\" or \"materials statement\". The same is true in many other situations, including rights or allowable usage statements, dimensions, edition statements and so forth. Any time that there is a description of the resource, with or without qualification as to the type of description, then this pattern can be used to record the descriptive text.\n",
    "\n",
    "The pattern makes use of the `LinguisticObject` class that is used to identify a particular piece of textual content. These Linguistic Objects are then refered to by any other resource. They maintain the statement's text in the content property, and the language of the statement (if known) in the language property.\n",
    "\n",
    "Use cases for this pattern include:\n",
    "\n",
    "- General description of the resource\n",
    "- Materials statement for an object\n",
    "- Attribution statement for an image\n",
    "- Biography for a person\n",
    "- Dimensions statement for a part of an object    "
   ]
  },
  {
   "cell_type": "code",
   "execution_count": 219,
   "id": "139935a1",
   "metadata": {},
   "outputs": [
    {
     "data": {
      "application/vnd.jupyter.widget-view+json": {
       "model_id": "37fde4dc43a140d8ae0e8bba2491bc74",
       "version_major": 2,
       "version_minor": 0
      },
      "text/plain": [
       "Textarea(value='{\\n  \"1032\": {\\n    \"@context\": \"https://linked.art/ns/v1/linked-art.json\",\\n    \"id\": \"https:…"
      ]
     },
     "metadata": {},
     "output_type": "display_data"
    }
   ],
   "source": [
    "for obj in allObjects:\n",
    "    jdoc = {}\n",
    "    jdoc[\"referred_to_by\"] = []\n",
    "    irn = title = \"\"\n",
    "    homepageId = \"\"\n",
    "    \n",
    "    for prop in obj[\"atom\"]:         \n",
    "        propName = prop[\"@name\"]     \n",
    "        if \"#text\" in prop:\n",
    "            if propName == \"irn\":\n",
    "                irn = prop[\"#text\"]\n",
    "            if propName == \"TitAccessionNo\":\n",
    "                titAccessionNo = prop[\"#text\"]\n",
    "\n",
    "\n",
    "    for atom in obj[\"atom\"]:\n",
    "        if atom[\"@name\"] == \"SumCreditLine\":\n",
    "            val = atom[\"#text\"]\n",
    "            jdoc[\"referred_to_by\"].append({\n",
    "                 \"id\": baseURI + \"object/\" + irn + \"/credit-line\",\n",
    "                \"type\": \"LinguisticObject\",\n",
    "                \"_label\": \"IMA at Newfields Credit Line for the Object\",\n",
    "                \"content\": val,\n",
    "                \"classified_as\": [\n",
    "                        {\n",
    "                            \"id\": \"http://vocab.getty.edu/aat/300026687\",\n",
    "                            \"type\": \"Type\",\n",
    "                            \"_label\": \"acknowledgments\"\n",
    "                        },\n",
    "                        {\n",
    "                            \"id\": \"http://vocab.getty.edu/aat/300418049\",\n",
    "                            \"type\": \"Type\",\n",
    "                            \"_label\": \"brief texts\"\n",
    "                        }]\n",
    "        })\n",
    "        if atom[\"@name\"] == 'CreProvenance':\n",
    "            if \"#text\" in atom.keys():\n",
    "                val = atom[\"#text\"]\n",
    "                jdoc[\"referred_to_by\"].append({\n",
    "                \"id\": baseURI + \"object/\" + irn + \"/provenance-statement\",\n",
    "                    \"type\": \"LinguisticObject\",\n",
    "                    \"_label\": \"IMA Provenance Statement about the Object\",\n",
    "                    \"content\": val,\n",
    "                    \"classified_as\": [\n",
    "                        {\n",
    "                            \"id\": \"http://vocab.getty.edu/aat/300055863\",\n",
    "                            \"type\": \"Type\",\n",
    "                            \"_label\": \"provenance (history of ownership)\"\n",
    "                        },\n",
    "                        {\n",
    "                            \"id\": \"http://vocab.getty.edu/aat/300418049\",\n",
    "                            \"type\": \"Type\",\n",
    "                            \"_label\": \"brief texts\"\n",
    "                        }\n",
    "                    ]\n",
    "            })\n",
    "            \n",
    "    all_linkedart[irn].update(jdoc)\n",
    "        \n",
    "widgeText(\"Linked Art\", all_linkedart,'200px' )"
   ]
  },
  {
   "cell_type": "markdown",
   "id": "b7efee8c",
   "metadata": {},
   "source": [
    "### View the final Linked Art JSON-LD representation for the selected object\n",
    "\n",
    "The final Linked Art JSON-LD representation of the object is now available:"
   ]
  },
  {
   "cell_type": "code",
   "execution_count": 220,
   "id": "7d8c916a",
   "metadata": {},
   "outputs": [
    {
     "data": {
      "application/vnd.jupyter.widget-view+json": {
       "model_id": "c43ec9a0f6bf470c9b15831296d45a51",
       "version_major": 2,
       "version_minor": 0
      },
      "text/plain": [
       "Textarea(value='{\\n  \"1032\": {\\n    \"@context\": \"https://linked.art/ns/v1/linked-art.json\",\\n    \"id\": \"https:…"
      ]
     },
     "metadata": {},
     "output_type": "display_data"
    }
   ],
   "source": [
    "# iterate through file and produce json files for each object\n",
    "\n",
    "for irn in all_linkedart:\n",
    "    \n",
    "    text_file = open(\"./data/ima/output/json/all/\" + irn + \".json\", \"wt\")\n",
    "    n = text_file.write(json.dumps(all_linkedart[irn]))\n",
    "    text_file.close()\n",
    "\n",
    "f = open(\"./data/ima/output/json/all/allobjects_linkedart.json\", \"w\")\n",
    "f.write(json.dumps(jdoc, indent=2))\n",
    "f.close() \n",
    "\n",
    "widgeText(\"Linked Art\", all_linkedart ,'400px' )"
   ]
  },
  {
   "cell_type": "code",
   "execution_count": 221,
   "id": "3481e09d",
   "metadata": {},
   "outputs": [
    {
     "data": {
      "text/html": [
       "<a href='./data/ima/output/json/all/1065.json'>1065.json</a>"
      ],
      "text/plain": [
       "<IPython.core.display.HTML object>"
      ]
     },
     "metadata": {},
     "output_type": "display_data"
    },
    {
     "data": {
      "text/html": [
       "<a href='./data/ima/output/json/all/1032.json'>1032.json</a>"
      ],
      "text/plain": [
       "<IPython.core.display.HTML object>"
      ]
     },
     "metadata": {},
     "output_type": "display_data"
    },
    {
     "data": {
      "text/html": [
       "<a href='./data/ima/output/json/all/46950.json'>46950.json</a>"
      ],
      "text/plain": [
       "<IPython.core.display.HTML object>"
      ]
     },
     "metadata": {},
     "output_type": "display_data"
    },
    {
     "data": {
      "text/html": [
       "<a href='./data/ima/output/json/all/14365.json'>14365.json</a>"
      ],
      "text/plain": [
       "<IPython.core.display.HTML object>"
      ]
     },
     "metadata": {},
     "output_type": "display_data"
    },
    {
     "data": {
      "text/html": [
       "<a href='./data/ima/output/json/all/67743.json'>67743.json</a>"
      ],
      "text/plain": [
       "<IPython.core.display.HTML object>"
      ]
     },
     "metadata": {},
     "output_type": "display_data"
    },
    {
     "data": {
      "text/html": [
       "<a href='./data/ima/output/json/all/90817.json'>90817.json</a>"
      ],
      "text/plain": [
       "<IPython.core.display.HTML object>"
      ]
     },
     "metadata": {},
     "output_type": "display_data"
    },
    {
     "data": {
      "text/html": [
       "<a href='./data/ima/output/json/all/21288.json'>21288.json</a>"
      ],
      "text/plain": [
       "<IPython.core.display.HTML object>"
      ]
     },
     "metadata": {},
     "output_type": "display_data"
    },
    {
     "data": {
      "text/html": [
       "<a href='./data/ima/output/json/all/89163.json'>89163.json</a>"
      ],
      "text/plain": [
       "<IPython.core.display.HTML object>"
      ]
     },
     "metadata": {},
     "output_type": "display_data"
    },
    {
     "data": {
      "text/html": [
       "<a href='./data/ima/output/json/all/92386.json'>92386.json</a>"
      ],
      "text/plain": [
       "<IPython.core.display.HTML object>"
      ]
     },
     "metadata": {},
     "output_type": "display_data"
    },
    {
     "data": {
      "text/html": [
       "<a href='./data/ima/output/json/all/93739.json'>93739.json</a>"
      ],
      "text/plain": [
       "<IPython.core.display.HTML object>"
      ]
     },
     "metadata": {},
     "output_type": "display_data"
    },
    {
     "data": {
      "text/html": [
       "<a href='./data/ima/output/json/all/68182.json'>68182.json</a>"
      ],
      "text/plain": [
       "<IPython.core.display.HTML object>"
      ]
     },
     "metadata": {},
     "output_type": "display_data"
    },
    {
     "data": {
      "text/html": [
       "<a href='./data/ima/output/json/all/3521.json'>3521.json</a>"
      ],
      "text/plain": [
       "<IPython.core.display.HTML object>"
      ]
     },
     "metadata": {},
     "output_type": "display_data"
    },
    {
     "data": {
      "text/html": [
       "<a href='./data/ima/output/json/all/47035.json'>47035.json</a>"
      ],
      "text/plain": [
       "<IPython.core.display.HTML object>"
      ]
     },
     "metadata": {},
     "output_type": "display_data"
    },
    {
     "data": {
      "text/html": [
       "<a href='./data/ima/output/json/all/69063.json'>69063.json</a>"
      ],
      "text/plain": [
       "<IPython.core.display.HTML object>"
      ]
     },
     "metadata": {},
     "output_type": "display_data"
    },
    {
     "data": {
      "text/html": [
       "<a href='./data/ima/output/json/all/14617.json'>14617.json</a>"
      ],
      "text/plain": [
       "<IPython.core.display.HTML object>"
      ]
     },
     "metadata": {},
     "output_type": "display_data"
    },
    {
     "data": {
      "text/html": [
       "<a href='./data/ima/output/json/all/89368.json'>89368.json</a>"
      ],
      "text/plain": [
       "<IPython.core.display.HTML object>"
      ]
     },
     "metadata": {},
     "output_type": "display_data"
    },
    {
     "data": {
      "text/html": [
       "<a href='./data/ima/output/json/all/37383.json'>37383.json</a>"
      ],
      "text/plain": [
       "<IPython.core.display.HTML object>"
      ]
     },
     "metadata": {},
     "output_type": "display_data"
    },
    {
     "data": {
      "text/html": [
       "<a href='./data/ima/output/json/all/92158.json'>92158.json</a>"
      ],
      "text/plain": [
       "<IPython.core.display.HTML object>"
      ]
     },
     "metadata": {},
     "output_type": "display_data"
    },
    {
     "data": {
      "text/html": [
       "<a href='./data/ima/output/json/all/allobjects_linkedart.json'>allobjects_linkedart.json</a>"
      ],
      "text/plain": [
       "<IPython.core.display.HTML object>"
      ]
     },
     "metadata": {},
     "output_type": "display_data"
    },
    {
     "data": {
      "text/html": [
       "<a href='./data/ima/output/json/all/92159.json'>92159.json</a>"
      ],
      "text/plain": [
       "<IPython.core.display.HTML object>"
      ]
     },
     "metadata": {},
     "output_type": "display_data"
    },
    {
     "data": {
      "text/html": [
       "<a href='./data/ima/output/json/all/89369.json'>89369.json</a>"
      ],
      "text/plain": [
       "<IPython.core.display.HTML object>"
      ]
     },
     "metadata": {},
     "output_type": "display_data"
    },
    {
     "data": {
      "text/html": [
       "<a href='./data/ima/output/json/all/16410.json'>16410.json</a>"
      ],
      "text/plain": [
       "<IPython.core.display.HTML object>"
      ]
     },
     "metadata": {},
     "output_type": "display_data"
    },
    {
     "data": {
      "text/html": [
       "<a href='./data/ima/output/json/all/64017.json'>64017.json</a>"
      ],
      "text/plain": [
       "<IPython.core.display.HTML object>"
      ]
     },
     "metadata": {},
     "output_type": "display_data"
    },
    {
     "data": {
      "text/html": [
       "<a href='./data/ima/output/json/all/89164.json'>89164.json</a>"
      ],
      "text/plain": [
       "<IPython.core.display.HTML object>"
      ]
     },
     "metadata": {},
     "output_type": "display_data"
    },
    {
     "data": {
      "text/html": [
       "<a href='./data/ima/output/json/all/16168.json'>16168.json</a>"
      ],
      "text/plain": [
       "<IPython.core.display.HTML object>"
      ]
     },
     "metadata": {},
     "output_type": "display_data"
    },
    {
     "data": {
      "text/html": [
       "<a href='./data/ima/output/json/all/69062.json'>69062.json</a>"
      ],
      "text/plain": [
       "<IPython.core.display.HTML object>"
      ]
     },
     "metadata": {},
     "output_type": "display_data"
    },
    {
     "data": {
      "text/html": [
       "<a href='./data/ima/output/json/all/64628.json'>64628.json</a>"
      ],
      "text/plain": [
       "<IPython.core.display.HTML object>"
      ]
     },
     "metadata": {},
     "output_type": "display_data"
    },
    {
     "data": {
      "text/html": [
       "<a href='./data/ima/output/json/all/3457.json'>3457.json</a>"
      ],
      "text/plain": [
       "<IPython.core.display.HTML object>"
      ]
     },
     "metadata": {},
     "output_type": "display_data"
    },
    {
     "data": {
      "text/html": [
       "<a href='./data/ima/output/json/all/85257.json'>85257.json</a>"
      ],
      "text/plain": [
       "<IPython.core.display.HTML object>"
      ]
     },
     "metadata": {},
     "output_type": "display_data"
    },
    {
     "data": {
      "text/html": [
       "<a href='./data/ima/output/json/all/17577.json'>17577.json</a>"
      ],
      "text/plain": [
       "<IPython.core.display.HTML object>"
      ]
     },
     "metadata": {},
     "output_type": "display_data"
    },
    {
     "data": {
      "text/html": [
       "<a href='./data/ima/output/json/all/8407.json'>8407.json</a>"
      ],
      "text/plain": [
       "<IPython.core.display.HTML object>"
      ]
     },
     "metadata": {},
     "output_type": "display_data"
    },
    {
     "data": {
      "text/html": [
       "<a href='./data/ima/output/json/all/64018.json'>64018.json</a>"
      ],
      "text/plain": [
       "<IPython.core.display.HTML object>"
      ]
     },
     "metadata": {},
     "output_type": "display_data"
    },
    {
     "data": {
      "text/html": [
       "<a href='./data/ima/output/json/all/6136.json'>6136.json</a>"
      ],
      "text/plain": [
       "<IPython.core.display.HTML object>"
      ]
     },
     "metadata": {},
     "output_type": "display_data"
    },
    {
     "data": {
      "text/html": [
       "<a href='./data/ima/output/json/all/92160.json'>92160.json</a>"
      ],
      "text/plain": [
       "<IPython.core.display.HTML object>"
      ]
     },
     "metadata": {},
     "output_type": "display_data"
    },
    {
     "data": {
      "text/html": [
       "<a href='./data/ima/output/json/all/68903.json'>68903.json</a>"
      ],
      "text/plain": [
       "<IPython.core.display.HTML object>"
      ]
     },
     "metadata": {},
     "output_type": "display_data"
    },
    {
     "data": {
      "text/html": [
       "<a href='./data/ima/output/json/all/24693.json'>24693.json</a>"
      ],
      "text/plain": [
       "<IPython.core.display.HTML object>"
      ]
     },
     "metadata": {},
     "output_type": "display_data"
    },
    {
     "data": {
      "text/html": [
       "<a href='./data/ima/output/json/all/17425.json'>17425.json</a>"
      ],
      "text/plain": [
       "<IPython.core.display.HTML object>"
      ]
     },
     "metadata": {},
     "output_type": "display_data"
    },
    {
     "data": {
      "text/html": [
       "<a href='./data/ima/output/json/all/24892.json'>24892.json</a>"
      ],
      "text/plain": [
       "<IPython.core.display.HTML object>"
      ]
     },
     "metadata": {},
     "output_type": "display_data"
    },
    {
     "data": {
      "text/html": [
       "<a href='./data/ima/output/json/all/64019.json'>64019.json</a>"
      ],
      "text/plain": [
       "<IPython.core.display.HTML object>"
      ]
     },
     "metadata": {},
     "output_type": "display_data"
    },
    {
     "data": {
      "text/html": [
       "<a href='./data/ima/output/json/all/63355.json'>63355.json</a>"
      ],
      "text/plain": [
       "<IPython.core.display.HTML object>"
      ]
     },
     "metadata": {},
     "output_type": "display_data"
    },
    {
     "data": {
      "text/html": [
       "<a href='./data/ima/output/json/all/25098.json'>25098.json</a>"
      ],
      "text/plain": [
       "<IPython.core.display.HTML object>"
      ]
     },
     "metadata": {},
     "output_type": "display_data"
    },
    {
     "data": {
      "text/html": [
       "<a href='./data/ima/output/json/all/89367.json'>89367.json</a>"
      ],
      "text/plain": [
       "<IPython.core.display.HTML object>"
      ]
     },
     "metadata": {},
     "output_type": "display_data"
    },
    {
     "data": {
      "text/html": [
       "<a href='./data/ima/output/json/all/82696.json'>82696.json</a>"
      ],
      "text/plain": [
       "<IPython.core.display.HTML object>"
      ]
     },
     "metadata": {},
     "output_type": "display_data"
    },
    {
     "data": {
      "text/html": [
       "<a href='./data/ima/output/json/all/1105.json'>1105.json</a>"
      ],
      "text/plain": [
       "<IPython.core.display.HTML object>"
      ]
     },
     "metadata": {},
     "output_type": "display_data"
    },
    {
     "data": {
      "text/html": [
       "<a href='./data/ima/output/json/all/6855.json'>6855.json</a>"
      ],
      "text/plain": [
       "<IPython.core.display.HTML object>"
      ]
     },
     "metadata": {},
     "output_type": "display_data"
    },
    {
     "data": {
      "text/html": [
       "<a href='./data/ima/output/json/all/68181.json'>68181.json</a>"
      ],
      "text/plain": [
       "<IPython.core.display.HTML object>"
      ]
     },
     "metadata": {},
     "output_type": "display_data"
    },
    {
     "data": {
      "text/html": [
       "<a href='./data/ima/output/json/all/52481.json'>52481.json</a>"
      ],
      "text/plain": [
       "<IPython.core.display.HTML object>"
      ]
     },
     "metadata": {},
     "output_type": "display_data"
    },
    {
     "data": {
      "text/html": [
       "<a href='./data/ima/output/json/all/92384.json'>92384.json</a>"
      ],
      "text/plain": [
       "<IPython.core.display.HTML object>"
      ]
     },
     "metadata": {},
     "output_type": "display_data"
    },
    {
     "data": {
      "text/html": [
       "<a href='./data/ima/output/json/all/81052.json'>81052.json</a>"
      ],
      "text/plain": [
       "<IPython.core.display.HTML object>"
      ]
     },
     "metadata": {},
     "output_type": "display_data"
    },
    {
     "data": {
      "text/html": [
       "<a href='./data/ima/output/json/all/21137.json'>21137.json</a>"
      ],
      "text/plain": [
       "<IPython.core.display.HTML object>"
      ]
     },
     "metadata": {},
     "output_type": "display_data"
    },
    {
     "data": {
      "text/html": [
       "<a href='./data/ima/output/json/all/16356.json'>16356.json</a>"
      ],
      "text/plain": [
       "<IPython.core.display.HTML object>"
      ]
     },
     "metadata": {},
     "output_type": "display_data"
    },
    {
     "data": {
      "text/html": [
       "<a href='./data/ima/output/json/all/41018.json'>41018.json</a>"
      ],
      "text/plain": [
       "<IPython.core.display.HTML object>"
      ]
     },
     "metadata": {},
     "output_type": "display_data"
    },
    {
     "data": {
      "text/html": [
       "<a href='./data/ima/output/json/all/20419.json'>20419.json</a>"
      ],
      "text/plain": [
       "<IPython.core.display.HTML object>"
      ]
     },
     "metadata": {},
     "output_type": "display_data"
    },
    {
     "data": {
      "text/html": [
       "<a href='./data/ima/output/json/all/51330.json'>51330.json</a>"
      ],
      "text/plain": [
       "<IPython.core.display.HTML object>"
      ]
     },
     "metadata": {},
     "output_type": "display_data"
    },
    {
     "data": {
      "text/html": [
       "<a href='./data/ima/output/json/all/41019.json'>41019.json</a>"
      ],
      "text/plain": [
       "<IPython.core.display.HTML object>"
      ]
     },
     "metadata": {},
     "output_type": "display_data"
    },
    {
     "data": {
      "text/html": [
       "<a href='./data/ima/output/json/all/92385.json'>92385.json</a>"
      ],
      "text/plain": [
       "<IPython.core.display.HTML object>"
      ]
     },
     "metadata": {},
     "output_type": "display_data"
    },
    {
     "data": {
      "text/html": [
       "<a href='./data/ima/output/json/all/55312.json'>55312.json</a>"
      ],
      "text/plain": [
       "<IPython.core.display.HTML object>"
      ]
     },
     "metadata": {},
     "output_type": "display_data"
    },
    {
     "data": {
      "text/html": [
       "<a href='./data/ima/output/json/all/68180.json'>68180.json</a>"
      ],
      "text/plain": [
       "<IPython.core.display.HTML object>"
      ]
     },
     "metadata": {},
     "output_type": "display_data"
    },
    {
     "data": {
      "text/html": [
       "<a href='./data/ima/output/json/all/49409.json'>49409.json</a>"
      ],
      "text/plain": [
       "<IPython.core.display.HTML object>"
      ]
     },
     "metadata": {},
     "output_type": "display_data"
    },
    {
     "data": {
      "text/html": [
       "<a href='./data/ima/output/json/all/33886.json'>33886.json</a>"
      ],
      "text/plain": [
       "<IPython.core.display.HTML object>"
      ]
     },
     "metadata": {},
     "output_type": "display_data"
    }
   ],
   "source": [
    "import os\n",
    "from IPython.core.display import display, HTML\n",
    "\n",
    "\n",
    "def fn():       # 1.Get file names from directory\n",
    "    file_list=os.listdir(r\"./data/ima/output/json/all/\")\n",
    "   \n",
    "    for file in file_list:\n",
    "        display(HTML(\"<a href='./data/ima/output/json/all/\" + file +\"'>\" + file + \"</a>\"))\n",
    "    \n",
    "\n",
    "fn()"
   ]
  },
  {
   "cell_type": "markdown",
   "id": "54563c1b",
   "metadata": {},
   "source": [
    "## View and Download the Object Linked Art JSON-LD File\n",
    "\n",
    "The final JSON-LD file for the selected object is available at:\n",
    "- [All Objects as Linked Art](allobjects_linkedart.json)"
   ]
  },
  {
   "cell_type": "markdown",
   "id": "e6ae75a0",
   "metadata": {},
   "source": [
    "## Further Reading\n",
    "\n",
    "Visit the [Linked Art website](https://linked.art) for further information on the data model and community activities"
   ]
  }
 ],
 "metadata": {
  "celltoolbar": "Tags",
  "kernelspec": {
   "display_name": "Python 3",
   "language": "python",
   "name": "python3"
  },
  "language_info": {
   "codemirror_mode": {
    "name": "ipython",
    "version": 3
   },
   "file_extension": ".py",
   "mimetype": "text/x-python",
   "name": "python",
   "nbconvert_exporter": "python",
   "pygments_lexer": "ipython3",
   "version": "3.8.8"
  }
 },
 "nbformat": 4,
 "nbformat_minor": 5
}
