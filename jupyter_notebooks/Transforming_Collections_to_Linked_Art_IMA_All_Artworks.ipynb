{
 "cells": [
  {
   "cell_type": "markdown",
   "id": "c4b4ad69",
   "metadata": {},
   "source": [
    "# Catalogue Data to Linked Art - Indianapolis Museum of Art - Transform All Records"
   ]
  },
  {
   "cell_type": "markdown",
   "id": "0b3c9105",
   "metadata": {},
   "source": [
    "## Introduction\n",
    "\n",
    "[Linked Art](https://linked.art) is a community working together to create a shared Model based on Linked Open Data to describe Art. A number of exemplars will be published to demonstrate the processes involved in producing Linked Art JSON-LD, and also the potential applications of Linked Art, on the theme of:\n",
    "- `Transformation` - Documented transformation process - using code, documentation and possibly visualisation\n",
    "- `Reconciliation` - Documented reconciliation process - matching data with an external identifier source\n",
    "- `Visualisation` - Documented transformation of Linked Art JSON-LD to data visualisation\n",
    "\n",
    "This exemplar is concerned with `Transformation` - the transformation process, from collections data to Linked Art JSON-LD."
   ]
  },
  {
   "cell_type": "markdown",
   "id": "27a06349",
   "metadata": {},
   "source": [
    "## Aim of the Notebook\n",
    "The aim of the notebook is to demonstrate how easy it is to transform collections data to Linked Art JSON-LD.\n",
    "## How\n",
    "The notebook provides a documented, interactive code example of the transformation process, from collections data to Linked Art using data from the [Indianapolis Museum of Art (IMA)]((https://discovernewfields.org/)). The notebook transforms all records in sample data from the IMA  to a collection of JSON-LD files, one for each artwork.\n",
    "\n",
    "## Input Data\n",
    "The [Indianapolis Museum of Art (IMA)]((https://discovernewfields.org/)) has transformed a sample of its collections data to Linked Art JSON-LD:\n",
    "- available at https://github.com/IMAmuseum/LinkedArt \n",
    "- sourced from EMu in XML format (EMu source: Catalogue, Rights, Narratives, and Locations modules)\n",
    "- [XML files](https://github.com/IMAmuseum/LinkedArt/blob/master/XML)\n",
    " - [ObjectsSample XML file](https://github.com/IMAmuseum/LinkedArt/blob/master/XML/ObjectsSample.xml) [raw file](https://raw.githubusercontent.com/IMAmuseum/LinkedArt/master/XML/ObjectsSample.xml)\n",
    "\n",
    "<div class='alert alert-block alert-info'>An XML file is used as data input for the notebook, and as a miminum the ObjectsSample XML file should be downloaded.</div>\n",
    "\n",
    "## Attribution\n",
    "\n",
    "- The notebook's coded transformations are based on the IMA's [XSLT file](https://github.com/IMAmuseum/LinkedArt).\n",
    "- The Linked Art data model documentation has been sourced from the [Linked Art website](https://linked.art)\n",
    "- The IMA data has been sourced from the [IMA GitHub repository](https://github.com/IMAmuseum/LinkedArt)"
   ]
  },
  {
   "cell_type": "markdown",
   "id": "43c2e53c",
   "metadata": {},
   "source": [
    "## Transformation Steps\n",
    "\n",
    "### 1. Import What We Need for Notebook\n",
    "- Import Python libraries"
   ]
  },
  {
   "cell_type": "code",
   "execution_count": 167,
   "id": "40d0ee99",
   "metadata": {},
   "outputs": [],
   "source": [
    "try:\n",
    "    import ipywidgets as widgets\n",
    "except:\n",
    "    !pip install ipywidgets\n",
    "    import ipywidgets as widgets\n",
    "\n",
    "from ipywidgets import Layout\n",
    "from ipywidgets import FileUpload\n",
    "\n",
    "try:\n",
    "    import IPython\n",
    "except:\n",
    "    !pip install IPython\n",
    "    import IPython   \n",
    "    \n",
    "from IPython.display import display\n",
    "from IPython.core.display import HTML\n",
    "from IPython.display import IFrame\n",
    "\n",
    "   \n",
    "try:\n",
    "    import xmltodict\n",
    "except:\n",
    "    !pip install xmltodict\n",
    "    import xmltodict\n",
    "\n",
    "try:\n",
    "    import json\n",
    "except:\n",
    "    !pip install json\n",
    "    import json \n",
    "    \n",
    "    \n",
    "\n",
    "try:\n",
    "    import requests\n",
    "except:\n",
    "    !pip install requests\n",
    "    import requests\n",
    "\n",
    "        \n",
    "def widgeText(desc, jdoc, ht):\n",
    "    widg = widgets.Textarea(\n",
    "        value=json.dumps(jdoc, indent=2),\n",
    "        placeholder=\"\",\n",
    "        description=desc,\n",
    "        disabled=False,\n",
    "        layout=Layout(width='100%', height=ht))\n",
    "    return widg\n",
    "\n",
    "#  baseURI for JSON-LD document e.g. https://data.discovernewfields.org/\n",
    "baseURI = \"https://data.discovernewfields.org/\"\n"
   ]
  },
  {
   "cell_type": "markdown",
   "id": "ee8478c1",
   "metadata": {},
   "source": [
    "### 2. Upload XML File\n",
    "- Choose a file on your local system to upload and transform to Linked Art\n",
    "- The IMA files are available to download from: https://github.com/IMAmuseum/LinkedArt/tree/master/XML\n",
    "- Select a file by clicking on the \"Select XML file\" button"
   ]
  },
  {
   "cell_type": "code",
   "execution_count": 168,
   "id": "befa33d0",
   "metadata": {},
   "outputs": [],
   "source": [
    "upload = FileUpload(accept='.xml', multiple=False, description='Select XML file')"
   ]
  },
  {
   "cell_type": "code",
   "execution_count": 170,
   "id": "a28ed6b6",
   "metadata": {},
   "outputs": [
    {
     "data": {
      "text/html": [
       "<div class='alert alert-block alert-info'>Please select a file to transform</div>"
      ],
      "text/plain": [
       "<IPython.core.display.HTML object>"
      ]
     },
     "metadata": {},
     "output_type": "display_data"
    },
    {
     "data": {
      "application/vnd.jupyter.widget-view+json": {
       "model_id": "a9d1487f5e8548c6af767b819de05729",
       "version_major": 2,
       "version_minor": 0
      },
      "text/plain": [
       "FileUpload(value={'ObjectsSample.xml': {'metadata': {'name': 'ObjectsSample.xml', 'type': 'text/xml', 'size': …"
      ]
     },
     "metadata": {},
     "output_type": "display_data"
    }
   ],
   "source": [
    "display(HTML(\"<div class='alert alert-block alert-info'>Please select a file to transform</div>\"))\n",
    "display(upload)"
   ]
  },
  {
   "cell_type": "code",
   "execution_count": 171,
   "id": "2d7add0d",
   "metadata": {},
   "outputs": [
    {
     "data": {
      "text/html": [
       "<div class='alert alert-block alert-success'>File uploaded</div>"
      ],
      "text/plain": [
       "<IPython.core.display.HTML object>"
      ]
     },
     "metadata": {},
     "output_type": "display_data"
    }
   ],
   "source": [
    "obj = False\n",
    "# get content from uploaded file \n",
    "for uploaded_filename in upload.value:\n",
    "    content = upload.value[uploaded_filename]['content']\n",
    "    obj = xmltodict.parse(content) \n",
    "    \n",
    "if obj == False:\n",
    "    display(HTML(\"<div class='alert alert-block alert-danger'>Please select a file to transform</div>\"))\n",
    "else:\n",
    "    display(HTML(\"<div class='alert alert-block alert-success'>File uploaded</div>\"))"
   ]
  },
  {
   "cell_type": "markdown",
   "id": "b258b71c",
   "metadata": {},
   "source": [
    "### 3. Data File as Python dictionary\n",
    "The data file is converted to a Python dictionary, and will be used to transform the collection data for the artwork to JSON-LD. The following shows an example of a single artwork represented in the Python dictionary:"
   ]
  },
  {
   "cell_type": "code",
   "execution_count": 172,
   "id": "36e737f3",
   "metadata": {},
   "outputs": [
    {
     "data": {
      "text/plain": [
       "OrderedDict([('atom',\n",
       "              [OrderedDict([('@name', 'irn'),\n",
       "                            ('@type', 'text'),\n",
       "                            ('@size', 'short'),\n",
       "                            ('#text', '1032')]),\n",
       "               OrderedDict([('@name', 'AdmPublishWebNoPassword'),\n",
       "                            ('@type', 'text'),\n",
       "                            ('@size', 'short'),\n",
       "                            ('#text', 'Yes')]),\n",
       "               OrderedDict([('@name', 'TitAccessionNo'),\n",
       "                            ('@type', 'text'),\n",
       "                            ('@size', 'short'),\n",
       "                            ('#text', '60.63')]),\n",
       "               OrderedDict([('@name', 'TitPreviousAccessionNo'),\n",
       "                            ('@type', 'text'),\n",
       "                            ('@size', 'short'),\n",
       "                            ('#text', 'TR5488/1')]),\n",
       "               OrderedDict([('@name', 'TitObjectStatus'),\n",
       "                            ('@type', 'text'),\n",
       "                            ('@size', 'short'),\n",
       "                            ('#text', 'Accessioned')]),\n",
       "               OrderedDict([('@name', 'TitAccessionDate'),\n",
       "                            ('@type', 'text'),\n",
       "                            ('@size', 'short'),\n",
       "                            ('#text', '1960-10-10')]),\n",
       "               OrderedDict([('@name', 'TitMainTitle'),\n",
       "                            ('@type', 'text'),\n",
       "                            ('@size', 'short'),\n",
       "                            ('#text', 'long-neck vase with cup mouth')]),\n",
       "               OrderedDict([('@name', 'TitSeriesTitle'),\n",
       "                            ('@type', 'text'),\n",
       "                            ('@size', 'short')]),\n",
       "               OrderedDict([('@name', 'TitCollectionTitle'),\n",
       "                            ('@type', 'text'),\n",
       "                            ('@size', 'short')]),\n",
       "               OrderedDict([('@name', 'TitTitleNotes'),\n",
       "                            ('@type', 'text'),\n",
       "                            ('@size', 'short')]),\n",
       "               OrderedDict([('@name', 'TitObjectType'),\n",
       "                            ('@type', 'text'),\n",
       "                            ('@size', 'short'),\n",
       "                            ('#text', 'Containers')]),\n",
       "               OrderedDict([('@name', 'CreDateCreated'),\n",
       "                            ('@type', 'text'),\n",
       "                            ('@size', 'short'),\n",
       "                            ('#text', '100-220')]),\n",
       "               OrderedDict([('@name', 'CreEarliestDate'),\n",
       "                            ('@type', 'text'),\n",
       "                            ('@size', 'short'),\n",
       "                            ('#text', '100')]),\n",
       "               OrderedDict([('@name', 'CreLatestDate'),\n",
       "                            ('@type', 'text'),\n",
       "                            ('@size', 'short'),\n",
       "                            ('#text', '220')]),\n",
       "               OrderedDict([('@name', 'CreCreationPeriod'),\n",
       "                            ('@type', 'text'),\n",
       "                            ('@size', 'short')]),\n",
       "               OrderedDict([('@name', 'CreCreationDynasty'),\n",
       "                            ('@type', 'text'),\n",
       "                            ('@size', 'short'),\n",
       "                            ('#text', 'Eastern Han dynasty')]),\n",
       "               OrderedDict([('@name', 'CrePrimaryInscriptions'),\n",
       "                            ('@type', 'text'),\n",
       "                            ('@size', 'short')]),\n",
       "               OrderedDict([('@name', 'CreCreationNotes'),\n",
       "                            ('@type', 'text'),\n",
       "                            ('@size', 'short')]),\n",
       "               OrderedDict([('@name', 'EdiPublisherDate'),\n",
       "                            ('@type', 'text'),\n",
       "                            ('@size', 'short')]),\n",
       "               OrderedDict([('@name', 'PhyMediumAndSupport'),\n",
       "                            ('@type', 'text'),\n",
       "                            ('@size', 'short'),\n",
       "                            ('#text', 'stoneware, green glaze')]),\n",
       "               OrderedDict([('@name', 'PhyStyle'),\n",
       "                            ('@type', 'text'),\n",
       "                            ('@size', 'short')]),\n",
       "               OrderedDict([('@name', 'PhyTechnique'),\n",
       "                            ('@type', 'text'),\n",
       "                            ('@size', 'short')]),\n",
       "               OrderedDict([('@name', 'EdiImpression'),\n",
       "                            ('@type', 'text'),\n",
       "                            ('@size', 'short')]),\n",
       "               OrderedDict([('@name', 'PhyDescription'),\n",
       "                            ('@type', 'text'),\n",
       "                            ('@size', 'short')]),\n",
       "               OrderedDict([('@name', 'PhyConvertedDims'),\n",
       "                            ('@type', 'text'),\n",
       "                            ('@size', 'short'),\n",
       "                            ('#text', '17-1/4 in.')]),\n",
       "               OrderedDict([('@name', 'SumCreditLine'),\n",
       "                            ('@type', 'text'),\n",
       "                            ('@size', 'short'),\n",
       "                            ('#text', 'Gift of Mr. and Mrs. Eli Lilly')]),\n",
       "               OrderedDict([('@name', 'CreProvenance'),\n",
       "                            ('@type', 'text'),\n",
       "                            ('@size', 'short'),\n",
       "                            ('#text',\n",
       "                             '[Jan W. A. Kleijkamp]; Eli Lilly (May 1950 list noting Nov. 15, 1950 $950.); IMA (60.63)')]),\n",
       "               OrderedDict([('@name', 'PhyCollectionArea'),\n",
       "                            ('@type', 'text'),\n",
       "                            ('@size', 'short'),\n",
       "                            ('#text',\n",
       "                             '905.1-Asian Art (Chinese and other Asian)')]),\n",
       "               OrderedDict([('@name', 'LocMovementType'),\n",
       "                            ('@type', 'text'),\n",
       "                            ('@size', 'short'),\n",
       "                            ('#text', 'Inventory 2014-2015')]),\n",
       "               OrderedDict([('@name', 'AssIsParent'),\n",
       "                            ('@type', 'text'),\n",
       "                            ('@size', 'short'),\n",
       "                            ('#text', 'No')]),\n",
       "               OrderedDict([('@name', 'AdmPublishWebNoPassword'),\n",
       "                            ('@type', 'text'),\n",
       "                            ('@size', 'short'),\n",
       "                            ('#text', 'Yes')])]),\n",
       "             ('table',\n",
       "              [OrderedDict([('@name', 'ObjectTypes'),\n",
       "                            ('tuple',\n",
       "                             OrderedDict([('atom',\n",
       "                                           OrderedDict([('@name',\n",
       "                                                         'PhyMediaCategory'),\n",
       "                                                        ('@type', 'text'),\n",
       "                                                        ('@size', 'short'),\n",
       "                                                        ('#text',\n",
       "                                                         'stoneware')]))]))]),\n",
       "               OrderedDict([('@name', 'CreLocation'),\n",
       "                            ('tuple',\n",
       "                             OrderedDict([('atom',\n",
       "                                           OrderedDict([('@name',\n",
       "                                                         'CreCountry'),\n",
       "                                                        ('@type', 'text'),\n",
       "                                                        ('@size', 'short'),\n",
       "                                                        ('#text',\n",
       "                                                         'China')]))]))]),\n",
       "               OrderedDict([('@name', 'Dimensions'),\n",
       "                            ('tuple',\n",
       "                             OrderedDict([('atom',\n",
       "                                           [OrderedDict([('@name', 'PhyType'),\n",
       "                                                         ('@type', 'text'),\n",
       "                                                         ('@size', 'short'),\n",
       "                                                         ('#text',\n",
       "                                                          'Dimensions')]),\n",
       "                                            OrderedDict([('@name',\n",
       "                                                          'PhyHeight'),\n",
       "                                                         ('@type', 'text'),\n",
       "                                                         ('@size', 'short'),\n",
       "                                                         ('#text',\n",
       "                                                          '17.2500')]),\n",
       "                                            OrderedDict([('@name',\n",
       "                                                          'PhyUnitLength'),\n",
       "                                                         ('@type', 'text'),\n",
       "                                                         ('@size', 'short'),\n",
       "                                                         ('#text', 'in.')]),\n",
       "                                            OrderedDict([('@name',\n",
       "                                                          'PhyDimensionNotes'),\n",
       "                                                         ('@type', 'text'),\n",
       "                                                         ('@size', 'short'),\n",
       "                                                         ('#text',\n",
       "                                                          'Metric: 43.8')])])]))]),\n",
       "               OrderedDict([('@name', 'Rights'),\n",
       "                            ('tuple',\n",
       "                             OrderedDict([('atom',\n",
       "                                           OrderedDict([('@name',\n",
       "                                                         'RigAcknowledgement'),\n",
       "                                                        ('@type', 'text'),\n",
       "                                                        ('@size', 'short'),\n",
       "                                                        ('#text',\n",
       "                                                         'Public Domain')]))]))]),\n",
       "               OrderedDict([('@name', 'Homepage'),\n",
       "                            ('tuple',\n",
       "                             OrderedDict([('atom',\n",
       "                                           [OrderedDict([('@name',\n",
       "                                                          'RefBibliographicNotes'),\n",
       "                                                         ('@type', 'text'),\n",
       "                                                         ('@size', 'short'),\n",
       "                                                         ('#text', '23059')]),\n",
       "                                            OrderedDict([('@name', 'irn'),\n",
       "                                                         ('@type', 'text'),\n",
       "                                                         ('@size', 'short'),\n",
       "                                                         ('#text', '3274')]),\n",
       "                                            OrderedDict([('@name', 'EleTitle'),\n",
       "                                                         ('@type', 'text'),\n",
       "                                                         ('@size', 'short'),\n",
       "                                                         ('#text',\n",
       "                                                          'Dagwood ID for 60.63')]),\n",
       "                                            OrderedDict([('@name',\n",
       "                                                          'EleIdentifier'),\n",
       "                                                         ('@type', 'text'),\n",
       "                                                         ('@size', 'short'),\n",
       "                                                         ('#text',\n",
       "                                                          '23059')])])]))])]),\n",
       "             ('tuple',\n",
       "              [OrderedDict([('@name', 'LocCurrentLocationRef'),\n",
       "                            ('atom',\n",
       "                             [OrderedDict([('@name', 'LocLevel1'),\n",
       "                                           ('@type', 'text'),\n",
       "                                           ('@size', 'short'),\n",
       "                                           ('#text', 'IMA')]),\n",
       "                              OrderedDict([('@name', 'LocLevel2'),\n",
       "                                           ('@type', 'text'),\n",
       "                                           ('@size', 'short'),\n",
       "                                           ('#text', 'storage')]),\n",
       "                              OrderedDict([('@name', 'LocLevel3'),\n",
       "                                           ('@type', 'text'),\n",
       "                                           ('@size', 'short'),\n",
       "                                           ('#text', 'Ac1')])])]),\n",
       "               OrderedDict([('@name', 'AssParentObjectRef'),\n",
       "                            ('atom',\n",
       "                             OrderedDict([('@name', 'irn'),\n",
       "                                          ('@type', 'text'),\n",
       "                                          ('@size', 'short')]))])])])"
      ]
     },
     "metadata": {},
     "output_type": "display_data"
    }
   ],
   "source": [
    "allObjects = obj[\"table\"][\"tuple\"]\n",
    "all_linkedart = {}\n",
    "display(allObjects[0])"
   ]
  },
  {
   "cell_type": "markdown",
   "id": "d393474b",
   "metadata": {},
   "source": [
    "## 4. Build the Linked Art JSON-LD files <a id=\"build\"/>\n",
    "\n",
    "The following steps will transform the catalogue data for all of the artworks to Linked Art JSON-LD. The transformation will be divided into sections, using different parts of the Linked Art data model.\n",
    "\n",
    "- [Core Properties](#core)\n",
    "- [Identifiers](#id)\n",
    "- [Names](#names)\n",
    "- [Classification](#class)\n",
    "- [Home Page](#home)\n",
    "- [Current Location](#loc)\n",
    "- [Linguistic Objects](#ling)\n",
    "- [Production](#prod)\n",
    "- [Acquisition](#owner)\n",
    "- [Custody](#curate)\n",
    "- [Membership](#member)"
   ]
  },
  {
   "cell_type": "code",
   "execution_count": 198,
   "id": "2d7ea51e",
   "metadata": {},
   "outputs": [],
   "source": [
    "def getObjDesc(obj, functionCall):\n",
    "    \n",
    "    desc = {}\n",
    "    earliestdate = \"\"\n",
    "    latestdate = \"\"\n",
    "    datecreated = \"\"\n",
    "    title = \"\"\n",
    "    TitAccessionDate = \"\"\n",
    "   \n",
    "    \n",
    "    for prop in obj[\"atom\"]:      \n",
    "        propName = prop[\"@name\"]        \n",
    "        if \"#text\" in prop:\n",
    "            if propName == \"irn\":\n",
    "                irn = prop[\"#text\"]    \n",
    "            if propName == \"TitAccessionNo\":\n",
    "                titAccessionNo = prop[\"#text\"]\n",
    "            if propName == \"TitMainTitle\":\n",
    "                title = prop[\"#text\"]\n",
    "            if propName == \"TitObjectType\":\n",
    "                titleObjectType = prop[\"#text\"]\n",
    "            if propName == \"SumCreditLine\":\n",
    "                SumCreditLine = prop[\"#text\"]\n",
    "            if propName == 'CreProvenance':\n",
    "                provenance = prop[\"#text\"]\n",
    "            # dates\n",
    "            if propName == \"CreDateCreated\":\n",
    "                datecreated = prop[\"#text\"]\n",
    "            if propName == \"CreEarliestDate\":\n",
    "                earliestdate = prop[\"#text\"]\n",
    "            if propName == \"CreLatestDate\":\n",
    "                latestdate = prop[\"#text\"]\n",
    "            if propName == \"TitAccessionDate\":\n",
    "                TitAccessionDate = prop[\"#text\"]\n",
    "            if propName == 'TitObjectStatus':\n",
    "                TitObjectStatus = prop[\"#text\"]\n",
    "            if propName == \"PhyCollectionArea\":\n",
    "                PhyCollectionArea = prop[\"#text\"]\n",
    "                \n",
    "    if functionCall == \"member\":\n",
    "        desc = objMember(obj,baseURI,PhyCollectionArea)\n",
    "    if functionCall == \"custody\":\n",
    "        desc = objCustody(TitObjectStatus)\n",
    "    if functionCall == \"owner\":\n",
    "        desc = objOwner(obj,baseURI,irn,TitAccessionDate,TitObjectStatus)\n",
    "    if functionCall == \"production\":\n",
    "        desc = objProd(obj, baseURI,irn, earliestdate,latestdate,datecreated)\n",
    "    if functionCall == \"core\":\n",
    "        desc = objCore(obj,baseURI,irn,title) \n",
    "        \n",
    "    return desc"
   ]
  },
  {
   "cell_type": "markdown",
   "id": "2ee1caff",
   "metadata": {},
   "source": [
    "### 4.1 Core Properties <a id='#core'>\n",
    "<a id='core_properties'></a>\n",
    "[Linked Art Data Model documentation](https://linked.art/model/base/#core-properties)\n",
    "\n",
    "There are a few core properties that every resource should have for it to be a useful part of the world of Linked Open Data:\n",
    "\n",
    "- `@context`\n",
    "- `id`\n",
    "- `type`\n",
    "- `_label`\n",
    "\n",
    "#### IMA Data Mapping\n",
    "\n",
    "The `id` is a URL and has been created from the `irn` value together with a URL prefix: https://data.discovernewfields.org/\n",
    "\n",
    "The `_label` is a human readable label, intended for developers and other people reading the data. The value is taken from the `TitMainTitle` property.\n",
    "    \n",
    "--- \n",
    "    \n",
    "[Back to build menu](#build)"
   ]
  },
  {
   "cell_type": "code",
   "execution_count": 174,
   "id": "0c223c37",
   "metadata": {},
   "outputs": [],
   "source": [
    "def objCore(obj, baseURI, irn, title):\n",
    "    core = {}\n",
    "\n",
    "        # minimum Linked Art properties\n",
    "    core[\"@context\"] = \"https://linked.art/ns/v1/linked-art.json\"\n",
    "    core[\"id\"] = baseURI + \"object/\" + irn\n",
    "    core[\"type\"] = \"HumanMadeObject\"\n",
    "    if \"title\" in vars():\n",
    "        core[\"_label\"] = title \n",
    "    \n",
    "    return core"
   ]
  },
  {
   "cell_type": "code",
   "execution_count": 175,
   "id": "d358d72e",
   "metadata": {},
   "outputs": [],
   "source": [
    "for obj in allObjects:\n",
    "    for prop in obj[\"atom\"]:      \n",
    "        propName = prop[\"@name\"]        \n",
    "        if \"#text\" in prop:\n",
    "            if propName == \"irn\":\n",
    "                irn = prop[\"#text\"]   \n",
    "    core = getObjDesc(obj, \"core\")\n",
    "    all_linkedart[irn] = core "
   ]
  },
  {
   "cell_type": "markdown",
   "id": "f04e6fc2",
   "metadata": {},
   "source": [
    "### 4.2 Identifiers <a id=\"id\"/>\n",
    "\n",
    "https://linked.art/model/base/#identifiers\n",
    "\n",
    "Many resources of interest are also given external identifiers, such as accession numbers for objects, ORCIDs for people or groups, lot numbers for auctions, and so forth. Identifiers are represented in a very similar way to names, but instead use the Identifier class. Identifiers will normally have a classification determining which sort of identifier it is, to distinguish between internal repository system assigned numbers from museum assigned accession numbers, for example.\n",
    "\n",
    "As Identifiers and Names use the same `identified_by` property, the JSON will frequently have mixed classes in the array. Unlike Names, Identifiers are not part of human language and thus cannot have translations or a language associated with them."
   ]
  },
  {
   "cell_type": "code",
   "execution_count": 176,
   "id": "6948cf13",
   "metadata": {},
   "outputs": [],
   "source": [
    "def objId(obj, baseURI, irn, titAccessionNo):\n",
    "    artwork = {}       \n",
    "    artwork[\"identified_by\"] = []          \n",
    "    artwork[\"identified_by\"].append({\n",
    "        \"id\": baseURI + \"object/\" + irn + \"/irn\",\n",
    "        \"type\": \"Identifier\",\n",
    "        \"_label\": \"IMA at Newfields Collections Database Number for the Object\",\n",
    "        \"content\": irn,\n",
    "        \"classified_as\": [{\n",
    "            \"id\": \"http://vocab.getty.edu/aat/300404621\",\n",
    "            \"type\": \"Type\",\n",
    "            \"_label\": \"repository numbers\"\n",
    "                        }]\n",
    "                })                 \n",
    "    artwork[\"identified_by\"].append({\n",
    "        \"id\": baseURI + \"object/\" + irn + \"/object-number\",\n",
    "        \"type\": \"Identifier\",\n",
    "        \"_label\": \"IMA at Newfields Object Number for the Object\",\n",
    "        \"content\": titAccessionNo,\n",
    "        \"classified_as\": [{\n",
    "            \"id\": \"http://vocab.getty.edu/aat/300312355\",\n",
    "            \"type\": \"Type\",\n",
    "            \"_label\": \"accession numbers\"\n",
    "                        }]\n",
    "                })\n",
    "        \n",
    "    return artwork"
   ]
  },
  {
   "cell_type": "code",
   "execution_count": 177,
   "id": "780ac8c1",
   "metadata": {},
   "outputs": [],
   "source": [
    "for obj in allObjects:\n",
    "    earliestdate = \"\"\n",
    "    latestdate = \"\"\n",
    "    datecreated = \"\"\n",
    "    \n",
    "    for prop in obj[\"atom\"]:      \n",
    "        propName = prop[\"@name\"]        \n",
    "        if \"#text\" in prop:\n",
    "            if propName == \"irn\":\n",
    "                irn = prop[\"#text\"]    \n",
    "            if propName == \"TitAccessionNo\":\n",
    "                titAccessionNo = prop[\"#text\"]\n",
    "            if propName == \"TitMainTitle\":\n",
    "                title = prop[\"#text\"]\n",
    "            if propName == \"TitObjectType\":\n",
    "                titleObjectType = prop[\"#text\"]\n",
    "            if propName == \"SumCreditLine\":\n",
    "                SumCreditLine = prop[\"#text\"]\n",
    "            if propName == 'CreProvenance':\n",
    "                provenance = prop[\"#text\"]\n",
    "            # dates\n",
    "            if propName == \"CreDateCreated\":\n",
    "                datecreated = prop[\"#text\"]\n",
    "            if propName == \"CreEarliestDate\":\n",
    "                earliestdate = prop[\"#text\"]\n",
    "            if propName == \"CreLatestDate\":\n",
    "                latestdate = prop[\"#text\"]\n",
    "            if propName == \"TitAccessionDate\":\n",
    "                TitAccessionDate = prop[\"#text\"]\n",
    "            if propName == 'TitObjectStatus':\n",
    "                TitObjectStatus = prop[\"#text\"]\n",
    "            if propName == \"PhyCollectionArea\":\n",
    "                PhyCollectionArea = prop[\"#text\"]\n",
    "                \n",
    "    identifiers = objId(obj, baseURI, irn, titAccessionNo)\n",
    "    all_linkedart[irn].update(identifiers)"
   ]
  },
  {
   "cell_type": "markdown",
   "id": "7554143e",
   "metadata": {},
   "source": [
    "### 4.3 Names <a id=\"name\"/>\n",
    "\n",
    "[Linked Art Data Model documentation](https://linked.art/model/base/#names)\n",
    "\n",
    "\n",
    "As the `_label` property is intended as internal documentation for the data, it is strongly recommended that every resource that should be rendered to an end user also have at least one specific name. The name could be for an object, a person, a group, an event or anything else. This pattern uses the `identified_by` property, with a `Name` resource. The value of the name is given in the content property of the `Name`.\n",
    "\n",
    "It is somewhat unintuitive to think of a name as identifying the resource it is associated with, as names are typically not unique. However, as the name itself is uniquely identified rather than just an anonymous string, they are no longer a shared label and instead the particular instance of a name is uniquely associated with the resource. With this formulation, the name instance does uniquely identify the resource.\n",
    "\n",
    "If there is more than one name given, then there should be one that is `classified_as` the primary name for use. This is done by adding the `Primary Name (aat:300404670) term to it. There should be exactly one primary title given per language.\n",
    "\n",
    "Names are also part of human communication, and can have the Linguistic features of the model associated with them, such as having a particular language, or having translations."
   ]
  },
  {
   "cell_type": "code",
   "execution_count": 199,
   "id": "3f070859",
   "metadata": {},
   "outputs": [],
   "source": [
    "def objNames(obj, baseURI, irn, title):\n",
    "\n",
    "    artwork = {}\n",
    "    artwork[\"identified_by\"] = []\n",
    "    \n",
    "    artwork[\"identified_by\"].append({\n",
    "        \"id\": baseURI + \"object/\" + irn + \"/title\",\n",
    "        \"type\": \"Name\",\n",
    "        \"_label\": \"Primary Title for the Object\",\n",
    "        \"content\": title ,\n",
    "        \"classified_as\": [{\n",
    "        \"id\": \"http://vocab.getty.edu/aat/300404670\",\n",
    "        \"type\": \"Type\",\n",
    "        \"_label\": \"preferred terms\"\n",
    "                        }]\n",
    "                })\n",
    "    try:   \n",
    "        if obj[\"table\"][\"@name\"] == \"AltTitles\":\n",
    "            x = 0\n",
    "            for tuple in obj[\"table\"][\"tuple\"]:\n",
    "                x +=1\n",
    "                for atom in tuple:\n",
    "                    content = \"\"\n",
    "                    if atom[\"@name\"] == \"TitAlternateTitles\":\n",
    "                        content = atom[\"#text\"]\n",
    "                        artwork[\"identified_by\"].append({\n",
    "                            \"id\": baseURI + \"object/\" + irn + \"/alt-title-\" + x,\n",
    "                            \"type\": \"Name\",\n",
    "                            \"_label\": \"Alternate Title for the Object\",\n",
    "                            \"content\": content,\n",
    "                            \"classified_as\": [{\n",
    "                                \"id\": \"http://vocab.getty.edu/aat/300417227\",\n",
    "                                \"type\": \"Type\",\n",
    "                                \"_label\": \"alternate titles\"}]   \n",
    "                        })\n",
    "    except:\n",
    "        pass\n",
    "\n",
    "    return artwork"
   ]
  },
  {
   "cell_type": "code",
   "execution_count": 200,
   "id": "61051fe8",
   "metadata": {},
   "outputs": [],
   "source": [
    "for obj in allObjects:\n",
    "    earliestdate = \"\"\n",
    "    latestdate = \"\"\n",
    "    datecreated = \"\"\n",
    "    \n",
    "    for prop in obj[\"atom\"]:      \n",
    "        propName = prop[\"@name\"]        \n",
    "        if \"#text\" in prop:\n",
    "            if propName == \"irn\":\n",
    "                irn = prop[\"#text\"]    \n",
    "            if propName == \"TitAccessionNo\":\n",
    "                titAccessionNo = prop[\"#text\"]\n",
    "            if propName == \"TitMainTitle\":\n",
    "                title = prop[\"#text\"]\n",
    "            if propName == \"TitObjectType\":\n",
    "                titleObjectType = prop[\"#text\"]\n",
    "            if propName == \"SumCreditLine\":\n",
    "                SumCreditLine = prop[\"#text\"]\n",
    "            if propName == 'CreProvenance':\n",
    "                provenance = prop[\"#text\"]\n",
    "            # dates\n",
    "            if propName == \"CreDateCreated\":\n",
    "                datecreated = prop[\"#text\"]\n",
    "            if propName == \"CreEarliestDate\":\n",
    "                earliestdate = prop[\"#text\"]\n",
    "            if propName == \"CreLatestDate\":\n",
    "                latestdate = prop[\"#text\"]\n",
    "            if propName == \"TitAccessionDate\":\n",
    "                TitAccessionDate = prop[\"#text\"]\n",
    "            if propName == 'TitObjectStatus':\n",
    "                TitObjectStatus = prop[\"#text\"]\n",
    "            if propName == \"PhyCollectionArea\":\n",
    "                PhyCollectionArea = prop[\"#text\"]\n",
    "    names = objNames(obj, baseURI, irn, title)\n",
    "    \n",
    "all_linkedart[irn].update(names)"
   ]
  },
  {
   "cell_type": "markdown",
   "id": "a545f1ec",
   "metadata": {},
   "source": [
    "### 4.4 Classification <a id=\"class\"/>\n",
    "\n",
    "https://linked.art/model/base/#types-and-classifications\n",
    "\n",
    "CIDOC-CRM is a framework that must be extended via additional vocabularies and ontologies to be useful. The provided mechanism for doing this is the classified_as property, which refers to a term from a controlled vocabulary. This is in contrast to the `type` property, which is used for CIDOC-CRM defined classes, and a few extensions as needed. \n",
    "\n",
    "The `classified_as` property is thus a way to be more specific about the sort of entity, while maintaining the core information as the class using type. Controlled vocabulary entries should not be used with `type`, nor classes used with `classified_as`.\n",
    "\n",
    "While any external vocabulary of terms can be used, the Getty's Art and Architecture Thesaurus is used whenever possible for consistency and that it is already widespread in the museum domain. The set of terms that have been identified as useful are listed in the community best-practices for recommendations, and within the documentation of the model when a particular choice is essential for interoperability.\n",
    "\n",
    "---\n",
    "[Back to build menu](#build)"
   ]
  },
  {
   "cell_type": "code",
   "execution_count": 201,
   "id": "2a0fde18",
   "metadata": {},
   "outputs": [],
   "source": [
    "def objClass(obj, baseURI, irn, titleObjectType):  \n",
    "    artwork = {}\n",
    "    artwork[\"classified_as\"] = []\n",
    "    \n",
    "    objtype = {}\n",
    "    objtype[\"Drawings\"]     = (300033973, \"drawings (visual works)\")\n",
    "    objtype[\"Multimedia\"]   = (300047910,\"multimedia works\")\n",
    "    objtype[\"Needlework\"]   = (300264072,\"needlework (visual works)\")\n",
    "    objtype[\"Paintings\"]    = (300033618,\"paintings (visual works)\")\n",
    "    objtype[\"Pastel\"]       = (300076922,\"pastels (visual works)\")\n",
    "    objtype[\"Performance\"]  = (300121445,\"performance art\")\n",
    "    objtype[\"Photograph\"]   = (300046300,\"photographs\")\n",
    "    objtype[\"Prints\"]       = (300041273,\"prints (visual works)\")\n",
    "    objtype[\"Sculpture\"]    = (300047090,\"sculpture (visual works)\")\n",
    "    \n",
    "    phyMediaCategory = \"\"          \n",
    "    for table in obj[\"table\"]:\n",
    "        tableName = table[\"@name\"]\n",
    "        if tableName == \"ObjectTypes\":\n",
    "            try:\n",
    "                for atom in table[\"tuple\"]:\n",
    "                    if atom[\"atom\"][\"@name\"] == \"PhyMediaCategory\":\n",
    "                        phyMediaCategory = atom[\"atom\"][\"#text\"]\n",
    "            except:\n",
    "                pass\n",
    "    \n",
    "    if titleObjectType.startswith(\"Visual Work\"):\n",
    "        artwork[\"classified_as\"].append({\n",
    "                    \"id\": \"http://vocab.getty.edu/aat/300133025\",\n",
    "                    \"type\": \"Type\",\n",
    "                    \"_label\": \"works of art\" \n",
    "                })\n",
    "    \n",
    "    for type in objtype:\n",
    "        if type in titleObjectType:\n",
    "            artwork[\"classified_as\"].append ({\n",
    "                    \"id\": \"http://vocab.getty.edu/aat/\" + str(objtype[type][0]),\n",
    "                    \"type\": \"Type\",\n",
    "                    \"_label\": objtype[type][1] \n",
    "                })\n",
    "            \n",
    "    if phyMediaCategory != \"\":  \n",
    "        artwork[\"classified_as\"].append(\n",
    "                    {\n",
    "                    \"id\": baseURI + \"thesauri/type/\",\n",
    "                    \"type\": \"Type\",\n",
    "                    \"_label\": phyMediaCategory\n",
    "                    }\n",
    "                )\n",
    "       \n",
    "    return artwork"
   ]
  },
  {
   "cell_type": "code",
   "execution_count": 202,
   "id": "d6dfbe53",
   "metadata": {},
   "outputs": [],
   "source": [
    "for obj in allObjects:\n",
    "    earliestdate = \"\"\n",
    "    latestdate = \"\"\n",
    "    datecreated = \"\"\n",
    "    \n",
    "    for prop in obj[\"atom\"]:      \n",
    "        propName = prop[\"@name\"]        \n",
    "        if \"#text\" in prop:\n",
    "            if propName == \"irn\":\n",
    "                irn = prop[\"#text\"]    \n",
    "            if propName == \"TitAccessionNo\":\n",
    "                titAccessionNo = prop[\"#text\"]\n",
    "            if propName == \"TitMainTitle\":\n",
    "                title = prop[\"#text\"]\n",
    "            if propName == \"TitObjectType\":\n",
    "                titleObjectType = prop[\"#text\"]\n",
    "            if propName == \"SumCreditLine\":\n",
    "                SumCreditLine = prop[\"#text\"]\n",
    "            if propName == 'CreProvenance':\n",
    "                provenance = prop[\"#text\"]\n",
    "            # dates\n",
    "            if propName == \"CreDateCreated\":\n",
    "                datecreated = prop[\"#text\"]\n",
    "            if propName == \"CreEarliestDate\":\n",
    "                earliestdate = prop[\"#text\"]\n",
    "            if propName == \"CreLatestDate\":\n",
    "                latestdate = prop[\"#text\"]\n",
    "            if propName == \"TitAccessionDate\":\n",
    "                TitAccessionDate = prop[\"#text\"]\n",
    "            if propName == 'TitObjectStatus':\n",
    "                TitObjectStatus = prop[\"#text\"]\n",
    "            if propName == \"PhyCollectionArea\":\n",
    "                PhyCollectionArea = prop[\"#text\"]\n",
    "    if \"titleObjectType\" in vars():\n",
    "        clasf = objClass(obj, baseURI, irn, titleObjectType)\n",
    "        all_linkedart[irn].update(clasf)\n",
    "           "
   ]
  },
  {
   "cell_type": "markdown",
   "id": "5791297e",
   "metadata": {},
   "source": [
    "### 4.5 Home Page <a id=\"home\"/>\n",
    "\n",
    "https://linked.art/model/digital/#home-page\n",
    "\n",
    "A very common scenario is that there is a web page about the object, perhaps managed by a collections management system. For humans, this page is much more useful than the data intended for machines. It can be referenced with the `subject_of` property, and points to a `DigitalObject` which is `classified_as` a web page, or `aat:300264578`. As with digital images, the home page can have a format of \"text/html\" and other properties.\n",
    "\n",
    "---\n",
    "[Back to build menu](#build)\n"
   ]
  },
  {
   "cell_type": "code",
   "execution_count": 203,
   "id": "443118de",
   "metadata": {},
   "outputs": [],
   "source": [
    "def objHome(obj, baseURI,irn):\n",
    "    for table in obj[\"table\"]:   \n",
    "        tableName = table[\"@name\"]\n",
    "        if tableName == \"Homepage\":\n",
    "            try:\n",
    "                for atom in table[\"tuple\"][\"atom\"]:\n",
    "                    if atom[\"@name\"] == \"EleIdentifier\":\n",
    "                        homepageId = atom[\"#text\"]\n",
    "            except:\n",
    "                pass\n",
    "        \n",
    "    artwork = {}\n",
    "    \n",
    "    if \"homepageId\" in vars():\n",
    "        artwork[\"subject_of\"]=[{\n",
    "        \"id\": \"http://collection.imamuseum.org/artwork/\" + homepageId,\n",
    "        \"type\": \"LinguisticObject\",\n",
    "        \"_label\": \"Homepage for the Object\",\n",
    "        \"classified_as\": [\n",
    "            {\n",
    "            \"id\": \"http://vocab/getty.edu/aat/300264578\",\n",
    "            \"type\": \"Type\",\n",
    "            \"_label\": \"Web pages (documents)\"\n",
    "            },\n",
    "            {\n",
    "            \"id\": \"http://vocab.getty.edu/aat/300266277\",\n",
    "            \"type\": \"Type\",\n",
    "            \"_label\": \"home pages\"\n",
    "            }\n",
    "        ],\n",
    "        \"format\": \"text/html\"\n",
    "                }]\n",
    "    \n",
    "    \n",
    "    return artwork"
   ]
  },
  {
   "cell_type": "code",
   "execution_count": 204,
   "id": "4fdef405",
   "metadata": {},
   "outputs": [],
   "source": [
    "for obj in allObjects:\n",
    "    earliestdate = \"\"\n",
    "    latestdate = \"\"\n",
    "    datecreated = \"\"\n",
    "    \n",
    "    for prop in obj[\"atom\"]:      \n",
    "        propName = prop[\"@name\"]        \n",
    "        if \"#text\" in prop:\n",
    "            if propName == \"irn\":\n",
    "                irn = prop[\"#text\"]    \n",
    "            if propName == \"TitAccessionNo\":\n",
    "                titAccessionNo = prop[\"#text\"]\n",
    "            if propName == \"TitMainTitle\":\n",
    "                title = prop[\"#text\"]\n",
    "            if propName == \"TitObjectType\":\n",
    "                titleObjectType = prop[\"#text\"]\n",
    "            if propName == \"SumCreditLine\":\n",
    "                SumCreditLine = prop[\"#text\"]\n",
    "            if propName == 'CreProvenance':\n",
    "                provenance = prop[\"#text\"]\n",
    "            # dates\n",
    "            if propName == \"CreDateCreated\":\n",
    "                datecreated = prop[\"#text\"]\n",
    "            if propName == \"CreEarliestDate\":\n",
    "                earliestdate = prop[\"#text\"]\n",
    "            if propName == \"CreLatestDate\":\n",
    "                latestdate = prop[\"#text\"]\n",
    "            if propName == \"TitAccessionDate\":\n",
    "                TitAccessionDate = prop[\"#text\"]\n",
    "            if propName == 'TitObjectStatus':\n",
    "                TitObjectStatus = prop[\"#text\"]\n",
    "            if propName == \"PhyCollectionArea\":\n",
    "                PhyCollectionArea = prop[\"#text\"]\n",
    "    homepage = objHome(obj,baseURI,irn)\n",
    "    all_linkedart[irn].update(homepage)  "
   ]
  },
  {
   "cell_type": "markdown",
   "id": "ebaebdde",
   "metadata": {},
   "source": [
    "### 4.6 Current Location <a id=\"loc\"/>\n",
    "\n",
    "[Linked Art Data Model Documentation](https://linked.art/model/object/ownership/#location)\n",
    "\n",
    "- The current location of the object is given using the `current_location` property. \n",
    "- This can give a reference to a gallery or specific part of a facility, or be used for the general address of the organization where the object is currently held. \n",
    "- There are further modeling details available about [Places](https://linked.art/model/place/) on the Linked Art website.\n",
    "\n",
    "--- \n",
    "\n",
    "[Back to build menu](#build)\n",
    "\n"
   ]
  },
  {
   "cell_type": "code",
   "execution_count": 205,
   "id": "4d919432",
   "metadata": {},
   "outputs": [],
   "source": [
    "def objLocation(obj, baseURI):\n",
    "    artwork = {}\n",
    "    artwork[\"current_location\"] = []\n",
    "    \n",
    "    level2val = level3val = \"\"\n",
    "\n",
    "    for tuple in obj[\"tuple\"]:  \n",
    "        if tuple['@name'] == 'LocCurrentLocationRef':\n",
    "            for atom in tuple[\"atom\"]:\n",
    "                if \"#text\" in atom:\n",
    "                    if atom[\"@name\"] == 'LocLevel2':\n",
    "                        level2val = atom[\"#text\"]\n",
    "                        see_related_parts = False\n",
    "                    \n",
    "                        if atom[\"#text\"] == 'see related parts':\n",
    "                            see_related_parts = True\n",
    "\n",
    "                    if atom[\"@name\"] == \"LocLevel3\":\n",
    "                        if \"#text\" in atom:\n",
    "                            level3val = atom[\"#text\"]\n",
    "                   \n",
    "# loop through again\n",
    "\n",
    "    for tuple in obj[\"tuple\"]:  \n",
    "        if tuple['@name'] == 'LocCurrentLocationRef':\n",
    "            for atom in tuple[\"atom\"]:\n",
    "                if \"#text\" in atom:\n",
    "                    if atom[\"@name\"] == 'LocLevel1':    \n",
    "                        if atom[\"#text\"] == 'On Loan':\n",
    "                            artwork[\"current_location\"].append(\n",
    "                            {\n",
    "                            \"id\": baseURI + \"thesauri/location/on-loan\",\n",
    "                            \"type\": \"Place\",\n",
    "                            \"_label\": \"On Loan\"\n",
    "                            })\n",
    "                    \n",
    "                        if 'Galler' in atom[\"#text\"] or 'Suite' in atom[\"#text\"]:\n",
    "                            artwork[\"current_location\"].append(\n",
    "                            {\n",
    "                            \"id\": baseURI + \"thesauri/location/\" + level3val,\n",
    "                            \"type\": \"Place\",\n",
    "                            \"_label\": level2val,\n",
    "                            \"classified_as\": [{\n",
    "                                \"id\": \"http://vocab.getty.edu/aat/300240057\",\n",
    "                                \"type\": \"Type\",\n",
    "                                \"_label\": \"galleries (display spaces)\"\n",
    "                                            }] \n",
    "                            })\n",
    "            \n",
    "                    if atom[\"@name\"] == 'LocLevel2': \n",
    "                        if atom[\"#text\"] == 'Efroymson Family Entrance':\n",
    "                             artwork[\"current_location\"].append(\n",
    "                             { \n",
    "                             \"id\": baseURI + \"thesauri/location/F02\",\n",
    "                            \"type\": \"Place\",\n",
    "                            \"_label\": \"Efroymson Family Entrance Pavilion\"\n",
    "                             })\n",
    "                        elif atom[\"#text\"] == 'Nature Park':\n",
    "                             artwork[\"current_location\"].append(\n",
    "                             { \n",
    "                             \"id\": baseURI + \"thesauri/location/ANP\",\n",
    "                            \"type\": \"Place\",\n",
    "                            \"_label\": \"Virginia B. Fairbanks Art &amp; Nature Park\"\n",
    "                             })\n",
    "                        \n",
    "                        elif atom[\"#text\"] == 'Grounds':\n",
    "                            artwork[\"current_location\"].append(\n",
    "                            { \n",
    "                             \"id\": baseURI + \"thesauri/location/G\",\n",
    "                            \"type\": \"Place\",\n",
    "                            \"_label\": \"Newfields Grounds\"})\n",
    "                    \n",
    "                        elif atom[\"#text\"] == 'Asian Visible Storage':\n",
    "                             artwork[\"current_location\"].append(\n",
    "                             { \n",
    "                             \"id\": baseURI + \"thesauri/location/K241\",\n",
    "                            \"type\": \"Place\",\n",
    "                            \"_label\": \"Leah and Charles Reddish Gallery - Asian Visible Storage\",\n",
    "                             \"classified_as\": [\n",
    "                                {\n",
    "                                \"id\": \"http://vocab.getty.edu/aat/300240057\",\n",
    "                                \"type\": \"Type\",\n",
    "                                \"_label\": \"galleries (display spaces)\"\n",
    "                                }]\n",
    "                             })\n",
    "                        elif atom[\"#text\"] == 'Westerley':\n",
    "                            artwork[\"current_location\"].append(\n",
    "                            { \n",
    "                             \"id\": baseURI + \"thesauri/location/westerley\",\n",
    "                            \"type\": \"Place\",\n",
    "                            \"_label\": \"Westerley\"})    \n",
    "                \n",
    "                        else:\n",
    "                            artwork[\"current_location\"].append({ \n",
    "                         \"id\": baseURI + \"thesauri/location/storage\",\n",
    "                        \"type\": \"Place\",\n",
    "                        \"_label\": \"IMA Storage\"})    \n",
    "    return artwork"
   ]
  },
  {
   "cell_type": "code",
   "execution_count": 206,
   "id": "bffa4492",
   "metadata": {},
   "outputs": [],
   "source": [
    "for obj in allObjects:\n",
    "    location = objLocation(obj,baseURI)\n",
    "    all_linkedart[irn].update(location)  "
   ]
  },
  {
   "cell_type": "markdown",
   "id": "7a67b937",
   "metadata": {},
   "source": [
    "### 4.7 Statements about a Resource - Linguistic Objects <a id=\"ling\"/>\n",
    "\n",
    "[Linked Art Data Model Documentation](https://linked.art/model/base/#statements-about-a-resource)\n",
    "    \n",
    "In many cases, current data does not support the level of specificity that the full ontology allows, or the information is simply best expressed in human-readable form. For example, instead of a completely modeled set of parts with materials, many museum collection management systems allow only a single human-readable string for the \"medium\" or \"materials statement\". The same is true in many other situations, including rights or allowable usage statements, dimensions, edition statements and so forth. Any time that there is a description of the resource, with or without qualification as to the type of description, then this pattern can be used to record the descriptive text.\n",
    "\n",
    "The pattern makes use of the `LinguisticObject` class that is used to identify a particular piece of textual content. These Linguistic Objects are then refered to by any other resource. They maintain the statement's text in the content property, and the language of the statement (if known) in the language property.\n",
    "\n",
    "Use cases for this pattern include:\n",
    "\n",
    "- General description of the resource\n",
    "- Materials statement for an object\n",
    "- Attribution statement for an image\n",
    "- Biography for a person\n",
    "- Dimensions statement for a part of an object    \n",
    "\n",
    "---\n",
    "\n",
    "[Back to build menu](#build)"
   ]
  },
  {
   "cell_type": "code",
   "execution_count": 207,
   "id": "41d8917d",
   "metadata": {},
   "outputs": [],
   "source": [
    "def objLing(obj, baseURI,irn, SumCreditLine, provenance):\n",
    "    artwork = {}\n",
    "    artwork[\"referred_to_by\"] = []\n",
    "    if SumCreditLine != \"\":\n",
    "        artwork[\"referred_to_by\"].append(\n",
    "                {\n",
    "                \"id\": baseURI + \"object/\" + irn + \"/credit-line\",\n",
    "                \"type\": \"LinguisticObject\",\n",
    "                \"_label\": \"IMA at Newfields Credit Line for the Object\",\n",
    "                \"content\": SumCreditLine,\n",
    "                \"classified_as\": [\n",
    "                        {\n",
    "                        \"id\": \"http://vocab.getty.edu/aat/300026687\",\n",
    "                        \"type\": \"Type\",\n",
    "                        \"_label\": \"acknowledgments\"\n",
    "                        },\n",
    "                        {\n",
    "                        \"id\": \"http://vocab.getty.edu/aat/300418049\",\n",
    "                        \"type\": \"Type\",\n",
    "                        \"_label\": \"brief texts\"\n",
    "                        }]\n",
    "                })\n",
    "              \n",
    "    if provenance != \"\":\n",
    "        artwork[\"referred_to_by\"].append({\n",
    "                \"id\": baseURI + \"object/\" + irn + \"/provenance-statement\",\n",
    "                    \"type\": \"LinguisticObject\",\n",
    "                    \"_label\": \"IMA Provenance Statement about the Object\",\n",
    "                    \"content\": provenance,\n",
    "                    \"classified_as\": [\n",
    "                        {\n",
    "                            \"id\": \"http://vocab.getty.edu/aat/300055863\",\n",
    "                            \"type\": \"Type\",\n",
    "                            \"_label\": \"provenance (history of ownership)\"\n",
    "                        },\n",
    "                        {\n",
    "                            \"id\": \"http://vocab.getty.edu/aat/300418049\",\n",
    "                            \"type\": \"Type\",\n",
    "                            \"_label\": \"brief texts\"\n",
    "                        }\n",
    "                    ]\n",
    "            })\n",
    "        \n",
    "            \n",
    "    return artwork\n",
    "          "
   ]
  },
  {
   "cell_type": "code",
   "execution_count": 208,
   "id": "b5fd1f9a",
   "metadata": {},
   "outputs": [],
   "source": [
    "for obj in allObjects:\n",
    "    earliestdate = \"\"\n",
    "    latestdate = \"\"\n",
    "    datecreated = \"\"\n",
    "    \n",
    "    for prop in obj[\"atom\"]:      \n",
    "        propName = prop[\"@name\"]        \n",
    "        if \"#text\" in prop:\n",
    "            if propName == \"irn\":\n",
    "                irn = prop[\"#text\"]    \n",
    "            if propName == \"TitAccessionNo\":\n",
    "                titAccessionNo = prop[\"#text\"]\n",
    "            if propName == \"TitMainTitle\":\n",
    "                title = prop[\"#text\"]\n",
    "            if propName == \"TitObjectType\":\n",
    "                titleObjectType = prop[\"#text\"]\n",
    "            if propName == \"SumCreditLine\":\n",
    "                SumCreditLine = prop[\"#text\"]\n",
    "            if propName == 'CreProvenance':\n",
    "                provenance = prop[\"#text\"]\n",
    "            # dates\n",
    "            if propName == \"CreDateCreated\":\n",
    "                datecreated = prop[\"#text\"]\n",
    "            if propName == \"CreEarliestDate\":\n",
    "                earliestdate = prop[\"#text\"]\n",
    "            if propName == \"CreLatestDate\":\n",
    "                latestdate = prop[\"#text\"]\n",
    "            if propName == \"TitAccessionDate\":\n",
    "                TitAccessionDate = prop[\"#text\"]\n",
    "            if propName == 'TitObjectStatus':\n",
    "                TitObjectStatus = prop[\"#text\"]\n",
    "            if propName == \"PhyCollectionArea\":\n",
    "                PhyCollectionArea = prop[\"#text\"]\n",
    "    ling = objLing(obj,baseURI,irn, SumCreditLine, provenance)\n",
    "    all_linkedart[irn].update(ling)  "
   ]
  },
  {
   "cell_type": "markdown",
   "id": "cc603114",
   "metadata": {},
   "source": [
    "## 4.8 Production <a id=\"prod\"/>\n",
    "\n",
    "[Linked Art Data Model Documentation](https://linked.art/model/object/production/)\n",
    "\n",
    "The first activity in an object's lifecycle is its creation, or `Production`. The relationship to the object that was produced by the activity (`produced`) is added to the general activity model, along with the time, location and actors. This follows the base pattern for activities.\n",
    "\n",
    "---\n",
    "\n",
    "[Back to build menu](#build)"
   ]
  },
  {
   "cell_type": "code",
   "execution_count": 209,
   "id": "d5e1a1ba",
   "metadata": {},
   "outputs": [],
   "source": [
    "def objProd(obj, baseURI,irn, earliestdate,latestdate,datecreated):\n",
    "           \n",
    "    artwork = {}\n",
    "    \n",
    "    #produced_by property\n",
    "    artwork[\"produced_by\"] = []\n",
    "    artwork[\"produced_by\"].append({\n",
    "                 \"id\": baseURI + \"object/\" + irn + \"/production\",\n",
    "                \"type\": \"Production\",\n",
    "                \"_label\": \"Production of the Object\"})\n",
    "    \n",
    "    #carried_out_by property\n",
    "    carried_out_by = []\n",
    "    afterfollower = False\n",
    "    for table in obj[\"table\"]:\n",
    "        tableName = table[\"@name\"]\n",
    "        if tableName == \"Creator1\": \n",
    "            if \"atom\" in table[\"tuple\"]:\n",
    "                for atom in table[\"tuple\"][\"atom\"]:\n",
    "                    if atom[\"@name\"] == \"CreCreatorAfterFollower\":\n",
    "                        afterfollower = True\n",
    "                    if atom[\"@name\"] == \"SummaryData\":\n",
    "                        summarydata = atom[\"#text\"]\n",
    "                    \n",
    "            try:   \n",
    "                for atom in table[\"tuple\"][\"atom\"]:\n",
    "                    if atom[\"@name\"] == \"irn\":\n",
    "                        if atom[\"#text\"] not in [2741,10661] or afterfollower == False:\n",
    "                            carried_out_by.append(\n",
    "                                {\n",
    "                                \"id\":  baseURI + \"actor/\" + irn,\n",
    "                                \"type\": \"Actor\",\n",
    "                                \"_label\": summarydata\n",
    "                                }\n",
    "                            )        \n",
    "            except:\n",
    "                pass\n",
    "        \n",
    "            if tableName == \"Creator2\":\n",
    "                for atom in table[\"tuple\"][\"atom\"]:\n",
    "                    if atom[\"@name\"] == \"CreCreationCultureOrPeople\":\n",
    "                        carried_out_by.append(\n",
    "                            {\n",
    "                            \"id\":  baseURI + \"thesauri/culture/\" + atom[\"#text\"],\n",
    "                            \"type\": \"Actor\",\n",
    "                            \"_label\": atom[\"#text\"]\n",
    "                        })\n",
    "                        \n",
    "            if len(carried_out_by) > 0:\n",
    "                artwork[\"produced_by\"].append(\n",
    "                    {\n",
    "                    \"carried_out_by\": carried_out_by\n",
    "                    })\n",
    "                \n",
    "    # timespan property\n",
    "    timespan = False\n",
    "    \n",
    "    \n",
    "    for date in (earliestdate,latestdate,datecreated):\n",
    "        if date != \"\":\n",
    "            timespan = True\n",
    "            \n",
    "    if timespan == True:\n",
    "        #label\n",
    "        label = \"date unknown\"\n",
    "        if datecreated != \"\":\n",
    "            label = datecreated\n",
    "        elif (earliestdate != \"\") or (latestdate != \"\"):\n",
    "            label = earliestdate + \" - \" + latestdate\n",
    "        \n",
    "        timespanObj = {\n",
    "               \"id\": baseURI + \"object/\" + irn + \"/production/timespan\",\n",
    "                \"type\": \"TimeSpan\",\n",
    "                \"_label\": label,\n",
    "            }\n",
    "        \n",
    "        if earliestdate != \"\":\n",
    "            timespanObj[\"begin_of_the_begin\"] = earliestdate\n",
    "    \n",
    "        if latestdate != \"\":\n",
    "            timespanObj[\"end_of_the_end\"] = latestdate\n",
    "        \n",
    "        artwork[\"produced_by\"].append({\"timespan\" : timespanObj}) \n",
    "    \n",
    "    \n",
    "    return artwork\n"
   ]
  },
  {
   "cell_type": "code",
   "execution_count": 210,
   "id": "289ae5f0",
   "metadata": {},
   "outputs": [],
   "source": [
    "for obj in allObjects:\n",
    "    production = getObjDesc(obj, \"production\") \n",
    "    all_linkedart[irn].update(production)  "
   ]
  },
  {
   "cell_type": "markdown",
   "id": "b2c7216a",
   "metadata": {},
   "source": [
    "## 4.9 Current Owner and Acquisition <a id=\"owner\"/>\n",
    "\n",
    "[Linked Art Data Model Documentation](https://linked.art/model/provenance/acquisition/#object-acquisition)\n",
    "\n",
    "Acquisitions are used to describe the transfer of ownership of an object from one owner to the next. The first owner is typically the artist, who would then transfer it to the second owner, to the third owner and so on. The ownership chain can be expressed by repeating this same pattern with the buyer from one acquisition being the seller in the subsequent one. If the previous owner (e.g. the seller if there is a value exchange) or the subsequent owner (e.g. the buyer) is not known for a particular acquisition, then the reference can be left out from the description.\n",
    "\n",
    "The acquistion is not necessarily a purchase, it could be a gift, an inheritance or any other method of gaining the right of ownership of an object.\n",
    "\n",
    "The model encodes this information with an Acquisition part of the overall Provenance Event. The acquisition is the transfer of the right of ownership of an object (referenced in transferred_title_of) from the seller (in transferred_title_from) to the buyer (in transferred_title_to).\n",
    "\n",
    "Each object has its own Acquisition as part of the provenance event, so if a collector buys three paintings from a dealer, then there would be a single Provenance Event with three Acquisitions, all of which transfer the title of a single painting from the dealer to the collector.\n",
    "\n",
    "---\n",
    "\n",
    "[Back to build menu](#build)"
   ]
  },
  {
   "cell_type": "code",
   "execution_count": 211,
   "id": "a93fd664",
   "metadata": {},
   "outputs": [],
   "source": [
    "def objOwner(obj,baseURI,irn,TitAccessionDate,TitObjectStatus):\n",
    "    currentowner = False\n",
    "    artwork = {}\n",
    "    \n",
    "    checkObjStatus = ('Accessioned','Partial Accession')\n",
    "    for status in checkObjStatus:\n",
    "        if status == TitObjectStatus:\n",
    "            currentowner = True\n",
    "    if 'IMA-Owned' in TitObjectStatus:\n",
    "            currentowner = True\n",
    "    \n",
    "    if currentowner == True:\n",
    "        #current_owner\n",
    "        artwork[\"current_owner\"] = [\n",
    "            {\n",
    "            \"id\": \"http://vocab.getty.edu/ulan/500300517\",\n",
    "            \"type\": \"Group\",\n",
    "            \"_label\": \"Indianapolis Museum of Art at Newfields\",\n",
    "            \"classified_as\": [\n",
    "                    {\n",
    "                        \"id\": \"http://vocab.getty.edu/aat/300312281\",\n",
    "                        \"type\": \"Type\",\n",
    "                        \"_label\": \"museums (institutions)\"\n",
    "                    }\n",
    "                    ]\n",
    "            }]\n",
    "                \n",
    "        \n",
    "        if TitAccessionDate != \"\":\n",
    "    \n",
    "            if len(TitAccessionDate) == 4:\n",
    "                begin = TitAccessionDate + \"-01-01T00:00:00.000Z\"\n",
    "                end = TitAccessionDate + \"-12-31T00:00:00.000Z\"\n",
    "        \n",
    "            elif len(TitAccessionDate) == 8:\n",
    "                begin = TitAccessionDate + \"01T00:00:00.000Z\"\n",
    "                end = TitAccessionDate \n",
    "                if '-02-' in TitAccessionDate:\n",
    "                    end = end + \"28\"\n",
    "                if ('-01-','-03-','-05-','-07-','-08-','-09-','-10-','-12-') in TitAccessionDate:\n",
    "                    end = end + \"31\"\n",
    "                if ('-04-','-06-','-09-','-11-'):\n",
    "                    end = end + \"30\"      \n",
    "                end = end + \"T00:00:00\"\n",
    "         \n",
    "            elif len(TitAccessionDate) == 10:\n",
    "                begin = TitAccessionDate + \"T00:00:00.000Z\"\n",
    "                end = TitAccessionDate + \"T00:00:00.000Z\"\n",
    "        \n",
    "            else:\n",
    "                begin = end = \"\"\n",
    "        \n",
    "            timespanjson = [{\n",
    "                    \"id\":  baseURI + \"object/\" + irn + \"/IMA-acquisition/timespan\", \n",
    "                    \"type\": \"TimeSpan\", \n",
    "                    \"_label\": TitAccessionDate,\n",
    "                    }]\n",
    "            if begin != \"\":\n",
    "                timespanjson[0][\"begin_of_the_begin\"] = begin\n",
    "            if end != \"\":\n",
    "                timespanjson[0][\"end_of_the_end\"] = end\n",
    "            \n",
    "            acquired_title_through = [{\n",
    "                                \"id\": baseURI + \"object/\" + irn + \"/IMA-acquisition\",\n",
    "                                \"type\": \"Acquisition\",\n",
    "                                \"_label\": \"IMA at Newfields Acquisition of the Object\",\n",
    "                                \"classified_as\": [{\n",
    "                                    \"id\": \"http://vocab.getty.edu/aat/300157782\",\n",
    "                                    \"type\": \"Type\",\n",
    "                                    \"_label\": \"acquisition (collections management)\"\n",
    "                                                }],\n",
    "                                \"took_place_at\": [{\n",
    "                                    \"id\": \"http://vocab.getty.edu/tgn/7012924\", \n",
    "                                    \"type\": \"Place\", \n",
    "                                    \"_label\": \"Indianapolis, Indiana\"\n",
    "                                                }],\n",
    "                                \"timespan\": timespanjson\n",
    "                                }]\n",
    "\n",
    "        \n",
    "            artwork[\"current_owner\"][0].update({\"acquired_title_through\" : acquired_title_through})\n",
    "        \n",
    "    \n",
    "    return artwork"
   ]
  },
  {
   "cell_type": "code",
   "execution_count": 212,
   "id": "09ff4a60",
   "metadata": {},
   "outputs": [],
   "source": [
    "for obj in allObjects:\n",
    "    acquisition = getObjDesc(obj, \"owner\")\n",
    "    all_linkedart[irn].update(acquisition)  "
   ]
  },
  {
   "cell_type": "markdown",
   "id": "2eeb69bd",
   "metadata": {},
   "source": [
    "## 4.10 Custody <a id=\"curate\"/>\n",
    "\n",
    "[Linked Art Data Model documentation](https://linked.art/model/provenance/custody/#institutional-ownership-departmental-custody)\n",
    "\n",
    "Objects are owned by legal entities, such as museum organizations or individual people. However there may be more information about which department is responsible within a museum for the curation of the object. This is the division between acquisitions (the legal ownership of the object) and custody (the responsibility for looking after the object). If the department is known, then it should be either part of the Provenance Event in which the object is acquired, or a separate provenance event if the object was not accessioned by a department and later came under their care, or was transferred between departments. In these latter cases, the ownership does not change, only the custody of the object.\n",
    "\n",
    "The department becomes the `current_keeper` of the object, whereas the institution is the `current_owner`.\n",
    "\n",
    "---\n",
    "\n",
    "[Back to build menu](#build)"
   ]
  },
  {
   "cell_type": "code",
   "execution_count": 213,
   "id": "dfb620b8",
   "metadata": {},
   "outputs": [],
   "source": [
    "def objCustody(TitObjectStatus):\n",
    "    \n",
    "    currentowner = False\n",
    "    artwork = {}\n",
    "    \n",
    "    checkObjStatus = ('Accessioned','Partial Accession')\n",
    "    for status in checkObjStatus:\n",
    "        if status == TitObjectStatus:\n",
    "            currentowner = True\n",
    "    if 'IMA-Owned' in TitObjectStatus:\n",
    "            currentowner = True\n",
    "            \n",
    "    if currentowner == False:  \n",
    "        artwork[\"current_keeper\"] =  {\n",
    "                \"id\": \"http://vocab.getty.edu/ulan/500300517\",\n",
    "                \"type\": \"Group\",\n",
    "                \"_label\": \"Indianapolis Museum of Art at Newfields\",\n",
    "                \"classified_as\": [\n",
    "                    {\n",
    "                        \"id\": \"http://vocab.getty.edu/aat/300312281\",\n",
    "                        \"type\": \"Type\",\n",
    "                        \"_label\": \"museums (institutions)\"\n",
    "                    }]}\n",
    "    \n",
    "    return artwork"
   ]
  },
  {
   "cell_type": "code",
   "execution_count": 214,
   "id": "cebd1b06",
   "metadata": {},
   "outputs": [],
   "source": [
    "for obj in allObjects:\n",
    "    custody = getObjDesc(obj, \"custody\")\n",
    "    if \"current_keeper\" in custody:\n",
    "        all_linkedart[irn].update(custody)  "
   ]
  },
  {
   "cell_type": "markdown",
   "id": "36a08523",
   "metadata": {},
   "source": [
    "## 4.11 Membership of Collections and Sets <a id=\"member\"/>\n",
    "\n",
    "[Linked Art Data Model Documentation](https://linked.art/model/collection/)\n",
    "\n",
    "There are many use cases for grouping resources together, often of the same class but sometimes of varying types. These use cases are exemplified in the sections below, and range from the set of objects in an auction lot, to dealer inventories and museum collections, exhibitions, a set of related concepts, or the set of people that share a common feature such as gender or nationality.\n",
    "\n",
    "In order to cover all of the use cases with a consistent pattern, we introduce a new `Set` class from outside of CIDOC-CRM. This avoids issues with sets of resources with different types, and the semantics of the identity of objects and collections. If an equivalent class is added into the core CIDOC-CRM ontology in the future, a new major version of the specification will change to using it.\n",
    "\n",
    "### Sets \n",
    "\n",
    "Core Features\n",
    "\n",
    "Sets are conceptual groupings, rather than physical ones. The set of objects in a virtual exhibition or simply the set of a person's favorite objects never change their physical state by being part of the Set or not. They are, thus, created by a `Creation`, not by a `Production`.\n",
    "\n",
    "Like any core resource, Set must have an id and type, are likely to have additional classifications, and can have `Identifiers` and `Names`. They can have statements made about them, and have member resources. These member resources are included via the `member` property rather than `part`, or via `member_of` from the included resource to the `Set`.\n",
    "\n",
    "---\n",
    "\n",
    "[Back to build menu](#build)"
   ]
  },
  {
   "cell_type": "code",
   "execution_count": 215,
   "id": "1872285b",
   "metadata": {},
   "outputs": [],
   "source": [
    "def objMember(obj,baseURI,PhyCollectionArea):\n",
    "    artwork={}\n",
    "    if PhyCollectionArea != \"\":\n",
    "        artwork[\"member_of\"] = [{\n",
    "                 \"id\": baseURI + \"collection/\" + PhyCollectionArea,\n",
    "                    \"type\": \"Set\",\n",
    "                    \"_label\": \"Collection of IMA at Newfields' \" + PhyCollectionArea.split(\"-\",1)[1]  + \" Department\",\n",
    "                    \"classified_as\": [\n",
    "                        {\n",
    "                            \"id\": \"http://vocab.getty.edu/aat/300025976\",\n",
    "                            \"type\": \"Type\",\n",
    "                            \"_label\": \"collections (object groupings)\"\n",
    "                        }]\n",
    "            }]\n",
    "    return artwork "
   ]
  },
  {
   "cell_type": "code",
   "execution_count": 216,
   "id": "bfaec9cf",
   "metadata": {},
   "outputs": [],
   "source": [
    "for obj in allObjects:\n",
    "    member = getObjDesc(obj, \"member\")\n",
    "    all_linkedart[irn].update(member) "
   ]
  },
  {
   "cell_type": "markdown",
   "id": "b7efee8c",
   "metadata": {},
   "source": [
    "### View the final Linked Art JSON-LD representation for the selected object\n",
    "\n",
    "The final Linked Art JSON-LD representation of the object is now available:"
   ]
  },
  {
   "cell_type": "code",
   "execution_count": 217,
   "id": "7d8c916a",
   "metadata": {},
   "outputs": [
    {
     "data": {
      "application/vnd.jupyter.widget-view+json": {
       "model_id": "61c637ee5adc4804aa644bca8f6603e5",
       "version_major": 2,
       "version_minor": 0
      },
      "text/plain": [
       "Textarea(value='{\\n  \"1032\": {\\n    \"@context\": \"https://linked.art/ns/v1/linked-art.json\",\\n    \"id\": \"https:…"
      ]
     },
     "metadata": {},
     "output_type": "display_data"
    }
   ],
   "source": [
    "# iterate through file and produce json files for each object\n",
    "\n",
    "for irn in all_linkedart:\n",
    "    \n",
    "    text_file = open(\"./data/ima/output/json/all/\" + irn + \".json\", \"wt\")\n",
    "    n = text_file.write(json.dumps(all_linkedart[irn]))\n",
    "    text_file.close()\n",
    "\n",
    "f = open(\"./data/ima/output/json/all/allobjects_linkedart.json\", \"w\")\n",
    "f.write(json.dumps(jdoc, indent=2))\n",
    "f.close() \n",
    "\n",
    "widgeText(\"Linked Art\", all_linkedart ,'400px' )"
   ]
  },
  {
   "cell_type": "code",
   "execution_count": 219,
   "id": "3481e09d",
   "metadata": {},
   "outputs": [
    {
     "data": {
      "text/html": [
       "<a href='./data/ima/output/json/all/1065.json'>1065.json</a>"
      ],
      "text/plain": [
       "<IPython.core.display.HTML object>"
      ]
     },
     "metadata": {},
     "output_type": "display_data"
    },
    {
     "data": {
      "text/html": [
       "<a href='./data/ima/output/json/all/1032.json'>1032.json</a>"
      ],
      "text/plain": [
       "<IPython.core.display.HTML object>"
      ]
     },
     "metadata": {},
     "output_type": "display_data"
    },
    {
     "data": {
      "text/html": [
       "<a href='./data/ima/output/json/all/46950.json'>46950.json</a>"
      ],
      "text/plain": [
       "<IPython.core.display.HTML object>"
      ]
     },
     "metadata": {},
     "output_type": "display_data"
    },
    {
     "data": {
      "text/html": [
       "<a href='./data/ima/output/json/all/14365.json'>14365.json</a>"
      ],
      "text/plain": [
       "<IPython.core.display.HTML object>"
      ]
     },
     "metadata": {},
     "output_type": "display_data"
    },
    {
     "data": {
      "text/html": [
       "<a href='./data/ima/output/json/all/67743.json'>67743.json</a>"
      ],
      "text/plain": [
       "<IPython.core.display.HTML object>"
      ]
     },
     "metadata": {},
     "output_type": "display_data"
    },
    {
     "data": {
      "text/html": [
       "<a href='./data/ima/output/json/all/90817.json'>90817.json</a>"
      ],
      "text/plain": [
       "<IPython.core.display.HTML object>"
      ]
     },
     "metadata": {},
     "output_type": "display_data"
    },
    {
     "data": {
      "text/html": [
       "<a href='./data/ima/output/json/all/21288.json'>21288.json</a>"
      ],
      "text/plain": [
       "<IPython.core.display.HTML object>"
      ]
     },
     "metadata": {},
     "output_type": "display_data"
    },
    {
     "data": {
      "text/html": [
       "<a href='./data/ima/output/json/all/89163.json'>89163.json</a>"
      ],
      "text/plain": [
       "<IPython.core.display.HTML object>"
      ]
     },
     "metadata": {},
     "output_type": "display_data"
    },
    {
     "data": {
      "text/html": [
       "<a href='./data/ima/output/json/all/92386.json'>92386.json</a>"
      ],
      "text/plain": [
       "<IPython.core.display.HTML object>"
      ]
     },
     "metadata": {},
     "output_type": "display_data"
    },
    {
     "data": {
      "text/html": [
       "<a href='./data/ima/output/json/all/93739.json'>93739.json</a>"
      ],
      "text/plain": [
       "<IPython.core.display.HTML object>"
      ]
     },
     "metadata": {},
     "output_type": "display_data"
    },
    {
     "data": {
      "text/html": [
       "<a href='./data/ima/output/json/all/68182.json'>68182.json</a>"
      ],
      "text/plain": [
       "<IPython.core.display.HTML object>"
      ]
     },
     "metadata": {},
     "output_type": "display_data"
    },
    {
     "data": {
      "text/html": [
       "<a href='./data/ima/output/json/all/3521.json'>3521.json</a>"
      ],
      "text/plain": [
       "<IPython.core.display.HTML object>"
      ]
     },
     "metadata": {},
     "output_type": "display_data"
    },
    {
     "data": {
      "text/html": [
       "<a href='./data/ima/output/json/all/47035.json'>47035.json</a>"
      ],
      "text/plain": [
       "<IPython.core.display.HTML object>"
      ]
     },
     "metadata": {},
     "output_type": "display_data"
    },
    {
     "data": {
      "text/html": [
       "<a href='./data/ima/output/json/all/69063.json'>69063.json</a>"
      ],
      "text/plain": [
       "<IPython.core.display.HTML object>"
      ]
     },
     "metadata": {},
     "output_type": "display_data"
    },
    {
     "data": {
      "text/html": [
       "<a href='./data/ima/output/json/all/identified_by.json'>identified_by.json</a>"
      ],
      "text/plain": [
       "<IPython.core.display.HTML object>"
      ]
     },
     "metadata": {},
     "output_type": "display_data"
    },
    {
     "data": {
      "text/html": [
       "<a href='./data/ima/output/json/all/14617.json'>14617.json</a>"
      ],
      "text/plain": [
       "<IPython.core.display.HTML object>"
      ]
     },
     "metadata": {},
     "output_type": "display_data"
    },
    {
     "data": {
      "text/html": [
       "<a href='./data/ima/output/json/all/89368.json'>89368.json</a>"
      ],
      "text/plain": [
       "<IPython.core.display.HTML object>"
      ]
     },
     "metadata": {},
     "output_type": "display_data"
    },
    {
     "data": {
      "text/html": [
       "<a href='./data/ima/output/json/all/37383.json'>37383.json</a>"
      ],
      "text/plain": [
       "<IPython.core.display.HTML object>"
      ]
     },
     "metadata": {},
     "output_type": "display_data"
    },
    {
     "data": {
      "text/html": [
       "<a href='./data/ima/output/json/all/92158.json'>92158.json</a>"
      ],
      "text/plain": [
       "<IPython.core.display.HTML object>"
      ]
     },
     "metadata": {},
     "output_type": "display_data"
    },
    {
     "data": {
      "text/html": [
       "<a href='./data/ima/output/json/all/allobjects_linkedart.json'>allobjects_linkedart.json</a>"
      ],
      "text/plain": [
       "<IPython.core.display.HTML object>"
      ]
     },
     "metadata": {},
     "output_type": "display_data"
    },
    {
     "data": {
      "text/html": [
       "<a href='./data/ima/output/json/all/92159.json'>92159.json</a>"
      ],
      "text/plain": [
       "<IPython.core.display.HTML object>"
      ]
     },
     "metadata": {},
     "output_type": "display_data"
    },
    {
     "data": {
      "text/html": [
       "<a href='./data/ima/output/json/all/89369.json'>89369.json</a>"
      ],
      "text/plain": [
       "<IPython.core.display.HTML object>"
      ]
     },
     "metadata": {},
     "output_type": "display_data"
    },
    {
     "data": {
      "text/html": [
       "<a href='./data/ima/output/json/all/16410.json'>16410.json</a>"
      ],
      "text/plain": [
       "<IPython.core.display.HTML object>"
      ]
     },
     "metadata": {},
     "output_type": "display_data"
    },
    {
     "data": {
      "text/html": [
       "<a href='./data/ima/output/json/all/64017.json'>64017.json</a>"
      ],
      "text/plain": [
       "<IPython.core.display.HTML object>"
      ]
     },
     "metadata": {},
     "output_type": "display_data"
    },
    {
     "data": {
      "text/html": [
       "<a href='./data/ima/output/json/all/89164.json'>89164.json</a>"
      ],
      "text/plain": [
       "<IPython.core.display.HTML object>"
      ]
     },
     "metadata": {},
     "output_type": "display_data"
    },
    {
     "data": {
      "text/html": [
       "<a href='./data/ima/output/json/all/16168.json'>16168.json</a>"
      ],
      "text/plain": [
       "<IPython.core.display.HTML object>"
      ]
     },
     "metadata": {},
     "output_type": "display_data"
    },
    {
     "data": {
      "text/html": [
       "<a href='./data/ima/output/json/all/69062.json'>69062.json</a>"
      ],
      "text/plain": [
       "<IPython.core.display.HTML object>"
      ]
     },
     "metadata": {},
     "output_type": "display_data"
    },
    {
     "data": {
      "text/html": [
       "<a href='./data/ima/output/json/all/64628.json'>64628.json</a>"
      ],
      "text/plain": [
       "<IPython.core.display.HTML object>"
      ]
     },
     "metadata": {},
     "output_type": "display_data"
    },
    {
     "data": {
      "text/html": [
       "<a href='./data/ima/output/json/all/3457.json'>3457.json</a>"
      ],
      "text/plain": [
       "<IPython.core.display.HTML object>"
      ]
     },
     "metadata": {},
     "output_type": "display_data"
    },
    {
     "data": {
      "text/html": [
       "<a href='./data/ima/output/json/all/85257.json'>85257.json</a>"
      ],
      "text/plain": [
       "<IPython.core.display.HTML object>"
      ]
     },
     "metadata": {},
     "output_type": "display_data"
    },
    {
     "data": {
      "text/html": [
       "<a href='./data/ima/output/json/all/17577.json'>17577.json</a>"
      ],
      "text/plain": [
       "<IPython.core.display.HTML object>"
      ]
     },
     "metadata": {},
     "output_type": "display_data"
    },
    {
     "data": {
      "text/html": [
       "<a href='./data/ima/output/json/all/8407.json'>8407.json</a>"
      ],
      "text/plain": [
       "<IPython.core.display.HTML object>"
      ]
     },
     "metadata": {},
     "output_type": "display_data"
    },
    {
     "data": {
      "text/html": [
       "<a href='./data/ima/output/json/all/64018.json'>64018.json</a>"
      ],
      "text/plain": [
       "<IPython.core.display.HTML object>"
      ]
     },
     "metadata": {},
     "output_type": "display_data"
    },
    {
     "data": {
      "text/html": [
       "<a href='./data/ima/output/json/all/6136.json'>6136.json</a>"
      ],
      "text/plain": [
       "<IPython.core.display.HTML object>"
      ]
     },
     "metadata": {},
     "output_type": "display_data"
    },
    {
     "data": {
      "text/html": [
       "<a href='./data/ima/output/json/all/92160.json'>92160.json</a>"
      ],
      "text/plain": [
       "<IPython.core.display.HTML object>"
      ]
     },
     "metadata": {},
     "output_type": "display_data"
    },
    {
     "data": {
      "text/html": [
       "<a href='./data/ima/output/json/all/68903.json'>68903.json</a>"
      ],
      "text/plain": [
       "<IPython.core.display.HTML object>"
      ]
     },
     "metadata": {},
     "output_type": "display_data"
    },
    {
     "data": {
      "text/html": [
       "<a href='./data/ima/output/json/all/24693.json'>24693.json</a>"
      ],
      "text/plain": [
       "<IPython.core.display.HTML object>"
      ]
     },
     "metadata": {},
     "output_type": "display_data"
    },
    {
     "data": {
      "text/html": [
       "<a href='./data/ima/output/json/all/17425.json'>17425.json</a>"
      ],
      "text/plain": [
       "<IPython.core.display.HTML object>"
      ]
     },
     "metadata": {},
     "output_type": "display_data"
    },
    {
     "data": {
      "text/html": [
       "<a href='./data/ima/output/json/all/24892.json'>24892.json</a>"
      ],
      "text/plain": [
       "<IPython.core.display.HTML object>"
      ]
     },
     "metadata": {},
     "output_type": "display_data"
    },
    {
     "data": {
      "text/html": [
       "<a href='./data/ima/output/json/all/64019.json'>64019.json</a>"
      ],
      "text/plain": [
       "<IPython.core.display.HTML object>"
      ]
     },
     "metadata": {},
     "output_type": "display_data"
    },
    {
     "data": {
      "text/html": [
       "<a href='./data/ima/output/json/all/63355.json'>63355.json</a>"
      ],
      "text/plain": [
       "<IPython.core.display.HTML object>"
      ]
     },
     "metadata": {},
     "output_type": "display_data"
    },
    {
     "data": {
      "text/html": [
       "<a href='./data/ima/output/json/all/25098.json'>25098.json</a>"
      ],
      "text/plain": [
       "<IPython.core.display.HTML object>"
      ]
     },
     "metadata": {},
     "output_type": "display_data"
    },
    {
     "data": {
      "text/html": [
       "<a href='./data/ima/output/json/all/89367.json'>89367.json</a>"
      ],
      "text/plain": [
       "<IPython.core.display.HTML object>"
      ]
     },
     "metadata": {},
     "output_type": "display_data"
    },
    {
     "data": {
      "text/html": [
       "<a href='./data/ima/output/json/all/82696.json'>82696.json</a>"
      ],
      "text/plain": [
       "<IPython.core.display.HTML object>"
      ]
     },
     "metadata": {},
     "output_type": "display_data"
    },
    {
     "data": {
      "text/html": [
       "<a href='./data/ima/output/json/all/1105.json'>1105.json</a>"
      ],
      "text/plain": [
       "<IPython.core.display.HTML object>"
      ]
     },
     "metadata": {},
     "output_type": "display_data"
    },
    {
     "data": {
      "text/html": [
       "<a href='./data/ima/output/json/all/6855.json'>6855.json</a>"
      ],
      "text/plain": [
       "<IPython.core.display.HTML object>"
      ]
     },
     "metadata": {},
     "output_type": "display_data"
    },
    {
     "data": {
      "text/html": [
       "<a href='./data/ima/output/json/all/68181.json'>68181.json</a>"
      ],
      "text/plain": [
       "<IPython.core.display.HTML object>"
      ]
     },
     "metadata": {},
     "output_type": "display_data"
    },
    {
     "data": {
      "text/html": [
       "<a href='./data/ima/output/json/all/52481.json'>52481.json</a>"
      ],
      "text/plain": [
       "<IPython.core.display.HTML object>"
      ]
     },
     "metadata": {},
     "output_type": "display_data"
    },
    {
     "data": {
      "text/html": [
       "<a href='./data/ima/output/json/all/_label.json'>_label.json</a>"
      ],
      "text/plain": [
       "<IPython.core.display.HTML object>"
      ]
     },
     "metadata": {},
     "output_type": "display_data"
    },
    {
     "data": {
      "text/html": [
       "<a href='./data/ima/output/json/all/92384.json'>92384.json</a>"
      ],
      "text/plain": [
       "<IPython.core.display.HTML object>"
      ]
     },
     "metadata": {},
     "output_type": "display_data"
    },
    {
     "data": {
      "text/html": [
       "<a href='./data/ima/output/json/all/81052.json'>81052.json</a>"
      ],
      "text/plain": [
       "<IPython.core.display.HTML object>"
      ]
     },
     "metadata": {},
     "output_type": "display_data"
    },
    {
     "data": {
      "text/html": [
       "<a href='./data/ima/output/json/all/id.json'>id.json</a>"
      ],
      "text/plain": [
       "<IPython.core.display.HTML object>"
      ]
     },
     "metadata": {},
     "output_type": "display_data"
    },
    {
     "data": {
      "text/html": [
       "<a href='./data/ima/output/json/all/type.json'>type.json</a>"
      ],
      "text/plain": [
       "<IPython.core.display.HTML object>"
      ]
     },
     "metadata": {},
     "output_type": "display_data"
    },
    {
     "data": {
      "text/html": [
       "<a href='./data/ima/output/json/all/21137.json'>21137.json</a>"
      ],
      "text/plain": [
       "<IPython.core.display.HTML object>"
      ]
     },
     "metadata": {},
     "output_type": "display_data"
    },
    {
     "data": {
      "text/html": [
       "<a href='./data/ima/output/json/all/16356.json'>16356.json</a>"
      ],
      "text/plain": [
       "<IPython.core.display.HTML object>"
      ]
     },
     "metadata": {},
     "output_type": "display_data"
    },
    {
     "data": {
      "text/html": [
       "<a href='./data/ima/output/json/all/41018.json'>41018.json</a>"
      ],
      "text/plain": [
       "<IPython.core.display.HTML object>"
      ]
     },
     "metadata": {},
     "output_type": "display_data"
    },
    {
     "data": {
      "text/html": [
       "<a href='./data/ima/output/json/all/20419.json'>20419.json</a>"
      ],
      "text/plain": [
       "<IPython.core.display.HTML object>"
      ]
     },
     "metadata": {},
     "output_type": "display_data"
    },
    {
     "data": {
      "text/html": [
       "<a href='./data/ima/output/json/all/51330.json'>51330.json</a>"
      ],
      "text/plain": [
       "<IPython.core.display.HTML object>"
      ]
     },
     "metadata": {},
     "output_type": "display_data"
    },
    {
     "data": {
      "text/html": [
       "<a href='./data/ima/output/json/all/41019.json'>41019.json</a>"
      ],
      "text/plain": [
       "<IPython.core.display.HTML object>"
      ]
     },
     "metadata": {},
     "output_type": "display_data"
    },
    {
     "data": {
      "text/html": [
       "<a href='./data/ima/output/json/all/92385.json'>92385.json</a>"
      ],
      "text/plain": [
       "<IPython.core.display.HTML object>"
      ]
     },
     "metadata": {},
     "output_type": "display_data"
    },
    {
     "data": {
      "text/html": [
       "<a href='./data/ima/output/json/all/@context.json'>@context.json</a>"
      ],
      "text/plain": [
       "<IPython.core.display.HTML object>"
      ]
     },
     "metadata": {},
     "output_type": "display_data"
    },
    {
     "data": {
      "text/html": [
       "<a href='./data/ima/output/json/all/55312.json'>55312.json</a>"
      ],
      "text/plain": [
       "<IPython.core.display.HTML object>"
      ]
     },
     "metadata": {},
     "output_type": "display_data"
    },
    {
     "data": {
      "text/html": [
       "<a href='./data/ima/output/json/all/68180.json'>68180.json</a>"
      ],
      "text/plain": [
       "<IPython.core.display.HTML object>"
      ]
     },
     "metadata": {},
     "output_type": "display_data"
    },
    {
     "data": {
      "text/html": [
       "<a href='./data/ima/output/json/all/49409.json'>49409.json</a>"
      ],
      "text/plain": [
       "<IPython.core.display.HTML object>"
      ]
     },
     "metadata": {},
     "output_type": "display_data"
    },
    {
     "data": {
      "text/html": [
       "<a href='./data/ima/output/json/all/33886.json'>33886.json</a>"
      ],
      "text/plain": [
       "<IPython.core.display.HTML object>"
      ]
     },
     "metadata": {},
     "output_type": "display_data"
    }
   ],
   "source": [
    "import os\n",
    "from IPython.core.display import display, HTML\n",
    "\n",
    "\n",
    "def fn():       # 1.Get file names from directory\n",
    "    file_list=os.listdir(r\"./data/ima/output/json/all/\")\n",
    "   \n",
    "    for file in file_list:\n",
    "        display(HTML(\"<a href='./data/ima/output/json/all/\" + file +\"'>\" + file + \"</a>\"))\n",
    "    \n",
    "\n",
    "fn()"
   ]
  },
  {
   "cell_type": "markdown",
   "id": "e6ae75a0",
   "metadata": {},
   "source": [
    "## Further Reading\n",
    "\n",
    "Visit the [Linked Art website](https://linked.art) for further information on the data model and community activities."
   ]
  }
 ],
 "metadata": {
  "celltoolbar": "Tags",
  "kernelspec": {
   "display_name": "Python 3",
   "language": "python",
   "name": "python3"
  },
  "language_info": {
   "codemirror_mode": {
    "name": "ipython",
    "version": 3
   },
   "file_extension": ".py",
   "mimetype": "text/x-python",
   "name": "python",
   "nbconvert_exporter": "python",
   "pygments_lexer": "ipython3",
   "version": "3.8.8"
  }
 },
 "nbformat": 4,
 "nbformat_minor": 5
}
