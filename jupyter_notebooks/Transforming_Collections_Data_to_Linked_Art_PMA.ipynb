{
 "cells": [
  {
   "cell_type": "markdown",
   "id": "11e94730",
   "metadata": {},
   "source": [
    "#  Transforming Collections Data to Linked Art - Philadelphia Museum of Art"
   ]
  },
  {
   "cell_type": "markdown",
   "id": "785212c2",
   "metadata": {},
   "source": [
    "## Introduction\n",
    "\n",
    "[Linked Art](https://linked.art) is a community working together to create a shared Model based on Linked Open Data to describe Art. A number of exemplars will be published to demonstrate the processes involved in producing Linked Art JSON-LD, and also the potential applications of Linked Art, on the theme of:\n",
    "- `Transformation` - Documented transformation process - using code, documentation and possibly visualisation\n",
    "- `Reconciliation` - Documented reconciliation process - matching data with an external identifier source\n",
    "- `Visualisation` - Documented transformation of Linked Art JSON-LD to data visualisation\n",
    "\n",
    "This exemplar is concerned with `Transformation` - the transformation process, from collections data to Linked Art JSON-LD."
   ]
  },
  {
   "cell_type": "markdown",
   "id": "c0e616a9",
   "metadata": {},
   "source": [
    "## Aim of the Notebook\n",
    "The aim of the notebook is to demonstrate how easy it is to transform collections data to Linked Art JSON-LD.\n",
    "## How\n",
    "The notebook provides a documented, interactive code example of the transformation process, from collections data to Linked Art using data from the Philadelphia Museum of Art (PMA). \n",
    "\n",
    "## Input Data\n",
    "\n",
    "## Attribution\n",
    "\n",
    "- The Linked Art data model documentation has been sourced from the [Linked Art website](https://linked.art)"
   ]
  },
  {
   "cell_type": "markdown",
   "id": "270dddcf",
   "metadata": {},
   "source": [
    "## Transformation Steps\n",
    "\n",
    "### 1. Import What We Need for Notebook\n",
    "- Import Python libraries"
   ]
  },
  {
   "cell_type": "code",
   "execution_count": 1,
   "id": "e14c71a3",
   "metadata": {},
   "outputs": [],
   "source": [
    "try:\n",
    "    import ipywidgets as widgets\n",
    "except:\n",
    "    !pip install ipywidgets\n",
    "    import ipywidgets as widgets\n",
    "\n",
    "from ipywidgets import Layout\n",
    "from ipywidgets import FileUpload\n",
    "\n",
    "try:\n",
    "    import IPython\n",
    "except:\n",
    "    !pip install IPython\n",
    "    import IPython   \n",
    "    \n",
    "from IPython.display import display\n",
    "from IPython.core.display import HTML\n",
    "from IPython.display import IFrame\n",
    "\n",
    "   \n",
    "try:\n",
    "    import xmltodict\n",
    "except:\n",
    "    !pip install xmltodict\n",
    "    import xmltodict\n",
    "\n",
    "try:\n",
    "    import json\n",
    "except:\n",
    "    !pip install json\n",
    "    import json \n",
    "    \n",
    "    \n",
    "\n",
    "try:\n",
    "    import requests\n",
    "except:\n",
    "    !pip install requests\n",
    "    import requests\n",
    "\n",
    "        \n",
    "#  baseURI for JSON-LD document\n",
    "baseURI = \"https://philamuseum.org/collection/object/\"\n"
   ]
  },
  {
   "cell_type": "markdown",
   "id": "91b86264",
   "metadata": {},
   "source": [
    "### 2. Parse CSV File"
   ]
  },
  {
   "cell_type": "code",
   "execution_count": 2,
   "id": "66bad752",
   "metadata": {},
   "outputs": [],
   "source": [
    "import csv\n",
    "\n",
    "file = './data/pma/input/Ruskin_Okeeffe.csv'\n",
    "\n",
    "#remove BOM\n",
    "s = open(file, mode='r', encoding='utf-8-sig').read()\n",
    "open(file, mode='w', encoding='utf-8').write(s)\n",
    "\n",
    "allObjects = csv.DictReader(open(file, mode='r',encoding='utf-8'))\n",
    "\n",
    "all_linkedart = {}\n",
    "    "
   ]
  },
  {
   "cell_type": "code",
   "execution_count": 67,
   "id": "f271df6c",
   "metadata": {},
   "outputs": [],
   "source": [
    "def getObjDesc(obj, functionCall):\n",
    "    \n",
    "    desc = {}\n",
    "    \n",
    "    irn = obj[\"Object Number\"]\n",
    "    department  = obj[\"Department\"]\n",
    "    title = obj[\"Title\"]\n",
    "    datecreated = obj[\"Dated\"]\n",
    "    medium = obj[\"Medium\"]\n",
    "    classification = obj[\"Classification\"]\n",
    "    attribution = obj[\"Attribution\"]\n",
    "    credit_line = obj[\"Credit Line\"]\n",
    "    titAccessionNo = \"\"\n",
    "    provenance = \"\"\n",
    "    earliestdate = latestdate = \"\"\n",
    "    \n",
    "    if functionCall == \"member\":\n",
    "        desc = objMember(obj,baseURI,PhyCollectionArea)\n",
    "    if functionCall == \"custody\":\n",
    "        desc = objCustody(TitObjectStatus)\n",
    "    if functionCall == \"owner\":\n",
    "        desc = objOwner(obj,baseURI,irn,TitAccessionDate,TitObjectStatus)\n",
    "    if functionCall == \"production\":\n",
    "        desc = objProd(obj, baseURI,irn, earliestdate,latestdate,datecreated)\n",
    "    if functionCall == \"core\":\n",
    "        desc = objCore(obj,baseURI,irn,title) \n",
    "    if functionCall == \"id\":\n",
    "        desc = objId(obj, baseURI, irn, titAccessionNo)\n",
    "    if functionCall == \"names\":\n",
    "        desc = objNames(obj, baseURI, irn, title)\n",
    "    if functionCall == \"class\":\n",
    "        if \"titleObjectType\" in vars():\n",
    "            desc = objClass(obj, baseURI, irn, titleObjectType)\n",
    "    if functionCall == \"home\":\n",
    "            desc = objHome(obj,baseURI,irn)\n",
    "    if functionCall == \"location\":\n",
    "            desc = objLocation(obj,baseURI)\n",
    "    if functionCall == \"ling\":\n",
    "            desc = objLing(obj,baseURI,irn, credit_line, provenance)\n",
    "    return desc\n",
    "\n",
    "    \n",
    "    \n",
    "    "
   ]
  },
  {
   "cell_type": "markdown",
   "id": "354275a1",
   "metadata": {},
   "source": [
    "### 3. Data File as Python dictionary\n",
    "The data file is converted to a Python dictionary, and will be used to transform the collection data for the artwork to JSON-LD. The following shows an example of a single artwork represented in the Python dictionary:"
   ]
  },
  {
   "cell_type": "code",
   "execution_count": 68,
   "id": "e1c91453",
   "metadata": {},
   "outputs": [
    {
     "name": "stdout",
     "output_type": "stream",
     "text": [
      "{\n",
      "  \"Media\": \"0\",\n",
      "  \"Object Number\": \"64-1993-1\",\n",
      "  \"Department\": \"PDP\",\n",
      "  \"Classification\": \"Drawings\",\n",
      "  \"Culture\": \"\",\n",
      "  \"Period\": \"\",\n",
      "  \"Display Name\": \"John Ruskin\",\n",
      "  \"Object Name\": \"Drawings\",\n",
      "  \"Title\": \"Study of a River Bank, Beauvais, France\",\n",
      "  \"Dated\": \"1846\",\n",
      "  \"Medium\": \"Watercolor\",\n",
      "  \"Dimensions\": \"H: 125mm  W: 175mm\",\n",
      "  \"Description\": \"\",\n",
      "  \"Attribution\": \"John Ruskin\",\n",
      "  \"AttributionSort\": \"Ruskin John\",\n",
      "  \"Credit Line\": \"\",\n",
      "  \"\": \"\"\n",
      "}\n"
     ]
    }
   ],
   "source": [
    "allObjects = csv.DictReader(open(file, mode='r',encoding='utf-8'))\n",
    "\n",
    "for obj in allObjects:\n",
    "    print(json.dumps(obj,indent=2))\n",
    "    break\n"
   ]
  },
  {
   "cell_type": "markdown",
   "id": "bb2e1273",
   "metadata": {},
   "source": [
    "## 4. Build the Linked Art JSON-LD files <a id=\"build\"/>\n",
    "\n",
    "The following steps will transform the catalogue data for all of the artworks to Linked Art JSON-LD. The transformation will be divided into sections, using different parts of the Linked Art data model.\n",
    "\n",
    "- [4.1 Core Properties](#core)\n",
    "- [4.2 Identifiers](#id)\n",
    "- [4.3 Names](#name)\n",
    "- [4.4 Classification](#class)\n",
    "- [4.5 Home Page](#home)\n",
    "- [4.6 Current Location](#location)\n",
    "- [4.7 Linguistic Objects](#ling)\n",
    "- [4.8 Production](#prod)\n",
    "- [4.9 Acquisition](#owner)\n",
    "- [4.10 Custody](#curate)\n",
    "- [4.11 Membership](#member)"
   ]
  },
  {
   "cell_type": "markdown",
   "id": "53c7bf18",
   "metadata": {},
   "source": [
    "### 4.1 Core Properties <a id='#core'>\n",
    "<a id='core_properties'></a>\n",
    "[Linked Art Data Model documentation](https://linked.art/model/base/#core-properties)\n",
    "\n",
    "There are a few core properties that every resource should have for it to be a useful part of the world of Linked Open Data:\n",
    "\n",
    "- `@context`\n",
    "- `id`\n",
    "- `type`\n",
    "- `_label`\n",
    "\n",
    "--- \n",
    "    \n",
    "[Back to build menu](#build)"
   ]
  },
  {
   "cell_type": "code",
   "execution_count": 69,
   "id": "92f08de7",
   "metadata": {},
   "outputs": [],
   "source": [
    "def objCore(obj, baseURI, irn, title):\n",
    "    core = {}\n",
    "\n",
    "        # minimum Linked Art properties\n",
    "    core[\"@context\"] = \"https://linked.art/ns/v1/linked-art.json\"\n",
    "    core[\"id\"] = baseURI + \"object/\" + irn\n",
    "    core[\"type\"] = \"HumanMadeObject\"\n",
    "    if \"title\" in vars():\n",
    "        core[\"_label\"] = title \n",
    "    \n",
    "    return core"
   ]
  },
  {
   "cell_type": "code",
   "execution_count": 70,
   "id": "ce9d5902",
   "metadata": {},
   "outputs": [
    {
     "name": "stdout",
     "output_type": "stream",
     "text": [
      "{\n",
      "  \"64-1993-1\": {\n",
      "    \"@context\": \"https://linked.art/ns/v1/linked-art.json\",\n",
      "    \"id\": \"https://philamuseum.org/collection/object/object/64-1993-1\",\n",
      "    \"type\": \"HumanMadeObject\",\n",
      "    \"_label\": \"Study of a River Bank, Beauvais, France\",\n",
      "    \"identified_by\": [\n",
      "      {\n",
      "        \"id\": \"https://philamuseum.org/collection/object/object/64-1993-1/title\",\n",
      "        \"type\": \"Name\",\n",
      "        \"_label\": \"Primary Title for the Object\",\n",
      "        \"content\": \"Study of a River Bank, Beauvais, France\",\n",
      "        \"classified_as\": [\n",
      "          {\n",
      "            \"id\": \"http://vocab.getty.edu/aat/300404670\",\n",
      "            \"type\": \"Type\",\n",
      "            \"_label\": \"preferred terms\"\n",
      "          }\n",
      "        ]\n",
      "      }\n",
      "    ]\n",
      "  },\n",
      "  \"1995-7-1\": {\n",
      "    \"@context\": \"https://linked.art/ns/v1/linked-art.json\",\n",
      "    \"id\": \"https://philamuseum.org/collection/object/object/1995-7-1\",\n",
      "    \"type\": \"HumanMadeObject\",\n",
      "    \"_label\": \"Beanstalk\"\n",
      "  },\n",
      "  \"9-1982-1\": {\n",
      "    \"@context\": \"https://linked.art/ns/v1/linked-art.json\",\n",
      "    \"id\": \"https://philamuseum.org/collection/object/object/9-1982-1\",\n",
      "    \"type\": \"HumanMadeObject\",\n",
      "    \"_label\": \"Mask with Golden Apple\"\n",
      "  },\n",
      "  \"48-1993-1\": {\n",
      "    \"@context\": \"https://linked.art/ns/v1/linked-art.json\",\n",
      "    \"id\": \"https://philamuseum.org/collection/object/object/48-1993-1\",\n",
      "    \"type\": \"HumanMadeObject\",\n",
      "    \"_label\": \"African Mask and Apple\"\n",
      "  },\n",
      "  \"250-2003-1\": {\n",
      "    \"@context\": \"https://linked.art/ns/v1/linked-art.json\",\n",
      "    \"id\": \"https://philamuseum.org/collection/object/object/250-2003-1\",\n",
      "    \"type\": \"HumanMadeObject\",\n",
      "    \"_label\": \"Red Hills with Pedernal, White Clouds\"\n",
      "  },\n",
      "  \"250-2003-1 frame\": {\n",
      "    \"@context\": \"https://linked.art/ns/v1/linked-art.json\",\n",
      "    \"id\": \"https://philamuseum.org/collection/object/object/250-2003-1 frame\",\n",
      "    \"type\": \"HumanMadeObject\",\n",
      "    \"_label\": \"Frame for: Red Hills with Pedernal, White Clouds\"\n",
      "  },\n",
      "  \"250-2003-2\": {\n",
      "    \"@context\": \"https://linked.art/ns/v1/linked-art.json\",\n",
      "    \"id\": \"https://philamuseum.org/collection/object/object/250-2003-2\",\n",
      "    \"type\": \"HumanMadeObject\",\n",
      "    \"_label\": \"The Barns, Lake George\"\n",
      "  },\n",
      "  \"1942-12-1\": {\n",
      "    \"@context\": \"https://linked.art/ns/v1/linked-art.json\",\n",
      "    \"id\": \"https://philamuseum.org/collection/object/object/1942-12-1\",\n",
      "    \"type\": \"HumanMadeObject\",\n",
      "    \"_label\": \"White Petunias with Salvia\"\n",
      "  },\n",
      "  \"1944-95-4\": {\n",
      "    \"@context\": \"https://linked.art/ns/v1/linked-art.json\",\n",
      "    \"id\": \"https://philamuseum.org/collection/object/object/1944-95-4\",\n",
      "    \"type\": \"HumanMadeObject\",\n",
      "    \"_label\": \"Peach and Glass\"\n",
      "  },\n",
      "  \"1949-18-109\": {\n",
      "    \"@context\": \"https://linked.art/ns/v1/linked-art.json\",\n",
      "    \"id\": \"https://philamuseum.org/collection/object/object/1949-18-109\",\n",
      "    \"type\": \"HumanMadeObject\",\n",
      "    \"_label\": \"Red Hills and Bones\"\n",
      "  },\n",
      "  \"1949-57-1\": {\n",
      "    \"@context\": \"https://linked.art/ns/v1/linked-art.json\",\n",
      "    \"id\": \"https://philamuseum.org/collection/object/object/1949-57-1\",\n",
      "    \"type\": \"HumanMadeObject\",\n",
      "    \"_label\": \"Three Small Rocks Big\"\n",
      "  },\n",
      "  \"1967-38-1\": {\n",
      "    \"@context\": \"https://linked.art/ns/v1/linked-art.json\",\n",
      "    \"id\": \"https://philamuseum.org/collection/object/object/1967-38-1\",\n",
      "    \"type\": \"HumanMadeObject\",\n",
      "    \"_label\": \"After a Walk Back of Mabel's\"\n",
      "  },\n",
      "  \"1987-70-1\": {\n",
      "    \"@context\": \"https://linked.art/ns/v1/linked-art.json\",\n",
      "    \"id\": \"https://philamuseum.org/collection/object/object/1987-70-1\",\n",
      "    \"type\": \"HumanMadeObject\",\n",
      "    \"_label\": \"Birch and Pine Tree No. 1\"\n",
      "  },\n",
      "  \"1987-70-2\": {\n",
      "    \"@context\": \"https://linked.art/ns/v1/linked-art.json\",\n",
      "    \"id\": \"https://philamuseum.org/collection/object/object/1987-70-2\",\n",
      "    \"type\": \"HumanMadeObject\",\n",
      "    \"_label\": \"From the Lake No. 3\"\n",
      "  },\n",
      "  \"1987-70-3\": {\n",
      "    \"@context\": \"https://linked.art/ns/v1/linked-art.json\",\n",
      "    \"id\": \"https://philamuseum.org/collection/object/object/1987-70-3\",\n",
      "    \"type\": \"HumanMadeObject\",\n",
      "    \"_label\": \"Red and Orange Streak\"\n",
      "  },\n",
      "  \"1987-70-4\": {\n",
      "    \"@context\": \"https://linked.art/ns/v1/linked-art.json\",\n",
      "    \"id\": \"https://philamuseum.org/collection/object/object/1987-70-4\",\n",
      "    \"type\": \"HumanMadeObject\",\n",
      "    \"_label\": \"Two Calla Lilies on Pink\"\n",
      "  },\n",
      "  \"1997-39-1\": {\n",
      "    \"@context\": \"https://linked.art/ns/v1/linked-art.json\",\n",
      "    \"id\": \"https://philamuseum.org/collection/object/object/1997-39-1\",\n",
      "    \"type\": \"HumanMadeObject\",\n",
      "    \"_label\": \"No. 15 Special\"\n",
      "  },\n",
      "  \"1997-40-1\": {\n",
      "    \"@context\": \"https://linked.art/ns/v1/linked-art.json\",\n",
      "    \"id\": \"https://philamuseum.org/collection/object/object/1997-40-1\",\n",
      "    \"type\": \"HumanMadeObject\",\n",
      "    \"_label\": \"Special No. 40\"\n",
      "  },\n",
      "  \"1997-41-1\": {\n",
      "    \"@context\": \"https://linked.art/ns/v1/linked-art.json\",\n",
      "    \"id\": \"https://philamuseum.org/collection/object/object/1997-41-1\",\n",
      "    \"type\": \"HumanMadeObject\",\n",
      "    \"_label\": \"Untitled (Beauford Delaney)\"\n",
      "  },\n",
      "  \"1997-42-1\": {\n",
      "    \"@context\": \"https://linked.art/ns/v1/linked-art.json\",\n",
      "    \"id\": \"https://philamuseum.org/collection/object/object/1997-42-1\",\n",
      "    \"type\": \"HumanMadeObject\",\n",
      "    \"_label\": \"Drawing III\"\n",
      "  },\n",
      "  \"2016-48-1(1)\": {\n",
      "    \"@context\": \"https://linked.art/ns/v1/linked-art.json\",\n",
      "    \"id\": \"https://philamuseum.org/collection/object/object/2016-48-1(1)\",\n",
      "    \"type\": \"HumanMadeObject\",\n",
      "    \"_label\": \"Blue Lines\"\n",
      "  },\n",
      "  \"2016-48-1(1--21)\": {\n",
      "    \"@context\": \"https://linked.art/ns/v1/linked-art.json\",\n",
      "    \"id\": \"https://philamuseum.org/collection/object/object/2016-48-1(1--21)\",\n",
      "    \"type\": \"HumanMadeObject\",\n",
      "    \"_label\": \"Some Memories of Drawings - Georgia O'Keeffe\"\n",
      "  },\n",
      "  \"2016-48-1(2)\": {\n",
      "    \"@context\": \"https://linked.art/ns/v1/linked-art.json\",\n",
      "    \"id\": \"https://philamuseum.org/collection/object/object/2016-48-1(2)\",\n",
      "    \"type\": \"HumanMadeObject\",\n",
      "    \"_label\": \"Drawing No. 14\"\n",
      "  },\n",
      "  \"2016-48-1(3)\": {\n",
      "    \"@context\": \"https://linked.art/ns/v1/linked-art.json\",\n",
      "    \"id\": \"https://philamuseum.org/collection/object/object/2016-48-1(3)\",\n",
      "    \"type\": \"HumanMadeObject\",\n",
      "    \"_label\": \"Abstraction IX\"\n",
      "  },\n",
      "  \"2016-48-1(4)\": {\n",
      "    \"@context\": \"https://linked.art/ns/v1/linked-art.json\",\n",
      "    \"id\": \"https://philamuseum.org/collection/object/object/2016-48-1(4)\",\n",
      "    \"type\": \"HumanMadeObject\",\n",
      "    \"_label\": \"Drawing No. 8\"\n",
      "  },\n",
      "  \"2016-48-1(5)\": {\n",
      "    \"@context\": \"https://linked.art/ns/v1/linked-art.json\",\n",
      "    \"id\": \"https://philamuseum.org/collection/object/object/2016-48-1(5)\",\n",
      "    \"type\": \"HumanMadeObject\",\n",
      "    \"_label\": \"Drawing No. 9\"\n",
      "  },\n",
      "  \"2016-48-1(6)\": {\n",
      "    \"@context\": \"https://linked.art/ns/v1/linked-art.json\",\n",
      "    \"id\": \"https://philamuseum.org/collection/object/object/2016-48-1(6)\",\n",
      "    \"type\": \"HumanMadeObject\",\n",
      "    \"_label\": \"Drawing No. 15\"\n",
      "  },\n",
      "  \"2016-48-1(7)\": {\n",
      "    \"@context\": \"https://linked.art/ns/v1/linked-art.json\",\n",
      "    \"id\": \"https://philamuseum.org/collection/object/object/2016-48-1(7)\",\n",
      "    \"type\": \"HumanMadeObject\",\n",
      "    \"_label\": \"Drawing No. 13\"\n",
      "  },\n",
      "  \"2016-48-1(8)\": {\n",
      "    \"@context\": \"https://linked.art/ns/v1/linked-art.json\",\n",
      "    \"id\": \"https://philamuseum.org/collection/object/object/2016-48-1(8)\",\n",
      "    \"type\": \"HumanMadeObject\",\n",
      "    \"_label\": \"Drawing\"\n",
      "  },\n",
      "  \"2016-48-1(9)\": {\n",
      "    \"@context\": \"https://linked.art/ns/v1/linked-art.json\",\n",
      "    \"id\": \"https://philamuseum.org/collection/object/object/2016-48-1(9)\",\n",
      "    \"type\": \"HumanMadeObject\",\n",
      "    \"_label\": \"Drawing No. 12\"\n",
      "  },\n",
      "  \"2016-48-1(10)\": {\n",
      "    \"@context\": \"https://linked.art/ns/v1/linked-art.json\",\n",
      "    \"id\": \"https://philamuseum.org/collection/object/object/2016-48-1(10)\",\n",
      "    \"type\": \"HumanMadeObject\",\n",
      "    \"_label\": \"Drawing No. 17\"\n",
      "  },\n",
      "  \"2016-48-1(11)\": {\n",
      "    \"@context\": \"https://linked.art/ns/v1/linked-art.json\",\n",
      "    \"id\": \"https://philamuseum.org/collection/object/object/2016-48-1(11)\",\n",
      "    \"type\": \"HumanMadeObject\",\n",
      "    \"_label\": \"Eagle Claw and Bean Necklace\"\n",
      "  },\n",
      "  \"2016-48-1(12)\": {\n",
      "    \"@context\": \"https://linked.art/ns/v1/linked-art.json\",\n",
      "    \"id\": \"https://philamuseum.org/collection/object/object/2016-48-1(12)\",\n",
      "    \"type\": \"HumanMadeObject\",\n",
      "    \"_label\": \"Drawing No. 40\"\n",
      "  },\n",
      "  \"2016-48-1(13)\": {\n",
      "    \"@context\": \"https://linked.art/ns/v1/linked-art.json\",\n",
      "    \"id\": \"https://philamuseum.org/collection/object/object/2016-48-1(13)\",\n",
      "    \"type\": \"HumanMadeObject\",\n",
      "    \"_label\": \"Banana Flower\"\n",
      "  },\n",
      "  \"2016-48-1(14)\": {\n",
      "    \"@context\": \"https://linked.art/ns/v1/linked-art.json\",\n",
      "    \"id\": \"https://philamuseum.org/collection/object/object/2016-48-1(14)\",\n",
      "    \"type\": \"HumanMadeObject\",\n",
      "    \"_label\": \"The City (New York Rooftops)\"\n",
      "  },\n",
      "  \"2016-48-1(15)\": {\n",
      "    \"@context\": \"https://linked.art/ns/v1/linked-art.json\",\n",
      "    \"id\": \"https://philamuseum.org/collection/object/object/2016-48-1(15)\",\n",
      "    \"type\": \"HumanMadeObject\",\n",
      "    \"_label\": \"Beauford Delaney\"\n",
      "  },\n",
      "  \"2016-48-1(16)\": {\n",
      "    \"@context\": \"https://linked.art/ns/v1/linked-art.json\",\n",
      "    \"id\": \"https://philamuseum.org/collection/object/object/2016-48-1(16)\",\n",
      "    \"type\": \"HumanMadeObject\",\n",
      "    \"_label\": \"Goat's Horns II\"\n",
      "  },\n",
      "  \"2016-48-1(17)\": {\n",
      "    \"@context\": \"https://linked.art/ns/v1/linked-art.json\",\n",
      "    \"id\": \"https://philamuseum.org/collection/object/object/2016-48-1(17)\",\n",
      "    \"type\": \"HumanMadeObject\",\n",
      "    \"_label\": \"Ram's Horns II\"\n",
      "  },\n",
      "  \"2016-48-1(18)\": {\n",
      "    \"@context\": \"https://linked.art/ns/v1/linked-art.json\",\n",
      "    \"id\": \"https://philamuseum.org/collection/object/object/2016-48-1(18)\",\n",
      "    \"type\": \"HumanMadeObject\",\n",
      "    \"_label\": \"Drawing I\"\n",
      "  },\n",
      "  \"2016-48-1(19)\": {\n",
      "    \"@context\": \"https://linked.art/ns/v1/linked-art.json\",\n",
      "    \"id\": \"https://philamuseum.org/collection/object/object/2016-48-1(19)\",\n",
      "    \"type\": \"HumanMadeObject\",\n",
      "    \"_label\": \"Drawing III\"\n",
      "  },\n",
      "  \"2016-48-1(20)\": {\n",
      "    \"@context\": \"https://linked.art/ns/v1/linked-art.json\",\n",
      "    \"id\": \"https://philamuseum.org/collection/object/object/2016-48-1(20)\",\n",
      "    \"type\": \"HumanMadeObject\",\n",
      "    \"_label\": \"Antelope Horns\"\n",
      "  },\n",
      "  \"2016-48-1(21)\": {\n",
      "    \"@context\": \"https://linked.art/ns/v1/linked-art.json\",\n",
      "    \"id\": \"https://philamuseum.org/collection/object/object/2016-48-1(21)\",\n",
      "    \"type\": \"HumanMadeObject\",\n",
      "    \"_label\": \"The Winter Road\"\n",
      "  },\n",
      "  \"2019-47-5\": {\n",
      "    \"@context\": \"https://linked.art/ns/v1/linked-art.json\",\n",
      "    \"id\": \"https://philamuseum.org/collection/object/object/2019-47-5\",\n",
      "    \"type\": \"HumanMadeObject\",\n",
      "    \"_label\": \"Nude Series V\"\n",
      "  },\n",
      "  \"AWC-125\": {\n",
      "    \"@context\": \"https://linked.art/ns/v1/linked-art.json\",\n",
      "    \"id\": \"https://philamuseum.org/collection/object/object/AWC-125\",\n",
      "    \"type\": \"HumanMadeObject\",\n",
      "    \"_label\": \"Evening Star, No. III\"\n",
      "  },\n",
      "  \"AWC-145\": {\n",
      "    \"@context\": \"https://linked.art/ns/v1/linked-art.json\",\n",
      "    \"id\": \"https://philamuseum.org/collection/object/object/AWC-145\",\n",
      "    \"type\": \"HumanMadeObject\",\n",
      "    \"_label\": \"Evening Star, No. II\"\n",
      "  },\n",
      "  \"AWC-153\": {\n",
      "    \"@context\": \"https://linked.art/ns/v1/linked-art.json\",\n",
      "    \"id\": \"https://philamuseum.org/collection/object/object/AWC-153\",\n",
      "    \"type\": \"HumanMadeObject\",\n",
      "    \"_label\": \"Evening Star, No. VII\"\n",
      "  },\n",
      "  \"PSL-190\": {\n",
      "    \"@context\": \"https://linked.art/ns/v1/linked-art.json\",\n",
      "    \"id\": \"https://philamuseum.org/collection/object/object/PSL-190\",\n",
      "    \"type\": \"HumanMadeObject\",\n",
      "    \"_label\": \"Cow's Skull: Red, White, and Blue\"\n",
      "  },\n",
      "  \"PSL-221\": {\n",
      "    \"@context\": \"https://linked.art/ns/v1/linked-art.json\",\n",
      "    \"id\": \"https://philamuseum.org/collection/object/object/PSL-221\",\n",
      "    \"type\": \"HumanMadeObject\",\n",
      "    \"_label\": \"Cow's Skull on Red\"\n",
      "  },\n",
      "  \"PSL-302\": {\n",
      "    \"@context\": \"https://linked.art/ns/v1/linked-art.json\",\n",
      "    \"id\": \"https://philamuseum.org/collection/object/object/PSL-302\",\n",
      "    \"type\": \"HumanMadeObject\",\n",
      "    \"_label\": \"From the Faraway, Nearby (Deer's Horns Near Cameron)\"\n",
      "  },\n",
      "  \"testq\": {\n",
      "    \"@context\": \"https://linked.art/ns/v1/linked-art.json\",\n",
      "    \"id\": \"https://philamuseum.org/collection/object/object/testq\",\n",
      "    \"type\": \"HumanMadeObject\",\n",
      "    \"_label\": \"Blue Lines\"\n",
      "  }\n",
      "}\n"
     ]
    }
   ],
   "source": [
    "for obj in allObjects:\n",
    "    irn = obj[\"Object Number\"]\n",
    "    core = getObjDesc(obj, \"core\")\n",
    "    all_linkedart[irn] = core \n",
    "print(json.dumps(all_linkedart,indent=2))"
   ]
  },
  {
   "cell_type": "markdown",
   "id": "cf525bb4",
   "metadata": {},
   "source": [
    "### 4.2 Identifiers <a id=\"id\"/>\n",
    "\n",
    "https://linked.art/model/base/#identifiers\n",
    "\n",
    "Many resources of interest are also given external identifiers, such as accession numbers for objects, ORCIDs for people or groups, lot numbers for auctions, and so forth. Identifiers are represented in a very similar way to names, but instead use the Identifier class. Identifiers will normally have a classification determining which sort of identifier it is, to distinguish between internal repository system assigned numbers from museum assigned accession numbers, for example.\n",
    "\n",
    "As Identifiers and Names use the same `identified_by` property, the JSON will frequently have mixed classes in the array. Unlike Names, Identifiers are not part of human language and thus cannot have translations or a language associated with them.\n",
    "\n",
    "--- \n",
    "    \n",
    "[Back to build menu](#build)"
   ]
  },
  {
   "cell_type": "code",
   "execution_count": 71,
   "id": "f2b16200",
   "metadata": {},
   "outputs": [],
   "source": [
    "def objId(obj, baseURI, irn, titAccessionNo):\n",
    "    artwork = {}       \n",
    "    artwork[\"identified_by\"] = []          \n",
    "    artwork[\"identified_by\"].append({\n",
    "        \"id\": baseURI + \"object/\" + irn + \"/irn\",\n",
    "        \"type\": \"Identifier\",\n",
    "        \"_label\": \"PMA Object Number\",\n",
    "        \"content\": irn,\n",
    "        \"classified_as\": [{\n",
    "            \"id\": \"http://vocab.getty.edu/aat/300404621\",\n",
    "            \"type\": \"Type\",\n",
    "            \"_label\": \"repository numbers\"\n",
    "                        }]\n",
    "                }) \n",
    "    if titAccessionNo != \"\":\n",
    "        artwork[\"identified_by\"].append({\n",
    "        \"id\": baseURI + \"object/\" + irn + \"/object-number\",\n",
    "        \"type\": \"Identifier\",\n",
    "        \"_label\": \"IMA at Newfields Object Number for the Object\",\n",
    "        \"content\": titAccessionNo,\n",
    "        \"classified_as\": [{\n",
    "            \"id\": \"http://vocab.getty.edu/aat/300312355\",\n",
    "            \"type\": \"Type\",\n",
    "            \"_label\": \"accession numbers\"\n",
    "                        }]\n",
    "                })\n",
    "        \n",
    "    return artwork"
   ]
  },
  {
   "cell_type": "code",
   "execution_count": 72,
   "id": "cbec3ac7",
   "metadata": {},
   "outputs": [
    {
     "name": "stdout",
     "output_type": "stream",
     "text": [
      "{\n",
      "  \"identified_by\": [\n",
      "    {\n",
      "      \"id\": \"https://philamuseum.org/collection/object/object/testq/irn\",\n",
      "      \"type\": \"Identifier\",\n",
      "      \"_label\": \"PMA Object Number\",\n",
      "      \"content\": \"testq\",\n",
      "      \"classified_as\": [\n",
      "        {\n",
      "          \"id\": \"http://vocab.getty.edu/aat/300404621\",\n",
      "          \"type\": \"Type\",\n",
      "          \"_label\": \"repository numbers\"\n",
      "        }\n",
      "      ]\n",
      "    }\n",
      "  ]\n",
      "}\n"
     ]
    }
   ],
   "source": [
    "allObjects = csv.DictReader(open(file, mode='r',encoding='utf-8'))\n",
    "\n",
    "for obj in allObjects:\n",
    "    irn = obj[\"Object Number\"]\n",
    "    id = getObjDesc(obj, \"id\")\n",
    "    \n",
    "    all_linkedart[irn].update(id) \n",
    "print(json.dumps(id,indent=2))   "
   ]
  },
  {
   "cell_type": "markdown",
   "id": "337311f1",
   "metadata": {},
   "source": [
    "### 4.3 Names <a id=\"name\"/>\n",
    "\n",
    "[Linked Art Data Model documentation](https://linked.art/model/base/#names)\n",
    "\n",
    "\n",
    "As the `_label` property is intended as internal documentation for the data, it is strongly recommended that every resource that should be rendered to an end user also have at least one specific name. The name could be for an object, a person, a group, an event or anything else. This pattern uses the `identified_by` property, with a `Name` resource. The value of the name is given in the content property of the `Name`.\n",
    "\n",
    "It is somewhat unintuitive to think of a name as identifying the resource it is associated with, as names are typically not unique. However, as the name itself is uniquely identified rather than just an anonymous string, they are no longer a shared label and instead the particular instance of a name is uniquely associated with the resource. With this formulation, the name instance does uniquely identify the resource.\n",
    "\n",
    "If there is more than one name given, then there should be one that is `classified_as` the primary name for use. This is done by adding the `Primary Name (aat:300404670) term to it. There should be exactly one primary title given per language.\n",
    "\n",
    "Names are also part of human communication, and can have the Linguistic features of the model associated with them, such as having a particular language, or having translations.\n",
    "\n",
    "--- \n",
    "    \n",
    "[Back to build menu](#build)"
   ]
  },
  {
   "cell_type": "code",
   "execution_count": 73,
   "id": "ed2397ca",
   "metadata": {},
   "outputs": [],
   "source": [
    "def objNames(obj, baseURI, irn, title):\n",
    "\n",
    "    artwork = {}\n",
    "    artwork[\"identified_by\"] = []\n",
    "    \n",
    "    artwork[\"identified_by\"].append({\n",
    "        \"id\": baseURI + \"object/\" + irn + \"/title\",\n",
    "        \"type\": \"Name\",\n",
    "        \"_label\": \"Primary Title for the Object\",\n",
    "        \"content\": title ,\n",
    "        \"classified_as\": [{\n",
    "        \"id\": \"http://vocab.getty.edu/aat/300404670\",\n",
    "        \"type\": \"Type\",\n",
    "        \"_label\": \"preferred terms\"\n",
    "                        }]\n",
    "                })\n",
    "    try:   \n",
    "        if obj[\"table\"][\"@name\"] == \"AltTitles\":\n",
    "            x = 0\n",
    "            for tuple in obj[\"table\"][\"tuple\"]:\n",
    "                x +=1\n",
    "                for atom in tuple:\n",
    "                    content = \"\"\n",
    "                    if atom[\"@name\"] == \"TitAlternateTitles\":\n",
    "                        content = atom[\"#text\"]\n",
    "                        artwork[\"identified_by\"].append({\n",
    "                            \"id\": baseURI + \"object/\" + irn + \"/alt-title-\" + x,\n",
    "                            \"type\": \"Name\",\n",
    "                            \"_label\": \"Alternate Title for the Object\",\n",
    "                            \"content\": content,\n",
    "                            \"classified_as\": [{\n",
    "                                \"id\": \"http://vocab.getty.edu/aat/300417227\",\n",
    "                                \"type\": \"Type\",\n",
    "                                \"_label\": \"alternate titles\"}]   \n",
    "                        })\n",
    "    except:\n",
    "        pass\n",
    "\n",
    "    return artwork"
   ]
  },
  {
   "cell_type": "code",
   "execution_count": 74,
   "id": "65b7a352",
   "metadata": {},
   "outputs": [
    {
     "name": "stdout",
     "output_type": "stream",
     "text": [
      "{\n",
      "  \"identified_by\": [\n",
      "    {\n",
      "      \"id\": \"https://philamuseum.org/collection/object/object/testq/title\",\n",
      "      \"type\": \"Name\",\n",
      "      \"_label\": \"Primary Title for the Object\",\n",
      "      \"content\": \"Blue Lines\",\n",
      "      \"classified_as\": [\n",
      "        {\n",
      "          \"id\": \"http://vocab.getty.edu/aat/300404670\",\n",
      "          \"type\": \"Type\",\n",
      "          \"_label\": \"preferred terms\"\n",
      "        }\n",
      "      ]\n",
      "    }\n",
      "  ]\n",
      "}\n"
     ]
    }
   ],
   "source": [
    "allObjects = csv.DictReader(open(file, mode='r',encoding='utf-8'))\n",
    "\n",
    "for obj in allObjects:\n",
    "    irn = obj[\"Object Number\"]  \n",
    "    desc = getObjDesc(obj, \"names\")\n",
    "    all_linkedart[irn].update(desc) \n",
    "print(json.dumps(desc,indent=2))"
   ]
  },
  {
   "cell_type": "markdown",
   "id": "9cf9c558",
   "metadata": {},
   "source": [
    "### 4.7 Statements about a Resource - Linguistic Objects <a id=\"ling\"/>\n",
    "\n",
    "[Linked Art Data Model Documentation](https://linked.art/model/base/#statements-about-a-resource)\n",
    "    \n",
    "In many cases, current data does not support the level of specificity that the full ontology allows, or the information is simply best expressed in human-readable form. For example, instead of a completely modeled set of parts with materials, many museum collection management systems allow only a single human-readable string for the \"medium\" or \"materials statement\". The same is true in many other situations, including rights or allowable usage statements, dimensions, edition statements and so forth. Any time that there is a description of the resource, with or without qualification as to the type of description, then this pattern can be used to record the descriptive text.\n",
    "\n",
    "The pattern makes use of the `LinguisticObject` class that is used to identify a particular piece of textual content. These Linguistic Objects are then refered to by any other resource. They maintain the statement's text in the content property, and the language of the statement (if known) in the language property.\n",
    "\n",
    "Use cases for this pattern include:\n",
    "\n",
    "- General description of the resource\n",
    "- Materials statement for an object\n",
    "- Attribution statement for an image\n",
    "- Biography for a person\n",
    "- Dimensions statement for a part of an object    \n",
    "\n",
    "---\n",
    "\n",
    "[Back to build menu](#build)"
   ]
  },
  {
   "cell_type": "code",
   "execution_count": 75,
   "id": "22364d50",
   "metadata": {},
   "outputs": [],
   "source": [
    "def objLing(obj, baseURI,irn, SumCreditLine, provenance):\n",
    "    artwork = {}\n",
    "    artwork[\"referred_to_by\"] = []\n",
    "    if SumCreditLine != \"\":\n",
    "        artwork[\"referred_to_by\"].append(\n",
    "                {\n",
    "                \"id\": baseURI + \"object/\" + irn + \"/credit-line\",\n",
    "                \"type\": \"LinguisticObject\",\n",
    "                \"_label\": \"Credit Line for the Object\",\n",
    "                \"content\": SumCreditLine,\n",
    "                \"classified_as\": [\n",
    "                        {\n",
    "                        \"id\": \"http://vocab.getty.edu/aat/300026687\",\n",
    "                        \"type\": \"Type\",\n",
    "                        \"_label\": \"acknowledgments\"\n",
    "                        },\n",
    "                        {\n",
    "                        \"id\": \"http://vocab.getty.edu/aat/300418049\",\n",
    "                        \"type\": \"Type\",\n",
    "                        \"_label\": \"brief texts\"\n",
    "                        }]\n",
    "                })\n",
    "              \n",
    "    if provenance != \"\":\n",
    "        artwork[\"referred_to_by\"].append({\n",
    "                \"id\": baseURI + \"object/\" + irn + \"/provenance-statement\",\n",
    "                    \"type\": \"LinguisticObject\",\n",
    "                    \"_label\": \"Provenance Statement about the Object\",\n",
    "                    \"content\": provenance,\n",
    "                    \"classified_as\": [\n",
    "                        {\n",
    "                            \"id\": \"http://vocab.getty.edu/aat/300055863\",\n",
    "                            \"type\": \"Type\",\n",
    "                            \"_label\": \"provenance (history of ownership)\"\n",
    "                        },\n",
    "                        {\n",
    "                            \"id\": \"http://vocab.getty.edu/aat/300418049\",\n",
    "                            \"type\": \"Type\",\n",
    "                            \"_label\": \"brief texts\"\n",
    "                        }\n",
    "                    ]\n",
    "            })\n",
    "        \n",
    "            \n",
    "    return artwork"
   ]
  },
  {
   "cell_type": "code",
   "execution_count": 83,
   "id": "d44f1e3c",
   "metadata": {},
   "outputs": [
    {
     "name": "stdout",
     "output_type": "stream",
     "text": [
      "{\n",
      "  \"referred_to_by\": [\n",
      "    {\n",
      "      \"id\": \"https://philamuseum.org/collection/object/object/testq/credit-line\",\n",
      "      \"type\": \"LinguisticObject\",\n",
      "      \"_label\": \"Credit Line for the Object\",\n",
      "      \"content\": \"Gift of the Doris Bry Trust, 2016\",\n",
      "      \"classified_as\": [\n",
      "        {\n",
      "          \"id\": \"http://vocab.getty.edu/aat/300026687\",\n",
      "          \"type\": \"Type\",\n",
      "          \"_label\": \"acknowledgments\"\n",
      "        },\n",
      "        {\n",
      "          \"id\": \"http://vocab.getty.edu/aat/300418049\",\n",
      "          \"type\": \"Type\",\n",
      "          \"_label\": \"brief texts\"\n",
      "        }\n",
      "      ]\n",
      "    }\n",
      "  ]\n",
      "}\n"
     ]
    }
   ],
   "source": [
    "allObjects = csv.DictReader(open(file, mode='r',encoding='utf-8'))\n",
    "\n",
    "\n",
    "for obj in allObjects:\n",
    "    irn = obj[\"Object Number\"] \n",
    "    desc = getObjDesc(obj, \"ling\")\n",
    "    all_linkedart[irn].update(desc) \n",
    "print(json.dumps(desc,indent=2)) "
   ]
  },
  {
   "cell_type": "markdown",
   "id": "d8d9b44d",
   "metadata": {},
   "source": [
    "## 4.8 Production <a id=\"prod\"/>\n",
    "\n",
    "[Linked Art Data Model Documentation](https://linked.art/model/object/production/)\n",
    "\n",
    "The first activity in an object's lifecycle is its creation, or `Production`. The relationship to the object that was produced by the activity (`produced`) is added to the general activity model, along with the time, location and actors. This follows the base pattern for activities.\n",
    "\n",
    "---\n",
    "\n",
    "[Back to build menu](#build)"
   ]
  },
  {
   "cell_type": "code",
   "execution_count": 90,
   "id": "004313f8",
   "metadata": {},
   "outputs": [],
   "source": [
    "def objProd(obj, baseURI,irn, earliestdate,latestdate,datecreated):\n",
    "           \n",
    "    attr = obj[\"Attribution\"]\n",
    "    artwork = {}\n",
    "    \n",
    "    #produced_by property\n",
    "    artwork[\"produced_by\"] = []\n",
    "    artwork[\"produced_by\"].append({\n",
    "                 \"id\": baseURI + \"object/\" + irn + \"/production\",\n",
    "                \"type\": \"Production\",\n",
    "                \"_label\": \"Production of the Object\"})\n",
    "    \n",
    "    #carried_out_by property\n",
    "    carried_out_by = []\n",
    "    carried_out_by.append(\n",
    "                                {\n",
    "                                \"id\":  baseURI + \"actor/\" + irn,\n",
    "                                \"type\": \"Actor\",\n",
    "                                \"_label\": attr\n",
    "                                }\n",
    "                            )        \n",
    "                                  \n",
    "    if len(carried_out_by) > 0:\n",
    "        artwork[\"produced_by\"].append(\n",
    "                    {\n",
    "                    \"carried_out_by\": carried_out_by\n",
    "                    })\n",
    "                \n",
    "    # timespan property\n",
    "    timespan = False\n",
    "    \n",
    "    \n",
    "    for date in (earliestdate,latestdate,datecreated):\n",
    "        if date != \"\":\n",
    "            timespan = True\n",
    "            \n",
    "    if timespan == True:\n",
    "        #label\n",
    "        label = \"date unknown\"\n",
    "        if datecreated != \"\":\n",
    "            label = datecreated\n",
    "        elif (earliestdate != \"\") or (latestdate != \"\"):\n",
    "            label = earliestdate + \" - \" + latestdate\n",
    "        \n",
    "        timespanObj = {\n",
    "               \"id\": baseURI + irn + \"/production/timespan\",\n",
    "                \"type\": \"TimeSpan\",\n",
    "                \"_label\": label,\n",
    "            }\n",
    "        \n",
    "        if earliestdate != \"\":\n",
    "            timespanObj[\"begin_of_the_begin\"] = earliestdate\n",
    "    \n",
    "        if latestdate != \"\":\n",
    "            timespanObj[\"end_of_the_end\"] = latestdate\n",
    "        \n",
    "        artwork[\"produced_by\"].append({\"timespan\" : timespanObj}) \n",
    "        \n",
    "    return artwork"
   ]
  },
  {
   "cell_type": "code",
   "execution_count": 87,
   "id": "3cce4d49",
   "metadata": {},
   "outputs": [
    {
     "name": "stdout",
     "output_type": "stream",
     "text": [
      "{\n",
      "  \"produced_by\": [\n",
      "    {\n",
      "      \"id\": \"https://philamuseum.org/collection/object/object/testq/production\",\n",
      "      \"type\": \"Production\",\n",
      "      \"_label\": \"Production of the Object\"\n",
      "    },\n",
      "    {\n",
      "      \"carried_out_by\": [\n",
      "        {\n",
      "          \"id\": \"https://philamuseum.org/collection/object/actor/testq\",\n",
      "          \"type\": \"Actor\",\n",
      "          \"_label\": \"Georgia O'Keeffe\"\n",
      "        }\n",
      "      ]\n",
      "    },\n",
      "    {\n",
      "      \"timespan\": {\n",
      "        \"id\": \"https://philamuseum.org/collection/object/testq/production/timespan\",\n",
      "        \"type\": \"TimeSpan\",\n",
      "        \"_label\": \"1974\"\n",
      "      }\n",
      "    }\n",
      "  ]\n",
      "}\n"
     ]
    }
   ],
   "source": [
    "allObjects = csv.DictReader(open(file, mode='r',encoding='utf-8'))\n",
    "\n",
    "for obj in allObjects:\n",
    "    irn = obj[\"Object Number\"] \n",
    "    desc = getObjDesc(obj, \"production\") \n",
    "    all_linkedart[irn].update(desc) \n",
    "print(json.dumps(desc,indent=2)) "
   ]
  },
  {
   "cell_type": "markdown",
   "id": "dfc2e313",
   "metadata": {},
   "source": [
    "## 4.10 Custody <a id=\"curate\"/>\n",
    "\n",
    "[Linked Art Data Model documentation](https://linked.art/model/provenance/custody/#institutional-ownership-departmental-custody)\n",
    "\n",
    "Objects are owned by legal entities, such as museum organizations or individual people. However there may be more information about which department is responsible within a museum for the curation of the object. This is the division between acquisitions (the legal ownership of the object) and custody (the responsibility for looking after the object). If the department is known, then it should be either part of the Provenance Event in which the object is acquired, or a separate provenance event if the object was not accessioned by a department and later came under their care, or was transferred between departments. In these latter cases, the ownership does not change, only the custody of the object.\n",
    "\n",
    "The department becomes the `current_keeper` of the object, whereas the institution is the `current_owner`.\n",
    "\n",
    "---\n",
    "\n",
    "[Back to build menu](#build)"
   ]
  },
  {
   "cell_type": "code",
   "execution_count": null,
   "id": "66fe39ec",
   "metadata": {},
   "outputs": [],
   "source": [
    "def objCustody(TitObjectStatus):\n",
    "    \n",
    "    currentowner = False\n",
    "    artwork = {}\n",
    "    \n",
    "    checkObjStatus = ('Accessioned','Partial Accession')\n",
    "    for status in checkObjStatus:\n",
    "        if status == TitObjectStatus:\n",
    "            currentowner = True\n",
    "    if 'IMA-Owned' in TitObjectStatus:\n",
    "            currentowner = True\n",
    "            \n",
    "    if currentowner == False:  \n",
    "        artwork[\"current_keeper\"] =  {\n",
    "                \"id\": \"http://vocab.getty.edu/ulan/500300517\",\n",
    "                \"type\": \"Group\",\n",
    "                \"_label\": \"PMA\",\n",
    "                \"classified_as\": [\n",
    "                    {\n",
    "                        \"id\": \"http://vocab.getty.edu/aat/300312281\",\n",
    "                        \"type\": \"Type\",\n",
    "                        \"_label\": \"museums (institutions)\"\n",
    "                    }]}\n",
    "    \n",
    "    return artwork"
   ]
  },
  {
   "cell_type": "markdown",
   "id": "eddabdac",
   "metadata": {},
   "source": [
    "### View the final Linked Art JSON-LD "
   ]
  },
  {
   "cell_type": "code",
   "execution_count": 88,
   "id": "d45760a8",
   "metadata": {},
   "outputs": [],
   "source": [
    "for irn in all_linkedart:\n",
    "    text_file = open(\"./data/pma/output/json/all/\" + irn + \".json\", \"w\")\n",
    "    n = text_file.write(json.dumps(all_linkedart[irn], indent=2))\n",
    "    text_file.close()\n",
    "\n",
    "f = open(\"./data/pma/output/json/all/allobjects_linkedart.json\", \"w\")\n",
    "f.write(json.dumps(all_linkedart, indent=2))\n",
    "f.close() "
   ]
  },
  {
   "cell_type": "code",
   "execution_count": 89,
   "id": "6cf3e2db",
   "metadata": {},
   "outputs": [
    {
     "data": {
      "text/html": [
       "<a href='./data/pma/output/json/all/48-1993-1.json'>48-1993-1.json</a>"
      ],
      "text/plain": [
       "<IPython.core.display.HTML object>"
      ]
     },
     "metadata": {},
     "output_type": "display_data"
    },
    {
     "data": {
      "text/html": [
       "<a href='./data/pma/output/json/all/2016-48-1(15).json'>2016-48-1(15).json</a>"
      ],
      "text/plain": [
       "<IPython.core.display.HTML object>"
      ]
     },
     "metadata": {},
     "output_type": "display_data"
    },
    {
     "data": {
      "text/html": [
       "<a href='./data/pma/output/json/all/250-2003-1.json'>250-2003-1.json</a>"
      ],
      "text/plain": [
       "<IPython.core.display.HTML object>"
      ]
     },
     "metadata": {},
     "output_type": "display_data"
    },
    {
     "data": {
      "text/html": [
       "<a href='./data/pma/output/json/all/2016-48-1(17).json'>2016-48-1(17).json</a>"
      ],
      "text/plain": [
       "<IPython.core.display.HTML object>"
      ]
     },
     "metadata": {},
     "output_type": "display_data"
    },
    {
     "data": {
      "text/html": [
       "<a href='./data/pma/output/json/all/1987-70-4.json'>1987-70-4.json</a>"
      ],
      "text/plain": [
       "<IPython.core.display.HTML object>"
      ]
     },
     "metadata": {},
     "output_type": "display_data"
    },
    {
     "data": {
      "text/html": [
       "<a href='./data/pma/output/json/all/1944-95-4.json'>1944-95-4.json</a>"
      ],
      "text/plain": [
       "<IPython.core.display.HTML object>"
      ]
     },
     "metadata": {},
     "output_type": "display_data"
    },
    {
     "data": {
      "text/html": [
       "<a href='./data/pma/output/json/all/1997-39-1.json'>1997-39-1.json</a>"
      ],
      "text/plain": [
       "<IPython.core.display.HTML object>"
      ]
     },
     "metadata": {},
     "output_type": "display_data"
    },
    {
     "data": {
      "text/html": [
       "<a href='./data/pma/output/json/all/2016-48-1(13).json'>2016-48-1(13).json</a>"
      ],
      "text/plain": [
       "<IPython.core.display.HTML object>"
      ]
     },
     "metadata": {},
     "output_type": "display_data"
    },
    {
     "data": {
      "text/html": [
       "<a href='./data/pma/output/json/all/2016-48-1(11).json'>2016-48-1(11).json</a>"
      ],
      "text/plain": [
       "<IPython.core.display.HTML object>"
      ]
     },
     "metadata": {},
     "output_type": "display_data"
    },
    {
     "data": {
      "text/html": [
       "<a href='./data/pma/output/json/all/2019-47-5.json'>2019-47-5.json</a>"
      ],
      "text/plain": [
       "<IPython.core.display.HTML object>"
      ]
     },
     "metadata": {},
     "output_type": "display_data"
    },
    {
     "data": {
      "text/html": [
       "<a href='./data/pma/output/json/all/2016-48-1(9).json'>2016-48-1(9).json</a>"
      ],
      "text/plain": [
       "<IPython.core.display.HTML object>"
      ]
     },
     "metadata": {},
     "output_type": "display_data"
    },
    {
     "data": {
      "text/html": [
       "<a href='./data/pma/output/json/all/2016-48-1(16).json'>2016-48-1(16).json</a>"
      ],
      "text/plain": [
       "<IPython.core.display.HTML object>"
      ]
     },
     "metadata": {},
     "output_type": "display_data"
    },
    {
     "data": {
      "text/html": [
       "<a href='./data/pma/output/json/all/1997-40-1.json'>1997-40-1.json</a>"
      ],
      "text/plain": [
       "<IPython.core.display.HTML object>"
      ]
     },
     "metadata": {},
     "output_type": "display_data"
    },
    {
     "data": {
      "text/html": [
       "<a href='./data/pma/output/json/all/1987-70-2.json'>1987-70-2.json</a>"
      ],
      "text/plain": [
       "<IPython.core.display.HTML object>"
      ]
     },
     "metadata": {},
     "output_type": "display_data"
    },
    {
     "data": {
      "text/html": [
       "<a href='./data/pma/output/json/all/2016-48-1(14).json'>2016-48-1(14).json</a>"
      ],
      "text/plain": [
       "<IPython.core.display.HTML object>"
      ]
     },
     "metadata": {},
     "output_type": "display_data"
    },
    {
     "data": {
      "text/html": [
       "<a href='./data/pma/output/json/all/allobjects_linkedart.json'>allobjects_linkedart.json</a>"
      ],
      "text/plain": [
       "<IPython.core.display.HTML object>"
      ]
     },
     "metadata": {},
     "output_type": "display_data"
    },
    {
     "data": {
      "text/html": [
       "<a href='./data/pma/output/json/all/2016-48-1(10).json'>2016-48-1(10).json</a>"
      ],
      "text/plain": [
       "<IPython.core.display.HTML object>"
      ]
     },
     "metadata": {},
     "output_type": "display_data"
    },
    {
     "data": {
      "text/html": [
       "<a href='./data/pma/output/json/all/2016-48-1(8).json'>2016-48-1(8).json</a>"
      ],
      "text/plain": [
       "<IPython.core.display.HTML object>"
      ]
     },
     "metadata": {},
     "output_type": "display_data"
    },
    {
     "data": {
      "text/html": [
       "<a href='./data/pma/output/json/all/1949-57-1.json'>1949-57-1.json</a>"
      ],
      "text/plain": [
       "<IPython.core.display.HTML object>"
      ]
     },
     "metadata": {},
     "output_type": "display_data"
    },
    {
     "data": {
      "text/html": [
       "<a href='./data/pma/output/json/all/1987-70-3.json'>1987-70-3.json</a>"
      ],
      "text/plain": [
       "<IPython.core.display.HTML object>"
      ]
     },
     "metadata": {},
     "output_type": "display_data"
    },
    {
     "data": {
      "text/html": [
       "<a href='./data/pma/output/json/all/9-1982-1.json'>9-1982-1.json</a>"
      ],
      "text/plain": [
       "<IPython.core.display.HTML object>"
      ]
     },
     "metadata": {},
     "output_type": "display_data"
    },
    {
     "data": {
      "text/html": [
       "<a href='./data/pma/output/json/all/1942-12-1.json'>1942-12-1.json</a>"
      ],
      "text/plain": [
       "<IPython.core.display.HTML object>"
      ]
     },
     "metadata": {},
     "output_type": "display_data"
    },
    {
     "data": {
      "text/html": [
       "<a href='./data/pma/output/json/all/2016-48-1(12).json'>2016-48-1(12).json</a>"
      ],
      "text/plain": [
       "<IPython.core.display.HTML object>"
      ]
     },
     "metadata": {},
     "output_type": "display_data"
    },
    {
     "data": {
      "text/html": [
       "<a href='./data/pma/output/json/all/1997-42-1.json'>1997-42-1.json</a>"
      ],
      "text/plain": [
       "<IPython.core.display.HTML object>"
      ]
     },
     "metadata": {},
     "output_type": "display_data"
    },
    {
     "data": {
      "text/html": [
       "<a href='./data/pma/output/json/all/2016-48-1(6).json'>2016-48-1(6).json</a>"
      ],
      "text/plain": [
       "<IPython.core.display.HTML object>"
      ]
     },
     "metadata": {},
     "output_type": "display_data"
    },
    {
     "data": {
      "text/html": [
       "<a href='./data/pma/output/json/all/2016-48-1(4).json'>2016-48-1(4).json</a>"
      ],
      "text/plain": [
       "<IPython.core.display.HTML object>"
      ]
     },
     "metadata": {},
     "output_type": "display_data"
    },
    {
     "data": {
      "text/html": [
       "<a href='./data/pma/output/json/all/2016-48-1(1--21).json'>2016-48-1(1--21).json</a>"
      ],
      "text/plain": [
       "<IPython.core.display.HTML object>"
      ]
     },
     "metadata": {},
     "output_type": "display_data"
    },
    {
     "data": {
      "text/html": [
       "<a href='./data/pma/output/json/all/2016-48-1(21).json'>2016-48-1(21).json</a>"
      ],
      "text/plain": [
       "<IPython.core.display.HTML object>"
      ]
     },
     "metadata": {},
     "output_type": "display_data"
    },
    {
     "data": {
      "text/html": [
       "<a href='./data/pma/output/json/all/2016-48-1(18).json'>2016-48-1(18).json</a>"
      ],
      "text/plain": [
       "<IPython.core.display.HTML object>"
      ]
     },
     "metadata": {},
     "output_type": "display_data"
    },
    {
     "data": {
      "text/html": [
       "<a href='./data/pma/output/json/all/PSL-302.json'>PSL-302.json</a>"
      ],
      "text/plain": [
       "<IPython.core.display.HTML object>"
      ]
     },
     "metadata": {},
     "output_type": "display_data"
    },
    {
     "data": {
      "text/html": [
       "<a href='./data/pma/output/json/all/1949-18-109.json'>1949-18-109.json</a>"
      ],
      "text/plain": [
       "<IPython.core.display.HTML object>"
      ]
     },
     "metadata": {},
     "output_type": "display_data"
    },
    {
     "data": {
      "text/html": [
       "<a href='./data/pma/output/json/all/2016-48-1(2).json'>2016-48-1(2).json</a>"
      ],
      "text/plain": [
       "<IPython.core.display.HTML object>"
      ]
     },
     "metadata": {},
     "output_type": "display_data"
    },
    {
     "data": {
      "text/html": [
       "<a href='./data/pma/output/json/all/1987-70-1.json'>1987-70-1.json</a>"
      ],
      "text/plain": [
       "<IPython.core.display.HTML object>"
      ]
     },
     "metadata": {},
     "output_type": "display_data"
    },
    {
     "data": {
      "text/html": [
       "<a href='./data/pma/output/json/all/PSL-190.json'>PSL-190.json</a>"
      ],
      "text/plain": [
       "<IPython.core.display.HTML object>"
      ]
     },
     "metadata": {},
     "output_type": "display_data"
    },
    {
     "data": {
      "text/html": [
       "<a href='./data/pma/output/json/all/2016-48-1(5).json'>2016-48-1(5).json</a>"
      ],
      "text/plain": [
       "<IPython.core.display.HTML object>"
      ]
     },
     "metadata": {},
     "output_type": "display_data"
    },
    {
     "data": {
      "text/html": [
       "<a href='./data/pma/output/json/all/64-1993-1.json'>64-1993-1.json</a>"
      ],
      "text/plain": [
       "<IPython.core.display.HTML object>"
      ]
     },
     "metadata": {},
     "output_type": "display_data"
    },
    {
     "data": {
      "text/html": [
       "<a href='./data/pma/output/json/all/1995-7-1.json'>1995-7-1.json</a>"
      ],
      "text/plain": [
       "<IPython.core.display.HTML object>"
      ]
     },
     "metadata": {},
     "output_type": "display_data"
    },
    {
     "data": {
      "text/html": [
       "<a href='./data/pma/output/json/all/2016-48-1(20).json'>2016-48-1(20).json</a>"
      ],
      "text/plain": [
       "<IPython.core.display.HTML object>"
      ]
     },
     "metadata": {},
     "output_type": "display_data"
    },
    {
     "data": {
      "text/html": [
       "<a href='./data/pma/output/json/all/1997-41-1.json'>1997-41-1.json</a>"
      ],
      "text/plain": [
       "<IPython.core.display.HTML object>"
      ]
     },
     "metadata": {},
     "output_type": "display_data"
    },
    {
     "data": {
      "text/html": [
       "<a href='./data/pma/output/json/all/2016-48-1(7).json'>2016-48-1(7).json</a>"
      ],
      "text/plain": [
       "<IPython.core.display.HTML object>"
      ]
     },
     "metadata": {},
     "output_type": "display_data"
    },
    {
     "data": {
      "text/html": [
       "<a href='./data/pma/output/json/all/AWC-125.json'>AWC-125.json</a>"
      ],
      "text/plain": [
       "<IPython.core.display.HTML object>"
      ]
     },
     "metadata": {},
     "output_type": "display_data"
    },
    {
     "data": {
      "text/html": [
       "<a href='./data/pma/output/json/all/PSL-221.json'>PSL-221.json</a>"
      ],
      "text/plain": [
       "<IPython.core.display.HTML object>"
      ]
     },
     "metadata": {},
     "output_type": "display_data"
    },
    {
     "data": {
      "text/html": [
       "<a href='./data/pma/output/json/all/250-2003-1 frame.json'>250-2003-1 frame.json</a>"
      ],
      "text/plain": [
       "<IPython.core.display.HTML object>"
      ]
     },
     "metadata": {},
     "output_type": "display_data"
    },
    {
     "data": {
      "text/html": [
       "<a href='./data/pma/output/json/all/250-2003-2.json'>250-2003-2.json</a>"
      ],
      "text/plain": [
       "<IPython.core.display.HTML object>"
      ]
     },
     "metadata": {},
     "output_type": "display_data"
    },
    {
     "data": {
      "text/html": [
       "<a href='./data/pma/output/json/all/1967-38-1.json'>1967-38-1.json</a>"
      ],
      "text/plain": [
       "<IPython.core.display.HTML object>"
      ]
     },
     "metadata": {},
     "output_type": "display_data"
    },
    {
     "data": {
      "text/html": [
       "<a href='./data/pma/output/json/all/2016-48-1(3).json'>2016-48-1(3).json</a>"
      ],
      "text/plain": [
       "<IPython.core.display.HTML object>"
      ]
     },
     "metadata": {},
     "output_type": "display_data"
    },
    {
     "data": {
      "text/html": [
       "<a href='./data/pma/output/json/all/testq.json'>testq.json</a>"
      ],
      "text/plain": [
       "<IPython.core.display.HTML object>"
      ]
     },
     "metadata": {},
     "output_type": "display_data"
    },
    {
     "data": {
      "text/html": [
       "<a href='./data/pma/output/json/all/2016-48-1(19).json'>2016-48-1(19).json</a>"
      ],
      "text/plain": [
       "<IPython.core.display.HTML object>"
      ]
     },
     "metadata": {},
     "output_type": "display_data"
    },
    {
     "data": {
      "text/html": [
       "<a href='./data/pma/output/json/all/AWC-153.json'>AWC-153.json</a>"
      ],
      "text/plain": [
       "<IPython.core.display.HTML object>"
      ]
     },
     "metadata": {},
     "output_type": "display_data"
    },
    {
     "data": {
      "text/html": [
       "<a href='./data/pma/output/json/all/AWC-145.json'>AWC-145.json</a>"
      ],
      "text/plain": [
       "<IPython.core.display.HTML object>"
      ]
     },
     "metadata": {},
     "output_type": "display_data"
    },
    {
     "data": {
      "text/html": [
       "<a href='./data/pma/output/json/all/2016-48-1(1).json'>2016-48-1(1).json</a>"
      ],
      "text/plain": [
       "<IPython.core.display.HTML object>"
      ]
     },
     "metadata": {},
     "output_type": "display_data"
    }
   ],
   "source": [
    "import os\n",
    "from IPython.core.display import display, HTML\n",
    "\n",
    "\n",
    "def fn():       # 1.Get file names from directory\n",
    "    file_list=os.listdir(r\"./data/pma/output/json/all/\")\n",
    "   \n",
    "    for file in file_list:\n",
    "        display(HTML(\"<a href='./data/pma/output/json/all/\" + file +\"'>\" + file + \"</a>\"))\n",
    "    \n",
    "fn()"
   ]
  },
  {
   "cell_type": "code",
   "execution_count": null,
   "id": "f9aa048a",
   "metadata": {},
   "outputs": [],
   "source": []
  }
 ],
 "metadata": {
  "kernelspec": {
   "display_name": "Python 3",
   "language": "python",
   "name": "python3"
  },
  "language_info": {
   "codemirror_mode": {
    "name": "ipython",
    "version": 3
   },
   "file_extension": ".py",
   "mimetype": "text/x-python",
   "name": "python",
   "nbconvert_exporter": "python",
   "pygments_lexer": "ipython3",
   "version": "3.8.8"
  }
 },
 "nbformat": 4,
 "nbformat_minor": 5
}
