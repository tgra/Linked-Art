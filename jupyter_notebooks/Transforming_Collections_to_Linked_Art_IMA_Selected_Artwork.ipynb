{
 "cells": [
  {
   "cell_type": "markdown",
   "id": "c4b4ad69",
   "metadata": {},
   "source": [
    "#  Transforming Collections to Linked Art - Indianapolis Museum of Art"
   ]
  },
  {
   "cell_type": "markdown",
   "id": "0b3c9105",
   "metadata": {},
   "source": [
    "## Introduction\n",
    "\n",
    "[Linked Art](https://linked.art) is a community working together to create a shared Model based on Linked Open Data to describe Art. A number of exemplars will be published to demonstrate the processes involved in producing Linked Art JSON-LD, and also the potential applications of Linked Art, on the theme of:\n",
    "- `Transformation` - Documented transformation process - using code, documentation and possibly visualisation\n",
    "- `Reconciliation` - Documented reconciliation process - matching data with an external identifier source\n",
    "- `Visualisation` - Documented transformation of Linked Art JSON-LD to data visualisation\n",
    "\n",
    "This exemplar is concerned with `Transformation` - the transformation process, from collections data to Linked Art JSON-LD."
   ]
  },
  {
   "cell_type": "markdown",
   "id": "9d920eed",
   "metadata": {},
   "source": [
    "## Aim of the Notebook\n",
    "The aim of the notebook is to demonstrate how easy it is to transform collections data to Linked Art JSON-LD.\n",
    "## How\n",
    "The notebook provides a documented, interactive code example of the transformation process, from collections data to Linked Art using data from the [Indianapolis Museum of Art (IMA)]((https://discovernewfields.org/)). \n",
    "\n",
    "## Input Data\n",
    "The [Indianapolis Museum of Art (IMA)]((https://discovernewfields.org/)) has transformed a sample of its collections data to Linked Art JSON-LD:\n",
    "- available at https://github.com/IMAmuseum/LinkedArt \n",
    "- sourced from EMu in XML format (EMu source: Catalogue, Rights, Narratives, and Locations modules)\n",
    "- [XML files](https://github.com/IMAmuseum/LinkedArt/blob/master/XML)\n",
    " - [ObjectsSample XML file](https://github.com/IMAmuseum/LinkedArt/blob/master/XML/ObjectsSample.xml) [raw file](https://raw.githubusercontent.com/IMAmuseum/LinkedArt/master/XML/ObjectsSample.xml)\n",
    "\n",
    "<div class='alert alert-block alert-info'>The XML file are used as data input for the notebook, and as a miminum the ObjectsSample XML file should be downloaded.</div>\n",
    "\n",
    "## Attribution\n",
    "\n",
    "- The notebook's coded transformations are based on the IMA's [XSLT file](https://github.com/IMAmuseum/LinkedArt).\n",
    "- The Linked Art data model documentation has been sourced from the [Linked Art website](https://linked.art)\n",
    "- The IMA data has been sourced from the [IMA GitHub repository](https://github.com/IMAmuseum/LinkedArt)"
   ]
  },
  {
   "cell_type": "markdown",
   "id": "444d14d8",
   "metadata": {},
   "source": [
    "## Transformation Steps\n",
    "\n",
    "### 1. Import What We Need for Notebook and Define Variable\n",
    "- Import Python libraries\n",
    "\n",
    "Please enter a baseURI - example value for IMA is `https://data.discovernewfields.org/`"
   ]
  },
  {
   "cell_type": "code",
   "execution_count": 221,
   "id": "40d0ee99",
   "metadata": {},
   "outputs": [],
   "source": [
    "try:\n",
    "    import ipywidgets as widgets\n",
    "except:\n",
    "    !pip install ipywidgets\n",
    "    import ipywidgets as widgets\n",
    "\n",
    "from ipywidgets import Layout\n",
    "from ipywidgets import FileUpload\n",
    "\n",
    "try:\n",
    "    import IPython\n",
    "except:\n",
    "    !pip install IPython\n",
    "    import IPython   \n",
    "    \n",
    "from IPython.display import display\n",
    "from IPython.core.display import HTML\n",
    "from IPython.display import IFrame\n",
    "\n",
    "   \n",
    "try:\n",
    "    import xmltodict\n",
    "except:\n",
    "    !pip install xmltodict\n",
    "    import xmltodict\n",
    "\n",
    "try:\n",
    "    import json\n",
    "except:\n",
    "    !pip install json\n",
    "    import json \n",
    "    \n",
    "    \n",
    "\n",
    "try:\n",
    "    import requests\n",
    "except:\n",
    "    !pip install requests\n",
    "    import requests\n",
    "\n",
    "        \n",
    "def widgeText(desc, jdoc, ht):\n",
    "    widg = widgets.Textarea(\n",
    "        value=json.dumps(jdoc, indent=2),\n",
    "        placeholder=\"\",\n",
    "        description=desc,\n",
    "        disabled=False,\n",
    "        layout=Layout(width='100%', height=ht))\n",
    "    return widg\n",
    "\n",
    "#  baseURI for JSON-LD document e.g. https://data.discovernewfields.org/\n",
    "baseURI = \"https://data.discovernewfields.org/\""
   ]
  },
  {
   "cell_type": "markdown",
   "id": "ee8478c1",
   "metadata": {},
   "source": [
    "### 2. Upload XML File\n",
    "- Choose a file on your local system to upload and transform to Linked Art\n",
    "- The IMA files are available to download from: https://github.com/IMAmuseum/LinkedArt/tree/master/XML\n",
    "- Select a file by clicking on the \"Select XML file\" button"
   ]
  },
  {
   "cell_type": "code",
   "execution_count": 222,
   "id": "befa33d0",
   "metadata": {},
   "outputs": [],
   "source": [
    "upload = FileUpload(accept='.xml', multiple=False, description='Select XML file')"
   ]
  },
  {
   "cell_type": "code",
   "execution_count": 228,
   "id": "2d7add0d",
   "metadata": {},
   "outputs": [
    {
     "data": {
      "text/html": [
       "<div class='alert alert-block alert-info'>Please select a file to transform</div>"
      ],
      "text/plain": [
       "<IPython.core.display.HTML object>"
      ]
     },
     "metadata": {},
     "output_type": "display_data"
    },
    {
     "data": {
      "application/vnd.jupyter.widget-view+json": {
       "model_id": "05e4534ea7c848a89cb629afadaf209b",
       "version_major": 2,
       "version_minor": 0
      },
      "text/plain": [
       "FileUpload(value={'ObjectsSample.xml': {'metadata': {'name': 'ObjectsSample.xml', 'type': 'text/xml', 'size': …"
      ]
     },
     "metadata": {},
     "output_type": "display_data"
    }
   ],
   "source": [
    "display(HTML(\"<div class='alert alert-block alert-info'>Please select a file to transform</div>\"))\n",
    "display(upload)"
   ]
  },
  {
   "cell_type": "code",
   "execution_count": 229,
   "id": "ff9d7c39",
   "metadata": {},
   "outputs": [
    {
     "data": {
      "text/html": [
       "<div class='alert alert-block alert-success'>File uploaded</div>"
      ],
      "text/plain": [
       "<IPython.core.display.HTML object>"
      ]
     },
     "metadata": {},
     "output_type": "display_data"
    }
   ],
   "source": [
    "obj = False\n",
    "# get content from uploaded file \n",
    "for uploaded_filename in upload.value:\n",
    "    content = upload.value[uploaded_filename]['content']\n",
    "    obj = xmltodict.parse(content) \n",
    "    \n",
    "if obj == False:\n",
    "    display(HTML(\"<div class='alert alert-block alert-danger'>Please select a file to transform</div>\"))\n",
    "else:\n",
    "    display(HTML(\"<div class='alert alert-block alert-success'>File uploaded</div>\"))"
   ]
  },
  {
   "cell_type": "markdown",
   "id": "cbe11373",
   "metadata": {},
   "source": [
    "### 3. Select Catalogue Item to Transform\n",
    "The next step will transform the contents of the uploaded XML file into a dropdown list of artworks."
   ]
  },
  {
   "cell_type": "code",
   "execution_count": 230,
   "id": "b79a192e",
   "metadata": {},
   "outputs": [],
   "source": [
    "allObjects = obj[\"table\"][\"tuple\"]\n",
    "\n",
    "#object dropdown options\n",
    "objOptions = []\n",
    "objOptions.append((\"Please select an object\",''))\n",
    "\n",
    "for obj in allObjects:\n",
    "    title = irn = \"\"\n",
    "    # define properties variables  \n",
    "    for prop in obj[\"atom\"]:      \n",
    "        propName = prop[\"@name\"]     \n",
    "        if \"#text\" in prop:\n",
    "            if propName == \"irn\":\n",
    "                irn = prop[\"#text\"]  \n",
    "            if propName == \"TitMainTitle\":\n",
    "                title = prop[\"#text\"]\n",
    "            \n",
    "    objOptions.append((irn + ' : ' + title,irn))\n",
    "    \n",
    "selectObject = widgets.Dropdown(options=objOptions, description='Select Object')"
   ]
  },
  {
   "cell_type": "code",
   "execution_count": 233,
   "id": "14958075",
   "metadata": {},
   "outputs": [
    {
     "data": {
      "text/html": [
       "<div class='alert alert-block alert-info'>Select an artwork from the dropdown list to transform the catalogue data to Linked Art JSON-LD</div>"
      ],
      "text/plain": [
       "<IPython.core.display.HTML object>"
      ]
     },
     "metadata": {},
     "output_type": "display_data"
    },
    {
     "data": {
      "application/vnd.jupyter.widget-view+json": {
       "model_id": "2901301b80cd4dfd9614c5c9a560d7a1",
       "version_major": 2,
       "version_minor": 0
      },
      "text/plain": [
       "Dropdown(description='Select Object', index=45, options=(('Please select an object', ''), ('1032 : long-neck v…"
      ]
     },
     "metadata": {},
     "output_type": "display_data"
    }
   ],
   "source": [
    "display(HTML(\"<div class='alert alert-block alert-info'>Select an artwork from the dropdown list to transform the catalogue data to Linked Art JSON-LD</div>\"))\n",
    "\n",
    "display(selectObject)"
   ]
  },
  {
   "cell_type": "code",
   "execution_count": 234,
   "id": "9998d751",
   "metadata": {},
   "outputs": [
    {
     "data": {
      "text/html": [
       "<div class='alert alert-block alert-success'>Artwork selected:82696 : Five Brushstrokes</div"
      ],
      "text/plain": [
       "<IPython.core.display.HTML object>"
      ]
     },
     "metadata": {},
     "output_type": "display_data"
    }
   ],
   "source": [
    "selectedIRN = selectObject.value\n",
    "\n",
    "if selectedIRN == \"\":\n",
    "    display(HTML(\"<div class='alert alert-block alert-danger'>Please select an artwork to transform</div>\"))\n",
    "else:\n",
    "    display(HTML(\"<div class='alert alert-block alert-success'>Artwork selected:\" + selectObject.options[selectObject.index][0] + \"</div\"))  \n"
   ]
  },
  {
   "cell_type": "markdown",
   "id": "687f116f",
   "metadata": {},
   "source": [
    "### Artwork as Python dictionary\n",
    "The following Python dictionary is for the selected artwork, and will be used to transform the collection data for the artwork to JSON-LD:"
   ]
  },
  {
   "cell_type": "code",
   "execution_count": 235,
   "id": "36e737f3",
   "metadata": {},
   "outputs": [
    {
     "data": {
      "text/plain": [
       "OrderedDict([('atom',\n",
       "              [OrderedDict([('@name', 'irn'),\n",
       "                            ('@type', 'text'),\n",
       "                            ('@size', 'short'),\n",
       "                            ('#text', '82696')]),\n",
       "               OrderedDict([('@name', 'AdmPublishWebNoPassword'),\n",
       "                            ('@type', 'text'),\n",
       "                            ('@size', 'short'),\n",
       "                            ('#text', 'Yes')]),\n",
       "               OrderedDict([('@name', 'TitAccessionNo'),\n",
       "                            ('@type', 'text'),\n",
       "                            ('@size', 'short'),\n",
       "                            ('#text', '2013.443A-E.4')]),\n",
       "               OrderedDict([('@name', 'TitPreviousAccessionNo'),\n",
       "                            ('@type', 'text'),\n",
       "                            ('@size', 'short'),\n",
       "                            ('#text', 'TR11707A-E.4')]),\n",
       "               OrderedDict([('@name', 'TitObjectStatus'),\n",
       "                            ('@type', 'text'),\n",
       "                            ('@size', 'short'),\n",
       "                            ('#text', 'Accessioned')]),\n",
       "               OrderedDict([('@name', 'TitAccessionDate'),\n",
       "                            ('@type', 'text'),\n",
       "                            ('@size', 'short'),\n",
       "                            ('#text', '2013-12-12')]),\n",
       "               OrderedDict([('@name', 'TitMainTitle'),\n",
       "                            ('@type', 'text'),\n",
       "                            ('@size', 'short'),\n",
       "                            ('#text', 'Five Brushstrokes')]),\n",
       "               OrderedDict([('@name', 'TitSeriesTitle'),\n",
       "                            ('@type', 'text'),\n",
       "                            ('@size', 'short')]),\n",
       "               OrderedDict([('@name', 'TitCollectionTitle'),\n",
       "                            ('@type', 'text'),\n",
       "                            ('@size', 'short')]),\n",
       "               OrderedDict([('@name', 'TitTitleNotes'),\n",
       "                            ('@type', 'text'),\n",
       "                            ('@size', 'short'),\n",
       "                            ('#text',\n",
       "                             'A) Element A / Black and Yellow Drip, B) Element B / Red and White, C) Element C / Black & White, E.1) Element E #1 / Bottom, Black & White, E.2) Element E #2 / Red & White, E.3) Element E #3 / Black &  Yellow, E.4) Element E #4 / Top, Black & White')]),\n",
       "               OrderedDict([('@name', 'TitObjectType'),\n",
       "                            ('@type', 'text'),\n",
       "                            ('@size', 'short'),\n",
       "                            ('#text', 'Visual Works: Sculpture')]),\n",
       "               OrderedDict([('@name', 'CreDateCreated'),\n",
       "                            ('@type', 'text'),\n",
       "                            ('@size', 'short'),\n",
       "                            ('#text', 'fabricated 2012')]),\n",
       "               OrderedDict([('@name', 'CreEarliestDate'),\n",
       "                            ('@type', 'text'),\n",
       "                            ('@size', 'short'),\n",
       "                            ('#text', '2012')]),\n",
       "               OrderedDict([('@name', 'CreLatestDate'),\n",
       "                            ('@type', 'text'),\n",
       "                            ('@size', 'short'),\n",
       "                            ('#text', '2012')]),\n",
       "               OrderedDict([('@name', 'CreCreationPeriod'),\n",
       "                            ('@type', 'text'),\n",
       "                            ('@size', 'short')]),\n",
       "               OrderedDict([('@name', 'CreCreationDynasty'),\n",
       "                            ('@type', 'text'),\n",
       "                            ('@size', 'short')]),\n",
       "               OrderedDict([('@name', 'CrePrimaryInscriptions'),\n",
       "                            ('@type', 'text'),\n",
       "                            ('@size', 'short'),\n",
       "                            ('#text',\n",
       "                             'rf Lichtenstein 83-84 AP <copyright> The Roy Lichtenstein Foundation, 2012')]),\n",
       "               OrderedDict([('@name', 'CreCreationNotes'),\n",
       "                            ('@type', 'text'),\n",
       "                            ('@size', 'short'),\n",
       "                            ('#text',\n",
       "                             \"(designed 1983-1984, fabricated 2012)\\nThe sculpture was created posthumously from the aritist's specificiations, and originally commissioned by by an arts patron for the University of California at San Diego's campus in LaJolla, but was never fabricated beyond the artist's maquettes.\")]),\n",
       "               OrderedDict([('@name', 'EdiPublisherDate'),\n",
       "                            ('@type', 'text'),\n",
       "                            ('@size', 'short')]),\n",
       "               OrderedDict([('@name', 'PhyMediumAndSupport'),\n",
       "                            ('@type', 'text'),\n",
       "                            ('@size', 'short'),\n",
       "                            ('#text', 'painted aluminum')]),\n",
       "               OrderedDict([('@name', 'PhyStyle'),\n",
       "                            ('@type', 'text'),\n",
       "                            ('@size', 'short')]),\n",
       "               OrderedDict([('@name', 'PhyTechnique'),\n",
       "                            ('@type', 'text'),\n",
       "                            ('@size', 'short')]),\n",
       "               OrderedDict([('@name', 'EdiImpression'),\n",
       "                            ('@type', 'text'),\n",
       "                            ('@size', 'short')]),\n",
       "               OrderedDict([('@name', 'PhyDescription'),\n",
       "                            ('@type', 'text'),\n",
       "                            ('@size', 'short'),\n",
       "                            ('#text',\n",
       "                             'A) Element A / Black and Yellow Drip, B) Element B / Red and White, C) Element C / Black & White, E.1) Element E #1 / Bottom, Black & White, E.2) Element E #2 / Red & White, E.3) Element E #3 / Black &  Yellow, E.4) Element E #4 / Top, Black & White')]),\n",
       "               OrderedDict([('@name', 'PhyConvertedDims'),\n",
       "                            ('@type', 'text'),\n",
       "                            ('@size', 'short'),\n",
       "                            ('#text',\n",
       "                             'Element A) 372 x 36 x 11 in.\\nElement B) 98 x 357 x 10-1/4 in.\\nElement C) 104 x 271 x 12 in.\\nElement D) 228 x 100 x 11 in.\\nElement E.1-.4) 480 x 77 x 15 in. (assembled)')]),\n",
       "               OrderedDict([('@name', 'SumCreditLine'),\n",
       "                            ('@type', 'text'),\n",
       "                            ('@size', 'short'),\n",
       "                            ('#text',\n",
       "                             'Robert L. and Marjorie J. Mann Fund, Partial Gift of the Roy Lichtenstein Foundation')]),\n",
       "               OrderedDict([('@name', 'CreProvenance'),\n",
       "                            ('@type', 'text'),\n",
       "                            ('@size', 'short'),\n",
       "                            ('#text',\n",
       "                             '(Roy Lichtenstein Foundation, New York, New York); purchased by the Indianapolis Museum of Art in 2013.')]),\n",
       "               OrderedDict([('@name', 'PhyCollectionArea'),\n",
       "                            ('@type', 'text'),\n",
       "                            ('@size', 'short'),\n",
       "                            ('#text', '907-Contemporary')]),\n",
       "               OrderedDict([('@name', 'LocMovementType'),\n",
       "                            ('@type', 'text'),\n",
       "                            ('@size', 'short'),\n",
       "                            ('#text', 'Exhibition Location')]),\n",
       "               OrderedDict([('@name', 'AssIsParent'),\n",
       "                            ('@type', 'text'),\n",
       "                            ('@size', 'short'),\n",
       "                            ('#text', 'Yes')]),\n",
       "               OrderedDict([('@name', 'AdmPublishWebNoPassword'),\n",
       "                            ('@type', 'text'),\n",
       "                            ('@size', 'short'),\n",
       "                            ('#text', 'Yes')])]),\n",
       "             ('table',\n",
       "              [OrderedDict([('@name', 'ObjectTypes'),\n",
       "                            ('tuple',\n",
       "                             OrderedDict([('atom',\n",
       "                                           OrderedDict([('@name',\n",
       "                                                         'PhyMediaCategory'),\n",
       "                                                        ('@type', 'text'),\n",
       "                                                        ('@size', 'short'),\n",
       "                                                        ('#text',\n",
       "                                                         'outdoor sculpture')]))]))]),\n",
       "               OrderedDict([('@name', 'Creator1'),\n",
       "                            ('tuple',\n",
       "                             OrderedDict([('atom',\n",
       "                                           [OrderedDict([('@name', 'CreRole'),\n",
       "                                                         ('@type', 'text'),\n",
       "                                                         ('@size', 'short'),\n",
       "                                                         ('#text', 'Artist')]),\n",
       "                                            OrderedDict([('@name', 'irn'),\n",
       "                                                         ('@type', 'text'),\n",
       "                                                         ('@size', 'short'),\n",
       "                                                         ('#text', '613279')]),\n",
       "                                            OrderedDict([('@name',\n",
       "                                                          'SummaryData'),\n",
       "                                                         ('@type', 'text'),\n",
       "                                                         ('@size', 'short'),\n",
       "                                                         ('#text',\n",
       "                                                          'Lichtenstein, Roy')])])]))]),\n",
       "               OrderedDict([('@name', 'MarkType'),\n",
       "                            ('tuple',\n",
       "                             OrderedDict([('atom',\n",
       "                                           OrderedDict([('@name',\n",
       "                                                         'CreMarkType'),\n",
       "                                                        ('@type', 'text'),\n",
       "                                                        ('@size', 'short'),\n",
       "                                                        ('#text',\n",
       "                                                         'Incised')]))]))]),\n",
       "               OrderedDict([('@name', 'Medium'),\n",
       "                            ('tuple',\n",
       "                             OrderedDict([('atom',\n",
       "                                           OrderedDict([('@name', 'PhyMedium'),\n",
       "                                                        ('@type', 'text'),\n",
       "                                                        ('@size', 'short'),\n",
       "                                                        ('#text',\n",
       "                                                         'paint')]))]))]),\n",
       "               OrderedDict([('@name', 'Support'),\n",
       "                            ('tuple',\n",
       "                             OrderedDict([('atom',\n",
       "                                           OrderedDict([('@name',\n",
       "                                                         'PhySupport'),\n",
       "                                                        ('@type', 'text'),\n",
       "                                                        ('@size', 'short'),\n",
       "                                                        ('#text',\n",
       "                                                         'aluminum')]))]))]),\n",
       "               OrderedDict([('@name', 'Dimensions'),\n",
       "                            ('tuple',\n",
       "                             [OrderedDict([('atom',\n",
       "                                            [OrderedDict([('@name', 'PhyType'),\n",
       "                                                          ('@type', 'text'),\n",
       "                                                          ('@size', 'short'),\n",
       "                                                          ('#text',\n",
       "                                                           'Dimensions A')]),\n",
       "                                             OrderedDict([('@name',\n",
       "                                                           'PhyHeight'),\n",
       "                                                          ('@type', 'text'),\n",
       "                                                          ('@size', 'short'),\n",
       "                                                          ('#text',\n",
       "                                                           '372.0000')]),\n",
       "                                             OrderedDict([('@name',\n",
       "                                                           'PhyWidth'),\n",
       "                                                          ('@type', 'text'),\n",
       "                                                          ('@size', 'short'),\n",
       "                                                          ('#text',\n",
       "                                                           '36.0000')]),\n",
       "                                             OrderedDict([('@name',\n",
       "                                                           'PhyDepth'),\n",
       "                                                          ('@type', 'text'),\n",
       "                                                          ('@size', 'short'),\n",
       "                                                          ('#text',\n",
       "                                                           '11.0000')]),\n",
       "                                             OrderedDict([('@name',\n",
       "                                                           'PhyUnitLength'),\n",
       "                                                          ('@type', 'text'),\n",
       "                                                          ('@size', 'short'),\n",
       "                                                          ('#text', 'in.')]),\n",
       "                                             OrderedDict([('@name',\n",
       "                                                           'PhyDimensionNotes'),\n",
       "                                                          ('@type', 'text'),\n",
       "                                                          ('@size', 'short'),\n",
       "                                                          ('#text',\n",
       "                                                           'A) Metric: 944.8 x 91.4 x 27.9')])])]),\n",
       "                              OrderedDict([('atom',\n",
       "                                            [OrderedDict([('@name', 'PhyType'),\n",
       "                                                          ('@type', 'text'),\n",
       "                                                          ('@size', 'short'),\n",
       "                                                          ('#text',\n",
       "                                                           'Dimensions B')]),\n",
       "                                             OrderedDict([('@name',\n",
       "                                                           'PhyHeight'),\n",
       "                                                          ('@type', 'text'),\n",
       "                                                          ('@size', 'short'),\n",
       "                                                          ('#text',\n",
       "                                                           '98.0000')]),\n",
       "                                             OrderedDict([('@name',\n",
       "                                                           'PhyWidth'),\n",
       "                                                          ('@type', 'text'),\n",
       "                                                          ('@size', 'short'),\n",
       "                                                          ('#text',\n",
       "                                                           '357.0000')]),\n",
       "                                             OrderedDict([('@name',\n",
       "                                                           'PhyDepth'),\n",
       "                                                          ('@type', 'text'),\n",
       "                                                          ('@size', 'short'),\n",
       "                                                          ('#text',\n",
       "                                                           '10.2500')]),\n",
       "                                             OrderedDict([('@name',\n",
       "                                                           'PhyUnitLength'),\n",
       "                                                          ('@type', 'text'),\n",
       "                                                          ('@size', 'short'),\n",
       "                                                          ('#text', 'in.')]),\n",
       "                                             OrderedDict([('@name',\n",
       "                                                           'PhyDimensionNotes'),\n",
       "                                                          ('@type', 'text'),\n",
       "                                                          ('@size', 'short'),\n",
       "                                                          ('#text',\n",
       "                                                           'B) Metric: 248.9 x 906.7 x 26.03')])])]),\n",
       "                              OrderedDict([('atom',\n",
       "                                            [OrderedDict([('@name', 'PhyType'),\n",
       "                                                          ('@type', 'text'),\n",
       "                                                          ('@size', 'short'),\n",
       "                                                          ('#text',\n",
       "                                                           'Dimensions C')]),\n",
       "                                             OrderedDict([('@name',\n",
       "                                                           'PhyHeight'),\n",
       "                                                          ('@type', 'text'),\n",
       "                                                          ('@size', 'short'),\n",
       "                                                          ('#text',\n",
       "                                                           '104.0000')]),\n",
       "                                             OrderedDict([('@name',\n",
       "                                                           'PhyWidth'),\n",
       "                                                          ('@type', 'text'),\n",
       "                                                          ('@size', 'short'),\n",
       "                                                          ('#text',\n",
       "                                                           '271.0000')]),\n",
       "                                             OrderedDict([('@name',\n",
       "                                                           'PhyDepth'),\n",
       "                                                          ('@type', 'text'),\n",
       "                                                          ('@size', 'short'),\n",
       "                                                          ('#text',\n",
       "                                                           '12.0000')]),\n",
       "                                             OrderedDict([('@name',\n",
       "                                                           'PhyUnitLength'),\n",
       "                                                          ('@type', 'text'),\n",
       "                                                          ('@size', 'short'),\n",
       "                                                          ('#text', 'in.')]),\n",
       "                                             OrderedDict([('@name',\n",
       "                                                           'PhyDimensionNotes'),\n",
       "                                                          ('@type', 'text'),\n",
       "                                                          ('@size', 'short'),\n",
       "                                                          ('#text',\n",
       "                                                           'C) Metric: 264.1 x 688.3 x 30.4')])])]),\n",
       "                              OrderedDict([('atom',\n",
       "                                            [OrderedDict([('@name', 'PhyType'),\n",
       "                                                          ('@type', 'text'),\n",
       "                                                          ('@size', 'short'),\n",
       "                                                          ('#text',\n",
       "                                                           'Dimensions D')]),\n",
       "                                             OrderedDict([('@name',\n",
       "                                                           'PhyHeight'),\n",
       "                                                          ('@type', 'text'),\n",
       "                                                          ('@size', 'short'),\n",
       "                                                          ('#text',\n",
       "                                                           '228.0000')]),\n",
       "                                             OrderedDict([('@name',\n",
       "                                                           'PhyWidth'),\n",
       "                                                          ('@type', 'text'),\n",
       "                                                          ('@size', 'short'),\n",
       "                                                          ('#text',\n",
       "                                                           '100.0000')]),\n",
       "                                             OrderedDict([('@name',\n",
       "                                                           'PhyDepth'),\n",
       "                                                          ('@type', 'text'),\n",
       "                                                          ('@size', 'short'),\n",
       "                                                          ('#text',\n",
       "                                                           '11.0000')]),\n",
       "                                             OrderedDict([('@name',\n",
       "                                                           'PhyUnitLength'),\n",
       "                                                          ('@type', 'text'),\n",
       "                                                          ('@size', 'short'),\n",
       "                                                          ('#text', 'in.')]),\n",
       "                                             OrderedDict([('@name',\n",
       "                                                           'PhyDimensionNotes'),\n",
       "                                                          ('@type', 'text'),\n",
       "                                                          ('@size', 'short'),\n",
       "                                                          ('#text',\n",
       "                                                           'D) Metric: 579.1 x 254 x 27.9')])])]),\n",
       "                              OrderedDict([('atom',\n",
       "                                            [OrderedDict([('@name', 'PhyType'),\n",
       "                                                          ('@type', 'text'),\n",
       "                                                          ('@size', 'short'),\n",
       "                                                          ('#text',\n",
       "                                                           'Dimensions E')]),\n",
       "                                             OrderedDict([('@name',\n",
       "                                                           'PhyHeight'),\n",
       "                                                          ('@type', 'text'),\n",
       "                                                          ('@size', 'short'),\n",
       "                                                          ('#text',\n",
       "                                                           '480.0000')]),\n",
       "                                             OrderedDict([('@name',\n",
       "                                                           'PhyWidth'),\n",
       "                                                          ('@type', 'text'),\n",
       "                                                          ('@size', 'short'),\n",
       "                                                          ('#text',\n",
       "                                                           '77.0000')]),\n",
       "                                             OrderedDict([('@name',\n",
       "                                                           'PhyDepth'),\n",
       "                                                          ('@type', 'text'),\n",
       "                                                          ('@size', 'short'),\n",
       "                                                          ('#text',\n",
       "                                                           '15.0000')]),\n",
       "                                             OrderedDict([('@name',\n",
       "                                                           'PhyUnitLength'),\n",
       "                                                          ('@type', 'text'),\n",
       "                                                          ('@size', 'short'),\n",
       "                                                          ('#text', 'in.')]),\n",
       "                                             OrderedDict([('@name',\n",
       "                                                           'PhyDimensionNotes'),\n",
       "                                                          ('@type', 'text'),\n",
       "                                                          ('@size', 'short'),\n",
       "                                                          ('#text',\n",
       "                                                           'E) Metric: 1219.2 x 195.5 x 38.1 (assembled)')])])])])]),\n",
       "               OrderedDict([('@name', 'Rights'),\n",
       "                            ('tuple',\n",
       "                             OrderedDict([('atom',\n",
       "                                           OrderedDict([('@name',\n",
       "                                                         'RigAcknowledgement'),\n",
       "                                                        ('@type', 'text'),\n",
       "                                                        ('@size', 'short'),\n",
       "                                                        ('#text',\n",
       "                                                         '© Roy Lichtenstein Foundation')]))]))]),\n",
       "               OrderedDict([('@name', 'Children'),\n",
       "                            ('tuple',\n",
       "                             [OrderedDict([('atom',\n",
       "                                            [OrderedDict([('@name', 'irn'),\n",
       "                                                          ('@type', 'text'),\n",
       "                                                          ('@size', 'short'),\n",
       "                                                          ('#text', '85259')]),\n",
       "                                             OrderedDict([('@name',\n",
       "                                                           'TitMainTitle'),\n",
       "                                                          ('@type', 'text'),\n",
       "                                                          ('@size', 'short'),\n",
       "                                                          ('#text',\n",
       "                                                           'element C for Five Brushstrokes')])])]),\n",
       "                              OrderedDict([('atom',\n",
       "                                            [OrderedDict([('@name', 'irn'),\n",
       "                                                          ('@type', 'text'),\n",
       "                                                          ('@size', 'short'),\n",
       "                                                          ('#text', '85257')]),\n",
       "                                             OrderedDict([('@name',\n",
       "                                                           'TitMainTitle'),\n",
       "                                                          ('@type', 'text'),\n",
       "                                                          ('@size', 'short'),\n",
       "                                                          ('#text',\n",
       "                                                           'element A for Five Brushstrokes')])])]),\n",
       "                              OrderedDict([('atom',\n",
       "                                            [OrderedDict([('@name', 'irn'),\n",
       "                                                          ('@type', 'text'),\n",
       "                                                          ('@size', 'short'),\n",
       "                                                          ('#text', '85258')]),\n",
       "                                             OrderedDict([('@name',\n",
       "                                                           'TitMainTitle'),\n",
       "                                                          ('@type', 'text'),\n",
       "                                                          ('@size', 'short'),\n",
       "                                                          ('#text',\n",
       "                                                           'element B for Five Brushstrokes')])])]),\n",
       "                              OrderedDict([('atom',\n",
       "                                            [OrderedDict([('@name', 'irn'),\n",
       "                                                          ('@type', 'text'),\n",
       "                                                          ('@size', 'short'),\n",
       "                                                          ('#text', '85260')]),\n",
       "                                             OrderedDict([('@name',\n",
       "                                                           'TitMainTitle'),\n",
       "                                                          ('@type', 'text'),\n",
       "                                                          ('@size', 'short'),\n",
       "                                                          ('#text',\n",
       "                                                           'element D for Five Brushstrokes')])])]),\n",
       "                              OrderedDict([('atom',\n",
       "                                            [OrderedDict([('@name', 'irn'),\n",
       "                                                          ('@type', 'text'),\n",
       "                                                          ('@size', 'short'),\n",
       "                                                          ('#text', '85261')]),\n",
       "                                             OrderedDict([('@name',\n",
       "                                                           'TitMainTitle'),\n",
       "                                                          ('@type', 'text'),\n",
       "                                                          ('@size', 'short'),\n",
       "                                                          ('#text',\n",
       "                                                           'element E.1 for Five Brushstrokes')])])]),\n",
       "                              OrderedDict([('atom',\n",
       "                                            [OrderedDict([('@name', 'irn'),\n",
       "                                                          ('@type', 'text'),\n",
       "                                                          ('@size', 'short'),\n",
       "                                                          ('#text', '85262')]),\n",
       "                                             OrderedDict([('@name',\n",
       "                                                           'TitMainTitle'),\n",
       "                                                          ('@type', 'text'),\n",
       "                                                          ('@size', 'short'),\n",
       "                                                          ('#text',\n",
       "                                                           'element E.2 for Five Brushstrokes')])])]),\n",
       "                              OrderedDict([('atom',\n",
       "                                            [OrderedDict([('@name', 'irn'),\n",
       "                                                          ('@type', 'text'),\n",
       "                                                          ('@size', 'short'),\n",
       "                                                          ('#text', '85263')]),\n",
       "                                             OrderedDict([('@name',\n",
       "                                                           'TitMainTitle'),\n",
       "                                                          ('@type', 'text'),\n",
       "                                                          ('@size', 'short'),\n",
       "                                                          ('#text',\n",
       "                                                           'element E.3 for Five Brushstrokes')])])]),\n",
       "                              OrderedDict([('atom',\n",
       "                                            [OrderedDict([('@name', 'irn'),\n",
       "                                                          ('@type', 'text'),\n",
       "                                                          ('@size', 'short'),\n",
       "                                                          ('#text', '85264')]),\n",
       "                                             OrderedDict([('@name',\n",
       "                                                           'TitMainTitle'),\n",
       "                                                          ('@type', 'text'),\n",
       "                                                          ('@size', 'short'),\n",
       "                                                          ('#text',\n",
       "                                                           'element E.4 for Five Brushstrokes')])])])])]),\n",
       "               OrderedDict([('@name', 'Homepage'),\n",
       "                            ('tuple',\n",
       "                             OrderedDict([('atom',\n",
       "                                           [OrderedDict([('@name',\n",
       "                                                          'RefBibliographicNotes'),\n",
       "                                                         ('@type', 'text'),\n",
       "                                                         ('@size', 'short'),\n",
       "                                                         ('#text', '76663')]),\n",
       "                                            OrderedDict([('@name', 'irn'),\n",
       "                                                         ('@type', 'text'),\n",
       "                                                         ('@size', 'short'),\n",
       "                                                         ('#text', '52214')]),\n",
       "                                            OrderedDict([('@name', 'EleTitle'),\n",
       "                                                         ('@type', 'text'),\n",
       "                                                         ('@size', 'short'),\n",
       "                                                         ('#text',\n",
       "                                                          'Dagwood ID for 2013.443A-E.4')]),\n",
       "                                            OrderedDict([('@name',\n",
       "                                                          'EleIdentifier'),\n",
       "                                                         ('@type', 'text'),\n",
       "                                                         ('@size', 'short'),\n",
       "                                                         ('#text',\n",
       "                                                          '76663')])])]))])]),\n",
       "             ('tuple',\n",
       "              [OrderedDict([('@name', 'LocCurrentLocationRef'),\n",
       "                            ('atom',\n",
       "                             [OrderedDict([('@name', 'LocLevel1'),\n",
       "                                           ('@type', 'text'),\n",
       "                                           ('@size', 'short'),\n",
       "                                           ('#text', 'IMA')]),\n",
       "                              OrderedDict([('@name', 'LocLevel2'),\n",
       "                                           ('@type', 'text'),\n",
       "                                           ('@size', 'short'),\n",
       "                                           ('#text', 'Grounds')]),\n",
       "                              OrderedDict([('@name', 'LocLevel3'),\n",
       "                                           ('@type', 'text'),\n",
       "                                           ('@size', 'short'),\n",
       "                                           ('#text', 'G')])])]),\n",
       "               OrderedDict([('@name', 'AssParentObjectRef'),\n",
       "                            ('atom',\n",
       "                             OrderedDict([('@name', 'irn'),\n",
       "                                          ('@type', 'text'),\n",
       "                                          ('@size', 'short')]))])])])"
      ]
     },
     "metadata": {},
     "output_type": "display_data"
    }
   ],
   "source": [
    "selectedObject = {}\n",
    "for obj in allObjects:\n",
    "    for prop in obj[\"atom\"]:         \n",
    "        if prop[\"@name\"] == \"irn\":\n",
    "            irn = prop[\"#text\"]\n",
    "            if irn == selectedIRN:\n",
    "                selectedObject = obj\n",
    "               \n",
    "display(selectedObject)"
   ]
  },
  {
   "cell_type": "markdown",
   "id": "d967358f",
   "metadata": {},
   "source": [
    "## 4. Build the Linked Art JSON-LD file <a id=\"build\"/>\n",
    "\n",
    "The following steps will transform the catalogue data for the selected artwork to Linked Art JSON-LD. This will divided into parts, using different parts of the Linked Art data model.\n",
    "\n",
    "- [Core Properties](#core)\n",
    "- [Identifiers](#id)\n",
    "- [Names](#names)\n",
    "- [Classification](#class)\n",
    "- [Home Page](#home)\n",
    "- [Current Location](#loc)\n",
    "- [Linguistic Objects](#ling)\n",
    "- [Production](#prod)\n",
    "- [Acquisition](#owner)\n",
    "- [Custody](#curate)"
   ]
  },
  {
   "cell_type": "markdown",
   "id": "2ee1caff",
   "metadata": {},
   "source": [
    "### 4.1 Core Properties <a id='#core'>\n",
    "<a id='core_properties'></a>\n",
    "[Linked Art Data Model documentation](https://linked.art/model/base/#core-properties)\n",
    "\n",
    "There are a few core properties that every resource should have for it to be a useful part of the world of Linked Open Data:\n",
    "\n",
    "- `@context`\n",
    "- `id`\n",
    "- `type`\n",
    "- `_label`\n",
    "\n",
    "#### IMA Data Mapping\n",
    "\n",
    "The `id` is a URL and has been created from the `irn` value together with a URL prefix: https://data.discovernewfields.org/\n",
    "\n",
    "The `_label` is a human readable label, intended for developers and other people reading the data. The value is taken from the `TitMainTitle` property.\n",
    "    \n",
    "--- \n",
    "    \n",
    "[Back to build menu](#build)"
   ]
  },
  {
   "cell_type": "code",
   "execution_count": 236,
   "id": "d358d72e",
   "metadata": {},
   "outputs": [
    {
     "data": {
      "application/vnd.jupyter.widget-view+json": {
       "model_id": "a3c44409bb9f482da56b2304e4a3e40a",
       "version_major": 2,
       "version_minor": 0
      },
      "text/plain": [
       "Textarea(value='{\\n  \"@context\": \"https://linked.art/ns/v1/linked-art.json\",\\n  \"id\": \"https://data.discoverne…"
      ]
     },
     "metadata": {},
     "output_type": "display_data"
    }
   ],
   "source": [
    "minla = {}\n",
    "obj = selectedObject\n",
    "\n",
    "for prop in obj[\"atom\"]:      \n",
    "    propName = prop[\"@name\"]     \n",
    "    if \"#text\" in prop:\n",
    "        if propName == \"irn\":\n",
    "            irn = prop[\"#text\"]  \n",
    "        if propName == \"TitMainTitle\":\n",
    "            title = prop[\"#text\"]\n",
    "\n",
    "# minimum Linked Art properties\n",
    "minla[\"@context\"] = \"https://linked.art/ns/v1/linked-art.json\"\n",
    "minla[\"id\"] = baseURI + \"object/\" + irn\n",
    "minla[\"type\"] = \"HumanMadeObject\"\n",
    "minla[\"_label\"] = title \n",
    "\n",
    "min = {}\n",
    "min.update(minla)\n",
    "widgeText(\"Minimum LA\", minla,'100px' )"
   ]
  },
  {
   "cell_type": "code",
   "execution_count": 237,
   "id": "e2ed411b",
   "metadata": {},
   "outputs": [
    {
     "data": {
      "text/plain": [
       "{'@context': 'https://linked.art/ns/v1/linked-art.json',\n",
       " 'id': 'https://data.discovernewfields.org/object/82696',\n",
       " 'type': 'HumanMadeObject',\n",
       " '_label': 'Five Brushstrokes'}"
      ]
     },
     "execution_count": 237,
     "metadata": {},
     "output_type": "execute_result"
    }
   ],
   "source": [
    "minla"
   ]
  },
  {
   "cell_type": "code",
   "execution_count": 238,
   "id": "bbeadd6b",
   "metadata": {},
   "outputs": [],
   "source": [
    "# write to file\n",
    "f = open(\"./data/ima/output/json/min.json\", \"w\")\n",
    "f.write(json.dumps(min, indent=2))\n",
    "f.close() "
   ]
  },
  {
   "cell_type": "markdown",
   "id": "f04e6fc2",
   "metadata": {},
   "source": [
    "### 4.2 Identifiers <a id=\"id\"/>\n",
    "\n",
    "[Linked Art Data Model documentation](https://linked.art/model/base/#identifiers)\n",
    "\n",
    "Many resources of interest are also given external identifiers, such as accession numbers for objects, ORCIDs for people or groups, lot numbers for auctions, and so forth. Identifiers are represented in a very similar way to names, but instead use the Identifier class. Identifiers will normally have a classification determining which sort of identifier it is, to distinguish between internal repository system assigned numbers from museum assigned accession numbers, for example.\n",
    "\n",
    "As Identifiers and Names use the same `identified_by` property, the JSON will frequently have mixed classes in the array. Unlike `Names`, `Identifiers` are not part of human language and thus cannot have translations or a language associated with them.\n",
    "\n",
    "---\n",
    "\n",
    "[Back to build menu](#build)"
   ]
  },
  {
   "cell_type": "code",
   "execution_count": 239,
   "id": "68ef2c60",
   "metadata": {},
   "outputs": [
    {
     "data": {
      "application/vnd.jupyter.widget-view+json": {
       "model_id": "da5981c2416c47dd8440e93c8f36f464",
       "version_major": 2,
       "version_minor": 0
      },
      "text/plain": [
       "Textarea(value='{\\n  \"@context\": \"https://linked.art/ns/v1/linked-art.json\",\\n  \"id\": \"https://data.discoverne…"
      ]
     },
     "metadata": {},
     "output_type": "display_data"
    }
   ],
   "source": [
    "jdoc = {}\n",
    " \n",
    "for prop in obj[\"atom\"]:      \n",
    "    propName = prop[\"@name\"]        \n",
    "    if \"#text\" in prop:\n",
    "        if propName == \"irn\":\n",
    "            irn = prop[\"#text\"]    \n",
    "        if propName == \"TitAccessionNo\":\n",
    "            titAccessionNo = prop[\"#text\"]\n",
    "                               \n",
    "jdoc[\"identified_by\"] = []          \n",
    "jdoc[\"identified_by\"].append({\n",
    "        \"id\": baseURI + \"object/\" + irn + \"/irn\",\n",
    "        \"type\": \"Identifier\",\n",
    "        \"_label\": \"IMA at Newfields Collections Database Number for the Object\",\n",
    "        \"content\": irn,\n",
    "        \"classified_as\": [{\n",
    "            \"id\": \"http://vocab.getty.edu/aat/300404621\",\n",
    "            \"type\": \"Type\",\n",
    "            \"_label\": \"repository numbers\"\n",
    "                        }]\n",
    "                })\n",
    "                   \n",
    "jdoc[\"identified_by\"].append({\n",
    "        \"id\": baseURI + \"object/\" + irn + \"/object-number\",\n",
    "        \"type\": \"Identifier\",\n",
    "        \"_label\": \"IMA at Newfields Object Number for the Object\",\n",
    "        \"content\": titAccessionNo,\n",
    "        \"classified_as\": [{\n",
    "            \"id\": \"http://vocab.getty.edu/aat/300312355\",\n",
    "            \"type\": \"Type\",\n",
    "            \"_label\": \"accession numbers\"\n",
    "                        }]\n",
    "                    })\n",
    "\n",
    "identifiers = jdoc\n",
    "frag = {}\n",
    "frag.update(minla) \n",
    "frag.update(identifiers)\n",
    "\n",
    "widgeText(\"Identifiers\", frag,'200px' )"
   ]
  },
  {
   "cell_type": "code",
   "execution_count": 240,
   "id": "84f5d59c",
   "metadata": {},
   "outputs": [
    {
     "data": {
      "text/plain": [
       "{'@context': 'https://linked.art/ns/v1/linked-art.json',\n",
       " 'id': 'https://data.discovernewfields.org/object/82696',\n",
       " 'type': 'HumanMadeObject',\n",
       " '_label': 'Five Brushstrokes',\n",
       " 'identified_by': [{'id': 'https://data.discovernewfields.org/object/82696/irn',\n",
       "   'type': 'Identifier',\n",
       "   '_label': 'IMA at Newfields Collections Database Number for the Object',\n",
       "   'content': '82696',\n",
       "   'classified_as': [{'id': 'http://vocab.getty.edu/aat/300404621',\n",
       "     'type': 'Type',\n",
       "     '_label': 'repository numbers'}]},\n",
       "  {'id': 'https://data.discovernewfields.org/object/82696/object-number',\n",
       "   'type': 'Identifier',\n",
       "   '_label': 'IMA at Newfields Object Number for the Object',\n",
       "   'content': '2013.443A-E.4',\n",
       "   'classified_as': [{'id': 'http://vocab.getty.edu/aat/300312355',\n",
       "     'type': 'Type',\n",
       "     '_label': 'accession numbers'}]}]}"
      ]
     },
     "execution_count": 240,
     "metadata": {},
     "output_type": "execute_result"
    }
   ],
   "source": [
    "# display Linked Art fragment\n",
    "frag"
   ]
  },
  {
   "cell_type": "code",
   "execution_count": 241,
   "id": "bc1161fe",
   "metadata": {},
   "outputs": [],
   "source": [
    "# write to file \n",
    "f = open(\"./data/ima/output/json/ids.json\", \"w\")\n",
    "f.write(json.dumps(frag, indent=2))\n",
    "f.close() "
   ]
  },
  {
   "cell_type": "markdown",
   "id": "7554143e",
   "metadata": {},
   "source": [
    "### 4.3 Names <a id=\"name\"/>\n",
    "\n",
    "https://linked.art/model/base/#names\n",
    "\n",
    "As the `_label` property is intended as internal documentation for the data, it is strongly recommended that every resource that should be rendered to an end user also have at least one specific name. The name could be for an object, a person, a group, an event or anything else. This pattern uses the `identified_by` property, with a `Name` resource. The value of the name is given in the content property of the `Name`.\n",
    "\n",
    "It is somewhat unintuitive to think of a name as identifying the resource it is associated with, as names are typically not unique. However, as the name itself is uniquely identified rather than just an anonymous string, they are no longer a shared label and instead the particular instance of a name is uniquely associated with the resource. With this formulation, the name instance does uniquely identify the resource.\n",
    "\n",
    "If there is more than one name given, then there should be one that is `classified_as` the primary name for use. This is done by adding the `Primary Name` (aat:300404670) term to it. There should be exactly one primary title given per language.\n",
    "\n",
    "Names are also part of human communication, and can have the Linguistic features of the model associated with them, such as having a particular language, or having translations.\n",
    "\n",
    "---\n",
    "\n",
    "[Back to build menu](#build)"
   ]
  },
  {
   "cell_type": "code",
   "execution_count": 242,
   "id": "94d959bb",
   "metadata": {},
   "outputs": [
    {
     "data": {
      "application/vnd.jupyter.widget-view+json": {
       "model_id": "6eaf4f723c1c46a99fcfb2572be42462",
       "version_major": 2,
       "version_minor": 0
      },
      "text/plain": [
       "Textarea(value='{\\n  \"@context\": \"https://linked.art/ns/v1/linked-art.json\",\\n  \"id\": \"https://data.discoverne…"
      ]
     },
     "metadata": {},
     "output_type": "display_data"
    }
   ],
   "source": [
    "jdoc = {}\n",
    "jdoc[\"identified_by\"] = []\n",
    "\n",
    "# define properties variables  \n",
    "for prop in obj[\"atom\"]:      \n",
    "    propName = prop[\"@name\"] \n",
    "    if \"#text\" in prop:\n",
    "        if propName == \"irn\":\n",
    "            irn = prop[\"#text\"]   \n",
    "        if propName == \"TitMainTitle\":\n",
    "            title = prop[\"#text\"]\n",
    "            \n",
    "\n",
    "jdoc[\"identified_by\"].append({\n",
    "        \"id\": baseURI + \"object/\" + irn + \"/title\",\n",
    "        \"type\": \"Name\",\n",
    "        \"_label\": \"Primary Title for the Object\",\n",
    "        \"content\": title ,\n",
    "        \"classified_as\": [{\n",
    "        \"id\": \"http://vocab.getty.edu/aat/300404670\",\n",
    "        \"type\": \"Type\",\n",
    "        \"_label\": \"preferred terms\"\n",
    "                        }]\n",
    "                })\n",
    "try:   \n",
    "    if obj[\"table\"][\"@name\"] == \"AltTitles\":\n",
    "        x = 0\n",
    "        for tuple in obj[\"table\"][\"tuple\"]:\n",
    "            x +=1\n",
    "            for atom in tuple:\n",
    "                if atom[\"@name\"] == \"TitAlternateTitles\":\n",
    "                    content = atom[\"#text\"]\n",
    "                else:\n",
    "                    content = \"\"\n",
    "                    \n",
    "                jdoc[\"identified_by\"].append({\n",
    "                    \"id\": baseURI + \"object/\" + irn + \"/alt-title-\" + x,\n",
    "                    \"type\": \"Name\",\n",
    "                    \"_label\": \"Alternate Title for the Object\",\n",
    "                    \"content\": content,\n",
    "                    \"classified_as\": [{\n",
    "                            \"id\": \"http://vocab.getty.edu/aat/300417227\",\n",
    "                            \"type\": \"Type\",\n",
    "                            \"_label\": \"alternate titles\"}]   \n",
    "                    })\n",
    "except:\n",
    "    pass\n",
    "       \n",
    "titles = jdoc   \n",
    "frag = {}\n",
    "frag.update(minla)\n",
    "frag.update(titles)\n",
    "widgeText(\"Names\", frag,'200px' )"
   ]
  },
  {
   "cell_type": "code",
   "execution_count": 243,
   "id": "a30925e4",
   "metadata": {},
   "outputs": [
    {
     "data": {
      "text/plain": [
       "{'@context': 'https://linked.art/ns/v1/linked-art.json',\n",
       " 'id': 'https://data.discovernewfields.org/object/82696',\n",
       " 'type': 'HumanMadeObject',\n",
       " '_label': 'Five Brushstrokes',\n",
       " 'identified_by': [{'id': 'https://data.discovernewfields.org/object/82696/title',\n",
       "   'type': 'Name',\n",
       "   '_label': 'Primary Title for the Object',\n",
       "   'content': 'Five Brushstrokes',\n",
       "   'classified_as': [{'id': 'http://vocab.getty.edu/aat/300404670',\n",
       "     'type': 'Type',\n",
       "     '_label': 'preferred terms'}]}]}"
      ]
     },
     "execution_count": 243,
     "metadata": {},
     "output_type": "execute_result"
    }
   ],
   "source": [
    "frag"
   ]
  },
  {
   "cell_type": "code",
   "execution_count": 244,
   "id": "478415d2",
   "metadata": {},
   "outputs": [],
   "source": [
    "# write to file \n",
    "f = open(\"./data/ima/output/json/name.json\", \"w\")\n",
    "f.write(json.dumps(frag, indent=2))\n",
    "f.close() "
   ]
  },
  {
   "cell_type": "markdown",
   "id": "a545f1ec",
   "metadata": {},
   "source": [
    "### 4.4 Classification <a id=\"class\"/>\n",
    "\n",
    "https://linked.art/model/base/#types-and-classifications\n",
    "\n",
    "CIDOC-CRM is a framework that must be extended via additional vocabularies and ontologies to be useful. The provided mechanism for doing this is the classified_as property, which refers to a term from a controlled vocabulary. This is in contrast to the `type` property, which is used for CIDOC-CRM defined classes, and a few extensions as needed. \n",
    "\n",
    "The `classified_as` property is thus a way to be more specific about the sort of entity, while maintaining the core information as the class using type. Controlled vocabulary entries should not be used with `type`, nor classes used with `classified_as`.\n",
    "\n",
    "While any external vocabulary of terms can be used, the Getty's Art and Architecture Thesaurus is used whenever possible for consistency and that it is already widespread in the museum domain. The set of terms that have been identified as useful are listed in the community best-practices for recommendations, and within the documentation of the model when a particular choice is essential for interoperability.\n",
    "\n",
    "---\n",
    "[Back to build menu](#build)"
   ]
  },
  {
   "cell_type": "code",
   "execution_count": 245,
   "id": "a7d4f91d",
   "metadata": {},
   "outputs": [
    {
     "data": {
      "application/vnd.jupyter.widget-view+json": {
       "model_id": "ff980deae72742e09a60923706caf050",
       "version_major": 2,
       "version_minor": 0
      },
      "text/plain": [
       "Textarea(value='{\\n  \"@context\": \"https://linked.art/ns/v1/linked-art.json\",\\n  \"id\": \"https://data.discoverne…"
      ]
     },
     "metadata": {},
     "output_type": "display_data"
    }
   ],
   "source": [
    "jdoc = {}\n",
    "\n",
    "# define properties variables  \n",
    "for prop in obj[\"atom\"]:      \n",
    "    propName = prop[\"@name\"] \n",
    "        \n",
    "    if \"#text\" in prop:\n",
    "        if propName == \"TitObjectType\":\n",
    "            titleObjectType = prop[\"#text\"]\n",
    "        if propName == \"irn\":\n",
    "            irn = prop[\"#text\"]  \n",
    "                           \n",
    "phyMediaCategory = \"\"          \n",
    "for table in obj[\"table\"]:\n",
    "    tableName = table[\"@name\"]\n",
    "    if tableName == \"ObjectTypes\":\n",
    "        try:\n",
    "            for atom in table[\"tuple\"]:\n",
    "                if atom[\"atom\"][\"@name\"] == \"PhyMediaCategory\":\n",
    "                    phyMediaCategory = atom[\"atom\"][\"#text\"]\n",
    "        except:\n",
    "            pass\n",
    "            \n",
    "if titleObjectType.startswith(\"Visual Work\"):\n",
    "    jdoc[\"classified_as\"] = [{\n",
    "                    \"id\": \"http://vocab.getty.edu/aat/300133025\",\n",
    "                    \"type\": \"Type\",\n",
    "                    \"_label\": \"works of art\" \n",
    "                }]\n",
    "                \n",
    "if \"Drawings\" in titleObjectType:\n",
    "    jdoc[\"classified_as\"] = [{\n",
    "                    \"id\": \"http://vocab.getty.edu/aat/300033973\",\n",
    "                    \"type\": \"Type\",\n",
    "                    \"_label\": \"drawings (visual works)\" \n",
    "                }]\n",
    "                \n",
    "if \"Multimedia\" in titleObjectType:\n",
    "    jdoc[\"classified_as\"] = [{\n",
    "                    \"id\": \"http://vocab.getty.edu/aat/300047910\",\n",
    "                    \"type\": \"Type\",\n",
    "                    \"_label\": \"multimedia works\" \n",
    "                }]\n",
    "                \n",
    "if \"Needlework\" in titleObjectType:\n",
    "    jdoc[\"classified_as\"] = [{\n",
    "                    \"id\": \"http://vocab.getty.edu/aat/300264072\",\n",
    "                    \"type\": \"Type\",\n",
    "                    \"_label\": \"needlework (visual works)\" \n",
    "                }]\n",
    "                \n",
    "if \"Paintings\" in titleObjectType:\n",
    "    jdoc[\"classified_as\"] = [{\n",
    "                    \"id\": \"http://vocab.getty.edu/aat/300033618\",\n",
    "                    \"type\": \"Type\",\n",
    "                    \"_label\": \"paintings (visual works)\" \n",
    "                }] \n",
    "                \n",
    "if \"Pastel\" in titleObjectType:\n",
    "    jdoc[\"classified_as\"] = [{\n",
    "                    \"id\": \"http://vocab.getty.edu/aat/300076922\",\n",
    "                    \"type\": \"Type\",\n",
    "                    \"_label\": \"pastels (visual works)\" \n",
    "                }] \n",
    "if \"Performance\" in titleObjectType:\n",
    "    jdoc[\"classified_as\"] = [{\n",
    "                    \"id\": \"http://vocab.getty.edu/aat/300121445\",\n",
    "                    \"type\": \"Type\",\n",
    "                    \"_label\": \"performance art\" \n",
    "                }] \n",
    "if \"Photograph\" in titleObjectType:\n",
    "    jdoc[\"classified_as\"] = [{\n",
    "                    \"id\": \"http://vocab.getty.edu/aat/300046300\",\n",
    "                    \"type\": \"Type\",\n",
    "                    \"_label\": \"photographs\" \n",
    "                }]\n",
    "if \"Prints\" in titleObjectType:\n",
    "    jdoc[\"classified_as\"] = [{\n",
    "                    \"id\": \"http://vocab.getty.edu/aat/300041273\",\n",
    "                    \"type\": \"Type\",\n",
    "                    \"_label\": \"prints (visual works)\" \n",
    "                }]\n",
    "if \"Sculpture\" in titleObjectType:\n",
    "    jdoc[\"classified_as\"] = [{\n",
    "                    \"id\": \"http://vocab.getty.edu/aat/300047090\",\n",
    "                    \"type\": \"Type\",\n",
    "                    \"_label\": \"sculpture (visual works)\" \n",
    "                }]\n",
    "                \n",
    "if phyMediaCategory != \"\":  \n",
    "    try:\n",
    "        atoms = table[\"tuple\"][\"atom\"]\n",
    "        for atom in atoms:\n",
    "            if atom[\"@name\"] == \"PhyMediaCategory\":\n",
    "                    value = atom[\"#text\"]\n",
    "                    c = {\n",
    "                    \"id\": baseURI + \"thesauri/type/\",\n",
    "                    \"type\": \"Type\",\n",
    "                    \"_label\": value\n",
    "                    }\n",
    "                    jdoc[\"classified_as\"].append(c)\n",
    "    except:\n",
    "        pass\n",
    " \n",
    "clasf = jdoc\n",
    "frag = {}\n",
    "frag.update(minla)\n",
    "frag.update(clasf)\n",
    "widgeText(\"Classification\", frag,'100px' )"
   ]
  },
  {
   "cell_type": "code",
   "execution_count": 246,
   "id": "0f4449ce",
   "metadata": {},
   "outputs": [
    {
     "data": {
      "text/plain": [
       "{'@context': 'https://linked.art/ns/v1/linked-art.json',\n",
       " 'id': 'https://data.discovernewfields.org/object/82696',\n",
       " 'type': 'HumanMadeObject',\n",
       " '_label': 'Five Brushstrokes',\n",
       " 'classified_as': [{'id': 'http://vocab.getty.edu/aat/300047090',\n",
       "   'type': 'Type',\n",
       "   '_label': 'sculpture (visual works)'}]}"
      ]
     },
     "execution_count": 246,
     "metadata": {},
     "output_type": "execute_result"
    }
   ],
   "source": [
    "frag"
   ]
  },
  {
   "cell_type": "code",
   "execution_count": 247,
   "id": "9a8b088f",
   "metadata": {},
   "outputs": [],
   "source": [
    "f = open(\"./data/ima/output/json/class.json\", \"w\")\n",
    "f.write(json.dumps(frag, indent=2))\n",
    "f.close() "
   ]
  },
  {
   "cell_type": "markdown",
   "id": "5791297e",
   "metadata": {},
   "source": [
    "### 4.5 Home Page <a id=\"home\"/>\n",
    "\n",
    "https://linked.art/model/digital/#home-page\n",
    "\n",
    "A very common scenario is that there is a web page about the object, perhaps managed by a collections management system. For humans, this page is much more useful than the data intended for machines. It can be referenced with the `subject_of` property, and points to a `DigitalObject` which is `classified_as` a web page, or `aat:300264578`. As with digital images, the home page can have a format of \"text/html\" and other properties.\n",
    "\n",
    "---\n",
    "[Back to build menu](#build)"
   ]
  },
  {
   "cell_type": "code",
   "execution_count": 248,
   "id": "9796b839",
   "metadata": {},
   "outputs": [],
   "source": [
    "jdoc = {}\n",
    "homepageId = \"\"\n",
    "\n",
    "# define properties variables  \n",
    "for prop in obj[\"atom\"]:      \n",
    "    propName = prop[\"@name\"]        \n",
    "    if \"#text\" in prop:\n",
    "        if propName == \"irn\":\n",
    "            irn = prop[\"#text\"]    \n",
    "        if propName == \"TitAccessionNo\":\n",
    "            titAccessionNo = prop[\"#text\"]\n",
    "       \n",
    "for table in obj[\"table\"]:\n",
    "    \n",
    "    tableName = table[\"@name\"]\n",
    "    if tableName == \"Homepage\":\n",
    "        try:\n",
    "            for atom in table[\"tuple\"][\"atom\"]:\n",
    "                if atom[\"@name\"] == \"EleIdentifier\":\n",
    "                    homepageId = atom[\"#text\"]\n",
    "        except:\n",
    "            pass\n",
    "                               \n",
    "jdoc[\"subject_of\"] = []  \n",
    "jdoc[\"subject_of\"].append({\n",
    "        \"id\": \"http://collection.imamuseum.org/artwork/\" + homepageId,\n",
    "        \"type\": \"LinguisticObject\",\n",
    "        \"_label\": \"Homepage for the Object\",\n",
    "        \"classified_as\": [\n",
    "            {\n",
    "            \"id\": \"http://vocab/getty.edu/aat/300264578\",\n",
    "            \"type\": \"Type\",\n",
    "            \"_label\": \"Web pages (documents)\"\n",
    "            },\n",
    "            {\n",
    "            \"id\": \"http://vocab.getty.edu/aat/300266277\",\n",
    "            \"type\": \"Type\",\n",
    "            \"_label\": \"home pages\"\n",
    "            }\n",
    "        ],\n",
    "        \"format\": \"text/html\"\n",
    "                })\n",
    "                  \n",
    "homepage = jdoc\n",
    "frag = {}\n",
    "frag.update(minla) \n",
    "frag.update(homepage)"
   ]
  },
  {
   "cell_type": "code",
   "execution_count": 249,
   "id": "59f168ba",
   "metadata": {},
   "outputs": [
    {
     "data": {
      "application/vnd.jupyter.widget-view+json": {
       "model_id": "7389cbc80bdf4f519843af7ffc9a176f",
       "version_major": 2,
       "version_minor": 0
      },
      "text/plain": [
       "Textarea(value='{\\n  \"subject_of\": [\\n    {\\n      \"id\": \"http://collection.imamuseum.org/artwork/76663\",\\n   …"
      ]
     },
     "metadata": {},
     "output_type": "display_data"
    }
   ],
   "source": [
    "widgeText(\"Homepage\", jdoc ,'200px' )"
   ]
  },
  {
   "cell_type": "code",
   "execution_count": 250,
   "id": "dd616088",
   "metadata": {},
   "outputs": [],
   "source": [
    "f = open(\"./data/ima/output/json/homepage.json\", \"w\")\n",
    "f.write(json.dumps(frag, indent=2))\n",
    "f.close() "
   ]
  },
  {
   "cell_type": "code",
   "execution_count": 251,
   "id": "5825aa62",
   "metadata": {},
   "outputs": [
    {
     "data": {
      "text/plain": [
       "{'@context': 'https://linked.art/ns/v1/linked-art.json',\n",
       " 'id': 'https://data.discovernewfields.org/object/82696',\n",
       " 'type': 'HumanMadeObject',\n",
       " '_label': 'Five Brushstrokes',\n",
       " 'subject_of': [{'id': 'http://collection.imamuseum.org/artwork/76663',\n",
       "   'type': 'LinguisticObject',\n",
       "   '_label': 'Homepage for the Object',\n",
       "   'classified_as': [{'id': 'http://vocab/getty.edu/aat/300264578',\n",
       "     'type': 'Type',\n",
       "     '_label': 'Web pages (documents)'},\n",
       "    {'id': 'http://vocab.getty.edu/aat/300266277',\n",
       "     'type': 'Type',\n",
       "     '_label': 'home pages'}],\n",
       "   'format': 'text/html'}]}"
      ]
     },
     "execution_count": 251,
     "metadata": {},
     "output_type": "execute_result"
    }
   ],
   "source": [
    "frag"
   ]
  },
  {
   "cell_type": "code",
   "execution_count": 252,
   "id": "1f3f0c25",
   "metadata": {},
   "outputs": [
    {
     "data": {
      "text/html": [
       "\n",
       "        <iframe\n",
       "            width=\"100%\"\n",
       "            height=\"600\"\n",
       "            src=\"http://collection.imamuseum.org/artwork/76663\"\n",
       "            frameborder=\"0\"\n",
       "            allowfullscreen\n",
       "        ></iframe>\n",
       "        "
      ],
      "text/plain": [
       "<IPython.lib.display.IFrame at 0x112a52820>"
      ]
     },
     "execution_count": 252,
     "metadata": {},
     "output_type": "execute_result"
    }
   ],
   "source": [
    "# Try to display homepage \n",
    "url = \"http://collection.imamuseum.org/artwork/\" + homepageId\n",
    "IFrame(url, width='100%', height=600)"
   ]
  },
  {
   "cell_type": "markdown",
   "id": "ebaebdde",
   "metadata": {},
   "source": [
    "### 4.6 Current Location <a id=\"loc\"/>\n",
    "\n",
    "[Linked Art Data Model Documentation](https://linked.art/model/object/ownership/#location)\n",
    "\n",
    "- The current location of the object is given using the `current_location` property. \n",
    "- This can give a reference to a gallery or specific part of a facility, or be used for the general address of the organization where the object is currently held. \n",
    "- There are further modeling details available about [Places](https://linked.art/model/place/) on the Linked Art website.\n",
    "\n",
    "--- \n",
    "\n",
    "[Back to build menu](#build)\n"
   ]
  },
  {
   "cell_type": "code",
   "execution_count": 253,
   "id": "64ff4899",
   "metadata": {},
   "outputs": [
    {
     "data": {
      "application/vnd.jupyter.widget-view+json": {
       "model_id": "9dc80b4b4dd1435cb76acecec35f4177",
       "version_major": 2,
       "version_minor": 0
      },
      "text/plain": [
       "Textarea(value='{\\n  \"current_location\": [\\n    {\\n      \"id\": \"https://data.discovernewfields.org/thesauri/lo…"
      ]
     },
     "metadata": {},
     "output_type": "display_data"
    }
   ],
   "source": [
    "jdoc = {}\n",
    "jdoc[\"current_location\"] = []\n",
    "\n",
    "level2val = level3val = \"\"\n",
    "\n",
    "for tuple in obj[\"tuple\"]:\n",
    "    \n",
    "    if tuple['@name'] == 'LocCurrentLocationRef':\n",
    "        for atom in tuple[\"atom\"]:\n",
    "            if atom[\"@name\"] == 'LocLevel2':\n",
    "                if atom[\"#text\"] == 'see related parts':\n",
    "                    see_related_parts = True\n",
    "                else:\n",
    "                    see_related_parts = False\n",
    "                level2val = atom[\"#text\"]\n",
    "            if atom[\"@name\"] == \"LocLevel3\":\n",
    "                try:\n",
    "                    level3val = atom[\"#text\"]\n",
    "                except:\n",
    "                    level3val = \"\"\n",
    "        \n",
    "for tuple in obj[\"tuple\"]:\n",
    "    if tuple['@name'] == 'LocCurrentLocationRef':\n",
    "        for atom in tuple[\"atom\"]:\n",
    "            #print(atom)\n",
    "            if atom[\"@name\"] == 'LocLevel1':    \n",
    "                if atom[\"#text\"] == 'On Loan':\n",
    "                    jdoc[\"current_location\"].append({\n",
    "                        \"id\": baseURI + \"thesauri/location/on-loan\",\n",
    "                        \"type\": \"Place\",\n",
    "                        \"_label\": \"On Loan\"})\n",
    "                    \n",
    "                if 'Galler' in atom[\"#text\"] or 'Suite' in atom[\"#text\"]:\n",
    "                    jdoc[\"current_location\"].append({\n",
    "                        \"id\": baseURI + \"thesauri/location/\" + level3val,\n",
    "                        \"type\": \"Place\",\n",
    "                        \"_label\": level2val,\n",
    "                        \"clasified_as\": [{\n",
    "                        \"id\": \"http://vocab.getty.edu/aat/300240057\",\n",
    "                        \"type\": \"Type\",\n",
    "                        \"_label\": \"galleries (display spaces)\"\n",
    "                        }] })\n",
    "            \n",
    "            if atom[\"@name\"] == 'LocLevel2': \n",
    "                if atom[\"#text\"] == 'Efroymson Family Entrance':\n",
    "                     jdoc[\"current_location\"].append({ \n",
    "                         \"id\": baseURI + \"thesauri/location/F02\",\n",
    "                        \"type\": \"Place\",\n",
    "                        \"_label\": \"Efroymson Family Entrance Pavilion\"\n",
    "                     })\n",
    "                elif atom[\"#text\"] == 'Nature Park':\n",
    "                     jdoc[\"current_location\"].append({ \n",
    "                         \"id\": baseURI + \"thesauri/location/ANP\",\n",
    "                        \"type\": \"Place\",\n",
    "                        \"_label\": \"Virginia B. Fairbanks Art &amp; Nature Park\"})\n",
    "                        \n",
    "                elif atom[\"#text\"] == 'Grounds':\n",
    "                    jdoc[\"current_location\"].append({ \n",
    "                         \"id\": baseURI + \"thesauri/location/G\",\n",
    "                        \"type\": \"Place\",\n",
    "                        \"_label\": \"Newfields Grounds\"})\n",
    "                    \n",
    "                elif atom[\"#text\"] == 'Asian Visible Storage':\n",
    "                     jdoc[\"current_location\"].append({ \n",
    "                         \"id\": baseURI + \"thesauri/location/K241\",\n",
    "                        \"type\": \"Place\",\n",
    "                        \"_label\": \"Leah and Charles Reddish Gallery - Asian Visible Storage\",\n",
    "                         \"classified_as\": [\n",
    "                            {\n",
    "                            \"id\": \"http://vocab.getty.edu/aat/300240057\",\n",
    "                            \"type\": \"Type\",\n",
    "                            \"_label\": \"galleries (display spaces)\"\n",
    "                            }]\n",
    "                     })\n",
    "                elif atom[\"#text\"] == 'Westerley':\n",
    "                    jdoc[\"current_location\"].append({ \n",
    "                         \"id\": baseURI + \"thesauri/location/westerley\",\n",
    "                        \"type\": \"Place\",\n",
    "                        \"_label\": \"Westerley\"})    \n",
    "                \n",
    "                else:\n",
    "                    jdoc[\"current_location\"].append({ \n",
    "                         \"id\": baseURI + \"thesauri/location/storage\",\n",
    "                        \"type\": \"Place\",\n",
    "                        \"_label\": \"IMA Storage\"})  \n",
    "\n",
    "location = jdoc\n",
    "frag = {}\n",
    "frag.update(minla) \n",
    "frag.update(location)\n",
    "\n",
    "widgeText(\"Location\", jdoc ,'200px' )"
   ]
  },
  {
   "cell_type": "code",
   "execution_count": 254,
   "id": "6038fef1",
   "metadata": {},
   "outputs": [
    {
     "data": {
      "text/plain": [
       "{'@context': 'https://linked.art/ns/v1/linked-art.json',\n",
       " 'id': 'https://data.discovernewfields.org/object/82696',\n",
       " 'type': 'HumanMadeObject',\n",
       " '_label': 'Five Brushstrokes',\n",
       " 'current_location': [{'id': 'https://data.discovernewfields.org/thesauri/location/G',\n",
       "   'type': 'Place',\n",
       "   '_label': 'Newfields Grounds'}]}"
      ]
     },
     "execution_count": 254,
     "metadata": {},
     "output_type": "execute_result"
    }
   ],
   "source": [
    "frag"
   ]
  },
  {
   "cell_type": "code",
   "execution_count": 255,
   "id": "1027f59d",
   "metadata": {},
   "outputs": [],
   "source": [
    "# write to file \n",
    "f = open(\"./data/ima/output/json/location.json\", \"w\")\n",
    "f.write(json.dumps(frag, indent=2))\n",
    "f.close() "
   ]
  },
  {
   "cell_type": "markdown",
   "id": "7a67b937",
   "metadata": {},
   "source": [
    "### 4.7 Statements about a Resource - Linguistic Objects <a id=\"ling\"/>\n",
    "\n",
    "[Linked Art Data Model Documentation](https://linked.art/model/base/#statements-about-a-resource)\n",
    "    \n",
    "In many cases, current data does not support the level of specificity that the full ontology allows, or the information is simply best expressed in human-readable form. For example, instead of a completely modeled set of parts with materials, many museum collection management systems allow only a single human-readable string for the \"medium\" or \"materials statement\". The same is true in many other situations, including rights or allowable usage statements, dimensions, edition statements and so forth. Any time that there is a description of the resource, with or without qualification as to the type of description, then this pattern can be used to record the descriptive text.\n",
    "\n",
    "The pattern makes use of the `LinguisticObject` class that is used to identify a particular piece of textual content. These Linguistic Objects are then refered to by any other resource. They maintain the statement's text in the content property, and the language of the statement (if known) in the language property.\n",
    "\n",
    "Use cases for this pattern include:\n",
    "\n",
    "- General description of the resource\n",
    "- Materials statement for an object\n",
    "- Attribution statement for an image\n",
    "- Biography for a person\n",
    "- Dimensions statement for a part of an object    \n",
    "\n",
    "---\n",
    "\n",
    "[Back to build menu](#build)"
   ]
  },
  {
   "cell_type": "code",
   "execution_count": 256,
   "id": "139935a1",
   "metadata": {},
   "outputs": [
    {
     "data": {
      "application/vnd.jupyter.widget-view+json": {
       "model_id": "5b98f8a8c17a4832af7453199bbd5762",
       "version_major": 2,
       "version_minor": 0
      },
      "text/plain": [
       "Textarea(value='{\\n  \"referred_to_by\": [\\n    {\\n      \"id\": \"https://data.discovernewfields.org/object/82696/…"
      ]
     },
     "metadata": {},
     "output_type": "display_data"
    }
   ],
   "source": [
    "jdoc = {}\n",
    "\n",
    "jdoc[\"referred_to_by\"] = []\n",
    "\n",
    "\n",
    "for atom in obj[\"atom\"]:\n",
    "    if atom[\"@name\"] == \"SumCreditLine\":\n",
    "        val = atom[\"#text\"]\n",
    "        jdoc[\"referred_to_by\"].append({\n",
    "                 \"id\": baseURI + \"object/\" + irn + \"/credit-line\",\n",
    "                \"type\": \"LinguisticObject\",\n",
    "                \"_label\": \"IMA at Newfields Credit Line for the Object\",\n",
    "                \"content\": val,\n",
    "                \"classified_as\": [\n",
    "                        {\n",
    "                            \"id\": \"http://vocab.getty.edu/aat/300026687\",\n",
    "                            \"type\": \"Type\",\n",
    "                            \"_label\": \"acknowledgments\"\n",
    "                        },\n",
    "                        {\n",
    "                            \"id\": \"http://vocab.getty.edu/aat/300418049\",\n",
    "                            \"type\": \"Type\",\n",
    "                            \"_label\": \"brief texts\"\n",
    "                        }]\n",
    "        })\n",
    "    if atom[\"@name\"] == 'CreProvenance':\n",
    "        if \"#text\" in atom.keys():\n",
    "            val = atom[\"#text\"]\n",
    "            jdoc[\"referred_to_by\"].append({\n",
    "                \"id\": baseURI + \"object/\" + irn + \"/provenance-statement\",\n",
    "                    \"type\": \"LinguisticObject\",\n",
    "                    \"_label\": \"IMA Provenance Statement about the Object\",\n",
    "                    \"content\": val,\n",
    "                    \"classified_as\": [\n",
    "                        {\n",
    "                            \"id\": \"http://vocab.getty.edu/aat/300055863\",\n",
    "                            \"type\": \"Type\",\n",
    "                            \"_label\": \"provenance (history of ownership)\"\n",
    "                        },\n",
    "                        {\n",
    "                            \"id\": \"http://vocab.getty.edu/aat/300418049\",\n",
    "                            \"type\": \"Type\",\n",
    "                            \"_label\": \"brief texts\"\n",
    "                        }\n",
    "                    ]\n",
    "            })\n",
    "            \n",
    "ling = jdoc\n",
    "frag = {}\n",
    "frag.update(minla) \n",
    "frag.update(ling)\n",
    "\n",
    "widgeText(\"Statements\", jdoc ,'200px' )"
   ]
  },
  {
   "cell_type": "code",
   "execution_count": 257,
   "id": "d54f6bca",
   "metadata": {},
   "outputs": [
    {
     "data": {
      "text/plain": [
       "{'@context': 'https://linked.art/ns/v1/linked-art.json',\n",
       " 'id': 'https://data.discovernewfields.org/object/82696',\n",
       " 'type': 'HumanMadeObject',\n",
       " '_label': 'Five Brushstrokes',\n",
       " 'referred_to_by': [{'id': 'https://data.discovernewfields.org/object/82696/credit-line',\n",
       "   'type': 'LinguisticObject',\n",
       "   '_label': 'IMA at Newfields Credit Line for the Object',\n",
       "   'content': 'Robert L. and Marjorie J. Mann Fund, Partial Gift of the Roy Lichtenstein Foundation',\n",
       "   'classified_as': [{'id': 'http://vocab.getty.edu/aat/300026687',\n",
       "     'type': 'Type',\n",
       "     '_label': 'acknowledgments'},\n",
       "    {'id': 'http://vocab.getty.edu/aat/300418049',\n",
       "     'type': 'Type',\n",
       "     '_label': 'brief texts'}]},\n",
       "  {'id': 'https://data.discovernewfields.org/object/82696/provenance-statement',\n",
       "   'type': 'LinguisticObject',\n",
       "   '_label': 'IMA Provenance Statement about the Object',\n",
       "   'content': '(Roy Lichtenstein Foundation, New York, New York); purchased by the Indianapolis Museum of Art in 2013.',\n",
       "   'classified_as': [{'id': 'http://vocab.getty.edu/aat/300055863',\n",
       "     'type': 'Type',\n",
       "     '_label': 'provenance (history of ownership)'},\n",
       "    {'id': 'http://vocab.getty.edu/aat/300418049',\n",
       "     'type': 'Type',\n",
       "     '_label': 'brief texts'}]}]}"
      ]
     },
     "execution_count": 257,
     "metadata": {},
     "output_type": "execute_result"
    }
   ],
   "source": [
    "frag"
   ]
  },
  {
   "cell_type": "code",
   "execution_count": 258,
   "id": "0c6385cd",
   "metadata": {},
   "outputs": [],
   "source": [
    "f = open(\"./data/ima/output/json/linguistic.json\", \"w\")\n",
    "f.write(json.dumps(frag, indent=2))\n",
    "f.close() "
   ]
  },
  {
   "cell_type": "markdown",
   "id": "60456c6e",
   "metadata": {},
   "source": [
    "## 4.8 Production <a id=\"prod\"/>\n",
    "\n",
    "[Linked Art Data Model Documentation](https://linked.art/model/object/production/)\n",
    "\n",
    "The first activity in an object's lifecycle is its creation, or `Production`. The relationship to the object that was produced by the activity (`produced`) is added to the general activity model, along with the time, location and actors. This follows the base pattern for activities.\n",
    "\n",
    "---\n",
    "\n",
    "[Back to build menu](#build)"
   ]
  },
  {
   "cell_type": "code",
   "execution_count": 259,
   "id": "a109e578",
   "metadata": {},
   "outputs": [
    {
     "data": {
      "application/vnd.jupyter.widget-view+json": {
       "model_id": "4dd7db5547be44949c93faee5c9950a6",
       "version_major": 2,
       "version_minor": 0
      },
      "text/plain": [
       "Textarea(value='{\\n  \"@context\": \"https://linked.art/ns/v1/linked-art.json\",\\n  \"id\": \"https://data.discoverne…"
      ]
     },
     "metadata": {},
     "output_type": "display_data"
    }
   ],
   "source": [
    "jdoc = {}\n",
    "\n",
    "jdoc[\"produced_by\"] = []\n",
    "afterfollower = False\n",
    "timespan = False\n",
    "carried_out_by = []\n",
    "earliestdate = latestdate = datecreated = \"\"\n",
    "\n",
    "for prop in obj[\"atom\"]: \n",
    "    \n",
    "    propName = prop[\"@name\"]        \n",
    "    if \"#text\" in prop:\n",
    "        if propName == \"irn\":\n",
    "            irn = prop[\"#text\"]  \n",
    "            \n",
    "        if propName == \"CreDateCreated\":\n",
    "            timespan = True\n",
    "            datecreated = prop[\"#text\"]\n",
    "            \n",
    "        if propName == \"CreEarliestDate\":\n",
    "            timespan = True\n",
    "            earliestdate = prop[\"#text\"]\n",
    "            \n",
    "        if propName == \"CreLatestDate\":\n",
    "            timespan = True\n",
    "            latestdate = prop[\"#text\"]\n",
    "                  \n",
    "            \n",
    "for table in obj[\"table\"]:\n",
    "    \n",
    "    tableName = table[\"@name\"]\n",
    "    if tableName == \"Creator1\":     \n",
    "        for atom in table[\"tuple\"][\"atom\"]:\n",
    "            if atom[\"@name\"] == \"CreCreatorAfterFollower\":\n",
    "                afterfollower = True\n",
    "            if atom[\"@name\"] == \"SummaryData\":\n",
    "                summarydata = atom[\"#text\"]\n",
    "                    \n",
    "        try:   \n",
    "            for atom in table[\"tuple\"][\"atom\"]:\n",
    "                if atom[\"@name\"] == \"irn\":\n",
    "                    if atom[\"#text\"] not in [2741,10661] or afterfollower == false:\n",
    "                        carried_out_by.append({\n",
    "                        \"id\":  baseURI + \"actor/\" + irn,\n",
    "                        \"type\": \"Actor\",\n",
    "                        \"_label\": summarydata\n",
    "                        })        \n",
    "        except:\n",
    "            pass\n",
    "        \n",
    "    if tableName == \"Creator2\":\n",
    "        for atom in table[\"tuple\"][\"atom\"]:\n",
    "                if atom[\"@name\"] == \"CreCreationCultureOrPeople\":\n",
    "                    val = atom[\"#text\"]\n",
    "                    \n",
    "                    carried_out_by.append({\n",
    "                        \"id\":  baseURI + \"thesauri/culture/\" + val,\n",
    "                        \"type\": \"Actor\",\n",
    "                        \"_label\": val\n",
    "                        })    \n",
    "    \n",
    "\n",
    "        \n",
    "jdoc[\"produced_by\"].append({\n",
    "                 \"id\": baseURI + \"object/\" + irn + \"/production\",\n",
    "                \"type\": \"Production\",\n",
    "                \"_label\": \"Production of the Object\"})\n",
    "\n",
    "if len(carried_out_by) > 0:\n",
    "    jdoc[\"produced_by\"].append({\n",
    "        \"carried_out_by\": carried_out_by\n",
    "    })\n",
    "       \n",
    "\n",
    "        \n",
    "if timespan == True:\n",
    "    if datecreated != \"\":\n",
    "        label = datecreated\n",
    "    elif (earliestdate != \"\") or (latestdate != \"\"):\n",
    "        label = earliestdate + \" - \" + latestdate\n",
    "    else:\n",
    "        label = \"date unknown\"\n",
    "    \n",
    "    \n",
    "        \n",
    "    timespanobj = {\n",
    "           \"id\": baseURI + \"object/\" + irn + \"/production/timespan\",\n",
    "                    \"type\": \"TimeSpan\",\n",
    "                    \"_label\": label,\n",
    "    }\n",
    "    \n",
    "    if earliestdate != \"\":\n",
    "        timespanobj[\"begin_of_the_begin\"] = earliestdate\n",
    "    \n",
    "    if latestdate != \"\":\n",
    "        timespanobj[\"end_of_the_end\"] = latestdate\n",
    "        \n",
    "jdoc[\"produced_by\"].append({\"timespan\" : timespanobj})\n",
    "    \n",
    "production = jdoc\n",
    "frag = {}\n",
    "frag.update(minla) \n",
    "frag.update(jdoc)\n",
    "\n",
    "widgeText(\"Production\", frag ,'200px' )"
   ]
  },
  {
   "cell_type": "code",
   "execution_count": 260,
   "id": "a27981e1",
   "metadata": {},
   "outputs": [
    {
     "data": {
      "text/plain": [
       "{'@context': 'https://linked.art/ns/v1/linked-art.json',\n",
       " 'id': 'https://data.discovernewfields.org/object/82696',\n",
       " 'type': 'HumanMadeObject',\n",
       " '_label': 'Five Brushstrokes',\n",
       " 'produced_by': [{'id': 'https://data.discovernewfields.org/object/82696/production',\n",
       "   'type': 'Production',\n",
       "   '_label': 'Production of the Object'},\n",
       "  {'carried_out_by': [{'id': 'https://data.discovernewfields.org/actor/82696',\n",
       "     'type': 'Actor',\n",
       "     '_label': 'Lichtenstein, Roy'}]},\n",
       "  {'timespan': {'id': 'https://data.discovernewfields.org/object/82696/production/timespan',\n",
       "    'type': 'TimeSpan',\n",
       "    '_label': 'fabricated 2012',\n",
       "    'begin_of_the_begin': '2012',\n",
       "    'end_of_the_end': '2012'}}]}"
      ]
     },
     "execution_count": 260,
     "metadata": {},
     "output_type": "execute_result"
    }
   ],
   "source": [
    "frag"
   ]
  },
  {
   "cell_type": "code",
   "execution_count": 261,
   "id": "8fab053b",
   "metadata": {},
   "outputs": [],
   "source": [
    "f = open(\"./data/ima/output/json/production.json\", \"w\")\n",
    "f.write(json.dumps(frag, indent=2))\n",
    "f.close() "
   ]
  },
  {
   "cell_type": "markdown",
   "id": "0271bb78",
   "metadata": {},
   "source": [
    "## 4.9 Current Owner and Acquisition <a id=\"owner\"/>\n",
    "\n",
    "[Linked Art Data Model Documentation](https://linked.art/model/provenance/acquisition/#object-acquisition)\n",
    "\n",
    "Acquisitions are used to describe the transfer of ownership of an object from one owner to the next. The first owner is typically the artist, who would then transfer it to the second owner, to the third owner and so on. The ownership chain can be expressed by repeating this same pattern with the buyer from one acquisition being the seller in the subsequent one. If the previous owner (e.g. the seller if there is a value exchange) or the subsequent owner (e.g. the buyer) is not known for a particular acquisition, then the reference can be left out from the description.\n",
    "\n",
    "The acquistion is not necessarily a purchase, it could be a gift, an inheritance or any other method of gaining the right of ownership of an object.\n",
    "\n",
    "The model encodes this information with an Acquisition part of the overall Provenance Event. The acquisition is the transfer of the right of ownership of an object (referenced in transferred_title_of) from the seller (in transferred_title_from) to the buyer (in transferred_title_to).\n",
    "\n",
    "Each object has its own Acquisition as part of the provenance event, so if a collector buys three paintings from a dealer, then there would be a single Provenance Event with three Acquisitions, all of which transfer the title of a single painting from the dealer to the collector.\n",
    "\n",
    "---\n",
    "\n",
    "[Back to build menu](#build)"
   ]
  },
  {
   "cell_type": "code",
   "execution_count": 262,
   "id": "3641dcda",
   "metadata": {},
   "outputs": [
    {
     "data": {
      "application/vnd.jupyter.widget-view+json": {
       "model_id": "ed845fd208594409a2f50a5063716e47",
       "version_major": 2,
       "version_minor": 0
      },
      "text/plain": [
       "Textarea(value='{\\n  \"@context\": \"https://linked.art/ns/v1/linked-art.json\",\\n  \"id\": \"https://data.discoverne…"
      ]
     },
     "metadata": {},
     "output_type": "display_data"
    }
   ],
   "source": [
    "currentowner = False\n",
    "\n",
    "jdoc = {}\n",
    "\n",
    "for prop in obj[\"atom\"]: \n",
    "    \n",
    "    propName = prop[\"@name\"]        \n",
    "    if \"#text\" in prop:\n",
    "        if propName == \"irn\":\n",
    "            irn = prop[\"#text\"]  \n",
    "            \n",
    "        if propName == \"TitAccessionDate\":\n",
    "            TitAccessionDate = prop[\"#text\"]\n",
    "                \n",
    "        if propName == 'TitObjectStatus':\n",
    "                TitObjectStatus = prop[\"#text\"]\n",
    "                if TitObjectStatus == 'Accessioned' or TitObjectStatus == 'Partial Accession' or 'IMA-Owned' in TitObjectStatus:\n",
    "                    currentowner = True\n",
    "                \n",
    "if currentowner == True:             \n",
    "    jdoc[\"current_owner\"] = [{\n",
    "            \"id\": \"http://vocab.getty.edu/ulan/500300517\",\n",
    "            \"type\": \"Group\",\n",
    "            \"_label\": \"Indianapolis Museum of Art at Newfields\",\n",
    "            \"classified_as\": [\n",
    "                    {\n",
    "                        \"id\": \"http://vocab.getty.edu/aat/300312281\",\n",
    "                        \"type\": \"Type\",\n",
    "                        \"_label\": \"museums (institutions)\"\n",
    "                    }\n",
    "                    ]}]\n",
    "                \n",
    "                \n",
    "    acquired_title_through = [{\n",
    "                                \"id\": baseURI + \"object/\" + irn + \"/IMA-acquisition\",\n",
    "                                \"type\": \"Acquisition\",\n",
    "                                \"_label\": \"IMA at Newfields Acquisition of the Object\",\n",
    "                                \"classified_as\": [{\n",
    "                                    \"id\": \"http://vocab.getty.edu/aat/300157782\",\n",
    "                                    \"type\": \"Type\",\n",
    "                                    \"_label\": \"acquisition (collections management)\"\n",
    "                                                }],\n",
    "                                \"took_place_at\": [{\n",
    "                                    \"id\": \"http://vocab.getty.edu/tgn/7012924\", \n",
    "                                    \"type\": \"Place\", \n",
    "                                    \"_label\": \"Indianapolis, Indiana\"\n",
    "                                                }]\n",
    "                                }]\n",
    "\n",
    "\n",
    "    if TitAccessionDate != \"\":\n",
    "    \n",
    "        if len(TitAccessionDate) == 4:\n",
    "            begin = TitAccessionDate + \"-01-01T00:00:00.000Z\"\n",
    "            end = TitAccessionDate + \"-12-31T00:00:00.000Z\"\n",
    "        \n",
    "        elif len(TitAccessionDate) == 8:\n",
    "            begin = TitAccessionDate + \"01T00:00:00.000Z\"\n",
    "            end = TitAccessionDate \n",
    "            if '-02-' in TitAccessionDate:\n",
    "                end = end + \"28\"\n",
    "            if ('-01-','-03-','-05-','-07-','-08-','-09-','-10-','-12-') in TitAccessionDate:\n",
    "                end = end + \"31\"\n",
    "            if ('-04-','-06-','-09-','-11-'):\n",
    "                end = end + \"30\"      \n",
    "            end = end + \"T00:00:00\"\n",
    "         \n",
    "        elif len(TitAccessionDate) == 10:\n",
    "            begin = TitAccessionDate + \"T00:00:00.000Z\"\n",
    "            end = TitAccessionDate + \"T00:00:00.000Z\"\n",
    "        \n",
    "        else:\n",
    "            begin = end = \"\"\n",
    "        \n",
    "        timespanjson = [{\n",
    "                    \"id\":  baseURI + \"object/\" + irn + \"/IMA-acquisition/timespan\", \n",
    "                    \"type\": \"TimeSpan\", \n",
    "                    \"_label\": TitAccessionDate,\n",
    "                    }]\n",
    "        if begin != \"\":\n",
    "            timespanjson[0][\"begin_of_the_begin\"] = begin\n",
    "        if end != \"\":\n",
    "            timespanjson[0][\"end_of_the_end\"] = end\n",
    "    \n",
    "        acquired_title_through.append({\"timespan\" : timespanjson})\n",
    "        jdoc[\"current_owner\"][0].update({\"acquired_title_through\" : acquired_title_through})\n",
    "        \n",
    "acquisition = jdoc\n",
    "\n",
    "frag = {}\n",
    "frag.update(minla) \n",
    "frag.update(jdoc)\n",
    "\n",
    "widgeText(\"Acquisition\", frag ,'200px' )"
   ]
  },
  {
   "cell_type": "code",
   "execution_count": 263,
   "id": "638b1ff8",
   "metadata": {},
   "outputs": [
    {
     "data": {
      "text/plain": [
       "{'@context': 'https://linked.art/ns/v1/linked-art.json',\n",
       " 'id': 'https://data.discovernewfields.org/object/82696',\n",
       " 'type': 'HumanMadeObject',\n",
       " '_label': 'Five Brushstrokes',\n",
       " 'current_owner': [{'id': 'http://vocab.getty.edu/ulan/500300517',\n",
       "   'type': 'Group',\n",
       "   '_label': 'Indianapolis Museum of Art at Newfields',\n",
       "   'classified_as': [{'id': 'http://vocab.getty.edu/aat/300312281',\n",
       "     'type': 'Type',\n",
       "     '_label': 'museums (institutions)'}],\n",
       "   'acquired_title_through': [{'id': 'https://data.discovernewfields.org/object/82696/IMA-acquisition',\n",
       "     'type': 'Acquisition',\n",
       "     '_label': 'IMA at Newfields Acquisition of the Object',\n",
       "     'classified_as': [{'id': 'http://vocab.getty.edu/aat/300157782',\n",
       "       'type': 'Type',\n",
       "       '_label': 'acquisition (collections management)'}],\n",
       "     'took_place_at': [{'id': 'http://vocab.getty.edu/tgn/7012924',\n",
       "       'type': 'Place',\n",
       "       '_label': 'Indianapolis, Indiana'}]},\n",
       "    {'timespan': [{'id': 'https://data.discovernewfields.org/object/82696/IMA-acquisition/timespan',\n",
       "       'type': 'TimeSpan',\n",
       "       '_label': '2013-12-12',\n",
       "       'begin_of_the_begin': '2013-12-12T00:00:00.000Z',\n",
       "       'end_of_the_end': '2013-12-12T00:00:00.000Z'}]}]}]}"
      ]
     },
     "execution_count": 263,
     "metadata": {},
     "output_type": "execute_result"
    }
   ],
   "source": [
    "frag"
   ]
  },
  {
   "cell_type": "code",
   "execution_count": 264,
   "id": "2b522aa5",
   "metadata": {},
   "outputs": [],
   "source": [
    "f = open(\"./data/ima/output/json/acquisition.json\", \"w\")\n",
    "f.write(json.dumps(frag, indent=2))\n",
    "f.close() "
   ]
  },
  {
   "cell_type": "markdown",
   "id": "539cfae1",
   "metadata": {},
   "source": [
    "## 4.10 Custody <a id=\"curate\"/>\n",
    "\n",
    "[Linked Art Data Model documentation](https://linked.art/model/provenance/custody/#institutional-ownership-departmental-custody)\n",
    "\n",
    "Objects are owned by legal entities, such as museum organizations or individual people. However there may be more information about which department is responsible within a museum for the curation of the object. This is the division between acquisitions (the legal ownership of the object) and custody (the responsibility for looking after the object). If the department is known, then it should be either part of the Provenance Event in which the object is acquired, or a separate provenance event if the object was not accessioned by a department and later came under their care, or was transferred between departments. In these latter cases, the ownership does not change, only the custody of the object.\n",
    "\n",
    "The department becomes the `current_keeper` of the object, whereas the institution is the `current_owner`.\n",
    "\n",
    "---\n",
    "\n",
    "[Back to build menu](#build)"
   ]
  },
  {
   "cell_type": "code",
   "execution_count": 265,
   "id": "9d1c6863",
   "metadata": {},
   "outputs": [
    {
     "data": {
      "application/vnd.jupyter.widget-view+json": {
       "model_id": "36443c8e986d454d9ac6706665cc433b",
       "version_major": 2,
       "version_minor": 0
      },
      "text/plain": [
       "Textarea(value='{\\n  \"@context\": \"https://linked.art/ns/v1/linked-art.json\",\\n  \"id\": \"https://data.discoverne…"
      ]
     },
     "metadata": {},
     "output_type": "display_data"
    }
   ],
   "source": [
    "jdoc = {}\n",
    "if currentowner == False:  \n",
    "    jdoc[\"current_keeper\"] =  {\n",
    "                \"id\": \"http://vocab.getty.edu/ulan/500300517\",\n",
    "                \"type\": \"Group\",\n",
    "                \"_label\": \"Indianapolis Museum of Art at Newfields\",\n",
    "                \"classified_as\": [\n",
    "                    {\n",
    "                        \"id\": \"http://vocab.getty.edu/aat/300312281\",\n",
    "                        \"type\": \"Type\",\n",
    "                        \"_label\": \"museums (institutions)\"\n",
    "                    }]}\n",
    "    \n",
    "curatorial = jdoc  \n",
    "frag = {}\n",
    "frag.update(minla) \n",
    "frag.update(jdoc)\n",
    "\n",
    "widgeText(\"Custory\", frag ,'200px' )"
   ]
  },
  {
   "cell_type": "code",
   "execution_count": 266,
   "id": "2cdc677e",
   "metadata": {},
   "outputs": [
    {
     "data": {
      "text/plain": [
       "{'@context': 'https://linked.art/ns/v1/linked-art.json',\n",
       " 'id': 'https://data.discovernewfields.org/object/82696',\n",
       " 'type': 'HumanMadeObject',\n",
       " '_label': 'Five Brushstrokes'}"
      ]
     },
     "execution_count": 266,
     "metadata": {},
     "output_type": "execute_result"
    }
   ],
   "source": [
    "frag "
   ]
  },
  {
   "cell_type": "code",
   "execution_count": 267,
   "id": "18d0aeeb",
   "metadata": {},
   "outputs": [],
   "source": [
    "f = open(\"./data/ima/output/json/curatorial.json\", \"w\")\n",
    "f.write(json.dumps(frag, indent=2))\n",
    "f.close() "
   ]
  },
  {
   "cell_type": "markdown",
   "id": "35ce1107",
   "metadata": {},
   "source": [
    "## 4.11 Membership of Collections and Sets <a id=\"member\"/>\n",
    "\n",
    "[Linked Art Data Model Documentation](https://linked.art/model/collection/)\n",
    "\n",
    "There are many use cases for grouping resources together, often of the same class but sometimes of varying types. These use cases are exemplified in the sections below, and range from the set of objects in an auction lot, to dealer inventories and museum collections, exhibitions, a set of related concepts, or the set of people that share a common feature such as gender or nationality.\n",
    "\n",
    "In order to cover all of the use cases with a consistent pattern, we introduce a new `Set` class from outside of CIDOC-CRM. This avoids issues with sets of resources with different types, and the semantics of the identity of objects and collections. If an equivalent class is added into the core CIDOC-CRM ontology in the future, a new major version of the specification will change to using it.\n",
    "\n",
    "### Sets \n",
    "\n",
    "Core Features\n",
    "\n",
    "Sets are conceptual groupings, rather than physical ones. The set of objects in a virtual exhibition or simply the set of a person's favorite objects never change their physical state by being part of the Set or not. They are, thus, created by a `Creation`, not by a `Production`.\n",
    "\n",
    "Like any core resource, Set must have an id and type, are likely to have additional classifications, and can have `Identifiers` and `Names`. They can have statements made about them, and have member resources. These member resources are included via the `member` property rather than `part`, or via `member_of` from the included resource to the `Set`.\n",
    "\n",
    "---\n",
    "\n",
    "[Back to build menu](#build)"
   ]
  },
  {
   "cell_type": "code",
   "execution_count": 268,
   "id": "43f981ed",
   "metadata": {},
   "outputs": [
    {
     "data": {
      "application/vnd.jupyter.widget-view+json": {
       "model_id": "1806a6af132a4ba1ad1b88e2a7b47978",
       "version_major": 2,
       "version_minor": 0
      },
      "text/plain": [
       "Textarea(value='{\\n  \"@context\": \"https://linked.art/ns/v1/linked-art.json\",\\n  \"id\": \"https://data.discoverne…"
      ]
     },
     "metadata": {},
     "output_type": "display_data"
    }
   ],
   "source": [
    "jdoc = {}\n",
    "\n",
    "for prop in obj[\"atom\"]: \n",
    "    \n",
    "    propName = prop[\"@name\"]        \n",
    "    if \"#text\" in prop:\n",
    "        if propName == \"irn\":\n",
    "            irn = prop[\"#text\"]  \n",
    "            \n",
    "        if propName == \"PhyCollectionArea\":\n",
    "            PhyCollectionArea = prop[\"#text\"]\n",
    "            jdoc[\"member_of\"] = [{\n",
    "                 \"id\": baseURI + \"collection/\" + PhyCollectionArea,\n",
    "                    \"type\": \"Set\",\n",
    "                    \"_label\": \"Collection of IMA at Newfields' \" + PhyCollectionArea.split(\"-\",1)[1]  + \" Department\",\n",
    "                    \"classified_as\": [\n",
    "                        {\n",
    "                            \"id\": \"http://vocab.getty.edu/aat/300025976\",\n",
    "                            \"type\": \"Type\",\n",
    "                            \"_label\": \"collections (object groupings)\"\n",
    "                        }]\n",
    "                \n",
    "            }]\n",
    "            \n",
    "            \n",
    "member = jdoc  \n",
    "frag = {}\n",
    "frag.update(minla) \n",
    "frag.update(jdoc)\n",
    "widgeText(\"Membership\", frag ,'200px' )"
   ]
  },
  {
   "cell_type": "code",
   "execution_count": 269,
   "id": "4726b201",
   "metadata": {},
   "outputs": [
    {
     "data": {
      "text/plain": [
       "{'@context': 'https://linked.art/ns/v1/linked-art.json',\n",
       " 'id': 'https://data.discovernewfields.org/object/82696',\n",
       " 'type': 'HumanMadeObject',\n",
       " '_label': 'Five Brushstrokes',\n",
       " 'member_of': [{'id': 'https://data.discovernewfields.org/collection/907-Contemporary',\n",
       "   'type': 'Set',\n",
       "   '_label': \"Collection of IMA at Newfields' Contemporary Department\",\n",
       "   'classified_as': [{'id': 'http://vocab.getty.edu/aat/300025976',\n",
       "     'type': 'Type',\n",
       "     '_label': 'collections (object groupings)'}]}]}"
      ]
     },
     "execution_count": 269,
     "metadata": {},
     "output_type": "execute_result"
    }
   ],
   "source": [
    "frag"
   ]
  },
  {
   "cell_type": "code",
   "execution_count": 270,
   "id": "445911df",
   "metadata": {},
   "outputs": [],
   "source": [
    "f = open(\"./data/ima/output/json/member.json\", \"w\")\n",
    "f.write(json.dumps(frag, indent=2))\n",
    "f.close() "
   ]
  },
  {
   "cell_type": "markdown",
   "id": "f54cf605",
   "metadata": {},
   "source": [
    "## 5. Compile Linked Art JSON-LD Representation\n",
    "\n",
    "Bring the separate descriptions together in a single JSON-LD document"
   ]
  },
  {
   "cell_type": "code",
   "execution_count": 271,
   "id": "f86e2c8a",
   "metadata": {
    "scrolled": true
   },
   "outputs": [
    {
     "data": {
      "application/vnd.jupyter.widget-view+json": {
       "model_id": "b35e116ed702428fb2adf2ca049d37d4",
       "version_major": 2,
       "version_minor": 0
      },
      "text/plain": [
       "Textarea(value='{\\n  \"@context\": \"https://linked.art/ns/v1/linked-art.json\",\\n  \"id\": \"https://data.discoverne…"
      ]
     },
     "metadata": {},
     "output_type": "display_data"
    }
   ],
   "source": [
    "jdoc = {}\n",
    "jdoc_sections = [\"minla\", \"clasf\", \"homepage\", \"location\", \"production\", \"acquisition\", \n",
    "                 \"dimensions\", \"curatorial\", \"member\", \"ling\"]\n",
    "\n",
    "for section in jdoc_sections:\n",
    "    if section in vars():\n",
    "        jdoc.update(vars()[section])\n",
    "        \n",
    "identified_by = identifiers.copy()\n",
    "titles_items  = titles[\"identified_by\"]\n",
    "identified_by[\"identified_by\"].append(titles_items[0])\n",
    "jdoc.update(identified_by)\n",
    "\n",
    "widgeText(\"Linked Art\", jdoc ,'200px' )"
   ]
  },
  {
   "cell_type": "markdown",
   "id": "f7a77b3b",
   "metadata": {},
   "source": [
    "## 6. Validate the JSON-LD"
   ]
  },
  {
   "cell_type": "code",
   "execution_count": 272,
   "id": "949def29",
   "metadata": {},
   "outputs": [
    {
     "data": {
      "text/html": [
       "<div class='alert alert-block alert-success'>The JSON-LD file is valid JSON</div"
      ],
      "text/plain": [
       "<IPython.core.display.HTML object>"
      ]
     },
     "metadata": {},
     "output_type": "display_data"
    }
   ],
   "source": [
    "# https://pynative.com/python-json-validation/\n",
    "\n",
    "def validateJSON(jsonData):\n",
    "    try:\n",
    "        json.loads(jsonData)\n",
    "    except ValueError as err:\n",
    "        return False\n",
    "    return True\n",
    "\n",
    "isValid = validateJSON(json.dumps(jdoc))\n",
    "\n",
    "if isValid == True:\n",
    "    display(HTML(\"<div class='alert alert-block alert-success'>The JSON-LD file is valid JSON</div\"))  \n",
    "else:\n",
    "    display(HTML(\"<div class='alert alert-block alert-danger'>The json-ld file is invalid JSON</div>\"))"
   ]
  },
  {
   "cell_type": "markdown",
   "id": "b7efee8c",
   "metadata": {},
   "source": [
    "## 7. View the final Linked Art JSON-LD\n",
    "\n",
    "The final Linked Art JSON-LD representation of the object is now available:"
   ]
  },
  {
   "cell_type": "code",
   "execution_count": 273,
   "id": "7d8c916a",
   "metadata": {},
   "outputs": [
    {
     "data": {
      "application/vnd.jupyter.widget-view+json": {
       "model_id": "22c09a1f9e8d4d12baf4bfc1205ac292",
       "version_major": 2,
       "version_minor": 0
      },
      "text/plain": [
       "Textarea(value='{\\n  \"@context\": \"https://linked.art/ns/v1/linked-art.json\",\\n  \"id\": \"https://data.discoverne…"
      ]
     },
     "metadata": {},
     "output_type": "display_data"
    }
   ],
   "source": [
    "widgeText(\"Linked Art\", jdoc ,'200px' )"
   ]
  },
  {
   "cell_type": "code",
   "execution_count": 274,
   "id": "5518e2df",
   "metadata": {},
   "outputs": [
    {
     "data": {
      "text/plain": [
       "{'@context': 'https://linked.art/ns/v1/linked-art.json',\n",
       " 'id': 'https://data.discovernewfields.org/object/82696',\n",
       " 'type': 'HumanMadeObject',\n",
       " '_label': 'Five Brushstrokes',\n",
       " 'classified_as': [{'id': 'http://vocab.getty.edu/aat/300047090',\n",
       "   'type': 'Type',\n",
       "   '_label': 'sculpture (visual works)'}],\n",
       " 'subject_of': [{'id': 'http://collection.imamuseum.org/artwork/76663',\n",
       "   'type': 'LinguisticObject',\n",
       "   '_label': 'Homepage for the Object',\n",
       "   'classified_as': [{'id': 'http://vocab/getty.edu/aat/300264578',\n",
       "     'type': 'Type',\n",
       "     '_label': 'Web pages (documents)'},\n",
       "    {'id': 'http://vocab.getty.edu/aat/300266277',\n",
       "     'type': 'Type',\n",
       "     '_label': 'home pages'}],\n",
       "   'format': 'text/html'}],\n",
       " 'current_location': [{'id': 'https://data.discovernewfields.org/thesauri/location/G',\n",
       "   'type': 'Place',\n",
       "   '_label': 'Newfields Grounds'}],\n",
       " 'produced_by': [{'id': 'https://data.discovernewfields.org/object/82696/production',\n",
       "   'type': 'Production',\n",
       "   '_label': 'Production of the Object'},\n",
       "  {'carried_out_by': [{'id': 'https://data.discovernewfields.org/actor/82696',\n",
       "     'type': 'Actor',\n",
       "     '_label': 'Lichtenstein, Roy'}]},\n",
       "  {'timespan': {'id': 'https://data.discovernewfields.org/object/82696/production/timespan',\n",
       "    'type': 'TimeSpan',\n",
       "    '_label': 'fabricated 2012',\n",
       "    'begin_of_the_begin': '2012',\n",
       "    'end_of_the_end': '2012'}}],\n",
       " 'current_owner': [{'id': 'http://vocab.getty.edu/ulan/500300517',\n",
       "   'type': 'Group',\n",
       "   '_label': 'Indianapolis Museum of Art at Newfields',\n",
       "   'classified_as': [{'id': 'http://vocab.getty.edu/aat/300312281',\n",
       "     'type': 'Type',\n",
       "     '_label': 'museums (institutions)'}],\n",
       "   'acquired_title_through': [{'id': 'https://data.discovernewfields.org/object/82696/IMA-acquisition',\n",
       "     'type': 'Acquisition',\n",
       "     '_label': 'IMA at Newfields Acquisition of the Object',\n",
       "     'classified_as': [{'id': 'http://vocab.getty.edu/aat/300157782',\n",
       "       'type': 'Type',\n",
       "       '_label': 'acquisition (collections management)'}],\n",
       "     'took_place_at': [{'id': 'http://vocab.getty.edu/tgn/7012924',\n",
       "       'type': 'Place',\n",
       "       '_label': 'Indianapolis, Indiana'}]},\n",
       "    {'timespan': [{'id': 'https://data.discovernewfields.org/object/82696/IMA-acquisition/timespan',\n",
       "       'type': 'TimeSpan',\n",
       "       '_label': '2013-12-12',\n",
       "       'begin_of_the_begin': '2013-12-12T00:00:00.000Z',\n",
       "       'end_of_the_end': '2013-12-12T00:00:00.000Z'}]}]}],\n",
       " 'member_of': [{'id': 'https://data.discovernewfields.org/collection/907-Contemporary',\n",
       "   'type': 'Set',\n",
       "   '_label': \"Collection of IMA at Newfields' Contemporary Department\",\n",
       "   'classified_as': [{'id': 'http://vocab.getty.edu/aat/300025976',\n",
       "     'type': 'Type',\n",
       "     '_label': 'collections (object groupings)'}]}],\n",
       " 'referred_to_by': [{'id': 'https://data.discovernewfields.org/object/82696/credit-line',\n",
       "   'type': 'LinguisticObject',\n",
       "   '_label': 'IMA at Newfields Credit Line for the Object',\n",
       "   'content': 'Robert L. and Marjorie J. Mann Fund, Partial Gift of the Roy Lichtenstein Foundation',\n",
       "   'classified_as': [{'id': 'http://vocab.getty.edu/aat/300026687',\n",
       "     'type': 'Type',\n",
       "     '_label': 'acknowledgments'},\n",
       "    {'id': 'http://vocab.getty.edu/aat/300418049',\n",
       "     'type': 'Type',\n",
       "     '_label': 'brief texts'}]},\n",
       "  {'id': 'https://data.discovernewfields.org/object/82696/provenance-statement',\n",
       "   'type': 'LinguisticObject',\n",
       "   '_label': 'IMA Provenance Statement about the Object',\n",
       "   'content': '(Roy Lichtenstein Foundation, New York, New York); purchased by the Indianapolis Museum of Art in 2013.',\n",
       "   'classified_as': [{'id': 'http://vocab.getty.edu/aat/300055863',\n",
       "     'type': 'Type',\n",
       "     '_label': 'provenance (history of ownership)'},\n",
       "    {'id': 'http://vocab.getty.edu/aat/300418049',\n",
       "     'type': 'Type',\n",
       "     '_label': 'brief texts'}]}],\n",
       " 'identified_by': [{'id': 'https://data.discovernewfields.org/object/82696/irn',\n",
       "   'type': 'Identifier',\n",
       "   '_label': 'IMA at Newfields Collections Database Number for the Object',\n",
       "   'content': '82696',\n",
       "   'classified_as': [{'id': 'http://vocab.getty.edu/aat/300404621',\n",
       "     'type': 'Type',\n",
       "     '_label': 'repository numbers'}]},\n",
       "  {'id': 'https://data.discovernewfields.org/object/82696/object-number',\n",
       "   'type': 'Identifier',\n",
       "   '_label': 'IMA at Newfields Object Number for the Object',\n",
       "   'content': '2013.443A-E.4',\n",
       "   'classified_as': [{'id': 'http://vocab.getty.edu/aat/300312355',\n",
       "     'type': 'Type',\n",
       "     '_label': 'accession numbers'}]},\n",
       "  {'id': 'https://data.discovernewfields.org/object/82696/title',\n",
       "   'type': 'Name',\n",
       "   '_label': 'Primary Title for the Object',\n",
       "   'content': 'Five Brushstrokes',\n",
       "   'classified_as': [{'id': 'http://vocab.getty.edu/aat/300404670',\n",
       "     'type': 'Type',\n",
       "     '_label': 'preferred terms'}]}]}"
      ]
     },
     "execution_count": 274,
     "metadata": {},
     "output_type": "execute_result"
    }
   ],
   "source": [
    "jdoc"
   ]
  },
  {
   "cell_type": "code",
   "execution_count": 275,
   "id": "e23f86c5",
   "metadata": {},
   "outputs": [],
   "source": [
    "f = open(\"./data/ima/output/json/object_linkedart.json\", \"w\")\n",
    "f.write(json.dumps(jdoc, indent=2))\n",
    "f.close() "
   ]
  },
  {
   "cell_type": "markdown",
   "id": "54563c1b",
   "metadata": {},
   "source": [
    "## 8. Download Linked Art JSON-LD file\n",
    "\n",
    "The final JSON-LD file for the selected object is available at:\n",
    "- [Selected Object as Linked Art](./data/ima/output/json/object_linkedart.json)"
   ]
  },
  {
   "cell_type": "markdown",
   "id": "e6ae75a0",
   "metadata": {},
   "source": [
    "## 9. Next Steps\n",
    "\n",
    "1. View the JSON-LD in the [JSON-LD Playground](https://json-ld.org/playground) - use copy and paste from below, or a file URL."
   ]
  },
  {
   "cell_type": "code",
   "execution_count": 276,
   "id": "cdabb076",
   "metadata": {},
   "outputs": [
    {
     "data": {
      "application/vnd.jupyter.widget-view+json": {
       "model_id": "5bf4c0a3864a4fd98ed291a4d0010035",
       "version_major": 2,
       "version_minor": 0
      },
      "text/plain": [
       "Textarea(value='{\\n  \"@context\": \"https://linked.art/ns/v1/linked-art.json\",\\n  \"id\": \"https://data.discoverne…"
      ]
     },
     "metadata": {},
     "output_type": "display_data"
    }
   ],
   "source": [
    "widgeText(\"Linked Art\", jdoc ,'100px' )"
   ]
  },
  {
   "cell_type": "markdown",
   "id": "dc958de6",
   "metadata": {},
   "source": [
    "2. Transform all artworks in the IMA sample data with another [IMA Jupyter notebook](Transforming_Collections_to_Linked_Art_IMA_All_Artworks.ipynb)"
   ]
  },
  {
   "cell_type": "markdown",
   "id": "be12de55",
   "metadata": {},
   "source": [
    "\n",
    "\n",
    "3. Visit the [Linked Art community website](https://linked.art) for further information on the data model and community activities."
   ]
  },
  {
   "cell_type": "code",
   "execution_count": 277,
   "id": "5cd00507",
   "metadata": {},
   "outputs": [
    {
     "data": {
      "image/jpeg": "[encoded data removed]",
      "text/html": [
       "\n",
       "        <iframe\n",
       "            width=\"800\"\n",
       "            height=\"500\"\n",
       "            src=\"https://www.youtube.com/embed/afO7KEysda8\"\n",
       "            frameborder=\"0\"\n",
       "            allowfullscreen\n",
       "        ></iframe>\n",
       "        "
      ],
      "text/plain": [
       "<IPython.lib.display.YouTubeVideo at 0x112b0a9a0>"
      ]
     },
     "execution_count": 277,
     "metadata": {},
     "output_type": "execute_result"
    }
   ],
   "source": [
    "from IPython.display import YouTubeVideo\n",
    "YouTubeVideo('afO7KEysda8', width=800, height=500)"
   ]
  },
  {
   "cell_type": "code",
   "execution_count": null,
   "id": "ae600e1a",
   "metadata": {},
   "outputs": [],
   "source": []
  }
 ],
 "metadata": {
  "celltoolbar": "Tags",
  "kernelspec": {
   "display_name": "Python 3",
   "language": "python",
   "name": "python3"
  },
  "language_info": {
   "codemirror_mode": {
    "name": "ipython",
    "version": 3
   },
   "file_extension": ".py",
   "mimetype": "text/x-python",
   "name": "python",
   "nbconvert_exporter": "python",
   "pygments_lexer": "ipython3",
   "version": "3.8.8"
  }
 },
 "nbformat": 4,
 "nbformat_minor": 5
}
