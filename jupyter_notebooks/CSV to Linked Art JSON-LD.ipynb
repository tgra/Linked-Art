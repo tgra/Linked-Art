{
 "cells": [
  {
   "cell_type": "markdown",
   "id": "97308ad2",
   "metadata": {},
   "source": [
    "# CSV to Linked Art JSON-LD\n",
    "\n",
    "## CSV to Linked Art JSON-LD transformation Python script\n",
    "\n",
    "The transformation process uses a [Python script](lib/linked_art_csv/linked_art_csv.py) by Edward Anderson\n",
    "\n",
    "[Source](https://github.com/edwardanderson/linked-art-csv)"
   ]
  },
  {
   "cell_type": "markdown",
   "id": "b0dbdd4c",
   "metadata": {},
   "source": [
    "## Import what we need "
   ]
  },
  {
   "cell_type": "code",
   "execution_count": 1,
   "id": "1719c202",
   "metadata": {},
   "outputs": [],
   "source": [
    "try:    \n",
    "    import json\n",
    "except:\n",
    "    !pip install json\n",
    "    import json \n",
    "try:\n",
    "  from loguru import logger\n",
    "except:\n",
    "  !pip install loguru\n",
    "  from loguru import logger \n",
    "try:\n",
    " import lxml.etree as ET\n",
    "except:\n",
    "    !pip install lxml\n",
    "    import lxml.etree as ET \n",
    "try:\n",
    " import pandas as pd\n",
    "except:\n",
    "    !pip install pandas\n",
    "    import pandas as pd \n",
    "    \n",
    "try:\n",
    " import rdflib\n",
    "except:\n",
    "    !pip install rdflib\n",
    "    import rdflib \n",
    "   \n",
    "try:\n",
    "    import pyld\n",
    "    from pyld import jsonld\n",
    "except:\n",
    "    !pip install pyld\n",
    "    import pyld\n",
    "    from pyld import jsonld\n",
    "    "
   ]
  },
  {
   "cell_type": "markdown",
   "id": "8573db9d",
   "metadata": {},
   "source": [
    "## Transform JSON to CSV"
   ]
  },
  {
   "cell_type": "code",
   "execution_count": 2,
   "id": "7d1b40c5",
   "metadata": {},
   "outputs": [
    {
     "data": {
      "text/html": [
       "<div>\n",
       "<style scoped>\n",
       "    .dataframe tbody tr th:only-of-type {\n",
       "        vertical-align: middle;\n",
       "    }\n",
       "\n",
       "    .dataframe tbody tr th {\n",
       "        vertical-align: top;\n",
       "    }\n",
       "\n",
       "    .dataframe thead th {\n",
       "        text-align: right;\n",
       "    }\n",
       "</style>\n",
       "<table border=\"1\" class=\"dataframe\">\n",
       "  <thead>\n",
       "    <tr style=\"text-align: right;\">\n",
       "      <th></th>\n",
       "      <th>id</th>\n",
       "      <th>type</th>\n",
       "      <th>_label</th>\n",
       "    </tr>\n",
       "  </thead>\n",
       "  <tbody>\n",
       "    <tr>\n",
       "      <th>0</th>\n",
       "      <td>https://linked.art/example/object/19</td>\n",
       "      <td>HumanMadeObject</td>\n",
       "      <td>Hakone</td>\n",
       "    </tr>\n",
       "  </tbody>\n",
       "</table>\n",
       "</div>"
      ],
      "text/plain": [
       "                                     id             type  _label\n",
       "0  https://linked.art/example/object/19  HumanMadeObject  Hakone"
      ]
     },
     "execution_count": 2,
     "metadata": {},
     "output_type": "execute_result"
    }
   ],
   "source": [
    "doc = {\n",
    " 'id': 'https://linked.art/example/object/19',\n",
    " 'type': 'HumanMadeObject',\n",
    " '_label': 'Hakone'\n",
    "}\n",
    "\n",
    "df = pd.json_normalize(doc)\n",
    "df.to_csv('./data/core_properties.csv')\n",
    "\n",
    "df"
   ]
  },
  {
   "cell_type": "markdown",
   "id": "752c9780",
   "metadata": {},
   "source": [
    "## Transform CSV to Linked Art JSON-LD"
   ]
  },
  {
   "cell_type": "code",
   "execution_count": 3,
   "id": "9038de37",
   "metadata": {},
   "outputs": [
    {
     "name": "stdout",
     "output_type": "stream",
     "text": [
      "Traceback (most recent call last):\r\n",
      "  File \"./lib/linked_art_csv/linked_art_csv.py\", line 13, in <module>\r\n",
      "    import rdflib\r\n",
      "ModuleNotFoundError: No module named 'rdflib'\r\n"
     ]
    }
   ],
   "source": [
    "!python ./lib/linked_art_csv/linked_art_csv.py data/core_properties.csv"
   ]
  },
  {
   "cell_type": "code",
   "execution_count": null,
   "id": "155e3a5a",
   "metadata": {},
   "outputs": [],
   "source": []
  }
 ],
 "metadata": {
  "kernelspec": {
   "display_name": "Python 3",
   "language": "python",
   "name": "python3"
  },
  "language_info": {
   "codemirror_mode": {
    "name": "ipython",
    "version": 3
   },
   "file_extension": ".py",
   "mimetype": "text/x-python",
   "name": "python",
   "nbconvert_exporter": "python",
   "pygments_lexer": "ipython3",
   "version": "3.8.8"
  }
 },
 "nbformat": 4,
 "nbformat_minor": 5
}
