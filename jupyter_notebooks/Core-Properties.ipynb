{
 "cells": [
  {
   "cell_type": "markdown",
   "id": "97308ad2",
   "metadata": {},
   "source": [
    "# Linked Art - Core Properties\n",
    "\n",
    "https://linked.art/model/base/#core-properties\n",
    "\n",
    "There are a few core properties that every resource should have for it to be a useful part of the world of Linked Open Data:\n",
    "\n",
    "* `@context` \n",
    "* `id` \n",
    "* `type` \n",
    "* `_label`\n",
    "\n",
    "The simplest possible object has a URI, a class and a label."
   ]
  },
  {
   "cell_type": "markdown",
   "id": "b0dbdd4c",
   "metadata": {},
   "source": [
    "## Import what we need "
   ]
  },
  {
   "cell_type": "code",
   "execution_count": 10,
   "id": "1719c202",
   "metadata": {},
   "outputs": [],
   "source": [
    "try:\n",
    "    from pyld import jsonld\n",
    "except:\n",
    "    !pip install pyld\n",
    "    from pyld import jsonld\n",
    "try:    \n",
    "    import json\n",
    "except:\n",
    "    !pip install json\n",
    "    import json\n",
    "    \n",
    "try:\n",
    "  from loguru import logger\n",
    "except:\n",
    "  !pip install loguru\n",
    "  from loguru import logger\n",
    "    \n",
    "try:\n",
    " import lxml.etree as ET\n",
    "except:\n",
    "    !pip install lxml\n",
    "    import lxml.etree as ET \n",
    "    \n",
    "try:\n",
    " import pandas as pd\n",
    "except:\n",
    "    !pip install pandas\n",
    "    import pandas as pd \n",
    "    \n",
    "\n",
    "try:\n",
    " import rdflib\n",
    "except:\n",
    "    !pip install rdflib\n",
    "    import rdflib \n",
    "   \n",
    "try:\n",
    " import pyld\n",
    "except:\n",
    "    !pip install pyld\n",
    "    import pyld\n",
    "    \n",
    "\n",
    "try:\n",
    " from IPython.display import IFrame\n",
    "except:\n",
    "    !pip install IPython\n",
    "    from IPython.display import IFrame "
   ]
  },
  {
   "cell_type": "markdown",
   "id": "d1b467ea",
   "metadata": {},
   "source": [
    "## @context\n",
    "\n",
    "`@context` is a reference to the context mapping which determines how to interpret the JSON as Linked Open Data. \n",
    "\n",
    "It is not a property of the entity being described, but of the document. It must be present.\n",
    "\n",
    "The @context value for Linked Art is `https://linked.art/ns/v1/linked-art.json`."
   ]
  },
  {
   "cell_type": "code",
   "execution_count": 11,
   "id": "5ea2f6ed",
   "metadata": {},
   "outputs": [],
   "source": [
    "# dictionary to hold values \n",
    "doc = {\"@context\": \"https://linked.art/ns/v1/linked-art.json\",}\n"
   ]
  },
  {
   "cell_type": "markdown",
   "id": "ffb23f44",
   "metadata": {},
   "source": [
    "## id\n",
    "\n",
    "`id` captures the URI that identifies the object.  Every resource must have exactly one id, and it must be an HTTP URI.\n",
    "\n",
    "### Enter a URI to identify the object, e.g. `https://linked.art/example/object/19` \n"
   ]
  },
  {
   "cell_type": "code",
   "execution_count": 12,
   "id": "a429b996",
   "metadata": {},
   "outputs": [],
   "source": [
    "uri = input()\n",
    "doc[\"id\"] = uri\n",
    "doc"
   ]
  },
  {
   "cell_type": "markdown",
   "id": "a4c9d2b7",
   "metadata": {},
   "source": [
    "## type\n",
    "`type` captures the class of the object, or `rdf:type` in RDF. Every resource must have exactly one class. This allows software to align the data model with an internal, object oriented class based implementation.\n",
    "\n",
    "### Enter a `type`, e.g. HumanMadeObject"
   ]
  },
  {
   "cell_type": "code",
   "execution_count": null,
   "id": "6c0fcecc",
   "metadata": {},
   "outputs": [
    {
     "data": {
      "text/plain": [
       "{'@context': 'https://linked.art/ns/v1/linked-art.json',\n",
       " 'id': 'id',\n",
       " 'type': 'type'}"
      ]
     },
     "execution_count": 4,
     "metadata": {},
     "output_type": "execute_result"
    }
   ],
   "source": [
    "obj_type = input()\n",
    "doc[\"type\"] = obj_type\n",
    "doc"
   ]
  },
  {
   "cell_type": "markdown",
   "id": "3831c81f",
   "metadata": {},
   "source": [
    "## _label\n",
    "`_label` captures a human readable label as a string, intended for developers or other people reading the data to understand what they are looking at.  Every resource should have exactly one label, and must not have more than one. It is just a string, and does not have a language associated with it -- if multiple languages are available for the content, then implementations can choose which is most likely to be valuable for a developer looking at the data.\n",
    "\n",
    "### Enter a label for the object"
   ]
  },
  {
   "cell_type": "code",
   "execution_count": null,
   "id": "00c366e9",
   "metadata": {},
   "outputs": [
    {
     "data": {
      "text/plain": [
       "{'@context': 'https://linked.art/ns/v1/linked-art.json',\n",
       " 'id': 'id',\n",
       " 'type': 'type',\n",
       " '_label': 'label'}"
      ]
     },
     "execution_count": 5,
     "metadata": {},
     "output_type": "execute_result"
    }
   ],
   "source": [
    "label = input()\n",
    "doc[\"_label\"] = label\n",
    "doc"
   ]
  },
  {
   "cell_type": "markdown",
   "id": "c18e770f",
   "metadata": {},
   "source": [
    "## Linked Art JSON-LD"
   ]
  },
  {
   "cell_type": "markdown",
   "id": "0dab7a6c",
   "metadata": {},
   "source": [
    "### Compact Linked Art JSON-LD\n",
    "\n",
    "see: https://json-ld.org/spec/latest/json-ld/#compacted-document-form"
   ]
  },
  {
   "cell_type": "code",
   "execution_count": null,
   "id": "532284cf",
   "metadata": {},
   "outputs": [
    {
     "data": {
      "text/plain": [
       "{'@context': 'https://linked.art/ns/v1/linked-art.json',\n",
       " 'id': 'id',\n",
       " 'type': 'type',\n",
       " '_label': 'label'}"
      ]
     },
     "execution_count": 6,
     "metadata": {},
     "output_type": "execute_result"
    }
   ],
   "source": [
    "context = { \"@context\": \"https://linked.art/ns/v1/linked-art.json\" }\n",
    "\n",
    "# compact a document according to a particular context\n",
    "# see: https://json-ld.org/spec/latest/json-ld/#compacted-document-form\n",
    "compacted = jsonld.compact(doc,context)\n",
    "\n",
    "compacted"
   ]
  },
  {
   "cell_type": "markdown",
   "id": "b07fd921",
   "metadata": {},
   "source": [
    "### Flattened Linked Art JSON-LD"
   ]
  },
  {
   "cell_type": "code",
   "execution_count": null,
   "id": "c33afe38",
   "metadata": {},
   "outputs": [
    {
     "name": "stdout",
     "output_type": "stream",
     "text": [
      "[\n",
      "  {\n",
      "    \"@id\": \"id\",\n",
      "    \"@type\": [\n",
      "      \"@type\"\n",
      "    ],\n",
      "    \"http://www.w3.org/2000/01/rdf-schema#label\": [\n",
      "      {\n",
      "        \"@value\": \"label\"\n",
      "      }\n",
      "    ]\n",
      "  }\n",
      "]\n"
     ]
    }
   ],
   "source": [
    "flattened = jsonld.flatten(doc)\n",
    "\n",
    "print(json.dumps(flattened, indent=2))"
   ]
  },
  {
   "cell_type": "markdown",
   "id": "5f5ca1f2",
   "metadata": {},
   "source": [
    "## Visualisation of JSON-LD\n"
   ]
  },
  {
   "cell_type": "code",
   "execution_count": null,
   "id": "153f4563",
   "metadata": {},
   "outputs": [],
   "source": [
    "# save compact JSON-LD to file \n",
    "with open('data/core_properties.json', 'w') as f:\n",
    "    json.dump(compacted, f)"
   ]
  },
  {
   "cell_type": "code",
   "execution_count": null,
   "id": "7ab487dc",
   "metadata": {},
   "outputs": [
    {
     "data": {
      "text/html": [
       "\n",
       "        <iframe\n",
       "            width=\"700\"\n",
       "            height=\"700\"\n",
       "            src=\"https://research.ng-london.org.uk/modelling/?url=https://raw.githubusercontent.com/linked-art/showcase1/master/data/getty/Object/02bac13e-7e54-45ab-ba3a-426b7e48a0d1.json\"\n",
       "            frameborder=\"0\"\n",
       "            allowfullscreen\n",
       "        ></iframe>\n",
       "        "
      ],
      "text/plain": [
       "<IPython.lib.display.IFrame at 0x11d41a400>"
      ]
     },
     "execution_count": 9,
     "metadata": {},
     "output_type": "execute_result"
    }
   ],
   "source": [
    "# use IFrame to display call to dynamic modelling with example core properties file \n",
    "\n",
    "\n",
    "try:\n",
    " from IPython.display import IFrame\n",
    "except:\n",
    "    !pip install IPython\n",
    "    from IPython.display import IFrame \n",
    "    \n",
    "\n",
    "IFrame('https://research.ng-london.org.uk/modelling/?url=https://raw.githubusercontent.com/tgra/Linked-Art/main/jupyter_notebooks/data/core_properties.json', width=700, height=700)    "
   ]
  },
  {
   "cell_type": "code",
   "execution_count": null,
   "id": "0145bd7e",
   "metadata": {},
   "outputs": [],
   "source": []
  }
 ],
 "metadata": {
  "interpreter": {
   "hash": "5ae89e4d967d29a9008e054a0e5513a4b448c7e95ec190ab799cd425d2aae31b"
  },
  "kernelspec": {
   "display_name": "Python 3.8.8 64-bit ('base': conda)",
   "name": "python3"
  },
  "language_info": {
   "codemirror_mode": {
    "name": "ipython",
    "version": 3
   },
   "file_extension": ".py",
   "mimetype": "text/x-python",
   "name": "python",
   "nbconvert_exporter": "python",
   "pygments_lexer": "ipython3",
   "version": "3.8.8"
  }
 },
 "nbformat": 4,
 "nbformat_minor": 5
}
