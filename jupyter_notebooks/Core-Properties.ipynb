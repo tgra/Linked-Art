{
 "cells": [
  {
   "cell_type": "markdown",
   "id": "97308ad2",
   "metadata": {},
   "source": [
    "# Linked Art - Core Properties\n",
    "\n",
    "https://linked.art/model/base/#core-properties\n",
    "\n",
    "There are a few core properties that every resource should have for it to be a useful part of the world of Linked Open Data:\n",
    "\n",
    "* `@context` is a reference to the context mapping which determines how to interpret the JSON as Linked Open Data. It is not a property of the entity being described, but of the document. It must be present.\n",
    "* `id` captures the URI that identifies the object.  Every resource must have exactly one id, and it must be an HTTP URI.\n",
    "* `type` captures the class of the object, or `rdf:type` in RDF. Every resource must have exactly one class. This allows software to align the data model with an internal, object oriented class based implementation.\n",
    "* `_label` captures a human readable label as a string, intended for developers or other people reading the data to understand what they are looking at.  Every resource should have exactly one label, and must not have more than one. It is just a string, and does not have a language associated with it -- if multiple languages are available for the content, then implementations can choose which is most likely to be valuable for a developer looking at the data.\n",
    "\n",
    "\n",
    "The simplest possible object has a URI, a class and a label.\n"
   ]
  },
  {
   "cell_type": "markdown",
   "id": "b0dbdd4c",
   "metadata": {},
   "source": [
    "## Import what we need "
   ]
  },
  {
   "cell_type": "code",
   "execution_count": 1,
   "id": "1a64269a",
   "metadata": {},
   "outputs": [],
   "source": [
    "import random\n",
    "\n",
    "from string import Template\n",
    "import pandas as pd\n",
    "\n"
   ]
  },
  {
   "cell_type": "markdown",
   "id": "d959a560",
   "metadata": {},
   "source": [
    "## @context\n",
    "\n",
    "`@context` is a reference to the context mapping which determines how to interpret the JSON as Linked Open Data. \n",
    "\n",
    "It is not a property of the entity being described, but of the document. It must be present.\n",
    "\n",
    "The @context value for Linked Art is `https://linked.art/ns/v1/linked-art.json`."
   ]
  },
  {
   "cell_type": "code",
   "execution_count": 2,
   "id": "588ceff6",
   "metadata": {},
   "outputs": [],
   "source": [
    "# dictionary to hold values \n",
    "doc = {\"@context\": \"https://linked.art/ns/v1/linked-art.json\",}\n"
   ]
  },
  {
   "cell_type": "markdown",
   "id": "ffb23f44",
   "metadata": {},
   "source": [
    "## id\n",
    "\n",
    "`id` captures the URI that identifies the object.  Every resource must have exactly one id, and it must be an HTTP URI.\n",
    "\n",
    "### Enter a URI to identify the object, e.g. `https://linked.art/example/object/19` \n"
   ]
  },
  {
   "cell_type": "code",
   "execution_count": 3,
   "id": "a429b996",
   "metadata": {},
   "outputs": [
    {
     "name": "stdout",
     "output_type": "stream",
     "text": [
      "http://asdfs\n"
     ]
    },
    {
     "data": {
      "text/plain": [
       "{'@context': 'https://linked.art/ns/v1/linked-art.json', 'id': 'http://asdfs'}"
      ]
     },
     "execution_count": 3,
     "metadata": {},
     "output_type": "execute_result"
    }
   ],
   "source": [
    "uri = input()\n",
    "doc[\"id\"] = uri\n",
    "doc"
   ]
  },
  {
   "cell_type": "markdown",
   "id": "a4c9d2b7",
   "metadata": {},
   "source": [
    "## type\n",
    "`type` captures the class of the object, or `rdf:type` in RDF. Every resource must have exactly one class. This allows software to align the data model with an internal, object oriented class based implementation.\n",
    "\n",
    "### Enter a `type`, e.g. HumanMadeObject"
   ]
  },
  {
   "cell_type": "code",
   "execution_count": 4,
   "id": "6c0fcecc",
   "metadata": {},
   "outputs": [
    {
     "name": "stdout",
     "output_type": "stream",
     "text": [
      "HumanMadeObject\n"
     ]
    },
    {
     "data": {
      "text/plain": [
       "{'@context': 'https://linked.art/ns/v1/linked-art.json',\n",
       " 'id': 'http://asdfs',\n",
       " 'type': 'HumanMadeObject'}"
      ]
     },
     "execution_count": 4,
     "metadata": {},
     "output_type": "execute_result"
    }
   ],
   "source": [
    "obj_type = input()\n",
    "doc[\"type\"] = obj_type\n",
    "doc"
   ]
  },
  {
   "cell_type": "markdown",
   "id": "3831c81f",
   "metadata": {},
   "source": [
    "## _label\n",
    "`_label` captures a human readable label as a string, intended for developers or other people reading the data to understand what they are looking at.  Every resource should have exactly one label, and must not have more than one. It is just a string, and does not have a language associated with it -- if multiple languages are available for the content, then implementations can choose which is most likely to be valuable for a developer looking at the data.\n",
    "\n",
    "### Enter a label for the object"
   ]
  },
  {
   "cell_type": "code",
   "execution_count": 5,
   "id": "00c366e9",
   "metadata": {},
   "outputs": [
    {
     "name": "stdout",
     "output_type": "stream",
     "text": [
      "Hakone\n"
     ]
    },
    {
     "data": {
      "text/plain": [
       "{'@context': 'https://linked.art/ns/v1/linked-art.json',\n",
       " 'id': 'http://asdfs',\n",
       " 'type': 'HumanMadeObject',\n",
       " '_label': 'Hakone'}"
      ]
     },
     "execution_count": 5,
     "metadata": {},
     "output_type": "execute_result"
    }
   ],
   "source": [
    "label = input()\n",
    "doc[\"_label\"] = label\n",
    "doc"
   ]
  },
  {
   "cell_type": "markdown",
   "id": "6511d908",
   "metadata": {},
   "source": [
    "## Output Linked Art JSON-LD"
   ]
  },
  {
   "cell_type": "markdown",
   "id": "a2f5702c",
   "metadata": {},
   "source": [
    "### Compact Linked Art JSON-LD\n",
    "\n",
    "see: https://json-ld.org/spec/latest/json-ld/#compacted-document-form"
   ]
  },
  {
   "cell_type": "code",
   "execution_count": 6,
   "id": "532284cf",
   "metadata": {},
   "outputs": [
    {
     "data": {
      "text/plain": [
       "{'@context': 'https://linked.art/ns/v1/linked-art.json',\n",
       " 'id': 'http://asdfs',\n",
       " 'type': 'HumanMadeObject',\n",
       " '_label': 'Hakone'}"
      ]
     },
     "execution_count": 6,
     "metadata": {},
     "output_type": "execute_result"
    }
   ],
   "source": [
    "from pyld import jsonld\n",
    "import json\n",
    "\n",
    "context = { \"@context\": \"https://linked.art/ns/v1/linked-art.json\" }\n",
    "\n",
    "# compact a document according to a particular context\n",
    "# see: https://json-ld.org/spec/latest/json-ld/#compacted-document-form\n",
    "compacted = jsonld.compact(doc,context)\n",
    "\n",
    "compacted"
   ]
  },
  {
   "cell_type": "markdown",
   "id": "2e769a7d",
   "metadata": {},
   "source": [
    "### Flattened Linked Art JSON-LD"
   ]
  },
  {
   "cell_type": "code",
   "execution_count": 7,
   "id": "4c4be081",
   "metadata": {},
   "outputs": [
    {
     "name": "stdout",
     "output_type": "stream",
     "text": [
      "[\n",
      "  {\n",
      "    \"@id\": \"http://asdfs\",\n",
      "    \"@type\": [\n",
      "      \"http://www.cidoc-crm.org/cidoc-crm/E22_Human-Made_Object\"\n",
      "    ],\n",
      "    \"http://www.w3.org/2000/01/rdf-schema#label\": [\n",
      "      {\n",
      "        \"@value\": \"Hakone\"\n",
      "      }\n",
      "    ]\n",
      "  }\n",
      "]\n"
     ]
    }
   ],
   "source": [
    "flattened = jsonld.flatten(doc)\n",
    "\n",
    "print(json.dumps(flattened, indent=2))"
   ]
  }
 ],
 "metadata": {
  "kernelspec": {
   "display_name": "Python 3",
   "language": "python",
   "name": "python3"
  },
  "language_info": {
   "codemirror_mode": {
    "name": "ipython",
    "version": 3
   },
   "file_extension": ".py",
   "mimetype": "text/x-python",
   "name": "python",
   "nbconvert_exporter": "python",
   "pygments_lexer": "ipython3",
   "version": "3.8.8"
  }
 },
 "nbformat": 4,
 "nbformat_minor": 5
}
