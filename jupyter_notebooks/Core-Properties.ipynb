{
 "cells": [
  {
   "cell_type": "markdown",
   "id": "97308ad2",
   "metadata": {},
   "source": [
    "# Linked Art - Core Properties\n",
    "\n",
    "https://linked.art/model/base/#core-properties\n",
    "\n",
    "There are a few core properties that every resource should have for it to be a useful part of the world of Linked Open Data:\n",
    "\n",
    "* `@context` \n",
    "* `id` \n",
    "* `type` \n",
    "* `_label`\n",
    "\n",
    "The simplest possible object has a URI, a class and a label."
   ]
  },
  {
   "cell_type": "markdown",
   "id": "b0dbdd4c",
   "metadata": {},
   "source": [
    "## Import what we need "
   ]
  },
  {
   "cell_type": "code",
   "execution_count": 1,
   "id": "1719c202",
   "metadata": {},
   "outputs": [],
   "source": [
    "try:\n",
    "    from pyld import jsonld\n",
    "except:\n",
    "    !pip install pyld\n",
    "    from pyld import jsonld\n",
    "try:    \n",
    "    import json\n",
    "except:\n",
    "    !pip install json\n",
    "    import json\n",
    "    \n",
    "try:\n",
    "  from loguru import logger\n",
    "except:\n",
    "  !pip install loguru\n",
    "  from loguru import logger\n",
    "    \n",
    "try:\n",
    " import lxml.etree as ET\n",
    "except:\n",
    "    !pip install lxml\n",
    "    import lxml.etree as ET \n",
    "    \n",
    "try:\n",
    " import pandas as pd\n",
    "except:\n",
    "    !pip install pandas\n",
    "    import pandas as pd \n",
    "    \n",
    "\n",
    "try:\n",
    " import rdflib\n",
    "except:\n",
    "    !pip install rdflib\n",
    "    import rdflib \n",
    "   \n",
    "try:\n",
    " import pyld\n",
    "except:\n",
    "    !pip install pyld\n",
    "    import pyld\n",
    "    \n",
    "\n",
    "try:\n",
    " from IPython.display import IFrame\n",
    "except:\n",
    "    !pip install IPython\n",
    "    from IPython.display import IFrame "
   ]
  },
  {
   "cell_type": "markdown",
   "id": "d1b467ea",
   "metadata": {},
   "source": [
    "## @context\n",
    "\n",
    "`@context` is a reference to the context mapping which determines how to interpret the JSON as Linked Open Data. \n",
    "\n",
    "It is not a property of the entity being described, but of the document. It must be present.\n",
    "\n",
    "The @context value for Linked Art is `https://linked.art/ns/v1/linked-art.json`."
   ]
  },
  {
   "cell_type": "code",
   "execution_count": 2,
   "id": "5ea2f6ed",
   "metadata": {},
   "outputs": [],
   "source": [
    "# dictionary to hold values \n",
    "doc = {\"@context\": \"https://linked.art/ns/v1/linked-art.json\",}\n"
   ]
  },
  {
   "cell_type": "markdown",
   "id": "ffb23f44",
   "metadata": {},
   "source": [
    "## id\n",
    "\n",
    "`id` captures the URI that identifies the object.  Every resource must have exactly one id, and it must be an HTTP URI.\n",
    "\n",
    "### Enter a URI to identify the object, e.g. `https://linked.art/example/object/19` \n"
   ]
  },
  {
   "cell_type": "code",
   "execution_count": 3,
   "id": "a429b996",
   "metadata": {},
   "outputs": [
    {
     "name": "stdout",
     "output_type": "stream",
     "text": [
      "http://asdf.cmo\n"
     ]
    },
    {
     "data": {
      "text/plain": [
       "{'@context': 'https://linked.art/ns/v1/linked-art.json',\n",
       " 'id': 'http://asdf.cmo'}"
      ]
     },
     "execution_count": 3,
     "metadata": {},
     "output_type": "execute_result"
    }
   ],
   "source": [
    "uri = input()\n",
    "doc[\"id\"] = uri\n",
    "doc"
   ]
  },
  {
   "cell_type": "markdown",
   "id": "a4c9d2b7",
   "metadata": {},
   "source": [
    "## type\n",
    "`type` captures the class of the object, or `rdf:type` in RDF. Every resource must have exactly one class. This allows software to align the data model with an internal, object oriented class based implementation.\n",
    "\n",
    "### Enter a `type`, e.g. HumanMadeObject"
   ]
  },
  {
   "cell_type": "code",
   "execution_count": 4,
   "id": "6c0fcecc",
   "metadata": {},
   "outputs": [
    {
     "name": "stdout",
     "output_type": "stream",
     "text": [
      "sdf\n"
     ]
    },
    {
     "data": {
      "text/plain": [
       "{'@context': 'https://linked.art/ns/v1/linked-art.json',\n",
       " 'id': 'http://asdf.cmo',\n",
       " 'type': 'sdf'}"
      ]
     },
     "execution_count": 4,
     "metadata": {},
     "output_type": "execute_result"
    }
   ],
   "source": [
    "obj_type = input()\n",
    "doc[\"type\"] = obj_type\n",
    "doc"
   ]
  },
  {
   "cell_type": "markdown",
   "id": "3831c81f",
   "metadata": {},
   "source": [
    "## _label\n",
    "`_label` captures a human readable label as a string, intended for developers or other people reading the data to understand what they are looking at.  Every resource should have exactly one label, and must not have more than one. It is just a string, and does not have a language associated with it -- if multiple languages are available for the content, then implementations can choose which is most likely to be valuable for a developer looking at the data.\n",
    "\n",
    "### Enter a label for the object"
   ]
  },
  {
   "cell_type": "code",
   "execution_count": 5,
   "id": "00c366e9",
   "metadata": {},
   "outputs": [
    {
     "name": "stdout",
     "output_type": "stream",
     "text": [
      "asdf\n"
     ]
    },
    {
     "data": {
      "text/plain": [
       "{'@context': 'https://linked.art/ns/v1/linked-art.json',\n",
       " 'id': 'http://asdf.cmo',\n",
       " 'type': 'sdf',\n",
       " '_label': 'asdf'}"
      ]
     },
     "execution_count": 5,
     "metadata": {},
     "output_type": "execute_result"
    }
   ],
   "source": [
    "label = input()\n",
    "doc[\"_label\"] = label\n",
    "doc"
   ]
  },
  {
   "cell_type": "markdown",
   "id": "c18e770f",
   "metadata": {},
   "source": [
    "## Linked Art JSON-LD"
   ]
  },
  {
   "cell_type": "markdown",
   "id": "0dab7a6c",
   "metadata": {},
   "source": [
    "### Compact Linked Art JSON-LD\n",
    "\n",
    "see: https://json-ld.org/spec/latest/json-ld/#compacted-document-form"
   ]
  },
  {
   "cell_type": "code",
   "execution_count": 6,
   "id": "532284cf",
   "metadata": {},
   "outputs": [
    {
     "data": {
      "text/plain": [
       "{'@context': 'https://linked.art/ns/v1/linked-art.json',\n",
       " 'id': 'http://asdf.cmo',\n",
       " 'type': 'sdf',\n",
       " '_label': 'asdf'}"
      ]
     },
     "execution_count": 6,
     "metadata": {},
     "output_type": "execute_result"
    }
   ],
   "source": [
    "context = { \"@context\": \"https://linked.art/ns/v1/linked-art.json\" }\n",
    "\n",
    "# compact a document according to a particular context\n",
    "# see: https://json-ld.org/spec/latest/json-ld/#compacted-document-form\n",
    "compacted = jsonld.compact(doc,context)\n",
    "\n",
    "compacted"
   ]
  },
  {
   "cell_type": "markdown",
   "id": "b07fd921",
   "metadata": {},
   "source": [
    "### Flattened Linked Art JSON-LD"
   ]
  },
  {
   "cell_type": "code",
   "execution_count": 7,
   "id": "c33afe38",
   "metadata": {},
   "outputs": [
    {
     "name": "stdout",
     "output_type": "stream",
     "text": [
      "[\n",
      "  {\n",
      "    \"@id\": \"http://asdf.cmo\",\n",
      "    \"@type\": [\n",
      "      \"sdf\"\n",
      "    ],\n",
      "    \"http://www.w3.org/2000/01/rdf-schema#label\": [\n",
      "      {\n",
      "        \"@value\": \"asdf\"\n",
      "      }\n",
      "    ]\n",
      "  }\n",
      "]\n"
     ]
    }
   ],
   "source": [
    "flattened = jsonld.flatten(doc)\n",
    "\n",
    "print(json.dumps(flattened, indent=2))"
   ]
  },
  {
   "cell_type": "markdown",
   "id": "786c7fd4",
   "metadata": {},
   "source": [
    "## Linked Art CSV Serialization\n",
    "\n",
    "A tabular serialization of Linked Art JSON-LD can be used with a script by Edward Anderson to transform CSV to Linked Art JSON-LD"
   ]
  },
  {
   "cell_type": "code",
   "execution_count": 8,
   "id": "5584de76",
   "metadata": {},
   "outputs": [
    {
     "data": {
      "text/plain": [
       "{'@context': 'https://linked.art/ns/v1/linked-art.json',\n",
       " 'id': 'http://asdf.cmo',\n",
       " 'type': 'sdf',\n",
       " '_label': 'asdf'}"
      ]
     },
     "execution_count": 8,
     "metadata": {},
     "output_type": "execute_result"
    }
   ],
   "source": [
    "doc"
   ]
  },
  {
   "cell_type": "markdown",
   "id": "8573db9d",
   "metadata": {},
   "source": [
    "### Transform JSON to CSV file "
   ]
  },
  {
   "cell_type": "code",
   "execution_count": 9,
   "id": "7d1b40c5",
   "metadata": {},
   "outputs": [
    {
     "data": {
      "text/html": [
       "<div>\n",
       "<style scoped>\n",
       "    .dataframe tbody tr th:only-of-type {\n",
       "        vertical-align: middle;\n",
       "    }\n",
       "\n",
       "    .dataframe tbody tr th {\n",
       "        vertical-align: top;\n",
       "    }\n",
       "\n",
       "    .dataframe thead th {\n",
       "        text-align: right;\n",
       "    }\n",
       "</style>\n",
       "<table border=\"1\" class=\"dataframe\">\n",
       "  <thead>\n",
       "    <tr style=\"text-align: right;\">\n",
       "      <th></th>\n",
       "      <th>id</th>\n",
       "      <th>type</th>\n",
       "      <th>_label</th>\n",
       "    </tr>\n",
       "  </thead>\n",
       "  <tbody>\n",
       "    <tr>\n",
       "      <th>0</th>\n",
       "      <td>http://asdf.cmo</td>\n",
       "      <td>sdf</td>\n",
       "      <td>asdf</td>\n",
       "    </tr>\n",
       "  </tbody>\n",
       "</table>\n",
       "</div>"
      ],
      "text/plain": [
       "                id type _label\n",
       "0  http://asdf.cmo  sdf   asdf"
      ]
     },
     "execution_count": 9,
     "metadata": {},
     "output_type": "execute_result"
    }
   ],
   "source": [
    "# remove @context for tab serialization\n",
    "del doc[\"@context\"]\n",
    "\n",
    "df = pd.json_normalize(doc)\n",
    "\n",
    "df.to_csv('./data/core_properties.csv')\n",
    "\n",
    "df"
   ]
  },
  {
   "cell_type": "markdown",
   "id": "752c9780",
   "metadata": {},
   "source": [
    "### Transform CSV file to Linked Art JSON-LD"
   ]
  },
  {
   "cell_type": "code",
   "execution_count": 10,
   "id": "9038de37",
   "metadata": {},
   "outputs": [
    {
     "name": "stdout",
     "output_type": "stream",
     "text": [
      "{\r\n",
      "  \"@context\": \"https://linked.art/ns/v1/linked-art.json\",\r\n",
      "  \"id\": \"http://asdf.cmo\",\r\n",
      "  \"type\": \"sdf\",\r\n",
      "  \"_label\": \"asdf\"\r\n",
      "}\r\n"
     ]
    }
   ],
   "source": [
    "!python ./lib/linked_art_csv/linked_art_csv.py data/core_properties.csv"
   ]
  }
 ],
 "metadata": {
  "kernelspec": {
   "display_name": "Python 3",
   "language": "python",
   "name": "python3"
  },
  "language_info": {
   "codemirror_mode": {
    "name": "ipython",
    "version": 3
   },
   "file_extension": ".py",
   "mimetype": "text/x-python",
   "name": "python",
   "nbconvert_exporter": "python",
   "pygments_lexer": "ipython3",
   "version": "3.8.8"
  }
 },
 "nbformat": 4,
 "nbformat_minor": 5
}
