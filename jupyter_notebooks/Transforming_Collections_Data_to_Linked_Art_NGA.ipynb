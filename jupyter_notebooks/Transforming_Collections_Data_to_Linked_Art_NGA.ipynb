{
 "cells": [
  {
   "cell_type": "markdown",
   "id": "11e94730",
   "metadata": {},
   "source": [
    "#  Transforming Collections Data to Linked Art - National Gallery of Art"
   ]
  },
  {
   "cell_type": "markdown",
   "id": "785212c2",
   "metadata": {},
   "source": [
    "## Introduction\n",
    "\n",
    "[Linked Art](https://linked.art) is a community working together to create a shared Model based on Linked Open Data to describe Art. A number of exemplars will be published to demonstrate the processes involved in producing Linked Art JSON-LD, and also the potential applications of Linked Art, on the theme of:\n",
    "- `Transformation` - Documented transformation process - using code, documentation and possibly visualisation\n",
    "- `Reconciliation` - Documented reconciliation process - matching data with an external identifier source\n",
    "- `Visualisation` - Documented transformation of Linked Art JSON-LD to data visualisation\n",
    "\n",
    "This exemplar is concerned with `Transformation` - the transformation process, from collections data to Linked Art JSON-LD."
   ]
  },
  {
   "cell_type": "markdown",
   "id": "c0e616a9",
   "metadata": {},
   "source": [
    "## Aim of the Notebook\n",
    "The aim of the notebook is to demonstrate how easy it is to transform collections data to Linked Art JSON-LD.\n",
    "## How\n",
    "The notebook provides a documented, interactive code example of the transformation process, from collections data to Linked Art using data from the National Gallery of Art (NGA). \n",
    "\n",
    "## Input Data\n",
    "The input data file is from https://github.com/NationalGalleryOfArt/opendata/tree/main/data\n",
    "\n",
    "## Attribution\n",
    "\n",
    "- The Linked Art data model documentation has been sourced from the [Linked Art website](https://linked.art)"
   ]
  },
  {
   "cell_type": "markdown",
   "id": "270dddcf",
   "metadata": {},
   "source": [
    "## Transformation Steps\n",
    "\n",
    "### 1. Import What We Need for Notebook\n",
    "- Import Python libraries"
   ]
  },
  {
   "cell_type": "code",
   "execution_count": 71,
   "id": "e14c71a3",
   "metadata": {},
   "outputs": [],
   "source": [
    "try:\n",
    "    import json\n",
    "except:\n",
    "    !pip install json\n",
    "    import json \n",
    "    \n",
    "try:\n",
    "    import requests\n",
    "except:\n",
    "    !pip install requests\n",
    "    import requests\n",
    "\n",
    "        \n",
    "#  baseURI for JSON-LD document\n",
    "baseURI = \"https://www.nga.gov/collection/\""
   ]
  },
  {
   "cell_type": "markdown",
   "id": "91b86264",
   "metadata": {},
   "source": [
    "### 2. Parse CSV File"
   ]
  },
  {
   "cell_type": "code",
   "execution_count": 51,
   "id": "f271df6c",
   "metadata": {},
   "outputs": [],
   "source": [
    "\n",
    "    desc = {}\n",
    "    id = obj[\"objectid\"]\n",
    "    irn = obj[\"accessionnum\"]\n",
    "    department  = obj[\"departmentabbr\"]\n",
    "    title = obj[\"title\"]\n",
    "    datecreated = obj[\"displaydate\"]\n",
    "    medium = obj[\"medium\"]\n",
    "    classification = obj[\"classification\"]\n",
    "    attribution = obj[\"attribution\"]\n",
    "    credit_line = obj[\"creditline\"]\n",
    "    titAccessionNo = obj[\"accessionnum\"]\n",
    "    provenance = \"\"\n",
    "    earliestdate = obj[\"beginyear\"] \n",
    "    latestdate = obj[\"endyear\"]\n",
    "    "
   ]
  },
  {
   "cell_type": "code",
   "execution_count": 52,
   "id": "e1c91453",
   "metadata": {},
   "outputs": [],
   "source": [
    "import csv\n",
    "\n",
    "def getAllObjects(file):\n",
    "    #remove BOM\n",
    "    s = open(file, mode='r', encoding='utf-8-sig').read()\n",
    "    open(file, mode='w', encoding='utf-8').write(s)\n",
    "    allObjects = csv.DictReader(open(file, mode='r',encoding='utf-8'))\n",
    "    all = []\n",
    "    for obj in allObjects:\n",
    "        id = obj[\"objectid\"]\n",
    "        all.append(obj)  \n",
    "    return all\n",
    "\n",
    "\n",
    "file = \"./data/nga/input/objects.csv\"\n",
    "\n",
    "allObjects = getAllObjects(file)"
   ]
  },
  {
   "cell_type": "code",
   "execution_count": null,
   "id": "cfe6bb85",
   "metadata": {},
   "outputs": [],
   "source": []
  },
  {
   "cell_type": "code",
   "execution_count": 67,
   "id": "ce9d5902",
   "metadata": {},
   "outputs": [],
   "source": [
    "all_linkedart = {}\n",
    "\n",
    "for obj in allObjects:\n",
    "    irn = obj[\"objectid\"]\n",
    "    core = getObjDesc(obj, \"core\")\n",
    "    all_linkedart[irn] = core \n",
    "    \n",
    "    #identifiers\n",
    "    id = getObjDesc(obj, \"id\")\n",
    "    all_linkedart[irn].update(id)\n",
    "    \n",
    "    #names\n",
    "    desc = getObjDesc(obj, \"names\")\n",
    "    all_linkedart[irn].update(desc) \n",
    "    \n",
    "    #classification\n",
    "    desc = getObjDesc(obj, \"class\")\n",
    "    if \"classified_as\" in list(desc.keys()):\n",
    "        all_linkedart[irn].update(desc)\n",
    "      \n",
    "    # homepage\n",
    "    #desc = getObjDesc(obj, \"home\")\n",
    "    #all_linkedart[irn].update(desc) \n",
    "    \n",
    "    # location\n",
    "   # desc = getObjDesc(obj, \"location\")\n",
    "   # all_linkedart[irn].update(desc) \n",
    "    \n",
    "    # linguistic objects\n",
    "    desc = getObjDesc(obj, \"ling\")\n",
    "    all_linkedart[irn].update(desc) \n",
    "    \n",
    "    # production\n",
    "    desc = getObjDesc(obj, \"production\") \n",
    "    all_linkedart[irn].update(desc) \n",
    "    \n",
    "    # ownership\n",
    "   # desc = getObjDesc(obj, \"owner\")\n",
    "   # all_linkedart[irn].update(desc)  \n",
    "    \n",
    "    #custody\n",
    "   # desc = getObjDesc(obj, \"custody\")\n",
    "   # if \"current_keeper\" in list(desc.keys()):\n",
    "   #     all_linkedart[irn].update(desc)  \n",
    "    \n",
    "    # member \n",
    "  #  desc = getObjDesc(obj, \"member\")\n",
    "  #  all_linkedart[irn].update(desc) "
   ]
  },
  {
   "cell_type": "markdown",
   "id": "eddabdac",
   "metadata": {},
   "source": [
    "### View the final Linked Art JSON-LD "
   ]
  },
  {
   "cell_type": "code",
   "execution_count": null,
   "id": "d45760a8",
   "metadata": {},
   "outputs": [],
   "source": [
    "for id in all_linkedart:\n",
    "    text_file = open(\"./data/nga/output/json/all/\" + id + \".json\", \"w\")\n",
    "    n = text_file.write(json.dumps(all_linkedart[id], indent=2))\n",
    "    text_file.close()"
   ]
  }
 ],
 "metadata": {
  "interpreter": {
   "hash": "31f2aee4e71d21fbe5cf8b01ff0e069b9275f58929596ceb00d14d90e3e16cd6"
  },
  "kernelspec": {
   "display_name": "Python 3",
   "language": "python",
   "name": "python3"
  },
  "language_info": {
   "codemirror_mode": {
    "name": "ipython",
    "version": 3
   },
   "file_extension": ".py",
   "mimetype": "text/x-python",
   "name": "python",
   "nbconvert_exporter": "python",
   "pygments_lexer": "ipython3",
   "version": "3.8.8"
  }
 },
 "nbformat": 4,
 "nbformat_minor": 5
}
