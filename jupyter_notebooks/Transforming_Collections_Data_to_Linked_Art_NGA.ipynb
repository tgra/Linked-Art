{
 "cells": [
  {
   "cell_type": "markdown",
   "id": "11e94730",
   "metadata": {},
   "source": [
    "#  Transforming Collections Data to Linked Art - National Gallery of Art"
   ]
  },
  {
   "cell_type": "markdown",
   "id": "785212c2",
   "metadata": {},
   "source": [
    "## Introduction\n",
    "\n",
    "[Linked Art](https://linked.art) is a community working together to create a shared Model based on Linked Open Data to describe Art. A number of exemplars will be published to demonstrate the processes involved in producing Linked Art JSON-LD, and also the potential applications of Linked Art, on the theme of:\n",
    "- `Transformation` - Documented transformation process - using code, documentation and possibly visualisation\n",
    "- `Reconciliation` - Documented reconciliation process - matching data with an external identifier source\n",
    "- `Visualisation` - Documented transformation of Linked Art JSON-LD to data visualisation\n",
    "\n",
    "This exemplar is concerned with `Transformation` - the transformation process, from collections data to Linked Art JSON-LD."
   ]
  },
  {
   "cell_type": "markdown",
   "id": "c0e616a9",
   "metadata": {},
   "source": [
    "## Aim of the Notebook\n",
    "The aim of the notebook is to demonstrate how easy it is to transform collections data to Linked Art JSON-LD.\n",
    "## How\n",
    "The notebook provides a documented, interactive code example of the transformation process, from collections data to Linked Art using data from the National Gallery of Art (NGA). \n",
    "\n",
    "## Input Data\n",
    "The input data file is from https://github.com/NationalGalleryOfArt/opendata/tree/main/data\n",
    "\n",
    "## Attribution\n",
    "\n",
    "- The Linked Art data model documentation has been sourced from the [Linked Art website](https://linked.art)"
   ]
  },
  {
   "cell_type": "markdown",
   "id": "270dddcf",
   "metadata": {},
   "source": [
    "## Transformation Steps\n",
    "\n",
    "### 1. Import What We Need for Notebook\n",
    "- Import Python libraries"
   ]
  },
  {
   "cell_type": "code",
   "execution_count": 1,
   "id": "e14c71a3",
   "metadata": {},
   "outputs": [],
   "source": [
    "try:\n",
    "    import json\n",
    "except:\n",
    "    !pip install json\n",
    "    import json \n",
    "    \n",
    "try:\n",
    "    import requests\n",
    "except:\n",
    "    !pip install requests\n",
    "    import requests\n",
    "\n",
    "import cromulent\n",
    "from cromulent.model import factory\n",
    "    \n",
    "from lib import linkedart as la\n",
    "          \n",
    "#  baseURI for JSON-LD document\n",
    "baseURI = \"https://www.nga.gov/collection/\""
   ]
  },
  {
   "cell_type": "code",
   "execution_count": 2,
   "id": "c876bd23",
   "metadata": {},
   "outputs": [
    {
     "name": "stdout",
     "output_type": "stream",
     "text": [
      "{\n",
      "  \"objectid\": \"113260\",\n",
      "  \"accessioned\": \"1\",\n",
      "  \"accessionnum\": \"2000.127.20.1-193\",\n",
      "  \"locationid\": \"\",\n",
      "  \"title\": \"Lithographs, Volume 9\",\n",
      "  \"displaydate\": \"\",\n",
      "  \"beginyear\": \"1804\",\n",
      "  \"endyear\": \"1866\",\n",
      "  \"visualbrowsertimespan\": \"1801 to 1825\",\n",
      "  \"medium\": \"book of lithographs\",\n",
      "  \"dimensions\": \"\",\n",
      "  \"inscription\": \"\",\n",
      "  \"markings\": \"\",\n",
      "  \"attributioninverted\": \"Gavarni, Paul\",\n",
      "  \"attribution\": \"Paul Gavarni\",\n",
      "  \"creditline\": \"Ailsa Mellon Bruce Fund\",\n",
      "  \"classification\": \"Volume\",\n",
      "  \"subclassification\": \"\",\n",
      "  \"visualbrowserclassification\": \"volume\",\n",
      "  \"parentid\": \"\",\n",
      "  \"isvirtual\": \"0\",\n",
      "  \"departmentabbr\": \"CG-E\",\n",
      "  \"portfolio\": \"\",\n",
      "  \"series\": \"\",\n",
      "  \"volume\": \"\",\n",
      "  \"watermarks\": \"\",\n",
      "  \"lastdetectedmodification\": \"2020-05-06 22:01:32.06-04\",\n",
      "  \"customprinturl\": \"\"\n",
      "}\n"
     ]
    }
   ],
   "source": [
    "import csv\n",
    "\n",
    "file = './data/nga/input/objects.csv'\n",
    "\n",
    "\n",
    "#remove BOM\n",
    "s = open(file, mode='r', encoding='utf-8-sig').read()\n",
    "open(file, mode='w', encoding='utf-8').write(s)\n",
    "\n",
    "allObjects = csv.DictReader(open(file, mode='r',encoding='utf-8'))\n",
    "\n",
    "for obj in allObjects:\n",
    "    print(json.dumps(obj,indent=2))\n",
    "    break"
   ]
  },
  {
   "cell_type": "markdown",
   "id": "91b86264",
   "metadata": {},
   "source": [
    "### 2. Parse CSV File"
   ]
  },
  {
   "cell_type": "code",
   "execution_count": null,
   "id": "f271df6c",
   "metadata": {},
   "outputs": [],
   "source": [
    "  \n",
    " mapp =  {\n",
    "    \"id\":\"objectid\",\n",
    "    \"accession_number\":\"accessionnum\",\n",
    "    \"accession_date\": \"\",\n",
    "    \"classification\" : \"classification\",\n",
    "    \"title\": \"title\",\n",
    "    \"alt_title\": \"\",\n",
    "    \"notes\": \"\",\n",
    "    \"date_created\":\"displaydate\",\n",
    "    \"date_created_earliest\": \"beginyear\",\n",
    "    \"date_created_latest\": \"endyear\",\n",
    "    \"created_period\":\"\",\n",
    "    \"created_dynasty\":\"\",\n",
    "    \"created_inscriptions\":\"\",\n",
    "    \"created_notes\": \"\",\n",
    "    \"creator\":\"attribution\",\n",
    "    \"physical_medium\": \"medium\",\n",
    "    \"physical_style\": \"\",\n",
    "    \"physical_technique\": \"\",\n",
    "    \"physical_description\": \"\",\n",
    "    \"physical_dimensions\": \"dimensions\",\n",
    "    \"created_provenance\": \"\" ,\n",
    "    \"credit_line\": \"creditline\",\n",
    "    \"collection\" : \"departmentabbr\",\n",
    "    \"current_status\" : \"\",\n",
    "    \"current_owner\" : \"\"\n",
    "}\n",
    "\n",
    "def createObjProp(obj,mapp):\n",
    "    objProp = {}\n",
    "    csv_keys = list(obj.keys())\n",
    "    for key in csv_keys:\n",
    "        for prop in mapp:\n",
    "            if key == mapp[prop]:\n",
    "                if prop == \"creator\":\n",
    "                    objProp[prop] = {\"name\": obj[key]}\n",
    "                else:\n",
    "                    objProp[prop] = obj[key]\n",
    "    return objProp   "
   ]
  },
  {
   "cell_type": "markdown",
   "id": "bb2e1273",
   "metadata": {},
   "source": [
    "## 4. Build the Linked Art JSON-LD files <a id=\"build\"/>\n",
    "\n",
    "The following steps will transform the catalogue data for all of the artworks to Linked Art JSON-LD. "
   ]
  },
  {
   "cell_type": "code",
   "execution_count": null,
   "id": "99c797ab",
   "metadata": {},
   "outputs": [],
   "source": [
    "for obj in allObjects:\n",
    "    # create object property dictionary\n",
    "    objProp = createObjProp(obj,mapp)\n",
    "\n",
    "    id = obj[mapp.get(\"id\")]\n",
    "    object_uri = baseURI + id\n",
    "    \n",
    "    # create obj description\n",
    "    objLA = la.createObjDesc(obj,mapp,la.objTypes,object_uri)\n",
    "    \n",
    "    # write to file \n",
    "    text_file = open(\"./data/nga/output/json/all/\" + objProp[\"id\"] + \".json\", \"wt\")\n",
    "    n = text_file.write(factory.toString(objLA, compact=False))\n",
    "    text_file.close()"
   ]
  },
  {
   "cell_type": "markdown",
   "id": "eddabdac",
   "metadata": {},
   "source": [
    "### View the final Linked Art JSON-LD "
   ]
  },
  {
   "cell_type": "code",
   "execution_count": null,
   "id": "d45760a8",
   "metadata": {},
   "outputs": [],
   "source": [
    "for id in all_linkedart:\n",
    "    text_file = open(\"./data/nga/output/json/all/\" + id + \".json\", \"w\")\n",
    "    n = text_file.write(json.dumps(all_linkedart[id], indent=2))\n",
    "    text_file.close()"
   ]
  }
 ],
 "metadata": {
  "interpreter": {
   "hash": "31f2aee4e71d21fbe5cf8b01ff0e069b9275f58929596ceb00d14d90e3e16cd6"
  },
  "kernelspec": {
   "display_name": "Python 3",
   "language": "python",
   "name": "python3"
  },
  "language_info": {
   "codemirror_mode": {
    "name": "ipython",
    "version": 3
   },
   "file_extension": ".py",
   "mimetype": "text/x-python",
   "name": "python",
   "nbconvert_exporter": "python",
   "pygments_lexer": "ipython3",
   "version": "3.8.8"
  }
 },
 "nbformat": 4,
 "nbformat_minor": 5
}
