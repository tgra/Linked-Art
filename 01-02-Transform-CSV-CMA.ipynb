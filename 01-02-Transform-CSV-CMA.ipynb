{
 "cells": [
  {
   "cell_type": "markdown",
   "id": "6ddb55b6",
   "metadata": {},
   "source": [
    "#### If you experience slow notebook loading with the Binder service, please try again later, or use a local Jupyter instance."
   ]
  },
  {
   "cell_type": "code",
   "execution_count": 1,
   "id": "d5a29dd1",
   "metadata": {},
   "outputs": [
    {
     "data": {
      "text/html": [
       "\n",
       "<style>\n",
       "div {font-family:Open Sans,sans-serif;}\n",
       "h1 {color:white;background-color: #446a7f;padding:10px}\n",
       "h2{color:black; background-color:#b3b6a0; padding:10px}\n",
       "h3{color:#78BE21; background-color:#446a7f; padding:10px}\n",
       "h4{color:white; background-color:#78BE21;padding:5px}\n",
       ".info{background-color:}\n",
       "\n",
       "img {\n",
       "\n",
       "border: 1px;\n",
       "border-color:black;\n",
       "}\n",
       "</style>\n"
      ],
      "text/plain": [
       "<IPython.core.display.HTML object>"
      ]
     },
     "execution_count": 1,
     "metadata": {},
     "output_type": "execute_result"
    }
   ],
   "source": [
    "from IPython.core.display import HTML\n",
    "HTML(\"\"\"\n",
    "<style>\n",
    "div {font-family:Open Sans,sans-serif;}\n",
    "h1 {color:white;background-color: #446a7f;padding:10px}\n",
    "h2{color:black; background-color:#b3b6a0; padding:10px}\n",
    "h3{color:#78BE21; background-color:#446a7f; padding:10px}\n",
    "h4{color:white; background-color:#78BE21;padding:5px}\n",
    ".info{background-color:}\n",
    "\n",
    "img {\n",
    "\n",
    "border: 1px;\n",
    "border-color:black;\n",
    "}\n",
    "</style>\n",
    "\"\"\")"
   ]
  },
  {
   "cell_type": "markdown",
   "id": "11e94730",
   "metadata": {},
   "source": [
    "#  Collections Data to Linked Art - Cleveland Museum of Art\n",
    "\n",
    "This Jupyter notebook transforms collection data from the Cleveland Museum of Art to a Linked Art representation in a JSON-LD format.\n",
    "\n",
    "## Collection Data\n",
    "\n",
    "The input data file is available from the Cleveland Museum of Art's GitHub repository:\n",
    "https://github.com/ClevelandMuseumArt/openaccess\n",
    "\n",
    "## Transformation Process\n",
    "\n",
    "1. Read CSV file\n",
    "2. Convert CSV file to Python Dictionary\n",
    "3. Create a field mapping between the CSV file fields and the Linked Art data model\n",
    "4. Create an object property dictionary"
   ]
  },
  {
   "cell_type": "code",
   "execution_count": 2,
   "id": "e14c71a3",
   "metadata": {},
   "outputs": [],
   "source": [
    "try:\n",
    "    import IPython\n",
    "except:\n",
    "    !pip install IPython\n",
    "    import IPython   \n",
    "    \n",
    "from IPython.display import display,IFrame,HTML, Javascript\n",
    " \n",
    "try:\n",
    "    import json\n",
    "except:\n",
    "    !pip install json\n",
    "    import json \n",
    "  \n",
    "try:\n",
    "    import csv\n",
    "except:\n",
    "    !pip install csv\n",
    "    import csv\n",
    "    \n",
    "import os\n",
    "\n",
    "try:\n",
    "    import cromulent \n",
    "except:\n",
    "    %pip install cromulent\n",
    "    import cromulent\n",
    "\n",
    "from cromulent.model import factory\n",
    "    \n",
    "from lib import linkedart as la \n",
    "\n",
    "try:\n",
    "    import pandas as pd\n",
    "except:\n",
    "    !pip install pandas\n",
    "    import pandas as pd\n",
    "    \n",
    "    "
   ]
  },
  {
   "cell_type": "markdown",
   "id": "91b86264",
   "metadata": {},
   "source": [
    "### Parse Collection Data CSV File"
   ]
  },
  {
   "cell_type": "code",
   "execution_count": 3,
   "id": "cf022629",
   "metadata": {},
   "outputs": [],
   "source": [
    "file = './data/cma/input/data.csv'\n",
    "mpg = pd.read_csv(file,low_memory=False)\n",
    "# mpg.head()"
   ]
  },
  {
   "cell_type": "markdown",
   "id": "cc6507a6",
   "metadata": {},
   "source": [
    "### Read Collection Data CSV file into Python Dictionary\n",
    "\n",
    "- Remove Byte Order Mark (BOM) from CSV file \n",
    "- Use `csv.DictReader()` to create an object that operates like a regular reader but maps the information in each row to a dict whose keys are given by the optional fieldnames parameter. \n",
    "\n"
   ]
  },
  {
   "cell_type": "code",
   "execution_count": 4,
   "id": "66bad752",
   "metadata": {},
   "outputs": [
    {
     "data": {
      "text/html": [
       "<H3>Example Record in Python Dictionary</H3>"
      ],
      "text/plain": [
       "<IPython.core.display.HTML object>"
      ]
     },
     "metadata": {},
     "output_type": "display_data"
    },
    {
     "name": "stdout",
     "output_type": "stream",
     "text": [
      "{\n",
      "  \"id\": \"74539\",\n",
      "  \"accession_number\": \"2015.449\",\n",
      "  \"share_license_status\": \"CC0\",\n",
      "  \"tombstone\": \"A Miller's Carriage, c. 1895. Albert-Charles Lebourg (French, 1849-1928). Black and white chalk with stumping ; sheet: 33.2 x 49.7 cm (13 1/16 x 19 9/16 in.). The Cleveland Museum of Art, Bequest of Muriel Butkin 2015.449\",\n",
      "  \"current_location\": \"\",\n",
      "  \"title\": \"A Miller's Carriage\",\n",
      "  \"title_in_original_language\": \"\",\n",
      "  \"series\": \"\",\n",
      "  \"series_in_original_language\": \"\",\n",
      "  \"creation_date\": \"c. 1895\",\n",
      "  \"creation_date_earliest\": \"1890\",\n",
      "  \"creation_date_latest\": \"1900\",\n",
      "  \"creators\": \"Albert-Charles Lebourg (French, 1849-1928), artist\",\n",
      "  \"culture\": \"France, 19th-20th century\",\n",
      "  \"technique\": \"Black and white chalk with stumping \",\n",
      "  \"support_materials\": \"gray laid paper\",\n",
      "  \"department\": \"Drawings\",\n",
      "  \"collection\": \"DR - French\",\n",
      "  \"type\": \"Drawing\",\n",
      "  \"measurements\": \"Sheet: 33.2 x 49.7 cm (13 1/16 x 19 9/16 in.)\",\n",
      "  \"state_of_the_work\": \"\",\n",
      "  \"edition_of_the_work\": \"\",\n",
      "  \"creditline\": \"Bequest of Muriel Butkin\",\n",
      "  \"copyright\": \"\",\n",
      "  \"inscriptions\": \"Verso: upper right in green ink: 80355 / circular estate stamp (Lugt 1664b) \",\n",
      "  \"exhibitions\": \" **LEGACY: Exposition de Lebourg, Mus\\u00e9e de Rouen, 1932\",\n",
      "  \"provenance\": \"\",\n",
      "  \"find_spot\": \"\",\n",
      "  \"related_works\": \"\",\n",
      "  \"former_accession_numbers\": \"[]\",\n",
      "  \"fun_fact\": \"\",\n",
      "  \"digital_description\": \"\",\n",
      "  \"wall_description\": \"\",\n",
      "  \"external_resources\": \"{'wikidata': [], 'internet_archive': ['https://archive.org/details/clevelandart-2015.449-a-miller-s-carriage']}\",\n",
      "  \"citations\": \"\",\n",
      "  \"catalogue_raisonne\": \"\",\n",
      "  \"url\": \"https://clevelandart.org/art/2015.449\",\n",
      "  \"image_web\": \"https://openaccess-cdn.clevelandart.org/2015.449/2015.449_web.jpg\",\n",
      "  \"image_print\": \"https://openaccess-cdn.clevelandart.org/2015.449/2015.449_print.jpg\",\n",
      "  \"image_full\": \"https://openaccess-cdn.clevelandart.org/2015.449/2015.449_full.tif\",\n",
      "  \"updated_at\": \"2021-06-29 06:35:50.572000\"\n",
      "}\n"
     ]
    }
   ],
   "source": [
    "# remove BOM see - https://stackoverflow.com/questions/8898294/convert-utf-8-with-bom-to-utf-8-with-no-bom-in-python\n",
    "s = open(file, mode='r', encoding='utf-8-sig').read()\n",
    "open(file, mode='w', encoding='utf-8').write(s)\n",
    "\n",
    "# open file and read into Python dictionary\n",
    "allObjects = csv.DictReader(open(file, mode='r',encoding='utf-8'))\n",
    "\n",
    "display(HTML(\"<H3>Example Record in Python Dictionary</H3>\"))\n",
    "for obj in allObjects:\n",
    "    print(json.dumps(obj,indent=2))\n",
    "    break  "
   ]
  },
  {
   "cell_type": "markdown",
   "id": "cd9db577",
   "metadata": {},
   "source": [
    "#### Further Reading \n",
    "\n",
    "- Python CSV https://docs.python.org/3/library/csv.html\n",
    "- Byte Order Mark https://en.wikipedia.org/wiki/Byte_order_mark"
   ]
  },
  {
   "cell_type": "markdown",
   "id": "db2ff2f8",
   "metadata": {},
   "source": [
    "### Create field mapping"
   ]
  },
  {
   "cell_type": "code",
   "execution_count": 5,
   "id": "f137b0c6",
   "metadata": {},
   "outputs": [],
   "source": [
    "\n",
    "\n",
    "\n",
    "mapp =  {\n",
    "    \"id\":\"id\",\n",
    "    \"accession_number\":\"accession_number\",\n",
    "    \"accession_date\": \"\",\n",
    "    \"classification\" : \"type\",\n",
    "    \"title\": \"title\",\n",
    "    \"alt_title\": \"title_in_original_language\",\n",
    "    \"notes\": \"tombstone\",\n",
    "    \"date_created\":\"creation_date\",\n",
    "    \"date_created_earliest\": \"creation_date_earliest\",\n",
    "    \"date_created_latest\": \"creation_date_latest\",\n",
    "    \"created_period\":\"culture\",\n",
    "    \"created_dynasty\":\"\",\n",
    "    \"created_inscriptions\":\"inscriptions\",\n",
    "    \"created_notes\": \"fun_fact\",\n",
    "    \"creator\":\"creators\",\n",
    "    \"physical_medium\": \"Medium\",\n",
    "    \"physical_style\": \"\",\n",
    "    \"physical_technique\": \"technique\",\n",
    "    \"physical_description\": \"\",\n",
    "    \"physical_dimensions\": \"measurements\",\n",
    "    \"created_provenance\": \"provenance\" ,\n",
    "    \"credit_line\": \"creditline\",\n",
    "    \"collection\" : \"department\",\n",
    "    \"current_status\" : \"current_location\",\n",
    "    \"current_location\": \"current_location\",\n",
    "    \"homepage\": \"url\"\n",
    "    \n",
    "}\n",
    "\n"
   ]
  },
  {
   "cell_type": "markdown",
   "id": "5225bdbd",
   "metadata": {},
   "source": [
    "### Create object property dictionary"
   ]
  },
  {
   "cell_type": "code",
   "execution_count": null,
   "id": "01ef203c",
   "metadata": {},
   "outputs": [],
   "source": [
    "def createObjProp(obj,mapp):\n",
    "    objProp = {}\n",
    "    csv_keys = list(obj.keys())\n",
    "    for key in csv_keys:\n",
    "        for prop in mapp:\n",
    "            if key == mapp[prop]:\n",
    "                if prop == \"creator\":\n",
    "                    objProp[prop] = {\"name\": obj[key]}\n",
    "                else:\n",
    "                    objProp[prop] = obj[key]\n",
    "    \n",
    "    objProp[\"current_owner\"] = {\"name\":\"Cleveland Museum of Art\",\n",
    "                                \"location\":\"Cleveland,Ohio\",\n",
    "                                \"type\": \"http://vocab.getty.edu/aat/300312281\" ,\n",
    "                                \"type_label\": \"\"}\n",
    "    return objProp\n",
    "\n",
    "\n",
    "#  baseURI for JSON-LD document\n",
    "baseURI = \"https://clevelandart.org/art/\"\n",
    "\n",
    "\n",
    "for obj in allObjects:\n",
    "    objProp = createObjProp(obj,mapp)\n",
    "    id = obj[mapp.get(\"id\")]\n",
    "    object_uri = baseURI + id\n",
    "    \n",
    "    objLA = None\n",
    "    objLA = la.createObjDesc(objProp,la.objTypes,object_uri)\n",
    "    # write to file \n",
    "    text_file = open(\"./data/cma/output/json/all/\" + id + \".json\", \"wt\")\n",
    "    n = text_file.write(factory.toString(objLA, compact=False))\n",
    "    text_file.close()"
   ]
  },
  {
   "cell_type": "code",
   "execution_count": null,
   "id": "27b2578d",
   "metadata": {},
   "outputs": [],
   "source": [
    "from IPython.display import display,HTML,Javascript\n",
    "HTML('<h1>Data Visualisation</h1><div id=\"example\" style=\"width:3000px;height:100%\"/>')"
   ]
  },
  {
   "cell_type": "code",
   "execution_count": null,
   "id": "d3c03776",
   "metadata": {},
   "outputs": [],
   "source": [
    "from IPython.core.display import Javascript\n",
    "\n",
    "code2 = \"var file = './data/cma/output/json/all/\" + id + \".json';\"\\\n",
    "        \"var selector = '#example';\" \\\n",
    "        \"visjsonld(file, selector); \"  \n",
    "\n",
    "with open('src/js/visld.js', 'r') as _jscript:\n",
    "    code = _jscript.read() + code2\n",
    "\n",
    "Javascript(code)\n",
    "\n",
    "\n"
   ]
  },
  {
   "cell_type": "code",
   "execution_count": null,
   "id": "6cf3e2db",
   "metadata": {},
   "outputs": [],
   "source": [
    "from IPython.core.display import Javascript, HTML\n",
    "\n",
    "\n",
    "def fn(fpath):       # 1.Get file names from directory\n",
    "    file_list=os.listdir(r\"\" + fpath)\n",
    "    cnt =1 \n",
    "    for file in file_list:\n",
    "        cnt = cnt+1\n",
    "        \n",
    "        display(HTML(\"<a target='_new' href='\" + fpath + file + \"'>\" + file + \"</a>\"))\n",
    "\n",
    "\n",
    "display(HTML(\"<h1>File list</h1><p>Click on a link to view created Linked Art JSON-LD file</p>\"))\n",
    "    \n",
    "fn(\"./data/cma/output/json/all/\")\n",
    "\n",
    "\n",
    "  "
   ]
  }
 ],
 "metadata": {
  "finalized": {
   "timestamp": 1650627649583,
   "trusted": true
  },
  "kernelspec": {
   "display_name": "Python 3",
   "language": "python",
   "name": "python3"
  },
  "language_info": {
   "codemirror_mode": {
    "name": "ipython",
    "version": 3
   },
   "file_extension": ".py",
   "mimetype": "text/x-python",
   "name": "python",
   "nbconvert_exporter": "python",
   "pygments_lexer": "ipython3",
   "version": "3.8.8"
  }
 },
 "nbformat": 4,
 "nbformat_minor": 5
}
