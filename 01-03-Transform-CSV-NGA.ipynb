{
 "cells": [
  {
   "cell_type": "markdown",
   "id": "11e94730",
   "metadata": {},
   "source": [
    "#  Transforming Collections Data to Linked Art \n",
    "## National Gallery of Art"
   ]
  },
  {
   "cell_type": "markdown",
   "id": "270dddcf",
   "metadata": {},
   "source": [
    "## Import What We Need for Notebook\n",
    "See the [Transform Introduction](01-00-Transform-Intro.ipynb) for a description of the Python libraries used"
   ]
  },
  {
   "cell_type": "code",
   "execution_count": 2,
   "id": "e14c71a3",
   "metadata": {},
   "outputs": [],
   "source": [
    "try:\n",
    "    import json\n",
    "except:\n",
    "    !pip install json\n",
    "    import json \n",
    "    \n",
    "try:\n",
    "    import requests\n",
    "except:\n",
    "    !pip install requests\n",
    "    import requests\n",
    "    \n",
    "try:\n",
    "    import cromulent\n",
    "except:\n",
    "    !pip install cromulent\n",
    "    import cromulent\n",
    "    \n",
    "import csv\n",
    "\n",
    "from cromulent.model import factory\n",
    "    \n",
    "from lib import linkedart as la\n"
   ]
  },
  {
   "cell_type": "markdown",
   "id": "c0e616a9",
   "metadata": {},
   "source": [
    "## Input Data\n",
    "The input data file is from https://github.com/NationalGalleryOfArt/opendata/tree/main/data"
   ]
  },
  {
   "cell_type": "code",
   "execution_count": 3,
   "id": "c876bd23",
   "metadata": {},
   "outputs": [
    {
     "name": "stdout",
     "output_type": "stream",
     "text": [
      "{\n",
      "  \"objectid\": \"113260\",\n",
      "  \"accessioned\": \"1\",\n",
      "  \"accessionnum\": \"2000.127.20.1-193\",\n",
      "  \"locationid\": \"\",\n",
      "  \"title\": \"Lithographs, Volume 9\",\n",
      "  \"displaydate\": \"\",\n",
      "  \"beginyear\": \"1804\",\n",
      "  \"endyear\": \"1866\",\n",
      "  \"visualbrowsertimespan\": \"1801 to 1825\",\n",
      "  \"medium\": \"book of lithographs\",\n",
      "  \"dimensions\": \"\",\n",
      "  \"inscription\": \"\",\n",
      "  \"markings\": \"\",\n",
      "  \"attributioninverted\": \"Gavarni, Paul\",\n",
      "  \"attribution\": \"Paul Gavarni\",\n",
      "  \"creditline\": \"Ailsa Mellon Bruce Fund\",\n",
      "  \"classification\": \"Volume\",\n",
      "  \"subclassification\": \"\",\n",
      "  \"visualbrowserclassification\": \"volume\",\n",
      "  \"parentid\": \"\",\n",
      "  \"isvirtual\": \"0\",\n",
      "  \"departmentabbr\": \"CG-E\",\n",
      "  \"portfolio\": \"\",\n",
      "  \"series\": \"\",\n",
      "  \"volume\": \"\",\n",
      "  \"watermarks\": \"\",\n",
      "  \"lastdetectedmodification\": \"2020-05-06 22:01:32.06-04\",\n",
      "  \"customprinturl\": \"\"\n",
      "}\n"
     ]
    }
   ],
   "source": [
    "file = './data/nga/input/objects.csv'\n",
    "\n",
    "#remove BOM\n",
    "s = open(file, mode='r', encoding='utf-8-sig').read()\n",
    "open(file, mode='w', encoding='utf-8').write(s)\n",
    "\n",
    "allObjects = csv.DictReader(open(file, mode='r',encoding='utf-8'))\n",
    "\n",
    "for obj in allObjects:\n",
    "    print(json.dumps(obj,indent=2))\n",
    "    break"
   ]
  },
  {
   "cell_type": "markdown",
   "id": "91b86264",
   "metadata": {},
   "source": [
    "## Map fields"
   ]
  },
  {
   "cell_type": "code",
   "execution_count": 4,
   "id": "f271df6c",
   "metadata": {},
   "outputs": [],
   "source": [
    "  \n",
    " mapp =  {\n",
    "    \"id\":\"objectid\",\n",
    "    \"accession_number\":\"accessionnum\",\n",
    "    \"accession_date\": \"\",\n",
    "    \"classification\" : \"classification\",\n",
    "    \"title\": \"title\",\n",
    "    \"alt_title\": \"\",\n",
    "    \"notes\": \"\",\n",
    "    \"date_created\":\"displaydate\",\n",
    "    \"date_created_earliest\": \"beginyear\",\n",
    "    \"date_created_latest\": \"endyear\",\n",
    "    \"created_period\":\"\",\n",
    "    \"created_dynasty\":\"\",\n",
    "    \"created_inscriptions\":\"\",\n",
    "    \"created_notes\": \"\",\n",
    "    \"creator\":\"attribution\",\n",
    "    \"physical_medium\": \"medium\",\n",
    "    \"physical_style\": \"\",\n",
    "    \"physical_technique\": \"\",\n",
    "    \"physical_description\": \"\",\n",
    "    \"physical_dimensions\": \"dimensions\",\n",
    "    \"created_provenance\": \"\" ,\n",
    "    \"credit_line\": \"creditline\",\n",
    "    \"collection\" : \"departmentabbr\",\n",
    "    \"current_status\" : \"\",\n",
    "    \"current_owner\" : \"\"\n",
    "}"
   ]
  },
  {
   "cell_type": "code",
   "execution_count": 6,
   "id": "b1e37226",
   "metadata": {},
   "outputs": [],
   "source": [
    "def createObjProp(obj,mapp):\n",
    "    objProp = {}\n",
    "    csv_keys = list(obj.keys())\n",
    "    for key in csv_keys:\n",
    "        for prop in mapp:\n",
    "            if key == mapp[prop]:\n",
    "                if prop == \"creator\":\n",
    "                    objProp[prop] = {\"name\": obj[key]}\n",
    "                else:\n",
    "                    objProp[prop] = obj[key]\n",
    "    objProp[\"current_owner\"] = {\"name\":\"National Gallery of Art\",\n",
    "                                \"location\":\"Washington, D.C., United States\",\n",
    "                                \"type\": \"http://vocab.getty.edu/aat/300312281\" ,\n",
    "                                \"type_label\": \"\"}\n",
    "    return objProp   "
   ]
  },
  {
   "cell_type": "code",
   "execution_count": 8,
   "id": "99c797ab",
   "metadata": {},
   "outputs": [],
   "source": [
    "#  baseURI for JSON-LD document\n",
    "baseURI = \"https://www.nga.gov/collection/\"\n",
    "\n",
    "for obj in allObjects:\n",
    "    # create object property dictionary\n",
    "    objProp = createObjProp(obj,mapp)\n",
    "\n",
    "    id = objProp[\"id\"]\n",
    "    object_uri = baseURI + id\n",
    "    \n",
    "    # create obj description\n",
    "    objLA = la.createObjDesc(objProp,la.objTypes,object_uri)\n",
    "    \n",
    "    # write to file \n",
    "    text_file = open(\"./data/nga/output/json/all/\" + objProp[\"id\"] + \".json\", \"wt\")\n",
    "    n = text_file.write(factory.toString(objLA, compact=False))\n",
    "    text_file.close()"
   ]
  },
  {
   "cell_type": "code",
   "execution_count": null,
   "id": "498796fb",
   "metadata": {},
   "outputs": [],
   "source": []
  }
 ],
 "metadata": {
  "interpreter": {
   "hash": "31f2aee4e71d21fbe5cf8b01ff0e069b9275f58929596ceb00d14d90e3e16cd6"
  },
  "kernelspec": {
   "display_name": "Python 3",
   "language": "python",
   "name": "python3"
  },
  "language_info": {
   "codemirror_mode": {
    "name": "ipython",
    "version": 3
   },
   "file_extension": ".py",
   "mimetype": "text/x-python",
   "name": "python",
   "nbconvert_exporter": "python",
   "pygments_lexer": "ipython3",
   "version": "3.8.8"
  }
 },
 "nbformat": 4,
 "nbformat_minor": 5
}
