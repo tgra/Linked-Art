{
 "cells": [
  {
   "cell_type": "markdown",
   "id": "c09fa7b0",
   "metadata": {},
   "source": [
    "# Linked Art - Visualisation - John Ruskin\n",
    "\n",
    "This notebook is concerned with a visualisation of artworks represented in Linked Art.\n"
   ]
  },
  {
   "cell_type": "markdown",
   "id": "ab18fe02",
   "metadata": {},
   "source": [
    "## Import What We Need\n",
    "\n",
    "See the [Transform Introduction](01-00-Transform-Intro.ipynb) for a description of the Python libraries used"
   ]
  },
  {
   "cell_type": "code",
   "execution_count": 48,
   "id": "61ab067d",
   "metadata": {},
   "outputs": [],
   "source": [
    "try:\n",
    "    import ipywidgets as widgets\n",
    "except:\n",
    "    !pip install ipywidgets\n",
    "    import ipywidgets as widgets\n",
    "\n",
    "from ipywidgets import Layout\n",
    "from ipywidgets import FileUpload\n",
    "\n",
    "import os\n",
    "\n",
    "\n",
    "try:\n",
    "    import IPython\n",
    "except:\n",
    "    !pip install IPython\n",
    "    import IPython   \n",
    "    \n",
    "from IPython.display import display, IFrame, HTML\n",
    "\n",
    "try:\n",
    "    import xmltodict\n",
    "except:\n",
    "    !pip install xmltodict\n",
    "    import xmltodict\n",
    "\n",
    "try:\n",
    "    import json\n",
    "except:\n",
    "    !pip install json\n",
    "    import json \n",
    "    \n",
    "    \n",
    "try:\n",
    "    import requests\n",
    "except:\n",
    "    !pip install requests\n",
    "    import requests\n",
    "\n",
    "import csv\n",
    "\n",
    "try:\n",
    "    import cromulent \n",
    "except:\n",
    "    !pip install cromulent\n",
    "    import cromulent\n",
    "    \n",
    "from cromulent.model import factory\n",
    "from lib import linkedart as la\n",
    "\n",
    "\n",
    "try:\n",
    "    import pandas as pd\n",
    "except:\n",
    "    !pip install pandas\n",
    "    import pandas as pd\n"
   ]
  },
  {
   "cell_type": "code",
   "execution_count": 11,
   "id": "25c066fb",
   "metadata": {},
   "outputs": [],
   "source": [
    "def fn():       # 1.Get file names from directory\n",
    "    file_list=os.listdir(r\"./data/ruskin/output/json\")\n",
    "   \n",
    "    for file in file_list:\n",
    "        display(HTML(\"<a target='_new' href='./data/ruskin/output/json/\" + file +\"'>\" + file + \"</a>\"))\n",
    "\n",
    "\n",
    "outputdir = \"./data/ruskin/output/json\""
   ]
  },
  {
   "cell_type": "markdown",
   "id": "50354532",
   "metadata": {},
   "source": [
    "### National Gallery of Art\n",
    "\n",
    "- [data file](./data/nga/input/nga_ruskin.csv)"
   ]
  },
  {
   "cell_type": "code",
   "execution_count": 38,
   "id": "f6b866a4",
   "metadata": {},
   "outputs": [
    {
     "data": {
      "text/html": [
       "<div>\n",
       "<style scoped>\n",
       "    .dataframe tbody tr th:only-of-type {\n",
       "        vertical-align: middle;\n",
       "    }\n",
       "\n",
       "    .dataframe tbody tr th {\n",
       "        vertical-align: top;\n",
       "    }\n",
       "\n",
       "    .dataframe thead th {\n",
       "        text-align: right;\n",
       "    }\n",
       "</style>\n",
       "<table border=\"1\" class=\"dataframe\">\n",
       "  <thead>\n",
       "    <tr style=\"text-align: right;\">\n",
       "      <th></th>\n",
       "      <th>objectid</th>\n",
       "      <th>accessioned</th>\n",
       "      <th>accessionnum</th>\n",
       "      <th>locationid</th>\n",
       "      <th>title</th>\n",
       "      <th>displaydate</th>\n",
       "      <th>beginyear</th>\n",
       "      <th>endyear</th>\n",
       "      <th>visualbrowsertimespan</th>\n",
       "      <th>medium</th>\n",
       "      <th>...</th>\n",
       "      <th>visualbrowserclassification</th>\n",
       "      <th>parentid</th>\n",
       "      <th>isvirtual</th>\n",
       "      <th>departmentabbr</th>\n",
       "      <th>portfolio</th>\n",
       "      <th>series</th>\n",
       "      <th>volume</th>\n",
       "      <th>watermarks</th>\n",
       "      <th>lastdetectedmodification</th>\n",
       "      <th>customprinturl</th>\n",
       "    </tr>\n",
       "  </thead>\n",
       "  <tbody>\n",
       "    <tr>\n",
       "      <th>0</th>\n",
       "      <td>70238</td>\n",
       "      <td>1</td>\n",
       "      <td>1987.73.2</td>\n",
       "      <td>NaN</td>\n",
       "      <td>Tower of the Cathedral at Sens</td>\n",
       "      <td>c. 1845</td>\n",
       "      <td>1845</td>\n",
       "      <td>1845</td>\n",
       "      <td>1826 to 1850</td>\n",
       "      <td>pen and brown ink, brush and black ink, black ...</td>\n",
       "      <td>...</td>\n",
       "      <td>drawing</td>\n",
       "      <td>NaN</td>\n",
       "      <td>0</td>\n",
       "      <td>CG-E</td>\n",
       "      <td>NaN</td>\n",
       "      <td>NaN</td>\n",
       "      <td>NaN</td>\n",
       "      <td>NaN</td>\n",
       "      <td>2019-10-28 22:01:34.883-04</td>\n",
       "      <td>NaN</td>\n",
       "    </tr>\n",
       "    <tr>\n",
       "      <th>1</th>\n",
       "      <td>70367</td>\n",
       "      <td>1</td>\n",
       "      <td>1988.20.38</td>\n",
       "      <td>NaN</td>\n",
       "      <td>Tree Study</td>\n",
       "      <td>mid-1850s</td>\n",
       "      <td>1845</td>\n",
       "      <td>1855</td>\n",
       "      <td>1826 to 1850</td>\n",
       "      <td>pen and black ink with blue-gray and gray wash...</td>\n",
       "      <td>...</td>\n",
       "      <td>drawing</td>\n",
       "      <td>NaN</td>\n",
       "      <td>0</td>\n",
       "      <td>CG-E</td>\n",
       "      <td>NaN</td>\n",
       "      <td>NaN</td>\n",
       "      <td>NaN</td>\n",
       "      <td>NaN</td>\n",
       "      <td>2020-04-10 22:01:40.093-04</td>\n",
       "      <td>NaN</td>\n",
       "    </tr>\n",
       "    <tr>\n",
       "      <th>2</th>\n",
       "      <td>72870</td>\n",
       "      <td>1</td>\n",
       "      <td>1991.88.1</td>\n",
       "      <td>NaN</td>\n",
       "      <td>The Garden of San Miniato near Florence</td>\n",
       "      <td>1845</td>\n",
       "      <td>1845</td>\n",
       "      <td>1845</td>\n",
       "      <td>1826 to 1850</td>\n",
       "      <td>watercolor and pen and black ink, heightened w...</td>\n",
       "      <td>...</td>\n",
       "      <td>drawing</td>\n",
       "      <td>NaN</td>\n",
       "      <td>0</td>\n",
       "      <td>CG-E</td>\n",
       "      <td>NaN</td>\n",
       "      <td>NaN</td>\n",
       "      <td>NaN</td>\n",
       "      <td>NaN</td>\n",
       "      <td>2019-10-28 22:01:34.883-04</td>\n",
       "      <td>NaN</td>\n",
       "    </tr>\n",
       "    <tr>\n",
       "      <th>3</th>\n",
       "      <td>76140</td>\n",
       "      <td>1</td>\n",
       "      <td>1995.52.158</td>\n",
       "      <td>NaN</td>\n",
       "      <td>Ornamental Study with Acanthus Motif for \"The ...</td>\n",
       "      <td>1849</td>\n",
       "      <td>1849</td>\n",
       "      <td>1849</td>\n",
       "      <td>1826 to 1850</td>\n",
       "      <td>pen and brown ink with watercolor and graphite...</td>\n",
       "      <td>...</td>\n",
       "      <td>drawing</td>\n",
       "      <td>NaN</td>\n",
       "      <td>0</td>\n",
       "      <td>CG-E</td>\n",
       "      <td>NaN</td>\n",
       "      <td>NaN</td>\n",
       "      <td>NaN</td>\n",
       "      <td>NaN</td>\n",
       "      <td>2019-10-28 22:01:34.883-04</td>\n",
       "      <td>NaN</td>\n",
       "    </tr>\n",
       "  </tbody>\n",
       "</table>\n",
       "<p>4 rows × 28 columns</p>\n",
       "</div>"
      ],
      "text/plain": [
       "   objectid  accessioned accessionnum  locationid  \\\n",
       "0     70238            1    1987.73.2         NaN   \n",
       "1     70367            1   1988.20.38         NaN   \n",
       "2     72870            1    1991.88.1         NaN   \n",
       "3     76140            1  1995.52.158         NaN   \n",
       "\n",
       "                                               title displaydate  beginyear  \\\n",
       "0                     Tower of the Cathedral at Sens     c. 1845       1845   \n",
       "1                                         Tree Study   mid-1850s       1845   \n",
       "2            The Garden of San Miniato near Florence        1845       1845   \n",
       "3  Ornamental Study with Acanthus Motif for \"The ...        1849       1849   \n",
       "\n",
       "   endyear visualbrowsertimespan  \\\n",
       "0     1845          1826 to 1850   \n",
       "1     1855          1826 to 1850   \n",
       "2     1845          1826 to 1850   \n",
       "3     1849          1826 to 1850   \n",
       "\n",
       "                                              medium  ...  \\\n",
       "0  pen and brown ink, brush and black ink, black ...  ...   \n",
       "1  pen and black ink with blue-gray and gray wash...  ...   \n",
       "2  watercolor and pen and black ink, heightened w...  ...   \n",
       "3  pen and brown ink with watercolor and graphite...  ...   \n",
       "\n",
       "  visualbrowserclassification parentid  isvirtual departmentabbr portfolio  \\\n",
       "0                     drawing      NaN          0           CG-E       NaN   \n",
       "1                     drawing      NaN          0           CG-E       NaN   \n",
       "2                     drawing      NaN          0           CG-E       NaN   \n",
       "3                     drawing      NaN          0           CG-E       NaN   \n",
       "\n",
       "  series volume  watermarks    lastdetectedmodification  customprinturl  \n",
       "0    NaN    NaN         NaN  2019-10-28 22:01:34.883-04             NaN  \n",
       "1    NaN    NaN         NaN  2020-04-10 22:01:40.093-04             NaN  \n",
       "2    NaN    NaN         NaN  2019-10-28 22:01:34.883-04             NaN  \n",
       "3    NaN    NaN         NaN  2019-10-28 22:01:34.883-04             NaN  \n",
       "\n",
       "[4 rows x 28 columns]"
      ]
     },
     "execution_count": 38,
     "metadata": {},
     "output_type": "execute_result"
    }
   ],
   "source": [
    "\n",
    "#  baseURI for JSON-LD document\n",
    "baseURI = \"https://www.nga.gov/collection/\"\n",
    "file = 'data/nga/input/nga_ruskin.csv'\n",
    "mpg = pd.read_csv(file)\n",
    "mpg.head()"
   ]
  },
  {
   "cell_type": "code",
   "execution_count": 41,
   "id": "fbb40f16",
   "metadata": {},
   "outputs": [],
   "source": [
    "\n",
    "\n",
    "#remove BOM\n",
    "s = open(file, mode='r', encoding='utf-8-sig').read()\n",
    "open(file, mode='w', encoding='utf-8').write(s)\n",
    "\n",
    "mapp_nga =  {\n",
    "    \"id\":\"objectid\",\n",
    "    \"accession_number\":\"accessionnum\",\n",
    "    \"accession_date\": \"\",\n",
    "    \"classification\" : \"classification\",\n",
    "    \"title\": \"title\",\n",
    "    \"alt_title\": \"\",\n",
    "    \"notes\": \"\",\n",
    "    \"date_created\":\"displaydate\",\n",
    "    \"date_created_earliest\": \"beginyear\",\n",
    "    \"date_created_latest\": \"endyear\",\n",
    "    \"created_period\":\"\",\n",
    "    \"created_dynasty\":\"\",\n",
    "    \"created_inscriptions\":\"\",\n",
    "    \"created_notes\": \"\",\n",
    "    \"created_provenance\" : \"\",\n",
    "    \"creator\":\"attribution\",\n",
    "    \"physical_medium\": \"medium\",\n",
    "    \"physical_style\": \"\",\n",
    "    \"physical_technique\": \"\",\n",
    "    \"physical_description\": \"\",\n",
    "    \"physical_dimensions\": \"dimensions\",\n",
    "    \"created_provenance\": \"\" ,\n",
    "    \"credit_line\": \"creditline\",\n",
    "    \"collection\" : \"departmentabbr\",\n",
    "    \"current_status\" : \"\",\n",
    "    \"current_owner\" : \"\"\n",
    "}\n",
    "\n",
    "def createObjProp(obj,mapp):\n",
    "    objProp = {}\n",
    "    csv_keys = list(obj.keys())\n",
    "    for key in csv_keys:\n",
    "        for prop in mapp:\n",
    "            if key == mapp[prop]:\n",
    "                if prop == \"creator\":\n",
    "                    objProp[prop] = [{\"name\": obj[key]}]\n",
    "                else:\n",
    "                    objProp[prop] = obj[key]\n",
    "    return objProp   \n",
    "\n",
    "    \n",
    "allObjects = csv.DictReader(open(file, mode='r',encoding='utf-8'))\n",
    "\n",
    "for obj in allObjects:\n",
    "    # create object property dictionary\n",
    "    objProp = createObjProp(obj,mapp_nga)\n",
    "    id = objProp[\"id\"]\n",
    "    object_uri = baseURI + id\n",
    "    \n",
    "    # create obj description\n",
    "    objLA = la.createObjDesc(objProp,la.objTypes,object_uri)\n",
    "\n",
    "    # write to file \n",
    "    text_file = open(outputdir + \"/\" + objProp[\"id\"] + \".json\", \"wt\")\n",
    "    n = text_file.write(factory.toString(objLA, compact=False))\n",
    "    text_file.close()"
   ]
  },
  {
   "cell_type": "markdown",
   "id": "d588ad01",
   "metadata": {},
   "source": [
    "### Cleveland Museum of Art \n",
    "http://www.clevelandart.org/\n",
    "- Download CSV file from GitHub https://github.com/ClevelandMuseumArt/openaccess\n",
    "- View file with OpenRefine https://openrefine.org/\n",
    "- Create a text facet for the Creator field to identify artworks by John Ruskin\n",
    "- Export this subset of records (1 record found)\n",
    "- [data file](./data/cma/input/ruskin.csv) \n"
   ]
  },
  {
   "cell_type": "code",
   "execution_count": 42,
   "id": "05a28564",
   "metadata": {},
   "outputs": [
    {
     "data": {
      "text/html": [
       "<div>\n",
       "<style scoped>\n",
       "    .dataframe tbody tr th:only-of-type {\n",
       "        vertical-align: middle;\n",
       "    }\n",
       "\n",
       "    .dataframe tbody tr th {\n",
       "        vertical-align: top;\n",
       "    }\n",
       "\n",
       "    .dataframe thead th {\n",
       "        text-align: right;\n",
       "    }\n",
       "</style>\n",
       "<table border=\"1\" class=\"dataframe\">\n",
       "  <thead>\n",
       "    <tr style=\"text-align: right;\">\n",
       "      <th></th>\n",
       "      <th>id</th>\n",
       "      <th>accession_number</th>\n",
       "      <th>share_license_status</th>\n",
       "      <th>tombstone</th>\n",
       "      <th>current_location</th>\n",
       "      <th>title</th>\n",
       "      <th>title_in_original_language</th>\n",
       "      <th>series</th>\n",
       "      <th>series_in_original_language</th>\n",
       "      <th>creation_date</th>\n",
       "      <th>...</th>\n",
       "      <th>digital_description</th>\n",
       "      <th>wall_description</th>\n",
       "      <th>external_resources</th>\n",
       "      <th>citations</th>\n",
       "      <th>catalogue_raisonne</th>\n",
       "      <th>url</th>\n",
       "      <th>image_web</th>\n",
       "      <th>image_print</th>\n",
       "      <th>image_full</th>\n",
       "      <th>updated_at</th>\n",
       "    </tr>\n",
       "  </thead>\n",
       "  <tbody>\n",
       "    <tr>\n",
       "      <th>0</th>\n",
       "      <td>154494</td>\n",
       "      <td>1989.14</td>\n",
       "      <td>CC0</td>\n",
       "      <td>Budding Sycamore, c. 1876. John Ruskin (Britis...</td>\n",
       "      <td>NaN</td>\n",
       "      <td>Budding Sycamore</td>\n",
       "      <td>NaN</td>\n",
       "      <td>NaN</td>\n",
       "      <td>NaN</td>\n",
       "      <td>c. 1876</td>\n",
       "      <td>...</td>\n",
       "      <td>The most influential art critic in Britain dur...</td>\n",
       "      <td>The most influential art critic in Britain dur...</td>\n",
       "      <td>{'wikidata': [], 'internet_archive': []}</td>\n",
       "      <td>Cook, Edward Tyas and Alexander Wedderburn. &lt;e...</td>\n",
       "      <td>NaN</td>\n",
       "      <td>https://clevelandart.org/art/1989.14</td>\n",
       "      <td>https://openaccess-cdn.clevelandart.org/1989.1...</td>\n",
       "      <td>https://openaccess-cdn.clevelandart.org/1989.1...</td>\n",
       "      <td>https://openaccess-cdn.clevelandart.org/1989.1...</td>\n",
       "      <td>2021-03-27 12:16:10.046000</td>\n",
       "    </tr>\n",
       "  </tbody>\n",
       "</table>\n",
       "<p>1 rows × 41 columns</p>\n",
       "</div>"
      ],
      "text/plain": [
       "       id  accession_number share_license_status  \\\n",
       "0  154494           1989.14                  CC0   \n",
       "\n",
       "                                           tombstone  current_location  \\\n",
       "0  Budding Sycamore, c. 1876. John Ruskin (Britis...               NaN   \n",
       "\n",
       "              title  title_in_original_language  series  \\\n",
       "0  Budding Sycamore                         NaN     NaN   \n",
       "\n",
       "   series_in_original_language creation_date  ...  \\\n",
       "0                          NaN       c. 1876  ...   \n",
       "\n",
       "                                 digital_description  \\\n",
       "0  The most influential art critic in Britain dur...   \n",
       "\n",
       "                                    wall_description  \\\n",
       "0  The most influential art critic in Britain dur...   \n",
       "\n",
       "                         external_resources  \\\n",
       "0  {'wikidata': [], 'internet_archive': []}   \n",
       "\n",
       "                                           citations catalogue_raisonne  \\\n",
       "0  Cook, Edward Tyas and Alexander Wedderburn. <e...                NaN   \n",
       "\n",
       "                                    url  \\\n",
       "0  https://clevelandart.org/art/1989.14   \n",
       "\n",
       "                                           image_web  \\\n",
       "0  https://openaccess-cdn.clevelandart.org/1989.1...   \n",
       "\n",
       "                                         image_print  \\\n",
       "0  https://openaccess-cdn.clevelandart.org/1989.1...   \n",
       "\n",
       "                                          image_full  \\\n",
       "0  https://openaccess-cdn.clevelandart.org/1989.1...   \n",
       "\n",
       "                   updated_at  \n",
       "0  2021-03-27 12:16:10.046000  \n",
       "\n",
       "[1 rows x 41 columns]"
      ]
     },
     "execution_count": 42,
     "metadata": {},
     "output_type": "execute_result"
    }
   ],
   "source": [
    "#  baseURI for JSON-LD document\n",
    "baseURI = \"https://clevelandart.org/art/\"\n",
    "file = './data/cma/input/ruskin.csv'\n",
    "mpg = pd.read_csv(file)\n",
    "mpg.head()"
   ]
  },
  {
   "cell_type": "code",
   "execution_count": 43,
   "id": "a76779e6",
   "metadata": {},
   "outputs": [],
   "source": [
    "\n",
    "#remove BOM\n",
    "s = open(file, mode='r', encoding='utf-8-sig').read()\n",
    "open(file, mode='w', encoding='utf-8').write(s)\n",
    "\n",
    "mapp_cma =  {\n",
    "    \"id\":\"id\",\n",
    "    \"accession_number\":\"accession_number\",\n",
    "    \"accession_date\": \"\",\n",
    "    \"classification\" : \"type\",\n",
    "    \"title\": \"title\",\n",
    "    \"alt_title\": \"title_in_original_language\",\n",
    "    \"notes\": \"tombstone\",\n",
    "    \"date_created\":\"creation_date\",\n",
    "    \"date_created_earliest\": \"creation_date_earliest\",\n",
    "    \"date_created_latest\": \"creation_date_latest\",\n",
    "    \"created_period\":\"culture\",\n",
    "    \"created_dynasty\":\"\",\n",
    "    \"created_inscriptions\":\"inscriptions\",\n",
    "    \"created_notes\": \"fun_fact\",\n",
    "    \"creator\":\"creator\",\n",
    "    \"physical_medium\": \"Medium\",\n",
    "    \"physical_style\": \"\",\n",
    "    \"physical_technique\": \"technique\",\n",
    "    \"physical_description\": \"\",\n",
    "    \"physical_dimensions\": \"measurements\",\n",
    "    \"created_provenance\": \"provenance\" ,\n",
    "    \"credit_line\": \"creditline\",\n",
    "    \"collection\" : \"department\",\n",
    "    \"current_status\" : \"current_location\",\n",
    "    \"current_owner\": \"\",\n",
    "    \"creator\": {\"name\": \"John Ruskin\"}\n",
    "    \n",
    "}\n",
    "\n",
    "\n",
    "allObjects = csv.DictReader(open(file, mode='r',encoding='utf-8'))\n",
    "\n",
    "for obj in allObjects:\n",
    "    # create object property dictionary\n",
    "    objProp = createObjProp(obj,mapp_cma)\n",
    "\n",
    "    id = obj[mapp_cma.get(\"id\")]\n",
    "    object_uri = baseURI + id\n",
    "    \n",
    "    # create obj description\n",
    "    objLA = la.createObjDesc(objProp,la.objTypes,object_uri)\n",
    "    \n",
    "    # write to file \n",
    "    text_file = open(outputdir + \"/\" + objProp[\"id\"] + \".json\", \"wt\")\n",
    "    n = text_file.write(factory.toString(objLA, compact=False))\n",
    "    text_file.close()"
   ]
  },
  {
   "cell_type": "markdown",
   "id": "8f40421a",
   "metadata": {},
   "source": [
    "### Philadelphia Museum of Art\n",
    "\n",
    "- [data file](./data/pma/input/pma_ruskin.csv)"
   ]
  },
  {
   "cell_type": "code",
   "execution_count": 44,
   "id": "260bb008",
   "metadata": {},
   "outputs": [
    {
     "data": {
      "text/html": [
       "<div>\n",
       "<style scoped>\n",
       "    .dataframe tbody tr th:only-of-type {\n",
       "        vertical-align: middle;\n",
       "    }\n",
       "\n",
       "    .dataframe tbody tr th {\n",
       "        vertical-align: top;\n",
       "    }\n",
       "\n",
       "    .dataframe thead th {\n",
       "        text-align: right;\n",
       "    }\n",
       "</style>\n",
       "<table border=\"1\" class=\"dataframe\">\n",
       "  <thead>\n",
       "    <tr style=\"text-align: right;\">\n",
       "      <th></th>\n",
       "      <th>Media</th>\n",
       "      <th>Object Number</th>\n",
       "      <th>Department</th>\n",
       "      <th>Classification</th>\n",
       "      <th>Culture</th>\n",
       "      <th>Period</th>\n",
       "      <th>Display Name</th>\n",
       "      <th>Object Name</th>\n",
       "      <th>Title</th>\n",
       "      <th>Dated</th>\n",
       "      <th>Medium</th>\n",
       "      <th>Dimensions</th>\n",
       "      <th>Description</th>\n",
       "      <th>Attribution</th>\n",
       "      <th>AttributionSort</th>\n",
       "      <th>Credit Line</th>\n",
       "    </tr>\n",
       "  </thead>\n",
       "  <tbody>\n",
       "    <tr>\n",
       "      <th>0</th>\n",
       "      <td>0</td>\n",
       "      <td>64-1993-1</td>\n",
       "      <td>PDP</td>\n",
       "      <td>Drawings</td>\n",
       "      <td>NaN</td>\n",
       "      <td>NaN</td>\n",
       "      <td>John Ruskin</td>\n",
       "      <td>Drawings</td>\n",
       "      <td>Study of a River Bank, Beauvais, France</td>\n",
       "      <td>1846</td>\n",
       "      <td>Watercolor</td>\n",
       "      <td>H: 125mm  W: 175mm</td>\n",
       "      <td>NaN</td>\n",
       "      <td>John Ruskin</td>\n",
       "      <td>Ruskin John</td>\n",
       "      <td>NaN</td>\n",
       "    </tr>\n",
       "    <tr>\n",
       "      <th>1</th>\n",
       "      <td>1</td>\n",
       "      <td>01/07/1995</td>\n",
       "      <td>PDP</td>\n",
       "      <td>Drawings</td>\n",
       "      <td>NaN</td>\n",
       "      <td>NaN</td>\n",
       "      <td>John Ruskin</td>\n",
       "      <td>Drawings</td>\n",
       "      <td>Beanstalk</td>\n",
       "      <td>Date unknown</td>\n",
       "      <td>Pen and yellow-brown ink and wash, graphite pe...</td>\n",
       "      <td>Sheet: 7 3/4 x 11 1/8inches (19.7 x 28.3cm)</td>\n",
       "      <td>NaN</td>\n",
       "      <td>John Ruskin</td>\n",
       "      <td>Ruskin John</td>\n",
       "      <td>Purchased with The Herbert &amp; Nannette Rothschi...</td>\n",
       "    </tr>\n",
       "  </tbody>\n",
       "</table>\n",
       "</div>"
      ],
      "text/plain": [
       "   Media Object Number Department Classification  Culture  Period  \\\n",
       "0      0     64-1993-1        PDP       Drawings      NaN     NaN   \n",
       "1      1    01/07/1995        PDP       Drawings      NaN     NaN   \n",
       "\n",
       "  Display Name Object Name                                    Title  \\\n",
       "0  John Ruskin    Drawings  Study of a River Bank, Beauvais, France   \n",
       "1  John Ruskin    Drawings                                Beanstalk   \n",
       "\n",
       "          Dated                                             Medium  \\\n",
       "0          1846                                         Watercolor   \n",
       "1  Date unknown  Pen and yellow-brown ink and wash, graphite pe...   \n",
       "\n",
       "                                    Dimensions  Description  Attribution  \\\n",
       "0                           H: 125mm  W: 175mm          NaN  John Ruskin   \n",
       "1  Sheet: 7 3/4 x 11 1/8inches (19.7 x 28.3cm)          NaN  John Ruskin   \n",
       "\n",
       "  AttributionSort                                        Credit Line  \n",
       "0     Ruskin John                                                NaN  \n",
       "1     Ruskin John  Purchased with The Herbert & Nannette Rothschi...  "
      ]
     },
     "execution_count": 44,
     "metadata": {},
     "output_type": "execute_result"
    }
   ],
   "source": [
    "baseURI = \"https://www.philamuseum.org/collection/object/\"\n",
    "\n",
    "file = './data/pma/input/pma_ruskin.csv'\n",
    "mpg = pd.read_csv(file)\n",
    "mpg.head()"
   ]
  },
  {
   "cell_type": "code",
   "execution_count": 45,
   "id": "c8f8687d",
   "metadata": {},
   "outputs": [],
   "source": [
    "\n",
    "#remove BOM\n",
    "s = open(file, mode='r', encoding='utf-8-sig').read()\n",
    "open(file, mode='w', encoding='utf-8').write(s)\n",
    "\n",
    "mapp_pma =  {\n",
    "    \"id\":\"Object Number\",\n",
    "    \"accession_number\":\"Object Number\",\n",
    "    \"accession_date\": \"\",\n",
    "    \"classification\" : \"Classification\",\n",
    "    \"title\": \"Title\",\n",
    "    \"alt_title\": \"\",\n",
    "    \"notes\": \"\",\n",
    "    \"date_created\":\"Dated\",\n",
    "    \"date_created_earliest\": \"Dated\",\n",
    "    \"date_created_latest\": \"Dated\",\n",
    "    \"created_period\":\"\",\n",
    "    \"created_dynasty\":\"\",\n",
    "    \"created_inscriptions\":\"\",\n",
    "    \"created_notes\": \"\",\n",
    "    \"creator\":\"Attribution\",\n",
    "    \"physical_medium\": \"Medium\",\n",
    "    \"physical_style\": \"\",\n",
    "    \"physical_technique\": \"\",\n",
    "    \"physical_description\": \"\",\n",
    "    \"physical_dimensions\": \"\",\n",
    "    \"created_provenance\": \"\" ,\n",
    "    \"credit_line\": \"Credit Line\",\n",
    "    \"collection\" : \"Department\",\n",
    "    \"current_status\" : \"\",\n",
    "    \"current_owner\": \"\"\n",
    "}\n",
    "\n",
    "\n",
    "allObjects = csv.DictReader(open(file, mode='r',encoding='utf-8'))\n",
    "\n",
    "cnt=0\n",
    "for obj in allObjects:\n",
    "    \n",
    "    cnt=cnt+1\n",
    "    # create object property dictionary\n",
    "    objProp = createObjProp(obj,mapp_pma)\n",
    "    objProp[\"creator\"] = [{\"id\": \"\",\"name\": \"John Ruskin\"}]\n",
    "    \n",
    "    id = \"pma\" + str(cnt)\n",
    "    object_uri = baseURI + id\n",
    "    \n",
    "    # create obj description\n",
    "    objLA = la.createObjDesc(objProp,la.objTypes,object_uri)\n",
    "     \n",
    "    # write to file \n",
    "    text_file = open(outputdir + \"/\" + id + \".json\", \"wt\")\n",
    "    n = text_file.write(factory.toString(objLA, compact=False))\n",
    "    text_file.close()"
   ]
  },
  {
   "cell_type": "markdown",
   "id": "b5d5b83f",
   "metadata": {},
   "source": [
    "## Tate Museum\n",
    "\n",
    "The Tate Museum has three items by John Ruskin in its Collection Online database. JSON format file are available from \n",
    "\n",
    "https://github.com/tategallery/collection\n",
    "\n",
    "### N02726 \n",
    "\n",
    "https://www.tate.org.uk/art/artworks/ruskin-an-olive-spray-and-two-leaf-outlines-n02726 \n",
    "\n",
    "https://raw.githubusercontent.com/tategallery/collection/master/artworks/n/027/n02726-13031.json \n",
    "\n",
    " \n",
    "\n",
    "### N02972 \n",
    "\n",
    "https://www.tate.org.uk/art/artworks/ruskin-the-north-west-angle-of-the-facade-of-st-marks-venice-n02972 \n",
    "\n",
    "https://raw.githubusercontent.com/tategallery/collection/master/artworks/n/029/n02972-13032.json  \n",
    "\n",
    " \n",
    "### N03507 \n",
    "\n",
    "https://www.tate.org.uk/art/artworks/ruskin-view-of-bologna-n03507 \n",
    "\n",
    "https://raw.githubusercontent.com/tategallery/collection/master/artworks/n/035/n03507-13033.json  "
   ]
  },
  {
   "cell_type": "code",
   "execution_count": 51,
   "id": "917a6fb6",
   "metadata": {},
   "outputs": [
    {
     "name": "stdout",
     "output_type": "stream",
     "text": [
      "{\n",
      "  \"id\": 13031,\n",
      "  \"accession_number\": \"N02726\",\n",
      "  \"accession_date\": 1910,\n",
      "  \"classification\": \"on paper, unique\",\n",
      "  \"title\": \"An Olive Spray and Two Leaf Outlines\",\n",
      "  \"alt_title\": \"\",\n",
      "  \"notes\": \"\",\n",
      "  \"date_created\": \"before 1877\",\n",
      "  \"date_created_earliest\": \"\",\n",
      "  \"date_created_latest\": \"\",\n",
      "  \"created_period\": \"\",\n",
      "  \"created_dynasty\": \"\",\n",
      "  \"created_inscriptions\": \"\",\n",
      "  \"created_notes\": \"\",\n",
      "  \"creator\": [\n",
      "    {\n",
      "      \"id\": \"465\",\n",
      "      \"name\": \"John Ruskin\"\n",
      "    }\n",
      "  ],\n",
      "  \"physical_medium\": \"Graphite, watercolour and ink on paper\",\n",
      "  \"physical_style\": \"\",\n",
      "  \"physical_technique\": \"\",\n",
      "  \"physical_description\": \"\",\n",
      "  \"physical_dimensions\": \"support: 375 x 279 mm\",\n",
      "  \"created_provenance\": \"\",\n",
      "  \"credit_line\": \"Presented by Sir Claude Phillips in memory of his sister Eugenie Phillips 1910\",\n",
      "  \"collection\": \"\",\n",
      "  \"current_status\": \"\",\n",
      "  \"current_owner\": {\n",
      "    \"name\": \"Tate Museum\",\n",
      "    \"location\": \"London,England\",\n",
      "    \"type\": \"http://vocab.getty.edu/aat/300312281\",\n",
      "    \"type_label\": \"\"\n",
      "  },\n",
      "  \"image_url\": \"thumbnailUrl\",\n",
      "  \"homepage\": \"url\"\n",
      "}\n",
      "{\n",
      "  \"id\": 13032,\n",
      "  \"accession_number\": \"N02972\",\n",
      "  \"accession_date\": 1914,\n",
      "  \"classification\": \"on paper, unique\",\n",
      "  \"title\": \"The North-West Angle of the Facade of St Mark\\u2019s, Venice\",\n",
      "  \"alt_title\": \"\",\n",
      "  \"notes\": \"\",\n",
      "  \"date_created\": \"date not known\",\n",
      "  \"date_created_earliest\": \"\",\n",
      "  \"date_created_latest\": \"\",\n",
      "  \"created_period\": \"\",\n",
      "  \"created_dynasty\": \"\",\n",
      "  \"created_inscriptions\": \"\",\n",
      "  \"created_notes\": \"\",\n",
      "  \"creator\": [\n",
      "    {\n",
      "      \"id\": \"465\",\n",
      "      \"name\": \"John Ruskin\"\n",
      "    }\n",
      "  ],\n",
      "  \"physical_medium\": \"Watercolour and graphite on paper\",\n",
      "  \"physical_style\": \"\",\n",
      "  \"physical_technique\": \"\",\n",
      "  \"physical_description\": \"\",\n",
      "  \"physical_dimensions\": \"support: 940 x 610 mm\",\n",
      "  \"created_provenance\": \"\",\n",
      "  \"credit_line\": \"Presented by the Art Fund 1914\",\n",
      "  \"collection\": \"\",\n",
      "  \"current_status\": \"\",\n",
      "  \"current_owner\": {\n",
      "    \"name\": \"Tate Museum\",\n",
      "    \"location\": \"London,England\",\n",
      "    \"type\": \"http://vocab.getty.edu/aat/300312281\",\n",
      "    \"type_label\": \"\"\n",
      "  },\n",
      "  \"image_url\": \"thumbnailUrl\",\n",
      "  \"homepage\": \"url\"\n",
      "}\n",
      "{\n",
      "  \"id\": 13033,\n",
      "  \"accession_number\": \"N03507\",\n",
      "  \"accession_date\": 1920,\n",
      "  \"classification\": \"on paper, unique\",\n",
      "  \"title\": \"View of Bologna\",\n",
      "  \"alt_title\": \"\",\n",
      "  \"notes\": \"\",\n",
      "  \"date_created\": \"c.1845\\u20136\",\n",
      "  \"date_created_earliest\": \"\",\n",
      "  \"date_created_latest\": \"\",\n",
      "  \"created_period\": \"\",\n",
      "  \"created_dynasty\": \"\",\n",
      "  \"created_inscriptions\": \"\",\n",
      "  \"created_notes\": \"\",\n",
      "  \"creator\": [\n",
      "    {\n",
      "      \"id\": \"465\",\n",
      "      \"name\": \"John Ruskin\"\n",
      "    }\n",
      "  ],\n",
      "  \"physical_medium\": \"Ink and watercolour on paper\",\n",
      "  \"physical_style\": \"\",\n",
      "  \"physical_technique\": \"\",\n",
      "  \"physical_description\": \"\",\n",
      "  \"physical_dimensions\": \"support: 343 x 489 mm\",\n",
      "  \"created_provenance\": \"\",\n",
      "  \"credit_line\": \"Purchased 1920\",\n",
      "  \"collection\": \"\",\n",
      "  \"current_status\": \"\",\n",
      "  \"current_owner\": {\n",
      "    \"name\": \"Tate Museum\",\n",
      "    \"location\": \"London,England\",\n",
      "    \"type\": \"http://vocab.getty.edu/aat/300312281\",\n",
      "    \"type_label\": \"\"\n",
      "  },\n",
      "  \"image_url\": \"thumbnailUrl\",\n",
      "  \"homepage\": \"url\"\n",
      "}\n"
     ]
    }
   ],
   "source": [
    "fileprefix = \"./data/tate/\"\n",
    "\n",
    "files = (\"n02726-13031.json\", \n",
    "         \"n02972-13032.json\", \n",
    "         \"n03507-13033.json\")\n",
    "\n",
    "baseURI = \"https://www.tate.org.uk/art/artworks/\"\n",
    "\n",
    "mapp_tate =  {\n",
    "    \"id\":\"id\",\n",
    "    \"accession_number\":\"acno\",\n",
    "    \"accession_date\": \"acquisitionYear\",\n",
    "    \"classification\" : \"classification\",\n",
    "    \"title\": \"title\",\n",
    "    \"alt_title\": \"\",\n",
    "    \"notes\": \"\",\n",
    "    \"date_created\":\"dateText\",\n",
    "    \"date_created_earliest\": \"Dated\",\n",
    "    \"date_created_latest\": \"Dated\",\n",
    "    \"created_period\":\"\",\n",
    "    \"created_dynasty\":\"\",\n",
    "    \"created_inscriptions\":\"\",\n",
    "    \"created_notes\": \"\",\n",
    "    \"creator\":\"contributors\",\n",
    "    \"physical_medium\": \"medium\",\n",
    "    \"physical_style\": \"\",\n",
    "    \"physical_technique\": \"\",\n",
    "    \"physical_description\": \"\",\n",
    "    \"physical_dimensions\": \"dimensions\",\n",
    "    \"created_provenance\": \"\" ,\n",
    "    \"credit_line\": \"creditLine\",\n",
    "    \"collection\" : \"Department\",\n",
    "    \"current_status\" : \"\",\n",
    "    \"current_owner\": \"Tate Museum\",\n",
    "    \"image_url\":\"thumbnailUrl\",\n",
    "    \"homepage\" : \"url\"\n",
    "}\n",
    "\n",
    "\n",
    "\n",
    "for file in files:\n",
    "    objProp = {}\n",
    "    with open(fileprefix + file) as json_file:\n",
    "        data = json.load(json_file)\n",
    "        objProp =  {\n",
    "            \"id\": data[\"id\"],\n",
    "            \"accession_number\":data[\"acno\"],\n",
    "            \"accession_date\": data[\"acquisitionYear\"],\n",
    "            \"classification\" : data[\"classification\"],\n",
    "            \"title\": data[\"title\"],\n",
    "            \"alt_title\": \"\",\n",
    "            \"notes\": \"\",\n",
    "            \"date_created\":data[\"dateText\"],\n",
    "            \"date_created_earliest\": \"\",\n",
    "            \"date_created_latest\": \"\",\n",
    "            \"created_period\":\"\",\n",
    "            \"created_dynasty\":\"\",\n",
    "            \"created_inscriptions\":\"\",\n",
    "            \"created_notes\": \"\",\n",
    "            \"creator\":[],\n",
    "            \"physical_medium\": data[\"medium\"],\n",
    "            \"physical_style\": \"\",\n",
    "            \"physical_technique\": \"\",\n",
    "            \"physical_description\": \"\",\n",
    "            \"physical_dimensions\": data[\"dimensions\"],\n",
    "            \"created_provenance\": \"\" ,\n",
    "            \"credit_line\": data[\"creditLine\"],\n",
    "            \"collection\" : \"\",\n",
    "            \"current_status\" : \"\",\n",
    "            \"current_owner\": \"Tate Museum\",\n",
    "            \"image_url\" : \"thumbnailUrl\",\n",
    "            \"homepage\" : \"url\"\n",
    "            }\n",
    "        \n",
    "        creator = data[\"contributors\"]\n",
    "        for contributor in creator:\n",
    "            id = str(contributor[\"id\"])\n",
    "            name = str(contributor[\"fc\"])\n",
    "            objProp[\"creator\"].append({\"id\":id,\"name\":name})\n",
    "            \n",
    "        objProp[\"current_owner\"] = {\"name\":\"Tate Museum\",\n",
    "                                \"location\":\"London,England\",\n",
    "                                \"type\": \"http://vocab.getty.edu/aat/300312281\" ,\n",
    "                                \"type_label\": \"\"}\n",
    "        print(json.dumps(objProp,indent=2))\n",
    "        id = str(objProp[\"id\"])\n",
    "        object_uri = baseURI + str(id)\n",
    "    \n",
    "        # create obj description\n",
    "        objLA = la.createObjDesc(objProp,la.objTypes,object_uri)\n",
    "     \n",
    "        # write to file \n",
    "        text_file = open(outputdir + \"/\" + id + \".json\", \"wt\")\n",
    "        n = text_file.write(factory.toString(objLA, compact=False))\n",
    "        text_file.close()\n",
    "        "
   ]
  },
  {
   "cell_type": "markdown",
   "id": "ddadd2f0",
   "metadata": {},
   "source": [
    "## Harvard Art Museum\n",
    "\n",
    "https://harvardartmuseums.org/collections/person/28419?person=28419\n"
   ]
  },
  {
   "cell_type": "code",
   "execution_count": 62,
   "id": "d546f981",
   "metadata": {},
   "outputs": [],
   "source": [
    "apidocs = \"https://github.com/harvardartmuseums/api-docs\"\n",
    "\n",
    "keyfile = \"data/ruskin/input/key.txt\"\n",
    "key = open(keyfile, mode='r', encoding='utf-8-sig').read()\n",
    "uri = \"https://api.harvardartmuseums.org/object?person=28419&apikey=\" + key\n",
    "\n",
    "for page in range(1, 11):\n",
    "    response = requests.get(uri + \"&page=\" + str(page))\n",
    "    json_data = response.json()\n",
    "   \n",
    "    text_file = open( \"./data/harvard/input/\" + str(page) + \".json\", \"wt\")\n",
    "    n = text_file.write(json.dumps(json_data, indent=2))\n",
    "    text_file.close()\n",
    "    "
   ]
  },
  {
   "cell_type": "markdown",
   "id": "034947fb",
   "metadata": {},
   "source": [
    "### mapping"
   ]
  },
  {
   "cell_type": "code",
   "execution_count": 63,
   "id": "4158fe3f",
   "metadata": {},
   "outputs": [],
   "source": [
    "baseURI = \"https://www.harvardartmuseums.org/collections/object/\"\n",
    "\n",
    "mapp_harvard =  {\n",
    "    \"id\":\"id\",\n",
    "    \"accession_number\":\"objectnumber\",\n",
    "    \"accession_date\": \"accessionyear\",\n",
    "    \"classification\" : \"\",\n",
    "    \"title\": \"title\",\n",
    "    \"alt_title\": \"\",\n",
    "    \"notes\": \"commentary\",\n",
    "    \"date_created\":\"dated\",\n",
    "    \"date_created_earliest\": \"\",\n",
    "    \"date_created_latest\": \"\",\n",
    "    \"created_period\":\"period\",\n",
    "    \"created_dynasty\":\"century\",\n",
    "    \"created_inscriptions\":\"\",\n",
    "    \"created_notes\": \"\",\n",
    "    \"creator\":\"people\",\n",
    "    \"physical_medium\": \"medium\",\n",
    "    \"physical_style\": \"\",\n",
    "    \"physical_technique\": \"technique\",\n",
    "    \"physical_description\": \"description\",\n",
    "    \"physical_dimensions\": \"dimensions\",\n",
    "    \"created_provenance\": \"provenance\" ,\n",
    "    \"credit_line\": \"creditline\",\n",
    "    \"collection\" : \"division\",\n",
    "    \"classification\": \"classification\",\n",
    "    \"current_status\" : \"\",\n",
    "    \"current_owner\": \"Harvard Museum of Art\",\n",
    "    \"image_url\":\"primaryimageurl\",\n",
    "    \"homepage\" : \"url\"\n",
    "}\n",
    "\n",
    "def createObjPropHarvard(obj,mapp):\n",
    "    objProp = {}\n",
    "    csv_keys = list(obj.keys())\n",
    "    for key in csv_keys:\n",
    "        for prop in mapp:\n",
    "            if key == mapp[prop]:\n",
    "                if prop == \"creator\":\n",
    "                    objProp[\"creator\"] = \"\"\n",
    "                    for person in obj[key]:\n",
    "                        \n",
    "                        if \"personid\" in person and person[\"personid\"] == 28419 and person[\"role\"] == \"Artist\": \n",
    "                            objProp[prop] = [{\n",
    "                                \"id\": str(person[\"personid\"]),\n",
    "                                \"name\": person[\"displayname\"],\n",
    "                                }]      \n",
    "                else:\n",
    "                    objProp[prop] = obj[key]\n",
    "    objProp[\"current_owner\"] = {\"name\":\"Harvard Art Museum\",\n",
    "                                \"location\":\"Cambridge, MA\",\n",
    "                                \"type\": \"http://vocab.getty.edu/aat/300312281\" ,\n",
    "                                \"type_label\": \"\"}\n",
    "    return objProp   \n",
    "\n",
    "for x in range(1,11):\n",
    "    \n",
    "    with open(\"./data/harvard/input/\" + str(x) + \".json\") as json_file:\n",
    "        data = json.load(json_file)\n",
    "        for obj in data[\"records\"]:\n",
    "            #print(json.dumps(obj,indent=2))\n",
    "            objProp=createObjPropHarvard(obj,mapp_harvard)\n",
    "            if objProp[\"creator\"] != \"\":\n",
    "                #print(json.dumps(objProp,indent=2))\n",
    "                \n",
    "                id = str(objProp[\"id\"])\n",
    "                object_uri = baseURI + id\n",
    "    \n",
    "                # create obj description\n",
    "                objLA = la.createObjDesc(objProp,la.objTypes,object_uri)\n",
    "                #print(json.dumps(objLA,indent=2))\n",
    "                # write to file \n",
    "                text_file = open(outputdir + \"/\" + id + \".json\", \"wt\")\n",
    "                n = text_file.write(factory.toString(objLA, compact=False))\n",
    "                text_file.close()\n",
    "    \n",
    "    \n",
    "    \n",
    "\n"
   ]
  },
  {
   "cell_type": "markdown",
   "id": "aa511e4f",
   "metadata": {},
   "source": [
    "## Convert JSON file to CSV"
   ]
  },
  {
   "cell_type": "code",
   "execution_count": 64,
   "id": "98bbb823",
   "metadata": {},
   "outputs": [
    {
     "data": {
      "text/html": [
       "<a target='_new' href='./data/ruskin/output/json/298597.json'>298597.json</a>"
      ],
      "text/plain": [
       "<IPython.core.display.HTML object>"
      ]
     },
     "metadata": {},
     "output_type": "display_data"
    },
    {
     "data": {
      "text/html": [
       "<a target='_new' href='./data/ruskin/output/json/298606.json'>298606.json</a>"
      ],
      "text/plain": [
       "<IPython.core.display.HTML object>"
      ]
     },
     "metadata": {},
     "output_type": "display_data"
    },
    {
     "data": {
      "text/html": [
       "<a target='_new' href='./data/ruskin/output/json/299187.json'>299187.json</a>"
      ],
      "text/plain": [
       "<IPython.core.display.HTML object>"
      ]
     },
     "metadata": {},
     "output_type": "display_data"
    },
    {
     "data": {
      "text/html": [
       "<a target='_new' href='./data/ruskin/output/json/13033.json'>13033.json</a>"
      ],
      "text/plain": [
       "<IPython.core.display.HTML object>"
      ]
     },
     "metadata": {},
     "output_type": "display_data"
    },
    {
     "data": {
      "text/html": [
       "<a target='_new' href='./data/ruskin/output/json/303730.json'>303730.json</a>"
      ],
      "text/plain": [
       "<IPython.core.display.HTML object>"
      ]
     },
     "metadata": {},
     "output_type": "display_data"
    },
    {
     "data": {
      "text/html": [
       "<a target='_new' href='./data/ruskin/output/json/293768.json'>293768.json</a>"
      ],
      "text/plain": [
       "<IPython.core.display.HTML object>"
      ]
     },
     "metadata": {},
     "output_type": "display_data"
    },
    {
     "data": {
      "text/html": [
       "<a target='_new' href='./data/ruskin/output/json/298489.json'>298489.json</a>"
      ],
      "text/plain": [
       "<IPython.core.display.HTML object>"
      ]
     },
     "metadata": {},
     "output_type": "display_data"
    },
    {
     "data": {
      "text/html": [
       "<a target='_new' href='./data/ruskin/output/json/262415.json'>262415.json</a>"
      ],
      "text/plain": [
       "<IPython.core.display.HTML object>"
      ]
     },
     "metadata": {},
     "output_type": "display_data"
    },
    {
     "data": {
      "text/html": [
       "<a target='_new' href='./data/ruskin/output/json/298630.json'>298630.json</a>"
      ],
      "text/plain": [
       "<IPython.core.display.HTML object>"
      ]
     },
     "metadata": {},
     "output_type": "display_data"
    },
    {
     "data": {
      "text/html": [
       "<a target='_new' href='./data/ruskin/output/json/298667.json'>298667.json</a>"
      ],
      "text/plain": [
       "<IPython.core.display.HTML object>"
      ]
     },
     "metadata": {},
     "output_type": "display_data"
    },
    {
     "data": {
      "text/html": [
       "<a target='_new' href='./data/ruskin/output/json/298671.json'>298671.json</a>"
      ],
      "text/plain": [
       "<IPython.core.display.HTML object>"
      ]
     },
     "metadata": {},
     "output_type": "display_data"
    },
    {
     "data": {
      "text/html": [
       "<a target='_new' href='./data/ruskin/output/json/298364.json'>298364.json</a>"
      ],
      "text/plain": [
       "<IPython.core.display.HTML object>"
      ]
     },
     "metadata": {},
     "output_type": "display_data"
    },
    {
     "data": {
      "text/html": [
       "<a target='_new' href='./data/ruskin/output/json/299037.json'>299037.json</a>"
      ],
      "text/plain": [
       "<IPython.core.display.HTML object>"
      ]
     },
     "metadata": {},
     "output_type": "display_data"
    },
    {
     "data": {
      "text/html": [
       "<a target='_new' href='./data/ruskin/output/json/298627.json'>298627.json</a>"
      ],
      "text/plain": [
       "<IPython.core.display.HTML object>"
      ]
     },
     "metadata": {},
     "output_type": "display_data"
    },
    {
     "data": {
      "text/html": [
       "<a target='_new' href='./data/ruskin/output/json/298365.json'>298365.json</a>"
      ],
      "text/plain": [
       "<IPython.core.display.HTML object>"
      ]
     },
     "metadata": {},
     "output_type": "display_data"
    },
    {
     "data": {
      "text/html": [
       "<a target='_new' href='./data/ruskin/output/json/298666.json'>298666.json</a>"
      ],
      "text/plain": [
       "<IPython.core.display.HTML object>"
      ]
     },
     "metadata": {},
     "output_type": "display_data"
    },
    {
     "data": {
      "text/html": [
       "<a target='_new' href='./data/ruskin/output/json/298373.json'>298373.json</a>"
      ],
      "text/plain": [
       "<IPython.core.display.HTML object>"
      ]
     },
     "metadata": {},
     "output_type": "display_data"
    },
    {
     "data": {
      "text/html": [
       "<a target='_new' href='./data/ruskin/output/json/296290.json'>296290.json</a>"
      ],
      "text/plain": [
       "<IPython.core.display.HTML object>"
      ]
     },
     "metadata": {},
     "output_type": "display_data"
    },
    {
     "data": {
      "text/html": [
       "<a target='_new' href='./data/ruskin/output/json/262443.json'>262443.json</a>"
      ],
      "text/plain": [
       "<IPython.core.display.HTML object>"
      ]
     },
     "metadata": {},
     "output_type": "display_data"
    },
    {
     "data": {
      "text/html": [
       "<a target='_new' href='./data/ruskin/output/json/298758.json'>298758.json</a>"
      ],
      "text/plain": [
       "<IPython.core.display.HTML object>"
      ]
     },
     "metadata": {},
     "output_type": "display_data"
    },
    {
     "data": {
      "text/html": [
       "<a target='_new' href='./data/ruskin/output/json/262414.json'>262414.json</a>"
      ],
      "text/plain": [
       "<IPython.core.display.HTML object>"
      ]
     },
     "metadata": {},
     "output_type": "display_data"
    },
    {
     "data": {
      "text/html": [
       "<a target='_new' href='./data/ruskin/output/json/297454.json'>297454.json</a>"
      ],
      "text/plain": [
       "<IPython.core.display.HTML object>"
      ]
     },
     "metadata": {},
     "output_type": "display_data"
    },
    {
     "data": {
      "text/html": [
       "<a target='_new' href='./data/ruskin/output/json/pma1.json'>pma1.json</a>"
      ],
      "text/plain": [
       "<IPython.core.display.HTML object>"
      ]
     },
     "metadata": {},
     "output_type": "display_data"
    },
    {
     "data": {
      "text/html": [
       "<a target='_new' href='./data/ruskin/output/json/299485.json'>299485.json</a>"
      ],
      "text/plain": [
       "<IPython.core.display.HTML object>"
      ]
     },
     "metadata": {},
     "output_type": "display_data"
    },
    {
     "data": {
      "text/html": [
       "<a target='_new' href='./data/ruskin/output/json/299186.json'>299186.json</a>"
      ],
      "text/plain": [
       "<IPython.core.display.HTML object>"
      ]
     },
     "metadata": {},
     "output_type": "display_data"
    },
    {
     "data": {
      "text/html": [
       "<a target='_new' href='./data/ruskin/output/json/13032.json'>13032.json</a>"
      ],
      "text/plain": [
       "<IPython.core.display.HTML object>"
      ]
     },
     "metadata": {},
     "output_type": "display_data"
    },
    {
     "data": {
      "text/html": [
       "<a target='_new' href='./data/ruskin/output/json/296967.json'>296967.json</a>"
      ],
      "text/plain": [
       "<IPython.core.display.HTML object>"
      ]
     },
     "metadata": {},
     "output_type": "display_data"
    },
    {
     "data": {
      "text/html": [
       "<a target='_new' href='./data/ruskin/output/json/154494.json'>154494.json</a>"
      ],
      "text/plain": [
       "<IPython.core.display.HTML object>"
      ]
     },
     "metadata": {},
     "output_type": "display_data"
    },
    {
     "data": {
      "text/html": [
       "<a target='_new' href='./data/ruskin/output/json/298749.json'>298749.json</a>"
      ],
      "text/plain": [
       "<IPython.core.display.HTML object>"
      ]
     },
     "metadata": {},
     "output_type": "display_data"
    },
    {
     "data": {
      "text/html": [
       "<a target='_new' href='./data/ruskin/output/json/237625.json'>237625.json</a>"
      ],
      "text/plain": [
       "<IPython.core.display.HTML object>"
      ]
     },
     "metadata": {},
     "output_type": "display_data"
    },
    {
     "data": {
      "text/html": [
       "<a target='_new' href='./data/ruskin/output/json/299119.json'>299119.json</a>"
      ],
      "text/plain": [
       "<IPython.core.display.HTML object>"
      ]
     },
     "metadata": {},
     "output_type": "display_data"
    },
    {
     "data": {
      "text/html": [
       "<a target='_new' href='./data/ruskin/output/json/262444.json'>262444.json</a>"
      ],
      "text/plain": [
       "<IPython.core.display.HTML object>"
      ]
     },
     "metadata": {},
     "output_type": "display_data"
    },
    {
     "data": {
      "text/html": [
       "<a target='_new' href='./data/ruskin/output/json/296901.json'>296901.json</a>"
      ],
      "text/plain": [
       "<IPython.core.display.HTML object>"
      ]
     },
     "metadata": {},
     "output_type": "display_data"
    },
    {
     "data": {
      "text/html": [
       "<a target='_new' href='./data/ruskin/output/json/299103.json'>299103.json</a>"
      ],
      "text/plain": [
       "<IPython.core.display.HTML object>"
      ]
     },
     "metadata": {},
     "output_type": "display_data"
    },
    {
     "data": {
      "text/html": [
       "<a target='_new' href='./data/ruskin/output/json/262409.json'>262409.json</a>"
      ],
      "text/plain": [
       "<IPython.core.display.HTML object>"
      ]
     },
     "metadata": {},
     "output_type": "display_data"
    },
    {
     "data": {
      "text/html": [
       "<a target='_new' href='./data/ruskin/output/json/299181.json'>299181.json</a>"
      ],
      "text/plain": [
       "<IPython.core.display.HTML object>"
      ]
     },
     "metadata": {},
     "output_type": "display_data"
    },
    {
     "data": {
      "text/html": [
       "<a target='_new' href='./data/ruskin/output/json/299178.json'>299178.json</a>"
      ],
      "text/plain": [
       "<IPython.core.display.HTML object>"
      ]
     },
     "metadata": {},
     "output_type": "display_data"
    },
    {
     "data": {
      "text/html": [
       "<a target='_new' href='./data/ruskin/output/json/262999.json'>262999.json</a>"
      ],
      "text/plain": [
       "<IPython.core.display.HTML object>"
      ]
     },
     "metadata": {},
     "output_type": "display_data"
    },
    {
     "data": {
      "text/html": [
       "<a target='_new' href='./data/ruskin/output/json/299179.json'>299179.json</a>"
      ],
      "text/plain": [
       "<IPython.core.display.HTML object>"
      ]
     },
     "metadata": {},
     "output_type": "display_data"
    },
    {
     "data": {
      "text/html": [
       "<a target='_new' href='./data/ruskin/output/json/70367.json'>70367.json</a>"
      ],
      "text/plain": [
       "<IPython.core.display.HTML object>"
      ]
     },
     "metadata": {},
     "output_type": "display_data"
    },
    {
     "data": {
      "text/html": [
       "<a target='_new' href='./data/ruskin/output/json/299092.json'>299092.json</a>"
      ],
      "text/plain": [
       "<IPython.core.display.HTML object>"
      ]
     },
     "metadata": {},
     "output_type": "display_data"
    },
    {
     "data": {
      "text/html": [
       "<a target='_new' href='./data/ruskin/output/json/263018.json'>263018.json</a>"
      ],
      "text/plain": [
       "<IPython.core.display.HTML object>"
      ]
     },
     "metadata": {},
     "output_type": "display_data"
    },
    {
     "data": {
      "text/html": [
       "<a target='_new' href='./data/ruskin/output/json/299704.json'>299704.json</a>"
      ],
      "text/plain": [
       "<IPython.core.display.HTML object>"
      ]
     },
     "metadata": {},
     "output_type": "display_data"
    },
    {
     "data": {
      "text/html": [
       "<a target='_new' href='./data/ruskin/output/json/262432.json'>262432.json</a>"
      ],
      "text/plain": [
       "<IPython.core.display.HTML object>"
      ]
     },
     "metadata": {},
     "output_type": "display_data"
    },
    {
     "data": {
      "text/html": [
       "<a target='_new' href='./data/ruskin/output/json/299180.json'>299180.json</a>"
      ],
      "text/plain": [
       "<IPython.core.display.HTML object>"
      ]
     },
     "metadata": {},
     "output_type": "display_data"
    },
    {
     "data": {
      "text/html": [
       "<a target='_new' href='./data/ruskin/output/json/297464.json'>297464.json</a>"
      ],
      "text/plain": [
       "<IPython.core.display.HTML object>"
      ]
     },
     "metadata": {},
     "output_type": "display_data"
    },
    {
     "data": {
      "text/html": [
       "<a target='_new' href='./data/ruskin/output/json/299114.json'>299114.json</a>"
      ],
      "text/plain": [
       "<IPython.core.display.HTML object>"
      ]
     },
     "metadata": {},
     "output_type": "display_data"
    },
    {
     "data": {
      "text/html": [
       "<a target='_new' href='./data/ruskin/output/json/262408.json'>262408.json</a>"
      ],
      "text/plain": [
       "<IPython.core.display.HTML object>"
      ]
     },
     "metadata": {},
     "output_type": "display_data"
    },
    {
     "data": {
      "text/html": [
       "<a target='_new' href='./data/ruskin/output/json/298601.json'>298601.json</a>"
      ],
      "text/plain": [
       "<IPython.core.display.HTML object>"
      ]
     },
     "metadata": {},
     "output_type": "display_data"
    },
    {
     "data": {
      "text/html": [
       "<a target='_new' href='./data/ruskin/output/json/296900.json'>296900.json</a>"
      ],
      "text/plain": [
       "<IPython.core.display.HTML object>"
      ]
     },
     "metadata": {},
     "output_type": "display_data"
    },
    {
     "data": {
      "text/html": [
       "<a target='_new' href='./data/ruskin/output/json/255472.json'>255472.json</a>"
      ],
      "text/plain": [
       "<IPython.core.display.HTML object>"
      ]
     },
     "metadata": {},
     "output_type": "display_data"
    },
    {
     "data": {
      "text/html": [
       "<a target='_new' href='./data/ruskin/output/json/298363.json'>298363.json</a>"
      ],
      "text/plain": [
       "<IPython.core.display.HTML object>"
      ]
     },
     "metadata": {},
     "output_type": "display_data"
    },
    {
     "data": {
      "text/html": [
       "<a target='_new' href='./data/ruskin/output/json/70238.json'>70238.json</a>"
      ],
      "text/plain": [
       "<IPython.core.display.HTML object>"
      ]
     },
     "metadata": {},
     "output_type": "display_data"
    },
    {
     "data": {
      "text/html": [
       "<a target='_new' href='./data/ruskin/output/json/262445.json'>262445.json</a>"
      ],
      "text/plain": [
       "<IPython.core.display.HTML object>"
      ]
     },
     "metadata": {},
     "output_type": "display_data"
    },
    {
     "data": {
      "text/html": [
       "<a target='_new' href='./data/ruskin/output/json/298498.json'>298498.json</a>"
      ],
      "text/plain": [
       "<IPython.core.display.HTML object>"
      ]
     },
     "metadata": {},
     "output_type": "display_data"
    },
    {
     "data": {
      "text/html": [
       "<a target='_new' href='./data/ruskin/output/json/298820.json'>298820.json</a>"
      ],
      "text/plain": [
       "<IPython.core.display.HTML object>"
      ]
     },
     "metadata": {},
     "output_type": "display_data"
    },
    {
     "data": {
      "text/html": [
       "<a target='_new' href='./data/ruskin/output/json/299176.json'>299176.json</a>"
      ],
      "text/plain": [
       "<IPython.core.display.HTML object>"
      ]
     },
     "metadata": {},
     "output_type": "display_data"
    },
    {
     "data": {
      "text/html": [
       "<a target='_new' href='./data/ruskin/output/json/298767.json'>298767.json</a>"
      ],
      "text/plain": [
       "<IPython.core.display.HTML object>"
      ]
     },
     "metadata": {},
     "output_type": "display_data"
    },
    {
     "data": {
      "text/html": [
       "<a target='_new' href='./data/ruskin/output/json/298819.json'>298819.json</a>"
      ],
      "text/plain": [
       "<IPython.core.display.HTML object>"
      ]
     },
     "metadata": {},
     "output_type": "display_data"
    },
    {
     "data": {
      "text/html": [
       "<a target='_new' href='./data/ruskin/output/json/263017.json'>263017.json</a>"
      ],
      "text/plain": [
       "<IPython.core.display.HTML object>"
      ]
     },
     "metadata": {},
     "output_type": "display_data"
    },
    {
     "data": {
      "text/html": [
       "<a target='_new' href='./data/ruskin/output/json/298634.json'>298634.json</a>"
      ],
      "text/plain": [
       "<IPython.core.display.HTML object>"
      ]
     },
     "metadata": {},
     "output_type": "display_data"
    },
    {
     "data": {
      "text/html": [
       "<a target='_new' href='./data/ruskin/output/json/76140.json'>76140.json</a>"
      ],
      "text/plain": [
       "<IPython.core.display.HTML object>"
      ]
     },
     "metadata": {},
     "output_type": "display_data"
    },
    {
     "data": {
      "text/html": [
       "<a target='_new' href='./data/ruskin/output/json/297164.json'>297164.json</a>"
      ],
      "text/plain": [
       "<IPython.core.display.HTML object>"
      ]
     },
     "metadata": {},
     "output_type": "display_data"
    },
    {
     "data": {
      "text/html": [
       "<a target='_new' href='./data/ruskin/output/json/262489.json'>262489.json</a>"
      ],
      "text/plain": [
       "<IPython.core.display.HTML object>"
      ]
     },
     "metadata": {},
     "output_type": "display_data"
    },
    {
     "data": {
      "text/html": [
       "<a target='_new' href='./data/ruskin/output/json/298815.json'>298815.json</a>"
      ],
      "text/plain": [
       "<IPython.core.display.HTML object>"
      ]
     },
     "metadata": {},
     "output_type": "display_data"
    },
    {
     "data": {
      "text/html": [
       "<a target='_new' href='./data/ruskin/output/json/298751.json'>298751.json</a>"
      ],
      "text/plain": [
       "<IPython.core.display.HTML object>"
      ]
     },
     "metadata": {},
     "output_type": "display_data"
    },
    {
     "data": {
      "text/html": [
       "<a target='_new' href='./data/ruskin/output/json/298814.json'>298814.json</a>"
      ],
      "text/plain": [
       "<IPython.core.display.HTML object>"
      ]
     },
     "metadata": {},
     "output_type": "display_data"
    },
    {
     "data": {
      "text/html": [
       "<a target='_new' href='./data/ruskin/output/json/297450.json'>297450.json</a>"
      ],
      "text/plain": [
       "<IPython.core.display.HTML object>"
      ]
     },
     "metadata": {},
     "output_type": "display_data"
    },
    {
     "data": {
      "text/html": [
       "<a target='_new' href='./data/ruskin/output/json/262410.json'>262410.json</a>"
      ],
      "text/plain": [
       "<IPython.core.display.HTML object>"
      ]
     },
     "metadata": {},
     "output_type": "display_data"
    },
    {
     "data": {
      "text/html": [
       "<a target='_new' href='./data/ruskin/output/json/298635.json'>298635.json</a>"
      ],
      "text/plain": [
       "<IPython.core.display.HTML object>"
      ]
     },
     "metadata": {},
     "output_type": "display_data"
    },
    {
     "data": {
      "text/html": [
       "<a target='_new' href='./data/ruskin/output/json/298674.json'>298674.json</a>"
      ],
      "text/plain": [
       "<IPython.core.display.HTML object>"
      ]
     },
     "metadata": {},
     "output_type": "display_data"
    },
    {
     "data": {
      "text/html": [
       "<a target='_new' href='./data/ruskin/output/json/299177.json'>299177.json</a>"
      ],
      "text/plain": [
       "<IPython.core.display.HTML object>"
      ]
     },
     "metadata": {},
     "output_type": "display_data"
    },
    {
     "data": {
      "text/html": [
       "<a target='_new' href='./data/ruskin/output/json/298766.json'>298766.json</a>"
      ],
      "text/plain": [
       "<IPython.core.display.HTML object>"
      ]
     },
     "metadata": {},
     "output_type": "display_data"
    },
    {
     "data": {
      "text/html": [
       "<a target='_new' href='./data/ruskin/output/json/262979.json'>262979.json</a>"
      ],
      "text/plain": [
       "<IPython.core.display.HTML object>"
      ]
     },
     "metadata": {},
     "output_type": "display_data"
    },
    {
     "data": {
      "text/html": [
       "<a target='_new' href='./data/ruskin/output/json/298628.json'>298628.json</a>"
      ],
      "text/plain": [
       "<IPython.core.display.HTML object>"
      ]
     },
     "metadata": {},
     "output_type": "display_data"
    },
    {
     "data": {
      "text/html": [
       "<a target='_new' href='./data/ruskin/output/json/299039.json'>299039.json</a>"
      ],
      "text/plain": [
       "<IPython.core.display.HTML object>"
      ]
     },
     "metadata": {},
     "output_type": "display_data"
    },
    {
     "data": {
      "text/html": [
       "<a target='_new' href='./data/ruskin/output/json/13031.json'>13031.json</a>"
      ],
      "text/plain": [
       "<IPython.core.display.HTML object>"
      ]
     },
     "metadata": {},
     "output_type": "display_data"
    },
    {
     "data": {
      "text/html": [
       "<a target='_new' href='./data/ruskin/output/json/299185.json'>299185.json</a>"
      ],
      "text/plain": [
       "<IPython.core.display.HTML object>"
      ]
     },
     "metadata": {},
     "output_type": "display_data"
    },
    {
     "data": {
      "text/html": [
       "<a target='_new' href='./data/ruskin/output/json/pma2.json'>pma2.json</a>"
      ],
      "text/plain": [
       "<IPython.core.display.HTML object>"
      ]
     },
     "metadata": {},
     "output_type": "display_data"
    },
    {
     "data": {
      "text/html": [
       "<a target='_new' href='./data/ruskin/output/json/298598.json'>298598.json</a>"
      ],
      "text/plain": [
       "<IPython.core.display.HTML object>"
      ]
     },
     "metadata": {},
     "output_type": "display_data"
    },
    {
     "data": {
      "text/html": [
       "<a target='_new' href='./data/ruskin/output/json/297456.json'>297456.json</a>"
      ],
      "text/plain": [
       "<IPython.core.display.HTML object>"
      ]
     },
     "metadata": {},
     "output_type": "display_data"
    },
    {
     "data": {
      "text/html": [
       "<a target='_new' href='./data/ruskin/output/json/298633.json'>298633.json</a>"
      ],
      "text/plain": [
       "<IPython.core.display.HTML object>"
      ]
     },
     "metadata": {},
     "output_type": "display_data"
    },
    {
     "data": {
      "text/html": [
       "<a target='_new' href='./data/ruskin/output/json/298605.json'>298605.json</a>"
      ],
      "text/plain": [
       "<IPython.core.display.HTML object>"
      ]
     },
     "metadata": {},
     "output_type": "display_data"
    },
    {
     "data": {
      "text/html": [
       "<a target='_new' href='./data/ruskin/output/json/72870.json'>72870.json</a>"
      ],
      "text/plain": [
       "<IPython.core.display.HTML object>"
      ]
     },
     "metadata": {},
     "output_type": "display_data"
    },
    {
     "data": {
      "text/html": [
       "<a target='_new' href='./data/ruskin/output/json/298668.json'>298668.json</a>"
      ],
      "text/plain": [
       "<IPython.core.display.HTML object>"
      ]
     },
     "metadata": {},
     "output_type": "display_data"
    }
   ],
   "source": [
    "fn()"
   ]
  },
  {
   "cell_type": "code",
   "execution_count": 65,
   "id": "bd985534",
   "metadata": {},
   "outputs": [],
   "source": [
    "file_list=os.listdir(r\"./data/ruskin/output/json/\")\n",
    "  \n",
    "sources = {   \n",
    "    \"https://www.nga.gov/collection/\" : \"National Gallery of Art\",\n",
    "    \"https://clevelandart.org/art/\": \"Cleveland Museum of Art\",\n",
    "    \"https://www.philamuseum.org/collection/object/\": \"Philadelphia Museum of Art\",\n",
    "    \"https://www.tate.org.uk/art/artworks/\" : \"Tate Museum\"\n",
    "}  \n",
    "    \n",
    "    \n",
    "json_all = {}\n",
    "for file in file_list:\n",
    "    # read file and append to \n",
    "    with open(outputdir + \"/\" + file) as json_file:\n",
    "        json_text = json.load(json_file)\n",
    "        json_all.update({file : json_text})\n",
    "        \n",
    "my_dict = []\n",
    "\n",
    "title_rows = [\n",
    "     {\n",
    "        \"Year\": \"\",\n",
    "        \"Month\" : \"\",\n",
    "        \"Day\" : \"\",\n",
    "        \"Time\" : \"\",\n",
    "        \"End Year\": \"\",\n",
    "        \"End Month\" : \"\",\n",
    "        \"End Day\" : \"\",\n",
    "        \"End Time\" : \"\",\n",
    "        \"Display Date\": \"\",\n",
    "        \"Headline\" :   \"John Ruskin\" ,\n",
    "        \"Text\": \"<p>This timeline visualisation shows artworks created by John Ruskin.</p><p>It demonstrates how the Linked Art data model can be used to transform, reconcile and visualise collections data for artworks.</p> <p>See https://linked.art for more information.</p>\",\n",
    "        \"Media\": \"https://upload.wikimedia.org/wikipedia/commons/0/0a/John_Ruskin_1863.jpg\",\n",
    "        \"Media Credit\": \"Wikipedia\",\n",
    "        \"Media Caption\": \"John Ruskin\",\n",
    "        \"Media Thumbnail\" : \"\",\n",
    "        \"Type\": \"title\",\n",
    "        \"Group\" :\"\",\n",
    "        \"Background\": \"\"   },\n",
    "    \n",
    "   {\n",
    "        \"Year\": \"1819\",\n",
    "        \"Month\" : 2,\n",
    "        \"Day\" : 8,\n",
    "        \"Time\" : \"\",\n",
    "        \"End Year\": \"1900\",\n",
    "        \"End Month\" : 1,\n",
    "        \"End Day\" : 20,\n",
    "        \"End Time\" : \"\",\n",
    "        \"Display Date\": \"\",\n",
    "        \"Headline\" :   \"John Ruskin's lifetime\" ,\n",
    "        \"Text\": \"\",\n",
    "        \"Media\": \"https://en.wikipedia.org/wiki/John_Ruskin#/media/File:John_Ruskin_1863.jpg\",\n",
    "        \"Media Credit\": \"Wikipedia\",\n",
    "        \"Media Caption\": \"John Ruskin\",\n",
    "        \"Media Thumbnail\" : \"\",\n",
    "        \"Type\": \"era\",\n",
    "        \"Group\" :\"\",\n",
    "        \"Background\": \"\"},\n",
    "    \n",
    "]\n",
    "\n",
    "my_dict = title_rows\n",
    "\n",
    "images = {  \n",
    "    \"https://www.nga.gov/collection/70238\" : \"https://media.nga.gov/iiif/49a6128c-8d5a-4b00-beb3-36b29b97c0a1/full/!384,384/0/default.jpg\", # tower\n",
    "    \"https://www.nga.gov/collection/70367\" : \"https://media.nga.gov/iiif/9310c903-7099-4138-b380-d90af8b06703/full/!384,384/0/default.jpg\", #tree study\n",
    "    \"https://www.nga.gov/collection/72870\" : \"https://media.nga.gov/iiif/f6ef48d3-3512-4f46-ac5b-c221b3fa320e/full/!384,384/0/default.jpg\" , # florence\n",
    "    \"https://www.nga.gov/collection/76140\": \"https://media.nga.gov/iiif/bc567179-9c1e-4493-b712-956cc4e6b00a/full/!384,384/0/default.jpg\", # stones\n",
    "    \"https://clevelandart.org/art/154494\": \"https://piction.clevelandart.org/cma/ump.di?e=09E1858D0AB6939812E58428D451CA97E557EAA1228FEB07BD281BBBD4FC3A89&s=24247294&se=1946452765&v=4&f=1989.14_o4.jpg\", # sycamore\n",
    "    \"https://www.philamuseum.org/collection/object/pma2\" : \"https://iiif.micr.io/YwKQj/full/1200,/0/default.jpg\",\n",
    "    \"https://www.tate.org.uk/art/artworks/13031\" : \"http://www.tate.org.uk/art/images/work/N/N02/N02726_8.jpg\",\n",
    "     \"https://www.tate.org.uk/art/artworks/13032\" : \"http://www.tate.org.uk/art/images/work/N/N02/N02972_8.jpg\",\n",
    "    \"https://www.tate.org.uk/art/artworks/13033\" : \"http://www.tate.org.uk/art/images/work/N/N03/N03507_8.jpg\"\n",
    "    \n",
    "}\n",
    "\n",
    "for file in json_all:\n",
    "   \n",
    "    artwork = json_all[file]\n",
    "    id = artwork[\"id\"]\n",
    "    \n",
    "    if \"produced_by\" not in artwork:\n",
    "        continue\n",
    "    \n",
    "    credit = \"\"\n",
    "    for source in sources:\n",
    "        if source in id:\n",
    "            credit = sources[source]\n",
    "            \n",
    "    text = \"\"\n",
    "    imageurl = \"\"\n",
    "    \n",
    "    if \"referred_to_by\" in artwork and len(artwork[\"referred_to_by\"]) > 0 and \"content\" in artwork[\"referred_to_by\"][0]:  \n",
    "        text = artwork[\"referred_to_by\"][0][\"content\"]\n",
    "        \n",
    "    if id in images:\n",
    "        imageurl = images[id]\n",
    "    \n",
    "   \n",
    "    if \"begin_of_the_begin\" in artwork[\"produced_by\"][\"timespan\"]:\n",
    "        begin = artwork[\"produced_by\"][\"timespan\"][\"begin_of_the_begin\"]\n",
    "    try:\n",
    "        begin = int(begin)\n",
    "    except:\n",
    "        begin = 1819\n",
    "    \n",
    "    if \"end_of_the_end\" in artwork[\"produced_by\"][\"timespan\"]:\n",
    "        end = artwork[\"produced_by\"][\"timespan\"][\"end_of_the_end\"]\n",
    "    try:\n",
    "        end = int(end)\n",
    "    except:\n",
    "        end = 1900\n",
    "    \n",
    "    row = {\n",
    "        \"Year\": begin,\n",
    "        \"Month\" : 1,\n",
    "        \"Day\" : 1,\n",
    "        \"Time\" : \"\",\n",
    "        \"End Year\": end,\n",
    "        \"End Month\" : 12,\n",
    "        \"End Day\" : 31,\n",
    "        \"End Time\" : \"\",\n",
    "        \"Display Date\": artwork[\"produced_by\"][\"timespan\"][\"_label\"],\n",
    "        \"Headline\" :   artwork[\"_label\"] ,\n",
    "        \"Text\": text,\n",
    "        \"Media\": imageurl,\n",
    "        \"Media Credit\": credit,\n",
    "        \"Media Caption\": \"\",\n",
    "        \"Media Thumbnail\" :  imageurl,\n",
    "        \"Type\": \"title\",\n",
    "        \"Group\" :\"\",\n",
    "        \"Background\": \"\"     \n",
    "    }\n",
    "    my_dict.append(row)\n",
    "\n",
    "with open('./data/ruskin/output/csv/ruskin_vis.csv', 'w') as f:  \n",
    "    w = csv.DictWriter(f, my_dict[0].keys())\n",
    "    w.writeheader()\n",
    "    for row in my_dict:\n",
    "        w.writerow(row)\n",
    "       "
   ]
  },
  {
   "cell_type": "markdown",
   "id": "126d4b8d",
   "metadata": {},
   "source": [
    "## Visualisation\n",
    "Follow instructions at https://timeline.knightlab.com/#make to make a timeline using a Google Spreadsheet"
   ]
  },
  {
   "cell_type": "code",
   "execution_count": null,
   "id": "6fc07206",
   "metadata": {},
   "outputs": [],
   "source": [
    "#spreadsheet used as input to timeline visualisation\n",
    "sheet=\"https://github.com/tgra/Linked-Art/blob/main/jupyter_notebooks/data/ruskin/output/csv/ruskin_vis.csv\"\n",
    "print(sheet)"
   ]
  },
  {
   "cell_type": "code",
   "execution_count": null,
   "id": "eed0487a",
   "metadata": {},
   "outputs": [],
   "source": [
    "vis = \"https://cdn.knightlab.com/libs/timeline3/latest/embed/index.html?source=1LttNXCohJsD7XByCSt3KVUC02_J57DFOwtb5Cxq8JuI&font=Default&lang=en&initial_zoom=1&height=650\""
   ]
  },
  {
   "cell_type": "code",
   "execution_count": null,
   "id": "c6297fbe",
   "metadata": {},
   "outputs": [],
   "source": [
    "display(IFrame(vis, width='100%', height=700))"
   ]
  },
  {
   "cell_type": "code",
   "execution_count": null,
   "id": "e509c361",
   "metadata": {},
   "outputs": [],
   "source": [
    "print(vis)"
   ]
  }
 ],
 "metadata": {
  "kernelspec": {
   "display_name": "Python 3",
   "language": "python",
   "name": "python3"
  },
  "language_info": {
   "codemirror_mode": {
    "name": "ipython",
    "version": 3
   },
   "file_extension": ".py",
   "mimetype": "text/x-python",
   "name": "python",
   "nbconvert_exporter": "python",
   "pygments_lexer": "ipython3",
   "version": "3.8.8"
  }
 },
 "nbformat": 4,
 "nbformat_minor": 5
}
