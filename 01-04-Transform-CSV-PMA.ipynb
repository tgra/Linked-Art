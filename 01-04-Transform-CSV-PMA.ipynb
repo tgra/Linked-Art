{
 "cells": [
  {
   "cell_type": "markdown",
   "id": "11e94730",
   "metadata": {},
   "source": [
    "#  Transforming Collections Data to Linked Art\n",
    "## Philadelphia Museum of Art"
   ]
  },
  {
   "cell_type": "markdown",
   "id": "270dddcf",
   "metadata": {},
   "source": [
    "## Import What We Need for Notebook\n",
    "See the [Transform Introduction](01-00-Transform-Intro.ipynb) for a description of the Python libraries used"
   ]
  },
  {
   "cell_type": "code",
   "execution_count": 7,
   "id": "e14c71a3",
   "metadata": {},
   "outputs": [],
   "source": [
    "try:\n",
    "    import json\n",
    "except:\n",
    "    !pip install json\n",
    "    import json \n",
    "\n",
    "try:\n",
    "    import cromulent\n",
    "except:\n",
    "    !pip install cromulent\n",
    "    import cromulent\n",
    "    \n",
    "from cromulent.model import factory\n",
    "    \n",
    "from lib import linkedart as la"
   ]
  },
  {
   "cell_type": "markdown",
   "id": "c0e616a9",
   "metadata": {},
   "source": [
    "## Input Data\n",
    "The notebook uses data from the Philadelphia Museum of Art (PMA). \n",
    "\n",
    "The data file contains records about works by Georgia O'Keefe and John Ruskin."
   ]
  },
  {
   "cell_type": "markdown",
   "id": "91b86264",
   "metadata": {},
   "source": [
    "### 2. Parse CSV File"
   ]
  },
  {
   "cell_type": "code",
   "execution_count": 8,
   "id": "66bad752",
   "metadata": {},
   "outputs": [],
   "source": [
    "import csv\n",
    "\n",
    "file = './data/pma/input/Ruskin_Okeeffe.csv'\n",
    "\n",
    "#remove BOM\n",
    "s = open(file, mode='r', encoding='utf-8-sig').read()\n",
    "open(file, mode='w', encoding='utf-8').write(s)\n",
    "\n",
    "allObjects = csv.DictReader(open(file, mode='r',encoding='utf-8'))"
   ]
  },
  {
   "cell_type": "markdown",
   "id": "354275a1",
   "metadata": {},
   "source": [
    "### 3. Data File as Python dictionary\n",
    "The data file is converted to a Python dictionary, and will be used to transform the collection data for the artwork to JSON-LD. The following shows an example of a single artwork represented in the Python dictionary:"
   ]
  },
  {
   "cell_type": "code",
   "execution_count": 9,
   "id": "e1c91453",
   "metadata": {},
   "outputs": [
    {
     "name": "stdout",
     "output_type": "stream",
     "text": [
      "{\n",
      "  \"Media\": \"0\",\n",
      "  \"Object Number\": \"64-1993-1\",\n",
      "  \"Department\": \"PDP\",\n",
      "  \"Classification\": \"Drawings\",\n",
      "  \"Culture\": \"\",\n",
      "  \"Period\": \"\",\n",
      "  \"Display Name\": \"John Ruskin\",\n",
      "  \"Object Name\": \"Drawings\",\n",
      "  \"Title\": \"Study of a River Bank, Beauvais, France\",\n",
      "  \"Dated\": \"1846\",\n",
      "  \"Medium\": \"Watercolor\",\n",
      "  \"Dimensions\": \"H: 125mm  W: 175mm\",\n",
      "  \"Description\": \"\",\n",
      "  \"Attribution\": \"John Ruskin\",\n",
      "  \"AttributionSort\": \"Ruskin John\",\n",
      "  \"Credit Line\": \"\",\n",
      "  \"\": \"\"\n",
      "}\n"
     ]
    }
   ],
   "source": [
    "for obj in allObjects:\n",
    "    print(json.dumps(obj,indent=2))\n",
    "    break"
   ]
  },
  {
   "cell_type": "code",
   "execution_count": 10,
   "id": "38ecdf3f",
   "metadata": {},
   "outputs": [],
   "source": [
    "\n",
    "mapp =  {\n",
    "    \"id\":\"Object Number\",\n",
    "    \"accession_number\":\"Object Number\",\n",
    "    \"accession_date\": \"accession_date\",\n",
    "    \"classification\" : \"Classification\",\n",
    "    \"title\": \"Title\",\n",
    "    \"alt_title\": \"\",\n",
    "    \"notes\": \"Description\",\n",
    "    \"date_created\":\"Dated\",\n",
    "    \"date_created_earliest\": \"\",\n",
    "    \"date_created_latest\": \"\",\n",
    "    \"created_period\":\"Period\",\n",
    "    \"created_dynasty\":\"\",\n",
    "    \"created_inscriptions\":\"\",\n",
    "    \"created_notes\": \"Description\",\n",
    "    \"creator\":\"Display Name\",\n",
    "    \"physical_medium\": \"Medium\",\n",
    "    \"physical_style\": \"\",\n",
    "    \"physical_technique\": \"physical_technique\",\n",
    "    \"physical_description\": \"physical_description\",\n",
    "    \"physical_dimensions\": \"Dimensions\",\n",
    "    \"created_provenance\": \"Attribution\" ,\n",
    "    \"credit_line\": \"Credit Line\",\n",
    "    \"collection\" : \"Department\",\n",
    "    \"current_status\" : \"\"\n",
    "}\n",
    "\n",
    "def createObjProp(obj,mapp):\n",
    "    objProp = {}\n",
    "    csv_keys = list(obj.keys())\n",
    "    for key in csv_keys:\n",
    "        for prop in mapp:\n",
    "            if key == mapp[prop]:\n",
    "                if prop == \"creator\":\n",
    "                    objProp[prop] = {\"name\": obj[key]}\n",
    "                else:\n",
    "                    objProp[prop] = obj[key]\n",
    "    return objProp"
   ]
  },
  {
   "cell_type": "code",
   "execution_count": 12,
   "id": "50c01609",
   "metadata": {},
   "outputs": [],
   "source": [
    "#  baseURI for JSON-LD document\n",
    "baseURI = \"https://philamuseum.org/collection/object/\"\n",
    "\n",
    "for obj in allObjects:\n",
    "    # create object property dictionary\n",
    "    objProp = createObjProp(obj,mapp)\n",
    "\n",
    "    id = obj[mapp.get(\"id\")]\n",
    "    object_uri = baseURI + id\n",
    "    objLA=None\n",
    "    # create obj description\n",
    "    objLA = la.createObjDesc(objProp,la.objTypes,object_uri)\n",
    "    \n",
    "    # write to file \n",
    "    text_file = open(\"./data/pma/output/json/all/\" + objProp[\"id\"] + \".json\", \"wt\")\n",
    "    n = text_file.write(factory.toString(objLA, compact=False))\n",
    "    text_file.close()"
   ]
  },
  {
   "cell_type": "code",
   "execution_count": 6,
   "id": "6cf3e2db",
   "metadata": {},
   "outputs": [
    {
     "data": {
      "text/html": [
       "<a target='_new' href='./data/pma/output/json/all/48-1993-1.json'>48-1993-1.json</a>"
      ],
      "text/plain": [
       "<IPython.core.display.HTML object>"
      ]
     },
     "metadata": {},
     "output_type": "display_data"
    },
    {
     "data": {
      "text/html": [
       "<a target='_new' href='./data/pma/output/json/all/2016-48-1(15).json'>2016-48-1(15).json</a>"
      ],
      "text/plain": [
       "<IPython.core.display.HTML object>"
      ]
     },
     "metadata": {},
     "output_type": "display_data"
    },
    {
     "data": {
      "text/html": [
       "<a target='_new' href='./data/pma/output/json/all/250-2003-1.json'>250-2003-1.json</a>"
      ],
      "text/plain": [
       "<IPython.core.display.HTML object>"
      ]
     },
     "metadata": {},
     "output_type": "display_data"
    },
    {
     "data": {
      "text/html": [
       "<a target='_new' href='./data/pma/output/json/all/2016-48-1(17).json'>2016-48-1(17).json</a>"
      ],
      "text/plain": [
       "<IPython.core.display.HTML object>"
      ]
     },
     "metadata": {},
     "output_type": "display_data"
    },
    {
     "data": {
      "text/html": [
       "<a target='_new' href='./data/pma/output/json/all/1987-70-4.json'>1987-70-4.json</a>"
      ],
      "text/plain": [
       "<IPython.core.display.HTML object>"
      ]
     },
     "metadata": {},
     "output_type": "display_data"
    },
    {
     "data": {
      "text/html": [
       "<a target='_new' href='./data/pma/output/json/all/1944-95-4.json'>1944-95-4.json</a>"
      ],
      "text/plain": [
       "<IPython.core.display.HTML object>"
      ]
     },
     "metadata": {},
     "output_type": "display_data"
    },
    {
     "data": {
      "text/html": [
       "<a target='_new' href='./data/pma/output/json/all/1997-39-1.json'>1997-39-1.json</a>"
      ],
      "text/plain": [
       "<IPython.core.display.HTML object>"
      ]
     },
     "metadata": {},
     "output_type": "display_data"
    },
    {
     "data": {
      "text/html": [
       "<a target='_new' href='./data/pma/output/json/all/2016-48-1(13).json'>2016-48-1(13).json</a>"
      ],
      "text/plain": [
       "<IPython.core.display.HTML object>"
      ]
     },
     "metadata": {},
     "output_type": "display_data"
    },
    {
     "data": {
      "text/html": [
       "<a target='_new' href='./data/pma/output/json/all/2016-48-1(11).json'>2016-48-1(11).json</a>"
      ],
      "text/plain": [
       "<IPython.core.display.HTML object>"
      ]
     },
     "metadata": {},
     "output_type": "display_data"
    },
    {
     "data": {
      "text/html": [
       "<a target='_new' href='./data/pma/output/json/all/2019-47-5.json'>2019-47-5.json</a>"
      ],
      "text/plain": [
       "<IPython.core.display.HTML object>"
      ]
     },
     "metadata": {},
     "output_type": "display_data"
    },
    {
     "data": {
      "text/html": [
       "<a target='_new' href='./data/pma/output/json/all/2016-48-1(9).json'>2016-48-1(9).json</a>"
      ],
      "text/plain": [
       "<IPython.core.display.HTML object>"
      ]
     },
     "metadata": {},
     "output_type": "display_data"
    },
    {
     "data": {
      "text/html": [
       "<a target='_new' href='./data/pma/output/json/all/2016-48-1(16).json'>2016-48-1(16).json</a>"
      ],
      "text/plain": [
       "<IPython.core.display.HTML object>"
      ]
     },
     "metadata": {},
     "output_type": "display_data"
    },
    {
     "data": {
      "text/html": [
       "<a target='_new' href='./data/pma/output/json/all/1997-40-1.json'>1997-40-1.json</a>"
      ],
      "text/plain": [
       "<IPython.core.display.HTML object>"
      ]
     },
     "metadata": {},
     "output_type": "display_data"
    },
    {
     "data": {
      "text/html": [
       "<a target='_new' href='./data/pma/output/json/all/1987-70-2.json'>1987-70-2.json</a>"
      ],
      "text/plain": [
       "<IPython.core.display.HTML object>"
      ]
     },
     "metadata": {},
     "output_type": "display_data"
    },
    {
     "data": {
      "text/html": [
       "<a target='_new' href='./data/pma/output/json/all/2016-48-1(14).json'>2016-48-1(14).json</a>"
      ],
      "text/plain": [
       "<IPython.core.display.HTML object>"
      ]
     },
     "metadata": {},
     "output_type": "display_data"
    },
    {
     "data": {
      "text/html": [
       "<a target='_new' href='./data/pma/output/json/all/2016-48-1(10).json'>2016-48-1(10).json</a>"
      ],
      "text/plain": [
       "<IPython.core.display.HTML object>"
      ]
     },
     "metadata": {},
     "output_type": "display_data"
    },
    {
     "data": {
      "text/html": [
       "<a target='_new' href='./data/pma/output/json/all/2016-48-1(8).json'>2016-48-1(8).json</a>"
      ],
      "text/plain": [
       "<IPython.core.display.HTML object>"
      ]
     },
     "metadata": {},
     "output_type": "display_data"
    },
    {
     "data": {
      "text/html": [
       "<a target='_new' href='./data/pma/output/json/all/1949-57-1.json'>1949-57-1.json</a>"
      ],
      "text/plain": [
       "<IPython.core.display.HTML object>"
      ]
     },
     "metadata": {},
     "output_type": "display_data"
    },
    {
     "data": {
      "text/html": [
       "<a target='_new' href='./data/pma/output/json/all/1987-70-3.json'>1987-70-3.json</a>"
      ],
      "text/plain": [
       "<IPython.core.display.HTML object>"
      ]
     },
     "metadata": {},
     "output_type": "display_data"
    },
    {
     "data": {
      "text/html": [
       "<a target='_new' href='./data/pma/output/json/all/9-1982-1.json'>9-1982-1.json</a>"
      ],
      "text/plain": [
       "<IPython.core.display.HTML object>"
      ]
     },
     "metadata": {},
     "output_type": "display_data"
    },
    {
     "data": {
      "text/html": [
       "<a target='_new' href='./data/pma/output/json/all/1942-12-1.json'>1942-12-1.json</a>"
      ],
      "text/plain": [
       "<IPython.core.display.HTML object>"
      ]
     },
     "metadata": {},
     "output_type": "display_data"
    },
    {
     "data": {
      "text/html": [
       "<a target='_new' href='./data/pma/output/json/all/2016-48-1(12).json'>2016-48-1(12).json</a>"
      ],
      "text/plain": [
       "<IPython.core.display.HTML object>"
      ]
     },
     "metadata": {},
     "output_type": "display_data"
    },
    {
     "data": {
      "text/html": [
       "<a target='_new' href='./data/pma/output/json/all/1997-42-1.json'>1997-42-1.json</a>"
      ],
      "text/plain": [
       "<IPython.core.display.HTML object>"
      ]
     },
     "metadata": {},
     "output_type": "display_data"
    },
    {
     "data": {
      "text/html": [
       "<a target='_new' href='./data/pma/output/json/all/2016-48-1(6).json'>2016-48-1(6).json</a>"
      ],
      "text/plain": [
       "<IPython.core.display.HTML object>"
      ]
     },
     "metadata": {},
     "output_type": "display_data"
    },
    {
     "data": {
      "text/html": [
       "<a target='_new' href='./data/pma/output/json/all/2016-48-1(4).json'>2016-48-1(4).json</a>"
      ],
      "text/plain": [
       "<IPython.core.display.HTML object>"
      ]
     },
     "metadata": {},
     "output_type": "display_data"
    },
    {
     "data": {
      "text/html": [
       "<a target='_new' href='./data/pma/output/json/all/2016-48-1(1--21).json'>2016-48-1(1--21).json</a>"
      ],
      "text/plain": [
       "<IPython.core.display.HTML object>"
      ]
     },
     "metadata": {},
     "output_type": "display_data"
    },
    {
     "data": {
      "text/html": [
       "<a target='_new' href='./data/pma/output/json/all/2016-48-1(21).json'>2016-48-1(21).json</a>"
      ],
      "text/plain": [
       "<IPython.core.display.HTML object>"
      ]
     },
     "metadata": {},
     "output_type": "display_data"
    },
    {
     "data": {
      "text/html": [
       "<a target='_new' href='./data/pma/output/json/all/2016-48-1(18).json'>2016-48-1(18).json</a>"
      ],
      "text/plain": [
       "<IPython.core.display.HTML object>"
      ]
     },
     "metadata": {},
     "output_type": "display_data"
    },
    {
     "data": {
      "text/html": [
       "<a target='_new' href='./data/pma/output/json/all/PSL-302.json'>PSL-302.json</a>"
      ],
      "text/plain": [
       "<IPython.core.display.HTML object>"
      ]
     },
     "metadata": {},
     "output_type": "display_data"
    },
    {
     "data": {
      "text/html": [
       "<a target='_new' href='./data/pma/output/json/all/1949-18-109.json'>1949-18-109.json</a>"
      ],
      "text/plain": [
       "<IPython.core.display.HTML object>"
      ]
     },
     "metadata": {},
     "output_type": "display_data"
    },
    {
     "data": {
      "text/html": [
       "<a target='_new' href='./data/pma/output/json/all/2016-48-1(2).json'>2016-48-1(2).json</a>"
      ],
      "text/plain": [
       "<IPython.core.display.HTML object>"
      ]
     },
     "metadata": {},
     "output_type": "display_data"
    },
    {
     "data": {
      "text/html": [
       "<a target='_new' href='./data/pma/output/json/all/1987-70-1.json'>1987-70-1.json</a>"
      ],
      "text/plain": [
       "<IPython.core.display.HTML object>"
      ]
     },
     "metadata": {},
     "output_type": "display_data"
    },
    {
     "data": {
      "text/html": [
       "<a target='_new' href='./data/pma/output/json/all/PSL-190.json'>PSL-190.json</a>"
      ],
      "text/plain": [
       "<IPython.core.display.HTML object>"
      ]
     },
     "metadata": {},
     "output_type": "display_data"
    },
    {
     "data": {
      "text/html": [
       "<a target='_new' href='./data/pma/output/json/all/2016-48-1(5).json'>2016-48-1(5).json</a>"
      ],
      "text/plain": [
       "<IPython.core.display.HTML object>"
      ]
     },
     "metadata": {},
     "output_type": "display_data"
    },
    {
     "data": {
      "text/html": [
       "<a target='_new' href='./data/pma/output/json/all/1995-7-1.json'>1995-7-1.json</a>"
      ],
      "text/plain": [
       "<IPython.core.display.HTML object>"
      ]
     },
     "metadata": {},
     "output_type": "display_data"
    },
    {
     "data": {
      "text/html": [
       "<a target='_new' href='./data/pma/output/json/all/2016-48-1(20).json'>2016-48-1(20).json</a>"
      ],
      "text/plain": [
       "<IPython.core.display.HTML object>"
      ]
     },
     "metadata": {},
     "output_type": "display_data"
    },
    {
     "data": {
      "text/html": [
       "<a target='_new' href='./data/pma/output/json/all/1997-41-1.json'>1997-41-1.json</a>"
      ],
      "text/plain": [
       "<IPython.core.display.HTML object>"
      ]
     },
     "metadata": {},
     "output_type": "display_data"
    },
    {
     "data": {
      "text/html": [
       "<a target='_new' href='./data/pma/output/json/all/2016-48-1(7).json'>2016-48-1(7).json</a>"
      ],
      "text/plain": [
       "<IPython.core.display.HTML object>"
      ]
     },
     "metadata": {},
     "output_type": "display_data"
    },
    {
     "data": {
      "text/html": [
       "<a target='_new' href='./data/pma/output/json/all/AWC-125.json'>AWC-125.json</a>"
      ],
      "text/plain": [
       "<IPython.core.display.HTML object>"
      ]
     },
     "metadata": {},
     "output_type": "display_data"
    },
    {
     "data": {
      "text/html": [
       "<a target='_new' href='./data/pma/output/json/all/PSL-221.json'>PSL-221.json</a>"
      ],
      "text/plain": [
       "<IPython.core.display.HTML object>"
      ]
     },
     "metadata": {},
     "output_type": "display_data"
    },
    {
     "data": {
      "text/html": [
       "<a target='_new' href='./data/pma/output/json/all/250-2003-1 frame.json'>250-2003-1 frame.json</a>"
      ],
      "text/plain": [
       "<IPython.core.display.HTML object>"
      ]
     },
     "metadata": {},
     "output_type": "display_data"
    },
    {
     "data": {
      "text/html": [
       "<a target='_new' href='./data/pma/output/json/all/250-2003-2.json'>250-2003-2.json</a>"
      ],
      "text/plain": [
       "<IPython.core.display.HTML object>"
      ]
     },
     "metadata": {},
     "output_type": "display_data"
    },
    {
     "data": {
      "text/html": [
       "<a target='_new' href='./data/pma/output/json/all/1967-38-1.json'>1967-38-1.json</a>"
      ],
      "text/plain": [
       "<IPython.core.display.HTML object>"
      ]
     },
     "metadata": {},
     "output_type": "display_data"
    },
    {
     "data": {
      "text/html": [
       "<a target='_new' href='./data/pma/output/json/all/2016-48-1(3).json'>2016-48-1(3).json</a>"
      ],
      "text/plain": [
       "<IPython.core.display.HTML object>"
      ]
     },
     "metadata": {},
     "output_type": "display_data"
    },
    {
     "data": {
      "text/html": [
       "<a target='_new' href='./data/pma/output/json/all/testq.json'>testq.json</a>"
      ],
      "text/plain": [
       "<IPython.core.display.HTML object>"
      ]
     },
     "metadata": {},
     "output_type": "display_data"
    },
    {
     "data": {
      "text/html": [
       "<a target='_new' href='./data/pma/output/json/all/2016-48-1(19).json'>2016-48-1(19).json</a>"
      ],
      "text/plain": [
       "<IPython.core.display.HTML object>"
      ]
     },
     "metadata": {},
     "output_type": "display_data"
    },
    {
     "data": {
      "text/html": [
       "<a target='_new' href='./data/pma/output/json/all/AWC-153.json'>AWC-153.json</a>"
      ],
      "text/plain": [
       "<IPython.core.display.HTML object>"
      ]
     },
     "metadata": {},
     "output_type": "display_data"
    },
    {
     "data": {
      "text/html": [
       "<a target='_new' href='./data/pma/output/json/all/AWC-145.json'>AWC-145.json</a>"
      ],
      "text/plain": [
       "<IPython.core.display.HTML object>"
      ]
     },
     "metadata": {},
     "output_type": "display_data"
    },
    {
     "data": {
      "text/html": [
       "<a target='_new' href='./data/pma/output/json/all/2016-48-1(1).json'>2016-48-1(1).json</a>"
      ],
      "text/plain": [
       "<IPython.core.display.HTML object>"
      ]
     },
     "metadata": {},
     "output_type": "display_data"
    }
   ],
   "source": [
    "import os\n",
    "from IPython.core.display import display, HTML\n",
    "\n",
    "\n",
    "def fn():       # 1.Get file names from directory\n",
    "    file_list=os.listdir(r\"./data/pma/output/json/all/\")\n",
    "   \n",
    "    for file in file_list:\n",
    "        display(HTML(\"<a target='_new' href='./data/pma/output/json/all/\" + file +\"'>\" + file + \"</a>\"))\n",
    "    \n",
    "fn()"
   ]
  },
  {
   "cell_type": "code",
   "execution_count": null,
   "id": "ecc024dc",
   "metadata": {},
   "outputs": [],
   "source": []
  }
 ],
 "metadata": {
  "kernelspec": {
   "display_name": "Python 3",
   "language": "python",
   "name": "python3"
  },
  "language_info": {
   "codemirror_mode": {
    "name": "ipython",
    "version": 3
   },
   "file_extension": ".py",
   "mimetype": "text/x-python",
   "name": "python",
   "nbconvert_exporter": "python",
   "pygments_lexer": "ipython3",
   "version": "3.8.8"
  }
 },
 "nbformat": 4,
 "nbformat_minor": 5
}
