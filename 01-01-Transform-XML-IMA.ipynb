{
 "cells": [
  {
   "cell_type": "markdown",
   "id": "c4b4ad69",
   "metadata": {},
   "source": [
    "#  Tranform - Collections Data to Linked Art - Indianapolis Museum of Art"
   ]
  },
  {
   "cell_type": "markdown",
   "id": "8d5b9bdf",
   "metadata": {},
   "source": [
    "## Import What We Need\n",
    "\n",
    "See the [Transform Introduction](01-00-Transform-Intro.ipynb) for a description of the Python libraries used"
   ]
  },
  {
   "cell_type": "code",
   "execution_count": 2,
   "id": "40d0ee99",
   "metadata": {},
   "outputs": [],
   "source": [
    "try:\n",
    "    import ipywidgets\n",
    "except:\n",
    "    !pip install ipywidgets\n",
    "    import ipywidgets \n",
    "\n",
    "try:\n",
    "    import requests\n",
    "except:\n",
    "    !pip install requests\n",
    "    import requests \n",
    "\n",
    "try:\n",
    "    import IPython\n",
    "except:\n",
    "    !pip install IPython\n",
    "    import IPython \n",
    "\n",
    "try:\n",
    "    import json\n",
    "except:\n",
    "    !pip install json\n",
    "    import json     \n",
    "    \n",
    "try:\n",
    "    import cromulent\n",
    "except:\n",
    "    !pip install cromulent\n",
    "    import cromulent \n",
    "\n",
    "try:\n",
    "    import xmltodict\n",
    "except:\n",
    "    !pip install xmltodict\n",
    "    import xmltodict       \n",
    "\n",
    "\n",
    "from ipywidgets import Layout, FileUpload \n",
    "from IPython.display import display, IFrame, HTML\n",
    "\n",
    "from cromulent.model import factory, Actor, Production, BeginningOfExistence, EndOfExistence, TimeSpan, Place\n",
    "from cromulent.model import InformationObject, Phase, VisualItem \n",
    "from cromulent.vocab import Painting, Drawing,Miniature,add_art_setter, PrimaryName, Name, CollectionSet, instances, Sculpture \n",
    "from cromulent.vocab import aat_culture_mapping, AccessionNumber, Height, Width, SupportPart, Gallery, MuseumPlace \n",
    "from cromulent.vocab import BottomPart, Description, RightsStatement, MuseumOrg, Purchase\n",
    "from cromulent.vocab import Furniture, Mosaic, Photograph, Coin, Vessel, Graphic, Enamel, Embroidery, PhotographPrint\n",
    "from cromulent.vocab import PhotographAlbum, PhotographBook, PhotographColor, PhotographBW, Negative, Map, Clothing, Furniture\n",
    "from cromulent.vocab import Sample, Architecture, Armor, Book, DecArts, Implement, Jewelry, Manuscript, SiteInstallation, Text, Print\n",
    "from cromulent.vocab import TimeBasedMedia, Page, Folio, Folder, Box, Envelope, Binder, Case, FlatfileCabinet\n",
    "from cromulent.vocab import HumanMadeObject,Tapestry,LocalNumber\n",
    "from cromulent.vocab import Type,Set\n",
    "from cromulent.vocab import TimeSpan, Group, Acquisition, Place\n",
    "from cromulent.vocab import Production, TimeSpan, Actor\n",
    "from cromulent.vocab import LinguisticObject\n",
    "\n"
   ]
  },
  {
   "cell_type": "markdown",
   "id": "8ecd08d3",
   "metadata": {},
   "source": [
    "## Input Data\n",
    "The [Indianapolis Museum of Art (IMA)]((https://discovernewfields.org/)) has transformed a sample of its collections data to Linked Art JSON-LD.\n",
    "\n",
    "\n",
    "The collections data were sourced from the IMA's [EMu Collections Management Systems](https://www.axiell.com/solutions/product/emu/) in XML format. \n",
    "\n",
    "The [XML data files](https://github.com/IMAmuseum/LinkedArt/blob/master/XML) are available via [IMA's LinkedArt GitHub repository](https://github.com/IMAmuseum/LinkedArt), including the [Objects Sample XML file](https://github.com/IMAmuseum/LinkedArt/blob/master/XML/ObjectsSample.xml) ([raw file](https://raw.githubusercontent.com/IMAmuseum/LinkedArt/master/XML/ObjectsSample.xml)). \n",
    "\n",
    "<div class='alert alert-block alert-info'>An XML file is used as data input for the notebook, and as a miminum the ObjectsSample XML file should be downloaded.</div>"
   ]
  },
  {
   "cell_type": "markdown",
   "id": "ee8478c1",
   "metadata": {},
   "source": [
    "### Choose a file on your local system\n",
    "<div class='alert alert-block alert-info'>Select a file by clicking on the `Select XML file` button</div>"
   ]
  },
  {
   "cell_type": "code",
   "execution_count": 3,
   "id": "befa33d0",
   "metadata": {},
   "outputs": [],
   "source": [
    "# define file upload widget\n",
    "upload = FileUpload(accept='.xml', multiple=False, description='Select XML file')"
   ]
  },
  {
   "cell_type": "code",
   "execution_count": 5,
   "id": "2d7add0d",
   "metadata": {},
   "outputs": [
    {
     "data": {
      "application/vnd.jupyter.widget-view+json": {
       "model_id": "3f055087e4e345e18d9728a0e8cc117a",
       "version_major": 2,
       "version_minor": 0
      },
      "text/plain": [
       "FileUpload(value={'ObjectsSample.xml': {'metadata': {'name': 'ObjectsSample.xml', 'type': 'text/xml', 'size': …"
      ]
     },
     "metadata": {},
     "output_type": "display_data"
    }
   ],
   "source": [
    "display(upload)"
   ]
  },
  {
   "cell_type": "code",
   "execution_count": 6,
   "id": "f21fb4a0",
   "metadata": {},
   "outputs": [
    {
     "data": {
      "text/html": [
       "<div class='alert alert-block alert-success'>File uploaded</div>"
      ],
      "text/plain": [
       "<IPython.core.display.HTML object>"
      ]
     },
     "metadata": {},
     "output_type": "display_data"
    }
   ],
   "source": [
    "obj = False\n",
    "# get content from uploaded file \n",
    "for uploaded_filename in upload.value:\n",
    "    content = upload.value[uploaded_filename]['content']\n",
    "    obj = xmltodict.parse(content) \n",
    "    \n",
    "if obj == False:\n",
    "    display(HTML(\"<div class='alert alert-block alert-danger'>Please select a file to transform</div>\"))\n",
    "else:\n",
    "    display(HTML(\"<div class='alert alert-block alert-success'>File uploaded</div>\"))"
   ]
  },
  {
   "cell_type": "markdown",
   "id": "cbe11373",
   "metadata": {},
   "source": [
    "### Create drop-down list of artworks\n",
    "The next step will create a dropdown list of artworks from the XML file."
   ]
  },
  {
   "cell_type": "code",
   "execution_count": 7,
   "id": "b79a192e",
   "metadata": {},
   "outputs": [],
   "source": [
    "allObjects = obj[\"table\"][\"tuple\"]\n",
    "\n",
    "#object dropdown options\n",
    "objOptions = []\n",
    "objOptions.append((\"Please select an object\",''))\n",
    "\n",
    "for obj in allObjects:\n",
    "    title = irn = \"\"\n",
    "    # define properties variables  \n",
    "    for prop in obj[\"atom\"]:      \n",
    "        propName = prop[\"@name\"]     \n",
    "        if \"#text\" in prop:\n",
    "            if propName == \"irn\":\n",
    "                irn = prop[\"#text\"]  \n",
    "            if propName == \"TitMainTitle\":\n",
    "                title = prop[\"#text\"]\n",
    "            \n",
    "    objOptions.append((irn + ' : ' + title,irn))\n",
    "    \n",
    "selectObject = ipywidgets.Dropdown(options=objOptions, description='Select Object')"
   ]
  },
  {
   "cell_type": "markdown",
   "id": "06e00ebe",
   "metadata": {},
   "source": [
    "### Select Artwork"
   ]
  },
  {
   "cell_type": "code",
   "execution_count": 9,
   "id": "14958075",
   "metadata": {},
   "outputs": [
    {
     "data": {
      "text/html": [
       "<div class='alert alert-block alert-info'>Select an artwork from the dropdown list to transform the catalogue data to Linked Art JSON-LD</div>"
      ],
      "text/plain": [
       "<IPython.core.display.HTML object>"
      ]
     },
     "metadata": {},
     "output_type": "display_data"
    },
    {
     "data": {
      "application/vnd.jupyter.widget-view+json": {
       "model_id": "891df55f03454e81ad11d75727b52450",
       "version_major": 2,
       "version_minor": 0
      },
      "text/plain": [
       "Dropdown(description='Select Object', index=27, options=(('Please select an object', ''), ('1032 : long-neck v…"
      ]
     },
     "metadata": {},
     "output_type": "display_data"
    }
   ],
   "source": [
    "display(HTML(\"<div class='alert alert-block alert-info'>Select an artwork from the dropdown list to transform the catalogue data to Linked Art JSON-LD</div>\"))\n",
    "\n",
    "display(selectObject)"
   ]
  },
  {
   "cell_type": "code",
   "execution_count": 10,
   "id": "19f4d972",
   "metadata": {},
   "outputs": [
    {
     "data": {
      "text/html": [
       "<div class='alert alert-block alert-success'>Artwork selected : 47035 : Statue of Augustus Caesar</div"
      ],
      "text/plain": [
       "<IPython.core.display.HTML object>"
      ]
     },
     "metadata": {},
     "output_type": "display_data"
    }
   ],
   "source": [
    "selectedIRN = selectObject.value\n",
    "if selectedIRN == \"\":\n",
    "    display(HTML(\"<div class='alert alert-block alert-danger'>Please select an artwork to transform</div>\"))\n",
    "else:\n",
    "    display(HTML(\"<div class='alert alert-block alert-success'>Artwork selected : \" + selectObject.options[selectObject.index][0] + \"</div\"))"
   ]
  },
  {
   "cell_type": "markdown",
   "id": "bc5ed72f",
   "metadata": {},
   "source": [
    "The uploaded file was converted to a Python dictionary earlier with `obj = xmltodict.parse(content).` This code selects the part of the dictionary for the selected artwork\n"
   ]
  },
  {
   "cell_type": "code",
   "execution_count": 11,
   "id": "36e737f3",
   "metadata": {},
   "outputs": [],
   "source": [
    "selectedObject = {}\n",
    "for obj in allObjects:\n",
    "    for prop in obj[\"atom\"]:         \n",
    "        if prop[\"@name\"] == \"irn\":\n",
    "            irn = prop[\"#text\"]\n",
    "            if irn == selectedIRN:\n",
    "                selectedObject = obj\n",
    "                break\n",
    "               \n",
    "obj = selectedObject"
   ]
  },
  {
   "cell_type": "markdown",
   "id": "d108ea55",
   "metadata": {},
   "source": [
    "## Build the Linked Art JSON-LD file\n",
    "\n",
    "The following steps will transform the catalogue data for the selected artwork to Linked Art JSON-LD. The transformation will be divided into sections, using different parts of the Linked Art data model."
   ]
  },
  {
   "cell_type": "markdown",
   "id": "ce70d691",
   "metadata": {},
   "source": [
    "The selected artwork is represented as a Python dictionary. We want to transform this into a simpler representation for use with cromulent.\n",
    "\n",
    "The catalogue data is currently represented as follows:\n",
    "    \n",
    "    "
   ]
  },
  {
   "cell_type": "code",
   "execution_count": 12,
   "id": "90fb068a",
   "metadata": {},
   "outputs": [],
   "source": [
    "#print(json.dumps(obj,indent=2))"
   ]
  },
  {
   "cell_type": "markdown",
   "id": "9f3d1370",
   "metadata": {},
   "source": [
    "### Mapping of Input Fields"
   ]
  },
  {
   "cell_type": "markdown",
   "id": "7fb4640a",
   "metadata": {},
   "source": [
    "### Field mapping\n",
    "\n",
    "`mapp` is a dictionary containing a mapping from ids used in to create Linked Art JSON-LD, to fields in the input data"
   ]
  },
  {
   "cell_type": "code",
   "execution_count": 13,
   "id": "42030286",
   "metadata": {},
   "outputs": [],
   "source": [
    "mapp =  {\n",
    "    \"id\":\"irn\",\n",
    "    \"accession_number\":\"TitAccessionNo\",\n",
    "    \"accession_date\": \"TitAccessionDate\",\n",
    "    \"classification\" : \"TitObjectType\",\n",
    "    \"title\": \"TitMainTitle\",\n",
    "    \"alt_title\": \"\",\n",
    "    \"notes\": \"TitTitleNotes\",\n",
    "    \"date_created\":\"CreDateCreated\",\n",
    "    \"date_created_earliest\": \"CreEarliestDate\",\n",
    "    \"date_created_latest\": \"CreLatestDate\",\n",
    "    \"created_period\":\"CreCreationPeriod\",\n",
    "    \"created_dynasty\":\"CreCreationDynasty\",\n",
    "    \"created_inscriptions\":\"CrePrimaryInscriptions\",\n",
    "    \"created_notes\": \"CreCreationNotes\",\n",
    "    \"creator\":\"\",\n",
    "    \"physical_medium\": \"PhyMediumAndSupport\",\n",
    "    \"physical_style\": \"PhyStyle\",\n",
    "    \"physical_technique\": \"PhyTechnique\",\n",
    "    \"physical_description\": \"PhyDescription\",\n",
    "    \"physical_dimensions\": \"PhyConvertedDims\",\n",
    "    \"created_provenance\": \"CreProvenance\" ,\n",
    "    \"credit_line\": \"\",\n",
    "    \"collection\" : \"PhyCollectionArea\",\n",
    "    \"current_status\" : \"\",\n",
    "    \"current_owner\" : \"\"\n",
    "}"
   ]
  },
  {
   "cell_type": "markdown",
   "id": "b211703a",
   "metadata": {},
   "source": [
    "### Create dictionary using field mapping\n",
    "\n",
    "Next step is to create a dictionary containing object properties that will be used to create Linked Art JSON-LD"
   ]
  },
  {
   "cell_type": "code",
   "execution_count": 14,
   "id": "6c3e5770",
   "metadata": {},
   "outputs": [
    {
     "name": "stdout",
     "output_type": "stream",
     "text": [
      "{\n",
      "  \"creator\": [\n",
      "    {\n",
      "      \"id\": \"2741\",\n",
      "      \"name\": \"Unknown\",\n",
      "      \"role\": \"Artist\"\n",
      "    }\n",
      "  ],\n",
      "  \"id\": \"47035\",\n",
      "  \"accession_number\": \"08.19\",\n",
      "  \"accession_date\": \"1908\",\n",
      "  \"title\": \"Statue of Augustus Caesar\",\n",
      "  \"notes\": \"\",\n",
      "  \"classification\": \"Visual Works: Sculpture\",\n",
      "  \"date_created\": \"before 1908\",\n",
      "  \"date_created_earliest\": \"\",\n",
      "  \"date_created_latest\": \"1908\",\n",
      "  \"created_period\": \"\",\n",
      "  \"created_dynasty\": \"\",\n",
      "  \"created_inscriptions\": \"\",\n",
      "  \"created_notes\": \"\",\n",
      "  \"physical_medium\": \"plaster cast\",\n",
      "  \"physical_style\": \"Roman\",\n",
      "  \"physical_technique\": \"casting\",\n",
      "  \"physical_description\": \"Plaster cast from the 17th century B.C.E. Roman statue of Augustus Caesar form the original marble found in 1863 at the Primia Porta, Lilla of Livia, Rome, and now in the Braccio Nuovo of the Vatican, Rome.\",\n",
      "  \"physical_dimensions\": \"87 in.\",\n",
      "  \"created_provenance\": \"\",\n",
      "  \"collection\": \"901.2-American Painting and Sculpture 1800-1945\",\n",
      "  \"current_owner\": {\n",
      "    \"name\": \"Indianapolis Museum of Art at Newfields\",\n",
      "    \"location\": \"Indianapolis, Indiana\",\n",
      "    \"type\": \"http://vocab.getty.edu/aat/300312281\",\n",
      "    \"type_label\": \"\"\n",
      "  }\n",
      "}\n"
     ]
    }
   ],
   "source": [
    "#src https://note.nkmk.me/en/python-dict-get-key-from-value/\n",
    "def get_key_from_value(d, val):\n",
    "    keys = [k for k, v in d.items() if v == val]\n",
    "    if keys:\n",
    "        return keys[0]\n",
    "    return None\n",
    "\n",
    "\n",
    "# map input file data to dictionary keys\n",
    "def createObjProp(obj,mapp):\n",
    "    objProp = {\"creator\":[]}\n",
    "    for prop in obj[\"atom\"]: \n",
    "        propName = prop[\"@name\"]\n",
    "        propValue = \"\"\n",
    "        if \"#text\" in prop:\n",
    "            propValue = prop[\"#text\"]\n",
    "        if propName in list(mapp.values()):\n",
    "            key = get_key_from_value(mapp, propName)\n",
    "            objProp[key] = propValue\n",
    "        \n",
    "    for table in obj[\"table\"]: \n",
    "        if table[\"@name\"] == \"Creator1\":\n",
    "            id = name = \"\"\n",
    "            if \"tuple\" in table and \"atom\" in table[\"tuple\"]:\n",
    "                for cinfo in table[\"tuple\"][\"atom\"]:\n",
    "                    if cinfo[\"@name\"] == \"irn\":\n",
    "                        id = cinfo[\"#text\"]\n",
    "                    if cinfo[\"@name\"] == \"SummaryData\":\n",
    "                        name = cinfo[\"#text\"]\n",
    "                    if cinfo[\"@name\"] == \"CreRole\":\n",
    "                        role = cinfo[\"#text\"]\n",
    "                objProp[\"creator\"].append({\"id\": id, \"name\": name, \"role\" : role})\n",
    "               \n",
    "    objProp[\"current_owner\"] = {\"name\":\"Indianapolis Museum of Art at Newfields\",\n",
    "                                \"location\":\"Indianapolis, Indiana\",\n",
    "                                \"type\": \"http://vocab.getty.edu/aat/300312281\" ,\n",
    "                                \"type_label\": \"\"}\n",
    "    return objProp\n",
    "\n",
    "objProp = createObjProp(obj,mapp)\n",
    "\n",
    "print(json.dumps(objProp,indent=2))"
   ]
  },
  {
   "cell_type": "markdown",
   "id": "f61df79a",
   "metadata": {},
   "source": [
    "## Build Linked Art JSON-LD document\n",
    "\n",
    "The following code will now construct the JSON-LD document for the selected artwork using the Python library `cromulent`."
   ]
  },
  {
   "cell_type": "markdown",
   "id": "bdde0f05",
   "metadata": {},
   "source": [
    "### Define base URI for document\n"
   ]
  },
  {
   "cell_type": "code",
   "execution_count": 15,
   "id": "062afb11",
   "metadata": {},
   "outputs": [],
   "source": [
    "#  baseURI for JSON-LD document\n",
    "baseURI = \"https://data.discovernewfields.org/\"\n",
    "factory.base_url = baseURI\n",
    "factory.default_lang = \"en\""
   ]
  },
  {
   "cell_type": "markdown",
   "id": "cb9cadcf",
   "metadata": {},
   "source": [
    "### Core Properties\n",
    "\n",
    "There are a few core properties that every resource should have for it to be a useful part of the world of Linked Open Data:\n",
    "\n",
    "- `@context`\n",
    "- `id`\n",
    "- `type`\n",
    "- `_label`\n",
    "\n",
    "### Classification\n",
    "\n",
    "CIDOC-CRM is a framework that must be extended via additional vocabularies and ontologies to be useful. The provided mechanism for doing this is the classified_as property, which refers to a term from a controlled vocabulary. This is in contrast to the `type` property, which is used for CIDOC-CRM defined classes, and a few extensions as needed. \n",
    "\n",
    "The `classified_as` property is thus a way to be more specific about the sort of entity, while maintaining the core information as the class using type. Controlled vocabulary entries should not be used with `type`, nor classes used with `classified_as`.\n",
    "\n",
    "While any external vocabulary of terms can be used, the Getty's Art and Architecture Thesaurus is used whenever possible for consistency and that it is already widespread in the museum domain. The set of terms that have been identified as useful are listed in the community best-practices for recommendations, and within the documentation of the model when a particular choice is essential for interoperability.\n",
    "\n",
    "-----\n",
    "\n",
    "*IMA Data Mapping*\n",
    "\n",
    "The `id` is a URL and has been created from the `irn` value together with a URL prefix: https://data.discovernewfields.org/\n",
    "\n",
    "The `_label` is a human readable label, intended for developers and other people reading the data. The value is taken from the `TitMainTitle` property.\n",
    "\n",
    "\n",
    "The `classification` property in objProp is used to search for a matching object type.  The value is taken from the `TitObjectType` property in the IMA XML data file.\n",
    "\n",
    "----\n",
    "\n",
    "*Further information* \n",
    "\n",
    "https://linked.art/model/base/#core-properties\n",
    "\n",
    "https://linked.art/model/base/#types-and-classifications\n"
   ]
  },
  {
   "cell_type": "code",
   "execution_count": 16,
   "id": "8e290e25",
   "metadata": {},
   "outputs": [
    {
     "name": "stdout",
     "output_type": "stream",
     "text": [
      "{\n",
      "  \"@context\": \"https://linked.art/ns/v1/linked-art.json\",\n",
      "  \"id\": \"https://data.discovernewfields.org/47035\",\n",
      "  \"type\": \"HumanMadeObject\",\n",
      "  \"_label\": \"Statue of Augustus Caesar\",\n",
      "  \"classified_as\": [\n",
      "    {\n",
      "      \"id\": \"http://vocab.getty.edu/aat/300047090\",\n",
      "      \"type\": \"Type\",\n",
      "      \"_label\": \"Sculpture\",\n",
      "      \"classified_as\": [\n",
      "        {\n",
      "          \"id\": \"http://vocab.getty.edu/aat/300435443\",\n",
      "          \"type\": \"Type\",\n",
      "          \"_label\": \"Type of Work\"\n",
      "        }\n",
      "      ]\n",
      "    }\n",
      "  ]\n",
      "}\n"
     ]
    }
   ],
   "source": [
    "# dictionary of cromulent Linked Art object types\n",
    "objTypes = {\n",
    "\"Painting\": Painting(),\n",
    "\"Sculpture\": Sculpture(),\n",
    "\"Drawing\": Drawing(),\n",
    "\"Miniature\": Miniature(),\n",
    "\"Tapestry\": Tapestry(),\n",
    "\"Furniture\": Furniture(),\n",
    "\"Furnishings\": DecArts(),\n",
    "\"Mosaic\": Mosaic(),\n",
    "\"Photograph\": Photograph(),\n",
    "\"Coin\": Coin(),\n",
    "\"Vessel\": Vessel(),\n",
    "\"Graphic\": Graphic(),\n",
    "\"Enamel\": Enamel(),\n",
    "\"Embroidery\": Embroidery(),\n",
    "\"PhotographPrint\": PhotographPrint(),\n",
    "\"PhotographAlbum\": PhotographAlbum(),\n",
    "\"PhotographBook\": PhotographBook(),\n",
    "\"PhotographColor\": PhotographColor(),\n",
    "\"PhotographBW\": PhotographBW(),\n",
    "\"Negative\": Negative(),\n",
    "\"Map\": Map(),\n",
    "\"Clothing\": Clothing(),\n",
    "\"Sample\": Sample(),\n",
    "\"Architecture\": Architecture(),\n",
    "\"Armor\": Armor(),\n",
    "\"Book\": Book(),\n",
    "\"DecArts\": DecArts(),\n",
    "\"Implement\": Implement(),\n",
    "\"Jewelry\": Jewelry(),\n",
    "\"Manuscript\": Manuscript(),\n",
    "\"SiteInstallation\": SiteInstallation(),\n",
    "\"Text\": Text(),\n",
    "\"Print\": Print(),\n",
    "\"TimeBasedMedia\": TimeBasedMedia(),\n",
    "\"Page\": Page(),\n",
    "\"Folio\": Folio(),\n",
    "\"Folder\": Folder(),\n",
    "\"Box\": Box(),\n",
    "\"Envelope\": Envelope(),\n",
    "\"Binder\": Binder(),\n",
    "\"Case\": Case(),\n",
    "\"FlatfileCabinet\": FlatfileCabinet()\n",
    "}\n",
    "\n",
    "\n",
    "object_uri = baseURI + objProp[\"id\"]\n",
    "\n",
    "objLA = None\n",
    "objLA = HumanMadeObject() # linked art object\n",
    "\n",
    "for otype in objTypes:\n",
    "    if otype in objProp[\"classification\"]:\n",
    "        objLA = objTypes[otype]        \n",
    "        break\n",
    "            \n",
    "objLA.id = baseURI + objProp[\"id\"]\n",
    "objLA._label =  objProp[\"title\"]\n",
    "\n",
    "print(factory.toString(objLA, compact=False))"
   ]
  },
  {
   "cell_type": "markdown",
   "id": "f04e6fc2",
   "metadata": {},
   "source": [
    "### Identifiers \n",
    "\n",
    "Many resources of interest are also given external identifiers, such as accession numbers for objects, ORCIDs for people or groups, lot numbers for auctions, and so forth. Identifiers are represented in a very similar way to names, but instead use the Identifier class. Identifiers will normally have a classification determining which sort of identifier it is, to distinguish between internal repository system assigned numbers from museum assigned accession numbers, for example.\n",
    "\n",
    "As Identifiers and Names use the same `identified_by` property, the JSON will frequently have mixed classes in the array. Unlike `Names`, `Identifiers` are not part of human language and thus cannot have translations or a language associated with them.\n",
    "\n",
    "----\n",
    "*Further information*\n",
    "\n",
    "https://linked.art/model/base/#identifiers\n"
   ]
  },
  {
   "cell_type": "markdown",
   "id": "cab7fc4b",
   "metadata": {},
   "source": [
    "#### Accession Number"
   ]
  },
  {
   "cell_type": "code",
   "execution_count": 17,
   "id": "3db9a04a",
   "metadata": {},
   "outputs": [
    {
     "name": "stdout",
     "output_type": "stream",
     "text": [
      "{\n",
      "  \"@context\": \"https://linked.art/ns/v1/linked-art.json\",\n",
      "  \"id\": \"https://data.discovernewfields.org/Identifier/08.19\",\n",
      "  \"type\": \"Identifier\",\n",
      "  \"classified_as\": [\n",
      "    {\n",
      "      \"id\": \"http://vocab.getty.edu/aat/300312355\",\n",
      "      \"type\": \"Type\",\n",
      "      \"_label\": \"Accession Number\"\n",
      "    }\n",
      "  ],\n",
      "  \"content\": \"08.19\"\n",
      "}\n"
     ]
    }
   ],
   "source": [
    "def objAccession(objProp,object_uri):\n",
    "    accession = None\n",
    "    accession_number = objProp[\"accession_number\"]\n",
    "    if accession_number != \"\":\n",
    "        accession = AccessionNumber(accession_number,value=accession_number)\n",
    "    return accession\n",
    "\n",
    "\n",
    "accession = objAccession(objProp,object_uri)        \n",
    "print(factory.toString(accession, compact=False))"
   ]
  },
  {
   "cell_type": "markdown",
   "id": "8144b1a9",
   "metadata": {},
   "source": [
    "#### Local Number"
   ]
  },
  {
   "cell_type": "code",
   "execution_count": 18,
   "id": "e2f793ee",
   "metadata": {},
   "outputs": [
    {
     "name": "stdout",
     "output_type": "stream",
     "text": [
      "{\n",
      "  \"@context\": \"https://linked.art/ns/v1/linked-art.json\",\n",
      "  \"id\": \"https://data.discovernewfields.org/Identifier/47035\",\n",
      "  \"type\": \"Identifier\",\n",
      "  \"classified_as\": [\n",
      "    {\n",
      "      \"id\": \"http://vocab.getty.edu/aat/300404621\",\n",
      "      \"type\": \"Type\",\n",
      "      \"_label\": \"Owner-Assigned Number\"\n",
      "    }\n",
      "  ],\n",
      "  \"content\": \"47035\"\n",
      "}\n"
     ]
    }
   ],
   "source": [
    "def objLocalnumber(objProp,object_uri):\n",
    "    localnumber = None\n",
    "    id = str(objProp[\"id\"])\n",
    "    if id != \"\":\n",
    "        localnumber = LocalNumber(id,value=id)\n",
    "    return localnumber\n",
    "\n",
    "localnumber = objLocalnumber(objProp,object_uri)\n",
    "print(factory.toString(localnumber, compact=False))"
   ]
  },
  {
   "cell_type": "markdown",
   "id": "7554143e",
   "metadata": {},
   "source": [
    "### Names \n",
    "\n",
    "As the `_label` property is intended as internal documentation for the data, it is strongly recommended that every resource that should be rendered to an end user also have at least one specific name. The name could be for an object, a person, a group, an event or anything else. This pattern uses the `identified_by` property, with a `Name` resource. The value of the name is given in the content property of the `Name`.\n",
    "\n",
    "It is somewhat unintuitive to think of a name as identifying the resource it is associated with, as names are typically not unique. However, as the name itself is uniquely identified rather than just an anonymous string, they are no longer a shared label and instead the particular instance of a name is uniquely associated with the resource. With this formulation, the name instance does uniquely identify the resource.\n",
    "\n",
    "If there is more than one name given, then there should be one that is `classified_as` the primary name for use. This is done by adding the `Primary Name` (aat:300404670) term to it. There should be exactly one primary title given per language.\n",
    "\n",
    "Names are also part of human communication, and can have the Linguistic features of the model associated with them, such as having a particular language, or having translations.\n",
    "\n",
    "---\n",
    "*Further information*\n",
    "\n",
    "https://linked.art/model/base/#names\n"
   ]
  },
  {
   "cell_type": "markdown",
   "id": "f51f405d",
   "metadata": {},
   "source": [
    "#### Primary Name"
   ]
  },
  {
   "cell_type": "code",
   "execution_count": 19,
   "id": "dab5a407",
   "metadata": {},
   "outputs": [
    {
     "name": "stdout",
     "output_type": "stream",
     "text": [
      "{\n",
      "  \"@context\": \"https://linked.art/ns/v1/linked-art.json\",\n",
      "  \"id\": \"https://data.discovernewfields.org/47035/primary-name\",\n",
      "  \"type\": \"Name\",\n",
      "  \"classified_as\": [\n",
      "    {\n",
      "      \"id\": \"http://vocab.getty.edu/aat/300404670\",\n",
      "      \"type\": \"Type\",\n",
      "      \"_label\": \"Primary Name\"\n",
      "    }\n",
      "  ],\n",
      "  \"content\": \"Statue of Augustus Caesar\"\n",
      "}\n"
     ]
    }
   ],
   "source": [
    "def objPrimaryname(objProp,object_uri):\n",
    "    primaryname = None\n",
    "    title = objProp[\"title\"]\n",
    "    id = str(objProp[\"id\"])\n",
    "    primaryname = PrimaryName( object_uri + \"/primary-name\",\n",
    "                                value=title)\n",
    "    return primaryname\n",
    "\n",
    "primaryname = objPrimaryname(objProp,object_uri)\n",
    "print(factory.toString(primaryname, compact=False))"
   ]
  },
  {
   "cell_type": "markdown",
   "id": "96f0c7be",
   "metadata": {},
   "source": [
    "#### Alternate Name"
   ]
  },
  {
   "cell_type": "code",
   "execution_count": 20,
   "id": "12a761b1",
   "metadata": {},
   "outputs": [],
   "source": [
    "def objAlternatename(objProp,object_uri):\n",
    "    alternateName = None\n",
    "    if \"alt_title\" in objProp:\n",
    "        alt_title = objProp[\"alt_title\"]\n",
    "        alternatename = AlternateName(object_uri +  \"/alternate-name\",value=alt_title)\n",
    "    return alternateName\n",
    "\n",
    "altname = objAlternatename(objProp,object_uri)\n",
    "if altname is not None:\n",
    "    print(factory.toString(altname, compact=False))"
   ]
  },
  {
   "cell_type": "markdown",
   "id": "4d3abe41",
   "metadata": {},
   "source": [
    "### Identified_by"
   ]
  },
  {
   "cell_type": "code",
   "execution_count": 21,
   "id": "bb19a544",
   "metadata": {},
   "outputs": [],
   "source": [
    "listIds = (accession,localnumber,primaryname)\n",
    "identified_by = False\n",
    "for id in listIds:\n",
    "    if id is not None:\n",
    "        identified_by = True\n",
    "        break\n",
    "\n",
    "if identified_by == True:\n",
    "    objLA.identified_by = []\n",
    "        \n",
    "    for id in listIds:\n",
    "        if id is not None:\n",
    "            objLA.identified_by.append(id)"
   ]
  },
  {
   "cell_type": "markdown",
   "id": "5791297e",
   "metadata": {},
   "source": [
    "### Home Page\n",
    "\n",
    "A very common scenario is that there is a web page about the object, perhaps managed by a collections management system. For humans, this page is much more useful than the data intended for machines. It can be referenced with the `subject_of` property, and points to a `DigitalObject` which is `classified_as` a web page, or `aat:300264578`. As with digital images, the home page can have a format of \"text/html\" and other properties.\n",
    "\n",
    "----\n",
    "\n",
    "*Further information*\n",
    "\n",
    "https://linked.art/model/digital/#home-page"
   ]
  },
  {
   "cell_type": "code",
   "execution_count": 22,
   "id": "1490e45d",
   "metadata": {},
   "outputs": [],
   "source": [
    "def objHomepage(objProp,object_uri):\n",
    "\n",
    "    homepage = None\n",
    "    id = str(objProp[\"id\"])\n",
    "\n",
    "    homepageId = \"http://collection.imamuseum.org/artwork/\" + id\n",
    "\n",
    "    homepage = LinguisticObject(homepageId, label=\"Homepage for the Object\")\n",
    "    homepage.classified_as = Type(\"http://vocab/getty.edu/aat/300264578\", label=\"Web pages (documents)\")\n",
    "    homepage.classified_as = Type(\"http://vocab.getty.edu/aat/300266277\", label=\"home pages\")\n",
    "    homepage.format = \"text/html\"\n",
    "    \n",
    "    return homepage\n"
   ]
  },
  {
   "cell_type": "code",
   "execution_count": 23,
   "id": "75cbb51b",
   "metadata": {},
   "outputs": [
    {
     "name": "stdout",
     "output_type": "stream",
     "text": [
      "{\n",
      "  \"@context\": \"https://linked.art/ns/v1/linked-art.json\",\n",
      "  \"id\": \"http://collection.imamuseum.org/artwork/47035\",\n",
      "  \"type\": \"LinguisticObject\",\n",
      "  \"_label\": \"Homepage for the Object\",\n",
      "  \"classified_as\": [\n",
      "    {\n",
      "      \"id\": \"http://vocab/getty.edu/aat/300264578\",\n",
      "      \"type\": \"Type\",\n",
      "      \"_label\": \"Web pages (documents)\"\n",
      "    },\n",
      "    {\n",
      "      \"id\": \"http://vocab.getty.edu/aat/300266277\",\n",
      "      \"type\": \"Type\",\n",
      "      \"_label\": \"home pages\"\n",
      "    }\n",
      "  ],\n",
      "  \"format\": \"text/html\"\n",
      "}\n"
     ]
    }
   ],
   "source": [
    "homepage = objHomepage(objProp,object_uri) \n",
    "\n",
    "if homepage is not None:\n",
    "    print(factory.toString(homepage, compact=False))\n",
    "    #objLA.subject_of = homepage"
   ]
  },
  {
   "cell_type": "markdown",
   "id": "7a67b937",
   "metadata": {},
   "source": [
    "### Statements about a Resource - Linguistic Objects \n",
    "\n",
    "In many cases, current data does not support the level of specificity that the full ontology allows, or the information is simply best expressed in human-readable form. For example, instead of a completely modeled set of parts with materials, many museum collection management systems allow only a single human-readable string for the \"medium\" or \"materials statement\". The same is true in many other situations, including rights or allowable usage statements, dimensions, edition statements and so forth. Any time that there is a description of the resource, with or without qualification as to the type of description, then this pattern can be used to record the descriptive text.\n",
    "\n",
    "The pattern makes use of the `LinguisticObject` class that is used to identify a particular piece of textual content. These Linguistic Objects are then refered to by any other resource. They maintain the statement's text in the content property, and the language of the statement (if known) in the language property.\n",
    "\n",
    "Use cases for this pattern include:\n",
    "\n",
    "- General description of the resource\n",
    "- Materials statement for an object\n",
    "- Attribution statement for an image\n",
    "- Biography for a person\n",
    "- Dimensions statement for a part of an object    \n",
    "\n",
    "----\n",
    "\n",
    "*Further information*\n",
    "\n",
    "https://linked.art/model/base/#statements-about-a-resource\n"
   ]
  },
  {
   "cell_type": "markdown",
   "id": "ca434e8a",
   "metadata": {},
   "source": [
    "#### Provenance"
   ]
  },
  {
   "cell_type": "code",
   "execution_count": 24,
   "id": "139935a1",
   "metadata": {},
   "outputs": [],
   "source": [
    "def objProvenance(objProp,object_uri):\n",
    "\n",
    "    prov = None\n",
    "    if \"created_provenance\" in objProp:\n",
    "        provenance = objProp[\"created_provenance\"]\n",
    "        if provenance !=\"\":\n",
    "            prov = LinguisticObject(object_uri + \"/provenance-statement\", \n",
    "                            value=provenance,\n",
    "                            label=\"Provenance Statement about the Object\"\n",
    "                           )\n",
    "            prov.classified_as = Type(\"http://vocab.getty.edu/aat/300055863\", label=\"provenance (history of ownership)\")\n",
    "            prov.classified_as = Type(\"http://vocab.getty.edu/aat/300418049\", label=\"brief texts\")\n",
    "        return prov\n",
    "\n",
    "prov = objProvenance(objProp,object_uri)\n",
    "\n",
    "if prov is not None:\n",
    "    print(factory.toString(prov, compact=False))\n",
    "    #objLA.referred_to_by = prov\n",
    "    \n"
   ]
  },
  {
   "cell_type": "markdown",
   "id": "41e6e10b",
   "metadata": {},
   "source": [
    "#### Credit Line"
   ]
  },
  {
   "cell_type": "code",
   "execution_count": 25,
   "id": "2a751e47",
   "metadata": {},
   "outputs": [],
   "source": [
    "def objCredit(objProp,object_uri):\n",
    "    credit = None\n",
    "    propCredit = \"credit_line\"\n",
    "    \n",
    "    if propCredit in objProp:\n",
    "        credit_line = objProp[propCredit]\n",
    "        if credit_line != \"\":\n",
    "            credit = LinguisticObject(object_uri + \"/credit-line\", \n",
    "                            value=credit_line,\n",
    "                            label=\"Credit Line for the Object\"\n",
    "                           )\n",
    "            credit.classified_as = Type(\"http://vocab.getty.edu/aat/300026687\", label=\"acknowledgements\")\n",
    "            credit.classified_as = Type(\"http://vocab.getty.edu/aat/300418049\", label=\"brief texts\")\n",
    "    return credit\n"
   ]
  },
  {
   "cell_type": "code",
   "execution_count": 26,
   "id": "83d17d48",
   "metadata": {},
   "outputs": [],
   "source": [
    "credit = objCredit(objProp,object_uri)\n",
    "\n",
    "if credit is not None:\n",
    "    #objLA.referred_to_by = credit\n",
    "    print(factory.toString(credit, compact=False))"
   ]
  },
  {
   "cell_type": "markdown",
   "id": "60456c6e",
   "metadata": {},
   "source": [
    "### Production \n",
    "\n",
    "The first activity in an object's lifecycle is its creation, or `Production`. The relationship to the object that was produced by the activity (`produced`) is added to the general activity model, along with the time, location and actors. This follows the base pattern for activities.\n",
    "\n",
    "----\n",
    "*Further information*\n",
    "\n",
    "https://linked.art/model/object/production/\n"
   ]
  },
  {
   "cell_type": "code",
   "execution_count": 27,
   "id": "a109e578",
   "metadata": {},
   "outputs": [],
   "source": [
    "def objProduction(objProp,object_uri):\n",
    "\n",
    "    prod = None\n",
    "\n",
    "    date_created = \"date_created\"\n",
    "    created_earliest = \"date_created_earliest\"\n",
    "    created_latest = \"date_created_latest\"\n",
    "\n",
    "    if date_created in objProp:\n",
    "        prod = Production(object_uri + \"/production\", label=\"Production of the Object\")    \n",
    "    \n",
    "        labelTimespan = \"date unknown\"\n",
    "        if objProp[date_created] != \"\":\n",
    "            labelTimespan = objProp[date_created]\n",
    "   \n",
    "        timespan = TimeSpan(object_uri + \"/production/timespan\", label=labelTimespan)\n",
    "        \n",
    "        if created_earliest in objProp:\n",
    "            timespan.begin_of_the_begin = objProp[created_earliest]\n",
    "        if created_latest in objProp:\n",
    "            timespan.end_of_the_end = objProp[created_latest]\n",
    "    \n",
    "        prod.timespan = timespan\n",
    "\n",
    "        if \"creator\" in objProp:\n",
    "            for creator in objProp[\"creator\"]:\n",
    "                actor = Actor()\n",
    "                if \"id\" in creator:\n",
    "                    actor.id = creator[\"id\"]\n",
    "                if \"label\" in creator:\n",
    "                    actor.label = creator[\"name\"]\n",
    "                prod.carried_out_by = actor\n",
    "            \n",
    "    return prod"
   ]
  },
  {
   "cell_type": "code",
   "execution_count": 28,
   "id": "c94ff249",
   "metadata": {},
   "outputs": [
    {
     "name": "stdout",
     "output_type": "stream",
     "text": [
      "{\n",
      "  \"@context\": \"https://linked.art/ns/v1/linked-art.json\",\n",
      "  \"id\": \"https://data.discovernewfields.org/47035/production\",\n",
      "  \"type\": \"Production\",\n",
      "  \"_label\": \"Production of the Object\",\n",
      "  \"timespan\": {\n",
      "    \"id\": \"https://data.discovernewfields.org/47035/production/timespan\",\n",
      "    \"type\": \"TimeSpan\",\n",
      "    \"_label\": \"before 1908\",\n",
      "    \"end_of_the_end\": \"1908\"\n",
      "  },\n",
      "  \"carried_out_by\": [\n",
      "    {\n",
      "      \"id\": \"2741\",\n",
      "      \"type\": \"Actor\"\n",
      "    }\n",
      "  ]\n",
      "}\n"
     ]
    }
   ],
   "source": [
    "prod = objProduction(objProp,object_uri)\n",
    "\n",
    "if prod is not None:\n",
    "    print(factory.toString(prod, compact=False))\n",
    "    #objLA.produced_by = prod"
   ]
  },
  {
   "cell_type": "markdown",
   "id": "0271bb78",
   "metadata": {},
   "source": [
    "### Current Owner and Acquisition \n",
    "\n",
    "Acquisitions are used to describe the transfer of ownership of an object from one owner to the next. The first owner is typically the artist, who would then transfer it to the second owner, to the third owner and so on. The ownership chain can be expressed by repeating this same pattern with the buyer from one acquisition being the seller in the subsequent one. If the previous owner (e.g. the seller if there is a value exchange) or the subsequent owner (e.g. the buyer) is not known for a particular acquisition, then the reference can be left out from the description.\n",
    "\n",
    "The acquistion is not necessarily a purchase, it could be a gift, an inheritance or any other method of gaining the right of ownership of an object.\n",
    "\n",
    "The model encodes this information with an Acquisition part of the overall Provenance Event. The acquisition is the transfer of the right of ownership of an object (referenced in transferred_title_of) from the seller (in transferred_title_from) to the buyer (in transferred_title_to).\n",
    "\n",
    "Each object has its own Acquisition as part of the provenance event, so if a collector buys three paintings from a dealer, then there would be a single Provenance Event with three Acquisitions, all of which transfer the title of a single painting from the dealer to the collector.\n",
    "\n",
    "----\n",
    "*Further information*\n",
    "\n",
    "https://linked.art/model/provenance/acquisition/#object-acquisition\n",
    "\n"
   ]
  },
  {
   "cell_type": "code",
   "execution_count": 29,
   "id": "552f811d",
   "metadata": {},
   "outputs": [],
   "source": [
    "def objCurrentowner(objProp,object_uri):\n",
    "    current_owner = None\n",
    "    if  \"current_owner\" in objProp and objProp[\"current_owner\"][\"name\"] != \"\":\n",
    "        \n",
    "        cowner = objProp[\"current_owner\"]\n",
    "        cowner_name = cowner[\"name\"]\n",
    "        cowner_type = cowner[\"type\"]\n",
    "        cowner_type_label = cowner[\"type_label\"]\n",
    "        current_owner = Group( \"http://vocab.getty.edu/ulan/500300517\",label=cowner_name)\n",
    "        current_owner.classified_as = Type( cowner_type,label=\"museums (institutions)\")\n",
    "        \n",
    "        \n",
    "        acquisition = objAcquisition(objProp,object_uri)\n",
    "        if acquisition is not None:\n",
    "            current_owner.acquired_title_through = acquisition \n",
    "    return current_owner \n",
    "\n",
    "def objAcquisition(objProp,object_uri):\n",
    "    acquisition = None\n",
    "    if \"accession_date\" in objProp and objProp[\"accession_date\"] != \"\":\n",
    "        acquisition = Acquisition(object_uri + \"/IMA-acquisition\", label = \"Acquisition of the Object\")\n",
    "        acquisition.classified_as = Type(\"http://vocab.getty.edu/aat/300157782\",\n",
    "                                         label=\"acquisition (collections management)\")\n",
    "        \n",
    "        if \"name_location\" in objProp[\"current_owner\"]:\n",
    "            acquisition.took_place_at = Place(\"http://vocab.getty.edu/tgn/7012924\", \n",
    "                                              label=objProp[\"current_owner\"][\"location\"]) \n",
    "        acquisition.timespan = objAcquisitionTimespan(object_uri,objProp[\"accession_date\"])\n",
    "    return acquisition\n",
    "\n",
    "def objAcquisitionTimespan(object_uri,accession_date):\n",
    "    timespan = None\n",
    "    end = begin = \"\"\n",
    "    if len(accession_date) == 4:\n",
    "        begin = accession_date + \"-01-01T00:00:00.000Z\"\n",
    "        end = accession_date + \"-12-31T00:00:00.000Z\"\n",
    "        \n",
    "    elif len(accession_date) == 8:\n",
    "        begin = accession_date + \"01T00:00:00.000Z\"\n",
    "        end = accession_date \n",
    "        if '-02-' in accession_date:\n",
    "            end = end + \"28\"\n",
    "        if ('-01-','-03-','-05-','-07-','-08-','-09-','-10-','-12-') in accession_date:\n",
    "            end = end + \"31\"\n",
    "        if ('-04-','-06-','-09-','-11-'):\n",
    "            end = end + \"30\"      \n",
    "        end = end + \"T00:00:00\"\n",
    "         \n",
    "    elif len(accession_date) == 10:\n",
    "        begin = accession_date + \"T00:00:00.000Z\"\n",
    "        end = accession_date + \"T00:00:00.000Z\"    \n",
    "    else:\n",
    "        begin = end = \"\"\n",
    "        \n",
    "    timespan = TimeSpan(object_uri + \"/IMA-acquisition/timespan\", label=accession_date)\n",
    "        \n",
    "    if begin != \"\":\n",
    "        timespan.begin_of_the_begin = begin\n",
    "    if end != \"\":\n",
    "        timespan.end_of_the_end = end\n",
    "    return timespan"
   ]
  },
  {
   "cell_type": "code",
   "execution_count": 30,
   "id": "9417588e",
   "metadata": {},
   "outputs": [
    {
     "name": "stdout",
     "output_type": "stream",
     "text": [
      "{\n",
      "  \"@context\": \"https://linked.art/ns/v1/linked-art.json\",\n",
      "  \"id\": \"http://vocab.getty.edu/ulan/500300517\",\n",
      "  \"type\": \"Group\",\n",
      "  \"_label\": \"Indianapolis Museum of Art at Newfields\",\n",
      "  \"classified_as\": [\n",
      "    {\n",
      "      \"id\": \"http://vocab.getty.edu/aat/300312281\",\n",
      "      \"type\": \"Type\",\n",
      "      \"_label\": \"museums (institutions)\"\n",
      "    }\n",
      "  ],\n",
      "  \"acquired_title_through\": [\n",
      "    {\n",
      "      \"id\": \"https://data.discovernewfields.org/47035/IMA-acquisition\",\n",
      "      \"type\": \"Acquisition\",\n",
      "      \"_label\": \"Acquisition of the Object\",\n",
      "      \"classified_as\": [\n",
      "        {\n",
      "          \"id\": \"http://vocab.getty.edu/aat/300157782\",\n",
      "          \"type\": \"Type\",\n",
      "          \"_label\": \"acquisition (collections management)\"\n",
      "        }\n",
      "      ],\n",
      "      \"timespan\": {\n",
      "        \"id\": \"https://data.discovernewfields.org/47035/IMA-acquisition/timespan\",\n",
      "        \"type\": \"TimeSpan\",\n",
      "        \"_label\": \"1908\",\n",
      "        \"begin_of_the_begin\": \"1908-01-01T00:00:00.000Z\",\n",
      "        \"end_of_the_end\": \"1908-12-31T00:00:00.000Z\"\n",
      "      }\n",
      "    }\n",
      "  ]\n",
      "}\n"
     ]
    }
   ],
   "source": [
    "current_owner = objCurrentowner(objProp,object_uri)\n",
    "\n",
    "if current_owner is not None:\n",
    "    print(factory.toString(current_owner, compact=False))\n",
    "    #objLA.current_owner = current_owner"
   ]
  },
  {
   "cell_type": "markdown",
   "id": "539cfae1",
   "metadata": {},
   "source": [
    "## Custody\n",
    "\n",
    "[Linked Art Data Model documentation](https://linked.art/model/provenance/custody/#institutional-ownership-departmental-custody)\n",
    "\n",
    "Objects are owned by legal entities, such as museum organizations or individual people. However there may be more information about which department is responsible within a museum for the curation of the object. This is the division between acquisitions (the legal ownership of the object) and custody (the responsibility for looking after the object). If the department is known, then it should be either part of the Provenance Event in which the object is acquired, or a separate provenance event if the object was not accessioned by a department and later came under their care, or was transferred between departments. In these latter cases, the ownership does not change, only the custody of the object.\n",
    "\n",
    "The department becomes the `current_keeper` of the object, whereas the institution is the `current_owner`.\n"
   ]
  },
  {
   "cell_type": "code",
   "execution_count": 31,
   "id": "9d1c6863",
   "metadata": {},
   "outputs": [],
   "source": [
    "def objCustody(objProp,object_uri):\n",
    "    custody = None\n",
    "    \n",
    "    if \"current_status\" in objProp and objProp[\"current_status\"] != \"\":\n",
    "        current_status = objProp[\"current_status\"]\n",
    "        \n",
    "        current_owner = checkCurrentOwner(current_status)\n",
    "    \n",
    "        if current_owner == False:\n",
    "            name = objProp[\"current_owner\"][\"name\"]\n",
    "            type = objProp[\"current_owner\"][\"type\"]\n",
    "            label = objProp[\"current_owner\"][\"type_label\"]\n",
    "            \n",
    "            custody = Group(label=name)\n",
    "            custody.classified_as = Type(type, \n",
    "                                     label=label)\n",
    "    return custody\n",
    "\n",
    "def checkCurrentOwner(current_status):\n",
    "    current_owner = False\n",
    "    if current_status != \"\":\n",
    "        checkObjStatus = ('Accessioned','Partial Accession')\n",
    "        for status in checkObjStatus:\n",
    "            if status == current_status:\n",
    "                current_owner = True\n",
    "            if \"IMA-Owned\" in current_status:\n",
    "                current_owner = True\n",
    "    return current_owner\n"
   ]
  },
  {
   "cell_type": "code",
   "execution_count": 32,
   "id": "226c6c08",
   "metadata": {},
   "outputs": [],
   "source": [
    "custody = objCustody(objProp,object_uri)\n",
    "if custody is not None:\n",
    "    print(factory.toString(custody, compact=False))\n",
    "    #objLA.current_owner = custody"
   ]
  },
  {
   "cell_type": "markdown",
   "id": "35ce1107",
   "metadata": {},
   "source": [
    "### Membership of Collections and Sets \n",
    "\n",
    "\n",
    "There are many use cases for grouping resources together, often of the same class but sometimes of varying types. These use cases are exemplified in the sections below, and range from the set of objects in an auction lot, to dealer inventories and museum collections, exhibitions, a set of related concepts, or the set of people that share a common feature such as gender or nationality.\n",
    "\n",
    "In order to cover all of the use cases with a consistent pattern, we introduce a new `Set` class from outside of CIDOC-CRM. This avoids issues with sets of resources with different types, and the semantics of the identity of objects and collections. If an equivalent class is added into the core CIDOC-CRM ontology in the future, a new major version of the specification will change to using it.\n",
    "\n",
    "#### Sets \n",
    "\n",
    "Core Features\n",
    "\n",
    "Sets are conceptual groupings, rather than physical ones. The set of objects in a virtual exhibition or simply the set of a person's favorite objects never change their physical state by being part of the Set or not. They are, thus, created by a `Creation`, not by a `Production`.\n",
    "\n",
    "Like any core resource, Set must have an id and type, are likely to have additional classifications, and can have `Identifiers` and `Names`. They can have statements made about them, and have member resources. These member resources are included via the `member` property rather than `part`, or via `member_of` from the included resource to the `Set`.\n",
    "\n",
    "-----\n",
    "\n",
    "*Further information*\n",
    "https://linked.art/model/collection/\n",
    "\n"
   ]
  },
  {
   "cell_type": "code",
   "execution_count": 33,
   "id": "a26a672e",
   "metadata": {},
   "outputs": [],
   "source": [
    "def objCollection(objProp,object_uri):\n",
    "    coll = None\n",
    "    if \"collection\" in objProp:\n",
    "        collection = objProp[\"collection\"]\n",
    "        coll = Set(object_uri +\"/collection/\" + collection, \n",
    "                   label= collection)\n",
    "        coll.classified_as = Type(\"http://vocab.getty.edu/aat/300025976\", \n",
    "                              label=\"collections (object groupings)\")\n",
    "    return coll"
   ]
  },
  {
   "cell_type": "code",
   "execution_count": 34,
   "id": "22e3747a",
   "metadata": {},
   "outputs": [
    {
     "name": "stdout",
     "output_type": "stream",
     "text": [
      "{\n",
      "  \"@context\": \"https://linked.art/ns/v1/linked-art.json\",\n",
      "  \"id\": \"https://data.discovernewfields.org/47035/collection/901.2-American Painting and Sculpture 1800-1945\",\n",
      "  \"type\": \"Set\",\n",
      "  \"_label\": \"901.2-American Painting and Sculpture 1800-1945\",\n",
      "  \"classified_as\": [\n",
      "    {\n",
      "      \"id\": \"http://vocab.getty.edu/aat/300025976\",\n",
      "      \"type\": \"Type\",\n",
      "      \"_label\": \"collections (object groupings)\"\n",
      "    }\n",
      "  ]\n",
      "}\n"
     ]
    }
   ],
   "source": [
    "coll = objCollection(objProp,object_uri)\n",
    "if coll is not None:\n",
    "    print(factory.toString(coll, compact=False))\n",
    "    #objLA.member_of = coll"
   ]
  },
  {
   "cell_type": "markdown",
   "id": "f54cf605",
   "metadata": {},
   "source": [
    "## 5. Compile Linked Art JSON-LD Representation\n",
    "\n",
    "Bring the separate descriptions together in a single JSON-LD document"
   ]
  },
  {
   "cell_type": "code",
   "execution_count": 35,
   "id": "d2f4e682",
   "metadata": {},
   "outputs": [],
   "source": [
    "def createObjDesc(objProp,objTypes,object_uri):\n",
    "    objLA = None\n",
    "    objLA = HumanMadeObject() # linked art object\n",
    "\n",
    "    for otype in objTypes:\n",
    "        if otype in objProp[\"classification\"]:\n",
    "            objLA = objTypes[otype]        \n",
    "            break\n",
    "            \n",
    "    objLA.id = object_uri\n",
    "    objLA._label =  objProp[\"title\"]\n",
    "    \n",
    "    # IDENTIFIED_BY \n",
    "    accession = objAccession(objProp,object_uri)\n",
    "    localnumber = objLocalnumber(objProp,object_uri)\n",
    "    primaryname = objPrimaryname(objProp,object_uri)\n",
    "    \n",
    "    listIds = (accession,localnumber,primaryname)\n",
    "    identified_by = False\n",
    "    for id in listIds:\n",
    "        if id is not None:\n",
    "            identified_by = True\n",
    "            break\n",
    "    if identified_by == True:\n",
    "        objLA.identified_by = []\n",
    "        \n",
    "        for id in listIds:\n",
    "            if id is not None:\n",
    "                objLA.identified_by.append(id)\n",
    "    \n",
    "    # REFERRED_TO_BY\n",
    "    objLA.referred_to_by = None\n",
    "    prov = objProvenance(objProp,object_uri)\n",
    "    credit = objCredit(objProp,object_uri)\n",
    "    referred_to_by = False\n",
    "    if prov is not None or credit is not None:\n",
    "        referred_to_by = True\n",
    "    if referred_to_by == True:\n",
    "        objLA.referred_to_by = []\n",
    "    if prov is not None:\n",
    "        objLA.referred_to_by.append(prov) # provenance \n",
    "    if credit is not None:\n",
    "        objLA.referred_to_by.append(credit) # credit line\n",
    "    \n",
    "    # SUBJECT_OF \n",
    "    objLA.subject_of = None \n",
    "    homepage = None  \n",
    "    homepage = objHomepage(objProp,object_uri)\n",
    "    if homepage is not None:\n",
    "        objLA.subject_of = homepage # home page\n",
    "        \n",
    "    # PRODUCED_BY\n",
    "    objLA.produced_by = None \n",
    "    if \"creator\" in objProp:\n",
    "        prod = None\n",
    "        prod = objProduction(objProp,object_uri)\n",
    "        objLA.produced_by = None\n",
    "        if prod is not None:\n",
    "            objLA.produced_by = prod # production\n",
    "\n",
    "    # MEMBER_OF\n",
    "    objLA.member_of = None \n",
    "    if \"collection\" in objProp:\n",
    "        coll = None\n",
    "        coll = objCollection(objProp,object_uri)\n",
    "        if coll is not None:\n",
    "            objLA.member_of = coll # collection\n",
    "\n",
    "    # CURRENT_KEEPER\n",
    "    objLA.current_owner = None \n",
    "    custody = None\n",
    "    custody = objCustody(objProp,object_uri)\n",
    "    if custody is not None:\n",
    "        objLA.current_owner = custody\n",
    "    \n",
    "    # CURRENT_OWNER\n",
    "    if \"current_owner\" in objProp and objProp[\"current_owner\"] != \"\":\n",
    "        current_owner = objCurrentowner(objProp,object_uri)\n",
    "        if current_owner is not None:\n",
    "            objLA.current_owner = current_owner\n",
    "          \n",
    "    return objLA"
   ]
  },
  {
   "cell_type": "code",
   "execution_count": 36,
   "id": "c7565a37",
   "metadata": {},
   "outputs": [],
   "source": [
    "objProp = createObjProp(obj,mapp)\n",
    "ObjLA = None\n",
    "objLA = createObjDesc(objProp,objTypes,object_uri)"
   ]
  },
  {
   "cell_type": "markdown",
   "id": "b7efee8c",
   "metadata": {},
   "source": [
    "## 7. View the final Linked Art JSON-LD\n",
    "\n",
    "The final Linked Art JSON-LD representation of the object is now available:"
   ]
  },
  {
   "cell_type": "code",
   "execution_count": 37,
   "id": "60468855",
   "metadata": {},
   "outputs": [
    {
     "name": "stdout",
     "output_type": "stream",
     "text": [
      "{\n",
      "  \"@context\": \"https://linked.art/ns/v1/linked-art.json\",\n",
      "  \"id\": \"https://data.discovernewfields.org/47035\",\n",
      "  \"type\": \"HumanMadeObject\",\n",
      "  \"_label\": \"Statue of Augustus Caesar\",\n",
      "  \"classified_as\": [\n",
      "    {\n",
      "      \"id\": \"http://vocab.getty.edu/aat/300047090\",\n",
      "      \"type\": \"Type\",\n",
      "      \"_label\": \"Sculpture\",\n",
      "      \"classified_as\": [\n",
      "        {\n",
      "          \"id\": \"http://vocab.getty.edu/aat/300435443\",\n",
      "          \"type\": \"Type\",\n",
      "          \"_label\": \"Type of Work\"\n",
      "        }\n",
      "      ]\n",
      "    }\n",
      "  ],\n",
      "  \"identified_by\": [\n",
      "    {\n",
      "      \"id\": \"https://data.discovernewfields.org/Identifier/08.19\",\n",
      "      \"type\": \"Identifier\",\n",
      "      \"classified_as\": [\n",
      "        {\n",
      "          \"id\": \"http://vocab.getty.edu/aat/300312355\",\n",
      "          \"type\": \"Type\",\n",
      "          \"_label\": \"Accession Number\"\n",
      "        }\n",
      "      ],\n",
      "      \"content\": \"08.19\"\n",
      "    },\n",
      "    {\n",
      "      \"id\": \"https://data.discovernewfields.org/Identifier/47035\",\n",
      "      \"type\": \"Identifier\",\n",
      "      \"classified_as\": [\n",
      "        {\n",
      "          \"id\": \"http://vocab.getty.edu/aat/300404621\",\n",
      "          \"type\": \"Type\",\n",
      "          \"_label\": \"Owner-Assigned Number\"\n",
      "        }\n",
      "      ],\n",
      "      \"content\": \"47035\"\n",
      "    },\n",
      "    {\n",
      "      \"id\": \"https://data.discovernewfields.org/47035/primary-name\",\n",
      "      \"type\": \"Name\",\n",
      "      \"classified_as\": [\n",
      "        {\n",
      "          \"id\": \"http://vocab.getty.edu/aat/300404670\",\n",
      "          \"type\": \"Type\",\n",
      "          \"_label\": \"Primary Name\"\n",
      "        }\n",
      "      ],\n",
      "      \"content\": \"Statue of Augustus Caesar\"\n",
      "    }\n",
      "  ],\n",
      "  \"member_of\": [\n",
      "    {\n",
      "      \"id\": \"https://data.discovernewfields.org/47035/collection/901.2-American Painting and Sculpture 1800-1945\",\n",
      "      \"type\": \"Set\",\n",
      "      \"_label\": \"901.2-American Painting and Sculpture 1800-1945\",\n",
      "      \"classified_as\": [\n",
      "        {\n",
      "          \"id\": \"http://vocab.getty.edu/aat/300025976\",\n",
      "          \"type\": \"Type\",\n",
      "          \"_label\": \"collections (object groupings)\"\n",
      "        }\n",
      "      ]\n",
      "    }\n",
      "  ],\n",
      "  \"subject_of\": [\n",
      "    {\n",
      "      \"id\": \"http://collection.imamuseum.org/artwork/47035\",\n",
      "      \"type\": \"LinguisticObject\",\n",
      "      \"_label\": \"Homepage for the Object\",\n",
      "      \"classified_as\": [\n",
      "        {\n",
      "          \"id\": \"http://vocab/getty.edu/aat/300264578\",\n",
      "          \"type\": \"Type\",\n",
      "          \"_label\": \"Web pages (documents)\"\n",
      "        },\n",
      "        {\n",
      "          \"id\": \"http://vocab.getty.edu/aat/300266277\",\n",
      "          \"type\": \"Type\",\n",
      "          \"_label\": \"home pages\"\n",
      "        }\n",
      "      ],\n",
      "      \"format\": \"text/html\"\n",
      "    }\n",
      "  ],\n",
      "  \"produced_by\": {\n",
      "    \"id\": \"https://data.discovernewfields.org/47035/production\",\n",
      "    \"type\": \"Production\",\n",
      "    \"_label\": \"Production of the Object\",\n",
      "    \"timespan\": {\n",
      "      \"id\": \"https://data.discovernewfields.org/47035/production/timespan\",\n",
      "      \"type\": \"TimeSpan\",\n",
      "      \"_label\": \"before 1908\",\n",
      "      \"end_of_the_end\": \"1908\"\n",
      "    },\n",
      "    \"carried_out_by\": [\n",
      "      {\n",
      "        \"id\": \"2741\",\n",
      "        \"type\": \"Actor\"\n",
      "      }\n",
      "    ]\n",
      "  },\n",
      "  \"current_owner\": [\n",
      "    {\n",
      "      \"id\": \"http://vocab.getty.edu/ulan/500300517\",\n",
      "      \"type\": \"Group\",\n",
      "      \"_label\": \"Indianapolis Museum of Art at Newfields\",\n",
      "      \"classified_as\": [\n",
      "        {\n",
      "          \"id\": \"http://vocab.getty.edu/aat/300312281\",\n",
      "          \"type\": \"Type\",\n",
      "          \"_label\": \"museums (institutions)\"\n",
      "        }\n",
      "      ],\n",
      "      \"acquired_title_through\": [\n",
      "        {\n",
      "          \"id\": \"https://data.discovernewfields.org/47035/IMA-acquisition\",\n",
      "          \"type\": \"Acquisition\",\n",
      "          \"_label\": \"Acquisition of the Object\",\n",
      "          \"classified_as\": [\n",
      "            {\n",
      "              \"id\": \"http://vocab.getty.edu/aat/300157782\",\n",
      "              \"type\": \"Type\",\n",
      "              \"_label\": \"acquisition (collections management)\"\n",
      "            }\n",
      "          ],\n",
      "          \"timespan\": {\n",
      "            \"id\": \"https://data.discovernewfields.org/47035/IMA-acquisition/timespan\",\n",
      "            \"type\": \"TimeSpan\",\n",
      "            \"_label\": \"1908\",\n",
      "            \"begin_of_the_begin\": \"1908-01-01T00:00:00.000Z\",\n",
      "            \"end_of_the_end\": \"1908-12-31T00:00:00.000Z\"\n",
      "          }\n",
      "        }\n",
      "      ]\n",
      "    }\n",
      "  ]\n",
      "}\n"
     ]
    }
   ],
   "source": [
    "print(factory.toString(objLA, compact=False))\n",
    "f = open(\"./data/ima/output/json/object_linkedart.json\", \"w\")\n",
    "f.write(factory.toString(objLA, compact=False))\n",
    "f.close() "
   ]
  },
  {
   "cell_type": "markdown",
   "id": "54563c1b",
   "metadata": {},
   "source": [
    "## 8. View the Linked Art JSON-LD file\n",
    "\n",
    "The final JSON-LD file for the selected object is available at:\n",
    "- [Selected Object as Linked Art](./data/ima/output/json/object_linkedart.json)\n",
    "\n",
    "View the JSON-LD in the [JSON-LD Playground](https://json-ld.org/playground)"
   ]
  },
  {
   "cell_type": "markdown",
   "id": "12b5e2f8",
   "metadata": {},
   "source": [
    "## 9. Transform All Artworks to Linked Art JSON-LD"
   ]
  },
  {
   "cell_type": "code",
   "execution_count": 38,
   "id": "517fc5aa",
   "metadata": {},
   "outputs": [],
   "source": [
    "for obj in allObjects:\n",
    "    id = objProp[\"id\"]\n",
    "    object_uri = baseURI + id\n",
    "    ObjLA = None\n",
    "    \n",
    "    objProp = createObjProp(obj,mapp)\n",
    "    \n",
    "    objLA = createObjDesc(objProp,objTypes,object_uri)\n",
    "    text_file = open(\"./data/ima/output/json/all/\" + id + \".json\", \"wt\")\n",
    "    n = text_file.write(factory.toString(objLA, compact=False))\n",
    "    text_file.close()"
   ]
  },
  {
   "cell_type": "markdown",
   "id": "0d651210",
   "metadata": {},
   "source": [
    "View directory listing of Linked Art JSON-LD files"
   ]
  },
  {
   "cell_type": "code",
   "execution_count": 39,
   "id": "b2b5c77b",
   "metadata": {},
   "outputs": [
    {
     "data": {
      "text/html": [
       "<a target='_new' href='./data/ima/output/json/all/1065.json'>1065.json</a>"
      ],
      "text/plain": [
       "<IPython.core.display.HTML object>"
      ]
     },
     "metadata": {},
     "output_type": "display_data"
    },
    {
     "data": {
      "text/html": [
       "<a target='_new' href='./data/ima/output/json/all/1032.json'>1032.json</a>"
      ],
      "text/plain": [
       "<IPython.core.display.HTML object>"
      ]
     },
     "metadata": {},
     "output_type": "display_data"
    },
    {
     "data": {
      "text/html": [
       "<a target='_new' href='./data/ima/output/json/all/46950.json'>46950.json</a>"
      ],
      "text/plain": [
       "<IPython.core.display.HTML object>"
      ]
     },
     "metadata": {},
     "output_type": "display_data"
    },
    {
     "data": {
      "text/html": [
       "<a target='_new' href='./data/ima/output/json/all/14365.json'>14365.json</a>"
      ],
      "text/plain": [
       "<IPython.core.display.HTML object>"
      ]
     },
     "metadata": {},
     "output_type": "display_data"
    },
    {
     "data": {
      "text/html": [
       "<a target='_new' href='./data/ima/output/json/all/67743.json'>67743.json</a>"
      ],
      "text/plain": [
       "<IPython.core.display.HTML object>"
      ]
     },
     "metadata": {},
     "output_type": "display_data"
    },
    {
     "data": {
      "text/html": [
       "<a target='_new' href='./data/ima/output/json/all/90817.json'>90817.json</a>"
      ],
      "text/plain": [
       "<IPython.core.display.HTML object>"
      ]
     },
     "metadata": {},
     "output_type": "display_data"
    },
    {
     "data": {
      "text/html": [
       "<a target='_new' href='./data/ima/output/json/all/21288.json'>21288.json</a>"
      ],
      "text/plain": [
       "<IPython.core.display.HTML object>"
      ]
     },
     "metadata": {},
     "output_type": "display_data"
    },
    {
     "data": {
      "text/html": [
       "<a target='_new' href='./data/ima/output/json/all/89163.json'>89163.json</a>"
      ],
      "text/plain": [
       "<IPython.core.display.HTML object>"
      ]
     },
     "metadata": {},
     "output_type": "display_data"
    },
    {
     "data": {
      "text/html": [
       "<a target='_new' href='./data/ima/output/json/all/92386.json'>92386.json</a>"
      ],
      "text/plain": [
       "<IPython.core.display.HTML object>"
      ]
     },
     "metadata": {},
     "output_type": "display_data"
    },
    {
     "data": {
      "text/html": [
       "<a target='_new' href='./data/ima/output/json/all/93739.json'>93739.json</a>"
      ],
      "text/plain": [
       "<IPython.core.display.HTML object>"
      ]
     },
     "metadata": {},
     "output_type": "display_data"
    },
    {
     "data": {
      "text/html": [
       "<a target='_new' href='./data/ima/output/json/all/68182.json'>68182.json</a>"
      ],
      "text/plain": [
       "<IPython.core.display.HTML object>"
      ]
     },
     "metadata": {},
     "output_type": "display_data"
    },
    {
     "data": {
      "text/html": [
       "<a target='_new' href='./data/ima/output/json/all/3521.json'>3521.json</a>"
      ],
      "text/plain": [
       "<IPython.core.display.HTML object>"
      ]
     },
     "metadata": {},
     "output_type": "display_data"
    },
    {
     "data": {
      "text/html": [
       "<a target='_new' href='./data/ima/output/json/all/47035.json'>47035.json</a>"
      ],
      "text/plain": [
       "<IPython.core.display.HTML object>"
      ]
     },
     "metadata": {},
     "output_type": "display_data"
    },
    {
     "data": {
      "text/html": [
       "<a target='_new' href='./data/ima/output/json/all/69063.json'>69063.json</a>"
      ],
      "text/plain": [
       "<IPython.core.display.HTML object>"
      ]
     },
     "metadata": {},
     "output_type": "display_data"
    },
    {
     "data": {
      "text/html": [
       "<a target='_new' href='./data/ima/output/json/all/14617.json'>14617.json</a>"
      ],
      "text/plain": [
       "<IPython.core.display.HTML object>"
      ]
     },
     "metadata": {},
     "output_type": "display_data"
    },
    {
     "data": {
      "text/html": [
       "<a target='_new' href='./data/ima/output/json/all/89368.json'>89368.json</a>"
      ],
      "text/plain": [
       "<IPython.core.display.HTML object>"
      ]
     },
     "metadata": {},
     "output_type": "display_data"
    },
    {
     "data": {
      "text/html": [
       "<a target='_new' href='./data/ima/output/json/all/37383.json'>37383.json</a>"
      ],
      "text/plain": [
       "<IPython.core.display.HTML object>"
      ]
     },
     "metadata": {},
     "output_type": "display_data"
    },
    {
     "data": {
      "text/html": [
       "<a target='_new' href='./data/ima/output/json/all/92158.json'>92158.json</a>"
      ],
      "text/plain": [
       "<IPython.core.display.HTML object>"
      ]
     },
     "metadata": {},
     "output_type": "display_data"
    },
    {
     "data": {
      "text/html": [
       "<a target='_new' href='./data/ima/output/json/all/92159.json'>92159.json</a>"
      ],
      "text/plain": [
       "<IPython.core.display.HTML object>"
      ]
     },
     "metadata": {},
     "output_type": "display_data"
    },
    {
     "data": {
      "text/html": [
       "<a target='_new' href='./data/ima/output/json/all/89369.json'>89369.json</a>"
      ],
      "text/plain": [
       "<IPython.core.display.HTML object>"
      ]
     },
     "metadata": {},
     "output_type": "display_data"
    },
    {
     "data": {
      "text/html": [
       "<a target='_new' href='./data/ima/output/json/all/16410.json'>16410.json</a>"
      ],
      "text/plain": [
       "<IPython.core.display.HTML object>"
      ]
     },
     "metadata": {},
     "output_type": "display_data"
    },
    {
     "data": {
      "text/html": [
       "<a target='_new' href='./data/ima/output/json/all/64017.json'>64017.json</a>"
      ],
      "text/plain": [
       "<IPython.core.display.HTML object>"
      ]
     },
     "metadata": {},
     "output_type": "display_data"
    },
    {
     "data": {
      "text/html": [
       "<a target='_new' href='./data/ima/output/json/all/89164.json'>89164.json</a>"
      ],
      "text/plain": [
       "<IPython.core.display.HTML object>"
      ]
     },
     "metadata": {},
     "output_type": "display_data"
    },
    {
     "data": {
      "text/html": [
       "<a target='_new' href='./data/ima/output/json/all/16168.json'>16168.json</a>"
      ],
      "text/plain": [
       "<IPython.core.display.HTML object>"
      ]
     },
     "metadata": {},
     "output_type": "display_data"
    },
    {
     "data": {
      "text/html": [
       "<a target='_new' href='./data/ima/output/json/all/69062.json'>69062.json</a>"
      ],
      "text/plain": [
       "<IPython.core.display.HTML object>"
      ]
     },
     "metadata": {},
     "output_type": "display_data"
    },
    {
     "data": {
      "text/html": [
       "<a target='_new' href='./data/ima/output/json/all/64628.json'>64628.json</a>"
      ],
      "text/plain": [
       "<IPython.core.display.HTML object>"
      ]
     },
     "metadata": {},
     "output_type": "display_data"
    },
    {
     "data": {
      "text/html": [
       "<a target='_new' href='./data/ima/output/json/all/3457.json'>3457.json</a>"
      ],
      "text/plain": [
       "<IPython.core.display.HTML object>"
      ]
     },
     "metadata": {},
     "output_type": "display_data"
    },
    {
     "data": {
      "text/html": [
       "<a target='_new' href='./data/ima/output/json/all/85257.json'>85257.json</a>"
      ],
      "text/plain": [
       "<IPython.core.display.HTML object>"
      ]
     },
     "metadata": {},
     "output_type": "display_data"
    },
    {
     "data": {
      "text/html": [
       "<a target='_new' href='./data/ima/output/json/all/17577.json'>17577.json</a>"
      ],
      "text/plain": [
       "<IPython.core.display.HTML object>"
      ]
     },
     "metadata": {},
     "output_type": "display_data"
    },
    {
     "data": {
      "text/html": [
       "<a target='_new' href='./data/ima/output/json/all/8407.json'>8407.json</a>"
      ],
      "text/plain": [
       "<IPython.core.display.HTML object>"
      ]
     },
     "metadata": {},
     "output_type": "display_data"
    },
    {
     "data": {
      "text/html": [
       "<a target='_new' href='./data/ima/output/json/all/64018.json'>64018.json</a>"
      ],
      "text/plain": [
       "<IPython.core.display.HTML object>"
      ]
     },
     "metadata": {},
     "output_type": "display_data"
    },
    {
     "data": {
      "text/html": [
       "<a target='_new' href='./data/ima/output/json/all/6136.json'>6136.json</a>"
      ],
      "text/plain": [
       "<IPython.core.display.HTML object>"
      ]
     },
     "metadata": {},
     "output_type": "display_data"
    },
    {
     "data": {
      "text/html": [
       "<a target='_new' href='./data/ima/output/json/all/92160.json'>92160.json</a>"
      ],
      "text/plain": [
       "<IPython.core.display.HTML object>"
      ]
     },
     "metadata": {},
     "output_type": "display_data"
    },
    {
     "data": {
      "text/html": [
       "<a target='_new' href='./data/ima/output/json/all/68903.json'>68903.json</a>"
      ],
      "text/plain": [
       "<IPython.core.display.HTML object>"
      ]
     },
     "metadata": {},
     "output_type": "display_data"
    },
    {
     "data": {
      "text/html": [
       "<a target='_new' href='./data/ima/output/json/all/24693.json'>24693.json</a>"
      ],
      "text/plain": [
       "<IPython.core.display.HTML object>"
      ]
     },
     "metadata": {},
     "output_type": "display_data"
    },
    {
     "data": {
      "text/html": [
       "<a target='_new' href='./data/ima/output/json/all/17425.json'>17425.json</a>"
      ],
      "text/plain": [
       "<IPython.core.display.HTML object>"
      ]
     },
     "metadata": {},
     "output_type": "display_data"
    },
    {
     "data": {
      "text/html": [
       "<a target='_new' href='./data/ima/output/json/all/24892.json'>24892.json</a>"
      ],
      "text/plain": [
       "<IPython.core.display.HTML object>"
      ]
     },
     "metadata": {},
     "output_type": "display_data"
    },
    {
     "data": {
      "text/html": [
       "<a target='_new' href='./data/ima/output/json/all/64019.json'>64019.json</a>"
      ],
      "text/plain": [
       "<IPython.core.display.HTML object>"
      ]
     },
     "metadata": {},
     "output_type": "display_data"
    },
    {
     "data": {
      "text/html": [
       "<a target='_new' href='./data/ima/output/json/all/63355.json'>63355.json</a>"
      ],
      "text/plain": [
       "<IPython.core.display.HTML object>"
      ]
     },
     "metadata": {},
     "output_type": "display_data"
    },
    {
     "data": {
      "text/html": [
       "<a target='_new' href='./data/ima/output/json/all/25098.json'>25098.json</a>"
      ],
      "text/plain": [
       "<IPython.core.display.HTML object>"
      ]
     },
     "metadata": {},
     "output_type": "display_data"
    },
    {
     "data": {
      "text/html": [
       "<a target='_new' href='./data/ima/output/json/all/89367.json'>89367.json</a>"
      ],
      "text/plain": [
       "<IPython.core.display.HTML object>"
      ]
     },
     "metadata": {},
     "output_type": "display_data"
    },
    {
     "data": {
      "text/html": [
       "<a target='_new' href='./data/ima/output/json/all/82696.json'>82696.json</a>"
      ],
      "text/plain": [
       "<IPython.core.display.HTML object>"
      ]
     },
     "metadata": {},
     "output_type": "display_data"
    },
    {
     "data": {
      "text/html": [
       "<a target='_new' href='./data/ima/output/json/all/1105.json'>1105.json</a>"
      ],
      "text/plain": [
       "<IPython.core.display.HTML object>"
      ]
     },
     "metadata": {},
     "output_type": "display_data"
    },
    {
     "data": {
      "text/html": [
       "<a target='_new' href='./data/ima/output/json/all/6855.json'>6855.json</a>"
      ],
      "text/plain": [
       "<IPython.core.display.HTML object>"
      ]
     },
     "metadata": {},
     "output_type": "display_data"
    },
    {
     "data": {
      "text/html": [
       "<a target='_new' href='./data/ima/output/json/all/68181.json'>68181.json</a>"
      ],
      "text/plain": [
       "<IPython.core.display.HTML object>"
      ]
     },
     "metadata": {},
     "output_type": "display_data"
    },
    {
     "data": {
      "text/html": [
       "<a target='_new' href='./data/ima/output/json/all/52481.json'>52481.json</a>"
      ],
      "text/plain": [
       "<IPython.core.display.HTML object>"
      ]
     },
     "metadata": {},
     "output_type": "display_data"
    },
    {
     "data": {
      "text/html": [
       "<a target='_new' href='./data/ima/output/json/all/92384.json'>92384.json</a>"
      ],
      "text/plain": [
       "<IPython.core.display.HTML object>"
      ]
     },
     "metadata": {},
     "output_type": "display_data"
    },
    {
     "data": {
      "text/html": [
       "<a target='_new' href='./data/ima/output/json/all/81052.json'>81052.json</a>"
      ],
      "text/plain": [
       "<IPython.core.display.HTML object>"
      ]
     },
     "metadata": {},
     "output_type": "display_data"
    },
    {
     "data": {
      "text/html": [
       "<a target='_new' href='./data/ima/output/json/all/21137.json'>21137.json</a>"
      ],
      "text/plain": [
       "<IPython.core.display.HTML object>"
      ]
     },
     "metadata": {},
     "output_type": "display_data"
    },
    {
     "data": {
      "text/html": [
       "<a target='_new' href='./data/ima/output/json/all/16356.json'>16356.json</a>"
      ],
      "text/plain": [
       "<IPython.core.display.HTML object>"
      ]
     },
     "metadata": {},
     "output_type": "display_data"
    },
    {
     "data": {
      "text/html": [
       "<a target='_new' href='./data/ima/output/json/all/41018.json'>41018.json</a>"
      ],
      "text/plain": [
       "<IPython.core.display.HTML object>"
      ]
     },
     "metadata": {},
     "output_type": "display_data"
    },
    {
     "data": {
      "text/html": [
       "<a target='_new' href='./data/ima/output/json/all/20419.json'>20419.json</a>"
      ],
      "text/plain": [
       "<IPython.core.display.HTML object>"
      ]
     },
     "metadata": {},
     "output_type": "display_data"
    },
    {
     "data": {
      "text/html": [
       "<a target='_new' href='./data/ima/output/json/all/51330.json'>51330.json</a>"
      ],
      "text/plain": [
       "<IPython.core.display.HTML object>"
      ]
     },
     "metadata": {},
     "output_type": "display_data"
    },
    {
     "data": {
      "text/html": [
       "<a target='_new' href='./data/ima/output/json/all/41019.json'>41019.json</a>"
      ],
      "text/plain": [
       "<IPython.core.display.HTML object>"
      ]
     },
     "metadata": {},
     "output_type": "display_data"
    },
    {
     "data": {
      "text/html": [
       "<a target='_new' href='./data/ima/output/json/all/92385.json'>92385.json</a>"
      ],
      "text/plain": [
       "<IPython.core.display.HTML object>"
      ]
     },
     "metadata": {},
     "output_type": "display_data"
    },
    {
     "data": {
      "text/html": [
       "<a target='_new' href='./data/ima/output/json/all/55312.json'>55312.json</a>"
      ],
      "text/plain": [
       "<IPython.core.display.HTML object>"
      ]
     },
     "metadata": {},
     "output_type": "display_data"
    },
    {
     "data": {
      "text/html": [
       "<a target='_new' href='./data/ima/output/json/all/68180.json'>68180.json</a>"
      ],
      "text/plain": [
       "<IPython.core.display.HTML object>"
      ]
     },
     "metadata": {},
     "output_type": "display_data"
    },
    {
     "data": {
      "text/html": [
       "<a target='_new' href='./data/ima/output/json/all/49409.json'>49409.json</a>"
      ],
      "text/plain": [
       "<IPython.core.display.HTML object>"
      ]
     },
     "metadata": {},
     "output_type": "display_data"
    },
    {
     "data": {
      "text/html": [
       "<a target='_new' href='./data/ima/output/json/all/33886.json'>33886.json</a>"
      ],
      "text/plain": [
       "<IPython.core.display.HTML object>"
      ]
     },
     "metadata": {},
     "output_type": "display_data"
    }
   ],
   "source": [
    "import os\n",
    "from IPython.core.display import display, HTML\n",
    "\n",
    "\n",
    "def fn():       # 1.Get file names from directory\n",
    "    file_list=os.listdir(r\"./data/ima/output/json/all/\")\n",
    "   \n",
    "    for file in file_list:\n",
    "        display(HTML(\"<a target='_new' href='./data/ima/output/json/all/\" + file +\"'>\" + file + \"</a>\"))\n",
    "    \n",
    "fn()"
   ]
  },
  {
   "cell_type": "markdown",
   "id": "e6ae75a0",
   "metadata": {},
   "source": [
    "## Next Steps\n",
    "\n",
    "Visit the [Linked Art community website](https://linked.art) for further information on the data model and community activities.\n",
    "\n",
    "## Attribution\n",
    "\n",
    "- The notebook's coded transformations are based on the IMA's [XSLT file](https://github.com/IMAmuseum/LinkedArt).\n",
    "- The Linked Art data model documentation has been sourced from the [Linked Art website](https://linked.art)\n",
    "- The IMA data has been sourced from the [IMA GitHub repository](https://github.com/IMAmuseum/LinkedArt)"
   ]
  }
 ],
 "metadata": {
  "celltoolbar": "Tags",
  "interpreter": {
   "hash": "40d3a090f54c6569ab1632332b64b2c03c39dcf918b08424e98f38b5ae0af88f"
  },
  "kernelspec": {
   "display_name": "Python 3",
   "language": "python",
   "name": "python3"
  },
  "language_info": {
   "codemirror_mode": {
    "name": "ipython",
    "version": 3
   },
   "file_extension": ".py",
   "mimetype": "text/x-python",
   "name": "python",
   "nbconvert_exporter": "python",
   "pygments_lexer": "ipython3",
   "version": "3.8.8"
  }
 },
 "nbformat": 4,
 "nbformat_minor": 5
}
