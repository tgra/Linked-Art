{
 "cells": [
  {
   "cell_type": "markdown",
   "metadata": {},
   "source": [
    "# Linked Art - Core Properties\n",
    "\n",
    "The Linked Art data model uses a JSON-LD serialization. \n",
    "\n",
    "JSON-LD is a data format that both addresses the requirements of Linked Open Data, but also it a JSON format that can make use of tools and scripts and coding libraries that are centred on manipulating JSON. \n",
    "\n",
    "This notebook introduces the properties that every resources described in Linked Art JSON-LD should have, namely:\n",
    "\n",
    "* `@context` \n",
    "* `id` \n",
    "* `type` \n",
    "* `_label`\n",
    "\n",
    "\n",
    "# Using the Python JSON module \n",
    "\n",
    "This Jupyter notebook uses the programming language Python to create Linked Art in JSON-LD. \n",
    "\n",
    "* We will import the Python `json` module to create JSON. \n",
    "* If `json` isn't already installed, the code will install it using `pip` \n",
    "* A Python dictionary `jsonld` will be created to hold the properties and values\n",
    "* The dictionary and will then be transformed to JSON using the `json.dumps` method of the `json` module\n"
   ]
  },
  {
   "cell_type": "code",
   "execution_count": 67,
   "metadata": {},
   "outputs": [],
   "source": [
    "# import json library\n",
    "\n",
    "try:    \n",
    "    import json\n",
    "except:\n",
    "    %pip install json\n",
    "    import json"
   ]
  },
  {
   "cell_type": "markdown",
   "metadata": {},
   "source": [
    "# @context\n",
    "\n",
    "`@context` is a reference to the context mapping which determines how to interpret the JSON as Linked Open Data. \n",
    "\n",
    "* `@context` is not a property of the entity being described, but of the document. \n",
    "* `@context` must be present\n",
    "\n",
    "The `@context` value for Linked Art is `https://linked.art/ns/v1/linked-art.json`.\n",
    "\n",
    "The following code creates a dictionary in Python with the `@context` property"
   ]
  },
  {
   "cell_type": "code",
   "execution_count": 68,
   "metadata": {},
   "outputs": [
    {
     "data": {
      "text/plain": [
       "{'@context': 'https://linked.art/ns/v1/linked-art.json'}"
      ]
     },
     "execution_count": 68,
     "metadata": {},
     "output_type": "execute_result"
    }
   ],
   "source": [
    "jsonld = {\"@context\": \"https://linked.art/ns/v1/linked-art.json\"}\n",
    "\n",
    "jsonld"
   ]
  },
  {
   "cell_type": "markdown",
   "metadata": {},
   "source": [
    "## id\n",
    "\n",
    "`id` captures the URI that identifies the object.  \n",
    "\n",
    "* Every resource must have exactly one id, and it must be an HTTP URI. \n",
    "* Persistent URIs are a key requirement of Linked Data and consequently Linked Art.\n",
    "\n",
    "\n",
    "The code adds an `id` property with a URI value"
   ]
  },
  {
   "cell_type": "code",
   "execution_count": 69,
   "metadata": {},
   "outputs": [
    {
     "data": {
      "text/plain": [
       "{'@context': 'https://linked.art/ns/v1/linked-art.json',\n",
       " 'id': 'https://linked.art/example/object/19'}"
      ]
     },
     "execution_count": 69,
     "metadata": {},
     "output_type": "execute_result"
    }
   ],
   "source": [
    "uri = \"https://linked.art/example/object/19\"\n",
    "\n",
    "jsonld[\"id\"] = uri\n",
    "\n",
    "jsonld"
   ]
  },
  {
   "cell_type": "markdown",
   "metadata": {},
   "source": [
    "## type\n",
    "`type` captures the class of the object, or `rdf:type` in RDF. \n",
    "\n",
    "  * Every resource must have exactly one class. \n",
    "  * The types of things in Linked Art are described in the Linked Art model documentation - for examples, see classes listed at https://linked.art/model/example_index/\n",
    "\n",
    "\n",
    "The following code defines type as `HumanMadeObject`"
   ]
  },
  {
   "cell_type": "code",
   "execution_count": 70,
   "metadata": {},
   "outputs": [
    {
     "data": {
      "text/plain": [
       "{'@context': 'https://linked.art/ns/v1/linked-art.json',\n",
       " 'id': 'https://linked.art/example/object/19',\n",
       " 'type': 'HumanMadeObject'}"
      ]
     },
     "execution_count": 70,
     "metadata": {},
     "output_type": "execute_result"
    }
   ],
   "source": [
    "objectType = \"HumanMadeObject\"\n",
    "\n",
    "jsonld[\"type\"] = objectType\n",
    "\n",
    "jsonld"
   ]
  },
  {
   "cell_type": "markdown",
   "metadata": {},
   "source": [
    "## _label\n",
    "`_label` captures a human readable label as a string, intended for developers or other people reading the data to understand what they are looking at.  \n",
    "\n",
    "* Every resource should have exactly one label, and must not have more than one.\n",
    "* The value is a string, and does not have a language associated with it.\n",
    "\n",
    "The following code adds a label to the `jsonld` Python dictionary "
   ]
  },
  {
   "cell_type": "code",
   "execution_count": 71,
   "metadata": {},
   "outputs": [
    {
     "data": {
      "text/plain": [
       "{'@context': 'https://linked.art/ns/v1/linked-art.json',\n",
       " 'id': 'https://linked.art/example/object/19',\n",
       " 'type': 'HumanMadeObject',\n",
       " '_label': 'Matisse exhibition'}"
      ]
     },
     "execution_count": 71,
     "metadata": {},
     "output_type": "execute_result"
    }
   ],
   "source": [
    "label = 'Matisse exhibition'\n",
    "jsonld[\"_label\"] = label\n",
    "\n",
    "jsonld"
   ]
  },
  {
   "cell_type": "markdown",
   "metadata": {},
   "source": [
    "# Serialize to JSON-LD\n",
    "\n",
    "To convert the Python dictionary to JSON-LD, we use the `json.dump()` method. An optional indent can be included in the method call"
   ]
  },
  {
   "cell_type": "code",
   "execution_count": 72,
   "metadata": {},
   "outputs": [
    {
     "name": "stdout",
     "output_type": "stream",
     "text": [
      "{\n",
      "  \"@context\": \"https://linked.art/ns/v1/linked-art.json\",\n",
      "  \"id\": \"https://linked.art/example/object/19\",\n",
      "  \"type\": \"HumanMadeObject\",\n",
      "  \"_label\": \"Matisse exhibition\"\n",
      "}\n"
     ]
    }
   ],
   "source": [
    "output = json.dumps(jsonld, indent=2)\n",
    "\n",
    "print(output)"
   ]
  },
  {
   "cell_type": "markdown",
   "metadata": {},
   "source": [
    "# Summary\n",
    "\n",
    "In this notebook we have created a minimum representation of an object in Linked Art JSON-LD using Python and the `json` Python module.\n",
    "\n",
    "\n",
    "# Further Reading\n",
    "\n",
    "* Linked Art data model https://linked.art/model\n",
    "* Video tutorials\n",
    "  * Linked Data https://youtube.com/watch?v=4x_xzT5eF5Q \n",
    "  * JSON-LD https://youtube.com/watch?v=vioCbTo3C-4\n",
    "  * Linked Art https://youtube.com/watch?v=lDbasKNtWM8\n",
    "  * Jupyter code notebook https://youtube.com/watch?v=jZ952vChhuI\n",
    "\n",
    "\n"
   ]
  }
 ],
 "metadata": {
  "interpreter": {
   "hash": "40d3a090f54c6569ab1632332b64b2c03c39dcf918b08424e98f38b5ae0af88f"
  },
  "kernelspec": {
   "display_name": "Python 3",
   "language": "python",
   "name": "python3"
  },
  "language_info": {
   "codemirror_mode": {
    "name": "ipython",
    "version": 3
   },
   "file_extension": ".py",
   "mimetype": "text/x-python",
   "name": "python",
   "nbconvert_exporter": "python",
   "pygments_lexer": "ipython3",
   "version": "3.8.8"
  }
 },
 "nbformat": 4,
 "nbformat_minor": 2
}
