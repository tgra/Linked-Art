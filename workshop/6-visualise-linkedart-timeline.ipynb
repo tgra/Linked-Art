{
 "cells": [
  {
   "cell_type": "markdown",
   "id": "c09fa7b0",
   "metadata": {},
   "source": [
    "# Linked Art Data Visualisation - Timeline   \n",
    "\n",
    "\n",
    "This notebook will demonstrate how to create a timeline data visualisation from Linked Art data files. It will first use collection data about John Ruskin's artworks, and then allow you to go through the process with your own collection data transformed to Linked Art JSON-LD.\n",
    "\n",
    "<img src='media/vis.png' width=\"600\"/>\n",
    "\n",
    "\n",
    "## Timeline Data Visualisation\n",
    "\n",
    "The [timeline data visualisation](https://knightlab.northwestern.edu/projects/) code from KnightLab will be used. \n",
    "\n",
    "Steps:\n",
    "- read in Linked Art JSON-LD files\n",
    "- parse file to create JSON input file for visualisation\n",
    "- write JSON file to disc\n",
    "- read in JSON file to KnightLab timeline visualisation\n",
    "\n",
    "## Collection Data\n",
    "The Linked Art JSON-LD files for John Ruskin's artworks were created with other notebooks:\n",
    "- [Ruskin Transformation notebook](https://github.com/tgra/Linked-Art/blob/main/01-06-Transform-John-Ruskin.ipynb)\n",
    "- [Ruskin Reconciliation notebook](https://github.com/tgra/Linked-Art/blob/main/02-01-Reconcile-John-Ruskin-Place-Names.ipynb)\n"
   ]
  },
  {
   "cell_type": "code",
   "execution_count": 1,
   "id": "61304542",
   "metadata": {},
   "outputs": [],
   "source": [
    "try:\n",
    "    import IPython\n",
    "except:\n",
    "    %pip install IPython\n",
    "    import IPython \n",
    "from IPython.core.display import HTML\n",
    "from IPython.display import display, IFrame, HTML\n",
    "\n",
    "import os\n",
    "import csv\n",
    "\n",
    "try:\n",
    "    import json\n",
    "except:\n",
    "    %pip install json\n",
    "    import json \n",
    "    "
   ]
  },
  {
   "cell_type": "markdown",
   "id": "e5c72a9a",
   "metadata": {},
   "source": [
    "## Read in Linked Art & transform to timeline"
   ]
  },
  {
   "cell_type": "code",
   "execution_count": 2,
   "id": "c1012a5b",
   "metadata": {},
   "outputs": [],
   "source": [
    "la_files = \"./data/example/vis/input/\"\n",
    "file_list=os.listdir(r\"./data/example/vis/input/\")"
   ]
  },
  {
   "cell_type": "code",
   "execution_count": 3,
   "id": "ca2fb6e4",
   "metadata": {},
   "outputs": [],
   "source": [
    "sources = {}\n",
    "sources[\"https://www.nga.gov/collection/\"] = {\n",
    "                \"name\":\"National Gallery of Art\",\n",
    "                \"colour\": \"#E8A798\"}\n",
    "sources[\"https://www.harvardartmuseums.org/collections/object/\"] = {\n",
    "                    \"name\":\"Harvard Art Museum\",\n",
    "                    \"colour\":\"#00758F\"}\n",
    "sources[\"ashmolean\"] = {\n",
    "                    \"name\":\"Ashmolean Museum\",\n",
    "                    \"colour\":\"#3f83e8\"}\n",
    " \n",
    "json_vis = {\"events\":[]} \n",
    "json_vis[\"title\"] = {\n",
    "    \"media\": {       \n",
    "        \"url\": \"//api.nga.gov/iiif/49a6128c-8d5a-4b00-beb3-36b29b97c0a1/full/!500,500/0/default.jpg\",      \n",
    "        \"caption\": \"John Ruskin\",      \n",
    "        \"credit\": \"Wikipedia\"      } ,\n",
    "        \"text\": {      \n",
    "            \"headline\": \"John Ruskin\",      \n",
    "            \"text\": \"<p>This timeline visualisation shows artworks created by John Ruskin.</p><p>It demonstrates how the Linked Art data model can be used to transform, reconcile and visualise collections data for artworks.</p> <p>See https://linked.art for more information.</p>\"\n",
    "        } }\n",
    "json_vis[\"eras\"] = [\n",
    "        {       \n",
    "    \"start_date\": {   \"year\": \"1819\"   },   \n",
    "    \"end_date\":{   \"year\": \"1900\"  },  \n",
    "    \"text\": {\"headline\":\"John Ruskin's lifetime\"   }}\n",
    "    ]\n",
    "\n",
    "for file in file_list:\n",
    "    # read file and append to \n",
    "    with open(la_files + file) as json_file:\n",
    "        artwork = json.load(json_file)\n",
    "        \n",
    "        if \"produced_by\" not in artwork:\n",
    "            continue\n",
    "        if \"begin_of_the_begin\" not in artwork[\"produced_by\"][\"timespan\"]:\n",
    "            continue\n",
    "        if artwork[\"produced_by\"][\"timespan\"][\"begin_of_the_begin\"] in  (1819,\"\"):\n",
    "            continue\n",
    "    \n",
    "        id = artwork[\"id\"]\n",
    "        credit = \"\"\n",
    "        text = \"\"\n",
    "        imageurl = \"\"\n",
    "        bgcolour = \"\"\n",
    "        homepage = \"\"\n",
    "  \n",
    "        for source in list(sources.keys()):\n",
    "            if source in id:\n",
    "                credit = sources[source][\"name\"]\n",
    "                bgcolour = sources[source][\"colour\"]\n",
    "            \n",
    "        if \"referred_to_by\" in artwork and len(artwork[\"referred_to_by\"]) > 0 and \"content\" in artwork[\"referred_to_by\"][0]:  \n",
    "            text = artwork[\"referred_to_by\"][0][\"content\"]\n",
    "            \n",
    "        try:\n",
    "            if artwork[\"subject_of\"][0][\"classified_as\"][1][\"id\"] == \"http://vocab.getty.edu/aat/300266277\":\n",
    "                homepage = artwork[\"subject_of\"][0][\"id\"]\n",
    "                text = text + \"<br/><br/><a target='_new' href='\" + homepage+ \"'>Artwork homepage</a>\"\n",
    "        except:\n",
    "                 homepage = \"\"\n",
    "                \n",
    "        if artwork[\"representation\"][0][\"id\"] != \"\":\n",
    "            imageurl = artwork[\"representation\"][0][\"id\"]\n",
    "            if imageurl ==\"\":\n",
    "                continue\n",
    "   \n",
    "        if \"begin_of_the_begin\" in artwork[\"produced_by\"][\"timespan\"]:\n",
    "            begin = artwork[\"produced_by\"][\"timespan\"][\"begin_of_the_begin\"]\n",
    "        try:\n",
    "            begin = int(begin)\n",
    "        except:\n",
    "            begin = \"\"\n",
    "    \n",
    "        if \"end_of_the_end\" in artwork[\"produced_by\"][\"timespan\"]:\n",
    "            end = artwork[\"produced_by\"][\"timespan\"][\"end_of_the_end\"]\n",
    "        try:\n",
    "            end = int(end)\n",
    "        except:\n",
    "            end = \"\"\n",
    "            \n",
    "        json_vis[\"events\"].append({\n",
    "            \"media\": {        \"url\": imageurl,      \"caption\": \"\",      \"credit\": credit,      \"thumbnail\": imageurl        },\n",
    "            \"display_date\": artwork[\"produced_by\"][\"timespan\"][\"_label\"],\n",
    "            \"start_date\": {          \"year\": begin },        \n",
    "            \"end_date\": {         \"year\": end      },\n",
    "            \"text\": {       \"headline\": artwork[\"_label\"],      \"text\":  text      } ,\n",
    "            \"type\": \"title\",\n",
    "            \"background\":{\"color\":bgcolour}\n",
    "        })\n",
    "\n",
    "text_file = open('./data/example/vis/timeline.json', 'wt')  \n",
    "n = text_file.write(json.dumps(json_vis,indent=2))\n",
    "text_file.close()"
   ]
  },
  {
   "cell_type": "markdown",
   "id": "977a8704",
   "metadata": {},
   "source": [
    "## Timeline Using Local JSON File\n",
    "\n",
    "The following HTML code shows how to publish a timeline using the JSON file created above."
   ]
  },
  {
   "cell_type": "code",
   "execution_count": 4,
   "id": "f502bd12",
   "metadata": {},
   "outputs": [
    {
     "data": {
      "text/html": [
       "        <link title=\"timeline-styles\" rel=\"stylesheet\"   href=\"https://cdn.knightlab.com/libs/timeline3/latest/css/timeline.css\">\n",
       "        <script src=\"https://cdn.knightlab.com/libs/timeline3/latest/js/timeline.js\"></script>\n",
       "        <div id='timeline-embed' style=\"width: 100%; height: 600px\"></div>\n",
       "        <script type=\"text/javascript\">   window.timeline = new TL.Timeline('timeline-embed', \"./data/example/vis/timeline.json\");  </script>\n"
      ],
      "text/plain": [
       "<IPython.core.display.HTML object>"
      ]
     },
     "metadata": {},
     "output_type": "display_data"
    }
   ],
   "source": [
    "%%HTML\n",
    "        <link title=\"timeline-styles\" rel=\"stylesheet\"   href=\"https://cdn.knightlab.com/libs/timeline3/latest/css/timeline.css\">\n",
    "        <script src=\"https://cdn.knightlab.com/libs/timeline3/latest/js/timeline.js\"></script>\n",
    "        <div id='timeline-embed' style=\"width: 100%; height: 600px\"></div>\n",
    "        <script type=\"text/javascript\">   window.timeline = new TL.Timeline('timeline-embed', \"./data/example/vis/timeline.json\");  </script>"
   ]
  },
  {
   "cell_type": "markdown",
   "id": "4ed95601",
   "metadata": {},
   "source": [
    "# Now Your Turn"
   ]
  },
  {
   "cell_type": "markdown",
   "id": "67fff61d",
   "metadata": {},
   "source": [
    "## Define Properties for Collection Data Source\n",
    "Edit the example code below. If the artwork's identifier contains one of the sources key strings e.g. \"https://www.nga.gov/collection/\", the corresponding properties will be used to \n",
    "- add a label for the the artwork's source , and\n",
    "- apply a background colour to the relevant 'page' of the timeline."
   ]
  },
  {
   "cell_type": "code",
   "execution_count": 5,
   "id": "19cdb39c",
   "metadata": {},
   "outputs": [],
   "source": [
    "sources = {}\n",
    "sources[\"STRING_IN_ID\"] = {\"name\":\"LABEL_ARTWORK_SOURCE\",\"colour\": \"HEX_COLOUR\"}\n",
    "sources[\"\"] = {\"name\":\"LABEL_ARTWORK_SOURCE\",\"colour\": \"GREEN\"}\n",
    "\n",
    "# example\n",
    "#sources[\"harvardartmuseums\"] = {\"name\":\"harvard art \",\"colour\": \"blue\"}\n"
   ]
  },
  {
   "cell_type": "markdown",
   "id": "f49fb922",
   "metadata": {},
   "source": [
    "## Title Page"
   ]
  },
  {
   "cell_type": "code",
   "execution_count": 6,
   "id": "ef8629b3",
   "metadata": {},
   "outputs": [],
   "source": [
    "json_vis = {\"events\":[]} \n",
    "\n",
    "TITLE_PAGE_IMAGE_URL = \"https://title_page_image.jpg\"\n",
    "TITLE_PAGE_IMAGE_CAPTION = \"TITLE PAGE IMAGE CAPTION\"\n",
    "TITLE_PAGE_IMAGE_CREDIT = \"TITLE PAGE IMAGE CREDIT\"\n",
    "TITLE_PAGE_HEADLINE = \"TITLE PAGE HEADLINE\"\n",
    "TITLE_PAGE_TEXT = \"TITLE PAGE TEXT\"\n",
    "\n",
    "json_vis[\"title\"] = {\n",
    "    \"media\": {       \"url\": TITLE_PAGE_IMAGE_URL,      \"caption\": TITLE_PAGE_IMAGE_CAPTION,      \"credit\": TITLE_PAGE_IMAGE_CREDIT      } ,\n",
    "        \"text\": {      \"headline\": TITLE_PAGE_HEADLINE,      \"text\": \" \"\n",
    "        }  \n",
    "}"
   ]
  },
  {
   "cell_type": "markdown",
   "id": "157a1083",
   "metadata": {},
   "source": [
    "## Eras"
   ]
  },
  {
   "cell_type": "code",
   "execution_count": 7,
   "id": "e85709eb",
   "metadata": {},
   "outputs": [],
   "source": [
    "ERA_START_DATE_YEAR = \"1900\"\n",
    "ERA_END_DATE_YEAR = \"2022\"\n",
    "ERA_TEXT_HEADLINE = \"Timeline\"\n",
    "\n",
    "json_vis[\"eras\"] = [{      \n",
    "                    \"start_date\": {   \"year\": ERA_START_DATE_YEAR   },  \n",
    "                    \"end_date\":{   \"year\": ERA_END_DATE_YEAR  }, \n",
    "                    \"text\": { \"headline\": ERA_TEXT_HEADLINE   }\n",
    "}]\n"
   ]
  },
  {
   "cell_type": "markdown",
   "id": "25976ba7",
   "metadata": {},
   "source": [
    "The following steps will take you through creating the timeline visualisation with your own collection of Linked Art files.\n",
    "\n",
    "## Data File Directory\n",
    "Specify the data file directory relative to the workshop directory that contains this notebook"
   ]
  },
  {
   "cell_type": "code",
   "execution_count": 8,
   "id": "bf2ace9a",
   "metadata": {},
   "outputs": [],
   "source": [
    "la_files = \"./data/working/linkedart_files/\"\n",
    "file_list=os.listdir(r\"./data/working/linkedart_files/\")"
   ]
  },
  {
   "cell_type": "markdown",
   "id": "56b382ca",
   "metadata": {},
   "source": [
    "## Iterate through Linked Art files "
   ]
  },
  {
   "cell_type": "code",
   "execution_count": 9,
   "id": "66af44d6",
   "metadata": {},
   "outputs": [],
   "source": [
    "\n",
    "# image properties\n",
    "media_url = \"\"\n",
    "media_caption = \"\"\n",
    "media_credit = \"\"\n",
    "media_thumbnail = \"\"\n",
    "\n",
    "#dates \n",
    "display_date = \"\"\n",
    "start_date_year = \"\"\n",
    "end_date_year = \"\"\n",
    "\n",
    "#text\n",
    "text_headline = \"\"\n",
    "text_text = \"\"\n",
    "\n",
    "# background colour\n",
    "background_colour = \"\"\n",
    "\n",
    "event = {\n",
    "            \"media\": {  \"url\":media_url,      \"caption\": media_caption,      \"credit\": media_credit,      \"thumbnail\": media_thumbnail },\n",
    "            \"display_date\": display_date,\n",
    "            \"start_date\": {          \"year\": start_date_year },        \n",
    "            \"end_date\": {         \"year\":  end_date_year     },\n",
    "            \"text\": {       \"headline\": text_headline,      \"text\":  text_text     } ,\n",
    "            \"type\": \"title\",\n",
    "            \"background\":{\"color\":background_colour}\n",
    "        }\n",
    "\n",
    "for file in file_list:\n",
    "    # image properties\n",
    "    media_url = \"\"\n",
    "    media_caption = \"\"\n",
    "    media_credit = \"\"\n",
    "    media_thumbnail = \"\"\n",
    "\n",
    "#dates \n",
    "    display_date = \"\"\n",
    "    start_date_year = \"\"\n",
    "    end_date_year = \"\"\n",
    "\n",
    "#text\n",
    "    text_headline = \"\"\n",
    "    text_text = \"\"\n",
    "\n",
    "# background colour\n",
    "    background_colour = \"\"\n",
    "\n",
    "    # read file and append to \n",
    "    with open( la_files + file) as json_file:\n",
    "        artwork = json.load(json_file)\n",
    "        \n",
    "        # do not include artwork in vis if produced_by date not available\n",
    "        if \"produced_by\" not in artwork:\n",
    "            continue\n",
    "        if \"begin_of_the_begin\" not in artwork[\"produced_by\"][\"timespan\"]:\n",
    "            continue\n",
    "        if artwork[\"produced_by\"][\"timespan\"][\"begin_of_the_begin\"] in  (\"\"):\n",
    "            continue\n",
    "\n",
    "        # image properties\n",
    "        media_url = \"\"\n",
    "        media_thumbnail = \"\"\n",
    "        if artwork[\"representation\"][0][\"id\"] != \"\":\n",
    "            media_url =  artwork[\"representation\"][0][\"id\"]\n",
    "            media_thumbnail =  artwork[\"representation\"][0][\"id\"]\n",
    "        if media_url ==\"\":\n",
    "            continue\n",
    "            \n",
    "        for source in list(sources.keys()):\n",
    "            if source in artwork[\"id\"]:\n",
    "                media_credit = sources[source][\"name\"]\n",
    "                background_colour  = sources[source][\"colour\"]\n",
    "                \n",
    "        if \"referred_to_by\" in artwork and len(artwork[\"referred_to_by\"]) > 0 and \"content\" in artwork[\"referred_to_by\"][0]:  \n",
    "            text_text = artwork[\"referred_to_by\"][0][\"content\"]\n",
    "        \n",
    "        try:\n",
    "            if artwork[\"subject_of\"][0][\"classified_as\"][1][\"id\"] == \"http://vocab.getty.edu/aat/300266277\":\n",
    "                homepage = artwork[\"subject_of\"][0][\"id\"]\n",
    "                text_text = text_tex + \"<br/><br/><a target='_new' href='\" + homepage+ \"'>Artwork homepage</a>\"\n",
    "        except:\n",
    "            a=1\n",
    "\n",
    "#dates \n",
    "        if \"begin_of_the_begin\" in artwork[\"produced_by\"][\"timespan\"]:\n",
    "            start_date_year = artwork[\"produced_by\"][\"timespan\"][\"begin_of_the_begin\"]\n",
    "        if \"end_of_the_end\" in artwork[\"produced_by\"][\"timespan\"]:\n",
    "            end_date_year = artwork[\"produced_by\"][\"timespan\"][\"end_of_the_end\"]\n",
    "    \n",
    "        display_date = start_date_year\n",
    "\n",
    "        event = {\n",
    "            \"media\": {  \"url\":media_url,      \"caption\": media_caption,      \"credit\": media_credit,      \"thumbnail\": media_thumbnail },\n",
    "            \"display_date\": display_date,\n",
    "            \"start_date\": {          \"year\": start_date_year },        \n",
    "            \"end_date\": {         \"year\":  end_date_year     },\n",
    "            \"text\": {       \"headline\": text_headline,      \"text\":  text_text     } ,\n",
    "            \"type\": \"title\",\n",
    "            \"background\":{\"color\":background_colour}\n",
    "        }\n",
    "  \n",
    "        json_vis[\"events\"].append(event)\n"
   ]
  },
  {
   "cell_type": "markdown",
   "id": "8229199d",
   "metadata": {},
   "source": [
    "## Define Timeline File Location"
   ]
  },
  {
   "cell_type": "code",
   "execution_count": 10,
   "id": "40499a29",
   "metadata": {},
   "outputs": [],
   "source": [
    "timeline_file = \"./data/working/timeline.json\""
   ]
  },
  {
   "cell_type": "markdown",
   "id": "36ef4f12",
   "metadata": {},
   "source": [
    "## Write to File"
   ]
  },
  {
   "cell_type": "code",
   "execution_count": 11,
   "id": "2070fa8e",
   "metadata": {},
   "outputs": [],
   "source": [
    "text_file = open(timeline_file, 'wt')  \n",
    "n = text_file.write(json.dumps(json_vis,indent=2))\n",
    "text_file.close()"
   ]
  },
  {
   "cell_type": "markdown",
   "id": "8a260447",
   "metadata": {},
   "source": [
    "## Visualisation"
   ]
  },
  {
   "cell_type": "code",
   "execution_count": 12,
   "id": "65a551e2",
   "metadata": {},
   "outputs": [
    {
     "data": {
      "text/html": [
       "        <link title=\"timeline-styles\" rel=\"stylesheet\"   href=\"https://cdn.knightlab.com/libs/timeline3/latest/css/timeline.css\">\n",
       "        <script src=\"https://cdn.knightlab.com/libs/timeline3/latest/js/timeline.js\"></script>\n",
       "        <div id='timeline-embed2' style=\"width: 100%; height: 800px\"></div>\n",
       "        <script type=\"text/javascript\">   window.timeline = new TL.Timeline('timeline-embed2', \"./data/working/timeline.json\");  </script>\n"
      ],
      "text/plain": [
       "<IPython.core.display.HTML object>"
      ]
     },
     "metadata": {},
     "output_type": "display_data"
    }
   ],
   "source": [
    "%%HTML\n",
    "        <link title=\"timeline-styles\" rel=\"stylesheet\"   href=\"https://cdn.knightlab.com/libs/timeline3/latest/css/timeline.css\">\n",
    "        <script src=\"https://cdn.knightlab.com/libs/timeline3/latest/js/timeline.js\"></script>\n",
    "        <div id='timeline-embed2' style=\"width: 100%; height: 800px\"></div>\n",
    "        <script type=\"text/javascript\">   window.timeline = new TL.Timeline('timeline-embed2', \"./data/working/timeline.json\");  </script>"
   ]
  },
  {
   "cell_type": "code",
   "execution_count": null,
   "id": "0f1ace7e",
   "metadata": {},
   "outputs": [],
   "source": []
  }
 ],
 "metadata": {
  "finalized": {
   "timestamp": 1651435190752,
   "trusted": true
  },
  "interpreter": {
   "hash": "40d3a090f54c6569ab1632332b64b2c03c39dcf918b08424e98f38b5ae0af88f"
  },
  "kernelspec": {
   "display_name": "Python 3",
   "language": "python",
   "name": "python3"
  },
  "language_info": {
   "codemirror_mode": {
    "name": "ipython",
    "version": 3
   },
   "file_extension": ".py",
   "mimetype": "text/x-python",
   "name": "python",
   "nbconvert_exporter": "python",
   "pygments_lexer": "ipython3",
   "version": "3.8.8"
  }
 },
 "nbformat": 4,
 "nbformat_minor": 5
}
