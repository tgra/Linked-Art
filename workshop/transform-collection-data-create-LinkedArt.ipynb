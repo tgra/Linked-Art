{
 "cells": [
  {
   "cell_type": "markdown",
   "metadata": {},
   "source": [
    "# Transform Collection Data - Create Linked Art\n",
    "\n",
    "This notebook shows how to transform mapped collection data to Linked Art JSON-LD\n",
    "\n",
    "\n"
   ]
  },
  {
   "cell_type": "markdown",
   "metadata": {},
   "source": [
    "# Python modules\n",
    "\n",
    "\n",
    "Three Python modules will be used:\n",
    "* pandas\n",
    "* json\n",
    "* csv\n",
    "\n",
    "## pandas\n",
    "https://pandas.pydata.org/\n",
    "\n",
    "<pre>\"pandas is a fast, powerful, flexible and easy to use open source data analysis and manipulation tool,\n",
    "built on top of the Python programming language.\"</pre>\n",
    "\n",
    "`pandas` is used to read in the csv file contents to a pandas dataframe for further processing in Python. A dataframe is a data structure to hold <pre>\"two-dimensional, size-mutable, potentially heterogeneous tabular data.\"</pre>\n",
    "\n",
    "\n",
    "## json\n",
    "\n",
    "\n",
    "The Python `json` module is used to encode and decode JSON objects and is used in the script to encode JSON objects before printing.\n",
    "\n",
    "\n",
    "## csv\n",
    "\n",
    "\n",
    "<pre>The csv module implements classes to read and write tabular data in CSV format.</pre>\n",
    "\n",
    "\n",
    "### Further Reading \n",
    "* https://pandas.pydata.org/docs/reference/api/pandas.read_csv.html\n",
    "\n",
    "* https://pandas.pydata.org/docs/reference/api/pandas.DataFrame.html\n",
    "\n",
    "* https://docs.python.org/3/library/json.html\n",
    "\n",
    "* https://docs.python.org/3/library/csv.htm"
   ]
  },
  {
   "cell_type": "code",
   "execution_count": 12,
   "metadata": {},
   "outputs": [],
   "source": [
    "\n",
    "# https://pandas.pydata.org/\n",
    "\n",
    "try:\n",
    "    import pandas as pd\n",
    "except:\n",
    "    %pip install pandas\n",
    "    import pandas as pd\n",
    "\n",
    "\n",
    "try:\n",
    "    import json\n",
    "except:\n",
    "    %pip install json\n",
    "    import json \n",
    "  \n",
    "try:\n",
    "    import csv\n",
    "except:\n",
    "    %pip install csv\n",
    "    import csv\n",
    "    \n",
    "    \n",
    "try:\n",
    "    import IPython\n",
    "except:\n",
    "    %pip install IPython\n",
    "    import IPython \n",
    "from IPython.display import display, IFrame, HTML, Javascript\n"
   ]
  },
  {
   "cell_type": "markdown",
   "metadata": {},
   "source": [
    "## Read CSV file contents using pandas\n",
    "\n",
    "The following code demonstrates how to read CSV into a pandas dataframe."
   ]
  },
  {
   "cell_type": "code",
   "execution_count": 17,
   "metadata": {},
   "outputs": [
    {
     "data": {
      "text/html": [
       "<div>\n",
       "<style scoped>\n",
       "    .dataframe tbody tr th:only-of-type {\n",
       "        vertical-align: middle;\n",
       "    }\n",
       "\n",
       "    .dataframe tbody tr th {\n",
       "        vertical-align: top;\n",
       "    }\n",
       "\n",
       "    .dataframe thead th {\n",
       "        text-align: right;\n",
       "    }\n",
       "</style>\n",
       "<table border=\"1\" class=\"dataframe\">\n",
       "  <thead>\n",
       "    <tr style=\"text-align: right;\">\n",
       "      <th></th>\n",
       "      <th>Media</th>\n",
       "      <th>Object Number</th>\n",
       "      <th>Department</th>\n",
       "      <th>Classification</th>\n",
       "      <th>Culture</th>\n",
       "      <th>Period</th>\n",
       "      <th>Display Name</th>\n",
       "      <th>Object Name</th>\n",
       "      <th>Title</th>\n",
       "      <th>Dated</th>\n",
       "      <th>Medium</th>\n",
       "      <th>Dimensions</th>\n",
       "      <th>Description</th>\n",
       "      <th>Attribution</th>\n",
       "      <th>AttributionSort</th>\n",
       "      <th>Credit Line</th>\n",
       "    </tr>\n",
       "  </thead>\n",
       "  <tbody>\n",
       "    <tr>\n",
       "      <th>0</th>\n",
       "      <td>0</td>\n",
       "      <td>64-1993-1</td>\n",
       "      <td>PDP</td>\n",
       "      <td>Drawings</td>\n",
       "      <td>NaN</td>\n",
       "      <td>NaN</td>\n",
       "      <td>John Ruskin</td>\n",
       "      <td>Drawings</td>\n",
       "      <td>Study of a River Bank, Beauvais, France</td>\n",
       "      <td>1846</td>\n",
       "      <td>Watercolor</td>\n",
       "      <td>H: 125mm  W: 175mm</td>\n",
       "      <td>NaN</td>\n",
       "      <td>John Ruskin</td>\n",
       "      <td>Ruskin John</td>\n",
       "      <td>NaN</td>\n",
       "    </tr>\n",
       "    <tr>\n",
       "      <th>1</th>\n",
       "      <td>1</td>\n",
       "      <td>01/07/1995</td>\n",
       "      <td>PDP</td>\n",
       "      <td>Drawings</td>\n",
       "      <td>NaN</td>\n",
       "      <td>NaN</td>\n",
       "      <td>John Ruskin</td>\n",
       "      <td>Drawings</td>\n",
       "      <td>Beanstalk</td>\n",
       "      <td>Date unknown</td>\n",
       "      <td>Pen and yellow-brown ink and wash, graphite pe...</td>\n",
       "      <td>Sheet: 7 3/4 x 11 1/8inches (19.7 x 28.3cm)</td>\n",
       "      <td>NaN</td>\n",
       "      <td>John Ruskin</td>\n",
       "      <td>Ruskin John</td>\n",
       "      <td>Purchased with The Herbert &amp; Nannette Rothschi...</td>\n",
       "    </tr>\n",
       "  </tbody>\n",
       "</table>\n",
       "</div>"
      ],
      "text/plain": [
       "   Media Object Number Department Classification  Culture  Period  \\\n",
       "0      0     64-1993-1        PDP       Drawings      NaN     NaN   \n",
       "1      1    01/07/1995        PDP       Drawings      NaN     NaN   \n",
       "\n",
       "  Display Name Object Name                                    Title  \\\n",
       "0  John Ruskin    Drawings  Study of a River Bank, Beauvais, France   \n",
       "1  John Ruskin    Drawings                                Beanstalk   \n",
       "\n",
       "          Dated                                             Medium  \\\n",
       "0          1846                                         Watercolor   \n",
       "1  Date unknown  Pen and yellow-brown ink and wash, graphite pe...   \n",
       "\n",
       "                                    Dimensions  Description  Attribution  \\\n",
       "0                           H: 125mm  W: 175mm          NaN  John Ruskin   \n",
       "1  Sheet: 7 3/4 x 11 1/8inches (19.7 x 28.3cm)          NaN  John Ruskin   \n",
       "\n",
       "  AttributionSort                                        Credit Line  \n",
       "0     Ruskin John                                                NaN  \n",
       "1     Ruskin John  Purchased with The Herbert & Nannette Rothschi...  "
      ]
     },
     "execution_count": 17,
     "metadata": {},
     "output_type": "execute_result"
    }
   ],
   "source": [
    "file = '../data/pma/input/pma_ruskin.csv'\n",
    "\n",
    "# remove BOM\n",
    "s = open(file, mode='r', encoding='utf-8-sig').read()\n",
    "open(file, mode='w', encoding='utf-8').write(s)\n",
    "\n",
    "\n",
    "mpg = pd.read_csv(file,low_memory=False)\n",
    "mpg.head()"
   ]
  },
  {
   "cell_type": "markdown",
   "metadata": {},
   "source": [
    "# Mapping collection data to entities in the Linked Art data model\n",
    "\n",
    "We will use a Python dictionary that was created in another notebook. The dictionary keys are strings that represent entities in the Linked Art data model, and the values are mapped column names in the collection data CSV file\n"
   ]
  },
  {
   "cell_type": "code",
   "execution_count": 20,
   "metadata": {},
   "outputs": [],
   "source": [
    "mapp =  {\n",
    "    \"id\":\"Object Number\",\n",
    "    \"title\": \"Title\",\n",
    "    \"accession_number\":\"Object Number\",\n",
    "    \"accession_date\": \"accession_date\",\n",
    "    \"classification\" : \"Classification\",\n",
    "    \"alt_title\": \"\",\n",
    "    \"notes\": \"Description\",\n",
    "    \"date_created\":\"Dated\",\n",
    "    \"date_created_earliest\": \"\",\n",
    "    \"date_created_latest\": \"\",\n",
    "    \"created_period\":\"Period\",\n",
    "    \"created_dynasty\":\"\",\n",
    "    \"created_inscriptions\":\"\",\n",
    "    \"created_notes\": \"Description\",\n",
    "    \"creator\":\"Display Name\",\n",
    "    \"physical_medium\": \"Medium\",\n",
    "    \"physical_style\": \"\",\n",
    "    \"physical_technique\": \"physical_technique\",\n",
    "    \"physical_description\": \"physical_description\",\n",
    "    \"physical_dimensions\": \"Dimensions\",\n",
    "    \"created_provenance\": \"Attribution\" ,\n",
    "    \"credit_line\": \"Credit Line\",\n",
    "    \"collection\" : \"Department\",\n",
    "    \"current_status\" : \"\",\n",
    "    \"homepage\": \"\"\n",
    "}"
   ]
  },
  {
   "cell_type": "markdown",
   "metadata": {},
   "source": [
    "# Create dictionary using the data mapping\n",
    "\n",
    "The next step create a dictionary containing artwork properties from the input data mapped to the keys in `mapp` that represent Linked Art entities. This is required before the collection data can be transformed to JSON-LD in the process described here."
   ]
  },
  {
   "cell_type": "code",
   "execution_count": 31,
   "metadata": {},
   "outputs": [
    {
     "name": "stdout",
     "output_type": "stream",
     "text": [
      "\n"
     ]
    }
   ],
   "source": [
    "# open file and read into Python dictionary\n",
    "collection_data = csv.DictReader(open(file, mode='r',encoding='utf-8'))\n",
    "\n",
    "#src https://note.nkmk.me/en/python-dict-get-key-from-value/\n",
    "def get_key_from_value(d, val):\n",
    "    keys = [k for k, v in d.items() if v == val]\n",
    "    if keys:\n",
    "        return keys[0]\n",
    "    return None\n",
    "\n",
    "baseURI = \"https://philamuseum.org/collection/object/\"\n",
    "\n",
    "\n",
    "# uses mapp to create a dictionary of mapp entities and collection data\n",
    "def createObjProp(obj,mapp):\n",
    "    objProp = {}\n",
    "    csv_keys = list(obj.keys())\n",
    "    for key in csv_keys:\n",
    "        for prop in mapp:\n",
    "            if key == mapp[prop]:\n",
    "                if prop == \"creator\":\n",
    "                    objProp[prop] = [{\"id\": baseURI +\"creatorid/\" + obj[mapp[\"id\"]] ,\"name\": obj[key],\"role\":\"Artist\"}]\n",
    "                else:\n",
    "                    objProp[prop] = obj[key]\n",
    "    objProp[\"homepage\"] = \"\"\n",
    "    if \"id\" in objProp:\n",
    "        objProp[\"id\"] = baseURI +  objProp[\"id\"]\n",
    "    return objProp\n",
    "\n",
    "\"\"\"\n",
    "# if you want to see the mapped data alongside the original collection data record, uncomment this section of code \n",
    "# - removing triple speech marks\n",
    "# iterate through collection data \n",
    "for obj in collection_data:\n",
    "    display(HTML(\"<H3>Collection Data Record</H3>\"))\n",
    "    print(json.dumps(obj,indent=2))\n",
    "    display(HTML(\"<H3>Collection Data Record Mapped to Linked Art Entities</H3>\"))\n",
    "    objProp = createObjProp(obj,mapp)\n",
    "    print(json.dumps(objProp, indent=2))\n",
    "    break\n",
    "\"\"\"\n",
    "print(\"\")\n"
   ]
  },
  {
   "cell_type": "markdown",
   "metadata": {},
   "source": [
    "## Create mapped data dictionary and write to file"
   ]
  },
  {
   "cell_type": "code",
   "execution_count": 32,
   "metadata": {},
   "outputs": [
    {
     "name": "stdout",
     "output_type": "stream",
     "text": [
      "{\n",
      "  \"records\": [\n",
      "    {\n",
      "      \"id\": \"https://philamuseum.org/collection/object/64-1993-1\",\n",
      "      \"accession_number\": \"64-1993-1\",\n",
      "      \"collection\": \"PDP\",\n",
      "      \"classification\": \"Drawings\",\n",
      "      \"created_period\": \"\",\n",
      "      \"creator\": [\n",
      "        {\n",
      "          \"id\": \"https://philamuseum.org/collection/object/creatorid/64-1993-1\",\n",
      "          \"name\": \"John Ruskin\",\n",
      "          \"role\": \"Artist\"\n",
      "        }\n",
      "      ],\n",
      "      \"title\": \"Study of a River Bank, Beauvais, France\",\n",
      "      \"date_created\": \"1846\",\n",
      "      \"physical_medium\": \"Watercolor\",\n",
      "      \"physical_dimensions\": \"H: 125mm  W: 175mm\",\n",
      "      \"notes\": \"\",\n",
      "      \"created_notes\": \"\",\n",
      "      \"created_provenance\": \"John Ruskin\",\n",
      "      \"credit_line\": \"\",\n",
      "      \"homepage\": \"\"\n",
      "    },\n",
      "    {\n",
      "      \"id\": \"https://philamuseum.org/collection/object/01/07/1995\",\n",
      "      \"accession_number\": \"01/07/1995\",\n",
      "      \"collection\": \"PDP\",\n",
      "      \"classification\": \"Drawings\",\n",
      "      \"created_period\": \"\",\n",
      "      \"creator\": [\n",
      "        {\n",
      "          \"id\": \"https://philamuseum.org/collection/object/creatorid/01/07/1995\",\n",
      "          \"name\": \"John Ruskin\",\n",
      "          \"role\": \"Artist\"\n",
      "        }\n",
      "      ],\n",
      "      \"title\": \"Beanstalk\",\n",
      "      \"date_created\": \"Date unknown\",\n",
      "      \"physical_medium\": \"Pen and yellow-brown ink and wash, graphite pencil, and touches of white opaque watercolor on wove paper\",\n",
      "      \"physical_dimensions\": \"Sheet: 7 3/4 x 11 1/8inches (19.7 x 28.3cm)\",\n",
      "      \"notes\": \"\",\n",
      "      \"created_notes\": \"\",\n",
      "      \"created_provenance\": \"John Ruskin\",\n",
      "      \"credit_line\": \"Purchased with The Herbert & Nannette Rothschild Memorial Fund in memory of Judith Rothschild, 1995\",\n",
      "      \"homepage\": \"\"\n",
      "    }\n",
      "  ]\n",
      "}\n"
     ]
    }
   ],
   "source": [
    "obj_list =  []\n",
    "obj_dict = {}\n",
    "\n",
    "for record in collection_data:\n",
    "    objProp = createObjProp(record,mapp)\n",
    "    objProp_copy = objProp.copy()\n",
    "    obj_list.append(objProp_copy)\n",
    "\n",
    "obj_dict[\"records\"] = obj_list\n",
    "print(json.dumps(obj_dict, indent=2))  \n",
    "\n",
    "obj_file = './data/working/object_data_mapped_example.json'\n",
    "       \n",
    "with open(obj_file, 'w') as f:\n",
    "        f.write(json.dumps(obj_dict, indent=2))"
   ]
  },
  {
   "cell_type": "markdown",
   "metadata": {},
   "source": [
    "# Try now with your own data and mapping\n",
    "\n",
    "* upload data file and mapping file "
   ]
  },
  {
   "cell_type": "code",
   "execution_count": 33,
   "metadata": {},
   "outputs": [],
   "source": [
    "try:\n",
    "    import ipywidgets as widgets\n",
    "except:\n",
    "    %pip install ipywidgets\n",
    "    import ipywidgets as widgets\n",
    "    \n",
    "from ipywidgets import Layout, FileUpload \n",
    "\n",
    "\n",
    "try:\n",
    "    import IPython\n",
    "except:\n",
    "    %pip install IPython\n",
    "    import IPython \n",
    "from IPython.display import display, IFrame, HTML, Javascript\n",
    "from IPython.core.display import HTML\n",
    "\n",
    "\n",
    "import io\n",
    "\n",
    "import ipywidgets as widgets\n",
    "\n"
   ]
  },
  {
   "cell_type": "code",
   "execution_count": 44,
   "metadata": {},
   "outputs": [
    {
     "data": {
      "text/html": [
       "<h3>Upload CSV file</h3>"
      ],
      "text/plain": [
       "<IPython.core.display.HTML object>"
      ]
     },
     "metadata": {},
     "output_type": "display_data"
    },
    {
     "data": {
      "application/vnd.jupyter.widget-view+json": {
       "model_id": "e2b632f1c2d14755a40ae7e206336b31",
       "version_major": 2,
       "version_minor": 0
      },
      "text/plain": [
       "FileUpload(value={}, accept='*.csv', description='Select data file', style=ButtonStyle(button_color='orange'))"
      ]
     },
     "metadata": {},
     "output_type": "display_data"
    }
   ],
   "source": [
    "display(HTML(\"<h3>Upload CSV file</h3>\"))\n",
    "# define file upload widget\n",
    "upload_csv = FileUpload(accept='*.csv', multiple=False, description='Select data file')\n",
    "upload_csv.style.button_color = 'orange'\n",
    "\n",
    "\n",
    "upload_csv\n"
   ]
  },
  {
   "cell_type": "code",
   "execution_count": 53,
   "metadata": {},
   "outputs": [
    {
     "name": "stdout",
     "output_type": "stream",
     "text": [
      "{\n",
      "  \"Media\": \"0\",\n",
      "  \"Object Number\": \"64-1993-1\",\n",
      "  \"Department\": \"PDP\",\n",
      "  \"Classification\": \"Drawings\",\n",
      "  \"Culture\": \"\",\n",
      "  \"Period\": \"\",\n",
      "  \"Display Name\": \"John Ruskin\",\n",
      "  \"Object Name\": \"Drawings\",\n",
      "  \"Title\": \"Study of a River Bank, Beauvais, France\",\n",
      "  \"Dated\": \"1846\",\n",
      "  \"Medium\": \"Watercolor\",\n",
      "  \"Dimensions\": \"H: 125mm  W: 175mm\",\n",
      "  \"Description\": \"\",\n",
      "  \"Attribution\": \"John Ruskin\",\n",
      "  \"AttributionSort\": \"Ruskin John\",\n",
      "  \"Credit Line\": \"\"\n",
      "}\n"
     ]
    }
   ],
   "source": [
    "# upload and write files to disc\n",
    "\n",
    "csv_upload = \"./data/working/data_upload.csv\"\n",
    "\n",
    "for filename in upload_csv.value:\n",
    "    content = upload_csv.value[filename][\"content\"]\n",
    "    with open(csv_upload, 'w+b') as f: \n",
    "        f.write(content) \n",
    "\n",
    "# open file and read into Python dictionary\n",
    "\n",
    "uploaded_file = open(csv_upload, mode='r',encoding='utf-8')\n",
    "if uploaded_file:\n",
    "    collection_data = csv.DictReader(uploaded_file)\n",
    "\n",
    "    for obj in collection_data:\n",
    "        print(json.dumps(obj,indent=2))\n",
    "        break  \n",
    "        "
   ]
  },
  {
   "cell_type": "code",
   "execution_count": 41,
   "metadata": {},
   "outputs": [
    {
     "data": {
      "text/html": [
       "<h3>Upload mapping file</h3>"
      ],
      "text/plain": [
       "<IPython.core.display.HTML object>"
      ]
     },
     "metadata": {},
     "output_type": "display_data"
    },
    {
     "data": {
      "application/vnd.jupyter.widget-view+json": {
       "model_id": "4a036d5c529a42d9b0edb76748ae55e3",
       "version_major": 2,
       "version_minor": 0
      },
      "text/plain": [
       "FileUpload(value={}, accept='*.csv', description='Select mapping', style=ButtonStyle(button_color='orange'))"
      ]
     },
     "metadata": {},
     "output_type": "display_data"
    }
   ],
   "source": [
    "upload_mapp = FileUpload(accept='*.csv', multiple=False, description='Select mapping')\n",
    "upload_mapp.style.button_color = 'orange'\n",
    "display(HTML(\"<h3>Upload mapping file</h3>\"))\n",
    "upload_mapp"
   ]
  },
  {
   "cell_type": "code",
   "execution_count": 54,
   "metadata": {},
   "outputs": [
    {
     "name": "stdout",
     "output_type": "stream",
     "text": [
      "{\n",
      "  \"id\": \"Object Number\",\n",
      "  \"accession_number\": \"Object Number\",\n",
      "  \"accession_date\": \"accession_date\",\n",
      "  \"classification\": \"Classification\",\n",
      "  \"title\": \"Title\",\n",
      "  \"alt_title\": \"\",\n",
      "  \"notes\": \"Description\",\n",
      "  \"date_created\": \"Dated\",\n",
      "  \"date_created_earliest\": \"\",\n",
      "  \"date_created_latest\": \"\",\n",
      "  \"created_period\": \"Period\",\n",
      "  \"created_dynasty\": \"\",\n",
      "  \"created_inscriptions\": \"\",\n",
      "  \"created_notes\": \"Description\",\n",
      "  \"creator\": \"Display Name\",\n",
      "  \"physical_medium\": \"Medium\",\n",
      "  \"physical_style\": \"\",\n",
      "  \"physical_technique\": \"physical_technique\",\n",
      "  \"physical_description\": \"physical_description\",\n",
      "  \"physical_dimensions\": \"Dimensions\",\n",
      "  \"created_provenance\": \"Attribution\",\n",
      "  \"credit_line\": \"Credit Line\",\n",
      "  \"collection\": \"Department\",\n",
      "  \"current_status\": \"\",\n",
      "  \"homepage\": \"\"\n",
      "}\n"
     ]
    }
   ],
   "source": [
    "mapp_upload = 'data/working/mapp_upload.json'\n",
    "   \n",
    "# mapp \n",
    "for filename in upload_mapp.value:   \n",
    "    if filename != \"\"  : \n",
    "        file_uploaded = True\n",
    "        content = upload_mapp.value[filename][\"content\"]\n",
    "        with open(mapp_upload, 'wb') as f: f.write(content)       \n",
    "               \n",
    "with open(mapp_upload) as json_file:\n",
    "        # json.load() takes a file object and returns the json object\n",
    "        mapp = json.load(json_file)\n",
    "        # for demonstration print json\n",
    "        print(json.dumps(mapp,indent=2))       \n",
    "        "
   ]
  },
  {
   "cell_type": "markdown",
   "metadata": {},
   "source": [
    "# Create dictionary containing Linked Art entities mapped to collection data\n",
    "\n",
    "The following step takes the collection data file and the mapping to create a dictionary containing the collection data mapped to strings representing Linked Art entities."
   ]
  },
  {
   "cell_type": "code",
   "execution_count": 55,
   "metadata": {},
   "outputs": [
    {
     "name": "stdout",
     "output_type": "stream",
     "text": [
      "\n"
     ]
    }
   ],
   "source": [
    "\n",
    "\n",
    "baseURI = \"https://example.org/collection/object/\"\n",
    "\n",
    "def createObjProp(obj,mapp):\n",
    "    objProp = {}\n",
    "    csv_keys = list(obj.keys())\n",
    "    for key in csv_keys:\n",
    "        for prop in mapp:\n",
    "            if key == mapp[prop]:\n",
    "                if prop == \"creator\":\n",
    "                   \n",
    "                    objProp[prop] = [{\"id\": baseURI +\"creatorid/\" + obj[mapp[\"id\"]] ,\"name\": obj[key],\"role\":\"Artist\"}]\n",
    "                else:\n",
    "                    objProp[prop] = obj[key]\n",
    "    objProp[\"homepage\"] = \"\"\n",
    "    \n",
    "    return objProp\n",
    "\n",
    "\"\"\"\n",
    "# iterate through uploaded collection data \n",
    "for record in collection_data:\n",
    "    \n",
    "    display(HTML(\"<H3>Collection Data Record</H3>\"))\n",
    "    print(json.dumps(record,indent=2))\n",
    "    \n",
    "    display(HTML(\"<H3>Collection Data Record Mapped to Linked Art Entities</H3>\"))\n",
    "    objProp = createObjProp(record,mapp)\n",
    "    print(json.dumps(objProp, indent=2))\n",
    "   \n",
    "\"\"\"\n",
    "\n",
    "print(\"\")"
   ]
  },
  {
   "cell_type": "code",
   "execution_count": 58,
   "metadata": {},
   "outputs": [
    {
     "name": "stdout",
     "output_type": "stream",
     "text": [
      "{\n",
      "  \"records\": []\n",
      "}\n"
     ]
    }
   ],
   "source": [
    "obj_list =  []\n",
    "obj_dict = {}\n",
    "\n",
    "for record in collection_data:\n",
    "    objProp = createObjProp(record,mapp)\n",
    "    objProp_copy = objProp.copy()\n",
    "    obj_list.append(objProp_copy)\n",
    "\n",
    "obj_dict[\"records\"] = obj_list\n",
    "print(json.dumps(obj_dict, indent=2))  \n",
    "\n",
    "obj_file = './data/working/object_data_mapped.json'\n",
    "       \n",
    "with open(obj_file, 'w') as f:\n",
    "        f.write(json.dumps(obj_dict, indent=2))\n"
   ]
  },
  {
   "cell_type": "markdown",
   "metadata": {},
   "source": [
    "# Summary\n",
    "\n",
    "This notebook has taken collection data and using a Linked Art data mapping, mapped the collection data in a dictionary to Linked Art entities.\n",
    "\n",
    "A file has been created:\n",
    "- [./data/working/object_data_mapped.json](./data/working/object_data_mapped.json)\n",
    "\n",
    "The next step is to take this mapped data file and transform the collection data to Linked Art JSON-LD."
   ]
  }
 ],
 "metadata": {
  "finalized": {
   "timestamp": 1656028080746,
   "trusted": true
  },
  "interpreter": {
   "hash": "40d3a090f54c6569ab1632332b64b2c03c39dcf918b08424e98f38b5ae0af88f"
  },
  "kernelspec": {
   "display_name": "Python 3",
   "language": "python",
   "name": "python3"
  },
  "language_info": {
   "codemirror_mode": {
    "name": "ipython",
    "version": 3
   },
   "file_extension": ".py",
   "mimetype": "text/x-python",
   "name": "python",
   "nbconvert_exporter": "python",
   "pygments_lexer": "ipython3",
   "version": "3.8.8"
  }
 },
 "nbformat": 4,
 "nbformat_minor": 2
}
