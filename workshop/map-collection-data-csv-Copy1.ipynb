{
 "cells": [
  {
   "cell_type": "markdown",
   "metadata": {},
   "source": [
    "# Map Collection Data - CSV\n",
    "\n",
    "This notebook shows how to read in collection data in CSV format and map it to a Python dictionary, ready for transformation to Linked Art\n",
    "\n",
    "Steps in this notebook:\n",
    "1. Read CSV file\n",
    "2. Map collection data to Python Dictionary\n"
   ]
  },
  {
   "cell_type": "markdown",
   "metadata": {},
   "source": [
    "# Python modules\n",
    "\n",
    "\n",
    "Three Python modules will be used:\n",
    "* pandas\n",
    "* json\n",
    "* csv\n",
    "\n",
    "## pandas\n",
    "https://pandas.pydata.org/\n",
    "\n",
    "<pre>\"pandas is a fast, powerful, flexible and easy to use open source data analysis and manipulation tool,\n",
    "built on top of the Python programming language.\"</pre>\n",
    "\n",
    "`pandas` is used to read in the csv file contents to a pandas dataframe for further processing in Python. A dataframe is a data structure to hold <pre>\"two-dimensional, size-mutable, potentially heterogeneous tabular data.\"</pre>\n",
    "\n",
    "\n",
    "## json\n",
    "\n",
    "\n",
    "The Python `json` module is used to encode and decode JSON objects and is used in the script to encode JSON objects before printing.\n",
    "\n",
    "\n",
    "## csv\n",
    "\n",
    "\n",
    "<pre>The csv module implements classes to read and write tabular data in CSV format.</pre>\n",
    "\n",
    "\n",
    "### Further Reading \n",
    "* https://pandas.pydata.org/docs/reference/api/pandas.read_csv.html\n",
    "\n",
    "* https://pandas.pydata.org/docs/reference/api/pandas.DataFrame.html\n",
    "\n",
    "* https://docs.python.org/3/library/json.html\n",
    "\n",
    "* https://docs.python.org/3/library/csv.htm"
   ]
  },
  {
   "cell_type": "code",
   "execution_count": 1,
   "metadata": {},
   "outputs": [],
   "source": [
    "\n",
    "# https://pandas.pydata.org/\n",
    "\n",
    "try:\n",
    "    import pandas as pd\n",
    "except:\n",
    "    %pip install pandas\n",
    "    import pandas as pd\n",
    "\n",
    "\n",
    "try:\n",
    "    import json\n",
    "except:\n",
    "    %pip install json\n",
    "    import json \n",
    "  \n",
    "try:\n",
    "    import csv\n",
    "except:\n",
    "    %pip install csv\n",
    "    import csv\n"
   ]
  },
  {
   "cell_type": "markdown",
   "metadata": {},
   "source": [
    "## Read CSV file contents using pandas\n",
    "\n",
    "The following code demonstrates how to read CSV into a pandas dataframe."
   ]
  },
  {
   "cell_type": "code",
   "execution_count": 12,
   "metadata": {},
   "outputs": [],
   "source": [
    "file = '../data/pma/input/pma_ruskin.csv'\n",
    "mpg = pd.read_csv(file,low_memory=False)"
   ]
  },
  {
   "cell_type": "markdown",
   "metadata": {},
   "source": [
    "### Print first 5 rows\n",
    "Print the first 5 rows for illustration\n",
    "\n"
   ]
  },
  {
   "cell_type": "code",
   "execution_count": 13,
   "metadata": {},
   "outputs": [
    {
     "data": {
      "text/html": [
       "<div>\n",
       "<style scoped>\n",
       "    .dataframe tbody tr th:only-of-type {\n",
       "        vertical-align: middle;\n",
       "    }\n",
       "\n",
       "    .dataframe tbody tr th {\n",
       "        vertical-align: top;\n",
       "    }\n",
       "\n",
       "    .dataframe thead th {\n",
       "        text-align: right;\n",
       "    }\n",
       "</style>\n",
       "<table border=\"1\" class=\"dataframe\">\n",
       "  <thead>\n",
       "    <tr style=\"text-align: right;\">\n",
       "      <th></th>\n",
       "      <th>Media</th>\n",
       "      <th>Object Number</th>\n",
       "      <th>Department</th>\n",
       "      <th>Classification</th>\n",
       "      <th>Culture</th>\n",
       "      <th>Period</th>\n",
       "      <th>Display Name</th>\n",
       "      <th>Object Name</th>\n",
       "      <th>Title</th>\n",
       "      <th>Dated</th>\n",
       "      <th>Medium</th>\n",
       "      <th>Dimensions</th>\n",
       "      <th>Description</th>\n",
       "      <th>Attribution</th>\n",
       "      <th>AttributionSort</th>\n",
       "      <th>Credit Line</th>\n",
       "    </tr>\n",
       "  </thead>\n",
       "  <tbody>\n",
       "    <tr>\n",
       "      <th>0</th>\n",
       "      <td>0</td>\n",
       "      <td>64-1993-1</td>\n",
       "      <td>PDP</td>\n",
       "      <td>Drawings</td>\n",
       "      <td>NaN</td>\n",
       "      <td>NaN</td>\n",
       "      <td>John Ruskin</td>\n",
       "      <td>Drawings</td>\n",
       "      <td>Study of a River Bank, Beauvais, France</td>\n",
       "      <td>1846</td>\n",
       "      <td>Watercolor</td>\n",
       "      <td>H: 125mm  W: 175mm</td>\n",
       "      <td>NaN</td>\n",
       "      <td>John Ruskin</td>\n",
       "      <td>Ruskin John</td>\n",
       "      <td>NaN</td>\n",
       "    </tr>\n",
       "    <tr>\n",
       "      <th>1</th>\n",
       "      <td>1</td>\n",
       "      <td>01/07/1995</td>\n",
       "      <td>PDP</td>\n",
       "      <td>Drawings</td>\n",
       "      <td>NaN</td>\n",
       "      <td>NaN</td>\n",
       "      <td>John Ruskin</td>\n",
       "      <td>Drawings</td>\n",
       "      <td>Beanstalk</td>\n",
       "      <td>Date unknown</td>\n",
       "      <td>Pen and yellow-brown ink and wash, graphite pe...</td>\n",
       "      <td>Sheet: 7 3/4 x 11 1/8inches (19.7 x 28.3cm)</td>\n",
       "      <td>NaN</td>\n",
       "      <td>John Ruskin</td>\n",
       "      <td>Ruskin John</td>\n",
       "      <td>Purchased with The Herbert &amp; Nannette Rothschi...</td>\n",
       "    </tr>\n",
       "  </tbody>\n",
       "</table>\n",
       "</div>"
      ],
      "text/plain": [
       "   Media Object Number Department Classification  Culture  Period  \\\n",
       "0      0     64-1993-1        PDP       Drawings      NaN     NaN   \n",
       "1      1    01/07/1995        PDP       Drawings      NaN     NaN   \n",
       "\n",
       "  Display Name Object Name                                    Title  \\\n",
       "0  John Ruskin    Drawings  Study of a River Bank, Beauvais, France   \n",
       "1  John Ruskin    Drawings                                Beanstalk   \n",
       "\n",
       "          Dated                                             Medium  \\\n",
       "0          1846                                         Watercolor   \n",
       "1  Date unknown  Pen and yellow-brown ink and wash, graphite pe...   \n",
       "\n",
       "                                    Dimensions  Description  Attribution  \\\n",
       "0                           H: 125mm  W: 175mm          NaN  John Ruskin   \n",
       "1  Sheet: 7 3/4 x 11 1/8inches (19.7 x 28.3cm)          NaN  John Ruskin   \n",
       "\n",
       "  AttributionSort                                        Credit Line  \n",
       "0     Ruskin John                                                NaN  \n",
       "1     Ruskin John  Purchased with The Herbert & Nannette Rothschi...  "
      ]
     },
     "execution_count": 13,
     "metadata": {},
     "output_type": "execute_result"
    }
   ],
   "source": [
    "mpg.head()"
   ]
  },
  {
   "cell_type": "markdown",
   "metadata": {},
   "source": [
    "## Read CSV file contents using csv\n",
    "\n",
    "The following code demonstrates how to read in CSV file data using the `csv` module.\n",
    "\n",
    "\n",
    "### Remove Byte Order Mark (BOM) from CSV file \n",
    "\n",
    "An initial step is shown, which is to remove Byte Order Marks (BOM) from the CSV file before loading it into a Python dictionary. See https://stackoverflow.com/questions/8898294/convert-utf-8-with-bom-to-utf-8-with-no-bom-in-python\n"
   ]
  },
  {
   "cell_type": "code",
   "execution_count": 14,
   "metadata": {},
   "outputs": [
    {
     "data": {
      "text/plain": [
       "668"
      ]
     },
     "execution_count": 14,
     "metadata": {},
     "output_type": "execute_result"
    }
   ],
   "source": [
    "# remove BOM\n",
    "\n",
    "# open file \n",
    "s = open(file, mode='r', encoding='utf-8-sig').read()\n",
    "\n",
    "# write to file \n",
    "open(file, mode='w', encoding='utf-8').write(s)\n"
   ]
  },
  {
   "cell_type": "markdown",
   "metadata": {},
   "source": [
    "### Read CSV contents into Python dictionary\n",
    "\n",
    "Use `csv.DictReader()` to create a Python dictionary whose keys are the field names. \n"
   ]
  },
  {
   "cell_type": "code",
   "execution_count": 15,
   "metadata": {},
   "outputs": [],
   "source": [
    "# open file and read into Python dictionary\n",
    "allObjects = csv.DictReader(open(file, mode='r',encoding='utf-8'))"
   ]
  },
  {
   "cell_type": "markdown",
   "metadata": {},
   "source": [
    "### Print first `row` in dictionary\n",
    "Print first `row` in dictionary for illustration\n"
   ]
  },
  {
   "cell_type": "code",
   "execution_count": 16,
   "metadata": {},
   "outputs": [
    {
     "name": "stdout",
     "output_type": "stream",
     "text": [
      "{\n",
      "  \"Media\": \"0\",\n",
      "  \"Object Number\": \"64-1993-1\",\n",
      "  \"Department\": \"PDP\",\n",
      "  \"Classification\": \"Drawings\",\n",
      "  \"Culture\": \"\",\n",
      "  \"Period\": \"\",\n",
      "  \"Display Name\": \"John Ruskin\",\n",
      "  \"Object Name\": \"Drawings\",\n",
      "  \"Title\": \"Study of a River Bank, Beauvais, France\",\n",
      "  \"Dated\": \"1846\",\n",
      "  \"Medium\": \"Watercolor\",\n",
      "  \"Dimensions\": \"H: 125mm  W: 175mm\",\n",
      "  \"Description\": \"\",\n",
      "  \"Attribution\": \"John Ruskin\",\n",
      "  \"AttributionSort\": \"Ruskin John\",\n",
      "  \"Credit Line\": \"\"\n",
      "}\n"
     ]
    }
   ],
   "source": [
    "for obj in allObjects:\n",
    "    print(json.dumps(obj,indent=2))\n",
    "    break  "
   ]
  },
  {
   "cell_type": "markdown",
   "metadata": {},
   "source": [
    "# Map collection data to Linked Art data model\n",
    "\n",
    "We will now map column headings in the collection data, to entities in the Linked Art data model, in preparation for transformation of the collection data to Linked Art.\n",
    "\n",
    "The mapping is shown in the following cell, with a Python dictionary called `mapp`\n",
    "* keys are strings that represent entities in the Linked Art data model\n",
    "* values are mapped column headings from the collection data CSV file\n",
    "\n"
   ]
  },
  {
   "cell_type": "code",
   "execution_count": 17,
   "metadata": {},
   "outputs": [
    {
     "data": {
      "text/html": [
       "<div>\n",
       "<style scoped>\n",
       "    .dataframe tbody tr th:only-of-type {\n",
       "        vertical-align: middle;\n",
       "    }\n",
       "\n",
       "    .dataframe tbody tr th {\n",
       "        vertical-align: top;\n",
       "    }\n",
       "\n",
       "    .dataframe thead th {\n",
       "        text-align: right;\n",
       "    }\n",
       "</style>\n",
       "<table border=\"1\" class=\"dataframe\">\n",
       "  <thead>\n",
       "    <tr style=\"text-align: right;\">\n",
       "      <th></th>\n",
       "      <th>0</th>\n",
       "    </tr>\n",
       "  </thead>\n",
       "  <tbody>\n",
       "    <tr>\n",
       "      <th>id</th>\n",
       "      <td>Object Number</td>\n",
       "    </tr>\n",
       "    <tr>\n",
       "      <th>accession_number</th>\n",
       "      <td>Object Number</td>\n",
       "    </tr>\n",
       "    <tr>\n",
       "      <th>accession_date</th>\n",
       "      <td>accession_date</td>\n",
       "    </tr>\n",
       "    <tr>\n",
       "      <th>classification</th>\n",
       "      <td>Classification</td>\n",
       "    </tr>\n",
       "    <tr>\n",
       "      <th>title</th>\n",
       "      <td>Title</td>\n",
       "    </tr>\n",
       "    <tr>\n",
       "      <th>alt_title</th>\n",
       "      <td></td>\n",
       "    </tr>\n",
       "    <tr>\n",
       "      <th>notes</th>\n",
       "      <td>Description</td>\n",
       "    </tr>\n",
       "    <tr>\n",
       "      <th>date_created</th>\n",
       "      <td>Dated</td>\n",
       "    </tr>\n",
       "    <tr>\n",
       "      <th>date_created_earliest</th>\n",
       "      <td></td>\n",
       "    </tr>\n",
       "    <tr>\n",
       "      <th>date_created_latest</th>\n",
       "      <td></td>\n",
       "    </tr>\n",
       "    <tr>\n",
       "      <th>created_period</th>\n",
       "      <td>Period</td>\n",
       "    </tr>\n",
       "    <tr>\n",
       "      <th>created_dynasty</th>\n",
       "      <td></td>\n",
       "    </tr>\n",
       "    <tr>\n",
       "      <th>created_inscriptions</th>\n",
       "      <td></td>\n",
       "    </tr>\n",
       "    <tr>\n",
       "      <th>created_notes</th>\n",
       "      <td>Description</td>\n",
       "    </tr>\n",
       "    <tr>\n",
       "      <th>creator</th>\n",
       "      <td>Display Name</td>\n",
       "    </tr>\n",
       "    <tr>\n",
       "      <th>physical_medium</th>\n",
       "      <td>Medium</td>\n",
       "    </tr>\n",
       "    <tr>\n",
       "      <th>physical_style</th>\n",
       "      <td></td>\n",
       "    </tr>\n",
       "    <tr>\n",
       "      <th>physical_technique</th>\n",
       "      <td>physical_technique</td>\n",
       "    </tr>\n",
       "    <tr>\n",
       "      <th>physical_description</th>\n",
       "      <td>physical_description</td>\n",
       "    </tr>\n",
       "    <tr>\n",
       "      <th>physical_dimensions</th>\n",
       "      <td>Dimensions</td>\n",
       "    </tr>\n",
       "    <tr>\n",
       "      <th>created_provenance</th>\n",
       "      <td>Attribution</td>\n",
       "    </tr>\n",
       "    <tr>\n",
       "      <th>credit_line</th>\n",
       "      <td>Credit Line</td>\n",
       "    </tr>\n",
       "    <tr>\n",
       "      <th>collection</th>\n",
       "      <td>Department</td>\n",
       "    </tr>\n",
       "    <tr>\n",
       "      <th>current_status</th>\n",
       "      <td></td>\n",
       "    </tr>\n",
       "    <tr>\n",
       "      <th>homepage</th>\n",
       "      <td></td>\n",
       "    </tr>\n",
       "  </tbody>\n",
       "</table>\n",
       "</div>"
      ],
      "text/plain": [
       "                                          0\n",
       "id                            Object Number\n",
       "accession_number              Object Number\n",
       "accession_date               accession_date\n",
       "classification               Classification\n",
       "title                                 Title\n",
       "alt_title                                  \n",
       "notes                           Description\n",
       "date_created                          Dated\n",
       "date_created_earliest                      \n",
       "date_created_latest                        \n",
       "created_period                       Period\n",
       "created_dynasty                            \n",
       "created_inscriptions                       \n",
       "created_notes                   Description\n",
       "creator                        Display Name\n",
       "physical_medium                      Medium\n",
       "physical_style                             \n",
       "physical_technique       physical_technique\n",
       "physical_description   physical_description\n",
       "physical_dimensions              Dimensions\n",
       "created_provenance              Attribution\n",
       "credit_line                     Credit Line\n",
       "collection                       Department\n",
       "current_status                             \n",
       "homepage                                   "
      ]
     },
     "metadata": {},
     "output_type": "display_data"
    }
   ],
   "source": [
    "mapp =  {\n",
    "    \"id\":\"Object Number\",\n",
    "    \"accession_number\":\"Object Number\",\n",
    "    \"accession_date\": \"accession_date\",\n",
    "    \"classification\" : \"Classification\",\n",
    "    \"title\": \"Title\",\n",
    "    \"alt_title\": \"\",\n",
    "    \"notes\": \"Description\",\n",
    "    \"date_created\":\"Dated\",\n",
    "    \"date_created_earliest\": \"\",\n",
    "    \"date_created_latest\": \"\",\n",
    "    \"created_period\":\"Period\",\n",
    "    \"created_dynasty\":\"\",\n",
    "    \"created_inscriptions\":\"\",\n",
    "    \"created_notes\": \"Description\",\n",
    "    \"creator\":\"Display Name\",\n",
    "    \"physical_medium\": \"Medium\",\n",
    "    \"physical_style\": \"\",\n",
    "    \"physical_technique\": \"physical_technique\",\n",
    "    \"physical_description\": \"physical_description\",\n",
    "    \"physical_dimensions\": \"Dimensions\",\n",
    "    \"created_provenance\": \"Attribution\" ,\n",
    "    \"credit_line\": \"Credit Line\",\n",
    "    \"collection\" : \"Department\",\n",
    "    \"current_status\" : \"\",\n",
    "    \"homepage\": \"\"\n",
    "}\n",
    "\n",
    "# display transposed dataframe of data mapping\n",
    "display(pd.DataFrame(mapp, index=[0]).T)\n",
    "\n"
   ]
  },
  {
   "cell_type": "markdown",
   "metadata": {},
   "source": [
    "# Try with your own CSV file\n",
    "\n",
    "If you'd like to try this with your own CSV file, select the file on your local system using the widget below.\n",
    "\n",
    "The `ipywidgets` Python module will be used for the file upload.\n",
    "\n",
    "### Further Reading\n",
    "\n",
    "https://ipywidgets.readthedocs.io/"
   ]
  },
  {
   "cell_type": "code",
   "execution_count": 18,
   "metadata": {},
   "outputs": [],
   "source": [
    "try:\n",
    "    import ipywidgets as widgets\n",
    "except:\n",
    "    !pip install ipywidgets\n",
    "    import ipywidgets as widgets\n",
    "    \n",
    "from ipywidgets import Layout, FileUpload \n",
    "\n",
    "\n",
    "try:\n",
    "    import IPython\n",
    "except:\n",
    "    %pip install IPython\n",
    "    import IPython \n",
    "from IPython.display import display, IFrame, HTML, Javascript\n",
    "from IPython.core.display import HTML\n",
    "\n",
    "\n",
    "import io\n"
   ]
  },
  {
   "cell_type": "markdown",
   "metadata": {},
   "source": [
    "## Display file upload widget"
   ]
  },
  {
   "cell_type": "code",
   "execution_count": 19,
   "metadata": {},
   "outputs": [
    {
     "data": {
      "application/vnd.jupyter.widget-view+json": {
       "model_id": "d7a6a387e9ca45c9a0ecdd37f8a4ca86",
       "version_major": 2,
       "version_minor": 0
      },
      "text/plain": [
       "FileUpload(value={}, accept='*.csv', description='Select CSV file', style=ButtonStyle(button_color='orange'))"
      ]
     },
     "metadata": {},
     "output_type": "display_data"
    }
   ],
   "source": [
    "# define file upload widget\n",
    "uploader = widgets.FileUpload(accept='*.csv', multiple=False, description='Select CSV file')\n",
    "uploader.style.button_color = 'orange'\n",
    "\n",
    "display(uploader)\n",
    "\n"
   ]
  },
  {
   "cell_type": "markdown",
   "metadata": {},
   "source": [
    "## Read contents of CSV file \n",
    "\n",
    "The following code reads the contents of the CSV file uploaded using the FileUpload widge and loads it into a `pandas` dataframe\n",
    "\n",
    "### Display file contents\n",
    "\n",
    "`dataframe.head()` displays the first 5 rows for illustration. Add a number in .head() to display more rows e.g. .head(20)"
   ]
  },
  {
   "cell_type": "code",
   "execution_count": 20,
   "metadata": {},
   "outputs": [
    {
     "data": {
      "text/html": [
       "<div>\n",
       "<style scoped>\n",
       "    .dataframe tbody tr th:only-of-type {\n",
       "        vertical-align: middle;\n",
       "    }\n",
       "\n",
       "    .dataframe tbody tr th {\n",
       "        vertical-align: top;\n",
       "    }\n",
       "\n",
       "    .dataframe thead th {\n",
       "        text-align: right;\n",
       "    }\n",
       "</style>\n",
       "<table border=\"1\" class=\"dataframe\">\n",
       "  <thead>\n",
       "    <tr style=\"text-align: right;\">\n",
       "      <th></th>\n",
       "      <th>Media</th>\n",
       "      <th>Object Number</th>\n",
       "      <th>Department</th>\n",
       "      <th>Classification</th>\n",
       "      <th>Culture</th>\n",
       "      <th>Period</th>\n",
       "      <th>Display Name</th>\n",
       "      <th>Object Name</th>\n",
       "      <th>Title</th>\n",
       "      <th>Dated</th>\n",
       "      <th>Medium</th>\n",
       "      <th>Dimensions</th>\n",
       "      <th>Description</th>\n",
       "      <th>Attribution</th>\n",
       "      <th>AttributionSort</th>\n",
       "      <th>Credit Line</th>\n",
       "    </tr>\n",
       "  </thead>\n",
       "  <tbody>\n",
       "    <tr>\n",
       "      <th>0</th>\n",
       "      <td>0</td>\n",
       "      <td>64-1993-1</td>\n",
       "      <td>PDP</td>\n",
       "      <td>Drawings</td>\n",
       "      <td>NaN</td>\n",
       "      <td>NaN</td>\n",
       "      <td>John Ruskin</td>\n",
       "      <td>Drawings</td>\n",
       "      <td>Study of a River Bank, Beauvais, France</td>\n",
       "      <td>1846</td>\n",
       "      <td>Watercolor</td>\n",
       "      <td>H: 125mm  W: 175mm</td>\n",
       "      <td>NaN</td>\n",
       "      <td>John Ruskin</td>\n",
       "      <td>Ruskin John</td>\n",
       "      <td>NaN</td>\n",
       "    </tr>\n",
       "    <tr>\n",
       "      <th>1</th>\n",
       "      <td>1</td>\n",
       "      <td>01/07/1995</td>\n",
       "      <td>PDP</td>\n",
       "      <td>Drawings</td>\n",
       "      <td>NaN</td>\n",
       "      <td>NaN</td>\n",
       "      <td>John Ruskin</td>\n",
       "      <td>Drawings</td>\n",
       "      <td>Beanstalk</td>\n",
       "      <td>Date unknown</td>\n",
       "      <td>Pen and yellow-brown ink and wash, graphite pe...</td>\n",
       "      <td>Sheet: 7 3/4 x 11 1/8inches (19.7 x 28.3cm)</td>\n",
       "      <td>NaN</td>\n",
       "      <td>John Ruskin</td>\n",
       "      <td>Ruskin John</td>\n",
       "      <td>Purchased with The Herbert &amp; Nannette Rothschi...</td>\n",
       "    </tr>\n",
       "  </tbody>\n",
       "</table>\n",
       "</div>"
      ],
      "text/plain": [
       "   Media Object Number Department Classification  Culture  Period  \\\n",
       "0      0     64-1993-1        PDP       Drawings      NaN     NaN   \n",
       "1      1    01/07/1995        PDP       Drawings      NaN     NaN   \n",
       "\n",
       "  Display Name Object Name                                    Title  \\\n",
       "0  John Ruskin    Drawings  Study of a River Bank, Beauvais, France   \n",
       "1  John Ruskin    Drawings                                Beanstalk   \n",
       "\n",
       "          Dated                                             Medium  \\\n",
       "0          1846                                         Watercolor   \n",
       "1  Date unknown  Pen and yellow-brown ink and wash, graphite pe...   \n",
       "\n",
       "                                    Dimensions  Description  Attribution  \\\n",
       "0                           H: 125mm  W: 175mm          NaN  John Ruskin   \n",
       "1  Sheet: 7 3/4 x 11 1/8inches (19.7 x 28.3cm)          NaN  John Ruskin   \n",
       "\n",
       "  AttributionSort                                        Credit Line  \n",
       "0     Ruskin John                                                NaN  \n",
       "1     Ruskin John  Purchased with The Herbert & Nannette Rothschi...  "
      ]
     },
     "metadata": {},
     "output_type": "display_data"
    }
   ],
   "source": [
    "for filename in uploader.value:       \n",
    "    if filename != \"\"  :  \n",
    "        content = uploader.value[filename][\"content\"]\n",
    "\n",
    "        # read file content into pandas dataframe\n",
    "        dataframe = pd.read_csv(io.BytesIO(content))\n",
    "        \n",
    "       \n",
    "        display(dataframe.head())\n"
   ]
  },
  {
   "cell_type": "code",
   "execution_count": 67,
   "metadata": {},
   "outputs": [
    {
     "name": "stdout",
     "output_type": "stream",
     "text": [
      "['', 'Media', 'Object Number', 'Department', 'Classification', 'Culture', 'Period', 'Display Name', 'Object Name', 'Title', 'Dated', 'Medium', 'Dimensions', 'Description', 'Attribution', 'AttributionSort', 'Credit Line']\n"
     ]
    }
   ],
   "source": [
    "# get column headings \n",
    "\n",
    "columns = list(dataframe.columns.values.tolist())\n",
    "\n",
    "columns.insert(0, \"\")\n",
    "\n",
    "print(columns)"
   ]
  },
  {
   "cell_type": "code",
   "execution_count": 71,
   "metadata": {},
   "outputs": [
    {
     "name": "stdout",
     "output_type": "stream",
     "text": [
      "id\n"
     ]
    },
    {
     "data": {
      "application/vnd.jupyter.widget-view+json": {
       "model_id": "aff3919e533b4f908e7ecd91a59cdbaf",
       "version_major": 2,
       "version_minor": 0
      },
      "text/plain": [
       "Dropdown(description='Column:', options=('', 'Media', 'Object Number', 'Department', 'Classification', 'Cultur…"
      ]
     },
     "metadata": {},
     "output_type": "display_data"
    },
    {
     "name": "stdout",
     "output_type": "stream",
     "text": [
      "accession_number\n"
     ]
    },
    {
     "data": {
      "application/vnd.jupyter.widget-view+json": {
       "model_id": "aff3919e533b4f908e7ecd91a59cdbaf",
       "version_major": 2,
       "version_minor": 0
      },
      "text/plain": [
       "Dropdown(description='Column:', options=('', 'Media', 'Object Number', 'Department', 'Classification', 'Cultur…"
      ]
     },
     "metadata": {},
     "output_type": "display_data"
    },
    {
     "name": "stdout",
     "output_type": "stream",
     "text": [
      "accession_date\n"
     ]
    },
    {
     "data": {
      "application/vnd.jupyter.widget-view+json": {
       "model_id": "aff3919e533b4f908e7ecd91a59cdbaf",
       "version_major": 2,
       "version_minor": 0
      },
      "text/plain": [
       "Dropdown(description='Column:', options=('', 'Media', 'Object Number', 'Department', 'Classification', 'Cultur…"
      ]
     },
     "metadata": {},
     "output_type": "display_data"
    },
    {
     "name": "stdout",
     "output_type": "stream",
     "text": [
      "classification\n"
     ]
    },
    {
     "data": {
      "application/vnd.jupyter.widget-view+json": {
       "model_id": "aff3919e533b4f908e7ecd91a59cdbaf",
       "version_major": 2,
       "version_minor": 0
      },
      "text/plain": [
       "Dropdown(description='Column:', options=('', 'Media', 'Object Number', 'Department', 'Classification', 'Cultur…"
      ]
     },
     "metadata": {},
     "output_type": "display_data"
    },
    {
     "name": "stdout",
     "output_type": "stream",
     "text": [
      "title\n"
     ]
    },
    {
     "data": {
      "application/vnd.jupyter.widget-view+json": {
       "model_id": "aff3919e533b4f908e7ecd91a59cdbaf",
       "version_major": 2,
       "version_minor": 0
      },
      "text/plain": [
       "Dropdown(description='Column:', options=('', 'Media', 'Object Number', 'Department', 'Classification', 'Cultur…"
      ]
     },
     "metadata": {},
     "output_type": "display_data"
    },
    {
     "name": "stdout",
     "output_type": "stream",
     "text": [
      "alt_title\n"
     ]
    },
    {
     "data": {
      "application/vnd.jupyter.widget-view+json": {
       "model_id": "aff3919e533b4f908e7ecd91a59cdbaf",
       "version_major": 2,
       "version_minor": 0
      },
      "text/plain": [
       "Dropdown(description='Column:', options=('', 'Media', 'Object Number', 'Department', 'Classification', 'Cultur…"
      ]
     },
     "metadata": {},
     "output_type": "display_data"
    },
    {
     "name": "stdout",
     "output_type": "stream",
     "text": [
      "notes\n"
     ]
    },
    {
     "data": {
      "application/vnd.jupyter.widget-view+json": {
       "model_id": "aff3919e533b4f908e7ecd91a59cdbaf",
       "version_major": 2,
       "version_minor": 0
      },
      "text/plain": [
       "Dropdown(description='Column:', options=('', 'Media', 'Object Number', 'Department', 'Classification', 'Cultur…"
      ]
     },
     "metadata": {},
     "output_type": "display_data"
    },
    {
     "name": "stdout",
     "output_type": "stream",
     "text": [
      "date_created\n"
     ]
    },
    {
     "data": {
      "application/vnd.jupyter.widget-view+json": {
       "model_id": "aff3919e533b4f908e7ecd91a59cdbaf",
       "version_major": 2,
       "version_minor": 0
      },
      "text/plain": [
       "Dropdown(description='Column:', options=('', 'Media', 'Object Number', 'Department', 'Classification', 'Cultur…"
      ]
     },
     "metadata": {},
     "output_type": "display_data"
    },
    {
     "name": "stdout",
     "output_type": "stream",
     "text": [
      "date_created_earliest\n"
     ]
    },
    {
     "data": {
      "application/vnd.jupyter.widget-view+json": {
       "model_id": "aff3919e533b4f908e7ecd91a59cdbaf",
       "version_major": 2,
       "version_minor": 0
      },
      "text/plain": [
       "Dropdown(description='Column:', options=('', 'Media', 'Object Number', 'Department', 'Classification', 'Cultur…"
      ]
     },
     "metadata": {},
     "output_type": "display_data"
    },
    {
     "name": "stdout",
     "output_type": "stream",
     "text": [
      "date_created_latest\n"
     ]
    },
    {
     "data": {
      "application/vnd.jupyter.widget-view+json": {
       "model_id": "aff3919e533b4f908e7ecd91a59cdbaf",
       "version_major": 2,
       "version_minor": 0
      },
      "text/plain": [
       "Dropdown(description='Column:', options=('', 'Media', 'Object Number', 'Department', 'Classification', 'Cultur…"
      ]
     },
     "metadata": {},
     "output_type": "display_data"
    },
    {
     "name": "stdout",
     "output_type": "stream",
     "text": [
      "created_period\n"
     ]
    },
    {
     "data": {
      "application/vnd.jupyter.widget-view+json": {
       "model_id": "aff3919e533b4f908e7ecd91a59cdbaf",
       "version_major": 2,
       "version_minor": 0
      },
      "text/plain": [
       "Dropdown(description='Column:', options=('', 'Media', 'Object Number', 'Department', 'Classification', 'Cultur…"
      ]
     },
     "metadata": {},
     "output_type": "display_data"
    },
    {
     "name": "stdout",
     "output_type": "stream",
     "text": [
      "created_dynasty\n"
     ]
    },
    {
     "data": {
      "application/vnd.jupyter.widget-view+json": {
       "model_id": "aff3919e533b4f908e7ecd91a59cdbaf",
       "version_major": 2,
       "version_minor": 0
      },
      "text/plain": [
       "Dropdown(description='Column:', options=('', 'Media', 'Object Number', 'Department', 'Classification', 'Cultur…"
      ]
     },
     "metadata": {},
     "output_type": "display_data"
    },
    {
     "name": "stdout",
     "output_type": "stream",
     "text": [
      "created_inscriptions\n"
     ]
    },
    {
     "data": {
      "application/vnd.jupyter.widget-view+json": {
       "model_id": "aff3919e533b4f908e7ecd91a59cdbaf",
       "version_major": 2,
       "version_minor": 0
      },
      "text/plain": [
       "Dropdown(description='Column:', options=('', 'Media', 'Object Number', 'Department', 'Classification', 'Cultur…"
      ]
     },
     "metadata": {},
     "output_type": "display_data"
    },
    {
     "name": "stdout",
     "output_type": "stream",
     "text": [
      "created_notes\n"
     ]
    },
    {
     "data": {
      "application/vnd.jupyter.widget-view+json": {
       "model_id": "aff3919e533b4f908e7ecd91a59cdbaf",
       "version_major": 2,
       "version_minor": 0
      },
      "text/plain": [
       "Dropdown(description='Column:', options=('', 'Media', 'Object Number', 'Department', 'Classification', 'Cultur…"
      ]
     },
     "metadata": {},
     "output_type": "display_data"
    },
    {
     "name": "stdout",
     "output_type": "stream",
     "text": [
      "creator\n"
     ]
    },
    {
     "data": {
      "application/vnd.jupyter.widget-view+json": {
       "model_id": "aff3919e533b4f908e7ecd91a59cdbaf",
       "version_major": 2,
       "version_minor": 0
      },
      "text/plain": [
       "Dropdown(description='Column:', options=('', 'Media', 'Object Number', 'Department', 'Classification', 'Cultur…"
      ]
     },
     "metadata": {},
     "output_type": "display_data"
    },
    {
     "name": "stdout",
     "output_type": "stream",
     "text": [
      "physical_medium\n"
     ]
    },
    {
     "data": {
      "application/vnd.jupyter.widget-view+json": {
       "model_id": "aff3919e533b4f908e7ecd91a59cdbaf",
       "version_major": 2,
       "version_minor": 0
      },
      "text/plain": [
       "Dropdown(description='Column:', options=('', 'Media', 'Object Number', 'Department', 'Classification', 'Cultur…"
      ]
     },
     "metadata": {},
     "output_type": "display_data"
    },
    {
     "name": "stdout",
     "output_type": "stream",
     "text": [
      "physical_style\n"
     ]
    },
    {
     "data": {
      "application/vnd.jupyter.widget-view+json": {
       "model_id": "aff3919e533b4f908e7ecd91a59cdbaf",
       "version_major": 2,
       "version_minor": 0
      },
      "text/plain": [
       "Dropdown(description='Column:', options=('', 'Media', 'Object Number', 'Department', 'Classification', 'Cultur…"
      ]
     },
     "metadata": {},
     "output_type": "display_data"
    },
    {
     "name": "stdout",
     "output_type": "stream",
     "text": [
      "physical_technique\n"
     ]
    },
    {
     "data": {
      "application/vnd.jupyter.widget-view+json": {
       "model_id": "aff3919e533b4f908e7ecd91a59cdbaf",
       "version_major": 2,
       "version_minor": 0
      },
      "text/plain": [
       "Dropdown(description='Column:', options=('', 'Media', 'Object Number', 'Department', 'Classification', 'Cultur…"
      ]
     },
     "metadata": {},
     "output_type": "display_data"
    },
    {
     "name": "stdout",
     "output_type": "stream",
     "text": [
      "physical_description\n"
     ]
    },
    {
     "data": {
      "application/vnd.jupyter.widget-view+json": {
       "model_id": "aff3919e533b4f908e7ecd91a59cdbaf",
       "version_major": 2,
       "version_minor": 0
      },
      "text/plain": [
       "Dropdown(description='Column:', options=('', 'Media', 'Object Number', 'Department', 'Classification', 'Cultur…"
      ]
     },
     "metadata": {},
     "output_type": "display_data"
    },
    {
     "name": "stdout",
     "output_type": "stream",
     "text": [
      "physical_dimensions\n"
     ]
    },
    {
     "data": {
      "application/vnd.jupyter.widget-view+json": {
       "model_id": "aff3919e533b4f908e7ecd91a59cdbaf",
       "version_major": 2,
       "version_minor": 0
      },
      "text/plain": [
       "Dropdown(description='Column:', options=('', 'Media', 'Object Number', 'Department', 'Classification', 'Cultur…"
      ]
     },
     "metadata": {},
     "output_type": "display_data"
    },
    {
     "name": "stdout",
     "output_type": "stream",
     "text": [
      "created_provenance\n"
     ]
    },
    {
     "data": {
      "application/vnd.jupyter.widget-view+json": {
       "model_id": "aff3919e533b4f908e7ecd91a59cdbaf",
       "version_major": 2,
       "version_minor": 0
      },
      "text/plain": [
       "Dropdown(description='Column:', options=('', 'Media', 'Object Number', 'Department', 'Classification', 'Cultur…"
      ]
     },
     "metadata": {},
     "output_type": "display_data"
    },
    {
     "name": "stdout",
     "output_type": "stream",
     "text": [
      "credit_line\n"
     ]
    },
    {
     "data": {
      "application/vnd.jupyter.widget-view+json": {
       "model_id": "aff3919e533b4f908e7ecd91a59cdbaf",
       "version_major": 2,
       "version_minor": 0
      },
      "text/plain": [
       "Dropdown(description='Column:', options=('', 'Media', 'Object Number', 'Department', 'Classification', 'Cultur…"
      ]
     },
     "metadata": {},
     "output_type": "display_data"
    },
    {
     "name": "stdout",
     "output_type": "stream",
     "text": [
      "collection\n"
     ]
    },
    {
     "data": {
      "application/vnd.jupyter.widget-view+json": {
       "model_id": "aff3919e533b4f908e7ecd91a59cdbaf",
       "version_major": 2,
       "version_minor": 0
      },
      "text/plain": [
       "Dropdown(description='Column:', options=('', 'Media', 'Object Number', 'Department', 'Classification', 'Cultur…"
      ]
     },
     "metadata": {},
     "output_type": "display_data"
    },
    {
     "name": "stdout",
     "output_type": "stream",
     "text": [
      "current_status\n"
     ]
    },
    {
     "data": {
      "application/vnd.jupyter.widget-view+json": {
       "model_id": "aff3919e533b4f908e7ecd91a59cdbaf",
       "version_major": 2,
       "version_minor": 0
      },
      "text/plain": [
       "Dropdown(description='Column:', options=('', 'Media', 'Object Number', 'Department', 'Classification', 'Cultur…"
      ]
     },
     "metadata": {},
     "output_type": "display_data"
    },
    {
     "name": "stdout",
     "output_type": "stream",
     "text": [
      "homepage\n"
     ]
    },
    {
     "data": {
      "application/vnd.jupyter.widget-view+json": {
       "model_id": "aff3919e533b4f908e7ecd91a59cdbaf",
       "version_major": 2,
       "version_minor": 0
      },
      "text/plain": [
       "Dropdown(description='Column:', options=('', 'Media', 'Object Number', 'Department', 'Classification', 'Cultur…"
      ]
     },
     "metadata": {},
     "output_type": "display_data"
    },
    {
     "data": {
      "application/vnd.jupyter.widget-view+json": {
       "model_id": "1103fb059e74429c968243b066d7f76f",
       "version_major": 2,
       "version_minor": 0
      },
      "text/plain": [
       "GridBox(children=(Label(value='id'), Label(value='accession_number'), Label(value='accession_date'), Label(val…"
      ]
     },
     "metadata": {},
     "output_type": "display_data"
    }
   ],
   "source": [
    "# create dropdown list from column names\n",
    "\n",
    "\n",
    "\n",
    "\n",
    "column_select = widgets.Dropdown(\n",
    "   \n",
    "    description='Column:',\n",
    "    disabled=False,\n",
    ")\n",
    "\n",
    "column_select.options = columns\n",
    "\n",
    "#column_select\n",
    "\n",
    "\n",
    "mapp_keys = [\"id\", \"accession_number\", \"accession_date\",  \"classification\" ,  \"title\",  \"alt_title\",  \n",
    "             \"notes\",  \"date_created\", \"date_created_earliest\",  \"date_created_latest\",  \n",
    "             \"created_period\", \"created_dynasty\", \"created_inscriptions\", \"created_notes\",  \n",
    "             \"creator\", \"physical_medium\",  \"physical_style\",  \"physical_technique\",  \"physical_description\",  \n",
    "             \"physical_dimensions\",  \"created_provenance\",  \"credit_line\",  \"collection\" ,  \"current_status\" ,  \n",
    "             \"homepage\"   ]\n",
    "\n",
    "for key in mapp_keys:\n",
    "    \n",
    "    print(key ) \n",
    "    display(column_select)\n",
    "    \n",
    " \n",
    "\n",
    "\n",
    "items = [widgets.Label(str(key)) for key in mapp_keys]\n",
    "\n",
    "widgets.VBox([items[0], column_select])\n",
    "\n",
    "widgets.GridBox(items, layout=widgets.Layout(grid_template_columns=\"repeat(1, 600px)\"))\n",
    "\n"
   ]
  },
  {
   "cell_type": "code",
   "execution_count": null,
   "metadata": {},
   "outputs": [],
   "source": []
  }
 ],
 "metadata": {
  "interpreter": {
   "hash": "40d3a090f54c6569ab1632332b64b2c03c39dcf918b08424e98f38b5ae0af88f"
  },
  "kernelspec": {
   "display_name": "Python 3",
   "language": "python",
   "name": "python3"
  },
  "language_info": {
   "codemirror_mode": {
    "name": "ipython",
    "version": 3
   },
   "file_extension": ".py",
   "mimetype": "text/x-python",
   "name": "python",
   "nbconvert_exporter": "python",
   "pygments_lexer": "ipython3",
   "version": "3.8.8"
  }
 },
 "nbformat": 4,
 "nbformat_minor": 2
}
