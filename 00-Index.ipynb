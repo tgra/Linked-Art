{
 "cells": [
  {
   "cell_type": "markdown",
   "id": "bbcd276d",
   "metadata": {},
   "source": [
    "# Transforming Collections Data to Linked Art\n",
    "\n",
    "\n",
    "## Transform Collections Data\n",
    "\n",
    "- [01-00 - Transform - Introduction](01-00-Transform-Intro.ipynb)\n",
    "- [01-01 - Transform - Indianapolis Museum of Art](01-01-Transform-XML-IMA.ipynb)\n",
    "- [01-02 - Transform - Cleveland Museum of Art](01-01-Transform-CSV-CMA.ipynb)\n",
    "- [01-03 - Transform - National Gallery of Art](01-02-Transform-CSV-NGA.ipynb)\n",
    "- [01-04 - Transform - Philadelphia Museum of Art](01-03-Transform-CSV-PMA.ipynb)\n",
    "- [01-05 - Transform - Harvard Art Museum](01-05-Transform-JSON-Harvard-API.ipynb)\n",
    "\n",
    "## Visualise Collections Data\n",
    "- [02-00 - Visualise - Introduction](02-00-Visualise-Intro.ipynb)\n",
    "- [02-01 - Visualise - John Ruskin](02-01-Visualise-John-Ruskin.ipynb)\n"
   ]
  },
  {
   "cell_type": "code",
   "execution_count": null,
   "id": "c03ccf9e",
   "metadata": {},
   "outputs": [],
   "source": []
  }
 ],
 "metadata": {
  "kernelspec": {
   "display_name": "Python 3",
   "language": "python",
   "name": "python3"
  },
  "language_info": {
   "codemirror_mode": {
    "name": "ipython",
    "version": 3
   },
   "file_extension": ".py",
   "mimetype": "text/x-python",
   "name": "python",
   "nbconvert_exporter": "python",
   "pygments_lexer": "ipython3",
   "version": "3.8.8"
  }
 },
 "nbformat": 4,
 "nbformat_minor": 5
}
