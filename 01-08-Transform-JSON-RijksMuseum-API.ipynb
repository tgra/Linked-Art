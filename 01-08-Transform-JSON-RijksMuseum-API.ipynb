{
 "cells": [
  {
   "cell_type": "markdown",
   "id": "547477a2",
   "metadata": {},
   "source": [
    "# RijksMuseum\n",
    "\n",
    "https://data.rijksmuseum.nl/object-metadata/api/\n",
    "\n",
    "    `To start using the data and images, you first need to obtain an API key by registering for a Rijksstudio account. You will be given a key instantly upon request, which you can find at the advanced settings of your Rijksstudio account.`"
   ]
  },
  {
   "cell_type": "code",
   "execution_count": 7,
   "id": "9f0832e2",
   "metadata": {},
   "outputs": [],
   "source": [
    "import requests\n",
    "\n",
    "import json\n",
    "\n",
    "import os\n",
    "from IPython.core.display import display, HTML\n",
    "\n",
    "from cromulent.model import factory\n",
    "    \n",
    "from lib import linkedart as la\n",
    "\n",
    "\n",
    "\n",
    "def fn(dir):       # 1.Get file names from directory\n",
    "    file_list=os.listdir(dir)\n",
    "    for file in file_list:\n",
    "        display(HTML(\"<a target='_new' href='\" + dir + file +\"'>\" + file + \"</a>\"))\n",
    "    "
   ]
  },
  {
   "cell_type": "code",
   "execution_count": 8,
   "id": "f991f62f",
   "metadata": {},
   "outputs": [],
   "source": [
    "keyfile = \"data/ruskin/input/keyrijks.txt\"\n",
    "key = open(keyfile, mode='r', encoding='utf-8-sig').read()\n",
    "url = \"https://www.rijksmuseum.nl/api/nl/collection?key=\" + key + \"&involvedMaker=John+Ruskin\"\n",
    "\n",
    "rijksdir = \"data/rijks/json/\"\n",
    "\n",
    "rijksvis = \"data/ruskin/output/json/\"\n",
    "\n",
    "baseURI = \"http://www.rijksmuseum.nl/nl/collectie/\"\n",
    "\n"
   ]
  },
  {
   "cell_type": "code",
   "execution_count": 9,
   "id": "3969a153",
   "metadata": {},
   "outputs": [
    {
     "name": "stdout",
     "output_type": "stream",
     "text": [
      "{\n",
      "  \"links\": {\n",
      "    \"self\": \"http://www.rijksmuseum.nl/api/nl/collection/RP-P-1942-556\",\n",
      "    \"web\": \"http://www.rijksmuseum.nl/nl/collectie/RP-P-1942-556\"\n",
      "  },\n",
      "  \"id\": \"nl-RP-P-1942-556\",\n",
      "  \"objectNumber\": \"RP-P-1942-556\",\n",
      "  \"title\": \"Kustlijn met kliffen\",\n",
      "  \"hasImage\": false,\n",
      "  \"principalOrFirstMaker\": \"John Ruskin\",\n",
      "  \"longTitle\": \"Kustlijn met kliffen, John Ruskin, 1855\",\n",
      "  \"showImage\": false,\n",
      "  \"permitDownload\": true,\n",
      "  \"webImage\": null,\n",
      "  \"headerImage\": {\n",
      "    \"guid\": null,\n",
      "    \"offsetPercentageX\": 0,\n",
      "    \"offsetPercentageY\": 0,\n",
      "    \"width\": 0,\n",
      "    \"height\": 0,\n",
      "    \"url\": null\n",
      "  },\n",
      "  \"productionPlaces\": [\n",
      "    \"New York\"\n",
      "  ]\n",
      "}\n",
      "{\n",
      "  \"links\": {\n",
      "    \"self\": \"http://www.rijksmuseum.nl/api/nl/collection/RP-F-2001-7-481\",\n",
      "    \"web\": \"http://www.rijksmuseum.nl/nl/collectie/RP-F-2001-7-481\"\n",
      "  },\n",
      "  \"id\": \"nl-RP-F-2001-7-481\",\n",
      "  \"objectNumber\": \"RP-F-2001-7-481\",\n",
      "  \"title\": \"Roadside songs of Tuscany\",\n",
      "  \"hasImage\": true,\n",
      "  \"principalOrFirstMaker\": \"George Allen\",\n",
      "  \"longTitle\": \"Roadside songs of Tuscany, George Allen, 1885\",\n",
      "  \"showImage\": true,\n",
      "  \"permitDownload\": true,\n",
      "  \"webImage\": {\n",
      "    \"guid\": \"b612e455-da3f-432e-92d5-9d428618a038\",\n",
      "    \"offsetPercentageX\": 0,\n",
      "    \"offsetPercentageY\": 0,\n",
      "    \"width\": 2500,\n",
      "    \"height\": 1541,\n",
      "    \"url\": \"https://lh3.googleusercontent.com/L3Do_bvGrTP3OUwOUqG79t7tyHKwhnj9HEWPelZC2XgFl_Y7BdeJKJV6gOo47Mtu5e4eCt_F5ECKoC7P1CqD3YOSDQ=s0\"\n",
      "  },\n",
      "  \"headerImage\": {\n",
      "    \"guid\": \"c6272b0c-6803-4981-8f1a-5dcf39ff3d39\",\n",
      "    \"offsetPercentageX\": 0,\n",
      "    \"offsetPercentageY\": 0,\n",
      "    \"width\": 1920,\n",
      "    \"height\": 460,\n",
      "    \"url\": \"https://lh3.googleusercontent.com/5fznMX1CE9FUCTtMgyNDUVcD5FsxXcj1H1gT44JE2bHqxuS0ae2GOgqeutbyNW3WIyADSLbYQ9JAYeMEQ-1eULa49Q=s0\"\n",
      "  },\n",
      "  \"productionPlaces\": [\n",
      "    \"Kent\"\n",
      "  ]\n",
      "}\n",
      "{\n",
      "  \"links\": {\n",
      "    \"self\": \"http://www.rijksmuseum.nl/api/nl/collection/RP-P-1943-556-D(1)\",\n",
      "    \"web\": \"http://www.rijksmuseum.nl/nl/collectie/RP-P-1943-556-D(1)\"\n",
      "  },\n",
      "  \"id\": \"nl-RP-P-1943-556-D(1)\",\n",
      "  \"objectNumber\": \"RP-P-1943-556-D(1)\",\n",
      "  \"title\": \"Prent\",\n",
      "  \"hasImage\": false,\n",
      "  \"principalOrFirstMaker\": \"John Ruskin\",\n",
      "  \"longTitle\": \"Prent, John Ruskin, 1829 - 1900\",\n",
      "  \"showImage\": false,\n",
      "  \"permitDownload\": true,\n",
      "  \"webImage\": null,\n",
      "  \"headerImage\": {\n",
      "    \"guid\": null,\n",
      "    \"offsetPercentageX\": 0,\n",
      "    \"offsetPercentageY\": 0,\n",
      "    \"width\": 0,\n",
      "    \"height\": 0,\n",
      "    \"url\": null\n",
      "  },\n",
      "  \"productionPlaces\": []\n",
      "}\n",
      "{\n",
      "  \"links\": {\n",
      "    \"self\": \"http://www.rijksmuseum.nl/api/nl/collection/RP-T-1987-19\",\n",
      "    \"web\": \"http://www.rijksmuseum.nl/nl/collectie/RP-T-1987-19\"\n",
      "  },\n",
      "  \"id\": \"nl-RP-T-1987-19\",\n",
      "  \"objectNumber\": \"RP-T-1987-19\",\n",
      "  \"title\": \"Bergkam aan het Meer van Gen\\u00e8ve\",\n",
      "  \"hasImage\": true,\n",
      "  \"principalOrFirstMaker\": \"John Ruskin\",\n",
      "  \"longTitle\": \"Bergkam aan het Meer van Gen\\u00e8ve, John Ruskin, 1829 - 1900\",\n",
      "  \"showImage\": true,\n",
      "  \"permitDownload\": true,\n",
      "  \"webImage\": {\n",
      "    \"guid\": \"0e3e19b4-5c72-43b5-a027-d81c199361cc\",\n",
      "    \"offsetPercentageX\": 0,\n",
      "    \"offsetPercentageY\": 0,\n",
      "    \"width\": 2500,\n",
      "    \"height\": 1504,\n",
      "    \"url\": \"https://lh3.ggpht.com/SOPNNYPF1S5Ij-DKCcm7AoweEHz--rJ0VPCh5WZdFbCKEPNnSI9ZAzYQz_nxKVtuurYAnOEvSFfYv5ZNcX-Ma7TwNH0=s0\"\n",
      "  },\n",
      "  \"headerImage\": {\n",
      "    \"guid\": \"f9f9b94a-8f96-4b17-aa76-979fd3cbb7b0\",\n",
      "    \"offsetPercentageX\": 0,\n",
      "    \"offsetPercentageY\": 0,\n",
      "    \"width\": 1920,\n",
      "    \"height\": 460,\n",
      "    \"url\": \"https://lh6.ggpht.com/iR0kI_bGMikvoHFedRGwp0Kj_Iz0Qy06y_P_KMhUA20DgMBJl1p0ZDSlfwWXG9ZttMupnD6Gw3BINvhhCkofAHPe-Vwf=s0\"\n",
      "  },\n",
      "  \"productionPlaces\": []\n",
      "}\n",
      "{\n",
      "  \"links\": {\n",
      "    \"self\": \"http://www.rijksmuseum.nl/api/nl/collection/RP-T-1957-335\",\n",
      "    \"web\": \"http://www.rijksmuseum.nl/nl/collectie/RP-T-1957-335\"\n",
      "  },\n",
      "  \"id\": \"nl-RP-T-1957-335\",\n",
      "  \"objectNumber\": \"RP-T-1957-335\",\n",
      "  \"title\": \"Gezicht op S. Anastasia te Verona, over de Adige\",\n",
      "  \"hasImage\": true,\n",
      "  \"principalOrFirstMaker\": \"John Ruskin\",\n",
      "  \"longTitle\": \"Gezicht op S. Anastasia te Verona, over de Adige, John Ruskin, 1829 - 1900\",\n",
      "  \"showImage\": true,\n",
      "  \"permitDownload\": true,\n",
      "  \"webImage\": {\n",
      "    \"guid\": \"c366d216-9aa1-4cb5-bbe5-fefa51f8e641\",\n",
      "    \"offsetPercentageX\": 0,\n",
      "    \"offsetPercentageY\": 0,\n",
      "    \"width\": 2500,\n",
      "    \"height\": 1695,\n",
      "    \"url\": \"https://lh3.googleusercontent.com/X0Xc5cER3eTrpNyqH4kg3ne-ewai_nBqFdSI-EZPZ4N-lE6rn1OAUBckEHQSFyafcGcFpiX99QU4STEXWbB43KsnAbi3=s0\"\n",
      "  },\n",
      "  \"headerImage\": {\n",
      "    \"guid\": \"84416aa1-5880-4751-ab94-72000580cd03\",\n",
      "    \"offsetPercentageX\": 0,\n",
      "    \"offsetPercentageY\": 0,\n",
      "    \"width\": 1920,\n",
      "    \"height\": 460,\n",
      "    \"url\": \"https://lh3.googleusercontent.com/LEfvA4m-B8Y6ty0tj8iC4epKOv1-VTT14KIY4NuLVnhsVHlpk4c3FHBJ6pkFpKN4dVmHQOpizc5JP3koX0okT34BwQ8=s0\"\n",
      "  },\n",
      "  \"productionPlaces\": []\n",
      "}\n"
     ]
    }
   ],
   "source": [
    "response = requests.get(url)\n",
    "data = response.json()\n",
    "\n",
    "for artwork in data[\"artObjects\"]:\n",
    "    print(json.dumps(artwork,indent=2))\n",
    "    \n",
    "    if artwork[\"hasImage\"] == False:\n",
    "        continue\n",
    "    if artwork[\"principalOrFirstMaker\"] != \"John Ruskin\":\n",
    "        continue\n",
    "    text_file = open( rijksdir + artwork[\"id\"] + \".json\", \"wt\")\n",
    "    text_file.write(json.dumps(artwork, indent=2))\n",
    "    text_file.close()"
   ]
  },
  {
   "cell_type": "code",
   "execution_count": 10,
   "id": "5709fa66",
   "metadata": {},
   "outputs": [],
   "source": [
    "mapp = {\n",
    "    \n",
    "    \"id\":\"id\",\n",
    "    \"accession_number\":\"objectNumber\",\n",
    "    \"classification\" : \"\",\n",
    "    \"title\": \"title\",\n",
    "    \"alt_title\": \"longTitle\",\n",
    "    \"notes\": \"\",\n",
    "    \"date_created\":\"\",\n",
    "    \"date_created_earliest\": \"\",\n",
    "    \"date_created_latest\": \"\",\n",
    "    \"created_period\":\"\",\n",
    "    \"created_dynasty\":\"\",\n",
    "    \"created_inscriptions\":\"\",\n",
    "    \"created_notes\": \"\",\n",
    "    \"creator\":\"principalOrFirstMaker\",\n",
    "    \"physical_medium\": \"\",\n",
    "    \"physical_style\": \"\",\n",
    "    \"physical_technique\": \"\",\n",
    "    \"physical_description\": \"\",\n",
    "    \"physical_dimensions\": \"\",\n",
    "    \"created_provenance\": \"\" ,\n",
    "    \"credit_line\": \"\",\n",
    "    \"collection\" : \"\",\n",
    "    \"classification\": \"\",\n",
    "    \"current_status\" : \"\",\n",
    "    \"current_owner\": \"\",\n",
    "    \"image_url\":\"\",\n",
    "    \"homepage\" : \"\"\n",
    "}"
   ]
  },
  {
   "cell_type": "code",
   "execution_count": 15,
   "id": "ab9c4d02",
   "metadata": {},
   "outputs": [
    {
     "name": "stdout",
     "output_type": "stream",
     "text": [
      "{'id': 'nl-RP-T-1987-19', 'accession_number': 'RP-T-1987-19', 'title': 'Bergkam aan het Meer van Genève', 'creator': [{'id': 'http://www.rijksmuseum.nl/nl/collectie/creator/nl-RP-T-1987-19', 'name': 'John Ruskin', 'role': 'Artist'}], 'date_created_earliest': '1829', 'date_created_latest': '1900', 'date_created': '1829-1900', 'current_owner': {'name': 'Rijksmuseum', 'location': 'Amsterdam, Netherlands', 'type': 'http://vocab.getty.edu/aat/300312281', 'type_label': 'Museum'}, 'image_url': 'https://lh3.ggpht.com/SOPNNYPF1S5Ij-DKCcm7AoweEHz--rJ0VPCh5WZdFbCKEPNnSI9ZAzYQz_nxKVtuurYAnOEvSFfYv5ZNcX-Ma7TwNH0=s0', 'classification': 'Painting', 'homepage': 'http://www.rijksmuseum.nl/nl/collectie/RP-T-1987-19'}\n",
      "{'id': 'nl-RP-T-1957-335', 'accession_number': 'RP-T-1957-335', 'title': 'Gezicht op S. Anastasia te Verona, over de Adige', 'creator': [{'id': 'http://www.rijksmuseum.nl/nl/collectie/creator/nl-RP-T-1957-335', 'name': 'John Ruskin', 'role': 'Artist'}], 'date_created_earliest': '1829', 'date_created_latest': '1900', 'date_created': '1829-1900', 'current_owner': {'name': 'Rijksmuseum', 'location': 'Amsterdam, Netherlands', 'type': 'http://vocab.getty.edu/aat/300312281', 'type_label': 'Museum'}, 'image_url': 'https://lh3.googleusercontent.com/X0Xc5cER3eTrpNyqH4kg3ne-ewai_nBqFdSI-EZPZ4N-lE6rn1OAUBckEHQSFyafcGcFpiX99QU4STEXWbB43KsnAbi3=s0', 'classification': 'Painting', 'homepage': 'http://www.rijksmuseum.nl/nl/collectie/RP-T-1957-335'}\n"
     ]
    }
   ],
   "source": [
    "import re\n",
    "\n",
    "def createObjProp(obj,mapp):\n",
    "    objProp = {}\n",
    "    csv_keys = list(obj.keys())\n",
    "    for key in csv_keys:\n",
    "        for prop in mapp:\n",
    "            if key == mapp[prop]:\n",
    "               \n",
    "                if prop == \"alt_title\":\n",
    "                    alt_title = obj[key]\n",
    "                    # parse alt_title for dates\n",
    "                    \n",
    "                    years = re.findall('(\\d{4})', alt_title)\n",
    "                    if years[0]:\n",
    "                        objProp[\"date_created_earliest\"] = years[0]\n",
    "                    if years[1]:\n",
    "                        objProp[\"date_created_latest\"] = years[1]\n",
    "                        objProp[\"date_created\"] = years[0] + \"-\" + years[1]\n",
    "                    else:\n",
    "                        objProp[\"date_created\"] = years[0]\n",
    "\n",
    "                else:\n",
    "                    objProp[prop] = obj[key]\n",
    "                    \n",
    "    objProp[\"current_owner\"] = {\"name\":\"Rijksmuseum\",\n",
    "                                \"location\":\"Amsterdam, Netherlands\",\n",
    "                                \"type\": \"http://vocab.getty.edu/aat/300312281\" ,\n",
    "                                \"type_label\": \"Museum\"}\n",
    "    return objProp   \n",
    "\n",
    "\n",
    "file_list=os.listdir(rijksdir)\n",
    "for file in file_list:\n",
    "    with open(rijksdir + file) as json_file:\n",
    "        obj = json.load(json_file)\n",
    "        objProp=createObjProp(obj,mapp)\n",
    "        \n",
    "        objProp[\"image_url\"] = obj[\"webImage\"][\"url\"]\n",
    "        objProp[\"creator\"] = [{\"id\": baseURI + \"creator/\" + obj[\"id\"], \"name\": obj[\"principalOrFirstMaker\"], \"role\": \"Artist\"}]\n",
    "        \n",
    "        objProp[\"classification\"] = \"Painting\"\n",
    "        objProp[\"homepage\"] = obj[\"links\"][\"web\"]\n",
    "        \n",
    "        \n",
    "        \n",
    "        if objProp[\"creator\"] != \"\":\n",
    "            print(objProp)\n",
    "            \n",
    "            id = str(objProp[\"id\"])\n",
    "            object_uri = baseURI + id\n",
    "    \n",
    "            # create obj description\n",
    "            objLA = la.createObjDesc(objProp,la.objTypes,object_uri)\n",
    "               \n",
    "            # write to file \n",
    "            text_file = open(rijksvis + id + \".json\", \"wt\")\n",
    "            n = text_file.write(factory.toString(objLA, compact=False))\n",
    "            text_file.close()\n",
    "            "
   ]
  },
  {
   "cell_type": "code",
   "execution_count": 16,
   "id": "8d902105",
   "metadata": {},
   "outputs": [
    {
     "data": {
      "text/html": [
       "<a target='_new' href='data/ruskin/output/json/298597.json'>298597.json</a>"
      ],
      "text/plain": [
       "<IPython.core.display.HTML object>"
      ]
     },
     "metadata": {},
     "output_type": "display_data"
    },
    {
     "data": {
      "text/html": [
       "<a target='_new' href='data/ruskin/output/json/298606.json'>298606.json</a>"
      ],
      "text/plain": [
       "<IPython.core.display.HTML object>"
      ]
     },
     "metadata": {},
     "output_type": "display_data"
    },
    {
     "data": {
      "text/html": [
       "<a target='_new' href='data/ruskin/output/json/299187.json'>299187.json</a>"
      ],
      "text/plain": [
       "<IPython.core.display.HTML object>"
      ]
     },
     "metadata": {},
     "output_type": "display_data"
    },
    {
     "data": {
      "text/html": [
       "<a target='_new' href='data/ruskin/output/json/13033.json'>13033.json</a>"
      ],
      "text/plain": [
       "<IPython.core.display.HTML object>"
      ]
     },
     "metadata": {},
     "output_type": "display_data"
    },
    {
     "data": {
      "text/html": [
       "<a target='_new' href='data/ruskin/output/json/303730.json'>303730.json</a>"
      ],
      "text/plain": [
       "<IPython.core.display.HTML object>"
      ]
     },
     "metadata": {},
     "output_type": "display_data"
    },
    {
     "data": {
      "text/html": [
       "<a target='_new' href='data/ruskin/output/json/293768.json'>293768.json</a>"
      ],
      "text/plain": [
       "<IPython.core.display.HTML object>"
      ]
     },
     "metadata": {},
     "output_type": "display_data"
    },
    {
     "data": {
      "text/html": [
       "<a target='_new' href='data/ruskin/output/json/298489.json'>298489.json</a>"
      ],
      "text/plain": [
       "<IPython.core.display.HTML object>"
      ]
     },
     "metadata": {},
     "output_type": "display_data"
    },
    {
     "data": {
      "text/html": [
       "<a target='_new' href='data/ruskin/output/json/262415.json'>262415.json</a>"
      ],
      "text/plain": [
       "<IPython.core.display.HTML object>"
      ]
     },
     "metadata": {},
     "output_type": "display_data"
    },
    {
     "data": {
      "text/html": [
       "<a target='_new' href='data/ruskin/output/json/298630.json'>298630.json</a>"
      ],
      "text/plain": [
       "<IPython.core.display.HTML object>"
      ]
     },
     "metadata": {},
     "output_type": "display_data"
    },
    {
     "data": {
      "text/html": [
       "<a target='_new' href='data/ruskin/output/json/298667.json'>298667.json</a>"
      ],
      "text/plain": [
       "<IPython.core.display.HTML object>"
      ]
     },
     "metadata": {},
     "output_type": "display_data"
    },
    {
     "data": {
      "text/html": [
       "<a target='_new' href='data/ruskin/output/json/298671.json'>298671.json</a>"
      ],
      "text/plain": [
       "<IPython.core.display.HTML object>"
      ]
     },
     "metadata": {},
     "output_type": "display_data"
    },
    {
     "data": {
      "text/html": [
       "<a target='_new' href='data/ruskin/output/json/298364.json'>298364.json</a>"
      ],
      "text/plain": [
       "<IPython.core.display.HTML object>"
      ]
     },
     "metadata": {},
     "output_type": "display_data"
    },
    {
     "data": {
      "text/html": [
       "<a target='_new' href='data/ruskin/output/json/299037.json'>299037.json</a>"
      ],
      "text/plain": [
       "<IPython.core.display.HTML object>"
      ]
     },
     "metadata": {},
     "output_type": "display_data"
    },
    {
     "data": {
      "text/html": [
       "<a target='_new' href='data/ruskin/output/json/298627.json'>298627.json</a>"
      ],
      "text/plain": [
       "<IPython.core.display.HTML object>"
      ]
     },
     "metadata": {},
     "output_type": "display_data"
    },
    {
     "data": {
      "text/html": [
       "<a target='_new' href='data/ruskin/output/json/298365.json'>298365.json</a>"
      ],
      "text/plain": [
       "<IPython.core.display.HTML object>"
      ]
     },
     "metadata": {},
     "output_type": "display_data"
    },
    {
     "data": {
      "text/html": [
       "<a target='_new' href='data/ruskin/output/json/298666.json'>298666.json</a>"
      ],
      "text/plain": [
       "<IPython.core.display.HTML object>"
      ]
     },
     "metadata": {},
     "output_type": "display_data"
    },
    {
     "data": {
      "text/html": [
       "<a target='_new' href='data/ruskin/output/json/298373.json'>298373.json</a>"
      ],
      "text/plain": [
       "<IPython.core.display.HTML object>"
      ]
     },
     "metadata": {},
     "output_type": "display_data"
    },
    {
     "data": {
      "text/html": [
       "<a target='_new' href='data/ruskin/output/json/296290.json'>296290.json</a>"
      ],
      "text/plain": [
       "<IPython.core.display.HTML object>"
      ]
     },
     "metadata": {},
     "output_type": "display_data"
    },
    {
     "data": {
      "text/html": [
       "<a target='_new' href='data/ruskin/output/json/262443.json'>262443.json</a>"
      ],
      "text/plain": [
       "<IPython.core.display.HTML object>"
      ]
     },
     "metadata": {},
     "output_type": "display_data"
    },
    {
     "data": {
      "text/html": [
       "<a target='_new' href='data/ruskin/output/json/298758.json'>298758.json</a>"
      ],
      "text/plain": [
       "<IPython.core.display.HTML object>"
      ]
     },
     "metadata": {},
     "output_type": "display_data"
    },
    {
     "data": {
      "text/html": [
       "<a target='_new' href='data/ruskin/output/json/262414.json'>262414.json</a>"
      ],
      "text/plain": [
       "<IPython.core.display.HTML object>"
      ]
     },
     "metadata": {},
     "output_type": "display_data"
    },
    {
     "data": {
      "text/html": [
       "<a target='_new' href='data/ruskin/output/json/297454.json'>297454.json</a>"
      ],
      "text/plain": [
       "<IPython.core.display.HTML object>"
      ]
     },
     "metadata": {},
     "output_type": "display_data"
    },
    {
     "data": {
      "text/html": [
       "<a target='_new' href='data/ruskin/output/json/299485.json'>299485.json</a>"
      ],
      "text/plain": [
       "<IPython.core.display.HTML object>"
      ]
     },
     "metadata": {},
     "output_type": "display_data"
    },
    {
     "data": {
      "text/html": [
       "<a target='_new' href='data/ruskin/output/json/299186.json'>299186.json</a>"
      ],
      "text/plain": [
       "<IPython.core.display.HTML object>"
      ]
     },
     "metadata": {},
     "output_type": "display_data"
    },
    {
     "data": {
      "text/html": [
       "<a target='_new' href='data/ruskin/output/json/13032.json'>13032.json</a>"
      ],
      "text/plain": [
       "<IPython.core.display.HTML object>"
      ]
     },
     "metadata": {},
     "output_type": "display_data"
    },
    {
     "data": {
      "text/html": [
       "<a target='_new' href='data/ruskin/output/json/296967.json'>296967.json</a>"
      ],
      "text/plain": [
       "<IPython.core.display.HTML object>"
      ]
     },
     "metadata": {},
     "output_type": "display_data"
    },
    {
     "data": {
      "text/html": [
       "<a target='_new' href='data/ruskin/output/json/154494.json'>154494.json</a>"
      ],
      "text/plain": [
       "<IPython.core.display.HTML object>"
      ]
     },
     "metadata": {},
     "output_type": "display_data"
    },
    {
     "data": {
      "text/html": [
       "<a target='_new' href='data/ruskin/output/json/298749.json'>298749.json</a>"
      ],
      "text/plain": [
       "<IPython.core.display.HTML object>"
      ]
     },
     "metadata": {},
     "output_type": "display_data"
    },
    {
     "data": {
      "text/html": [
       "<a target='_new' href='data/ruskin/output/json/237625.json'>237625.json</a>"
      ],
      "text/plain": [
       "<IPython.core.display.HTML object>"
      ]
     },
     "metadata": {},
     "output_type": "display_data"
    },
    {
     "data": {
      "text/html": [
       "<a target='_new' href='data/ruskin/output/json/299119.json'>299119.json</a>"
      ],
      "text/plain": [
       "<IPython.core.display.HTML object>"
      ]
     },
     "metadata": {},
     "output_type": "display_data"
    },
    {
     "data": {
      "text/html": [
       "<a target='_new' href='data/ruskin/output/json/262444.json'>262444.json</a>"
      ],
      "text/plain": [
       "<IPython.core.display.HTML object>"
      ]
     },
     "metadata": {},
     "output_type": "display_data"
    },
    {
     "data": {
      "text/html": [
       "<a target='_new' href='data/ruskin/output/json/296901.json'>296901.json</a>"
      ],
      "text/plain": [
       "<IPython.core.display.HTML object>"
      ]
     },
     "metadata": {},
     "output_type": "display_data"
    },
    {
     "data": {
      "text/html": [
       "<a target='_new' href='data/ruskin/output/json/299103.json'>299103.json</a>"
      ],
      "text/plain": [
       "<IPython.core.display.HTML object>"
      ]
     },
     "metadata": {},
     "output_type": "display_data"
    },
    {
     "data": {
      "text/html": [
       "<a target='_new' href='data/ruskin/output/json/262409.json'>262409.json</a>"
      ],
      "text/plain": [
       "<IPython.core.display.HTML object>"
      ]
     },
     "metadata": {},
     "output_type": "display_data"
    },
    {
     "data": {
      "text/html": [
       "<a target='_new' href='data/ruskin/output/json/299181.json'>299181.json</a>"
      ],
      "text/plain": [
       "<IPython.core.display.HTML object>"
      ]
     },
     "metadata": {},
     "output_type": "display_data"
    },
    {
     "data": {
      "text/html": [
       "<a target='_new' href='data/ruskin/output/json/299178.json'>299178.json</a>"
      ],
      "text/plain": [
       "<IPython.core.display.HTML object>"
      ]
     },
     "metadata": {},
     "output_type": "display_data"
    },
    {
     "data": {
      "text/html": [
       "<a target='_new' href='data/ruskin/output/json/262999.json'>262999.json</a>"
      ],
      "text/plain": [
       "<IPython.core.display.HTML object>"
      ]
     },
     "metadata": {},
     "output_type": "display_data"
    },
    {
     "data": {
      "text/html": [
       "<a target='_new' href='data/ruskin/output/json/299179.json'>299179.json</a>"
      ],
      "text/plain": [
       "<IPython.core.display.HTML object>"
      ]
     },
     "metadata": {},
     "output_type": "display_data"
    },
    {
     "data": {
      "text/html": [
       "<a target='_new' href='data/ruskin/output/json/70367.json'>70367.json</a>"
      ],
      "text/plain": [
       "<IPython.core.display.HTML object>"
      ]
     },
     "metadata": {},
     "output_type": "display_data"
    },
    {
     "data": {
      "text/html": [
       "<a target='_new' href='data/ruskin/output/json/299092.json'>299092.json</a>"
      ],
      "text/plain": [
       "<IPython.core.display.HTML object>"
      ]
     },
     "metadata": {},
     "output_type": "display_data"
    },
    {
     "data": {
      "text/html": [
       "<a target='_new' href='data/ruskin/output/json/263018.json'>263018.json</a>"
      ],
      "text/plain": [
       "<IPython.core.display.HTML object>"
      ]
     },
     "metadata": {},
     "output_type": "display_data"
    },
    {
     "data": {
      "text/html": [
       "<a target='_new' href='data/ruskin/output/json/299704.json'>299704.json</a>"
      ],
      "text/plain": [
       "<IPython.core.display.HTML object>"
      ]
     },
     "metadata": {},
     "output_type": "display_data"
    },
    {
     "data": {
      "text/html": [
       "<a target='_new' href='data/ruskin/output/json/262432.json'>262432.json</a>"
      ],
      "text/plain": [
       "<IPython.core.display.HTML object>"
      ]
     },
     "metadata": {},
     "output_type": "display_data"
    },
    {
     "data": {
      "text/html": [
       "<a target='_new' href='data/ruskin/output/json/299180.json'>299180.json</a>"
      ],
      "text/plain": [
       "<IPython.core.display.HTML object>"
      ]
     },
     "metadata": {},
     "output_type": "display_data"
    },
    {
     "data": {
      "text/html": [
       "<a target='_new' href='data/ruskin/output/json/297464.json'>297464.json</a>"
      ],
      "text/plain": [
       "<IPython.core.display.HTML object>"
      ]
     },
     "metadata": {},
     "output_type": "display_data"
    },
    {
     "data": {
      "text/html": [
       "<a target='_new' href='data/ruskin/output/json/299114.json'>299114.json</a>"
      ],
      "text/plain": [
       "<IPython.core.display.HTML object>"
      ]
     },
     "metadata": {},
     "output_type": "display_data"
    },
    {
     "data": {
      "text/html": [
       "<a target='_new' href='data/ruskin/output/json/262408.json'>262408.json</a>"
      ],
      "text/plain": [
       "<IPython.core.display.HTML object>"
      ]
     },
     "metadata": {},
     "output_type": "display_data"
    },
    {
     "data": {
      "text/html": [
       "<a target='_new' href='data/ruskin/output/json/298601.json'>298601.json</a>"
      ],
      "text/plain": [
       "<IPython.core.display.HTML object>"
      ]
     },
     "metadata": {},
     "output_type": "display_data"
    },
    {
     "data": {
      "text/html": [
       "<a target='_new' href='data/ruskin/output/json/296900.json'>296900.json</a>"
      ],
      "text/plain": [
       "<IPython.core.display.HTML object>"
      ]
     },
     "metadata": {},
     "output_type": "display_data"
    },
    {
     "data": {
      "text/html": [
       "<a target='_new' href='data/ruskin/output/json/255472.json'>255472.json</a>"
      ],
      "text/plain": [
       "<IPython.core.display.HTML object>"
      ]
     },
     "metadata": {},
     "output_type": "display_data"
    },
    {
     "data": {
      "text/html": [
       "<a target='_new' href='data/ruskin/output/json/298363.json'>298363.json</a>"
      ],
      "text/plain": [
       "<IPython.core.display.HTML object>"
      ]
     },
     "metadata": {},
     "output_type": "display_data"
    },
    {
     "data": {
      "text/html": [
       "<a target='_new' href='data/ruskin/output/json/70238.json'>70238.json</a>"
      ],
      "text/plain": [
       "<IPython.core.display.HTML object>"
      ]
     },
     "metadata": {},
     "output_type": "display_data"
    },
    {
     "data": {
      "text/html": [
       "<a target='_new' href='data/ruskin/output/json/262445.json'>262445.json</a>"
      ],
      "text/plain": [
       "<IPython.core.display.HTML object>"
      ]
     },
     "metadata": {},
     "output_type": "display_data"
    },
    {
     "data": {
      "text/html": [
       "<a target='_new' href='data/ruskin/output/json/298498.json'>298498.json</a>"
      ],
      "text/plain": [
       "<IPython.core.display.HTML object>"
      ]
     },
     "metadata": {},
     "output_type": "display_data"
    },
    {
     "data": {
      "text/html": [
       "<a target='_new' href='data/ruskin/output/json/nl-RP-T-1987-19.json'>nl-RP-T-1987-19.json</a>"
      ],
      "text/plain": [
       "<IPython.core.display.HTML object>"
      ]
     },
     "metadata": {},
     "output_type": "display_data"
    },
    {
     "data": {
      "text/html": [
       "<a target='_new' href='data/ruskin/output/json/298820.json'>298820.json</a>"
      ],
      "text/plain": [
       "<IPython.core.display.HTML object>"
      ]
     },
     "metadata": {},
     "output_type": "display_data"
    },
    {
     "data": {
      "text/html": [
       "<a target='_new' href='data/ruskin/output/json/299176.json'>299176.json</a>"
      ],
      "text/plain": [
       "<IPython.core.display.HTML object>"
      ]
     },
     "metadata": {},
     "output_type": "display_data"
    },
    {
     "data": {
      "text/html": [
       "<a target='_new' href='data/ruskin/output/json/298767.json'>298767.json</a>"
      ],
      "text/plain": [
       "<IPython.core.display.HTML object>"
      ]
     },
     "metadata": {},
     "output_type": "display_data"
    },
    {
     "data": {
      "text/html": [
       "<a target='_new' href='data/ruskin/output/json/298819.json'>298819.json</a>"
      ],
      "text/plain": [
       "<IPython.core.display.HTML object>"
      ]
     },
     "metadata": {},
     "output_type": "display_data"
    },
    {
     "data": {
      "text/html": [
       "<a target='_new' href='data/ruskin/output/json/263017.json'>263017.json</a>"
      ],
      "text/plain": [
       "<IPython.core.display.HTML object>"
      ]
     },
     "metadata": {},
     "output_type": "display_data"
    },
    {
     "data": {
      "text/html": [
       "<a target='_new' href='data/ruskin/output/json/298634.json'>298634.json</a>"
      ],
      "text/plain": [
       "<IPython.core.display.HTML object>"
      ]
     },
     "metadata": {},
     "output_type": "display_data"
    },
    {
     "data": {
      "text/html": [
       "<a target='_new' href='data/ruskin/output/json/76140.json'>76140.json</a>"
      ],
      "text/plain": [
       "<IPython.core.display.HTML object>"
      ]
     },
     "metadata": {},
     "output_type": "display_data"
    },
    {
     "data": {
      "text/html": [
       "<a target='_new' href='data/ruskin/output/json/297164.json'>297164.json</a>"
      ],
      "text/plain": [
       "<IPython.core.display.HTML object>"
      ]
     },
     "metadata": {},
     "output_type": "display_data"
    },
    {
     "data": {
      "text/html": [
       "<a target='_new' href='data/ruskin/output/json/262489.json'>262489.json</a>"
      ],
      "text/plain": [
       "<IPython.core.display.HTML object>"
      ]
     },
     "metadata": {},
     "output_type": "display_data"
    },
    {
     "data": {
      "text/html": [
       "<a target='_new' href='data/ruskin/output/json/298815.json'>298815.json</a>"
      ],
      "text/plain": [
       "<IPython.core.display.HTML object>"
      ]
     },
     "metadata": {},
     "output_type": "display_data"
    },
    {
     "data": {
      "text/html": [
       "<a target='_new' href='data/ruskin/output/json/298751.json'>298751.json</a>"
      ],
      "text/plain": [
       "<IPython.core.display.HTML object>"
      ]
     },
     "metadata": {},
     "output_type": "display_data"
    },
    {
     "data": {
      "text/html": [
       "<a target='_new' href='data/ruskin/output/json/298814.json'>298814.json</a>"
      ],
      "text/plain": [
       "<IPython.core.display.HTML object>"
      ]
     },
     "metadata": {},
     "output_type": "display_data"
    },
    {
     "data": {
      "text/html": [
       "<a target='_new' href='data/ruskin/output/json/297450.json'>297450.json</a>"
      ],
      "text/plain": [
       "<IPython.core.display.HTML object>"
      ]
     },
     "metadata": {},
     "output_type": "display_data"
    },
    {
     "data": {
      "text/html": [
       "<a target='_new' href='data/ruskin/output/json/262410.json'>262410.json</a>"
      ],
      "text/plain": [
       "<IPython.core.display.HTML object>"
      ]
     },
     "metadata": {},
     "output_type": "display_data"
    },
    {
     "data": {
      "text/html": [
       "<a target='_new' href='data/ruskin/output/json/298635.json'>298635.json</a>"
      ],
      "text/plain": [
       "<IPython.core.display.HTML object>"
      ]
     },
     "metadata": {},
     "output_type": "display_data"
    },
    {
     "data": {
      "text/html": [
       "<a target='_new' href='data/ruskin/output/json/298674.json'>298674.json</a>"
      ],
      "text/plain": [
       "<IPython.core.display.HTML object>"
      ]
     },
     "metadata": {},
     "output_type": "display_data"
    },
    {
     "data": {
      "text/html": [
       "<a target='_new' href='data/ruskin/output/json/299177.json'>299177.json</a>"
      ],
      "text/plain": [
       "<IPython.core.display.HTML object>"
      ]
     },
     "metadata": {},
     "output_type": "display_data"
    },
    {
     "data": {
      "text/html": [
       "<a target='_new' href='data/ruskin/output/json/298766.json'>298766.json</a>"
      ],
      "text/plain": [
       "<IPython.core.display.HTML object>"
      ]
     },
     "metadata": {},
     "output_type": "display_data"
    },
    {
     "data": {
      "text/html": [
       "<a target='_new' href='data/ruskin/output/json/262979.json'>262979.json</a>"
      ],
      "text/plain": [
       "<IPython.core.display.HTML object>"
      ]
     },
     "metadata": {},
     "output_type": "display_data"
    },
    {
     "data": {
      "text/html": [
       "<a target='_new' href='data/ruskin/output/json/298628.json'>298628.json</a>"
      ],
      "text/plain": [
       "<IPython.core.display.HTML object>"
      ]
     },
     "metadata": {},
     "output_type": "display_data"
    },
    {
     "data": {
      "text/html": [
       "<a target='_new' href='data/ruskin/output/json/299039.json'>299039.json</a>"
      ],
      "text/plain": [
       "<IPython.core.display.HTML object>"
      ]
     },
     "metadata": {},
     "output_type": "display_data"
    },
    {
     "data": {
      "text/html": [
       "<a target='_new' href='data/ruskin/output/json/13031.json'>13031.json</a>"
      ],
      "text/plain": [
       "<IPython.core.display.HTML object>"
      ]
     },
     "metadata": {},
     "output_type": "display_data"
    },
    {
     "data": {
      "text/html": [
       "<a target='_new' href='data/ruskin/output/json/299185.json'>299185.json</a>"
      ],
      "text/plain": [
       "<IPython.core.display.HTML object>"
      ]
     },
     "metadata": {},
     "output_type": "display_data"
    },
    {
     "data": {
      "text/html": [
       "<a target='_new' href='data/ruskin/output/json/298598.json'>298598.json</a>"
      ],
      "text/plain": [
       "<IPython.core.display.HTML object>"
      ]
     },
     "metadata": {},
     "output_type": "display_data"
    },
    {
     "data": {
      "text/html": [
       "<a target='_new' href='data/ruskin/output/json/297456.json'>297456.json</a>"
      ],
      "text/plain": [
       "<IPython.core.display.HTML object>"
      ]
     },
     "metadata": {},
     "output_type": "display_data"
    },
    {
     "data": {
      "text/html": [
       "<a target='_new' href='data/ruskin/output/json/298633.json'>298633.json</a>"
      ],
      "text/plain": [
       "<IPython.core.display.HTML object>"
      ]
     },
     "metadata": {},
     "output_type": "display_data"
    },
    {
     "data": {
      "text/html": [
       "<a target='_new' href='data/ruskin/output/json/298605.json'>298605.json</a>"
      ],
      "text/plain": [
       "<IPython.core.display.HTML object>"
      ]
     },
     "metadata": {},
     "output_type": "display_data"
    },
    {
     "data": {
      "text/html": [
       "<a target='_new' href='data/ruskin/output/json/72870.json'>72870.json</a>"
      ],
      "text/plain": [
       "<IPython.core.display.HTML object>"
      ]
     },
     "metadata": {},
     "output_type": "display_data"
    },
    {
     "data": {
      "text/html": [
       "<a target='_new' href='data/ruskin/output/json/298668.json'>298668.json</a>"
      ],
      "text/plain": [
       "<IPython.core.display.HTML object>"
      ]
     },
     "metadata": {},
     "output_type": "display_data"
    },
    {
     "data": {
      "text/html": [
       "<a target='_new' href='data/ruskin/output/json/nl-RP-T-1957-335.json'>nl-RP-T-1957-335.json</a>"
      ],
      "text/plain": [
       "<IPython.core.display.HTML object>"
      ]
     },
     "metadata": {},
     "output_type": "display_data"
    }
   ],
   "source": [
    "fn(rijksvis)"
   ]
  },
  {
   "cell_type": "code",
   "execution_count": null,
   "id": "150aad72",
   "metadata": {},
   "outputs": [],
   "source": []
  }
 ],
 "metadata": {
  "kernelspec": {
   "display_name": "Python 3",
   "language": "python",
   "name": "python3"
  },
  "language_info": {
   "codemirror_mode": {
    "name": "ipython",
    "version": 3
   },
   "file_extension": ".py",
   "mimetype": "text/x-python",
   "name": "python",
   "nbconvert_exporter": "python",
   "pygments_lexer": "ipython3",
   "version": "3.8.8"
  }
 },
 "nbformat": 4,
 "nbformat_minor": 5
}
