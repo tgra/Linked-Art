{
 "cells": [
  {
   "cell_type": "markdown",
   "id": "302c49d7",
   "metadata": {},
   "source": [
    "# Linked Art - Visualise - John Ruskin - Story Map\n"
   ]
  },
  {
   "cell_type": "code",
   "execution_count": 5,
   "id": "ecf17010",
   "metadata": {},
   "outputs": [],
   "source": [
    "try:\n",
    "    import os\n",
    "except:\n",
    "    !pip install os\n",
    "    import os\n",
    "    \n",
    "try:\n",
    "    import json\n",
    "except:\n",
    "    !pip install json\n",
    "    import json"
   ]
  },
  {
   "cell_type": "code",
   "execution_count": 6,
   "id": "e3e5a995",
   "metadata": {},
   "outputs": [],
   "source": [
    "storymap = {\n",
    "    \"storymap\": {\n",
    "    \"zoomify\": False,\n",
    "    \"attribution\": \"Tanya Gray\",\n",
    "    \"call_to_action\": False,\n",
    "    \"call_to_action_text\": \"\",\n",
    "    \"map_as_image\": False,\n",
    "    \"map_subdomains\": \"\",\n",
    "    \"map_type\": \"osm:standard\",\n",
    "    \"slides\": [\n",
    "            {\n",
    "            \"date\": \"\",\n",
    "            \"location\": {\n",
    "            },\n",
    "            \"media\": {\n",
    "                \"caption\": \"\",\n",
    "                \"credit\": \"Wikipedia\",\n",
    "                \"url\": \"https://en.wikipedia.org/wiki/John_Ruskin\"\n",
    "                    },\n",
    "            \"text\": {\n",
    "                \"headline\": \"John Ruskin's Travels in Europe\",\n",
    "                \"text\": \"\"\n",
    "                    },\n",
    "            \"type\": \"overview\"\n",
    "            }]\n",
    "    }\n",
    "  \n",
    "    }"
   ]
  },
  {
   "cell_type": "code",
   "execution_count": 7,
   "id": "9e2b87f0",
   "metadata": {},
   "outputs": [],
   "source": [
    "storymap_file =\"data/ruskin/storyvis/storymap.json\"\n",
    "storyvisdir=\"data/ruskin/storyvis/json\"\n",
    "\n",
    "file_list=os.listdir(storyvisdir)\n",
    "\n",
    "sources = {}\n",
    "sources[\"https://www.nga.gov/collection/\"] = {\"name\":\"National Gallery of Art\",\"colour\": \"#E8A798\"}\n",
    "sources[\"https://clevelandart.org/art/\"] = {\"name\":\"Cleveland Museum of Art\", \"colour\":\"#EDD59E\"}\n",
    "sources[\"https://www.philamuseum.org/collection/object/\"] = {\"name\":\"Philadelphia Museum of Art\",\"colour\":\"#6B5876\"}\n",
    "sources[\"https://www.tate.org.uk/art/artworks/\"] = {\"name\":\"Tate Museum\",\"colour\":\"#A09998\"}\n",
    "sources[\"https://www.harvardartmuseums.org/collections/object/\"] = {\"name\":\"Harvard Art Museum\",\"colour\":\"#00758F\"}\n",
    "sources[\"ashmolean\"] = {\"name\":\"Ashmolean Museum\",\"colour\":\"#3f83e8\"}\n",
    "sources[\"rijk\"] = {\"name\":\"Rijksmuseum\",\"colour\":\"#94b7c3\"}\n",
    "\n",
    "for file in file_list:\n",
    "    with open( storyvisdir + \"/\" + file) as json_file:\n",
    "        artwork = json.load(json_file)\n",
    "        if \"produced_by\" not in artwork:\n",
    "            continue\n",
    "        if \"begin_of_the_begin\" not in artwork[\"produced_by\"][\"timespan\"]:\n",
    "            continue\n",
    "        if artwork[\"produced_by\"][\"timespan\"][\"begin_of_the_begin\"] in  (1819,\"\"):\n",
    "            continue\n",
    "    \n",
    "        id = artwork[\"id\"]\n",
    "        credit = \"\"\n",
    "        text = \"\"\n",
    "        imageurl = \"\"\n",
    "        bgcolour = \"\"\n",
    "        homepage = \"\"\n",
    "        \n",
    "        for source in list(sources.keys()):\n",
    "            if source in id:\n",
    "                credit = sources[source][\"name\"]\n",
    "                bgcolour = sources[source][\"colour\"]\n",
    "            \n",
    "        if \"referred_to_by\" in artwork and len(artwork[\"referred_to_by\"]) > 0 and \"content\" in artwork[\"referred_to_by\"][0]:  \n",
    "            text = artwork[\"referred_to_by\"][0][\"content\"]\n",
    "      \n",
    "    \n",
    "        if artwork[\"subject_of\"][0][\"classified_as\"][1][\"id\"] == \"http://vocab.getty.edu/aat/300266277\":\n",
    "            homepage = artwork[\"subject_of\"][0][\"id\"]\n",
    "            text = text + \"<br/><br/><a target='_new' href='\" + homepage+ \"'>Artwork homepage</a>\"\n",
    "    \n",
    "        if \"representation\" in artwork:\n",
    "            if artwork[\"representation\"][0][\"id\"] != \"\":\n",
    "                imageurl = artwork[\"representation\"][0][\"id\"]\n",
    "                if \"Harvard\" in credit:\n",
    "                    imageurl = imageurl + \"?width=500&height=800\"\n",
    " \n",
    "        \n",
    "        if \"begin_of_the_begin\" in artwork[\"produced_by\"][\"timespan\"]:\n",
    "            begin = artwork[\"produced_by\"][\"timespan\"][\"begin_of_the_begin\"]\n",
    "        try:\n",
    "            begin = int(begin)\n",
    "        except:\n",
    "            begin = \"\"\n",
    "    \n",
    "        if \"end_of_the_end\" in artwork[\"produced_by\"][\"timespan\"]:\n",
    "            end = artwork[\"produced_by\"][\"timespan\"][\"end_of_the_end\"]\n",
    "        try:\n",
    "            end = int(end)\n",
    "        except:\n",
    "            end = \"\"\n",
    "            \n",
    "        if abs(int(begin)-int(end)) > 10:\n",
    "            continue\n",
    "            \n",
    "        coords = artwork[\"shows\"][\"represents\"][0][\"approximated_by\"][0][\"defined_by\"]\n",
    "        coords = coords.replace(\"POINT(\", \"\")\n",
    "        coords = coords.replace(\")\",\"\")\n",
    "        coords = coords.split()\n",
    "        \n",
    "            \n",
    "        storymap[\"storymap\"][\"slides\"].append(\n",
    "            {\n",
    "            \"background\": {\n",
    "                \"color\": bgcolour,\n",
    "                \"opacity\": 100\n",
    "                    },\n",
    "            \"date\": str(begin),\n",
    "            \n",
    "            \"location\": {\n",
    "                \"lat\": float(coords[0]),\n",
    "                \n",
    "                \"lon\": float(coords[1]),\n",
    "                \"zoom\": 4\n",
    "                },\n",
    "            \"media\": {\n",
    "                \"caption\": artwork[\"produced_by\"][\"timespan\"][\"_label\"],\n",
    "                \"credit\": credit,\n",
    "                \"url\": imageurl \n",
    "                },\n",
    "            \"text\": {\n",
    "                \"headline\": artwork[\"_label\"],\n",
    "                \"text\": text\n",
    "                }\n",
    "            })\n",
    "        \n",
    "        storymap[\"storymap\"][\"slides\"].sort(key=lambda x: x[\"date\"])\n",
    "          \n",
    "text_file = open(storymap_file, 'wt')  \n",
    "n = text_file.write(json.dumps(storymap,indent=2))\n",
    "text_file.close()\n",
    "        \n",
    "        \n",
    "        "
   ]
  },
  {
   "cell_type": "markdown",
   "id": "6a4478e0",
   "metadata": {},
   "source": [
    "## Story Map Data Visualisation - John Ruskin's Travels in Europe"
   ]
  },
  {
   "cell_type": "markdown",
   "id": "8c5649e8",
   "metadata": {},
   "source": [
    "### Visualisation Screenshots\n",
    "\n",
    "<img src=\"docs/media/img/storymap.png\"/>\n",
    "\n",
    "<img src=\"docs/media/img/storymap2.png\"/>"
   ]
  },
  {
   "cell_type": "markdown",
   "id": "e9e1abc0",
   "metadata": {},
   "source": [
    "### Make Story Map Visualisation"
   ]
  },
  {
   "cell_type": "code",
   "execution_count": 17,
   "id": "bd11e13a",
   "metadata": {},
   "outputs": [
    {
     "data": {
      "text/html": [
       "<div id=\"mapdiv\" style=\"width: 1000px; height: 800px;background-color:silver\"></div>\n",
       "\n",
       "<link rel=\"stylesheet\" href=\"https://cdn.knightlab.com/libs/storymapjs/latest/css/storymap.css\">\n",
       "<script type=\"text/javascript\" src=\"https://cdn.knightlab.com/libs/storymapjs/latest/js/storymap-min.js\"></script>\n",
       "\n",
       "<script>\n",
       "// storymap_data can be an URL or a Javascript object\n",
       "var storymap_data = './data/ruskin/storyvis/storymap.json';\n",
       "\n",
       "// certain settings must be passed within a separate options object\n",
       "var storymap_options = {};\n",
       "\n",
       "var storymap = new KLStoryMap.StoryMap('mapdiv', storymap_data, storymap_options);\n",
       "\n",
       "</script>\n"
      ],
      "text/plain": [
       "<IPython.core.display.HTML object>"
      ]
     },
     "metadata": {},
     "output_type": "display_data"
    }
   ],
   "source": [
    "%%HTML\n",
    "<div id=\"mapdiv\" style=\"width: 1000px; height: 800px;background-color:silver\"></div>\n",
    "\n",
    "<link rel=\"stylesheet\" href=\"https://cdn.knightlab.com/libs/storymapjs/latest/css/storymap.css\">\n",
    "<script type=\"text/javascript\" src=\"https://cdn.knightlab.com/libs/storymapjs/latest/js/storymap-min.js\"></script>\n",
    "\n",
    "<script>\n",
    "// storymap_data can be an URL or a Javascript object\n",
    "var storymap_data = './data/ruskin/storyvis/storymap.json';\n",
    "\n",
    "// certain settings must be passed within a separate options object\n",
    "var storymap_options = {};\n",
    "\n",
    "var storymap = new KLStoryMap.StoryMap('mapdiv', storymap_data, storymap_options);\n",
    "\n",
    "</script>"
   ]
  },
  {
   "cell_type": "code",
   "execution_count": 20,
   "id": "723e0cab",
   "metadata": {},
   "outputs": [
    {
     "data": {
      "text/html": [
       "\n",
       "        <iframe\n",
       "            width=\"100%\"\n",
       "            height=\"800\"\n",
       "            src=\"https://uploads.knightlab.com/storymapjs/5f6b08e616fe02c0b5d7f0682cca1a69/john-ruskin-in-europe/index.html\"\n",
       "            frameborder=\"0\"\n",
       "            allowfullscreen\n",
       "            \n",
       "        ></iframe>\n",
       "        "
      ],
      "text/plain": [
       "<IPython.lib.display.IFrame at 0x110a8e6a0>"
      ]
     },
     "metadata": {},
     "output_type": "display_data"
    }
   ],
   "source": [
    "vis=\"https://uploads.knightlab.com/storymapjs/5f6b08e616fe02c0b5d7f0682cca1a69/john-ruskin-in-europe/index.html\"\n",
    "\n",
    "display(IFrame(vis, width='100%', height=800))"
   ]
  },
  {
   "cell_type": "code",
   "execution_count": null,
   "id": "838b81b8",
   "metadata": {},
   "outputs": [],
   "source": []
  }
 ],
 "metadata": {
  "kernelspec": {
   "display_name": "Python 3",
   "language": "python",
   "name": "python3"
  },
  "language_info": {
   "codemirror_mode": {
    "name": "ipython",
    "version": 3
   },
   "file_extension": ".py",
   "mimetype": "text/x-python",
   "name": "python",
   "nbconvert_exporter": "python",
   "pygments_lexer": "ipython3",
   "version": "3.8.8"
  }
 },
 "nbformat": 4,
 "nbformat_minor": 5
}
