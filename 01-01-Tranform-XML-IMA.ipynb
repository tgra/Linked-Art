{
 "cells": [
  {
   "cell_type": "markdown",
   "id": "c4b4ad69",
   "metadata": {},
   "source": [
    "#  Collections Data to Linked Art - Indianapolis Museum of Art"
   ]
  },
  {
   "cell_type": "markdown",
   "id": "8ecd08d3",
   "metadata": {},
   "source": [
    "## Input Data\n",
    "The [Indianapolis Museum of Art (IMA)]((https://discovernewfields.org/)) has transformed a sample of its collections data to Linked Art JSON-LD:\n",
    "- available at https://github.com/IMAmuseum/LinkedArt \n",
    "- sourced from EMu in XML format (EMu source: Catalogue, Rights, Narratives, and Locations modules)\n",
    "- [XML files](https://github.com/IMAmuseum/LinkedArt/blob/master/XML)\n",
    " - [ObjectsSample XML file](https://github.com/IMAmuseum/LinkedArt/blob/master/XML/ObjectsSample.xml) [raw file](https://raw.githubusercontent.com/IMAmuseum/LinkedArt/master/XML/ObjectsSample.xml)\n",
    "\n",
    "<div class='alert alert-block alert-info'>An XML file is used as data input for the notebook, and as a miminum the ObjectsSample XML file should be downloaded.</div>\n",
    "\n",
    "## Attribution\n",
    "\n",
    "- The notebook's coded transformations are based on the IMA's [XSLT file](https://github.com/IMAmuseum/LinkedArt).\n",
    "- The Linked Art data model documentation has been sourced from the [Linked Art website](https://linked.art)\n",
    "- The IMA data has been sourced from the [IMA GitHub repository](https://github.com/IMAmuseum/LinkedArt)"
   ]
  },
  {
   "cell_type": "markdown",
   "id": "d6c76f07",
   "metadata": {},
   "source": [
    "## Transformation Steps\n",
    "\n",
    "### 1. Import What We Need for Notebook and Define Variable\n",
    "- Import Python libraries\n",
    " - ipywidget\n",
    " - IPython\n",
    " - xmltodict\n",
    " - json\n",
    " - requests\n",
    " - cromulent"
   ]
  },
  {
   "cell_type": "code",
   "execution_count": 76,
   "id": "40d0ee99",
   "metadata": {},
   "outputs": [],
   "source": [
    "python_libraries = (\"ipywidgets\", \"IPython\", \"xmltodict\", \"json\",\"requests\",\"cromulent\")\n",
    "\n",
    "for lib in python_libraries:\n",
    "    try:\n",
    "        import lib\n",
    "    except:\n",
    "        !pip install lib\n",
    "        import lib\n",
    "\n",
    "from ipywidgets import Layout, FileUpload \n",
    "from IPython.display import display, IFrame, HTML\n",
    "\n",
    "from cromulent.model import factory, Actor, Production, BeginningOfExistence, EndOfExistence, TimeSpan, Place\n",
    "from cromulent.model import InformationObject, Phase, VisualItem \n",
    "from cromulent.vocab import Painting, Drawing,Miniature,add_art_setter, PrimaryName, Name, CollectionSet, instances, Sculpture \n",
    "from cromulent.vocab import aat_culture_mapping, AccessionNumber, Height, Width, SupportPart, Gallery, MuseumPlace \n",
    "from cromulent.vocab import BottomPart, Description, RightsStatement, MuseumOrg, Purchase\n",
    "from cromulent.vocab import Furniture, Mosaic, Photograph, Coin, Vessel, Graphic, Enamel, Embroidery, PhotographPrint\n",
    "from cromulent.vocab import PhotographAlbum, PhotographBook, PhotographColor, PhotographBW, Negative, Map, Clothing, Furniture\n",
    "from cromulent.vocab import Sample, Architecture, Armor, Book, DecArts, Implement, Jewelry, Manuscript, SiteInstallation, Text, Print\n",
    "from cromulent.vocab import TimeBasedMedia, Page, Folio, Folder, Box, Envelope, Binder, Case, FlatfileCabinet\n",
    "from cromulent.vocab import HumanMadeObject,Tapestry\n"
   ]
  },
  {
   "cell_type": "code",
   "execution_count": 73,
   "id": "68e99022",
   "metadata": {},
   "outputs": [],
   "source": [
    "\n",
    "\n",
    "objTypes = {\n",
    "\"Painting\": Painting(),\n",
    "\"Sculpture\": Sculpture(),\n",
    "\"Drawing\": Drawing(),\n",
    "\"Miniature\": Miniature(),\n",
    "\"Tapestry\": Tapestry(),\n",
    "\"Furniture\": Furniture(),\n",
    "\"Furnishings\": DecArts(),\n",
    "\"Mosaic\": Mosaic(),\n",
    "\"Photograph\": Photograph(),\n",
    "\"Coin\": Coin(),\n",
    "\"Vessel\": Vessel(),\n",
    "\"Graphic\": Graphic(),\n",
    "\"Enamel\": Enamel(),\n",
    "\"Embroidery\": Embroidery(),\n",
    "\"PhotographPrint\": PhotographPrint(),\n",
    "\"PhotographAlbum\": PhotographAlbum(),\n",
    "\"PhotographBook\": PhotographBook(),\n",
    "\"PhotographColor\": PhotographColor(),\n",
    "\"PhotographBW\": PhotographBW(),\n",
    "\"Negative\": Negative(),\n",
    "\"Map\": Map(),\n",
    "\"Clothing\": Clothing(),\n",
    "\"Sample\": Sample(),\n",
    "\"Architecture\": Architecture(),\n",
    "\"Armor\": Armor(),\n",
    "\"Book\": Book(),\n",
    "\"DecArts\": DecArts(),\n",
    "\"Implement\": Implement(),\n",
    "\"Jewelry\": Jewelry(),\n",
    "\"Manuscript\": Manuscript(),\n",
    "\"SiteInstallation\": SiteInstallation(),\n",
    "\"Text\": Text(),\n",
    "\"Print\": Print(),\n",
    "\"TimeBasedMedia\": TimeBasedMedia(),\n",
    "\"Page\": Page(),\n",
    "\"Folio\": Folio(),\n",
    "\"Folder\": Folder(),\n",
    "\"Box\": Box(),\n",
    "\"Envelope\": Envelope(),\n",
    "\"Binder\": Binder(),\n",
    "\"Case\": Case(),\n",
    "\"FlatfileCabinet\": FlatfileCabinet()\n",
    "}\n",
    "\n"
   ]
  },
  {
   "cell_type": "markdown",
   "id": "ee8478c1",
   "metadata": {},
   "source": [
    "### 2. Upload XML File\n",
    "- Choose a file on your local system to upload and transform to Linked Art\n",
    "- The IMA files are available to download from: https://github.com/IMAmuseum/LinkedArt/tree/master/XML\n",
    "- Select a file by clicking on the \"Select XML file\" button"
   ]
  },
  {
   "cell_type": "code",
   "execution_count": 74,
   "id": "befa33d0",
   "metadata": {},
   "outputs": [],
   "source": [
    "upload = FileUpload(accept='.xml', multiple=False, description='Select XML file')"
   ]
  },
  {
   "cell_type": "code",
   "execution_count": 75,
   "id": "2d7add0d",
   "metadata": {},
   "outputs": [
    {
     "data": {
      "text/html": [
       "<div class='alert alert-block alert-info'>Please select a file to transform</div>"
      ],
      "text/plain": [
       "<IPython.core.display.HTML object>"
      ]
     },
     "metadata": {},
     "output_type": "display_data"
    },
    {
     "data": {
      "application/vnd.jupyter.widget-view+json": {
       "model_id": "868a15d8678b409aa160566b47dd3fa3",
       "version_major": 2,
       "version_minor": 0
      },
      "text/plain": [
       "FileUpload(value={}, accept='.xml', description='Select XML file')"
      ]
     },
     "metadata": {},
     "output_type": "display_data"
    }
   ],
   "source": [
    "display(HTML(\"<div class='alert alert-block alert-info'>Please select a file to transform</div>\"))\n",
    "display(upload)"
   ]
  },
  {
   "cell_type": "code",
   "execution_count": 60,
   "id": "f21fb4a0",
   "metadata": {},
   "outputs": [
    {
     "data": {
      "text/html": [
       "<div class='alert alert-block alert-success'>File uploaded</div>"
      ],
      "text/plain": [
       "<IPython.core.display.HTML object>"
      ]
     },
     "metadata": {},
     "output_type": "display_data"
    }
   ],
   "source": [
    "obj = False\n",
    "# get content from uploaded file \n",
    "for uploaded_filename in upload.value:\n",
    "    content = upload.value[uploaded_filename]['content']\n",
    "    obj = xmltodict.parse(content) \n",
    "    \n",
    "if obj == False:\n",
    "    display(HTML(\"<div class='alert alert-block alert-danger'>Please select a file to transform</div>\"))\n",
    "else:\n",
    "    display(HTML(\"<div class='alert alert-block alert-success'>File uploaded</div>\"))"
   ]
  },
  {
   "cell_type": "markdown",
   "id": "cbe11373",
   "metadata": {},
   "source": [
    "### 3. Select Catalogue Item to Transform\n",
    "The next step will transform the contents of the uploaded XML file into a dropdown list of artworks."
   ]
  },
  {
   "cell_type": "code",
   "execution_count": 61,
   "id": "b79a192e",
   "metadata": {},
   "outputs": [],
   "source": [
    "allObjects = obj[\"table\"][\"tuple\"]\n",
    "\n",
    "#object dropdown options\n",
    "objOptions = []\n",
    "objOptions.append((\"Please select an object\",''))\n",
    "\n",
    "for obj in allObjects:\n",
    "    title = irn = \"\"\n",
    "    # define properties variables  \n",
    "    for prop in obj[\"atom\"]:      \n",
    "        propName = prop[\"@name\"]     \n",
    "        if \"#text\" in prop:\n",
    "            if propName == \"irn\":\n",
    "                irn = prop[\"#text\"]  \n",
    "            if propName == \"TitMainTitle\":\n",
    "                title = prop[\"#text\"]\n",
    "            \n",
    "    objOptions.append((irn + ' : ' + title,irn))\n",
    "    \n",
    "selectObject = widgets.Dropdown(options=objOptions, description='Select Object')"
   ]
  },
  {
   "cell_type": "code",
   "execution_count": 63,
   "id": "14958075",
   "metadata": {},
   "outputs": [
    {
     "data": {
      "text/html": [
       "<div class='alert alert-block alert-info'>Select an artwork from the dropdown list to transform the catalogue data to Linked Art JSON-LD</div>"
      ],
      "text/plain": [
       "<IPython.core.display.HTML object>"
      ]
     },
     "metadata": {},
     "output_type": "display_data"
    },
    {
     "data": {
      "application/vnd.jupyter.widget-view+json": {
       "model_id": "3d09efe72d244099bcc56ae4e7c2bf87",
       "version_major": 2,
       "version_minor": 0
      },
      "text/plain": [
       "Dropdown(description='Select Object', index=2, options=(('Please select an object', ''), ('1032 : long-neck va…"
      ]
     },
     "metadata": {},
     "output_type": "display_data"
    }
   ],
   "source": [
    "display(HTML(\"<div class='alert alert-block alert-info'>Select an artwork from the dropdown list to transform the catalogue data to Linked Art JSON-LD</div>\"))\n",
    "\n",
    "display(selectObject)"
   ]
  },
  {
   "cell_type": "code",
   "execution_count": 64,
   "id": "19f4d972",
   "metadata": {},
   "outputs": [
    {
     "data": {
      "text/html": [
       "<div class='alert alert-block alert-success'>Artwork selected:1065 : The Bachelor Boudoir (Corner of the Studio)</div"
      ],
      "text/plain": [
       "<IPython.core.display.HTML object>"
      ]
     },
     "metadata": {},
     "output_type": "display_data"
    }
   ],
   "source": [
    "selectedIRN = selectObject.value\n",
    "\n",
    "if selectedIRN == \"\":\n",
    "    display(HTML(\"<div class='alert alert-block alert-danger'>Please select an artwork to transform</div>\"))\n",
    "else:\n",
    "    display(HTML(\"<div class='alert alert-block alert-success'>Artwork selected:\" + selectObject.options[selectObject.index][0] + \"</div\"))  \n"
   ]
  },
  {
   "cell_type": "markdown",
   "id": "bc5ed72f",
   "metadata": {},
   "source": [
    "### Artwork as Python dictionary\n",
    "The following Python dictionary is for the selected artwork, and will be used to transform the collection data for the artwork to JSON-LD:"
   ]
  },
  {
   "cell_type": "code",
   "execution_count": 65,
   "id": "36e737f3",
   "metadata": {},
   "outputs": [
    {
     "name": "stdout",
     "output_type": "stream",
     "text": [
      "{\n",
      "  \"atom\": [\n",
      "    {\n",
      "      \"@name\": \"irn\",\n",
      "      \"@type\": \"text\",\n",
      "      \"@size\": \"short\",\n",
      "      \"#text\": \"1065\"\n",
      "    },\n",
      "    {\n",
      "      \"@name\": \"AdmPublishWebNoPassword\",\n",
      "      \"@type\": \"text\",\n",
      "      \"@size\": \"short\",\n",
      "      \"#text\": \"Yes\"\n",
      "    },\n",
      "    {\n",
      "      \"@name\": \"TitAccessionNo\",\n",
      "      \"@type\": \"text\",\n",
      "      \"@size\": \"short\",\n",
      "      \"#text\": \"14.55\"\n",
      "    },\n",
      "    {\n",
      "      \"@name\": \"TitPreviousAccessionNo\",\n",
      "      \"@type\": \"text\",\n",
      "      \"@size\": \"short\",\n",
      "      \"#text\": \"No TR Number\"\n",
      "    },\n",
      "    {\n",
      "      \"@name\": \"TitObjectStatus\",\n",
      "      \"@type\": \"text\",\n",
      "      \"@size\": \"short\",\n",
      "      \"#text\": \"Accessioned\"\n",
      "    },\n",
      "    {\n",
      "      \"@name\": \"TitAccessionDate\",\n",
      "      \"@type\": \"text\",\n",
      "      \"@size\": \"short\",\n",
      "      \"#text\": \"1914-02-19\"\n",
      "    },\n",
      "    {\n",
      "      \"@name\": \"TitMainTitle\",\n",
      "      \"@type\": \"text\",\n",
      "      \"@size\": \"short\",\n",
      "      \"#text\": \"The Bachelor Boudoir (Corner of the Studio)\"\n",
      "    },\n",
      "    {\n",
      "      \"@name\": \"TitSeriesTitle\",\n",
      "      \"@type\": \"text\",\n",
      "      \"@size\": \"short\"\n",
      "    },\n",
      "    {\n",
      "      \"@name\": \"TitCollectionTitle\",\n",
      "      \"@type\": \"text\",\n",
      "      \"@size\": \"short\"\n",
      "    },\n",
      "    {\n",
      "      \"@name\": \"TitTitleNotes\",\n",
      "      \"@type\": \"text\",\n",
      "      \"@size\": \"short\"\n",
      "    },\n",
      "    {\n",
      "      \"@name\": \"TitObjectType\",\n",
      "      \"@type\": \"text\",\n",
      "      \"@size\": \"short\",\n",
      "      \"#text\": \"Visual Works: Paintings\"\n",
      "    },\n",
      "    {\n",
      "      \"@name\": \"CreDateCreated\",\n",
      "      \"@type\": \"text\",\n",
      "      \"@size\": \"short\",\n",
      "      \"#text\": \"about 1883\"\n",
      "    },\n",
      "    {\n",
      "      \"@name\": \"CreEarliestDate\",\n",
      "      \"@type\": \"text\",\n",
      "      \"@size\": \"short\",\n",
      "      \"#text\": \"1882\"\n",
      "    },\n",
      "    {\n",
      "      \"@name\": \"CreLatestDate\",\n",
      "      \"@type\": \"text\",\n",
      "      \"@size\": \"short\",\n",
      "      \"#text\": \"1883\"\n",
      "    },\n",
      "    {\n",
      "      \"@name\": \"CreCreationPeriod\",\n",
      "      \"@type\": \"text\",\n",
      "      \"@size\": \"short\"\n",
      "    },\n",
      "    {\n",
      "      \"@name\": \"CreCreationDynasty\",\n",
      "      \"@type\": \"text\",\n",
      "      \"@size\": \"short\"\n",
      "    },\n",
      "    {\n",
      "      \"@name\": \"CrePrimaryInscriptions\",\n",
      "      \"@type\": \"text\",\n",
      "      \"@size\": \"short\",\n",
      "      \"#text\": \"Signed, l.r.: C FISCUS\"\n",
      "    },\n",
      "    {\n",
      "      \"@name\": \"CreCreationNotes\",\n",
      "      \"@type\": \"text\",\n",
      "      \"@size\": \"short\",\n",
      "      \"#text\": \"Keep \\\"Latest\\\" date as 1883, the year the painting was exhibited at the National Academy of Design.\"\n",
      "    },\n",
      "    {\n",
      "      \"@name\": \"EdiPublisherDate\",\n",
      "      \"@type\": \"text\",\n",
      "      \"@size\": \"short\"\n",
      "    },\n",
      "    {\n",
      "      \"@name\": \"PhyMediumAndSupport\",\n",
      "      \"@type\": \"text\",\n",
      "      \"@size\": \"short\",\n",
      "      \"#text\": \"oil on canvas\"\n",
      "    },\n",
      "    {\n",
      "      \"@name\": \"PhyStyle\",\n",
      "      \"@type\": \"text\",\n",
      "      \"@size\": \"short\"\n",
      "    },\n",
      "    {\n",
      "      \"@name\": \"PhyTechnique\",\n",
      "      \"@type\": \"text\",\n",
      "      \"@size\": \"short\",\n",
      "      \"#text\": \"painting\"\n",
      "    },\n",
      "    {\n",
      "      \"@name\": \"EdiImpression\",\n",
      "      \"@type\": \"text\",\n",
      "      \"@size\": \"short\"\n",
      "    },\n",
      "    {\n",
      "      \"@name\": \"PhyDescription\",\n",
      "      \"@type\": \"text\",\n",
      "      \"@size\": \"short\"\n",
      "    },\n",
      "    {\n",
      "      \"@name\": \"PhyConvertedDims\",\n",
      "      \"@type\": \"text\",\n",
      "      \"@size\": \"short\",\n",
      "      \"#text\": \"27-1/4 x 16-1/4 in. (canvas)\\n34-3/4 x 24-3/4 x 4 in. (framed)\"\n",
      "    },\n",
      "    {\n",
      "      \"@name\": \"SumCreditLine\",\n",
      "      \"@type\": \"text\",\n",
      "      \"@size\": \"short\",\n",
      "      \"#text\": \"Gift of the Artist's mother, Mrs. E.J. Fiscus\"\n",
      "    },\n",
      "    {\n",
      "      \"@name\": \"CreProvenance\",\n",
      "      \"@type\": \"text\",\n",
      "      \"@size\": \"short\"\n",
      "    },\n",
      "    {\n",
      "      \"@name\": \"PhyCollectionArea\",\n",
      "      \"@type\": \"text\",\n",
      "      \"@size\": \"short\",\n",
      "      \"#text\": \"901.2-American Painting and Sculpture 1800-1945\"\n",
      "    },\n",
      "    {\n",
      "      \"@name\": \"LocMovementType\",\n",
      "      \"@type\": \"text\",\n",
      "      \"@size\": \"short\",\n",
      "      \"#text\": \"Other Location\"\n",
      "    },\n",
      "    {\n",
      "      \"@name\": \"AssIsParent\",\n",
      "      \"@type\": \"text\",\n",
      "      \"@size\": \"short\",\n",
      "      \"#text\": \"No\"\n",
      "    },\n",
      "    {\n",
      "      \"@name\": \"AdmPublishWebNoPassword\",\n",
      "      \"@type\": \"text\",\n",
      "      \"@size\": \"short\",\n",
      "      \"#text\": \"Yes\"\n",
      "    }\n",
      "  ],\n",
      "  \"table\": [\n",
      "    {\n",
      "      \"@name\": \"ObjectTypes\",\n",
      "      \"tuple\": [\n",
      "        {\n",
      "          \"atom\": {\n",
      "            \"@name\": \"PhyMediaCategory\",\n",
      "            \"@type\": \"text\",\n",
      "            \"@size\": \"short\",\n",
      "            \"#text\": \"paintings\"\n",
      "          }\n",
      "        },\n",
      "        {\n",
      "          \"atom\": {\n",
      "            \"@name\": \"PhyMediaCategory\",\n",
      "            \"@type\": \"text\",\n",
      "            \"@size\": \"short\",\n",
      "            \"#text\": \"oil paintings\"\n",
      "          }\n",
      "        }\n",
      "      ]\n",
      "    },\n",
      "    {\n",
      "      \"@name\": \"Creator1\",\n",
      "      \"tuple\": {\n",
      "        \"atom\": [\n",
      "          {\n",
      "            \"@name\": \"CreRole\",\n",
      "            \"@type\": \"text\",\n",
      "            \"@size\": \"short\",\n",
      "            \"#text\": \"Artist\"\n",
      "          },\n",
      "          {\n",
      "            \"@name\": \"irn\",\n",
      "            \"@type\": \"text\",\n",
      "            \"@size\": \"short\",\n",
      "            \"#text\": \"733\"\n",
      "          },\n",
      "          {\n",
      "            \"@name\": \"SummaryData\",\n",
      "            \"@type\": \"text\",\n",
      "            \"@size\": \"short\",\n",
      "            \"#text\": \"Fiscus, Charles J.\"\n",
      "          }\n",
      "        ]\n",
      "      }\n",
      "    },\n",
      "    {\n",
      "      \"@name\": \"CreLocation\",\n",
      "      \"tuple\": {\n",
      "        \"atom\": {\n",
      "          \"@name\": \"CreCountry\",\n",
      "          \"@type\": \"text\",\n",
      "          \"@size\": \"short\",\n",
      "          \"#text\": \"United States\"\n",
      "        }\n",
      "      }\n",
      "    },\n",
      "    {\n",
      "      \"@name\": \"MarkType\",\n",
      "      \"tuple\": {\n",
      "        \"atom\": {\n",
      "          \"@name\": \"CreMarkType\",\n",
      "          \"@type\": \"text\",\n",
      "          \"@size\": \"short\",\n",
      "          \"#text\": \"Signature\"\n",
      "        }\n",
      "      }\n",
      "    },\n",
      "    {\n",
      "      \"@name\": \"Medium\",\n",
      "      \"tuple\": {\n",
      "        \"atom\": {\n",
      "          \"@name\": \"PhyMedium\",\n",
      "          \"@type\": \"text\",\n",
      "          \"@size\": \"short\",\n",
      "          \"#text\": \"oil paint\"\n",
      "        }\n",
      "      }\n",
      "    },\n",
      "    {\n",
      "      \"@name\": \"Support\",\n",
      "      \"tuple\": {\n",
      "        \"atom\": {\n",
      "          \"@name\": \"PhySupport\",\n",
      "          \"@type\": \"text\",\n",
      "          \"@size\": \"short\",\n",
      "          \"#text\": \"canvas\"\n",
      "        }\n",
      "      }\n",
      "    },\n",
      "    {\n",
      "      \"@name\": \"Dimensions\",\n",
      "      \"tuple\": [\n",
      "        {\n",
      "          \"atom\": [\n",
      "            {\n",
      "              \"@name\": \"PhyType\",\n",
      "              \"@type\": \"text\",\n",
      "              \"@size\": \"short\",\n",
      "              \"#text\": \"Framed Dimensions\"\n",
      "            },\n",
      "            {\n",
      "              \"@name\": \"PhyHeight\",\n",
      "              \"@type\": \"text\",\n",
      "              \"@size\": \"short\",\n",
      "              \"#text\": \"34.7500\"\n",
      "            },\n",
      "            {\n",
      "              \"@name\": \"PhyWidth\",\n",
      "              \"@type\": \"text\",\n",
      "              \"@size\": \"short\",\n",
      "              \"#text\": \"24.7500\"\n",
      "            },\n",
      "            {\n",
      "              \"@name\": \"PhyDepth\",\n",
      "              \"@type\": \"text\",\n",
      "              \"@size\": \"short\",\n",
      "              \"#text\": \"4.0000\"\n",
      "            },\n",
      "            {\n",
      "              \"@name\": \"PhyUnitLength\",\n",
      "              \"@type\": \"text\",\n",
      "              \"@size\": \"short\",\n",
      "              \"#text\": \"in.\"\n",
      "            },\n",
      "            {\n",
      "              \"@name\": \"PhyDimensionNotes\",\n",
      "              \"@type\": \"text\",\n",
      "              \"@size\": \"short\",\n",
      "              \"#text\": \"Metric: 88.2 x 62.8 x 10.1 (framed)\"\n",
      "            }\n",
      "          ]\n",
      "        },\n",
      "        {\n",
      "          \"atom\": [\n",
      "            {\n",
      "              \"@name\": \"PhyType\",\n",
      "              \"@type\": \"text\",\n",
      "              \"@size\": \"short\",\n",
      "              \"#text\": \"Unframed Dimensions\"\n",
      "            },\n",
      "            {\n",
      "              \"@name\": \"PhyHeight\",\n",
      "              \"@type\": \"text\",\n",
      "              \"@size\": \"short\",\n",
      "              \"#text\": \"27.2500\"\n",
      "            },\n",
      "            {\n",
      "              \"@name\": \"PhyWidth\",\n",
      "              \"@type\": \"text\",\n",
      "              \"@size\": \"short\",\n",
      "              \"#text\": \"16.2500\"\n",
      "            },\n",
      "            {\n",
      "              \"@name\": \"PhyUnitLength\",\n",
      "              \"@type\": \"text\",\n",
      "              \"@size\": \"short\",\n",
      "              \"#text\": \"in.\"\n",
      "            },\n",
      "            {\n",
      "              \"@name\": \"PhyDimensionNotes\",\n",
      "              \"@type\": \"text\",\n",
      "              \"@size\": \"short\",\n",
      "              \"#text\": \"Metric: 69.2 x 41.2 (canvas)\"\n",
      "            }\n",
      "          ]\n",
      "        }\n",
      "      ]\n",
      "    },\n",
      "    {\n",
      "      \"@name\": \"Rights\",\n",
      "      \"tuple\": {\n",
      "        \"atom\": {\n",
      "          \"@name\": \"RigAcknowledgement\",\n",
      "          \"@type\": \"text\",\n",
      "          \"@size\": \"short\",\n",
      "          \"#text\": \"Public Domain\"\n",
      "        }\n",
      "      }\n",
      "    },\n",
      "    {\n",
      "      \"@name\": \"Homepage\",\n",
      "      \"tuple\": {\n",
      "        \"atom\": [\n",
      "          {\n",
      "            \"@name\": \"RefBibliographicNotes\",\n",
      "            \"@type\": \"text\",\n",
      "            \"@size\": \"short\",\n",
      "            \"#text\": \"56270\"\n",
      "          },\n",
      "          {\n",
      "            \"@name\": \"irn\",\n",
      "            \"@type\": \"text\",\n",
      "            \"@size\": \"short\",\n",
      "            \"#text\": \"3307\"\n",
      "          },\n",
      "          {\n",
      "            \"@name\": \"EleTitle\",\n",
      "            \"@type\": \"text\",\n",
      "            \"@size\": \"short\",\n",
      "            \"#text\": \"Dagwood ID for 14.55\"\n",
      "          },\n",
      "          {\n",
      "            \"@name\": \"EleIdentifier\",\n",
      "            \"@type\": \"text\",\n",
      "            \"@size\": \"short\",\n",
      "            \"#text\": \"56270\"\n",
      "          }\n",
      "        ]\n",
      "      }\n",
      "    }\n",
      "  ],\n",
      "  \"tuple\": [\n",
      "    {\n",
      "      \"@name\": \"LocCurrentLocationRef\",\n",
      "      \"atom\": [\n",
      "        {\n",
      "          \"@name\": \"LocLevel1\",\n",
      "          \"@type\": \"text\",\n",
      "          \"@size\": \"short\",\n",
      "          \"#text\": \"IMA\"\n",
      "        },\n",
      "        {\n",
      "          \"@name\": \"LocLevel2\",\n",
      "          \"@type\": \"text\",\n",
      "          \"@size\": \"short\",\n",
      "          \"#text\": \"Westerley\"\n",
      "        },\n",
      "        {\n",
      "          \"@name\": \"LocLevel3\",\n",
      "          \"@type\": \"text\",\n",
      "          \"@size\": \"short\",\n",
      "          \"#text\": \"East Bedroom\"\n",
      "        }\n",
      "      ]\n",
      "    },\n",
      "    {\n",
      "      \"@name\": \"AssParentObjectRef\",\n",
      "      \"atom\": {\n",
      "        \"@name\": \"irn\",\n",
      "        \"@type\": \"text\",\n",
      "        \"@size\": \"short\"\n",
      "      }\n",
      "    }\n",
      "  ]\n",
      "}\n"
     ]
    }
   ],
   "source": [
    "selectedObject = {}\n",
    "for obj in allObjects:\n",
    "    for prop in obj[\"atom\"]:         \n",
    "        if prop[\"@name\"] == \"irn\":\n",
    "            irn = prop[\"#text\"]\n",
    "            if irn == selectedIRN:\n",
    "                selectedObject = obj\n",
    "                break\n",
    "               \n",
    "obj = selectedObject\n",
    "\n",
    "print(json.dumps(obj,indent=2))\n"
   ]
  },
  {
   "cell_type": "markdown",
   "id": "d108ea55",
   "metadata": {},
   "source": [
    "## 4. Build the Linked Art JSON-LD file <a id=\"build\"/>\n",
    "\n",
    "The following steps will transform the catalogue data for the selected artwork to Linked Art JSON-LD. The transformation will be divided into sections, using different parts of the Linked Art data model.\n"
   ]
  },
  {
   "cell_type": "markdown",
   "id": "9f3d1370",
   "metadata": {},
   "source": [
    "### Mapping of Input Fields"
   ]
  },
  {
   "cell_type": "code",
   "execution_count": 18,
   "id": "6c3e5770",
   "metadata": {},
   "outputs": [
    {
     "name": "stdout",
     "output_type": "stream",
     "text": [
      "{\n",
      "  \"creator\": [\n",
      "    {\n",
      "      \"id\": \"613279\",\n",
      "      \"name\": \"Lichtenstein, Roy\",\n",
      "      \"role\": \"Artist\"\n",
      "    }\n",
      "  ],\n",
      "  \"id\": \"82696\",\n",
      "  \"accession_number\": \"2013.443A-E.4\",\n",
      "  \"current_status\": \"Accessioned\",\n",
      "  \"accession_date\": \"2013-12-12\",\n",
      "  \"title\": \"Five Brushstrokes\",\n",
      "  \"notes\": \"A) Element A / Black and Yellow Drip, B) Element B / Red and White, C) Element C / Black & White, E.1) Element E #1 / Bottom, Black & White, E.2) Element E #2 / Red & White, E.3) Element E #3 / Black &  Yellow, E.4) Element E #4 / Top, Black & White\",\n",
      "  \"classification\": \"Visual Works: Sculpture\",\n",
      "  \"date_created\": \"fabricated 2012\",\n",
      "  \"date_created_earliest\": \"2012\",\n",
      "  \"date_created_latest\": \"2012\",\n",
      "  \"created_period\": \"\",\n",
      "  \"created_dynasty\": \"\",\n",
      "  \"inscriptions\": \"rf Lichtenstein 83-84 AP <copyright> The Roy Lichtenstein Foundation, 2012\",\n",
      "  \"created_notes\": \"(designed 1983-1984, fabricated 2012)\\nThe sculpture was created posthumously from the aritist's specificiations, and originally commissioned by by an arts patron for the University of California at San Diego's campus in LaJolla, but was never fabricated beyond the artist's maquettes.\",\n",
      "  \"physical_medium\": \"painted aluminum\",\n",
      "  \"physical_style\": \"\",\n",
      "  \"physical_technique\": \"\",\n",
      "  \"physical_description\": \"A) Element A / Black and Yellow Drip, B) Element B / Red and White, C) Element C / Black & White, E.1) Element E #1 / Bottom, Black & White, E.2) Element E #2 / Red & White, E.3) Element E #3 / Black &  Yellow, E.4) Element E #4 / Top, Black & White\",\n",
      "  \"physical_dimensions\": \"Element A) 372 x 36 x 11 in.\\nElement B) 98 x 357 x 10-1/4 in.\\nElement C) 104 x 271 x 12 in.\\nElement D) 228 x 100 x 11 in.\\nElement E.1-.4) 480 x 77 x 15 in. (assembled)\",\n",
      "  \"created_provenance\": \"(Roy Lichtenstein Foundation, New York, New York); purchased by the Indianapolis Museum of Art in 2013.\",\n",
      "  \"PhyCollectionArea\": \"907-Contemporary\"\n",
      "}\n"
     ]
    }
   ],
   "source": [
    "docProp = {\n",
    "    \"irn\":\"id\",\n",
    "    \"TitAccessionNo\":\"accession_number\",\n",
    "    \"TitAccessionDate\": \"accession_date\",\n",
    "    \"TitObjectType\" : \"classification\",\n",
    "    \"TitObjectStatus\" : \"current_status\",\n",
    "    \"TitMainTitle\": \"title\",\n",
    "    \"TitTitleNotes\": \"notes\",\n",
    "    \"CreDateCreated\":\"date_created\",\n",
    "    \"CreEarliestDate\": \"date_created_earliest\",\n",
    "    \"CreLatestDate\": \"date_created_latest\",\n",
    "    \"CreCreationPeriod\":\"created_period\",\n",
    "    \"CreCreationDynasty\":\"created_dynasty\",\n",
    "    \"CrePrimaryInscriptions\":\"inscriptions\",\n",
    "    \n",
    "    \"CreCreationNotes\": \"created_notes\",\n",
    "    \"PhyMediumAndSupport\": \"physical_medium\",\n",
    "    \"PhyStyle\": \"physical_style\",\n",
    "    \"PhyTechnique\": \"physical_technique\",\n",
    "    \"PhyDescription\": \"physical_description\",\n",
    "    \"PhyConvertedDims\": \"physical_dimensions\",\n",
    "    \"PhyCollectionArea\" : \"PhyCollectionArea\" ,\n",
    "    \"CreProvenance\": \"created_provenance\" \n",
    "    \n",
    "}\n",
    "\n",
    "\n",
    "mapp =  {\n",
    "    \"id\":\"id\",\n",
    "    \"accession_number\":\"accession_number\",\n",
    "    \"accession_date\": \"accession_date\",\n",
    "    \"classification\" : \"classification\",\n",
    "    \"title\": \"title\",\n",
    "    \"alt_title\": \"alt_title\",\n",
    "    \"notes\": \"notes\",\n",
    "    \"date_created\":\"date_created\",\n",
    "    \"date_created_earliest\": \"date_created_earliest\",\n",
    "    \"date_created_latest\": \"date_created_latest\",\n",
    "    \"created_period\":\"created_period\",\n",
    "    \"created_dynasty\":\"created_dynasty\",\n",
    "    \"created_inscriptions\":\"inscriptions\",\n",
    "    \"created_notes\": \"created_notes\",\n",
    "    \"creator\":\"creator\",\n",
    "    \"physical_medium\": \"physical_medium\",\n",
    "    \"physical_style\": \"physical_style\",\n",
    "    \"physical_technique\": \"physical_technique\",\n",
    "    \"physical_description\": \"physical_description\",\n",
    "    \"physical_dimensions\": \"physical_dimensions\",\n",
    "    \"created_provenance\": \"created_provenance\" ,\n",
    "    \"credit_line\": \"credit_line\",\n",
    "    \"collection\" : \"PhyCollectionArea\",\n",
    "    \"current_status\" : \"current_status\"\n",
    "}\n",
    "\n",
    "\n",
    "def createObjProp(obj,docProp):\n",
    "    objProp = {\"creator\":[]}\n",
    "\n",
    "    for prop in obj[\"atom\"]: \n",
    "        propName = prop[\"@name\"]\n",
    "        propValue = \"\"\n",
    "        if \"#text\" in prop:\n",
    "            propValue = prop[\"#text\"]\n",
    "        if propName in list(docProp.keys()):\n",
    "            propId = docProp[propName]\n",
    "            objProp[propId] = propValue\n",
    " \n",
    "\n",
    "    # alternative titles\n",
    "\n",
    "    for table in obj[\"table\"]:\n",
    "        if table[\"@name\"] == \"AltTitles\": \n",
    "            alt_title = table[\"tuple\"][\"atom\"][\"#text\"]\n",
    "            objProp[\"alt_title\"] = alt_title\n",
    "        \n",
    "\n",
    "        if table[\"@name\"] == \"Creator1\": \n",
    "            crerole = creid = crename = \"\"\n",
    "            if \"atom\" in table[\"tuple\"]:\n",
    "                for atom in table[\"tuple\"][\"atom\"]:\n",
    "                    if atom[\"@name\"] == \"CreRole\":\n",
    "                        crerole = atom[\"#text\"]\n",
    "                    if atom[\"@name\"] == \"irn\":\n",
    "                        creid = atom[\"#text\"]\n",
    "                    if atom[\"@name\"] == \"SummaryData\":\n",
    "                        crename = atom[\"#text\"]\n",
    "            creator = {\"id\":creid,\"name\":crename,\"role\":crerole}\n",
    "            objProp[\"creator\"].append(creator)\n",
    "    \n",
    "    return objProp\n",
    "\n",
    "\n",
    "objProp = createObjProp(obj,docProp)      \n",
    "print(json.dumps(objProp,indent=2))"
   ]
  },
  {
   "cell_type": "markdown",
   "id": "2ee1caff",
   "metadata": {},
   "source": [
    "[Linked Art Data Model documentation](https://linked.art/model/base/#core-properties)\n",
    "\n",
    "There are a few core properties that every resource should have for it to be a useful part of the world of Linked Open Data:\n",
    "\n",
    "- `@context`\n",
    "- `id`\n",
    "- `type`\n",
    "- `_label`\n",
    "    \n",
    "---\n",
    "\n",
    "#### IMA Data Mapping\n",
    "\n",
    "The `id` is a URL and has been created from the `irn` value together with a URL prefix: https://data.discovernewfields.org/\n",
    "\n",
    "The `_label` is a human readable label, intended for developers and other people reading the data. The value is taken from the `TitMainTitle` property.\n"
   ]
  },
  {
   "cell_type": "code",
   "execution_count": 19,
   "id": "062afb11",
   "metadata": {},
   "outputs": [],
   "source": [
    "#  baseURI for JSON-LD document\n",
    "baseURI = \"https://data.discovernewfields.org/\"\n",
    "\n",
    "factory.base_url = baseURI\n",
    "factory.default_lang = \"en\""
   ]
  },
  {
   "cell_type": "markdown",
   "id": "9dc69c82",
   "metadata": {},
   "source": [
    "## Classification"
   ]
  },
  {
   "cell_type": "markdown",
   "id": "a545f1ec",
   "metadata": {},
   "source": [
    "https://linked.art/model/base/#types-and-classifications\n",
    "\n",
    "CIDOC-CRM is a framework that must be extended via additional vocabularies and ontologies to be useful. The provided mechanism for doing this is the classified_as property, which refers to a term from a controlled vocabulary. This is in contrast to the `type` property, which is used for CIDOC-CRM defined classes, and a few extensions as needed. \n",
    "\n",
    "The `classified_as` property is thus a way to be more specific about the sort of entity, while maintaining the core information as the class using type. Controlled vocabulary entries should not be used with `type`, nor classes used with `classified_as`.\n",
    "\n",
    "While any external vocabulary of terms can be used, the Getty's Art and Architecture Thesaurus is used whenever possible for consistency and that it is already widespread in the museum domain. The set of terms that have been identified as useful are listed in the community best-practices for recommendations, and within the documentation of the model when a particular choice is essential for interoperability.\n"
   ]
  },
  {
   "cell_type": "markdown",
   "id": "f04e6fc2",
   "metadata": {},
   "source": [
    "## Identifiers <a id=\"id\"/>\n",
    "\n",
    "[Linked Art Data Model documentation](https://linked.art/model/base/#identifiers)\n",
    "\n",
    "Many resources of interest are also given external identifiers, such as accession numbers for objects, ORCIDs for people or groups, lot numbers for auctions, and so forth. Identifiers are represented in a very similar way to names, but instead use the Identifier class. Identifiers will normally have a classification determining which sort of identifier it is, to distinguish between internal repository system assigned numbers from museum assigned accession numbers, for example.\n",
    "\n",
    "As Identifiers and Names use the same `identified_by` property, the JSON will frequently have mixed classes in the array. Unlike `Names`, `Identifiers` are not part of human language and thus cannot have translations or a language associated with them."
   ]
  },
  {
   "cell_type": "code",
   "execution_count": 20,
   "id": "b5592d21",
   "metadata": {},
   "outputs": [],
   "source": [
    "id = objProp[mapp.get(\"id\")]\n",
    "\n",
    "object_uri = baseURI + id"
   ]
  },
  {
   "cell_type": "markdown",
   "id": "93d90ac1",
   "metadata": {},
   "source": [
    "### Accession Number"
   ]
  },
  {
   "cell_type": "code",
   "execution_count": 21,
   "id": "8998aeba",
   "metadata": {},
   "outputs": [],
   "source": [
    "from cromulent.vocab import AccessionNumber\n",
    "\n",
    "def objAccession(objProp, mapp,object_uri):\n",
    "    accession = None\n",
    "    accession_number = objProp[mapp.get(\"accession_number\")]\n",
    "    if accession_number != \"\":\n",
    "        accession = AccessionNumber(accession_number,value=accession_number)\n",
    "    return accession"
   ]
  },
  {
   "cell_type": "code",
   "execution_count": 22,
   "id": "f3bd16db",
   "metadata": {},
   "outputs": [
    {
     "name": "stdout",
     "output_type": "stream",
     "text": [
      "{\n",
      "  \"@context\": \"https://linked.art/ns/v1/linked-art.json\",\n",
      "  \"id\": \"https://data.discovernewfields.org/Identifier/2013.443A-E.4\",\n",
      "  \"type\": \"Identifier\",\n",
      "  \"classified_as\": [\n",
      "    {\n",
      "      \"id\": \"http://vocab.getty.edu/aat/300312355\",\n",
      "      \"type\": \"Type\",\n",
      "      \"_label\": \"Accession Number\"\n",
      "    }\n",
      "  ],\n",
      "  \"content\": \"2013.443A-E.4\"\n",
      "}\n"
     ]
    }
   ],
   "source": [
    "accession = objAccession(objProp,mapp,object_uri)\n",
    "print(factory.toString(accession, compact=False))"
   ]
  },
  {
   "cell_type": "markdown",
   "id": "f87a8b78",
   "metadata": {},
   "source": [
    "### Local Number"
   ]
  },
  {
   "cell_type": "code",
   "execution_count": 23,
   "id": "b2f89d06",
   "metadata": {},
   "outputs": [],
   "source": [
    "from cromulent.vocab import LocalNumber\n",
    "\n",
    "def objLocalnumber(objProp,mapp,object_uri):\n",
    "    localnumber = None\n",
    "    id = objProp[mapp.get(\"id\")]\n",
    "    if id != \"\":\n",
    "        localnumber = LocalNumber(id,value=id)\n",
    "    return localnumber"
   ]
  },
  {
   "cell_type": "code",
   "execution_count": 24,
   "id": "64eb5bb4",
   "metadata": {},
   "outputs": [
    {
     "name": "stdout",
     "output_type": "stream",
     "text": [
      "{\n",
      "  \"@context\": \"https://linked.art/ns/v1/linked-art.json\",\n",
      "  \"id\": \"https://data.discovernewfields.org/Identifier/82696\",\n",
      "  \"type\": \"Identifier\",\n",
      "  \"classified_as\": [\n",
      "    {\n",
      "      \"id\": \"http://vocab.getty.edu/aat/300404621\",\n",
      "      \"type\": \"Type\",\n",
      "      \"_label\": \"Owner-Assigned Number\"\n",
      "    }\n",
      "  ],\n",
      "  \"content\": \"82696\"\n",
      "}\n"
     ]
    }
   ],
   "source": [
    "localnumber = objLocalnumber(objProp,mapp,object_uri)\n",
    "print(factory.toString(localnumber, compact=False))"
   ]
  },
  {
   "cell_type": "markdown",
   "id": "7554143e",
   "metadata": {},
   "source": [
    "## Names \n",
    "\n",
    "https://linked.art/model/base/#names\n",
    "\n",
    "As the `_label` property is intended as internal documentation for the data, it is strongly recommended that every resource that should be rendered to an end user also have at least one specific name. The name could be for an object, a person, a group, an event or anything else. This pattern uses the `identified_by` property, with a `Name` resource. The value of the name is given in the content property of the `Name`.\n",
    "\n",
    "It is somewhat unintuitive to think of a name as identifying the resource it is associated with, as names are typically not unique. However, as the name itself is uniquely identified rather than just an anonymous string, they are no longer a shared label and instead the particular instance of a name is uniquely associated with the resource. With this formulation, the name instance does uniquely identify the resource.\n",
    "\n",
    "If there is more than one name given, then there should be one that is `classified_as` the primary name for use. This is done by adding the `Primary Name` (aat:300404670) term to it. There should be exactly one primary title given per language.\n",
    "\n",
    "Names are also part of human communication, and can have the Linguistic features of the model associated with them, such as having a particular language, or having translations.\n",
    "\n"
   ]
  },
  {
   "cell_type": "markdown",
   "id": "ca2f6e5a",
   "metadata": {},
   "source": [
    "### Primary Name"
   ]
  },
  {
   "cell_type": "code",
   "execution_count": 25,
   "id": "94d959bb",
   "metadata": {},
   "outputs": [],
   "source": [
    "from cromulent.vocab import PrimaryName\n",
    "\n",
    "def objPrimaryname(objProp,mapp,object_uri):\n",
    "    primaryname = None\n",
    "    title = objProp[mapp[\"title\"]]\n",
    "    id = objProp[mapp[\"id\"]]\n",
    "    primaryname = PrimaryName( object_uri + id + \"/primary-name\",\n",
    "                                value=title)\n",
    "    return primaryname"
   ]
  },
  {
   "cell_type": "code",
   "execution_count": 26,
   "id": "9c69204d",
   "metadata": {},
   "outputs": [
    {
     "name": "stdout",
     "output_type": "stream",
     "text": [
      "{\n",
      "  \"@context\": \"https://linked.art/ns/v1/linked-art.json\",\n",
      "  \"id\": \"https://data.discovernewfields.org/8269682696/primary-name\",\n",
      "  \"type\": \"Name\",\n",
      "  \"classified_as\": [\n",
      "    {\n",
      "      \"id\": \"http://vocab.getty.edu/aat/300404670\",\n",
      "      \"type\": \"Type\",\n",
      "      \"_label\": \"Primary Name\"\n",
      "    }\n",
      "  ],\n",
      "  \"content\": \"Five Brushstrokes\"\n",
      "}\n"
     ]
    }
   ],
   "source": [
    "primaryname = objPrimaryname(objProp,mapp,object_uri) \n",
    "print(factory.toString(primaryname, compact=False))"
   ]
  },
  {
   "cell_type": "markdown",
   "id": "96f0c7be",
   "metadata": {},
   "source": [
    "### Alternate Name"
   ]
  },
  {
   "cell_type": "code",
   "execution_count": 27,
   "id": "12a761b1",
   "metadata": {},
   "outputs": [],
   "source": [
    "from cromulent.vocab import AlternateName\n",
    "\n",
    "def objAlternatename(objProp,mapp,object_uri):\n",
    "    alternateName = None\n",
    "    if mapp[\"alt_title\"] in objProp:\n",
    "        alt_title = objProp[mapp[\"alt_title\"]]\n",
    "        alternatename = AlternateName(object_uri + id + \"/alternate-name\",value=alt_title)\n",
    "    return alternateName"
   ]
  },
  {
   "cell_type": "code",
   "execution_count": 28,
   "id": "95ac7599",
   "metadata": {},
   "outputs": [],
   "source": [
    "alternatename = objAlternatename(objProp,mapp,object_uri) \n",
    "\n",
    "if alternatename is not None:\n",
    "    print(factory.toString(alternatename, compact=False))"
   ]
  },
  {
   "cell_type": "markdown",
   "id": "5791297e",
   "metadata": {},
   "source": [
    "## Home Page\n",
    "\n",
    "https://linked.art/model/digital/#home-page\n",
    "\n",
    "A very common scenario is that there is a web page about the object, perhaps managed by a collections management system. For humans, this page is much more useful than the data intended for machines. It can be referenced with the `subject_of` property, and points to a `DigitalObject` which is `classified_as` a web page, or `aat:300264578`. As with digital images, the home page can have a format of \"text/html\" and other properties."
   ]
  },
  {
   "cell_type": "code",
   "execution_count": 29,
   "id": "1490e45d",
   "metadata": {},
   "outputs": [],
   "source": [
    "from cromulent.vocab import LinguisticObject, Type\n",
    "\n",
    "def objHomepage(objProp,mapp,object_uri):\n",
    "\n",
    "    homepage = None\n",
    "    id = objProp[mapp[\"id\"]]\n",
    "\n",
    "    homepageId = \"http://collection.imamuseum.org/artwork/\" + id\n",
    "\n",
    "    homepage = LinguisticObject(homepageId, label=\"Homepage for the Object\")\n",
    "    homepage.classified_as = Type(\"http://vocab/getty.edu/aat/300264578\", label=\"Web pages (documents)\")\n",
    "    homepage.classified_as = Type(\"http://vocab.getty.edu/aat/300266277\", label=\"home pages\")\n",
    "    homepage.format = \"text/html\"\n",
    "    \n",
    "    return homepage"
   ]
  },
  {
   "cell_type": "code",
   "execution_count": 30,
   "id": "75cbb51b",
   "metadata": {},
   "outputs": [
    {
     "name": "stdout",
     "output_type": "stream",
     "text": [
      "{\n",
      "  \"@context\": \"https://linked.art/ns/v1/linked-art.json\",\n",
      "  \"id\": \"http://collection.imamuseum.org/artwork/82696\",\n",
      "  \"type\": \"LinguisticObject\",\n",
      "  \"_label\": \"Homepage for the Object\",\n",
      "  \"classified_as\": [\n",
      "    {\n",
      "      \"id\": \"http://vocab/getty.edu/aat/300264578\",\n",
      "      \"type\": \"Type\",\n",
      "      \"_label\": \"Web pages (documents)\"\n",
      "    },\n",
      "    {\n",
      "      \"id\": \"http://vocab.getty.edu/aat/300266277\",\n",
      "      \"type\": \"Type\",\n",
      "      \"_label\": \"home pages\"\n",
      "    }\n",
      "  ],\n",
      "  \"format\": \"text/html\"\n",
      "}\n"
     ]
    }
   ],
   "source": [
    "homepage = objHomepage(objProp,mapp,object_uri) \n",
    "\n",
    "if homepage is not None:\n",
    "    print(factory.toString(homepage, compact=False))"
   ]
  },
  {
   "cell_type": "markdown",
   "id": "7a67b937",
   "metadata": {},
   "source": [
    "## Statements about a Resource - Linguistic Objects <a id=\"ling\"/>\n",
    "\n",
    "[Linked Art Data Model Documentation](https://linked.art/model/base/#statements-about-a-resource)\n",
    "    \n",
    "In many cases, current data does not support the level of specificity that the full ontology allows, or the information is simply best expressed in human-readable form. For example, instead of a completely modeled set of parts with materials, many museum collection management systems allow only a single human-readable string for the \"medium\" or \"materials statement\". The same is true in many other situations, including rights or allowable usage statements, dimensions, edition statements and so forth. Any time that there is a description of the resource, with or without qualification as to the type of description, then this pattern can be used to record the descriptive text.\n",
    "\n",
    "The pattern makes use of the `LinguisticObject` class that is used to identify a particular piece of textual content. These Linguistic Objects are then refered to by any other resource. They maintain the statement's text in the content property, and the language of the statement (if known) in the language property.\n",
    "\n",
    "Use cases for this pattern include:\n",
    "\n",
    "- General description of the resource\n",
    "- Materials statement for an object\n",
    "- Attribution statement for an image\n",
    "- Biography for a person\n",
    "- Dimensions statement for a part of an object    \n"
   ]
  },
  {
   "cell_type": "markdown",
   "id": "ca434e8a",
   "metadata": {},
   "source": [
    "## Provenance"
   ]
  },
  {
   "cell_type": "code",
   "execution_count": 31,
   "id": "139935a1",
   "metadata": {},
   "outputs": [],
   "source": [
    "from cromulent.vocab import LinguisticObject, Type\n",
    "\n",
    "def objProvenance(objProp,mapp,object_uri):\n",
    "\n",
    "    prov = None\n",
    "    propProv = mapp[\"created_provenance\"]\n",
    "    if propProv in objProp:\n",
    "        provenance = objProp[propProv]\n",
    "        if provenance != \"\":\n",
    "            prov = LinguisticObject(object_uri + \"/provenance-statement\", \n",
    "                            value=provenance,\n",
    "                            label=\"Provenance Statement about the Object\"\n",
    "                           )\n",
    "            prov.classified_as = Type(\"http://vocab.getty.edu/aat/300055863\", label=\"provenance (history of ownership)\")\n",
    "            prov.classified_as = Type(\"http://vocab.getty.edu/aat/300418049\", label=\"brief texts\")\n",
    "    return prov"
   ]
  },
  {
   "cell_type": "code",
   "execution_count": 32,
   "id": "9e8a30d6",
   "metadata": {},
   "outputs": [
    {
     "name": "stdout",
     "output_type": "stream",
     "text": [
      "{\n",
      "  \"@context\": \"https://linked.art/ns/v1/linked-art.json\",\n",
      "  \"id\": \"https://data.discovernewfields.org/82696/provenance-statement\",\n",
      "  \"type\": \"LinguisticObject\",\n",
      "  \"_label\": \"Provenance Statement about the Object\",\n",
      "  \"classified_as\": [\n",
      "    {\n",
      "      \"id\": \"http://vocab.getty.edu/aat/300055863\",\n",
      "      \"type\": \"Type\",\n",
      "      \"_label\": \"provenance (history of ownership)\"\n",
      "    },\n",
      "    {\n",
      "      \"id\": \"http://vocab.getty.edu/aat/300418049\",\n",
      "      \"type\": \"Type\",\n",
      "      \"_label\": \"brief texts\"\n",
      "    }\n",
      "  ],\n",
      "  \"content\": \"(Roy Lichtenstein Foundation, New York, New York); purchased by the Indianapolis Museum of Art in 2013.\"\n",
      "}\n"
     ]
    }
   ],
   "source": [
    "prov = objProvenance(objProp,mapp,object_uri)\n",
    "\n",
    "if prov is not None:\n",
    "    print(factory.toString(prov, compact=False))"
   ]
  },
  {
   "cell_type": "markdown",
   "id": "41e6e10b",
   "metadata": {},
   "source": [
    "## Credit Line"
   ]
  },
  {
   "cell_type": "code",
   "execution_count": 33,
   "id": "2a751e47",
   "metadata": {},
   "outputs": [],
   "source": [
    "from cromulent.vocab import LinguisticObject\n",
    "\n",
    "def objCredit(objProp,mapp,object_uri):\n",
    "    credit = None\n",
    "    propCredit = mapp[\"credit_line\"]\n",
    "    \n",
    "    if propCredit in objProp:\n",
    "        credit_line = objProp[propCredit]\n",
    "        if credit_line != \"\":\n",
    "            credit = LinguisticObject(baseURI + id + \"/credit-line\", \n",
    "                            value=credit_line,\n",
    "                            label=\"Credit Line for the Object\"\n",
    "                           )\n",
    "            credit.classified_as = Type(\"http://vocab.getty.edu/aat/300026687\", label=\"acknowledgements\")\n",
    "            credit.classified_as = Type(\"http://vocab.getty.edu/aat/300418049\", label=\"brief texts\")\n",
    "    return credit"
   ]
  },
  {
   "cell_type": "code",
   "execution_count": 34,
   "id": "83d17d48",
   "metadata": {},
   "outputs": [],
   "source": [
    "credit = objCredit(objProp,mapp,object_uri)\n",
    "\n",
    "if credit is not None:\n",
    "    print(factory.toString(credit, compact=False))"
   ]
  },
  {
   "cell_type": "markdown",
   "id": "60456c6e",
   "metadata": {},
   "source": [
    "## Production <a id=\"prod\"/>\n",
    "\n",
    "[Linked Art Data Model Documentation](https://linked.art/model/object/production/)\n",
    "\n",
    "The first activity in an object's lifecycle is its creation, or `Production`. The relationship to the object that was produced by the activity (`produced`) is added to the general activity model, along with the time, location and actors. This follows the base pattern for activities.\n"
   ]
  },
  {
   "cell_type": "code",
   "execution_count": 35,
   "id": "a109e578",
   "metadata": {},
   "outputs": [],
   "source": [
    "from cromulent.vocab import Production, TimeSpan, Actor\n",
    "\n",
    "def objProduction(objProp,mapp,object_uri):\n",
    "\n",
    "    prod = None\n",
    "\n",
    "    date_created = mapp[\"date_created\"]\n",
    "    created_earliest = mapp[\"date_created_earliest\"]\n",
    "    created_latest = mapp[\"date_created_latest\"]\n",
    "\n",
    "    if date_created in objProp:\n",
    "        prod = Production(object_uri + \"/production\", label=\"Production of the Object\")    \n",
    "    \n",
    "        labelTimespan = \"date unknown\"\n",
    "        if objProp[date_created] != \"\":\n",
    "            labelTimespan = objProp[date_created]\n",
    "   \n",
    "        timespan = TimeSpan(object_uri + \"/production/timespan\", label=labelTimespan)\n",
    "        \n",
    "        if created_earliest in objProp:\n",
    "            timespan.begin_of_the_begin = objProp[created_earliest]\n",
    "        if created_latest in objProp:\n",
    "            timespan.end_of_the_end = objProp[created_latest]\n",
    "    \n",
    "        prod.timespan = timespan\n",
    "    \n",
    "        for creator in objProp[\"creator\"]:\n",
    "            if \"id\" in creator:\n",
    "                actor = Actor(creator[\"id\"], label=creator[\"name\"])\n",
    "                prod.carried_out_by = actor\n",
    "    return prod"
   ]
  },
  {
   "cell_type": "code",
   "execution_count": 36,
   "id": "c94ff249",
   "metadata": {},
   "outputs": [
    {
     "name": "stdout",
     "output_type": "stream",
     "text": [
      "{\n",
      "  \"@context\": \"https://linked.art/ns/v1/linked-art.json\",\n",
      "  \"id\": \"https://data.discovernewfields.org/82696/production\",\n",
      "  \"type\": \"Production\",\n",
      "  \"_label\": \"Production of the Object\",\n",
      "  \"timespan\": {\n",
      "    \"id\": \"https://data.discovernewfields.org/82696/production/timespan\",\n",
      "    \"type\": \"TimeSpan\",\n",
      "    \"_label\": \"fabricated 2012\",\n",
      "    \"begin_of_the_begin\": \"2012\",\n",
      "    \"end_of_the_end\": \"2012\"\n",
      "  },\n",
      "  \"carried_out_by\": [\n",
      "    {\n",
      "      \"id\": \"https://data.discovernewfields.org/Actor/613279\",\n",
      "      \"type\": \"Actor\",\n",
      "      \"_label\": \"Lichtenstein, Roy\"\n",
      "    }\n",
      "  ]\n",
      "}\n"
     ]
    }
   ],
   "source": [
    "prod = objProduction(objProp,mapp,object_uri)\n",
    "\n",
    "if prod is not None:\n",
    "    print(factory.toString(prod, compact=False))"
   ]
  },
  {
   "cell_type": "markdown",
   "id": "0271bb78",
   "metadata": {},
   "source": [
    "## Current Owner and Acquisition <a id=\"owner\"/>\n",
    "\n",
    "[Linked Art Data Model Documentation](https://linked.art/model/provenance/acquisition/#object-acquisition)\n",
    "\n",
    "Acquisitions are used to describe the transfer of ownership of an object from one owner to the next. The first owner is typically the artist, who would then transfer it to the second owner, to the third owner and so on. The ownership chain can be expressed by repeating this same pattern with the buyer from one acquisition being the seller in the subsequent one. If the previous owner (e.g. the seller if there is a value exchange) or the subsequent owner (e.g. the buyer) is not known for a particular acquisition, then the reference can be left out from the description.\n",
    "\n",
    "The acquistion is not necessarily a purchase, it could be a gift, an inheritance or any other method of gaining the right of ownership of an object.\n",
    "\n",
    "The model encodes this information with an Acquisition part of the overall Provenance Event. The acquisition is the transfer of the right of ownership of an object (referenced in transferred_title_of) from the seller (in transferred_title_from) to the buyer (in transferred_title_to).\n",
    "\n",
    "Each object has its own Acquisition as part of the provenance event, so if a collector buys three paintings from a dealer, then there would be a single Provenance Event with three Acquisitions, all of which transfer the title of a single painting from the dealer to the collector.\n"
   ]
  },
  {
   "cell_type": "code",
   "execution_count": null,
   "id": "95847a96",
   "metadata": {},
   "outputs": [],
   "source": []
  },
  {
   "cell_type": "code",
   "execution_count": 37,
   "id": "552f811d",
   "metadata": {},
   "outputs": [],
   "source": [
    "from cromulent.vocab import TimeSpan, Actor, Group, Acquisition, Place\n",
    "\n",
    "def checkCurrentOwner(current_status):\n",
    "    currentowner = False\n",
    "    if current_status != \"\":\n",
    "        checkObjStatus = ('Accessioned','Partial Accession')\n",
    "        for status in checkObjStatus:\n",
    "            if status == current_status:\n",
    "                currentowner = True\n",
    "            if 'IMA-Owned' in current_status:\n",
    "                currentowner = True\n",
    "    return currentowner\n",
    "\n",
    "\n",
    "def objCurrentowner(objProp,mapp,object_uri):\n",
    "    current_owner = None\n",
    "    \n",
    "    current_status = objProp[mapp[\"current_status\"]]\n",
    "    currentowner = checkCurrentOwner(current_status)\n",
    "\n",
    "\n",
    "    if currentowner == True:\n",
    "        current_owner = Group(\"http://vocab.getty.edu/ulan/500300517\", \n",
    "                          label=\"Indianapolis Museum of Art at Newfields\"\n",
    "                         )\n",
    "        current_owner.classified_as = Type(\"http://vocab.getty.edu/aat/300312281\",\n",
    "                                      label=\"museums (institutions)\")\n",
    "    \n",
    "        accession_date = objProp[mapp[\"accession_date\"]]\n",
    "\n",
    "         \n",
    "        acquisition = objAcquisition(object_uri,objProp,mapp)\n",
    "        if acquisition is not None:\n",
    "            current_owner.acquired_title_through = acquisition \n",
    "    return current_owner \n",
    "\n",
    "\n",
    "def objAcquisition(object_uri,objProp,mapp):\n",
    "    acquisition = None\n",
    "    accession_date = objProp[mapp[\"accession_date\"]]\n",
    "    if accession_date != \"\": \n",
    "        acquisition = Acquisition(object_uri + \"/IMA-acquisition\", label = \"Acquisition of the Object\")\n",
    "        acquisition.classified_as = Type(\"http://vocab.getty.edu/aat/300157782\",label=\"acquisition (collections management)\")\n",
    "        acquisition.took_place_at = Place(\"http://vocab.getty.edu/tgn/7012924\", label=\"Indianapolis, Indiana\") \n",
    "        acquisition.timespan = objAcquisitionTimespan(object_uri,accession_date)\n",
    "    return acquisition\n",
    "\n",
    "def objAcquisitionTimespan(object_uri,accession_date):\n",
    "    timespan = None\n",
    "    end = begin = \"\"\n",
    "    if len(accession_date) == 4:\n",
    "        begin = accession_date + \"-01-01T00:00:00.000Z\"\n",
    "        end = accession_date + \"-12-31T00:00:00.000Z\"\n",
    "        \n",
    "    elif len(accession_date) == 8:\n",
    "        begin = accession_date + \"01T00:00:00.000Z\"\n",
    "        end = accession_date \n",
    "        if '-02-' in accession_date:\n",
    "            end = end + \"28\"\n",
    "        if ('-01-','-03-','-05-','-07-','-08-','-09-','-10-','-12-') in accession_date:\n",
    "            end = end + \"31\"\n",
    "        if ('-04-','-06-','-09-','-11-'):\n",
    "            end = end + \"30\"      \n",
    "        end = end + \"T00:00:00\"\n",
    "         \n",
    "    elif len(accession_date) == 10:\n",
    "        begin = accession_date + \"T00:00:00.000Z\"\n",
    "        end = accession_date + \"T00:00:00.000Z\"    \n",
    "    else:\n",
    "        begin = end = \"\"\n",
    "        \n",
    "    timespan = TimeSpan(object_uri + \"/IMA-acquisition/timespan\", label=accession_date)\n",
    "        \n",
    "    if begin != \"\":\n",
    "        timespan.begin_of_the_begin = begin\n",
    "    if end != \"\":\n",
    "        timespan.end_of_the_end = end\n",
    "    return timespan\n",
    "    "
   ]
  },
  {
   "cell_type": "code",
   "execution_count": 38,
   "id": "9417588e",
   "metadata": {},
   "outputs": [
    {
     "name": "stdout",
     "output_type": "stream",
     "text": [
      "{\n",
      "  \"@context\": \"https://linked.art/ns/v1/linked-art.json\",\n",
      "  \"id\": \"http://vocab.getty.edu/ulan/500300517\",\n",
      "  \"type\": \"Group\",\n",
      "  \"_label\": \"Indianapolis Museum of Art at Newfields\",\n",
      "  \"classified_as\": [\n",
      "    {\n",
      "      \"id\": \"http://vocab.getty.edu/aat/300312281\",\n",
      "      \"type\": \"Type\",\n",
      "      \"_label\": \"museums (institutions)\"\n",
      "    }\n",
      "  ],\n",
      "  \"acquired_title_through\": [\n",
      "    {\n",
      "      \"id\": \"https://data.discovernewfields.org/82696/IMA-acquisition\",\n",
      "      \"type\": \"Acquisition\",\n",
      "      \"_label\": \"Acquisition of the Object\",\n",
      "      \"classified_as\": [\n",
      "        {\n",
      "          \"id\": \"http://vocab.getty.edu/aat/300157782\",\n",
      "          \"type\": \"Type\",\n",
      "          \"_label\": \"acquisition (collections management)\"\n",
      "        }\n",
      "      ],\n",
      "      \"timespan\": {\n",
      "        \"id\": \"https://data.discovernewfields.org/82696/IMA-acquisition/timespan\",\n",
      "        \"type\": \"TimeSpan\",\n",
      "        \"_label\": \"2013-12-12\",\n",
      "        \"begin_of_the_begin\": \"2013-12-12T00:00:00.000Z\",\n",
      "        \"end_of_the_end\": \"2013-12-12T00:00:00.000Z\"\n",
      "      },\n",
      "      \"took_place_at\": [\n",
      "        {\n",
      "          \"id\": \"http://vocab.getty.edu/tgn/7012924\",\n",
      "          \"type\": \"Place\",\n",
      "          \"_label\": \"Indianapolis, Indiana\"\n",
      "        }\n",
      "      ]\n",
      "    }\n",
      "  ]\n",
      "}\n"
     ]
    }
   ],
   "source": [
    "current_owner = objCurrentowner(objProp,mapp,object_uri)\n",
    "\n",
    "if current_owner is not None:\n",
    "    print(factory.toString(current_owner, compact=False))"
   ]
  },
  {
   "cell_type": "markdown",
   "id": "539cfae1",
   "metadata": {},
   "source": [
    "## Custody\n",
    "\n",
    "[Linked Art Data Model documentation](https://linked.art/model/provenance/custody/#institutional-ownership-departmental-custody)\n",
    "\n",
    "Objects are owned by legal entities, such as museum organizations or individual people. However there may be more information about which department is responsible within a museum for the curation of the object. This is the division between acquisitions (the legal ownership of the object) and custody (the responsibility for looking after the object). If the department is known, then it should be either part of the Provenance Event in which the object is acquired, or a separate provenance event if the object was not accessioned by a department and later came under their care, or was transferred between departments. In these latter cases, the ownership does not change, only the custody of the object.\n",
    "\n",
    "The department becomes the `current_keeper` of the object, whereas the institution is the `current_owner`.\n"
   ]
  },
  {
   "cell_type": "code",
   "execution_count": 39,
   "id": "9d1c6863",
   "metadata": {},
   "outputs": [],
   "source": [
    "from cromulent.vocab import Group, Type\n",
    "\n",
    "\n",
    "def objCustody(objProp,mapp,object_uri):\n",
    "    \n",
    "    custody = None\n",
    "    current_status = objProp[mapp[\"current_status\"]]\n",
    "\n",
    "    currentowner = checkCurrentOwner(current_status)\n",
    "    \n",
    "    if currentowner == False:\n",
    "        custody = Group(label=\"Indianapolis Museum of Art at Newfields\")\n",
    "        custody.classified_as = Type(\"http://vocab.getty.edu/aat/300312281\", \n",
    "                                     label=\"museums (institutions)\")\n",
    "    return custody"
   ]
  },
  {
   "cell_type": "code",
   "execution_count": 40,
   "id": "226c6c08",
   "metadata": {},
   "outputs": [],
   "source": [
    "custody = objCustody(objProp,mapp,object_uri)\n",
    "if custody is not None:\n",
    "    print(factory.toString(custody, compact=False))"
   ]
  },
  {
   "cell_type": "markdown",
   "id": "35ce1107",
   "metadata": {},
   "source": [
    "## Membership of Collections and Sets <a id=\"member\"/>\n",
    "\n",
    "[Linked Art Data Model Documentation](https://linked.art/model/collection/)\n",
    "\n",
    "There are many use cases for grouping resources together, often of the same class but sometimes of varying types. These use cases are exemplified in the sections below, and range from the set of objects in an auction lot, to dealer inventories and museum collections, exhibitions, a set of related concepts, or the set of people that share a common feature such as gender or nationality.\n",
    "\n",
    "In order to cover all of the use cases with a consistent pattern, we introduce a new `Set` class from outside of CIDOC-CRM. This avoids issues with sets of resources with different types, and the semantics of the identity of objects and collections. If an equivalent class is added into the core CIDOC-CRM ontology in the future, a new major version of the specification will change to using it.\n",
    "\n",
    "### Sets \n",
    "\n",
    "Core Features\n",
    "\n",
    "Sets are conceptual groupings, rather than physical ones. The set of objects in a virtual exhibition or simply the set of a person's favorite objects never change their physical state by being part of the Set or not. They are, thus, created by a `Creation`, not by a `Production`.\n",
    "\n",
    "Like any core resource, Set must have an id and type, are likely to have additional classifications, and can have `Identifiers` and `Names`. They can have statements made about them, and have member resources. These member resources are included via the `member` property rather than `part`, or via `member_of` from the included resource to the `Set`.\n"
   ]
  },
  {
   "cell_type": "code",
   "execution_count": 41,
   "id": "a26a672e",
   "metadata": {},
   "outputs": [],
   "source": [
    "from cromulent.vocab import Set\n",
    "\n",
    "def objCollection(objProp,mapp,object_uri):\n",
    "    coll = None\n",
    "    collection = mapp[\"collection\"]\n",
    "\n",
    "    if collection in objProp:\n",
    "        collection = objProp[collection]\n",
    "        coll = Set(object_uri +\"/collection/\" + collection, \n",
    "                   label=\"Collection of IMA at Newfields' \" + collection.split(\"-\",1)[1]  + \" Department\")\n",
    "        coll.classified_as = Type(\"http://vocab.getty.edu/aat/300025976\", \n",
    "                              label=\"collections (object groupings)\")\n",
    "    return coll"
   ]
  },
  {
   "cell_type": "code",
   "execution_count": 42,
   "id": "22e3747a",
   "metadata": {},
   "outputs": [
    {
     "name": "stdout",
     "output_type": "stream",
     "text": [
      "{\n",
      "  \"@context\": \"https://linked.art/ns/v1/linked-art.json\",\n",
      "  \"id\": \"https://data.discovernewfields.org/82696/collection/907-Contemporary\",\n",
      "  \"type\": \"Set\",\n",
      "  \"_label\": \"Collection of IMA at Newfields' Contemporary Department\",\n",
      "  \"classified_as\": [\n",
      "    {\n",
      "      \"id\": \"http://vocab.getty.edu/aat/300025976\",\n",
      "      \"type\": \"Type\",\n",
      "      \"_label\": \"collections (object groupings)\"\n",
      "    }\n",
      "  ]\n",
      "}\n"
     ]
    }
   ],
   "source": [
    "coll = objCollection(objProp,mapp,object_uri)\n",
    "if coll is not None:\n",
    "    print(factory.toString(coll, compact=False))"
   ]
  },
  {
   "cell_type": "markdown",
   "id": "f54cf605",
   "metadata": {},
   "source": [
    "## 5. Compile Linked Art JSON-LD Representation\n",
    "\n",
    "Bring the separate descriptions together in a single JSON-LD document"
   ]
  },
  {
   "cell_type": "code",
   "execution_count": 43,
   "id": "d2f4e682",
   "metadata": {},
   "outputs": [],
   "source": [
    "def createObjDesc(objProp,mapp,objTypes,object_uri):\n",
    "    objLA = None\n",
    "    objLA = HumanMadeObject() # linked art object\n",
    "\n",
    "    for otype in objTypes:\n",
    "        if otype in objProp[mapp.get(\"classification\")]:\n",
    "            objLA = objTypes[otype]        \n",
    "            break\n",
    "            \n",
    "    objLA.id = object_uri\n",
    "    objLA._label =  objProp[mapp.get(\"title\")]\n",
    "\n",
    "    \n",
    "    # IDENTIFIED_BY \n",
    "    accession = objAccession(objProp,mapp,object_uri)\n",
    "    localnumber = objLocalnumber(objProp,mapp,object_uri)\n",
    "    primaryname = objPrimaryname(objProp,mapp,object_uri)\n",
    "    \n",
    "    listIds = (accession,localnumber,primaryname)\n",
    "    identified_by = False\n",
    "    for id in listIds:\n",
    "        if id is not None:\n",
    "            identified_by = True\n",
    "            break\n",
    "    if identified_by == True:\n",
    "        objLA.identified_by = []\n",
    "        \n",
    "        for id in listIds:\n",
    "            if id is not None:\n",
    "                objLA.identified_by.append(id)\n",
    "    \n",
    "    # REFERRED_TO_BY\n",
    "    prov = objProvenance(objProp,mapp,object_uri)\n",
    "    credit = objCredit(objProp,mapp,object_uri)\n",
    "    referred_to_by = False\n",
    "    if prov is not None or credit is not None:\n",
    "        referred_to_by = True\n",
    "    if referred_to_by == True:\n",
    "        objLA.referred_to_by = []\n",
    "    if prov is not None:\n",
    "        objLA.referred_to_by.append(prov) # provenance \n",
    "    if credit is not None:\n",
    "        objLA.referred_to_by.append(credit) # credit line\n",
    "    \n",
    "    # SUBJECT_OF    \n",
    "    homepage = objHomepage(objProp,mapp,object_uri)\n",
    "    if homepage is not None:\n",
    "        objLA.subject_of = homepage # home page\n",
    "        \n",
    "    # PRODUCED_BY\n",
    "    prod = objProduction(objProp,mapp,object_uri)\n",
    "    objLA.produced_by = None\n",
    "    if prod is not None:\n",
    "        objLA.produced_by = prod # production\n",
    "\n",
    "    # MEMBER_OF\n",
    "    coll = objCollection(objProp,mapp,object_uri)\n",
    "    if coll is not None:\n",
    "        objLA.member_of = coll # collection\n",
    "\n",
    "    # CURRENT_KEEPER\n",
    "    custody = objCustody(objProp,mapp,object_uri)\n",
    "    if custody is not None:\n",
    "        objLA.current_owner = custody\n",
    "    \n",
    "    # CURRENT_OWNER\n",
    "    current_owner = objCurrentowner(objProp,mapp,object_uri)\n",
    "    if current_owner is not None:\n",
    "        objLA.current_owner = current_owner\n",
    "          \n",
    "    return objLA"
   ]
  },
  {
   "cell_type": "code",
   "execution_count": 44,
   "id": "c7565a37",
   "metadata": {},
   "outputs": [],
   "source": [
    "objProp = createObjProp(obj,docProp)\n",
    "\n",
    "ObjLA = None\n",
    "objLA = createObjDesc(objProp,mapp,objTypes,object_uri)"
   ]
  },
  {
   "cell_type": "markdown",
   "id": "b7efee8c",
   "metadata": {},
   "source": [
    "## 7. View the final Linked Art JSON-LD\n",
    "\n",
    "The final Linked Art JSON-LD representation of the object is now available:"
   ]
  },
  {
   "cell_type": "code",
   "execution_count": 45,
   "id": "60468855",
   "metadata": {},
   "outputs": [
    {
     "name": "stdout",
     "output_type": "stream",
     "text": [
      "{\n",
      "  \"@context\": \"https://linked.art/ns/v1/linked-art.json\",\n",
      "  \"id\": \"https://data.discovernewfields.org/82696\",\n",
      "  \"type\": \"HumanMadeObject\",\n",
      "  \"_label\": \"Five Brushstrokes\",\n",
      "  \"classified_as\": [\n",
      "    {\n",
      "      \"id\": \"http://vocab.getty.edu/aat/300047090\",\n",
      "      \"type\": \"Type\",\n",
      "      \"_label\": \"Sculpture\",\n",
      "      \"classified_as\": [\n",
      "        {\n",
      "          \"id\": \"http://vocab.getty.edu/aat/300435443\",\n",
      "          \"type\": \"Type\",\n",
      "          \"_label\": \"Type of Work\"\n",
      "        }\n",
      "      ]\n",
      "    }\n",
      "  ],\n",
      "  \"identified_by\": [\n",
      "    {\n",
      "      \"id\": \"https://data.discovernewfields.org/Identifier/2013.443A-E.4\",\n",
      "      \"type\": \"Identifier\",\n",
      "      \"classified_as\": [\n",
      "        {\n",
      "          \"id\": \"http://vocab.getty.edu/aat/300312355\",\n",
      "          \"type\": \"Type\",\n",
      "          \"_label\": \"Accession Number\"\n",
      "        }\n",
      "      ],\n",
      "      \"content\": \"2013.443A-E.4\"\n",
      "    },\n",
      "    {\n",
      "      \"id\": \"https://data.discovernewfields.org/Identifier/82696\",\n",
      "      \"type\": \"Identifier\",\n",
      "      \"classified_as\": [\n",
      "        {\n",
      "          \"id\": \"http://vocab.getty.edu/aat/300404621\",\n",
      "          \"type\": \"Type\",\n",
      "          \"_label\": \"Owner-Assigned Number\"\n",
      "        }\n",
      "      ],\n",
      "      \"content\": \"82696\"\n",
      "    },\n",
      "    {\n",
      "      \"id\": \"https://data.discovernewfields.org/8269682696/primary-name\",\n",
      "      \"type\": \"Name\",\n",
      "      \"classified_as\": [\n",
      "        {\n",
      "          \"id\": \"http://vocab.getty.edu/aat/300404670\",\n",
      "          \"type\": \"Type\",\n",
      "          \"_label\": \"Primary Name\"\n",
      "        }\n",
      "      ],\n",
      "      \"content\": \"Five Brushstrokes\"\n",
      "    }\n",
      "  ],\n",
      "  \"referred_to_by\": [\n",
      "    {\n",
      "      \"id\": \"https://data.discovernewfields.org/82696/provenance-statement\",\n",
      "      \"type\": \"LinguisticObject\",\n",
      "      \"_label\": \"Provenance Statement about the Object\",\n",
      "      \"classified_as\": [\n",
      "        {\n",
      "          \"id\": \"http://vocab.getty.edu/aat/300055863\",\n",
      "          \"type\": \"Type\",\n",
      "          \"_label\": \"provenance (history of ownership)\"\n",
      "        },\n",
      "        {\n",
      "          \"id\": \"http://vocab.getty.edu/aat/300418049\",\n",
      "          \"type\": \"Type\",\n",
      "          \"_label\": \"brief texts\"\n",
      "        }\n",
      "      ],\n",
      "      \"content\": \"(Roy Lichtenstein Foundation, New York, New York); purchased by the Indianapolis Museum of Art in 2013.\"\n",
      "    }\n",
      "  ],\n",
      "  \"member_of\": [\n",
      "    {\n",
      "      \"id\": \"https://data.discovernewfields.org/82696/collection/907-Contemporary\",\n",
      "      \"type\": \"Set\",\n",
      "      \"_label\": \"Collection of IMA at Newfields' Contemporary Department\",\n",
      "      \"classified_as\": [\n",
      "        {\n",
      "          \"id\": \"http://vocab.getty.edu/aat/300025976\",\n",
      "          \"type\": \"Type\",\n",
      "          \"_label\": \"collections (object groupings)\"\n",
      "        }\n",
      "      ]\n",
      "    }\n",
      "  ],\n",
      "  \"subject_of\": [\n",
      "    {\n",
      "      \"id\": \"http://collection.imamuseum.org/artwork/82696\",\n",
      "      \"type\": \"LinguisticObject\",\n",
      "      \"_label\": \"Homepage for the Object\",\n",
      "      \"classified_as\": [\n",
      "        {\n",
      "          \"id\": \"http://vocab/getty.edu/aat/300264578\",\n",
      "          \"type\": \"Type\",\n",
      "          \"_label\": \"Web pages (documents)\"\n",
      "        },\n",
      "        {\n",
      "          \"id\": \"http://vocab.getty.edu/aat/300266277\",\n",
      "          \"type\": \"Type\",\n",
      "          \"_label\": \"home pages\"\n",
      "        }\n",
      "      ],\n",
      "      \"format\": \"text/html\"\n",
      "    }\n",
      "  ],\n",
      "  \"produced_by\": {\n",
      "    \"id\": \"https://data.discovernewfields.org/82696/production\",\n",
      "    \"type\": \"Production\",\n",
      "    \"_label\": \"Production of the Object\",\n",
      "    \"timespan\": {\n",
      "      \"id\": \"https://data.discovernewfields.org/82696/production/timespan\",\n",
      "      \"type\": \"TimeSpan\",\n",
      "      \"_label\": \"fabricated 2012\",\n",
      "      \"begin_of_the_begin\": \"2012\",\n",
      "      \"end_of_the_end\": \"2012\"\n",
      "    },\n",
      "    \"carried_out_by\": [\n",
      "      {\n",
      "        \"id\": \"https://data.discovernewfields.org/Actor/613279\",\n",
      "        \"type\": \"Actor\",\n",
      "        \"_label\": \"Lichtenstein, Roy\"\n",
      "      }\n",
      "    ]\n",
      "  },\n",
      "  \"current_owner\": [\n",
      "    {\n",
      "      \"id\": \"http://vocab.getty.edu/ulan/500300517\",\n",
      "      \"type\": \"Group\",\n",
      "      \"_label\": \"Indianapolis Museum of Art at Newfields\",\n",
      "      \"classified_as\": [\n",
      "        {\n",
      "          \"id\": \"http://vocab.getty.edu/aat/300312281\",\n",
      "          \"type\": \"Type\",\n",
      "          \"_label\": \"museums (institutions)\"\n",
      "        }\n",
      "      ],\n",
      "      \"acquired_title_through\": [\n",
      "        {\n",
      "          \"id\": \"https://data.discovernewfields.org/82696/IMA-acquisition\",\n",
      "          \"type\": \"Acquisition\",\n",
      "          \"_label\": \"Acquisition of the Object\",\n",
      "          \"classified_as\": [\n",
      "            {\n",
      "              \"id\": \"http://vocab.getty.edu/aat/300157782\",\n",
      "              \"type\": \"Type\",\n",
      "              \"_label\": \"acquisition (collections management)\"\n",
      "            }\n",
      "          ],\n",
      "          \"timespan\": {\n",
      "            \"id\": \"https://data.discovernewfields.org/82696/IMA-acquisition/timespan\",\n",
      "            \"type\": \"TimeSpan\",\n",
      "            \"_label\": \"2013-12-12\",\n",
      "            \"begin_of_the_begin\": \"2013-12-12T00:00:00.000Z\",\n",
      "            \"end_of_the_end\": \"2013-12-12T00:00:00.000Z\"\n",
      "          },\n",
      "          \"took_place_at\": [\n",
      "            {\n",
      "              \"id\": \"http://vocab.getty.edu/tgn/7012924\",\n",
      "              \"type\": \"Place\",\n",
      "              \"_label\": \"Indianapolis, Indiana\"\n",
      "            }\n",
      "          ]\n",
      "        }\n",
      "      ]\n",
      "    }\n",
      "  ]\n",
      "}\n"
     ]
    }
   ],
   "source": [
    "print(factory.toString(objLA, compact=False))\n",
    "f = open(\"./data/ima/output/json/object_linkedart.json\", \"w\")\n",
    "f.write(factory.toString(objLA, compact=False))\n",
    "f.close() "
   ]
  },
  {
   "cell_type": "markdown",
   "id": "54563c1b",
   "metadata": {},
   "source": [
    "## 8. View the Linked Art JSON-LD file\n",
    "\n",
    "The final JSON-LD file for the selected object is available at:\n",
    "- [Selected Object as Linked Art](./data/ima/output/json/object_linkedart.json)\n",
    "\n",
    "View the JSON-LD in the [JSON-LD Playground](https://json-ld.org/playground)"
   ]
  },
  {
   "cell_type": "markdown",
   "id": "12b5e2f8",
   "metadata": {},
   "source": [
    "## 9. Transform All Artworks to Linked Art JSON-LD"
   ]
  },
  {
   "cell_type": "code",
   "execution_count": 46,
   "id": "517fc5aa",
   "metadata": {},
   "outputs": [],
   "source": [
    "for obj in allObjects:\n",
    "    objProp = createObjProp(obj,docProp)\n",
    "    \n",
    "    id = objProp[mapp.get(\"id\")]\n",
    "\n",
    "    object_uri = baseURI + id\n",
    "    objLA = createObjDesc(objProp,mapp,objTypes,object_uri)\n",
    "    text_file = open(\"./data/ima/output/json/all/\" + objProp[\"id\"] + \".json\", \"wt\")\n",
    "    n = text_file.write(factory.toString(objLA, compact=False))\n",
    "    text_file.close()"
   ]
  },
  {
   "cell_type": "markdown",
   "id": "0d651210",
   "metadata": {},
   "source": [
    "View directory listing of Linked Art JSON-LD files"
   ]
  },
  {
   "cell_type": "code",
   "execution_count": 47,
   "id": "b2b5c77b",
   "metadata": {},
   "outputs": [
    {
     "data": {
      "text/html": [
       "<a target='_new' href='./data/ima/output/json/all/1065.json'>1065.json</a>"
      ],
      "text/plain": [
       "<IPython.core.display.HTML object>"
      ]
     },
     "metadata": {},
     "output_type": "display_data"
    },
    {
     "data": {
      "text/html": [
       "<a target='_new' href='./data/ima/output/json/all/1032.json'>1032.json</a>"
      ],
      "text/plain": [
       "<IPython.core.display.HTML object>"
      ]
     },
     "metadata": {},
     "output_type": "display_data"
    },
    {
     "data": {
      "text/html": [
       "<a target='_new' href='./data/ima/output/json/all/46950.json'>46950.json</a>"
      ],
      "text/plain": [
       "<IPython.core.display.HTML object>"
      ]
     },
     "metadata": {},
     "output_type": "display_data"
    },
    {
     "data": {
      "text/html": [
       "<a target='_new' href='./data/ima/output/json/all/14365.json'>14365.json</a>"
      ],
      "text/plain": [
       "<IPython.core.display.HTML object>"
      ]
     },
     "metadata": {},
     "output_type": "display_data"
    },
    {
     "data": {
      "text/html": [
       "<a target='_new' href='./data/ima/output/json/all/67743.json'>67743.json</a>"
      ],
      "text/plain": [
       "<IPython.core.display.HTML object>"
      ]
     },
     "metadata": {},
     "output_type": "display_data"
    },
    {
     "data": {
      "text/html": [
       "<a target='_new' href='./data/ima/output/json/all/90817.json'>90817.json</a>"
      ],
      "text/plain": [
       "<IPython.core.display.HTML object>"
      ]
     },
     "metadata": {},
     "output_type": "display_data"
    },
    {
     "data": {
      "text/html": [
       "<a target='_new' href='./data/ima/output/json/all/21288.json'>21288.json</a>"
      ],
      "text/plain": [
       "<IPython.core.display.HTML object>"
      ]
     },
     "metadata": {},
     "output_type": "display_data"
    },
    {
     "data": {
      "text/html": [
       "<a target='_new' href='./data/ima/output/json/all/89163.json'>89163.json</a>"
      ],
      "text/plain": [
       "<IPython.core.display.HTML object>"
      ]
     },
     "metadata": {},
     "output_type": "display_data"
    },
    {
     "data": {
      "text/html": [
       "<a target='_new' href='./data/ima/output/json/all/92386.json'>92386.json</a>"
      ],
      "text/plain": [
       "<IPython.core.display.HTML object>"
      ]
     },
     "metadata": {},
     "output_type": "display_data"
    },
    {
     "data": {
      "text/html": [
       "<a target='_new' href='./data/ima/output/json/all/93739.json'>93739.json</a>"
      ],
      "text/plain": [
       "<IPython.core.display.HTML object>"
      ]
     },
     "metadata": {},
     "output_type": "display_data"
    },
    {
     "data": {
      "text/html": [
       "<a target='_new' href='./data/ima/output/json/all/68182.json'>68182.json</a>"
      ],
      "text/plain": [
       "<IPython.core.display.HTML object>"
      ]
     },
     "metadata": {},
     "output_type": "display_data"
    },
    {
     "data": {
      "text/html": [
       "<a target='_new' href='./data/ima/output/json/all/3521.json'>3521.json</a>"
      ],
      "text/plain": [
       "<IPython.core.display.HTML object>"
      ]
     },
     "metadata": {},
     "output_type": "display_data"
    },
    {
     "data": {
      "text/html": [
       "<a target='_new' href='./data/ima/output/json/all/47035.json'>47035.json</a>"
      ],
      "text/plain": [
       "<IPython.core.display.HTML object>"
      ]
     },
     "metadata": {},
     "output_type": "display_data"
    },
    {
     "data": {
      "text/html": [
       "<a target='_new' href='./data/ima/output/json/all/69063.json'>69063.json</a>"
      ],
      "text/plain": [
       "<IPython.core.display.HTML object>"
      ]
     },
     "metadata": {},
     "output_type": "display_data"
    },
    {
     "data": {
      "text/html": [
       "<a target='_new' href='./data/ima/output/json/all/14617.json'>14617.json</a>"
      ],
      "text/plain": [
       "<IPython.core.display.HTML object>"
      ]
     },
     "metadata": {},
     "output_type": "display_data"
    },
    {
     "data": {
      "text/html": [
       "<a target='_new' href='./data/ima/output/json/all/89368.json'>89368.json</a>"
      ],
      "text/plain": [
       "<IPython.core.display.HTML object>"
      ]
     },
     "metadata": {},
     "output_type": "display_data"
    },
    {
     "data": {
      "text/html": [
       "<a target='_new' href='./data/ima/output/json/all/37383.json'>37383.json</a>"
      ],
      "text/plain": [
       "<IPython.core.display.HTML object>"
      ]
     },
     "metadata": {},
     "output_type": "display_data"
    },
    {
     "data": {
      "text/html": [
       "<a target='_new' href='./data/ima/output/json/all/92158.json'>92158.json</a>"
      ],
      "text/plain": [
       "<IPython.core.display.HTML object>"
      ]
     },
     "metadata": {},
     "output_type": "display_data"
    },
    {
     "data": {
      "text/html": [
       "<a target='_new' href='./data/ima/output/json/all/92159.json'>92159.json</a>"
      ],
      "text/plain": [
       "<IPython.core.display.HTML object>"
      ]
     },
     "metadata": {},
     "output_type": "display_data"
    },
    {
     "data": {
      "text/html": [
       "<a target='_new' href='./data/ima/output/json/all/89369.json'>89369.json</a>"
      ],
      "text/plain": [
       "<IPython.core.display.HTML object>"
      ]
     },
     "metadata": {},
     "output_type": "display_data"
    },
    {
     "data": {
      "text/html": [
       "<a target='_new' href='./data/ima/output/json/all/16410.json'>16410.json</a>"
      ],
      "text/plain": [
       "<IPython.core.display.HTML object>"
      ]
     },
     "metadata": {},
     "output_type": "display_data"
    },
    {
     "data": {
      "text/html": [
       "<a target='_new' href='./data/ima/output/json/all/64017.json'>64017.json</a>"
      ],
      "text/plain": [
       "<IPython.core.display.HTML object>"
      ]
     },
     "metadata": {},
     "output_type": "display_data"
    },
    {
     "data": {
      "text/html": [
       "<a target='_new' href='./data/ima/output/json/all/89164.json'>89164.json</a>"
      ],
      "text/plain": [
       "<IPython.core.display.HTML object>"
      ]
     },
     "metadata": {},
     "output_type": "display_data"
    },
    {
     "data": {
      "text/html": [
       "<a target='_new' href='./data/ima/output/json/all/16168.json'>16168.json</a>"
      ],
      "text/plain": [
       "<IPython.core.display.HTML object>"
      ]
     },
     "metadata": {},
     "output_type": "display_data"
    },
    {
     "data": {
      "text/html": [
       "<a target='_new' href='./data/ima/output/json/all/69062.json'>69062.json</a>"
      ],
      "text/plain": [
       "<IPython.core.display.HTML object>"
      ]
     },
     "metadata": {},
     "output_type": "display_data"
    },
    {
     "data": {
      "text/html": [
       "<a target='_new' href='./data/ima/output/json/all/64628.json'>64628.json</a>"
      ],
      "text/plain": [
       "<IPython.core.display.HTML object>"
      ]
     },
     "metadata": {},
     "output_type": "display_data"
    },
    {
     "data": {
      "text/html": [
       "<a target='_new' href='./data/ima/output/json/all/3457.json'>3457.json</a>"
      ],
      "text/plain": [
       "<IPython.core.display.HTML object>"
      ]
     },
     "metadata": {},
     "output_type": "display_data"
    },
    {
     "data": {
      "text/html": [
       "<a target='_new' href='./data/ima/output/json/all/85257.json'>85257.json</a>"
      ],
      "text/plain": [
       "<IPython.core.display.HTML object>"
      ]
     },
     "metadata": {},
     "output_type": "display_data"
    },
    {
     "data": {
      "text/html": [
       "<a target='_new' href='./data/ima/output/json/all/17577.json'>17577.json</a>"
      ],
      "text/plain": [
       "<IPython.core.display.HTML object>"
      ]
     },
     "metadata": {},
     "output_type": "display_data"
    },
    {
     "data": {
      "text/html": [
       "<a target='_new' href='./data/ima/output/json/all/8407.json'>8407.json</a>"
      ],
      "text/plain": [
       "<IPython.core.display.HTML object>"
      ]
     },
     "metadata": {},
     "output_type": "display_data"
    },
    {
     "data": {
      "text/html": [
       "<a target='_new' href='./data/ima/output/json/all/64018.json'>64018.json</a>"
      ],
      "text/plain": [
       "<IPython.core.display.HTML object>"
      ]
     },
     "metadata": {},
     "output_type": "display_data"
    },
    {
     "data": {
      "text/html": [
       "<a target='_new' href='./data/ima/output/json/all/6136.json'>6136.json</a>"
      ],
      "text/plain": [
       "<IPython.core.display.HTML object>"
      ]
     },
     "metadata": {},
     "output_type": "display_data"
    },
    {
     "data": {
      "text/html": [
       "<a target='_new' href='./data/ima/output/json/all/92160.json'>92160.json</a>"
      ],
      "text/plain": [
       "<IPython.core.display.HTML object>"
      ]
     },
     "metadata": {},
     "output_type": "display_data"
    },
    {
     "data": {
      "text/html": [
       "<a target='_new' href='./data/ima/output/json/all/68903.json'>68903.json</a>"
      ],
      "text/plain": [
       "<IPython.core.display.HTML object>"
      ]
     },
     "metadata": {},
     "output_type": "display_data"
    },
    {
     "data": {
      "text/html": [
       "<a target='_new' href='./data/ima/output/json/all/24693.json'>24693.json</a>"
      ],
      "text/plain": [
       "<IPython.core.display.HTML object>"
      ]
     },
     "metadata": {},
     "output_type": "display_data"
    },
    {
     "data": {
      "text/html": [
       "<a target='_new' href='./data/ima/output/json/all/17425.json'>17425.json</a>"
      ],
      "text/plain": [
       "<IPython.core.display.HTML object>"
      ]
     },
     "metadata": {},
     "output_type": "display_data"
    },
    {
     "data": {
      "text/html": [
       "<a target='_new' href='./data/ima/output/json/all/24892.json'>24892.json</a>"
      ],
      "text/plain": [
       "<IPython.core.display.HTML object>"
      ]
     },
     "metadata": {},
     "output_type": "display_data"
    },
    {
     "data": {
      "text/html": [
       "<a target='_new' href='./data/ima/output/json/all/64019.json'>64019.json</a>"
      ],
      "text/plain": [
       "<IPython.core.display.HTML object>"
      ]
     },
     "metadata": {},
     "output_type": "display_data"
    },
    {
     "data": {
      "text/html": [
       "<a target='_new' href='./data/ima/output/json/all/63355.json'>63355.json</a>"
      ],
      "text/plain": [
       "<IPython.core.display.HTML object>"
      ]
     },
     "metadata": {},
     "output_type": "display_data"
    },
    {
     "data": {
      "text/html": [
       "<a target='_new' href='./data/ima/output/json/all/25098.json'>25098.json</a>"
      ],
      "text/plain": [
       "<IPython.core.display.HTML object>"
      ]
     },
     "metadata": {},
     "output_type": "display_data"
    },
    {
     "data": {
      "text/html": [
       "<a target='_new' href='./data/ima/output/json/all/89367.json'>89367.json</a>"
      ],
      "text/plain": [
       "<IPython.core.display.HTML object>"
      ]
     },
     "metadata": {},
     "output_type": "display_data"
    },
    {
     "data": {
      "text/html": [
       "<a target='_new' href='./data/ima/output/json/all/82696.json'>82696.json</a>"
      ],
      "text/plain": [
       "<IPython.core.display.HTML object>"
      ]
     },
     "metadata": {},
     "output_type": "display_data"
    },
    {
     "data": {
      "text/html": [
       "<a target='_new' href='./data/ima/output/json/all/1105.json'>1105.json</a>"
      ],
      "text/plain": [
       "<IPython.core.display.HTML object>"
      ]
     },
     "metadata": {},
     "output_type": "display_data"
    },
    {
     "data": {
      "text/html": [
       "<a target='_new' href='./data/ima/output/json/all/6855.json'>6855.json</a>"
      ],
      "text/plain": [
       "<IPython.core.display.HTML object>"
      ]
     },
     "metadata": {},
     "output_type": "display_data"
    },
    {
     "data": {
      "text/html": [
       "<a target='_new' href='./data/ima/output/json/all/68181.json'>68181.json</a>"
      ],
      "text/plain": [
       "<IPython.core.display.HTML object>"
      ]
     },
     "metadata": {},
     "output_type": "display_data"
    },
    {
     "data": {
      "text/html": [
       "<a target='_new' href='./data/ima/output/json/all/52481.json'>52481.json</a>"
      ],
      "text/plain": [
       "<IPython.core.display.HTML object>"
      ]
     },
     "metadata": {},
     "output_type": "display_data"
    },
    {
     "data": {
      "text/html": [
       "<a target='_new' href='./data/ima/output/json/all/92384.json'>92384.json</a>"
      ],
      "text/plain": [
       "<IPython.core.display.HTML object>"
      ]
     },
     "metadata": {},
     "output_type": "display_data"
    },
    {
     "data": {
      "text/html": [
       "<a target='_new' href='./data/ima/output/json/all/81052.json'>81052.json</a>"
      ],
      "text/plain": [
       "<IPython.core.display.HTML object>"
      ]
     },
     "metadata": {},
     "output_type": "display_data"
    },
    {
     "data": {
      "text/html": [
       "<a target='_new' href='./data/ima/output/json/all/21137.json'>21137.json</a>"
      ],
      "text/plain": [
       "<IPython.core.display.HTML object>"
      ]
     },
     "metadata": {},
     "output_type": "display_data"
    },
    {
     "data": {
      "text/html": [
       "<a target='_new' href='./data/ima/output/json/all/16356.json'>16356.json</a>"
      ],
      "text/plain": [
       "<IPython.core.display.HTML object>"
      ]
     },
     "metadata": {},
     "output_type": "display_data"
    },
    {
     "data": {
      "text/html": [
       "<a target='_new' href='./data/ima/output/json/all/41018.json'>41018.json</a>"
      ],
      "text/plain": [
       "<IPython.core.display.HTML object>"
      ]
     },
     "metadata": {},
     "output_type": "display_data"
    },
    {
     "data": {
      "text/html": [
       "<a target='_new' href='./data/ima/output/json/all/20419.json'>20419.json</a>"
      ],
      "text/plain": [
       "<IPython.core.display.HTML object>"
      ]
     },
     "metadata": {},
     "output_type": "display_data"
    },
    {
     "data": {
      "text/html": [
       "<a target='_new' href='./data/ima/output/json/all/51330.json'>51330.json</a>"
      ],
      "text/plain": [
       "<IPython.core.display.HTML object>"
      ]
     },
     "metadata": {},
     "output_type": "display_data"
    },
    {
     "data": {
      "text/html": [
       "<a target='_new' href='./data/ima/output/json/all/41019.json'>41019.json</a>"
      ],
      "text/plain": [
       "<IPython.core.display.HTML object>"
      ]
     },
     "metadata": {},
     "output_type": "display_data"
    },
    {
     "data": {
      "text/html": [
       "<a target='_new' href='./data/ima/output/json/all/92385.json'>92385.json</a>"
      ],
      "text/plain": [
       "<IPython.core.display.HTML object>"
      ]
     },
     "metadata": {},
     "output_type": "display_data"
    },
    {
     "data": {
      "text/html": [
       "<a target='_new' href='./data/ima/output/json/all/55312.json'>55312.json</a>"
      ],
      "text/plain": [
       "<IPython.core.display.HTML object>"
      ]
     },
     "metadata": {},
     "output_type": "display_data"
    },
    {
     "data": {
      "text/html": [
       "<a target='_new' href='./data/ima/output/json/all/68180.json'>68180.json</a>"
      ],
      "text/plain": [
       "<IPython.core.display.HTML object>"
      ]
     },
     "metadata": {},
     "output_type": "display_data"
    },
    {
     "data": {
      "text/html": [
       "<a target='_new' href='./data/ima/output/json/all/49409.json'>49409.json</a>"
      ],
      "text/plain": [
       "<IPython.core.display.HTML object>"
      ]
     },
     "metadata": {},
     "output_type": "display_data"
    },
    {
     "data": {
      "text/html": [
       "<a target='_new' href='./data/ima/output/json/all/33886.json'>33886.json</a>"
      ],
      "text/plain": [
       "<IPython.core.display.HTML object>"
      ]
     },
     "metadata": {},
     "output_type": "display_data"
    }
   ],
   "source": [
    "import os\n",
    "from IPython.core.display import display, HTML\n",
    "\n",
    "\n",
    "def fn():       # 1.Get file names from directory\n",
    "    file_list=os.listdir(r\"./data/ima/output/json/all/\")\n",
    "   \n",
    "    for file in file_list:\n",
    "        display(HTML(\"<a target='_new' href='./data/ima/output/json/all/\" + file +\"'>\" + file + \"</a>\"))\n",
    "    \n",
    "fn()"
   ]
  },
  {
   "cell_type": "markdown",
   "id": "e6ae75a0",
   "metadata": {},
   "source": [
    "## 10. Next Steps"
   ]
  },
  {
   "cell_type": "markdown",
   "id": "d501a51c",
   "metadata": {},
   "source": [
    "Visit the [Linked Art community website](https://linked.art) for further information on the data model and community activities."
   ]
  },
  {
   "cell_type": "code",
   "execution_count": 71,
   "id": "128c9ced",
   "metadata": {},
   "outputs": [],
   "source": [
    "def write2file(filename, obj):\n",
    "    # write to file\n",
    "    f = open(\"./data/ima/output/json/\" + filename + \".json\", \"w\")\n",
    "    f.write(json.dumps(obj, indent=2))\n",
    "    f.close() \n",
    "     "
   ]
  },
  {
   "cell_type": "code",
   "execution_count": null,
   "id": "735b1f82",
   "metadata": {},
   "outputs": [],
   "source": []
  }
 ],
 "metadata": {
  "celltoolbar": "Tags",
  "interpreter": {
   "hash": "40d3a090f54c6569ab1632332b64b2c03c39dcf918b08424e98f38b5ae0af88f"
  },
  "kernelspec": {
   "display_name": "Python 3",
   "language": "python",
   "name": "python3"
  },
  "language_info": {
   "codemirror_mode": {
    "name": "ipython",
    "version": 3
   },
   "file_extension": ".py",
   "mimetype": "text/x-python",
   "name": "python",
   "nbconvert_exporter": "python",
   "pygments_lexer": "ipython3",
   "version": "3.8.8"
  }
 },
 "nbformat": 4,
 "nbformat_minor": 5
}
