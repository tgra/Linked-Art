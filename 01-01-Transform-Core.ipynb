{
 "cells": [
  {
   "cell_type": "code",
   "execution_count": 17,
   "id": "1719c202",
   "metadata": {},
   "outputs": [],
   "source": [
    "try:    \n",
    "    import json\n",
    "except:\n",
    "    !pip install json\n",
    "    import json\n",
    "    \n",
    "try:\n",
    "    import IPython\n",
    "except:\n",
    "    !pip install IPython\n",
    "    import IPython   \n",
    "    \n",
    "from IPython.display import display,IFrame,HTML"
   ]
  },
  {
   "cell_type": "markdown",
   "id": "54672f5a",
   "metadata": {},
   "source": [
    "## Introduction \n",
    "This notebook steps through the creation of core properties that are required for a Linked Art representation in JSON-LD. \n",
    "\n",
    "If you would like background information on Linked Dat, JSON-LD, Linked Art and/or Jupyter notebooks, please view the following videos:\n",
    "- Linked Data - https://www.youtube.com/watch?v=4x_xzT5eF5Q\n",
    "- JSON-LD - https://www.youtube.com/watch?v=vioCbTo3C-4\n",
    "- Linked Art - https://www.youtube.com/watch?v=lDbasKNtWM8\n",
    "- Jupyter notebooks - https://www.youtube.com/watch?v=jZ952vChhuI\n",
    "\n",
    "Further to exploring this notebook you may decide that you would like to explore another more in-depth Linked Art Jupyter notebook, available at https://github.com/tgra/Linked-Art."
   ]
  },
  {
   "cell_type": "markdown",
   "id": "fc808fff",
   "metadata": {},
   "source": [
    "## Creating a Linked Art Representation of an Artwork\n",
    "\n",
    "The notebook will step you through the creation of a simple Linked Art JSON-LD serialization including the core properties that every resource should have for it to be a useful part of the world of Linked Open Data:\n",
    "\n",
    "* `@context` \n",
    "* `id` \n",
    "* `type` \n",
    "* `_label`\n",
    "\n",
    "After each step the JSON-LD file will be displayed."
   ]
  },
  {
   "cell_type": "markdown",
   "id": "d1b467ea",
   "metadata": {},
   "source": [
    "## Linked Art - Core Property - @context\n",
    "\n",
    "`@context` is a reference to the context mapping which determines how to interpret the JSON as Linked Open Data. \n",
    "\n",
    "It is not a property of the entity being described, but of the document. It must be present.\n",
    "\n",
    "The @context value for Linked Art is `https://linked.art/ns/v1/linked-art.json`."
   ]
  },
  {
   "cell_type": "code",
   "execution_count": 18,
   "id": "5ea2f6ed",
   "metadata": {},
   "outputs": [
    {
     "name": "stdout",
     "output_type": "stream",
     "text": [
      "{\n",
      "  \"@context\": \"https://linked.art/ns/v1/linked-art.json\"\n",
      "}\n"
     ]
    }
   ],
   "source": [
    "# dictionary to hold values \n",
    "doc = {\"@context\": \"https://linked.art/ns/v1/linked-art.json\"}\n",
    "\n",
    "print(json.dumps(doc,indent=2))"
   ]
  },
  {
   "cell_type": "markdown",
   "id": "ffb23f44",
   "metadata": {},
   "source": [
    "## Linked Art - Core Property - id\n",
    "\n",
    "`id` captures the URI that identifies the object.  Every resource must have exactly one id, and it must be an HTTP URI. \n",
    "\n",
    "Persistent URIs are a key requirement of Linked Data and consequently Linked Art.\n"
   ]
  },
  {
   "cell_type": "code",
   "execution_count": null,
   "id": "a429b996",
   "metadata": {},
   "outputs": [],
   "source": [
    "uri = input(\"Enter a URI to identify the object,  e.g. https://linked.art/example/object/19:\\nURI value:\")\n",
    "doc[\"id\"] = uri\n",
    "print(\"\\n\\nThe URI entered is assigned to the 'id' property\\n\")\n",
    "print(json.dumps(doc,indent=2))"
   ]
  },
  {
   "cell_type": "markdown",
   "id": "a4c9d2b7",
   "metadata": {},
   "source": [
    "## Linked Art - Core Property - type\n",
    "`type` captures the class of the object, or `rdf:type` in RDF. \n",
    "\n",
    "- Every resource must have exactly one class. \n"
   ]
  },
  {
   "cell_type": "code",
   "execution_count": 15,
   "id": "6c0fcecc",
   "metadata": {},
   "outputs": [
    {
     "name": "stdout",
     "output_type": "stream",
     "text": [
      "Enter a type e.g. HumanMadeObject:\n",
      "ad\n",
      "\n",
      "\n",
      "The class entered is assigned to the 'type' property\n",
      "\n",
      "{\n",
      "  \"@context\": \"https://linked.art/ns/v1/linked-art.json\",\n",
      "  \"id\": \"asdf\",\n",
      "  \"type\": \"ad\"\n",
      "}\n"
     ]
    }
   ],
   "source": [
    "obj_type = input(\"Enter a type e.g. HumanMadeObject:\\n\")\n",
    "doc[\"type\"] = obj_type\n",
    "\n",
    "print(\"\\n\\nThe class entered is assigned to the 'type' property\\n\")\n",
    "print(json.dumps(doc,indent=2))"
   ]
  },
  {
   "cell_type": "markdown",
   "id": "3831c81f",
   "metadata": {},
   "source": [
    "## Linked Art - Core Property -_label\n",
    "`_label` captures a human readable label as a string, intended for developers or other people reading the data to understand what they are looking at.  \n",
    "\n",
    "- Every resource should have exactly one label, and must not have more than one.\n",
    "- The value is a string, and does not have a language associated with it.\n"
   ]
  },
  {
   "cell_type": "code",
   "execution_count": 16,
   "id": "00c366e9",
   "metadata": {},
   "outputs": [
    {
     "name": "stdout",
     "output_type": "stream",
     "text": [
      "Enter a label for the object:\n",
      "afd\n",
      "\n",
      "\n",
      "The value entered is assigned to the '_label' property\n",
      "\n",
      "{\n",
      "  \"@context\": \"https://linked.art/ns/v1/linked-art.json\",\n",
      "  \"id\": \"asdf\",\n",
      "  \"type\": \"ad\",\n",
      "  \"_label\": \"afd\"\n",
      "}\n"
     ]
    }
   ],
   "source": [
    "label = input(\"Enter a label for the object:\\n\")\n",
    "doc[\"_label\"] = label\n",
    "print(\"\\n\\nThe value entered is assigned to the '_label' property\\n\")\n",
    "print(json.dumps(doc,indent=2))"
   ]
  },
  {
   "cell_type": "markdown",
   "id": "902bc366",
   "metadata": {},
   "source": [
    "# Next Steps"
   ]
  },
  {
   "cell_type": "markdown",
   "id": "56b2dacc",
   "metadata": {},
   "source": [
    "- Visualisation the JSON-LD at https://json-ld.org/playground/\n",
    "- Explore other Linked Art notebooks at https://github.com/tgra/Linked-Art\n",
    "- Learn more about Linked Art at https://linked.art\n"
   ]
  }
 ],
 "metadata": {
  "interpreter": {
   "hash": "5ae89e4d967d29a9008e054a0e5513a4b448c7e95ec190ab799cd425d2aae31b"
  },
  "kernelspec": {
   "display_name": "Python 3",
   "language": "python",
   "name": "python3"
  },
  "language_info": {
   "codemirror_mode": {
    "name": "ipython",
    "version": 3
   },
   "file_extension": ".py",
   "mimetype": "text/x-python",
   "name": "python",
   "nbconvert_exporter": "python",
   "pygments_lexer": "ipython3",
   "version": "3.8.8"
  }
 },
 "nbformat": 4,
 "nbformat_minor": 5
}
