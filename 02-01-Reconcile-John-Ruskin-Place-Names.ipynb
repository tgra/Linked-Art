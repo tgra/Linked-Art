{
 "cells": [
  {
   "cell_type": "code",
   "execution_count": 23,
   "id": "71b1833f",
   "metadata": {
    "slideshow": {
     "slide_type": "skip"
    }
   },
   "outputs": [
    {
     "data": {
      "text/plain": [
       "'Adding style properties to notebook'"
      ]
     },
     "metadata": {},
     "output_type": "display_data"
    },
    {
     "data": {
      "text/html": [
       "<style>div {\n",
       "font-family:Open Sans,sans-serif;}\n",
       "h1 {color:white;background-color: #446a7f;padding:10px}\n",
       "h2{color:black; background-color:#b3b6a0; padding:10px}\n",
       "h3{color:#78BE21; background-color:#446a7f; padding:10px}\n",
       "h4{color:white; background-color:#78BE21;padding:5px}\n",
       ".info{background-color:}\n",
       "img {border: 3px solid #446a7f;}\n",
       "</style>"
      ],
      "text/plain": [
       "<IPython.core.display.HTML object>"
      ]
     },
     "execution_count": 23,
     "metadata": {},
     "output_type": "execute_result"
    }
   ],
   "source": [
    "try:\n",
    "    import IPython\n",
    "except:\n",
    "    !pip install IPython\n",
    "    import IPython \n",
    "\n",
    "from IPython.core.display import HTML\n",
    "\n",
    "display(\"Adding style properties to notebook\")\n",
    "\n",
    "HTML(\"\"\"<style>div {\n",
    "font-family:Open Sans,sans-serif;}\n",
    "h1 {color:white;background-color: #446a7f;padding:10px}\n",
    "h2{color:black; background-color:#b3b6a0; padding:10px}\n",
    "h3{color:#78BE21; background-color:#446a7f; padding:10px}\n",
    "h4{color:white; background-color:#78BE21;padding:5px}\n",
    ".info{background-color:}\n",
    "img {border: 3px solid #446a7f;}\n",
    "</style>\"\"\")"
   ]
  },
  {
   "cell_type": "markdown",
   "id": "302c49d7",
   "metadata": {
    "slideshow": {
     "slide_type": "slide"
    }
   },
   "source": [
    "\n",
    "<h1>Enriching Collections Data with Data Reconciliation and Linked Art</h1>\n",
    "\n",
    "The Linked Art reconciliation exemplar provides a step through the process of reconciling geographical place names that occur in the title of artworks by the artist, John Ruskin, to enrich collections data with an additional representation of the geographical coordinates of the place depicted in the artworks. \n",
    "\n",
    "From Wikipedia:\n",
    "\n",
    "<blockquote>\"John Ruskin (8 February 1819 – 20 January 1900) was an English writer, philosopher, art critic and polymath of the Victorian era. He wrote on subjects as varied as geology, architecture, myth, ornithology, literature, education, botany and political economy.\"</blockquote>\n",
    "\n",
    "John Ruskin travelled extensively in Europe and was a prolific artist, creating drawings of paintings whose titles often included place names for the locations depicted. \n",
    "\n",
    "#### Artwork Title contains Place Name\n",
    "The title of the artworks has been recorded in the title field in many of the collection data records , and this has been used as the basis for the reconciliation process shown here.\n",
    "\n",
    "#### OpenRefine Tool to Reconcile Data\n",
    "The place names are reconciled with the <a href=\"https://www.getty.edu/research/tools/vocabularies/tgn/\">Getty Thesaurus of Geographic Names (TGN)</a>, using the <a href=\"https://openrefine.org/\">Open Refine</a> tool.\n",
    "\n",
    "#### The Getty Thesaurus of Geographic Names (TGN)\n",
    "Reconciliation with the <a href=\"https://www.getty.edu/research/tools/vocabularies/tgn/\">Getty Thesaurus of Geographic Names (TGN)</a> has allowed additional information to be associated with the artwork: \n",
    "- an authoritative global identifier for the geographical location depicted \n",
    "- geographical coordinates\n",
    "\n",
    "#### Input Data Files\n",
    "\n",
    "The input files are Linked Art files created with the <a href=\"https://github.com/tgra/Linked-Art/blob/main/01-06-Transform-John-Ruskin.ipynb\">`01-06-Transform-John-Ruskin`</a> Jupyter notebook.\n",
    "\n",
    "\n",
    "### Further Reading\n",
    "\n",
    "- The Getty Thesaurus of Geographic Names® Online (TGN) http://www.getty.edu/research/tools/vocabularies/tgn\n",
    "- John Ruskin Wikipedia entry https://en.wikipedia.org/wiki/John_Ruskin\n",
    "\n"
   ]
  },
  {
   "cell_type": "markdown",
   "id": "348d9614",
   "metadata": {
    "slideshow": {
     "slide_type": "slide"
    }
   },
   "source": [
    "## Reconciliation Process\n",
    "\n",
    "1. Create CSV file from Linked Art JSON-LD\n",
    "2. Identify place name in title\n",
    "3. Use OpenRefine to reconcile place names\n",
    "4. Define geolocation representation in Linked Art\n",
    "5. Add place name and coordinates into Linked Art JSON-LD files"
   ]
  },
  {
   "cell_type": "markdown",
   "id": "aec2095c",
   "metadata": {
    "slideshow": {
     "slide_type": "slide"
    }
   },
   "source": [
    "## 1. Create CSV file from Linked Art JSON-LD\n",
    "\n",
    "To reconcile the place names in the artwork titles\n",
    "- create a CSV file from the JSON-LD Linked Art files\n",
    "- CSV contains `id` and `_label` properties\n",
    "\n",
    "The script gets a list of all files in a selected directory using `os.listdir()` and iterates over them.\n",
    "\n",
    "- `json.load` is used to deserialize the Linked Art JSONLD file to a Python dictionary object. \n",
    " - json.loads uses the following conversion table https://docs.python.org/3/library/json.html#json-to-py-table  \n",
    "\n",
    "Finally, the script uses  `csv.DictWriter` \n",
    "- to create an object that maps the Python dictionary onto output rows. \n",
    "- `Dictwriter.writeheader()` writes a row with the field names (as specified in the constructor) to the writer’s file object. \n",
    "- `Dictwriter.writerows()` writes all elements in rows to the writer’s file object.\n",
    "\n",
    "\n",
    "#### Further Reading\n",
    "- os Python library https://docs.python.org/3/library/os.html\n",
    "- os.listdir() tutorial https://www.tutorialspoint.com/python/os_listdir.htm\n",
    "- json Python library https://docs.python.org/3/library/json.html\n",
    "- csv Python library https://docs.python.org/3/library/csv.html"
   ]
  },
  {
   "cell_type": "code",
   "execution_count": 39,
   "id": "81e0aaea",
   "metadata": {
    "slideshow": {
     "slide_type": "slide"
    }
   },
   "outputs": [],
   "source": [
    "# import relevant Python libraries\n",
    "\n",
    "try:\n",
    "    import os\n",
    "except:\n",
    "    %pip install os\n",
    "    import os\n",
    "\n",
    "try:\n",
    "    import json\n",
    "except:\n",
    "    %pip install json\n",
    "    import json \n",
    "    \n",
    "import csv\n",
    "\n",
    "# list holding a\n",
    "artworkCSV = []\n",
    "\n",
    "# Linked Art JSON-LD file location\n",
    "artworkFileDir = \"./data/ruskin/output/json/\"\n",
    "artworkFileList =os.listdir(artworkFileDir)\n",
    "\n",
    "# iterate over Linked Art JSON-LD files\n",
    "for artworkFile in artworkFileList:\n",
    "    # read file and append to \n",
    "    with open( artworkFileDir + artworkFile) as artworkFileContents:  \n",
    "        \n",
    "        # create json object `artwork` from file\n",
    "        artworkObjJSON = json.load(artworkFileContents)\n",
    "        \n",
    "        # check for \"_label\" property \n",
    "        if \"_label\" not in artworkObjJSON:\n",
    "            continue\n",
    "            \n",
    "        # append artwork properties to artwork JSON object\n",
    "        artworkCSV.append( {      \n",
    "            \"id\": artworkObjJSON[\"id\"], \n",
    "            \"place\" : artworkObjJSON[\"_label\"], \n",
    "            \"place_modified\": \" \", \n",
    "            \"coords\": \" \"\n",
    "            })\n",
    "\n",
    "# end loop\n",
    "        \n",
    "        \n",
    "# create CSV file\n",
    "artworkCsvFile = \"./data/ruskin/ruskin-places.csv\" # file location\n",
    "\n",
    "with open(artworkCsvFile, 'w') as f: \n",
    "    # write column headings\n",
    "    w = csv.DictWriter(f, [\"id\",\"place\",\"place_modified\",\"coords\"])\n",
    "    w.writeheader()\n",
    "    # write rows with artwork properties\n",
    "    w.writerows(artworkCSV)\n",
    "    "
   ]
  },
  {
   "cell_type": "markdown",
   "id": "5825b0e1",
   "metadata": {
    "slideshow": {
     "slide_type": "slide"
    }
   },
   "source": [
    "### Result - CSV File with Place Names\n",
    "\n",
    "The contents of the resulting CSV file are shown below for illustration.\n",
    "\n",
    "The CSV file is read into a `pandas` dataframe.  \n",
    "<blockquote>`Pandas` is a fast, powerful, flexible and easy to use open source data analysis and manipulation tool, built on top of the Python programming language. </blockquote>\n",
    "  \n",
    "  \n",
    "A `pandas dataframe` is a pandas data structure containing \n",
    "<blockquote>two-dimensional, size-mutable, potentially heterogeneous tabular data.</blockquote>\n",
    "\n",
    "The pandas dataframe allows easy manipulation of two-dimensional tabular data. \n",
    "\n",
    "The `IPython` library is also used to display the contents of the CSV file \n",
    "  \n",
    "#### Further Reading  \n",
    "- pandas  https://pandas.pydata.org/\n",
    "- pandas dataframe https://pandas.pydata.org/docs/reference/api/pandas.DataFrame.html\n",
    "- IPython use in Jupyter notebooks https://coderzcolumn.com/tutorials/python/how-to-display-contents-of-different-types-in-jupyter-notebook-lab"
   ]
  },
  {
   "cell_type": "code",
   "execution_count": 42,
   "id": "85365962",
   "metadata": {
    "slideshow": {
     "slide_type": "slide"
    }
   },
   "outputs": [
    {
     "data": {
      "text/html": [
       "<div>\n",
       "<style scoped>\n",
       "    .dataframe tbody tr th:only-of-type {\n",
       "        vertical-align: middle;\n",
       "    }\n",
       "\n",
       "    .dataframe tbody tr th {\n",
       "        vertical-align: top;\n",
       "    }\n",
       "\n",
       "    .dataframe thead th {\n",
       "        text-align: right;\n",
       "    }\n",
       "</style>\n",
       "<table border=\"1\" class=\"dataframe\">\n",
       "  <thead>\n",
       "    <tr style=\"text-align: right;\">\n",
       "      <th></th>\n",
       "      <th>id</th>\n",
       "      <th>place</th>\n",
       "      <th>place_modified</th>\n",
       "      <th>coords</th>\n",
       "    </tr>\n",
       "  </thead>\n",
       "  <tbody>\n",
       "    <tr>\n",
       "      <th>0</th>\n",
       "      <td>https://collections.ashmolean.org/collection/1...</td>\n",
       "      <td>Engraving of Ruskin's Drawing of the Petal Vau...</td>\n",
       "      <td></td>\n",
       "      <td></td>\n",
       "    </tr>\n",
       "    <tr>\n",
       "      <th>1</th>\n",
       "      <td>https://collections.ashmolean.org/collection/1...</td>\n",
       "      <td>Enlarged Study of a Prawn's Rostrum</td>\n",
       "      <td></td>\n",
       "      <td></td>\n",
       "    </tr>\n",
       "    <tr>\n",
       "      <th>2</th>\n",
       "      <td>https://www.harvardartmuseums.org/collections/...</td>\n",
       "      <td>Study of a Venetian Capital</td>\n",
       "      <td></td>\n",
       "      <td></td>\n",
       "    </tr>\n",
       "    <tr>\n",
       "      <th>3</th>\n",
       "      <td>https://collections.ashmolean.org/collection/1...</td>\n",
       "      <td>Autumnal Cloud filling the Valley of Geneva, t...</td>\n",
       "      <td></td>\n",
       "      <td></td>\n",
       "    </tr>\n",
       "    <tr>\n",
       "      <th>4</th>\n",
       "      <td>https://collections.ashmolean.org/collection/1...</td>\n",
       "      <td>Axmouth Landslip from Dolands Farm</td>\n",
       "      <td></td>\n",
       "      <td></td>\n",
       "    </tr>\n",
       "    <tr>\n",
       "      <th>...</th>\n",
       "      <td>...</td>\n",
       "      <td>...</td>\n",
       "      <td>...</td>\n",
       "      <td>...</td>\n",
       "    </tr>\n",
       "    <tr>\n",
       "      <th>274</th>\n",
       "      <td>https://collections.ashmolean.org/collection/1...</td>\n",
       "      <td>The Head of a Kite, from Life</td>\n",
       "      <td></td>\n",
       "      <td></td>\n",
       "    </tr>\n",
       "    <tr>\n",
       "      <th>275</th>\n",
       "      <td>https://www.harvardartmuseums.org/collections/...</td>\n",
       "      <td>Part of a Sketch of the Northwest Porch of St....</td>\n",
       "      <td></td>\n",
       "      <td></td>\n",
       "    </tr>\n",
       "    <tr>\n",
       "      <th>276</th>\n",
       "      <td>http://www.rijksmuseum.nl/nl/collectie/RP-T-19...</td>\n",
       "      <td>Gezicht op S. Anastasia te Verona, over de Adige</td>\n",
       "      <td></td>\n",
       "      <td></td>\n",
       "    </tr>\n",
       "    <tr>\n",
       "      <th>277</th>\n",
       "      <td>https://collections.ashmolean.org/collection/2...</td>\n",
       "      <td>Architectural detail: stone bracket</td>\n",
       "      <td></td>\n",
       "      <td></td>\n",
       "    </tr>\n",
       "    <tr>\n",
       "      <th>278</th>\n",
       "      <td>https://collections.ashmolean.org/collection/1...</td>\n",
       "      <td>Study of the Marble Inlaying on the Front of t...</td>\n",
       "      <td></td>\n",
       "      <td></td>\n",
       "    </tr>\n",
       "  </tbody>\n",
       "</table>\n",
       "<p>279 rows × 4 columns</p>\n",
       "</div>"
      ],
      "text/plain": [
       "                                                    id  \\\n",
       "0    https://collections.ashmolean.org/collection/1...   \n",
       "1    https://collections.ashmolean.org/collection/1...   \n",
       "2    https://www.harvardartmuseums.org/collections/...   \n",
       "3    https://collections.ashmolean.org/collection/1...   \n",
       "4    https://collections.ashmolean.org/collection/1...   \n",
       "..                                                 ...   \n",
       "274  https://collections.ashmolean.org/collection/1...   \n",
       "275  https://www.harvardartmuseums.org/collections/...   \n",
       "276  http://www.rijksmuseum.nl/nl/collectie/RP-T-19...   \n",
       "277  https://collections.ashmolean.org/collection/2...   \n",
       "278  https://collections.ashmolean.org/collection/1...   \n",
       "\n",
       "                                                 place place_modified coords  \n",
       "0    Engraving of Ruskin's Drawing of the Petal Vau...                        \n",
       "1                  Enlarged Study of a Prawn's Rostrum                        \n",
       "2                          Study of a Venetian Capital                        \n",
       "3    Autumnal Cloud filling the Valley of Geneva, t...                        \n",
       "4                   Axmouth Landslip from Dolands Farm                        \n",
       "..                                                 ...            ...    ...  \n",
       "274                      The Head of a Kite, from Life                        \n",
       "275  Part of a Sketch of the Northwest Porch of St....                        \n",
       "276   Gezicht op S. Anastasia te Verona, over de Adige                        \n",
       "277                Architectural detail: stone bracket                        \n",
       "278  Study of the Marble Inlaying on the Front of t...                        \n",
       "\n",
       "[279 rows x 4 columns]"
      ]
     },
     "metadata": {},
     "output_type": "display_data"
    }
   ],
   "source": [
    "try:\n",
    "    import pandas as pd\n",
    "except:\n",
    "    %pip install pandas\n",
    "    import pandas as pd\n",
    "\n",
    "try:\n",
    "    import IPython\n",
    "except:\n",
    "    %pip install IPython\n",
    "    import IPython   \n",
    "    \n",
    "from IPython.display import display, HTML, Javascript\n",
    "\n",
    " # CSV file location\n",
    "artworkCsvFile = \"./data/ruskin/ruskin-places.csv\"\n",
    "\n",
    "# read CSV file into pandas dataframe \n",
    "dataFrame = pd.read_csv(artworkCsvFile,low_memory=False)\n",
    "\n",
    "# define how many columns and rows to display == all\n",
    "pd.options.display.max_columns = len(dataFrame.columns)\n",
    "#pd.options.display.max_rows = len(dataFrame.index)\n",
    "\n",
    "# use IPython display to display the  contents of CSV file\n",
    "display(dataFrame)"
   ]
  },
  {
   "cell_type": "markdown",
   "id": "931ce294",
   "metadata": {
    "slideshow": {
     "slide_type": "slide"
    }
   },
   "source": [
    "## 2. Identify Place Names in Title\n",
    "\n",
    "Next, get place name from artwork title\n",
    "- extract possible place names from the artwork title field, to help with the reconciliation process. \n",
    "- a list of possible place names is used to help identify place names in the field. \n",
    "- add extracted place names to `place_modified` column \n",
    "- update CSV file\n",
    "\n",
    "A list of place names `placeNames` is created to help with extracting place names from the artwork title. This was produced further to a review of the values in the place column.\n",
    "\n",
    "\n"
   ]
  },
  {
   "cell_type": "code",
   "execution_count": 47,
   "id": "bdcc6a8f",
   "metadata": {
    "slideshow": {
     "slide_type": "slide"
    }
   },
   "outputs": [],
   "source": [
    "artworkCsvFile = \"./data/ruskin/ruskin-places.csv\" # file location\n",
    "\n",
    "\n",
    "# read CSV file into pandas dataframe\n",
    "dataFrame = pd.read_csv(artworkCsvFile,low_memory=False)\n",
    "\n",
    "\n",
    "# A list of place names `placeNames` is created to help with extracting place names from the artwork title.\n",
    "placeNames = [\n",
    "\"Florence\",\"Bologna\",\"Lucca\",\"Alps\",\"Oxford\",\"Rome\",  \"Venice\",\"Fribourg\",\"Neuchâtel\",\"Sestri\",\"Visp\",\"Chamonix\",\n",
    "\"Abbeville\",\"Schaffhausen\",\"Verona\",\"Vorarlberg\",\"Baden\",\"Schaffhausen\",\"Faido\",\"Normandy\",\"Genève\",\"Geneva\",\n",
    "\"Gloucester\",\"Basel\",\"Luzern\",\"Padua\",\"Habsburg\",\"Rhine\",\"Zug\",\"Aix-la-Chapelle\",\"Siena\",\"Mont Blanc\",\"Lago di Como\",\n",
    "\"Bellinzona\",\"Lake of Lecco\",\"Axmouth\",\n",
    "\"Bourges\",\n",
    "\"Brenner\",\n",
    "\"Chelsea\",\n",
    "\"Genève\",\n",
    "\"Heysham\",\n",
    "\"Kempten\",\n",
    "\"Lauterbrunnen\",\n",
    "\"Lecco\",\n",
    "\"Mont Cenis\",\n",
    "\"Palazzo Dandolo\",\n",
    "\"Ponte Vecchio\",\n",
    "\"Rietz\",\n",
    "\"Rouen\",\n",
    "\"Saint Stefano\",\n",
    "\"Saint-Martin-sur-Arve\",\n",
    "\"Vevay\",\n",
    "  \n",
    "]\n",
    "\n",
    "places = {\n",
    "        \"Venezia\":[\"Venice\",\"Venetian\",\"St Mark\",\"St. Mark\"],\n",
    "         \n",
    "         \"London\": [\"Westminster\", \"Chelsea\"]}\n",
    "\n",
    "\n",
    "\n",
    "# iterate over dataframe\n",
    "for index,row in dataFrame.iterrows():\n",
    "    \n",
    "    # iterate over place names\n",
    "    # check if any place name in placesNames is present in row\n",
    "    for place in placeNames:\n",
    "        # if place name found, add to place_modified column\n",
    "        if place in row[\"place\"]:\n",
    "            dataFrame.at[index,\"place_modified\"] = place\n",
    "    \n",
    "    # iterate over place names for Venice\n",
    "    for place in places[\"Venezia\"]:\n",
    "        # if place found add `Venezia` to place_modified column\n",
    "        if place in row[\"place\"]:\n",
    "            dataFrame.at[index,\"place_modified\"] = \"Venezia\"\n",
    "\n",
    "            \n",
    "# remove records where place_modified is blank\n",
    "dataFrame = dataFrame[dataFrame.place_modified != \" \"]\n",
    "dataFrame.to_csv(artworkCsvFile, index=False) \n"
   ]
  },
  {
   "cell_type": "markdown",
   "id": "d0814adc",
   "metadata": {
    "slideshow": {
     "slide_type": "slide"
    }
   },
   "source": [
    "### Result - CSV File containing Place Name for use in OpenRefine\n",
    "\n",
    "The result of this process is a CSV file with the column `place_modified` containing a place name string that will be used for reconciliation in the OpenRefine tool.\n",
    "\n",
    "Records where a place name has not be identified have been removed from the CSV file."
   ]
  },
  {
   "cell_type": "code",
   "execution_count": 48,
   "id": "5dfbd5dd",
   "metadata": {},
   "outputs": [
    {
     "data": {
      "text/html": [
       "<div>\n",
       "<style scoped>\n",
       "    .dataframe tbody tr th:only-of-type {\n",
       "        vertical-align: middle;\n",
       "    }\n",
       "\n",
       "    .dataframe tbody tr th {\n",
       "        vertical-align: top;\n",
       "    }\n",
       "\n",
       "    .dataframe thead th {\n",
       "        text-align: right;\n",
       "    }\n",
       "</style>\n",
       "<table border=\"1\" class=\"dataframe\">\n",
       "  <thead>\n",
       "    <tr style=\"text-align: right;\">\n",
       "      <th></th>\n",
       "      <th>id</th>\n",
       "      <th>place</th>\n",
       "      <th>place_modified</th>\n",
       "      <th>coords</th>\n",
       "    </tr>\n",
       "  </thead>\n",
       "  <tbody>\n",
       "    <tr>\n",
       "      <th>0</th>\n",
       "      <td>https://www.harvardartmuseums.org/collections/...</td>\n",
       "      <td>Study of a Venetian Capital</td>\n",
       "      <td>Venezia</td>\n",
       "      <td></td>\n",
       "    </tr>\n",
       "    <tr>\n",
       "      <th>1</th>\n",
       "      <td>https://collections.ashmolean.org/collection/1...</td>\n",
       "      <td>Autumnal Cloud filling the Valley of Geneva, t...</td>\n",
       "      <td>Geneva</td>\n",
       "      <td></td>\n",
       "    </tr>\n",
       "    <tr>\n",
       "      <th>2</th>\n",
       "      <td>https://collections.ashmolean.org/collection/1...</td>\n",
       "      <td>Axmouth Landslip from Dolands Farm</td>\n",
       "      <td>Axmouth</td>\n",
       "      <td></td>\n",
       "    </tr>\n",
       "    <tr>\n",
       "      <th>3</th>\n",
       "      <td>https://www.harvardartmuseums.org/collections/...</td>\n",
       "      <td>Tom Tower, Christ Church, Oxford</td>\n",
       "      <td>Oxford</td>\n",
       "      <td></td>\n",
       "    </tr>\n",
       "    <tr>\n",
       "      <th>4</th>\n",
       "      <td>https://www.harvardartmuseums.org/collections/...</td>\n",
       "      <td>Study of a Venetian Capital</td>\n",
       "      <td>Venezia</td>\n",
       "      <td></td>\n",
       "    </tr>\n",
       "    <tr>\n",
       "      <th>...</th>\n",
       "      <td>...</td>\n",
       "      <td>...</td>\n",
       "      <td>...</td>\n",
       "      <td>...</td>\n",
       "    </tr>\n",
       "    <tr>\n",
       "      <th>116</th>\n",
       "      <td>https://collections.ashmolean.org/collection/1...</td>\n",
       "      <td>Sketch of the Oak Spray in Mantegna's Fresco o...</td>\n",
       "      <td>Padua</td>\n",
       "      <td></td>\n",
       "    </tr>\n",
       "    <tr>\n",
       "      <th>117</th>\n",
       "      <td>https://www.nga.gov/collection/72870</td>\n",
       "      <td>The Garden of San Miniato near Florence</td>\n",
       "      <td>Florence</td>\n",
       "      <td></td>\n",
       "    </tr>\n",
       "    <tr>\n",
       "      <th>118</th>\n",
       "      <td>https://www.harvardartmuseums.org/collections/...</td>\n",
       "      <td>Part of a Sketch of the Northwest Porch of St....</td>\n",
       "      <td>Venezia</td>\n",
       "      <td></td>\n",
       "    </tr>\n",
       "    <tr>\n",
       "      <th>119</th>\n",
       "      <td>http://www.rijksmuseum.nl/nl/collectie/RP-T-19...</td>\n",
       "      <td>Gezicht op S. Anastasia te Verona, over de Adige</td>\n",
       "      <td>Verona</td>\n",
       "      <td></td>\n",
       "    </tr>\n",
       "    <tr>\n",
       "      <th>120</th>\n",
       "      <td>https://collections.ashmolean.org/collection/1...</td>\n",
       "      <td>Study of the Marble Inlaying on the Front of t...</td>\n",
       "      <td>Venezia</td>\n",
       "      <td></td>\n",
       "    </tr>\n",
       "  </tbody>\n",
       "</table>\n",
       "<p>121 rows × 4 columns</p>\n",
       "</div>"
      ],
      "text/plain": [
       "                                                    id  \\\n",
       "0    https://www.harvardartmuseums.org/collections/...   \n",
       "1    https://collections.ashmolean.org/collection/1...   \n",
       "2    https://collections.ashmolean.org/collection/1...   \n",
       "3    https://www.harvardartmuseums.org/collections/...   \n",
       "4    https://www.harvardartmuseums.org/collections/...   \n",
       "..                                                 ...   \n",
       "116  https://collections.ashmolean.org/collection/1...   \n",
       "117               https://www.nga.gov/collection/72870   \n",
       "118  https://www.harvardartmuseums.org/collections/...   \n",
       "119  http://www.rijksmuseum.nl/nl/collectie/RP-T-19...   \n",
       "120  https://collections.ashmolean.org/collection/1...   \n",
       "\n",
       "                                                 place place_modified coords  \n",
       "0                          Study of a Venetian Capital        Venezia         \n",
       "1    Autumnal Cloud filling the Valley of Geneva, t...         Geneva         \n",
       "2                   Axmouth Landslip from Dolands Farm        Axmouth         \n",
       "3                     Tom Tower, Christ Church, Oxford         Oxford         \n",
       "4                          Study of a Venetian Capital        Venezia         \n",
       "..                                                 ...            ...    ...  \n",
       "116  Sketch of the Oak Spray in Mantegna's Fresco o...          Padua         \n",
       "117            The Garden of San Miniato near Florence       Florence         \n",
       "118  Part of a Sketch of the Northwest Porch of St....        Venezia         \n",
       "119   Gezicht op S. Anastasia te Verona, over de Adige         Verona         \n",
       "120  Study of the Marble Inlaying on the Front of t...        Venezia         \n",
       "\n",
       "[121 rows x 4 columns]"
      ]
     },
     "metadata": {},
     "output_type": "display_data"
    }
   ],
   "source": [
    "artworkCsvFile = \"./data/ruskin/ruskin-places.csv\" # file location\n",
    "\n",
    "dataFrame = pd.read_csv(artworkCsvFile,low_memory=False)\n",
    "\n",
    "# display table for illustration\n",
    "display(dataFrame)"
   ]
  },
  {
   "cell_type": "markdown",
   "id": "a10d8ccc",
   "metadata": {
    "slideshow": {
     "slide_type": "slide"
    }
   },
   "source": [
    "## 3. Use OpenRefine to Reconcile Place Names\n",
    "\n",
    "Next\n",
    "- use OpenRefine to match the values in the place_modified field, with place names in the name authority, The Getty Thesaurus of Geographic Names® Online (TGN).\n",
    "\n",
    "`OpenRefine` is a tool for working with messy data, and includes support for reconciliation with external data such as name authorities.\n",
    "\n",
    "`The Getty Thesaurus of Geographic Names® Online (TGN)` is one of several Getty Vocabularies that provide a structured resource that can be used to improve access to information about art, architecture, and material culture. From the website:\n",
    "\n",
    "<blockquote>Through rich metadata and links, the Getty Vocabularies provide powerful conduits for knowledge creation, research, and discovery for digital art history and related disciplines.\n",
    "\n",
    "TGN is a thesaurus. TGN is not a geographic information system (GIS), although it may be linked to existing major, general-purpose, geographic databases and maps. While most records in TGN include coordinates, these coordinates are approximate and are intended for reference (\"finding purposes\") only (as is true of coordinates in most atlases and other resources, including NGA (formerly NIMA) databases).\n",
    "\n",
    "</blockquote>\n",
    "\n",
    "\n",
    "#### Further Reading\n",
    "\n",
    "- OpenRefine https://openrefine.org/\n",
    "- The Getty Thesaurus of Geographic Names® Online (TGN) http://www.getty.edu/research/tools/vocabularies/tgn"
   ]
  },
  {
   "cell_type": "code",
   "execution_count": 6,
   "id": "fce5be0d",
   "metadata": {
    "slideshow": {
     "slide_type": "slide"
    }
   },
   "outputs": [
    {
     "data": {
      "text/html": [
       "<h4>Open Refine Website</h4>"
      ],
      "text/plain": [
       "<IPython.core.display.HTML object>"
      ]
     },
     "metadata": {},
     "output_type": "display_data"
    },
    {
     "data": {
      "text/html": [
       "\n",
       "        <iframe\n",
       "            width=\"100%\"\n",
       "            height=\"600px\"\n",
       "            src=\"https://openrefine.org/documentation.html\"\n",
       "            frameborder=\"0\"\n",
       "            allowfullscreen\n",
       "            \n",
       "        ></iframe>\n",
       "        "
      ],
      "text/plain": [
       "<IPython.lib.display.IFrame at 0x1119b5dc0>"
      ]
     },
     "metadata": {},
     "output_type": "display_data"
    }
   ],
   "source": [
    "from IPython.display import IFrame, HTML\n",
    "\n",
    "display(HTML(\"<h4>Open Refine Website</h4>\"))\n",
    "\n",
    "display(IFrame('https://openrefine.org/documentation.html', '100%', '600px'))"
   ]
  },
  {
   "cell_type": "markdown",
   "id": "1ad62f9a",
   "metadata": {
    "slideshow": {
     "slide_type": "slide"
    }
   },
   "source": [
    "### Method\n",
    "    \n",
    "The method used to reconcile the place names:\n",
    "- Download and install OpenRefine https://openrefine.org/download.html\n",
    "- Open OpenRefine and create a project\n",
    "- Upload the places CSV file\n",
    "- Reconcile place names in `place_modified`\n",
    "- Choose the TGN service to reconcile data with\n",
    "- Review Reconciliation Search Results\n",
    "- Add a Column Containing Entity TGN Identifiers further to Reconciliation Process\n",
    "- Manual Reconciliation\n",
    "\n",
    "#### Further Reading\n",
    "- OpenRefine https://openrefine.org\n"
   ]
  },
  {
   "cell_type": "markdown",
   "id": "0b6973cb",
   "metadata": {
    "slideshow": {
     "slide_type": "slide"
    }
   },
   "source": [
    "### Download and Install OpenRefine\n",
    "\n",
    "- Download OpenRefine at https://openrefine.org/download.html\n",
    "- Installation instructions at https://docs.openrefine.org/manual/installing"
   ]
  },
  {
   "cell_type": "markdown",
   "id": "f8f3537a",
   "metadata": {
    "slideshow": {
     "slide_type": "slide"
    }
   },
   "source": [
    "### Open OpenRefine and Create a Project\n",
    "\n",
    "The following video illustrates how to create a project in OpenRefine using a CSV file on the local drive."
   ]
  },
  {
   "cell_type": "code",
   "execution_count": 7,
   "id": "0b70b3c9",
   "metadata": {
    "slideshow": {
     "slide_type": "slide"
    }
   },
   "outputs": [
    {
     "data": {
      "text/html": [
       "<h4>Video - OpenRefine - Create Project</h4>"
      ],
      "text/plain": [
       "<IPython.core.display.HTML object>"
      ]
     },
     "metadata": {},
     "output_type": "display_data"
    },
    {
     "data": {
      "image/jpeg": "[encoded data removed]",
      "text/html": [
       "\n",
       "        <iframe\n",
       "            width=\"1024\"\n",
       "            height=\"576\"\n",
       "            src=\"https://www.youtube.com/embed/h1aLc5uvdck\"\n",
       "            frameborder=\"0\"\n",
       "            allowfullscreen\n",
       "            \n",
       "        ></iframe>\n",
       "        "
      ],
      "text/plain": [
       "<IPython.lib.display.YouTubeVideo at 0x1119b5520>"
      ]
     },
     "execution_count": 7,
     "metadata": {},
     "output_type": "execute_result"
    }
   ],
   "source": [
    "from IPython.display import YouTubeVideo, HTML\n",
    "\n",
    "display(HTML(\"<h4>Video - OpenRefine - Create Project</h4>\"))\n",
    "\n",
    "\n",
    "# video of project creation in OpenRefine\n",
    "\n",
    "YouTubeVideo('h1aLc5uvdck', width=1024, height=576)"
   ]
  },
  {
   "cell_type": "markdown",
   "id": "955da136",
   "metadata": {
    "slideshow": {
     "slide_type": "slide"
    }
   },
   "source": [
    "### Reconcile Place Names in `place_modified`\n",
    "\n",
    "- Right-click on `place_modified` column header\n",
    "- Select `Start reconciling`\n",
    "\n",
    "<img width=\"800px\" src=\"docs/media/img/openrefine2.png\"/>"
   ]
  },
  {
   "cell_type": "markdown",
   "id": "4a068754",
   "metadata": {
    "slideshow": {
     "slide_type": "slide"
    }
   },
   "source": [
    "### Choose the TGN Service to Reconcile Data With\n",
    "\n",
    "- Choose the Getty Voculabary Reconciliation Service that includes the TGN \n",
    "\n",
    "The video shows the following process:\n",
    "- select a column to reconcile \n",
    "- select a service to reconcile with\n",
    "- review options\n",
    "- start reconciliation\n",
    "\n",
    "#### Further Reading \n",
    "- Reconciliation services known to Wikidata - https://reconciliation-api.github.io/testbench/\n",
    "- TGN https://www.getty.edu/research/tools/vocabularies/tgn/"
   ]
  },
  {
   "cell_type": "code",
   "execution_count": 8,
   "id": "d7e1102b",
   "metadata": {
    "slideshow": {
     "slide_type": "slide"
    }
   },
   "outputs": [
    {
     "data": {
      "text/html": [
       "<h4>Video - OpenRefine - Start Reconciliation</h4>"
      ],
      "text/plain": [
       "<IPython.core.display.HTML object>"
      ]
     },
     "metadata": {},
     "output_type": "display_data"
    },
    {
     "data": {
      "image/jpeg": "[encoded data removed]",
      "text/html": [
       "\n",
       "        <iframe\n",
       "            width=\"1024\"\n",
       "            height=\"576\"\n",
       "            src=\"https://www.youtube.com/embed/Zm0woMobjpI\"\n",
       "            frameborder=\"0\"\n",
       "            allowfullscreen\n",
       "            \n",
       "        ></iframe>\n",
       "        "
      ],
      "text/plain": [
       "<IPython.lib.display.YouTubeVideo at 0x111989a90>"
      ]
     },
     "execution_count": 8,
     "metadata": {},
     "output_type": "execute_result"
    }
   ],
   "source": [
    "from IPython.display import YouTubeVideo, HTML\n",
    "\n",
    "display(HTML(\"<h4>Video - OpenRefine - Start Reconciliation</h4>\"))\n",
    "\n",
    "\n",
    "YouTubeVideo('Zm0woMobjpI', width=1024, height=576)\n",
    "\n"
   ]
  },
  {
   "cell_type": "markdown",
   "id": "8cc9e363",
   "metadata": {
    "slideshow": {
     "slide_type": "slide"
    }
   },
   "source": [
    "### Review Reconciliation Search Results\n",
    "\n",
    "Once the reconciliation process has completed it is necessary to review the results. Using the TGN it is noticeable that there are many places in the United States of America that have the same names as locations in Italy. \n",
    "\n",
    "A review of each match is necessary. Once a correct match has been identified, this match can be applied to all cells with the same place name. "
   ]
  },
  {
   "cell_type": "code",
   "execution_count": 9,
   "id": "ab8d959a",
   "metadata": {
    "slideshow": {
     "slide_type": "slide"
    }
   },
   "outputs": [
    {
     "data": {
      "text/html": [
       "<h4>Video - OpenRefine - Review Reconciliation Results</h4>"
      ],
      "text/plain": [
       "<IPython.core.display.HTML object>"
      ]
     },
     "metadata": {},
     "output_type": "display_data"
    },
    {
     "data": {
      "image/jpeg": "[encoded data removed]",
      "text/html": [
       "\n",
       "        <iframe\n",
       "            width=\"1024\"\n",
       "            height=\"576\"\n",
       "            src=\"https://www.youtube.com/embed/pT0b0vsPRJ0\"\n",
       "            frameborder=\"0\"\n",
       "            allowfullscreen\n",
       "            \n",
       "        ></iframe>\n",
       "        "
      ],
      "text/plain": [
       "<IPython.lib.display.YouTubeVideo at 0x123043f70>"
      ]
     },
     "execution_count": 9,
     "metadata": {},
     "output_type": "execute_result"
    }
   ],
   "source": [
    "from IPython.display import YouTubeVideo, HTML\n",
    "\n",
    "display(HTML(\"<h4>Video - OpenRefine - Review Reconciliation Results</h4>\"))\n",
    "\n",
    "YouTubeVideo('pT0b0vsPRJ0', width=1024, height=576)\n",
    "\n",
    "\n"
   ]
  },
  {
   "cell_type": "markdown",
   "id": "bb324586",
   "metadata": {
    "slideshow": {
     "slide_type": "slide"
    }
   },
   "source": [
    "### Add a Column Containing Entity TGN Identifiers further to Reconciliation Process\n",
    "\n",
    "- Create new column to hold the TGN identifiers\n",
    "\n",
    "<img width=\"800px\" src=\"docs/media/img/tgncol.png\"/>"
   ]
  },
  {
   "cell_type": "code",
   "execution_count": 10,
   "id": "81b01078",
   "metadata": {
    "slideshow": {
     "slide_type": "slide"
    }
   },
   "outputs": [
    {
     "data": {
      "text/html": [
       "<h4>Video - OpenRefine - Add Entity Identifier Column</h4>"
      ],
      "text/plain": [
       "<IPython.core.display.HTML object>"
      ]
     },
     "metadata": {},
     "output_type": "display_data"
    },
    {
     "data": {
      "image/jpeg": "[encoded data removed]",
      "text/html": [
       "\n",
       "        <iframe\n",
       "            width=\"1024\"\n",
       "            height=\"576\"\n",
       "            src=\"https://www.youtube.com/embed/PNPhs_7MQ6o\"\n",
       "            frameborder=\"0\"\n",
       "            allowfullscreen\n",
       "            \n",
       "        ></iframe>\n",
       "        "
      ],
      "text/plain": [
       "<IPython.lib.display.YouTubeVideo at 0x111989a60>"
      ]
     },
     "execution_count": 10,
     "metadata": {},
     "output_type": "execute_result"
    }
   ],
   "source": [
    "from IPython.display import YouTubeVideo, HTML\n",
    "\n",
    "display(HTML(\"<h4>Video - OpenRefine - Add Entity Identifier Column</h4>\"))\n",
    "\n",
    "YouTubeVideo('PNPhs_7MQ6o', width=1024, height=576)\n"
   ]
  },
  {
   "cell_type": "markdown",
   "id": "2bc1b729",
   "metadata": {
    "slideshow": {
     "slide_type": "slide"
    }
   },
   "source": [
    "### Manual Reconciliation\n",
    "\n",
    "Some additional manual reconciliation was required using the TGN search form.\n",
    "    \n",
    "<img width=\"800px\" src=\"docs/media/img/tgn.png\"/>\n",
    "\n",
    "#### Further Reading\n",
    "- TGN search form  http://www.getty.edu/research/tools/vocabularies/tgn\n",
    "    "
   ]
  },
  {
   "cell_type": "markdown",
   "id": "cf10d529",
   "metadata": {
    "slideshow": {
     "slide_type": "slide"
    }
   },
   "source": [
    "### Result - CSV file with TGN Identifiers\n",
    "\n",
    "The result of the reconciliation process is a new column with TGN name authority identifiers for place names identified in the artwork title. \n",
    "\n",
    "A CSV file is created with the following steps:\n",
    "- export CSV file from OpenRefine\n",
    "- save as [data/ruskin/ruskin-places-rec.csv](data/ruskin/ruskin-places-rec.csv) `"
   ]
  },
  {
   "cell_type": "code",
   "execution_count": 11,
   "id": "b8e984f7",
   "metadata": {
    "slideshow": {
     "slide_type": "slide"
    }
   },
   "outputs": [
    {
     "data": {
      "text/html": [
       "<h4>Video - OpenRefine - Export Results as CSV</h4>"
      ],
      "text/plain": [
       "<IPython.core.display.HTML object>"
      ]
     },
     "metadata": {},
     "output_type": "display_data"
    },
    {
     "data": {
      "image/jpeg": "[encoded data removed]",
      "text/html": [
       "\n",
       "        <iframe\n",
       "            width=\"1024\"\n",
       "            height=\"576\"\n",
       "            src=\"https://www.youtube.com/embed/0tBjqr5AEmA\"\n",
       "            frameborder=\"0\"\n",
       "            allowfullscreen\n",
       "            \n",
       "        ></iframe>\n",
       "        "
      ],
      "text/plain": [
       "<IPython.lib.display.YouTubeVideo at 0x1230793d0>"
      ]
     },
     "execution_count": 11,
     "metadata": {},
     "output_type": "execute_result"
    }
   ],
   "source": [
    "from IPython.display import YouTubeVideo, HTML\n",
    "\n",
    "display(HTML(\"<h4>Video - OpenRefine - Export Results as CSV</h4>\"))\n",
    "\n",
    "YouTubeVideo('0tBjqr5AEmA', width=1024, height=576)"
   ]
  },
  {
   "cell_type": "markdown",
   "id": "bbd90fbb",
   "metadata": {
    "slideshow": {
     "slide_type": "slide"
    }
   },
   "source": [
    "#### Remove rows without TGN identifier\n",
    "\n",
    "- A final step removes rows that do not have a TGN identifier.\n",
    "- The resulting dataset is shown in tabular format below."
   ]
  },
  {
   "cell_type": "code",
   "execution_count": 49,
   "id": "419bea9c",
   "metadata": {
    "slideshow": {
     "slide_type": "slide"
    }
   },
   "outputs": [
    {
     "data": {
      "text/html": [
       "<div>\n",
       "<style scoped>\n",
       "    .dataframe tbody tr th:only-of-type {\n",
       "        vertical-align: middle;\n",
       "    }\n",
       "\n",
       "    .dataframe tbody tr th {\n",
       "        vertical-align: top;\n",
       "    }\n",
       "\n",
       "    .dataframe thead th {\n",
       "        text-align: right;\n",
       "    }\n",
       "</style>\n",
       "<table border=\"1\" class=\"dataframe\">\n",
       "  <thead>\n",
       "    <tr style=\"text-align: right;\">\n",
       "      <th></th>\n",
       "      <th>id</th>\n",
       "      <th>place</th>\n",
       "      <th>...</th>\n",
       "      <th>tgn</th>\n",
       "      <th>coords</th>\n",
       "    </tr>\n",
       "  </thead>\n",
       "  <tbody>\n",
       "    <tr>\n",
       "      <th>0</th>\n",
       "      <td>https://www.harvardartmuseums.org/collections/...</td>\n",
       "      <td>Study of a Venetian Capital</td>\n",
       "      <td>...</td>\n",
       "      <td>tgn/7003006</td>\n",
       "      <td>NaN</td>\n",
       "    </tr>\n",
       "    <tr>\n",
       "      <th>1</th>\n",
       "      <td>https://collections.ashmolean.org/collection/1...</td>\n",
       "      <td>Autumnal Cloud filling the Valley of Geneva, t...</td>\n",
       "      <td>...</td>\n",
       "      <td>tgn/7003746</td>\n",
       "      <td>NaN</td>\n",
       "    </tr>\n",
       "    <tr>\n",
       "      <th>2</th>\n",
       "      <td>https://collections.ashmolean.org/collection/1...</td>\n",
       "      <td>Axmouth Landslip from Dolands Farm</td>\n",
       "      <td>...</td>\n",
       "      <td>tgn/1028371</td>\n",
       "      <td>NaN</td>\n",
       "    </tr>\n",
       "    <tr>\n",
       "      <th>3</th>\n",
       "      <td>https://www.harvardartmuseums.org/collections/...</td>\n",
       "      <td>Tom Tower, Christ Church, Oxford</td>\n",
       "      <td>...</td>\n",
       "      <td>tgn/7011931</td>\n",
       "      <td>NaN</td>\n",
       "    </tr>\n",
       "    <tr>\n",
       "      <th>4</th>\n",
       "      <td>https://www.harvardartmuseums.org/collections/...</td>\n",
       "      <td>Study of a Venetian Capital</td>\n",
       "      <td>...</td>\n",
       "      <td>tgn/7003006</td>\n",
       "      <td>NaN</td>\n",
       "    </tr>\n",
       "    <tr>\n",
       "      <th>...</th>\n",
       "      <td>...</td>\n",
       "      <td>...</td>\n",
       "      <td>...</td>\n",
       "      <td>...</td>\n",
       "      <td>...</td>\n",
       "    </tr>\n",
       "    <tr>\n",
       "      <th>116</th>\n",
       "      <td>https://collections.ashmolean.org/collection/1...</td>\n",
       "      <td>Sketch of the Oak Spray in Mantegna's Fresco o...</td>\n",
       "      <td>...</td>\n",
       "      <td>tgn/7003085</td>\n",
       "      <td>NaN</td>\n",
       "    </tr>\n",
       "    <tr>\n",
       "      <th>117</th>\n",
       "      <td>https://www.nga.gov/collection/72870</td>\n",
       "      <td>The Garden of San Miniato near Florence</td>\n",
       "      <td>...</td>\n",
       "      <td>tgn/7000457</td>\n",
       "      <td>NaN</td>\n",
       "    </tr>\n",
       "    <tr>\n",
       "      <th>118</th>\n",
       "      <td>https://www.harvardartmuseums.org/collections/...</td>\n",
       "      <td>Part of a Sketch of the Northwest Porch of St....</td>\n",
       "      <td>...</td>\n",
       "      <td>tgn/7003006</td>\n",
       "      <td>NaN</td>\n",
       "    </tr>\n",
       "    <tr>\n",
       "      <th>119</th>\n",
       "      <td>http://www.rijksmuseum.nl/nl/collectie/RP-T-19...</td>\n",
       "      <td>Gezicht op S. Anastasia te Verona, over de Adige</td>\n",
       "      <td>...</td>\n",
       "      <td>tgn/7003262</td>\n",
       "      <td>NaN</td>\n",
       "    </tr>\n",
       "    <tr>\n",
       "      <th>120</th>\n",
       "      <td>https://collections.ashmolean.org/collection/1...</td>\n",
       "      <td>Study of the Marble Inlaying on the Front of t...</td>\n",
       "      <td>...</td>\n",
       "      <td>tgn/7003006</td>\n",
       "      <td>NaN</td>\n",
       "    </tr>\n",
       "  </tbody>\n",
       "</table>\n",
       "<p>121 rows × 5 columns</p>\n",
       "</div>"
      ],
      "text/plain": [
       "                                                    id  \\\n",
       "0    https://www.harvardartmuseums.org/collections/...   \n",
       "1    https://collections.ashmolean.org/collection/1...   \n",
       "2    https://collections.ashmolean.org/collection/1...   \n",
       "3    https://www.harvardartmuseums.org/collections/...   \n",
       "4    https://www.harvardartmuseums.org/collections/...   \n",
       "..                                                 ...   \n",
       "116  https://collections.ashmolean.org/collection/1...   \n",
       "117               https://www.nga.gov/collection/72870   \n",
       "118  https://www.harvardartmuseums.org/collections/...   \n",
       "119  http://www.rijksmuseum.nl/nl/collectie/RP-T-19...   \n",
       "120  https://collections.ashmolean.org/collection/1...   \n",
       "\n",
       "                                                 place  ...          tgn  \\\n",
       "0                          Study of a Venetian Capital  ...  tgn/7003006   \n",
       "1    Autumnal Cloud filling the Valley of Geneva, t...  ...  tgn/7003746   \n",
       "2                   Axmouth Landslip from Dolands Farm  ...  tgn/1028371   \n",
       "3                     Tom Tower, Christ Church, Oxford  ...  tgn/7011931   \n",
       "4                          Study of a Venetian Capital  ...  tgn/7003006   \n",
       "..                                                 ...  ...          ...   \n",
       "116  Sketch of the Oak Spray in Mantegna's Fresco o...  ...  tgn/7003085   \n",
       "117            The Garden of San Miniato near Florence  ...  tgn/7000457   \n",
       "118  Part of a Sketch of the Northwest Porch of St....  ...  tgn/7003006   \n",
       "119   Gezicht op S. Anastasia te Verona, over de Adige  ...  tgn/7003262   \n",
       "120  Study of the Marble Inlaying on the Front of t...  ...  tgn/7003006   \n",
       "\n",
       "    coords  \n",
       "0      NaN  \n",
       "1      NaN  \n",
       "2      NaN  \n",
       "3      NaN  \n",
       "4      NaN  \n",
       "..     ...  \n",
       "116    NaN  \n",
       "117    NaN  \n",
       "118    NaN  \n",
       "119    NaN  \n",
       "120    NaN  \n",
       "\n",
       "[121 rows x 5 columns]"
      ]
     },
     "metadata": {},
     "output_type": "display_data"
    }
   ],
   "source": [
    "reconciledRuskinPlaces = \"data/ruskin/ruskin-places-rec.csv\" \n",
    "reconciledRuskinPlaces = \"data/ruskin/ruskin-places-csv-0422.csv\" \n",
    "\n",
    "\n",
    "\n",
    "# read file  into pandas dataframe\n",
    "df = pd.read_csv(reconciledRuskinPlaces,low_memory=False)\n",
    "\n",
    "# remove rows that have an empty tgn field value\n",
    "df = df[df.tgn != \"\"]\n",
    "\n",
    "# write dataframe to file \n",
    "df.to_csv(reconciledRuskinPlaces, index=False) \n",
    "\n",
    "# for illustration display dataframe\n",
    "\n",
    "display(df)"
   ]
  },
  {
   "cell_type": "markdown",
   "id": "25a0c234",
   "metadata": {
    "slideshow": {
     "slide_type": "slide"
    }
   },
   "source": [
    "### Add Geographical Coordinates to CSV file\n",
    "The next step is to associate geographical coordinates with the Linked Art artwork representations, using the TGN identifiers to query the TGN web service and return geographical coordinates.\n",
    "\n",
    "Steps:\n",
    "- request JSON file from http://vocab.getty.edu/tgn/ using TGN identifier\n",
    "- extract geocoordinates from response\n",
    "- add geocoordinates to CSV file"
   ]
  },
  {
   "cell_type": "code",
   "execution_count": 54,
   "id": "cce77b47",
   "metadata": {
    "slideshow": {
     "slide_type": "slide"
    }
   },
   "outputs": [
    {
     "data": {
      "text/html": [
       "<H2>Geographical coordinates retrieved from TGN web service</H2>"
      ],
      "text/plain": [
       "<IPython.core.display.HTML object>"
      ]
     },
     "metadata": {},
     "output_type": "display_data"
    },
    {
     "data": {
      "text/html": [
       "<p>Retrieving geocoordinates from vocab.getty.edu TGN API. Please wait for task to complete.</p>"
      ],
      "text/plain": [
       "<IPython.core.display.HTML object>"
      ]
     },
     "metadata": {},
     "output_type": "display_data"
    },
    {
     "name": "stdout",
     "output_type": "stream",
     "text": [
      "............................................"
     ]
    },
    {
     "data": {
      "text/html": [
       "<div>\n",
       "<style scoped>\n",
       "    .dataframe tbody tr th:only-of-type {\n",
       "        vertical-align: middle;\n",
       "    }\n",
       "\n",
       "    .dataframe tbody tr th {\n",
       "        vertical-align: top;\n",
       "    }\n",
       "\n",
       "    .dataframe thead th {\n",
       "        text-align: right;\n",
       "    }\n",
       "</style>\n",
       "<table border=\"1\" class=\"dataframe\">\n",
       "  <thead>\n",
       "    <tr style=\"text-align: right;\">\n",
       "      <th></th>\n",
       "      <th>tgn</th>\n",
       "      <th>latlng</th>\n",
       "    </tr>\n",
       "  </thead>\n",
       "  <tbody>\n",
       "    <tr>\n",
       "      <th>0</th>\n",
       "      <td>tgn/7003006</td>\n",
       "      <td>45.583333,12.566667</td>\n",
       "    </tr>\n",
       "    <tr>\n",
       "      <th>1</th>\n",
       "      <td>tgn/7003746</td>\n",
       "      <td>46.196732,6.110443</td>\n",
       "    </tr>\n",
       "    <tr>\n",
       "      <th>2</th>\n",
       "      <td>tgn/1028371</td>\n",
       "      <td>50.716667,-3.05</td>\n",
       "    </tr>\n",
       "    <tr>\n",
       "      <th>3</th>\n",
       "      <td>tgn/7011931</td>\n",
       "      <td>51.75,-1.25</td>\n",
       "    </tr>\n",
       "    <tr>\n",
       "      <th>4</th>\n",
       "      <td>tgn/7003127</td>\n",
       "      <td>44.466667,11.433333</td>\n",
       "    </tr>\n",
       "    <tr>\n",
       "      <th>5</th>\n",
       "      <td>tgn/7007746</td>\n",
       "      <td>46.416667,10</td>\n",
       "    </tr>\n",
       "    <tr>\n",
       "      <th>6</th>\n",
       "      <td>tgn/7003165</td>\n",
       "      <td>44.033333,10.45</td>\n",
       "    </tr>\n",
       "    <tr>\n",
       "      <th>7</th>\n",
       "      <td>tgn/7003168</td>\n",
       "      <td>43.216667,11.4</td>\n",
       "    </tr>\n",
       "    <tr>\n",
       "      <th>8</th>\n",
       "      <td>tgn/7018001</td>\n",
       "      <td>47.25,9.9167</td>\n",
       "    </tr>\n",
       "    <tr>\n",
       "      <th>9</th>\n",
       "      <td>tgn/7011128</td>\n",
       "      <td>51.833333,-2.25</td>\n",
       "    </tr>\n",
       "    <tr>\n",
       "      <th>10</th>\n",
       "      <td>tgn/7668075</td>\n",
       "      <td>50.166667,1.75</td>\n",
       "    </tr>\n",
       "    <tr>\n",
       "      <th>11</th>\n",
       "      <td>tgn/7003262</td>\n",
       "      <td>45.45,11</td>\n",
       "    </tr>\n",
       "    <tr>\n",
       "      <th>12</th>\n",
       "      <td>tgn/7106737</td>\n",
       "      <td>49.266667,6.816667</td>\n",
       "    </tr>\n",
       "    <tr>\n",
       "      <th>13</th>\n",
       "      <td>tgn/7005172</td>\n",
       "      <td>48.75,8.25</td>\n",
       "    </tr>\n",
       "    <tr>\n",
       "      <th>14</th>\n",
       "      <td>tgn/7007318</td>\n",
       "      <td>46.194902,9.024729</td>\n",
       "    </tr>\n",
       "    <tr>\n",
       "      <th>15</th>\n",
       "      <td>tgn/1029546</td>\n",
       "      <td>54.033333,-2.9</td>\n",
       "    </tr>\n",
       "    <tr>\n",
       "      <th>16</th>\n",
       "      <td>tgn/7006070</td>\n",
       "      <td>46,9.283333</td>\n",
       "    </tr>\n",
       "    <tr>\n",
       "      <th>17</th>\n",
       "      <td>tgn/7661997</td>\n",
       "      <td>47.25,2.416667</td>\n",
       "    </tr>\n",
       "    <tr>\n",
       "      <th>18</th>\n",
       "      <td>tgn/1032562</td>\n",
       "      <td>45.924308,6.867316</td>\n",
       "    </tr>\n",
       "    <tr>\n",
       "      <th>19</th>\n",
       "      <td>tgn/7007280</td>\n",
       "      <td>47.083333,8.266667</td>\n",
       "    </tr>\n",
       "    <tr>\n",
       "      <th>20</th>\n",
       "      <td>tgn/7609880</td>\n",
       "      <td>45.938883,6.643866</td>\n",
       "    </tr>\n",
       "    <tr>\n",
       "      <th>21</th>\n",
       "      <td>tgn/1064047</td>\n",
       "      <td>46.479417,8.797659</td>\n",
       "    </tr>\n",
       "    <tr>\n",
       "      <th>22</th>\n",
       "      <td>tgn/7018159</td>\n",
       "      <td>45.438611,12.326667</td>\n",
       "    </tr>\n",
       "    <tr>\n",
       "      <th>23</th>\n",
       "      <td>tgn/8711124</td>\n",
       "      <td>46.301907,7.870004</td>\n",
       "    </tr>\n",
       "    <tr>\n",
       "      <th>24</th>\n",
       "      <td>tgn/7017223</td>\n",
       "      <td>45.259578,6.900329</td>\n",
       "    </tr>\n",
       "    <tr>\n",
       "      <th>25</th>\n",
       "      <td>tgn/7036135</td>\n",
       "      <td>45.906389,12.015556</td>\n",
       "    </tr>\n",
       "    <tr>\n",
       "      <th>26</th>\n",
       "      <td>tgn/7074719</td>\n",
       "      <td>50.883333,13.35</td>\n",
       "    </tr>\n",
       "    <tr>\n",
       "      <th>27</th>\n",
       "      <td>tgn/7211403</td>\n",
       "      <td>51.75,8.216667</td>\n",
       "    </tr>\n",
       "    <tr>\n",
       "      <th>28</th>\n",
       "      <td>tgn/1064175</td>\n",
       "      <td>46.595676,7.907654</td>\n",
       "    </tr>\n",
       "    <tr>\n",
       "      <th>29</th>\n",
       "      <td>tgn/7005335</td>\n",
       "      <td>44.266667,9.4</td>\n",
       "    </tr>\n",
       "    <tr>\n",
       "      <th>30</th>\n",
       "      <td>tgn/1108350</td>\n",
       "      <td>47,11.5</td>\n",
       "    </tr>\n",
       "    <tr>\n",
       "      <th>31</th>\n",
       "      <td>tgn/7003751</td>\n",
       "      <td>46.990867,6.797675</td>\n",
       "    </tr>\n",
       "    <tr>\n",
       "      <th>32</th>\n",
       "      <td>tgn/7004799</td>\n",
       "      <td>50.770833,6.105278</td>\n",
       "    </tr>\n",
       "    <tr>\n",
       "      <th>33</th>\n",
       "      <td>tgn/7645603</td>\n",
       "      <td>48.767697,6.855842</td>\n",
       "    </tr>\n",
       "    <tr>\n",
       "      <th>34</th>\n",
       "      <td>tgn/7610552</td>\n",
       "      <td>49.5,1</td>\n",
       "    </tr>\n",
       "    <tr>\n",
       "      <th>35</th>\n",
       "      <td>tgn/7012611</td>\n",
       "      <td>51.98404,4.08245</td>\n",
       "    </tr>\n",
       "    <tr>\n",
       "      <th>36</th>\n",
       "      <td>tgn/4012680</td>\n",
       "      <td>51.484344,-.174869</td>\n",
       "    </tr>\n",
       "    <tr>\n",
       "      <th>37</th>\n",
       "      <td>tgn/7002886</td>\n",
       "      <td>49,0</td>\n",
       "    </tr>\n",
       "    <tr>\n",
       "      <th>38</th>\n",
       "      <td>tgn/7155787</td>\n",
       "      <td>49.966667,7.933333</td>\n",
       "    </tr>\n",
       "    <tr>\n",
       "      <th>39</th>\n",
       "      <td>tgn/8713430</td>\n",
       "      <td>47.285,11.03</td>\n",
       "    </tr>\n",
       "    <tr>\n",
       "      <th>40</th>\n",
       "      <td>tgn/1100282</td>\n",
       "      <td>47.4667,8.1833</td>\n",
       "    </tr>\n",
       "    <tr>\n",
       "      <th>41</th>\n",
       "      <td>tgn/7003085</td>\n",
       "      <td>45.416667,11.883333</td>\n",
       "    </tr>\n",
       "    <tr>\n",
       "      <th>42</th>\n",
       "      <td>tgn/7000457</td>\n",
       "      <td>43.766667,11.25</td>\n",
       "    </tr>\n",
       "  </tbody>\n",
       "</table>\n",
       "</div>"
      ],
      "text/plain": [
       "            tgn               latlng\n",
       "0   tgn/7003006  45.583333,12.566667\n",
       "1   tgn/7003746   46.196732,6.110443\n",
       "2   tgn/1028371      50.716667,-3.05\n",
       "3   tgn/7011931          51.75,-1.25\n",
       "4   tgn/7003127  44.466667,11.433333\n",
       "5   tgn/7007746         46.416667,10\n",
       "6   tgn/7003165      44.033333,10.45\n",
       "7   tgn/7003168       43.216667,11.4\n",
       "8   tgn/7018001         47.25,9.9167\n",
       "9   tgn/7011128      51.833333,-2.25\n",
       "10  tgn/7668075       50.166667,1.75\n",
       "11  tgn/7003262             45.45,11\n",
       "12  tgn/7106737   49.266667,6.816667\n",
       "13  tgn/7005172           48.75,8.25\n",
       "14  tgn/7007318   46.194902,9.024729\n",
       "15  tgn/1029546       54.033333,-2.9\n",
       "16  tgn/7006070          46,9.283333\n",
       "17  tgn/7661997       47.25,2.416667\n",
       "18  tgn/1032562   45.924308,6.867316\n",
       "19  tgn/7007280   47.083333,8.266667\n",
       "20  tgn/7609880   45.938883,6.643866\n",
       "21  tgn/1064047   46.479417,8.797659\n",
       "22  tgn/7018159  45.438611,12.326667\n",
       "23  tgn/8711124   46.301907,7.870004\n",
       "24  tgn/7017223   45.259578,6.900329\n",
       "25  tgn/7036135  45.906389,12.015556\n",
       "26  tgn/7074719      50.883333,13.35\n",
       "27  tgn/7211403       51.75,8.216667\n",
       "28  tgn/1064175   46.595676,7.907654\n",
       "29  tgn/7005335        44.266667,9.4\n",
       "30  tgn/1108350              47,11.5\n",
       "31  tgn/7003751   46.990867,6.797675\n",
       "32  tgn/7004799   50.770833,6.105278\n",
       "33  tgn/7645603   48.767697,6.855842\n",
       "34  tgn/7610552               49.5,1\n",
       "35  tgn/7012611     51.98404,4.08245\n",
       "36  tgn/4012680   51.484344,-.174869\n",
       "37  tgn/7002886                 49,0\n",
       "38  tgn/7155787   49.966667,7.933333\n",
       "39  tgn/8713430         47.285,11.03\n",
       "40  tgn/1100282       47.4667,8.1833\n",
       "41  tgn/7003085  45.416667,11.883333\n",
       "42  tgn/7000457      43.766667,11.25"
      ]
     },
     "metadata": {},
     "output_type": "display_data"
    }
   ],
   "source": [
    "import requests\n",
    "\n",
    "latprop = \"http://www.w3.org/2003/01/geo/wgs84_pos#lat\"\n",
    "lngprop = \"http://www.w3.org/2003/01/geo/wgs84_pos#long\"\n",
    "\n",
    "\n",
    "display(HTML(\"<H2>Geographical coordinates retrieved from TGN web service</H2>\"))   \n",
    "\n",
    "reconciledRuskinPlaces = \"./data/ruskin/ruskin-places-rec.csv\" \n",
    "\n",
    "reconciledRuskinPlaces = \"data/ruskin/ruskin-places-csv-0422.csv\" \n",
    "\n",
    "reconciledRuskinPlacesCoords = \"./data/ruskin/ruskin-places-rec-coords.csv\" \n",
    "\n",
    "# create dataframe from CSV file containing reconciled data including TGN identifiers\n",
    "dataFrameRuskinPlaces = pd.read_csv(reconciledRuskinPlaces,low_memory=False)\n",
    "\n",
    "# set type for column 'coords'  as string in dataframe\n",
    "dataFrameRuskinPlaces['coords'] = dataFrameRuskinPlaces['coords'].astype(str)\n",
    "\n",
    "\n",
    "display(HTML(\"<p>Retrieving geocoordinates from vocab.getty.edu TGN API. Please wait for task to complete.</p>\"))\n",
    "\n",
    "# create dataframe to hold geographical coordinates with columns tng and latlng\n",
    "dataFrameGeo = pd.DataFrame({}, columns=['tgn', 'latlng'])\n",
    "\n",
    "# iterate through reconciled data containing place names and TGN identifiers\n",
    "for identifier_tgn in dataFrameRuskinPlaces['tgn'].unique():\n",
    "    if \"tgn/\" not in identifier_tgn :\n",
    "        continue\n",
    "    # print . to indicate progress\n",
    "    print(\".\", end='')\n",
    "    \n",
    "    #create query string for web service - get tgn id using .split()\n",
    "    query = \"http://vocab.getty.edu/tgn/\" + identifier_tgn.split(\"tgn/\",1)[1] +\"-place.json\"\n",
    "    \n",
    "    # use requests.get() to query TGN web service using TGN identifier to return geo coordinates \n",
    "    resultsJSON = requests.get(query).json()\n",
    "    \n",
    "    # get lat lng from web service query results\n",
    "    for record in  resultsJSON:\n",
    "        \n",
    "        try:\n",
    "            lat =  resultsJSON[record][latprop][0][\"value\"]\n",
    "            lng =  resultsJSON[record][lngprop][0][\"value\"]\n",
    "        \n",
    "            # create string for lat lng\n",
    "            latlng = str(lat) + \",\" + str(lng)\n",
    "        \n",
    "       \n",
    "            # append TGN identifier and lat lng to the dataFrameGeo \n",
    "            dataFrameGeo = dataFrameGeo.append(\n",
    "                {\n",
    "                 'tgn': identifier_tgn, \n",
    "                 'latlng': latlng\n",
    "                }, \n",
    "            ignore_index=True)\n",
    "        except:\n",
    "            continue\n",
    "        \n",
    "\n",
    "# for illustration display dataFrameGeo with addition of geo coords\n",
    "display(dataFrameGeo)"
   ]
  },
  {
   "cell_type": "markdown",
   "id": "15c96dc7",
   "metadata": {
    "slideshow": {
     "slide_type": "slide"
    }
   },
   "source": [
    "### Update CSV File with Geographical Coordinates \n",
    "\n",
    "The following code \n",
    "- merges `dataFrameRuskinPlaces` with `dataFrameGeo` containing the geocoordinates.\n",
    "- removes `coords` from `dataFrameRuskinPlaces` \n",
    "- renames `latlng` to `coords` in `dataFrameRuskinPlaces` \n",
    "- writes `dataFrameRuskinPlaces` to a CSV file"
   ]
  },
  {
   "cell_type": "code",
   "execution_count": 55,
   "id": "107a351d",
   "metadata": {},
   "outputs": [
    {
     "data": {
      "text/html": [
       "<H4>CSV file with Geographical Coordinates</H4>"
      ],
      "text/plain": [
       "<IPython.core.display.HTML object>"
      ]
     },
     "metadata": {},
     "output_type": "display_data"
    },
    {
     "data": {
      "text/html": [
       "<div>\n",
       "<style scoped>\n",
       "    .dataframe tbody tr th:only-of-type {\n",
       "        vertical-align: middle;\n",
       "    }\n",
       "\n",
       "    .dataframe tbody tr th {\n",
       "        vertical-align: top;\n",
       "    }\n",
       "\n",
       "    .dataframe thead th {\n",
       "        text-align: right;\n",
       "    }\n",
       "</style>\n",
       "<table border=\"1\" class=\"dataframe\">\n",
       "  <thead>\n",
       "    <tr style=\"text-align: right;\">\n",
       "      <th></th>\n",
       "      <th>id</th>\n",
       "      <th>place</th>\n",
       "      <th>...</th>\n",
       "      <th>tgn</th>\n",
       "      <th>coords</th>\n",
       "    </tr>\n",
       "  </thead>\n",
       "  <tbody>\n",
       "    <tr>\n",
       "      <th>0</th>\n",
       "      <td>https://www.harvardartmuseums.org/collections/...</td>\n",
       "      <td>Study of a Venetian Capital</td>\n",
       "      <td>...</td>\n",
       "      <td>tgn/7003006</td>\n",
       "      <td>45.583333,12.566667</td>\n",
       "    </tr>\n",
       "    <tr>\n",
       "      <th>1</th>\n",
       "      <td>https://www.harvardartmuseums.org/collections/...</td>\n",
       "      <td>Study of a Venetian Capital</td>\n",
       "      <td>...</td>\n",
       "      <td>tgn/7003006</td>\n",
       "      <td>45.583333,12.566667</td>\n",
       "    </tr>\n",
       "    <tr>\n",
       "      <th>2</th>\n",
       "      <td>https://collections.ashmolean.org/collection/1...</td>\n",
       "      <td>Part of the Base of a Pilaster in Santa Maria ...</td>\n",
       "      <td>...</td>\n",
       "      <td>tgn/7003006</td>\n",
       "      <td>45.583333,12.566667</td>\n",
       "    </tr>\n",
       "    <tr>\n",
       "      <th>3</th>\n",
       "      <td>https://www.tate.org.uk/art/artworks/13032</td>\n",
       "      <td>The North-West Angle of the Facade of St Mark’...</td>\n",
       "      <td>...</td>\n",
       "      <td>tgn/7003006</td>\n",
       "      <td>45.583333,12.566667</td>\n",
       "    </tr>\n",
       "    <tr>\n",
       "      <th>4</th>\n",
       "      <td>https://collections.ashmolean.org/collection/1...</td>\n",
       "      <td>The Palazzo Contarini-Fasan, Venice</td>\n",
       "      <td>...</td>\n",
       "      <td>tgn/7003006</td>\n",
       "      <td>45.583333,12.566667</td>\n",
       "    </tr>\n",
       "    <tr>\n",
       "      <th>...</th>\n",
       "      <td>...</td>\n",
       "      <td>...</td>\n",
       "      <td>...</td>\n",
       "      <td>...</td>\n",
       "      <td>...</td>\n",
       "    </tr>\n",
       "    <tr>\n",
       "      <th>114</th>\n",
       "      <td>https://www.harvardartmuseums.org/collections/...</td>\n",
       "      <td>Kempten</td>\n",
       "      <td>...</td>\n",
       "      <td>tgn/7155787</td>\n",
       "      <td>49.966667,7.933333</td>\n",
       "    </tr>\n",
       "    <tr>\n",
       "      <th>115</th>\n",
       "      <td>https://collections.ashmolean.org/collection/1...</td>\n",
       "      <td>Etching of Turner's Drawing of 'Rietz, near Sa...</td>\n",
       "      <td>...</td>\n",
       "      <td>tgn/8713430</td>\n",
       "      <td>47.285,11.03</td>\n",
       "    </tr>\n",
       "    <tr>\n",
       "      <th>116</th>\n",
       "      <td>https://collections.ashmolean.org/collection/1...</td>\n",
       "      <td>Evening in Autumn under the Castle of Habsburg</td>\n",
       "      <td>...</td>\n",
       "      <td>tgn/1100282</td>\n",
       "      <td>47.4667,8.1833</td>\n",
       "    </tr>\n",
       "    <tr>\n",
       "      <th>117</th>\n",
       "      <td>https://collections.ashmolean.org/collection/1...</td>\n",
       "      <td>Sketch of the Oak Spray in Mantegna's Fresco o...</td>\n",
       "      <td>...</td>\n",
       "      <td>tgn/7003085</td>\n",
       "      <td>45.416667,11.883333</td>\n",
       "    </tr>\n",
       "    <tr>\n",
       "      <th>118</th>\n",
       "      <td>https://www.nga.gov/collection/72870</td>\n",
       "      <td>The Garden of San Miniato near Florence</td>\n",
       "      <td>...</td>\n",
       "      <td>tgn/7000457</td>\n",
       "      <td>43.766667,11.25</td>\n",
       "    </tr>\n",
       "  </tbody>\n",
       "</table>\n",
       "<p>119 rows × 5 columns</p>\n",
       "</div>"
      ],
      "text/plain": [
       "                                                    id  \\\n",
       "0    https://www.harvardartmuseums.org/collections/...   \n",
       "1    https://www.harvardartmuseums.org/collections/...   \n",
       "2    https://collections.ashmolean.org/collection/1...   \n",
       "3           https://www.tate.org.uk/art/artworks/13032   \n",
       "4    https://collections.ashmolean.org/collection/1...   \n",
       "..                                                 ...   \n",
       "114  https://www.harvardartmuseums.org/collections/...   \n",
       "115  https://collections.ashmolean.org/collection/1...   \n",
       "116  https://collections.ashmolean.org/collection/1...   \n",
       "117  https://collections.ashmolean.org/collection/1...   \n",
       "118               https://www.nga.gov/collection/72870   \n",
       "\n",
       "                                                 place  ...          tgn  \\\n",
       "0                          Study of a Venetian Capital  ...  tgn/7003006   \n",
       "1                          Study of a Venetian Capital  ...  tgn/7003006   \n",
       "2    Part of the Base of a Pilaster in Santa Maria ...  ...  tgn/7003006   \n",
       "3    The North-West Angle of the Facade of St Mark’...  ...  tgn/7003006   \n",
       "4                  The Palazzo Contarini-Fasan, Venice  ...  tgn/7003006   \n",
       "..                                                 ...  ...          ...   \n",
       "114                                            Kempten  ...  tgn/7155787   \n",
       "115  Etching of Turner's Drawing of 'Rietz, near Sa...  ...  tgn/8713430   \n",
       "116     Evening in Autumn under the Castle of Habsburg  ...  tgn/1100282   \n",
       "117  Sketch of the Oak Spray in Mantegna's Fresco o...  ...  tgn/7003085   \n",
       "118            The Garden of San Miniato near Florence  ...  tgn/7000457   \n",
       "\n",
       "                  coords  \n",
       "0    45.583333,12.566667  \n",
       "1    45.583333,12.566667  \n",
       "2    45.583333,12.566667  \n",
       "3    45.583333,12.566667  \n",
       "4    45.583333,12.566667  \n",
       "..                   ...  \n",
       "114   49.966667,7.933333  \n",
       "115         47.285,11.03  \n",
       "116       47.4667,8.1833  \n",
       "117  45.416667,11.883333  \n",
       "118      43.766667,11.25  \n",
       "\n",
       "[119 rows x 5 columns]"
      ]
     },
     "metadata": {},
     "output_type": "display_data"
    }
   ],
   "source": [
    "reconciledRuskinPlacesCoords = \"./data/ruskin/ruskin-places-rec-coords.csv\" \n",
    "\n",
    "\n",
    "# merge dataframe with coords with dataframe from csv\n",
    "dataFrameRuskinPlaces = dataFrameRuskinPlaces.merge(dataFrameGeo, on='tgn') \n",
    "\n",
    "# drop column coords\n",
    "dataFrameRuskinPlaces = dataFrameRuskinPlaces.drop('coords', 1) # drop column coords\n",
    "\n",
    "# rename column latlng to coords\n",
    "dataFrameRuskinPlaces.rename(columns={'latlng': 'coords'}, inplace=True) # rename column tgn to coords\n",
    "\n",
    "# drop rows that have na value in coords column\n",
    "dataFrameRuskinPlaces.dropna(subset=['coords'])  \n",
    "\n",
    "# write to CSV file\n",
    "dataFrameRuskinPlaces.to_csv(reconciledRuskinPlacesCoords, index=False)\n",
    "\n",
    "display(HTML(\"<H4>CSV file with Geographical Coordinates</H4>\"))\n",
    "# display dataframe\n",
    "display(dataFrameRuskinPlaces)\n"
   ]
  },
  {
   "cell_type": "markdown",
   "id": "1ce006eb",
   "metadata": {},
   "source": [
    "##  4. Define Geolocation Representation in Linked Art\n",
    "\n",
    "The next step is to define a representation in Linked Art for geographical coordinates of place depicted in artwork. The relevant parts of the Linked Art model are: \n",
    " - Depiction\n",
    " - Geospatial approximation\n",
    " - Depiction of place with approximate location\n",
    "\n",
    "\n",
    "### Linked Art Data Model - Depiction\n",
    "\n",
    "From https://linked.art/model/object/aboutness/#depiction\n",
    "\n",
    "<blockquote>Many sorts of artwork depict things that can be pointed out in the artwork. These could be identifiable entities, such as a known Person or Object with a name or identifier, or unidentifiable (perhaps fictional) instances of a class of entity, such as a depiction of a battle but not any particular battle. For example a portrait depicts the person sitting for it, or a sketch of a generic landscape depicts a place even if it's not a particular, known location. The depiction pattern describes what is in the artwork's image.</blockquote>\n",
    "\n",
    "<blockquote>This is modeled using the `represents` property on the VisualItem, which refers to the entity that is being depicted.</blockquote>\n",
    "\n",
    "\n",
    "The following representation will be used for place depicted in Ruskin's artworks:\n",
    "\n",
    "\n",
    "`{\n",
    "  \"@context\": \"https://linked.art/ns/v1/linked-art.json\",\n",
    "  \"id\": \"https://linked.art/example/object/34\",\n",
    "  \"type\": \"HumanMadeObject\",\n",
    "  \"_label\": \"artwork title including place name\",\n",
    "    \"shows\": [\n",
    "    {\n",
    "      \"type\": \"VisualItem\",\n",
    "      \"represents\": [\n",
    "        {\n",
    "          \"type\": \"Place\",\n",
    "          \"_label\": \"place name\"\n",
    "        }\n",
    "      ]\n",
    "    }\n",
    "  ]}`\n"
   ]
  },
  {
   "cell_type": "markdown",
   "id": "1b781b3c",
   "metadata": {},
   "source": [
    "### Linked Art Data Model - Geospatial Approximation\n",
    "\n",
    "The Linked Art data model describes how to represent geospatial approximation.\n",
    "\n",
    "From https://linked.art/model/place/#geospatial-approximation\n",
    "\n",
    "<blockquote>All recorded locations are approximate to some degree. It may be desirable to capture this approximation separately from the actual place, especially when that approximation is very uncertain. Especially if the place is the exact location of several events, and perhaps an address or other information is known, but not the exact geospatial coordinates.</blockquote>\n",
    "    \n",
    "\n",
    "<blockquote>Secondly, as a place is defined by exactly one definition, but there might be multiple approximations such as a polygon as well as the central point, the real place that an activity occured at can be related to multiple approximate places to capture these different approximations.</blockquote>\n",
    "\n",
    "\n",
    "Example Linked Art representation of geospatial approximation:\n",
    "\n",
    "`{\n",
    "  \"@context\": \"https://linked.art/ns/v1/linked-art.json\",\n",
    "  \"id\": \"https://linked.art/example/place/4\",\n",
    "  \"type\": \"Place\",\n",
    "  \"_label\": \"True Auction House Location\",\n",
    "  \"approximated_by\": [\n",
    "    {\n",
    "      \"type\": \"Place\",\n",
    "      \"_label\": \"Auction House Location Approximation\",\n",
    "      \"defined_by\": \"POINT(-0.0032937526703165 51.515107154846)\"\n",
    "    }\n",
    "  ]\n",
    "}`\n",
    "\n",
    "\n",
    "### Linked Art Data Model - Depiction of Place with Approximate Location\n",
    "\n",
    "Relating the Linked Art model for geospatial approximation  to the depiction of places in Ruskin's works, the following representation has been created:\n",
    "\n",
    "\n",
    "`{\n",
    "  \"@context\": \"https://linked.art/ns/v1/linked-art.json\",\n",
    "  \"id\": \"https://linked.art/example/object/34\",\n",
    "  \"type\": \"HumanMadeObject\",\n",
    "  \"_label\": \"artwork title including place name\",\n",
    "    \"shows\": [\n",
    "    {\n",
    "      \"type\": \"VisualItem\",\n",
    "      \"represents\": [\n",
    "        {\n",
    "          \"type\": \"Place\",\n",
    "          \"_label\": \"Lucca\",\n",
    "          \"approximated_by\": [\n",
    "                {\n",
    "                  \"type\": \"Place\",\n",
    "                  \"_label\": \"Lucca - Location Approximation\",\n",
    "                  \"defined_by\": \"POINT(-0.0032937526703165 51.515107154846)\"\n",
    "                }\n",
    "              ]\n",
    "        }\n",
    "      ]\n",
    "    }\n",
    "  ]}`\n",
    "\n",
    "\n",
    "\n",
    "\n",
    "#### Further reading\n",
    "\n",
    "- Depiction https://linked.art/model/object/aboutness/#depiction\n",
    "\n",
    "- Geospatial approximation https://linked.art/model/place/#geospatial-approximation"
   ]
  },
  {
   "cell_type": "markdown",
   "id": "c292ee0c",
   "metadata": {},
   "source": [
    "<h3>Visualisation - Geographical Coordinates of Place Depicted in Artwork</h3>\n",
    "<p>Below is a visualisation of the Linked Art JSON-LD representation of geographical coordinates of a place depicted in an artwork. \n",
    "    \n",
    "Further information\n",
    "- explore the representation by clicking on nodes\n",
    "- SVG representation \n",
    "- uses \n",
    "   - D3.js\n",
    "   - is a modified version of code available in the JSON-LD Playground codebase\n",
    "\n",
    "\n",
    "#### Further Reading\n",
    "\n",
    "- d3.js  https://d3js.org/\n",
    "- jsonld-vis https://github.com/science-periodicals/jsonld-vis\n",
    "- jsonld playground  https://json-ld.org/playground and https://json-ld.org/playground/jsonld-vis.js \n"
   ]
  },
  {
   "cell_type": "markdown",
   "id": "687ef899",
   "metadata": {},
   "source": [
    "<div id='vis' style='height:100%;width:6000px'></div>"
   ]
  },
  {
   "cell_type": "code",
   "execution_count": 57,
   "id": "d1ccb958",
   "metadata": {},
   "outputs": [
    {
     "data": {
      "application/javascript": [
       "\n",
       "\n",
       "\n",
       "function visjsonld(file, selector){\n",
       "   \n",
       "    require([\"d3\"], function(d3) {\n",
       "        \n",
       "    d3.json(file, (err, jsonld) => {\n",
       "        \n",
       "    var config = {};\n",
       "    \n",
       "    var h = config.h || 800\n",
       "          , w = config.w || 3000\n",
       "          , maxLabelWidth = config.maxLabelWidth || 200\n",
       "          , transitionDuration = config.transitionDuration || 750\n",
       "          , transitionEase = config.transitionEase || 'cubic-in-out'\n",
       "          , minRadius = config.minRadius || 5\n",
       "          , scalingFactor = config.scalingFactor || 2;\n",
       "    \n",
       "    var i = 0;\n",
       "\n",
       "    var tree = d3.layout.tree()\n",
       "          .size([h, w]);\n",
       "        \n",
       "    var diagonal = d3.svg.diagonal()\n",
       "          .projection(function(d) { return [d.y, d.x]; });\n",
       "        \n",
       "    d3.select(selector).selectAll(\"svg\").remove();\n",
       "   \n",
       "    var svg = d3.select(selector).append('svg')\n",
       "            .attr('width', w)\n",
       "            .attr('height', h)\n",
       "            .attr('style', 'background-color:#446a7f')\n",
       "            .append('g')\n",
       "            .attr('transform', 'translate(' + maxLabelWidth + ',0)');\n",
       "            \n",
       "     var root = jsonldTree(jsonld);\n",
       "        root.x0 = h / 2;\n",
       "        root.y0 = 0;\n",
       "        root.children.forEach(collapse);\n",
       "    \n",
       "        function changeSVGWidth(newWidth) {\n",
       "          if (w !== newWidth) {\n",
       "            d3.select(selector + ' > svg').attr('width', newWidth);\n",
       "          }\n",
       "        }\n",
       "    \n",
       "        function jsonldTree(source) {\n",
       "          var tree = {};\n",
       "    \n",
       "          if ('@id' in source) {\n",
       "            tree.isIdNode = true;\n",
       "            tree.name = source['@id'];\n",
       "            if (tree.name.length > maxLabelWidth / 9) {\n",
       "              tree.valueExtended = tree.name;\n",
       "              tree.name = '...' + tree.valueExtended.slice(-Math.floor(maxLabelWidth / 9));\n",
       "            }\n",
       "          } else {\n",
       "            tree.isIdNode = true;\n",
       "            tree.isBlankNode = true;\n",
       "            // random id, can replace with actual uuid generator if needed\n",
       "            tree.name = '_' + Math.random().toString(10).slice(-7);\n",
       "          }\n",
       "    \n",
       "          var children = [];\n",
       "          Object.keys(source).forEach(function(key) {\n",
       "            if (key === '@id' || key === '@context' || source[key] === null) return;\n",
       "    \n",
       "            var valueExtended, value;\n",
       "            if (typeof source[key] === 'object' && !Array.isArray(source[key])) {\n",
       "              children.push({\n",
       "                name: key,\n",
       "                children: [jsonldTree(source[key])]\n",
       "              });\n",
       "            } else if (Array.isArray(source[key])) {\n",
       "              children.push({\n",
       "                name: key,\n",
       "                children: source[key].map(function(item) {\n",
       "                  if (typeof item === 'object') {\n",
       "                    return jsonldTree(item);\n",
       "                  } else {\n",
       "                    return { name: item };\n",
       "                  }\n",
       "                })\n",
       "              });\n",
       "            } else {\n",
       "              valueExtended = source[key];\n",
       "              value = valueExtended;\n",
       "              if (value.length > maxLabelWidth / 9) {\n",
       "                value = value.slice(0, Math.floor(maxLabelWidth / 2)) + '...';\n",
       "                children.push({\n",
       "                  name: key,\n",
       "                  value: value,\n",
       "                  valueExtended: valueExtended\n",
       "                });\n",
       "              } else {\n",
       "                children.push({\n",
       "                  name: key,\n",
       "                  value: value\n",
       "                });\n",
       "              }\n",
       "            }\n",
       "          });\n",
       "    \n",
       "          if (children.length) {\n",
       "            tree.children = children;\n",
       "          }\n",
       "    \n",
       "          return tree;\n",
       "        }\n",
       "    \n",
       "        function update(source) {\n",
       "          var nodes = tree.nodes(root).reverse();\n",
       "          var links = tree.links(nodes);\n",
       "    \n",
       "          nodes.forEach(function(d) { d.y = d.depth * maxLabelWidth; });\n",
       "    \n",
       "          var node = svg.selectAll('g.node')\n",
       "            .data(nodes, function(d) { return d.id || (d.id = ++i); });\n",
       "    \n",
       "          var nodeEnter = node.enter()\n",
       "            .append('g')\n",
       "            .attr('class', 'node')\n",
       "            .attr('transform', function(d) { return 'translate(' + source.y0 + ',' + source.x0 + ')'; })\n",
       "            .on('click', click);\n",
       "    \n",
       "          nodeEnter.append('circle')\n",
       "            .attr('r', 0)\n",
       "            .style('stroke-width', function(d) {\n",
       "              return d.isIdNode ? '2px' : '1px';\n",
       "            })\n",
       "            .style('stroke', function(d) {\n",
       "              return d.isIdNode ? 'navy' : '#78BE21';\n",
       "            })\n",
       "            .style('fill', function(d) {\n",
       "              if (d.isIdNode) {\n",
       "                return d._children ? 'white' : 'white';\n",
       "              } else {\n",
       "                return d._children ? 'white' : 'white';\n",
       "              }\n",
       "            })\n",
       "            \n",
       "    \n",
       "          nodeEnter.append('text')\n",
       "            .attr('x', function(d) {\n",
       "              var spacing = computeRadius(d) + 5;\n",
       "              return d.children || d._children ? -spacing : spacing;\n",
       "            })\n",
       "            .attr('dy', '4')\n",
       "            .attr('text-anchor', function(d) { return d.children || d._children ? 'end' : 'start'; })\n",
       "            .text(function(d) { return d.name + (d.value ? ': ' + d.value : ''); })\n",
       "            .style('fill-opacity', 0)\n",
       "            \n",
       ";\n",
       "    \n",
       "          var maxSpan = Math.max.apply(Math, nodes.map(function(d) { return d.y + maxLabelWidth; }));\n",
       "          if (maxSpan + maxLabelWidth + 20 > w) {\n",
       "            changeSVGWidth(maxSpan + maxLabelWidth);\n",
       "            d3.select(selector).node().scrollLeft = source.y0;\n",
       "          }\n",
       "    \n",
       "          var nodeUpdate = node.transition()\n",
       "            .duration(transitionDuration)\n",
       "            .ease(transitionEase)\n",
       "            .attr('transform', function(d) { return 'translate(' + d.y + ',' + d.x + ')'; });\n",
       "    \n",
       "          nodeUpdate.select('circle')\n",
       "            .attr('r', function(d) { return computeRadius(d); })\n",
       "            .style('stroke-width', function(d) {\n",
       "              return d.isIdNode ? '2px' : '1px';\n",
       "            })\n",
       "            .style('stroke', function(d) {\n",
       "              return d.isIdNode ? '#78BE21' : '#78BE21';\n",
       "            })\n",
       "            .style('fill', function(d) {\n",
       "              if (d.isIdNode) {\n",
       "                return d._children ? 'navy' : '#78BE21';\n",
       "              } else {\n",
       "                return d._children ? 'navy' : '#78BE21';\n",
       "              }\n",
       "            });\n",
       "    \n",
       "            nodeUpdate.select('text').style('fill-opacity', 1);\n",
       "            nodeUpdate.select('text').style('font-family', \"'Open Sans', 'Helvetica Neue', Helvetica, sans-serif\");\n",
       "            nodeUpdate.select('text').style('fill', 'white');\n",
       "            nodeUpdate.select('text').style('font-size', '12px');\n",
       "            \n",
       "            \n",
       "            \n",
       "           \n",
       "            \n",
       "    \n",
       "      \n",
       "    \n",
       "          var nodeExit = node.exit().transition()\n",
       "            .duration(transitionDuration)\n",
       "            .ease(transitionEase)\n",
       "            .attr('transform', function(d) { return 'translate(' + source.y + ',' + source.x + ')'; })\n",
       "            .remove();\n",
       "    \n",
       "          nodeExit.select('circle').attr('r', 0);\n",
       "          nodeExit.select('text').style('fill-opacity', 0);\n",
       "    \n",
       "          var link = svg.selectAll('path.link')\n",
       "            .data(links, function(d) { return d.target.id; });\n",
       "    \n",
       "          link.enter().insert('path', 'g')\n",
       "            .attr('class', 'link')\n",
       "            .attr('style', 'fill: none;stroke: #DADFE1;stroke-width: 1px;')\n",
       "            .attr('d', function(d) {\n",
       "              var o = { x: source.x0, y: source.y0 };\n",
       "              return diagonal({ source: o, target: o });\n",
       "            });\n",
       "    \n",
       "          link.transition()\n",
       "            .duration(transitionDuration)\n",
       "            .ease(transitionEase)\n",
       "            .attr('d', diagonal);\n",
       "    \n",
       "          link.exit().transition()\n",
       "            .duration(transitionDuration)\n",
       "            .ease(transitionEase)\n",
       "            .attr('d', function(d) {\n",
       "              var o = { x: source.x, y: source.y };\n",
       "              return diagonal({ source: o, target: o });\n",
       "            })\n",
       "            .remove();\n",
       "    \n",
       "          nodes.forEach(function(d) {\n",
       "            d.x0 = d.x;\n",
       "            d.y0 = d.y;\n",
       "          });\n",
       "        }\n",
       "    \n",
       "        function computeRadius(d) {\n",
       "          if (d.children || d._children) {\n",
       "            return minRadius + (numEndNodes(d) / scalingFactor);\n",
       "          } else {\n",
       "            return minRadius;\n",
       "          }\n",
       "        }\n",
       "    \n",
       "        function numEndNodes(n) {\n",
       "          var num = 0;\n",
       "          if (n.children) {\n",
       "            n.children.forEach(function(c) {\n",
       "              num += numEndNodes(c);\n",
       "            });\n",
       "          } else if (n._children) {\n",
       "            n._children.forEach(function(c) {\n",
       "              num += numEndNodes(c);\n",
       "            });\n",
       "          } else {\n",
       "            num++;\n",
       "          }\n",
       "          return num;\n",
       "        }\n",
       "    \n",
       "        function click(d) {\n",
       "          if (d.children) {\n",
       "            d._children = d.children;\n",
       "            d.children = null;\n",
       "          } else {\n",
       "            d.children = d._children;\n",
       "            d._children = null;\n",
       "          }\n",
       "    \n",
       "          update(d);\n",
       "    \n",
       "          // fast-forward blank nodes\n",
       "          if (d.children) {\n",
       "            d.children.forEach(function(child) {\n",
       "              if (child.isBlankNode && child._children) {\n",
       "                click(child);\n",
       "              }\n",
       "            });\n",
       "          }\n",
       "        }\n",
       "    \n",
       "        function collapse(d) {\n",
       "          if (d.children) {\n",
       "            d._children = d.children;\n",
       "            d._children.forEach(collapse);\n",
       "            d.children = null;\n",
       "          }\n",
       "        }\n",
       "    \n",
       "        update(root);\n",
       "      \n",
       "        \n",
       "    })\n",
       "\n",
       "\n",
       "\n",
       "\n",
       "})}\n",
       "var file = './data/examples/geolocation.json';var selector = '#vis';visjsonld(file, selector); "
      ],
      "text/plain": [
       "<IPython.core.display.Javascript object>"
      ]
     },
     "execution_count": 57,
     "metadata": {},
     "output_type": "execute_result"
    }
   ],
   "source": [
    "from IPython.core.display import Javascript\n",
    "\n",
    "code2 = \"var file = './data/examples/geolocation.json';\"\\\n",
    "        \"var selector = '#vis';\" \\\n",
    "        \"visjsonld(file, selector); \"  \n",
    "\n",
    "with open('./src/js/visld.js', 'r') as _jscript:\n",
    "    code = _jscript.read() + code2\n",
    "\n",
    "Javascript(code)"
   ]
  },
  {
   "cell_type": "markdown",
   "id": "1dfa884a",
   "metadata": {},
   "source": [
    "##  5. Add Place Name and Coordinates into Linked Art JSON-LD Files\n",
    "\n",
    "The final step is to add place names and geocoordinates to the original Linked Art files. \n",
    "\n",
    "The updated Linked Art files, including the geocoordinates, will later be used in a storymap visualisation of the artworks of John Ruskin, mapping the artworks to the locations that they depict, using the geocoordinates.\n",
    "\n",
    "The `cromulent` Python library is used to create the JSON-LD representation."
   ]
  },
  {
   "cell_type": "code",
   "execution_count": 58,
   "id": "d37dd072",
   "metadata": {},
   "outputs": [
    {
     "data": {
      "text/html": [
       "<h4>Study of a Venetian Capital</h4>"
      ],
      "text/plain": [
       "<IPython.core.display.HTML object>"
      ]
     },
     "metadata": {},
     "output_type": "display_data"
    },
    {
     "name": "stdout",
     "output_type": "stream",
     "text": [
      "Matching row in geographical coordinates file for artwork\n"
     ]
    },
    {
     "data": {
      "text/html": [
       "<div>\n",
       "<style scoped>\n",
       "    .dataframe tbody tr th:only-of-type {\n",
       "        vertical-align: middle;\n",
       "    }\n",
       "\n",
       "    .dataframe tbody tr th {\n",
       "        vertical-align: top;\n",
       "    }\n",
       "\n",
       "    .dataframe thead th {\n",
       "        text-align: right;\n",
       "    }\n",
       "</style>\n",
       "<table border=\"1\" class=\"dataframe\">\n",
       "  <thead>\n",
       "    <tr style=\"text-align: right;\">\n",
       "      <th></th>\n",
       "      <th>id</th>\n",
       "      <th>place</th>\n",
       "      <th>...</th>\n",
       "      <th>tgn</th>\n",
       "      <th>coords</th>\n",
       "    </tr>\n",
       "  </thead>\n",
       "  <tbody>\n",
       "    <tr>\n",
       "      <th>0</th>\n",
       "      <td>https://www.harvardartmuseums.org/collections/...</td>\n",
       "      <td>Study of a Venetian Capital</td>\n",
       "      <td>...</td>\n",
       "      <td>tgn/7003006</td>\n",
       "      <td>45.583333,12.566667</td>\n",
       "    </tr>\n",
       "  </tbody>\n",
       "</table>\n",
       "<p>1 rows × 5 columns</p>\n",
       "</div>"
      ],
      "text/plain": [
       "                                                  id  \\\n",
       "0  https://www.harvardartmuseums.org/collections/...   \n",
       "\n",
       "                         place  ...          tgn               coords  \n",
       "0  Study of a Venetian Capital  ...  tgn/7003006  45.583333,12.566667  \n",
       "\n",
       "[1 rows x 5 columns]"
      ]
     },
     "metadata": {},
     "output_type": "display_data"
    },
    {
     "name": "stdout",
     "output_type": "stream",
     "text": [
      "Geographical coordinates representation to be added:\n",
      "{\n",
      "  \"@context\": \"https://linked.art/ns/v1/linked-art.json\",\n",
      "  \"id\": \"http://lod.example.org/museum/VisualItem/87\",\n",
      "  \"type\": \"VisualItem\",\n",
      "  \"represents\": [\n",
      "    {\n",
      "      \"id\": \"http://lod.example.org/museum/Place/175\",\n",
      "      \"type\": \"Place\",\n",
      "      \"_label\": \"Study of a Venetian Capital\",\n",
      "      \"approximated_by\": [\n",
      "        {\n",
      "          \"id\": \"http://lod.example.org/museum/Place/174\",\n",
      "          \"type\": \"Place\",\n",
      "          \"_label\": \"Study of a Venetian Capital\",\n",
      "          \"defined_by\": \"POINT(45.583333 12.566667)\"\n",
      "        }\n",
      "      ]\n",
      "    }\n",
      "  ]\n",
      "}\n",
      "File updated\n"
     ]
    },
    {
     "data": {
      "text/html": [
       "<h4>Autumnal Cloud filling the Valley of Geneva, the Jura rising out of it, seen from the Brezon above Bonneville</h4>"
      ],
      "text/plain": [
       "<IPython.core.display.HTML object>"
      ]
     },
     "metadata": {},
     "output_type": "display_data"
    },
    {
     "name": "stdout",
     "output_type": "stream",
     "text": [
      "Matching row in geographical coordinates file for artwork\n"
     ]
    },
    {
     "data": {
      "text/html": [
       "<div>\n",
       "<style scoped>\n",
       "    .dataframe tbody tr th:only-of-type {\n",
       "        vertical-align: middle;\n",
       "    }\n",
       "\n",
       "    .dataframe tbody tr th {\n",
       "        vertical-align: top;\n",
       "    }\n",
       "\n",
       "    .dataframe thead th {\n",
       "        text-align: right;\n",
       "    }\n",
       "</style>\n",
       "<table border=\"1\" class=\"dataframe\">\n",
       "  <thead>\n",
       "    <tr style=\"text-align: right;\">\n",
       "      <th></th>\n",
       "      <th>id</th>\n",
       "      <th>place</th>\n",
       "      <th>...</th>\n",
       "      <th>tgn</th>\n",
       "      <th>coords</th>\n",
       "    </tr>\n",
       "  </thead>\n",
       "  <tbody>\n",
       "    <tr>\n",
       "      <th>20</th>\n",
       "      <td>https://collections.ashmolean.org/collection/1...</td>\n",
       "      <td>Autumnal Cloud filling the Valley of Geneva, t...</td>\n",
       "      <td>...</td>\n",
       "      <td>tgn/7003746</td>\n",
       "      <td>46.196732,6.110443</td>\n",
       "    </tr>\n",
       "  </tbody>\n",
       "</table>\n",
       "<p>1 rows × 5 columns</p>\n",
       "</div>"
      ],
      "text/plain": [
       "                                                   id  \\\n",
       "20  https://collections.ashmolean.org/collection/1...   \n",
       "\n",
       "                                                place  ...          tgn  \\\n",
       "20  Autumnal Cloud filling the Valley of Geneva, t...  ...  tgn/7003746   \n",
       "\n",
       "                coords  \n",
       "20  46.196732,6.110443  \n",
       "\n",
       "[1 rows x 5 columns]"
      ]
     },
     "metadata": {},
     "output_type": "display_data"
    },
    {
     "name": "stdout",
     "output_type": "stream",
     "text": [
      "Geographical coordinates representation to be added:\n",
      "{\n",
      "  \"@context\": \"https://linked.art/ns/v1/linked-art.json\",\n",
      "  \"id\": \"http://lod.example.org/museum/VisualItem/88\",\n",
      "  \"type\": \"VisualItem\",\n",
      "  \"represents\": [\n",
      "    {\n",
      "      \"id\": \"http://lod.example.org/museum/Place/177\",\n",
      "      \"type\": \"Place\",\n",
      "      \"_label\": \"Autumnal Cloud filling the Valley of Geneva, the Jura rising out of it, seen from the Brezon above Bonneville\",\n",
      "      \"approximated_by\": [\n",
      "        {\n",
      "          \"id\": \"http://lod.example.org/museum/Place/176\",\n",
      "          \"type\": \"Place\",\n",
      "          \"_label\": \"Autumnal Cloud filling the Valley of Geneva, the Jura rising out of it, seen from the Brezon above Bonneville\",\n",
      "          \"defined_by\": \"POINT(46.196732 6.110443)\"\n",
      "        }\n",
      "      ]\n",
      "    }\n",
      "  ]\n",
      "}\n",
      "File updated\n"
     ]
    },
    {
     "data": {
      "text/html": [
       "<h4>Axmouth Landslip from Dolands Farm</h4>"
      ],
      "text/plain": [
       "<IPython.core.display.HTML object>"
      ]
     },
     "metadata": {},
     "output_type": "display_data"
    },
    {
     "name": "stdout",
     "output_type": "stream",
     "text": [
      "Matching row in geographical coordinates file for artwork\n"
     ]
    },
    {
     "data": {
      "text/html": [
       "<div>\n",
       "<style scoped>\n",
       "    .dataframe tbody tr th:only-of-type {\n",
       "        vertical-align: middle;\n",
       "    }\n",
       "\n",
       "    .dataframe tbody tr th {\n",
       "        vertical-align: top;\n",
       "    }\n",
       "\n",
       "    .dataframe thead th {\n",
       "        text-align: right;\n",
       "    }\n",
       "</style>\n",
       "<table border=\"1\" class=\"dataframe\">\n",
       "  <thead>\n",
       "    <tr style=\"text-align: right;\">\n",
       "      <th></th>\n",
       "      <th>id</th>\n",
       "      <th>place</th>\n",
       "      <th>...</th>\n",
       "      <th>tgn</th>\n",
       "      <th>coords</th>\n",
       "    </tr>\n",
       "  </thead>\n",
       "  <tbody>\n",
       "    <tr>\n",
       "      <th>22</th>\n",
       "      <td>https://collections.ashmolean.org/collection/1...</td>\n",
       "      <td>Axmouth Landslip from Dolands Farm</td>\n",
       "      <td>...</td>\n",
       "      <td>tgn/1028371</td>\n",
       "      <td>50.716667,-3.05</td>\n",
       "    </tr>\n",
       "  </tbody>\n",
       "</table>\n",
       "<p>1 rows × 5 columns</p>\n",
       "</div>"
      ],
      "text/plain": [
       "                                                   id  \\\n",
       "22  https://collections.ashmolean.org/collection/1...   \n",
       "\n",
       "                                 place  ...          tgn           coords  \n",
       "22  Axmouth Landslip from Dolands Farm  ...  tgn/1028371  50.716667,-3.05  \n",
       "\n",
       "[1 rows x 5 columns]"
      ]
     },
     "metadata": {},
     "output_type": "display_data"
    },
    {
     "name": "stdout",
     "output_type": "stream",
     "text": [
      "Geographical coordinates representation to be added:\n",
      "{\n",
      "  \"@context\": \"https://linked.art/ns/v1/linked-art.json\",\n",
      "  \"id\": \"http://lod.example.org/museum/VisualItem/89\",\n",
      "  \"type\": \"VisualItem\",\n",
      "  \"represents\": [\n",
      "    {\n",
      "      \"id\": \"http://lod.example.org/museum/Place/179\",\n",
      "      \"type\": \"Place\",\n",
      "      \"_label\": \"Axmouth Landslip from Dolands Farm\",\n",
      "      \"approximated_by\": [\n",
      "        {\n",
      "          \"id\": \"http://lod.example.org/museum/Place/178\",\n",
      "          \"type\": \"Place\",\n",
      "          \"_label\": \"Axmouth Landslip from Dolands Farm\",\n",
      "          \"defined_by\": \"POINT(50.716667 -3.05)\"\n",
      "        }\n",
      "      ]\n",
      "    }\n",
      "  ]\n",
      "}\n",
      "File updated\n"
     ]
    },
    {
     "data": {
      "text/html": [
       "<h4>Tom Tower, Christ Church, Oxford</h4>"
      ],
      "text/plain": [
       "<IPython.core.display.HTML object>"
      ]
     },
     "metadata": {},
     "output_type": "display_data"
    },
    {
     "name": "stdout",
     "output_type": "stream",
     "text": [
      "Matching row in geographical coordinates file for artwork\n"
     ]
    },
    {
     "data": {
      "text/html": [
       "<div>\n",
       "<style scoped>\n",
       "    .dataframe tbody tr th:only-of-type {\n",
       "        vertical-align: middle;\n",
       "    }\n",
       "\n",
       "    .dataframe tbody tr th {\n",
       "        vertical-align: top;\n",
       "    }\n",
       "\n",
       "    .dataframe thead th {\n",
       "        text-align: right;\n",
       "    }\n",
       "</style>\n",
       "<table border=\"1\" class=\"dataframe\">\n",
       "  <thead>\n",
       "    <tr style=\"text-align: right;\">\n",
       "      <th></th>\n",
       "      <th>id</th>\n",
       "      <th>place</th>\n",
       "      <th>...</th>\n",
       "      <th>tgn</th>\n",
       "      <th>coords</th>\n",
       "    </tr>\n",
       "  </thead>\n",
       "  <tbody>\n",
       "    <tr>\n",
       "      <th>23</th>\n",
       "      <td>https://www.harvardartmuseums.org/collections/...</td>\n",
       "      <td>Tom Tower, Christ Church, Oxford</td>\n",
       "      <td>...</td>\n",
       "      <td>tgn/7011931</td>\n",
       "      <td>51.75,-1.25</td>\n",
       "    </tr>\n",
       "  </tbody>\n",
       "</table>\n",
       "<p>1 rows × 5 columns</p>\n",
       "</div>"
      ],
      "text/plain": [
       "                                                   id  \\\n",
       "23  https://www.harvardartmuseums.org/collections/...   \n",
       "\n",
       "                               place  ...          tgn       coords  \n",
       "23  Tom Tower, Christ Church, Oxford  ...  tgn/7011931  51.75,-1.25  \n",
       "\n",
       "[1 rows x 5 columns]"
      ]
     },
     "metadata": {},
     "output_type": "display_data"
    },
    {
     "name": "stdout",
     "output_type": "stream",
     "text": [
      "Geographical coordinates representation to be added:\n",
      "{\n",
      "  \"@context\": \"https://linked.art/ns/v1/linked-art.json\",\n",
      "  \"id\": \"http://lod.example.org/museum/VisualItem/90\",\n",
      "  \"type\": \"VisualItem\",\n",
      "  \"represents\": [\n",
      "    {\n",
      "      \"id\": \"http://lod.example.org/museum/Place/181\",\n",
      "      \"type\": \"Place\",\n",
      "      \"_label\": \"Tom Tower, Christ Church, Oxford\",\n",
      "      \"approximated_by\": [\n",
      "        {\n",
      "          \"id\": \"http://lod.example.org/museum/Place/180\",\n",
      "          \"type\": \"Place\",\n",
      "          \"_label\": \"Tom Tower, Christ Church, Oxford\",\n",
      "          \"defined_by\": \"POINT(51.75 -1.25)\"\n",
      "        }\n",
      "      ]\n",
      "    }\n",
      "  ]\n",
      "}\n",
      "File updated\n"
     ]
    },
    {
     "data": {
      "text/html": [
       "<h4>Study of a Venetian Capital</h4>"
      ],
      "text/plain": [
       "<IPython.core.display.HTML object>"
      ]
     },
     "metadata": {},
     "output_type": "display_data"
    },
    {
     "name": "stdout",
     "output_type": "stream",
     "text": [
      "Matching row in geographical coordinates file for artwork\n"
     ]
    },
    {
     "data": {
      "text/html": [
       "<div>\n",
       "<style scoped>\n",
       "    .dataframe tbody tr th:only-of-type {\n",
       "        vertical-align: middle;\n",
       "    }\n",
       "\n",
       "    .dataframe tbody tr th {\n",
       "        vertical-align: top;\n",
       "    }\n",
       "\n",
       "    .dataframe thead th {\n",
       "        text-align: right;\n",
       "    }\n",
       "</style>\n",
       "<table border=\"1\" class=\"dataframe\">\n",
       "  <thead>\n",
       "    <tr style=\"text-align: right;\">\n",
       "      <th></th>\n",
       "      <th>id</th>\n",
       "      <th>place</th>\n",
       "      <th>...</th>\n",
       "      <th>tgn</th>\n",
       "      <th>coords</th>\n",
       "    </tr>\n",
       "  </thead>\n",
       "  <tbody>\n",
       "    <tr>\n",
       "      <th>1</th>\n",
       "      <td>https://www.harvardartmuseums.org/collections/...</td>\n",
       "      <td>Study of a Venetian Capital</td>\n",
       "      <td>...</td>\n",
       "      <td>tgn/7003006</td>\n",
       "      <td>45.583333,12.566667</td>\n",
       "    </tr>\n",
       "  </tbody>\n",
       "</table>\n",
       "<p>1 rows × 5 columns</p>\n",
       "</div>"
      ],
      "text/plain": [
       "                                                  id  \\\n",
       "1  https://www.harvardartmuseums.org/collections/...   \n",
       "\n",
       "                         place  ...          tgn               coords  \n",
       "1  Study of a Venetian Capital  ...  tgn/7003006  45.583333,12.566667  \n",
       "\n",
       "[1 rows x 5 columns]"
      ]
     },
     "metadata": {},
     "output_type": "display_data"
    },
    {
     "name": "stdout",
     "output_type": "stream",
     "text": [
      "Geographical coordinates representation to be added:\n",
      "{\n",
      "  \"@context\": \"https://linked.art/ns/v1/linked-art.json\",\n",
      "  \"id\": \"http://lod.example.org/museum/VisualItem/91\",\n",
      "  \"type\": \"VisualItem\",\n",
      "  \"represents\": [\n",
      "    {\n",
      "      \"id\": \"http://lod.example.org/museum/Place/183\",\n",
      "      \"type\": \"Place\",\n",
      "      \"_label\": \"Study of a Venetian Capital\",\n",
      "      \"approximated_by\": [\n",
      "        {\n",
      "          \"id\": \"http://lod.example.org/museum/Place/182\",\n",
      "          \"type\": \"Place\",\n",
      "          \"_label\": \"Study of a Venetian Capital\",\n",
      "          \"defined_by\": \"POINT(45.583333 12.566667)\"\n",
      "        }\n",
      "      ]\n",
      "    }\n",
      "  ]\n",
      "}\n",
      "File updated\n"
     ]
    },
    {
     "data": {
      "text/html": [
       "<h4>View of Bologna</h4>"
      ],
      "text/plain": [
       "<IPython.core.display.HTML object>"
      ]
     },
     "metadata": {},
     "output_type": "display_data"
    },
    {
     "name": "stdout",
     "output_type": "stream",
     "text": [
      "Matching row in geographical coordinates file for artwork\n"
     ]
    },
    {
     "data": {
      "text/html": [
       "<div>\n",
       "<style scoped>\n",
       "    .dataframe tbody tr th:only-of-type {\n",
       "        vertical-align: middle;\n",
       "    }\n",
       "\n",
       "    .dataframe tbody tr th {\n",
       "        vertical-align: top;\n",
       "    }\n",
       "\n",
       "    .dataframe thead th {\n",
       "        text-align: right;\n",
       "    }\n",
       "</style>\n",
       "<table border=\"1\" class=\"dataframe\">\n",
       "  <thead>\n",
       "    <tr style=\"text-align: right;\">\n",
       "      <th></th>\n",
       "      <th>id</th>\n",
       "      <th>place</th>\n",
       "      <th>...</th>\n",
       "      <th>tgn</th>\n",
       "      <th>coords</th>\n",
       "    </tr>\n",
       "  </thead>\n",
       "  <tbody>\n",
       "    <tr>\n",
       "      <th>34</th>\n",
       "      <td>https://www.tate.org.uk/art/artworks/13033</td>\n",
       "      <td>View of Bologna</td>\n",
       "      <td>...</td>\n",
       "      <td>tgn/7003127</td>\n",
       "      <td>44.466667,11.433333</td>\n",
       "    </tr>\n",
       "  </tbody>\n",
       "</table>\n",
       "<p>1 rows × 5 columns</p>\n",
       "</div>"
      ],
      "text/plain": [
       "                                            id            place  ...  \\\n",
       "34  https://www.tate.org.uk/art/artworks/13033  View of Bologna  ...   \n",
       "\n",
       "            tgn               coords  \n",
       "34  tgn/7003127  44.466667,11.433333  \n",
       "\n",
       "[1 rows x 5 columns]"
      ]
     },
     "metadata": {},
     "output_type": "display_data"
    },
    {
     "name": "stdout",
     "output_type": "stream",
     "text": [
      "Geographical coordinates representation to be added:\n",
      "{\n",
      "  \"@context\": \"https://linked.art/ns/v1/linked-art.json\",\n",
      "  \"id\": \"http://lod.example.org/museum/VisualItem/92\",\n",
      "  \"type\": \"VisualItem\",\n",
      "  \"represents\": [\n",
      "    {\n",
      "      \"id\": \"http://lod.example.org/museum/Place/185\",\n",
      "      \"type\": \"Place\",\n",
      "      \"_label\": \"View of Bologna\",\n",
      "      \"approximated_by\": [\n",
      "        {\n",
      "          \"id\": \"http://lod.example.org/museum/Place/184\",\n",
      "          \"type\": \"Place\",\n",
      "          \"_label\": \"View of Bologna\",\n",
      "          \"defined_by\": \"POINT(44.466667 11.433333)\"\n",
      "        }\n",
      "      ]\n",
      "    }\n",
      "  ]\n",
      "}\n",
      "File updated\n"
     ]
    },
    {
     "data": {
      "text/html": [
       "<h4>Fragment of the Alps</h4>"
      ],
      "text/plain": [
       "<IPython.core.display.HTML object>"
      ]
     },
     "metadata": {},
     "output_type": "display_data"
    },
    {
     "name": "stdout",
     "output_type": "stream",
     "text": [
      "Matching row in geographical coordinates file for artwork\n"
     ]
    },
    {
     "data": {
      "text/html": [
       "<div>\n",
       "<style scoped>\n",
       "    .dataframe tbody tr th:only-of-type {\n",
       "        vertical-align: middle;\n",
       "    }\n",
       "\n",
       "    .dataframe tbody tr th {\n",
       "        vertical-align: top;\n",
       "    }\n",
       "\n",
       "    .dataframe thead th {\n",
       "        text-align: right;\n",
       "    }\n",
       "</style>\n",
       "<table border=\"1\" class=\"dataframe\">\n",
       "  <thead>\n",
       "    <tr style=\"text-align: right;\">\n",
       "      <th></th>\n",
       "      <th>id</th>\n",
       "      <th>place</th>\n",
       "      <th>...</th>\n",
       "      <th>tgn</th>\n",
       "      <th>coords</th>\n",
       "    </tr>\n",
       "  </thead>\n",
       "  <tbody>\n",
       "    <tr>\n",
       "      <th>35</th>\n",
       "      <td>https://www.harvardartmuseums.org/collections/...</td>\n",
       "      <td>Fragment of the Alps</td>\n",
       "      <td>...</td>\n",
       "      <td>tgn/7007746</td>\n",
       "      <td>46.416667,10</td>\n",
       "    </tr>\n",
       "  </tbody>\n",
       "</table>\n",
       "<p>1 rows × 5 columns</p>\n",
       "</div>"
      ],
      "text/plain": [
       "                                                   id                 place  \\\n",
       "35  https://www.harvardartmuseums.org/collections/...  Fragment of the Alps   \n",
       "\n",
       "    ...          tgn        coords  \n",
       "35  ...  tgn/7007746  46.416667,10  \n",
       "\n",
       "[1 rows x 5 columns]"
      ]
     },
     "metadata": {},
     "output_type": "display_data"
    },
    {
     "name": "stdout",
     "output_type": "stream",
     "text": [
      "Geographical coordinates representation to be added:\n",
      "{\n",
      "  \"@context\": \"https://linked.art/ns/v1/linked-art.json\",\n",
      "  \"id\": \"http://lod.example.org/museum/VisualItem/93\",\n",
      "  \"type\": \"VisualItem\",\n",
      "  \"represents\": [\n",
      "    {\n",
      "      \"id\": \"http://lod.example.org/museum/Place/187\",\n",
      "      \"type\": \"Place\",\n",
      "      \"_label\": \"Fragment of the Alps\",\n",
      "      \"approximated_by\": [\n",
      "        {\n",
      "          \"id\": \"http://lod.example.org/museum/Place/186\",\n",
      "          \"type\": \"Place\",\n",
      "          \"_label\": \"Fragment of the Alps\",\n",
      "          \"defined_by\": \"POINT(46.416667 10)\"\n",
      "        }\n",
      "      ]\n",
      "    }\n",
      "  ]\n",
      "}\n",
      "File updated\n"
     ]
    },
    {
     "data": {
      "text/html": [
       "<h4>Looking down from Florence towards Lucca</h4>"
      ],
      "text/plain": [
       "<IPython.core.display.HTML object>"
      ]
     },
     "metadata": {},
     "output_type": "display_data"
    },
    {
     "name": "stdout",
     "output_type": "stream",
     "text": [
      "Matching row in geographical coordinates file for artwork\n"
     ]
    },
    {
     "data": {
      "text/html": [
       "<div>\n",
       "<style scoped>\n",
       "    .dataframe tbody tr th:only-of-type {\n",
       "        vertical-align: middle;\n",
       "    }\n",
       "\n",
       "    .dataframe tbody tr th {\n",
       "        vertical-align: top;\n",
       "    }\n",
       "\n",
       "    .dataframe thead th {\n",
       "        text-align: right;\n",
       "    }\n",
       "</style>\n",
       "<table border=\"1\" class=\"dataframe\">\n",
       "  <thead>\n",
       "    <tr style=\"text-align: right;\">\n",
       "      <th></th>\n",
       "      <th>id</th>\n",
       "      <th>place</th>\n",
       "      <th>...</th>\n",
       "      <th>tgn</th>\n",
       "      <th>coords</th>\n",
       "    </tr>\n",
       "  </thead>\n",
       "  <tbody>\n",
       "    <tr>\n",
       "      <th>40</th>\n",
       "      <td>https://www.harvardartmuseums.org/collections/...</td>\n",
       "      <td>Looking down from Florence towards Lucca</td>\n",
       "      <td>...</td>\n",
       "      <td>tgn/7003165</td>\n",
       "      <td>44.033333,10.45</td>\n",
       "    </tr>\n",
       "  </tbody>\n",
       "</table>\n",
       "<p>1 rows × 5 columns</p>\n",
       "</div>"
      ],
      "text/plain": [
       "                                                   id  \\\n",
       "40  https://www.harvardartmuseums.org/collections/...   \n",
       "\n",
       "                                       place  ...          tgn  \\\n",
       "40  Looking down from Florence towards Lucca  ...  tgn/7003165   \n",
       "\n",
       "             coords  \n",
       "40  44.033333,10.45  \n",
       "\n",
       "[1 rows x 5 columns]"
      ]
     },
     "metadata": {},
     "output_type": "display_data"
    },
    {
     "name": "stdout",
     "output_type": "stream",
     "text": [
      "Geographical coordinates representation to be added:\n",
      "{\n",
      "  \"@context\": \"https://linked.art/ns/v1/linked-art.json\",\n",
      "  \"id\": \"http://lod.example.org/museum/VisualItem/94\",\n",
      "  \"type\": \"VisualItem\",\n",
      "  \"represents\": [\n",
      "    {\n",
      "      \"id\": \"http://lod.example.org/museum/Place/189\",\n",
      "      \"type\": \"Place\",\n",
      "      \"_label\": \"Looking down from Florence towards Lucca\",\n",
      "      \"approximated_by\": [\n",
      "        {\n",
      "          \"id\": \"http://lod.example.org/museum/Place/188\",\n",
      "          \"type\": \"Place\",\n",
      "          \"_label\": \"Looking down from Florence towards Lucca\",\n",
      "          \"defined_by\": \"POINT(44.033333 10.45)\"\n",
      "        }\n",
      "      ]\n",
      "    }\n",
      "  ]\n",
      "}\n",
      "File updated\n"
     ]
    },
    {
     "data": {
      "text/html": [
       "<h4>Study of a Lion Cub from Nicola Pisano's Siena Pulpit</h4>"
      ],
      "text/plain": [
       "<IPython.core.display.HTML object>"
      ]
     },
     "metadata": {},
     "output_type": "display_data"
    },
    {
     "name": "stdout",
     "output_type": "stream",
     "text": [
      "Matching row in geographical coordinates file for artwork\n"
     ]
    },
    {
     "data": {
      "text/html": [
       "<div>\n",
       "<style scoped>\n",
       "    .dataframe tbody tr th:only-of-type {\n",
       "        vertical-align: middle;\n",
       "    }\n",
       "\n",
       "    .dataframe tbody tr th {\n",
       "        vertical-align: top;\n",
       "    }\n",
       "\n",
       "    .dataframe thead th {\n",
       "        text-align: right;\n",
       "    }\n",
       "</style>\n",
       "<table border=\"1\" class=\"dataframe\">\n",
       "  <thead>\n",
       "    <tr style=\"text-align: right;\">\n",
       "      <th></th>\n",
       "      <th>id</th>\n",
       "      <th>place</th>\n",
       "      <th>...</th>\n",
       "      <th>tgn</th>\n",
       "      <th>coords</th>\n",
       "    </tr>\n",
       "  </thead>\n",
       "  <tbody>\n",
       "    <tr>\n",
       "      <th>44</th>\n",
       "      <td>https://collections.ashmolean.org/collection/1...</td>\n",
       "      <td>Study of a Lion Cub from Nicola Pisano's Siena...</td>\n",
       "      <td>...</td>\n",
       "      <td>tgn/7003168</td>\n",
       "      <td>43.216667,11.4</td>\n",
       "    </tr>\n",
       "  </tbody>\n",
       "</table>\n",
       "<p>1 rows × 5 columns</p>\n",
       "</div>"
      ],
      "text/plain": [
       "                                                   id  \\\n",
       "44  https://collections.ashmolean.org/collection/1...   \n",
       "\n",
       "                                                place  ...          tgn  \\\n",
       "44  Study of a Lion Cub from Nicola Pisano's Siena...  ...  tgn/7003168   \n",
       "\n",
       "            coords  \n",
       "44  43.216667,11.4  \n",
       "\n",
       "[1 rows x 5 columns]"
      ]
     },
     "metadata": {},
     "output_type": "display_data"
    },
    {
     "name": "stdout",
     "output_type": "stream",
     "text": [
      "Geographical coordinates representation to be added:\n",
      "{\n",
      "  \"@context\": \"https://linked.art/ns/v1/linked-art.json\",\n",
      "  \"id\": \"http://lod.example.org/museum/VisualItem/95\",\n",
      "  \"type\": \"VisualItem\",\n",
      "  \"represents\": [\n",
      "    {\n",
      "      \"id\": \"http://lod.example.org/museum/Place/191\",\n",
      "      \"type\": \"Place\",\n",
      "      \"_label\": \"Study of a Lion Cub from Nicola Pisano's Siena Pulpit\",\n",
      "      \"approximated_by\": [\n",
      "        {\n",
      "          \"id\": \"http://lod.example.org/museum/Place/190\",\n",
      "          \"type\": \"Place\",\n",
      "          \"_label\": \"Study of a Lion Cub from Nicola Pisano's Siena Pulpit\",\n",
      "          \"defined_by\": \"POINT(43.216667 11.4)\"\n",
      "        }\n",
      "      ]\n",
      "    }\n",
      "  ]\n",
      "}\n",
      "File updated\n"
     ]
    },
    {
     "data": {
      "text/html": [
       "<h4>Entrance to Feldkirch, the Vorarlberg</h4>"
      ],
      "text/plain": [
       "<IPython.core.display.HTML object>"
      ]
     },
     "metadata": {},
     "output_type": "display_data"
    },
    {
     "name": "stdout",
     "output_type": "stream",
     "text": [
      "Matching row in geographical coordinates file for artwork\n"
     ]
    },
    {
     "data": {
      "text/html": [
       "<div>\n",
       "<style scoped>\n",
       "    .dataframe tbody tr th:only-of-type {\n",
       "        vertical-align: middle;\n",
       "    }\n",
       "\n",
       "    .dataframe tbody tr th {\n",
       "        vertical-align: top;\n",
       "    }\n",
       "\n",
       "    .dataframe thead th {\n",
       "        text-align: right;\n",
       "    }\n",
       "</style>\n",
       "<table border=\"1\" class=\"dataframe\">\n",
       "  <thead>\n",
       "    <tr style=\"text-align: right;\">\n",
       "      <th></th>\n",
       "      <th>id</th>\n",
       "      <th>place</th>\n",
       "      <th>...</th>\n",
       "      <th>tgn</th>\n",
       "      <th>coords</th>\n",
       "    </tr>\n",
       "  </thead>\n",
       "  <tbody>\n",
       "    <tr>\n",
       "      <th>48</th>\n",
       "      <td>https://www.harvardartmuseums.org/collections/...</td>\n",
       "      <td>Entrance to Feldkirch, the Vorarlberg</td>\n",
       "      <td>...</td>\n",
       "      <td>tgn/7018001</td>\n",
       "      <td>47.25,9.9167</td>\n",
       "    </tr>\n",
       "  </tbody>\n",
       "</table>\n",
       "<p>1 rows × 5 columns</p>\n",
       "</div>"
      ],
      "text/plain": [
       "                                                   id  \\\n",
       "48  https://www.harvardartmuseums.org/collections/...   \n",
       "\n",
       "                                    place  ...          tgn        coords  \n",
       "48  Entrance to Feldkirch, the Vorarlberg  ...  tgn/7018001  47.25,9.9167  \n",
       "\n",
       "[1 rows x 5 columns]"
      ]
     },
     "metadata": {},
     "output_type": "display_data"
    },
    {
     "name": "stdout",
     "output_type": "stream",
     "text": [
      "Geographical coordinates representation to be added:\n",
      "{\n",
      "  \"@context\": \"https://linked.art/ns/v1/linked-art.json\",\n",
      "  \"id\": \"http://lod.example.org/museum/VisualItem/96\",\n",
      "  \"type\": \"VisualItem\",\n",
      "  \"represents\": [\n",
      "    {\n",
      "      \"id\": \"http://lod.example.org/museum/Place/193\",\n",
      "      \"type\": \"Place\",\n",
      "      \"_label\": \"Entrance to Feldkirch, the Vorarlberg\",\n",
      "      \"approximated_by\": [\n",
      "        {\n",
      "          \"id\": \"http://lod.example.org/museum/Place/192\",\n",
      "          \"type\": \"Place\",\n",
      "          \"_label\": \"Entrance to Feldkirch, the Vorarlberg\",\n",
      "          \"defined_by\": \"POINT(47.25 9.9167)\"\n",
      "        }\n",
      "      ]\n",
      "    }\n",
      "  ]\n",
      "}\n",
      "File updated\n"
     ]
    },
    {
     "data": {
      "text/html": [
       "<h4>The Tower of Gloucester Cathedral</h4>"
      ],
      "text/plain": [
       "<IPython.core.display.HTML object>"
      ]
     },
     "metadata": {},
     "output_type": "display_data"
    },
    {
     "name": "stdout",
     "output_type": "stream",
     "text": [
      "Matching row in geographical coordinates file for artwork\n"
     ]
    },
    {
     "data": {
      "text/html": [
       "<div>\n",
       "<style scoped>\n",
       "    .dataframe tbody tr th:only-of-type {\n",
       "        vertical-align: middle;\n",
       "    }\n",
       "\n",
       "    .dataframe tbody tr th {\n",
       "        vertical-align: top;\n",
       "    }\n",
       "\n",
       "    .dataframe thead th {\n",
       "        text-align: right;\n",
       "    }\n",
       "</style>\n",
       "<table border=\"1\" class=\"dataframe\">\n",
       "  <thead>\n",
       "    <tr style=\"text-align: right;\">\n",
       "      <th></th>\n",
       "      <th>id</th>\n",
       "      <th>place</th>\n",
       "      <th>...</th>\n",
       "      <th>tgn</th>\n",
       "      <th>coords</th>\n",
       "    </tr>\n",
       "  </thead>\n",
       "  <tbody>\n",
       "    <tr>\n",
       "      <th>49</th>\n",
       "      <td>https://collections.ashmolean.org/collection/1...</td>\n",
       "      <td>The Tower of Gloucester Cathedral</td>\n",
       "      <td>...</td>\n",
       "      <td>tgn/7011128</td>\n",
       "      <td>51.833333,-2.25</td>\n",
       "    </tr>\n",
       "  </tbody>\n",
       "</table>\n",
       "<p>1 rows × 5 columns</p>\n",
       "</div>"
      ],
      "text/plain": [
       "                                                   id  \\\n",
       "49  https://collections.ashmolean.org/collection/1...   \n",
       "\n",
       "                                place  ...          tgn           coords  \n",
       "49  The Tower of Gloucester Cathedral  ...  tgn/7011128  51.833333,-2.25  \n",
       "\n",
       "[1 rows x 5 columns]"
      ]
     },
     "metadata": {},
     "output_type": "display_data"
    },
    {
     "name": "stdout",
     "output_type": "stream",
     "text": [
      "Geographical coordinates representation to be added:\n",
      "{\n",
      "  \"@context\": \"https://linked.art/ns/v1/linked-art.json\",\n",
      "  \"id\": \"http://lod.example.org/museum/VisualItem/97\",\n",
      "  \"type\": \"VisualItem\",\n",
      "  \"represents\": [\n",
      "    {\n",
      "      \"id\": \"http://lod.example.org/museum/Place/195\",\n",
      "      \"type\": \"Place\",\n",
      "      \"_label\": \"The Tower of Gloucester Cathedral\",\n",
      "      \"approximated_by\": [\n",
      "        {\n",
      "          \"id\": \"http://lod.example.org/museum/Place/194\",\n",
      "          \"type\": \"Place\",\n",
      "          \"_label\": \"The Tower of Gloucester Cathedral\",\n",
      "          \"defined_by\": \"POINT(51.833333 -2.25)\"\n",
      "        }\n",
      "      ]\n",
      "    }\n",
      "  ]\n",
      "}\n",
      "File updated\n"
     ]
    },
    {
     "data": {
      "text/html": [
       "<h4>The Courtyard of a Late Gothic Wooden House at Abbeville</h4>"
      ],
      "text/plain": [
       "<IPython.core.display.HTML object>"
      ]
     },
     "metadata": {},
     "output_type": "display_data"
    },
    {
     "name": "stdout",
     "output_type": "stream",
     "text": [
      "Matching row in geographical coordinates file for artwork\n"
     ]
    },
    {
     "data": {
      "text/html": [
       "<div>\n",
       "<style scoped>\n",
       "    .dataframe tbody tr th:only-of-type {\n",
       "        vertical-align: middle;\n",
       "    }\n",
       "\n",
       "    .dataframe tbody tr th {\n",
       "        vertical-align: top;\n",
       "    }\n",
       "\n",
       "    .dataframe thead th {\n",
       "        text-align: right;\n",
       "    }\n",
       "</style>\n",
       "<table border=\"1\" class=\"dataframe\">\n",
       "  <thead>\n",
       "    <tr style=\"text-align: right;\">\n",
       "      <th></th>\n",
       "      <th>id</th>\n",
       "      <th>place</th>\n",
       "      <th>...</th>\n",
       "      <th>tgn</th>\n",
       "      <th>coords</th>\n",
       "    </tr>\n",
       "  </thead>\n",
       "  <tbody>\n",
       "    <tr>\n",
       "      <th>50</th>\n",
       "      <td>https://collections.ashmolean.org/collection/1...</td>\n",
       "      <td>The Courtyard of a Late Gothic Wooden House at...</td>\n",
       "      <td>...</td>\n",
       "      <td>tgn/7668075</td>\n",
       "      <td>50.166667,1.75</td>\n",
       "    </tr>\n",
       "  </tbody>\n",
       "</table>\n",
       "<p>1 rows × 5 columns</p>\n",
       "</div>"
      ],
      "text/plain": [
       "                                                   id  \\\n",
       "50  https://collections.ashmolean.org/collection/1...   \n",
       "\n",
       "                                                place  ...          tgn  \\\n",
       "50  The Courtyard of a Late Gothic Wooden House at...  ...  tgn/7668075   \n",
       "\n",
       "            coords  \n",
       "50  50.166667,1.75  \n",
       "\n",
       "[1 rows x 5 columns]"
      ]
     },
     "metadata": {},
     "output_type": "display_data"
    },
    {
     "name": "stdout",
     "output_type": "stream",
     "text": [
      "Geographical coordinates representation to be added:\n",
      "{\n",
      "  \"@context\": \"https://linked.art/ns/v1/linked-art.json\",\n",
      "  \"id\": \"http://lod.example.org/museum/VisualItem/98\",\n",
      "  \"type\": \"VisualItem\",\n",
      "  \"represents\": [\n",
      "    {\n",
      "      \"id\": \"http://lod.example.org/museum/Place/197\",\n",
      "      \"type\": \"Place\",\n",
      "      \"_label\": \"The Courtyard of a Late Gothic Wooden House at Abbeville\",\n",
      "      \"approximated_by\": [\n",
      "        {\n",
      "          \"id\": \"http://lod.example.org/museum/Place/196\",\n",
      "          \"type\": \"Place\",\n",
      "          \"_label\": \"The Courtyard of a Late Gothic Wooden House at Abbeville\",\n",
      "          \"defined_by\": \"POINT(50.166667 1.75)\"\n",
      "        }\n",
      "      ]\n",
      "    }\n",
      "  ]\n",
      "}\n",
      "File updated\n"
     ]
    },
    {
     "data": {
      "text/html": [
       "<h4>Detail of the Equestrian Statue on the Summit of the Tomb of Cangrande I della Scala, Verona</h4>"
      ],
      "text/plain": [
       "<IPython.core.display.HTML object>"
      ]
     },
     "metadata": {},
     "output_type": "display_data"
    },
    {
     "name": "stdout",
     "output_type": "stream",
     "text": [
      "Matching row in geographical coordinates file for artwork\n"
     ]
    },
    {
     "data": {
      "text/html": [
       "<div>\n",
       "<style scoped>\n",
       "    .dataframe tbody tr th:only-of-type {\n",
       "        vertical-align: middle;\n",
       "    }\n",
       "\n",
       "    .dataframe tbody tr th {\n",
       "        vertical-align: top;\n",
       "    }\n",
       "\n",
       "    .dataframe thead th {\n",
       "        text-align: right;\n",
       "    }\n",
       "</style>\n",
       "<table border=\"1\" class=\"dataframe\">\n",
       "  <thead>\n",
       "    <tr style=\"text-align: right;\">\n",
       "      <th></th>\n",
       "      <th>id</th>\n",
       "      <th>place</th>\n",
       "      <th>...</th>\n",
       "      <th>tgn</th>\n",
       "      <th>coords</th>\n",
       "    </tr>\n",
       "  </thead>\n",
       "  <tbody>\n",
       "    <tr>\n",
       "      <th>57</th>\n",
       "      <td>https://collections.ashmolean.org/collection/1...</td>\n",
       "      <td>Detail of the Equestrian Statue on the Summit ...</td>\n",
       "      <td>...</td>\n",
       "      <td>tgn/7003262</td>\n",
       "      <td>45.45,11</td>\n",
       "    </tr>\n",
       "  </tbody>\n",
       "</table>\n",
       "<p>1 rows × 5 columns</p>\n",
       "</div>"
      ],
      "text/plain": [
       "                                                   id  \\\n",
       "57  https://collections.ashmolean.org/collection/1...   \n",
       "\n",
       "                                                place  ...          tgn  \\\n",
       "57  Detail of the Equestrian Statue on the Summit ...  ...  tgn/7003262   \n",
       "\n",
       "      coords  \n",
       "57  45.45,11  \n",
       "\n",
       "[1 rows x 5 columns]"
      ]
     },
     "metadata": {},
     "output_type": "display_data"
    },
    {
     "name": "stdout",
     "output_type": "stream",
     "text": [
      "Geographical coordinates representation to be added:\n",
      "{\n",
      "  \"@context\": \"https://linked.art/ns/v1/linked-art.json\",\n",
      "  \"id\": \"http://lod.example.org/museum/VisualItem/99\",\n",
      "  \"type\": \"VisualItem\",\n",
      "  \"represents\": [\n",
      "    {\n",
      "      \"id\": \"http://lod.example.org/museum/Place/199\",\n",
      "      \"type\": \"Place\",\n",
      "      \"_label\": \"Detail of the Equestrian Statue on the Summit of the Tomb of Cangrande I della Scala, Verona\",\n",
      "      \"approximated_by\": [\n",
      "        {\n",
      "          \"id\": \"http://lod.example.org/museum/Place/198\",\n",
      "          \"type\": \"Place\",\n",
      "          \"_label\": \"Detail of the Equestrian Statue on the Summit of the Tomb of Cangrande I della Scala, Verona\",\n",
      "          \"defined_by\": \"POINT(45.45 11)\"\n",
      "        }\n",
      "      ]\n",
      "    }\n",
      "  ]\n",
      "}\n",
      "File updated\n"
     ]
    },
    {
     "data": {
      "text/html": [
       "<h4>Sketch of Verona</h4>"
      ],
      "text/plain": [
       "<IPython.core.display.HTML object>"
      ]
     },
     "metadata": {},
     "output_type": "display_data"
    },
    {
     "name": "stdout",
     "output_type": "stream",
     "text": [
      "Matching row in geographical coordinates file for artwork\n"
     ]
    },
    {
     "data": {
      "text/html": [
       "<div>\n",
       "<style scoped>\n",
       "    .dataframe tbody tr th:only-of-type {\n",
       "        vertical-align: middle;\n",
       "    }\n",
       "\n",
       "    .dataframe tbody tr th {\n",
       "        vertical-align: top;\n",
       "    }\n",
       "\n",
       "    .dataframe thead th {\n",
       "        text-align: right;\n",
       "    }\n",
       "</style>\n",
       "<table border=\"1\" class=\"dataframe\">\n",
       "  <thead>\n",
       "    <tr style=\"text-align: right;\">\n",
       "      <th></th>\n",
       "      <th>id</th>\n",
       "      <th>place</th>\n",
       "      <th>...</th>\n",
       "      <th>tgn</th>\n",
       "      <th>coords</th>\n",
       "    </tr>\n",
       "  </thead>\n",
       "  <tbody>\n",
       "    <tr>\n",
       "      <th>58</th>\n",
       "      <td>https://www.harvardartmuseums.org/collections/...</td>\n",
       "      <td>Sketch of Verona</td>\n",
       "      <td>...</td>\n",
       "      <td>tgn/7003262</td>\n",
       "      <td>45.45,11</td>\n",
       "    </tr>\n",
       "  </tbody>\n",
       "</table>\n",
       "<p>1 rows × 5 columns</p>\n",
       "</div>"
      ],
      "text/plain": [
       "                                                   id             place  ...  \\\n",
       "58  https://www.harvardartmuseums.org/collections/...  Sketch of Verona  ...   \n",
       "\n",
       "            tgn    coords  \n",
       "58  tgn/7003262  45.45,11  \n",
       "\n",
       "[1 rows x 5 columns]"
      ]
     },
     "metadata": {},
     "output_type": "display_data"
    },
    {
     "name": "stdout",
     "output_type": "stream",
     "text": [
      "Geographical coordinates representation to be added:\n",
      "{\n",
      "  \"@context\": \"https://linked.art/ns/v1/linked-art.json\",\n",
      "  \"id\": \"http://lod.example.org/museum/VisualItem/100\",\n",
      "  \"type\": \"VisualItem\",\n",
      "  \"represents\": [\n",
      "    {\n",
      "      \"id\": \"http://lod.example.org/museum/Place/201\",\n",
      "      \"type\": \"Place\",\n",
      "      \"_label\": \"Sketch of Verona\",\n",
      "      \"approximated_by\": [\n",
      "        {\n",
      "          \"id\": \"http://lod.example.org/museum/Place/200\",\n",
      "          \"type\": \"Place\",\n",
      "          \"_label\": \"Sketch of Verona\",\n",
      "          \"defined_by\": \"POINT(45.45 11)\"\n",
      "        }\n",
      "      ]\n",
      "    }\n",
      "  ]\n",
      "}\n",
      "File updated\n"
     ]
    },
    {
     "data": {
      "text/html": [
       "<h4>Falls of Schaffhausen</h4>"
      ],
      "text/plain": [
       "<IPython.core.display.HTML object>"
      ]
     },
     "metadata": {},
     "output_type": "display_data"
    },
    {
     "name": "stdout",
     "output_type": "stream",
     "text": [
      "Matching row in geographical coordinates file for artwork\n"
     ]
    },
    {
     "data": {
      "text/html": [
       "<div>\n",
       "<style scoped>\n",
       "    .dataframe tbody tr th:only-of-type {\n",
       "        vertical-align: middle;\n",
       "    }\n",
       "\n",
       "    .dataframe tbody tr th {\n",
       "        vertical-align: top;\n",
       "    }\n",
       "\n",
       "    .dataframe thead th {\n",
       "        text-align: right;\n",
       "    }\n",
       "</style>\n",
       "<table border=\"1\" class=\"dataframe\">\n",
       "  <thead>\n",
       "    <tr style=\"text-align: right;\">\n",
       "      <th></th>\n",
       "      <th>id</th>\n",
       "      <th>place</th>\n",
       "      <th>...</th>\n",
       "      <th>tgn</th>\n",
       "      <th>coords</th>\n",
       "    </tr>\n",
       "  </thead>\n",
       "  <tbody>\n",
       "    <tr>\n",
       "      <th>74</th>\n",
       "      <td>https://www.harvardartmuseums.org/collections/...</td>\n",
       "      <td>Falls of Schaffhausen</td>\n",
       "      <td>...</td>\n",
       "      <td>tgn/7106737</td>\n",
       "      <td>49.266667,6.816667</td>\n",
       "    </tr>\n",
       "  </tbody>\n",
       "</table>\n",
       "<p>1 rows × 5 columns</p>\n",
       "</div>"
      ],
      "text/plain": [
       "                                                   id                  place  \\\n",
       "74  https://www.harvardartmuseums.org/collections/...  Falls of Schaffhausen   \n",
       "\n",
       "    ...          tgn              coords  \n",
       "74  ...  tgn/7106737  49.266667,6.816667  \n",
       "\n",
       "[1 rows x 5 columns]"
      ]
     },
     "metadata": {},
     "output_type": "display_data"
    },
    {
     "name": "stdout",
     "output_type": "stream",
     "text": [
      "Geographical coordinates representation to be added:\n",
      "{\n",
      "  \"@context\": \"https://linked.art/ns/v1/linked-art.json\",\n",
      "  \"id\": \"http://lod.example.org/museum/VisualItem/101\",\n",
      "  \"type\": \"VisualItem\",\n",
      "  \"represents\": [\n",
      "    {\n",
      "      \"id\": \"http://lod.example.org/museum/Place/203\",\n",
      "      \"type\": \"Place\",\n",
      "      \"_label\": \"Falls of Schaffhausen\",\n",
      "      \"approximated_by\": [\n",
      "        {\n",
      "          \"id\": \"http://lod.example.org/museum/Place/202\",\n",
      "          \"type\": \"Place\",\n",
      "          \"_label\": \"Falls of Schaffhausen\",\n",
      "          \"defined_by\": \"POINT(49.266667 6.816667)\"\n",
      "        }\n",
      "      ]\n",
      "    }\n",
      "  ]\n",
      "}\n",
      "File updated\n"
     ]
    },
    {
     "data": {
      "text/html": [
       "<h4>Towers at Baden</h4>"
      ],
      "text/plain": [
       "<IPython.core.display.HTML object>"
      ]
     },
     "metadata": {},
     "output_type": "display_data"
    },
    {
     "name": "stdout",
     "output_type": "stream",
     "text": [
      "Matching row in geographical coordinates file for artwork\n"
     ]
    },
    {
     "data": {
      "text/html": [
       "<div>\n",
       "<style scoped>\n",
       "    .dataframe tbody tr th:only-of-type {\n",
       "        vertical-align: middle;\n",
       "    }\n",
       "\n",
       "    .dataframe tbody tr th {\n",
       "        vertical-align: top;\n",
       "    }\n",
       "\n",
       "    .dataframe thead th {\n",
       "        text-align: right;\n",
       "    }\n",
       "</style>\n",
       "<table border=\"1\" class=\"dataframe\">\n",
       "  <thead>\n",
       "    <tr style=\"text-align: right;\">\n",
       "      <th></th>\n",
       "      <th>id</th>\n",
       "      <th>place</th>\n",
       "      <th>...</th>\n",
       "      <th>tgn</th>\n",
       "      <th>coords</th>\n",
       "    </tr>\n",
       "  </thead>\n",
       "  <tbody>\n",
       "    <tr>\n",
       "      <th>77</th>\n",
       "      <td>https://www.harvardartmuseums.org/collections/...</td>\n",
       "      <td>Towers at Baden</td>\n",
       "      <td>...</td>\n",
       "      <td>tgn/7005172</td>\n",
       "      <td>48.75,8.25</td>\n",
       "    </tr>\n",
       "  </tbody>\n",
       "</table>\n",
       "<p>1 rows × 5 columns</p>\n",
       "</div>"
      ],
      "text/plain": [
       "                                                   id            place  ...  \\\n",
       "77  https://www.harvardartmuseums.org/collections/...  Towers at Baden  ...   \n",
       "\n",
       "            tgn      coords  \n",
       "77  tgn/7005172  48.75,8.25  \n",
       "\n",
       "[1 rows x 5 columns]"
      ]
     },
     "metadata": {},
     "output_type": "display_data"
    },
    {
     "name": "stdout",
     "output_type": "stream",
     "text": [
      "Geographical coordinates representation to be added:\n",
      "{\n",
      "  \"@context\": \"https://linked.art/ns/v1/linked-art.json\",\n",
      "  \"id\": \"http://lod.example.org/museum/VisualItem/102\",\n",
      "  \"type\": \"VisualItem\",\n",
      "  \"represents\": [\n",
      "    {\n",
      "      \"id\": \"http://lod.example.org/museum/Place/205\",\n",
      "      \"type\": \"Place\",\n",
      "      \"_label\": \"Towers at Baden\",\n",
      "      \"approximated_by\": [\n",
      "        {\n",
      "          \"id\": \"http://lod.example.org/museum/Place/204\",\n",
      "          \"type\": \"Place\",\n",
      "          \"_label\": \"Towers at Baden\",\n",
      "          \"defined_by\": \"POINT(48.75 8.25)\"\n",
      "        }\n",
      "      ]\n",
      "    }\n",
      "  ]\n",
      "}\n",
      "File updated\n"
     ]
    },
    {
     "data": {
      "text/html": [
       "<h4>Church of St. Wulfran, Abbeville</h4>"
      ],
      "text/plain": [
       "<IPython.core.display.HTML object>"
      ]
     },
     "metadata": {},
     "output_type": "display_data"
    },
    {
     "name": "stdout",
     "output_type": "stream",
     "text": [
      "Matching row in geographical coordinates file for artwork\n"
     ]
    },
    {
     "data": {
      "text/html": [
       "<div>\n",
       "<style scoped>\n",
       "    .dataframe tbody tr th:only-of-type {\n",
       "        vertical-align: middle;\n",
       "    }\n",
       "\n",
       "    .dataframe tbody tr th {\n",
       "        vertical-align: top;\n",
       "    }\n",
       "\n",
       "    .dataframe thead th {\n",
       "        text-align: right;\n",
       "    }\n",
       "</style>\n",
       "<table border=\"1\" class=\"dataframe\">\n",
       "  <thead>\n",
       "    <tr style=\"text-align: right;\">\n",
       "      <th></th>\n",
       "      <th>id</th>\n",
       "      <th>place</th>\n",
       "      <th>...</th>\n",
       "      <th>tgn</th>\n",
       "      <th>coords</th>\n",
       "    </tr>\n",
       "  </thead>\n",
       "  <tbody>\n",
       "    <tr>\n",
       "      <th>51</th>\n",
       "      <td>https://www.harvardartmuseums.org/collections/...</td>\n",
       "      <td>Church of St. Wulfran, Abbeville</td>\n",
       "      <td>...</td>\n",
       "      <td>tgn/7668075</td>\n",
       "      <td>50.166667,1.75</td>\n",
       "    </tr>\n",
       "  </tbody>\n",
       "</table>\n",
       "<p>1 rows × 5 columns</p>\n",
       "</div>"
      ],
      "text/plain": [
       "                                                   id  \\\n",
       "51  https://www.harvardartmuseums.org/collections/...   \n",
       "\n",
       "                               place  ...          tgn          coords  \n",
       "51  Church of St. Wulfran, Abbeville  ...  tgn/7668075  50.166667,1.75  \n",
       "\n",
       "[1 rows x 5 columns]"
      ]
     },
     "metadata": {},
     "output_type": "display_data"
    },
    {
     "name": "stdout",
     "output_type": "stream",
     "text": [
      "Geographical coordinates representation to be added:\n",
      "{\n",
      "  \"@context\": \"https://linked.art/ns/v1/linked-art.json\",\n",
      "  \"id\": \"http://lod.example.org/museum/VisualItem/103\",\n",
      "  \"type\": \"VisualItem\",\n",
      "  \"represents\": [\n",
      "    {\n",
      "      \"id\": \"http://lod.example.org/museum/Place/207\",\n",
      "      \"type\": \"Place\",\n",
      "      \"_label\": \"Church of St. Wulfran, Abbeville\",\n",
      "      \"approximated_by\": [\n",
      "        {\n",
      "          \"id\": \"http://lod.example.org/museum/Place/206\",\n",
      "          \"type\": \"Place\",\n",
      "          \"_label\": \"Church of St. Wulfran, Abbeville\",\n",
      "          \"defined_by\": \"POINT(50.166667 1.75)\"\n",
      "        }\n",
      "      ]\n",
      "    }\n",
      "  ]\n",
      "}\n",
      "File updated\n"
     ]
    },
    {
     "data": {
      "text/html": [
       "<h4>The Sarcophagus and Effigy of the Tomb of Cangrande I della Scala, Verona</h4>"
      ],
      "text/plain": [
       "<IPython.core.display.HTML object>"
      ]
     },
     "metadata": {},
     "output_type": "display_data"
    },
    {
     "name": "stdout",
     "output_type": "stream",
     "text": [
      "Matching row in geographical coordinates file for artwork\n"
     ]
    },
    {
     "data": {
      "text/html": [
       "<div>\n",
       "<style scoped>\n",
       "    .dataframe tbody tr th:only-of-type {\n",
       "        vertical-align: middle;\n",
       "    }\n",
       "\n",
       "    .dataframe tbody tr th {\n",
       "        vertical-align: top;\n",
       "    }\n",
       "\n",
       "    .dataframe thead th {\n",
       "        text-align: right;\n",
       "    }\n",
       "</style>\n",
       "<table border=\"1\" class=\"dataframe\">\n",
       "  <thead>\n",
       "    <tr style=\"text-align: right;\">\n",
       "      <th></th>\n",
       "      <th>id</th>\n",
       "      <th>place</th>\n",
       "      <th>...</th>\n",
       "      <th>tgn</th>\n",
       "      <th>coords</th>\n",
       "    </tr>\n",
       "  </thead>\n",
       "  <tbody>\n",
       "    <tr>\n",
       "      <th>59</th>\n",
       "      <td>https://collections.ashmolean.org/collection/1...</td>\n",
       "      <td>The Sarcophagus and Effigy of the Tomb of Cang...</td>\n",
       "      <td>...</td>\n",
       "      <td>tgn/7003262</td>\n",
       "      <td>45.45,11</td>\n",
       "    </tr>\n",
       "  </tbody>\n",
       "</table>\n",
       "<p>1 rows × 5 columns</p>\n",
       "</div>"
      ],
      "text/plain": [
       "                                                   id  \\\n",
       "59  https://collections.ashmolean.org/collection/1...   \n",
       "\n",
       "                                                place  ...          tgn  \\\n",
       "59  The Sarcophagus and Effigy of the Tomb of Cang...  ...  tgn/7003262   \n",
       "\n",
       "      coords  \n",
       "59  45.45,11  \n",
       "\n",
       "[1 rows x 5 columns]"
      ]
     },
     "metadata": {},
     "output_type": "display_data"
    },
    {
     "name": "stdout",
     "output_type": "stream",
     "text": [
      "Geographical coordinates representation to be added:\n",
      "{\n",
      "  \"@context\": \"https://linked.art/ns/v1/linked-art.json\",\n",
      "  \"id\": \"http://lod.example.org/museum/VisualItem/104\",\n",
      "  \"type\": \"VisualItem\",\n",
      "  \"represents\": [\n",
      "    {\n",
      "      \"id\": \"http://lod.example.org/museum/Place/209\",\n",
      "      \"type\": \"Place\",\n",
      "      \"_label\": \"The Sarcophagus and Effigy of the Tomb of Cangrande I della Scala, Verona\",\n",
      "      \"approximated_by\": [\n",
      "        {\n",
      "          \"id\": \"http://lod.example.org/museum/Place/208\",\n",
      "          \"type\": \"Place\",\n",
      "          \"_label\": \"The Sarcophagus and Effigy of the Tomb of Cangrande I della Scala, Verona\",\n",
      "          \"defined_by\": \"POINT(45.45 11)\"\n",
      "        }\n",
      "      ]\n",
      "    }\n",
      "  ]\n",
      "}\n",
      "File updated\n"
     ]
    },
    {
     "data": {
      "text/html": [
       "<h4>The Tomb of Cangrande I della Scala, Verona</h4>"
      ],
      "text/plain": [
       "<IPython.core.display.HTML object>"
      ]
     },
     "metadata": {},
     "output_type": "display_data"
    },
    {
     "name": "stdout",
     "output_type": "stream",
     "text": [
      "Matching row in geographical coordinates file for artwork\n"
     ]
    },
    {
     "data": {
      "text/html": [
       "<div>\n",
       "<style scoped>\n",
       "    .dataframe tbody tr th:only-of-type {\n",
       "        vertical-align: middle;\n",
       "    }\n",
       "\n",
       "    .dataframe tbody tr th {\n",
       "        vertical-align: top;\n",
       "    }\n",
       "\n",
       "    .dataframe thead th {\n",
       "        text-align: right;\n",
       "    }\n",
       "</style>\n",
       "<table border=\"1\" class=\"dataframe\">\n",
       "  <thead>\n",
       "    <tr style=\"text-align: right;\">\n",
       "      <th></th>\n",
       "      <th>id</th>\n",
       "      <th>place</th>\n",
       "      <th>...</th>\n",
       "      <th>tgn</th>\n",
       "      <th>coords</th>\n",
       "    </tr>\n",
       "  </thead>\n",
       "  <tbody>\n",
       "    <tr>\n",
       "      <th>60</th>\n",
       "      <td>https://collections.ashmolean.org/collection/1...</td>\n",
       "      <td>The Tomb of Cangrande I della Scala, Verona</td>\n",
       "      <td>...</td>\n",
       "      <td>tgn/7003262</td>\n",
       "      <td>45.45,11</td>\n",
       "    </tr>\n",
       "  </tbody>\n",
       "</table>\n",
       "<p>1 rows × 5 columns</p>\n",
       "</div>"
      ],
      "text/plain": [
       "                                                   id  \\\n",
       "60  https://collections.ashmolean.org/collection/1...   \n",
       "\n",
       "                                          place  ...          tgn    coords  \n",
       "60  The Tomb of Cangrande I della Scala, Verona  ...  tgn/7003262  45.45,11  \n",
       "\n",
       "[1 rows x 5 columns]"
      ]
     },
     "metadata": {},
     "output_type": "display_data"
    },
    {
     "name": "stdout",
     "output_type": "stream",
     "text": [
      "Geographical coordinates representation to be added:\n",
      "{\n",
      "  \"@context\": \"https://linked.art/ns/v1/linked-art.json\",\n",
      "  \"id\": \"http://lod.example.org/museum/VisualItem/105\",\n",
      "  \"type\": \"VisualItem\",\n",
      "  \"represents\": [\n",
      "    {\n",
      "      \"id\": \"http://lod.example.org/museum/Place/211\",\n",
      "      \"type\": \"Place\",\n",
      "      \"_label\": \"The Tomb of Cangrande I della Scala, Verona\",\n",
      "      \"approximated_by\": [\n",
      "        {\n",
      "          \"id\": \"http://lod.example.org/museum/Place/210\",\n",
      "          \"type\": \"Place\",\n",
      "          \"_label\": \"The Tomb of Cangrande I della Scala, Verona\",\n",
      "          \"defined_by\": \"POINT(45.45 11)\"\n",
      "        }\n",
      "      ]\n",
      "    }\n",
      "  ]\n",
      "}\n",
      "File updated\n"
     ]
    },
    {
     "data": {
      "text/html": [
       "<h4>Falls of Schaffhausen</h4>"
      ],
      "text/plain": [
       "<IPython.core.display.HTML object>"
      ]
     },
     "metadata": {},
     "output_type": "display_data"
    },
    {
     "name": "stdout",
     "output_type": "stream",
     "text": [
      "Matching row in geographical coordinates file for artwork\n"
     ]
    },
    {
     "data": {
      "text/html": [
       "<div>\n",
       "<style scoped>\n",
       "    .dataframe tbody tr th:only-of-type {\n",
       "        vertical-align: middle;\n",
       "    }\n",
       "\n",
       "    .dataframe tbody tr th {\n",
       "        vertical-align: top;\n",
       "    }\n",
       "\n",
       "    .dataframe thead th {\n",
       "        text-align: right;\n",
       "    }\n",
       "</style>\n",
       "<table border=\"1\" class=\"dataframe\">\n",
       "  <thead>\n",
       "    <tr style=\"text-align: right;\">\n",
       "      <th></th>\n",
       "      <th>id</th>\n",
       "      <th>place</th>\n",
       "      <th>...</th>\n",
       "      <th>tgn</th>\n",
       "      <th>coords</th>\n",
       "    </tr>\n",
       "  </thead>\n",
       "  <tbody>\n",
       "    <tr>\n",
       "      <th>75</th>\n",
       "      <td>https://www.harvardartmuseums.org/collections/...</td>\n",
       "      <td>Falls of Schaffhausen</td>\n",
       "      <td>...</td>\n",
       "      <td>tgn/7106737</td>\n",
       "      <td>49.266667,6.816667</td>\n",
       "    </tr>\n",
       "  </tbody>\n",
       "</table>\n",
       "<p>1 rows × 5 columns</p>\n",
       "</div>"
      ],
      "text/plain": [
       "                                                   id                  place  \\\n",
       "75  https://www.harvardartmuseums.org/collections/...  Falls of Schaffhausen   \n",
       "\n",
       "    ...          tgn              coords  \n",
       "75  ...  tgn/7106737  49.266667,6.816667  \n",
       "\n",
       "[1 rows x 5 columns]"
      ]
     },
     "metadata": {},
     "output_type": "display_data"
    },
    {
     "name": "stdout",
     "output_type": "stream",
     "text": [
      "Geographical coordinates representation to be added:\n",
      "{\n",
      "  \"@context\": \"https://linked.art/ns/v1/linked-art.json\",\n",
      "  \"id\": \"http://lod.example.org/museum/VisualItem/106\",\n",
      "  \"type\": \"VisualItem\",\n",
      "  \"represents\": [\n",
      "    {\n",
      "      \"id\": \"http://lod.example.org/museum/Place/213\",\n",
      "      \"type\": \"Place\",\n",
      "      \"_label\": \"Falls of Schaffhausen\",\n",
      "      \"approximated_by\": [\n",
      "        {\n",
      "          \"id\": \"http://lod.example.org/museum/Place/212\",\n",
      "          \"type\": \"Place\",\n",
      "          \"_label\": \"Falls of Schaffhausen\",\n",
      "          \"defined_by\": \"POINT(49.266667 6.816667)\"\n",
      "        }\n",
      "      ]\n",
      "    }\n",
      "  ]\n",
      "}\n",
      "File updated\n"
     ]
    },
    {
     "data": {
      "text/html": [
       "<h4>Bellinzona</h4>"
      ],
      "text/plain": [
       "<IPython.core.display.HTML object>"
      ]
     },
     "metadata": {},
     "output_type": "display_data"
    },
    {
     "name": "stdout",
     "output_type": "stream",
     "text": [
      "Matching row in geographical coordinates file for artwork\n"
     ]
    },
    {
     "data": {
      "text/html": [
       "<div>\n",
       "<style scoped>\n",
       "    .dataframe tbody tr th:only-of-type {\n",
       "        vertical-align: middle;\n",
       "    }\n",
       "\n",
       "    .dataframe tbody tr th {\n",
       "        vertical-align: top;\n",
       "    }\n",
       "\n",
       "    .dataframe thead th {\n",
       "        text-align: right;\n",
       "    }\n",
       "</style>\n",
       "<table border=\"1\" class=\"dataframe\">\n",
       "  <thead>\n",
       "    <tr style=\"text-align: right;\">\n",
       "      <th></th>\n",
       "      <th>id</th>\n",
       "      <th>place</th>\n",
       "      <th>...</th>\n",
       "      <th>tgn</th>\n",
       "      <th>coords</th>\n",
       "    </tr>\n",
       "  </thead>\n",
       "  <tbody>\n",
       "    <tr>\n",
       "      <th>78</th>\n",
       "      <td>https://www.harvardartmuseums.org/collections/...</td>\n",
       "      <td>Bellinzona</td>\n",
       "      <td>...</td>\n",
       "      <td>tgn/7007318</td>\n",
       "      <td>46.194902,9.024729</td>\n",
       "    </tr>\n",
       "  </tbody>\n",
       "</table>\n",
       "<p>1 rows × 5 columns</p>\n",
       "</div>"
      ],
      "text/plain": [
       "                                                   id       place  ...  \\\n",
       "78  https://www.harvardartmuseums.org/collections/...  Bellinzona  ...   \n",
       "\n",
       "            tgn              coords  \n",
       "78  tgn/7007318  46.194902,9.024729  \n",
       "\n",
       "[1 rows x 5 columns]"
      ]
     },
     "metadata": {},
     "output_type": "display_data"
    },
    {
     "name": "stdout",
     "output_type": "stream",
     "text": [
      "Geographical coordinates representation to be added:\n",
      "{\n",
      "  \"@context\": \"https://linked.art/ns/v1/linked-art.json\",\n",
      "  \"id\": \"http://lod.example.org/museum/VisualItem/107\",\n",
      "  \"type\": \"VisualItem\",\n",
      "  \"represents\": [\n",
      "    {\n",
      "      \"id\": \"http://lod.example.org/museum/Place/215\",\n",
      "      \"type\": \"Place\",\n",
      "      \"_label\": \"Bellinzona\",\n",
      "      \"approximated_by\": [\n",
      "        {\n",
      "          \"id\": \"http://lod.example.org/museum/Place/214\",\n",
      "          \"type\": \"Place\",\n",
      "          \"_label\": \"Bellinzona\",\n",
      "          \"defined_by\": \"POINT(46.194902 9.024729)\"\n",
      "        }\n",
      "      ]\n",
      "    }\n",
      "  ]\n",
      "}\n",
      "File updated\n"
     ]
    },
    {
     "data": {
      "text/html": [
       "<h4>Part of the Base of a Pilaster in Santa Maria dei Miracoli, Venice</h4>"
      ],
      "text/plain": [
       "<IPython.core.display.HTML object>"
      ]
     },
     "metadata": {},
     "output_type": "display_data"
    },
    {
     "name": "stdout",
     "output_type": "stream",
     "text": [
      "Matching row in geographical coordinates file for artwork\n"
     ]
    },
    {
     "data": {
      "text/html": [
       "<div>\n",
       "<style scoped>\n",
       "    .dataframe tbody tr th:only-of-type {\n",
       "        vertical-align: middle;\n",
       "    }\n",
       "\n",
       "    .dataframe tbody tr th {\n",
       "        vertical-align: top;\n",
       "    }\n",
       "\n",
       "    .dataframe thead th {\n",
       "        text-align: right;\n",
       "    }\n",
       "</style>\n",
       "<table border=\"1\" class=\"dataframe\">\n",
       "  <thead>\n",
       "    <tr style=\"text-align: right;\">\n",
       "      <th></th>\n",
       "      <th>id</th>\n",
       "      <th>place</th>\n",
       "      <th>...</th>\n",
       "      <th>tgn</th>\n",
       "      <th>coords</th>\n",
       "    </tr>\n",
       "  </thead>\n",
       "  <tbody>\n",
       "    <tr>\n",
       "      <th>2</th>\n",
       "      <td>https://collections.ashmolean.org/collection/1...</td>\n",
       "      <td>Part of the Base of a Pilaster in Santa Maria ...</td>\n",
       "      <td>...</td>\n",
       "      <td>tgn/7003006</td>\n",
       "      <td>45.583333,12.566667</td>\n",
       "    </tr>\n",
       "  </tbody>\n",
       "</table>\n",
       "<p>1 rows × 5 columns</p>\n",
       "</div>"
      ],
      "text/plain": [
       "                                                  id  \\\n",
       "2  https://collections.ashmolean.org/collection/1...   \n",
       "\n",
       "                                               place  ...          tgn  \\\n",
       "2  Part of the Base of a Pilaster in Santa Maria ...  ...  tgn/7003006   \n",
       "\n",
       "                coords  \n",
       "2  45.583333,12.566667  \n",
       "\n",
       "[1 rows x 5 columns]"
      ]
     },
     "metadata": {},
     "output_type": "display_data"
    },
    {
     "name": "stdout",
     "output_type": "stream",
     "text": [
      "Geographical coordinates representation to be added:\n",
      "{\n",
      "  \"@context\": \"https://linked.art/ns/v1/linked-art.json\",\n",
      "  \"id\": \"http://lod.example.org/museum/VisualItem/108\",\n",
      "  \"type\": \"VisualItem\",\n",
      "  \"represents\": [\n",
      "    {\n",
      "      \"id\": \"http://lod.example.org/museum/Place/217\",\n",
      "      \"type\": \"Place\",\n",
      "      \"_label\": \"Part of the Base of a Pilaster in Santa Maria dei Miracoli, Venice\",\n",
      "      \"approximated_by\": [\n",
      "        {\n",
      "          \"id\": \"http://lod.example.org/museum/Place/216\",\n",
      "          \"type\": \"Place\",\n",
      "          \"_label\": \"Part of the Base of a Pilaster in Santa Maria dei Miracoli, Venice\",\n",
      "          \"defined_by\": \"POINT(45.583333 12.566667)\"\n",
      "        }\n",
      "      ]\n",
      "    }\n",
      "  ]\n",
      "}\n",
      "File updated\n"
     ]
    },
    {
     "data": {
      "text/html": [
       "<h4>Tracing of Turner's 'Heysham and Cumberland Mountains'</h4>"
      ],
      "text/plain": [
       "<IPython.core.display.HTML object>"
      ]
     },
     "metadata": {},
     "output_type": "display_data"
    },
    {
     "name": "stdout",
     "output_type": "stream",
     "text": [
      "Matching row in geographical coordinates file for artwork\n"
     ]
    },
    {
     "data": {
      "text/html": [
       "<div>\n",
       "<style scoped>\n",
       "    .dataframe tbody tr th:only-of-type {\n",
       "        vertical-align: middle;\n",
       "    }\n",
       "\n",
       "    .dataframe tbody tr th {\n",
       "        vertical-align: top;\n",
       "    }\n",
       "\n",
       "    .dataframe thead th {\n",
       "        text-align: right;\n",
       "    }\n",
       "</style>\n",
       "<table border=\"1\" class=\"dataframe\">\n",
       "  <thead>\n",
       "    <tr style=\"text-align: right;\">\n",
       "      <th></th>\n",
       "      <th>id</th>\n",
       "      <th>place</th>\n",
       "      <th>...</th>\n",
       "      <th>tgn</th>\n",
       "      <th>coords</th>\n",
       "    </tr>\n",
       "  </thead>\n",
       "  <tbody>\n",
       "    <tr>\n",
       "      <th>79</th>\n",
       "      <td>https://collections.ashmolean.org/collection/1...</td>\n",
       "      <td>Tracing of Turner's 'Heysham and Cumberland Mo...</td>\n",
       "      <td>...</td>\n",
       "      <td>tgn/1029546</td>\n",
       "      <td>54.033333,-2.9</td>\n",
       "    </tr>\n",
       "  </tbody>\n",
       "</table>\n",
       "<p>1 rows × 5 columns</p>\n",
       "</div>"
      ],
      "text/plain": [
       "                                                   id  \\\n",
       "79  https://collections.ashmolean.org/collection/1...   \n",
       "\n",
       "                                                place  ...          tgn  \\\n",
       "79  Tracing of Turner's 'Heysham and Cumberland Mo...  ...  tgn/1029546   \n",
       "\n",
       "            coords  \n",
       "79  54.033333,-2.9  \n",
       "\n",
       "[1 rows x 5 columns]"
      ]
     },
     "metadata": {},
     "output_type": "display_data"
    },
    {
     "name": "stdout",
     "output_type": "stream",
     "text": [
      "Geographical coordinates representation to be added:\n",
      "{\n",
      "  \"@context\": \"https://linked.art/ns/v1/linked-art.json\",\n",
      "  \"id\": \"http://lod.example.org/museum/VisualItem/109\",\n",
      "  \"type\": \"VisualItem\",\n",
      "  \"represents\": [\n",
      "    {\n",
      "      \"id\": \"http://lod.example.org/museum/Place/219\",\n",
      "      \"type\": \"Place\",\n",
      "      \"_label\": \"Tracing of Turner's 'Heysham and Cumberland Mountains'\",\n",
      "      \"approximated_by\": [\n",
      "        {\n",
      "          \"id\": \"http://lod.example.org/museum/Place/218\",\n",
      "          \"type\": \"Place\",\n",
      "          \"_label\": \"Tracing of Turner's 'Heysham and Cumberland Mountains'\",\n",
      "          \"defined_by\": \"POINT(54.033333 -2.9)\"\n",
      "        }\n",
      "      ]\n",
      "    }\n",
      "  ]\n",
      "}\n",
      "File updated\n"
     ]
    },
    {
     "data": {
      "text/html": [
       "<h4>Bellagio, Lago di Como</h4>"
      ],
      "text/plain": [
       "<IPython.core.display.HTML object>"
      ]
     },
     "metadata": {},
     "output_type": "display_data"
    },
    {
     "name": "stdout",
     "output_type": "stream",
     "text": [
      "Matching row in geographical coordinates file for artwork\n"
     ]
    },
    {
     "data": {
      "text/html": [
       "<div>\n",
       "<style scoped>\n",
       "    .dataframe tbody tr th:only-of-type {\n",
       "        vertical-align: middle;\n",
       "    }\n",
       "\n",
       "    .dataframe tbody tr th {\n",
       "        vertical-align: top;\n",
       "    }\n",
       "\n",
       "    .dataframe thead th {\n",
       "        text-align: right;\n",
       "    }\n",
       "</style>\n",
       "<table border=\"1\" class=\"dataframe\">\n",
       "  <thead>\n",
       "    <tr style=\"text-align: right;\">\n",
       "      <th></th>\n",
       "      <th>id</th>\n",
       "      <th>place</th>\n",
       "      <th>...</th>\n",
       "      <th>tgn</th>\n",
       "      <th>coords</th>\n",
       "    </tr>\n",
       "  </thead>\n",
       "  <tbody>\n",
       "    <tr>\n",
       "      <th>80</th>\n",
       "      <td>https://collections.ashmolean.org/collection//...</td>\n",
       "      <td>Bellagio, Lago di Como</td>\n",
       "      <td>...</td>\n",
       "      <td>tgn/7006070</td>\n",
       "      <td>46,9.283333</td>\n",
       "    </tr>\n",
       "  </tbody>\n",
       "</table>\n",
       "<p>1 rows × 5 columns</p>\n",
       "</div>"
      ],
      "text/plain": [
       "                                                   id                   place  \\\n",
       "80  https://collections.ashmolean.org/collection//...  Bellagio, Lago di Como   \n",
       "\n",
       "    ...          tgn       coords  \n",
       "80  ...  tgn/7006070  46,9.283333  \n",
       "\n",
       "[1 rows x 5 columns]"
      ]
     },
     "metadata": {},
     "output_type": "display_data"
    },
    {
     "name": "stdout",
     "output_type": "stream",
     "text": [
      "Geographical coordinates representation to be added:\n",
      "{\n",
      "  \"@context\": \"https://linked.art/ns/v1/linked-art.json\",\n",
      "  \"id\": \"http://lod.example.org/museum/VisualItem/110\",\n",
      "  \"type\": \"VisualItem\",\n",
      "  \"represents\": [\n",
      "    {\n",
      "      \"id\": \"http://lod.example.org/museum/Place/221\",\n",
      "      \"type\": \"Place\",\n",
      "      \"_label\": \"Bellagio, Lago di Como\",\n",
      "      \"approximated_by\": [\n",
      "        {\n",
      "          \"id\": \"http://lod.example.org/museum/Place/220\",\n",
      "          \"type\": \"Place\",\n",
      "          \"_label\": \"Bellagio, Lago di Como\",\n",
      "          \"defined_by\": \"POINT(46 9.283333)\"\n",
      "        }\n",
      "      ]\n",
      "    }\n",
      "  ]\n",
      "}\n",
      "File updated\n"
     ]
    },
    {
     "data": {
      "text/html": [
       "<h4>Sketch of a Spandril in the western Porch of Bourges Cathedral</h4>"
      ],
      "text/plain": [
       "<IPython.core.display.HTML object>"
      ]
     },
     "metadata": {},
     "output_type": "display_data"
    },
    {
     "name": "stdout",
     "output_type": "stream",
     "text": [
      "Matching row in geographical coordinates file for artwork\n"
     ]
    },
    {
     "data": {
      "text/html": [
       "<div>\n",
       "<style scoped>\n",
       "    .dataframe tbody tr th:only-of-type {\n",
       "        vertical-align: middle;\n",
       "    }\n",
       "\n",
       "    .dataframe tbody tr th {\n",
       "        vertical-align: top;\n",
       "    }\n",
       "\n",
       "    .dataframe thead th {\n",
       "        text-align: right;\n",
       "    }\n",
       "</style>\n",
       "<table border=\"1\" class=\"dataframe\">\n",
       "  <thead>\n",
       "    <tr style=\"text-align: right;\">\n",
       "      <th></th>\n",
       "      <th>id</th>\n",
       "      <th>place</th>\n",
       "      <th>...</th>\n",
       "      <th>tgn</th>\n",
       "      <th>coords</th>\n",
       "    </tr>\n",
       "  </thead>\n",
       "  <tbody>\n",
       "    <tr>\n",
       "      <th>81</th>\n",
       "      <td>https://collections.ashmolean.org/collection/1...</td>\n",
       "      <td>Sketch of a Spandril in the western Porch of B...</td>\n",
       "      <td>...</td>\n",
       "      <td>tgn/7661997</td>\n",
       "      <td>47.25,2.416667</td>\n",
       "    </tr>\n",
       "  </tbody>\n",
       "</table>\n",
       "<p>1 rows × 5 columns</p>\n",
       "</div>"
      ],
      "text/plain": [
       "                                                   id  \\\n",
       "81  https://collections.ashmolean.org/collection/1...   \n",
       "\n",
       "                                                place  ...          tgn  \\\n",
       "81  Sketch of a Spandril in the western Porch of B...  ...  tgn/7661997   \n",
       "\n",
       "            coords  \n",
       "81  47.25,2.416667  \n",
       "\n",
       "[1 rows x 5 columns]"
      ]
     },
     "metadata": {},
     "output_type": "display_data"
    },
    {
     "name": "stdout",
     "output_type": "stream",
     "text": [
      "Geographical coordinates representation to be added:\n",
      "{\n",
      "  \"@context\": \"https://linked.art/ns/v1/linked-art.json\",\n",
      "  \"id\": \"http://lod.example.org/museum/VisualItem/111\",\n",
      "  \"type\": \"VisualItem\",\n",
      "  \"represents\": [\n",
      "    {\n",
      "      \"id\": \"http://lod.example.org/museum/Place/223\",\n",
      "      \"type\": \"Place\",\n",
      "      \"_label\": \"Sketch of a Spandril in the western Porch of Bourges Cathedral\",\n",
      "      \"approximated_by\": [\n",
      "        {\n",
      "          \"id\": \"http://lod.example.org/museum/Place/222\",\n",
      "          \"type\": \"Place\",\n",
      "          \"_label\": \"Sketch of a Spandril in the western Porch of Bourges Cathedral\",\n",
      "          \"defined_by\": \"POINT(47.25 2.416667)\"\n",
      "        }\n",
      "      ]\n",
      "    }\n",
      "  ]\n",
      "}\n",
      "File updated\n"
     ]
    },
    {
     "data": {
      "text/html": [
       "<h4>Sketch of Lioness and Cubs from Nicola Pisano's Siena Pulpit</h4>"
      ],
      "text/plain": [
       "<IPython.core.display.HTML object>"
      ]
     },
     "metadata": {},
     "output_type": "display_data"
    },
    {
     "name": "stdout",
     "output_type": "stream",
     "text": [
      "Matching row in geographical coordinates file for artwork\n"
     ]
    },
    {
     "data": {
      "text/html": [
       "<div>\n",
       "<style scoped>\n",
       "    .dataframe tbody tr th:only-of-type {\n",
       "        vertical-align: middle;\n",
       "    }\n",
       "\n",
       "    .dataframe tbody tr th {\n",
       "        vertical-align: top;\n",
       "    }\n",
       "\n",
       "    .dataframe thead th {\n",
       "        text-align: right;\n",
       "    }\n",
       "</style>\n",
       "<table border=\"1\" class=\"dataframe\">\n",
       "  <thead>\n",
       "    <tr style=\"text-align: right;\">\n",
       "      <th></th>\n",
       "      <th>id</th>\n",
       "      <th>place</th>\n",
       "      <th>...</th>\n",
       "      <th>tgn</th>\n",
       "      <th>coords</th>\n",
       "    </tr>\n",
       "  </thead>\n",
       "  <tbody>\n",
       "    <tr>\n",
       "      <th>45</th>\n",
       "      <td>https://collections.ashmolean.org/collection/1...</td>\n",
       "      <td>Sketch of Lioness and Cubs from Nicola Pisano'...</td>\n",
       "      <td>...</td>\n",
       "      <td>tgn/7003168</td>\n",
       "      <td>43.216667,11.4</td>\n",
       "    </tr>\n",
       "  </tbody>\n",
       "</table>\n",
       "<p>1 rows × 5 columns</p>\n",
       "</div>"
      ],
      "text/plain": [
       "                                                   id  \\\n",
       "45  https://collections.ashmolean.org/collection/1...   \n",
       "\n",
       "                                                place  ...          tgn  \\\n",
       "45  Sketch of Lioness and Cubs from Nicola Pisano'...  ...  tgn/7003168   \n",
       "\n",
       "            coords  \n",
       "45  43.216667,11.4  \n",
       "\n",
       "[1 rows x 5 columns]"
      ]
     },
     "metadata": {},
     "output_type": "display_data"
    },
    {
     "name": "stdout",
     "output_type": "stream",
     "text": [
      "Geographical coordinates representation to be added:\n",
      "{\n",
      "  \"@context\": \"https://linked.art/ns/v1/linked-art.json\",\n",
      "  \"id\": \"http://lod.example.org/museum/VisualItem/112\",\n",
      "  \"type\": \"VisualItem\",\n",
      "  \"represents\": [\n",
      "    {\n",
      "      \"id\": \"http://lod.example.org/museum/Place/225\",\n",
      "      \"type\": \"Place\",\n",
      "      \"_label\": \"Sketch of Lioness and Cubs from Nicola Pisano's Siena Pulpit\",\n",
      "      \"approximated_by\": [\n",
      "        {\n",
      "          \"id\": \"http://lod.example.org/museum/Place/224\",\n",
      "          \"type\": \"Place\",\n",
      "          \"_label\": \"Sketch of Lioness and Cubs from Nicola Pisano's Siena Pulpit\",\n",
      "          \"defined_by\": \"POINT(43.216667 11.4)\"\n",
      "        }\n",
      "      ]\n",
      "    }\n",
      "  ]\n",
      "}\n",
      "File updated\n"
     ]
    },
    {
     "data": {
      "text/html": [
       "<h4>View of Chamonix</h4>"
      ],
      "text/plain": [
       "<IPython.core.display.HTML object>"
      ]
     },
     "metadata": {},
     "output_type": "display_data"
    },
    {
     "name": "stdout",
     "output_type": "stream",
     "text": [
      "Matching row in geographical coordinates file for artwork\n"
     ]
    },
    {
     "data": {
      "text/html": [
       "<div>\n",
       "<style scoped>\n",
       "    .dataframe tbody tr th:only-of-type {\n",
       "        vertical-align: middle;\n",
       "    }\n",
       "\n",
       "    .dataframe tbody tr th {\n",
       "        vertical-align: top;\n",
       "    }\n",
       "\n",
       "    .dataframe thead th {\n",
       "        text-align: right;\n",
       "    }\n",
       "</style>\n",
       "<table border=\"1\" class=\"dataframe\">\n",
       "  <thead>\n",
       "    <tr style=\"text-align: right;\">\n",
       "      <th></th>\n",
       "      <th>id</th>\n",
       "      <th>place</th>\n",
       "      <th>...</th>\n",
       "      <th>tgn</th>\n",
       "      <th>coords</th>\n",
       "    </tr>\n",
       "  </thead>\n",
       "  <tbody>\n",
       "    <tr>\n",
       "      <th>82</th>\n",
       "      <td>https://www.harvardartmuseums.org/collections/...</td>\n",
       "      <td>View of Chamonix</td>\n",
       "      <td>...</td>\n",
       "      <td>tgn/1032562</td>\n",
       "      <td>45.924308,6.867316</td>\n",
       "    </tr>\n",
       "  </tbody>\n",
       "</table>\n",
       "<p>1 rows × 5 columns</p>\n",
       "</div>"
      ],
      "text/plain": [
       "                                                   id             place  ...  \\\n",
       "82  https://www.harvardartmuseums.org/collections/...  View of Chamonix  ...   \n",
       "\n",
       "            tgn              coords  \n",
       "82  tgn/1032562  45.924308,6.867316  \n",
       "\n",
       "[1 rows x 5 columns]"
      ]
     },
     "metadata": {},
     "output_type": "display_data"
    },
    {
     "name": "stdout",
     "output_type": "stream",
     "text": [
      "Geographical coordinates representation to be added:\n",
      "{\n",
      "  \"@context\": \"https://linked.art/ns/v1/linked-art.json\",\n",
      "  \"id\": \"http://lod.example.org/museum/VisualItem/113\",\n",
      "  \"type\": \"VisualItem\",\n",
      "  \"represents\": [\n",
      "    {\n",
      "      \"id\": \"http://lod.example.org/museum/Place/227\",\n",
      "      \"type\": \"Place\",\n",
      "      \"_label\": \"View of Chamonix\",\n",
      "      \"approximated_by\": [\n",
      "        {\n",
      "          \"id\": \"http://lod.example.org/museum/Place/226\",\n",
      "          \"type\": \"Place\",\n",
      "          \"_label\": \"View of Chamonix\",\n",
      "          \"defined_by\": \"POINT(45.924308 6.867316)\"\n",
      "        }\n",
      "      ]\n",
      "    }\n",
      "  ]\n",
      "}\n",
      "File updated\n"
     ]
    },
    {
     "data": {
      "text/html": [
       "<h4>The North-West Angle of the Facade of St Mark’s, Venice</h4>"
      ],
      "text/plain": [
       "<IPython.core.display.HTML object>"
      ]
     },
     "metadata": {},
     "output_type": "display_data"
    },
    {
     "name": "stdout",
     "output_type": "stream",
     "text": [
      "Matching row in geographical coordinates file for artwork\n"
     ]
    },
    {
     "data": {
      "text/html": [
       "<div>\n",
       "<style scoped>\n",
       "    .dataframe tbody tr th:only-of-type {\n",
       "        vertical-align: middle;\n",
       "    }\n",
       "\n",
       "    .dataframe tbody tr th {\n",
       "        vertical-align: top;\n",
       "    }\n",
       "\n",
       "    .dataframe thead th {\n",
       "        text-align: right;\n",
       "    }\n",
       "</style>\n",
       "<table border=\"1\" class=\"dataframe\">\n",
       "  <thead>\n",
       "    <tr style=\"text-align: right;\">\n",
       "      <th></th>\n",
       "      <th>id</th>\n",
       "      <th>place</th>\n",
       "      <th>...</th>\n",
       "      <th>tgn</th>\n",
       "      <th>coords</th>\n",
       "    </tr>\n",
       "  </thead>\n",
       "  <tbody>\n",
       "    <tr>\n",
       "      <th>3</th>\n",
       "      <td>https://www.tate.org.uk/art/artworks/13032</td>\n",
       "      <td>The North-West Angle of the Facade of St Mark’...</td>\n",
       "      <td>...</td>\n",
       "      <td>tgn/7003006</td>\n",
       "      <td>45.583333,12.566667</td>\n",
       "    </tr>\n",
       "  </tbody>\n",
       "</table>\n",
       "<p>1 rows × 5 columns</p>\n",
       "</div>"
      ],
      "text/plain": [
       "                                           id  \\\n",
       "3  https://www.tate.org.uk/art/artworks/13032   \n",
       "\n",
       "                                               place  ...          tgn  \\\n",
       "3  The North-West Angle of the Facade of St Mark’...  ...  tgn/7003006   \n",
       "\n",
       "                coords  \n",
       "3  45.583333,12.566667  \n",
       "\n",
       "[1 rows x 5 columns]"
      ]
     },
     "metadata": {},
     "output_type": "display_data"
    },
    {
     "name": "stdout",
     "output_type": "stream",
     "text": [
      "Geographical coordinates representation to be added:\n",
      "{\n",
      "  \"@context\": \"https://linked.art/ns/v1/linked-art.json\",\n",
      "  \"id\": \"http://lod.example.org/museum/VisualItem/114\",\n",
      "  \"type\": \"VisualItem\",\n",
      "  \"represents\": [\n",
      "    {\n",
      "      \"id\": \"http://lod.example.org/museum/Place/229\",\n",
      "      \"type\": \"Place\",\n",
      "      \"_label\": \"The North-West Angle of the Facade of St Mark\\u2019s, Venice\",\n",
      "      \"approximated_by\": [\n",
      "        {\n",
      "          \"id\": \"http://lod.example.org/museum/Place/228\",\n",
      "          \"type\": \"Place\",\n",
      "          \"_label\": \"The North-West Angle of the Facade of St Mark\\u2019s, Venice\",\n",
      "          \"defined_by\": \"POINT(45.583333 12.566667)\"\n",
      "        }\n",
      "      ]\n",
      "    }\n",
      "  ]\n",
      "}\n",
      "File updated\n"
     ]
    },
    {
     "data": {
      "text/html": [
       "<h4>The Ponte della Pietra, Verona</h4>"
      ],
      "text/plain": [
       "<IPython.core.display.HTML object>"
      ]
     },
     "metadata": {},
     "output_type": "display_data"
    },
    {
     "name": "stdout",
     "output_type": "stream",
     "text": [
      "Matching row in geographical coordinates file for artwork\n"
     ]
    },
    {
     "data": {
      "text/html": [
       "<div>\n",
       "<style scoped>\n",
       "    .dataframe tbody tr th:only-of-type {\n",
       "        vertical-align: middle;\n",
       "    }\n",
       "\n",
       "    .dataframe tbody tr th {\n",
       "        vertical-align: top;\n",
       "    }\n",
       "\n",
       "    .dataframe thead th {\n",
       "        text-align: right;\n",
       "    }\n",
       "</style>\n",
       "<table border=\"1\" class=\"dataframe\">\n",
       "  <thead>\n",
       "    <tr style=\"text-align: right;\">\n",
       "      <th></th>\n",
       "      <th>id</th>\n",
       "      <th>place</th>\n",
       "      <th>...</th>\n",
       "      <th>tgn</th>\n",
       "      <th>coords</th>\n",
       "    </tr>\n",
       "  </thead>\n",
       "  <tbody>\n",
       "    <tr>\n",
       "      <th>61</th>\n",
       "      <td>https://collections.ashmolean.org/collection/1...</td>\n",
       "      <td>The Ponte della Pietra, Verona</td>\n",
       "      <td>...</td>\n",
       "      <td>tgn/7003262</td>\n",
       "      <td>45.45,11</td>\n",
       "    </tr>\n",
       "  </tbody>\n",
       "</table>\n",
       "<p>1 rows × 5 columns</p>\n",
       "</div>"
      ],
      "text/plain": [
       "                                                   id  \\\n",
       "61  https://collections.ashmolean.org/collection/1...   \n",
       "\n",
       "                             place  ...          tgn    coords  \n",
       "61  The Ponte della Pietra, Verona  ...  tgn/7003262  45.45,11  \n",
       "\n",
       "[1 rows x 5 columns]"
      ]
     },
     "metadata": {},
     "output_type": "display_data"
    },
    {
     "name": "stdout",
     "output_type": "stream",
     "text": [
      "Geographical coordinates representation to be added:\n",
      "{\n",
      "  \"@context\": \"https://linked.art/ns/v1/linked-art.json\",\n",
      "  \"id\": \"http://lod.example.org/museum/VisualItem/115\",\n",
      "  \"type\": \"VisualItem\",\n",
      "  \"represents\": [\n",
      "    {\n",
      "      \"id\": \"http://lod.example.org/museum/Place/231\",\n",
      "      \"type\": \"Place\",\n",
      "      \"_label\": \"The Ponte della Pietra, Verona\",\n",
      "      \"approximated_by\": [\n",
      "        {\n",
      "          \"id\": \"http://lod.example.org/museum/Place/230\",\n",
      "          \"type\": \"Place\",\n",
      "          \"_label\": \"The Ponte della Pietra, Verona\",\n",
      "          \"defined_by\": \"POINT(45.45 11)\"\n",
      "        }\n",
      "      ]\n",
      "    }\n",
      "  ]\n",
      "}\n",
      "File updated\n"
     ]
    },
    {
     "data": {
      "text/html": [
       "<h4>The Kapellbrücke at Luzern (Lucerne)</h4>"
      ],
      "text/plain": [
       "<IPython.core.display.HTML object>"
      ]
     },
     "metadata": {},
     "output_type": "display_data"
    },
    {
     "name": "stdout",
     "output_type": "stream",
     "text": [
      "Matching row in geographical coordinates file for artwork\n"
     ]
    },
    {
     "data": {
      "text/html": [
       "<div>\n",
       "<style scoped>\n",
       "    .dataframe tbody tr th:only-of-type {\n",
       "        vertical-align: middle;\n",
       "    }\n",
       "\n",
       "    .dataframe tbody tr th {\n",
       "        vertical-align: top;\n",
       "    }\n",
       "\n",
       "    .dataframe thead th {\n",
       "        text-align: right;\n",
       "    }\n",
       "</style>\n",
       "<table border=\"1\" class=\"dataframe\">\n",
       "  <thead>\n",
       "    <tr style=\"text-align: right;\">\n",
       "      <th></th>\n",
       "      <th>id</th>\n",
       "      <th>place</th>\n",
       "      <th>...</th>\n",
       "      <th>tgn</th>\n",
       "      <th>coords</th>\n",
       "    </tr>\n",
       "  </thead>\n",
       "  <tbody>\n",
       "    <tr>\n",
       "      <th>84</th>\n",
       "      <td>https://collections.ashmolean.org/collection/1...</td>\n",
       "      <td>The Kapellbrücke at Luzern (Lucerne)</td>\n",
       "      <td>...</td>\n",
       "      <td>tgn/7007280</td>\n",
       "      <td>47.083333,8.266667</td>\n",
       "    </tr>\n",
       "  </tbody>\n",
       "</table>\n",
       "<p>1 rows × 5 columns</p>\n",
       "</div>"
      ],
      "text/plain": [
       "                                                   id  \\\n",
       "84  https://collections.ashmolean.org/collection/1...   \n",
       "\n",
       "                                   place  ...          tgn              coords  \n",
       "84  The Kapellbrücke at Luzern (Lucerne)  ...  tgn/7007280  47.083333,8.266667  \n",
       "\n",
       "[1 rows x 5 columns]"
      ]
     },
     "metadata": {},
     "output_type": "display_data"
    },
    {
     "name": "stdout",
     "output_type": "stream",
     "text": [
      "Geographical coordinates representation to be added:\n",
      "{\n",
      "  \"@context\": \"https://linked.art/ns/v1/linked-art.json\",\n",
      "  \"id\": \"http://lod.example.org/museum/VisualItem/116\",\n",
      "  \"type\": \"VisualItem\",\n",
      "  \"represents\": [\n",
      "    {\n",
      "      \"id\": \"http://lod.example.org/museum/Place/233\",\n",
      "      \"type\": \"Place\",\n",
      "      \"_label\": \"The Kapellbr\\u00fccke at Luzern (Lucerne)\",\n",
      "      \"approximated_by\": [\n",
      "        {\n",
      "          \"id\": \"http://lod.example.org/museum/Place/232\",\n",
      "          \"type\": \"Place\",\n",
      "          \"_label\": \"The Kapellbr\\u00fccke at Luzern (Lucerne)\",\n",
      "          \"defined_by\": \"POINT(47.083333 8.266667)\"\n",
      "        }\n",
      "      ]\n",
      "    }\n",
      "  ]\n",
      "}\n",
      "File updated\n"
     ]
    },
    {
     "data": {
      "text/html": [
       "<h4>Mont Blanc from Saint-Martin-sur-Arve</h4>"
      ],
      "text/plain": [
       "<IPython.core.display.HTML object>"
      ]
     },
     "metadata": {},
     "output_type": "display_data"
    },
    {
     "name": "stdout",
     "output_type": "stream",
     "text": [
      "Matching row in geographical coordinates file for artwork\n"
     ]
    },
    {
     "data": {
      "text/html": [
       "<div>\n",
       "<style scoped>\n",
       "    .dataframe tbody tr th:only-of-type {\n",
       "        vertical-align: middle;\n",
       "    }\n",
       "\n",
       "    .dataframe tbody tr th {\n",
       "        vertical-align: top;\n",
       "    }\n",
       "\n",
       "    .dataframe thead th {\n",
       "        text-align: right;\n",
       "    }\n",
       "</style>\n",
       "<table border=\"1\" class=\"dataframe\">\n",
       "  <thead>\n",
       "    <tr style=\"text-align: right;\">\n",
       "      <th></th>\n",
       "      <th>id</th>\n",
       "      <th>place</th>\n",
       "      <th>...</th>\n",
       "      <th>tgn</th>\n",
       "      <th>coords</th>\n",
       "    </tr>\n",
       "  </thead>\n",
       "  <tbody>\n",
       "    <tr>\n",
       "      <th>86</th>\n",
       "      <td>https://collections.ashmolean.org/collection/1...</td>\n",
       "      <td>Mont Blanc from Saint-Martin-sur-Arve</td>\n",
       "      <td>...</td>\n",
       "      <td>tgn/7609880</td>\n",
       "      <td>45.938883,6.643866</td>\n",
       "    </tr>\n",
       "  </tbody>\n",
       "</table>\n",
       "<p>1 rows × 5 columns</p>\n",
       "</div>"
      ],
      "text/plain": [
       "                                                   id  \\\n",
       "86  https://collections.ashmolean.org/collection/1...   \n",
       "\n",
       "                                    place  ...          tgn  \\\n",
       "86  Mont Blanc from Saint-Martin-sur-Arve  ...  tgn/7609880   \n",
       "\n",
       "                coords  \n",
       "86  45.938883,6.643866  \n",
       "\n",
       "[1 rows x 5 columns]"
      ]
     },
     "metadata": {},
     "output_type": "display_data"
    },
    {
     "name": "stdout",
     "output_type": "stream",
     "text": [
      "Geographical coordinates representation to be added:\n",
      "{\n",
      "  \"@context\": \"https://linked.art/ns/v1/linked-art.json\",\n",
      "  \"id\": \"http://lod.example.org/museum/VisualItem/117\",\n",
      "  \"type\": \"VisualItem\",\n",
      "  \"represents\": [\n",
      "    {\n",
      "      \"id\": \"http://lod.example.org/museum/Place/235\",\n",
      "      \"type\": \"Place\",\n",
      "      \"_label\": \"Mont Blanc from Saint-Martin-sur-Arve\",\n",
      "      \"approximated_by\": [\n",
      "        {\n",
      "          \"id\": \"http://lod.example.org/museum/Place/234\",\n",
      "          \"type\": \"Place\",\n",
      "          \"_label\": \"Mont Blanc from Saint-Martin-sur-Arve\",\n",
      "          \"defined_by\": \"POINT(45.938883 6.643866)\"\n",
      "        }\n",
      "      ]\n",
      "    }\n",
      "  ]\n",
      "}\n",
      "File updated\n"
     ]
    },
    {
     "data": {
      "text/html": [
       "<h4>Bergamo and the Alps, from the road to Brescia</h4>"
      ],
      "text/plain": [
       "<IPython.core.display.HTML object>"
      ]
     },
     "metadata": {},
     "output_type": "display_data"
    },
    {
     "name": "stdout",
     "output_type": "stream",
     "text": [
      "Matching row in geographical coordinates file for artwork\n"
     ]
    },
    {
     "data": {
      "text/html": [
       "<div>\n",
       "<style scoped>\n",
       "    .dataframe tbody tr th:only-of-type {\n",
       "        vertical-align: middle;\n",
       "    }\n",
       "\n",
       "    .dataframe tbody tr th {\n",
       "        vertical-align: top;\n",
       "    }\n",
       "\n",
       "    .dataframe thead th {\n",
       "        text-align: right;\n",
       "    }\n",
       "</style>\n",
       "<table border=\"1\" class=\"dataframe\">\n",
       "  <thead>\n",
       "    <tr style=\"text-align: right;\">\n",
       "      <th></th>\n",
       "      <th>id</th>\n",
       "      <th>place</th>\n",
       "      <th>...</th>\n",
       "      <th>tgn</th>\n",
       "      <th>coords</th>\n",
       "    </tr>\n",
       "  </thead>\n",
       "  <tbody>\n",
       "    <tr>\n",
       "      <th>36</th>\n",
       "      <td>https://collections.ashmolean.org/collection//...</td>\n",
       "      <td>Bergamo and the Alps, from the road to Brescia</td>\n",
       "      <td>...</td>\n",
       "      <td>tgn/7007746</td>\n",
       "      <td>46.416667,10</td>\n",
       "    </tr>\n",
       "  </tbody>\n",
       "</table>\n",
       "<p>1 rows × 5 columns</p>\n",
       "</div>"
      ],
      "text/plain": [
       "                                                   id  \\\n",
       "36  https://collections.ashmolean.org/collection//...   \n",
       "\n",
       "                                             place  ...          tgn  \\\n",
       "36  Bergamo and the Alps, from the road to Brescia  ...  tgn/7007746   \n",
       "\n",
       "          coords  \n",
       "36  46.416667,10  \n",
       "\n",
       "[1 rows x 5 columns]"
      ]
     },
     "metadata": {},
     "output_type": "display_data"
    },
    {
     "name": "stdout",
     "output_type": "stream",
     "text": [
      "Geographical coordinates representation to be added:\n",
      "{\n",
      "  \"@context\": \"https://linked.art/ns/v1/linked-art.json\",\n",
      "  \"id\": \"http://lod.example.org/museum/VisualItem/118\",\n",
      "  \"type\": \"VisualItem\",\n",
      "  \"represents\": [\n",
      "    {\n",
      "      \"id\": \"http://lod.example.org/museum/Place/237\",\n",
      "      \"type\": \"Place\",\n",
      "      \"_label\": \"Bergamo and the Alps, from the road to Brescia\",\n",
      "      \"approximated_by\": [\n",
      "        {\n",
      "          \"id\": \"http://lod.example.org/museum/Place/236\",\n",
      "          \"type\": \"Place\",\n",
      "          \"_label\": \"Bergamo and the Alps, from the road to Brescia\",\n",
      "          \"defined_by\": \"POINT(46.416667 10)\"\n",
      "        }\n",
      "      ]\n",
      "    }\n",
      "  ]\n",
      "}\n",
      "File updated\n"
     ]
    },
    {
     "data": {
      "text/html": [
       "<h4>The Palazzo Contarini-Fasan, Venice</h4>"
      ],
      "text/plain": [
       "<IPython.core.display.HTML object>"
      ]
     },
     "metadata": {},
     "output_type": "display_data"
    },
    {
     "name": "stdout",
     "output_type": "stream",
     "text": [
      "Matching row in geographical coordinates file for artwork\n"
     ]
    },
    {
     "data": {
      "text/html": [
       "<div>\n",
       "<style scoped>\n",
       "    .dataframe tbody tr th:only-of-type {\n",
       "        vertical-align: middle;\n",
       "    }\n",
       "\n",
       "    .dataframe tbody tr th {\n",
       "        vertical-align: top;\n",
       "    }\n",
       "\n",
       "    .dataframe thead th {\n",
       "        text-align: right;\n",
       "    }\n",
       "</style>\n",
       "<table border=\"1\" class=\"dataframe\">\n",
       "  <thead>\n",
       "    <tr style=\"text-align: right;\">\n",
       "      <th></th>\n",
       "      <th>id</th>\n",
       "      <th>place</th>\n",
       "      <th>...</th>\n",
       "      <th>tgn</th>\n",
       "      <th>coords</th>\n",
       "    </tr>\n",
       "  </thead>\n",
       "  <tbody>\n",
       "    <tr>\n",
       "      <th>4</th>\n",
       "      <td>https://collections.ashmolean.org/collection/1...</td>\n",
       "      <td>The Palazzo Contarini-Fasan, Venice</td>\n",
       "      <td>...</td>\n",
       "      <td>tgn/7003006</td>\n",
       "      <td>45.583333,12.566667</td>\n",
       "    </tr>\n",
       "  </tbody>\n",
       "</table>\n",
       "<p>1 rows × 5 columns</p>\n",
       "</div>"
      ],
      "text/plain": [
       "                                                  id  \\\n",
       "4  https://collections.ashmolean.org/collection/1...   \n",
       "\n",
       "                                 place  ...          tgn               coords  \n",
       "4  The Palazzo Contarini-Fasan, Venice  ...  tgn/7003006  45.583333,12.566667  \n",
       "\n",
       "[1 rows x 5 columns]"
      ]
     },
     "metadata": {},
     "output_type": "display_data"
    },
    {
     "name": "stdout",
     "output_type": "stream",
     "text": [
      "Geographical coordinates representation to be added:\n",
      "{\n",
      "  \"@context\": \"https://linked.art/ns/v1/linked-art.json\",\n",
      "  \"id\": \"http://lod.example.org/museum/VisualItem/119\",\n",
      "  \"type\": \"VisualItem\",\n",
      "  \"represents\": [\n",
      "    {\n",
      "      \"id\": \"http://lod.example.org/museum/Place/239\",\n",
      "      \"type\": \"Place\",\n",
      "      \"_label\": \"The Palazzo Contarini-Fasan, Venice\",\n",
      "      \"approximated_by\": [\n",
      "        {\n",
      "          \"id\": \"http://lod.example.org/museum/Place/238\",\n",
      "          \"type\": \"Place\",\n",
      "          \"_label\": \"The Palazzo Contarini-Fasan, Venice\",\n",
      "          \"defined_by\": \"POINT(45.583333 12.566667)\"\n",
      "        }\n",
      "      ]\n",
      "    }\n",
      "  ]\n",
      "}\n",
      "File updated\n"
     ]
    },
    {
     "data": {
      "text/html": [
       "<h4>Pass of Faido</h4>"
      ],
      "text/plain": [
       "<IPython.core.display.HTML object>"
      ]
     },
     "metadata": {},
     "output_type": "display_data"
    },
    {
     "name": "stdout",
     "output_type": "stream",
     "text": [
      "Matching row in geographical coordinates file for artwork\n"
     ]
    },
    {
     "data": {
      "text/html": [
       "<div>\n",
       "<style scoped>\n",
       "    .dataframe tbody tr th:only-of-type {\n",
       "        vertical-align: middle;\n",
       "    }\n",
       "\n",
       "    .dataframe tbody tr th {\n",
       "        vertical-align: top;\n",
       "    }\n",
       "\n",
       "    .dataframe thead th {\n",
       "        text-align: right;\n",
       "    }\n",
       "</style>\n",
       "<table border=\"1\" class=\"dataframe\">\n",
       "  <thead>\n",
       "    <tr style=\"text-align: right;\">\n",
       "      <th></th>\n",
       "      <th>id</th>\n",
       "      <th>place</th>\n",
       "      <th>...</th>\n",
       "      <th>tgn</th>\n",
       "      <th>coords</th>\n",
       "    </tr>\n",
       "  </thead>\n",
       "  <tbody>\n",
       "    <tr>\n",
       "      <th>87</th>\n",
       "      <td>https://www.harvardartmuseums.org/collections/...</td>\n",
       "      <td>Pass of Faido</td>\n",
       "      <td>...</td>\n",
       "      <td>tgn/1064047</td>\n",
       "      <td>46.479417,8.797659</td>\n",
       "    </tr>\n",
       "  </tbody>\n",
       "</table>\n",
       "<p>1 rows × 5 columns</p>\n",
       "</div>"
      ],
      "text/plain": [
       "                                                   id          place  ...  \\\n",
       "87  https://www.harvardartmuseums.org/collections/...  Pass of Faido  ...   \n",
       "\n",
       "            tgn              coords  \n",
       "87  tgn/1064047  46.479417,8.797659  \n",
       "\n",
       "[1 rows x 5 columns]"
      ]
     },
     "metadata": {},
     "output_type": "display_data"
    },
    {
     "name": "stdout",
     "output_type": "stream",
     "text": [
      "Geographical coordinates representation to be added:\n",
      "{\n",
      "  \"@context\": \"https://linked.art/ns/v1/linked-art.json\",\n",
      "  \"id\": \"http://lod.example.org/museum/VisualItem/120\",\n",
      "  \"type\": \"VisualItem\",\n",
      "  \"represents\": [\n",
      "    {\n",
      "      \"id\": \"http://lod.example.org/museum/Place/241\",\n",
      "      \"type\": \"Place\",\n",
      "      \"_label\": \"Pass of Faido\",\n",
      "      \"approximated_by\": [\n",
      "        {\n",
      "          \"id\": \"http://lod.example.org/museum/Place/240\",\n",
      "          \"type\": \"Place\",\n",
      "          \"_label\": \"Pass of Faido\",\n",
      "          \"defined_by\": \"POINT(46.479417 8.797659)\"\n",
      "        }\n",
      "      ]\n",
      "    }\n",
      "  ]\n",
      "}\n",
      "File updated\n"
     ]
    },
    {
     "data": {
      "text/html": [
       "<h4>Pilaster on the unfinished Facade of Sant' Anastasia, Verona</h4>"
      ],
      "text/plain": [
       "<IPython.core.display.HTML object>"
      ]
     },
     "metadata": {},
     "output_type": "display_data"
    },
    {
     "name": "stdout",
     "output_type": "stream",
     "text": [
      "Matching row in geographical coordinates file for artwork\n"
     ]
    },
    {
     "data": {
      "text/html": [
       "<div>\n",
       "<style scoped>\n",
       "    .dataframe tbody tr th:only-of-type {\n",
       "        vertical-align: middle;\n",
       "    }\n",
       "\n",
       "    .dataframe tbody tr th {\n",
       "        vertical-align: top;\n",
       "    }\n",
       "\n",
       "    .dataframe thead th {\n",
       "        text-align: right;\n",
       "    }\n",
       "</style>\n",
       "<table border=\"1\" class=\"dataframe\">\n",
       "  <thead>\n",
       "    <tr style=\"text-align: right;\">\n",
       "      <th></th>\n",
       "      <th>id</th>\n",
       "      <th>place</th>\n",
       "      <th>...</th>\n",
       "      <th>tgn</th>\n",
       "      <th>coords</th>\n",
       "    </tr>\n",
       "  </thead>\n",
       "  <tbody>\n",
       "    <tr>\n",
       "      <th>62</th>\n",
       "      <td>https://collections.ashmolean.org/collection/1...</td>\n",
       "      <td>Pilaster on the unfinished Facade of Sant' Ana...</td>\n",
       "      <td>...</td>\n",
       "      <td>tgn/7003262</td>\n",
       "      <td>45.45,11</td>\n",
       "    </tr>\n",
       "  </tbody>\n",
       "</table>\n",
       "<p>1 rows × 5 columns</p>\n",
       "</div>"
      ],
      "text/plain": [
       "                                                   id  \\\n",
       "62  https://collections.ashmolean.org/collection/1...   \n",
       "\n",
       "                                                place  ...          tgn  \\\n",
       "62  Pilaster on the unfinished Facade of Sant' Ana...  ...  tgn/7003262   \n",
       "\n",
       "      coords  \n",
       "62  45.45,11  \n",
       "\n",
       "[1 rows x 5 columns]"
      ]
     },
     "metadata": {},
     "output_type": "display_data"
    },
    {
     "name": "stdout",
     "output_type": "stream",
     "text": [
      "Geographical coordinates representation to be added:\n",
      "{\n",
      "  \"@context\": \"https://linked.art/ns/v1/linked-art.json\",\n",
      "  \"id\": \"http://lod.example.org/museum/VisualItem/121\",\n",
      "  \"type\": \"VisualItem\",\n",
      "  \"represents\": [\n",
      "    {\n",
      "      \"id\": \"http://lod.example.org/museum/Place/243\",\n",
      "      \"type\": \"Place\",\n",
      "      \"_label\": \"Pilaster on the unfinished Facade of Sant' Anastasia, Verona\",\n",
      "      \"approximated_by\": [\n",
      "        {\n",
      "          \"id\": \"http://lod.example.org/museum/Place/242\",\n",
      "          \"type\": \"Place\",\n",
      "          \"_label\": \"Pilaster on the unfinished Facade of Sant' Anastasia, Verona\",\n",
      "          \"defined_by\": \"POINT(45.45 11)\"\n",
      "        }\n",
      "      ]\n",
      "    }\n",
      "  ]\n",
      "}\n",
      "File updated\n"
     ]
    },
    {
     "data": {
      "text/html": [
       "<h4>Ponte Vecchio</h4>"
      ],
      "text/plain": [
       "<IPython.core.display.HTML object>"
      ]
     },
     "metadata": {},
     "output_type": "display_data"
    },
    {
     "name": "stdout",
     "output_type": "stream",
     "text": [
      "Matching row in geographical coordinates file for artwork\n"
     ]
    },
    {
     "data": {
      "text/html": [
       "<div>\n",
       "<style scoped>\n",
       "    .dataframe tbody tr th:only-of-type {\n",
       "        vertical-align: middle;\n",
       "    }\n",
       "\n",
       "    .dataframe tbody tr th {\n",
       "        vertical-align: top;\n",
       "    }\n",
       "\n",
       "    .dataframe thead th {\n",
       "        text-align: right;\n",
       "    }\n",
       "</style>\n",
       "<table border=\"1\" class=\"dataframe\">\n",
       "  <thead>\n",
       "    <tr style=\"text-align: right;\">\n",
       "      <th></th>\n",
       "      <th>id</th>\n",
       "      <th>place</th>\n",
       "      <th>...</th>\n",
       "      <th>tgn</th>\n",
       "      <th>coords</th>\n",
       "    </tr>\n",
       "  </thead>\n",
       "  <tbody>\n",
       "    <tr>\n",
       "      <th>91</th>\n",
       "      <td>https://www.harvardartmuseums.org/collections/...</td>\n",
       "      <td>Ponte Vecchio</td>\n",
       "      <td>...</td>\n",
       "      <td>tgn/7018159</td>\n",
       "      <td>45.438611,12.326667</td>\n",
       "    </tr>\n",
       "  </tbody>\n",
       "</table>\n",
       "<p>1 rows × 5 columns</p>\n",
       "</div>"
      ],
      "text/plain": [
       "                                                   id          place  ...  \\\n",
       "91  https://www.harvardartmuseums.org/collections/...  Ponte Vecchio  ...   \n",
       "\n",
       "            tgn               coords  \n",
       "91  tgn/7018159  45.438611,12.326667  \n",
       "\n",
       "[1 rows x 5 columns]"
      ]
     },
     "metadata": {},
     "output_type": "display_data"
    },
    {
     "name": "stdout",
     "output_type": "stream",
     "text": [
      "Geographical coordinates representation to be added:\n",
      "{\n",
      "  \"@context\": \"https://linked.art/ns/v1/linked-art.json\",\n",
      "  \"id\": \"http://lod.example.org/museum/VisualItem/122\",\n",
      "  \"type\": \"VisualItem\",\n",
      "  \"represents\": [\n",
      "    {\n",
      "      \"id\": \"http://lod.example.org/museum/Place/245\",\n",
      "      \"type\": \"Place\",\n",
      "      \"_label\": \"Ponte Vecchio\",\n",
      "      \"approximated_by\": [\n",
      "        {\n",
      "          \"id\": \"http://lod.example.org/museum/Place/244\",\n",
      "          \"type\": \"Place\",\n",
      "          \"_label\": \"Ponte Vecchio\",\n",
      "          \"defined_by\": \"POINT(45.438611 12.326667)\"\n",
      "        }\n",
      "      ]\n",
      "    }\n",
      "  ]\n",
      "}\n",
      "File updated\n"
     ]
    },
    {
     "data": {
      "text/html": [
       "<h4>The Gryphon bearing the south Shaft of the west Entrance of the Duomo, Verona</h4>"
      ],
      "text/plain": [
       "<IPython.core.display.HTML object>"
      ]
     },
     "metadata": {},
     "output_type": "display_data"
    },
    {
     "name": "stdout",
     "output_type": "stream",
     "text": [
      "Matching row in geographical coordinates file for artwork\n"
     ]
    },
    {
     "data": {
      "text/html": [
       "<div>\n",
       "<style scoped>\n",
       "    .dataframe tbody tr th:only-of-type {\n",
       "        vertical-align: middle;\n",
       "    }\n",
       "\n",
       "    .dataframe tbody tr th {\n",
       "        vertical-align: top;\n",
       "    }\n",
       "\n",
       "    .dataframe thead th {\n",
       "        text-align: right;\n",
       "    }\n",
       "</style>\n",
       "<table border=\"1\" class=\"dataframe\">\n",
       "  <thead>\n",
       "    <tr style=\"text-align: right;\">\n",
       "      <th></th>\n",
       "      <th>id</th>\n",
       "      <th>place</th>\n",
       "      <th>...</th>\n",
       "      <th>tgn</th>\n",
       "      <th>coords</th>\n",
       "    </tr>\n",
       "  </thead>\n",
       "  <tbody>\n",
       "    <tr>\n",
       "      <th>63</th>\n",
       "      <td>https://collections.ashmolean.org/collection/1...</td>\n",
       "      <td>The Gryphon bearing the south Shaft of the wes...</td>\n",
       "      <td>...</td>\n",
       "      <td>tgn/7003262</td>\n",
       "      <td>45.45,11</td>\n",
       "    </tr>\n",
       "  </tbody>\n",
       "</table>\n",
       "<p>1 rows × 5 columns</p>\n",
       "</div>"
      ],
      "text/plain": [
       "                                                   id  \\\n",
       "63  https://collections.ashmolean.org/collection/1...   \n",
       "\n",
       "                                                place  ...          tgn  \\\n",
       "63  The Gryphon bearing the south Shaft of the wes...  ...  tgn/7003262   \n",
       "\n",
       "      coords  \n",
       "63  45.45,11  \n",
       "\n",
       "[1 rows x 5 columns]"
      ]
     },
     "metadata": {},
     "output_type": "display_data"
    },
    {
     "name": "stdout",
     "output_type": "stream",
     "text": [
      "Geographical coordinates representation to be added:\n",
      "{\n",
      "  \"@context\": \"https://linked.art/ns/v1/linked-art.json\",\n",
      "  \"id\": \"http://lod.example.org/museum/VisualItem/123\",\n",
      "  \"type\": \"VisualItem\",\n",
      "  \"represents\": [\n",
      "    {\n",
      "      \"id\": \"http://lod.example.org/museum/Place/247\",\n",
      "      \"type\": \"Place\",\n",
      "      \"_label\": \"The Gryphon bearing the south Shaft of the west Entrance of the Duomo, Verona\",\n",
      "      \"approximated_by\": [\n",
      "        {\n",
      "          \"id\": \"http://lod.example.org/museum/Place/246\",\n",
      "          \"type\": \"Place\",\n",
      "          \"_label\": \"The Gryphon bearing the south Shaft of the west Entrance of the Duomo, Verona\",\n",
      "          \"defined_by\": \"POINT(45.45 11)\"\n",
      "        }\n",
      "      ]\n",
      "    }\n",
      "  ]\n",
      "}\n",
      "File updated\n"
     ]
    },
    {
     "data": {
      "text/html": [
       "<h4>Sepia Sketch of Leafage, further carried: Study from Ruskin's Photograph of the Courtyard of a late Gothic wooden House at Abbeville</h4>"
      ],
      "text/plain": [
       "<IPython.core.display.HTML object>"
      ]
     },
     "metadata": {},
     "output_type": "display_data"
    },
    {
     "name": "stdout",
     "output_type": "stream",
     "text": [
      "Matching row in geographical coordinates file for artwork\n"
     ]
    },
    {
     "data": {
      "text/html": [
       "<div>\n",
       "<style scoped>\n",
       "    .dataframe tbody tr th:only-of-type {\n",
       "        vertical-align: middle;\n",
       "    }\n",
       "\n",
       "    .dataframe tbody tr th {\n",
       "        vertical-align: top;\n",
       "    }\n",
       "\n",
       "    .dataframe thead th {\n",
       "        text-align: right;\n",
       "    }\n",
       "</style>\n",
       "<table border=\"1\" class=\"dataframe\">\n",
       "  <thead>\n",
       "    <tr style=\"text-align: right;\">\n",
       "      <th></th>\n",
       "      <th>id</th>\n",
       "      <th>place</th>\n",
       "      <th>...</th>\n",
       "      <th>tgn</th>\n",
       "      <th>coords</th>\n",
       "    </tr>\n",
       "  </thead>\n",
       "  <tbody>\n",
       "    <tr>\n",
       "      <th>52</th>\n",
       "      <td>https://collections.ashmolean.org/collection/1...</td>\n",
       "      <td>Sepia Sketch of Leafage, further carried: Stud...</td>\n",
       "      <td>...</td>\n",
       "      <td>tgn/7668075</td>\n",
       "      <td>50.166667,1.75</td>\n",
       "    </tr>\n",
       "  </tbody>\n",
       "</table>\n",
       "<p>1 rows × 5 columns</p>\n",
       "</div>"
      ],
      "text/plain": [
       "                                                   id  \\\n",
       "52  https://collections.ashmolean.org/collection/1...   \n",
       "\n",
       "                                                place  ...          tgn  \\\n",
       "52  Sepia Sketch of Leafage, further carried: Stud...  ...  tgn/7668075   \n",
       "\n",
       "            coords  \n",
       "52  50.166667,1.75  \n",
       "\n",
       "[1 rows x 5 columns]"
      ]
     },
     "metadata": {},
     "output_type": "display_data"
    },
    {
     "name": "stdout",
     "output_type": "stream",
     "text": [
      "Geographical coordinates representation to be added:\n",
      "{\n",
      "  \"@context\": \"https://linked.art/ns/v1/linked-art.json\",\n",
      "  \"id\": \"http://lod.example.org/museum/VisualItem/124\",\n",
      "  \"type\": \"VisualItem\",\n",
      "  \"represents\": [\n",
      "    {\n",
      "      \"id\": \"http://lod.example.org/museum/Place/249\",\n",
      "      \"type\": \"Place\",\n",
      "      \"_label\": \"Sepia Sketch of Leafage, further carried: Study from Ruskin's Photograph of the Courtyard of a late Gothic wooden House at Abbeville\",\n",
      "      \"approximated_by\": [\n",
      "        {\n",
      "          \"id\": \"http://lod.example.org/museum/Place/248\",\n",
      "          \"type\": \"Place\",\n",
      "          \"_label\": \"Sepia Sketch of Leafage, further carried: Study from Ruskin's Photograph of the Courtyard of a late Gothic wooden House at Abbeville\",\n",
      "          \"defined_by\": \"POINT(50.166667 1.75)\"\n",
      "        }\n",
      "      ]\n",
      "    }\n",
      "  ]\n",
      "}\n",
      "File updated\n"
     ]
    },
    {
     "data": {
      "text/html": [
       "<h4>Design for a window in the University Museum, Oxford</h4>"
      ],
      "text/plain": [
       "<IPython.core.display.HTML object>"
      ]
     },
     "metadata": {},
     "output_type": "display_data"
    },
    {
     "name": "stdout",
     "output_type": "stream",
     "text": [
      "Matching row in geographical coordinates file for artwork\n"
     ]
    },
    {
     "data": {
      "text/html": [
       "<div>\n",
       "<style scoped>\n",
       "    .dataframe tbody tr th:only-of-type {\n",
       "        vertical-align: middle;\n",
       "    }\n",
       "\n",
       "    .dataframe tbody tr th {\n",
       "        vertical-align: top;\n",
       "    }\n",
       "\n",
       "    .dataframe thead th {\n",
       "        text-align: right;\n",
       "    }\n",
       "</style>\n",
       "<table border=\"1\" class=\"dataframe\">\n",
       "  <thead>\n",
       "    <tr style=\"text-align: right;\">\n",
       "      <th></th>\n",
       "      <th>id</th>\n",
       "      <th>place</th>\n",
       "      <th>...</th>\n",
       "      <th>tgn</th>\n",
       "      <th>coords</th>\n",
       "    </tr>\n",
       "  </thead>\n",
       "  <tbody>\n",
       "    <tr>\n",
       "      <th>24</th>\n",
       "      <td>https://collections.ashmolean.org/collection/1...</td>\n",
       "      <td>Design for a window in the University Museum, ...</td>\n",
       "      <td>...</td>\n",
       "      <td>tgn/7011931</td>\n",
       "      <td>51.75,-1.25</td>\n",
       "    </tr>\n",
       "  </tbody>\n",
       "</table>\n",
       "<p>1 rows × 5 columns</p>\n",
       "</div>"
      ],
      "text/plain": [
       "                                                   id  \\\n",
       "24  https://collections.ashmolean.org/collection/1...   \n",
       "\n",
       "                                                place  ...          tgn  \\\n",
       "24  Design for a window in the University Museum, ...  ...  tgn/7011931   \n",
       "\n",
       "         coords  \n",
       "24  51.75,-1.25  \n",
       "\n",
       "[1 rows x 5 columns]"
      ]
     },
     "metadata": {},
     "output_type": "display_data"
    },
    {
     "name": "stdout",
     "output_type": "stream",
     "text": [
      "Geographical coordinates representation to be added:\n",
      "{\n",
      "  \"@context\": \"https://linked.art/ns/v1/linked-art.json\",\n",
      "  \"id\": \"http://lod.example.org/museum/VisualItem/125\",\n",
      "  \"type\": \"VisualItem\",\n",
      "  \"represents\": [\n",
      "    {\n",
      "      \"id\": \"http://lod.example.org/museum/Place/251\",\n",
      "      \"type\": \"Place\",\n",
      "      \"_label\": \"Design for a window in the University Museum, Oxford\",\n",
      "      \"approximated_by\": [\n",
      "        {\n",
      "          \"id\": \"http://lod.example.org/museum/Place/250\",\n",
      "          \"type\": \"Place\",\n",
      "          \"_label\": \"Design for a window in the University Museum, Oxford\",\n",
      "          \"defined_by\": \"POINT(51.75 -1.25)\"\n",
      "        }\n",
      "      ]\n",
      "    }\n",
      "  ]\n",
      "}\n",
      "File updated\n"
     ]
    },
    {
     "data": {
      "text/html": [
       "<h4>Convent and Alpine Pass, Visp, Switzerland</h4>"
      ],
      "text/plain": [
       "<IPython.core.display.HTML object>"
      ]
     },
     "metadata": {},
     "output_type": "display_data"
    },
    {
     "name": "stdout",
     "output_type": "stream",
     "text": [
      "Matching row in geographical coordinates file for artwork\n"
     ]
    },
    {
     "data": {
      "text/html": [
       "<div>\n",
       "<style scoped>\n",
       "    .dataframe tbody tr th:only-of-type {\n",
       "        vertical-align: middle;\n",
       "    }\n",
       "\n",
       "    .dataframe tbody tr th {\n",
       "        vertical-align: top;\n",
       "    }\n",
       "\n",
       "    .dataframe thead th {\n",
       "        text-align: right;\n",
       "    }\n",
       "</style>\n",
       "<table border=\"1\" class=\"dataframe\">\n",
       "  <thead>\n",
       "    <tr style=\"text-align: right;\">\n",
       "      <th></th>\n",
       "      <th>id</th>\n",
       "      <th>place</th>\n",
       "      <th>...</th>\n",
       "      <th>tgn</th>\n",
       "      <th>coords</th>\n",
       "    </tr>\n",
       "  </thead>\n",
       "  <tbody>\n",
       "    <tr>\n",
       "      <th>93</th>\n",
       "      <td>https://www.harvardartmuseums.org/collections/...</td>\n",
       "      <td>Convent and Alpine Pass, Visp, Switzerland</td>\n",
       "      <td>...</td>\n",
       "      <td>tgn/8711124</td>\n",
       "      <td>46.301907,7.870004</td>\n",
       "    </tr>\n",
       "  </tbody>\n",
       "</table>\n",
       "<p>1 rows × 5 columns</p>\n",
       "</div>"
      ],
      "text/plain": [
       "                                                   id  \\\n",
       "93  https://www.harvardartmuseums.org/collections/...   \n",
       "\n",
       "                                         place  ...          tgn  \\\n",
       "93  Convent and Alpine Pass, Visp, Switzerland  ...  tgn/8711124   \n",
       "\n",
       "                coords  \n",
       "93  46.301907,7.870004  \n",
       "\n",
       "[1 rows x 5 columns]"
      ]
     },
     "metadata": {},
     "output_type": "display_data"
    },
    {
     "name": "stdout",
     "output_type": "stream",
     "text": [
      "Geographical coordinates representation to be added:\n",
      "{\n",
      "  \"@context\": \"https://linked.art/ns/v1/linked-art.json\",\n",
      "  \"id\": \"http://lod.example.org/museum/VisualItem/126\",\n",
      "  \"type\": \"VisualItem\",\n",
      "  \"represents\": [\n",
      "    {\n",
      "      \"id\": \"http://lod.example.org/museum/Place/253\",\n",
      "      \"type\": \"Place\",\n",
      "      \"_label\": \"Convent and Alpine Pass, Visp, Switzerland\",\n",
      "      \"approximated_by\": [\n",
      "        {\n",
      "          \"id\": \"http://lod.example.org/museum/Place/252\",\n",
      "          \"type\": \"Place\",\n",
      "          \"_label\": \"Convent and Alpine Pass, Visp, Switzerland\",\n",
      "          \"defined_by\": \"POINT(46.301907 7.870004)\"\n",
      "        }\n",
      "      ]\n",
      "    }\n",
      "  ]\n",
      "}\n",
      "File updated\n"
     ]
    },
    {
     "data": {
      "text/html": [
       "<h4>Pass of Faido</h4>"
      ],
      "text/plain": [
       "<IPython.core.display.HTML object>"
      ]
     },
     "metadata": {},
     "output_type": "display_data"
    },
    {
     "name": "stdout",
     "output_type": "stream",
     "text": [
      "Matching row in geographical coordinates file for artwork\n"
     ]
    },
    {
     "data": {
      "text/html": [
       "<div>\n",
       "<style scoped>\n",
       "    .dataframe tbody tr th:only-of-type {\n",
       "        vertical-align: middle;\n",
       "    }\n",
       "\n",
       "    .dataframe tbody tr th {\n",
       "        vertical-align: top;\n",
       "    }\n",
       "\n",
       "    .dataframe thead th {\n",
       "        text-align: right;\n",
       "    }\n",
       "</style>\n",
       "<table border=\"1\" class=\"dataframe\">\n",
       "  <thead>\n",
       "    <tr style=\"text-align: right;\">\n",
       "      <th></th>\n",
       "      <th>id</th>\n",
       "      <th>place</th>\n",
       "      <th>...</th>\n",
       "      <th>tgn</th>\n",
       "      <th>coords</th>\n",
       "    </tr>\n",
       "  </thead>\n",
       "  <tbody>\n",
       "    <tr>\n",
       "      <th>88</th>\n",
       "      <td>https://www.harvardartmuseums.org/collections/...</td>\n",
       "      <td>Pass of Faido</td>\n",
       "      <td>...</td>\n",
       "      <td>tgn/1064047</td>\n",
       "      <td>46.479417,8.797659</td>\n",
       "    </tr>\n",
       "  </tbody>\n",
       "</table>\n",
       "<p>1 rows × 5 columns</p>\n",
       "</div>"
      ],
      "text/plain": [
       "                                                   id          place  ...  \\\n",
       "88  https://www.harvardartmuseums.org/collections/...  Pass of Faido  ...   \n",
       "\n",
       "            tgn              coords  \n",
       "88  tgn/1064047  46.479417,8.797659  \n",
       "\n",
       "[1 rows x 5 columns]"
      ]
     },
     "metadata": {},
     "output_type": "display_data"
    },
    {
     "name": "stdout",
     "output_type": "stream",
     "text": [
      "Geographical coordinates representation to be added:\n",
      "{\n",
      "  \"@context\": \"https://linked.art/ns/v1/linked-art.json\",\n",
      "  \"id\": \"http://lod.example.org/museum/VisualItem/127\",\n",
      "  \"type\": \"VisualItem\",\n",
      "  \"represents\": [\n",
      "    {\n",
      "      \"id\": \"http://lod.example.org/museum/Place/255\",\n",
      "      \"type\": \"Place\",\n",
      "      \"_label\": \"Pass of Faido\",\n",
      "      \"approximated_by\": [\n",
      "        {\n",
      "          \"id\": \"http://lod.example.org/museum/Place/254\",\n",
      "          \"type\": \"Place\",\n",
      "          \"_label\": \"Pass of Faido\",\n",
      "          \"defined_by\": \"POINT(46.479417 8.797659)\"\n",
      "        }\n",
      "      ]\n",
      "    }\n",
      "  ]\n",
      "}\n",
      "File updated\n"
     ]
    },
    {
     "data": {
      "text/html": [
       "<h4>Study in Colour of one of the Niches surrounding the Tomb of Cansignorio della Scala at Verona, with Remains of the 'Casa di Romeo'</h4>"
      ],
      "text/plain": [
       "<IPython.core.display.HTML object>"
      ]
     },
     "metadata": {},
     "output_type": "display_data"
    },
    {
     "name": "stdout",
     "output_type": "stream",
     "text": [
      "Matching row in geographical coordinates file for artwork\n"
     ]
    },
    {
     "data": {
      "text/html": [
       "<div>\n",
       "<style scoped>\n",
       "    .dataframe tbody tr th:only-of-type {\n",
       "        vertical-align: middle;\n",
       "    }\n",
       "\n",
       "    .dataframe tbody tr th {\n",
       "        vertical-align: top;\n",
       "    }\n",
       "\n",
       "    .dataframe thead th {\n",
       "        text-align: right;\n",
       "    }\n",
       "</style>\n",
       "<table border=\"1\" class=\"dataframe\">\n",
       "  <thead>\n",
       "    <tr style=\"text-align: right;\">\n",
       "      <th></th>\n",
       "      <th>id</th>\n",
       "      <th>place</th>\n",
       "      <th>...</th>\n",
       "      <th>tgn</th>\n",
       "      <th>coords</th>\n",
       "    </tr>\n",
       "  </thead>\n",
       "  <tbody>\n",
       "    <tr>\n",
       "      <th>64</th>\n",
       "      <td>https://collections.ashmolean.org/collection/1...</td>\n",
       "      <td>Study in Colour of one of the Niches surroundi...</td>\n",
       "      <td>...</td>\n",
       "      <td>tgn/7003262</td>\n",
       "      <td>45.45,11</td>\n",
       "    </tr>\n",
       "  </tbody>\n",
       "</table>\n",
       "<p>1 rows × 5 columns</p>\n",
       "</div>"
      ],
      "text/plain": [
       "                                                   id  \\\n",
       "64  https://collections.ashmolean.org/collection/1...   \n",
       "\n",
       "                                                place  ...          tgn  \\\n",
       "64  Study in Colour of one of the Niches surroundi...  ...  tgn/7003262   \n",
       "\n",
       "      coords  \n",
       "64  45.45,11  \n",
       "\n",
       "[1 rows x 5 columns]"
      ]
     },
     "metadata": {},
     "output_type": "display_data"
    },
    {
     "name": "stdout",
     "output_type": "stream",
     "text": [
      "Geographical coordinates representation to be added:\n",
      "{\n",
      "  \"@context\": \"https://linked.art/ns/v1/linked-art.json\",\n",
      "  \"id\": \"http://lod.example.org/museum/VisualItem/128\",\n",
      "  \"type\": \"VisualItem\",\n",
      "  \"represents\": [\n",
      "    {\n",
      "      \"id\": \"http://lod.example.org/museum/Place/257\",\n",
      "      \"type\": \"Place\",\n",
      "      \"_label\": \"Study in Colour of one of the Niches surrounding the Tomb of Cansignorio della Scala at Verona, with Remains of the 'Casa di Romeo'\",\n",
      "      \"approximated_by\": [\n",
      "        {\n",
      "          \"id\": \"http://lod.example.org/museum/Place/256\",\n",
      "          \"type\": \"Place\",\n",
      "          \"_label\": \"Study in Colour of one of the Niches surrounding the Tomb of Cansignorio della Scala at Verona, with Remains of the 'Casa di Romeo'\",\n",
      "          \"defined_by\": \"POINT(45.45 11)\"\n",
      "        }\n",
      "      ]\n",
      "    }\n",
      "  ]\n",
      "}\n",
      "File updated\n"
     ]
    },
    {
     "data": {
      "text/html": [
       "<h4>Pine Forest on Mont Cenis</h4>"
      ],
      "text/plain": [
       "<IPython.core.display.HTML object>"
      ]
     },
     "metadata": {},
     "output_type": "display_data"
    },
    {
     "name": "stdout",
     "output_type": "stream",
     "text": [
      "Matching row in geographical coordinates file for artwork\n"
     ]
    },
    {
     "data": {
      "text/html": [
       "<div>\n",
       "<style scoped>\n",
       "    .dataframe tbody tr th:only-of-type {\n",
       "        vertical-align: middle;\n",
       "    }\n",
       "\n",
       "    .dataframe tbody tr th {\n",
       "        vertical-align: top;\n",
       "    }\n",
       "\n",
       "    .dataframe thead th {\n",
       "        text-align: right;\n",
       "    }\n",
       "</style>\n",
       "<table border=\"1\" class=\"dataframe\">\n",
       "  <thead>\n",
       "    <tr style=\"text-align: right;\">\n",
       "      <th></th>\n",
       "      <th>id</th>\n",
       "      <th>place</th>\n",
       "      <th>...</th>\n",
       "      <th>tgn</th>\n",
       "      <th>coords</th>\n",
       "    </tr>\n",
       "  </thead>\n",
       "  <tbody>\n",
       "    <tr>\n",
       "      <th>94</th>\n",
       "      <td>https://collections.ashmolean.org/collection/1...</td>\n",
       "      <td>Pine Forest on Mont Cenis</td>\n",
       "      <td>...</td>\n",
       "      <td>tgn/7017223</td>\n",
       "      <td>45.259578,6.900329</td>\n",
       "    </tr>\n",
       "  </tbody>\n",
       "</table>\n",
       "<p>1 rows × 5 columns</p>\n",
       "</div>"
      ],
      "text/plain": [
       "                                                   id  \\\n",
       "94  https://collections.ashmolean.org/collection/1...   \n",
       "\n",
       "                        place  ...          tgn              coords  \n",
       "94  Pine Forest on Mont Cenis  ...  tgn/7017223  45.259578,6.900329  \n",
       "\n",
       "[1 rows x 5 columns]"
      ]
     },
     "metadata": {},
     "output_type": "display_data"
    },
    {
     "name": "stdout",
     "output_type": "stream",
     "text": [
      "Geographical coordinates representation to be added:\n",
      "{\n",
      "  \"@context\": \"https://linked.art/ns/v1/linked-art.json\",\n",
      "  \"id\": \"http://lod.example.org/museum/VisualItem/129\",\n",
      "  \"type\": \"VisualItem\",\n",
      "  \"represents\": [\n",
      "    {\n",
      "      \"id\": \"http://lod.example.org/museum/Place/259\",\n",
      "      \"type\": \"Place\",\n",
      "      \"_label\": \"Pine Forest on Mont Cenis\",\n",
      "      \"approximated_by\": [\n",
      "        {\n",
      "          \"id\": \"http://lod.example.org/museum/Place/258\",\n",
      "          \"type\": \"Place\",\n",
      "          \"_label\": \"Pine Forest on Mont Cenis\",\n",
      "          \"defined_by\": \"POINT(45.259578 6.900329)\"\n",
      "        }\n",
      "      ]\n",
      "    }\n",
      "  ]\n",
      "}\n",
      "File updated\n"
     ]
    },
    {
     "data": {
      "text/html": [
       "<h4>Design for a window in the University Museum, Oxford</h4>"
      ],
      "text/plain": [
       "<IPython.core.display.HTML object>"
      ]
     },
     "metadata": {},
     "output_type": "display_data"
    },
    {
     "name": "stdout",
     "output_type": "stream",
     "text": [
      "Matching row in geographical coordinates file for artwork\n"
     ]
    },
    {
     "data": {
      "text/html": [
       "<div>\n",
       "<style scoped>\n",
       "    .dataframe tbody tr th:only-of-type {\n",
       "        vertical-align: middle;\n",
       "    }\n",
       "\n",
       "    .dataframe tbody tr th {\n",
       "        vertical-align: top;\n",
       "    }\n",
       "\n",
       "    .dataframe thead th {\n",
       "        text-align: right;\n",
       "    }\n",
       "</style>\n",
       "<table border=\"1\" class=\"dataframe\">\n",
       "  <thead>\n",
       "    <tr style=\"text-align: right;\">\n",
       "      <th></th>\n",
       "      <th>id</th>\n",
       "      <th>place</th>\n",
       "      <th>...</th>\n",
       "      <th>tgn</th>\n",
       "      <th>coords</th>\n",
       "    </tr>\n",
       "  </thead>\n",
       "  <tbody>\n",
       "    <tr>\n",
       "      <th>25</th>\n",
       "      <td>https://collections.ashmolean.org/collection/1...</td>\n",
       "      <td>Design for a window in the University Museum, ...</td>\n",
       "      <td>...</td>\n",
       "      <td>tgn/7011931</td>\n",
       "      <td>51.75,-1.25</td>\n",
       "    </tr>\n",
       "  </tbody>\n",
       "</table>\n",
       "<p>1 rows × 5 columns</p>\n",
       "</div>"
      ],
      "text/plain": [
       "                                                   id  \\\n",
       "25  https://collections.ashmolean.org/collection/1...   \n",
       "\n",
       "                                                place  ...          tgn  \\\n",
       "25  Design for a window in the University Museum, ...  ...  tgn/7011931   \n",
       "\n",
       "         coords  \n",
       "25  51.75,-1.25  \n",
       "\n",
       "[1 rows x 5 columns]"
      ]
     },
     "metadata": {},
     "output_type": "display_data"
    },
    {
     "name": "stdout",
     "output_type": "stream",
     "text": [
      "Geographical coordinates representation to be added:\n",
      "{\n",
      "  \"@context\": \"https://linked.art/ns/v1/linked-art.json\",\n",
      "  \"id\": \"http://lod.example.org/museum/VisualItem/130\",\n",
      "  \"type\": \"VisualItem\",\n",
      "  \"represents\": [\n",
      "    {\n",
      "      \"id\": \"http://lod.example.org/museum/Place/261\",\n",
      "      \"type\": \"Place\",\n",
      "      \"_label\": \"Design for a window in the University Museum, Oxford\",\n",
      "      \"approximated_by\": [\n",
      "        {\n",
      "          \"id\": \"http://lod.example.org/museum/Place/260\",\n",
      "          \"type\": \"Place\",\n",
      "          \"_label\": \"Design for a window in the University Museum, Oxford\",\n",
      "          \"defined_by\": \"POINT(51.75 -1.25)\"\n",
      "        }\n",
      "      ]\n",
      "    }\n",
      "  ]\n",
      "}\n",
      "File updated\n"
     ]
    },
    {
     "data": {
      "text/html": [
       "<h4>Studies in St. Mark's</h4>"
      ],
      "text/plain": [
       "<IPython.core.display.HTML object>"
      ]
     },
     "metadata": {},
     "output_type": "display_data"
    },
    {
     "name": "stdout",
     "output_type": "stream",
     "text": [
      "Matching row in geographical coordinates file for artwork\n"
     ]
    },
    {
     "data": {
      "text/html": [
       "<div>\n",
       "<style scoped>\n",
       "    .dataframe tbody tr th:only-of-type {\n",
       "        vertical-align: middle;\n",
       "    }\n",
       "\n",
       "    .dataframe tbody tr th {\n",
       "        vertical-align: top;\n",
       "    }\n",
       "\n",
       "    .dataframe thead th {\n",
       "        text-align: right;\n",
       "    }\n",
       "</style>\n",
       "<table border=\"1\" class=\"dataframe\">\n",
       "  <thead>\n",
       "    <tr style=\"text-align: right;\">\n",
       "      <th></th>\n",
       "      <th>id</th>\n",
       "      <th>place</th>\n",
       "      <th>...</th>\n",
       "      <th>tgn</th>\n",
       "      <th>coords</th>\n",
       "    </tr>\n",
       "  </thead>\n",
       "  <tbody>\n",
       "    <tr>\n",
       "      <th>5</th>\n",
       "      <td>https://www.harvardartmuseums.org/collections/...</td>\n",
       "      <td>Studies in St. Mark's</td>\n",
       "      <td>...</td>\n",
       "      <td>tgn/7003006</td>\n",
       "      <td>45.583333,12.566667</td>\n",
       "    </tr>\n",
       "  </tbody>\n",
       "</table>\n",
       "<p>1 rows × 5 columns</p>\n",
       "</div>"
      ],
      "text/plain": [
       "                                                  id                  place  \\\n",
       "5  https://www.harvardartmuseums.org/collections/...  Studies in St. Mark's   \n",
       "\n",
       "   ...          tgn               coords  \n",
       "5  ...  tgn/7003006  45.583333,12.566667  \n",
       "\n",
       "[1 rows x 5 columns]"
      ]
     },
     "metadata": {},
     "output_type": "display_data"
    },
    {
     "name": "stdout",
     "output_type": "stream",
     "text": [
      "Geographical coordinates representation to be added:\n",
      "{\n",
      "  \"@context\": \"https://linked.art/ns/v1/linked-art.json\",\n",
      "  \"id\": \"http://lod.example.org/museum/VisualItem/131\",\n",
      "  \"type\": \"VisualItem\",\n",
      "  \"represents\": [\n",
      "    {\n",
      "      \"id\": \"http://lod.example.org/museum/Place/263\",\n",
      "      \"type\": \"Place\",\n",
      "      \"_label\": \"Studies in St. Mark's\",\n",
      "      \"approximated_by\": [\n",
      "        {\n",
      "          \"id\": \"http://lod.example.org/museum/Place/262\",\n",
      "          \"type\": \"Place\",\n",
      "          \"_label\": \"Studies in St. Mark's\",\n",
      "          \"defined_by\": \"POINT(45.583333 12.566667)\"\n",
      "        }\n",
      "      ]\n",
      "    }\n",
      "  ]\n",
      "}\n",
      "File updated\n"
     ]
    },
    {
     "data": {
      "text/html": [
       "<h4>Lateral View of the Façade San Michele in Foro, Lucca</h4>"
      ],
      "text/plain": [
       "<IPython.core.display.HTML object>"
      ]
     },
     "metadata": {},
     "output_type": "display_data"
    },
    {
     "name": "stdout",
     "output_type": "stream",
     "text": [
      "Matching row in geographical coordinates file for artwork\n"
     ]
    },
    {
     "data": {
      "text/html": [
       "<div>\n",
       "<style scoped>\n",
       "    .dataframe tbody tr th:only-of-type {\n",
       "        vertical-align: middle;\n",
       "    }\n",
       "\n",
       "    .dataframe tbody tr th {\n",
       "        vertical-align: top;\n",
       "    }\n",
       "\n",
       "    .dataframe thead th {\n",
       "        text-align: right;\n",
       "    }\n",
       "</style>\n",
       "<table border=\"1\" class=\"dataframe\">\n",
       "  <thead>\n",
       "    <tr style=\"text-align: right;\">\n",
       "      <th></th>\n",
       "      <th>id</th>\n",
       "      <th>place</th>\n",
       "      <th>...</th>\n",
       "      <th>tgn</th>\n",
       "      <th>coords</th>\n",
       "    </tr>\n",
       "  </thead>\n",
       "  <tbody>\n",
       "    <tr>\n",
       "      <th>41</th>\n",
       "      <td>https://collections.ashmolean.org/collection/1...</td>\n",
       "      <td>Lateral View of the Façade San Michele in Foro...</td>\n",
       "      <td>...</td>\n",
       "      <td>tgn/7003165</td>\n",
       "      <td>44.033333,10.45</td>\n",
       "    </tr>\n",
       "  </tbody>\n",
       "</table>\n",
       "<p>1 rows × 5 columns</p>\n",
       "</div>"
      ],
      "text/plain": [
       "                                                   id  \\\n",
       "41  https://collections.ashmolean.org/collection/1...   \n",
       "\n",
       "                                                place  ...          tgn  \\\n",
       "41  Lateral View of the Façade San Michele in Foro...  ...  tgn/7003165   \n",
       "\n",
       "             coords  \n",
       "41  44.033333,10.45  \n",
       "\n",
       "[1 rows x 5 columns]"
      ]
     },
     "metadata": {},
     "output_type": "display_data"
    },
    {
     "name": "stdout",
     "output_type": "stream",
     "text": [
      "Geographical coordinates representation to be added:\n",
      "{\n",
      "  \"@context\": \"https://linked.art/ns/v1/linked-art.json\",\n",
      "  \"id\": \"http://lod.example.org/museum/VisualItem/132\",\n",
      "  \"type\": \"VisualItem\",\n",
      "  \"represents\": [\n",
      "    {\n",
      "      \"id\": \"http://lod.example.org/museum/Place/265\",\n",
      "      \"type\": \"Place\",\n",
      "      \"_label\": \"Lateral View of the Fa\\u00e7ade San Michele in Foro, Lucca\",\n",
      "      \"approximated_by\": [\n",
      "        {\n",
      "          \"id\": \"http://lod.example.org/museum/Place/264\",\n",
      "          \"type\": \"Place\",\n",
      "          \"_label\": \"Lateral View of the Fa\\u00e7ade San Michele in Foro, Lucca\",\n",
      "          \"defined_by\": \"POINT(44.033333 10.45)\"\n",
      "        }\n",
      "      ]\n",
      "    }\n",
      "  ]\n",
      "}\n",
      "File updated\n"
     ]
    },
    {
     "data": {
      "text/html": [
       "<h4>Architectural Sketch: Section of Door Jamb, Saint Stefano</h4>"
      ],
      "text/plain": [
       "<IPython.core.display.HTML object>"
      ]
     },
     "metadata": {},
     "output_type": "display_data"
    },
    {
     "name": "stdout",
     "output_type": "stream",
     "text": [
      "Matching row in geographical coordinates file for artwork\n"
     ]
    },
    {
     "data": {
      "text/html": [
       "<div>\n",
       "<style scoped>\n",
       "    .dataframe tbody tr th:only-of-type {\n",
       "        vertical-align: middle;\n",
       "    }\n",
       "\n",
       "    .dataframe tbody tr th {\n",
       "        vertical-align: top;\n",
       "    }\n",
       "\n",
       "    .dataframe thead th {\n",
       "        text-align: right;\n",
       "    }\n",
       "</style>\n",
       "<table border=\"1\" class=\"dataframe\">\n",
       "  <thead>\n",
       "    <tr style=\"text-align: right;\">\n",
       "      <th></th>\n",
       "      <th>id</th>\n",
       "      <th>place</th>\n",
       "      <th>...</th>\n",
       "      <th>tgn</th>\n",
       "      <th>coords</th>\n",
       "    </tr>\n",
       "  </thead>\n",
       "  <tbody>\n",
       "    <tr>\n",
       "      <th>95</th>\n",
       "      <td>https://www.harvardartmuseums.org/collections/...</td>\n",
       "      <td>Architectural Sketch: Section of Door Jamb, Sa...</td>\n",
       "      <td>...</td>\n",
       "      <td>tgn/7036135</td>\n",
       "      <td>45.906389,12.015556</td>\n",
       "    </tr>\n",
       "  </tbody>\n",
       "</table>\n",
       "<p>1 rows × 5 columns</p>\n",
       "</div>"
      ],
      "text/plain": [
       "                                                   id  \\\n",
       "95  https://www.harvardartmuseums.org/collections/...   \n",
       "\n",
       "                                                place  ...          tgn  \\\n",
       "95  Architectural Sketch: Section of Door Jamb, Sa...  ...  tgn/7036135   \n",
       "\n",
       "                 coords  \n",
       "95  45.906389,12.015556  \n",
       "\n",
       "[1 rows x 5 columns]"
      ]
     },
     "metadata": {},
     "output_type": "display_data"
    },
    {
     "name": "stdout",
     "output_type": "stream",
     "text": [
      "Geographical coordinates representation to be added:\n",
      "{\n",
      "  \"@context\": \"https://linked.art/ns/v1/linked-art.json\",\n",
      "  \"id\": \"http://lod.example.org/museum/VisualItem/133\",\n",
      "  \"type\": \"VisualItem\",\n",
      "  \"represents\": [\n",
      "    {\n",
      "      \"id\": \"http://lod.example.org/museum/Place/267\",\n",
      "      \"type\": \"Place\",\n",
      "      \"_label\": \"Architectural Sketch: Section of Door Jamb, Saint Stefano\",\n",
      "      \"approximated_by\": [\n",
      "        {\n",
      "          \"id\": \"http://lod.example.org/museum/Place/266\",\n",
      "          \"type\": \"Place\",\n",
      "          \"_label\": \"Architectural Sketch: Section of Door Jamb, Saint Stefano\",\n",
      "          \"defined_by\": \"POINT(45.906389 12.015556)\"\n",
      "        }\n",
      "      ]\n",
      "    }\n",
      "  ]\n",
      "}\n",
      "File updated\n"
     ]
    },
    {
     "data": {
      "text/html": [
       "<h4>Part of the Façade of the destroyed Church of San Michele in Foro, Lucca, sketched in colour</h4>"
      ],
      "text/plain": [
       "<IPython.core.display.HTML object>"
      ]
     },
     "metadata": {},
     "output_type": "display_data"
    },
    {
     "name": "stdout",
     "output_type": "stream",
     "text": [
      "Matching row in geographical coordinates file for artwork\n"
     ]
    },
    {
     "data": {
      "text/html": [
       "<div>\n",
       "<style scoped>\n",
       "    .dataframe tbody tr th:only-of-type {\n",
       "        vertical-align: middle;\n",
       "    }\n",
       "\n",
       "    .dataframe tbody tr th {\n",
       "        vertical-align: top;\n",
       "    }\n",
       "\n",
       "    .dataframe thead th {\n",
       "        text-align: right;\n",
       "    }\n",
       "</style>\n",
       "<table border=\"1\" class=\"dataframe\">\n",
       "  <thead>\n",
       "    <tr style=\"text-align: right;\">\n",
       "      <th></th>\n",
       "      <th>id</th>\n",
       "      <th>place</th>\n",
       "      <th>...</th>\n",
       "      <th>tgn</th>\n",
       "      <th>coords</th>\n",
       "    </tr>\n",
       "  </thead>\n",
       "  <tbody>\n",
       "    <tr>\n",
       "      <th>42</th>\n",
       "      <td>https://collections.ashmolean.org/collection/1...</td>\n",
       "      <td>Part of the Façade of the destroyed Church of ...</td>\n",
       "      <td>...</td>\n",
       "      <td>tgn/7003165</td>\n",
       "      <td>44.033333,10.45</td>\n",
       "    </tr>\n",
       "  </tbody>\n",
       "</table>\n",
       "<p>1 rows × 5 columns</p>\n",
       "</div>"
      ],
      "text/plain": [
       "                                                   id  \\\n",
       "42  https://collections.ashmolean.org/collection/1...   \n",
       "\n",
       "                                                place  ...          tgn  \\\n",
       "42  Part of the Façade of the destroyed Church of ...  ...  tgn/7003165   \n",
       "\n",
       "             coords  \n",
       "42  44.033333,10.45  \n",
       "\n",
       "[1 rows x 5 columns]"
      ]
     },
     "metadata": {},
     "output_type": "display_data"
    },
    {
     "name": "stdout",
     "output_type": "stream",
     "text": [
      "Geographical coordinates representation to be added:\n",
      "{\n",
      "  \"@context\": \"https://linked.art/ns/v1/linked-art.json\",\n",
      "  \"id\": \"http://lod.example.org/museum/VisualItem/134\",\n",
      "  \"type\": \"VisualItem\",\n",
      "  \"represents\": [\n",
      "    {\n",
      "      \"id\": \"http://lod.example.org/museum/Place/269\",\n",
      "      \"type\": \"Place\",\n",
      "      \"_label\": \"Part of the Fa\\u00e7ade of the destroyed Church of San Michele in Foro, Lucca, sketched in colour\",\n",
      "      \"approximated_by\": [\n",
      "        {\n",
      "          \"id\": \"http://lod.example.org/museum/Place/268\",\n",
      "          \"type\": \"Place\",\n",
      "          \"_label\": \"Part of the Fa\\u00e7ade of the destroyed Church of San Michele in Foro, Lucca, sketched in colour\",\n",
      "          \"defined_by\": \"POINT(44.033333 10.45)\"\n",
      "        }\n",
      "      ]\n",
      "    }\n",
      "  ]\n",
      "}\n",
      "File updated\n"
     ]
    },
    {
     "data": {
      "text/html": [
       "<h4>Old houses at Abbeville</h4>"
      ],
      "text/plain": [
       "<IPython.core.display.HTML object>"
      ]
     },
     "metadata": {},
     "output_type": "display_data"
    },
    {
     "name": "stdout",
     "output_type": "stream",
     "text": [
      "Matching row in geographical coordinates file for artwork\n"
     ]
    },
    {
     "data": {
      "text/html": [
       "<div>\n",
       "<style scoped>\n",
       "    .dataframe tbody tr th:only-of-type {\n",
       "        vertical-align: middle;\n",
       "    }\n",
       "\n",
       "    .dataframe tbody tr th {\n",
       "        vertical-align: top;\n",
       "    }\n",
       "\n",
       "    .dataframe thead th {\n",
       "        text-align: right;\n",
       "    }\n",
       "</style>\n",
       "<table border=\"1\" class=\"dataframe\">\n",
       "  <thead>\n",
       "    <tr style=\"text-align: right;\">\n",
       "      <th></th>\n",
       "      <th>id</th>\n",
       "      <th>place</th>\n",
       "      <th>...</th>\n",
       "      <th>tgn</th>\n",
       "      <th>coords</th>\n",
       "    </tr>\n",
       "  </thead>\n",
       "  <tbody>\n",
       "    <tr>\n",
       "      <th>53</th>\n",
       "      <td>https://collections.ashmolean.org/collection/1...</td>\n",
       "      <td>Old houses at Abbeville</td>\n",
       "      <td>...</td>\n",
       "      <td>tgn/7668075</td>\n",
       "      <td>50.166667,1.75</td>\n",
       "    </tr>\n",
       "  </tbody>\n",
       "</table>\n",
       "<p>1 rows × 5 columns</p>\n",
       "</div>"
      ],
      "text/plain": [
       "                                                   id  \\\n",
       "53  https://collections.ashmolean.org/collection/1...   \n",
       "\n",
       "                      place  ...          tgn          coords  \n",
       "53  Old houses at Abbeville  ...  tgn/7668075  50.166667,1.75  \n",
       "\n",
       "[1 rows x 5 columns]"
      ]
     },
     "metadata": {},
     "output_type": "display_data"
    },
    {
     "name": "stdout",
     "output_type": "stream",
     "text": [
      "Geographical coordinates representation to be added:\n",
      "{\n",
      "  \"@context\": \"https://linked.art/ns/v1/linked-art.json\",\n",
      "  \"id\": \"http://lod.example.org/museum/VisualItem/135\",\n",
      "  \"type\": \"VisualItem\",\n",
      "  \"represents\": [\n",
      "    {\n",
      "      \"id\": \"http://lod.example.org/museum/Place/271\",\n",
      "      \"type\": \"Place\",\n",
      "      \"_label\": \"Old houses at Abbeville\",\n",
      "      \"approximated_by\": [\n",
      "        {\n",
      "          \"id\": \"http://lod.example.org/museum/Place/270\",\n",
      "          \"type\": \"Place\",\n",
      "          \"_label\": \"Old houses at Abbeville\",\n",
      "          \"defined_by\": \"POINT(50.166667 1.75)\"\n",
      "        }\n",
      "      ]\n",
      "    }\n",
      "  ]\n",
      "}\n",
      "File updated\n"
     ]
    },
    {
     "data": {
      "text/html": [
       "<h4>Fragments from Abbeville, Lucca, Venice, and Pisa</h4>"
      ],
      "text/plain": [
       "<IPython.core.display.HTML object>"
      ]
     },
     "metadata": {},
     "output_type": "display_data"
    },
    {
     "name": "stdout",
     "output_type": "stream",
     "text": [
      "Matching row in geographical coordinates file for artwork\n"
     ]
    },
    {
     "data": {
      "text/html": [
       "<div>\n",
       "<style scoped>\n",
       "    .dataframe tbody tr th:only-of-type {\n",
       "        vertical-align: middle;\n",
       "    }\n",
       "\n",
       "    .dataframe tbody tr th {\n",
       "        vertical-align: top;\n",
       "    }\n",
       "\n",
       "    .dataframe thead th {\n",
       "        text-align: right;\n",
       "    }\n",
       "</style>\n",
       "<table border=\"1\" class=\"dataframe\">\n",
       "  <thead>\n",
       "    <tr style=\"text-align: right;\">\n",
       "      <th></th>\n",
       "      <th>id</th>\n",
       "      <th>place</th>\n",
       "      <th>...</th>\n",
       "      <th>tgn</th>\n",
       "      <th>coords</th>\n",
       "    </tr>\n",
       "  </thead>\n",
       "  <tbody>\n",
       "    <tr>\n",
       "      <th>6</th>\n",
       "      <td>https://www.harvardartmuseums.org/collections/...</td>\n",
       "      <td>Fragments from Abbeville, Lucca, Venice, and Pisa</td>\n",
       "      <td>...</td>\n",
       "      <td>tgn/7003006</td>\n",
       "      <td>45.583333,12.566667</td>\n",
       "    </tr>\n",
       "  </tbody>\n",
       "</table>\n",
       "<p>1 rows × 5 columns</p>\n",
       "</div>"
      ],
      "text/plain": [
       "                                                  id  \\\n",
       "6  https://www.harvardartmuseums.org/collections/...   \n",
       "\n",
       "                                               place  ...          tgn  \\\n",
       "6  Fragments from Abbeville, Lucca, Venice, and Pisa  ...  tgn/7003006   \n",
       "\n",
       "                coords  \n",
       "6  45.583333,12.566667  \n",
       "\n",
       "[1 rows x 5 columns]"
      ]
     },
     "metadata": {},
     "output_type": "display_data"
    },
    {
     "name": "stdout",
     "output_type": "stream",
     "text": [
      "Geographical coordinates representation to be added:\n",
      "{\n",
      "  \"@context\": \"https://linked.art/ns/v1/linked-art.json\",\n",
      "  \"id\": \"http://lod.example.org/museum/VisualItem/136\",\n",
      "  \"type\": \"VisualItem\",\n",
      "  \"represents\": [\n",
      "    {\n",
      "      \"id\": \"http://lod.example.org/museum/Place/273\",\n",
      "      \"type\": \"Place\",\n",
      "      \"_label\": \"Fragments from Abbeville, Lucca, Venice, and Pisa\",\n",
      "      \"approximated_by\": [\n",
      "        {\n",
      "          \"id\": \"http://lod.example.org/museum/Place/272\",\n",
      "          \"type\": \"Place\",\n",
      "          \"_label\": \"Fragments from Abbeville, Lucca, Venice, and Pisa\",\n",
      "          \"defined_by\": \"POINT(45.583333 12.566667)\"\n",
      "        }\n",
      "      ]\n",
      "    }\n",
      "  ]\n",
      "}\n",
      "File updated\n"
     ]
    },
    {
     "data": {
      "text/html": [
       "<h4>Lake of Zug</h4>"
      ],
      "text/plain": [
       "<IPython.core.display.HTML object>"
      ]
     },
     "metadata": {},
     "output_type": "display_data"
    },
    {
     "name": "stdout",
     "output_type": "stream",
     "text": [
      "Matching row in geographical coordinates file for artwork\n"
     ]
    },
    {
     "data": {
      "text/html": [
       "<div>\n",
       "<style scoped>\n",
       "    .dataframe tbody tr th:only-of-type {\n",
       "        vertical-align: middle;\n",
       "    }\n",
       "\n",
       "    .dataframe tbody tr th {\n",
       "        vertical-align: top;\n",
       "    }\n",
       "\n",
       "    .dataframe thead th {\n",
       "        text-align: right;\n",
       "    }\n",
       "</style>\n",
       "<table border=\"1\" class=\"dataframe\">\n",
       "  <thead>\n",
       "    <tr style=\"text-align: right;\">\n",
       "      <th></th>\n",
       "      <th>id</th>\n",
       "      <th>place</th>\n",
       "      <th>...</th>\n",
       "      <th>tgn</th>\n",
       "      <th>coords</th>\n",
       "    </tr>\n",
       "  </thead>\n",
       "  <tbody>\n",
       "    <tr>\n",
       "      <th>96</th>\n",
       "      <td>https://www.harvardartmuseums.org/collections/...</td>\n",
       "      <td>Lake of Zug</td>\n",
       "      <td>...</td>\n",
       "      <td>tgn/7074719</td>\n",
       "      <td>50.883333,13.35</td>\n",
       "    </tr>\n",
       "  </tbody>\n",
       "</table>\n",
       "<p>1 rows × 5 columns</p>\n",
       "</div>"
      ],
      "text/plain": [
       "                                                   id        place  ...  \\\n",
       "96  https://www.harvardartmuseums.org/collections/...  Lake of Zug  ...   \n",
       "\n",
       "            tgn           coords  \n",
       "96  tgn/7074719  50.883333,13.35  \n",
       "\n",
       "[1 rows x 5 columns]"
      ]
     },
     "metadata": {},
     "output_type": "display_data"
    },
    {
     "name": "stdout",
     "output_type": "stream",
     "text": [
      "Geographical coordinates representation to be added:\n",
      "{\n",
      "  \"@context\": \"https://linked.art/ns/v1/linked-art.json\",\n",
      "  \"id\": \"http://lod.example.org/museum/VisualItem/137\",\n",
      "  \"type\": \"VisualItem\",\n",
      "  \"represents\": [\n",
      "    {\n",
      "      \"id\": \"http://lod.example.org/museum/Place/275\",\n",
      "      \"type\": \"Place\",\n",
      "      \"_label\": \"Lake of Zug\",\n",
      "      \"approximated_by\": [\n",
      "        {\n",
      "          \"id\": \"http://lod.example.org/museum/Place/274\",\n",
      "          \"type\": \"Place\",\n",
      "          \"_label\": \"Lake of Zug\",\n",
      "          \"defined_by\": \"POINT(50.883333 13.35)\"\n",
      "        }\n",
      "      ]\n",
      "    }\n",
      "  ]\n",
      "}\n",
      "File updated\n"
     ]
    },
    {
     "data": {
      "text/html": [
       "<h4>The Pass of Faido</h4>"
      ],
      "text/plain": [
       "<IPython.core.display.HTML object>"
      ]
     },
     "metadata": {},
     "output_type": "display_data"
    },
    {
     "name": "stdout",
     "output_type": "stream",
     "text": [
      "Matching row in geographical coordinates file for artwork\n"
     ]
    },
    {
     "data": {
      "text/html": [
       "<div>\n",
       "<style scoped>\n",
       "    .dataframe tbody tr th:only-of-type {\n",
       "        vertical-align: middle;\n",
       "    }\n",
       "\n",
       "    .dataframe tbody tr th {\n",
       "        vertical-align: top;\n",
       "    }\n",
       "\n",
       "    .dataframe thead th {\n",
       "        text-align: right;\n",
       "    }\n",
       "</style>\n",
       "<table border=\"1\" class=\"dataframe\">\n",
       "  <thead>\n",
       "    <tr style=\"text-align: right;\">\n",
       "      <th></th>\n",
       "      <th>id</th>\n",
       "      <th>place</th>\n",
       "      <th>...</th>\n",
       "      <th>tgn</th>\n",
       "      <th>coords</th>\n",
       "    </tr>\n",
       "  </thead>\n",
       "  <tbody>\n",
       "    <tr>\n",
       "      <th>89</th>\n",
       "      <td>https://www.harvardartmuseums.org/collections/...</td>\n",
       "      <td>The Pass of Faido</td>\n",
       "      <td>...</td>\n",
       "      <td>tgn/1064047</td>\n",
       "      <td>46.479417,8.797659</td>\n",
       "    </tr>\n",
       "  </tbody>\n",
       "</table>\n",
       "<p>1 rows × 5 columns</p>\n",
       "</div>"
      ],
      "text/plain": [
       "                                                   id              place  ...  \\\n",
       "89  https://www.harvardartmuseums.org/collections/...  The Pass of Faido  ...   \n",
       "\n",
       "            tgn              coords  \n",
       "89  tgn/1064047  46.479417,8.797659  \n",
       "\n",
       "[1 rows x 5 columns]"
      ]
     },
     "metadata": {},
     "output_type": "display_data"
    },
    {
     "name": "stdout",
     "output_type": "stream",
     "text": [
      "Geographical coordinates representation to be added:\n",
      "{\n",
      "  \"@context\": \"https://linked.art/ns/v1/linked-art.json\",\n",
      "  \"id\": \"http://lod.example.org/museum/VisualItem/138\",\n",
      "  \"type\": \"VisualItem\",\n",
      "  \"represents\": [\n",
      "    {\n",
      "      \"id\": \"http://lod.example.org/museum/Place/277\",\n",
      "      \"type\": \"Place\",\n",
      "      \"_label\": \"The Pass of Faido\",\n",
      "      \"approximated_by\": [\n",
      "        {\n",
      "          \"id\": \"http://lod.example.org/museum/Place/276\",\n",
      "          \"type\": \"Place\",\n",
      "          \"_label\": \"The Pass of Faido\",\n",
      "          \"defined_by\": \"POINT(46.479417 8.797659)\"\n",
      "        }\n",
      "      ]\n",
      "    }\n",
      "  ]\n",
      "}\n",
      "File updated\n"
     ]
    },
    {
     "data": {
      "text/html": [
       "<h4>Design for a window in the University Museum, Oxford</h4>"
      ],
      "text/plain": [
       "<IPython.core.display.HTML object>"
      ]
     },
     "metadata": {},
     "output_type": "display_data"
    },
    {
     "name": "stdout",
     "output_type": "stream",
     "text": [
      "Matching row in geographical coordinates file for artwork\n"
     ]
    },
    {
     "data": {
      "text/html": [
       "<div>\n",
       "<style scoped>\n",
       "    .dataframe tbody tr th:only-of-type {\n",
       "        vertical-align: middle;\n",
       "    }\n",
       "\n",
       "    .dataframe tbody tr th {\n",
       "        vertical-align: top;\n",
       "    }\n",
       "\n",
       "    .dataframe thead th {\n",
       "        text-align: right;\n",
       "    }\n",
       "</style>\n",
       "<table border=\"1\" class=\"dataframe\">\n",
       "  <thead>\n",
       "    <tr style=\"text-align: right;\">\n",
       "      <th></th>\n",
       "      <th>id</th>\n",
       "      <th>place</th>\n",
       "      <th>...</th>\n",
       "      <th>tgn</th>\n",
       "      <th>coords</th>\n",
       "    </tr>\n",
       "  </thead>\n",
       "  <tbody>\n",
       "    <tr>\n",
       "      <th>26</th>\n",
       "      <td>https://collections.ashmolean.org/collection/1...</td>\n",
       "      <td>Design for a window in the University Museum, ...</td>\n",
       "      <td>...</td>\n",
       "      <td>tgn/7011931</td>\n",
       "      <td>51.75,-1.25</td>\n",
       "    </tr>\n",
       "  </tbody>\n",
       "</table>\n",
       "<p>1 rows × 5 columns</p>\n",
       "</div>"
      ],
      "text/plain": [
       "                                                   id  \\\n",
       "26  https://collections.ashmolean.org/collection/1...   \n",
       "\n",
       "                                                place  ...          tgn  \\\n",
       "26  Design for a window in the University Museum, ...  ...  tgn/7011931   \n",
       "\n",
       "         coords  \n",
       "26  51.75,-1.25  \n",
       "\n",
       "[1 rows x 5 columns]"
      ]
     },
     "metadata": {},
     "output_type": "display_data"
    },
    {
     "name": "stdout",
     "output_type": "stream",
     "text": [
      "Geographical coordinates representation to be added:\n",
      "{\n",
      "  \"@context\": \"https://linked.art/ns/v1/linked-art.json\",\n",
      "  \"id\": \"http://lod.example.org/museum/VisualItem/139\",\n",
      "  \"type\": \"VisualItem\",\n",
      "  \"represents\": [\n",
      "    {\n",
      "      \"id\": \"http://lod.example.org/museum/Place/279\",\n",
      "      \"type\": \"Place\",\n",
      "      \"_label\": \"Design for a window in the University Museum, Oxford\",\n",
      "      \"approximated_by\": [\n",
      "        {\n",
      "          \"id\": \"http://lod.example.org/museum/Place/278\",\n",
      "          \"type\": \"Place\",\n",
      "          \"_label\": \"Design for a window in the University Museum, Oxford\",\n",
      "          \"defined_by\": \"POINT(51.75 -1.25)\"\n",
      "        }\n",
      "      ]\n",
      "    }\n",
      "  ]\n",
      "}\n",
      "File updated\n"
     ]
    },
    {
     "data": {
      "text/html": [
       "<h4>Basle (Basel), with Outline of the Mountains of the Black Forest</h4>"
      ],
      "text/plain": [
       "<IPython.core.display.HTML object>"
      ]
     },
     "metadata": {},
     "output_type": "display_data"
    },
    {
     "name": "stdout",
     "output_type": "stream",
     "text": [
      "Matching row in geographical coordinates file for artwork\n"
     ]
    },
    {
     "data": {
      "text/html": [
       "<div>\n",
       "<style scoped>\n",
       "    .dataframe tbody tr th:only-of-type {\n",
       "        vertical-align: middle;\n",
       "    }\n",
       "\n",
       "    .dataframe tbody tr th {\n",
       "        vertical-align: top;\n",
       "    }\n",
       "\n",
       "    .dataframe thead th {\n",
       "        text-align: right;\n",
       "    }\n",
       "</style>\n",
       "<table border=\"1\" class=\"dataframe\">\n",
       "  <thead>\n",
       "    <tr style=\"text-align: right;\">\n",
       "      <th></th>\n",
       "      <th>id</th>\n",
       "      <th>place</th>\n",
       "      <th>...</th>\n",
       "      <th>tgn</th>\n",
       "      <th>coords</th>\n",
       "    </tr>\n",
       "  </thead>\n",
       "  <tbody>\n",
       "    <tr>\n",
       "      <th>99</th>\n",
       "      <td>https://collections.ashmolean.org/collection/1...</td>\n",
       "      <td>Basle (Basel), with Outline of the Mountains o...</td>\n",
       "      <td>...</td>\n",
       "      <td>tgn/7211403</td>\n",
       "      <td>51.75,8.216667</td>\n",
       "    </tr>\n",
       "  </tbody>\n",
       "</table>\n",
       "<p>1 rows × 5 columns</p>\n",
       "</div>"
      ],
      "text/plain": [
       "                                                   id  \\\n",
       "99  https://collections.ashmolean.org/collection/1...   \n",
       "\n",
       "                                                place  ...          tgn  \\\n",
       "99  Basle (Basel), with Outline of the Mountains o...  ...  tgn/7211403   \n",
       "\n",
       "            coords  \n",
       "99  51.75,8.216667  \n",
       "\n",
       "[1 rows x 5 columns]"
      ]
     },
     "metadata": {},
     "output_type": "display_data"
    },
    {
     "name": "stdout",
     "output_type": "stream",
     "text": [
      "Geographical coordinates representation to be added:\n",
      "{\n",
      "  \"@context\": \"https://linked.art/ns/v1/linked-art.json\",\n",
      "  \"id\": \"http://lod.example.org/museum/VisualItem/140\",\n",
      "  \"type\": \"VisualItem\",\n",
      "  \"represents\": [\n",
      "    {\n",
      "      \"id\": \"http://lod.example.org/museum/Place/281\",\n",
      "      \"type\": \"Place\",\n",
      "      \"_label\": \"Basle (Basel), with Outline of the Mountains of the Black Forest\",\n",
      "      \"approximated_by\": [\n",
      "        {\n",
      "          \"id\": \"http://lod.example.org/museum/Place/280\",\n",
      "          \"type\": \"Place\",\n",
      "          \"_label\": \"Basle (Basel), with Outline of the Mountains of the Black Forest\",\n",
      "          \"defined_by\": \"POINT(51.75 8.216667)\"\n",
      "        }\n",
      "      ]\n",
      "    }\n",
      "  ]\n",
      "}\n",
      "File updated\n"
     ]
    },
    {
     "data": {
      "text/html": [
       "<h4>Study for Detail of the Sarcophagus and Canopy of the Tomb of Mastino II della Scala at Verona</h4>"
      ],
      "text/plain": [
       "<IPython.core.display.HTML object>"
      ]
     },
     "metadata": {},
     "output_type": "display_data"
    },
    {
     "name": "stdout",
     "output_type": "stream",
     "text": [
      "Matching row in geographical coordinates file for artwork\n"
     ]
    },
    {
     "data": {
      "text/html": [
       "<div>\n",
       "<style scoped>\n",
       "    .dataframe tbody tr th:only-of-type {\n",
       "        vertical-align: middle;\n",
       "    }\n",
       "\n",
       "    .dataframe tbody tr th {\n",
       "        vertical-align: top;\n",
       "    }\n",
       "\n",
       "    .dataframe thead th {\n",
       "        text-align: right;\n",
       "    }\n",
       "</style>\n",
       "<table border=\"1\" class=\"dataframe\">\n",
       "  <thead>\n",
       "    <tr style=\"text-align: right;\">\n",
       "      <th></th>\n",
       "      <th>id</th>\n",
       "      <th>place</th>\n",
       "      <th>...</th>\n",
       "      <th>tgn</th>\n",
       "      <th>coords</th>\n",
       "    </tr>\n",
       "  </thead>\n",
       "  <tbody>\n",
       "    <tr>\n",
       "      <th>65</th>\n",
       "      <td>https://collections.ashmolean.org/collection/1...</td>\n",
       "      <td>Study for Detail of the Sarcophagus and Canopy...</td>\n",
       "      <td>...</td>\n",
       "      <td>tgn/7003262</td>\n",
       "      <td>45.45,11</td>\n",
       "    </tr>\n",
       "  </tbody>\n",
       "</table>\n",
       "<p>1 rows × 5 columns</p>\n",
       "</div>"
      ],
      "text/plain": [
       "                                                   id  \\\n",
       "65  https://collections.ashmolean.org/collection/1...   \n",
       "\n",
       "                                                place  ...          tgn  \\\n",
       "65  Study for Detail of the Sarcophagus and Canopy...  ...  tgn/7003262   \n",
       "\n",
       "      coords  \n",
       "65  45.45,11  \n",
       "\n",
       "[1 rows x 5 columns]"
      ]
     },
     "metadata": {},
     "output_type": "display_data"
    },
    {
     "name": "stdout",
     "output_type": "stream",
     "text": [
      "Geographical coordinates representation to be added:\n",
      "{\n",
      "  \"@context\": \"https://linked.art/ns/v1/linked-art.json\",\n",
      "  \"id\": \"http://lod.example.org/museum/VisualItem/141\",\n",
      "  \"type\": \"VisualItem\",\n",
      "  \"represents\": [\n",
      "    {\n",
      "      \"id\": \"http://lod.example.org/museum/Place/283\",\n",
      "      \"type\": \"Place\",\n",
      "      \"_label\": \"Study for Detail of the Sarcophagus and Canopy of the Tomb of Mastino II della Scala at Verona\",\n",
      "      \"approximated_by\": [\n",
      "        {\n",
      "          \"id\": \"http://lod.example.org/museum/Place/282\",\n",
      "          \"type\": \"Place\",\n",
      "          \"_label\": \"Study for Detail of the Sarcophagus and Canopy of the Tomb of Mastino II della Scala at Verona\",\n",
      "          \"defined_by\": \"POINT(45.45 11)\"\n",
      "        }\n",
      "      ]\n",
      "    }\n",
      "  ]\n",
      "}\n",
      "File updated\n"
     ]
    },
    {
     "data": {
      "text/html": [
       "<h4>Lake of Zug</h4>"
      ],
      "text/plain": [
       "<IPython.core.display.HTML object>"
      ]
     },
     "metadata": {},
     "output_type": "display_data"
    },
    {
     "name": "stdout",
     "output_type": "stream",
     "text": [
      "Matching row in geographical coordinates file for artwork\n"
     ]
    },
    {
     "data": {
      "text/html": [
       "<div>\n",
       "<style scoped>\n",
       "    .dataframe tbody tr th:only-of-type {\n",
       "        vertical-align: middle;\n",
       "    }\n",
       "\n",
       "    .dataframe tbody tr th {\n",
       "        vertical-align: top;\n",
       "    }\n",
       "\n",
       "    .dataframe thead th {\n",
       "        text-align: right;\n",
       "    }\n",
       "</style>\n",
       "<table border=\"1\" class=\"dataframe\">\n",
       "  <thead>\n",
       "    <tr style=\"text-align: right;\">\n",
       "      <th></th>\n",
       "      <th>id</th>\n",
       "      <th>place</th>\n",
       "      <th>...</th>\n",
       "      <th>tgn</th>\n",
       "      <th>coords</th>\n",
       "    </tr>\n",
       "  </thead>\n",
       "  <tbody>\n",
       "    <tr>\n",
       "      <th>97</th>\n",
       "      <td>https://www.harvardartmuseums.org/collections/...</td>\n",
       "      <td>Lake of Zug</td>\n",
       "      <td>...</td>\n",
       "      <td>tgn/7074719</td>\n",
       "      <td>50.883333,13.35</td>\n",
       "    </tr>\n",
       "  </tbody>\n",
       "</table>\n",
       "<p>1 rows × 5 columns</p>\n",
       "</div>"
      ],
      "text/plain": [
       "                                                   id        place  ...  \\\n",
       "97  https://www.harvardartmuseums.org/collections/...  Lake of Zug  ...   \n",
       "\n",
       "            tgn           coords  \n",
       "97  tgn/7074719  50.883333,13.35  \n",
       "\n",
       "[1 rows x 5 columns]"
      ]
     },
     "metadata": {},
     "output_type": "display_data"
    },
    {
     "name": "stdout",
     "output_type": "stream",
     "text": [
      "Geographical coordinates representation to be added:\n",
      "{\n",
      "  \"@context\": \"https://linked.art/ns/v1/linked-art.json\",\n",
      "  \"id\": \"http://lod.example.org/museum/VisualItem/142\",\n",
      "  \"type\": \"VisualItem\",\n",
      "  \"represents\": [\n",
      "    {\n",
      "      \"id\": \"http://lod.example.org/museum/Place/285\",\n",
      "      \"type\": \"Place\",\n",
      "      \"_label\": \"Lake of Zug\",\n",
      "      \"approximated_by\": [\n",
      "        {\n",
      "          \"id\": \"http://lod.example.org/museum/Place/284\",\n",
      "          \"type\": \"Place\",\n",
      "          \"_label\": \"Lake of Zug\",\n",
      "          \"defined_by\": \"POINT(50.883333 13.35)\"\n",
      "        }\n",
      "      ]\n",
      "    }\n",
      "  ]\n",
      "}\n",
      "File updated\n"
     ]
    },
    {
     "data": {
      "text/html": [
       "<h4>View of the Valley of Lauterbrunnen</h4>"
      ],
      "text/plain": [
       "<IPython.core.display.HTML object>"
      ]
     },
     "metadata": {},
     "output_type": "display_data"
    },
    {
     "name": "stdout",
     "output_type": "stream",
     "text": [
      "Matching row in geographical coordinates file for artwork\n"
     ]
    },
    {
     "data": {
      "text/html": [
       "<div>\n",
       "<style scoped>\n",
       "    .dataframe tbody tr th:only-of-type {\n",
       "        vertical-align: middle;\n",
       "    }\n",
       "\n",
       "    .dataframe tbody tr th {\n",
       "        vertical-align: top;\n",
       "    }\n",
       "\n",
       "    .dataframe thead th {\n",
       "        text-align: right;\n",
       "    }\n",
       "</style>\n",
       "<table border=\"1\" class=\"dataframe\">\n",
       "  <thead>\n",
       "    <tr style=\"text-align: right;\">\n",
       "      <th></th>\n",
       "      <th>id</th>\n",
       "      <th>place</th>\n",
       "      <th>...</th>\n",
       "      <th>tgn</th>\n",
       "      <th>coords</th>\n",
       "    </tr>\n",
       "  </thead>\n",
       "  <tbody>\n",
       "    <tr>\n",
       "      <th>100</th>\n",
       "      <td>https://www.harvardartmuseums.org/collections/...</td>\n",
       "      <td>View of the Valley of Lauterbrunnen</td>\n",
       "      <td>...</td>\n",
       "      <td>tgn/1064175</td>\n",
       "      <td>46.595676,7.907654</td>\n",
       "    </tr>\n",
       "  </tbody>\n",
       "</table>\n",
       "<p>1 rows × 5 columns</p>\n",
       "</div>"
      ],
      "text/plain": [
       "                                                    id  \\\n",
       "100  https://www.harvardartmuseums.org/collections/...   \n",
       "\n",
       "                                   place  ...          tgn              coords  \n",
       "100  View of the Valley of Lauterbrunnen  ...  tgn/1064175  46.595676,7.907654  \n",
       "\n",
       "[1 rows x 5 columns]"
      ]
     },
     "metadata": {},
     "output_type": "display_data"
    },
    {
     "name": "stdout",
     "output_type": "stream",
     "text": [
      "Geographical coordinates representation to be added:\n",
      "{\n",
      "  \"@context\": \"https://linked.art/ns/v1/linked-art.json\",\n",
      "  \"id\": \"http://lod.example.org/museum/VisualItem/143\",\n",
      "  \"type\": \"VisualItem\",\n",
      "  \"represents\": [\n",
      "    {\n",
      "      \"id\": \"http://lod.example.org/museum/Place/287\",\n",
      "      \"type\": \"Place\",\n",
      "      \"_label\": \"View of the Valley of Lauterbrunnen\",\n",
      "      \"approximated_by\": [\n",
      "        {\n",
      "          \"id\": \"http://lod.example.org/museum/Place/286\",\n",
      "          \"type\": \"Place\",\n",
      "          \"_label\": \"View of the Valley of Lauterbrunnen\",\n",
      "          \"defined_by\": \"POINT(46.595676 7.907654)\"\n",
      "        }\n",
      "      ]\n",
      "    }\n",
      "  ]\n",
      "}\n",
      "File updated\n"
     ]
    },
    {
     "data": {
      "text/html": [
       "<h4>Design for a window in the University Museum, Oxford</h4>"
      ],
      "text/plain": [
       "<IPython.core.display.HTML object>"
      ]
     },
     "metadata": {},
     "output_type": "display_data"
    },
    {
     "name": "stdout",
     "output_type": "stream",
     "text": [
      "Matching row in geographical coordinates file for artwork\n"
     ]
    },
    {
     "data": {
      "text/html": [
       "<div>\n",
       "<style scoped>\n",
       "    .dataframe tbody tr th:only-of-type {\n",
       "        vertical-align: middle;\n",
       "    }\n",
       "\n",
       "    .dataframe tbody tr th {\n",
       "        vertical-align: top;\n",
       "    }\n",
       "\n",
       "    .dataframe thead th {\n",
       "        text-align: right;\n",
       "    }\n",
       "</style>\n",
       "<table border=\"1\" class=\"dataframe\">\n",
       "  <thead>\n",
       "    <tr style=\"text-align: right;\">\n",
       "      <th></th>\n",
       "      <th>id</th>\n",
       "      <th>place</th>\n",
       "      <th>...</th>\n",
       "      <th>tgn</th>\n",
       "      <th>coords</th>\n",
       "    </tr>\n",
       "  </thead>\n",
       "  <tbody>\n",
       "    <tr>\n",
       "      <th>27</th>\n",
       "      <td>https://collections.ashmolean.org/collection/1...</td>\n",
       "      <td>Design for a window in the University Museum, ...</td>\n",
       "      <td>...</td>\n",
       "      <td>tgn/7011931</td>\n",
       "      <td>51.75,-1.25</td>\n",
       "    </tr>\n",
       "  </tbody>\n",
       "</table>\n",
       "<p>1 rows × 5 columns</p>\n",
       "</div>"
      ],
      "text/plain": [
       "                                                   id  \\\n",
       "27  https://collections.ashmolean.org/collection/1...   \n",
       "\n",
       "                                                place  ...          tgn  \\\n",
       "27  Design for a window in the University Museum, ...  ...  tgn/7011931   \n",
       "\n",
       "         coords  \n",
       "27  51.75,-1.25  \n",
       "\n",
       "[1 rows x 5 columns]"
      ]
     },
     "metadata": {},
     "output_type": "display_data"
    },
    {
     "name": "stdout",
     "output_type": "stream",
     "text": [
      "Geographical coordinates representation to be added:\n",
      "{\n",
      "  \"@context\": \"https://linked.art/ns/v1/linked-art.json\",\n",
      "  \"id\": \"http://lod.example.org/museum/VisualItem/144\",\n",
      "  \"type\": \"VisualItem\",\n",
      "  \"represents\": [\n",
      "    {\n",
      "      \"id\": \"http://lod.example.org/museum/Place/289\",\n",
      "      \"type\": \"Place\",\n",
      "      \"_label\": \"Design for a window in the University Museum, Oxford\",\n",
      "      \"approximated_by\": [\n",
      "        {\n",
      "          \"id\": \"http://lod.example.org/museum/Place/288\",\n",
      "          \"type\": \"Place\",\n",
      "          \"_label\": \"Design for a window in the University Museum, Oxford\",\n",
      "          \"defined_by\": \"POINT(51.75 -1.25)\"\n",
      "        }\n",
      "      ]\n",
      "    }\n",
      "  ]\n",
      "}\n",
      "File updated\n"
     ]
    },
    {
     "data": {
      "text/html": [
       "<h4>Part of the Palazzo Priuli, Venice</h4>"
      ],
      "text/plain": [
       "<IPython.core.display.HTML object>"
      ]
     },
     "metadata": {},
     "output_type": "display_data"
    },
    {
     "name": "stdout",
     "output_type": "stream",
     "text": [
      "Matching row in geographical coordinates file for artwork\n"
     ]
    },
    {
     "data": {
      "text/html": [
       "<div>\n",
       "<style scoped>\n",
       "    .dataframe tbody tr th:only-of-type {\n",
       "        vertical-align: middle;\n",
       "    }\n",
       "\n",
       "    .dataframe tbody tr th {\n",
       "        vertical-align: top;\n",
       "    }\n",
       "\n",
       "    .dataframe thead th {\n",
       "        text-align: right;\n",
       "    }\n",
       "</style>\n",
       "<table border=\"1\" class=\"dataframe\">\n",
       "  <thead>\n",
       "    <tr style=\"text-align: right;\">\n",
       "      <th></th>\n",
       "      <th>id</th>\n",
       "      <th>place</th>\n",
       "      <th>...</th>\n",
       "      <th>tgn</th>\n",
       "      <th>coords</th>\n",
       "    </tr>\n",
       "  </thead>\n",
       "  <tbody>\n",
       "    <tr>\n",
       "      <th>7</th>\n",
       "      <td>https://collections.ashmolean.org/collection/1...</td>\n",
       "      <td>Part of the Palazzo Priuli, Venice</td>\n",
       "      <td>...</td>\n",
       "      <td>tgn/7003006</td>\n",
       "      <td>45.583333,12.566667</td>\n",
       "    </tr>\n",
       "  </tbody>\n",
       "</table>\n",
       "<p>1 rows × 5 columns</p>\n",
       "</div>"
      ],
      "text/plain": [
       "                                                  id  \\\n",
       "7  https://collections.ashmolean.org/collection/1...   \n",
       "\n",
       "                                place  ...          tgn               coords  \n",
       "7  Part of the Palazzo Priuli, Venice  ...  tgn/7003006  45.583333,12.566667  \n",
       "\n",
       "[1 rows x 5 columns]"
      ]
     },
     "metadata": {},
     "output_type": "display_data"
    },
    {
     "name": "stdout",
     "output_type": "stream",
     "text": [
      "Geographical coordinates representation to be added:\n",
      "{\n",
      "  \"@context\": \"https://linked.art/ns/v1/linked-art.json\",\n",
      "  \"id\": \"http://lod.example.org/museum/VisualItem/145\",\n",
      "  \"type\": \"VisualItem\",\n",
      "  \"represents\": [\n",
      "    {\n",
      "      \"id\": \"http://lod.example.org/museum/Place/291\",\n",
      "      \"type\": \"Place\",\n",
      "      \"_label\": \"Part of the Palazzo Priuli, Venice\",\n",
      "      \"approximated_by\": [\n",
      "        {\n",
      "          \"id\": \"http://lod.example.org/museum/Place/290\",\n",
      "          \"type\": \"Place\",\n",
      "          \"_label\": \"Part of the Palazzo Priuli, Venice\",\n",
      "          \"defined_by\": \"POINT(45.583333 12.566667)\"\n",
      "        }\n",
      "      ]\n",
      "    }\n",
      "  ]\n",
      "}\n",
      "File updated\n"
     ]
    },
    {
     "data": {
      "text/html": [
       "<h4>Architectural Sketch, Venice</h4>"
      ],
      "text/plain": [
       "<IPython.core.display.HTML object>"
      ]
     },
     "metadata": {},
     "output_type": "display_data"
    },
    {
     "name": "stdout",
     "output_type": "stream",
     "text": [
      "Matching row in geographical coordinates file for artwork\n"
     ]
    },
    {
     "data": {
      "text/html": [
       "<div>\n",
       "<style scoped>\n",
       "    .dataframe tbody tr th:only-of-type {\n",
       "        vertical-align: middle;\n",
       "    }\n",
       "\n",
       "    .dataframe tbody tr th {\n",
       "        vertical-align: top;\n",
       "    }\n",
       "\n",
       "    .dataframe thead th {\n",
       "        text-align: right;\n",
       "    }\n",
       "</style>\n",
       "<table border=\"1\" class=\"dataframe\">\n",
       "  <thead>\n",
       "    <tr style=\"text-align: right;\">\n",
       "      <th></th>\n",
       "      <th>id</th>\n",
       "      <th>place</th>\n",
       "      <th>...</th>\n",
       "      <th>tgn</th>\n",
       "      <th>coords</th>\n",
       "    </tr>\n",
       "  </thead>\n",
       "  <tbody>\n",
       "    <tr>\n",
       "      <th>8</th>\n",
       "      <td>https://www.harvardartmuseums.org/collections/...</td>\n",
       "      <td>Architectural Sketch, Venice</td>\n",
       "      <td>...</td>\n",
       "      <td>tgn/7003006</td>\n",
       "      <td>45.583333,12.566667</td>\n",
       "    </tr>\n",
       "  </tbody>\n",
       "</table>\n",
       "<p>1 rows × 5 columns</p>\n",
       "</div>"
      ],
      "text/plain": [
       "                                                  id  \\\n",
       "8  https://www.harvardartmuseums.org/collections/...   \n",
       "\n",
       "                          place  ...          tgn               coords  \n",
       "8  Architectural Sketch, Venice  ...  tgn/7003006  45.583333,12.566667  \n",
       "\n",
       "[1 rows x 5 columns]"
      ]
     },
     "metadata": {},
     "output_type": "display_data"
    },
    {
     "name": "stdout",
     "output_type": "stream",
     "text": [
      "Geographical coordinates representation to be added:\n",
      "{\n",
      "  \"@context\": \"https://linked.art/ns/v1/linked-art.json\",\n",
      "  \"id\": \"http://lod.example.org/museum/VisualItem/146\",\n",
      "  \"type\": \"VisualItem\",\n",
      "  \"represents\": [\n",
      "    {\n",
      "      \"id\": \"http://lod.example.org/museum/Place/293\",\n",
      "      \"type\": \"Place\",\n",
      "      \"_label\": \"Architectural Sketch, Venice\",\n",
      "      \"approximated_by\": [\n",
      "        {\n",
      "          \"id\": \"http://lod.example.org/museum/Place/292\",\n",
      "          \"type\": \"Place\",\n",
      "          \"_label\": \"Architectural Sketch, Venice\",\n",
      "          \"defined_by\": \"POINT(45.583333 12.566667)\"\n",
      "        }\n",
      "      ]\n",
      "    }\n",
      "  ]\n",
      "}\n",
      "File updated\n"
     ]
    },
    {
     "data": {
      "text/html": [
       "<h4>Study of Pines at Sestri</h4>"
      ],
      "text/plain": [
       "<IPython.core.display.HTML object>"
      ]
     },
     "metadata": {},
     "output_type": "display_data"
    },
    {
     "name": "stdout",
     "output_type": "stream",
     "text": [
      "Matching row in geographical coordinates file for artwork\n"
     ]
    },
    {
     "data": {
      "text/html": [
       "<div>\n",
       "<style scoped>\n",
       "    .dataframe tbody tr th:only-of-type {\n",
       "        vertical-align: middle;\n",
       "    }\n",
       "\n",
       "    .dataframe tbody tr th {\n",
       "        vertical-align: top;\n",
       "    }\n",
       "\n",
       "    .dataframe thead th {\n",
       "        text-align: right;\n",
       "    }\n",
       "</style>\n",
       "<table border=\"1\" class=\"dataframe\">\n",
       "  <thead>\n",
       "    <tr style=\"text-align: right;\">\n",
       "      <th></th>\n",
       "      <th>id</th>\n",
       "      <th>place</th>\n",
       "      <th>...</th>\n",
       "      <th>tgn</th>\n",
       "      <th>coords</th>\n",
       "    </tr>\n",
       "  </thead>\n",
       "  <tbody>\n",
       "    <tr>\n",
       "      <th>101</th>\n",
       "      <td>https://www.harvardartmuseums.org/collections/...</td>\n",
       "      <td>Study of Pines at Sestri</td>\n",
       "      <td>...</td>\n",
       "      <td>tgn/7005335</td>\n",
       "      <td>44.266667,9.4</td>\n",
       "    </tr>\n",
       "  </tbody>\n",
       "</table>\n",
       "<p>1 rows × 5 columns</p>\n",
       "</div>"
      ],
      "text/plain": [
       "                                                    id  \\\n",
       "101  https://www.harvardartmuseums.org/collections/...   \n",
       "\n",
       "                        place  ...          tgn         coords  \n",
       "101  Study of Pines at Sestri  ...  tgn/7005335  44.266667,9.4  \n",
       "\n",
       "[1 rows x 5 columns]"
      ]
     },
     "metadata": {},
     "output_type": "display_data"
    },
    {
     "name": "stdout",
     "output_type": "stream",
     "text": [
      "Geographical coordinates representation to be added:\n",
      "{\n",
      "  \"@context\": \"https://linked.art/ns/v1/linked-art.json\",\n",
      "  \"id\": \"http://lod.example.org/museum/VisualItem/147\",\n",
      "  \"type\": \"VisualItem\",\n",
      "  \"represents\": [\n",
      "    {\n",
      "      \"id\": \"http://lod.example.org/museum/Place/295\",\n",
      "      \"type\": \"Place\",\n",
      "      \"_label\": \"Study of Pines at Sestri\",\n",
      "      \"approximated_by\": [\n",
      "        {\n",
      "          \"id\": \"http://lod.example.org/museum/Place/294\",\n",
      "          \"type\": \"Place\",\n",
      "          \"_label\": \"Study of Pines at Sestri\",\n",
      "          \"defined_by\": \"POINT(44.266667 9.4)\"\n",
      "        }\n",
      "      ]\n",
      "    }\n",
      "  ]\n",
      "}\n",
      "File updated\n"
     ]
    },
    {
     "data": {
      "text/html": [
       "<h4>A Spandrel at Siena</h4>"
      ],
      "text/plain": [
       "<IPython.core.display.HTML object>"
      ]
     },
     "metadata": {},
     "output_type": "display_data"
    },
    {
     "name": "stdout",
     "output_type": "stream",
     "text": [
      "Matching row in geographical coordinates file for artwork\n"
     ]
    },
    {
     "data": {
      "text/html": [
       "<div>\n",
       "<style scoped>\n",
       "    .dataframe tbody tr th:only-of-type {\n",
       "        vertical-align: middle;\n",
       "    }\n",
       "\n",
       "    .dataframe tbody tr th {\n",
       "        vertical-align: top;\n",
       "    }\n",
       "\n",
       "    .dataframe thead th {\n",
       "        text-align: right;\n",
       "    }\n",
       "</style>\n",
       "<table border=\"1\" class=\"dataframe\">\n",
       "  <thead>\n",
       "    <tr style=\"text-align: right;\">\n",
       "      <th></th>\n",
       "      <th>id</th>\n",
       "      <th>place</th>\n",
       "      <th>...</th>\n",
       "      <th>tgn</th>\n",
       "      <th>coords</th>\n",
       "    </tr>\n",
       "  </thead>\n",
       "  <tbody>\n",
       "    <tr>\n",
       "      <th>46</th>\n",
       "      <td>https://collections.ashmolean.org/collection/1...</td>\n",
       "      <td>A Spandrel at Siena</td>\n",
       "      <td>...</td>\n",
       "      <td>tgn/7003168</td>\n",
       "      <td>43.216667,11.4</td>\n",
       "    </tr>\n",
       "  </tbody>\n",
       "</table>\n",
       "<p>1 rows × 5 columns</p>\n",
       "</div>"
      ],
      "text/plain": [
       "                                                   id                place  \\\n",
       "46  https://collections.ashmolean.org/collection/1...  A Spandrel at Siena   \n",
       "\n",
       "    ...          tgn          coords  \n",
       "46  ...  tgn/7003168  43.216667,11.4  \n",
       "\n",
       "[1 rows x 5 columns]"
      ]
     },
     "metadata": {},
     "output_type": "display_data"
    },
    {
     "name": "stdout",
     "output_type": "stream",
     "text": [
      "Geographical coordinates representation to be added:\n",
      "{\n",
      "  \"@context\": \"https://linked.art/ns/v1/linked-art.json\",\n",
      "  \"id\": \"http://lod.example.org/museum/VisualItem/148\",\n",
      "  \"type\": \"VisualItem\",\n",
      "  \"represents\": [\n",
      "    {\n",
      "      \"id\": \"http://lod.example.org/museum/Place/297\",\n",
      "      \"type\": \"Place\",\n",
      "      \"_label\": \"A Spandrel at Siena\",\n",
      "      \"approximated_by\": [\n",
      "        {\n",
      "          \"id\": \"http://lod.example.org/museum/Place/296\",\n",
      "          \"type\": \"Place\",\n",
      "          \"_label\": \"A Spandrel at Siena\",\n",
      "          \"defined_by\": \"POINT(43.216667 11.4)\"\n",
      "        }\n",
      "      ]\n",
      "    }\n",
      "  ]\n",
      "}\n",
      "File updated\n"
     ]
    },
    {
     "data": {
      "text/html": [
       "<h4>The Brezon and Alps of the Reposoir, seen from Mornex: finished pencil sketch from nature</h4>"
      ],
      "text/plain": [
       "<IPython.core.display.HTML object>"
      ]
     },
     "metadata": {},
     "output_type": "display_data"
    },
    {
     "name": "stdout",
     "output_type": "stream",
     "text": [
      "Matching row in geographical coordinates file for artwork\n"
     ]
    },
    {
     "data": {
      "text/html": [
       "<div>\n",
       "<style scoped>\n",
       "    .dataframe tbody tr th:only-of-type {\n",
       "        vertical-align: middle;\n",
       "    }\n",
       "\n",
       "    .dataframe tbody tr th {\n",
       "        vertical-align: top;\n",
       "    }\n",
       "\n",
       "    .dataframe thead th {\n",
       "        text-align: right;\n",
       "    }\n",
       "</style>\n",
       "<table border=\"1\" class=\"dataframe\">\n",
       "  <thead>\n",
       "    <tr style=\"text-align: right;\">\n",
       "      <th></th>\n",
       "      <th>id</th>\n",
       "      <th>place</th>\n",
       "      <th>...</th>\n",
       "      <th>tgn</th>\n",
       "      <th>coords</th>\n",
       "    </tr>\n",
       "  </thead>\n",
       "  <tbody>\n",
       "    <tr>\n",
       "      <th>37</th>\n",
       "      <td>https://collections.ashmolean.org/collection/1...</td>\n",
       "      <td>The Brezon and Alps of the Reposoir, seen from...</td>\n",
       "      <td>...</td>\n",
       "      <td>tgn/7007746</td>\n",
       "      <td>46.416667,10</td>\n",
       "    </tr>\n",
       "  </tbody>\n",
       "</table>\n",
       "<p>1 rows × 5 columns</p>\n",
       "</div>"
      ],
      "text/plain": [
       "                                                   id  \\\n",
       "37  https://collections.ashmolean.org/collection/1...   \n",
       "\n",
       "                                                place  ...          tgn  \\\n",
       "37  The Brezon and Alps of the Reposoir, seen from...  ...  tgn/7007746   \n",
       "\n",
       "          coords  \n",
       "37  46.416667,10  \n",
       "\n",
       "[1 rows x 5 columns]"
      ]
     },
     "metadata": {},
     "output_type": "display_data"
    },
    {
     "name": "stdout",
     "output_type": "stream",
     "text": [
      "Geographical coordinates representation to be added:\n",
      "{\n",
      "  \"@context\": \"https://linked.art/ns/v1/linked-art.json\",\n",
      "  \"id\": \"http://lod.example.org/museum/VisualItem/149\",\n",
      "  \"type\": \"VisualItem\",\n",
      "  \"represents\": [\n",
      "    {\n",
      "      \"id\": \"http://lod.example.org/museum/Place/299\",\n",
      "      \"type\": \"Place\",\n",
      "      \"_label\": \"The Brezon and Alps of the Reposoir, seen from Mornex: finished pencil sketch from nature\",\n",
      "      \"approximated_by\": [\n",
      "        {\n",
      "          \"id\": \"http://lod.example.org/museum/Place/298\",\n",
      "          \"type\": \"Place\",\n",
      "          \"_label\": \"The Brezon and Alps of the Reposoir, seen from Mornex: finished pencil sketch from nature\",\n",
      "          \"defined_by\": \"POINT(46.416667 10)\"\n",
      "        }\n",
      "      ]\n",
      "    }\n",
      "  ]\n",
      "}\n",
      "File updated\n"
     ]
    },
    {
     "data": {
      "text/html": [
       "<h4>View from the Palazzo Bembo to the Palazzo Grimani, Venice</h4>"
      ],
      "text/plain": [
       "<IPython.core.display.HTML object>"
      ]
     },
     "metadata": {},
     "output_type": "display_data"
    },
    {
     "name": "stdout",
     "output_type": "stream",
     "text": [
      "Matching row in geographical coordinates file for artwork\n"
     ]
    },
    {
     "data": {
      "text/html": [
       "<div>\n",
       "<style scoped>\n",
       "    .dataframe tbody tr th:only-of-type {\n",
       "        vertical-align: middle;\n",
       "    }\n",
       "\n",
       "    .dataframe tbody tr th {\n",
       "        vertical-align: top;\n",
       "    }\n",
       "\n",
       "    .dataframe thead th {\n",
       "        text-align: right;\n",
       "    }\n",
       "</style>\n",
       "<table border=\"1\" class=\"dataframe\">\n",
       "  <thead>\n",
       "    <tr style=\"text-align: right;\">\n",
       "      <th></th>\n",
       "      <th>id</th>\n",
       "      <th>place</th>\n",
       "      <th>...</th>\n",
       "      <th>tgn</th>\n",
       "      <th>coords</th>\n",
       "    </tr>\n",
       "  </thead>\n",
       "  <tbody>\n",
       "    <tr>\n",
       "      <th>9</th>\n",
       "      <td>https://collections.ashmolean.org/collection/1...</td>\n",
       "      <td>View from the Palazzo Bembo to the Palazzo Gri...</td>\n",
       "      <td>...</td>\n",
       "      <td>tgn/7003006</td>\n",
       "      <td>45.583333,12.566667</td>\n",
       "    </tr>\n",
       "  </tbody>\n",
       "</table>\n",
       "<p>1 rows × 5 columns</p>\n",
       "</div>"
      ],
      "text/plain": [
       "                                                  id  \\\n",
       "9  https://collections.ashmolean.org/collection/1...   \n",
       "\n",
       "                                               place  ...          tgn  \\\n",
       "9  View from the Palazzo Bembo to the Palazzo Gri...  ...  tgn/7003006   \n",
       "\n",
       "                coords  \n",
       "9  45.583333,12.566667  \n",
       "\n",
       "[1 rows x 5 columns]"
      ]
     },
     "metadata": {},
     "output_type": "display_data"
    },
    {
     "name": "stdout",
     "output_type": "stream",
     "text": [
      "Geographical coordinates representation to be added:\n",
      "{\n",
      "  \"@context\": \"https://linked.art/ns/v1/linked-art.json\",\n",
      "  \"id\": \"http://lod.example.org/museum/VisualItem/150\",\n",
      "  \"type\": \"VisualItem\",\n",
      "  \"represents\": [\n",
      "    {\n",
      "      \"id\": \"http://lod.example.org/museum/Place/301\",\n",
      "      \"type\": \"Place\",\n",
      "      \"_label\": \"View from the Palazzo Bembo to the Palazzo Grimani, Venice\",\n",
      "      \"approximated_by\": [\n",
      "        {\n",
      "          \"id\": \"http://lod.example.org/museum/Place/300\",\n",
      "          \"type\": \"Place\",\n",
      "          \"_label\": \"View from the Palazzo Bembo to the Palazzo Grimani, Venice\",\n",
      "          \"defined_by\": \"POINT(45.583333 12.566667)\"\n",
      "        }\n",
      "      ]\n",
      "    }\n",
      "  ]\n",
      "}\n",
      "File updated\n"
     ]
    },
    {
     "data": {
      "text/html": [
       "<h4>Bergkam aan het Meer van Genève</h4>"
      ],
      "text/plain": [
       "<IPython.core.display.HTML object>"
      ]
     },
     "metadata": {},
     "output_type": "display_data"
    },
    {
     "name": "stdout",
     "output_type": "stream",
     "text": [
      "Matching row in geographical coordinates file for artwork\n"
     ]
    },
    {
     "data": {
      "text/html": [
       "<div>\n",
       "<style scoped>\n",
       "    .dataframe tbody tr th:only-of-type {\n",
       "        vertical-align: middle;\n",
       "    }\n",
       "\n",
       "    .dataframe tbody tr th {\n",
       "        vertical-align: top;\n",
       "    }\n",
       "\n",
       "    .dataframe thead th {\n",
       "        text-align: right;\n",
       "    }\n",
       "</style>\n",
       "<table border=\"1\" class=\"dataframe\">\n",
       "  <thead>\n",
       "    <tr style=\"text-align: right;\">\n",
       "      <th></th>\n",
       "      <th>id</th>\n",
       "      <th>place</th>\n",
       "      <th>...</th>\n",
       "      <th>tgn</th>\n",
       "      <th>coords</th>\n",
       "    </tr>\n",
       "  </thead>\n",
       "  <tbody>\n",
       "    <tr>\n",
       "      <th>21</th>\n",
       "      <td>http://www.rijksmuseum.nl/nl/collectie/RP-T-19...</td>\n",
       "      <td>Bergkam aan het Meer van Genève</td>\n",
       "      <td>...</td>\n",
       "      <td>tgn/7003746</td>\n",
       "      <td>46.196732,6.110443</td>\n",
       "    </tr>\n",
       "  </tbody>\n",
       "</table>\n",
       "<p>1 rows × 5 columns</p>\n",
       "</div>"
      ],
      "text/plain": [
       "                                                   id  \\\n",
       "21  http://www.rijksmuseum.nl/nl/collectie/RP-T-19...   \n",
       "\n",
       "                              place  ...          tgn              coords  \n",
       "21  Bergkam aan het Meer van Genève  ...  tgn/7003746  46.196732,6.110443  \n",
       "\n",
       "[1 rows x 5 columns]"
      ]
     },
     "metadata": {},
     "output_type": "display_data"
    },
    {
     "name": "stdout",
     "output_type": "stream",
     "text": [
      "Geographical coordinates representation to be added:\n",
      "{\n",
      "  \"@context\": \"https://linked.art/ns/v1/linked-art.json\",\n",
      "  \"id\": \"http://lod.example.org/museum/VisualItem/151\",\n",
      "  \"type\": \"VisualItem\",\n",
      "  \"represents\": [\n",
      "    {\n",
      "      \"id\": \"http://lod.example.org/museum/Place/303\",\n",
      "      \"type\": \"Place\",\n",
      "      \"_label\": \"Bergkam aan het Meer van Gen\\u00e8ve\",\n",
      "      \"approximated_by\": [\n",
      "        {\n",
      "          \"id\": \"http://lod.example.org/museum/Place/302\",\n",
      "          \"type\": \"Place\",\n",
      "          \"_label\": \"Bergkam aan het Meer van Gen\\u00e8ve\",\n",
      "          \"defined_by\": \"POINT(46.196732 6.110443)\"\n",
      "        }\n",
      "      ]\n",
      "    }\n",
      "  ]\n",
      "}\n",
      "File updated\n"
     ]
    },
    {
     "data": {
      "text/html": [
       "<h4>Study in Neutral Tint of Turner's 'The Pass of Faido'</h4>"
      ],
      "text/plain": [
       "<IPython.core.display.HTML object>"
      ]
     },
     "metadata": {},
     "output_type": "display_data"
    },
    {
     "name": "stdout",
     "output_type": "stream",
     "text": [
      "Matching row in geographical coordinates file for artwork\n"
     ]
    },
    {
     "data": {
      "text/html": [
       "<div>\n",
       "<style scoped>\n",
       "    .dataframe tbody tr th:only-of-type {\n",
       "        vertical-align: middle;\n",
       "    }\n",
       "\n",
       "    .dataframe tbody tr th {\n",
       "        vertical-align: top;\n",
       "    }\n",
       "\n",
       "    .dataframe thead th {\n",
       "        text-align: right;\n",
       "    }\n",
       "</style>\n",
       "<table border=\"1\" class=\"dataframe\">\n",
       "  <thead>\n",
       "    <tr style=\"text-align: right;\">\n",
       "      <th></th>\n",
       "      <th>id</th>\n",
       "      <th>place</th>\n",
       "      <th>...</th>\n",
       "      <th>tgn</th>\n",
       "      <th>coords</th>\n",
       "    </tr>\n",
       "  </thead>\n",
       "  <tbody>\n",
       "    <tr>\n",
       "      <th>90</th>\n",
       "      <td>https://collections.ashmolean.org/collection/1...</td>\n",
       "      <td>Study in Neutral Tint of Turner's 'The Pass of...</td>\n",
       "      <td>...</td>\n",
       "      <td>tgn/1064047</td>\n",
       "      <td>46.479417,8.797659</td>\n",
       "    </tr>\n",
       "  </tbody>\n",
       "</table>\n",
       "<p>1 rows × 5 columns</p>\n",
       "</div>"
      ],
      "text/plain": [
       "                                                   id  \\\n",
       "90  https://collections.ashmolean.org/collection/1...   \n",
       "\n",
       "                                                place  ...          tgn  \\\n",
       "90  Study in Neutral Tint of Turner's 'The Pass of...  ...  tgn/1064047   \n",
       "\n",
       "                coords  \n",
       "90  46.479417,8.797659  \n",
       "\n",
       "[1 rows x 5 columns]"
      ]
     },
     "metadata": {},
     "output_type": "display_data"
    },
    {
     "name": "stdout",
     "output_type": "stream",
     "text": [
      "Geographical coordinates representation to be added:\n",
      "{\n",
      "  \"@context\": \"https://linked.art/ns/v1/linked-art.json\",\n",
      "  \"id\": \"http://lod.example.org/museum/VisualItem/152\",\n",
      "  \"type\": \"VisualItem\",\n",
      "  \"represents\": [\n",
      "    {\n",
      "      \"id\": \"http://lod.example.org/museum/Place/305\",\n",
      "      \"type\": \"Place\",\n",
      "      \"_label\": \"Study in Neutral Tint of Turner's 'The Pass of Faido'\",\n",
      "      \"approximated_by\": [\n",
      "        {\n",
      "          \"id\": \"http://lod.example.org/museum/Place/304\",\n",
      "          \"type\": \"Place\",\n",
      "          \"_label\": \"Study in Neutral Tint of Turner's 'The Pass of Faido'\",\n",
      "          \"defined_by\": \"POINT(46.479417 8.797659)\"\n",
      "        }\n",
      "      ]\n",
      "    }\n",
      "  ]\n",
      "}\n",
      "File updated\n"
     ]
    },
    {
     "data": {
      "text/html": [
       "<h4>Near Bassano, Brenner</h4>"
      ],
      "text/plain": [
       "<IPython.core.display.HTML object>"
      ]
     },
     "metadata": {},
     "output_type": "display_data"
    },
    {
     "name": "stdout",
     "output_type": "stream",
     "text": [
      "Matching row in geographical coordinates file for artwork\n"
     ]
    },
    {
     "data": {
      "text/html": [
       "<div>\n",
       "<style scoped>\n",
       "    .dataframe tbody tr th:only-of-type {\n",
       "        vertical-align: middle;\n",
       "    }\n",
       "\n",
       "    .dataframe tbody tr th {\n",
       "        vertical-align: top;\n",
       "    }\n",
       "\n",
       "    .dataframe thead th {\n",
       "        text-align: right;\n",
       "    }\n",
       "</style>\n",
       "<table border=\"1\" class=\"dataframe\">\n",
       "  <thead>\n",
       "    <tr style=\"text-align: right;\">\n",
       "      <th></th>\n",
       "      <th>id</th>\n",
       "      <th>place</th>\n",
       "      <th>...</th>\n",
       "      <th>tgn</th>\n",
       "      <th>coords</th>\n",
       "    </tr>\n",
       "  </thead>\n",
       "  <tbody>\n",
       "    <tr>\n",
       "      <th>103</th>\n",
       "      <td>https://collections.ashmolean.org/collection//...</td>\n",
       "      <td>Near Bassano, Brenner</td>\n",
       "      <td>...</td>\n",
       "      <td>tgn/1108350</td>\n",
       "      <td>47,11.5</td>\n",
       "    </tr>\n",
       "  </tbody>\n",
       "</table>\n",
       "<p>1 rows × 5 columns</p>\n",
       "</div>"
      ],
      "text/plain": [
       "                                                    id                  place  \\\n",
       "103  https://collections.ashmolean.org/collection//...  Near Bassano, Brenner   \n",
       "\n",
       "     ...          tgn   coords  \n",
       "103  ...  tgn/1108350  47,11.5  \n",
       "\n",
       "[1 rows x 5 columns]"
      ]
     },
     "metadata": {},
     "output_type": "display_data"
    },
    {
     "name": "stdout",
     "output_type": "stream",
     "text": [
      "Geographical coordinates representation to be added:\n",
      "{\n",
      "  \"@context\": \"https://linked.art/ns/v1/linked-art.json\",\n",
      "  \"id\": \"http://lod.example.org/museum/VisualItem/153\",\n",
      "  \"type\": \"VisualItem\",\n",
      "  \"represents\": [\n",
      "    {\n",
      "      \"id\": \"http://lod.example.org/museum/Place/307\",\n",
      "      \"type\": \"Place\",\n",
      "      \"_label\": \"Near Bassano, Brenner\",\n",
      "      \"approximated_by\": [\n",
      "        {\n",
      "          \"id\": \"http://lod.example.org/museum/Place/306\",\n",
      "          \"type\": \"Place\",\n",
      "          \"_label\": \"Near Bassano, Brenner\",\n",
      "          \"defined_by\": \"POINT(47 11.5)\"\n",
      "        }\n",
      "      ]\n",
      "    }\n",
      "  ]\n",
      "}\n",
      "File updated\n"
     ]
    },
    {
     "data": {
      "text/html": [
       "<h4>Dawn at Neuchâtel</h4>"
      ],
      "text/plain": [
       "<IPython.core.display.HTML object>"
      ]
     },
     "metadata": {},
     "output_type": "display_data"
    },
    {
     "name": "stdout",
     "output_type": "stream",
     "text": [
      "Matching row in geographical coordinates file for artwork\n"
     ]
    },
    {
     "data": {
      "text/html": [
       "<div>\n",
       "<style scoped>\n",
       "    .dataframe tbody tr th:only-of-type {\n",
       "        vertical-align: middle;\n",
       "    }\n",
       "\n",
       "    .dataframe tbody tr th {\n",
       "        vertical-align: top;\n",
       "    }\n",
       "\n",
       "    .dataframe thead th {\n",
       "        text-align: right;\n",
       "    }\n",
       "</style>\n",
       "<table border=\"1\" class=\"dataframe\">\n",
       "  <thead>\n",
       "    <tr style=\"text-align: right;\">\n",
       "      <th></th>\n",
       "      <th>id</th>\n",
       "      <th>place</th>\n",
       "      <th>...</th>\n",
       "      <th>tgn</th>\n",
       "      <th>coords</th>\n",
       "    </tr>\n",
       "  </thead>\n",
       "  <tbody>\n",
       "    <tr>\n",
       "      <th>104</th>\n",
       "      <td>https://www.harvardartmuseums.org/collections/...</td>\n",
       "      <td>Dawn at Neuchâtel</td>\n",
       "      <td>...</td>\n",
       "      <td>tgn/7003751</td>\n",
       "      <td>46.990867,6.797675</td>\n",
       "    </tr>\n",
       "  </tbody>\n",
       "</table>\n",
       "<p>1 rows × 5 columns</p>\n",
       "</div>"
      ],
      "text/plain": [
       "                                                    id              place  \\\n",
       "104  https://www.harvardartmuseums.org/collections/...  Dawn at Neuchâtel   \n",
       "\n",
       "     ...          tgn              coords  \n",
       "104  ...  tgn/7003751  46.990867,6.797675  \n",
       "\n",
       "[1 rows x 5 columns]"
      ]
     },
     "metadata": {},
     "output_type": "display_data"
    },
    {
     "name": "stdout",
     "output_type": "stream",
     "text": [
      "Geographical coordinates representation to be added:\n",
      "{\n",
      "  \"@context\": \"https://linked.art/ns/v1/linked-art.json\",\n",
      "  \"id\": \"http://lod.example.org/museum/VisualItem/154\",\n",
      "  \"type\": \"VisualItem\",\n",
      "  \"represents\": [\n",
      "    {\n",
      "      \"id\": \"http://lod.example.org/museum/Place/309\",\n",
      "      \"type\": \"Place\",\n",
      "      \"_label\": \"Dawn at Neuch\\u00e2tel\",\n",
      "      \"approximated_by\": [\n",
      "        {\n",
      "          \"id\": \"http://lod.example.org/museum/Place/308\",\n",
      "          \"type\": \"Place\",\n",
      "          \"_label\": \"Dawn at Neuch\\u00e2tel\",\n",
      "          \"defined_by\": \"POINT(46.990867 6.797675)\"\n",
      "        }\n",
      "      ]\n",
      "    }\n",
      "  ]\n",
      "}\n",
      "File updated\n"
     ]
    },
    {
     "data": {
      "text/html": [
       "<h4>Part of the Façade of the destroyed Church of San Michele in Foro, Lucca, as it appeared in 1845</h4>"
      ],
      "text/plain": [
       "<IPython.core.display.HTML object>"
      ]
     },
     "metadata": {},
     "output_type": "display_data"
    },
    {
     "name": "stdout",
     "output_type": "stream",
     "text": [
      "Matching row in geographical coordinates file for artwork\n"
     ]
    },
    {
     "data": {
      "text/html": [
       "<div>\n",
       "<style scoped>\n",
       "    .dataframe tbody tr th:only-of-type {\n",
       "        vertical-align: middle;\n",
       "    }\n",
       "\n",
       "    .dataframe tbody tr th {\n",
       "        vertical-align: top;\n",
       "    }\n",
       "\n",
       "    .dataframe thead th {\n",
       "        text-align: right;\n",
       "    }\n",
       "</style>\n",
       "<table border=\"1\" class=\"dataframe\">\n",
       "  <thead>\n",
       "    <tr style=\"text-align: right;\">\n",
       "      <th></th>\n",
       "      <th>id</th>\n",
       "      <th>place</th>\n",
       "      <th>...</th>\n",
       "      <th>tgn</th>\n",
       "      <th>coords</th>\n",
       "    </tr>\n",
       "  </thead>\n",
       "  <tbody>\n",
       "    <tr>\n",
       "      <th>43</th>\n",
       "      <td>https://collections.ashmolean.org/collection/1...</td>\n",
       "      <td>Part of the Façade of the destroyed Church of ...</td>\n",
       "      <td>...</td>\n",
       "      <td>tgn/7003165</td>\n",
       "      <td>44.033333,10.45</td>\n",
       "    </tr>\n",
       "  </tbody>\n",
       "</table>\n",
       "<p>1 rows × 5 columns</p>\n",
       "</div>"
      ],
      "text/plain": [
       "                                                   id  \\\n",
       "43  https://collections.ashmolean.org/collection/1...   \n",
       "\n",
       "                                                place  ...          tgn  \\\n",
       "43  Part of the Façade of the destroyed Church of ...  ...  tgn/7003165   \n",
       "\n",
       "             coords  \n",
       "43  44.033333,10.45  \n",
       "\n",
       "[1 rows x 5 columns]"
      ]
     },
     "metadata": {},
     "output_type": "display_data"
    },
    {
     "name": "stdout",
     "output_type": "stream",
     "text": [
      "Geographical coordinates representation to be added:\n",
      "{\n",
      "  \"@context\": \"https://linked.art/ns/v1/linked-art.json\",\n",
      "  \"id\": \"http://lod.example.org/museum/VisualItem/155\",\n",
      "  \"type\": \"VisualItem\",\n",
      "  \"represents\": [\n",
      "    {\n",
      "      \"id\": \"http://lod.example.org/museum/Place/311\",\n",
      "      \"type\": \"Place\",\n",
      "      \"_label\": \"Part of the Fa\\u00e7ade of the destroyed Church of San Michele in Foro, Lucca, as it appeared in 1845\",\n",
      "      \"approximated_by\": [\n",
      "        {\n",
      "          \"id\": \"http://lod.example.org/museum/Place/310\",\n",
      "          \"type\": \"Place\",\n",
      "          \"_label\": \"Part of the Fa\\u00e7ade of the destroyed Church of San Michele in Foro, Lucca, as it appeared in 1845\",\n",
      "          \"defined_by\": \"POINT(44.033333 10.45)\"\n",
      "        }\n",
      "      ]\n",
      "    }\n",
      "  ]\n",
      "}\n",
      "File updated\n"
     ]
    },
    {
     "data": {
      "text/html": [
       "<h4>Architectural Study: Three Sections of a Venetian Arcade</h4>"
      ],
      "text/plain": [
       "<IPython.core.display.HTML object>"
      ]
     },
     "metadata": {},
     "output_type": "display_data"
    },
    {
     "name": "stdout",
     "output_type": "stream",
     "text": [
      "Matching row in geographical coordinates file for artwork\n"
     ]
    },
    {
     "data": {
      "text/html": [
       "<div>\n",
       "<style scoped>\n",
       "    .dataframe tbody tr th:only-of-type {\n",
       "        vertical-align: middle;\n",
       "    }\n",
       "\n",
       "    .dataframe tbody tr th {\n",
       "        vertical-align: top;\n",
       "    }\n",
       "\n",
       "    .dataframe thead th {\n",
       "        text-align: right;\n",
       "    }\n",
       "</style>\n",
       "<table border=\"1\" class=\"dataframe\">\n",
       "  <thead>\n",
       "    <tr style=\"text-align: right;\">\n",
       "      <th></th>\n",
       "      <th>id</th>\n",
       "      <th>place</th>\n",
       "      <th>...</th>\n",
       "      <th>tgn</th>\n",
       "      <th>coords</th>\n",
       "    </tr>\n",
       "  </thead>\n",
       "  <tbody>\n",
       "    <tr>\n",
       "      <th>10</th>\n",
       "      <td>https://www.harvardartmuseums.org/collections/...</td>\n",
       "      <td>Architectural Study: Three Sections of a Venet...</td>\n",
       "      <td>...</td>\n",
       "      <td>tgn/7003006</td>\n",
       "      <td>45.583333,12.566667</td>\n",
       "    </tr>\n",
       "  </tbody>\n",
       "</table>\n",
       "<p>1 rows × 5 columns</p>\n",
       "</div>"
      ],
      "text/plain": [
       "                                                   id  \\\n",
       "10  https://www.harvardartmuseums.org/collections/...   \n",
       "\n",
       "                                                place  ...          tgn  \\\n",
       "10  Architectural Study: Three Sections of a Venet...  ...  tgn/7003006   \n",
       "\n",
       "                 coords  \n",
       "10  45.583333,12.566667  \n",
       "\n",
       "[1 rows x 5 columns]"
      ]
     },
     "metadata": {},
     "output_type": "display_data"
    },
    {
     "name": "stdout",
     "output_type": "stream",
     "text": [
      "Geographical coordinates representation to be added:\n",
      "{\n",
      "  \"@context\": \"https://linked.art/ns/v1/linked-art.json\",\n",
      "  \"id\": \"http://lod.example.org/museum/VisualItem/156\",\n",
      "  \"type\": \"VisualItem\",\n",
      "  \"represents\": [\n",
      "    {\n",
      "      \"id\": \"http://lod.example.org/museum/Place/313\",\n",
      "      \"type\": \"Place\",\n",
      "      \"_label\": \"Architectural Study: Three Sections of a Venetian Arcade\",\n",
      "      \"approximated_by\": [\n",
      "        {\n",
      "          \"id\": \"http://lod.example.org/museum/Place/312\",\n",
      "          \"type\": \"Place\",\n",
      "          \"_label\": \"Architectural Study: Three Sections of a Venetian Arcade\",\n",
      "          \"defined_by\": \"POINT(45.583333 12.566667)\"\n",
      "        }\n",
      "      ]\n",
      "    }\n",
      "  ]\n",
      "}\n",
      "File updated\n"
     ]
    },
    {
     "data": {
      "text/html": [
       "<h4>Hôtel de Ville, Aix-la-Chapelle</h4>"
      ],
      "text/plain": [
       "<IPython.core.display.HTML object>"
      ]
     },
     "metadata": {},
     "output_type": "display_data"
    },
    {
     "name": "stdout",
     "output_type": "stream",
     "text": [
      "Matching row in geographical coordinates file for artwork\n"
     ]
    },
    {
     "data": {
      "text/html": [
       "<div>\n",
       "<style scoped>\n",
       "    .dataframe tbody tr th:only-of-type {\n",
       "        vertical-align: middle;\n",
       "    }\n",
       "\n",
       "    .dataframe tbody tr th {\n",
       "        vertical-align: top;\n",
       "    }\n",
       "\n",
       "    .dataframe thead th {\n",
       "        text-align: right;\n",
       "    }\n",
       "</style>\n",
       "<table border=\"1\" class=\"dataframe\">\n",
       "  <thead>\n",
       "    <tr style=\"text-align: right;\">\n",
       "      <th></th>\n",
       "      <th>id</th>\n",
       "      <th>place</th>\n",
       "      <th>...</th>\n",
       "      <th>tgn</th>\n",
       "      <th>coords</th>\n",
       "    </tr>\n",
       "  </thead>\n",
       "  <tbody>\n",
       "    <tr>\n",
       "      <th>106</th>\n",
       "      <td>https://www.harvardartmuseums.org/collections/...</td>\n",
       "      <td>Hôtel de Ville, Aix-la-Chapelle</td>\n",
       "      <td>...</td>\n",
       "      <td>tgn/7004799</td>\n",
       "      <td>50.770833,6.105278</td>\n",
       "    </tr>\n",
       "  </tbody>\n",
       "</table>\n",
       "<p>1 rows × 5 columns</p>\n",
       "</div>"
      ],
      "text/plain": [
       "                                                    id  \\\n",
       "106  https://www.harvardartmuseums.org/collections/...   \n",
       "\n",
       "                               place  ...          tgn              coords  \n",
       "106  Hôtel de Ville, Aix-la-Chapelle  ...  tgn/7004799  50.770833,6.105278  \n",
       "\n",
       "[1 rows x 5 columns]"
      ]
     },
     "metadata": {},
     "output_type": "display_data"
    },
    {
     "name": "stdout",
     "output_type": "stream",
     "text": [
      "Geographical coordinates representation to be added:\n",
      "{\n",
      "  \"@context\": \"https://linked.art/ns/v1/linked-art.json\",\n",
      "  \"id\": \"http://lod.example.org/museum/VisualItem/157\",\n",
      "  \"type\": \"VisualItem\",\n",
      "  \"represents\": [\n",
      "    {\n",
      "      \"id\": \"http://lod.example.org/museum/Place/315\",\n",
      "      \"type\": \"Place\",\n",
      "      \"_label\": \"H\\u00f4tel de Ville, Aix-la-Chapelle\",\n",
      "      \"approximated_by\": [\n",
      "        {\n",
      "          \"id\": \"http://lod.example.org/museum/Place/314\",\n",
      "          \"type\": \"Place\",\n",
      "          \"_label\": \"H\\u00f4tel de Ville, Aix-la-Chapelle\",\n",
      "          \"defined_by\": \"POINT(50.770833 6.105278)\"\n",
      "        }\n",
      "      ]\n",
      "    }\n",
      "  ]\n",
      "}\n",
      "File updated\n"
     ]
    },
    {
     "data": {
      "text/html": [
       "<h4>A Window of the Palazzo Tolomei, Siena, showing the rude and unsymmetrical Placing of massy Stones</h4>"
      ],
      "text/plain": [
       "<IPython.core.display.HTML object>"
      ]
     },
     "metadata": {},
     "output_type": "display_data"
    },
    {
     "name": "stdout",
     "output_type": "stream",
     "text": [
      "Matching row in geographical coordinates file for artwork\n"
     ]
    },
    {
     "data": {
      "text/html": [
       "<div>\n",
       "<style scoped>\n",
       "    .dataframe tbody tr th:only-of-type {\n",
       "        vertical-align: middle;\n",
       "    }\n",
       "\n",
       "    .dataframe tbody tr th {\n",
       "        vertical-align: top;\n",
       "    }\n",
       "\n",
       "    .dataframe thead th {\n",
       "        text-align: right;\n",
       "    }\n",
       "</style>\n",
       "<table border=\"1\" class=\"dataframe\">\n",
       "  <thead>\n",
       "    <tr style=\"text-align: right;\">\n",
       "      <th></th>\n",
       "      <th>id</th>\n",
       "      <th>place</th>\n",
       "      <th>...</th>\n",
       "      <th>tgn</th>\n",
       "      <th>coords</th>\n",
       "    </tr>\n",
       "  </thead>\n",
       "  <tbody>\n",
       "    <tr>\n",
       "      <th>47</th>\n",
       "      <td>https://collections.ashmolean.org/collection/1...</td>\n",
       "      <td>A Window of the Palazzo Tolomei, Siena, showin...</td>\n",
       "      <td>...</td>\n",
       "      <td>tgn/7003168</td>\n",
       "      <td>43.216667,11.4</td>\n",
       "    </tr>\n",
       "  </tbody>\n",
       "</table>\n",
       "<p>1 rows × 5 columns</p>\n",
       "</div>"
      ],
      "text/plain": [
       "                                                   id  \\\n",
       "47  https://collections.ashmolean.org/collection/1...   \n",
       "\n",
       "                                                place  ...          tgn  \\\n",
       "47  A Window of the Palazzo Tolomei, Siena, showin...  ...  tgn/7003168   \n",
       "\n",
       "            coords  \n",
       "47  43.216667,11.4  \n",
       "\n",
       "[1 rows x 5 columns]"
      ]
     },
     "metadata": {},
     "output_type": "display_data"
    },
    {
     "name": "stdout",
     "output_type": "stream",
     "text": [
      "Geographical coordinates representation to be added:\n",
      "{\n",
      "  \"@context\": \"https://linked.art/ns/v1/linked-art.json\",\n",
      "  \"id\": \"http://lod.example.org/museum/VisualItem/158\",\n",
      "  \"type\": \"VisualItem\",\n",
      "  \"represents\": [\n",
      "    {\n",
      "      \"id\": \"http://lod.example.org/museum/Place/317\",\n",
      "      \"type\": \"Place\",\n",
      "      \"_label\": \"A Window of the Palazzo Tolomei, Siena, showing the rude and unsymmetrical Placing of massy Stones\",\n",
      "      \"approximated_by\": [\n",
      "        {\n",
      "          \"id\": \"http://lod.example.org/museum/Place/316\",\n",
      "          \"type\": \"Place\",\n",
      "          \"_label\": \"A Window of the Palazzo Tolomei, Siena, showing the rude and unsymmetrical Placing of massy Stones\",\n",
      "          \"defined_by\": \"POINT(43.216667 11.4)\"\n",
      "        }\n",
      "      ]\n",
      "    }\n",
      "  ]\n",
      "}\n",
      "File updated\n"
     ]
    },
    {
     "data": {
      "text/html": [
       "<h4>Three Studies of Narcissus ('Field Narcissus of the Alps')</h4>"
      ],
      "text/plain": [
       "<IPython.core.display.HTML object>"
      ]
     },
     "metadata": {},
     "output_type": "display_data"
    },
    {
     "name": "stdout",
     "output_type": "stream",
     "text": [
      "Matching row in geographical coordinates file for artwork\n"
     ]
    },
    {
     "data": {
      "text/html": [
       "<div>\n",
       "<style scoped>\n",
       "    .dataframe tbody tr th:only-of-type {\n",
       "        vertical-align: middle;\n",
       "    }\n",
       "\n",
       "    .dataframe tbody tr th {\n",
       "        vertical-align: top;\n",
       "    }\n",
       "\n",
       "    .dataframe thead th {\n",
       "        text-align: right;\n",
       "    }\n",
       "</style>\n",
       "<table border=\"1\" class=\"dataframe\">\n",
       "  <thead>\n",
       "    <tr style=\"text-align: right;\">\n",
       "      <th></th>\n",
       "      <th>id</th>\n",
       "      <th>place</th>\n",
       "      <th>...</th>\n",
       "      <th>tgn</th>\n",
       "      <th>coords</th>\n",
       "    </tr>\n",
       "  </thead>\n",
       "  <tbody>\n",
       "    <tr>\n",
       "      <th>38</th>\n",
       "      <td>https://collections.ashmolean.org/collection/1...</td>\n",
       "      <td>Three Studies of Narcissus ('Field Narcissus o...</td>\n",
       "      <td>...</td>\n",
       "      <td>tgn/7007746</td>\n",
       "      <td>46.416667,10</td>\n",
       "    </tr>\n",
       "  </tbody>\n",
       "</table>\n",
       "<p>1 rows × 5 columns</p>\n",
       "</div>"
      ],
      "text/plain": [
       "                                                   id  \\\n",
       "38  https://collections.ashmolean.org/collection/1...   \n",
       "\n",
       "                                                place  ...          tgn  \\\n",
       "38  Three Studies of Narcissus ('Field Narcissus o...  ...  tgn/7007746   \n",
       "\n",
       "          coords  \n",
       "38  46.416667,10  \n",
       "\n",
       "[1 rows x 5 columns]"
      ]
     },
     "metadata": {},
     "output_type": "display_data"
    },
    {
     "name": "stdout",
     "output_type": "stream",
     "text": [
      "Geographical coordinates representation to be added:\n",
      "{\n",
      "  \"@context\": \"https://linked.art/ns/v1/linked-art.json\",\n",
      "  \"id\": \"http://lod.example.org/museum/VisualItem/159\",\n",
      "  \"type\": \"VisualItem\",\n",
      "  \"represents\": [\n",
      "    {\n",
      "      \"id\": \"http://lod.example.org/museum/Place/319\",\n",
      "      \"type\": \"Place\",\n",
      "      \"_label\": \"Three Studies of Narcissus ('Field Narcissus of the Alps')\",\n",
      "      \"approximated_by\": [\n",
      "        {\n",
      "          \"id\": \"http://lod.example.org/museum/Place/318\",\n",
      "          \"type\": \"Place\",\n",
      "          \"_label\": \"Three Studies of Narcissus ('Field Narcissus of the Alps')\",\n",
      "          \"defined_by\": \"POINT(46.416667 10)\"\n",
      "        }\n",
      "      ]\n",
      "    }\n",
      "  ]\n",
      "}\n",
      "File updated\n"
     ]
    },
    {
     "data": {
      "text/html": [
       "<h4>Design for a window in the University Museum, Oxford</h4>"
      ],
      "text/plain": [
       "<IPython.core.display.HTML object>"
      ]
     },
     "metadata": {},
     "output_type": "display_data"
    },
    {
     "name": "stdout",
     "output_type": "stream",
     "text": [
      "Matching row in geographical coordinates file for artwork\n"
     ]
    },
    {
     "data": {
      "text/html": [
       "<div>\n",
       "<style scoped>\n",
       "    .dataframe tbody tr th:only-of-type {\n",
       "        vertical-align: middle;\n",
       "    }\n",
       "\n",
       "    .dataframe tbody tr th {\n",
       "        vertical-align: top;\n",
       "    }\n",
       "\n",
       "    .dataframe thead th {\n",
       "        text-align: right;\n",
       "    }\n",
       "</style>\n",
       "<table border=\"1\" class=\"dataframe\">\n",
       "  <thead>\n",
       "    <tr style=\"text-align: right;\">\n",
       "      <th></th>\n",
       "      <th>id</th>\n",
       "      <th>place</th>\n",
       "      <th>...</th>\n",
       "      <th>tgn</th>\n",
       "      <th>coords</th>\n",
       "    </tr>\n",
       "  </thead>\n",
       "  <tbody>\n",
       "    <tr>\n",
       "      <th>28</th>\n",
       "      <td>https://collections.ashmolean.org/collection/1...</td>\n",
       "      <td>Design for a window in the University Museum, ...</td>\n",
       "      <td>...</td>\n",
       "      <td>tgn/7011931</td>\n",
       "      <td>51.75,-1.25</td>\n",
       "    </tr>\n",
       "  </tbody>\n",
       "</table>\n",
       "<p>1 rows × 5 columns</p>\n",
       "</div>"
      ],
      "text/plain": [
       "                                                   id  \\\n",
       "28  https://collections.ashmolean.org/collection/1...   \n",
       "\n",
       "                                                place  ...          tgn  \\\n",
       "28  Design for a window in the University Museum, ...  ...  tgn/7011931   \n",
       "\n",
       "         coords  \n",
       "28  51.75,-1.25  \n",
       "\n",
       "[1 rows x 5 columns]"
      ]
     },
     "metadata": {},
     "output_type": "display_data"
    },
    {
     "name": "stdout",
     "output_type": "stream",
     "text": [
      "Geographical coordinates representation to be added:\n",
      "{\n",
      "  \"@context\": \"https://linked.art/ns/v1/linked-art.json\",\n",
      "  \"id\": \"http://lod.example.org/museum/VisualItem/160\",\n",
      "  \"type\": \"VisualItem\",\n",
      "  \"represents\": [\n",
      "    {\n",
      "      \"id\": \"http://lod.example.org/museum/Place/321\",\n",
      "      \"type\": \"Place\",\n",
      "      \"_label\": \"Design for a window in the University Museum, Oxford\",\n",
      "      \"approximated_by\": [\n",
      "        {\n",
      "          \"id\": \"http://lod.example.org/museum/Place/320\",\n",
      "          \"type\": \"Place\",\n",
      "          \"_label\": \"Design for a window in the University Museum, Oxford\",\n",
      "          \"defined_by\": \"POINT(51.75 -1.25)\"\n",
      "        }\n",
      "      ]\n",
      "    }\n",
      "  ]\n",
      "}\n",
      "File updated\n"
     ]
    },
    {
     "data": {
      "text/html": [
       "<h4>Ornamental Study with Acanthus Motif for \"The Stones of Venice\"</h4>"
      ],
      "text/plain": [
       "<IPython.core.display.HTML object>"
      ]
     },
     "metadata": {},
     "output_type": "display_data"
    },
    {
     "name": "stdout",
     "output_type": "stream",
     "text": [
      "Matching row in geographical coordinates file for artwork\n"
     ]
    },
    {
     "data": {
      "text/html": [
       "<div>\n",
       "<style scoped>\n",
       "    .dataframe tbody tr th:only-of-type {\n",
       "        vertical-align: middle;\n",
       "    }\n",
       "\n",
       "    .dataframe tbody tr th {\n",
       "        vertical-align: top;\n",
       "    }\n",
       "\n",
       "    .dataframe thead th {\n",
       "        text-align: right;\n",
       "    }\n",
       "</style>\n",
       "<table border=\"1\" class=\"dataframe\">\n",
       "  <thead>\n",
       "    <tr style=\"text-align: right;\">\n",
       "      <th></th>\n",
       "      <th>id</th>\n",
       "      <th>place</th>\n",
       "      <th>...</th>\n",
       "      <th>tgn</th>\n",
       "      <th>coords</th>\n",
       "    </tr>\n",
       "  </thead>\n",
       "  <tbody>\n",
       "    <tr>\n",
       "      <th>11</th>\n",
       "      <td>https://www.nga.gov/collection/76140</td>\n",
       "      <td>Ornamental Study with Acanthus Motif for \"The ...</td>\n",
       "      <td>...</td>\n",
       "      <td>tgn/7003006</td>\n",
       "      <td>45.583333,12.566667</td>\n",
       "    </tr>\n",
       "  </tbody>\n",
       "</table>\n",
       "<p>1 rows × 5 columns</p>\n",
       "</div>"
      ],
      "text/plain": [
       "                                      id  \\\n",
       "11  https://www.nga.gov/collection/76140   \n",
       "\n",
       "                                                place  ...          tgn  \\\n",
       "11  Ornamental Study with Acanthus Motif for \"The ...  ...  tgn/7003006   \n",
       "\n",
       "                 coords  \n",
       "11  45.583333,12.566667  \n",
       "\n",
       "[1 rows x 5 columns]"
      ]
     },
     "metadata": {},
     "output_type": "display_data"
    },
    {
     "name": "stdout",
     "output_type": "stream",
     "text": [
      "Geographical coordinates representation to be added:\n",
      "{\n",
      "  \"@context\": \"https://linked.art/ns/v1/linked-art.json\",\n",
      "  \"id\": \"http://lod.example.org/museum/VisualItem/161\",\n",
      "  \"type\": \"VisualItem\",\n",
      "  \"represents\": [\n",
      "    {\n",
      "      \"id\": \"http://lod.example.org/museum/Place/323\",\n",
      "      \"type\": \"Place\",\n",
      "      \"_label\": \"Ornamental Study with Acanthus Motif for \\\"The Stones of Venice\\\"\",\n",
      "      \"approximated_by\": [\n",
      "        {\n",
      "          \"id\": \"http://lod.example.org/museum/Place/322\",\n",
      "          \"type\": \"Place\",\n",
      "          \"_label\": \"Ornamental Study with Acanthus Motif for \\\"The Stones of Venice\\\"\",\n",
      "          \"defined_by\": \"POINT(45.583333 12.566667)\"\n",
      "        }\n",
      "      ]\n",
      "    }\n",
      "  ]\n",
      "}\n",
      "File updated\n"
     ]
    },
    {
     "data": {
      "text/html": [
       "<h4>The Exterior of the Ducal Palace, Venice</h4>"
      ],
      "text/plain": [
       "<IPython.core.display.HTML object>"
      ]
     },
     "metadata": {},
     "output_type": "display_data"
    },
    {
     "name": "stdout",
     "output_type": "stream",
     "text": [
      "Matching row in geographical coordinates file for artwork\n"
     ]
    },
    {
     "data": {
      "text/html": [
       "<div>\n",
       "<style scoped>\n",
       "    .dataframe tbody tr th:only-of-type {\n",
       "        vertical-align: middle;\n",
       "    }\n",
       "\n",
       "    .dataframe tbody tr th {\n",
       "        vertical-align: top;\n",
       "    }\n",
       "\n",
       "    .dataframe thead th {\n",
       "        text-align: right;\n",
       "    }\n",
       "</style>\n",
       "<table border=\"1\" class=\"dataframe\">\n",
       "  <thead>\n",
       "    <tr style=\"text-align: right;\">\n",
       "      <th></th>\n",
       "      <th>id</th>\n",
       "      <th>place</th>\n",
       "      <th>...</th>\n",
       "      <th>tgn</th>\n",
       "      <th>coords</th>\n",
       "    </tr>\n",
       "  </thead>\n",
       "  <tbody>\n",
       "    <tr>\n",
       "      <th>12</th>\n",
       "      <td>https://collections.ashmolean.org/collection/1...</td>\n",
       "      <td>The Exterior of the Ducal Palace, Venice</td>\n",
       "      <td>...</td>\n",
       "      <td>tgn/7003006</td>\n",
       "      <td>45.583333,12.566667</td>\n",
       "    </tr>\n",
       "  </tbody>\n",
       "</table>\n",
       "<p>1 rows × 5 columns</p>\n",
       "</div>"
      ],
      "text/plain": [
       "                                                   id  \\\n",
       "12  https://collections.ashmolean.org/collection/1...   \n",
       "\n",
       "                                       place  ...          tgn  \\\n",
       "12  The Exterior of the Ducal Palace, Venice  ...  tgn/7003006   \n",
       "\n",
       "                 coords  \n",
       "12  45.583333,12.566667  \n",
       "\n",
       "[1 rows x 5 columns]"
      ]
     },
     "metadata": {},
     "output_type": "display_data"
    },
    {
     "name": "stdout",
     "output_type": "stream",
     "text": [
      "Geographical coordinates representation to be added:\n",
      "{\n",
      "  \"@context\": \"https://linked.art/ns/v1/linked-art.json\",\n",
      "  \"id\": \"http://lod.example.org/museum/VisualItem/162\",\n",
      "  \"type\": \"VisualItem\",\n",
      "  \"represents\": [\n",
      "    {\n",
      "      \"id\": \"http://lod.example.org/museum/Place/325\",\n",
      "      \"type\": \"Place\",\n",
      "      \"_label\": \"The Exterior of the Ducal Palace, Venice\",\n",
      "      \"approximated_by\": [\n",
      "        {\n",
      "          \"id\": \"http://lod.example.org/museum/Place/324\",\n",
      "          \"type\": \"Place\",\n",
      "          \"_label\": \"The Exterior of the Ducal Palace, Venice\",\n",
      "          \"defined_by\": \"POINT(45.583333 12.566667)\"\n",
      "        }\n",
      "      ]\n",
      "    }\n",
      "  ]\n",
      "}\n",
      "File updated\n"
     ]
    },
    {
     "data": {
      "text/html": [
       "<h4>Study for General Chiaroscuro of the Sarcophagus and Canopy of the Tomb of Mastino II della Scala at Verona</h4>"
      ],
      "text/plain": [
       "<IPython.core.display.HTML object>"
      ]
     },
     "metadata": {},
     "output_type": "display_data"
    },
    {
     "name": "stdout",
     "output_type": "stream",
     "text": [
      "Matching row in geographical coordinates file for artwork\n"
     ]
    },
    {
     "data": {
      "text/html": [
       "<div>\n",
       "<style scoped>\n",
       "    .dataframe tbody tr th:only-of-type {\n",
       "        vertical-align: middle;\n",
       "    }\n",
       "\n",
       "    .dataframe tbody tr th {\n",
       "        vertical-align: top;\n",
       "    }\n",
       "\n",
       "    .dataframe thead th {\n",
       "        text-align: right;\n",
       "    }\n",
       "</style>\n",
       "<table border=\"1\" class=\"dataframe\">\n",
       "  <thead>\n",
       "    <tr style=\"text-align: right;\">\n",
       "      <th></th>\n",
       "      <th>id</th>\n",
       "      <th>place</th>\n",
       "      <th>...</th>\n",
       "      <th>tgn</th>\n",
       "      <th>coords</th>\n",
       "    </tr>\n",
       "  </thead>\n",
       "  <tbody>\n",
       "    <tr>\n",
       "      <th>66</th>\n",
       "      <td>https://collections.ashmolean.org/collection/1...</td>\n",
       "      <td>Study for General Chiaroscuro of the Sarcophag...</td>\n",
       "      <td>...</td>\n",
       "      <td>tgn/7003262</td>\n",
       "      <td>45.45,11</td>\n",
       "    </tr>\n",
       "  </tbody>\n",
       "</table>\n",
       "<p>1 rows × 5 columns</p>\n",
       "</div>"
      ],
      "text/plain": [
       "                                                   id  \\\n",
       "66  https://collections.ashmolean.org/collection/1...   \n",
       "\n",
       "                                                place  ...          tgn  \\\n",
       "66  Study for General Chiaroscuro of the Sarcophag...  ...  tgn/7003262   \n",
       "\n",
       "      coords  \n",
       "66  45.45,11  \n",
       "\n",
       "[1 rows x 5 columns]"
      ]
     },
     "metadata": {},
     "output_type": "display_data"
    },
    {
     "name": "stdout",
     "output_type": "stream",
     "text": [
      "Geographical coordinates representation to be added:\n",
      "{\n",
      "  \"@context\": \"https://linked.art/ns/v1/linked-art.json\",\n",
      "  \"id\": \"http://lod.example.org/museum/VisualItem/163\",\n",
      "  \"type\": \"VisualItem\",\n",
      "  \"represents\": [\n",
      "    {\n",
      "      \"id\": \"http://lod.example.org/museum/Place/327\",\n",
      "      \"type\": \"Place\",\n",
      "      \"_label\": \"Study for General Chiaroscuro of the Sarcophagus and Canopy of the Tomb of Mastino II della Scala at Verona\",\n",
      "      \"approximated_by\": [\n",
      "        {\n",
      "          \"id\": \"http://lod.example.org/museum/Place/326\",\n",
      "          \"type\": \"Place\",\n",
      "          \"_label\": \"Study for General Chiaroscuro of the Sarcophagus and Canopy of the Tomb of Mastino II della Scala at Verona\",\n",
      "          \"defined_by\": \"POINT(45.45 11)\"\n",
      "        }\n",
      "      ]\n",
      "    }\n",
      "  ]\n",
      "}\n",
      "File updated\n"
     ]
    },
    {
     "data": {
      "text/html": [
       "<h4>Study of one of the Pinnacles of the Tomb of Mastino II della Scala, Verona</h4>"
      ],
      "text/plain": [
       "<IPython.core.display.HTML object>"
      ]
     },
     "metadata": {},
     "output_type": "display_data"
    },
    {
     "name": "stdout",
     "output_type": "stream",
     "text": [
      "Matching row in geographical coordinates file for artwork\n"
     ]
    },
    {
     "data": {
      "text/html": [
       "<div>\n",
       "<style scoped>\n",
       "    .dataframe tbody tr th:only-of-type {\n",
       "        vertical-align: middle;\n",
       "    }\n",
       "\n",
       "    .dataframe tbody tr th {\n",
       "        vertical-align: top;\n",
       "    }\n",
       "\n",
       "    .dataframe thead th {\n",
       "        text-align: right;\n",
       "    }\n",
       "</style>\n",
       "<table border=\"1\" class=\"dataframe\">\n",
       "  <thead>\n",
       "    <tr style=\"text-align: right;\">\n",
       "      <th></th>\n",
       "      <th>id</th>\n",
       "      <th>place</th>\n",
       "      <th>...</th>\n",
       "      <th>tgn</th>\n",
       "      <th>coords</th>\n",
       "    </tr>\n",
       "  </thead>\n",
       "  <tbody>\n",
       "    <tr>\n",
       "      <th>67</th>\n",
       "      <td>https://collections.ashmolean.org/collection/1...</td>\n",
       "      <td>Study of one of the Pinnacles of the Tomb of M...</td>\n",
       "      <td>...</td>\n",
       "      <td>tgn/7003262</td>\n",
       "      <td>45.45,11</td>\n",
       "    </tr>\n",
       "  </tbody>\n",
       "</table>\n",
       "<p>1 rows × 5 columns</p>\n",
       "</div>"
      ],
      "text/plain": [
       "                                                   id  \\\n",
       "67  https://collections.ashmolean.org/collection/1...   \n",
       "\n",
       "                                                place  ...          tgn  \\\n",
       "67  Study of one of the Pinnacles of the Tomb of M...  ...  tgn/7003262   \n",
       "\n",
       "      coords  \n",
       "67  45.45,11  \n",
       "\n",
       "[1 rows x 5 columns]"
      ]
     },
     "metadata": {},
     "output_type": "display_data"
    },
    {
     "name": "stdout",
     "output_type": "stream",
     "text": [
      "Geographical coordinates representation to be added:\n",
      "{\n",
      "  \"@context\": \"https://linked.art/ns/v1/linked-art.json\",\n",
      "  \"id\": \"http://lod.example.org/museum/VisualItem/164\",\n",
      "  \"type\": \"VisualItem\",\n",
      "  \"represents\": [\n",
      "    {\n",
      "      \"id\": \"http://lod.example.org/museum/Place/329\",\n",
      "      \"type\": \"Place\",\n",
      "      \"_label\": \"Study of one of the Pinnacles of the Tomb of Mastino II della Scala, Verona\",\n",
      "      \"approximated_by\": [\n",
      "        {\n",
      "          \"id\": \"http://lod.example.org/museum/Place/328\",\n",
      "          \"type\": \"Place\",\n",
      "          \"_label\": \"Study of one of the Pinnacles of the Tomb of Mastino II della Scala, Verona\",\n",
      "          \"defined_by\": \"POINT(45.45 11)\"\n",
      "        }\n",
      "      ]\n",
      "    }\n",
      "  ]\n",
      "}\n",
      "File updated\n"
     ]
    },
    {
     "data": {
      "text/html": [
       "<h4>Lake of Zug</h4>"
      ],
      "text/plain": [
       "<IPython.core.display.HTML object>"
      ]
     },
     "metadata": {},
     "output_type": "display_data"
    },
    {
     "name": "stdout",
     "output_type": "stream",
     "text": [
      "Matching row in geographical coordinates file for artwork\n"
     ]
    },
    {
     "data": {
      "text/html": [
       "<div>\n",
       "<style scoped>\n",
       "    .dataframe tbody tr th:only-of-type {\n",
       "        vertical-align: middle;\n",
       "    }\n",
       "\n",
       "    .dataframe tbody tr th {\n",
       "        vertical-align: top;\n",
       "    }\n",
       "\n",
       "    .dataframe thead th {\n",
       "        text-align: right;\n",
       "    }\n",
       "</style>\n",
       "<table border=\"1\" class=\"dataframe\">\n",
       "  <thead>\n",
       "    <tr style=\"text-align: right;\">\n",
       "      <th></th>\n",
       "      <th>id</th>\n",
       "      <th>place</th>\n",
       "      <th>...</th>\n",
       "      <th>tgn</th>\n",
       "      <th>coords</th>\n",
       "    </tr>\n",
       "  </thead>\n",
       "  <tbody>\n",
       "    <tr>\n",
       "      <th>98</th>\n",
       "      <td>https://www.harvardartmuseums.org/collections/...</td>\n",
       "      <td>Lake of Zug</td>\n",
       "      <td>...</td>\n",
       "      <td>tgn/7074719</td>\n",
       "      <td>50.883333,13.35</td>\n",
       "    </tr>\n",
       "  </tbody>\n",
       "</table>\n",
       "<p>1 rows × 5 columns</p>\n",
       "</div>"
      ],
      "text/plain": [
       "                                                   id        place  ...  \\\n",
       "98  https://www.harvardartmuseums.org/collections/...  Lake of Zug  ...   \n",
       "\n",
       "            tgn           coords  \n",
       "98  tgn/7074719  50.883333,13.35  \n",
       "\n",
       "[1 rows x 5 columns]"
      ]
     },
     "metadata": {},
     "output_type": "display_data"
    },
    {
     "name": "stdout",
     "output_type": "stream",
     "text": [
      "Geographical coordinates representation to be added:\n",
      "{\n",
      "  \"@context\": \"https://linked.art/ns/v1/linked-art.json\",\n",
      "  \"id\": \"http://lod.example.org/museum/VisualItem/165\",\n",
      "  \"type\": \"VisualItem\",\n",
      "  \"represents\": [\n",
      "    {\n",
      "      \"id\": \"http://lod.example.org/museum/Place/331\",\n",
      "      \"type\": \"Place\",\n",
      "      \"_label\": \"Lake of Zug\",\n",
      "      \"approximated_by\": [\n",
      "        {\n",
      "          \"id\": \"http://lod.example.org/museum/Place/330\",\n",
      "          \"type\": \"Place\",\n",
      "          \"_label\": \"Lake of Zug\",\n",
      "          \"defined_by\": \"POINT(50.883333 13.35)\"\n",
      "        }\n",
      "      ]\n",
      "    }\n",
      "  ]\n",
      "}\n",
      "File updated\n"
     ]
    },
    {
     "data": {
      "text/html": [
       "<h4>Boat and Sketches of Two Figures, Venice</h4>"
      ],
      "text/plain": [
       "<IPython.core.display.HTML object>"
      ]
     },
     "metadata": {},
     "output_type": "display_data"
    },
    {
     "name": "stdout",
     "output_type": "stream",
     "text": [
      "Matching row in geographical coordinates file for artwork\n"
     ]
    },
    {
     "data": {
      "text/html": [
       "<div>\n",
       "<style scoped>\n",
       "    .dataframe tbody tr th:only-of-type {\n",
       "        vertical-align: middle;\n",
       "    }\n",
       "\n",
       "    .dataframe tbody tr th {\n",
       "        vertical-align: top;\n",
       "    }\n",
       "\n",
       "    .dataframe thead th {\n",
       "        text-align: right;\n",
       "    }\n",
       "</style>\n",
       "<table border=\"1\" class=\"dataframe\">\n",
       "  <thead>\n",
       "    <tr style=\"text-align: right;\">\n",
       "      <th></th>\n",
       "      <th>id</th>\n",
       "      <th>place</th>\n",
       "      <th>...</th>\n",
       "      <th>tgn</th>\n",
       "      <th>coords</th>\n",
       "    </tr>\n",
       "  </thead>\n",
       "  <tbody>\n",
       "    <tr>\n",
       "      <th>13</th>\n",
       "      <td>https://www.harvardartmuseums.org/collections/...</td>\n",
       "      <td>Boat and Sketches of Two Figures, Venice</td>\n",
       "      <td>...</td>\n",
       "      <td>tgn/7003006</td>\n",
       "      <td>45.583333,12.566667</td>\n",
       "    </tr>\n",
       "  </tbody>\n",
       "</table>\n",
       "<p>1 rows × 5 columns</p>\n",
       "</div>"
      ],
      "text/plain": [
       "                                                   id  \\\n",
       "13  https://www.harvardartmuseums.org/collections/...   \n",
       "\n",
       "                                       place  ...          tgn  \\\n",
       "13  Boat and Sketches of Two Figures, Venice  ...  tgn/7003006   \n",
       "\n",
       "                 coords  \n",
       "13  45.583333,12.566667  \n",
       "\n",
       "[1 rows x 5 columns]"
      ]
     },
     "metadata": {},
     "output_type": "display_data"
    },
    {
     "name": "stdout",
     "output_type": "stream",
     "text": [
      "Geographical coordinates representation to be added:\n",
      "{\n",
      "  \"@context\": \"https://linked.art/ns/v1/linked-art.json\",\n",
      "  \"id\": \"http://lod.example.org/museum/VisualItem/166\",\n",
      "  \"type\": \"VisualItem\",\n",
      "  \"represents\": [\n",
      "    {\n",
      "      \"id\": \"http://lod.example.org/museum/Place/333\",\n",
      "      \"type\": \"Place\",\n",
      "      \"_label\": \"Boat and Sketches of Two Figures, Venice\",\n",
      "      \"approximated_by\": [\n",
      "        {\n",
      "          \"id\": \"http://lod.example.org/museum/Place/332\",\n",
      "          \"type\": \"Place\",\n",
      "          \"_label\": \"Boat and Sketches of Two Figures, Venice\",\n",
      "          \"defined_by\": \"POINT(45.583333 12.566667)\"\n",
      "        }\n",
      "      ]\n",
      "    }\n",
      "  ]\n",
      "}\n",
      "File updated\n"
     ]
    },
    {
     "data": {
      "text/html": [
       "<h4>Swiss tower at Fribourg</h4>"
      ],
      "text/plain": [
       "<IPython.core.display.HTML object>"
      ]
     },
     "metadata": {},
     "output_type": "display_data"
    },
    {
     "name": "stdout",
     "output_type": "stream",
     "text": [
      "Matching row in geographical coordinates file for artwork\n"
     ]
    },
    {
     "data": {
      "text/html": [
       "<div>\n",
       "<style scoped>\n",
       "    .dataframe tbody tr th:only-of-type {\n",
       "        vertical-align: middle;\n",
       "    }\n",
       "\n",
       "    .dataframe tbody tr th {\n",
       "        vertical-align: top;\n",
       "    }\n",
       "\n",
       "    .dataframe thead th {\n",
       "        text-align: right;\n",
       "    }\n",
       "</style>\n",
       "<table border=\"1\" class=\"dataframe\">\n",
       "  <thead>\n",
       "    <tr style=\"text-align: right;\">\n",
       "      <th></th>\n",
       "      <th>id</th>\n",
       "      <th>place</th>\n",
       "      <th>...</th>\n",
       "      <th>tgn</th>\n",
       "      <th>coords</th>\n",
       "    </tr>\n",
       "  </thead>\n",
       "  <tbody>\n",
       "    <tr>\n",
       "      <th>107</th>\n",
       "      <td>https://collections.ashmolean.org/collection/1...</td>\n",
       "      <td>Swiss tower at Fribourg</td>\n",
       "      <td>...</td>\n",
       "      <td>tgn/7645603</td>\n",
       "      <td>48.767697,6.855842</td>\n",
       "    </tr>\n",
       "  </tbody>\n",
       "</table>\n",
       "<p>1 rows × 5 columns</p>\n",
       "</div>"
      ],
      "text/plain": [
       "                                                    id  \\\n",
       "107  https://collections.ashmolean.org/collection/1...   \n",
       "\n",
       "                       place  ...          tgn              coords  \n",
       "107  Swiss tower at Fribourg  ...  tgn/7645603  48.767697,6.855842  \n",
       "\n",
       "[1 rows x 5 columns]"
      ]
     },
     "metadata": {},
     "output_type": "display_data"
    },
    {
     "name": "stdout",
     "output_type": "stream",
     "text": [
      "Geographical coordinates representation to be added:\n",
      "{\n",
      "  \"@context\": \"https://linked.art/ns/v1/linked-art.json\",\n",
      "  \"id\": \"http://lod.example.org/museum/VisualItem/167\",\n",
      "  \"type\": \"VisualItem\",\n",
      "  \"represents\": [\n",
      "    {\n",
      "      \"id\": \"http://lod.example.org/museum/Place/335\",\n",
      "      \"type\": \"Place\",\n",
      "      \"_label\": \"Swiss tower at Fribourg\",\n",
      "      \"approximated_by\": [\n",
      "        {\n",
      "          \"id\": \"http://lod.example.org/museum/Place/334\",\n",
      "          \"type\": \"Place\",\n",
      "          \"_label\": \"Swiss tower at Fribourg\",\n",
      "          \"defined_by\": \"POINT(48.767697 6.855842)\"\n",
      "        }\n",
      "      ]\n",
      "    }\n",
      "  ]\n",
      "}\n",
      "File updated\n"
     ]
    },
    {
     "data": {
      "text/html": [
       "<h4>The Sculpture of a Dragon filling a Quatrefoil on the North Entrance of Rouen Cathedral</h4>"
      ],
      "text/plain": [
       "<IPython.core.display.HTML object>"
      ]
     },
     "metadata": {},
     "output_type": "display_data"
    },
    {
     "name": "stdout",
     "output_type": "stream",
     "text": [
      "Matching row in geographical coordinates file for artwork\n"
     ]
    },
    {
     "data": {
      "text/html": [
       "<div>\n",
       "<style scoped>\n",
       "    .dataframe tbody tr th:only-of-type {\n",
       "        vertical-align: middle;\n",
       "    }\n",
       "\n",
       "    .dataframe tbody tr th {\n",
       "        vertical-align: top;\n",
       "    }\n",
       "\n",
       "    .dataframe thead th {\n",
       "        text-align: right;\n",
       "    }\n",
       "</style>\n",
       "<table border=\"1\" class=\"dataframe\">\n",
       "  <thead>\n",
       "    <tr style=\"text-align: right;\">\n",
       "      <th></th>\n",
       "      <th>id</th>\n",
       "      <th>place</th>\n",
       "      <th>...</th>\n",
       "      <th>tgn</th>\n",
       "      <th>coords</th>\n",
       "    </tr>\n",
       "  </thead>\n",
       "  <tbody>\n",
       "    <tr>\n",
       "      <th>110</th>\n",
       "      <td>https://collections.ashmolean.org/collection/1...</td>\n",
       "      <td>The Sculpture of a Dragon filling a Quatrefoil...</td>\n",
       "      <td>...</td>\n",
       "      <td>tgn/7610552</td>\n",
       "      <td>49.5,1</td>\n",
       "    </tr>\n",
       "  </tbody>\n",
       "</table>\n",
       "<p>1 rows × 5 columns</p>\n",
       "</div>"
      ],
      "text/plain": [
       "                                                    id  \\\n",
       "110  https://collections.ashmolean.org/collection/1...   \n",
       "\n",
       "                                                 place  ...          tgn  \\\n",
       "110  The Sculpture of a Dragon filling a Quatrefoil...  ...  tgn/7610552   \n",
       "\n",
       "     coords  \n",
       "110  49.5,1  \n",
       "\n",
       "[1 rows x 5 columns]"
      ]
     },
     "metadata": {},
     "output_type": "display_data"
    },
    {
     "name": "stdout",
     "output_type": "stream",
     "text": [
      "Geographical coordinates representation to be added:\n",
      "{\n",
      "  \"@context\": \"https://linked.art/ns/v1/linked-art.json\",\n",
      "  \"id\": \"http://lod.example.org/museum/VisualItem/168\",\n",
      "  \"type\": \"VisualItem\",\n",
      "  \"represents\": [\n",
      "    {\n",
      "      \"id\": \"http://lod.example.org/museum/Place/337\",\n",
      "      \"type\": \"Place\",\n",
      "      \"_label\": \"The Sculpture of a Dragon filling a Quatrefoil on the North Entrance of Rouen Cathedral\",\n",
      "      \"approximated_by\": [\n",
      "        {\n",
      "          \"id\": \"http://lod.example.org/museum/Place/336\",\n",
      "          \"type\": \"Place\",\n",
      "          \"_label\": \"The Sculpture of a Dragon filling a Quatrefoil on the North Entrance of Rouen Cathedral\",\n",
      "          \"defined_by\": \"POINT(49.5 1)\"\n",
      "        }\n",
      "      ]\n",
      "    }\n",
      "  ]\n",
      "}\n",
      "File updated\n"
     ]
    },
    {
     "data": {
      "text/html": [
       "<h4>Design for a window in the University Museum, Oxford</h4>"
      ],
      "text/plain": [
       "<IPython.core.display.HTML object>"
      ]
     },
     "metadata": {},
     "output_type": "display_data"
    },
    {
     "name": "stdout",
     "output_type": "stream",
     "text": [
      "Matching row in geographical coordinates file for artwork\n"
     ]
    },
    {
     "data": {
      "text/html": [
       "<div>\n",
       "<style scoped>\n",
       "    .dataframe tbody tr th:only-of-type {\n",
       "        vertical-align: middle;\n",
       "    }\n",
       "\n",
       "    .dataframe tbody tr th {\n",
       "        vertical-align: top;\n",
       "    }\n",
       "\n",
       "    .dataframe thead th {\n",
       "        text-align: right;\n",
       "    }\n",
       "</style>\n",
       "<table border=\"1\" class=\"dataframe\">\n",
       "  <thead>\n",
       "    <tr style=\"text-align: right;\">\n",
       "      <th></th>\n",
       "      <th>id</th>\n",
       "      <th>place</th>\n",
       "      <th>...</th>\n",
       "      <th>tgn</th>\n",
       "      <th>coords</th>\n",
       "    </tr>\n",
       "  </thead>\n",
       "  <tbody>\n",
       "    <tr>\n",
       "      <th>29</th>\n",
       "      <td>https://collections.ashmolean.org/collection/1...</td>\n",
       "      <td>Design for a window in the University Museum, ...</td>\n",
       "      <td>...</td>\n",
       "      <td>tgn/7011931</td>\n",
       "      <td>51.75,-1.25</td>\n",
       "    </tr>\n",
       "  </tbody>\n",
       "</table>\n",
       "<p>1 rows × 5 columns</p>\n",
       "</div>"
      ],
      "text/plain": [
       "                                                   id  \\\n",
       "29  https://collections.ashmolean.org/collection/1...   \n",
       "\n",
       "                                                place  ...          tgn  \\\n",
       "29  Design for a window in the University Museum, ...  ...  tgn/7011931   \n",
       "\n",
       "         coords  \n",
       "29  51.75,-1.25  \n",
       "\n",
       "[1 rows x 5 columns]"
      ]
     },
     "metadata": {},
     "output_type": "display_data"
    },
    {
     "name": "stdout",
     "output_type": "stream",
     "text": [
      "Geographical coordinates representation to be added:\n",
      "{\n",
      "  \"@context\": \"https://linked.art/ns/v1/linked-art.json\",\n",
      "  \"id\": \"http://lod.example.org/museum/VisualItem/169\",\n",
      "  \"type\": \"VisualItem\",\n",
      "  \"represents\": [\n",
      "    {\n",
      "      \"id\": \"http://lod.example.org/museum/Place/339\",\n",
      "      \"type\": \"Place\",\n",
      "      \"_label\": \"Design for a window in the University Museum, Oxford\",\n",
      "      \"approximated_by\": [\n",
      "        {\n",
      "          \"id\": \"http://lod.example.org/museum/Place/338\",\n",
      "          \"type\": \"Place\",\n",
      "          \"_label\": \"Design for a window in the University Museum, Oxford\",\n",
      "          \"defined_by\": \"POINT(51.75 -1.25)\"\n",
      "        }\n",
      "      ]\n",
      "    }\n",
      "  ]\n",
      "}\n",
      "File updated\n"
     ]
    },
    {
     "data": {
      "text/html": [
       "<h4>Fribourg, Switzerland: Pen sketch</h4>"
      ],
      "text/plain": [
       "<IPython.core.display.HTML object>"
      ]
     },
     "metadata": {},
     "output_type": "display_data"
    },
    {
     "name": "stdout",
     "output_type": "stream",
     "text": [
      "Matching row in geographical coordinates file for artwork\n"
     ]
    },
    {
     "data": {
      "text/html": [
       "<div>\n",
       "<style scoped>\n",
       "    .dataframe tbody tr th:only-of-type {\n",
       "        vertical-align: middle;\n",
       "    }\n",
       "\n",
       "    .dataframe tbody tr th {\n",
       "        vertical-align: top;\n",
       "    }\n",
       "\n",
       "    .dataframe thead th {\n",
       "        text-align: right;\n",
       "    }\n",
       "</style>\n",
       "<table border=\"1\" class=\"dataframe\">\n",
       "  <thead>\n",
       "    <tr style=\"text-align: right;\">\n",
       "      <th></th>\n",
       "      <th>id</th>\n",
       "      <th>place</th>\n",
       "      <th>...</th>\n",
       "      <th>tgn</th>\n",
       "      <th>coords</th>\n",
       "    </tr>\n",
       "  </thead>\n",
       "  <tbody>\n",
       "    <tr>\n",
       "      <th>108</th>\n",
       "      <td>https://collections.ashmolean.org/collection/1...</td>\n",
       "      <td>Fribourg, Switzerland: Pen sketch</td>\n",
       "      <td>...</td>\n",
       "      <td>tgn/7645603</td>\n",
       "      <td>48.767697,6.855842</td>\n",
       "    </tr>\n",
       "  </tbody>\n",
       "</table>\n",
       "<p>1 rows × 5 columns</p>\n",
       "</div>"
      ],
      "text/plain": [
       "                                                    id  \\\n",
       "108  https://collections.ashmolean.org/collection/1...   \n",
       "\n",
       "                                 place  ...          tgn              coords  \n",
       "108  Fribourg, Switzerland: Pen sketch  ...  tgn/7645603  48.767697,6.855842  \n",
       "\n",
       "[1 rows x 5 columns]"
      ]
     },
     "metadata": {},
     "output_type": "display_data"
    },
    {
     "name": "stdout",
     "output_type": "stream",
     "text": [
      "Geographical coordinates representation to be added:\n",
      "{\n",
      "  \"@context\": \"https://linked.art/ns/v1/linked-art.json\",\n",
      "  \"id\": \"http://lod.example.org/museum/VisualItem/170\",\n",
      "  \"type\": \"VisualItem\",\n",
      "  \"represents\": [\n",
      "    {\n",
      "      \"id\": \"http://lod.example.org/museum/Place/341\",\n",
      "      \"type\": \"Place\",\n",
      "      \"_label\": \"Fribourg, Switzerland: Pen sketch\",\n",
      "      \"approximated_by\": [\n",
      "        {\n",
      "          \"id\": \"http://lod.example.org/museum/Place/340\",\n",
      "          \"type\": \"Place\",\n",
      "          \"_label\": \"Fribourg, Switzerland: Pen sketch\",\n",
      "          \"defined_by\": \"POINT(48.767697 6.855842)\"\n",
      "        }\n",
      "      ]\n",
      "    }\n",
      "  ]\n",
      "}\n",
      "File updated\n"
     ]
    },
    {
     "data": {
      "text/html": [
       "<h4>Design for a window in the University Museum, Oxford</h4>"
      ],
      "text/plain": [
       "<IPython.core.display.HTML object>"
      ]
     },
     "metadata": {},
     "output_type": "display_data"
    },
    {
     "name": "stdout",
     "output_type": "stream",
     "text": [
      "Matching row in geographical coordinates file for artwork\n"
     ]
    },
    {
     "data": {
      "text/html": [
       "<div>\n",
       "<style scoped>\n",
       "    .dataframe tbody tr th:only-of-type {\n",
       "        vertical-align: middle;\n",
       "    }\n",
       "\n",
       "    .dataframe tbody tr th {\n",
       "        vertical-align: top;\n",
       "    }\n",
       "\n",
       "    .dataframe thead th {\n",
       "        text-align: right;\n",
       "    }\n",
       "</style>\n",
       "<table border=\"1\" class=\"dataframe\">\n",
       "  <thead>\n",
       "    <tr style=\"text-align: right;\">\n",
       "      <th></th>\n",
       "      <th>id</th>\n",
       "      <th>place</th>\n",
       "      <th>...</th>\n",
       "      <th>tgn</th>\n",
       "      <th>coords</th>\n",
       "    </tr>\n",
       "  </thead>\n",
       "  <tbody>\n",
       "    <tr>\n",
       "      <th>30</th>\n",
       "      <td>https://collections.ashmolean.org/collection/1...</td>\n",
       "      <td>Design for a window in the University Museum, ...</td>\n",
       "      <td>...</td>\n",
       "      <td>tgn/7011931</td>\n",
       "      <td>51.75,-1.25</td>\n",
       "    </tr>\n",
       "  </tbody>\n",
       "</table>\n",
       "<p>1 rows × 5 columns</p>\n",
       "</div>"
      ],
      "text/plain": [
       "                                                   id  \\\n",
       "30  https://collections.ashmolean.org/collection/1...   \n",
       "\n",
       "                                                place  ...          tgn  \\\n",
       "30  Design for a window in the University Museum, ...  ...  tgn/7011931   \n",
       "\n",
       "         coords  \n",
       "30  51.75,-1.25  \n",
       "\n",
       "[1 rows x 5 columns]"
      ]
     },
     "metadata": {},
     "output_type": "display_data"
    },
    {
     "name": "stdout",
     "output_type": "stream",
     "text": [
      "Geographical coordinates representation to be added:\n",
      "{\n",
      "  \"@context\": \"https://linked.art/ns/v1/linked-art.json\",\n",
      "  \"id\": \"http://lod.example.org/museum/VisualItem/171\",\n",
      "  \"type\": \"VisualItem\",\n",
      "  \"represents\": [\n",
      "    {\n",
      "      \"id\": \"http://lod.example.org/museum/Place/343\",\n",
      "      \"type\": \"Place\",\n",
      "      \"_label\": \"Design for a window in the University Museum, Oxford\",\n",
      "      \"approximated_by\": [\n",
      "        {\n",
      "          \"id\": \"http://lod.example.org/museum/Place/342\",\n",
      "          \"type\": \"Place\",\n",
      "          \"_label\": \"Design for a window in the University Museum, Oxford\",\n",
      "          \"defined_by\": \"POINT(51.75 -1.25)\"\n",
      "        }\n",
      "      ]\n",
      "    }\n",
      "  ]\n",
      "}\n",
      "File updated\n"
     ]
    },
    {
     "data": {
      "text/html": [
       "<h4>Sketch of 'Modes au Premier', Abbeville</h4>"
      ],
      "text/plain": [
       "<IPython.core.display.HTML object>"
      ]
     },
     "metadata": {},
     "output_type": "display_data"
    },
    {
     "name": "stdout",
     "output_type": "stream",
     "text": [
      "Matching row in geographical coordinates file for artwork\n"
     ]
    },
    {
     "data": {
      "text/html": [
       "<div>\n",
       "<style scoped>\n",
       "    .dataframe tbody tr th:only-of-type {\n",
       "        vertical-align: middle;\n",
       "    }\n",
       "\n",
       "    .dataframe tbody tr th {\n",
       "        vertical-align: top;\n",
       "    }\n",
       "\n",
       "    .dataframe thead th {\n",
       "        text-align: right;\n",
       "    }\n",
       "</style>\n",
       "<table border=\"1\" class=\"dataframe\">\n",
       "  <thead>\n",
       "    <tr style=\"text-align: right;\">\n",
       "      <th></th>\n",
       "      <th>id</th>\n",
       "      <th>place</th>\n",
       "      <th>...</th>\n",
       "      <th>tgn</th>\n",
       "      <th>coords</th>\n",
       "    </tr>\n",
       "  </thead>\n",
       "  <tbody>\n",
       "    <tr>\n",
       "      <th>54</th>\n",
       "      <td>https://collections.ashmolean.org/collection/1...</td>\n",
       "      <td>Sketch of 'Modes au Premier', Abbeville</td>\n",
       "      <td>...</td>\n",
       "      <td>tgn/7668075</td>\n",
       "      <td>50.166667,1.75</td>\n",
       "    </tr>\n",
       "  </tbody>\n",
       "</table>\n",
       "<p>1 rows × 5 columns</p>\n",
       "</div>"
      ],
      "text/plain": [
       "                                                   id  \\\n",
       "54  https://collections.ashmolean.org/collection/1...   \n",
       "\n",
       "                                      place  ...          tgn          coords  \n",
       "54  Sketch of 'Modes au Premier', Abbeville  ...  tgn/7668075  50.166667,1.75  \n",
       "\n",
       "[1 rows x 5 columns]"
      ]
     },
     "metadata": {},
     "output_type": "display_data"
    },
    {
     "name": "stdout",
     "output_type": "stream",
     "text": [
      "Geographical coordinates representation to be added:\n",
      "{\n",
      "  \"@context\": \"https://linked.art/ns/v1/linked-art.json\",\n",
      "  \"id\": \"http://lod.example.org/museum/VisualItem/172\",\n",
      "  \"type\": \"VisualItem\",\n",
      "  \"represents\": [\n",
      "    {\n",
      "      \"id\": \"http://lod.example.org/museum/Place/345\",\n",
      "      \"type\": \"Place\",\n",
      "      \"_label\": \"Sketch of 'Modes au Premier', Abbeville\",\n",
      "      \"approximated_by\": [\n",
      "        {\n",
      "          \"id\": \"http://lod.example.org/museum/Place/344\",\n",
      "          \"type\": \"Place\",\n",
      "          \"_label\": \"Sketch of 'Modes au Premier', Abbeville\",\n",
      "          \"defined_by\": \"POINT(50.166667 1.75)\"\n",
      "        }\n",
      "      ]\n",
      "    }\n",
      "  ]\n",
      "}\n",
      "File updated\n"
     ]
    },
    {
     "data": {
      "text/html": [
       "<h4>View of Luzern from above</h4>"
      ],
      "text/plain": [
       "<IPython.core.display.HTML object>"
      ]
     },
     "metadata": {},
     "output_type": "display_data"
    },
    {
     "name": "stdout",
     "output_type": "stream",
     "text": [
      "Matching row in geographical coordinates file for artwork\n"
     ]
    },
    {
     "data": {
      "text/html": [
       "<div>\n",
       "<style scoped>\n",
       "    .dataframe tbody tr th:only-of-type {\n",
       "        vertical-align: middle;\n",
       "    }\n",
       "\n",
       "    .dataframe tbody tr th {\n",
       "        vertical-align: top;\n",
       "    }\n",
       "\n",
       "    .dataframe thead th {\n",
       "        text-align: right;\n",
       "    }\n",
       "</style>\n",
       "<table border=\"1\" class=\"dataframe\">\n",
       "  <thead>\n",
       "    <tr style=\"text-align: right;\">\n",
       "      <th></th>\n",
       "      <th>id</th>\n",
       "      <th>place</th>\n",
       "      <th>...</th>\n",
       "      <th>tgn</th>\n",
       "      <th>coords</th>\n",
       "    </tr>\n",
       "  </thead>\n",
       "  <tbody>\n",
       "    <tr>\n",
       "      <th>85</th>\n",
       "      <td>https://collections.ashmolean.org/collection/1...</td>\n",
       "      <td>View of Luzern from above</td>\n",
       "      <td>...</td>\n",
       "      <td>tgn/7007280</td>\n",
       "      <td>47.083333,8.266667</td>\n",
       "    </tr>\n",
       "  </tbody>\n",
       "</table>\n",
       "<p>1 rows × 5 columns</p>\n",
       "</div>"
      ],
      "text/plain": [
       "                                                   id  \\\n",
       "85  https://collections.ashmolean.org/collection/1...   \n",
       "\n",
       "                        place  ...          tgn              coords  \n",
       "85  View of Luzern from above  ...  tgn/7007280  47.083333,8.266667  \n",
       "\n",
       "[1 rows x 5 columns]"
      ]
     },
     "metadata": {},
     "output_type": "display_data"
    },
    {
     "name": "stdout",
     "output_type": "stream",
     "text": [
      "Geographical coordinates representation to be added:\n",
      "{\n",
      "  \"@context\": \"https://linked.art/ns/v1/linked-art.json\",\n",
      "  \"id\": \"http://lod.example.org/museum/VisualItem/173\",\n",
      "  \"type\": \"VisualItem\",\n",
      "  \"represents\": [\n",
      "    {\n",
      "      \"id\": \"http://lod.example.org/museum/Place/347\",\n",
      "      \"type\": \"Place\",\n",
      "      \"_label\": \"View of Luzern from above\",\n",
      "      \"approximated_by\": [\n",
      "        {\n",
      "          \"id\": \"http://lod.example.org/museum/Place/346\",\n",
      "          \"type\": \"Place\",\n",
      "          \"_label\": \"View of Luzern from above\",\n",
      "          \"defined_by\": \"POINT(47.083333 8.266667)\"\n",
      "        }\n",
      "      ]\n",
      "    }\n",
      "  ]\n",
      "}\n",
      "File updated\n"
     ]
    },
    {
     "data": {
      "text/html": [
       "<h4>Design for a Window in the University Museum, Oxford</h4>"
      ],
      "text/plain": [
       "<IPython.core.display.HTML object>"
      ]
     },
     "metadata": {},
     "output_type": "display_data"
    },
    {
     "name": "stdout",
     "output_type": "stream",
     "text": [
      "Matching row in geographical coordinates file for artwork\n"
     ]
    },
    {
     "data": {
      "text/html": [
       "<div>\n",
       "<style scoped>\n",
       "    .dataframe tbody tr th:only-of-type {\n",
       "        vertical-align: middle;\n",
       "    }\n",
       "\n",
       "    .dataframe tbody tr th {\n",
       "        vertical-align: top;\n",
       "    }\n",
       "\n",
       "    .dataframe thead th {\n",
       "        text-align: right;\n",
       "    }\n",
       "</style>\n",
       "<table border=\"1\" class=\"dataframe\">\n",
       "  <thead>\n",
       "    <tr style=\"text-align: right;\">\n",
       "      <th></th>\n",
       "      <th>id</th>\n",
       "      <th>place</th>\n",
       "      <th>...</th>\n",
       "      <th>tgn</th>\n",
       "      <th>coords</th>\n",
       "    </tr>\n",
       "  </thead>\n",
       "  <tbody>\n",
       "    <tr>\n",
       "      <th>31</th>\n",
       "      <td>https://collections.ashmolean.org/collection/1...</td>\n",
       "      <td>Design for a Window in the University Museum, ...</td>\n",
       "      <td>...</td>\n",
       "      <td>tgn/7011931</td>\n",
       "      <td>51.75,-1.25</td>\n",
       "    </tr>\n",
       "  </tbody>\n",
       "</table>\n",
       "<p>1 rows × 5 columns</p>\n",
       "</div>"
      ],
      "text/plain": [
       "                                                   id  \\\n",
       "31  https://collections.ashmolean.org/collection/1...   \n",
       "\n",
       "                                                place  ...          tgn  \\\n",
       "31  Design for a Window in the University Museum, ...  ...  tgn/7011931   \n",
       "\n",
       "         coords  \n",
       "31  51.75,-1.25  \n",
       "\n",
       "[1 rows x 5 columns]"
      ]
     },
     "metadata": {},
     "output_type": "display_data"
    },
    {
     "name": "stdout",
     "output_type": "stream",
     "text": [
      "Geographical coordinates representation to be added:\n",
      "{\n",
      "  \"@context\": \"https://linked.art/ns/v1/linked-art.json\",\n",
      "  \"id\": \"http://lod.example.org/museum/VisualItem/174\",\n",
      "  \"type\": \"VisualItem\",\n",
      "  \"represents\": [\n",
      "    {\n",
      "      \"id\": \"http://lod.example.org/museum/Place/349\",\n",
      "      \"type\": \"Place\",\n",
      "      \"_label\": \"Design for a Window in the University Museum, Oxford\",\n",
      "      \"approximated_by\": [\n",
      "        {\n",
      "          \"id\": \"http://lod.example.org/museum/Place/348\",\n",
      "          \"type\": \"Place\",\n",
      "          \"_label\": \"Design for a Window in the University Museum, Oxford\",\n",
      "          \"defined_by\": \"POINT(51.75 -1.25)\"\n",
      "        }\n",
      "      ]\n",
      "    }\n",
      "  ]\n",
      "}\n",
      "File updated\n"
     ]
    },
    {
     "data": {
      "text/html": [
       "<h4>Stone Pines at Sestri, Gulf of Genoa</h4>"
      ],
      "text/plain": [
       "<IPython.core.display.HTML object>"
      ]
     },
     "metadata": {},
     "output_type": "display_data"
    },
    {
     "name": "stdout",
     "output_type": "stream",
     "text": [
      "Matching row in geographical coordinates file for artwork\n"
     ]
    },
    {
     "data": {
      "text/html": [
       "<div>\n",
       "<style scoped>\n",
       "    .dataframe tbody tr th:only-of-type {\n",
       "        vertical-align: middle;\n",
       "    }\n",
       "\n",
       "    .dataframe tbody tr th {\n",
       "        vertical-align: top;\n",
       "    }\n",
       "\n",
       "    .dataframe thead th {\n",
       "        text-align: right;\n",
       "    }\n",
       "</style>\n",
       "<table border=\"1\" class=\"dataframe\">\n",
       "  <thead>\n",
       "    <tr style=\"text-align: right;\">\n",
       "      <th></th>\n",
       "      <th>id</th>\n",
       "      <th>place</th>\n",
       "      <th>...</th>\n",
       "      <th>tgn</th>\n",
       "      <th>coords</th>\n",
       "    </tr>\n",
       "  </thead>\n",
       "  <tbody>\n",
       "    <tr>\n",
       "      <th>102</th>\n",
       "      <td>https://collections.ashmolean.org/collection/1...</td>\n",
       "      <td>Stone Pines at Sestri, Gulf of Genoa</td>\n",
       "      <td>...</td>\n",
       "      <td>tgn/7005335</td>\n",
       "      <td>44.266667,9.4</td>\n",
       "    </tr>\n",
       "  </tbody>\n",
       "</table>\n",
       "<p>1 rows × 5 columns</p>\n",
       "</div>"
      ],
      "text/plain": [
       "                                                    id  \\\n",
       "102  https://collections.ashmolean.org/collection/1...   \n",
       "\n",
       "                                    place  ...          tgn         coords  \n",
       "102  Stone Pines at Sestri, Gulf of Genoa  ...  tgn/7005335  44.266667,9.4  \n",
       "\n",
       "[1 rows x 5 columns]"
      ]
     },
     "metadata": {},
     "output_type": "display_data"
    },
    {
     "name": "stdout",
     "output_type": "stream",
     "text": [
      "Geographical coordinates representation to be added:\n",
      "{\n",
      "  \"@context\": \"https://linked.art/ns/v1/linked-art.json\",\n",
      "  \"id\": \"http://lod.example.org/museum/VisualItem/175\",\n",
      "  \"type\": \"VisualItem\",\n",
      "  \"represents\": [\n",
      "    {\n",
      "      \"id\": \"http://lod.example.org/museum/Place/351\",\n",
      "      \"type\": \"Place\",\n",
      "      \"_label\": \"Stone Pines at Sestri, Gulf of Genoa\",\n",
      "      \"approximated_by\": [\n",
      "        {\n",
      "          \"id\": \"http://lod.example.org/museum/Place/350\",\n",
      "          \"type\": \"Place\",\n",
      "          \"_label\": \"Stone Pines at Sestri, Gulf of Genoa\",\n",
      "          \"defined_by\": \"POINT(44.266667 9.4)\"\n",
      "        }\n",
      "      ]\n",
      "    }\n",
      "  ]\n",
      "}\n",
      "File updated\n"
     ]
    },
    {
     "data": {
      "text/html": [
       "<h4>Studies of Venetian Capitals</h4>"
      ],
      "text/plain": [
       "<IPython.core.display.HTML object>"
      ]
     },
     "metadata": {},
     "output_type": "display_data"
    },
    {
     "name": "stdout",
     "output_type": "stream",
     "text": [
      "Matching row in geographical coordinates file for artwork\n"
     ]
    },
    {
     "data": {
      "text/html": [
       "<div>\n",
       "<style scoped>\n",
       "    .dataframe tbody tr th:only-of-type {\n",
       "        vertical-align: middle;\n",
       "    }\n",
       "\n",
       "    .dataframe tbody tr th {\n",
       "        vertical-align: top;\n",
       "    }\n",
       "\n",
       "    .dataframe thead th {\n",
       "        text-align: right;\n",
       "    }\n",
       "</style>\n",
       "<table border=\"1\" class=\"dataframe\">\n",
       "  <thead>\n",
       "    <tr style=\"text-align: right;\">\n",
       "      <th></th>\n",
       "      <th>id</th>\n",
       "      <th>place</th>\n",
       "      <th>...</th>\n",
       "      <th>tgn</th>\n",
       "      <th>coords</th>\n",
       "    </tr>\n",
       "  </thead>\n",
       "  <tbody>\n",
       "    <tr>\n",
       "      <th>14</th>\n",
       "      <td>https://www.harvardartmuseums.org/collections/...</td>\n",
       "      <td>Studies of Venetian Capitals</td>\n",
       "      <td>...</td>\n",
       "      <td>tgn/7003006</td>\n",
       "      <td>45.583333,12.566667</td>\n",
       "    </tr>\n",
       "  </tbody>\n",
       "</table>\n",
       "<p>1 rows × 5 columns</p>\n",
       "</div>"
      ],
      "text/plain": [
       "                                                   id  \\\n",
       "14  https://www.harvardartmuseums.org/collections/...   \n",
       "\n",
       "                           place  ...          tgn               coords  \n",
       "14  Studies of Venetian Capitals  ...  tgn/7003006  45.583333,12.566667  \n",
       "\n",
       "[1 rows x 5 columns]"
      ]
     },
     "metadata": {},
     "output_type": "display_data"
    },
    {
     "name": "stdout",
     "output_type": "stream",
     "text": [
      "Geographical coordinates representation to be added:\n",
      "{\n",
      "  \"@context\": \"https://linked.art/ns/v1/linked-art.json\",\n",
      "  \"id\": \"http://lod.example.org/museum/VisualItem/176\",\n",
      "  \"type\": \"VisualItem\",\n",
      "  \"represents\": [\n",
      "    {\n",
      "      \"id\": \"http://lod.example.org/museum/Place/353\",\n",
      "      \"type\": \"Place\",\n",
      "      \"_label\": \"Studies of Venetian Capitals\",\n",
      "      \"approximated_by\": [\n",
      "        {\n",
      "          \"id\": \"http://lod.example.org/museum/Place/352\",\n",
      "          \"type\": \"Place\",\n",
      "          \"_label\": \"Studies of Venetian Capitals\",\n",
      "          \"defined_by\": \"POINT(45.583333 12.566667)\"\n",
      "        }\n",
      "      ]\n",
      "    }\n",
      "  ]\n",
      "}\n",
      "File updated\n"
     ]
    },
    {
     "data": {
      "text/html": [
       "<h4>Mountain study: view of the Alps (Aiguilles near Chamonix)</h4>"
      ],
      "text/plain": [
       "<IPython.core.display.HTML object>"
      ]
     },
     "metadata": {},
     "output_type": "display_data"
    },
    {
     "name": "stdout",
     "output_type": "stream",
     "text": [
      "Matching row in geographical coordinates file for artwork\n"
     ]
    },
    {
     "data": {
      "text/html": [
       "<div>\n",
       "<style scoped>\n",
       "    .dataframe tbody tr th:only-of-type {\n",
       "        vertical-align: middle;\n",
       "    }\n",
       "\n",
       "    .dataframe tbody tr th {\n",
       "        vertical-align: top;\n",
       "    }\n",
       "\n",
       "    .dataframe thead th {\n",
       "        text-align: right;\n",
       "    }\n",
       "</style>\n",
       "<table border=\"1\" class=\"dataframe\">\n",
       "  <thead>\n",
       "    <tr style=\"text-align: right;\">\n",
       "      <th></th>\n",
       "      <th>id</th>\n",
       "      <th>place</th>\n",
       "      <th>...</th>\n",
       "      <th>tgn</th>\n",
       "      <th>coords</th>\n",
       "    </tr>\n",
       "  </thead>\n",
       "  <tbody>\n",
       "    <tr>\n",
       "      <th>83</th>\n",
       "      <td>https://collections.ashmolean.org/collection/1...</td>\n",
       "      <td>Mountain study: view of the Alps (Aiguilles ne...</td>\n",
       "      <td>...</td>\n",
       "      <td>tgn/1032562</td>\n",
       "      <td>45.924308,6.867316</td>\n",
       "    </tr>\n",
       "  </tbody>\n",
       "</table>\n",
       "<p>1 rows × 5 columns</p>\n",
       "</div>"
      ],
      "text/plain": [
       "                                                   id  \\\n",
       "83  https://collections.ashmolean.org/collection/1...   \n",
       "\n",
       "                                                place  ...          tgn  \\\n",
       "83  Mountain study: view of the Alps (Aiguilles ne...  ...  tgn/1032562   \n",
       "\n",
       "                coords  \n",
       "83  45.924308,6.867316  \n",
       "\n",
       "[1 rows x 5 columns]"
      ]
     },
     "metadata": {},
     "output_type": "display_data"
    },
    {
     "name": "stdout",
     "output_type": "stream",
     "text": [
      "Geographical coordinates representation to be added:\n",
      "{\n",
      "  \"@context\": \"https://linked.art/ns/v1/linked-art.json\",\n",
      "  \"id\": \"http://lod.example.org/museum/VisualItem/177\",\n",
      "  \"type\": \"VisualItem\",\n",
      "  \"represents\": [\n",
      "    {\n",
      "      \"id\": \"http://lod.example.org/museum/Place/355\",\n",
      "      \"type\": \"Place\",\n",
      "      \"_label\": \"Mountain study: view of the Alps (Aiguilles near Chamonix)\",\n",
      "      \"approximated_by\": [\n",
      "        {\n",
      "          \"id\": \"http://lod.example.org/museum/Place/354\",\n",
      "          \"type\": \"Place\",\n",
      "          \"_label\": \"Mountain study: view of the Alps (Aiguilles near Chamonix)\",\n",
      "          \"defined_by\": \"POINT(45.924308 6.867316)\"\n",
      "        }\n",
      "      ]\n",
      "    }\n",
      "  ]\n",
      "}\n",
      "File updated\n"
     ]
    },
    {
     "data": {
      "text/html": [
       "<h4>Town of Schaffhausen: Castle and Turrets</h4>"
      ],
      "text/plain": [
       "<IPython.core.display.HTML object>"
      ]
     },
     "metadata": {},
     "output_type": "display_data"
    },
    {
     "name": "stdout",
     "output_type": "stream",
     "text": [
      "Matching row in geographical coordinates file for artwork\n"
     ]
    },
    {
     "data": {
      "text/html": [
       "<div>\n",
       "<style scoped>\n",
       "    .dataframe tbody tr th:only-of-type {\n",
       "        vertical-align: middle;\n",
       "    }\n",
       "\n",
       "    .dataframe tbody tr th {\n",
       "        vertical-align: top;\n",
       "    }\n",
       "\n",
       "    .dataframe thead th {\n",
       "        text-align: right;\n",
       "    }\n",
       "</style>\n",
       "<table border=\"1\" class=\"dataframe\">\n",
       "  <thead>\n",
       "    <tr style=\"text-align: right;\">\n",
       "      <th></th>\n",
       "      <th>id</th>\n",
       "      <th>place</th>\n",
       "      <th>...</th>\n",
       "      <th>tgn</th>\n",
       "      <th>coords</th>\n",
       "    </tr>\n",
       "  </thead>\n",
       "  <tbody>\n",
       "    <tr>\n",
       "      <th>76</th>\n",
       "      <td>https://www.harvardartmuseums.org/collections/...</td>\n",
       "      <td>Town of Schaffhausen: Castle and Turrets</td>\n",
       "      <td>...</td>\n",
       "      <td>tgn/7106737</td>\n",
       "      <td>49.266667,6.816667</td>\n",
       "    </tr>\n",
       "  </tbody>\n",
       "</table>\n",
       "<p>1 rows × 5 columns</p>\n",
       "</div>"
      ],
      "text/plain": [
       "                                                   id  \\\n",
       "76  https://www.harvardartmuseums.org/collections/...   \n",
       "\n",
       "                                       place  ...          tgn  \\\n",
       "76  Town of Schaffhausen: Castle and Turrets  ...  tgn/7106737   \n",
       "\n",
       "                coords  \n",
       "76  49.266667,6.816667  \n",
       "\n",
       "[1 rows x 5 columns]"
      ]
     },
     "metadata": {},
     "output_type": "display_data"
    },
    {
     "name": "stdout",
     "output_type": "stream",
     "text": [
      "Geographical coordinates representation to be added:\n",
      "{\n",
      "  \"@context\": \"https://linked.art/ns/v1/linked-art.json\",\n",
      "  \"id\": \"http://lod.example.org/museum/VisualItem/178\",\n",
      "  \"type\": \"VisualItem\",\n",
      "  \"represents\": [\n",
      "    {\n",
      "      \"id\": \"http://lod.example.org/museum/Place/357\",\n",
      "      \"type\": \"Place\",\n",
      "      \"_label\": \"Town of Schaffhausen: Castle and Turrets\",\n",
      "      \"approximated_by\": [\n",
      "        {\n",
      "          \"id\": \"http://lod.example.org/museum/Place/356\",\n",
      "          \"type\": \"Place\",\n",
      "          \"_label\": \"Town of Schaffhausen: Castle and Turrets\",\n",
      "          \"defined_by\": \"POINT(49.266667 6.816667)\"\n",
      "        }\n",
      "      ]\n",
      "    }\n",
      "  ]\n",
      "}\n",
      "File updated\n"
     ]
    },
    {
     "data": {
      "text/html": [
       "<h4>Study of a Capital of one of the Upper Pinnacles of the Tomb of Cansignorio della Scala, Verona</h4>"
      ],
      "text/plain": [
       "<IPython.core.display.HTML object>"
      ]
     },
     "metadata": {},
     "output_type": "display_data"
    },
    {
     "name": "stdout",
     "output_type": "stream",
     "text": [
      "Matching row in geographical coordinates file for artwork\n"
     ]
    },
    {
     "data": {
      "text/html": [
       "<div>\n",
       "<style scoped>\n",
       "    .dataframe tbody tr th:only-of-type {\n",
       "        vertical-align: middle;\n",
       "    }\n",
       "\n",
       "    .dataframe tbody tr th {\n",
       "        vertical-align: top;\n",
       "    }\n",
       "\n",
       "    .dataframe thead th {\n",
       "        text-align: right;\n",
       "    }\n",
       "</style>\n",
       "<table border=\"1\" class=\"dataframe\">\n",
       "  <thead>\n",
       "    <tr style=\"text-align: right;\">\n",
       "      <th></th>\n",
       "      <th>id</th>\n",
       "      <th>place</th>\n",
       "      <th>...</th>\n",
       "      <th>tgn</th>\n",
       "      <th>coords</th>\n",
       "    </tr>\n",
       "  </thead>\n",
       "  <tbody>\n",
       "    <tr>\n",
       "      <th>68</th>\n",
       "      <td>https://collections.ashmolean.org/collection/1...</td>\n",
       "      <td>Study of a Capital of one of the Upper Pinnacl...</td>\n",
       "      <td>...</td>\n",
       "      <td>tgn/7003262</td>\n",
       "      <td>45.45,11</td>\n",
       "    </tr>\n",
       "  </tbody>\n",
       "</table>\n",
       "<p>1 rows × 5 columns</p>\n",
       "</div>"
      ],
      "text/plain": [
       "                                                   id  \\\n",
       "68  https://collections.ashmolean.org/collection/1...   \n",
       "\n",
       "                                                place  ...          tgn  \\\n",
       "68  Study of a Capital of one of the Upper Pinnacl...  ...  tgn/7003262   \n",
       "\n",
       "      coords  \n",
       "68  45.45,11  \n",
       "\n",
       "[1 rows x 5 columns]"
      ]
     },
     "metadata": {},
     "output_type": "display_data"
    },
    {
     "name": "stdout",
     "output_type": "stream",
     "text": [
      "Geographical coordinates representation to be added:\n",
      "{\n",
      "  \"@context\": \"https://linked.art/ns/v1/linked-art.json\",\n",
      "  \"id\": \"http://lod.example.org/museum/VisualItem/179\",\n",
      "  \"type\": \"VisualItem\",\n",
      "  \"represents\": [\n",
      "    {\n",
      "      \"id\": \"http://lod.example.org/museum/Place/359\",\n",
      "      \"type\": \"Place\",\n",
      "      \"_label\": \"Study of a Capital of one of the Upper Pinnacles of the Tomb of Cansignorio della Scala, Verona\",\n",
      "      \"approximated_by\": [\n",
      "        {\n",
      "          \"id\": \"http://lod.example.org/museum/Place/358\",\n",
      "          \"type\": \"Place\",\n",
      "          \"_label\": \"Study of a Capital of one of the Upper Pinnacles of the Tomb of Cansignorio della Scala, Verona\",\n",
      "          \"defined_by\": \"POINT(45.45 11)\"\n",
      "        }\n",
      "      ]\n",
      "    }\n",
      "  ]\n",
      "}\n",
      "File updated\n"
     ]
    },
    {
     "data": {
      "text/html": [
       "<h4>Scene on the Rhine</h4>"
      ],
      "text/plain": [
       "<IPython.core.display.HTML object>"
      ]
     },
     "metadata": {},
     "output_type": "display_data"
    },
    {
     "name": "stdout",
     "output_type": "stream",
     "text": [
      "Matching row in geographical coordinates file for artwork\n"
     ]
    },
    {
     "data": {
      "text/html": [
       "<div>\n",
       "<style scoped>\n",
       "    .dataframe tbody tr th:only-of-type {\n",
       "        vertical-align: middle;\n",
       "    }\n",
       "\n",
       "    .dataframe tbody tr th {\n",
       "        vertical-align: top;\n",
       "    }\n",
       "\n",
       "    .dataframe thead th {\n",
       "        text-align: right;\n",
       "    }\n",
       "</style>\n",
       "<table border=\"1\" class=\"dataframe\">\n",
       "  <thead>\n",
       "    <tr style=\"text-align: right;\">\n",
       "      <th></th>\n",
       "      <th>id</th>\n",
       "      <th>place</th>\n",
       "      <th>...</th>\n",
       "      <th>tgn</th>\n",
       "      <th>coords</th>\n",
       "    </tr>\n",
       "  </thead>\n",
       "  <tbody>\n",
       "    <tr>\n",
       "      <th>111</th>\n",
       "      <td>https://www.harvardartmuseums.org/collections/...</td>\n",
       "      <td>Scene on the Rhine</td>\n",
       "      <td>...</td>\n",
       "      <td>tgn/7012611</td>\n",
       "      <td>51.98404,4.08245</td>\n",
       "    </tr>\n",
       "  </tbody>\n",
       "</table>\n",
       "<p>1 rows × 5 columns</p>\n",
       "</div>"
      ],
      "text/plain": [
       "                                                    id               place  \\\n",
       "111  https://www.harvardartmuseums.org/collections/...  Scene on the Rhine   \n",
       "\n",
       "     ...          tgn            coords  \n",
       "111  ...  tgn/7012611  51.98404,4.08245  \n",
       "\n",
       "[1 rows x 5 columns]"
      ]
     },
     "metadata": {},
     "output_type": "display_data"
    },
    {
     "name": "stdout",
     "output_type": "stream",
     "text": [
      "Geographical coordinates representation to be added:\n",
      "{\n",
      "  \"@context\": \"https://linked.art/ns/v1/linked-art.json\",\n",
      "  \"id\": \"http://lod.example.org/museum/VisualItem/180\",\n",
      "  \"type\": \"VisualItem\",\n",
      "  \"represents\": [\n",
      "    {\n",
      "      \"id\": \"http://lod.example.org/museum/Place/361\",\n",
      "      \"type\": \"Place\",\n",
      "      \"_label\": \"Scene on the Rhine\",\n",
      "      \"approximated_by\": [\n",
      "        {\n",
      "          \"id\": \"http://lod.example.org/museum/Place/360\",\n",
      "          \"type\": \"Place\",\n",
      "          \"_label\": \"Scene on the Rhine\",\n",
      "          \"defined_by\": \"POINT(51.98404 4.08245)\"\n",
      "        }\n",
      "      ]\n",
      "    }\n",
      "  ]\n",
      "}\n",
      "File updated\n"
     ]
    },
    {
     "data": {
      "text/html": [
       "<h4>Study of the Tomb of Can Grande della Scala at Verona</h4>"
      ],
      "text/plain": [
       "<IPython.core.display.HTML object>"
      ]
     },
     "metadata": {},
     "output_type": "display_data"
    },
    {
     "name": "stdout",
     "output_type": "stream",
     "text": [
      "Matching row in geographical coordinates file for artwork\n"
     ]
    },
    {
     "data": {
      "text/html": [
       "<div>\n",
       "<style scoped>\n",
       "    .dataframe tbody tr th:only-of-type {\n",
       "        vertical-align: middle;\n",
       "    }\n",
       "\n",
       "    .dataframe tbody tr th {\n",
       "        vertical-align: top;\n",
       "    }\n",
       "\n",
       "    .dataframe thead th {\n",
       "        text-align: right;\n",
       "    }\n",
       "</style>\n",
       "<table border=\"1\" class=\"dataframe\">\n",
       "  <thead>\n",
       "    <tr style=\"text-align: right;\">\n",
       "      <th></th>\n",
       "      <th>id</th>\n",
       "      <th>place</th>\n",
       "      <th>...</th>\n",
       "      <th>tgn</th>\n",
       "      <th>coords</th>\n",
       "    </tr>\n",
       "  </thead>\n",
       "  <tbody>\n",
       "    <tr>\n",
       "      <th>69</th>\n",
       "      <td>https://collections.ashmolean.org/collection/1...</td>\n",
       "      <td>Study of the Tomb of Can Grande della Scala at...</td>\n",
       "      <td>...</td>\n",
       "      <td>tgn/7003262</td>\n",
       "      <td>45.45,11</td>\n",
       "    </tr>\n",
       "  </tbody>\n",
       "</table>\n",
       "<p>1 rows × 5 columns</p>\n",
       "</div>"
      ],
      "text/plain": [
       "                                                   id  \\\n",
       "69  https://collections.ashmolean.org/collection/1...   \n",
       "\n",
       "                                                place  ...          tgn  \\\n",
       "69  Study of the Tomb of Can Grande della Scala at...  ...  tgn/7003262   \n",
       "\n",
       "      coords  \n",
       "69  45.45,11  \n",
       "\n",
       "[1 rows x 5 columns]"
      ]
     },
     "metadata": {},
     "output_type": "display_data"
    },
    {
     "name": "stdout",
     "output_type": "stream",
     "text": [
      "Geographical coordinates representation to be added:\n",
      "{\n",
      "  \"@context\": \"https://linked.art/ns/v1/linked-art.json\",\n",
      "  \"id\": \"http://lod.example.org/museum/VisualItem/181\",\n",
      "  \"type\": \"VisualItem\",\n",
      "  \"represents\": [\n",
      "    {\n",
      "      \"id\": \"http://lod.example.org/museum/Place/363\",\n",
      "      \"type\": \"Place\",\n",
      "      \"_label\": \"Study of the Tomb of Can Grande della Scala at Verona\",\n",
      "      \"approximated_by\": [\n",
      "        {\n",
      "          \"id\": \"http://lod.example.org/museum/Place/362\",\n",
      "          \"type\": \"Place\",\n",
      "          \"_label\": \"Study of the Tomb of Can Grande della Scala at Verona\",\n",
      "          \"defined_by\": \"POINT(45.45 11)\"\n",
      "        }\n",
      "      ]\n",
      "    }\n",
      "  ]\n",
      "}\n",
      "File updated\n"
     ]
    },
    {
     "data": {
      "text/html": [
       "<h4>Design for a window in the University Museum, Oxford</h4>"
      ],
      "text/plain": [
       "<IPython.core.display.HTML object>"
      ]
     },
     "metadata": {},
     "output_type": "display_data"
    },
    {
     "name": "stdout",
     "output_type": "stream",
     "text": [
      "Matching row in geographical coordinates file for artwork\n"
     ]
    },
    {
     "data": {
      "text/html": [
       "<div>\n",
       "<style scoped>\n",
       "    .dataframe tbody tr th:only-of-type {\n",
       "        vertical-align: middle;\n",
       "    }\n",
       "\n",
       "    .dataframe tbody tr th {\n",
       "        vertical-align: top;\n",
       "    }\n",
       "\n",
       "    .dataframe thead th {\n",
       "        text-align: right;\n",
       "    }\n",
       "</style>\n",
       "<table border=\"1\" class=\"dataframe\">\n",
       "  <thead>\n",
       "    <tr style=\"text-align: right;\">\n",
       "      <th></th>\n",
       "      <th>id</th>\n",
       "      <th>place</th>\n",
       "      <th>...</th>\n",
       "      <th>tgn</th>\n",
       "      <th>coords</th>\n",
       "    </tr>\n",
       "  </thead>\n",
       "  <tbody>\n",
       "    <tr>\n",
       "      <th>32</th>\n",
       "      <td>https://collections.ashmolean.org/collection/1...</td>\n",
       "      <td>Design for a window in the University Museum, ...</td>\n",
       "      <td>...</td>\n",
       "      <td>tgn/7011931</td>\n",
       "      <td>51.75,-1.25</td>\n",
       "    </tr>\n",
       "  </tbody>\n",
       "</table>\n",
       "<p>1 rows × 5 columns</p>\n",
       "</div>"
      ],
      "text/plain": [
       "                                                   id  \\\n",
       "32  https://collections.ashmolean.org/collection/1...   \n",
       "\n",
       "                                                place  ...          tgn  \\\n",
       "32  Design for a window in the University Museum, ...  ...  tgn/7011931   \n",
       "\n",
       "         coords  \n",
       "32  51.75,-1.25  \n",
       "\n",
       "[1 rows x 5 columns]"
      ]
     },
     "metadata": {},
     "output_type": "display_data"
    },
    {
     "name": "stdout",
     "output_type": "stream",
     "text": [
      "Geographical coordinates representation to be added:\n",
      "{\n",
      "  \"@context\": \"https://linked.art/ns/v1/linked-art.json\",\n",
      "  \"id\": \"http://lod.example.org/museum/VisualItem/182\",\n",
      "  \"type\": \"VisualItem\",\n",
      "  \"represents\": [\n",
      "    {\n",
      "      \"id\": \"http://lod.example.org/museum/Place/365\",\n",
      "      \"type\": \"Place\",\n",
      "      \"_label\": \"Design for a window in the University Museum, Oxford\",\n",
      "      \"approximated_by\": [\n",
      "        {\n",
      "          \"id\": \"http://lod.example.org/museum/Place/364\",\n",
      "          \"type\": \"Place\",\n",
      "          \"_label\": \"Design for a window in the University Museum, Oxford\",\n",
      "          \"defined_by\": \"POINT(51.75 -1.25)\"\n",
      "        }\n",
      "      ]\n",
      "    }\n",
      "  ]\n",
      "}\n",
      "File updated\n"
     ]
    },
    {
     "data": {
      "text/html": [
       "<h4>Tower of Fribourg</h4>"
      ],
      "text/plain": [
       "<IPython.core.display.HTML object>"
      ]
     },
     "metadata": {},
     "output_type": "display_data"
    },
    {
     "name": "stdout",
     "output_type": "stream",
     "text": [
      "Matching row in geographical coordinates file for artwork\n"
     ]
    },
    {
     "data": {
      "text/html": [
       "<div>\n",
       "<style scoped>\n",
       "    .dataframe tbody tr th:only-of-type {\n",
       "        vertical-align: middle;\n",
       "    }\n",
       "\n",
       "    .dataframe tbody tr th {\n",
       "        vertical-align: top;\n",
       "    }\n",
       "\n",
       "    .dataframe thead th {\n",
       "        text-align: right;\n",
       "    }\n",
       "</style>\n",
       "<table border=\"1\" class=\"dataframe\">\n",
       "  <thead>\n",
       "    <tr style=\"text-align: right;\">\n",
       "      <th></th>\n",
       "      <th>id</th>\n",
       "      <th>place</th>\n",
       "      <th>...</th>\n",
       "      <th>tgn</th>\n",
       "      <th>coords</th>\n",
       "    </tr>\n",
       "  </thead>\n",
       "  <tbody>\n",
       "    <tr>\n",
       "      <th>109</th>\n",
       "      <td>https://www.harvardartmuseums.org/collections/...</td>\n",
       "      <td>Tower of Fribourg</td>\n",
       "      <td>...</td>\n",
       "      <td>tgn/7645603</td>\n",
       "      <td>48.767697,6.855842</td>\n",
       "    </tr>\n",
       "  </tbody>\n",
       "</table>\n",
       "<p>1 rows × 5 columns</p>\n",
       "</div>"
      ],
      "text/plain": [
       "                                                    id              place  \\\n",
       "109  https://www.harvardartmuseums.org/collections/...  Tower of Fribourg   \n",
       "\n",
       "     ...          tgn              coords  \n",
       "109  ...  tgn/7645603  48.767697,6.855842  \n",
       "\n",
       "[1 rows x 5 columns]"
      ]
     },
     "metadata": {},
     "output_type": "display_data"
    },
    {
     "name": "stdout",
     "output_type": "stream",
     "text": [
      "Geographical coordinates representation to be added:\n",
      "{\n",
      "  \"@context\": \"https://linked.art/ns/v1/linked-art.json\",\n",
      "  \"id\": \"http://lod.example.org/museum/VisualItem/183\",\n",
      "  \"type\": \"VisualItem\",\n",
      "  \"represents\": [\n",
      "    {\n",
      "      \"id\": \"http://lod.example.org/museum/Place/367\",\n",
      "      \"type\": \"Place\",\n",
      "      \"_label\": \"Tower of Fribourg\",\n",
      "      \"approximated_by\": [\n",
      "        {\n",
      "          \"id\": \"http://lod.example.org/museum/Place/366\",\n",
      "          \"type\": \"Place\",\n",
      "          \"_label\": \"Tower of Fribourg\",\n",
      "          \"defined_by\": \"POINT(48.767697 6.855842)\"\n",
      "        }\n",
      "      ]\n",
      "    }\n",
      "  ]\n",
      "}\n",
      "File updated\n"
     ]
    },
    {
     "data": {
      "text/html": [
       "<h4>Architectural Study: Palazzo Dandolo</h4>"
      ],
      "text/plain": [
       "<IPython.core.display.HTML object>"
      ]
     },
     "metadata": {},
     "output_type": "display_data"
    },
    {
     "name": "stdout",
     "output_type": "stream",
     "text": [
      "Matching row in geographical coordinates file for artwork\n"
     ]
    },
    {
     "data": {
      "text/html": [
       "<div>\n",
       "<style scoped>\n",
       "    .dataframe tbody tr th:only-of-type {\n",
       "        vertical-align: middle;\n",
       "    }\n",
       "\n",
       "    .dataframe tbody tr th {\n",
       "        vertical-align: top;\n",
       "    }\n",
       "\n",
       "    .dataframe thead th {\n",
       "        text-align: right;\n",
       "    }\n",
       "</style>\n",
       "<table border=\"1\" class=\"dataframe\">\n",
       "  <thead>\n",
       "    <tr style=\"text-align: right;\">\n",
       "      <th></th>\n",
       "      <th>id</th>\n",
       "      <th>place</th>\n",
       "      <th>...</th>\n",
       "      <th>tgn</th>\n",
       "      <th>coords</th>\n",
       "    </tr>\n",
       "  </thead>\n",
       "  <tbody>\n",
       "    <tr>\n",
       "      <th>92</th>\n",
       "      <td>https://www.harvardartmuseums.org/collections/...</td>\n",
       "      <td>Architectural Study: Palazzo Dandolo</td>\n",
       "      <td>...</td>\n",
       "      <td>tgn/7018159</td>\n",
       "      <td>45.438611,12.326667</td>\n",
       "    </tr>\n",
       "  </tbody>\n",
       "</table>\n",
       "<p>1 rows × 5 columns</p>\n",
       "</div>"
      ],
      "text/plain": [
       "                                                   id  \\\n",
       "92  https://www.harvardartmuseums.org/collections/...   \n",
       "\n",
       "                                   place  ...          tgn  \\\n",
       "92  Architectural Study: Palazzo Dandolo  ...  tgn/7018159   \n",
       "\n",
       "                 coords  \n",
       "92  45.438611,12.326667  \n",
       "\n",
       "[1 rows x 5 columns]"
      ]
     },
     "metadata": {},
     "output_type": "display_data"
    },
    {
     "name": "stdout",
     "output_type": "stream",
     "text": [
      "Geographical coordinates representation to be added:\n",
      "{\n",
      "  \"@context\": \"https://linked.art/ns/v1/linked-art.json\",\n",
      "  \"id\": \"http://lod.example.org/museum/VisualItem/184\",\n",
      "  \"type\": \"VisualItem\",\n",
      "  \"represents\": [\n",
      "    {\n",
      "      \"id\": \"http://lod.example.org/museum/Place/369\",\n",
      "      \"type\": \"Place\",\n",
      "      \"_label\": \"Architectural Study: Palazzo Dandolo\",\n",
      "      \"approximated_by\": [\n",
      "        {\n",
      "          \"id\": \"http://lod.example.org/museum/Place/368\",\n",
      "          \"type\": \"Place\",\n",
      "          \"_label\": \"Architectural Study: Palazzo Dandolo\",\n",
      "          \"defined_by\": \"POINT(45.438611 12.326667)\"\n",
      "        }\n",
      "      ]\n",
      "    }\n",
      "  ]\n",
      "}\n",
      "File updated\n"
     ]
    },
    {
     "data": {
      "text/html": [
       "<h4>Venetian Renaissance Capital</h4>"
      ],
      "text/plain": [
       "<IPython.core.display.HTML object>"
      ]
     },
     "metadata": {},
     "output_type": "display_data"
    },
    {
     "name": "stdout",
     "output_type": "stream",
     "text": [
      "Matching row in geographical coordinates file for artwork\n"
     ]
    },
    {
     "data": {
      "text/html": [
       "<div>\n",
       "<style scoped>\n",
       "    .dataframe tbody tr th:only-of-type {\n",
       "        vertical-align: middle;\n",
       "    }\n",
       "\n",
       "    .dataframe tbody tr th {\n",
       "        vertical-align: top;\n",
       "    }\n",
       "\n",
       "    .dataframe thead th {\n",
       "        text-align: right;\n",
       "    }\n",
       "</style>\n",
       "<table border=\"1\" class=\"dataframe\">\n",
       "  <thead>\n",
       "    <tr style=\"text-align: right;\">\n",
       "      <th></th>\n",
       "      <th>id</th>\n",
       "      <th>place</th>\n",
       "      <th>...</th>\n",
       "      <th>tgn</th>\n",
       "      <th>coords</th>\n",
       "    </tr>\n",
       "  </thead>\n",
       "  <tbody>\n",
       "    <tr>\n",
       "      <th>15</th>\n",
       "      <td>https://www.harvardartmuseums.org/collections/...</td>\n",
       "      <td>Venetian Renaissance Capital</td>\n",
       "      <td>...</td>\n",
       "      <td>tgn/7003006</td>\n",
       "      <td>45.583333,12.566667</td>\n",
       "    </tr>\n",
       "  </tbody>\n",
       "</table>\n",
       "<p>1 rows × 5 columns</p>\n",
       "</div>"
      ],
      "text/plain": [
       "                                                   id  \\\n",
       "15  https://www.harvardartmuseums.org/collections/...   \n",
       "\n",
       "                           place  ...          tgn               coords  \n",
       "15  Venetian Renaissance Capital  ...  tgn/7003006  45.583333,12.566667  \n",
       "\n",
       "[1 rows x 5 columns]"
      ]
     },
     "metadata": {},
     "output_type": "display_data"
    },
    {
     "name": "stdout",
     "output_type": "stream",
     "text": [
      "Geographical coordinates representation to be added:\n",
      "{\n",
      "  \"@context\": \"https://linked.art/ns/v1/linked-art.json\",\n",
      "  \"id\": \"http://lod.example.org/museum/VisualItem/185\",\n",
      "  \"type\": \"VisualItem\",\n",
      "  \"represents\": [\n",
      "    {\n",
      "      \"id\": \"http://lod.example.org/museum/Place/371\",\n",
      "      \"type\": \"Place\",\n",
      "      \"_label\": \"Venetian Renaissance Capital\",\n",
      "      \"approximated_by\": [\n",
      "        {\n",
      "          \"id\": \"http://lod.example.org/museum/Place/370\",\n",
      "          \"type\": \"Place\",\n",
      "          \"_label\": \"Venetian Renaissance Capital\",\n",
      "          \"defined_by\": \"POINT(45.583333 12.566667)\"\n",
      "        }\n",
      "      ]\n",
      "    }\n",
      "  ]\n",
      "}\n",
      "File updated\n"
     ]
    },
    {
     "data": {
      "text/html": [
       "<h4>Capital from the Lower Arcade of the Doges' Palace, Venice</h4>"
      ],
      "text/plain": [
       "<IPython.core.display.HTML object>"
      ]
     },
     "metadata": {},
     "output_type": "display_data"
    },
    {
     "name": "stdout",
     "output_type": "stream",
     "text": [
      "Matching row in geographical coordinates file for artwork\n"
     ]
    },
    {
     "data": {
      "text/html": [
       "<div>\n",
       "<style scoped>\n",
       "    .dataframe tbody tr th:only-of-type {\n",
       "        vertical-align: middle;\n",
       "    }\n",
       "\n",
       "    .dataframe tbody tr th {\n",
       "        vertical-align: top;\n",
       "    }\n",
       "\n",
       "    .dataframe thead th {\n",
       "        text-align: right;\n",
       "    }\n",
       "</style>\n",
       "<table border=\"1\" class=\"dataframe\">\n",
       "  <thead>\n",
       "    <tr style=\"text-align: right;\">\n",
       "      <th></th>\n",
       "      <th>id</th>\n",
       "      <th>place</th>\n",
       "      <th>...</th>\n",
       "      <th>tgn</th>\n",
       "      <th>coords</th>\n",
       "    </tr>\n",
       "  </thead>\n",
       "  <tbody>\n",
       "    <tr>\n",
       "      <th>16</th>\n",
       "      <td>https://www.harvardartmuseums.org/collections/...</td>\n",
       "      <td>Capital from the Lower Arcade of the Doges' Pa...</td>\n",
       "      <td>...</td>\n",
       "      <td>tgn/7003006</td>\n",
       "      <td>45.583333,12.566667</td>\n",
       "    </tr>\n",
       "  </tbody>\n",
       "</table>\n",
       "<p>1 rows × 5 columns</p>\n",
       "</div>"
      ],
      "text/plain": [
       "                                                   id  \\\n",
       "16  https://www.harvardartmuseums.org/collections/...   \n",
       "\n",
       "                                                place  ...          tgn  \\\n",
       "16  Capital from the Lower Arcade of the Doges' Pa...  ...  tgn/7003006   \n",
       "\n",
       "                 coords  \n",
       "16  45.583333,12.566667  \n",
       "\n",
       "[1 rows x 5 columns]"
      ]
     },
     "metadata": {},
     "output_type": "display_data"
    },
    {
     "name": "stdout",
     "output_type": "stream",
     "text": [
      "Geographical coordinates representation to be added:\n",
      "{\n",
      "  \"@context\": \"https://linked.art/ns/v1/linked-art.json\",\n",
      "  \"id\": \"http://lod.example.org/museum/VisualItem/186\",\n",
      "  \"type\": \"VisualItem\",\n",
      "  \"represents\": [\n",
      "    {\n",
      "      \"id\": \"http://lod.example.org/museum/Place/373\",\n",
      "      \"type\": \"Place\",\n",
      "      \"_label\": \"Capital from the Lower Arcade of the Doges' Palace, Venice\",\n",
      "      \"approximated_by\": [\n",
      "        {\n",
      "          \"id\": \"http://lod.example.org/museum/Place/372\",\n",
      "          \"type\": \"Place\",\n",
      "          \"_label\": \"Capital from the Lower Arcade of the Doges' Palace, Venice\",\n",
      "          \"defined_by\": \"POINT(45.583333 12.566667)\"\n",
      "        }\n",
      "      ]\n",
      "    }\n",
      "  ]\n",
      "}\n",
      "File updated\n"
     ]
    },
    {
     "data": {
      "text/html": [
       "<h4>The Gryphon bearing the north Shaft of the west Entrance of the Duomo, Verona</h4>"
      ],
      "text/plain": [
       "<IPython.core.display.HTML object>"
      ]
     },
     "metadata": {},
     "output_type": "display_data"
    },
    {
     "name": "stdout",
     "output_type": "stream",
     "text": [
      "Matching row in geographical coordinates file for artwork\n"
     ]
    },
    {
     "data": {
      "text/html": [
       "<div>\n",
       "<style scoped>\n",
       "    .dataframe tbody tr th:only-of-type {\n",
       "        vertical-align: middle;\n",
       "    }\n",
       "\n",
       "    .dataframe tbody tr th {\n",
       "        vertical-align: top;\n",
       "    }\n",
       "\n",
       "    .dataframe thead th {\n",
       "        text-align: right;\n",
       "    }\n",
       "</style>\n",
       "<table border=\"1\" class=\"dataframe\">\n",
       "  <thead>\n",
       "    <tr style=\"text-align: right;\">\n",
       "      <th></th>\n",
       "      <th>id</th>\n",
       "      <th>place</th>\n",
       "      <th>...</th>\n",
       "      <th>tgn</th>\n",
       "      <th>coords</th>\n",
       "    </tr>\n",
       "  </thead>\n",
       "  <tbody>\n",
       "    <tr>\n",
       "      <th>70</th>\n",
       "      <td>https://collections.ashmolean.org/collection/1...</td>\n",
       "      <td>The Gryphon bearing the north Shaft of the wes...</td>\n",
       "      <td>...</td>\n",
       "      <td>tgn/7003262</td>\n",
       "      <td>45.45,11</td>\n",
       "    </tr>\n",
       "  </tbody>\n",
       "</table>\n",
       "<p>1 rows × 5 columns</p>\n",
       "</div>"
      ],
      "text/plain": [
       "                                                   id  \\\n",
       "70  https://collections.ashmolean.org/collection/1...   \n",
       "\n",
       "                                                place  ...          tgn  \\\n",
       "70  The Gryphon bearing the north Shaft of the wes...  ...  tgn/7003262   \n",
       "\n",
       "      coords  \n",
       "70  45.45,11  \n",
       "\n",
       "[1 rows x 5 columns]"
      ]
     },
     "metadata": {},
     "output_type": "display_data"
    },
    {
     "name": "stdout",
     "output_type": "stream",
     "text": [
      "Geographical coordinates representation to be added:\n",
      "{\n",
      "  \"@context\": \"https://linked.art/ns/v1/linked-art.json\",\n",
      "  \"id\": \"http://lod.example.org/museum/VisualItem/187\",\n",
      "  \"type\": \"VisualItem\",\n",
      "  \"represents\": [\n",
      "    {\n",
      "      \"id\": \"http://lod.example.org/museum/Place/375\",\n",
      "      \"type\": \"Place\",\n",
      "      \"_label\": \"The Gryphon bearing the north Shaft of the west Entrance of the Duomo, Verona\",\n",
      "      \"approximated_by\": [\n",
      "        {\n",
      "          \"id\": \"http://lod.example.org/museum/Place/374\",\n",
      "          \"type\": \"Place\",\n",
      "          \"_label\": \"The Gryphon bearing the north Shaft of the west Entrance of the Duomo, Verona\",\n",
      "          \"defined_by\": \"POINT(45.45 11)\"\n",
      "        }\n",
      "      ]\n",
      "    }\n",
      "  ]\n",
      "}\n",
      "File updated\n"
     ]
    },
    {
     "data": {
      "text/html": [
       "<h4>First Process of Sepia Sketch of Leafage: Study from Ruskin's Photograph of the Courtyard of a late Gothic wooden House at Abbeville</h4>"
      ],
      "text/plain": [
       "<IPython.core.display.HTML object>"
      ]
     },
     "metadata": {},
     "output_type": "display_data"
    },
    {
     "name": "stdout",
     "output_type": "stream",
     "text": [
      "Matching row in geographical coordinates file for artwork\n"
     ]
    },
    {
     "data": {
      "text/html": [
       "<div>\n",
       "<style scoped>\n",
       "    .dataframe tbody tr th:only-of-type {\n",
       "        vertical-align: middle;\n",
       "    }\n",
       "\n",
       "    .dataframe tbody tr th {\n",
       "        vertical-align: top;\n",
       "    }\n",
       "\n",
       "    .dataframe thead th {\n",
       "        text-align: right;\n",
       "    }\n",
       "</style>\n",
       "<table border=\"1\" class=\"dataframe\">\n",
       "  <thead>\n",
       "    <tr style=\"text-align: right;\">\n",
       "      <th></th>\n",
       "      <th>id</th>\n",
       "      <th>place</th>\n",
       "      <th>...</th>\n",
       "      <th>tgn</th>\n",
       "      <th>coords</th>\n",
       "    </tr>\n",
       "  </thead>\n",
       "  <tbody>\n",
       "    <tr>\n",
       "      <th>55</th>\n",
       "      <td>https://collections.ashmolean.org/collection/1...</td>\n",
       "      <td>First Process of Sepia Sketch of Leafage: Stud...</td>\n",
       "      <td>...</td>\n",
       "      <td>tgn/7668075</td>\n",
       "      <td>50.166667,1.75</td>\n",
       "    </tr>\n",
       "  </tbody>\n",
       "</table>\n",
       "<p>1 rows × 5 columns</p>\n",
       "</div>"
      ],
      "text/plain": [
       "                                                   id  \\\n",
       "55  https://collections.ashmolean.org/collection/1...   \n",
       "\n",
       "                                                place  ...          tgn  \\\n",
       "55  First Process of Sepia Sketch of Leafage: Stud...  ...  tgn/7668075   \n",
       "\n",
       "            coords  \n",
       "55  50.166667,1.75  \n",
       "\n",
       "[1 rows x 5 columns]"
      ]
     },
     "metadata": {},
     "output_type": "display_data"
    },
    {
     "name": "stdout",
     "output_type": "stream",
     "text": [
      "Geographical coordinates representation to be added:\n",
      "{\n",
      "  \"@context\": \"https://linked.art/ns/v1/linked-art.json\",\n",
      "  \"id\": \"http://lod.example.org/museum/VisualItem/188\",\n",
      "  \"type\": \"VisualItem\",\n",
      "  \"represents\": [\n",
      "    {\n",
      "      \"id\": \"http://lod.example.org/museum/Place/377\",\n",
      "      \"type\": \"Place\",\n",
      "      \"_label\": \"First Process of Sepia Sketch of Leafage: Study from Ruskin's Photograph of the Courtyard of a late Gothic wooden House at Abbeville\",\n",
      "      \"approximated_by\": [\n",
      "        {\n",
      "          \"id\": \"http://lod.example.org/museum/Place/376\",\n",
      "          \"type\": \"Place\",\n",
      "          \"_label\": \"First Process of Sepia Sketch of Leafage: Study from Ruskin's Photograph of the Courtyard of a late Gothic wooden House at Abbeville\",\n",
      "          \"defined_by\": \"POINT(50.166667 1.75)\"\n",
      "        }\n",
      "      ]\n",
      "    }\n",
      "  ]\n",
      "}\n",
      "File updated\n"
     ]
    },
    {
     "data": {
      "text/html": [
       "<h4>Old Cedar in the Botanic Garden, Chelsea</h4>"
      ],
      "text/plain": [
       "<IPython.core.display.HTML object>"
      ]
     },
     "metadata": {},
     "output_type": "display_data"
    },
    {
     "name": "stdout",
     "output_type": "stream",
     "text": [
      "Matching row in geographical coordinates file for artwork\n"
     ]
    },
    {
     "data": {
      "text/html": [
       "<div>\n",
       "<style scoped>\n",
       "    .dataframe tbody tr th:only-of-type {\n",
       "        vertical-align: middle;\n",
       "    }\n",
       "\n",
       "    .dataframe tbody tr th {\n",
       "        vertical-align: top;\n",
       "    }\n",
       "\n",
       "    .dataframe thead th {\n",
       "        text-align: right;\n",
       "    }\n",
       "</style>\n",
       "<table border=\"1\" class=\"dataframe\">\n",
       "  <thead>\n",
       "    <tr style=\"text-align: right;\">\n",
       "      <th></th>\n",
       "      <th>id</th>\n",
       "      <th>place</th>\n",
       "      <th>...</th>\n",
       "      <th>tgn</th>\n",
       "      <th>coords</th>\n",
       "    </tr>\n",
       "  </thead>\n",
       "  <tbody>\n",
       "    <tr>\n",
       "      <th>112</th>\n",
       "      <td>https://collections.ashmolean.org/collection/2...</td>\n",
       "      <td>Old Cedar in the Botanic Garden, Chelsea</td>\n",
       "      <td>...</td>\n",
       "      <td>tgn/4012680</td>\n",
       "      <td>51.484344,-.174869</td>\n",
       "    </tr>\n",
       "  </tbody>\n",
       "</table>\n",
       "<p>1 rows × 5 columns</p>\n",
       "</div>"
      ],
      "text/plain": [
       "                                                    id  \\\n",
       "112  https://collections.ashmolean.org/collection/2...   \n",
       "\n",
       "                                        place  ...          tgn  \\\n",
       "112  Old Cedar in the Botanic Garden, Chelsea  ...  tgn/4012680   \n",
       "\n",
       "                 coords  \n",
       "112  51.484344,-.174869  \n",
       "\n",
       "[1 rows x 5 columns]"
      ]
     },
     "metadata": {},
     "output_type": "display_data"
    },
    {
     "name": "stdout",
     "output_type": "stream",
     "text": [
      "Geographical coordinates representation to be added:\n",
      "{\n",
      "  \"@context\": \"https://linked.art/ns/v1/linked-art.json\",\n",
      "  \"id\": \"http://lod.example.org/museum/VisualItem/189\",\n",
      "  \"type\": \"VisualItem\",\n",
      "  \"represents\": [\n",
      "    {\n",
      "      \"id\": \"http://lod.example.org/museum/Place/379\",\n",
      "      \"type\": \"Place\",\n",
      "      \"_label\": \"Old Cedar in the Botanic Garden, Chelsea\",\n",
      "      \"approximated_by\": [\n",
      "        {\n",
      "          \"id\": \"http://lod.example.org/museum/Place/378\",\n",
      "          \"type\": \"Place\",\n",
      "          \"_label\": \"Old Cedar in the Botanic Garden, Chelsea\",\n",
      "          \"defined_by\": \"POINT(51.484344 -.174869)\"\n",
      "        }\n",
      "      ]\n",
      "    }\n",
      "  ]\n",
      "}\n",
      "File updated\n"
     ]
    },
    {
     "data": {
      "text/html": [
       "<h4>Study of Portal and Carved Pinnacles, Cathedral of St. Lô, Normandy</h4>"
      ],
      "text/plain": [
       "<IPython.core.display.HTML object>"
      ]
     },
     "metadata": {},
     "output_type": "display_data"
    },
    {
     "name": "stdout",
     "output_type": "stream",
     "text": [
      "Matching row in geographical coordinates file for artwork\n"
     ]
    },
    {
     "data": {
      "text/html": [
       "<div>\n",
       "<style scoped>\n",
       "    .dataframe tbody tr th:only-of-type {\n",
       "        vertical-align: middle;\n",
       "    }\n",
       "\n",
       "    .dataframe tbody tr th {\n",
       "        vertical-align: top;\n",
       "    }\n",
       "\n",
       "    .dataframe thead th {\n",
       "        text-align: right;\n",
       "    }\n",
       "</style>\n",
       "<table border=\"1\" class=\"dataframe\">\n",
       "  <thead>\n",
       "    <tr style=\"text-align: right;\">\n",
       "      <th></th>\n",
       "      <th>id</th>\n",
       "      <th>place</th>\n",
       "      <th>...</th>\n",
       "      <th>tgn</th>\n",
       "      <th>coords</th>\n",
       "    </tr>\n",
       "  </thead>\n",
       "  <tbody>\n",
       "    <tr>\n",
       "      <th>113</th>\n",
       "      <td>https://www.harvardartmuseums.org/collections/...</td>\n",
       "      <td>Study of Portal and Carved Pinnacles, Cathedra...</td>\n",
       "      <td>...</td>\n",
       "      <td>tgn/7002886</td>\n",
       "      <td>49,0</td>\n",
       "    </tr>\n",
       "  </tbody>\n",
       "</table>\n",
       "<p>1 rows × 5 columns</p>\n",
       "</div>"
      ],
      "text/plain": [
       "                                                    id  \\\n",
       "113  https://www.harvardartmuseums.org/collections/...   \n",
       "\n",
       "                                                 place  ...          tgn  \\\n",
       "113  Study of Portal and Carved Pinnacles, Cathedra...  ...  tgn/7002886   \n",
       "\n",
       "    coords  \n",
       "113   49,0  \n",
       "\n",
       "[1 rows x 5 columns]"
      ]
     },
     "metadata": {},
     "output_type": "display_data"
    },
    {
     "name": "stdout",
     "output_type": "stream",
     "text": [
      "Geographical coordinates representation to be added:\n",
      "{\n",
      "  \"@context\": \"https://linked.art/ns/v1/linked-art.json\",\n",
      "  \"id\": \"http://lod.example.org/museum/VisualItem/190\",\n",
      "  \"type\": \"VisualItem\",\n",
      "  \"represents\": [\n",
      "    {\n",
      "      \"id\": \"http://lod.example.org/museum/Place/381\",\n",
      "      \"type\": \"Place\",\n",
      "      \"_label\": \"Study of Portal and Carved Pinnacles, Cathedral of St. L\\u00f4, Normandy\",\n",
      "      \"approximated_by\": [\n",
      "        {\n",
      "          \"id\": \"http://lod.example.org/museum/Place/380\",\n",
      "          \"type\": \"Place\",\n",
      "          \"_label\": \"Study of Portal and Carved Pinnacles, Cathedral of St. L\\u00f4, Normandy\",\n",
      "          \"defined_by\": \"POINT(49 0)\"\n",
      "        }\n",
      "      ]\n",
      "    }\n",
      "  ]\n",
      "}\n",
      "File updated\n"
     ]
    },
    {
     "data": {
      "text/html": [
       "<h4>Mountain study: view of the Alps</h4>"
      ],
      "text/plain": [
       "<IPython.core.display.HTML object>"
      ]
     },
     "metadata": {},
     "output_type": "display_data"
    },
    {
     "name": "stdout",
     "output_type": "stream",
     "text": [
      "Matching row in geographical coordinates file for artwork\n"
     ]
    },
    {
     "data": {
      "text/html": [
       "<div>\n",
       "<style scoped>\n",
       "    .dataframe tbody tr th:only-of-type {\n",
       "        vertical-align: middle;\n",
       "    }\n",
       "\n",
       "    .dataframe tbody tr th {\n",
       "        vertical-align: top;\n",
       "    }\n",
       "\n",
       "    .dataframe thead th {\n",
       "        text-align: right;\n",
       "    }\n",
       "</style>\n",
       "<table border=\"1\" class=\"dataframe\">\n",
       "  <thead>\n",
       "    <tr style=\"text-align: right;\">\n",
       "      <th></th>\n",
       "      <th>id</th>\n",
       "      <th>place</th>\n",
       "      <th>...</th>\n",
       "      <th>tgn</th>\n",
       "      <th>coords</th>\n",
       "    </tr>\n",
       "  </thead>\n",
       "  <tbody>\n",
       "    <tr>\n",
       "      <th>39</th>\n",
       "      <td>https://collections.ashmolean.org/collection/1...</td>\n",
       "      <td>Mountain study: view of the Alps</td>\n",
       "      <td>...</td>\n",
       "      <td>tgn/7007746</td>\n",
       "      <td>46.416667,10</td>\n",
       "    </tr>\n",
       "  </tbody>\n",
       "</table>\n",
       "<p>1 rows × 5 columns</p>\n",
       "</div>"
      ],
      "text/plain": [
       "                                                   id  \\\n",
       "39  https://collections.ashmolean.org/collection/1...   \n",
       "\n",
       "                               place  ...          tgn        coords  \n",
       "39  Mountain study: view of the Alps  ...  tgn/7007746  46.416667,10  \n",
       "\n",
       "[1 rows x 5 columns]"
      ]
     },
     "metadata": {},
     "output_type": "display_data"
    },
    {
     "name": "stdout",
     "output_type": "stream",
     "text": [
      "Geographical coordinates representation to be added:\n",
      "{\n",
      "  \"@context\": \"https://linked.art/ns/v1/linked-art.json\",\n",
      "  \"id\": \"http://lod.example.org/museum/VisualItem/191\",\n",
      "  \"type\": \"VisualItem\",\n",
      "  \"represents\": [\n",
      "    {\n",
      "      \"id\": \"http://lod.example.org/museum/Place/383\",\n",
      "      \"type\": \"Place\",\n",
      "      \"_label\": \"Mountain study: view of the Alps\",\n",
      "      \"approximated_by\": [\n",
      "        {\n",
      "          \"id\": \"http://lod.example.org/museum/Place/382\",\n",
      "          \"type\": \"Place\",\n",
      "          \"_label\": \"Mountain study: view of the Alps\",\n",
      "          \"defined_by\": \"POINT(46.416667 10)\"\n",
      "        }\n",
      "      ]\n",
      "    }\n",
      "  ]\n",
      "}\n",
      "File updated\n"
     ]
    },
    {
     "data": {
      "text/html": [
       "<h4>Kempten</h4>"
      ],
      "text/plain": [
       "<IPython.core.display.HTML object>"
      ]
     },
     "metadata": {},
     "output_type": "display_data"
    },
    {
     "name": "stdout",
     "output_type": "stream",
     "text": [
      "Matching row in geographical coordinates file for artwork\n"
     ]
    },
    {
     "data": {
      "text/html": [
       "<div>\n",
       "<style scoped>\n",
       "    .dataframe tbody tr th:only-of-type {\n",
       "        vertical-align: middle;\n",
       "    }\n",
       "\n",
       "    .dataframe tbody tr th {\n",
       "        vertical-align: top;\n",
       "    }\n",
       "\n",
       "    .dataframe thead th {\n",
       "        text-align: right;\n",
       "    }\n",
       "</style>\n",
       "<table border=\"1\" class=\"dataframe\">\n",
       "  <thead>\n",
       "    <tr style=\"text-align: right;\">\n",
       "      <th></th>\n",
       "      <th>id</th>\n",
       "      <th>place</th>\n",
       "      <th>...</th>\n",
       "      <th>tgn</th>\n",
       "      <th>coords</th>\n",
       "    </tr>\n",
       "  </thead>\n",
       "  <tbody>\n",
       "    <tr>\n",
       "      <th>114</th>\n",
       "      <td>https://www.harvardartmuseums.org/collections/...</td>\n",
       "      <td>Kempten</td>\n",
       "      <td>...</td>\n",
       "      <td>tgn/7155787</td>\n",
       "      <td>49.966667,7.933333</td>\n",
       "    </tr>\n",
       "  </tbody>\n",
       "</table>\n",
       "<p>1 rows × 5 columns</p>\n",
       "</div>"
      ],
      "text/plain": [
       "                                                    id    place  ...  \\\n",
       "114  https://www.harvardartmuseums.org/collections/...  Kempten  ...   \n",
       "\n",
       "             tgn              coords  \n",
       "114  tgn/7155787  49.966667,7.933333  \n",
       "\n",
       "[1 rows x 5 columns]"
      ]
     },
     "metadata": {},
     "output_type": "display_data"
    },
    {
     "name": "stdout",
     "output_type": "stream",
     "text": [
      "Geographical coordinates representation to be added:\n",
      "{\n",
      "  \"@context\": \"https://linked.art/ns/v1/linked-art.json\",\n",
      "  \"id\": \"http://lod.example.org/museum/VisualItem/192\",\n",
      "  \"type\": \"VisualItem\",\n",
      "  \"represents\": [\n",
      "    {\n",
      "      \"id\": \"http://lod.example.org/museum/Place/385\",\n",
      "      \"type\": \"Place\",\n",
      "      \"_label\": \"Kempten\",\n",
      "      \"approximated_by\": [\n",
      "        {\n",
      "          \"id\": \"http://lod.example.org/museum/Place/384\",\n",
      "          \"type\": \"Place\",\n",
      "          \"_label\": \"Kempten\",\n",
      "          \"defined_by\": \"POINT(49.966667 7.933333)\"\n",
      "        }\n",
      "      ]\n",
      "    }\n",
      "  ]\n",
      "}\n",
      "File updated\n"
     ]
    },
    {
     "data": {
      "text/html": [
       "<h4>Ivy-Leaved Toadflax ('Oxford Ivy')</h4>"
      ],
      "text/plain": [
       "<IPython.core.display.HTML object>"
      ]
     },
     "metadata": {},
     "output_type": "display_data"
    },
    {
     "name": "stdout",
     "output_type": "stream",
     "text": [
      "Matching row in geographical coordinates file for artwork\n"
     ]
    },
    {
     "data": {
      "text/html": [
       "<div>\n",
       "<style scoped>\n",
       "    .dataframe tbody tr th:only-of-type {\n",
       "        vertical-align: middle;\n",
       "    }\n",
       "\n",
       "    .dataframe tbody tr th {\n",
       "        vertical-align: top;\n",
       "    }\n",
       "\n",
       "    .dataframe thead th {\n",
       "        text-align: right;\n",
       "    }\n",
       "</style>\n",
       "<table border=\"1\" class=\"dataframe\">\n",
       "  <thead>\n",
       "    <tr style=\"text-align: right;\">\n",
       "      <th></th>\n",
       "      <th>id</th>\n",
       "      <th>place</th>\n",
       "      <th>...</th>\n",
       "      <th>tgn</th>\n",
       "      <th>coords</th>\n",
       "    </tr>\n",
       "  </thead>\n",
       "  <tbody>\n",
       "    <tr>\n",
       "      <th>33</th>\n",
       "      <td>https://collections.ashmolean.org/collection/1...</td>\n",
       "      <td>Ivy-Leaved Toadflax ('Oxford Ivy')</td>\n",
       "      <td>...</td>\n",
       "      <td>tgn/7011931</td>\n",
       "      <td>51.75,-1.25</td>\n",
       "    </tr>\n",
       "  </tbody>\n",
       "</table>\n",
       "<p>1 rows × 5 columns</p>\n",
       "</div>"
      ],
      "text/plain": [
       "                                                   id  \\\n",
       "33  https://collections.ashmolean.org/collection/1...   \n",
       "\n",
       "                                 place  ...          tgn       coords  \n",
       "33  Ivy-Leaved Toadflax ('Oxford Ivy')  ...  tgn/7011931  51.75,-1.25  \n",
       "\n",
       "[1 rows x 5 columns]"
      ]
     },
     "metadata": {},
     "output_type": "display_data"
    },
    {
     "name": "stdout",
     "output_type": "stream",
     "text": [
      "Geographical coordinates representation to be added:\n",
      "{\n",
      "  \"@context\": \"https://linked.art/ns/v1/linked-art.json\",\n",
      "  \"id\": \"http://lod.example.org/museum/VisualItem/193\",\n",
      "  \"type\": \"VisualItem\",\n",
      "  \"represents\": [\n",
      "    {\n",
      "      \"id\": \"http://lod.example.org/museum/Place/387\",\n",
      "      \"type\": \"Place\",\n",
      "      \"_label\": \"Ivy-Leaved Toadflax ('Oxford Ivy')\",\n",
      "      \"approximated_by\": [\n",
      "        {\n",
      "          \"id\": \"http://lod.example.org/museum/Place/386\",\n",
      "          \"type\": \"Place\",\n",
      "          \"_label\": \"Ivy-Leaved Toadflax ('Oxford Ivy')\",\n",
      "          \"defined_by\": \"POINT(51.75 -1.25)\"\n",
      "        }\n",
      "      ]\n",
      "    }\n",
      "  ]\n",
      "}\n",
      "File updated\n"
     ]
    },
    {
     "data": {
      "text/html": [
       "<h4>Etching of Turner's Drawing of 'Rietz, near Saumur'</h4>"
      ],
      "text/plain": [
       "<IPython.core.display.HTML object>"
      ]
     },
     "metadata": {},
     "output_type": "display_data"
    },
    {
     "name": "stdout",
     "output_type": "stream",
     "text": [
      "Matching row in geographical coordinates file for artwork\n"
     ]
    },
    {
     "data": {
      "text/html": [
       "<div>\n",
       "<style scoped>\n",
       "    .dataframe tbody tr th:only-of-type {\n",
       "        vertical-align: middle;\n",
       "    }\n",
       "\n",
       "    .dataframe tbody tr th {\n",
       "        vertical-align: top;\n",
       "    }\n",
       "\n",
       "    .dataframe thead th {\n",
       "        text-align: right;\n",
       "    }\n",
       "</style>\n",
       "<table border=\"1\" class=\"dataframe\">\n",
       "  <thead>\n",
       "    <tr style=\"text-align: right;\">\n",
       "      <th></th>\n",
       "      <th>id</th>\n",
       "      <th>place</th>\n",
       "      <th>...</th>\n",
       "      <th>tgn</th>\n",
       "      <th>coords</th>\n",
       "    </tr>\n",
       "  </thead>\n",
       "  <tbody>\n",
       "    <tr>\n",
       "      <th>115</th>\n",
       "      <td>https://collections.ashmolean.org/collection/1...</td>\n",
       "      <td>Etching of Turner's Drawing of 'Rietz, near Sa...</td>\n",
       "      <td>...</td>\n",
       "      <td>tgn/8713430</td>\n",
       "      <td>47.285,11.03</td>\n",
       "    </tr>\n",
       "  </tbody>\n",
       "</table>\n",
       "<p>1 rows × 5 columns</p>\n",
       "</div>"
      ],
      "text/plain": [
       "                                                    id  \\\n",
       "115  https://collections.ashmolean.org/collection/1...   \n",
       "\n",
       "                                                 place  ...          tgn  \\\n",
       "115  Etching of Turner's Drawing of 'Rietz, near Sa...  ...  tgn/8713430   \n",
       "\n",
       "           coords  \n",
       "115  47.285,11.03  \n",
       "\n",
       "[1 rows x 5 columns]"
      ]
     },
     "metadata": {},
     "output_type": "display_data"
    },
    {
     "name": "stdout",
     "output_type": "stream",
     "text": [
      "Geographical coordinates representation to be added:\n",
      "{\n",
      "  \"@context\": \"https://linked.art/ns/v1/linked-art.json\",\n",
      "  \"id\": \"http://lod.example.org/museum/VisualItem/194\",\n",
      "  \"type\": \"VisualItem\",\n",
      "  \"represents\": [\n",
      "    {\n",
      "      \"id\": \"http://lod.example.org/museum/Place/389\",\n",
      "      \"type\": \"Place\",\n",
      "      \"_label\": \"Etching of Turner's Drawing of 'Rietz, near Saumur'\",\n",
      "      \"approximated_by\": [\n",
      "        {\n",
      "          \"id\": \"http://lod.example.org/museum/Place/388\",\n",
      "          \"type\": \"Place\",\n",
      "          \"_label\": \"Etching of Turner's Drawing of 'Rietz, near Saumur'\",\n",
      "          \"defined_by\": \"POINT(47.285 11.03)\"\n",
      "        }\n",
      "      ]\n",
      "    }\n",
      "  ]\n",
      "}\n",
      "File updated\n"
     ]
    },
    {
     "data": {
      "text/html": [
       "<h4>Study for Detail of the Market Place, Abbeville</h4>"
      ],
      "text/plain": [
       "<IPython.core.display.HTML object>"
      ]
     },
     "metadata": {},
     "output_type": "display_data"
    },
    {
     "name": "stdout",
     "output_type": "stream",
     "text": [
      "Matching row in geographical coordinates file for artwork\n"
     ]
    },
    {
     "data": {
      "text/html": [
       "<div>\n",
       "<style scoped>\n",
       "    .dataframe tbody tr th:only-of-type {\n",
       "        vertical-align: middle;\n",
       "    }\n",
       "\n",
       "    .dataframe tbody tr th {\n",
       "        vertical-align: top;\n",
       "    }\n",
       "\n",
       "    .dataframe thead th {\n",
       "        text-align: right;\n",
       "    }\n",
       "</style>\n",
       "<table border=\"1\" class=\"dataframe\">\n",
       "  <thead>\n",
       "    <tr style=\"text-align: right;\">\n",
       "      <th></th>\n",
       "      <th>id</th>\n",
       "      <th>place</th>\n",
       "      <th>...</th>\n",
       "      <th>tgn</th>\n",
       "      <th>coords</th>\n",
       "    </tr>\n",
       "  </thead>\n",
       "  <tbody>\n",
       "    <tr>\n",
       "      <th>56</th>\n",
       "      <td>https://collections.ashmolean.org/collection/1...</td>\n",
       "      <td>Study for Detail of the Market Place, Abbeville</td>\n",
       "      <td>...</td>\n",
       "      <td>tgn/7668075</td>\n",
       "      <td>50.166667,1.75</td>\n",
       "    </tr>\n",
       "  </tbody>\n",
       "</table>\n",
       "<p>1 rows × 5 columns</p>\n",
       "</div>"
      ],
      "text/plain": [
       "                                                   id  \\\n",
       "56  https://collections.ashmolean.org/collection/1...   \n",
       "\n",
       "                                              place  ...          tgn  \\\n",
       "56  Study for Detail of the Market Place, Abbeville  ...  tgn/7668075   \n",
       "\n",
       "            coords  \n",
       "56  50.166667,1.75  \n",
       "\n",
       "[1 rows x 5 columns]"
      ]
     },
     "metadata": {},
     "output_type": "display_data"
    },
    {
     "name": "stdout",
     "output_type": "stream",
     "text": [
      "Geographical coordinates representation to be added:\n",
      "{\n",
      "  \"@context\": \"https://linked.art/ns/v1/linked-art.json\",\n",
      "  \"id\": \"http://lod.example.org/museum/VisualItem/195\",\n",
      "  \"type\": \"VisualItem\",\n",
      "  \"represents\": [\n",
      "    {\n",
      "      \"id\": \"http://lod.example.org/museum/Place/391\",\n",
      "      \"type\": \"Place\",\n",
      "      \"_label\": \"Study for Detail of the Market Place, Abbeville\",\n",
      "      \"approximated_by\": [\n",
      "        {\n",
      "          \"id\": \"http://lod.example.org/museum/Place/390\",\n",
      "          \"type\": \"Place\",\n",
      "          \"_label\": \"Study for Detail of the Market Place, Abbeville\",\n",
      "          \"defined_by\": \"POINT(50.166667 1.75)\"\n",
      "        }\n",
      "      ]\n",
      "    }\n",
      "  ]\n",
      "}\n",
      "File updated\n"
     ]
    },
    {
     "data": {
      "text/html": [
       "<h4>Evening in Autumn under the Castle of Habsburg</h4>"
      ],
      "text/plain": [
       "<IPython.core.display.HTML object>"
      ]
     },
     "metadata": {},
     "output_type": "display_data"
    },
    {
     "name": "stdout",
     "output_type": "stream",
     "text": [
      "Matching row in geographical coordinates file for artwork\n"
     ]
    },
    {
     "data": {
      "text/html": [
       "<div>\n",
       "<style scoped>\n",
       "    .dataframe tbody tr th:only-of-type {\n",
       "        vertical-align: middle;\n",
       "    }\n",
       "\n",
       "    .dataframe tbody tr th {\n",
       "        vertical-align: top;\n",
       "    }\n",
       "\n",
       "    .dataframe thead th {\n",
       "        text-align: right;\n",
       "    }\n",
       "</style>\n",
       "<table border=\"1\" class=\"dataframe\">\n",
       "  <thead>\n",
       "    <tr style=\"text-align: right;\">\n",
       "      <th></th>\n",
       "      <th>id</th>\n",
       "      <th>place</th>\n",
       "      <th>...</th>\n",
       "      <th>tgn</th>\n",
       "      <th>coords</th>\n",
       "    </tr>\n",
       "  </thead>\n",
       "  <tbody>\n",
       "    <tr>\n",
       "      <th>116</th>\n",
       "      <td>https://collections.ashmolean.org/collection/1...</td>\n",
       "      <td>Evening in Autumn under the Castle of Habsburg</td>\n",
       "      <td>...</td>\n",
       "      <td>tgn/1100282</td>\n",
       "      <td>47.4667,8.1833</td>\n",
       "    </tr>\n",
       "  </tbody>\n",
       "</table>\n",
       "<p>1 rows × 5 columns</p>\n",
       "</div>"
      ],
      "text/plain": [
       "                                                    id  \\\n",
       "116  https://collections.ashmolean.org/collection/1...   \n",
       "\n",
       "                                              place  ...          tgn  \\\n",
       "116  Evening in Autumn under the Castle of Habsburg  ...  tgn/1100282   \n",
       "\n",
       "             coords  \n",
       "116  47.4667,8.1833  \n",
       "\n",
       "[1 rows x 5 columns]"
      ]
     },
     "metadata": {},
     "output_type": "display_data"
    },
    {
     "name": "stdout",
     "output_type": "stream",
     "text": [
      "Geographical coordinates representation to be added:\n",
      "{\n",
      "  \"@context\": \"https://linked.art/ns/v1/linked-art.json\",\n",
      "  \"id\": \"http://lod.example.org/museum/VisualItem/196\",\n",
      "  \"type\": \"VisualItem\",\n",
      "  \"represents\": [\n",
      "    {\n",
      "      \"id\": \"http://lod.example.org/museum/Place/393\",\n",
      "      \"type\": \"Place\",\n",
      "      \"_label\": \"Evening in Autumn under the Castle of Habsburg\",\n",
      "      \"approximated_by\": [\n",
      "        {\n",
      "          \"id\": \"http://lod.example.org/museum/Place/392\",\n",
      "          \"type\": \"Place\",\n",
      "          \"_label\": \"Evening in Autumn under the Castle of Habsburg\",\n",
      "          \"defined_by\": \"POINT(47.4667 8.1833)\"\n",
      "        }\n",
      "      ]\n",
      "    }\n",
      "  ]\n",
      "}\n",
      "File updated\n"
     ]
    },
    {
     "data": {
      "text/html": [
       "<h4>Study of the North Gable of the Tomb of Mastino II della Scala, Verona</h4>"
      ],
      "text/plain": [
       "<IPython.core.display.HTML object>"
      ]
     },
     "metadata": {},
     "output_type": "display_data"
    },
    {
     "name": "stdout",
     "output_type": "stream",
     "text": [
      "Matching row in geographical coordinates file for artwork\n"
     ]
    },
    {
     "data": {
      "text/html": [
       "<div>\n",
       "<style scoped>\n",
       "    .dataframe tbody tr th:only-of-type {\n",
       "        vertical-align: middle;\n",
       "    }\n",
       "\n",
       "    .dataframe tbody tr th {\n",
       "        vertical-align: top;\n",
       "    }\n",
       "\n",
       "    .dataframe thead th {\n",
       "        text-align: right;\n",
       "    }\n",
       "</style>\n",
       "<table border=\"1\" class=\"dataframe\">\n",
       "  <thead>\n",
       "    <tr style=\"text-align: right;\">\n",
       "      <th></th>\n",
       "      <th>id</th>\n",
       "      <th>place</th>\n",
       "      <th>...</th>\n",
       "      <th>tgn</th>\n",
       "      <th>coords</th>\n",
       "    </tr>\n",
       "  </thead>\n",
       "  <tbody>\n",
       "    <tr>\n",
       "      <th>71</th>\n",
       "      <td>https://collections.ashmolean.org/collection/1...</td>\n",
       "      <td>Study of the North Gable of the Tomb of Mastin...</td>\n",
       "      <td>...</td>\n",
       "      <td>tgn/7003262</td>\n",
       "      <td>45.45,11</td>\n",
       "    </tr>\n",
       "  </tbody>\n",
       "</table>\n",
       "<p>1 rows × 5 columns</p>\n",
       "</div>"
      ],
      "text/plain": [
       "                                                   id  \\\n",
       "71  https://collections.ashmolean.org/collection/1...   \n",
       "\n",
       "                                                place  ...          tgn  \\\n",
       "71  Study of the North Gable of the Tomb of Mastin...  ...  tgn/7003262   \n",
       "\n",
       "      coords  \n",
       "71  45.45,11  \n",
       "\n",
       "[1 rows x 5 columns]"
      ]
     },
     "metadata": {},
     "output_type": "display_data"
    },
    {
     "name": "stdout",
     "output_type": "stream",
     "text": [
      "Geographical coordinates representation to be added:\n",
      "{\n",
      "  \"@context\": \"https://linked.art/ns/v1/linked-art.json\",\n",
      "  \"id\": \"http://lod.example.org/museum/VisualItem/197\",\n",
      "  \"type\": \"VisualItem\",\n",
      "  \"represents\": [\n",
      "    {\n",
      "      \"id\": \"http://lod.example.org/museum/Place/395\",\n",
      "      \"type\": \"Place\",\n",
      "      \"_label\": \"Study of the North Gable of the Tomb of Mastino II della Scala, Verona\",\n",
      "      \"approximated_by\": [\n",
      "        {\n",
      "          \"id\": \"http://lod.example.org/museum/Place/394\",\n",
      "          \"type\": \"Place\",\n",
      "          \"_label\": \"Study of the North Gable of the Tomb of Mastino II della Scala, Verona\",\n",
      "          \"defined_by\": \"POINT(45.45 11)\"\n",
      "        }\n",
      "      ]\n",
      "    }\n",
      "  ]\n",
      "}\n",
      "File updated\n"
     ]
    },
    {
     "data": {
      "text/html": [
       "<h4>Study of an Archivolt in Saint Mark's, Venice</h4>"
      ],
      "text/plain": [
       "<IPython.core.display.HTML object>"
      ]
     },
     "metadata": {},
     "output_type": "display_data"
    },
    {
     "name": "stdout",
     "output_type": "stream",
     "text": [
      "Matching row in geographical coordinates file for artwork\n"
     ]
    },
    {
     "data": {
      "text/html": [
       "<div>\n",
       "<style scoped>\n",
       "    .dataframe tbody tr th:only-of-type {\n",
       "        vertical-align: middle;\n",
       "    }\n",
       "\n",
       "    .dataframe tbody tr th {\n",
       "        vertical-align: top;\n",
       "    }\n",
       "\n",
       "    .dataframe thead th {\n",
       "        text-align: right;\n",
       "    }\n",
       "</style>\n",
       "<table border=\"1\" class=\"dataframe\">\n",
       "  <thead>\n",
       "    <tr style=\"text-align: right;\">\n",
       "      <th></th>\n",
       "      <th>id</th>\n",
       "      <th>place</th>\n",
       "      <th>...</th>\n",
       "      <th>tgn</th>\n",
       "      <th>coords</th>\n",
       "    </tr>\n",
       "  </thead>\n",
       "  <tbody>\n",
       "    <tr>\n",
       "      <th>17</th>\n",
       "      <td>https://www.harvardartmuseums.org/collections/...</td>\n",
       "      <td>Study of an Archivolt in Saint Mark's, Venice</td>\n",
       "      <td>...</td>\n",
       "      <td>tgn/7003006</td>\n",
       "      <td>45.583333,12.566667</td>\n",
       "    </tr>\n",
       "  </tbody>\n",
       "</table>\n",
       "<p>1 rows × 5 columns</p>\n",
       "</div>"
      ],
      "text/plain": [
       "                                                   id  \\\n",
       "17  https://www.harvardartmuseums.org/collections/...   \n",
       "\n",
       "                                            place  ...          tgn  \\\n",
       "17  Study of an Archivolt in Saint Mark's, Venice  ...  tgn/7003006   \n",
       "\n",
       "                 coords  \n",
       "17  45.583333,12.566667  \n",
       "\n",
       "[1 rows x 5 columns]"
      ]
     },
     "metadata": {},
     "output_type": "display_data"
    },
    {
     "name": "stdout",
     "output_type": "stream",
     "text": [
      "Geographical coordinates representation to be added:\n",
      "{\n",
      "  \"@context\": \"https://linked.art/ns/v1/linked-art.json\",\n",
      "  \"id\": \"http://lod.example.org/museum/VisualItem/198\",\n",
      "  \"type\": \"VisualItem\",\n",
      "  \"represents\": [\n",
      "    {\n",
      "      \"id\": \"http://lod.example.org/museum/Place/397\",\n",
      "      \"type\": \"Place\",\n",
      "      \"_label\": \"Study of an Archivolt in Saint Mark's, Venice\",\n",
      "      \"approximated_by\": [\n",
      "        {\n",
      "          \"id\": \"http://lod.example.org/museum/Place/396\",\n",
      "          \"type\": \"Place\",\n",
      "          \"_label\": \"Study of an Archivolt in Saint Mark's, Venice\",\n",
      "          \"defined_by\": \"POINT(45.583333 12.566667)\"\n",
      "        }\n",
      "      ]\n",
      "    }\n",
      "  ]\n",
      "}\n",
      "File updated\n"
     ]
    },
    {
     "data": {
      "text/html": [
       "<h4>Afternoon in Spring, with south Wind, at Neuchâtel</h4>"
      ],
      "text/plain": [
       "<IPython.core.display.HTML object>"
      ]
     },
     "metadata": {},
     "output_type": "display_data"
    },
    {
     "name": "stdout",
     "output_type": "stream",
     "text": [
      "Matching row in geographical coordinates file for artwork\n"
     ]
    },
    {
     "data": {
      "text/html": [
       "<div>\n",
       "<style scoped>\n",
       "    .dataframe tbody tr th:only-of-type {\n",
       "        vertical-align: middle;\n",
       "    }\n",
       "\n",
       "    .dataframe tbody tr th {\n",
       "        vertical-align: top;\n",
       "    }\n",
       "\n",
       "    .dataframe thead th {\n",
       "        text-align: right;\n",
       "    }\n",
       "</style>\n",
       "<table border=\"1\" class=\"dataframe\">\n",
       "  <thead>\n",
       "    <tr style=\"text-align: right;\">\n",
       "      <th></th>\n",
       "      <th>id</th>\n",
       "      <th>place</th>\n",
       "      <th>...</th>\n",
       "      <th>tgn</th>\n",
       "      <th>coords</th>\n",
       "    </tr>\n",
       "  </thead>\n",
       "  <tbody>\n",
       "    <tr>\n",
       "      <th>105</th>\n",
       "      <td>https://collections.ashmolean.org/collection/1...</td>\n",
       "      <td>Afternoon in Spring, with south Wind, at Neuch...</td>\n",
       "      <td>...</td>\n",
       "      <td>tgn/7003751</td>\n",
       "      <td>46.990867,6.797675</td>\n",
       "    </tr>\n",
       "  </tbody>\n",
       "</table>\n",
       "<p>1 rows × 5 columns</p>\n",
       "</div>"
      ],
      "text/plain": [
       "                                                    id  \\\n",
       "105  https://collections.ashmolean.org/collection/1...   \n",
       "\n",
       "                                                 place  ...          tgn  \\\n",
       "105  Afternoon in Spring, with south Wind, at Neuch...  ...  tgn/7003751   \n",
       "\n",
       "                 coords  \n",
       "105  46.990867,6.797675  \n",
       "\n",
       "[1 rows x 5 columns]"
      ]
     },
     "metadata": {},
     "output_type": "display_data"
    },
    {
     "name": "stdout",
     "output_type": "stream",
     "text": [
      "Geographical coordinates representation to be added:\n",
      "{\n",
      "  \"@context\": \"https://linked.art/ns/v1/linked-art.json\",\n",
      "  \"id\": \"http://lod.example.org/museum/VisualItem/199\",\n",
      "  \"type\": \"VisualItem\",\n",
      "  \"represents\": [\n",
      "    {\n",
      "      \"id\": \"http://lod.example.org/museum/Place/399\",\n",
      "      \"type\": \"Place\",\n",
      "      \"_label\": \"Afternoon in Spring, with south Wind, at Neuch\\u00e2tel\",\n",
      "      \"approximated_by\": [\n",
      "        {\n",
      "          \"id\": \"http://lod.example.org/museum/Place/398\",\n",
      "          \"type\": \"Place\",\n",
      "          \"_label\": \"Afternoon in Spring, with south Wind, at Neuch\\u00e2tel\",\n",
      "          \"defined_by\": \"POINT(46.990867 6.797675)\"\n",
      "        }\n",
      "      ]\n",
      "    }\n",
      "  ]\n",
      "}\n",
      "File updated\n"
     ]
    },
    {
     "data": {
      "text/html": [
       "<h4>Study for Detail of the Piazza delle Erbe, Verona</h4>"
      ],
      "text/plain": [
       "<IPython.core.display.HTML object>"
      ]
     },
     "metadata": {},
     "output_type": "display_data"
    },
    {
     "name": "stdout",
     "output_type": "stream",
     "text": [
      "Matching row in geographical coordinates file for artwork\n"
     ]
    },
    {
     "data": {
      "text/html": [
       "<div>\n",
       "<style scoped>\n",
       "    .dataframe tbody tr th:only-of-type {\n",
       "        vertical-align: middle;\n",
       "    }\n",
       "\n",
       "    .dataframe tbody tr th {\n",
       "        vertical-align: top;\n",
       "    }\n",
       "\n",
       "    .dataframe thead th {\n",
       "        text-align: right;\n",
       "    }\n",
       "</style>\n",
       "<table border=\"1\" class=\"dataframe\">\n",
       "  <thead>\n",
       "    <tr style=\"text-align: right;\">\n",
       "      <th></th>\n",
       "      <th>id</th>\n",
       "      <th>place</th>\n",
       "      <th>...</th>\n",
       "      <th>tgn</th>\n",
       "      <th>coords</th>\n",
       "    </tr>\n",
       "  </thead>\n",
       "  <tbody>\n",
       "    <tr>\n",
       "      <th>72</th>\n",
       "      <td>https://collections.ashmolean.org/collection/1...</td>\n",
       "      <td>Study for Detail of the Piazza delle Erbe, Verona</td>\n",
       "      <td>...</td>\n",
       "      <td>tgn/7003262</td>\n",
       "      <td>45.45,11</td>\n",
       "    </tr>\n",
       "  </tbody>\n",
       "</table>\n",
       "<p>1 rows × 5 columns</p>\n",
       "</div>"
      ],
      "text/plain": [
       "                                                   id  \\\n",
       "72  https://collections.ashmolean.org/collection/1...   \n",
       "\n",
       "                                                place  ...          tgn  \\\n",
       "72  Study for Detail of the Piazza delle Erbe, Verona  ...  tgn/7003262   \n",
       "\n",
       "      coords  \n",
       "72  45.45,11  \n",
       "\n",
       "[1 rows x 5 columns]"
      ]
     },
     "metadata": {},
     "output_type": "display_data"
    },
    {
     "name": "stdout",
     "output_type": "stream",
     "text": [
      "Geographical coordinates representation to be added:\n",
      "{\n",
      "  \"@context\": \"https://linked.art/ns/v1/linked-art.json\",\n",
      "  \"id\": \"http://lod.example.org/museum/VisualItem/200\",\n",
      "  \"type\": \"VisualItem\",\n",
      "  \"represents\": [\n",
      "    {\n",
      "      \"id\": \"http://lod.example.org/museum/Place/401\",\n",
      "      \"type\": \"Place\",\n",
      "      \"_label\": \"Study for Detail of the Piazza delle Erbe, Verona\",\n",
      "      \"approximated_by\": [\n",
      "        {\n",
      "          \"id\": \"http://lod.example.org/museum/Place/400\",\n",
      "          \"type\": \"Place\",\n",
      "          \"_label\": \"Study for Detail of the Piazza delle Erbe, Verona\",\n",
      "          \"defined_by\": \"POINT(45.45 11)\"\n",
      "        }\n",
      "      ]\n",
      "    }\n",
      "  ]\n",
      "}\n",
      "File updated\n"
     ]
    },
    {
     "data": {
      "text/html": [
       "<h4>Sketch of the Oak Spray in Mantegna's Fresco of 'The Martyrdom of Saint James' in the Church of the Eremitani, Padua</h4>"
      ],
      "text/plain": [
       "<IPython.core.display.HTML object>"
      ]
     },
     "metadata": {},
     "output_type": "display_data"
    },
    {
     "name": "stdout",
     "output_type": "stream",
     "text": [
      "Matching row in geographical coordinates file for artwork\n"
     ]
    },
    {
     "data": {
      "text/html": [
       "<div>\n",
       "<style scoped>\n",
       "    .dataframe tbody tr th:only-of-type {\n",
       "        vertical-align: middle;\n",
       "    }\n",
       "\n",
       "    .dataframe tbody tr th {\n",
       "        vertical-align: top;\n",
       "    }\n",
       "\n",
       "    .dataframe thead th {\n",
       "        text-align: right;\n",
       "    }\n",
       "</style>\n",
       "<table border=\"1\" class=\"dataframe\">\n",
       "  <thead>\n",
       "    <tr style=\"text-align: right;\">\n",
       "      <th></th>\n",
       "      <th>id</th>\n",
       "      <th>place</th>\n",
       "      <th>...</th>\n",
       "      <th>tgn</th>\n",
       "      <th>coords</th>\n",
       "    </tr>\n",
       "  </thead>\n",
       "  <tbody>\n",
       "    <tr>\n",
       "      <th>117</th>\n",
       "      <td>https://collections.ashmolean.org/collection/1...</td>\n",
       "      <td>Sketch of the Oak Spray in Mantegna's Fresco o...</td>\n",
       "      <td>...</td>\n",
       "      <td>tgn/7003085</td>\n",
       "      <td>45.416667,11.883333</td>\n",
       "    </tr>\n",
       "  </tbody>\n",
       "</table>\n",
       "<p>1 rows × 5 columns</p>\n",
       "</div>"
      ],
      "text/plain": [
       "                                                    id  \\\n",
       "117  https://collections.ashmolean.org/collection/1...   \n",
       "\n",
       "                                                 place  ...          tgn  \\\n",
       "117  Sketch of the Oak Spray in Mantegna's Fresco o...  ...  tgn/7003085   \n",
       "\n",
       "                  coords  \n",
       "117  45.416667,11.883333  \n",
       "\n",
       "[1 rows x 5 columns]"
      ]
     },
     "metadata": {},
     "output_type": "display_data"
    },
    {
     "name": "stdout",
     "output_type": "stream",
     "text": [
      "Geographical coordinates representation to be added:\n",
      "{\n",
      "  \"@context\": \"https://linked.art/ns/v1/linked-art.json\",\n",
      "  \"id\": \"http://lod.example.org/museum/VisualItem/201\",\n",
      "  \"type\": \"VisualItem\",\n",
      "  \"represents\": [\n",
      "    {\n",
      "      \"id\": \"http://lod.example.org/museum/Place/403\",\n",
      "      \"type\": \"Place\",\n",
      "      \"_label\": \"Sketch of the Oak Spray in Mantegna's Fresco of 'The Martyrdom of Saint James' in the Church of the Eremitani, Padua\",\n",
      "      \"approximated_by\": [\n",
      "        {\n",
      "          \"id\": \"http://lod.example.org/museum/Place/402\",\n",
      "          \"type\": \"Place\",\n",
      "          \"_label\": \"Sketch of the Oak Spray in Mantegna's Fresco of 'The Martyrdom of Saint James' in the Church of the Eremitani, Padua\",\n",
      "          \"defined_by\": \"POINT(45.416667 11.883333)\"\n",
      "        }\n",
      "      ]\n",
      "    }\n",
      "  ]\n",
      "}\n",
      "File updated\n"
     ]
    },
    {
     "data": {
      "text/html": [
       "<h4>The Garden of San Miniato near Florence</h4>"
      ],
      "text/plain": [
       "<IPython.core.display.HTML object>"
      ]
     },
     "metadata": {},
     "output_type": "display_data"
    },
    {
     "name": "stdout",
     "output_type": "stream",
     "text": [
      "Matching row in geographical coordinates file for artwork\n"
     ]
    },
    {
     "data": {
      "text/html": [
       "<div>\n",
       "<style scoped>\n",
       "    .dataframe tbody tr th:only-of-type {\n",
       "        vertical-align: middle;\n",
       "    }\n",
       "\n",
       "    .dataframe tbody tr th {\n",
       "        vertical-align: top;\n",
       "    }\n",
       "\n",
       "    .dataframe thead th {\n",
       "        text-align: right;\n",
       "    }\n",
       "</style>\n",
       "<table border=\"1\" class=\"dataframe\">\n",
       "  <thead>\n",
       "    <tr style=\"text-align: right;\">\n",
       "      <th></th>\n",
       "      <th>id</th>\n",
       "      <th>place</th>\n",
       "      <th>...</th>\n",
       "      <th>tgn</th>\n",
       "      <th>coords</th>\n",
       "    </tr>\n",
       "  </thead>\n",
       "  <tbody>\n",
       "    <tr>\n",
       "      <th>118</th>\n",
       "      <td>https://www.nga.gov/collection/72870</td>\n",
       "      <td>The Garden of San Miniato near Florence</td>\n",
       "      <td>...</td>\n",
       "      <td>tgn/7000457</td>\n",
       "      <td>43.766667,11.25</td>\n",
       "    </tr>\n",
       "  </tbody>\n",
       "</table>\n",
       "<p>1 rows × 5 columns</p>\n",
       "</div>"
      ],
      "text/plain": [
       "                                       id  \\\n",
       "118  https://www.nga.gov/collection/72870   \n",
       "\n",
       "                                       place  ...          tgn  \\\n",
       "118  The Garden of San Miniato near Florence  ...  tgn/7000457   \n",
       "\n",
       "              coords  \n",
       "118  43.766667,11.25  \n",
       "\n",
       "[1 rows x 5 columns]"
      ]
     },
     "metadata": {},
     "output_type": "display_data"
    },
    {
     "name": "stdout",
     "output_type": "stream",
     "text": [
      "Geographical coordinates representation to be added:\n",
      "{\n",
      "  \"@context\": \"https://linked.art/ns/v1/linked-art.json\",\n",
      "  \"id\": \"http://lod.example.org/museum/VisualItem/202\",\n",
      "  \"type\": \"VisualItem\",\n",
      "  \"represents\": [\n",
      "    {\n",
      "      \"id\": \"http://lod.example.org/museum/Place/405\",\n",
      "      \"type\": \"Place\",\n",
      "      \"_label\": \"The Garden of San Miniato near Florence\",\n",
      "      \"approximated_by\": [\n",
      "        {\n",
      "          \"id\": \"http://lod.example.org/museum/Place/404\",\n",
      "          \"type\": \"Place\",\n",
      "          \"_label\": \"The Garden of San Miniato near Florence\",\n",
      "          \"defined_by\": \"POINT(43.766667 11.25)\"\n",
      "        }\n",
      "      ]\n",
      "    }\n",
      "  ]\n",
      "}\n",
      "File updated\n"
     ]
    },
    {
     "data": {
      "text/html": [
       "<h4>Part of a Sketch of the Northwest Porch of St. Mark's</h4>"
      ],
      "text/plain": [
       "<IPython.core.display.HTML object>"
      ]
     },
     "metadata": {},
     "output_type": "display_data"
    },
    {
     "name": "stdout",
     "output_type": "stream",
     "text": [
      "Matching row in geographical coordinates file for artwork\n"
     ]
    },
    {
     "data": {
      "text/html": [
       "<div>\n",
       "<style scoped>\n",
       "    .dataframe tbody tr th:only-of-type {\n",
       "        vertical-align: middle;\n",
       "    }\n",
       "\n",
       "    .dataframe tbody tr th {\n",
       "        vertical-align: top;\n",
       "    }\n",
       "\n",
       "    .dataframe thead th {\n",
       "        text-align: right;\n",
       "    }\n",
       "</style>\n",
       "<table border=\"1\" class=\"dataframe\">\n",
       "  <thead>\n",
       "    <tr style=\"text-align: right;\">\n",
       "      <th></th>\n",
       "      <th>id</th>\n",
       "      <th>place</th>\n",
       "      <th>...</th>\n",
       "      <th>tgn</th>\n",
       "      <th>coords</th>\n",
       "    </tr>\n",
       "  </thead>\n",
       "  <tbody>\n",
       "    <tr>\n",
       "      <th>18</th>\n",
       "      <td>https://www.harvardartmuseums.org/collections/...</td>\n",
       "      <td>Part of a Sketch of the Northwest Porch of St....</td>\n",
       "      <td>...</td>\n",
       "      <td>tgn/7003006</td>\n",
       "      <td>45.583333,12.566667</td>\n",
       "    </tr>\n",
       "  </tbody>\n",
       "</table>\n",
       "<p>1 rows × 5 columns</p>\n",
       "</div>"
      ],
      "text/plain": [
       "                                                   id  \\\n",
       "18  https://www.harvardartmuseums.org/collections/...   \n",
       "\n",
       "                                                place  ...          tgn  \\\n",
       "18  Part of a Sketch of the Northwest Porch of St....  ...  tgn/7003006   \n",
       "\n",
       "                 coords  \n",
       "18  45.583333,12.566667  \n",
       "\n",
       "[1 rows x 5 columns]"
      ]
     },
     "metadata": {},
     "output_type": "display_data"
    },
    {
     "name": "stdout",
     "output_type": "stream",
     "text": [
      "Geographical coordinates representation to be added:\n",
      "{\n",
      "  \"@context\": \"https://linked.art/ns/v1/linked-art.json\",\n",
      "  \"id\": \"http://lod.example.org/museum/VisualItem/203\",\n",
      "  \"type\": \"VisualItem\",\n",
      "  \"represents\": [\n",
      "    {\n",
      "      \"id\": \"http://lod.example.org/museum/Place/407\",\n",
      "      \"type\": \"Place\",\n",
      "      \"_label\": \"Part of a Sketch of the Northwest Porch of St. Mark's\",\n",
      "      \"approximated_by\": [\n",
      "        {\n",
      "          \"id\": \"http://lod.example.org/museum/Place/406\",\n",
      "          \"type\": \"Place\",\n",
      "          \"_label\": \"Part of a Sketch of the Northwest Porch of St. Mark's\",\n",
      "          \"defined_by\": \"POINT(45.583333 12.566667)\"\n",
      "        }\n",
      "      ]\n",
      "    }\n",
      "  ]\n",
      "}\n",
      "File updated\n"
     ]
    },
    {
     "data": {
      "text/html": [
       "<h4>Gezicht op S. Anastasia te Verona, over de Adige</h4>"
      ],
      "text/plain": [
       "<IPython.core.display.HTML object>"
      ]
     },
     "metadata": {},
     "output_type": "display_data"
    },
    {
     "name": "stdout",
     "output_type": "stream",
     "text": [
      "Matching row in geographical coordinates file for artwork\n"
     ]
    },
    {
     "data": {
      "text/html": [
       "<div>\n",
       "<style scoped>\n",
       "    .dataframe tbody tr th:only-of-type {\n",
       "        vertical-align: middle;\n",
       "    }\n",
       "\n",
       "    .dataframe tbody tr th {\n",
       "        vertical-align: top;\n",
       "    }\n",
       "\n",
       "    .dataframe thead th {\n",
       "        text-align: right;\n",
       "    }\n",
       "</style>\n",
       "<table border=\"1\" class=\"dataframe\">\n",
       "  <thead>\n",
       "    <tr style=\"text-align: right;\">\n",
       "      <th></th>\n",
       "      <th>id</th>\n",
       "      <th>place</th>\n",
       "      <th>...</th>\n",
       "      <th>tgn</th>\n",
       "      <th>coords</th>\n",
       "    </tr>\n",
       "  </thead>\n",
       "  <tbody>\n",
       "    <tr>\n",
       "      <th>73</th>\n",
       "      <td>http://www.rijksmuseum.nl/nl/collectie/RP-T-19...</td>\n",
       "      <td>Gezicht op S. Anastasia te Verona, over de Adige</td>\n",
       "      <td>...</td>\n",
       "      <td>tgn/7003262</td>\n",
       "      <td>45.45,11</td>\n",
       "    </tr>\n",
       "  </tbody>\n",
       "</table>\n",
       "<p>1 rows × 5 columns</p>\n",
       "</div>"
      ],
      "text/plain": [
       "                                                   id  \\\n",
       "73  http://www.rijksmuseum.nl/nl/collectie/RP-T-19...   \n",
       "\n",
       "                                               place  ...          tgn  \\\n",
       "73  Gezicht op S. Anastasia te Verona, over de Adige  ...  tgn/7003262   \n",
       "\n",
       "      coords  \n",
       "73  45.45,11  \n",
       "\n",
       "[1 rows x 5 columns]"
      ]
     },
     "metadata": {},
     "output_type": "display_data"
    },
    {
     "name": "stdout",
     "output_type": "stream",
     "text": [
      "Geographical coordinates representation to be added:\n",
      "{\n",
      "  \"@context\": \"https://linked.art/ns/v1/linked-art.json\",\n",
      "  \"id\": \"http://lod.example.org/museum/VisualItem/204\",\n",
      "  \"type\": \"VisualItem\",\n",
      "  \"represents\": [\n",
      "    {\n",
      "      \"id\": \"http://lod.example.org/museum/Place/409\",\n",
      "      \"type\": \"Place\",\n",
      "      \"_label\": \"Gezicht op S. Anastasia te Verona, over de Adige\",\n",
      "      \"approximated_by\": [\n",
      "        {\n",
      "          \"id\": \"http://lod.example.org/museum/Place/408\",\n",
      "          \"type\": \"Place\",\n",
      "          \"_label\": \"Gezicht op S. Anastasia te Verona, over de Adige\",\n",
      "          \"defined_by\": \"POINT(45.45 11)\"\n",
      "        }\n",
      "      ]\n",
      "    }\n",
      "  ]\n",
      "}\n",
      "File updated\n"
     ]
    },
    {
     "data": {
      "text/html": [
       "<h4>Study of the Marble Inlaying on the Front of the Casa Loredan, Venice</h4>"
      ],
      "text/plain": [
       "<IPython.core.display.HTML object>"
      ]
     },
     "metadata": {},
     "output_type": "display_data"
    },
    {
     "name": "stdout",
     "output_type": "stream",
     "text": [
      "Matching row in geographical coordinates file for artwork\n"
     ]
    },
    {
     "data": {
      "text/html": [
       "<div>\n",
       "<style scoped>\n",
       "    .dataframe tbody tr th:only-of-type {\n",
       "        vertical-align: middle;\n",
       "    }\n",
       "\n",
       "    .dataframe tbody tr th {\n",
       "        vertical-align: top;\n",
       "    }\n",
       "\n",
       "    .dataframe thead th {\n",
       "        text-align: right;\n",
       "    }\n",
       "</style>\n",
       "<table border=\"1\" class=\"dataframe\">\n",
       "  <thead>\n",
       "    <tr style=\"text-align: right;\">\n",
       "      <th></th>\n",
       "      <th>id</th>\n",
       "      <th>place</th>\n",
       "      <th>...</th>\n",
       "      <th>tgn</th>\n",
       "      <th>coords</th>\n",
       "    </tr>\n",
       "  </thead>\n",
       "  <tbody>\n",
       "    <tr>\n",
       "      <th>19</th>\n",
       "      <td>https://collections.ashmolean.org/collection/1...</td>\n",
       "      <td>Study of the Marble Inlaying on the Front of t...</td>\n",
       "      <td>...</td>\n",
       "      <td>tgn/7003006</td>\n",
       "      <td>45.583333,12.566667</td>\n",
       "    </tr>\n",
       "  </tbody>\n",
       "</table>\n",
       "<p>1 rows × 5 columns</p>\n",
       "</div>"
      ],
      "text/plain": [
       "                                                   id  \\\n",
       "19  https://collections.ashmolean.org/collection/1...   \n",
       "\n",
       "                                                place  ...          tgn  \\\n",
       "19  Study of the Marble Inlaying on the Front of t...  ...  tgn/7003006   \n",
       "\n",
       "                 coords  \n",
       "19  45.583333,12.566667  \n",
       "\n",
       "[1 rows x 5 columns]"
      ]
     },
     "metadata": {},
     "output_type": "display_data"
    },
    {
     "name": "stdout",
     "output_type": "stream",
     "text": [
      "Geographical coordinates representation to be added:\n",
      "{\n",
      "  \"@context\": \"https://linked.art/ns/v1/linked-art.json\",\n",
      "  \"id\": \"http://lod.example.org/museum/VisualItem/205\",\n",
      "  \"type\": \"VisualItem\",\n",
      "  \"represents\": [\n",
      "    {\n",
      "      \"id\": \"http://lod.example.org/museum/Place/411\",\n",
      "      \"type\": \"Place\",\n",
      "      \"_label\": \"Study of the Marble Inlaying on the Front of the Casa Loredan, Venice\",\n",
      "      \"approximated_by\": [\n",
      "        {\n",
      "          \"id\": \"http://lod.example.org/museum/Place/410\",\n",
      "          \"type\": \"Place\",\n",
      "          \"_label\": \"Study of the Marble Inlaying on the Front of the Casa Loredan, Venice\",\n",
      "          \"defined_by\": \"POINT(45.583333 12.566667)\"\n",
      "        }\n",
      "      ]\n",
      "    }\n",
      "  ]\n",
      "}\n",
      "File updated\n"
     ]
    },
    {
     "data": {
      "text/html": [
       "<h4>Files updated</h4>"
      ],
      "text/plain": [
       "<IPython.core.display.HTML object>"
      ]
     },
     "execution_count": 58,
     "metadata": {},
     "output_type": "execute_result"
    }
   ],
   "source": [
    "try:\n",
    "    import cromulent \n",
    "except:\n",
    "    %pip install cromulent\n",
    "    import cromulent\n",
    "    \n",
    "from cromulent.model import factory\n",
    "\n",
    "from cromulent.model import factory, Actor, Production, BeginningOfExistence, EndOfExistence, TimeSpan, Place\n",
    "from cromulent.model import InformationObject, Phase, VisualItem \n",
    "from cromulent.vocab import Painting, Drawing,Miniature,add_art_setter, PrimaryName, Name, CollectionSet, instances, Sculpture \n",
    "from cromulent.vocab import aat_culture_mapping, AccessionNumber, Height, Width, SupportPart, Gallery, MuseumPlace \n",
    "from cromulent.vocab import BottomPart, Description, RightsStatement, MuseumOrg, Purchase\n",
    "from cromulent.vocab import Furniture, Mosaic, Photograph, Coin, Vessel, Graphic, Enamel, Embroidery, PhotographPrint\n",
    "from cromulent.vocab import PhotographAlbum, PhotographBook, PhotographColor, PhotographBW, Negative, Map, Clothing, Furniture\n",
    "from cromulent.vocab import Sample, Architecture, Armor, Book, DecArts, Implement, Jewelry, Manuscript, SiteInstallation, Text, Print\n",
    "from cromulent.vocab import TimeBasedMedia, Page, Folio, Folder, Box, Envelope, Binder, Case, FlatfileCabinet\n",
    "from cromulent.vocab import HumanMadeObject,Tapestry,LocalNumber\n",
    "from cromulent.vocab import Type,Set\n",
    "from cromulent.vocab import TimeSpan, Actor, Group, Acquisition, Place\n",
    "from cromulent.vocab import Production, TimeSpan, Actor\n",
    "from cromulent.vocab import LinguisticObject,DigitalObject, DigitalService\n",
    "from cromulent import reader\n",
    "\n",
    "try:\n",
    "    import pandas as pd\n",
    "except:\n",
    "    %pip install pandas\n",
    "    import pandas as pd\n",
    "    \n",
    "try:\n",
    "    import os\n",
    "except:\n",
    "    %pip install os\n",
    "    import os\n",
    "    \n",
    "try:\n",
    "    import json\n",
    "except:\n",
    "    %pip install json\n",
    "    import json \n",
    "    \n",
    "artwork = {}\n",
    "cnt=1\n",
    "\n",
    "# directory that will contain updated Ruskin artwork representations including geo coords\n",
    "storyvisdir = \"data/ruskin/storyvis/json\"\n",
    "\n",
    "# file containing reconciled data with coordinates\n",
    "filecoord = \"./data/ruskin/ruskin-places-rec-coords.csv\" \n",
    "# open file containing reconciled data with geo coordinates\n",
    "dataframeGeo = pd.read_csv(filecoord,low_memory=False)\n",
    "\n",
    "\n",
    "# directory containing Rusking artworks represented in Linked Art JSON-LD\n",
    "ruskindir = \"data/ruskin/output/json\"\n",
    "file_list=os.listdir(ruskindir)\n",
    "\n",
    "# for each linked art json file\n",
    "for file in file_list:\n",
    "    # open file\n",
    "    with open( ruskindir + \"/\" + file) as json_file:\n",
    "        \n",
    "        # get json object from file object with json.load() https://www.geeksforgeeks.org/json-load-in-python/\n",
    "        artwork = json.load(json_file)\n",
    "        \n",
    "        # if id field is in the id field of data file containing geographical coordinates, add update the file\n",
    "        if artwork[\"id\"] in dataframeGeo[\"id\"].tolist():\n",
    "            \n",
    "            display(HTML(\"<h4>\" + artwork[\"_label\"] + \"</h4>\"))\n",
    "            # get rows in dataframeGeo where id == artwork id from JSON-LD file\n",
    "            # Access a group of rows and columns by label(s) or a boolean array\n",
    "            # https://pandas.pydata.org/docs/reference/api/pandas.DataFrame.loc.html\n",
    "            rows = dataframeGeo.loc[dataframeGeo['id'] == artwork[\"id\"]]\n",
    "            \n",
    "            print(\"Matching row in geographical coordinates file for artwork\")\n",
    "            display(rows)\n",
    "            \n",
    "            # get first row https://pandas.pydata.org/docs/reference/api/pandas.DataFrame.iloc.html\n",
    "            row=rows.iloc[0]\n",
    "            \n",
    "         \n",
    "            \n",
    "            # get place name and coords from geocoords file \n",
    "            placeName = row[\"place\"]\n",
    "            coords = row[\"coords\"]\n",
    "            # replace comma in coords with space\n",
    "            coords = coords.replace(\",\", \" \")\n",
    "           \n",
    "            # increment counter\n",
    "            cnt = cnt+1\n",
    "             \n",
    "            # use cromulent to create Linked Art representation of place depicted\n",
    "             # https://github.com/thegetty/crom\n",
    "            \n",
    "            approx_place = Place()\n",
    "            approx_place._label = placeName\n",
    "            approx_place.defined_by = \"POINT(\" + coords + \")\"\n",
    "            \n",
    "            place = Place()\n",
    "            place._label = placeName\n",
    "            place.approximated_by = approx_place\n",
    "            \n",
    "            visualItem = VisualItem()\n",
    "            visualItem.represents = place\n",
    "            \n",
    "            # append new representation to artwork json object\n",
    "            artwork[\"shows\"] = factory.toJSON(visualItem)\n",
    "            \n",
    "            print(\"Geographical coordinates representation to be added:\")\n",
    "            print(json.dumps(factory.toJSON(visualItem), indent=2))\n",
    "            \n",
    "            # open output file \n",
    "            text_file = open(storyvisdir + \"/\" + str(cnt) + \".json\", \"wt\")\n",
    "            \n",
    "            # write to file and close\n",
    "            n = text_file.write(json.dumps(artwork,indent=2))\n",
    "            text_file.close()\n",
    "            print(\"File updated\" )\n",
    "\n",
    "HTML(\"<h4>Files updated</h4>\")"
   ]
  },
  {
   "cell_type": "markdown",
   "id": "d3fc4dc6",
   "metadata": {},
   "source": [
    "## View Linked Art JSON-LD files from Ruskin dataset"
   ]
  },
  {
   "cell_type": "code",
   "execution_count": 64,
   "id": "2474c801",
   "metadata": {},
   "outputs": [],
   "source": [
    "import ipywidgets\n",
    "\n",
    "from ipywidgets import Layout, FileUpload \n",
    "from IPython.display import display, IFrame, HTML, Image\n",
    "import os\n",
    "import json\n",
    "\n",
    "\n",
    "\n",
    "# directory that will contain updated Ruskin artwork representations including geo coords\n",
    "dir = \"data/ruskin/storyvis/json\"\n",
    "\n",
    "file_list=os.listdir(dir)\n",
    "\n",
    "selectOptions = []\n",
    "selectOptions.append((\"Please select an artwork\", \"\"))\n",
    "\n",
    "\n",
    "# for each linked art json file\n",
    "for file in file_list:\n",
    "    # open file\n",
    "    with open( dir + \"/\" + file) as json_file:\n",
    "        artwork = json.load(json_file)\n",
    "        title = artwork[\"_label\"] + \" (\" + file + \")\"\n",
    "        \n",
    "        selectOptions.append((title,file))\n",
    "        \n",
    "from IPython.core.display import Javascript        \n",
    "    \n",
    "def dropdown_eventhandler(change):\n",
    "    with open('./src/js/visld.js', 'r') as _jscript:\n",
    "        code = _jscript.read() + \"var file = './data/ruskin/storyvis/json/\" + change.new + \"';var selector = '#vis3';visjsonld(file, selector); \"\n",
    "        display(Javascript(code))\n",
    "    \n",
    "        with open( dir + \"/\" + change.new) as json_file:\n",
    "    \n",
    "                artwork = json.load(json_file)\n",
    "                if (\"representation\" in artwork):\n",
    "                    image = artwork[\"representation\"][0][\"id\"]\n",
    "                    display(Javascript(\"document.getElementById('artwork').src = '\" + image   +   \"';\"))\n",
    "                else:\n",
    "                    display(Javascript(\"document.getElementById('artwork').src = '';\"))\n",
    "                    \n",
    "        "
   ]
  },
  {
   "cell_type": "code",
   "execution_count": 65,
   "id": "ae6f10d3",
   "metadata": {},
   "outputs": [
    {
     "data": {
      "application/vnd.jupyter.widget-view+json": {
       "model_id": "f8d19a44028642efa872580df4d9a5d1",
       "version_major": 2,
       "version_minor": 0
      },
      "text/plain": [
       "Dropdown(options=(('Please select an artwork', ''), ('Study for Detail of the Piazza delle Erbe, Verona (115.j…"
      ]
     },
     "metadata": {},
     "output_type": "display_data"
    },
    {
     "data": {
      "application/javascript": [
       "\n",
       "\n",
       "\n",
       "function visjsonld(file, selector){\n",
       "   \n",
       "    require([\"d3\"], function(d3) {\n",
       "        \n",
       "    d3.json(file, (err, jsonld) => {\n",
       "        \n",
       "    var config = {};\n",
       "    \n",
       "    var h = config.h || 800\n",
       "          , w = config.w || 3000\n",
       "          , maxLabelWidth = config.maxLabelWidth || 200\n",
       "          , transitionDuration = config.transitionDuration || 750\n",
       "          , transitionEase = config.transitionEase || 'cubic-in-out'\n",
       "          , minRadius = config.minRadius || 5\n",
       "          , scalingFactor = config.scalingFactor || 2;\n",
       "    \n",
       "    var i = 0;\n",
       "\n",
       "    var tree = d3.layout.tree()\n",
       "          .size([h, w]);\n",
       "        \n",
       "    var diagonal = d3.svg.diagonal()\n",
       "          .projection(function(d) { return [d.y, d.x]; });\n",
       "        \n",
       "    d3.select(selector).selectAll(\"svg\").remove();\n",
       "   \n",
       "    var svg = d3.select(selector).append('svg')\n",
       "            .attr('width', w)\n",
       "            .attr('height', h)\n",
       "            .attr('style', 'background-color:#446a7f')\n",
       "            .append('g')\n",
       "            .attr('transform', 'translate(' + maxLabelWidth + ',0)');\n",
       "            \n",
       "     var root = jsonldTree(jsonld);\n",
       "        root.x0 = h / 2;\n",
       "        root.y0 = 0;\n",
       "        root.children.forEach(collapse);\n",
       "    \n",
       "        function changeSVGWidth(newWidth) {\n",
       "          if (w !== newWidth) {\n",
       "            d3.select(selector + ' > svg').attr('width', newWidth);\n",
       "          }\n",
       "        }\n",
       "    \n",
       "        function jsonldTree(source) {\n",
       "          var tree = {};\n",
       "    \n",
       "          if ('@id' in source) {\n",
       "            tree.isIdNode = true;\n",
       "            tree.name = source['@id'];\n",
       "            if (tree.name.length > maxLabelWidth / 9) {\n",
       "              tree.valueExtended = tree.name;\n",
       "              tree.name = '...' + tree.valueExtended.slice(-Math.floor(maxLabelWidth / 9));\n",
       "            }\n",
       "          } else {\n",
       "            tree.isIdNode = true;\n",
       "            tree.isBlankNode = true;\n",
       "            // random id, can replace with actual uuid generator if needed\n",
       "            tree.name = '_' + Math.random().toString(10).slice(-7);\n",
       "          }\n",
       "    \n",
       "          var children = [];\n",
       "          Object.keys(source).forEach(function(key) {\n",
       "            if (key === '@id' || key === '@context' || source[key] === null) return;\n",
       "    \n",
       "            var valueExtended, value;\n",
       "            if (typeof source[key] === 'object' && !Array.isArray(source[key])) {\n",
       "              children.push({\n",
       "                name: key,\n",
       "                children: [jsonldTree(source[key])]\n",
       "              });\n",
       "            } else if (Array.isArray(source[key])) {\n",
       "              children.push({\n",
       "                name: key,\n",
       "                children: source[key].map(function(item) {\n",
       "                  if (typeof item === 'object') {\n",
       "                    return jsonldTree(item);\n",
       "                  } else {\n",
       "                    return { name: item };\n",
       "                  }\n",
       "                })\n",
       "              });\n",
       "            } else {\n",
       "              valueExtended = source[key];\n",
       "              value = valueExtended;\n",
       "              if (value.length > maxLabelWidth / 9) {\n",
       "                value = value.slice(0, Math.floor(maxLabelWidth / 2)) + '...';\n",
       "                children.push({\n",
       "                  name: key,\n",
       "                  value: value,\n",
       "                  valueExtended: valueExtended\n",
       "                });\n",
       "              } else {\n",
       "                children.push({\n",
       "                  name: key,\n",
       "                  value: value\n",
       "                });\n",
       "              }\n",
       "            }\n",
       "          });\n",
       "    \n",
       "          if (children.length) {\n",
       "            tree.children = children;\n",
       "          }\n",
       "    \n",
       "          return tree;\n",
       "        }\n",
       "    \n",
       "        function update(source) {\n",
       "          var nodes = tree.nodes(root).reverse();\n",
       "          var links = tree.links(nodes);\n",
       "    \n",
       "          nodes.forEach(function(d) { d.y = d.depth * maxLabelWidth; });\n",
       "    \n",
       "          var node = svg.selectAll('g.node')\n",
       "            .data(nodes, function(d) { return d.id || (d.id = ++i); });\n",
       "    \n",
       "          var nodeEnter = node.enter()\n",
       "            .append('g')\n",
       "            .attr('class', 'node')\n",
       "            .attr('transform', function(d) { return 'translate(' + source.y0 + ',' + source.x0 + ')'; })\n",
       "            .on('click', click);\n",
       "    \n",
       "          nodeEnter.append('circle')\n",
       "            .attr('r', 0)\n",
       "            .style('stroke-width', function(d) {\n",
       "              return d.isIdNode ? '2px' : '1px';\n",
       "            })\n",
       "            .style('stroke', function(d) {\n",
       "              return d.isIdNode ? 'navy' : '#78BE21';\n",
       "            })\n",
       "            .style('fill', function(d) {\n",
       "              if (d.isIdNode) {\n",
       "                return d._children ? 'white' : 'white';\n",
       "              } else {\n",
       "                return d._children ? 'white' : 'white';\n",
       "              }\n",
       "            })\n",
       "            \n",
       "    \n",
       "          nodeEnter.append('text')\n",
       "            .attr('x', function(d) {\n",
       "              var spacing = computeRadius(d) + 5;\n",
       "              return d.children || d._children ? -spacing : spacing;\n",
       "            })\n",
       "            .attr('dy', '4')\n",
       "            .attr('text-anchor', function(d) { return d.children || d._children ? 'end' : 'start'; })\n",
       "            .text(function(d) { return d.name + (d.value ? ': ' + d.value : ''); })\n",
       "            .style('fill-opacity', 0)\n",
       "            \n",
       ";\n",
       "    \n",
       "          var maxSpan = Math.max.apply(Math, nodes.map(function(d) { return d.y + maxLabelWidth; }));\n",
       "          if (maxSpan + maxLabelWidth + 20 > w) {\n",
       "            changeSVGWidth(maxSpan + maxLabelWidth);\n",
       "            d3.select(selector).node().scrollLeft = source.y0;\n",
       "          }\n",
       "    \n",
       "          var nodeUpdate = node.transition()\n",
       "            .duration(transitionDuration)\n",
       "            .ease(transitionEase)\n",
       "            .attr('transform', function(d) { return 'translate(' + d.y + ',' + d.x + ')'; });\n",
       "    \n",
       "          nodeUpdate.select('circle')\n",
       "            .attr('r', function(d) { return computeRadius(d); })\n",
       "            .style('stroke-width', function(d) {\n",
       "              return d.isIdNode ? '2px' : '1px';\n",
       "            })\n",
       "            .style('stroke', function(d) {\n",
       "              return d.isIdNode ? '#78BE21' : '#78BE21';\n",
       "            })\n",
       "            .style('fill', function(d) {\n",
       "              if (d.isIdNode) {\n",
       "                return d._children ? 'navy' : '#78BE21';\n",
       "              } else {\n",
       "                return d._children ? 'navy' : '#78BE21';\n",
       "              }\n",
       "            });\n",
       "    \n",
       "            nodeUpdate.select('text').style('fill-opacity', 1);\n",
       "            nodeUpdate.select('text').style('font-family', \"'Open Sans', 'Helvetica Neue', Helvetica, sans-serif\");\n",
       "            nodeUpdate.select('text').style('fill', 'white');\n",
       "            nodeUpdate.select('text').style('font-size', '12px');\n",
       "            \n",
       "            \n",
       "            \n",
       "           \n",
       "            \n",
       "    \n",
       "      \n",
       "    \n",
       "          var nodeExit = node.exit().transition()\n",
       "            .duration(transitionDuration)\n",
       "            .ease(transitionEase)\n",
       "            .attr('transform', function(d) { return 'translate(' + source.y + ',' + source.x + ')'; })\n",
       "            .remove();\n",
       "    \n",
       "          nodeExit.select('circle').attr('r', 0);\n",
       "          nodeExit.select('text').style('fill-opacity', 0);\n",
       "    \n",
       "          var link = svg.selectAll('path.link')\n",
       "            .data(links, function(d) { return d.target.id; });\n",
       "    \n",
       "          link.enter().insert('path', 'g')\n",
       "            .attr('class', 'link')\n",
       "            .attr('style', 'fill: none;stroke: #DADFE1;stroke-width: 1px;')\n",
       "            .attr('d', function(d) {\n",
       "              var o = { x: source.x0, y: source.y0 };\n",
       "              return diagonal({ source: o, target: o });\n",
       "            });\n",
       "    \n",
       "          link.transition()\n",
       "            .duration(transitionDuration)\n",
       "            .ease(transitionEase)\n",
       "            .attr('d', diagonal);\n",
       "    \n",
       "          link.exit().transition()\n",
       "            .duration(transitionDuration)\n",
       "            .ease(transitionEase)\n",
       "            .attr('d', function(d) {\n",
       "              var o = { x: source.x, y: source.y };\n",
       "              return diagonal({ source: o, target: o });\n",
       "            })\n",
       "            .remove();\n",
       "    \n",
       "          nodes.forEach(function(d) {\n",
       "            d.x0 = d.x;\n",
       "            d.y0 = d.y;\n",
       "          });\n",
       "        }\n",
       "    \n",
       "        function computeRadius(d) {\n",
       "          if (d.children || d._children) {\n",
       "            return minRadius + (numEndNodes(d) / scalingFactor);\n",
       "          } else {\n",
       "            return minRadius;\n",
       "          }\n",
       "        }\n",
       "    \n",
       "        function numEndNodes(n) {\n",
       "          var num = 0;\n",
       "          if (n.children) {\n",
       "            n.children.forEach(function(c) {\n",
       "              num += numEndNodes(c);\n",
       "            });\n",
       "          } else if (n._children) {\n",
       "            n._children.forEach(function(c) {\n",
       "              num += numEndNodes(c);\n",
       "            });\n",
       "          } else {\n",
       "            num++;\n",
       "          }\n",
       "          return num;\n",
       "        }\n",
       "    \n",
       "        function click(d) {\n",
       "          if (d.children) {\n",
       "            d._children = d.children;\n",
       "            d.children = null;\n",
       "          } else {\n",
       "            d.children = d._children;\n",
       "            d._children = null;\n",
       "          }\n",
       "    \n",
       "          update(d);\n",
       "    \n",
       "          // fast-forward blank nodes\n",
       "          if (d.children) {\n",
       "            d.children.forEach(function(child) {\n",
       "              if (child.isBlankNode && child._children) {\n",
       "                click(child);\n",
       "              }\n",
       "            });\n",
       "          }\n",
       "        }\n",
       "    \n",
       "        function collapse(d) {\n",
       "          if (d.children) {\n",
       "            d._children = d.children;\n",
       "            d._children.forEach(collapse);\n",
       "            d.children = null;\n",
       "          }\n",
       "        }\n",
       "    \n",
       "        update(root);\n",
       "      \n",
       "        \n",
       "    })\n",
       "\n",
       "\n",
       "\n",
       "\n",
       "})}\n",
       "var file = './data/ruskin/storyvis/json/83.json';var selector = '#vis3';visjsonld(file, selector); "
      ],
      "text/plain": [
       "<IPython.core.display.Javascript object>"
      ]
     },
     "metadata": {},
     "output_type": "display_data"
    },
    {
     "data": {
      "application/javascript": [
       "document.getElementById('artwork').src = 'https://collections.ashmolean.org/media/ashmole6_collection/w800/Collections/Single_Objects/WA/WA_RS/WA_RS_RUD_042_a-a-L.jpg';"
      ],
      "text/plain": [
       "<IPython.core.display.Javascript object>"
      ]
     },
     "metadata": {},
     "output_type": "display_data"
    },
    {
     "data": {
      "application/javascript": [
       "\n",
       "\n",
       "\n",
       "function visjsonld(file, selector){\n",
       "   \n",
       "    require([\"d3\"], function(d3) {\n",
       "        \n",
       "    d3.json(file, (err, jsonld) => {\n",
       "        \n",
       "    var config = {};\n",
       "    \n",
       "    var h = config.h || 800\n",
       "          , w = config.w || 3000\n",
       "          , maxLabelWidth = config.maxLabelWidth || 200\n",
       "          , transitionDuration = config.transitionDuration || 750\n",
       "          , transitionEase = config.transitionEase || 'cubic-in-out'\n",
       "          , minRadius = config.minRadius || 5\n",
       "          , scalingFactor = config.scalingFactor || 2;\n",
       "    \n",
       "    var i = 0;\n",
       "\n",
       "    var tree = d3.layout.tree()\n",
       "          .size([h, w]);\n",
       "        \n",
       "    var diagonal = d3.svg.diagonal()\n",
       "          .projection(function(d) { return [d.y, d.x]; });\n",
       "        \n",
       "    d3.select(selector).selectAll(\"svg\").remove();\n",
       "   \n",
       "    var svg = d3.select(selector).append('svg')\n",
       "            .attr('width', w)\n",
       "            .attr('height', h)\n",
       "            .attr('style', 'background-color:#446a7f')\n",
       "            .append('g')\n",
       "            .attr('transform', 'translate(' + maxLabelWidth + ',0)');\n",
       "            \n",
       "     var root = jsonldTree(jsonld);\n",
       "        root.x0 = h / 2;\n",
       "        root.y0 = 0;\n",
       "        root.children.forEach(collapse);\n",
       "    \n",
       "        function changeSVGWidth(newWidth) {\n",
       "          if (w !== newWidth) {\n",
       "            d3.select(selector + ' > svg').attr('width', newWidth);\n",
       "          }\n",
       "        }\n",
       "    \n",
       "        function jsonldTree(source) {\n",
       "          var tree = {};\n",
       "    \n",
       "          if ('@id' in source) {\n",
       "            tree.isIdNode = true;\n",
       "            tree.name = source['@id'];\n",
       "            if (tree.name.length > maxLabelWidth / 9) {\n",
       "              tree.valueExtended = tree.name;\n",
       "              tree.name = '...' + tree.valueExtended.slice(-Math.floor(maxLabelWidth / 9));\n",
       "            }\n",
       "          } else {\n",
       "            tree.isIdNode = true;\n",
       "            tree.isBlankNode = true;\n",
       "            // random id, can replace with actual uuid generator if needed\n",
       "            tree.name = '_' + Math.random().toString(10).slice(-7);\n",
       "          }\n",
       "    \n",
       "          var children = [];\n",
       "          Object.keys(source).forEach(function(key) {\n",
       "            if (key === '@id' || key === '@context' || source[key] === null) return;\n",
       "    \n",
       "            var valueExtended, value;\n",
       "            if (typeof source[key] === 'object' && !Array.isArray(source[key])) {\n",
       "              children.push({\n",
       "                name: key,\n",
       "                children: [jsonldTree(source[key])]\n",
       "              });\n",
       "            } else if (Array.isArray(source[key])) {\n",
       "              children.push({\n",
       "                name: key,\n",
       "                children: source[key].map(function(item) {\n",
       "                  if (typeof item === 'object') {\n",
       "                    return jsonldTree(item);\n",
       "                  } else {\n",
       "                    return { name: item };\n",
       "                  }\n",
       "                })\n",
       "              });\n",
       "            } else {\n",
       "              valueExtended = source[key];\n",
       "              value = valueExtended;\n",
       "              if (value.length > maxLabelWidth / 9) {\n",
       "                value = value.slice(0, Math.floor(maxLabelWidth / 2)) + '...';\n",
       "                children.push({\n",
       "                  name: key,\n",
       "                  value: value,\n",
       "                  valueExtended: valueExtended\n",
       "                });\n",
       "              } else {\n",
       "                children.push({\n",
       "                  name: key,\n",
       "                  value: value\n",
       "                });\n",
       "              }\n",
       "            }\n",
       "          });\n",
       "    \n",
       "          if (children.length) {\n",
       "            tree.children = children;\n",
       "          }\n",
       "    \n",
       "          return tree;\n",
       "        }\n",
       "    \n",
       "        function update(source) {\n",
       "          var nodes = tree.nodes(root).reverse();\n",
       "          var links = tree.links(nodes);\n",
       "    \n",
       "          nodes.forEach(function(d) { d.y = d.depth * maxLabelWidth; });\n",
       "    \n",
       "          var node = svg.selectAll('g.node')\n",
       "            .data(nodes, function(d) { return d.id || (d.id = ++i); });\n",
       "    \n",
       "          var nodeEnter = node.enter()\n",
       "            .append('g')\n",
       "            .attr('class', 'node')\n",
       "            .attr('transform', function(d) { return 'translate(' + source.y0 + ',' + source.x0 + ')'; })\n",
       "            .on('click', click);\n",
       "    \n",
       "          nodeEnter.append('circle')\n",
       "            .attr('r', 0)\n",
       "            .style('stroke-width', function(d) {\n",
       "              return d.isIdNode ? '2px' : '1px';\n",
       "            })\n",
       "            .style('stroke', function(d) {\n",
       "              return d.isIdNode ? 'navy' : '#78BE21';\n",
       "            })\n",
       "            .style('fill', function(d) {\n",
       "              if (d.isIdNode) {\n",
       "                return d._children ? 'white' : 'white';\n",
       "              } else {\n",
       "                return d._children ? 'white' : 'white';\n",
       "              }\n",
       "            })\n",
       "            \n",
       "    \n",
       "          nodeEnter.append('text')\n",
       "            .attr('x', function(d) {\n",
       "              var spacing = computeRadius(d) + 5;\n",
       "              return d.children || d._children ? -spacing : spacing;\n",
       "            })\n",
       "            .attr('dy', '4')\n",
       "            .attr('text-anchor', function(d) { return d.children || d._children ? 'end' : 'start'; })\n",
       "            .text(function(d) { return d.name + (d.value ? ': ' + d.value : ''); })\n",
       "            .style('fill-opacity', 0)\n",
       "            \n",
       ";\n",
       "    \n",
       "          var maxSpan = Math.max.apply(Math, nodes.map(function(d) { return d.y + maxLabelWidth; }));\n",
       "          if (maxSpan + maxLabelWidth + 20 > w) {\n",
       "            changeSVGWidth(maxSpan + maxLabelWidth);\n",
       "            d3.select(selector).node().scrollLeft = source.y0;\n",
       "          }\n",
       "    \n",
       "          var nodeUpdate = node.transition()\n",
       "            .duration(transitionDuration)\n",
       "            .ease(transitionEase)\n",
       "            .attr('transform', function(d) { return 'translate(' + d.y + ',' + d.x + ')'; });\n",
       "    \n",
       "          nodeUpdate.select('circle')\n",
       "            .attr('r', function(d) { return computeRadius(d); })\n",
       "            .style('stroke-width', function(d) {\n",
       "              return d.isIdNode ? '2px' : '1px';\n",
       "            })\n",
       "            .style('stroke', function(d) {\n",
       "              return d.isIdNode ? '#78BE21' : '#78BE21';\n",
       "            })\n",
       "            .style('fill', function(d) {\n",
       "              if (d.isIdNode) {\n",
       "                return d._children ? 'navy' : '#78BE21';\n",
       "              } else {\n",
       "                return d._children ? 'navy' : '#78BE21';\n",
       "              }\n",
       "            });\n",
       "    \n",
       "            nodeUpdate.select('text').style('fill-opacity', 1);\n",
       "            nodeUpdate.select('text').style('font-family', \"'Open Sans', 'Helvetica Neue', Helvetica, sans-serif\");\n",
       "            nodeUpdate.select('text').style('fill', 'white');\n",
       "            nodeUpdate.select('text').style('font-size', '12px');\n",
       "            \n",
       "            \n",
       "            \n",
       "           \n",
       "            \n",
       "    \n",
       "      \n",
       "    \n",
       "          var nodeExit = node.exit().transition()\n",
       "            .duration(transitionDuration)\n",
       "            .ease(transitionEase)\n",
       "            .attr('transform', function(d) { return 'translate(' + source.y + ',' + source.x + ')'; })\n",
       "            .remove();\n",
       "    \n",
       "          nodeExit.select('circle').attr('r', 0);\n",
       "          nodeExit.select('text').style('fill-opacity', 0);\n",
       "    \n",
       "          var link = svg.selectAll('path.link')\n",
       "            .data(links, function(d) { return d.target.id; });\n",
       "    \n",
       "          link.enter().insert('path', 'g')\n",
       "            .attr('class', 'link')\n",
       "            .attr('style', 'fill: none;stroke: #DADFE1;stroke-width: 1px;')\n",
       "            .attr('d', function(d) {\n",
       "              var o = { x: source.x0, y: source.y0 };\n",
       "              return diagonal({ source: o, target: o });\n",
       "            });\n",
       "    \n",
       "          link.transition()\n",
       "            .duration(transitionDuration)\n",
       "            .ease(transitionEase)\n",
       "            .attr('d', diagonal);\n",
       "    \n",
       "          link.exit().transition()\n",
       "            .duration(transitionDuration)\n",
       "            .ease(transitionEase)\n",
       "            .attr('d', function(d) {\n",
       "              var o = { x: source.x, y: source.y };\n",
       "              return diagonal({ source: o, target: o });\n",
       "            })\n",
       "            .remove();\n",
       "    \n",
       "          nodes.forEach(function(d) {\n",
       "            d.x0 = d.x;\n",
       "            d.y0 = d.y;\n",
       "          });\n",
       "        }\n",
       "    \n",
       "        function computeRadius(d) {\n",
       "          if (d.children || d._children) {\n",
       "            return minRadius + (numEndNodes(d) / scalingFactor);\n",
       "          } else {\n",
       "            return minRadius;\n",
       "          }\n",
       "        }\n",
       "    \n",
       "        function numEndNodes(n) {\n",
       "          var num = 0;\n",
       "          if (n.children) {\n",
       "            n.children.forEach(function(c) {\n",
       "              num += numEndNodes(c);\n",
       "            });\n",
       "          } else if (n._children) {\n",
       "            n._children.forEach(function(c) {\n",
       "              num += numEndNodes(c);\n",
       "            });\n",
       "          } else {\n",
       "            num++;\n",
       "          }\n",
       "          return num;\n",
       "        }\n",
       "    \n",
       "        function click(d) {\n",
       "          if (d.children) {\n",
       "            d._children = d.children;\n",
       "            d.children = null;\n",
       "          } else {\n",
       "            d.children = d._children;\n",
       "            d._children = null;\n",
       "          }\n",
       "    \n",
       "          update(d);\n",
       "    \n",
       "          // fast-forward blank nodes\n",
       "          if (d.children) {\n",
       "            d.children.forEach(function(child) {\n",
       "              if (child.isBlankNode && child._children) {\n",
       "                click(child);\n",
       "              }\n",
       "            });\n",
       "          }\n",
       "        }\n",
       "    \n",
       "        function collapse(d) {\n",
       "          if (d.children) {\n",
       "            d._children = d.children;\n",
       "            d._children.forEach(collapse);\n",
       "            d.children = null;\n",
       "          }\n",
       "        }\n",
       "    \n",
       "        update(root);\n",
       "      \n",
       "        \n",
       "    })\n",
       "\n",
       "\n",
       "\n",
       "\n",
       "})}\n",
       "var file = './data/ruskin/storyvis/json/88.json';var selector = '#vis3';visjsonld(file, selector); "
      ],
      "text/plain": [
       "<IPython.core.display.Javascript object>"
      ]
     },
     "metadata": {},
     "output_type": "display_data"
    },
    {
     "data": {
      "application/javascript": [
       "document.getElementById('artwork').src = 'https://collections.ashmolean.org/media/ashmole6_collection/w800/Collections/Single_Objects/WA/WA_RS/WA_RS_ED_117_a-a-L.jpg';"
      ],
      "text/plain": [
       "<IPython.core.display.Javascript object>"
      ]
     },
     "metadata": {},
     "output_type": "display_data"
    }
   ],
   "source": [
    "selectObject = ipywidgets.Dropdown(options=selectOptions)\n",
    "selectObject.observe(dropdown_eventhandler, names='value')\n",
    "\n",
    "display(selectObject)"
   ]
  },
  {
   "cell_type": "markdown",
   "id": "bdfe0f81",
   "metadata": {},
   "source": [
    "<div><img style=\"height:500px\" id=\"artwork\" src=\"\"/></div>\n",
    "\n",
    "<div id='vis3' style='height:100%;width:6000px'></div>"
   ]
  },
  {
   "cell_type": "markdown",
   "id": "9d3dcc2a",
   "metadata": {},
   "source": [
    "## Next Steps\n",
    "\n",
    "### Jupyter Notebooks\n",
    "\n",
    "Look at the Jupyter notebook that:\n",
    "-  creates the input files\n",
    " - <a href=\"https://github.com/tgra/Linked-Art/blob/main/01-06-Transform-John-Ruskin.ipynb\">`01-06-Transform-John-Ruskin`</a>\n",
    "- creates a StoryMap data visualisation from the updated JSON-LD files\n",
    " - <a href=\"https://github.com/tgra/Linked-Art/blob/main/03-04-Visualise-John-Ruskin-Story-Map.ipynb\">`03-04-Visualise-John-Ruskin-Story-Map.ipynb`</a>\n"
   ]
  }
 ],
 "metadata": {
  "celltoolbar": "Slideshow",
  "finalized": {
   "timestamp": 1650979482926,
   "trusted": true
  },
  "kernelspec": {
   "display_name": "Python 3",
   "language": "python",
   "name": "python3"
  },
  "language_info": {
   "codemirror_mode": {
    "name": "ipython",
    "version": 3
   },
   "file_extension": ".py",
   "mimetype": "text/x-python",
   "name": "python",
   "nbconvert_exporter": "python",
   "pygments_lexer": "ipython3",
   "version": "3.8.8"
  },
  "require": {
   "paths": {
    "d3": "https://d3js.org/d3.v7.min"
   },
   "shim": {}
  }
 },
 "nbformat": 4,
 "nbformat_minor": 5
}
