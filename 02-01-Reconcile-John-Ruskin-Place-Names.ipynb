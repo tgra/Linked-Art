{
 "cells": [
  {
   "cell_type": "code",
   "execution_count": 81,
   "id": "7803401d",
   "metadata": {},
   "outputs": [
    {
     "data": {
      "text/html": [
       "\n",
       "<style>\n",
       "div {font-family:Open Sans,sans-serif;}\n",
       "h1 {color:white;background-color: #446a7f;padding:10px}\n",
       "h2{color:black; background-color:#b3b6a0; padding:10px}\n",
       "h3{color:#78BE21; background-color:#446a7f; padding:10px}\n",
       "h4{color:white; background-color:#78BE21;padding:5px}\n",
       ".info{background-color:}\n",
       "</style>\n"
      ],
      "text/plain": [
       "<IPython.core.display.HTML object>"
      ]
     },
     "execution_count": 81,
     "metadata": {},
     "output_type": "execute_result"
    }
   ],
   "source": [
    "from IPython.core.display import HTML\n",
    "HTML(\"\"\"\n",
    "<style>\n",
    "div {font-family:Open Sans,sans-serif;}\n",
    "h1 {color:white;background-color: #446a7f;padding:10px}\n",
    "h2{color:black; background-color:#b3b6a0; padding:10px}\n",
    "h3{color:#78BE21; background-color:#446a7f; padding:10px}\n",
    "h4{color:white; background-color:#78BE21;padding:5px}\n",
    ".info{background-color:}\n",
    "</style>\n",
    "\"\"\")"
   ]
  },
  {
   "cell_type": "markdown",
   "id": "302c49d7",
   "metadata": {},
   "source": [
    "\n",
    "<h1>Linked Art - Reconciling Collections Data - Geographical Location</h1>\n",
    "\n",
    "The Linked Art reconciliation exemplar provides a step through the process of reconciling geographical place names that occur in the title of artworks by the artist, John Ruskin. From Wikipedia:\n",
    "\n",
    "<blockquote>\"John Ruskin (8 February 1819 – 20 January 1900) was an English writer, philosopher, art critic and polymath of the Victorian era. He wrote on subjects as varied as geology, architecture, myth, ornithology, literature, education, botany and political economy.\"</blockquote>\n",
    "\n",
    "John Ruskin travelled extensively in Europe and was a prolific artist, creating drawings of paintings whose titles often included place names for the locations depicted. \n",
    "\n",
    "#### Artwork Title contains Place Name\n",
    "The title of the artworks has been recorded in the title field in many of the collection data records , and this has been used as the basis for the reconciliation process shown here.\n",
    "\n",
    "#### OpenRefine Tool to Reconcile Data\n",
    "The place names are reconciled with the <a href=\"https://www.getty.edu/research/tools/vocabularies/tgn/\">Getty Thesaurus of Geographic Names (TGN)</a>, using the <a href=\"https://openrefine.org/\">Open Refine</a> tool.\n",
    "\n",
    "#### The Getty Thesaurus of Geographic Names (TGN)\n",
    "Reconciliation with the <a href=\"https://www.getty.edu/research/tools/vocabularies/tgn/\">Getty Thesaurus of Geographic Names (TGN)</a> has allowed additional information to be associated with the artwork: \n",
    "- an authoritative global identifier for the geographical location depicted \n",
    "- geographical coordinates\n",
    "\n",
    "#### Input Data Files\n",
    "\n",
    "The input files are Linked Art files created with the <a href=\"https://github.com/tgra/Linked-Art/blob/main/01-06-Transform-John-Ruskin.ipynb\">`01-06-Transform-John-Ruskin`</a> Jupyter notebook.\n",
    "\n",
    "\n",
    "### Further Reading\n",
    "\n",
    "- The Getty Thesaurus of Geographic Names® Online (TGN) http://www.getty.edu/research/tools/vocabularies/tgn\n",
    "- John Ruskin Wikipedia entry https://en.wikipedia.org/wiki/John_Ruskin\n",
    "\n"
   ]
  },
  {
   "cell_type": "code",
   "execution_count": 82,
   "id": "ecf17010",
   "metadata": {},
   "outputs": [],
   "source": [
    "try:\n",
    "    import ipywidgets as widgets\n",
    "except:\n",
    "    !pip install ipywidgets\n",
    "    import ipywidgets as widgets\n",
    "\n",
    "from ipywidgets import Layout, FileUpload\n",
    "\n",
    "\n",
    "\n",
    "try:\n",
    "    import xmltodict\n",
    "except:\n",
    "    !pip install xmltodict\n",
    "    import xmltodict\n",
    "\n",
    "try:\n",
    "    import json\n",
    "except:\n",
    "    !pip install json\n",
    "    import json \n",
    "    \n",
    "    \n",
    "try:\n",
    "    import requests\n",
    "except:\n",
    "    !pip install requests\n",
    "    import requests\n"
   ]
  },
  {
   "cell_type": "markdown",
   "id": "e86fdbef",
   "metadata": {},
   "source": [
    "## Reconciliation Process\n",
    "\n",
    "1. Create CSV file from JSON-LD Linked Art files, including relevant properties\n",
    "2. Identify place name in the artwork title\n",
    "3. Use OpenRefine to Reconcile Place Names\n",
    "5. Define representation in Linked Art for geographical coordinates of place depicted in artwork\n",
    "6. Incorporate geographical coordinates representation into existing JSON-LD files"
   ]
  },
  {
   "cell_type": "markdown",
   "id": "aec2095c",
   "metadata": {},
   "source": [
    "## 1. Create CSV file from Linked Art JSON-LD\n",
    "\n",
    "To reconcile the place names in the artwork titles a CSV file will be created extracting relevant fields from the JSON-LD Linked Art files.\n",
    "\n",
    "he first step is to create a CSV file from Linked Art JSON-LD files. \n",
    "\n",
    "This is achieved by iterating over the Linked Art JSON-LD files, extracting the `id` and `_label` fields, and saving them to a CSV file.\n",
    "\n",
    "An extract of the resulting CSV file is shown below."
   ]
  },
  {
   "cell_type": "code",
   "execution_count": 83,
   "id": "81e0aaea",
   "metadata": {},
   "outputs": [
    {
     "data": {
      "text/html": [
       "<div>\n",
       "<style scoped>\n",
       "    .dataframe tbody tr th:only-of-type {\n",
       "        vertical-align: middle;\n",
       "    }\n",
       "\n",
       "    .dataframe tbody tr th {\n",
       "        vertical-align: top;\n",
       "    }\n",
       "\n",
       "    .dataframe thead th {\n",
       "        text-align: right;\n",
       "    }\n",
       "</style>\n",
       "<table border=\"1\" class=\"dataframe\">\n",
       "  <thead>\n",
       "    <tr style=\"text-align: right;\">\n",
       "      <th></th>\n",
       "      <th>id</th>\n",
       "      <th>place</th>\n",
       "      <th>place_modified</th>\n",
       "      <th>coords</th>\n",
       "    </tr>\n",
       "  </thead>\n",
       "  <tbody>\n",
       "    <tr>\n",
       "      <th>0</th>\n",
       "      <td>https://collections.ashmolean.org/collection/1...</td>\n",
       "      <td>Engraving of Ruskin's Drawing of the Petal Vau...</td>\n",
       "      <td></td>\n",
       "      <td></td>\n",
       "    </tr>\n",
       "    <tr>\n",
       "      <th>1</th>\n",
       "      <td>https://collections.ashmolean.org/collection/1...</td>\n",
       "      <td>Enlarged Study of a Prawn's Rostrum</td>\n",
       "      <td></td>\n",
       "      <td></td>\n",
       "    </tr>\n",
       "    <tr>\n",
       "      <th>2</th>\n",
       "      <td>https://www.harvardartmuseums.org/collections/...</td>\n",
       "      <td>Study of a Venetian Capital</td>\n",
       "      <td></td>\n",
       "      <td></td>\n",
       "    </tr>\n",
       "    <tr>\n",
       "      <th>3</th>\n",
       "      <td>https://collections.ashmolean.org/collection/1...</td>\n",
       "      <td>Autumnal Cloud filling the Valley of Geneva, t...</td>\n",
       "      <td></td>\n",
       "      <td></td>\n",
       "    </tr>\n",
       "    <tr>\n",
       "      <th>4</th>\n",
       "      <td>https://collections.ashmolean.org/collection/1...</td>\n",
       "      <td>Axmouth Landslip from Dolands Farm</td>\n",
       "      <td></td>\n",
       "      <td></td>\n",
       "    </tr>\n",
       "    <tr>\n",
       "      <th>...</th>\n",
       "      <td>...</td>\n",
       "      <td>...</td>\n",
       "      <td>...</td>\n",
       "      <td>...</td>\n",
       "    </tr>\n",
       "    <tr>\n",
       "      <th>274</th>\n",
       "      <td>https://collections.ashmolean.org/collection/1...</td>\n",
       "      <td>The Head of a Kite, from Life</td>\n",
       "      <td></td>\n",
       "      <td></td>\n",
       "    </tr>\n",
       "    <tr>\n",
       "      <th>275</th>\n",
       "      <td>https://www.harvardartmuseums.org/collections/...</td>\n",
       "      <td>Part of a Sketch of the Northwest Porch of St....</td>\n",
       "      <td></td>\n",
       "      <td></td>\n",
       "    </tr>\n",
       "    <tr>\n",
       "      <th>276</th>\n",
       "      <td>http://www.rijksmuseum.nl/nl/collectie/nl-RP-T...</td>\n",
       "      <td>Gezicht op S. Anastasia te Verona, over de Adige</td>\n",
       "      <td></td>\n",
       "      <td></td>\n",
       "    </tr>\n",
       "    <tr>\n",
       "      <th>277</th>\n",
       "      <td>https://collections.ashmolean.org/collection/2...</td>\n",
       "      <td>Architectural detail: stone bracket</td>\n",
       "      <td></td>\n",
       "      <td></td>\n",
       "    </tr>\n",
       "    <tr>\n",
       "      <th>278</th>\n",
       "      <td>https://collections.ashmolean.org/collection/1...</td>\n",
       "      <td>Study of the Marble Inlaying on the Front of t...</td>\n",
       "      <td></td>\n",
       "      <td></td>\n",
       "    </tr>\n",
       "  </tbody>\n",
       "</table>\n",
       "<p>279 rows × 4 columns</p>\n",
       "</div>"
      ],
      "text/plain": [
       "                                                    id  \\\n",
       "0    https://collections.ashmolean.org/collection/1...   \n",
       "1    https://collections.ashmolean.org/collection/1...   \n",
       "2    https://www.harvardartmuseums.org/collections/...   \n",
       "3    https://collections.ashmolean.org/collection/1...   \n",
       "4    https://collections.ashmolean.org/collection/1...   \n",
       "..                                                 ...   \n",
       "274  https://collections.ashmolean.org/collection/1...   \n",
       "275  https://www.harvardartmuseums.org/collections/...   \n",
       "276  http://www.rijksmuseum.nl/nl/collectie/nl-RP-T...   \n",
       "277  https://collections.ashmolean.org/collection/2...   \n",
       "278  https://collections.ashmolean.org/collection/1...   \n",
       "\n",
       "                                                 place place_modified coords  \n",
       "0    Engraving of Ruskin's Drawing of the Petal Vau...                        \n",
       "1                  Enlarged Study of a Prawn's Rostrum                        \n",
       "2                          Study of a Venetian Capital                        \n",
       "3    Autumnal Cloud filling the Valley of Geneva, t...                        \n",
       "4                   Axmouth Landslip from Dolands Farm                        \n",
       "..                                                 ...            ...    ...  \n",
       "274                      The Head of a Kite, from Life                        \n",
       "275  Part of a Sketch of the Northwest Porch of St....                        \n",
       "276   Gezicht op S. Anastasia te Verona, over de Adige                        \n",
       "277                Architectural detail: stone bracket                        \n",
       "278  Study of the Marble Inlaying on the Front of t...                        \n",
       "\n",
       "[279 rows x 4 columns]"
      ]
     },
     "metadata": {},
     "output_type": "display_data"
    }
   ],
   "source": [
    "try:\n",
    "    import os\n",
    "except:\n",
    "    !pip install os\n",
    "    import os\n",
    "\n",
    "try:\n",
    "    import json\n",
    "except:\n",
    "    !pip install json\n",
    "    import json \n",
    "    \n",
    "try:\n",
    "    import IPython\n",
    "except:\n",
    "    !pip install IPython\n",
    "    import IPython   \n",
    "    \n",
    "from IPython.display import display, HTML, Javascript\n",
    "\n",
    "try:\n",
    "    import pandas as pd\n",
    "except:\n",
    "    !pip install pandas\n",
    "    import pandas as pd\n",
    "\n",
    "import csv\n",
    "\n",
    "# Linked Art JSON-LD file location\n",
    "file_dir = \"./data/ruskin/output/json/\"\n",
    "\n",
    "# output CSV file\n",
    "csv_file = \"./data/ruskin/ruskin-places.csv\"\n",
    "\n",
    "titles = []\n",
    "file_list=os.listdir(file_dir)\n",
    "\n",
    "# iterate Linked Art JSON-LD files\n",
    "for file in file_list:\n",
    "    # read file and append to \n",
    "    with open( file_dir + file) as json_file:  \n",
    "        artwork = json.load(json_file)\n",
    "        if \"_label\" not in artwork:\n",
    "            continue\n",
    "        titles.append(\n",
    "            {\n",
    "            \"id\":artwork[\"id\"], \n",
    "                \"place\" : artwork[\"_label\"], \n",
    "                \"place_modified\": \" \", \n",
    "                \"coords\": \" \"})\n",
    "\n",
    "# create CSV file\n",
    "with open(csv_file, 'w') as f:  \n",
    "    w = csv.DictWriter(f, [\"id\",\"place\",\"place_modified\",\"coords\"])\n",
    "    w.writeheader()\n",
    "    w.writerows(titles)\n",
    "     \n",
    "# display CSV file\n",
    "df = pd.read_csv(csv_file,low_memory=False)\n",
    "display(df)"
   ]
  },
  {
   "cell_type": "markdown",
   "id": "931ce294",
   "metadata": {},
   "source": [
    "## 2. Identify Place Names in Title\n",
    "\n",
    "The next step is to extract possible place names from the artwork title field, to help with the reconciliation process. A list of possible place names is used to help identify place names in the field. These are added to the `place_modified` column of the CSV file. \n",
    "\n",
    "An extract of the resulting CSV file is shown below."
   ]
  },
  {
   "cell_type": "code",
   "execution_count": 84,
   "id": "bdcc6a8f",
   "metadata": {},
   "outputs": [
    {
     "data": {
      "text/html": [
       "<div>\n",
       "<style scoped>\n",
       "    .dataframe tbody tr th:only-of-type {\n",
       "        vertical-align: middle;\n",
       "    }\n",
       "\n",
       "    .dataframe tbody tr th {\n",
       "        vertical-align: top;\n",
       "    }\n",
       "\n",
       "    .dataframe thead th {\n",
       "        text-align: right;\n",
       "    }\n",
       "</style>\n",
       "<table border=\"1\" class=\"dataframe\">\n",
       "  <thead>\n",
       "    <tr style=\"text-align: right;\">\n",
       "      <th></th>\n",
       "      <th>id</th>\n",
       "      <th>place</th>\n",
       "      <th>place_modified</th>\n",
       "      <th>coords</th>\n",
       "    </tr>\n",
       "  </thead>\n",
       "  <tbody>\n",
       "    <tr>\n",
       "      <th>0</th>\n",
       "      <td>https://www.harvardartmuseums.org/collections/...</td>\n",
       "      <td>Study of a Venetian Capital</td>\n",
       "      <td>Venezia</td>\n",
       "      <td></td>\n",
       "    </tr>\n",
       "    <tr>\n",
       "      <th>1</th>\n",
       "      <td>https://collections.ashmolean.org/collection/1...</td>\n",
       "      <td>Autumnal Cloud filling the Valley of Geneva, t...</td>\n",
       "      <td>Geneva</td>\n",
       "      <td></td>\n",
       "    </tr>\n",
       "    <tr>\n",
       "      <th>2</th>\n",
       "      <td>https://www.harvardartmuseums.org/collections/...</td>\n",
       "      <td>Tom Tower, Christ Church, Oxford</td>\n",
       "      <td>Oxford</td>\n",
       "      <td></td>\n",
       "    </tr>\n",
       "    <tr>\n",
       "      <th>3</th>\n",
       "      <td>https://www.harvardartmuseums.org/collections/...</td>\n",
       "      <td>Study of a Venetian Capital</td>\n",
       "      <td>Venezia</td>\n",
       "      <td></td>\n",
       "    </tr>\n",
       "    <tr>\n",
       "      <th>4</th>\n",
       "      <td>https://www.tate.org.uk/art/artworks/13033</td>\n",
       "      <td>View of Bologna</td>\n",
       "      <td>Bologna</td>\n",
       "      <td></td>\n",
       "    </tr>\n",
       "    <tr>\n",
       "      <th>...</th>\n",
       "      <td>...</td>\n",
       "      <td>...</td>\n",
       "      <td>...</td>\n",
       "      <td>...</td>\n",
       "    </tr>\n",
       "    <tr>\n",
       "      <th>102</th>\n",
       "      <td>https://collections.ashmolean.org/collection/1...</td>\n",
       "      <td>Sketch of the Oak Spray in Mantegna's Fresco o...</td>\n",
       "      <td>Padua</td>\n",
       "      <td></td>\n",
       "    </tr>\n",
       "    <tr>\n",
       "      <th>103</th>\n",
       "      <td>https://www.nga.gov/collection/72870</td>\n",
       "      <td>The Garden of San Miniato near Florence</td>\n",
       "      <td>Florence</td>\n",
       "      <td></td>\n",
       "    </tr>\n",
       "    <tr>\n",
       "      <th>104</th>\n",
       "      <td>https://www.harvardartmuseums.org/collections/...</td>\n",
       "      <td>Part of a Sketch of the Northwest Porch of St....</td>\n",
       "      <td>Venezia</td>\n",
       "      <td></td>\n",
       "    </tr>\n",
       "    <tr>\n",
       "      <th>105</th>\n",
       "      <td>http://www.rijksmuseum.nl/nl/collectie/nl-RP-T...</td>\n",
       "      <td>Gezicht op S. Anastasia te Verona, over de Adige</td>\n",
       "      <td>Verona</td>\n",
       "      <td></td>\n",
       "    </tr>\n",
       "    <tr>\n",
       "      <th>106</th>\n",
       "      <td>https://collections.ashmolean.org/collection/1...</td>\n",
       "      <td>Study of the Marble Inlaying on the Front of t...</td>\n",
       "      <td>Venezia</td>\n",
       "      <td></td>\n",
       "    </tr>\n",
       "  </tbody>\n",
       "</table>\n",
       "<p>107 rows × 4 columns</p>\n",
       "</div>"
      ],
      "text/plain": [
       "                                                    id  \\\n",
       "0    https://www.harvardartmuseums.org/collections/...   \n",
       "1    https://collections.ashmolean.org/collection/1...   \n",
       "2    https://www.harvardartmuseums.org/collections/...   \n",
       "3    https://www.harvardartmuseums.org/collections/...   \n",
       "4           https://www.tate.org.uk/art/artworks/13033   \n",
       "..                                                 ...   \n",
       "102  https://collections.ashmolean.org/collection/1...   \n",
       "103               https://www.nga.gov/collection/72870   \n",
       "104  https://www.harvardartmuseums.org/collections/...   \n",
       "105  http://www.rijksmuseum.nl/nl/collectie/nl-RP-T...   \n",
       "106  https://collections.ashmolean.org/collection/1...   \n",
       "\n",
       "                                                 place place_modified coords  \n",
       "0                          Study of a Venetian Capital        Venezia         \n",
       "1    Autumnal Cloud filling the Valley of Geneva, t...         Geneva         \n",
       "2                     Tom Tower, Christ Church, Oxford         Oxford         \n",
       "3                          Study of a Venetian Capital        Venezia         \n",
       "4                                      View of Bologna        Bologna         \n",
       "..                                                 ...            ...    ...  \n",
       "102  Sketch of the Oak Spray in Mantegna's Fresco o...          Padua         \n",
       "103            The Garden of San Miniato near Florence       Florence         \n",
       "104  Part of a Sketch of the Northwest Porch of St....        Venezia         \n",
       "105   Gezicht op S. Anastasia te Verona, over de Adige         Verona         \n",
       "106  Study of the Marble Inlaying on the Front of t...        Venezia         \n",
       "\n",
       "[107 rows x 4 columns]"
      ]
     },
     "metadata": {},
     "output_type": "display_data"
    }
   ],
   "source": [
    "df = pd.read_csv(csv_file,low_memory=False)\n",
    "\n",
    "places2 = [\"Florence\",\"Bologna\",\"Lucca\",\"Alps\",\"Oxford\",\"Rome\", \n",
    "           \"Venice\",\"Fribourg\",\"Neuchâtel\",\"Sestri\",\"Visp\",\"Chamonix\",\n",
    "           \"Abbeville\",\"Schaffhausen\",\"Verona\",\"Vorarlberg\",\"Baden\",\"Schaffhausen\",\"Faido\",\"Normandy\",\"Genève\",\"Geneva\",\n",
    "           \"Gloucester\",\"Basel\",\"Luzern\",\"Padua\",\"Habsburg\",\"Rhine\",\"Zug\",\"Aix-la-Chapelle\",\"Siena\",\"Mont Blanc\",\"Lago di Como\",\n",
    "           \"Bellinzona\",\"Lake of Lecco\"\n",
    "          \n",
    "          ]\n",
    "places = {\"Venezia\":[\"Venice\",\"Venetian\",\"St Mark\",\"St. Mark\"],\n",
    "         }\n",
    "\n",
    "for index,row in df.iterrows():\n",
    "    # check if any value in places2 is present in rowp\n",
    "    for place in places2:\n",
    "        if place in row[\"place\"]:\n",
    "            df.at[index,\"place_modified\"] = place\n",
    "    \n",
    "    for place in places[\"Venezia\"]:\n",
    "        if place in row[\"place\"]:\n",
    "            df.at[index,\"place_modified\"] = \"Venezia\"\n",
    "\n",
    "# remove records where place_modified is blank\n",
    "df = df[df.place_modified != \" \"]\n",
    "df.to_csv(csv_file, index=False) \n",
    "\n",
    "df = pd.read_csv(csv_file,low_memory=False)\n",
    "display(df)"
   ]
  },
  {
   "cell_type": "markdown",
   "id": "a10d8ccc",
   "metadata": {},
   "source": [
    "## 3. Use OpenRefine to Reconcile Place Names\n",
    "\n",
    "The next step is to use OpenRefine to match the values in the place_modified field, with place names in the name authority, The Getty Thesaurus of Geographic Names® Online (TGN).\n",
    "\n",
    "OpenRefine is a tool for working with messy data, and includes support for reconciliation with external data such as name authorities.\n",
    "\n",
    "\n",
    "### Method\n",
    "    \n",
    "The method used to reconcile the place names is as follows:\n",
    "- Install OpenRefine\n",
    "- Open OpenRefine in browser\n",
    "- Create a project\n",
    "- Upload the places CSV file\n",
    "- Review data\n",
    "- Choose the TGN service to reconcile data with\n",
    "- Select matched place name\n",
    "- Choose to create a new column with the entity identifier\n",
    "\n",
    "Further description of the process including screenshots is shown below.\n",
    "\n",
    "\n",
    "### Further reading\n",
    "- OpenRefine https://openrefine.org\n",
    "- The Getty Thesaurus of Geographic Names® Online (TGN) http://www.getty.edu/research/tools/vocabularies/tgn\n",
    "    "
   ]
  },
  {
   "cell_type": "markdown",
   "id": "dcc9f0ea",
   "metadata": {},
   "source": [
    "### Open CSV file in OpenRefine and review data\n",
    "\n",
    "<img src=\"docs/media/img/openrefine.png\"/>\n"
   ]
  },
  {
   "cell_type": "markdown",
   "id": "955da136",
   "metadata": {},
   "source": [
    "### Reconcile the data in the `place_modified` column\n",
    "\n",
    "- Right-click on `place_modified` column header\n",
    "- Select `Start reconciling`\n",
    "\n",
    "<img width=\"600px\" src=\"docs/media/img/openrefine2.png\"/>"
   ]
  },
  {
   "cell_type": "markdown",
   "id": "4a068754",
   "metadata": {},
   "source": [
    "### Choose Service to Reconcile Data With\n",
    "\n",
    "- Choose a service to reconcile data with from reconciliation services known to Wikidata - https://reconciliation-api.github.io/testbench/\n",
    "- Getty vocab services was chosen due to the Getty Thesaurus of Geographic Names® Online (TGN) that's included https://www.getty.edu/research/tools/vocabularies/tgn/\n",
    "\n",
    "<img width=\"600px\" src=\"docs/media/img/reconcileserv.png\"/>"
   ]
  },
  {
   "cell_type": "markdown",
   "id": "8cc9e363",
   "metadata": {},
   "source": [
    "### Review Reconciliation Search Results\n",
    "\n",
    "- review reconciliation search results and select relevant match if found\n",
    "- Create new column to hold the tgn identifiers\n",
    "\n",
    "<img width=\"600px\" src=\"docs/media/img/tgncol.png\"/>"
   ]
  },
  {
   "cell_type": "markdown",
   "id": "2bc1b729",
   "metadata": {},
   "source": [
    "### Manual Reconciliation\n",
    "\n",
    "Some additional manual reconciliation was required using the TGN search form at http://www.getty.edu/research/tools/vocabularies/tgn\n",
    "    \n",
    "<img width=\"600px\" src=\"docs/media/img/tgn.png\"/>\n",
    "    "
   ]
  },
  {
   "cell_type": "markdown",
   "id": "3310ffbe",
   "metadata": {},
   "source": [
    "### Result - CSV file with TGN Identifiers\n",
    "The result of the reconciliation process is a file containing a new column with TGN name authority identifiers for place names identified in the artwork title. The file is created further to the following steps:\n",
    "- export CSV file from OpenRefine\n",
    "- save as [data/ruskin/ruskin-places-rec.csv](data/ruskin/ruskin-places-rec.csv) `\n",
    "- remove lines that do not have entry in the TGN column and save file\n",
    "\n",
    "An extract of the CSV file is shown below:"
   ]
  },
  {
   "cell_type": "code",
   "execution_count": 85,
   "id": "419bea9c",
   "metadata": {},
   "outputs": [
    {
     "data": {
      "text/html": [
       "<div>\n",
       "<style scoped>\n",
       "    .dataframe tbody tr th:only-of-type {\n",
       "        vertical-align: middle;\n",
       "    }\n",
       "\n",
       "    .dataframe tbody tr th {\n",
       "        vertical-align: top;\n",
       "    }\n",
       "\n",
       "    .dataframe thead th {\n",
       "        text-align: right;\n",
       "    }\n",
       "</style>\n",
       "<table border=\"1\" class=\"dataframe\">\n",
       "  <thead>\n",
       "    <tr style=\"text-align: right;\">\n",
       "      <th></th>\n",
       "      <th>id</th>\n",
       "      <th>place</th>\n",
       "      <th>place_modified</th>\n",
       "      <th>tgn</th>\n",
       "      <th>coords</th>\n",
       "    </tr>\n",
       "  </thead>\n",
       "  <tbody>\n",
       "    <tr>\n",
       "      <th>0</th>\n",
       "      <td>https://www.harvardartmuseums.org/collections/...</td>\n",
       "      <td>Study of a Venetian Capital</td>\n",
       "      <td>Venice</td>\n",
       "      <td>tgn/7018159</td>\n",
       "      <td>NaN</td>\n",
       "    </tr>\n",
       "    <tr>\n",
       "      <th>1</th>\n",
       "      <td>https://www.harvardartmuseums.org/collections/...</td>\n",
       "      <td>Tom Tower, Christ Church, Oxford</td>\n",
       "      <td>Oxfordshire</td>\n",
       "      <td>tgn/7011931</td>\n",
       "      <td>NaN</td>\n",
       "    </tr>\n",
       "    <tr>\n",
       "      <th>2</th>\n",
       "      <td>https://www.harvardartmuseums.org/collections/...</td>\n",
       "      <td>Study of a Venetian Capital</td>\n",
       "      <td>Venice</td>\n",
       "      <td>tgn/7018159</td>\n",
       "      <td>NaN</td>\n",
       "    </tr>\n",
       "    <tr>\n",
       "      <th>3</th>\n",
       "      <td>https://www.tate.org.uk/art/artworks/13033</td>\n",
       "      <td>View of Bologna</td>\n",
       "      <td>Bologna</td>\n",
       "      <td>tgn/7003127</td>\n",
       "      <td>NaN</td>\n",
       "    </tr>\n",
       "    <tr>\n",
       "      <th>4</th>\n",
       "      <td>https://www.harvardartmuseums.org/collections/...</td>\n",
       "      <td>Fragment of the Alps</td>\n",
       "      <td>Alps</td>\n",
       "      <td>tgn/7007746</td>\n",
       "      <td>NaN</td>\n",
       "    </tr>\n",
       "    <tr>\n",
       "      <th>...</th>\n",
       "      <td>...</td>\n",
       "      <td>...</td>\n",
       "      <td>...</td>\n",
       "      <td>...</td>\n",
       "      <td>...</td>\n",
       "    </tr>\n",
       "    <tr>\n",
       "      <th>83</th>\n",
       "      <td>https://www.harvardartmuseums.org/collections/...</td>\n",
       "      <td>Study of an Archivolt in Saint Mark's, Venice</td>\n",
       "      <td>Venice</td>\n",
       "      <td>tgn/7018159</td>\n",
       "      <td>NaN</td>\n",
       "    </tr>\n",
       "    <tr>\n",
       "      <th>84</th>\n",
       "      <td>https://collections.ashmolean.org/collection/1...</td>\n",
       "      <td>Afternoon in Spring, with south Wind, at Neuch...</td>\n",
       "      <td>Neuchâtel</td>\n",
       "      <td>tgn/7003751</td>\n",
       "      <td>NaN</td>\n",
       "    </tr>\n",
       "    <tr>\n",
       "      <th>85</th>\n",
       "      <td>https://collections.ashmolean.org/collection/1...</td>\n",
       "      <td>Sketch of the Oak Spray in Mantegna's Fresco o...</td>\n",
       "      <td>Padua</td>\n",
       "      <td>tgn/7003085</td>\n",
       "      <td>NaN</td>\n",
       "    </tr>\n",
       "    <tr>\n",
       "      <th>86</th>\n",
       "      <td>https://www.harvardartmuseums.org/collections/...</td>\n",
       "      <td>Part of a Sketch of the Northwest Porch of St....</td>\n",
       "      <td>Venice</td>\n",
       "      <td>tgn/7018159</td>\n",
       "      <td>NaN</td>\n",
       "    </tr>\n",
       "    <tr>\n",
       "      <th>87</th>\n",
       "      <td>https://collections.ashmolean.org/collection/1...</td>\n",
       "      <td>Study of the Marble Inlaying on the Front of t...</td>\n",
       "      <td>Venice</td>\n",
       "      <td>tgn/7018159</td>\n",
       "      <td>NaN</td>\n",
       "    </tr>\n",
       "  </tbody>\n",
       "</table>\n",
       "<p>88 rows × 5 columns</p>\n",
       "</div>"
      ],
      "text/plain": [
       "                                                   id  \\\n",
       "0   https://www.harvardartmuseums.org/collections/...   \n",
       "1   https://www.harvardartmuseums.org/collections/...   \n",
       "2   https://www.harvardartmuseums.org/collections/...   \n",
       "3          https://www.tate.org.uk/art/artworks/13033   \n",
       "4   https://www.harvardartmuseums.org/collections/...   \n",
       "..                                                ...   \n",
       "83  https://www.harvardartmuseums.org/collections/...   \n",
       "84  https://collections.ashmolean.org/collection/1...   \n",
       "85  https://collections.ashmolean.org/collection/1...   \n",
       "86  https://www.harvardartmuseums.org/collections/...   \n",
       "87  https://collections.ashmolean.org/collection/1...   \n",
       "\n",
       "                                                place place_modified  \\\n",
       "0                         Study of a Venetian Capital         Venice   \n",
       "1                    Tom Tower, Christ Church, Oxford    Oxfordshire   \n",
       "2                         Study of a Venetian Capital         Venice   \n",
       "3                                     View of Bologna        Bologna   \n",
       "4                                Fragment of the Alps           Alps   \n",
       "..                                                ...            ...   \n",
       "83      Study of an Archivolt in Saint Mark's, Venice         Venice   \n",
       "84  Afternoon in Spring, with south Wind, at Neuch...      Neuchâtel   \n",
       "85  Sketch of the Oak Spray in Mantegna's Fresco o...          Padua   \n",
       "86  Part of a Sketch of the Northwest Porch of St....         Venice   \n",
       "87  Study of the Marble Inlaying on the Front of t...         Venice   \n",
       "\n",
       "            tgn  coords  \n",
       "0   tgn/7018159     NaN  \n",
       "1   tgn/7011931     NaN  \n",
       "2   tgn/7018159     NaN  \n",
       "3   tgn/7003127     NaN  \n",
       "4   tgn/7007746     NaN  \n",
       "..          ...     ...  \n",
       "83  tgn/7018159     NaN  \n",
       "84  tgn/7003751     NaN  \n",
       "85  tgn/7003085     NaN  \n",
       "86  tgn/7018159     NaN  \n",
       "87  tgn/7018159     NaN  \n",
       "\n",
       "[88 rows x 5 columns]"
      ]
     },
     "metadata": {},
     "output_type": "display_data"
    }
   ],
   "source": [
    "file = \"data/ruskin/ruskin-places-rec.csv\" \n",
    "\n",
    "df = pd.read_csv(file,low_memory=False)\n",
    "df = df[df.place_modified != \"Sestri\"]\n",
    "df.to_csv(file, index=False) \n",
    "\n",
    "df = pd.read_csv(file,low_memory=False)\n",
    "display(df)"
   ]
  },
  {
   "cell_type": "markdown",
   "id": "25a0c234",
   "metadata": {},
   "source": [
    "## Add Geographical Coordinates to CSV file\n",
    "The next step is to associate geographical coordinates with the Linked Art artwork representations, using the TGN identifiers to query a web service:\n",
    "\n",
    "- Get geocoordinates for TGN identifiers\n",
    "- request JSON file from http://vocab.getty.edu/tgn/ using TGN identifier\n",
    "- add geocoordinates to CSV file\n",
    "\n",
    "The resulting CSV file with geocoordinates added is shown below."
   ]
  },
  {
   "cell_type": "code",
   "execution_count": 42,
   "id": "cce77b47",
   "metadata": {},
   "outputs": [
    {
     "data": {
      "text/html": [
       "<H2>Geographical coordinates retrieved from TGN web service:</H2>"
      ],
      "text/plain": [
       "<IPython.core.display.HTML object>"
      ]
     },
     "metadata": {},
     "output_type": "display_data"
    },
    {
     "data": {
      "text/html": [
       "<h3>Retrieving geocoordinates from vocab.getty.edu TGN API. Please wait for task to complete.</h3>"
      ],
      "text/plain": [
       "<IPython.core.display.HTML object>"
      ]
     },
     "metadata": {},
     "output_type": "display_data"
    },
    {
     "data": {
      "text/html": [
       "<div>\n",
       "<style scoped>\n",
       "    .dataframe tbody tr th:only-of-type {\n",
       "        vertical-align: middle;\n",
       "    }\n",
       "\n",
       "    .dataframe tbody tr th {\n",
       "        vertical-align: top;\n",
       "    }\n",
       "\n",
       "    .dataframe thead th {\n",
       "        text-align: right;\n",
       "    }\n",
       "</style>\n",
       "<table border=\"1\" class=\"dataframe\">\n",
       "  <thead>\n",
       "    <tr style=\"text-align: right;\">\n",
       "      <th></th>\n",
       "      <th>tgn</th>\n",
       "      <th>latlng</th>\n",
       "    </tr>\n",
       "  </thead>\n",
       "  <tbody>\n",
       "    <tr>\n",
       "      <th>0</th>\n",
       "      <td>tgn/7018159</td>\n",
       "      <td>45.438611,12.326667</td>\n",
       "    </tr>\n",
       "    <tr>\n",
       "      <th>1</th>\n",
       "      <td>tgn/7011931</td>\n",
       "      <td>51.75,-1.25</td>\n",
       "    </tr>\n",
       "    <tr>\n",
       "      <th>2</th>\n",
       "      <td>tgn/7003127</td>\n",
       "      <td>44.466667,11.433333</td>\n",
       "    </tr>\n",
       "    <tr>\n",
       "      <th>3</th>\n",
       "      <td>tgn/7007746</td>\n",
       "      <td>46.416667,10</td>\n",
       "    </tr>\n",
       "    <tr>\n",
       "      <th>4</th>\n",
       "      <td>tgn/7003165</td>\n",
       "      <td>44.033333,10.45</td>\n",
       "    </tr>\n",
       "    <tr>\n",
       "      <th>5</th>\n",
       "      <td>tgn/7003168</td>\n",
       "      <td>43.216667,11.4</td>\n",
       "    </tr>\n",
       "    <tr>\n",
       "      <th>6</th>\n",
       "      <td>tgn/7018001</td>\n",
       "      <td>47.25,9.9167</td>\n",
       "    </tr>\n",
       "    <tr>\n",
       "      <th>7</th>\n",
       "      <td>tgn/1117004</td>\n",
       "      <td>45.916667,9.316667</td>\n",
       "    </tr>\n",
       "    <tr>\n",
       "      <th>8</th>\n",
       "      <td>tgn/7011128</td>\n",
       "      <td>51.833333,-2.25</td>\n",
       "    </tr>\n",
       "    <tr>\n",
       "      <th>9</th>\n",
       "      <td>tgn/7010587</td>\n",
       "      <td>50.106602,1.832691</td>\n",
       "    </tr>\n",
       "    <tr>\n",
       "      <th>10</th>\n",
       "      <td>tgn/7106738</td>\n",
       "      <td>48.966667,10.566667</td>\n",
       "    </tr>\n",
       "    <tr>\n",
       "      <th>11</th>\n",
       "      <td>tgn/8707496</td>\n",
       "      <td>47.452702,8.309969</td>\n",
       "    </tr>\n",
       "    <tr>\n",
       "      <th>12</th>\n",
       "      <td>tgn/7007318</td>\n",
       "      <td>46.194902,9.024729</td>\n",
       "    </tr>\n",
       "    <tr>\n",
       "      <th>13</th>\n",
       "      <td>tgn/7006070</td>\n",
       "      <td>46,9.283333</td>\n",
       "    </tr>\n",
       "    <tr>\n",
       "      <th>14</th>\n",
       "      <td>tgn/1032562</td>\n",
       "      <td>45.924308,6.867316</td>\n",
       "    </tr>\n",
       "    <tr>\n",
       "      <th>15</th>\n",
       "      <td>tgn/7007280</td>\n",
       "      <td>47.083333,8.266667</td>\n",
       "    </tr>\n",
       "    <tr>\n",
       "      <th>16</th>\n",
       "      <td>tgn/7617157</td>\n",
       "      <td>45.356009,6.685511</td>\n",
       "    </tr>\n",
       "    <tr>\n",
       "      <th>17</th>\n",
       "      <td>tgn/1064047</td>\n",
       "      <td>46.479417,8.797659</td>\n",
       "    </tr>\n",
       "    <tr>\n",
       "      <th>18</th>\n",
       "      <td>tgn/8711124</td>\n",
       "      <td>46.301907,7.870004</td>\n",
       "    </tr>\n",
       "    <tr>\n",
       "      <th>19</th>\n",
       "      <td>tgn/1118823</td>\n",
       "      <td>47.131301,8.483347</td>\n",
       "    </tr>\n",
       "    <tr>\n",
       "      <th>20</th>\n",
       "      <td>tgn/7007269</td>\n",
       "      <td>47.558395,7.573271</td>\n",
       "    </tr>\n",
       "    <tr>\n",
       "      <th>21</th>\n",
       "      <td>tgn/7034720</td>\n",
       "      <td>44.269444,9.384722</td>\n",
       "    </tr>\n",
       "    <tr>\n",
       "      <th>22</th>\n",
       "      <td>tgn/7003746</td>\n",
       "      <td>46.196732,6.110443</td>\n",
       "    </tr>\n",
       "    <tr>\n",
       "      <th>23</th>\n",
       "      <td>tgn/7003751</td>\n",
       "      <td>46.990867,6.797675</td>\n",
       "    </tr>\n",
       "    <tr>\n",
       "      <th>24</th>\n",
       "      <td>tgn/7004799</td>\n",
       "      <td>50.770833,6.105278</td>\n",
       "    </tr>\n",
       "    <tr>\n",
       "      <th>25</th>\n",
       "      <td>tgn/7007278</td>\n",
       "      <td>46.79572,7.154748</td>\n",
       "    </tr>\n",
       "    <tr>\n",
       "      <th>26</th>\n",
       "      <td>tgn/1031704</td>\n",
       "      <td>44.781489,6.869433</td>\n",
       "    </tr>\n",
       "    <tr>\n",
       "      <th>27</th>\n",
       "      <td>tgn/7012611</td>\n",
       "      <td>51.98404,4.08245</td>\n",
       "    </tr>\n",
       "    <tr>\n",
       "      <th>28</th>\n",
       "      <td>tgn/8711852</td>\n",
       "      <td>49.133333,.216667</td>\n",
       "    </tr>\n",
       "    <tr>\n",
       "      <th>29</th>\n",
       "      <td>tgn/8703166</td>\n",
       "      <td>47.462441,8.185123</td>\n",
       "    </tr>\n",
       "    <tr>\n",
       "      <th>30</th>\n",
       "      <td>tgn/7003085</td>\n",
       "      <td>45.416667,11.883333</td>\n",
       "    </tr>\n",
       "  </tbody>\n",
       "</table>\n",
       "</div>"
      ],
      "text/plain": [
       "            tgn               latlng\n",
       "0   tgn/7018159  45.438611,12.326667\n",
       "1   tgn/7011931          51.75,-1.25\n",
       "2   tgn/7003127  44.466667,11.433333\n",
       "3   tgn/7007746         46.416667,10\n",
       "4   tgn/7003165      44.033333,10.45\n",
       "5   tgn/7003168       43.216667,11.4\n",
       "6   tgn/7018001         47.25,9.9167\n",
       "7   tgn/1117004   45.916667,9.316667\n",
       "8   tgn/7011128      51.833333,-2.25\n",
       "9   tgn/7010587   50.106602,1.832691\n",
       "10  tgn/7106738  48.966667,10.566667\n",
       "11  tgn/8707496   47.452702,8.309969\n",
       "12  tgn/7007318   46.194902,9.024729\n",
       "13  tgn/7006070          46,9.283333\n",
       "14  tgn/1032562   45.924308,6.867316\n",
       "15  tgn/7007280   47.083333,8.266667\n",
       "16  tgn/7617157   45.356009,6.685511\n",
       "17  tgn/1064047   46.479417,8.797659\n",
       "18  tgn/8711124   46.301907,7.870004\n",
       "19  tgn/1118823   47.131301,8.483347\n",
       "20  tgn/7007269   47.558395,7.573271\n",
       "21  tgn/7034720   44.269444,9.384722\n",
       "22  tgn/7003746   46.196732,6.110443\n",
       "23  tgn/7003751   46.990867,6.797675\n",
       "24  tgn/7004799   50.770833,6.105278\n",
       "25  tgn/7007278    46.79572,7.154748\n",
       "26  tgn/1031704   44.781489,6.869433\n",
       "27  tgn/7012611     51.98404,4.08245\n",
       "28  tgn/8711852    49.133333,.216667\n",
       "29  tgn/8703166   47.462441,8.185123\n",
       "30  tgn/7003085  45.416667,11.883333"
      ]
     },
     "metadata": {},
     "output_type": "display_data"
    }
   ],
   "source": [
    "display(HTML(\"<H2>Geographical coordinates retrieved from TGN web service:</H2>\"))   \n",
    "\n",
    "file = \"./data/ruskin/ruskin-places-rec.csv\" \n",
    "filecoord = \"./data/ruskin/ruskin-places-rec-coords.csv\" \n",
    "\n",
    "df = pd.read_csv(file,low_memory=False)\n",
    "df['coords'] = df['coords'].astype(str)\n",
    "\n",
    "display(HTML(\"<h3>Retrieving geocoordinates from vocab.getty.edu TGN API. Please wait for task to complete.</h3>\"))\n",
    "\n",
    "latprop = \"http://www.w3.org/2003/01/geo/wgs84_pos#lat\"\n",
    "lngprop = \"http://www.w3.org/2003/01/geo/wgs84_pos#long\"\n",
    "\n",
    "\n",
    "geocoords = pd.DataFrame({}, columns=['tgn', 'latlng', ])\n",
    "\n",
    "\n",
    "for gid in df['tgn'].unique():\n",
    "    print(\".\", end='')\n",
    "    query = \"http://vocab.getty.edu/tgn/\" + gid.split(\"tgn/\",1)[1] +\"-place.json\"\n",
    "    json_data = requests.get(query).json()\n",
    "    \n",
    "    for record in json_data:\n",
    "        lat = json_data[record][latprop][0][\"value\"]\n",
    "        lng = json_data[record][lngprop][0][\"value\"]\n",
    "        latlng = str(lat) + \",\" + str(lng)\n",
    "        \n",
    "       \n",
    "        #append row to the dataframe\n",
    "        geocoords = geocoords.append({'tgn':gid, 'latlng':latlng}, ignore_index=True)\n",
    "        \n",
    "\n",
    "display(geocoords)\n"
   ]
  },
  {
   "cell_type": "markdown",
   "id": "15c96dc7",
   "metadata": {},
   "source": [
    "### Update Records with Geographical Coordinates \n",
    "\n",
    "The following code \n",
    "- merges the dataframe from the CSV file `df` with the dataframe `geocoords` containing the geocoordinates.\n",
    "- removes the column `coords` from the `df` dataframe\n",
    "- renames the `latlng` column to `coords` in the `df` dataframe\n",
    "- writes the dataframe `df` to a CSV file\n",
    "\n",
    "Finally it displays a summary view of the dataframe\n"
   ]
  },
  {
   "cell_type": "code",
   "execution_count": 31,
   "id": "107a351d",
   "metadata": {},
   "outputs": [
    {
     "data": {
      "text/html": [
       "<H4>CSV file with Geographical Coordinates</H4>"
      ],
      "text/plain": [
       "<IPython.core.display.HTML object>"
      ]
     },
     "metadata": {},
     "output_type": "display_data"
    },
    {
     "data": {
      "text/html": [
       "<div>\n",
       "<style scoped>\n",
       "    .dataframe tbody tr th:only-of-type {\n",
       "        vertical-align: middle;\n",
       "    }\n",
       "\n",
       "    .dataframe tbody tr th {\n",
       "        vertical-align: top;\n",
       "    }\n",
       "\n",
       "    .dataframe thead th {\n",
       "        text-align: right;\n",
       "    }\n",
       "</style>\n",
       "<table border=\"1\" class=\"dataframe\">\n",
       "  <thead>\n",
       "    <tr style=\"text-align: right;\">\n",
       "      <th></th>\n",
       "      <th>id</th>\n",
       "      <th>place</th>\n",
       "      <th>place_modified</th>\n",
       "      <th>tgn</th>\n",
       "      <th>coords</th>\n",
       "    </tr>\n",
       "  </thead>\n",
       "  <tbody>\n",
       "    <tr>\n",
       "      <th>0</th>\n",
       "      <td>https://www.harvardartmuseums.org/collections/...</td>\n",
       "      <td>Study of a Venetian Capital</td>\n",
       "      <td>Venice</td>\n",
       "      <td>tgn/7018159</td>\n",
       "      <td>45.438611,12.326667</td>\n",
       "    </tr>\n",
       "    <tr>\n",
       "      <th>1</th>\n",
       "      <td>https://www.harvardartmuseums.org/collections/...</td>\n",
       "      <td>Study of a Venetian Capital</td>\n",
       "      <td>Venice</td>\n",
       "      <td>tgn/7018159</td>\n",
       "      <td>45.438611,12.326667</td>\n",
       "    </tr>\n",
       "    <tr>\n",
       "      <th>2</th>\n",
       "      <td>https://collections.ashmolean.org/collection/1...</td>\n",
       "      <td>Part of the Base of a Pilaster in Santa Maria ...</td>\n",
       "      <td>Venice</td>\n",
       "      <td>tgn/7018159</td>\n",
       "      <td>45.438611,12.326667</td>\n",
       "    </tr>\n",
       "    <tr>\n",
       "      <th>3</th>\n",
       "      <td>https://www.tate.org.uk/art/artworks/13032</td>\n",
       "      <td>The North-West Angle of the Facade of St Mark’...</td>\n",
       "      <td>Venice</td>\n",
       "      <td>tgn/7018159</td>\n",
       "      <td>45.438611,12.326667</td>\n",
       "    </tr>\n",
       "    <tr>\n",
       "      <th>4</th>\n",
       "      <td>https://collections.ashmolean.org/collection/1...</td>\n",
       "      <td>The Palazzo Contarini-Fasan, Venice</td>\n",
       "      <td>Venice</td>\n",
       "      <td>tgn/7018159</td>\n",
       "      <td>45.438611,12.326667</td>\n",
       "    </tr>\n",
       "    <tr>\n",
       "      <th>...</th>\n",
       "      <td>...</td>\n",
       "      <td>...</td>\n",
       "      <td>...</td>\n",
       "      <td>...</td>\n",
       "      <td>...</td>\n",
       "    </tr>\n",
       "    <tr>\n",
       "      <th>83</th>\n",
       "      <td>https://collections.ashmolean.org/collection/1...</td>\n",
       "      <td>Mountain study: view of the Alps (Aiguilles ne...</td>\n",
       "      <td>Aiguilles</td>\n",
       "      <td>tgn/1031704</td>\n",
       "      <td>44.781489,6.869433</td>\n",
       "    </tr>\n",
       "    <tr>\n",
       "      <th>84</th>\n",
       "      <td>https://www.harvardartmuseums.org/collections/...</td>\n",
       "      <td>Scene on the Rhine</td>\n",
       "      <td>Rhine</td>\n",
       "      <td>tgn/7012611</td>\n",
       "      <td>51.98404,4.08245</td>\n",
       "    </tr>\n",
       "    <tr>\n",
       "      <th>85</th>\n",
       "      <td>https://www.harvardartmuseums.org/collections/...</td>\n",
       "      <td>Study of Portal and Carved Pinnacles, Cathedra...</td>\n",
       "      <td>Normandie</td>\n",
       "      <td>tgn/8711852</td>\n",
       "      <td>49.133333,.216667</td>\n",
       "    </tr>\n",
       "    <tr>\n",
       "      <th>86</th>\n",
       "      <td>https://collections.ashmolean.org/collection/1...</td>\n",
       "      <td>Evening in Autumn under the Castle of Habsburg</td>\n",
       "      <td>Habsburg</td>\n",
       "      <td>tgn/8703166</td>\n",
       "      <td>47.462441,8.185123</td>\n",
       "    </tr>\n",
       "    <tr>\n",
       "      <th>87</th>\n",
       "      <td>https://collections.ashmolean.org/collection/1...</td>\n",
       "      <td>Sketch of the Oak Spray in Mantegna's Fresco o...</td>\n",
       "      <td>Padua</td>\n",
       "      <td>tgn/7003085</td>\n",
       "      <td>45.416667,11.883333</td>\n",
       "    </tr>\n",
       "  </tbody>\n",
       "</table>\n",
       "<p>88 rows × 5 columns</p>\n",
       "</div>"
      ],
      "text/plain": [
       "                                                   id  \\\n",
       "0   https://www.harvardartmuseums.org/collections/...   \n",
       "1   https://www.harvardartmuseums.org/collections/...   \n",
       "2   https://collections.ashmolean.org/collection/1...   \n",
       "3          https://www.tate.org.uk/art/artworks/13032   \n",
       "4   https://collections.ashmolean.org/collection/1...   \n",
       "..                                                ...   \n",
       "83  https://collections.ashmolean.org/collection/1...   \n",
       "84  https://www.harvardartmuseums.org/collections/...   \n",
       "85  https://www.harvardartmuseums.org/collections/...   \n",
       "86  https://collections.ashmolean.org/collection/1...   \n",
       "87  https://collections.ashmolean.org/collection/1...   \n",
       "\n",
       "                                                place place_modified  \\\n",
       "0                         Study of a Venetian Capital         Venice   \n",
       "1                         Study of a Venetian Capital         Venice   \n",
       "2   Part of the Base of a Pilaster in Santa Maria ...         Venice   \n",
       "3   The North-West Angle of the Facade of St Mark’...         Venice   \n",
       "4                 The Palazzo Contarini-Fasan, Venice         Venice   \n",
       "..                                                ...            ...   \n",
       "83  Mountain study: view of the Alps (Aiguilles ne...      Aiguilles   \n",
       "84                                 Scene on the Rhine          Rhine   \n",
       "85  Study of Portal and Carved Pinnacles, Cathedra...      Normandie   \n",
       "86     Evening in Autumn under the Castle of Habsburg       Habsburg   \n",
       "87  Sketch of the Oak Spray in Mantegna's Fresco o...          Padua   \n",
       "\n",
       "            tgn               coords  \n",
       "0   tgn/7018159  45.438611,12.326667  \n",
       "1   tgn/7018159  45.438611,12.326667  \n",
       "2   tgn/7018159  45.438611,12.326667  \n",
       "3   tgn/7018159  45.438611,12.326667  \n",
       "4   tgn/7018159  45.438611,12.326667  \n",
       "..          ...                  ...  \n",
       "83  tgn/1031704   44.781489,6.869433  \n",
       "84  tgn/7012611     51.98404,4.08245  \n",
       "85  tgn/8711852    49.133333,.216667  \n",
       "86  tgn/8703166   47.462441,8.185123  \n",
       "87  tgn/7003085  45.416667,11.883333  \n",
       "\n",
       "[88 rows x 5 columns]"
      ]
     },
     "metadata": {},
     "output_type": "display_data"
    }
   ],
   "source": [
    "\n",
    "# merge dataframe with coords with dataframe from csv\n",
    "df = df.merge(geocoords, on='tgn') \n",
    "\n",
    "# drop column coords\n",
    "df = df.drop('coords', 1) # drop column coords\n",
    "\n",
    "# rename column latlng to coords\n",
    "df.rename(columns={'latlng': 'coords'}, inplace=True) # rename column tgn to coords\n",
    "\n",
    "# drop rows that have na value in coords column\n",
    "df.dropna(subset=['coords'])  \n",
    "\n",
    "# write to CSV file\n",
    "df.to_csv(filecoord, index=False)\n",
    "\n",
    "display(HTML(\"<H4>CSV file with Geographical Coordinates</H4>\"))\n",
    "# display dataframe\n",
    "display(df)\n"
   ]
  },
  {
   "cell_type": "markdown",
   "id": "1ce006eb",
   "metadata": {},
   "source": [
    "## Define Representation in Linked Art\n",
    "\n",
    "The next step is to define a representation in Linked Art for geographical coordinates of place depicted in artwork. The relevant parts of the Linked Art model are: \n",
    " - Depiction\n",
    " - Geospatial approximation\n",
    " - Depiction of place with approximate location\n",
    "\n",
    "\n",
    "### Linked Art Data Model - Depiction\n",
    "\n",
    "Many sorts of artwork depict things that can be pointed out in the artwork. These could be identifiable entities, such as a known Person or Object with a name or identifier, or unidentifiable (perhaps fictional) instances of a class of entity, such as a depiction of a battle but not any particular battle. For example a portrait depicts the person sitting for it, or a sketch of a generic landscape depicts a place even if it's not a particular, known location. The depiction pattern describes what is in the artwork's image.\n",
    "\n",
    "This is modeled using the represents property on the VisualItem, which refers to the entity that is being depicted.\n",
    "\n",
    "`{\n",
    "  \"@context\": \"https://linked.art/ns/v1/linked-art.json\",\n",
    "  \"id\": \"https://linked.art/example/object/34\",\n",
    "  \"type\": \"HumanMadeObject\",\n",
    "  \"_label\": \"Self Portrait\",\n",
    "    \"shows\": [\n",
    "    {\n",
    "      \"type\": \"VisualItem\",\n",
    "      \"represents\": [\n",
    "        {\n",
    "          \"type\": \"Place\",\n",
    "          \"_label\": \"Artist\"\n",
    "        }\n",
    "      ]\n",
    "    }\n",
    "  ]}`\n"
   ]
  },
  {
   "cell_type": "markdown",
   "id": "1b781b3c",
   "metadata": {},
   "source": [
    "### Geospatial Approximation\n",
    "\n",
    "All recorded locations are approximate to some degree. It may be desirable to capture this approximation separately from the actual place, especially when that approximation is very uncertain. Especially if the place is the exact location of several events, and perhaps an address or other information is known, but not the exact geospatial coordinates.\n",
    "\n",
    "Secondly, as a place is defined by exactly one definition, but there might be multiple approximations such as a polygon as well as the central point, the real place that an activity occured at can be related to multiple approximate places to capture these different approximations.\n",
    "\n",
    "`{\n",
    "  \"@context\": \"https://linked.art/ns/v1/linked-art.json\",\n",
    "  \"id\": \"https://linked.art/example/place/4\",\n",
    "  \"type\": \"Place\",\n",
    "  \"_label\": \"True Auction House Location\",\n",
    "  \"approximated_by\": [\n",
    "    {\n",
    "      \"type\": \"Place\",\n",
    "      \"_label\": \"Auction House Location Approximation\",\n",
    "      \"defined_by\": \"POINT(-0.0032937526703165 51.515107154846)\"\n",
    "    }\n",
    "  ]\n",
    "}`\n",
    "\n",
    "\n",
    "### Depiction of Place with Approximate Location\n",
    "\n",
    "`{\n",
    "  \"@context\": \"https://linked.art/ns/v1/linked-art.json\",\n",
    "  \"id\": \"https://linked.art/example/object/34\",\n",
    "  \"type\": \"HumanMadeObject\",\n",
    "  \"_label\": \"geographical place name\",\n",
    "    \"shows\": [\n",
    "    {\n",
    "      \"type\": \"VisualItem\",\n",
    "      \"represents\": [\n",
    "        {\n",
    "          \"type\": \"Place\",\n",
    "          \"_label\": \"Lucca\",\n",
    "          \"approximated_by\": [\n",
    "                {\n",
    "                  \"type\": \"Place\",\n",
    "                  \"_label\": \"Lucca - Location Approximation\",\n",
    "                  \"defined_by\": \"POINT(-0.0032937526703165 51.515107154846)\"\n",
    "                }\n",
    "              ]\n",
    "        }\n",
    "      ]\n",
    "    }\n",
    "  ]}`\n",
    "\n",
    "\n",
    "\n",
    "\n",
    "### Further reading\n",
    "\n",
    "- Depiction https://linked.art/model/object/aboutness/#depiction\n",
    "\n",
    "- Geospatial approximation https://linked.art/model/place/#geospatial-approximation"
   ]
  },
  {
   "cell_type": "markdown",
   "id": "edf0f7c5",
   "metadata": {},
   "source": [
    "<h3>Visualisation - Geographical Coordinates of Place Depicted in Artwork</h3>\n",
    "<p>The following code will create a visualisation of the Linked Art JSON-LD representation of geographical coordinates of a place depicted in an artwork. You can explore the representation by clicking on nodes to expand/contract them.</p>\n",
    "<p>The visualisation is an SVG representation that uses D3.js and is a modified version of code available at https://json-ld.org/playground/jsonld-vis.js and possibly https://github.com/science-periodicals/jsonld-vis</p>"
   ]
  },
  {
   "cell_type": "markdown",
   "id": "687ef899",
   "metadata": {},
   "source": [
    "<div id='vis' style='height:100%;width:6000px'></div>"
   ]
  },
  {
   "cell_type": "code",
   "execution_count": 71,
   "id": "db13397d",
   "metadata": {},
   "outputs": [
    {
     "data": {
      "application/javascript": [
       "\n",
       "require.config({paths: {\n",
       "    d3: \"http://d3js.org/d3.v3.min\"\n",
       "}});\n",
       "\n",
       "function visjsonld(file, selector){\n",
       "   \n",
       "    require([\"d3\"], function(d3) {\n",
       "        \n",
       "    d3.json(file, (err, jsonld) => {\n",
       "        \n",
       "    var config = {};\n",
       "    \n",
       "    var h = config.h || 800\n",
       "          , w = config.w || 3000\n",
       "          , maxLabelWidth = config.maxLabelWidth || 200\n",
       "          , transitionDuration = config.transitionDuration || 750\n",
       "          , transitionEase = config.transitionEase || 'cubic-in-out'\n",
       "          , minRadius = config.minRadius || 5\n",
       "          , scalingFactor = config.scalingFactor || 2;\n",
       "    \n",
       "    var i = 0;\n",
       "\n",
       "    var tree = d3.layout.tree()\n",
       "          .size([h, w]);\n",
       "        \n",
       "    var diagonal = d3.svg.diagonal()\n",
       "          .projection(function(d) { return [d.y, d.x]; });\n",
       "        \n",
       "    d3.select(selector).selectAll(\"svg\").remove();\n",
       "   \n",
       "    var svg = d3.select(selector).append('svg')\n",
       "            .attr('width', w)\n",
       "            .attr('height', h)\n",
       "            .attr('style', 'background-color:#446a7f')\n",
       "            .append('g')\n",
       "            .attr('transform', 'translate(' + maxLabelWidth + ',0)');\n",
       "            \n",
       "     var root = jsonldTree(jsonld);\n",
       "        root.x0 = h / 2;\n",
       "        root.y0 = 0;\n",
       "        root.children.forEach(collapse);\n",
       "    \n",
       "        function changeSVGWidth(newWidth) {\n",
       "          if (w !== newWidth) {\n",
       "            d3.select(selector + ' > svg').attr('width', newWidth);\n",
       "          }\n",
       "        }\n",
       "    \n",
       "        function jsonldTree(source) {\n",
       "          var tree = {};\n",
       "    \n",
       "          if ('@id' in source) {\n",
       "            tree.isIdNode = true;\n",
       "            tree.name = source['@id'];\n",
       "            if (tree.name.length > maxLabelWidth / 9) {\n",
       "              tree.valueExtended = tree.name;\n",
       "              tree.name = '...' + tree.valueExtended.slice(-Math.floor(maxLabelWidth / 9));\n",
       "            }\n",
       "          } else {\n",
       "            tree.isIdNode = true;\n",
       "            tree.isBlankNode = true;\n",
       "            // random id, can replace with actual uuid generator if needed\n",
       "            tree.name = '_' + Math.random().toString(10).slice(-7);\n",
       "          }\n",
       "    \n",
       "          var children = [];\n",
       "          Object.keys(source).forEach(function(key) {\n",
       "            if (key === '@id' || key === '@context' || source[key] === null) return;\n",
       "    \n",
       "            var valueExtended, value;\n",
       "            if (typeof source[key] === 'object' && !Array.isArray(source[key])) {\n",
       "              children.push({\n",
       "                name: key,\n",
       "                children: [jsonldTree(source[key])]\n",
       "              });\n",
       "            } else if (Array.isArray(source[key])) {\n",
       "              children.push({\n",
       "                name: key,\n",
       "                children: source[key].map(function(item) {\n",
       "                  if (typeof item === 'object') {\n",
       "                    return jsonldTree(item);\n",
       "                  } else {\n",
       "                    return { name: item };\n",
       "                  }\n",
       "                })\n",
       "              });\n",
       "            } else {\n",
       "              valueExtended = source[key];\n",
       "              value = valueExtended;\n",
       "              if (value.length > maxLabelWidth / 9) {\n",
       "                value = value.slice(0, Math.floor(maxLabelWidth / 2)) + '...';\n",
       "                children.push({\n",
       "                  name: key,\n",
       "                  value: value,\n",
       "                  valueExtended: valueExtended\n",
       "                });\n",
       "              } else {\n",
       "                children.push({\n",
       "                  name: key,\n",
       "                  value: value\n",
       "                });\n",
       "              }\n",
       "            }\n",
       "          });\n",
       "    \n",
       "          if (children.length) {\n",
       "            tree.children = children;\n",
       "          }\n",
       "    \n",
       "          return tree;\n",
       "        }\n",
       "    \n",
       "        function update(source) {\n",
       "          var nodes = tree.nodes(root).reverse();\n",
       "          var links = tree.links(nodes);\n",
       "    \n",
       "          nodes.forEach(function(d) { d.y = d.depth * maxLabelWidth; });\n",
       "    \n",
       "          var node = svg.selectAll('g.node')\n",
       "            .data(nodes, function(d) { return d.id || (d.id = ++i); });\n",
       "    \n",
       "          var nodeEnter = node.enter()\n",
       "            .append('g')\n",
       "            .attr('class', 'node')\n",
       "            .attr('transform', function(d) { return 'translate(' + source.y0 + ',' + source.x0 + ')'; })\n",
       "            .on('click', click);\n",
       "    \n",
       "          nodeEnter.append('circle')\n",
       "            .attr('r', 0)\n",
       "            .style('stroke-width', function(d) {\n",
       "              return d.isIdNode ? '2px' : '1px';\n",
       "            })\n",
       "            .style('stroke', function(d) {\n",
       "              return d.isIdNode ? 'navy' : '#78BE21';\n",
       "            })\n",
       "            .style('fill', function(d) {\n",
       "              if (d.isIdNode) {\n",
       "                return d._children ? 'white' : 'white';\n",
       "              } else {\n",
       "                return d._children ? 'white' : 'white';\n",
       "              }\n",
       "            })\n",
       "            \n",
       "    \n",
       "          nodeEnter.append('text')\n",
       "            .attr('x', function(d) {\n",
       "              var spacing = computeRadius(d) + 5;\n",
       "              return d.children || d._children ? -spacing : spacing;\n",
       "            })\n",
       "            .attr('dy', '4')\n",
       "            .attr('text-anchor', function(d) { return d.children || d._children ? 'end' : 'start'; })\n",
       "            .text(function(d) { return d.name + (d.value ? ': ' + d.value : ''); })\n",
       "            .style('fill-opacity', 0)\n",
       "            \n",
       ";\n",
       "    \n",
       "          var maxSpan = Math.max.apply(Math, nodes.map(function(d) { return d.y + maxLabelWidth; }));\n",
       "          if (maxSpan + maxLabelWidth + 20 > w) {\n",
       "            changeSVGWidth(maxSpan + maxLabelWidth);\n",
       "            d3.select(selector).node().scrollLeft = source.y0;\n",
       "          }\n",
       "    \n",
       "          var nodeUpdate = node.transition()\n",
       "            .duration(transitionDuration)\n",
       "            .ease(transitionEase)\n",
       "            .attr('transform', function(d) { return 'translate(' + d.y + ',' + d.x + ')'; });\n",
       "    \n",
       "          nodeUpdate.select('circle')\n",
       "            .attr('r', function(d) { return computeRadius(d); })\n",
       "            .style('stroke-width', function(d) {\n",
       "              return d.isIdNode ? '2px' : '1px';\n",
       "            })\n",
       "            .style('stroke', function(d) {\n",
       "              return d.isIdNode ? '#78BE21' : '#78BE21';\n",
       "            })\n",
       "            .style('fill', function(d) {\n",
       "              if (d.isIdNode) {\n",
       "                return d._children ? 'navy' : '#78BE21';\n",
       "              } else {\n",
       "                return d._children ? 'navy' : '#78BE21';\n",
       "              }\n",
       "            });\n",
       "    \n",
       "            nodeUpdate.select('text').style('fill-opacity', 1);\n",
       "            nodeUpdate.select('text').style('font-family', \"'Open Sans', 'Helvetica Neue', Helvetica, sans-serif\");\n",
       "            nodeUpdate.select('text').style('fill', 'white');\n",
       "            nodeUpdate.select('text').style('font-size', '12px');\n",
       "            \n",
       "            \n",
       "            \n",
       "           \n",
       "            \n",
       "    \n",
       "      \n",
       "    \n",
       "          var nodeExit = node.exit().transition()\n",
       "            .duration(transitionDuration)\n",
       "            .ease(transitionEase)\n",
       "            .attr('transform', function(d) { return 'translate(' + source.y + ',' + source.x + ')'; })\n",
       "            .remove();\n",
       "    \n",
       "          nodeExit.select('circle').attr('r', 0);\n",
       "          nodeExit.select('text').style('fill-opacity', 0);\n",
       "    \n",
       "          var link = svg.selectAll('path.link')\n",
       "            .data(links, function(d) { return d.target.id; });\n",
       "    \n",
       "          link.enter().insert('path', 'g')\n",
       "            .attr('class', 'link')\n",
       "            .attr('style', 'fill: none;stroke: #DADFE1;stroke-width: 1px;')\n",
       "            .attr('d', function(d) {\n",
       "              var o = { x: source.x0, y: source.y0 };\n",
       "              return diagonal({ source: o, target: o });\n",
       "            });\n",
       "    \n",
       "          link.transition()\n",
       "            .duration(transitionDuration)\n",
       "            .ease(transitionEase)\n",
       "            .attr('d', diagonal);\n",
       "    \n",
       "          link.exit().transition()\n",
       "            .duration(transitionDuration)\n",
       "            .ease(transitionEase)\n",
       "            .attr('d', function(d) {\n",
       "              var o = { x: source.x, y: source.y };\n",
       "              return diagonal({ source: o, target: o });\n",
       "            })\n",
       "            .remove();\n",
       "    \n",
       "          nodes.forEach(function(d) {\n",
       "            d.x0 = d.x;\n",
       "            d.y0 = d.y;\n",
       "          });\n",
       "        }\n",
       "    \n",
       "        function computeRadius(d) {\n",
       "          if (d.children || d._children) {\n",
       "            return minRadius + (numEndNodes(d) / scalingFactor);\n",
       "          } else {\n",
       "            return minRadius;\n",
       "          }\n",
       "        }\n",
       "    \n",
       "        function numEndNodes(n) {\n",
       "          var num = 0;\n",
       "          if (n.children) {\n",
       "            n.children.forEach(function(c) {\n",
       "              num += numEndNodes(c);\n",
       "            });\n",
       "          } else if (n._children) {\n",
       "            n._children.forEach(function(c) {\n",
       "              num += numEndNodes(c);\n",
       "            });\n",
       "          } else {\n",
       "            num++;\n",
       "          }\n",
       "          return num;\n",
       "        }\n",
       "    \n",
       "        function click(d) {\n",
       "          if (d.children) {\n",
       "            d._children = d.children;\n",
       "            d.children = null;\n",
       "          } else {\n",
       "            d.children = d._children;\n",
       "            d._children = null;\n",
       "          }\n",
       "    \n",
       "          update(d);\n",
       "    \n",
       "          // fast-forward blank nodes\n",
       "          if (d.children) {\n",
       "            d.children.forEach(function(child) {\n",
       "              if (child.isBlankNode && child._children) {\n",
       "                click(child);\n",
       "              }\n",
       "            });\n",
       "          }\n",
       "        }\n",
       "    \n",
       "        function collapse(d) {\n",
       "          if (d.children) {\n",
       "            d._children = d.children;\n",
       "            d._children.forEach(collapse);\n",
       "            d.children = null;\n",
       "          }\n",
       "        }\n",
       "    \n",
       "        update(root);\n",
       "      \n",
       "        \n",
       "    })\n",
       "\n",
       "\n",
       "\n",
       "\n",
       "})}\n",
       "var file = './data/examples/geolocation.json';var selector = '#vis';visjsonld(file, selector); "
      ],
      "text/plain": [
       "<IPython.core.display.Javascript object>"
      ]
     },
     "execution_count": 71,
     "metadata": {},
     "output_type": "execute_result"
    }
   ],
   "source": [
    "from IPython.core.display import Javascript\n",
    "\n",
    "code2 = \"var file = './data/examples/geolocation.json';\"\\\n",
    "        \"var selector = '#vis';\" \\\n",
    "        \"visjsonld(file, selector); \"  \n",
    "\n",
    "with open('./src/js/visld.js', 'r') as _jscript:\n",
    "    code = _jscript.read() + code2\n",
    "\n",
    "Javascript(code)"
   ]
  },
  {
   "cell_type": "markdown",
   "id": "1dfa884a",
   "metadata": {},
   "source": [
    "##  Add Place Name and Coordinates into Linked Art JSON-LD Files\n",
    "\n",
    "The final step is to add place names and geocoordinates to the original Linked Art files. \n",
    "\n",
    "The updated Linked Art files, including the geocoordinates, will later be used in a storymap visualisation of the artworks of John Ruskin, mapping the artworks to the locations that they depict, using the geocoordinates.\n",
    "\n",
    "The `cromulent` Python library is used to create the JSON-LD representation."
   ]
  },
  {
   "cell_type": "code",
   "execution_count": 117,
   "id": "d37dd072",
   "metadata": {},
   "outputs": [
    {
     "data": {
      "text/html": [
       "<h4>Study of a Venetian Capital</h4>"
      ],
      "text/plain": [
       "<IPython.core.display.HTML object>"
      ]
     },
     "metadata": {},
     "output_type": "display_data"
    },
    {
     "data": {
      "text/html": [
       "<div>\n",
       "<style scoped>\n",
       "    .dataframe tbody tr th:only-of-type {\n",
       "        vertical-align: middle;\n",
       "    }\n",
       "\n",
       "    .dataframe tbody tr th {\n",
       "        vertical-align: top;\n",
       "    }\n",
       "\n",
       "    .dataframe thead th {\n",
       "        text-align: right;\n",
       "    }\n",
       "</style>\n",
       "<table border=\"1\" class=\"dataframe\">\n",
       "  <thead>\n",
       "    <tr style=\"text-align: right;\">\n",
       "      <th></th>\n",
       "      <th>id</th>\n",
       "      <th>place</th>\n",
       "      <th>place_modified</th>\n",
       "      <th>tgn</th>\n",
       "      <th>coords</th>\n",
       "    </tr>\n",
       "  </thead>\n",
       "  <tbody>\n",
       "    <tr>\n",
       "      <th>0</th>\n",
       "      <td>https://www.harvardartmuseums.org/collections/...</td>\n",
       "      <td>Study of a Venetian Capital</td>\n",
       "      <td>Venice</td>\n",
       "      <td>tgn/7018159</td>\n",
       "      <td>45.438611,12.326667</td>\n",
       "    </tr>\n",
       "  </tbody>\n",
       "</table>\n",
       "</div>"
      ],
      "text/plain": [
       "                                                  id  \\\n",
       "0  https://www.harvardartmuseums.org/collections/...   \n",
       "\n",
       "                         place place_modified          tgn  \\\n",
       "0  Study of a Venetian Capital         Venice  tgn/7018159   \n",
       "\n",
       "                coords  \n",
       "0  45.438611,12.326667  "
      ]
     },
     "metadata": {},
     "output_type": "display_data"
    },
    {
     "data": {
      "text/html": [
       "<h4>Tom Tower, Christ Church, Oxford</h4>"
      ],
      "text/plain": [
       "<IPython.core.display.HTML object>"
      ]
     },
     "metadata": {},
     "output_type": "display_data"
    },
    {
     "data": {
      "text/html": [
       "<div>\n",
       "<style scoped>\n",
       "    .dataframe tbody tr th:only-of-type {\n",
       "        vertical-align: middle;\n",
       "    }\n",
       "\n",
       "    .dataframe tbody tr th {\n",
       "        vertical-align: top;\n",
       "    }\n",
       "\n",
       "    .dataframe thead th {\n",
       "        text-align: right;\n",
       "    }\n",
       "</style>\n",
       "<table border=\"1\" class=\"dataframe\">\n",
       "  <thead>\n",
       "    <tr style=\"text-align: right;\">\n",
       "      <th></th>\n",
       "      <th>id</th>\n",
       "      <th>place</th>\n",
       "      <th>place_modified</th>\n",
       "      <th>tgn</th>\n",
       "      <th>coords</th>\n",
       "    </tr>\n",
       "  </thead>\n",
       "  <tbody>\n",
       "    <tr>\n",
       "      <th>20</th>\n",
       "      <td>https://www.harvardartmuseums.org/collections/...</td>\n",
       "      <td>Tom Tower, Christ Church, Oxford</td>\n",
       "      <td>Oxfordshire</td>\n",
       "      <td>tgn/7011931</td>\n",
       "      <td>51.75,-1.25</td>\n",
       "    </tr>\n",
       "  </tbody>\n",
       "</table>\n",
       "</div>"
      ],
      "text/plain": [
       "                                                   id  \\\n",
       "20  https://www.harvardartmuseums.org/collections/...   \n",
       "\n",
       "                               place place_modified          tgn       coords  \n",
       "20  Tom Tower, Christ Church, Oxford    Oxfordshire  tgn/7011931  51.75,-1.25  "
      ]
     },
     "metadata": {},
     "output_type": "display_data"
    },
    {
     "data": {
      "text/html": [
       "<h4>Study of a Venetian Capital</h4>"
      ],
      "text/plain": [
       "<IPython.core.display.HTML object>"
      ]
     },
     "metadata": {},
     "output_type": "display_data"
    },
    {
     "data": {
      "text/html": [
       "<div>\n",
       "<style scoped>\n",
       "    .dataframe tbody tr th:only-of-type {\n",
       "        vertical-align: middle;\n",
       "    }\n",
       "\n",
       "    .dataframe tbody tr th {\n",
       "        vertical-align: top;\n",
       "    }\n",
       "\n",
       "    .dataframe thead th {\n",
       "        text-align: right;\n",
       "    }\n",
       "</style>\n",
       "<table border=\"1\" class=\"dataframe\">\n",
       "  <thead>\n",
       "    <tr style=\"text-align: right;\">\n",
       "      <th></th>\n",
       "      <th>id</th>\n",
       "      <th>place</th>\n",
       "      <th>place_modified</th>\n",
       "      <th>tgn</th>\n",
       "      <th>coords</th>\n",
       "    </tr>\n",
       "  </thead>\n",
       "  <tbody>\n",
       "    <tr>\n",
       "      <th>1</th>\n",
       "      <td>https://www.harvardartmuseums.org/collections/...</td>\n",
       "      <td>Study of a Venetian Capital</td>\n",
       "      <td>Venice</td>\n",
       "      <td>tgn/7018159</td>\n",
       "      <td>45.438611,12.326667</td>\n",
       "    </tr>\n",
       "  </tbody>\n",
       "</table>\n",
       "</div>"
      ],
      "text/plain": [
       "                                                  id  \\\n",
       "1  https://www.harvardartmuseums.org/collections/...   \n",
       "\n",
       "                         place place_modified          tgn  \\\n",
       "1  Study of a Venetian Capital         Venice  tgn/7018159   \n",
       "\n",
       "                coords  \n",
       "1  45.438611,12.326667  "
      ]
     },
     "metadata": {},
     "output_type": "display_data"
    },
    {
     "data": {
      "text/html": [
       "<h4>View of Bologna</h4>"
      ],
      "text/plain": [
       "<IPython.core.display.HTML object>"
      ]
     },
     "metadata": {},
     "output_type": "display_data"
    },
    {
     "data": {
      "text/html": [
       "<div>\n",
       "<style scoped>\n",
       "    .dataframe tbody tr th:only-of-type {\n",
       "        vertical-align: middle;\n",
       "    }\n",
       "\n",
       "    .dataframe tbody tr th {\n",
       "        vertical-align: top;\n",
       "    }\n",
       "\n",
       "    .dataframe thead th {\n",
       "        text-align: right;\n",
       "    }\n",
       "</style>\n",
       "<table border=\"1\" class=\"dataframe\">\n",
       "  <thead>\n",
       "    <tr style=\"text-align: right;\">\n",
       "      <th></th>\n",
       "      <th>id</th>\n",
       "      <th>place</th>\n",
       "      <th>place_modified</th>\n",
       "      <th>tgn</th>\n",
       "      <th>coords</th>\n",
       "    </tr>\n",
       "  </thead>\n",
       "  <tbody>\n",
       "    <tr>\n",
       "      <th>32</th>\n",
       "      <td>https://www.tate.org.uk/art/artworks/13033</td>\n",
       "      <td>View of Bologna</td>\n",
       "      <td>Bologna</td>\n",
       "      <td>tgn/7003127</td>\n",
       "      <td>44.466667,11.433333</td>\n",
       "    </tr>\n",
       "  </tbody>\n",
       "</table>\n",
       "</div>"
      ],
      "text/plain": [
       "                                            id            place  \\\n",
       "32  https://www.tate.org.uk/art/artworks/13033  View of Bologna   \n",
       "\n",
       "   place_modified          tgn               coords  \n",
       "32        Bologna  tgn/7003127  44.466667,11.433333  "
      ]
     },
     "metadata": {},
     "output_type": "display_data"
    },
    {
     "data": {
      "text/html": [
       "<h4>Fragment of the Alps</h4>"
      ],
      "text/plain": [
       "<IPython.core.display.HTML object>"
      ]
     },
     "metadata": {},
     "output_type": "display_data"
    },
    {
     "data": {
      "text/html": [
       "<div>\n",
       "<style scoped>\n",
       "    .dataframe tbody tr th:only-of-type {\n",
       "        vertical-align: middle;\n",
       "    }\n",
       "\n",
       "    .dataframe tbody tr th {\n",
       "        vertical-align: top;\n",
       "    }\n",
       "\n",
       "    .dataframe thead th {\n",
       "        text-align: right;\n",
       "    }\n",
       "</style>\n",
       "<table border=\"1\" class=\"dataframe\">\n",
       "  <thead>\n",
       "    <tr style=\"text-align: right;\">\n",
       "      <th></th>\n",
       "      <th>id</th>\n",
       "      <th>place</th>\n",
       "      <th>place_modified</th>\n",
       "      <th>tgn</th>\n",
       "      <th>coords</th>\n",
       "    </tr>\n",
       "  </thead>\n",
       "  <tbody>\n",
       "    <tr>\n",
       "      <th>33</th>\n",
       "      <td>https://www.harvardartmuseums.org/collections/...</td>\n",
       "      <td>Fragment of the Alps</td>\n",
       "      <td>Alps</td>\n",
       "      <td>tgn/7007746</td>\n",
       "      <td>46.416667,10</td>\n",
       "    </tr>\n",
       "  </tbody>\n",
       "</table>\n",
       "</div>"
      ],
      "text/plain": [
       "                                                   id                 place  \\\n",
       "33  https://www.harvardartmuseums.org/collections/...  Fragment of the Alps   \n",
       "\n",
       "   place_modified          tgn        coords  \n",
       "33           Alps  tgn/7007746  46.416667,10  "
      ]
     },
     "metadata": {},
     "output_type": "display_data"
    },
    {
     "data": {
      "text/html": [
       "<h4>Looking down from Florence towards Lucca</h4>"
      ],
      "text/plain": [
       "<IPython.core.display.HTML object>"
      ]
     },
     "metadata": {},
     "output_type": "display_data"
    },
    {
     "data": {
      "text/html": [
       "<div>\n",
       "<style scoped>\n",
       "    .dataframe tbody tr th:only-of-type {\n",
       "        vertical-align: middle;\n",
       "    }\n",
       "\n",
       "    .dataframe tbody tr th {\n",
       "        vertical-align: top;\n",
       "    }\n",
       "\n",
       "    .dataframe thead th {\n",
       "        text-align: right;\n",
       "    }\n",
       "</style>\n",
       "<table border=\"1\" class=\"dataframe\">\n",
       "  <thead>\n",
       "    <tr style=\"text-align: right;\">\n",
       "      <th></th>\n",
       "      <th>id</th>\n",
       "      <th>place</th>\n",
       "      <th>place_modified</th>\n",
       "      <th>tgn</th>\n",
       "      <th>coords</th>\n",
       "    </tr>\n",
       "  </thead>\n",
       "  <tbody>\n",
       "    <tr>\n",
       "      <th>38</th>\n",
       "      <td>https://www.harvardartmuseums.org/collections/...</td>\n",
       "      <td>Looking down from Florence towards Lucca</td>\n",
       "      <td>Lucca</td>\n",
       "      <td>tgn/7003165</td>\n",
       "      <td>44.033333,10.45</td>\n",
       "    </tr>\n",
       "  </tbody>\n",
       "</table>\n",
       "</div>"
      ],
      "text/plain": [
       "                                                   id  \\\n",
       "38  https://www.harvardartmuseums.org/collections/...   \n",
       "\n",
       "                                       place place_modified          tgn  \\\n",
       "38  Looking down from Florence towards Lucca          Lucca  tgn/7003165   \n",
       "\n",
       "             coords  \n",
       "38  44.033333,10.45  "
      ]
     },
     "metadata": {},
     "output_type": "display_data"
    },
    {
     "data": {
      "text/html": [
       "<h4>Study of a Lion Cub from Nicola Pisano's Siena Pulpit</h4>"
      ],
      "text/plain": [
       "<IPython.core.display.HTML object>"
      ]
     },
     "metadata": {},
     "output_type": "display_data"
    },
    {
     "data": {
      "text/html": [
       "<div>\n",
       "<style scoped>\n",
       "    .dataframe tbody tr th:only-of-type {\n",
       "        vertical-align: middle;\n",
       "    }\n",
       "\n",
       "    .dataframe tbody tr th {\n",
       "        vertical-align: top;\n",
       "    }\n",
       "\n",
       "    .dataframe thead th {\n",
       "        text-align: right;\n",
       "    }\n",
       "</style>\n",
       "<table border=\"1\" class=\"dataframe\">\n",
       "  <thead>\n",
       "    <tr style=\"text-align: right;\">\n",
       "      <th></th>\n",
       "      <th>id</th>\n",
       "      <th>place</th>\n",
       "      <th>place_modified</th>\n",
       "      <th>tgn</th>\n",
       "      <th>coords</th>\n",
       "    </tr>\n",
       "  </thead>\n",
       "  <tbody>\n",
       "    <tr>\n",
       "      <th>42</th>\n",
       "      <td>https://collections.ashmolean.org/collection/1...</td>\n",
       "      <td>Study of a Lion Cub from Nicola Pisano's Siena...</td>\n",
       "      <td>Siena</td>\n",
       "      <td>tgn/7003168</td>\n",
       "      <td>43.216667,11.4</td>\n",
       "    </tr>\n",
       "  </tbody>\n",
       "</table>\n",
       "</div>"
      ],
      "text/plain": [
       "                                                   id  \\\n",
       "42  https://collections.ashmolean.org/collection/1...   \n",
       "\n",
       "                                                place place_modified  \\\n",
       "42  Study of a Lion Cub from Nicola Pisano's Siena...          Siena   \n",
       "\n",
       "            tgn          coords  \n",
       "42  tgn/7003168  43.216667,11.4  "
      ]
     },
     "metadata": {},
     "output_type": "display_data"
    },
    {
     "data": {
      "text/html": [
       "<h4>Entrance to Feldkirch, the Vorarlberg</h4>"
      ],
      "text/plain": [
       "<IPython.core.display.HTML object>"
      ]
     },
     "metadata": {},
     "output_type": "display_data"
    },
    {
     "data": {
      "text/html": [
       "<div>\n",
       "<style scoped>\n",
       "    .dataframe tbody tr th:only-of-type {\n",
       "        vertical-align: middle;\n",
       "    }\n",
       "\n",
       "    .dataframe tbody tr th {\n",
       "        vertical-align: top;\n",
       "    }\n",
       "\n",
       "    .dataframe thead th {\n",
       "        text-align: right;\n",
       "    }\n",
       "</style>\n",
       "<table border=\"1\" class=\"dataframe\">\n",
       "  <thead>\n",
       "    <tr style=\"text-align: right;\">\n",
       "      <th></th>\n",
       "      <th>id</th>\n",
       "      <th>place</th>\n",
       "      <th>place_modified</th>\n",
       "      <th>tgn</th>\n",
       "      <th>coords</th>\n",
       "    </tr>\n",
       "  </thead>\n",
       "  <tbody>\n",
       "    <tr>\n",
       "      <th>46</th>\n",
       "      <td>https://www.harvardartmuseums.org/collections/...</td>\n",
       "      <td>Entrance to Feldkirch, the Vorarlberg</td>\n",
       "      <td>Vorarlberg</td>\n",
       "      <td>tgn/7018001</td>\n",
       "      <td>47.25,9.9167</td>\n",
       "    </tr>\n",
       "  </tbody>\n",
       "</table>\n",
       "</div>"
      ],
      "text/plain": [
       "                                                   id  \\\n",
       "46  https://www.harvardartmuseums.org/collections/...   \n",
       "\n",
       "                                    place place_modified          tgn  \\\n",
       "46  Entrance to Feldkirch, the Vorarlberg     Vorarlberg  tgn/7018001   \n",
       "\n",
       "          coords  \n",
       "46  47.25,9.9167  "
      ]
     },
     "metadata": {},
     "output_type": "display_data"
    },
    {
     "data": {
      "text/html": [
       "<h4>End of the Lake of Lecco</h4>"
      ],
      "text/plain": [
       "<IPython.core.display.HTML object>"
      ]
     },
     "metadata": {},
     "output_type": "display_data"
    },
    {
     "data": {
      "text/html": [
       "<div>\n",
       "<style scoped>\n",
       "    .dataframe tbody tr th:only-of-type {\n",
       "        vertical-align: middle;\n",
       "    }\n",
       "\n",
       "    .dataframe tbody tr th {\n",
       "        vertical-align: top;\n",
       "    }\n",
       "\n",
       "    .dataframe thead th {\n",
       "        text-align: right;\n",
       "    }\n",
       "</style>\n",
       "<table border=\"1\" class=\"dataframe\">\n",
       "  <thead>\n",
       "    <tr style=\"text-align: right;\">\n",
       "      <th></th>\n",
       "      <th>id</th>\n",
       "      <th>place</th>\n",
       "      <th>place_modified</th>\n",
       "      <th>tgn</th>\n",
       "      <th>coords</th>\n",
       "    </tr>\n",
       "  </thead>\n",
       "  <tbody>\n",
       "    <tr>\n",
       "      <th>47</th>\n",
       "      <td>https://collections.ashmolean.org/collection//...</td>\n",
       "      <td>End of the Lake of Lecco</td>\n",
       "      <td>Lecco, Lago di</td>\n",
       "      <td>tgn/1117004</td>\n",
       "      <td>45.916667,9.316667</td>\n",
       "    </tr>\n",
       "  </tbody>\n",
       "</table>\n",
       "</div>"
      ],
      "text/plain": [
       "                                                   id  \\\n",
       "47  https://collections.ashmolean.org/collection//...   \n",
       "\n",
       "                       place  place_modified          tgn              coords  \n",
       "47  End of the Lake of Lecco  Lecco, Lago di  tgn/1117004  45.916667,9.316667  "
      ]
     },
     "metadata": {},
     "output_type": "display_data"
    },
    {
     "data": {
      "text/html": [
       "<h4>The Tower of Gloucester Cathedral</h4>"
      ],
      "text/plain": [
       "<IPython.core.display.HTML object>"
      ]
     },
     "metadata": {},
     "output_type": "display_data"
    },
    {
     "data": {
      "text/html": [
       "<div>\n",
       "<style scoped>\n",
       "    .dataframe tbody tr th:only-of-type {\n",
       "        vertical-align: middle;\n",
       "    }\n",
       "\n",
       "    .dataframe tbody tr th {\n",
       "        vertical-align: top;\n",
       "    }\n",
       "\n",
       "    .dataframe thead th {\n",
       "        text-align: right;\n",
       "    }\n",
       "</style>\n",
       "<table border=\"1\" class=\"dataframe\">\n",
       "  <thead>\n",
       "    <tr style=\"text-align: right;\">\n",
       "      <th></th>\n",
       "      <th>id</th>\n",
       "      <th>place</th>\n",
       "      <th>place_modified</th>\n",
       "      <th>tgn</th>\n",
       "      <th>coords</th>\n",
       "    </tr>\n",
       "  </thead>\n",
       "  <tbody>\n",
       "    <tr>\n",
       "      <th>48</th>\n",
       "      <td>https://collections.ashmolean.org/collection/1...</td>\n",
       "      <td>The Tower of Gloucester Cathedral</td>\n",
       "      <td>Gloucestershire</td>\n",
       "      <td>tgn/7011128</td>\n",
       "      <td>51.833333,-2.25</td>\n",
       "    </tr>\n",
       "  </tbody>\n",
       "</table>\n",
       "</div>"
      ],
      "text/plain": [
       "                                                   id  \\\n",
       "48  https://collections.ashmolean.org/collection/1...   \n",
       "\n",
       "                                place   place_modified          tgn  \\\n",
       "48  The Tower of Gloucester Cathedral  Gloucestershire  tgn/7011128   \n",
       "\n",
       "             coords  \n",
       "48  51.833333,-2.25  "
      ]
     },
     "metadata": {},
     "output_type": "display_data"
    },
    {
     "data": {
      "text/html": [
       "<h4>The Courtyard of a Late Gothic Wooden House at Abbeville</h4>"
      ],
      "text/plain": [
       "<IPython.core.display.HTML object>"
      ]
     },
     "metadata": {},
     "output_type": "display_data"
    },
    {
     "data": {
      "text/html": [
       "<div>\n",
       "<style scoped>\n",
       "    .dataframe tbody tr th:only-of-type {\n",
       "        vertical-align: middle;\n",
       "    }\n",
       "\n",
       "    .dataframe tbody tr th {\n",
       "        vertical-align: top;\n",
       "    }\n",
       "\n",
       "    .dataframe thead th {\n",
       "        text-align: right;\n",
       "    }\n",
       "</style>\n",
       "<table border=\"1\" class=\"dataframe\">\n",
       "  <thead>\n",
       "    <tr style=\"text-align: right;\">\n",
       "      <th></th>\n",
       "      <th>id</th>\n",
       "      <th>place</th>\n",
       "      <th>place_modified</th>\n",
       "      <th>tgn</th>\n",
       "      <th>coords</th>\n",
       "    </tr>\n",
       "  </thead>\n",
       "  <tbody>\n",
       "    <tr>\n",
       "      <th>49</th>\n",
       "      <td>https://collections.ashmolean.org/collection/1...</td>\n",
       "      <td>The Courtyard of a Late Gothic Wooden House at...</td>\n",
       "      <td>France</td>\n",
       "      <td>tgn/7010587</td>\n",
       "      <td>50.106602,1.832691</td>\n",
       "    </tr>\n",
       "  </tbody>\n",
       "</table>\n",
       "</div>"
      ],
      "text/plain": [
       "                                                   id  \\\n",
       "49  https://collections.ashmolean.org/collection/1...   \n",
       "\n",
       "                                                place place_modified  \\\n",
       "49  The Courtyard of a Late Gothic Wooden House at...         France   \n",
       "\n",
       "            tgn              coords  \n",
       "49  tgn/7010587  50.106602,1.832691  "
      ]
     },
     "metadata": {},
     "output_type": "display_data"
    },
    {
     "data": {
      "text/html": [
       "<h4>Falls of Schaffhausen</h4>"
      ],
      "text/plain": [
       "<IPython.core.display.HTML object>"
      ]
     },
     "metadata": {},
     "output_type": "display_data"
    },
    {
     "data": {
      "text/html": [
       "<div>\n",
       "<style scoped>\n",
       "    .dataframe tbody tr th:only-of-type {\n",
       "        vertical-align: middle;\n",
       "    }\n",
       "\n",
       "    .dataframe tbody tr th {\n",
       "        vertical-align: top;\n",
       "    }\n",
       "\n",
       "    .dataframe thead th {\n",
       "        text-align: right;\n",
       "    }\n",
       "</style>\n",
       "<table border=\"1\" class=\"dataframe\">\n",
       "  <thead>\n",
       "    <tr style=\"text-align: right;\">\n",
       "      <th></th>\n",
       "      <th>id</th>\n",
       "      <th>place</th>\n",
       "      <th>place_modified</th>\n",
       "      <th>tgn</th>\n",
       "      <th>coords</th>\n",
       "    </tr>\n",
       "  </thead>\n",
       "  <tbody>\n",
       "    <tr>\n",
       "      <th>55</th>\n",
       "      <td>https://www.harvardartmuseums.org/collections/...</td>\n",
       "      <td>Falls of Schaffhausen</td>\n",
       "      <td>Schaffhausen</td>\n",
       "      <td>tgn/7106738</td>\n",
       "      <td>48.966667,10.566667</td>\n",
       "    </tr>\n",
       "  </tbody>\n",
       "</table>\n",
       "</div>"
      ],
      "text/plain": [
       "                                                   id                  place  \\\n",
       "55  https://www.harvardartmuseums.org/collections/...  Falls of Schaffhausen   \n",
       "\n",
       "   place_modified          tgn               coords  \n",
       "55   Schaffhausen  tgn/7106738  48.966667,10.566667  "
      ]
     },
     "metadata": {},
     "output_type": "display_data"
    },
    {
     "data": {
      "text/html": [
       "<h4>Towers at Baden</h4>"
      ],
      "text/plain": [
       "<IPython.core.display.HTML object>"
      ]
     },
     "metadata": {},
     "output_type": "display_data"
    },
    {
     "data": {
      "text/html": [
       "<div>\n",
       "<style scoped>\n",
       "    .dataframe tbody tr th:only-of-type {\n",
       "        vertical-align: middle;\n",
       "    }\n",
       "\n",
       "    .dataframe tbody tr th {\n",
       "        vertical-align: top;\n",
       "    }\n",
       "\n",
       "    .dataframe thead th {\n",
       "        text-align: right;\n",
       "    }\n",
       "</style>\n",
       "<table border=\"1\" class=\"dataframe\">\n",
       "  <thead>\n",
       "    <tr style=\"text-align: right;\">\n",
       "      <th></th>\n",
       "      <th>id</th>\n",
       "      <th>place</th>\n",
       "      <th>place_modified</th>\n",
       "      <th>tgn</th>\n",
       "      <th>coords</th>\n",
       "    </tr>\n",
       "  </thead>\n",
       "  <tbody>\n",
       "    <tr>\n",
       "      <th>58</th>\n",
       "      <td>https://www.harvardartmuseums.org/collections/...</td>\n",
       "      <td>Towers at Baden</td>\n",
       "      <td>Baden</td>\n",
       "      <td>tgn/8707496</td>\n",
       "      <td>47.452702,8.309969</td>\n",
       "    </tr>\n",
       "  </tbody>\n",
       "</table>\n",
       "</div>"
      ],
      "text/plain": [
       "                                                   id            place  \\\n",
       "58  https://www.harvardartmuseums.org/collections/...  Towers at Baden   \n",
       "\n",
       "   place_modified          tgn              coords  \n",
       "58          Baden  tgn/8707496  47.452702,8.309969  "
      ]
     },
     "metadata": {},
     "output_type": "display_data"
    },
    {
     "data": {
      "text/html": [
       "<h4>Church of St. Wulfran, Abbeville</h4>"
      ],
      "text/plain": [
       "<IPython.core.display.HTML object>"
      ]
     },
     "metadata": {},
     "output_type": "display_data"
    },
    {
     "data": {
      "text/html": [
       "<div>\n",
       "<style scoped>\n",
       "    .dataframe tbody tr th:only-of-type {\n",
       "        vertical-align: middle;\n",
       "    }\n",
       "\n",
       "    .dataframe tbody tr th {\n",
       "        vertical-align: top;\n",
       "    }\n",
       "\n",
       "    .dataframe thead th {\n",
       "        text-align: right;\n",
       "    }\n",
       "</style>\n",
       "<table border=\"1\" class=\"dataframe\">\n",
       "  <thead>\n",
       "    <tr style=\"text-align: right;\">\n",
       "      <th></th>\n",
       "      <th>id</th>\n",
       "      <th>place</th>\n",
       "      <th>place_modified</th>\n",
       "      <th>tgn</th>\n",
       "      <th>coords</th>\n",
       "    </tr>\n",
       "  </thead>\n",
       "  <tbody>\n",
       "    <tr>\n",
       "      <th>50</th>\n",
       "      <td>https://www.harvardartmuseums.org/collections/...</td>\n",
       "      <td>Church of St. Wulfran, Abbeville</td>\n",
       "      <td>France</td>\n",
       "      <td>tgn/7010587</td>\n",
       "      <td>50.106602,1.832691</td>\n",
       "    </tr>\n",
       "  </tbody>\n",
       "</table>\n",
       "</div>"
      ],
      "text/plain": [
       "                                                   id  \\\n",
       "50  https://www.harvardartmuseums.org/collections/...   \n",
       "\n",
       "                               place place_modified          tgn  \\\n",
       "50  Church of St. Wulfran, Abbeville         France  tgn/7010587   \n",
       "\n",
       "                coords  \n",
       "50  50.106602,1.832691  "
      ]
     },
     "metadata": {},
     "output_type": "display_data"
    },
    {
     "data": {
      "text/html": [
       "<h4>Falls of Schaffhausen</h4>"
      ],
      "text/plain": [
       "<IPython.core.display.HTML object>"
      ]
     },
     "metadata": {},
     "output_type": "display_data"
    },
    {
     "data": {
      "text/html": [
       "<div>\n",
       "<style scoped>\n",
       "    .dataframe tbody tr th:only-of-type {\n",
       "        vertical-align: middle;\n",
       "    }\n",
       "\n",
       "    .dataframe tbody tr th {\n",
       "        vertical-align: top;\n",
       "    }\n",
       "\n",
       "    .dataframe thead th {\n",
       "        text-align: right;\n",
       "    }\n",
       "</style>\n",
       "<table border=\"1\" class=\"dataframe\">\n",
       "  <thead>\n",
       "    <tr style=\"text-align: right;\">\n",
       "      <th></th>\n",
       "      <th>id</th>\n",
       "      <th>place</th>\n",
       "      <th>place_modified</th>\n",
       "      <th>tgn</th>\n",
       "      <th>coords</th>\n",
       "    </tr>\n",
       "  </thead>\n",
       "  <tbody>\n",
       "    <tr>\n",
       "      <th>56</th>\n",
       "      <td>https://www.harvardartmuseums.org/collections/...</td>\n",
       "      <td>Falls of Schaffhausen</td>\n",
       "      <td>Schaffhausen</td>\n",
       "      <td>tgn/7106738</td>\n",
       "      <td>48.966667,10.566667</td>\n",
       "    </tr>\n",
       "  </tbody>\n",
       "</table>\n",
       "</div>"
      ],
      "text/plain": [
       "                                                   id                  place  \\\n",
       "56  https://www.harvardartmuseums.org/collections/...  Falls of Schaffhausen   \n",
       "\n",
       "   place_modified          tgn               coords  \n",
       "56   Schaffhausen  tgn/7106738  48.966667,10.566667  "
      ]
     },
     "metadata": {},
     "output_type": "display_data"
    },
    {
     "data": {
      "text/html": [
       "<h4>Bellinzona</h4>"
      ],
      "text/plain": [
       "<IPython.core.display.HTML object>"
      ]
     },
     "metadata": {},
     "output_type": "display_data"
    },
    {
     "data": {
      "text/html": [
       "<div>\n",
       "<style scoped>\n",
       "    .dataframe tbody tr th:only-of-type {\n",
       "        vertical-align: middle;\n",
       "    }\n",
       "\n",
       "    .dataframe tbody tr th {\n",
       "        vertical-align: top;\n",
       "    }\n",
       "\n",
       "    .dataframe thead th {\n",
       "        text-align: right;\n",
       "    }\n",
       "</style>\n",
       "<table border=\"1\" class=\"dataframe\">\n",
       "  <thead>\n",
       "    <tr style=\"text-align: right;\">\n",
       "      <th></th>\n",
       "      <th>id</th>\n",
       "      <th>place</th>\n",
       "      <th>place_modified</th>\n",
       "      <th>tgn</th>\n",
       "      <th>coords</th>\n",
       "    </tr>\n",
       "  </thead>\n",
       "  <tbody>\n",
       "    <tr>\n",
       "      <th>59</th>\n",
       "      <td>https://www.harvardartmuseums.org/collections/...</td>\n",
       "      <td>Bellinzona</td>\n",
       "      <td>Bellinzona</td>\n",
       "      <td>tgn/7007318</td>\n",
       "      <td>46.194902,9.024729</td>\n",
       "    </tr>\n",
       "  </tbody>\n",
       "</table>\n",
       "</div>"
      ],
      "text/plain": [
       "                                                   id       place  \\\n",
       "59  https://www.harvardartmuseums.org/collections/...  Bellinzona   \n",
       "\n",
       "   place_modified          tgn              coords  \n",
       "59     Bellinzona  tgn/7007318  46.194902,9.024729  "
      ]
     },
     "metadata": {},
     "output_type": "display_data"
    },
    {
     "data": {
      "text/html": [
       "<h4>Part of the Base of a Pilaster in Santa Maria dei Miracoli, Venice</h4>"
      ],
      "text/plain": [
       "<IPython.core.display.HTML object>"
      ]
     },
     "metadata": {},
     "output_type": "display_data"
    },
    {
     "data": {
      "text/html": [
       "<div>\n",
       "<style scoped>\n",
       "    .dataframe tbody tr th:only-of-type {\n",
       "        vertical-align: middle;\n",
       "    }\n",
       "\n",
       "    .dataframe tbody tr th {\n",
       "        vertical-align: top;\n",
       "    }\n",
       "\n",
       "    .dataframe thead th {\n",
       "        text-align: right;\n",
       "    }\n",
       "</style>\n",
       "<table border=\"1\" class=\"dataframe\">\n",
       "  <thead>\n",
       "    <tr style=\"text-align: right;\">\n",
       "      <th></th>\n",
       "      <th>id</th>\n",
       "      <th>place</th>\n",
       "      <th>place_modified</th>\n",
       "      <th>tgn</th>\n",
       "      <th>coords</th>\n",
       "    </tr>\n",
       "  </thead>\n",
       "  <tbody>\n",
       "    <tr>\n",
       "      <th>2</th>\n",
       "      <td>https://collections.ashmolean.org/collection/1...</td>\n",
       "      <td>Part of the Base of a Pilaster in Santa Maria ...</td>\n",
       "      <td>Venice</td>\n",
       "      <td>tgn/7018159</td>\n",
       "      <td>45.438611,12.326667</td>\n",
       "    </tr>\n",
       "  </tbody>\n",
       "</table>\n",
       "</div>"
      ],
      "text/plain": [
       "                                                  id  \\\n",
       "2  https://collections.ashmolean.org/collection/1...   \n",
       "\n",
       "                                               place place_modified  \\\n",
       "2  Part of the Base of a Pilaster in Santa Maria ...         Venice   \n",
       "\n",
       "           tgn               coords  \n",
       "2  tgn/7018159  45.438611,12.326667  "
      ]
     },
     "metadata": {},
     "output_type": "display_data"
    },
    {
     "data": {
      "text/html": [
       "<h4>Bellagio, Lago di Como</h4>"
      ],
      "text/plain": [
       "<IPython.core.display.HTML object>"
      ]
     },
     "metadata": {},
     "output_type": "display_data"
    },
    {
     "data": {
      "text/html": [
       "<div>\n",
       "<style scoped>\n",
       "    .dataframe tbody tr th:only-of-type {\n",
       "        vertical-align: middle;\n",
       "    }\n",
       "\n",
       "    .dataframe tbody tr th {\n",
       "        vertical-align: top;\n",
       "    }\n",
       "\n",
       "    .dataframe thead th {\n",
       "        text-align: right;\n",
       "    }\n",
       "</style>\n",
       "<table border=\"1\" class=\"dataframe\">\n",
       "  <thead>\n",
       "    <tr style=\"text-align: right;\">\n",
       "      <th></th>\n",
       "      <th>id</th>\n",
       "      <th>place</th>\n",
       "      <th>place_modified</th>\n",
       "      <th>tgn</th>\n",
       "      <th>coords</th>\n",
       "    </tr>\n",
       "  </thead>\n",
       "  <tbody>\n",
       "    <tr>\n",
       "      <th>60</th>\n",
       "      <td>https://collections.ashmolean.org/collection//...</td>\n",
       "      <td>Bellagio, Lago di Como</td>\n",
       "      <td>Como, Lago di</td>\n",
       "      <td>tgn/7006070</td>\n",
       "      <td>46,9.283333</td>\n",
       "    </tr>\n",
       "  </tbody>\n",
       "</table>\n",
       "</div>"
      ],
      "text/plain": [
       "                                                   id                   place  \\\n",
       "60  https://collections.ashmolean.org/collection//...  Bellagio, Lago di Como   \n",
       "\n",
       "   place_modified          tgn       coords  \n",
       "60  Como, Lago di  tgn/7006070  46,9.283333  "
      ]
     },
     "metadata": {},
     "output_type": "display_data"
    },
    {
     "data": {
      "text/html": [
       "<h4>Sketch of Lioness and Cubs from Nicola Pisano's Siena Pulpit</h4>"
      ],
      "text/plain": [
       "<IPython.core.display.HTML object>"
      ]
     },
     "metadata": {},
     "output_type": "display_data"
    },
    {
     "data": {
      "text/html": [
       "<div>\n",
       "<style scoped>\n",
       "    .dataframe tbody tr th:only-of-type {\n",
       "        vertical-align: middle;\n",
       "    }\n",
       "\n",
       "    .dataframe tbody tr th {\n",
       "        vertical-align: top;\n",
       "    }\n",
       "\n",
       "    .dataframe thead th {\n",
       "        text-align: right;\n",
       "    }\n",
       "</style>\n",
       "<table border=\"1\" class=\"dataframe\">\n",
       "  <thead>\n",
       "    <tr style=\"text-align: right;\">\n",
       "      <th></th>\n",
       "      <th>id</th>\n",
       "      <th>place</th>\n",
       "      <th>place_modified</th>\n",
       "      <th>tgn</th>\n",
       "      <th>coords</th>\n",
       "    </tr>\n",
       "  </thead>\n",
       "  <tbody>\n",
       "    <tr>\n",
       "      <th>43</th>\n",
       "      <td>https://collections.ashmolean.org/collection/1...</td>\n",
       "      <td>Sketch of Lioness and Cubs from Nicola Pisano'...</td>\n",
       "      <td>Siena</td>\n",
       "      <td>tgn/7003168</td>\n",
       "      <td>43.216667,11.4</td>\n",
       "    </tr>\n",
       "  </tbody>\n",
       "</table>\n",
       "</div>"
      ],
      "text/plain": [
       "                                                   id  \\\n",
       "43  https://collections.ashmolean.org/collection/1...   \n",
       "\n",
       "                                                place place_modified  \\\n",
       "43  Sketch of Lioness and Cubs from Nicola Pisano'...          Siena   \n",
       "\n",
       "            tgn          coords  \n",
       "43  tgn/7003168  43.216667,11.4  "
      ]
     },
     "metadata": {},
     "output_type": "display_data"
    },
    {
     "data": {
      "text/html": [
       "<h4>View of Chamonix</h4>"
      ],
      "text/plain": [
       "<IPython.core.display.HTML object>"
      ]
     },
     "metadata": {},
     "output_type": "display_data"
    },
    {
     "data": {
      "text/html": [
       "<div>\n",
       "<style scoped>\n",
       "    .dataframe tbody tr th:only-of-type {\n",
       "        vertical-align: middle;\n",
       "    }\n",
       "\n",
       "    .dataframe tbody tr th {\n",
       "        vertical-align: top;\n",
       "    }\n",
       "\n",
       "    .dataframe thead th {\n",
       "        text-align: right;\n",
       "    }\n",
       "</style>\n",
       "<table border=\"1\" class=\"dataframe\">\n",
       "  <thead>\n",
       "    <tr style=\"text-align: right;\">\n",
       "      <th></th>\n",
       "      <th>id</th>\n",
       "      <th>place</th>\n",
       "      <th>place_modified</th>\n",
       "      <th>tgn</th>\n",
       "      <th>coords</th>\n",
       "    </tr>\n",
       "  </thead>\n",
       "  <tbody>\n",
       "    <tr>\n",
       "      <th>61</th>\n",
       "      <td>https://www.harvardartmuseums.org/collections/...</td>\n",
       "      <td>View of Chamonix</td>\n",
       "      <td>Chamonix-Mont-Blanc</td>\n",
       "      <td>tgn/1032562</td>\n",
       "      <td>45.924308,6.867316</td>\n",
       "    </tr>\n",
       "  </tbody>\n",
       "</table>\n",
       "</div>"
      ],
      "text/plain": [
       "                                                   id             place  \\\n",
       "61  https://www.harvardartmuseums.org/collections/...  View of Chamonix   \n",
       "\n",
       "         place_modified          tgn              coords  \n",
       "61  Chamonix-Mont-Blanc  tgn/1032562  45.924308,6.867316  "
      ]
     },
     "metadata": {},
     "output_type": "display_data"
    },
    {
     "data": {
      "text/html": [
       "<h4>The North-West Angle of the Facade of St Mark’s, Venice</h4>"
      ],
      "text/plain": [
       "<IPython.core.display.HTML object>"
      ]
     },
     "metadata": {},
     "output_type": "display_data"
    },
    {
     "data": {
      "text/html": [
       "<div>\n",
       "<style scoped>\n",
       "    .dataframe tbody tr th:only-of-type {\n",
       "        vertical-align: middle;\n",
       "    }\n",
       "\n",
       "    .dataframe tbody tr th {\n",
       "        vertical-align: top;\n",
       "    }\n",
       "\n",
       "    .dataframe thead th {\n",
       "        text-align: right;\n",
       "    }\n",
       "</style>\n",
       "<table border=\"1\" class=\"dataframe\">\n",
       "  <thead>\n",
       "    <tr style=\"text-align: right;\">\n",
       "      <th></th>\n",
       "      <th>id</th>\n",
       "      <th>place</th>\n",
       "      <th>place_modified</th>\n",
       "      <th>tgn</th>\n",
       "      <th>coords</th>\n",
       "    </tr>\n",
       "  </thead>\n",
       "  <tbody>\n",
       "    <tr>\n",
       "      <th>3</th>\n",
       "      <td>https://www.tate.org.uk/art/artworks/13032</td>\n",
       "      <td>The North-West Angle of the Facade of St Mark’...</td>\n",
       "      <td>Venice</td>\n",
       "      <td>tgn/7018159</td>\n",
       "      <td>45.438611,12.326667</td>\n",
       "    </tr>\n",
       "  </tbody>\n",
       "</table>\n",
       "</div>"
      ],
      "text/plain": [
       "                                           id  \\\n",
       "3  https://www.tate.org.uk/art/artworks/13032   \n",
       "\n",
       "                                               place place_modified  \\\n",
       "3  The North-West Angle of the Facade of St Mark’...         Venice   \n",
       "\n",
       "           tgn               coords  \n",
       "3  tgn/7018159  45.438611,12.326667  "
      ]
     },
     "metadata": {},
     "output_type": "display_data"
    },
    {
     "data": {
      "text/html": [
       "<h4>The Kapellbrücke at Luzern (Lucerne)</h4>"
      ],
      "text/plain": [
       "<IPython.core.display.HTML object>"
      ]
     },
     "metadata": {},
     "output_type": "display_data"
    },
    {
     "data": {
      "text/html": [
       "<div>\n",
       "<style scoped>\n",
       "    .dataframe tbody tr th:only-of-type {\n",
       "        vertical-align: middle;\n",
       "    }\n",
       "\n",
       "    .dataframe tbody tr th {\n",
       "        vertical-align: top;\n",
       "    }\n",
       "\n",
       "    .dataframe thead th {\n",
       "        text-align: right;\n",
       "    }\n",
       "</style>\n",
       "<table border=\"1\" class=\"dataframe\">\n",
       "  <thead>\n",
       "    <tr style=\"text-align: right;\">\n",
       "      <th></th>\n",
       "      <th>id</th>\n",
       "      <th>place</th>\n",
       "      <th>place_modified</th>\n",
       "      <th>tgn</th>\n",
       "      <th>coords</th>\n",
       "    </tr>\n",
       "  </thead>\n",
       "  <tbody>\n",
       "    <tr>\n",
       "      <th>62</th>\n",
       "      <td>https://collections.ashmolean.org/collection/1...</td>\n",
       "      <td>The Kapellbrücke at Luzern (Lucerne)</td>\n",
       "      <td>Luzern</td>\n",
       "      <td>tgn/7007280</td>\n",
       "      <td>47.083333,8.266667</td>\n",
       "    </tr>\n",
       "  </tbody>\n",
       "</table>\n",
       "</div>"
      ],
      "text/plain": [
       "                                                   id  \\\n",
       "62  https://collections.ashmolean.org/collection/1...   \n",
       "\n",
       "                                   place place_modified          tgn  \\\n",
       "62  The Kapellbrücke at Luzern (Lucerne)         Luzern  tgn/7007280   \n",
       "\n",
       "                coords  \n",
       "62  47.083333,8.266667  "
      ]
     },
     "metadata": {},
     "output_type": "display_data"
    },
    {
     "data": {
      "text/html": [
       "<h4>Mont Blanc from Saint-Martin-sur-Arve</h4>"
      ],
      "text/plain": [
       "<IPython.core.display.HTML object>"
      ]
     },
     "metadata": {},
     "output_type": "display_data"
    },
    {
     "data": {
      "text/html": [
       "<div>\n",
       "<style scoped>\n",
       "    .dataframe tbody tr th:only-of-type {\n",
       "        vertical-align: middle;\n",
       "    }\n",
       "\n",
       "    .dataframe tbody tr th {\n",
       "        vertical-align: top;\n",
       "    }\n",
       "\n",
       "    .dataframe thead th {\n",
       "        text-align: right;\n",
       "    }\n",
       "</style>\n",
       "<table border=\"1\" class=\"dataframe\">\n",
       "  <thead>\n",
       "    <tr style=\"text-align: right;\">\n",
       "      <th></th>\n",
       "      <th>id</th>\n",
       "      <th>place</th>\n",
       "      <th>place_modified</th>\n",
       "      <th>tgn</th>\n",
       "      <th>coords</th>\n",
       "    </tr>\n",
       "  </thead>\n",
       "  <tbody>\n",
       "    <tr>\n",
       "      <th>64</th>\n",
       "      <td>https://collections.ashmolean.org/collection/1...</td>\n",
       "      <td>Mont Blanc from Saint-Martin-sur-Arve</td>\n",
       "      <td>Blanc, Mont</td>\n",
       "      <td>tgn/7617157</td>\n",
       "      <td>45.356009,6.685511</td>\n",
       "    </tr>\n",
       "  </tbody>\n",
       "</table>\n",
       "</div>"
      ],
      "text/plain": [
       "                                                   id  \\\n",
       "64  https://collections.ashmolean.org/collection/1...   \n",
       "\n",
       "                                    place place_modified          tgn  \\\n",
       "64  Mont Blanc from Saint-Martin-sur-Arve    Blanc, Mont  tgn/7617157   \n",
       "\n",
       "                coords  \n",
       "64  45.356009,6.685511  "
      ]
     },
     "metadata": {},
     "output_type": "display_data"
    },
    {
     "data": {
      "text/html": [
       "<h4>Bergamo and the Alps, from the road to Brescia</h4>"
      ],
      "text/plain": [
       "<IPython.core.display.HTML object>"
      ]
     },
     "metadata": {},
     "output_type": "display_data"
    },
    {
     "data": {
      "text/html": [
       "<div>\n",
       "<style scoped>\n",
       "    .dataframe tbody tr th:only-of-type {\n",
       "        vertical-align: middle;\n",
       "    }\n",
       "\n",
       "    .dataframe tbody tr th {\n",
       "        vertical-align: top;\n",
       "    }\n",
       "\n",
       "    .dataframe thead th {\n",
       "        text-align: right;\n",
       "    }\n",
       "</style>\n",
       "<table border=\"1\" class=\"dataframe\">\n",
       "  <thead>\n",
       "    <tr style=\"text-align: right;\">\n",
       "      <th></th>\n",
       "      <th>id</th>\n",
       "      <th>place</th>\n",
       "      <th>place_modified</th>\n",
       "      <th>tgn</th>\n",
       "      <th>coords</th>\n",
       "    </tr>\n",
       "  </thead>\n",
       "  <tbody>\n",
       "    <tr>\n",
       "      <th>34</th>\n",
       "      <td>https://collections.ashmolean.org/collection//...</td>\n",
       "      <td>Bergamo and the Alps, from the road to Brescia</td>\n",
       "      <td>Alps</td>\n",
       "      <td>tgn/7007746</td>\n",
       "      <td>46.416667,10</td>\n",
       "    </tr>\n",
       "  </tbody>\n",
       "</table>\n",
       "</div>"
      ],
      "text/plain": [
       "                                                   id  \\\n",
       "34  https://collections.ashmolean.org/collection//...   \n",
       "\n",
       "                                             place place_modified  \\\n",
       "34  Bergamo and the Alps, from the road to Brescia           Alps   \n",
       "\n",
       "            tgn        coords  \n",
       "34  tgn/7007746  46.416667,10  "
      ]
     },
     "metadata": {},
     "output_type": "display_data"
    },
    {
     "data": {
      "text/html": [
       "<h4>The Palazzo Contarini-Fasan, Venice</h4>"
      ],
      "text/plain": [
       "<IPython.core.display.HTML object>"
      ]
     },
     "metadata": {},
     "output_type": "display_data"
    },
    {
     "data": {
      "text/html": [
       "<div>\n",
       "<style scoped>\n",
       "    .dataframe tbody tr th:only-of-type {\n",
       "        vertical-align: middle;\n",
       "    }\n",
       "\n",
       "    .dataframe tbody tr th {\n",
       "        vertical-align: top;\n",
       "    }\n",
       "\n",
       "    .dataframe thead th {\n",
       "        text-align: right;\n",
       "    }\n",
       "</style>\n",
       "<table border=\"1\" class=\"dataframe\">\n",
       "  <thead>\n",
       "    <tr style=\"text-align: right;\">\n",
       "      <th></th>\n",
       "      <th>id</th>\n",
       "      <th>place</th>\n",
       "      <th>place_modified</th>\n",
       "      <th>tgn</th>\n",
       "      <th>coords</th>\n",
       "    </tr>\n",
       "  </thead>\n",
       "  <tbody>\n",
       "    <tr>\n",
       "      <th>4</th>\n",
       "      <td>https://collections.ashmolean.org/collection/1...</td>\n",
       "      <td>The Palazzo Contarini-Fasan, Venice</td>\n",
       "      <td>Venice</td>\n",
       "      <td>tgn/7018159</td>\n",
       "      <td>45.438611,12.326667</td>\n",
       "    </tr>\n",
       "  </tbody>\n",
       "</table>\n",
       "</div>"
      ],
      "text/plain": [
       "                                                  id  \\\n",
       "4  https://collections.ashmolean.org/collection/1...   \n",
       "\n",
       "                                 place place_modified          tgn  \\\n",
       "4  The Palazzo Contarini-Fasan, Venice         Venice  tgn/7018159   \n",
       "\n",
       "                coords  \n",
       "4  45.438611,12.326667  "
      ]
     },
     "metadata": {},
     "output_type": "display_data"
    },
    {
     "data": {
      "text/html": [
       "<h4>Pass of Faido</h4>"
      ],
      "text/plain": [
       "<IPython.core.display.HTML object>"
      ]
     },
     "metadata": {},
     "output_type": "display_data"
    },
    {
     "data": {
      "text/html": [
       "<div>\n",
       "<style scoped>\n",
       "    .dataframe tbody tr th:only-of-type {\n",
       "        vertical-align: middle;\n",
       "    }\n",
       "\n",
       "    .dataframe tbody tr th {\n",
       "        vertical-align: top;\n",
       "    }\n",
       "\n",
       "    .dataframe thead th {\n",
       "        text-align: right;\n",
       "    }\n",
       "</style>\n",
       "<table border=\"1\" class=\"dataframe\">\n",
       "  <thead>\n",
       "    <tr style=\"text-align: right;\">\n",
       "      <th></th>\n",
       "      <th>id</th>\n",
       "      <th>place</th>\n",
       "      <th>place_modified</th>\n",
       "      <th>tgn</th>\n",
       "      <th>coords</th>\n",
       "    </tr>\n",
       "  </thead>\n",
       "  <tbody>\n",
       "    <tr>\n",
       "      <th>65</th>\n",
       "      <td>https://www.harvardartmuseums.org/collections/...</td>\n",
       "      <td>Pass of Faido</td>\n",
       "      <td>Faido</td>\n",
       "      <td>tgn/1064047</td>\n",
       "      <td>46.479417,8.797659</td>\n",
       "    </tr>\n",
       "  </tbody>\n",
       "</table>\n",
       "</div>"
      ],
      "text/plain": [
       "                                                   id          place  \\\n",
       "65  https://www.harvardartmuseums.org/collections/...  Pass of Faido   \n",
       "\n",
       "   place_modified          tgn              coords  \n",
       "65          Faido  tgn/1064047  46.479417,8.797659  "
      ]
     },
     "metadata": {},
     "output_type": "display_data"
    },
    {
     "data": {
      "text/html": [
       "<h4>Sepia Sketch of Leafage, further carried: Study from Ruskin's Photograph of the Courtyard of a late Gothic wooden House at Abbeville</h4>"
      ],
      "text/plain": [
       "<IPython.core.display.HTML object>"
      ]
     },
     "metadata": {},
     "output_type": "display_data"
    },
    {
     "data": {
      "text/html": [
       "<div>\n",
       "<style scoped>\n",
       "    .dataframe tbody tr th:only-of-type {\n",
       "        vertical-align: middle;\n",
       "    }\n",
       "\n",
       "    .dataframe tbody tr th {\n",
       "        vertical-align: top;\n",
       "    }\n",
       "\n",
       "    .dataframe thead th {\n",
       "        text-align: right;\n",
       "    }\n",
       "</style>\n",
       "<table border=\"1\" class=\"dataframe\">\n",
       "  <thead>\n",
       "    <tr style=\"text-align: right;\">\n",
       "      <th></th>\n",
       "      <th>id</th>\n",
       "      <th>place</th>\n",
       "      <th>place_modified</th>\n",
       "      <th>tgn</th>\n",
       "      <th>coords</th>\n",
       "    </tr>\n",
       "  </thead>\n",
       "  <tbody>\n",
       "    <tr>\n",
       "      <th>21</th>\n",
       "      <td>https://collections.ashmolean.org/collection/1...</td>\n",
       "      <td>Sepia Sketch of Leafage, further carried: Stud...</td>\n",
       "      <td>France</td>\n",
       "      <td>tgn/7011931</td>\n",
       "      <td>51.75,-1.25</td>\n",
       "    </tr>\n",
       "  </tbody>\n",
       "</table>\n",
       "</div>"
      ],
      "text/plain": [
       "                                                   id  \\\n",
       "21  https://collections.ashmolean.org/collection/1...   \n",
       "\n",
       "                                                place place_modified  \\\n",
       "21  Sepia Sketch of Leafage, further carried: Stud...         France   \n",
       "\n",
       "            tgn       coords  \n",
       "21  tgn/7011931  51.75,-1.25  "
      ]
     },
     "metadata": {},
     "output_type": "display_data"
    },
    {
     "data": {
      "text/html": [
       "<h4>Design for a window in the University Museum, Oxford</h4>"
      ],
      "text/plain": [
       "<IPython.core.display.HTML object>"
      ]
     },
     "metadata": {},
     "output_type": "display_data"
    },
    {
     "data": {
      "text/html": [
       "<div>\n",
       "<style scoped>\n",
       "    .dataframe tbody tr th:only-of-type {\n",
       "        vertical-align: middle;\n",
       "    }\n",
       "\n",
       "    .dataframe tbody tr th {\n",
       "        vertical-align: top;\n",
       "    }\n",
       "\n",
       "    .dataframe thead th {\n",
       "        text-align: right;\n",
       "    }\n",
       "</style>\n",
       "<table border=\"1\" class=\"dataframe\">\n",
       "  <thead>\n",
       "    <tr style=\"text-align: right;\">\n",
       "      <th></th>\n",
       "      <th>id</th>\n",
       "      <th>place</th>\n",
       "      <th>place_modified</th>\n",
       "      <th>tgn</th>\n",
       "      <th>coords</th>\n",
       "    </tr>\n",
       "  </thead>\n",
       "  <tbody>\n",
       "    <tr>\n",
       "      <th>22</th>\n",
       "      <td>https://collections.ashmolean.org/collection/1...</td>\n",
       "      <td>Design for a window in the University Museum, ...</td>\n",
       "      <td>Oxfordshire</td>\n",
       "      <td>tgn/7011931</td>\n",
       "      <td>51.75,-1.25</td>\n",
       "    </tr>\n",
       "  </tbody>\n",
       "</table>\n",
       "</div>"
      ],
      "text/plain": [
       "                                                   id  \\\n",
       "22  https://collections.ashmolean.org/collection/1...   \n",
       "\n",
       "                                                place place_modified  \\\n",
       "22  Design for a window in the University Museum, ...    Oxfordshire   \n",
       "\n",
       "            tgn       coords  \n",
       "22  tgn/7011931  51.75,-1.25  "
      ]
     },
     "metadata": {},
     "output_type": "display_data"
    },
    {
     "data": {
      "text/html": [
       "<h4>Convent and Alpine Pass, Visp, Switzerland</h4>"
      ],
      "text/plain": [
       "<IPython.core.display.HTML object>"
      ]
     },
     "metadata": {},
     "output_type": "display_data"
    },
    {
     "data": {
      "text/html": [
       "<div>\n",
       "<style scoped>\n",
       "    .dataframe tbody tr th:only-of-type {\n",
       "        vertical-align: middle;\n",
       "    }\n",
       "\n",
       "    .dataframe tbody tr th {\n",
       "        vertical-align: top;\n",
       "    }\n",
       "\n",
       "    .dataframe thead th {\n",
       "        text-align: right;\n",
       "    }\n",
       "</style>\n",
       "<table border=\"1\" class=\"dataframe\">\n",
       "  <thead>\n",
       "    <tr style=\"text-align: right;\">\n",
       "      <th></th>\n",
       "      <th>id</th>\n",
       "      <th>place</th>\n",
       "      <th>place_modified</th>\n",
       "      <th>tgn</th>\n",
       "      <th>coords</th>\n",
       "    </tr>\n",
       "  </thead>\n",
       "  <tbody>\n",
       "    <tr>\n",
       "      <th>69</th>\n",
       "      <td>https://www.harvardartmuseums.org/collections/...</td>\n",
       "      <td>Convent and Alpine Pass, Visp, Switzerland</td>\n",
       "      <td>Visp</td>\n",
       "      <td>tgn/8711124</td>\n",
       "      <td>46.301907,7.870004</td>\n",
       "    </tr>\n",
       "  </tbody>\n",
       "</table>\n",
       "</div>"
      ],
      "text/plain": [
       "                                                   id  \\\n",
       "69  https://www.harvardartmuseums.org/collections/...   \n",
       "\n",
       "                                         place place_modified          tgn  \\\n",
       "69  Convent and Alpine Pass, Visp, Switzerland           Visp  tgn/8711124   \n",
       "\n",
       "                coords  \n",
       "69  46.301907,7.870004  "
      ]
     },
     "metadata": {},
     "output_type": "display_data"
    },
    {
     "data": {
      "text/html": [
       "<h4>Pass of Faido</h4>"
      ],
      "text/plain": [
       "<IPython.core.display.HTML object>"
      ]
     },
     "metadata": {},
     "output_type": "display_data"
    },
    {
     "data": {
      "text/html": [
       "<div>\n",
       "<style scoped>\n",
       "    .dataframe tbody tr th:only-of-type {\n",
       "        vertical-align: middle;\n",
       "    }\n",
       "\n",
       "    .dataframe tbody tr th {\n",
       "        vertical-align: top;\n",
       "    }\n",
       "\n",
       "    .dataframe thead th {\n",
       "        text-align: right;\n",
       "    }\n",
       "</style>\n",
       "<table border=\"1\" class=\"dataframe\">\n",
       "  <thead>\n",
       "    <tr style=\"text-align: right;\">\n",
       "      <th></th>\n",
       "      <th>id</th>\n",
       "      <th>place</th>\n",
       "      <th>place_modified</th>\n",
       "      <th>tgn</th>\n",
       "      <th>coords</th>\n",
       "    </tr>\n",
       "  </thead>\n",
       "  <tbody>\n",
       "    <tr>\n",
       "      <th>66</th>\n",
       "      <td>https://www.harvardartmuseums.org/collections/...</td>\n",
       "      <td>Pass of Faido</td>\n",
       "      <td>Faido</td>\n",
       "      <td>tgn/1064047</td>\n",
       "      <td>46.479417,8.797659</td>\n",
       "    </tr>\n",
       "  </tbody>\n",
       "</table>\n",
       "</div>"
      ],
      "text/plain": [
       "                                                   id          place  \\\n",
       "66  https://www.harvardartmuseums.org/collections/...  Pass of Faido   \n",
       "\n",
       "   place_modified          tgn              coords  \n",
       "66          Faido  tgn/1064047  46.479417,8.797659  "
      ]
     },
     "metadata": {},
     "output_type": "display_data"
    },
    {
     "data": {
      "text/html": [
       "<h4>Design for a window in the University Museum, Oxford</h4>"
      ],
      "text/plain": [
       "<IPython.core.display.HTML object>"
      ]
     },
     "metadata": {},
     "output_type": "display_data"
    },
    {
     "data": {
      "text/html": [
       "<div>\n",
       "<style scoped>\n",
       "    .dataframe tbody tr th:only-of-type {\n",
       "        vertical-align: middle;\n",
       "    }\n",
       "\n",
       "    .dataframe tbody tr th {\n",
       "        vertical-align: top;\n",
       "    }\n",
       "\n",
       "    .dataframe thead th {\n",
       "        text-align: right;\n",
       "    }\n",
       "</style>\n",
       "<table border=\"1\" class=\"dataframe\">\n",
       "  <thead>\n",
       "    <tr style=\"text-align: right;\">\n",
       "      <th></th>\n",
       "      <th>id</th>\n",
       "      <th>place</th>\n",
       "      <th>place_modified</th>\n",
       "      <th>tgn</th>\n",
       "      <th>coords</th>\n",
       "    </tr>\n",
       "  </thead>\n",
       "  <tbody>\n",
       "    <tr>\n",
       "      <th>23</th>\n",
       "      <td>https://collections.ashmolean.org/collection/1...</td>\n",
       "      <td>Design for a window in the University Museum, ...</td>\n",
       "      <td>Oxfordshire</td>\n",
       "      <td>tgn/7011931</td>\n",
       "      <td>51.75,-1.25</td>\n",
       "    </tr>\n",
       "  </tbody>\n",
       "</table>\n",
       "</div>"
      ],
      "text/plain": [
       "                                                   id  \\\n",
       "23  https://collections.ashmolean.org/collection/1...   \n",
       "\n",
       "                                                place place_modified  \\\n",
       "23  Design for a window in the University Museum, ...    Oxfordshire   \n",
       "\n",
       "            tgn       coords  \n",
       "23  tgn/7011931  51.75,-1.25  "
      ]
     },
     "metadata": {},
     "output_type": "display_data"
    },
    {
     "data": {
      "text/html": [
       "<h4>Studies in St. Mark's</h4>"
      ],
      "text/plain": [
       "<IPython.core.display.HTML object>"
      ]
     },
     "metadata": {},
     "output_type": "display_data"
    },
    {
     "data": {
      "text/html": [
       "<div>\n",
       "<style scoped>\n",
       "    .dataframe tbody tr th:only-of-type {\n",
       "        vertical-align: middle;\n",
       "    }\n",
       "\n",
       "    .dataframe tbody tr th {\n",
       "        vertical-align: top;\n",
       "    }\n",
       "\n",
       "    .dataframe thead th {\n",
       "        text-align: right;\n",
       "    }\n",
       "</style>\n",
       "<table border=\"1\" class=\"dataframe\">\n",
       "  <thead>\n",
       "    <tr style=\"text-align: right;\">\n",
       "      <th></th>\n",
       "      <th>id</th>\n",
       "      <th>place</th>\n",
       "      <th>place_modified</th>\n",
       "      <th>tgn</th>\n",
       "      <th>coords</th>\n",
       "    </tr>\n",
       "  </thead>\n",
       "  <tbody>\n",
       "    <tr>\n",
       "      <th>5</th>\n",
       "      <td>https://www.harvardartmuseums.org/collections/...</td>\n",
       "      <td>Studies in St. Mark's</td>\n",
       "      <td>Venice</td>\n",
       "      <td>tgn/7018159</td>\n",
       "      <td>45.438611,12.326667</td>\n",
       "    </tr>\n",
       "  </tbody>\n",
       "</table>\n",
       "</div>"
      ],
      "text/plain": [
       "                                                  id                  place  \\\n",
       "5  https://www.harvardartmuseums.org/collections/...  Studies in St. Mark's   \n",
       "\n",
       "  place_modified          tgn               coords  \n",
       "5         Venice  tgn/7018159  45.438611,12.326667  "
      ]
     },
     "metadata": {},
     "output_type": "display_data"
    },
    {
     "data": {
      "text/html": [
       "<h4>Lateral View of the Façade San Michele in Foro, Lucca</h4>"
      ],
      "text/plain": [
       "<IPython.core.display.HTML object>"
      ]
     },
     "metadata": {},
     "output_type": "display_data"
    },
    {
     "data": {
      "text/html": [
       "<div>\n",
       "<style scoped>\n",
       "    .dataframe tbody tr th:only-of-type {\n",
       "        vertical-align: middle;\n",
       "    }\n",
       "\n",
       "    .dataframe tbody tr th {\n",
       "        vertical-align: top;\n",
       "    }\n",
       "\n",
       "    .dataframe thead th {\n",
       "        text-align: right;\n",
       "    }\n",
       "</style>\n",
       "<table border=\"1\" class=\"dataframe\">\n",
       "  <thead>\n",
       "    <tr style=\"text-align: right;\">\n",
       "      <th></th>\n",
       "      <th>id</th>\n",
       "      <th>place</th>\n",
       "      <th>place_modified</th>\n",
       "      <th>tgn</th>\n",
       "      <th>coords</th>\n",
       "    </tr>\n",
       "  </thead>\n",
       "  <tbody>\n",
       "    <tr>\n",
       "      <th>39</th>\n",
       "      <td>https://collections.ashmolean.org/collection/1...</td>\n",
       "      <td>Lateral View of the Façade San Michele in Foro...</td>\n",
       "      <td>Lucca</td>\n",
       "      <td>tgn/7003165</td>\n",
       "      <td>44.033333,10.45</td>\n",
       "    </tr>\n",
       "  </tbody>\n",
       "</table>\n",
       "</div>"
      ],
      "text/plain": [
       "                                                   id  \\\n",
       "39  https://collections.ashmolean.org/collection/1...   \n",
       "\n",
       "                                                place place_modified  \\\n",
       "39  Lateral View of the Façade San Michele in Foro...          Lucca   \n",
       "\n",
       "            tgn           coords  \n",
       "39  tgn/7003165  44.033333,10.45  "
      ]
     },
     "metadata": {},
     "output_type": "display_data"
    },
    {
     "data": {
      "text/html": [
       "<h4>Part of the Façade of the destroyed Church of San Michele in Foro, Lucca, sketched in colour</h4>"
      ],
      "text/plain": [
       "<IPython.core.display.HTML object>"
      ]
     },
     "metadata": {},
     "output_type": "display_data"
    },
    {
     "data": {
      "text/html": [
       "<div>\n",
       "<style scoped>\n",
       "    .dataframe tbody tr th:only-of-type {\n",
       "        vertical-align: middle;\n",
       "    }\n",
       "\n",
       "    .dataframe tbody tr th {\n",
       "        vertical-align: top;\n",
       "    }\n",
       "\n",
       "    .dataframe thead th {\n",
       "        text-align: right;\n",
       "    }\n",
       "</style>\n",
       "<table border=\"1\" class=\"dataframe\">\n",
       "  <thead>\n",
       "    <tr style=\"text-align: right;\">\n",
       "      <th></th>\n",
       "      <th>id</th>\n",
       "      <th>place</th>\n",
       "      <th>place_modified</th>\n",
       "      <th>tgn</th>\n",
       "      <th>coords</th>\n",
       "    </tr>\n",
       "  </thead>\n",
       "  <tbody>\n",
       "    <tr>\n",
       "      <th>40</th>\n",
       "      <td>https://collections.ashmolean.org/collection/1...</td>\n",
       "      <td>Part of the Façade of the destroyed Church of ...</td>\n",
       "      <td>Lucca</td>\n",
       "      <td>tgn/7003165</td>\n",
       "      <td>44.033333,10.45</td>\n",
       "    </tr>\n",
       "  </tbody>\n",
       "</table>\n",
       "</div>"
      ],
      "text/plain": [
       "                                                   id  \\\n",
       "40  https://collections.ashmolean.org/collection/1...   \n",
       "\n",
       "                                                place place_modified  \\\n",
       "40  Part of the Façade of the destroyed Church of ...          Lucca   \n",
       "\n",
       "            tgn           coords  \n",
       "40  tgn/7003165  44.033333,10.45  "
      ]
     },
     "metadata": {},
     "output_type": "display_data"
    },
    {
     "data": {
      "text/html": [
       "<h4>Old houses at Abbeville</h4>"
      ],
      "text/plain": [
       "<IPython.core.display.HTML object>"
      ]
     },
     "metadata": {},
     "output_type": "display_data"
    },
    {
     "data": {
      "text/html": [
       "<div>\n",
       "<style scoped>\n",
       "    .dataframe tbody tr th:only-of-type {\n",
       "        vertical-align: middle;\n",
       "    }\n",
       "\n",
       "    .dataframe tbody tr th {\n",
       "        vertical-align: top;\n",
       "    }\n",
       "\n",
       "    .dataframe thead th {\n",
       "        text-align: right;\n",
       "    }\n",
       "</style>\n",
       "<table border=\"1\" class=\"dataframe\">\n",
       "  <thead>\n",
       "    <tr style=\"text-align: right;\">\n",
       "      <th></th>\n",
       "      <th>id</th>\n",
       "      <th>place</th>\n",
       "      <th>place_modified</th>\n",
       "      <th>tgn</th>\n",
       "      <th>coords</th>\n",
       "    </tr>\n",
       "  </thead>\n",
       "  <tbody>\n",
       "    <tr>\n",
       "      <th>51</th>\n",
       "      <td>https://collections.ashmolean.org/collection/1...</td>\n",
       "      <td>Old houses at Abbeville</td>\n",
       "      <td>France</td>\n",
       "      <td>tgn/7010587</td>\n",
       "      <td>50.106602,1.832691</td>\n",
       "    </tr>\n",
       "  </tbody>\n",
       "</table>\n",
       "</div>"
      ],
      "text/plain": [
       "                                                   id  \\\n",
       "51  https://collections.ashmolean.org/collection/1...   \n",
       "\n",
       "                      place place_modified          tgn              coords  \n",
       "51  Old houses at Abbeville         France  tgn/7010587  50.106602,1.832691  "
      ]
     },
     "metadata": {},
     "output_type": "display_data"
    },
    {
     "data": {
      "text/html": [
       "<h4>Fragments from Abbeville, Lucca, Venice, and Pisa</h4>"
      ],
      "text/plain": [
       "<IPython.core.display.HTML object>"
      ]
     },
     "metadata": {},
     "output_type": "display_data"
    },
    {
     "data": {
      "text/html": [
       "<div>\n",
       "<style scoped>\n",
       "    .dataframe tbody tr th:only-of-type {\n",
       "        vertical-align: middle;\n",
       "    }\n",
       "\n",
       "    .dataframe tbody tr th {\n",
       "        vertical-align: top;\n",
       "    }\n",
       "\n",
       "    .dataframe thead th {\n",
       "        text-align: right;\n",
       "    }\n",
       "</style>\n",
       "<table border=\"1\" class=\"dataframe\">\n",
       "  <thead>\n",
       "    <tr style=\"text-align: right;\">\n",
       "      <th></th>\n",
       "      <th>id</th>\n",
       "      <th>place</th>\n",
       "      <th>place_modified</th>\n",
       "      <th>tgn</th>\n",
       "      <th>coords</th>\n",
       "    </tr>\n",
       "  </thead>\n",
       "  <tbody>\n",
       "    <tr>\n",
       "      <th>6</th>\n",
       "      <td>https://www.harvardartmuseums.org/collections/...</td>\n",
       "      <td>Fragments from Abbeville, Lucca, Venice, and Pisa</td>\n",
       "      <td>Venice</td>\n",
       "      <td>tgn/7018159</td>\n",
       "      <td>45.438611,12.326667</td>\n",
       "    </tr>\n",
       "  </tbody>\n",
       "</table>\n",
       "</div>"
      ],
      "text/plain": [
       "                                                  id  \\\n",
       "6  https://www.harvardartmuseums.org/collections/...   \n",
       "\n",
       "                                               place place_modified  \\\n",
       "6  Fragments from Abbeville, Lucca, Venice, and Pisa         Venice   \n",
       "\n",
       "           tgn               coords  \n",
       "6  tgn/7018159  45.438611,12.326667  "
      ]
     },
     "metadata": {},
     "output_type": "display_data"
    },
    {
     "data": {
      "text/html": [
       "<h4>Lake of Zug</h4>"
      ],
      "text/plain": [
       "<IPython.core.display.HTML object>"
      ]
     },
     "metadata": {},
     "output_type": "display_data"
    },
    {
     "data": {
      "text/html": [
       "<div>\n",
       "<style scoped>\n",
       "    .dataframe tbody tr th:only-of-type {\n",
       "        vertical-align: middle;\n",
       "    }\n",
       "\n",
       "    .dataframe tbody tr th {\n",
       "        vertical-align: top;\n",
       "    }\n",
       "\n",
       "    .dataframe thead th {\n",
       "        text-align: right;\n",
       "    }\n",
       "</style>\n",
       "<table border=\"1\" class=\"dataframe\">\n",
       "  <thead>\n",
       "    <tr style=\"text-align: right;\">\n",
       "      <th></th>\n",
       "      <th>id</th>\n",
       "      <th>place</th>\n",
       "      <th>place_modified</th>\n",
       "      <th>tgn</th>\n",
       "      <th>coords</th>\n",
       "    </tr>\n",
       "  </thead>\n",
       "  <tbody>\n",
       "    <tr>\n",
       "      <th>70</th>\n",
       "      <td>https://www.harvardartmuseums.org/collections/...</td>\n",
       "      <td>Lake of Zug</td>\n",
       "      <td>Zug, Lake of</td>\n",
       "      <td>tgn/1118823</td>\n",
       "      <td>47.131301,8.483347</td>\n",
       "    </tr>\n",
       "  </tbody>\n",
       "</table>\n",
       "</div>"
      ],
      "text/plain": [
       "                                                   id        place  \\\n",
       "70  https://www.harvardartmuseums.org/collections/...  Lake of Zug   \n",
       "\n",
       "   place_modified          tgn              coords  \n",
       "70   Zug, Lake of  tgn/1118823  47.131301,8.483347  "
      ]
     },
     "metadata": {},
     "output_type": "display_data"
    },
    {
     "data": {
      "text/html": [
       "<h4>The Pass of Faido</h4>"
      ],
      "text/plain": [
       "<IPython.core.display.HTML object>"
      ]
     },
     "metadata": {},
     "output_type": "display_data"
    },
    {
     "data": {
      "text/html": [
       "<div>\n",
       "<style scoped>\n",
       "    .dataframe tbody tr th:only-of-type {\n",
       "        vertical-align: middle;\n",
       "    }\n",
       "\n",
       "    .dataframe tbody tr th {\n",
       "        vertical-align: top;\n",
       "    }\n",
       "\n",
       "    .dataframe thead th {\n",
       "        text-align: right;\n",
       "    }\n",
       "</style>\n",
       "<table border=\"1\" class=\"dataframe\">\n",
       "  <thead>\n",
       "    <tr style=\"text-align: right;\">\n",
       "      <th></th>\n",
       "      <th>id</th>\n",
       "      <th>place</th>\n",
       "      <th>place_modified</th>\n",
       "      <th>tgn</th>\n",
       "      <th>coords</th>\n",
       "    </tr>\n",
       "  </thead>\n",
       "  <tbody>\n",
       "    <tr>\n",
       "      <th>67</th>\n",
       "      <td>https://www.harvardartmuseums.org/collections/...</td>\n",
       "      <td>The Pass of Faido</td>\n",
       "      <td>Faido</td>\n",
       "      <td>tgn/1064047</td>\n",
       "      <td>46.479417,8.797659</td>\n",
       "    </tr>\n",
       "  </tbody>\n",
       "</table>\n",
       "</div>"
      ],
      "text/plain": [
       "                                                   id              place  \\\n",
       "67  https://www.harvardartmuseums.org/collections/...  The Pass of Faido   \n",
       "\n",
       "   place_modified          tgn              coords  \n",
       "67          Faido  tgn/1064047  46.479417,8.797659  "
      ]
     },
     "metadata": {},
     "output_type": "display_data"
    },
    {
     "data": {
      "text/html": [
       "<h4>Design for a window in the University Museum, Oxford</h4>"
      ],
      "text/plain": [
       "<IPython.core.display.HTML object>"
      ]
     },
     "metadata": {},
     "output_type": "display_data"
    },
    {
     "data": {
      "text/html": [
       "<div>\n",
       "<style scoped>\n",
       "    .dataframe tbody tr th:only-of-type {\n",
       "        vertical-align: middle;\n",
       "    }\n",
       "\n",
       "    .dataframe tbody tr th {\n",
       "        vertical-align: top;\n",
       "    }\n",
       "\n",
       "    .dataframe thead th {\n",
       "        text-align: right;\n",
       "    }\n",
       "</style>\n",
       "<table border=\"1\" class=\"dataframe\">\n",
       "  <thead>\n",
       "    <tr style=\"text-align: right;\">\n",
       "      <th></th>\n",
       "      <th>id</th>\n",
       "      <th>place</th>\n",
       "      <th>place_modified</th>\n",
       "      <th>tgn</th>\n",
       "      <th>coords</th>\n",
       "    </tr>\n",
       "  </thead>\n",
       "  <tbody>\n",
       "    <tr>\n",
       "      <th>24</th>\n",
       "      <td>https://collections.ashmolean.org/collection/1...</td>\n",
       "      <td>Design for a window in the University Museum, ...</td>\n",
       "      <td>Oxfordshire</td>\n",
       "      <td>tgn/7011931</td>\n",
       "      <td>51.75,-1.25</td>\n",
       "    </tr>\n",
       "  </tbody>\n",
       "</table>\n",
       "</div>"
      ],
      "text/plain": [
       "                                                   id  \\\n",
       "24  https://collections.ashmolean.org/collection/1...   \n",
       "\n",
       "                                                place place_modified  \\\n",
       "24  Design for a window in the University Museum, ...    Oxfordshire   \n",
       "\n",
       "            tgn       coords  \n",
       "24  tgn/7011931  51.75,-1.25  "
      ]
     },
     "metadata": {},
     "output_type": "display_data"
    },
    {
     "data": {
      "text/html": [
       "<h4>Basle (Basel), with Outline of the Mountains of the Black Forest</h4>"
      ],
      "text/plain": [
       "<IPython.core.display.HTML object>"
      ]
     },
     "metadata": {},
     "output_type": "display_data"
    },
    {
     "data": {
      "text/html": [
       "<div>\n",
       "<style scoped>\n",
       "    .dataframe tbody tr th:only-of-type {\n",
       "        vertical-align: middle;\n",
       "    }\n",
       "\n",
       "    .dataframe tbody tr th {\n",
       "        vertical-align: top;\n",
       "    }\n",
       "\n",
       "    .dataframe thead th {\n",
       "        text-align: right;\n",
       "    }\n",
       "</style>\n",
       "<table border=\"1\" class=\"dataframe\">\n",
       "  <thead>\n",
       "    <tr style=\"text-align: right;\">\n",
       "      <th></th>\n",
       "      <th>id</th>\n",
       "      <th>place</th>\n",
       "      <th>place_modified</th>\n",
       "      <th>tgn</th>\n",
       "      <th>coords</th>\n",
       "    </tr>\n",
       "  </thead>\n",
       "  <tbody>\n",
       "    <tr>\n",
       "      <th>73</th>\n",
       "      <td>https://collections.ashmolean.org/collection/1...</td>\n",
       "      <td>Basle (Basel), with Outline of the Mountains o...</td>\n",
       "      <td>Basel</td>\n",
       "      <td>tgn/7007269</td>\n",
       "      <td>47.558395,7.573271</td>\n",
       "    </tr>\n",
       "  </tbody>\n",
       "</table>\n",
       "</div>"
      ],
      "text/plain": [
       "                                                   id  \\\n",
       "73  https://collections.ashmolean.org/collection/1...   \n",
       "\n",
       "                                                place place_modified  \\\n",
       "73  Basle (Basel), with Outline of the Mountains o...          Basel   \n",
       "\n",
       "            tgn              coords  \n",
       "73  tgn/7007269  47.558395,7.573271  "
      ]
     },
     "metadata": {},
     "output_type": "display_data"
    },
    {
     "data": {
      "text/html": [
       "<h4>Lake of Zug</h4>"
      ],
      "text/plain": [
       "<IPython.core.display.HTML object>"
      ]
     },
     "metadata": {},
     "output_type": "display_data"
    },
    {
     "data": {
      "text/html": [
       "<div>\n",
       "<style scoped>\n",
       "    .dataframe tbody tr th:only-of-type {\n",
       "        vertical-align: middle;\n",
       "    }\n",
       "\n",
       "    .dataframe tbody tr th {\n",
       "        vertical-align: top;\n",
       "    }\n",
       "\n",
       "    .dataframe thead th {\n",
       "        text-align: right;\n",
       "    }\n",
       "</style>\n",
       "<table border=\"1\" class=\"dataframe\">\n",
       "  <thead>\n",
       "    <tr style=\"text-align: right;\">\n",
       "      <th></th>\n",
       "      <th>id</th>\n",
       "      <th>place</th>\n",
       "      <th>place_modified</th>\n",
       "      <th>tgn</th>\n",
       "      <th>coords</th>\n",
       "    </tr>\n",
       "  </thead>\n",
       "  <tbody>\n",
       "    <tr>\n",
       "      <th>71</th>\n",
       "      <td>https://www.harvardartmuseums.org/collections/...</td>\n",
       "      <td>Lake of Zug</td>\n",
       "      <td>Zug, Lake of</td>\n",
       "      <td>tgn/1118823</td>\n",
       "      <td>47.131301,8.483347</td>\n",
       "    </tr>\n",
       "  </tbody>\n",
       "</table>\n",
       "</div>"
      ],
      "text/plain": [
       "                                                   id        place  \\\n",
       "71  https://www.harvardartmuseums.org/collections/...  Lake of Zug   \n",
       "\n",
       "   place_modified          tgn              coords  \n",
       "71   Zug, Lake of  tgn/1118823  47.131301,8.483347  "
      ]
     },
     "metadata": {},
     "output_type": "display_data"
    },
    {
     "data": {
      "text/html": [
       "<h4>Design for a window in the University Museum, Oxford</h4>"
      ],
      "text/plain": [
       "<IPython.core.display.HTML object>"
      ]
     },
     "metadata": {},
     "output_type": "display_data"
    },
    {
     "data": {
      "text/html": [
       "<div>\n",
       "<style scoped>\n",
       "    .dataframe tbody tr th:only-of-type {\n",
       "        vertical-align: middle;\n",
       "    }\n",
       "\n",
       "    .dataframe tbody tr th {\n",
       "        vertical-align: top;\n",
       "    }\n",
       "\n",
       "    .dataframe thead th {\n",
       "        text-align: right;\n",
       "    }\n",
       "</style>\n",
       "<table border=\"1\" class=\"dataframe\">\n",
       "  <thead>\n",
       "    <tr style=\"text-align: right;\">\n",
       "      <th></th>\n",
       "      <th>id</th>\n",
       "      <th>place</th>\n",
       "      <th>place_modified</th>\n",
       "      <th>tgn</th>\n",
       "      <th>coords</th>\n",
       "    </tr>\n",
       "  </thead>\n",
       "  <tbody>\n",
       "    <tr>\n",
       "      <th>25</th>\n",
       "      <td>https://collections.ashmolean.org/collection/1...</td>\n",
       "      <td>Design for a window in the University Museum, ...</td>\n",
       "      <td>Oxfordshire</td>\n",
       "      <td>tgn/7011931</td>\n",
       "      <td>51.75,-1.25</td>\n",
       "    </tr>\n",
       "  </tbody>\n",
       "</table>\n",
       "</div>"
      ],
      "text/plain": [
       "                                                   id  \\\n",
       "25  https://collections.ashmolean.org/collection/1...   \n",
       "\n",
       "                                                place place_modified  \\\n",
       "25  Design for a window in the University Museum, ...    Oxfordshire   \n",
       "\n",
       "            tgn       coords  \n",
       "25  tgn/7011931  51.75,-1.25  "
      ]
     },
     "metadata": {},
     "output_type": "display_data"
    },
    {
     "data": {
      "text/html": [
       "<h4>Part of the Palazzo Priuli, Venice</h4>"
      ],
      "text/plain": [
       "<IPython.core.display.HTML object>"
      ]
     },
     "metadata": {},
     "output_type": "display_data"
    },
    {
     "data": {
      "text/html": [
       "<div>\n",
       "<style scoped>\n",
       "    .dataframe tbody tr th:only-of-type {\n",
       "        vertical-align: middle;\n",
       "    }\n",
       "\n",
       "    .dataframe tbody tr th {\n",
       "        vertical-align: top;\n",
       "    }\n",
       "\n",
       "    .dataframe thead th {\n",
       "        text-align: right;\n",
       "    }\n",
       "</style>\n",
       "<table border=\"1\" class=\"dataframe\">\n",
       "  <thead>\n",
       "    <tr style=\"text-align: right;\">\n",
       "      <th></th>\n",
       "      <th>id</th>\n",
       "      <th>place</th>\n",
       "      <th>place_modified</th>\n",
       "      <th>tgn</th>\n",
       "      <th>coords</th>\n",
       "    </tr>\n",
       "  </thead>\n",
       "  <tbody>\n",
       "    <tr>\n",
       "      <th>7</th>\n",
       "      <td>https://collections.ashmolean.org/collection/1...</td>\n",
       "      <td>Part of the Palazzo Priuli, Venice</td>\n",
       "      <td>Venice</td>\n",
       "      <td>tgn/7018159</td>\n",
       "      <td>45.438611,12.326667</td>\n",
       "    </tr>\n",
       "  </tbody>\n",
       "</table>\n",
       "</div>"
      ],
      "text/plain": [
       "                                                  id  \\\n",
       "7  https://collections.ashmolean.org/collection/1...   \n",
       "\n",
       "                                place place_modified          tgn  \\\n",
       "7  Part of the Palazzo Priuli, Venice         Venice  tgn/7018159   \n",
       "\n",
       "                coords  \n",
       "7  45.438611,12.326667  "
      ]
     },
     "metadata": {},
     "output_type": "display_data"
    },
    {
     "data": {
      "text/html": [
       "<h4>Architectural Sketch, Venice</h4>"
      ],
      "text/plain": [
       "<IPython.core.display.HTML object>"
      ]
     },
     "metadata": {},
     "output_type": "display_data"
    },
    {
     "data": {
      "text/html": [
       "<div>\n",
       "<style scoped>\n",
       "    .dataframe tbody tr th:only-of-type {\n",
       "        vertical-align: middle;\n",
       "    }\n",
       "\n",
       "    .dataframe tbody tr th {\n",
       "        vertical-align: top;\n",
       "    }\n",
       "\n",
       "    .dataframe thead th {\n",
       "        text-align: right;\n",
       "    }\n",
       "</style>\n",
       "<table border=\"1\" class=\"dataframe\">\n",
       "  <thead>\n",
       "    <tr style=\"text-align: right;\">\n",
       "      <th></th>\n",
       "      <th>id</th>\n",
       "      <th>place</th>\n",
       "      <th>place_modified</th>\n",
       "      <th>tgn</th>\n",
       "      <th>coords</th>\n",
       "    </tr>\n",
       "  </thead>\n",
       "  <tbody>\n",
       "    <tr>\n",
       "      <th>8</th>\n",
       "      <td>https://www.harvardartmuseums.org/collections/...</td>\n",
       "      <td>Architectural Sketch, Venice</td>\n",
       "      <td>Venice</td>\n",
       "      <td>tgn/7018159</td>\n",
       "      <td>45.438611,12.326667</td>\n",
       "    </tr>\n",
       "  </tbody>\n",
       "</table>\n",
       "</div>"
      ],
      "text/plain": [
       "                                                  id  \\\n",
       "8  https://www.harvardartmuseums.org/collections/...   \n",
       "\n",
       "                          place place_modified          tgn  \\\n",
       "8  Architectural Sketch, Venice         Venice  tgn/7018159   \n",
       "\n",
       "                coords  \n",
       "8  45.438611,12.326667  "
      ]
     },
     "metadata": {},
     "output_type": "display_data"
    },
    {
     "data": {
      "text/html": [
       "<h4>Study of Pines at Sestri</h4>"
      ],
      "text/plain": [
       "<IPython.core.display.HTML object>"
      ]
     },
     "metadata": {},
     "output_type": "display_data"
    },
    {
     "data": {
      "text/html": [
       "<div>\n",
       "<style scoped>\n",
       "    .dataframe tbody tr th:only-of-type {\n",
       "        vertical-align: middle;\n",
       "    }\n",
       "\n",
       "    .dataframe tbody tr th {\n",
       "        vertical-align: top;\n",
       "    }\n",
       "\n",
       "    .dataframe thead th {\n",
       "        text-align: right;\n",
       "    }\n",
       "</style>\n",
       "<table border=\"1\" class=\"dataframe\">\n",
       "  <thead>\n",
       "    <tr style=\"text-align: right;\">\n",
       "      <th></th>\n",
       "      <th>id</th>\n",
       "      <th>place</th>\n",
       "      <th>place_modified</th>\n",
       "      <th>tgn</th>\n",
       "      <th>coords</th>\n",
       "    </tr>\n",
       "  </thead>\n",
       "  <tbody>\n",
       "    <tr>\n",
       "      <th>74</th>\n",
       "      <td>https://www.harvardartmuseums.org/collections/...</td>\n",
       "      <td>Study of Pines at Sestri</td>\n",
       "      <td>Sestri, Punta di</td>\n",
       "      <td>tgn/7034720</td>\n",
       "      <td>44.269444,9.384722</td>\n",
       "    </tr>\n",
       "  </tbody>\n",
       "</table>\n",
       "</div>"
      ],
      "text/plain": [
       "                                                   id  \\\n",
       "74  https://www.harvardartmuseums.org/collections/...   \n",
       "\n",
       "                       place    place_modified          tgn  \\\n",
       "74  Study of Pines at Sestri  Sestri, Punta di  tgn/7034720   \n",
       "\n",
       "                coords  \n",
       "74  44.269444,9.384722  "
      ]
     },
     "metadata": {},
     "output_type": "display_data"
    },
    {
     "data": {
      "text/html": [
       "<h4>A Spandrel at Siena</h4>"
      ],
      "text/plain": [
       "<IPython.core.display.HTML object>"
      ]
     },
     "metadata": {},
     "output_type": "display_data"
    },
    {
     "data": {
      "text/html": [
       "<div>\n",
       "<style scoped>\n",
       "    .dataframe tbody tr th:only-of-type {\n",
       "        vertical-align: middle;\n",
       "    }\n",
       "\n",
       "    .dataframe tbody tr th {\n",
       "        vertical-align: top;\n",
       "    }\n",
       "\n",
       "    .dataframe thead th {\n",
       "        text-align: right;\n",
       "    }\n",
       "</style>\n",
       "<table border=\"1\" class=\"dataframe\">\n",
       "  <thead>\n",
       "    <tr style=\"text-align: right;\">\n",
       "      <th></th>\n",
       "      <th>id</th>\n",
       "      <th>place</th>\n",
       "      <th>place_modified</th>\n",
       "      <th>tgn</th>\n",
       "      <th>coords</th>\n",
       "    </tr>\n",
       "  </thead>\n",
       "  <tbody>\n",
       "    <tr>\n",
       "      <th>44</th>\n",
       "      <td>https://collections.ashmolean.org/collection/1...</td>\n",
       "      <td>A Spandrel at Siena</td>\n",
       "      <td>Siena</td>\n",
       "      <td>tgn/7003168</td>\n",
       "      <td>43.216667,11.4</td>\n",
       "    </tr>\n",
       "  </tbody>\n",
       "</table>\n",
       "</div>"
      ],
      "text/plain": [
       "                                                   id                place  \\\n",
       "44  https://collections.ashmolean.org/collection/1...  A Spandrel at Siena   \n",
       "\n",
       "   place_modified          tgn          coords  \n",
       "44          Siena  tgn/7003168  43.216667,11.4  "
      ]
     },
     "metadata": {},
     "output_type": "display_data"
    },
    {
     "data": {
      "text/html": [
       "<h4>The Brezon and Alps of the Reposoir, seen from Mornex: finished pencil sketch from nature</h4>"
      ],
      "text/plain": [
       "<IPython.core.display.HTML object>"
      ]
     },
     "metadata": {},
     "output_type": "display_data"
    },
    {
     "data": {
      "text/html": [
       "<div>\n",
       "<style scoped>\n",
       "    .dataframe tbody tr th:only-of-type {\n",
       "        vertical-align: middle;\n",
       "    }\n",
       "\n",
       "    .dataframe tbody tr th {\n",
       "        vertical-align: top;\n",
       "    }\n",
       "\n",
       "    .dataframe thead th {\n",
       "        text-align: right;\n",
       "    }\n",
       "</style>\n",
       "<table border=\"1\" class=\"dataframe\">\n",
       "  <thead>\n",
       "    <tr style=\"text-align: right;\">\n",
       "      <th></th>\n",
       "      <th>id</th>\n",
       "      <th>place</th>\n",
       "      <th>place_modified</th>\n",
       "      <th>tgn</th>\n",
       "      <th>coords</th>\n",
       "    </tr>\n",
       "  </thead>\n",
       "  <tbody>\n",
       "    <tr>\n",
       "      <th>35</th>\n",
       "      <td>https://collections.ashmolean.org/collection/1...</td>\n",
       "      <td>The Brezon and Alps of the Reposoir, seen from...</td>\n",
       "      <td>Alps</td>\n",
       "      <td>tgn/7007746</td>\n",
       "      <td>46.416667,10</td>\n",
       "    </tr>\n",
       "  </tbody>\n",
       "</table>\n",
       "</div>"
      ],
      "text/plain": [
       "                                                   id  \\\n",
       "35  https://collections.ashmolean.org/collection/1...   \n",
       "\n",
       "                                                place place_modified  \\\n",
       "35  The Brezon and Alps of the Reposoir, seen from...           Alps   \n",
       "\n",
       "            tgn        coords  \n",
       "35  tgn/7007746  46.416667,10  "
      ]
     },
     "metadata": {},
     "output_type": "display_data"
    },
    {
     "data": {
      "text/html": [
       "<h4>View from the Palazzo Bembo to the Palazzo Grimani, Venice</h4>"
      ],
      "text/plain": [
       "<IPython.core.display.HTML object>"
      ]
     },
     "metadata": {},
     "output_type": "display_data"
    },
    {
     "data": {
      "text/html": [
       "<div>\n",
       "<style scoped>\n",
       "    .dataframe tbody tr th:only-of-type {\n",
       "        vertical-align: middle;\n",
       "    }\n",
       "\n",
       "    .dataframe tbody tr th {\n",
       "        vertical-align: top;\n",
       "    }\n",
       "\n",
       "    .dataframe thead th {\n",
       "        text-align: right;\n",
       "    }\n",
       "</style>\n",
       "<table border=\"1\" class=\"dataframe\">\n",
       "  <thead>\n",
       "    <tr style=\"text-align: right;\">\n",
       "      <th></th>\n",
       "      <th>id</th>\n",
       "      <th>place</th>\n",
       "      <th>place_modified</th>\n",
       "      <th>tgn</th>\n",
       "      <th>coords</th>\n",
       "    </tr>\n",
       "  </thead>\n",
       "  <tbody>\n",
       "    <tr>\n",
       "      <th>9</th>\n",
       "      <td>https://collections.ashmolean.org/collection/1...</td>\n",
       "      <td>View from the Palazzo Bembo to the Palazzo Gri...</td>\n",
       "      <td>Venice</td>\n",
       "      <td>tgn/7018159</td>\n",
       "      <td>45.438611,12.326667</td>\n",
       "    </tr>\n",
       "  </tbody>\n",
       "</table>\n",
       "</div>"
      ],
      "text/plain": [
       "                                                  id  \\\n",
       "9  https://collections.ashmolean.org/collection/1...   \n",
       "\n",
       "                                               place place_modified  \\\n",
       "9  View from the Palazzo Bembo to the Palazzo Gri...         Venice   \n",
       "\n",
       "           tgn               coords  \n",
       "9  tgn/7018159  45.438611,12.326667  "
      ]
     },
     "metadata": {},
     "output_type": "display_data"
    },
    {
     "data": {
      "text/html": [
       "<h4>Bergkam aan het Meer van Genève</h4>"
      ],
      "text/plain": [
       "<IPython.core.display.HTML object>"
      ]
     },
     "metadata": {},
     "output_type": "display_data"
    },
    {
     "data": {
      "text/html": [
       "<div>\n",
       "<style scoped>\n",
       "    .dataframe tbody tr th:only-of-type {\n",
       "        vertical-align: middle;\n",
       "    }\n",
       "\n",
       "    .dataframe tbody tr th {\n",
       "        vertical-align: top;\n",
       "    }\n",
       "\n",
       "    .dataframe thead th {\n",
       "        text-align: right;\n",
       "    }\n",
       "</style>\n",
       "<table border=\"1\" class=\"dataframe\">\n",
       "  <thead>\n",
       "    <tr style=\"text-align: right;\">\n",
       "      <th></th>\n",
       "      <th>id</th>\n",
       "      <th>place</th>\n",
       "      <th>place_modified</th>\n",
       "      <th>tgn</th>\n",
       "      <th>coords</th>\n",
       "    </tr>\n",
       "  </thead>\n",
       "  <tbody>\n",
       "    <tr>\n",
       "      <th>76</th>\n",
       "      <td>http://www.rijksmuseum.nl/nl/collectie/nl-RP-T...</td>\n",
       "      <td>Bergkam aan het Meer van Genève</td>\n",
       "      <td>Genève</td>\n",
       "      <td>tgn/7003746</td>\n",
       "      <td>46.196732,6.110443</td>\n",
       "    </tr>\n",
       "  </tbody>\n",
       "</table>\n",
       "</div>"
      ],
      "text/plain": [
       "                                                   id  \\\n",
       "76  http://www.rijksmuseum.nl/nl/collectie/nl-RP-T...   \n",
       "\n",
       "                              place place_modified          tgn  \\\n",
       "76  Bergkam aan het Meer van Genève         Genève  tgn/7003746   \n",
       "\n",
       "                coords  \n",
       "76  46.196732,6.110443  "
      ]
     },
     "metadata": {},
     "output_type": "display_data"
    },
    {
     "data": {
      "text/html": [
       "<h4>Study in Neutral Tint of Turner's 'The Pass of Faido'</h4>"
      ],
      "text/plain": [
       "<IPython.core.display.HTML object>"
      ]
     },
     "metadata": {},
     "output_type": "display_data"
    },
    {
     "data": {
      "text/html": [
       "<div>\n",
       "<style scoped>\n",
       "    .dataframe tbody tr th:only-of-type {\n",
       "        vertical-align: middle;\n",
       "    }\n",
       "\n",
       "    .dataframe tbody tr th {\n",
       "        vertical-align: top;\n",
       "    }\n",
       "\n",
       "    .dataframe thead th {\n",
       "        text-align: right;\n",
       "    }\n",
       "</style>\n",
       "<table border=\"1\" class=\"dataframe\">\n",
       "  <thead>\n",
       "    <tr style=\"text-align: right;\">\n",
       "      <th></th>\n",
       "      <th>id</th>\n",
       "      <th>place</th>\n",
       "      <th>place_modified</th>\n",
       "      <th>tgn</th>\n",
       "      <th>coords</th>\n",
       "    </tr>\n",
       "  </thead>\n",
       "  <tbody>\n",
       "    <tr>\n",
       "      <th>68</th>\n",
       "      <td>https://collections.ashmolean.org/collection/1...</td>\n",
       "      <td>Study in Neutral Tint of Turner's 'The Pass of...</td>\n",
       "      <td>Faido</td>\n",
       "      <td>tgn/1064047</td>\n",
       "      <td>46.479417,8.797659</td>\n",
       "    </tr>\n",
       "  </tbody>\n",
       "</table>\n",
       "</div>"
      ],
      "text/plain": [
       "                                                   id  \\\n",
       "68  https://collections.ashmolean.org/collection/1...   \n",
       "\n",
       "                                                place place_modified  \\\n",
       "68  Study in Neutral Tint of Turner's 'The Pass of...          Faido   \n",
       "\n",
       "            tgn              coords  \n",
       "68  tgn/1064047  46.479417,8.797659  "
      ]
     },
     "metadata": {},
     "output_type": "display_data"
    },
    {
     "data": {
      "text/html": [
       "<h4>Dawn at Neuchâtel</h4>"
      ],
      "text/plain": [
       "<IPython.core.display.HTML object>"
      ]
     },
     "metadata": {},
     "output_type": "display_data"
    },
    {
     "data": {
      "text/html": [
       "<div>\n",
       "<style scoped>\n",
       "    .dataframe tbody tr th:only-of-type {\n",
       "        vertical-align: middle;\n",
       "    }\n",
       "\n",
       "    .dataframe tbody tr th {\n",
       "        vertical-align: top;\n",
       "    }\n",
       "\n",
       "    .dataframe thead th {\n",
       "        text-align: right;\n",
       "    }\n",
       "</style>\n",
       "<table border=\"1\" class=\"dataframe\">\n",
       "  <thead>\n",
       "    <tr style=\"text-align: right;\">\n",
       "      <th></th>\n",
       "      <th>id</th>\n",
       "      <th>place</th>\n",
       "      <th>place_modified</th>\n",
       "      <th>tgn</th>\n",
       "      <th>coords</th>\n",
       "    </tr>\n",
       "  </thead>\n",
       "  <tbody>\n",
       "    <tr>\n",
       "      <th>77</th>\n",
       "      <td>https://www.harvardartmuseums.org/collections/...</td>\n",
       "      <td>Dawn at Neuchâtel</td>\n",
       "      <td>Neuchâtel</td>\n",
       "      <td>tgn/7003751</td>\n",
       "      <td>46.990867,6.797675</td>\n",
       "    </tr>\n",
       "  </tbody>\n",
       "</table>\n",
       "</div>"
      ],
      "text/plain": [
       "                                                   id              place  \\\n",
       "77  https://www.harvardartmuseums.org/collections/...  Dawn at Neuchâtel   \n",
       "\n",
       "   place_modified          tgn              coords  \n",
       "77      Neuchâtel  tgn/7003751  46.990867,6.797675  "
      ]
     },
     "metadata": {},
     "output_type": "display_data"
    },
    {
     "data": {
      "text/html": [
       "<h4>Part of the Façade of the destroyed Church of San Michele in Foro, Lucca, as it appeared in 1845</h4>"
      ],
      "text/plain": [
       "<IPython.core.display.HTML object>"
      ]
     },
     "metadata": {},
     "output_type": "display_data"
    },
    {
     "data": {
      "text/html": [
       "<div>\n",
       "<style scoped>\n",
       "    .dataframe tbody tr th:only-of-type {\n",
       "        vertical-align: middle;\n",
       "    }\n",
       "\n",
       "    .dataframe tbody tr th {\n",
       "        vertical-align: top;\n",
       "    }\n",
       "\n",
       "    .dataframe thead th {\n",
       "        text-align: right;\n",
       "    }\n",
       "</style>\n",
       "<table border=\"1\" class=\"dataframe\">\n",
       "  <thead>\n",
       "    <tr style=\"text-align: right;\">\n",
       "      <th></th>\n",
       "      <th>id</th>\n",
       "      <th>place</th>\n",
       "      <th>place_modified</th>\n",
       "      <th>tgn</th>\n",
       "      <th>coords</th>\n",
       "    </tr>\n",
       "  </thead>\n",
       "  <tbody>\n",
       "    <tr>\n",
       "      <th>41</th>\n",
       "      <td>https://collections.ashmolean.org/collection/1...</td>\n",
       "      <td>Part of the Façade of the destroyed Church of ...</td>\n",
       "      <td>Lucca</td>\n",
       "      <td>tgn/7003165</td>\n",
       "      <td>44.033333,10.45</td>\n",
       "    </tr>\n",
       "  </tbody>\n",
       "</table>\n",
       "</div>"
      ],
      "text/plain": [
       "                                                   id  \\\n",
       "41  https://collections.ashmolean.org/collection/1...   \n",
       "\n",
       "                                                place place_modified  \\\n",
       "41  Part of the Façade of the destroyed Church of ...          Lucca   \n",
       "\n",
       "            tgn           coords  \n",
       "41  tgn/7003165  44.033333,10.45  "
      ]
     },
     "metadata": {},
     "output_type": "display_data"
    },
    {
     "data": {
      "text/html": [
       "<h4>Architectural Study: Three Sections of a Venetian Arcade</h4>"
      ],
      "text/plain": [
       "<IPython.core.display.HTML object>"
      ]
     },
     "metadata": {},
     "output_type": "display_data"
    },
    {
     "data": {
      "text/html": [
       "<div>\n",
       "<style scoped>\n",
       "    .dataframe tbody tr th:only-of-type {\n",
       "        vertical-align: middle;\n",
       "    }\n",
       "\n",
       "    .dataframe tbody tr th {\n",
       "        vertical-align: top;\n",
       "    }\n",
       "\n",
       "    .dataframe thead th {\n",
       "        text-align: right;\n",
       "    }\n",
       "</style>\n",
       "<table border=\"1\" class=\"dataframe\">\n",
       "  <thead>\n",
       "    <tr style=\"text-align: right;\">\n",
       "      <th></th>\n",
       "      <th>id</th>\n",
       "      <th>place</th>\n",
       "      <th>place_modified</th>\n",
       "      <th>tgn</th>\n",
       "      <th>coords</th>\n",
       "    </tr>\n",
       "  </thead>\n",
       "  <tbody>\n",
       "    <tr>\n",
       "      <th>10</th>\n",
       "      <td>https://www.harvardartmuseums.org/collections/...</td>\n",
       "      <td>Architectural Study: Three Sections of a Venet...</td>\n",
       "      <td>Venice</td>\n",
       "      <td>tgn/7018159</td>\n",
       "      <td>45.438611,12.326667</td>\n",
       "    </tr>\n",
       "  </tbody>\n",
       "</table>\n",
       "</div>"
      ],
      "text/plain": [
       "                                                   id  \\\n",
       "10  https://www.harvardartmuseums.org/collections/...   \n",
       "\n",
       "                                                place place_modified  \\\n",
       "10  Architectural Study: Three Sections of a Venet...         Venice   \n",
       "\n",
       "            tgn               coords  \n",
       "10  tgn/7018159  45.438611,12.326667  "
      ]
     },
     "metadata": {},
     "output_type": "display_data"
    },
    {
     "data": {
      "text/html": [
       "<h4>Hôtel de Ville, Aix-la-Chapelle</h4>"
      ],
      "text/plain": [
       "<IPython.core.display.HTML object>"
      ]
     },
     "metadata": {},
     "output_type": "display_data"
    },
    {
     "data": {
      "text/html": [
       "<div>\n",
       "<style scoped>\n",
       "    .dataframe tbody tr th:only-of-type {\n",
       "        vertical-align: middle;\n",
       "    }\n",
       "\n",
       "    .dataframe tbody tr th {\n",
       "        vertical-align: top;\n",
       "    }\n",
       "\n",
       "    .dataframe thead th {\n",
       "        text-align: right;\n",
       "    }\n",
       "</style>\n",
       "<table border=\"1\" class=\"dataframe\">\n",
       "  <thead>\n",
       "    <tr style=\"text-align: right;\">\n",
       "      <th></th>\n",
       "      <th>id</th>\n",
       "      <th>place</th>\n",
       "      <th>place_modified</th>\n",
       "      <th>tgn</th>\n",
       "      <th>coords</th>\n",
       "    </tr>\n",
       "  </thead>\n",
       "  <tbody>\n",
       "    <tr>\n",
       "      <th>79</th>\n",
       "      <td>https://www.harvardartmuseums.org/collections/...</td>\n",
       "      <td>Hôtel de Ville, Aix-la-Chapelle</td>\n",
       "      <td>Aachen</td>\n",
       "      <td>tgn/7004799</td>\n",
       "      <td>50.770833,6.105278</td>\n",
       "    </tr>\n",
       "  </tbody>\n",
       "</table>\n",
       "</div>"
      ],
      "text/plain": [
       "                                                   id  \\\n",
       "79  https://www.harvardartmuseums.org/collections/...   \n",
       "\n",
       "                              place place_modified          tgn  \\\n",
       "79  Hôtel de Ville, Aix-la-Chapelle         Aachen  tgn/7004799   \n",
       "\n",
       "                coords  \n",
       "79  50.770833,6.105278  "
      ]
     },
     "metadata": {},
     "output_type": "display_data"
    },
    {
     "data": {
      "text/html": [
       "<h4>A Window of the Palazzo Tolomei, Siena, showing the rude and unsymmetrical Placing of massy Stones</h4>"
      ],
      "text/plain": [
       "<IPython.core.display.HTML object>"
      ]
     },
     "metadata": {},
     "output_type": "display_data"
    },
    {
     "data": {
      "text/html": [
       "<div>\n",
       "<style scoped>\n",
       "    .dataframe tbody tr th:only-of-type {\n",
       "        vertical-align: middle;\n",
       "    }\n",
       "\n",
       "    .dataframe tbody tr th {\n",
       "        vertical-align: top;\n",
       "    }\n",
       "\n",
       "    .dataframe thead th {\n",
       "        text-align: right;\n",
       "    }\n",
       "</style>\n",
       "<table border=\"1\" class=\"dataframe\">\n",
       "  <thead>\n",
       "    <tr style=\"text-align: right;\">\n",
       "      <th></th>\n",
       "      <th>id</th>\n",
       "      <th>place</th>\n",
       "      <th>place_modified</th>\n",
       "      <th>tgn</th>\n",
       "      <th>coords</th>\n",
       "    </tr>\n",
       "  </thead>\n",
       "  <tbody>\n",
       "    <tr>\n",
       "      <th>45</th>\n",
       "      <td>https://collections.ashmolean.org/collection/1...</td>\n",
       "      <td>A Window of the Palazzo Tolomei, Siena, showin...</td>\n",
       "      <td>Siena</td>\n",
       "      <td>tgn/7003168</td>\n",
       "      <td>43.216667,11.4</td>\n",
       "    </tr>\n",
       "  </tbody>\n",
       "</table>\n",
       "</div>"
      ],
      "text/plain": [
       "                                                   id  \\\n",
       "45  https://collections.ashmolean.org/collection/1...   \n",
       "\n",
       "                                                place place_modified  \\\n",
       "45  A Window of the Palazzo Tolomei, Siena, showin...          Siena   \n",
       "\n",
       "            tgn          coords  \n",
       "45  tgn/7003168  43.216667,11.4  "
      ]
     },
     "metadata": {},
     "output_type": "display_data"
    },
    {
     "data": {
      "text/html": [
       "<h4>Three Studies of Narcissus ('Field Narcissus of the Alps')</h4>"
      ],
      "text/plain": [
       "<IPython.core.display.HTML object>"
      ]
     },
     "metadata": {},
     "output_type": "display_data"
    },
    {
     "data": {
      "text/html": [
       "<div>\n",
       "<style scoped>\n",
       "    .dataframe tbody tr th:only-of-type {\n",
       "        vertical-align: middle;\n",
       "    }\n",
       "\n",
       "    .dataframe tbody tr th {\n",
       "        vertical-align: top;\n",
       "    }\n",
       "\n",
       "    .dataframe thead th {\n",
       "        text-align: right;\n",
       "    }\n",
       "</style>\n",
       "<table border=\"1\" class=\"dataframe\">\n",
       "  <thead>\n",
       "    <tr style=\"text-align: right;\">\n",
       "      <th></th>\n",
       "      <th>id</th>\n",
       "      <th>place</th>\n",
       "      <th>place_modified</th>\n",
       "      <th>tgn</th>\n",
       "      <th>coords</th>\n",
       "    </tr>\n",
       "  </thead>\n",
       "  <tbody>\n",
       "    <tr>\n",
       "      <th>36</th>\n",
       "      <td>https://collections.ashmolean.org/collection/1...</td>\n",
       "      <td>Three Studies of Narcissus ('Field Narcissus o...</td>\n",
       "      <td>Alps</td>\n",
       "      <td>tgn/7007746</td>\n",
       "      <td>46.416667,10</td>\n",
       "    </tr>\n",
       "  </tbody>\n",
       "</table>\n",
       "</div>"
      ],
      "text/plain": [
       "                                                   id  \\\n",
       "36  https://collections.ashmolean.org/collection/1...   \n",
       "\n",
       "                                                place place_modified  \\\n",
       "36  Three Studies of Narcissus ('Field Narcissus o...           Alps   \n",
       "\n",
       "            tgn        coords  \n",
       "36  tgn/7007746  46.416667,10  "
      ]
     },
     "metadata": {},
     "output_type": "display_data"
    },
    {
     "data": {
      "text/html": [
       "<h4>Design for a window in the University Museum, Oxford</h4>"
      ],
      "text/plain": [
       "<IPython.core.display.HTML object>"
      ]
     },
     "metadata": {},
     "output_type": "display_data"
    },
    {
     "data": {
      "text/html": [
       "<div>\n",
       "<style scoped>\n",
       "    .dataframe tbody tr th:only-of-type {\n",
       "        vertical-align: middle;\n",
       "    }\n",
       "\n",
       "    .dataframe tbody tr th {\n",
       "        vertical-align: top;\n",
       "    }\n",
       "\n",
       "    .dataframe thead th {\n",
       "        text-align: right;\n",
       "    }\n",
       "</style>\n",
       "<table border=\"1\" class=\"dataframe\">\n",
       "  <thead>\n",
       "    <tr style=\"text-align: right;\">\n",
       "      <th></th>\n",
       "      <th>id</th>\n",
       "      <th>place</th>\n",
       "      <th>place_modified</th>\n",
       "      <th>tgn</th>\n",
       "      <th>coords</th>\n",
       "    </tr>\n",
       "  </thead>\n",
       "  <tbody>\n",
       "    <tr>\n",
       "      <th>26</th>\n",
       "      <td>https://collections.ashmolean.org/collection/1...</td>\n",
       "      <td>Design for a window in the University Museum, ...</td>\n",
       "      <td>Oxfordshire</td>\n",
       "      <td>tgn/7011931</td>\n",
       "      <td>51.75,-1.25</td>\n",
       "    </tr>\n",
       "  </tbody>\n",
       "</table>\n",
       "</div>"
      ],
      "text/plain": [
       "                                                   id  \\\n",
       "26  https://collections.ashmolean.org/collection/1...   \n",
       "\n",
       "                                                place place_modified  \\\n",
       "26  Design for a window in the University Museum, ...    Oxfordshire   \n",
       "\n",
       "            tgn       coords  \n",
       "26  tgn/7011931  51.75,-1.25  "
      ]
     },
     "metadata": {},
     "output_type": "display_data"
    },
    {
     "data": {
      "text/html": [
       "<h4>Ornamental Study with Acanthus Motif for \"The Stones of Venice\"</h4>"
      ],
      "text/plain": [
       "<IPython.core.display.HTML object>"
      ]
     },
     "metadata": {},
     "output_type": "display_data"
    },
    {
     "data": {
      "text/html": [
       "<div>\n",
       "<style scoped>\n",
       "    .dataframe tbody tr th:only-of-type {\n",
       "        vertical-align: middle;\n",
       "    }\n",
       "\n",
       "    .dataframe tbody tr th {\n",
       "        vertical-align: top;\n",
       "    }\n",
       "\n",
       "    .dataframe thead th {\n",
       "        text-align: right;\n",
       "    }\n",
       "</style>\n",
       "<table border=\"1\" class=\"dataframe\">\n",
       "  <thead>\n",
       "    <tr style=\"text-align: right;\">\n",
       "      <th></th>\n",
       "      <th>id</th>\n",
       "      <th>place</th>\n",
       "      <th>place_modified</th>\n",
       "      <th>tgn</th>\n",
       "      <th>coords</th>\n",
       "    </tr>\n",
       "  </thead>\n",
       "  <tbody>\n",
       "    <tr>\n",
       "      <th>11</th>\n",
       "      <td>https://www.nga.gov/collection/76140</td>\n",
       "      <td>Ornamental Study with Acanthus Motif for \"The ...</td>\n",
       "      <td>Venice</td>\n",
       "      <td>tgn/7018159</td>\n",
       "      <td>45.438611,12.326667</td>\n",
       "    </tr>\n",
       "  </tbody>\n",
       "</table>\n",
       "</div>"
      ],
      "text/plain": [
       "                                      id  \\\n",
       "11  https://www.nga.gov/collection/76140   \n",
       "\n",
       "                                                place place_modified  \\\n",
       "11  Ornamental Study with Acanthus Motif for \"The ...         Venice   \n",
       "\n",
       "            tgn               coords  \n",
       "11  tgn/7018159  45.438611,12.326667  "
      ]
     },
     "metadata": {},
     "output_type": "display_data"
    },
    {
     "data": {
      "text/html": [
       "<h4>The Exterior of the Ducal Palace, Venice</h4>"
      ],
      "text/plain": [
       "<IPython.core.display.HTML object>"
      ]
     },
     "metadata": {},
     "output_type": "display_data"
    },
    {
     "data": {
      "text/html": [
       "<div>\n",
       "<style scoped>\n",
       "    .dataframe tbody tr th:only-of-type {\n",
       "        vertical-align: middle;\n",
       "    }\n",
       "\n",
       "    .dataframe tbody tr th {\n",
       "        vertical-align: top;\n",
       "    }\n",
       "\n",
       "    .dataframe thead th {\n",
       "        text-align: right;\n",
       "    }\n",
       "</style>\n",
       "<table border=\"1\" class=\"dataframe\">\n",
       "  <thead>\n",
       "    <tr style=\"text-align: right;\">\n",
       "      <th></th>\n",
       "      <th>id</th>\n",
       "      <th>place</th>\n",
       "      <th>place_modified</th>\n",
       "      <th>tgn</th>\n",
       "      <th>coords</th>\n",
       "    </tr>\n",
       "  </thead>\n",
       "  <tbody>\n",
       "    <tr>\n",
       "      <th>12</th>\n",
       "      <td>https://collections.ashmolean.org/collection/1...</td>\n",
       "      <td>The Exterior of the Ducal Palace, Venice</td>\n",
       "      <td>Venice</td>\n",
       "      <td>tgn/7018159</td>\n",
       "      <td>45.438611,12.326667</td>\n",
       "    </tr>\n",
       "  </tbody>\n",
       "</table>\n",
       "</div>"
      ],
      "text/plain": [
       "                                                   id  \\\n",
       "12  https://collections.ashmolean.org/collection/1...   \n",
       "\n",
       "                                       place place_modified          tgn  \\\n",
       "12  The Exterior of the Ducal Palace, Venice         Venice  tgn/7018159   \n",
       "\n",
       "                 coords  \n",
       "12  45.438611,12.326667  "
      ]
     },
     "metadata": {},
     "output_type": "display_data"
    },
    {
     "data": {
      "text/html": [
       "<h4>Lake of Zug</h4>"
      ],
      "text/plain": [
       "<IPython.core.display.HTML object>"
      ]
     },
     "metadata": {},
     "output_type": "display_data"
    },
    {
     "data": {
      "text/html": [
       "<div>\n",
       "<style scoped>\n",
       "    .dataframe tbody tr th:only-of-type {\n",
       "        vertical-align: middle;\n",
       "    }\n",
       "\n",
       "    .dataframe tbody tr th {\n",
       "        vertical-align: top;\n",
       "    }\n",
       "\n",
       "    .dataframe thead th {\n",
       "        text-align: right;\n",
       "    }\n",
       "</style>\n",
       "<table border=\"1\" class=\"dataframe\">\n",
       "  <thead>\n",
       "    <tr style=\"text-align: right;\">\n",
       "      <th></th>\n",
       "      <th>id</th>\n",
       "      <th>place</th>\n",
       "      <th>place_modified</th>\n",
       "      <th>tgn</th>\n",
       "      <th>coords</th>\n",
       "    </tr>\n",
       "  </thead>\n",
       "  <tbody>\n",
       "    <tr>\n",
       "      <th>72</th>\n",
       "      <td>https://www.harvardartmuseums.org/collections/...</td>\n",
       "      <td>Lake of Zug</td>\n",
       "      <td>Zug, Lake of</td>\n",
       "      <td>tgn/1118823</td>\n",
       "      <td>47.131301,8.483347</td>\n",
       "    </tr>\n",
       "  </tbody>\n",
       "</table>\n",
       "</div>"
      ],
      "text/plain": [
       "                                                   id        place  \\\n",
       "72  https://www.harvardartmuseums.org/collections/...  Lake of Zug   \n",
       "\n",
       "   place_modified          tgn              coords  \n",
       "72   Zug, Lake of  tgn/1118823  47.131301,8.483347  "
      ]
     },
     "metadata": {},
     "output_type": "display_data"
    },
    {
     "data": {
      "text/html": [
       "<h4>Boat and Sketches of Two Figures, Venice</h4>"
      ],
      "text/plain": [
       "<IPython.core.display.HTML object>"
      ]
     },
     "metadata": {},
     "output_type": "display_data"
    },
    {
     "data": {
      "text/html": [
       "<div>\n",
       "<style scoped>\n",
       "    .dataframe tbody tr th:only-of-type {\n",
       "        vertical-align: middle;\n",
       "    }\n",
       "\n",
       "    .dataframe tbody tr th {\n",
       "        vertical-align: top;\n",
       "    }\n",
       "\n",
       "    .dataframe thead th {\n",
       "        text-align: right;\n",
       "    }\n",
       "</style>\n",
       "<table border=\"1\" class=\"dataframe\">\n",
       "  <thead>\n",
       "    <tr style=\"text-align: right;\">\n",
       "      <th></th>\n",
       "      <th>id</th>\n",
       "      <th>place</th>\n",
       "      <th>place_modified</th>\n",
       "      <th>tgn</th>\n",
       "      <th>coords</th>\n",
       "    </tr>\n",
       "  </thead>\n",
       "  <tbody>\n",
       "    <tr>\n",
       "      <th>13</th>\n",
       "      <td>https://www.harvardartmuseums.org/collections/...</td>\n",
       "      <td>Boat and Sketches of Two Figures, Venice</td>\n",
       "      <td>Venice</td>\n",
       "      <td>tgn/7018159</td>\n",
       "      <td>45.438611,12.326667</td>\n",
       "    </tr>\n",
       "  </tbody>\n",
       "</table>\n",
       "</div>"
      ],
      "text/plain": [
       "                                                   id  \\\n",
       "13  https://www.harvardartmuseums.org/collections/...   \n",
       "\n",
       "                                       place place_modified          tgn  \\\n",
       "13  Boat and Sketches of Two Figures, Venice         Venice  tgn/7018159   \n",
       "\n",
       "                 coords  \n",
       "13  45.438611,12.326667  "
      ]
     },
     "metadata": {},
     "output_type": "display_data"
    },
    {
     "data": {
      "text/html": [
       "<h4>Swiss tower at Fribourg</h4>"
      ],
      "text/plain": [
       "<IPython.core.display.HTML object>"
      ]
     },
     "metadata": {},
     "output_type": "display_data"
    },
    {
     "data": {
      "text/html": [
       "<div>\n",
       "<style scoped>\n",
       "    .dataframe tbody tr th:only-of-type {\n",
       "        vertical-align: middle;\n",
       "    }\n",
       "\n",
       "    .dataframe tbody tr th {\n",
       "        vertical-align: top;\n",
       "    }\n",
       "\n",
       "    .dataframe thead th {\n",
       "        text-align: right;\n",
       "    }\n",
       "</style>\n",
       "<table border=\"1\" class=\"dataframe\">\n",
       "  <thead>\n",
       "    <tr style=\"text-align: right;\">\n",
       "      <th></th>\n",
       "      <th>id</th>\n",
       "      <th>place</th>\n",
       "      <th>place_modified</th>\n",
       "      <th>tgn</th>\n",
       "      <th>coords</th>\n",
       "    </tr>\n",
       "  </thead>\n",
       "  <tbody>\n",
       "    <tr>\n",
       "      <th>80</th>\n",
       "      <td>https://collections.ashmolean.org/collection/1...</td>\n",
       "      <td>Swiss tower at Fribourg</td>\n",
       "      <td>Fribourg</td>\n",
       "      <td>tgn/7007278</td>\n",
       "      <td>46.79572,7.154748</td>\n",
       "    </tr>\n",
       "  </tbody>\n",
       "</table>\n",
       "</div>"
      ],
      "text/plain": [
       "                                                   id  \\\n",
       "80  https://collections.ashmolean.org/collection/1...   \n",
       "\n",
       "                      place place_modified          tgn             coords  \n",
       "80  Swiss tower at Fribourg       Fribourg  tgn/7007278  46.79572,7.154748  "
      ]
     },
     "metadata": {},
     "output_type": "display_data"
    },
    {
     "data": {
      "text/html": [
       "<h4>Design for a window in the University Museum, Oxford</h4>"
      ],
      "text/plain": [
       "<IPython.core.display.HTML object>"
      ]
     },
     "metadata": {},
     "output_type": "display_data"
    },
    {
     "data": {
      "text/html": [
       "<div>\n",
       "<style scoped>\n",
       "    .dataframe tbody tr th:only-of-type {\n",
       "        vertical-align: middle;\n",
       "    }\n",
       "\n",
       "    .dataframe tbody tr th {\n",
       "        vertical-align: top;\n",
       "    }\n",
       "\n",
       "    .dataframe thead th {\n",
       "        text-align: right;\n",
       "    }\n",
       "</style>\n",
       "<table border=\"1\" class=\"dataframe\">\n",
       "  <thead>\n",
       "    <tr style=\"text-align: right;\">\n",
       "      <th></th>\n",
       "      <th>id</th>\n",
       "      <th>place</th>\n",
       "      <th>place_modified</th>\n",
       "      <th>tgn</th>\n",
       "      <th>coords</th>\n",
       "    </tr>\n",
       "  </thead>\n",
       "  <tbody>\n",
       "    <tr>\n",
       "      <th>27</th>\n",
       "      <td>https://collections.ashmolean.org/collection/1...</td>\n",
       "      <td>Design for a window in the University Museum, ...</td>\n",
       "      <td>Oxfordshire</td>\n",
       "      <td>tgn/7011931</td>\n",
       "      <td>51.75,-1.25</td>\n",
       "    </tr>\n",
       "  </tbody>\n",
       "</table>\n",
       "</div>"
      ],
      "text/plain": [
       "                                                   id  \\\n",
       "27  https://collections.ashmolean.org/collection/1...   \n",
       "\n",
       "                                                place place_modified  \\\n",
       "27  Design for a window in the University Museum, ...    Oxfordshire   \n",
       "\n",
       "            tgn       coords  \n",
       "27  tgn/7011931  51.75,-1.25  "
      ]
     },
     "metadata": {},
     "output_type": "display_data"
    },
    {
     "data": {
      "text/html": [
       "<h4>Fribourg, Switzerland: Pen sketch</h4>"
      ],
      "text/plain": [
       "<IPython.core.display.HTML object>"
      ]
     },
     "metadata": {},
     "output_type": "display_data"
    },
    {
     "data": {
      "text/html": [
       "<div>\n",
       "<style scoped>\n",
       "    .dataframe tbody tr th:only-of-type {\n",
       "        vertical-align: middle;\n",
       "    }\n",
       "\n",
       "    .dataframe tbody tr th {\n",
       "        vertical-align: top;\n",
       "    }\n",
       "\n",
       "    .dataframe thead th {\n",
       "        text-align: right;\n",
       "    }\n",
       "</style>\n",
       "<table border=\"1\" class=\"dataframe\">\n",
       "  <thead>\n",
       "    <tr style=\"text-align: right;\">\n",
       "      <th></th>\n",
       "      <th>id</th>\n",
       "      <th>place</th>\n",
       "      <th>place_modified</th>\n",
       "      <th>tgn</th>\n",
       "      <th>coords</th>\n",
       "    </tr>\n",
       "  </thead>\n",
       "  <tbody>\n",
       "    <tr>\n",
       "      <th>81</th>\n",
       "      <td>https://collections.ashmolean.org/collection/1...</td>\n",
       "      <td>Fribourg, Switzerland: Pen sketch</td>\n",
       "      <td>Fribourg</td>\n",
       "      <td>tgn/7007278</td>\n",
       "      <td>46.79572,7.154748</td>\n",
       "    </tr>\n",
       "  </tbody>\n",
       "</table>\n",
       "</div>"
      ],
      "text/plain": [
       "                                                   id  \\\n",
       "81  https://collections.ashmolean.org/collection/1...   \n",
       "\n",
       "                                place place_modified          tgn  \\\n",
       "81  Fribourg, Switzerland: Pen sketch       Fribourg  tgn/7007278   \n",
       "\n",
       "               coords  \n",
       "81  46.79572,7.154748  "
      ]
     },
     "metadata": {},
     "output_type": "display_data"
    },
    {
     "data": {
      "text/html": [
       "<h4>Design for a window in the University Museum, Oxford</h4>"
      ],
      "text/plain": [
       "<IPython.core.display.HTML object>"
      ]
     },
     "metadata": {},
     "output_type": "display_data"
    },
    {
     "data": {
      "text/html": [
       "<div>\n",
       "<style scoped>\n",
       "    .dataframe tbody tr th:only-of-type {\n",
       "        vertical-align: middle;\n",
       "    }\n",
       "\n",
       "    .dataframe tbody tr th {\n",
       "        vertical-align: top;\n",
       "    }\n",
       "\n",
       "    .dataframe thead th {\n",
       "        text-align: right;\n",
       "    }\n",
       "</style>\n",
       "<table border=\"1\" class=\"dataframe\">\n",
       "  <thead>\n",
       "    <tr style=\"text-align: right;\">\n",
       "      <th></th>\n",
       "      <th>id</th>\n",
       "      <th>place</th>\n",
       "      <th>place_modified</th>\n",
       "      <th>tgn</th>\n",
       "      <th>coords</th>\n",
       "    </tr>\n",
       "  </thead>\n",
       "  <tbody>\n",
       "    <tr>\n",
       "      <th>28</th>\n",
       "      <td>https://collections.ashmolean.org/collection/1...</td>\n",
       "      <td>Design for a window in the University Museum, ...</td>\n",
       "      <td>Oxfordshire</td>\n",
       "      <td>tgn/7011931</td>\n",
       "      <td>51.75,-1.25</td>\n",
       "    </tr>\n",
       "  </tbody>\n",
       "</table>\n",
       "</div>"
      ],
      "text/plain": [
       "                                                   id  \\\n",
       "28  https://collections.ashmolean.org/collection/1...   \n",
       "\n",
       "                                                place place_modified  \\\n",
       "28  Design for a window in the University Museum, ...    Oxfordshire   \n",
       "\n",
       "            tgn       coords  \n",
       "28  tgn/7011931  51.75,-1.25  "
      ]
     },
     "metadata": {},
     "output_type": "display_data"
    },
    {
     "data": {
      "text/html": [
       "<h4>Sketch of 'Modes au Premier', Abbeville</h4>"
      ],
      "text/plain": [
       "<IPython.core.display.HTML object>"
      ]
     },
     "metadata": {},
     "output_type": "display_data"
    },
    {
     "data": {
      "text/html": [
       "<div>\n",
       "<style scoped>\n",
       "    .dataframe tbody tr th:only-of-type {\n",
       "        vertical-align: middle;\n",
       "    }\n",
       "\n",
       "    .dataframe tbody tr th {\n",
       "        vertical-align: top;\n",
       "    }\n",
       "\n",
       "    .dataframe thead th {\n",
       "        text-align: right;\n",
       "    }\n",
       "</style>\n",
       "<table border=\"1\" class=\"dataframe\">\n",
       "  <thead>\n",
       "    <tr style=\"text-align: right;\">\n",
       "      <th></th>\n",
       "      <th>id</th>\n",
       "      <th>place</th>\n",
       "      <th>place_modified</th>\n",
       "      <th>tgn</th>\n",
       "      <th>coords</th>\n",
       "    </tr>\n",
       "  </thead>\n",
       "  <tbody>\n",
       "    <tr>\n",
       "      <th>52</th>\n",
       "      <td>https://collections.ashmolean.org/collection/1...</td>\n",
       "      <td>Sketch of 'Modes au Premier', Abbeville</td>\n",
       "      <td>France</td>\n",
       "      <td>tgn/7010587</td>\n",
       "      <td>50.106602,1.832691</td>\n",
       "    </tr>\n",
       "  </tbody>\n",
       "</table>\n",
       "</div>"
      ],
      "text/plain": [
       "                                                   id  \\\n",
       "52  https://collections.ashmolean.org/collection/1...   \n",
       "\n",
       "                                      place place_modified          tgn  \\\n",
       "52  Sketch of 'Modes au Premier', Abbeville         France  tgn/7010587   \n",
       "\n",
       "                coords  \n",
       "52  50.106602,1.832691  "
      ]
     },
     "metadata": {},
     "output_type": "display_data"
    },
    {
     "data": {
      "text/html": [
       "<h4>View of Luzern from above</h4>"
      ],
      "text/plain": [
       "<IPython.core.display.HTML object>"
      ]
     },
     "metadata": {},
     "output_type": "display_data"
    },
    {
     "data": {
      "text/html": [
       "<div>\n",
       "<style scoped>\n",
       "    .dataframe tbody tr th:only-of-type {\n",
       "        vertical-align: middle;\n",
       "    }\n",
       "\n",
       "    .dataframe tbody tr th {\n",
       "        vertical-align: top;\n",
       "    }\n",
       "\n",
       "    .dataframe thead th {\n",
       "        text-align: right;\n",
       "    }\n",
       "</style>\n",
       "<table border=\"1\" class=\"dataframe\">\n",
       "  <thead>\n",
       "    <tr style=\"text-align: right;\">\n",
       "      <th></th>\n",
       "      <th>id</th>\n",
       "      <th>place</th>\n",
       "      <th>place_modified</th>\n",
       "      <th>tgn</th>\n",
       "      <th>coords</th>\n",
       "    </tr>\n",
       "  </thead>\n",
       "  <tbody>\n",
       "    <tr>\n",
       "      <th>63</th>\n",
       "      <td>https://collections.ashmolean.org/collection/1...</td>\n",
       "      <td>View of Luzern from above</td>\n",
       "      <td>Luzern</td>\n",
       "      <td>tgn/7007280</td>\n",
       "      <td>47.083333,8.266667</td>\n",
       "    </tr>\n",
       "  </tbody>\n",
       "</table>\n",
       "</div>"
      ],
      "text/plain": [
       "                                                   id  \\\n",
       "63  https://collections.ashmolean.org/collection/1...   \n",
       "\n",
       "                        place place_modified          tgn              coords  \n",
       "63  View of Luzern from above         Luzern  tgn/7007280  47.083333,8.266667  "
      ]
     },
     "metadata": {},
     "output_type": "display_data"
    },
    {
     "data": {
      "text/html": [
       "<h4>Design for a Window in the University Museum, Oxford</h4>"
      ],
      "text/plain": [
       "<IPython.core.display.HTML object>"
      ]
     },
     "metadata": {},
     "output_type": "display_data"
    },
    {
     "data": {
      "text/html": [
       "<div>\n",
       "<style scoped>\n",
       "    .dataframe tbody tr th:only-of-type {\n",
       "        vertical-align: middle;\n",
       "    }\n",
       "\n",
       "    .dataframe tbody tr th {\n",
       "        vertical-align: top;\n",
       "    }\n",
       "\n",
       "    .dataframe thead th {\n",
       "        text-align: right;\n",
       "    }\n",
       "</style>\n",
       "<table border=\"1\" class=\"dataframe\">\n",
       "  <thead>\n",
       "    <tr style=\"text-align: right;\">\n",
       "      <th></th>\n",
       "      <th>id</th>\n",
       "      <th>place</th>\n",
       "      <th>place_modified</th>\n",
       "      <th>tgn</th>\n",
       "      <th>coords</th>\n",
       "    </tr>\n",
       "  </thead>\n",
       "  <tbody>\n",
       "    <tr>\n",
       "      <th>29</th>\n",
       "      <td>https://collections.ashmolean.org/collection/1...</td>\n",
       "      <td>Design for a Window in the University Museum, ...</td>\n",
       "      <td>Oxfordshire</td>\n",
       "      <td>tgn/7011931</td>\n",
       "      <td>51.75,-1.25</td>\n",
       "    </tr>\n",
       "  </tbody>\n",
       "</table>\n",
       "</div>"
      ],
      "text/plain": [
       "                                                   id  \\\n",
       "29  https://collections.ashmolean.org/collection/1...   \n",
       "\n",
       "                                                place place_modified  \\\n",
       "29  Design for a Window in the University Museum, ...    Oxfordshire   \n",
       "\n",
       "            tgn       coords  \n",
       "29  tgn/7011931  51.75,-1.25  "
      ]
     },
     "metadata": {},
     "output_type": "display_data"
    },
    {
     "data": {
      "text/html": [
       "<h4>Stone Pines at Sestri, Gulf of Genoa</h4>"
      ],
      "text/plain": [
       "<IPython.core.display.HTML object>"
      ]
     },
     "metadata": {},
     "output_type": "display_data"
    },
    {
     "data": {
      "text/html": [
       "<div>\n",
       "<style scoped>\n",
       "    .dataframe tbody tr th:only-of-type {\n",
       "        vertical-align: middle;\n",
       "    }\n",
       "\n",
       "    .dataframe tbody tr th {\n",
       "        vertical-align: top;\n",
       "    }\n",
       "\n",
       "    .dataframe thead th {\n",
       "        text-align: right;\n",
       "    }\n",
       "</style>\n",
       "<table border=\"1\" class=\"dataframe\">\n",
       "  <thead>\n",
       "    <tr style=\"text-align: right;\">\n",
       "      <th></th>\n",
       "      <th>id</th>\n",
       "      <th>place</th>\n",
       "      <th>place_modified</th>\n",
       "      <th>tgn</th>\n",
       "      <th>coords</th>\n",
       "    </tr>\n",
       "  </thead>\n",
       "  <tbody>\n",
       "    <tr>\n",
       "      <th>75</th>\n",
       "      <td>https://collections.ashmolean.org/collection/1...</td>\n",
       "      <td>Stone Pines at Sestri, Gulf of Genoa</td>\n",
       "      <td>Sestri, Punta di</td>\n",
       "      <td>tgn/7034720</td>\n",
       "      <td>44.269444,9.384722</td>\n",
       "    </tr>\n",
       "  </tbody>\n",
       "</table>\n",
       "</div>"
      ],
      "text/plain": [
       "                                                   id  \\\n",
       "75  https://collections.ashmolean.org/collection/1...   \n",
       "\n",
       "                                   place    place_modified          tgn  \\\n",
       "75  Stone Pines at Sestri, Gulf of Genoa  Sestri, Punta di  tgn/7034720   \n",
       "\n",
       "                coords  \n",
       "75  44.269444,9.384722  "
      ]
     },
     "metadata": {},
     "output_type": "display_data"
    },
    {
     "data": {
      "text/html": [
       "<h4>Studies of Venetian Capitals</h4>"
      ],
      "text/plain": [
       "<IPython.core.display.HTML object>"
      ]
     },
     "metadata": {},
     "output_type": "display_data"
    },
    {
     "data": {
      "text/html": [
       "<div>\n",
       "<style scoped>\n",
       "    .dataframe tbody tr th:only-of-type {\n",
       "        vertical-align: middle;\n",
       "    }\n",
       "\n",
       "    .dataframe tbody tr th {\n",
       "        vertical-align: top;\n",
       "    }\n",
       "\n",
       "    .dataframe thead th {\n",
       "        text-align: right;\n",
       "    }\n",
       "</style>\n",
       "<table border=\"1\" class=\"dataframe\">\n",
       "  <thead>\n",
       "    <tr style=\"text-align: right;\">\n",
       "      <th></th>\n",
       "      <th>id</th>\n",
       "      <th>place</th>\n",
       "      <th>place_modified</th>\n",
       "      <th>tgn</th>\n",
       "      <th>coords</th>\n",
       "    </tr>\n",
       "  </thead>\n",
       "  <tbody>\n",
       "    <tr>\n",
       "      <th>14</th>\n",
       "      <td>https://www.harvardartmuseums.org/collections/...</td>\n",
       "      <td>Studies of Venetian Capitals</td>\n",
       "      <td>Venice</td>\n",
       "      <td>tgn/7018159</td>\n",
       "      <td>45.438611,12.326667</td>\n",
       "    </tr>\n",
       "  </tbody>\n",
       "</table>\n",
       "</div>"
      ],
      "text/plain": [
       "                                                   id  \\\n",
       "14  https://www.harvardartmuseums.org/collections/...   \n",
       "\n",
       "                           place place_modified          tgn  \\\n",
       "14  Studies of Venetian Capitals         Venice  tgn/7018159   \n",
       "\n",
       "                 coords  \n",
       "14  45.438611,12.326667  "
      ]
     },
     "metadata": {},
     "output_type": "display_data"
    },
    {
     "data": {
      "text/html": [
       "<h4>Mountain study: view of the Alps (Aiguilles near Chamonix)</h4>"
      ],
      "text/plain": [
       "<IPython.core.display.HTML object>"
      ]
     },
     "metadata": {},
     "output_type": "display_data"
    },
    {
     "data": {
      "text/html": [
       "<div>\n",
       "<style scoped>\n",
       "    .dataframe tbody tr th:only-of-type {\n",
       "        vertical-align: middle;\n",
       "    }\n",
       "\n",
       "    .dataframe tbody tr th {\n",
       "        vertical-align: top;\n",
       "    }\n",
       "\n",
       "    .dataframe thead th {\n",
       "        text-align: right;\n",
       "    }\n",
       "</style>\n",
       "<table border=\"1\" class=\"dataframe\">\n",
       "  <thead>\n",
       "    <tr style=\"text-align: right;\">\n",
       "      <th></th>\n",
       "      <th>id</th>\n",
       "      <th>place</th>\n",
       "      <th>place_modified</th>\n",
       "      <th>tgn</th>\n",
       "      <th>coords</th>\n",
       "    </tr>\n",
       "  </thead>\n",
       "  <tbody>\n",
       "    <tr>\n",
       "      <th>83</th>\n",
       "      <td>https://collections.ashmolean.org/collection/1...</td>\n",
       "      <td>Mountain study: view of the Alps (Aiguilles ne...</td>\n",
       "      <td>Aiguilles</td>\n",
       "      <td>tgn/1031704</td>\n",
       "      <td>44.781489,6.869433</td>\n",
       "    </tr>\n",
       "  </tbody>\n",
       "</table>\n",
       "</div>"
      ],
      "text/plain": [
       "                                                   id  \\\n",
       "83  https://collections.ashmolean.org/collection/1...   \n",
       "\n",
       "                                                place place_modified  \\\n",
       "83  Mountain study: view of the Alps (Aiguilles ne...      Aiguilles   \n",
       "\n",
       "            tgn              coords  \n",
       "83  tgn/1031704  44.781489,6.869433  "
      ]
     },
     "metadata": {},
     "output_type": "display_data"
    },
    {
     "data": {
      "text/html": [
       "<h4>Town of Schaffhausen: Castle and Turrets</h4>"
      ],
      "text/plain": [
       "<IPython.core.display.HTML object>"
      ]
     },
     "metadata": {},
     "output_type": "display_data"
    },
    {
     "data": {
      "text/html": [
       "<div>\n",
       "<style scoped>\n",
       "    .dataframe tbody tr th:only-of-type {\n",
       "        vertical-align: middle;\n",
       "    }\n",
       "\n",
       "    .dataframe tbody tr th {\n",
       "        vertical-align: top;\n",
       "    }\n",
       "\n",
       "    .dataframe thead th {\n",
       "        text-align: right;\n",
       "    }\n",
       "</style>\n",
       "<table border=\"1\" class=\"dataframe\">\n",
       "  <thead>\n",
       "    <tr style=\"text-align: right;\">\n",
       "      <th></th>\n",
       "      <th>id</th>\n",
       "      <th>place</th>\n",
       "      <th>place_modified</th>\n",
       "      <th>tgn</th>\n",
       "      <th>coords</th>\n",
       "    </tr>\n",
       "  </thead>\n",
       "  <tbody>\n",
       "    <tr>\n",
       "      <th>57</th>\n",
       "      <td>https://www.harvardartmuseums.org/collections/...</td>\n",
       "      <td>Town of Schaffhausen: Castle and Turrets</td>\n",
       "      <td>Schaffhausen</td>\n",
       "      <td>tgn/7106738</td>\n",
       "      <td>48.966667,10.566667</td>\n",
       "    </tr>\n",
       "  </tbody>\n",
       "</table>\n",
       "</div>"
      ],
      "text/plain": [
       "                                                   id  \\\n",
       "57  https://www.harvardartmuseums.org/collections/...   \n",
       "\n",
       "                                       place place_modified          tgn  \\\n",
       "57  Town of Schaffhausen: Castle and Turrets   Schaffhausen  tgn/7106738   \n",
       "\n",
       "                 coords  \n",
       "57  48.966667,10.566667  "
      ]
     },
     "metadata": {},
     "output_type": "display_data"
    },
    {
     "data": {
      "text/html": [
       "<h4>Scene on the Rhine</h4>"
      ],
      "text/plain": [
       "<IPython.core.display.HTML object>"
      ]
     },
     "metadata": {},
     "output_type": "display_data"
    },
    {
     "data": {
      "text/html": [
       "<div>\n",
       "<style scoped>\n",
       "    .dataframe tbody tr th:only-of-type {\n",
       "        vertical-align: middle;\n",
       "    }\n",
       "\n",
       "    .dataframe tbody tr th {\n",
       "        vertical-align: top;\n",
       "    }\n",
       "\n",
       "    .dataframe thead th {\n",
       "        text-align: right;\n",
       "    }\n",
       "</style>\n",
       "<table border=\"1\" class=\"dataframe\">\n",
       "  <thead>\n",
       "    <tr style=\"text-align: right;\">\n",
       "      <th></th>\n",
       "      <th>id</th>\n",
       "      <th>place</th>\n",
       "      <th>place_modified</th>\n",
       "      <th>tgn</th>\n",
       "      <th>coords</th>\n",
       "    </tr>\n",
       "  </thead>\n",
       "  <tbody>\n",
       "    <tr>\n",
       "      <th>84</th>\n",
       "      <td>https://www.harvardartmuseums.org/collections/...</td>\n",
       "      <td>Scene on the Rhine</td>\n",
       "      <td>Rhine</td>\n",
       "      <td>tgn/7012611</td>\n",
       "      <td>51.98404,4.08245</td>\n",
       "    </tr>\n",
       "  </tbody>\n",
       "</table>\n",
       "</div>"
      ],
      "text/plain": [
       "                                                   id               place  \\\n",
       "84  https://www.harvardartmuseums.org/collections/...  Scene on the Rhine   \n",
       "\n",
       "   place_modified          tgn            coords  \n",
       "84          Rhine  tgn/7012611  51.98404,4.08245  "
      ]
     },
     "metadata": {},
     "output_type": "display_data"
    },
    {
     "data": {
      "text/html": [
       "<h4>Design for a window in the University Museum, Oxford</h4>"
      ],
      "text/plain": [
       "<IPython.core.display.HTML object>"
      ]
     },
     "metadata": {},
     "output_type": "display_data"
    },
    {
     "data": {
      "text/html": [
       "<div>\n",
       "<style scoped>\n",
       "    .dataframe tbody tr th:only-of-type {\n",
       "        vertical-align: middle;\n",
       "    }\n",
       "\n",
       "    .dataframe tbody tr th {\n",
       "        vertical-align: top;\n",
       "    }\n",
       "\n",
       "    .dataframe thead th {\n",
       "        text-align: right;\n",
       "    }\n",
       "</style>\n",
       "<table border=\"1\" class=\"dataframe\">\n",
       "  <thead>\n",
       "    <tr style=\"text-align: right;\">\n",
       "      <th></th>\n",
       "      <th>id</th>\n",
       "      <th>place</th>\n",
       "      <th>place_modified</th>\n",
       "      <th>tgn</th>\n",
       "      <th>coords</th>\n",
       "    </tr>\n",
       "  </thead>\n",
       "  <tbody>\n",
       "    <tr>\n",
       "      <th>30</th>\n",
       "      <td>https://collections.ashmolean.org/collection/1...</td>\n",
       "      <td>Design for a window in the University Museum, ...</td>\n",
       "      <td>Oxfordshire</td>\n",
       "      <td>tgn/7011931</td>\n",
       "      <td>51.75,-1.25</td>\n",
       "    </tr>\n",
       "  </tbody>\n",
       "</table>\n",
       "</div>"
      ],
      "text/plain": [
       "                                                   id  \\\n",
       "30  https://collections.ashmolean.org/collection/1...   \n",
       "\n",
       "                                                place place_modified  \\\n",
       "30  Design for a window in the University Museum, ...    Oxfordshire   \n",
       "\n",
       "            tgn       coords  \n",
       "30  tgn/7011931  51.75,-1.25  "
      ]
     },
     "metadata": {},
     "output_type": "display_data"
    },
    {
     "data": {
      "text/html": [
       "<h4>Tower of Fribourg</h4>"
      ],
      "text/plain": [
       "<IPython.core.display.HTML object>"
      ]
     },
     "metadata": {},
     "output_type": "display_data"
    },
    {
     "data": {
      "text/html": [
       "<div>\n",
       "<style scoped>\n",
       "    .dataframe tbody tr th:only-of-type {\n",
       "        vertical-align: middle;\n",
       "    }\n",
       "\n",
       "    .dataframe tbody tr th {\n",
       "        vertical-align: top;\n",
       "    }\n",
       "\n",
       "    .dataframe thead th {\n",
       "        text-align: right;\n",
       "    }\n",
       "</style>\n",
       "<table border=\"1\" class=\"dataframe\">\n",
       "  <thead>\n",
       "    <tr style=\"text-align: right;\">\n",
       "      <th></th>\n",
       "      <th>id</th>\n",
       "      <th>place</th>\n",
       "      <th>place_modified</th>\n",
       "      <th>tgn</th>\n",
       "      <th>coords</th>\n",
       "    </tr>\n",
       "  </thead>\n",
       "  <tbody>\n",
       "    <tr>\n",
       "      <th>82</th>\n",
       "      <td>https://www.harvardartmuseums.org/collections/...</td>\n",
       "      <td>Tower of Fribourg</td>\n",
       "      <td>Fribourg</td>\n",
       "      <td>tgn/7007278</td>\n",
       "      <td>46.79572,7.154748</td>\n",
       "    </tr>\n",
       "  </tbody>\n",
       "</table>\n",
       "</div>"
      ],
      "text/plain": [
       "                                                   id              place  \\\n",
       "82  https://www.harvardartmuseums.org/collections/...  Tower of Fribourg   \n",
       "\n",
       "   place_modified          tgn             coords  \n",
       "82       Fribourg  tgn/7007278  46.79572,7.154748  "
      ]
     },
     "metadata": {},
     "output_type": "display_data"
    },
    {
     "data": {
      "text/html": [
       "<h4>Venetian Renaissance Capital</h4>"
      ],
      "text/plain": [
       "<IPython.core.display.HTML object>"
      ]
     },
     "metadata": {},
     "output_type": "display_data"
    },
    {
     "data": {
      "text/html": [
       "<div>\n",
       "<style scoped>\n",
       "    .dataframe tbody tr th:only-of-type {\n",
       "        vertical-align: middle;\n",
       "    }\n",
       "\n",
       "    .dataframe tbody tr th {\n",
       "        vertical-align: top;\n",
       "    }\n",
       "\n",
       "    .dataframe thead th {\n",
       "        text-align: right;\n",
       "    }\n",
       "</style>\n",
       "<table border=\"1\" class=\"dataframe\">\n",
       "  <thead>\n",
       "    <tr style=\"text-align: right;\">\n",
       "      <th></th>\n",
       "      <th>id</th>\n",
       "      <th>place</th>\n",
       "      <th>place_modified</th>\n",
       "      <th>tgn</th>\n",
       "      <th>coords</th>\n",
       "    </tr>\n",
       "  </thead>\n",
       "  <tbody>\n",
       "    <tr>\n",
       "      <th>15</th>\n",
       "      <td>https://www.harvardartmuseums.org/collections/...</td>\n",
       "      <td>Venetian Renaissance Capital</td>\n",
       "      <td>Venice</td>\n",
       "      <td>tgn/7018159</td>\n",
       "      <td>45.438611,12.326667</td>\n",
       "    </tr>\n",
       "  </tbody>\n",
       "</table>\n",
       "</div>"
      ],
      "text/plain": [
       "                                                   id  \\\n",
       "15  https://www.harvardartmuseums.org/collections/...   \n",
       "\n",
       "                           place place_modified          tgn  \\\n",
       "15  Venetian Renaissance Capital         Venice  tgn/7018159   \n",
       "\n",
       "                 coords  \n",
       "15  45.438611,12.326667  "
      ]
     },
     "metadata": {},
     "output_type": "display_data"
    },
    {
     "data": {
      "text/html": [
       "<h4>Capital from the Lower Arcade of the Doges' Palace, Venice</h4>"
      ],
      "text/plain": [
       "<IPython.core.display.HTML object>"
      ]
     },
     "metadata": {},
     "output_type": "display_data"
    },
    {
     "data": {
      "text/html": [
       "<div>\n",
       "<style scoped>\n",
       "    .dataframe tbody tr th:only-of-type {\n",
       "        vertical-align: middle;\n",
       "    }\n",
       "\n",
       "    .dataframe tbody tr th {\n",
       "        vertical-align: top;\n",
       "    }\n",
       "\n",
       "    .dataframe thead th {\n",
       "        text-align: right;\n",
       "    }\n",
       "</style>\n",
       "<table border=\"1\" class=\"dataframe\">\n",
       "  <thead>\n",
       "    <tr style=\"text-align: right;\">\n",
       "      <th></th>\n",
       "      <th>id</th>\n",
       "      <th>place</th>\n",
       "      <th>place_modified</th>\n",
       "      <th>tgn</th>\n",
       "      <th>coords</th>\n",
       "    </tr>\n",
       "  </thead>\n",
       "  <tbody>\n",
       "    <tr>\n",
       "      <th>16</th>\n",
       "      <td>https://www.harvardartmuseums.org/collections/...</td>\n",
       "      <td>Capital from the Lower Arcade of the Doges' Pa...</td>\n",
       "      <td>Venice</td>\n",
       "      <td>tgn/7018159</td>\n",
       "      <td>45.438611,12.326667</td>\n",
       "    </tr>\n",
       "  </tbody>\n",
       "</table>\n",
       "</div>"
      ],
      "text/plain": [
       "                                                   id  \\\n",
       "16  https://www.harvardartmuseums.org/collections/...   \n",
       "\n",
       "                                                place place_modified  \\\n",
       "16  Capital from the Lower Arcade of the Doges' Pa...         Venice   \n",
       "\n",
       "            tgn               coords  \n",
       "16  tgn/7018159  45.438611,12.326667  "
      ]
     },
     "metadata": {},
     "output_type": "display_data"
    },
    {
     "data": {
      "text/html": [
       "<h4>First Process of Sepia Sketch of Leafage: Study from Ruskin's Photograph of the Courtyard of a late Gothic wooden House at Abbeville</h4>"
      ],
      "text/plain": [
       "<IPython.core.display.HTML object>"
      ]
     },
     "metadata": {},
     "output_type": "display_data"
    },
    {
     "data": {
      "text/html": [
       "<div>\n",
       "<style scoped>\n",
       "    .dataframe tbody tr th:only-of-type {\n",
       "        vertical-align: middle;\n",
       "    }\n",
       "\n",
       "    .dataframe tbody tr th {\n",
       "        vertical-align: top;\n",
       "    }\n",
       "\n",
       "    .dataframe thead th {\n",
       "        text-align: right;\n",
       "    }\n",
       "</style>\n",
       "<table border=\"1\" class=\"dataframe\">\n",
       "  <thead>\n",
       "    <tr style=\"text-align: right;\">\n",
       "      <th></th>\n",
       "      <th>id</th>\n",
       "      <th>place</th>\n",
       "      <th>place_modified</th>\n",
       "      <th>tgn</th>\n",
       "      <th>coords</th>\n",
       "    </tr>\n",
       "  </thead>\n",
       "  <tbody>\n",
       "    <tr>\n",
       "      <th>53</th>\n",
       "      <td>https://collections.ashmolean.org/collection/1...</td>\n",
       "      <td>First Process of Sepia Sketch of Leafage: Stud...</td>\n",
       "      <td>France</td>\n",
       "      <td>tgn/7010587</td>\n",
       "      <td>50.106602,1.832691</td>\n",
       "    </tr>\n",
       "  </tbody>\n",
       "</table>\n",
       "</div>"
      ],
      "text/plain": [
       "                                                   id  \\\n",
       "53  https://collections.ashmolean.org/collection/1...   \n",
       "\n",
       "                                                place place_modified  \\\n",
       "53  First Process of Sepia Sketch of Leafage: Stud...         France   \n",
       "\n",
       "            tgn              coords  \n",
       "53  tgn/7010587  50.106602,1.832691  "
      ]
     },
     "metadata": {},
     "output_type": "display_data"
    },
    {
     "data": {
      "text/html": [
       "<h4>Study of Portal and Carved Pinnacles, Cathedral of St. Lô, Normandy</h4>"
      ],
      "text/plain": [
       "<IPython.core.display.HTML object>"
      ]
     },
     "metadata": {},
     "output_type": "display_data"
    },
    {
     "data": {
      "text/html": [
       "<div>\n",
       "<style scoped>\n",
       "    .dataframe tbody tr th:only-of-type {\n",
       "        vertical-align: middle;\n",
       "    }\n",
       "\n",
       "    .dataframe tbody tr th {\n",
       "        vertical-align: top;\n",
       "    }\n",
       "\n",
       "    .dataframe thead th {\n",
       "        text-align: right;\n",
       "    }\n",
       "</style>\n",
       "<table border=\"1\" class=\"dataframe\">\n",
       "  <thead>\n",
       "    <tr style=\"text-align: right;\">\n",
       "      <th></th>\n",
       "      <th>id</th>\n",
       "      <th>place</th>\n",
       "      <th>place_modified</th>\n",
       "      <th>tgn</th>\n",
       "      <th>coords</th>\n",
       "    </tr>\n",
       "  </thead>\n",
       "  <tbody>\n",
       "    <tr>\n",
       "      <th>85</th>\n",
       "      <td>https://www.harvardartmuseums.org/collections/...</td>\n",
       "      <td>Study of Portal and Carved Pinnacles, Cathedra...</td>\n",
       "      <td>Normandie</td>\n",
       "      <td>tgn/8711852</td>\n",
       "      <td>49.133333,.216667</td>\n",
       "    </tr>\n",
       "  </tbody>\n",
       "</table>\n",
       "</div>"
      ],
      "text/plain": [
       "                                                   id  \\\n",
       "85  https://www.harvardartmuseums.org/collections/...   \n",
       "\n",
       "                                                place place_modified  \\\n",
       "85  Study of Portal and Carved Pinnacles, Cathedra...      Normandie   \n",
       "\n",
       "            tgn             coords  \n",
       "85  tgn/8711852  49.133333,.216667  "
      ]
     },
     "metadata": {},
     "output_type": "display_data"
    },
    {
     "data": {
      "text/html": [
       "<h4>Mountain study: view of the Alps</h4>"
      ],
      "text/plain": [
       "<IPython.core.display.HTML object>"
      ]
     },
     "metadata": {},
     "output_type": "display_data"
    },
    {
     "data": {
      "text/html": [
       "<div>\n",
       "<style scoped>\n",
       "    .dataframe tbody tr th:only-of-type {\n",
       "        vertical-align: middle;\n",
       "    }\n",
       "\n",
       "    .dataframe tbody tr th {\n",
       "        vertical-align: top;\n",
       "    }\n",
       "\n",
       "    .dataframe thead th {\n",
       "        text-align: right;\n",
       "    }\n",
       "</style>\n",
       "<table border=\"1\" class=\"dataframe\">\n",
       "  <thead>\n",
       "    <tr style=\"text-align: right;\">\n",
       "      <th></th>\n",
       "      <th>id</th>\n",
       "      <th>place</th>\n",
       "      <th>place_modified</th>\n",
       "      <th>tgn</th>\n",
       "      <th>coords</th>\n",
       "    </tr>\n",
       "  </thead>\n",
       "  <tbody>\n",
       "    <tr>\n",
       "      <th>37</th>\n",
       "      <td>https://collections.ashmolean.org/collection/1...</td>\n",
       "      <td>Mountain study: view of the Alps</td>\n",
       "      <td>Alps</td>\n",
       "      <td>tgn/7007746</td>\n",
       "      <td>46.416667,10</td>\n",
       "    </tr>\n",
       "  </tbody>\n",
       "</table>\n",
       "</div>"
      ],
      "text/plain": [
       "                                                   id  \\\n",
       "37  https://collections.ashmolean.org/collection/1...   \n",
       "\n",
       "                               place place_modified          tgn        coords  \n",
       "37  Mountain study: view of the Alps           Alps  tgn/7007746  46.416667,10  "
      ]
     },
     "metadata": {},
     "output_type": "display_data"
    },
    {
     "data": {
      "text/html": [
       "<h4>Ivy-Leaved Toadflax ('Oxford Ivy')</h4>"
      ],
      "text/plain": [
       "<IPython.core.display.HTML object>"
      ]
     },
     "metadata": {},
     "output_type": "display_data"
    },
    {
     "data": {
      "text/html": [
       "<div>\n",
       "<style scoped>\n",
       "    .dataframe tbody tr th:only-of-type {\n",
       "        vertical-align: middle;\n",
       "    }\n",
       "\n",
       "    .dataframe tbody tr th {\n",
       "        vertical-align: top;\n",
       "    }\n",
       "\n",
       "    .dataframe thead th {\n",
       "        text-align: right;\n",
       "    }\n",
       "</style>\n",
       "<table border=\"1\" class=\"dataframe\">\n",
       "  <thead>\n",
       "    <tr style=\"text-align: right;\">\n",
       "      <th></th>\n",
       "      <th>id</th>\n",
       "      <th>place</th>\n",
       "      <th>place_modified</th>\n",
       "      <th>tgn</th>\n",
       "      <th>coords</th>\n",
       "    </tr>\n",
       "  </thead>\n",
       "  <tbody>\n",
       "    <tr>\n",
       "      <th>31</th>\n",
       "      <td>https://collections.ashmolean.org/collection/1...</td>\n",
       "      <td>Ivy-Leaved Toadflax ('Oxford Ivy')</td>\n",
       "      <td>Oxfordshire</td>\n",
       "      <td>tgn/7011931</td>\n",
       "      <td>51.75,-1.25</td>\n",
       "    </tr>\n",
       "  </tbody>\n",
       "</table>\n",
       "</div>"
      ],
      "text/plain": [
       "                                                   id  \\\n",
       "31  https://collections.ashmolean.org/collection/1...   \n",
       "\n",
       "                                 place place_modified          tgn  \\\n",
       "31  Ivy-Leaved Toadflax ('Oxford Ivy')    Oxfordshire  tgn/7011931   \n",
       "\n",
       "         coords  \n",
       "31  51.75,-1.25  "
      ]
     },
     "metadata": {},
     "output_type": "display_data"
    },
    {
     "data": {
      "text/html": [
       "<h4>Study for Detail of the Market Place, Abbeville</h4>"
      ],
      "text/plain": [
       "<IPython.core.display.HTML object>"
      ]
     },
     "metadata": {},
     "output_type": "display_data"
    },
    {
     "data": {
      "text/html": [
       "<div>\n",
       "<style scoped>\n",
       "    .dataframe tbody tr th:only-of-type {\n",
       "        vertical-align: middle;\n",
       "    }\n",
       "\n",
       "    .dataframe tbody tr th {\n",
       "        vertical-align: top;\n",
       "    }\n",
       "\n",
       "    .dataframe thead th {\n",
       "        text-align: right;\n",
       "    }\n",
       "</style>\n",
       "<table border=\"1\" class=\"dataframe\">\n",
       "  <thead>\n",
       "    <tr style=\"text-align: right;\">\n",
       "      <th></th>\n",
       "      <th>id</th>\n",
       "      <th>place</th>\n",
       "      <th>place_modified</th>\n",
       "      <th>tgn</th>\n",
       "      <th>coords</th>\n",
       "    </tr>\n",
       "  </thead>\n",
       "  <tbody>\n",
       "    <tr>\n",
       "      <th>54</th>\n",
       "      <td>https://collections.ashmolean.org/collection/1...</td>\n",
       "      <td>Study for Detail of the Market Place, Abbeville</td>\n",
       "      <td>France</td>\n",
       "      <td>tgn/7010587</td>\n",
       "      <td>50.106602,1.832691</td>\n",
       "    </tr>\n",
       "  </tbody>\n",
       "</table>\n",
       "</div>"
      ],
      "text/plain": [
       "                                                   id  \\\n",
       "54  https://collections.ashmolean.org/collection/1...   \n",
       "\n",
       "                                              place place_modified  \\\n",
       "54  Study for Detail of the Market Place, Abbeville         France   \n",
       "\n",
       "            tgn              coords  \n",
       "54  tgn/7010587  50.106602,1.832691  "
      ]
     },
     "metadata": {},
     "output_type": "display_data"
    },
    {
     "data": {
      "text/html": [
       "<h4>Evening in Autumn under the Castle of Habsburg</h4>"
      ],
      "text/plain": [
       "<IPython.core.display.HTML object>"
      ]
     },
     "metadata": {},
     "output_type": "display_data"
    },
    {
     "data": {
      "text/html": [
       "<div>\n",
       "<style scoped>\n",
       "    .dataframe tbody tr th:only-of-type {\n",
       "        vertical-align: middle;\n",
       "    }\n",
       "\n",
       "    .dataframe tbody tr th {\n",
       "        vertical-align: top;\n",
       "    }\n",
       "\n",
       "    .dataframe thead th {\n",
       "        text-align: right;\n",
       "    }\n",
       "</style>\n",
       "<table border=\"1\" class=\"dataframe\">\n",
       "  <thead>\n",
       "    <tr style=\"text-align: right;\">\n",
       "      <th></th>\n",
       "      <th>id</th>\n",
       "      <th>place</th>\n",
       "      <th>place_modified</th>\n",
       "      <th>tgn</th>\n",
       "      <th>coords</th>\n",
       "    </tr>\n",
       "  </thead>\n",
       "  <tbody>\n",
       "    <tr>\n",
       "      <th>86</th>\n",
       "      <td>https://collections.ashmolean.org/collection/1...</td>\n",
       "      <td>Evening in Autumn under the Castle of Habsburg</td>\n",
       "      <td>Habsburg</td>\n",
       "      <td>tgn/8703166</td>\n",
       "      <td>47.462441,8.185123</td>\n",
       "    </tr>\n",
       "  </tbody>\n",
       "</table>\n",
       "</div>"
      ],
      "text/plain": [
       "                                                   id  \\\n",
       "86  https://collections.ashmolean.org/collection/1...   \n",
       "\n",
       "                                             place place_modified  \\\n",
       "86  Evening in Autumn under the Castle of Habsburg       Habsburg   \n",
       "\n",
       "            tgn              coords  \n",
       "86  tgn/8703166  47.462441,8.185123  "
      ]
     },
     "metadata": {},
     "output_type": "display_data"
    },
    {
     "data": {
      "text/html": [
       "<h4>Study of an Archivolt in Saint Mark's, Venice</h4>"
      ],
      "text/plain": [
       "<IPython.core.display.HTML object>"
      ]
     },
     "metadata": {},
     "output_type": "display_data"
    },
    {
     "data": {
      "text/html": [
       "<div>\n",
       "<style scoped>\n",
       "    .dataframe tbody tr th:only-of-type {\n",
       "        vertical-align: middle;\n",
       "    }\n",
       "\n",
       "    .dataframe tbody tr th {\n",
       "        vertical-align: top;\n",
       "    }\n",
       "\n",
       "    .dataframe thead th {\n",
       "        text-align: right;\n",
       "    }\n",
       "</style>\n",
       "<table border=\"1\" class=\"dataframe\">\n",
       "  <thead>\n",
       "    <tr style=\"text-align: right;\">\n",
       "      <th></th>\n",
       "      <th>id</th>\n",
       "      <th>place</th>\n",
       "      <th>place_modified</th>\n",
       "      <th>tgn</th>\n",
       "      <th>coords</th>\n",
       "    </tr>\n",
       "  </thead>\n",
       "  <tbody>\n",
       "    <tr>\n",
       "      <th>17</th>\n",
       "      <td>https://www.harvardartmuseums.org/collections/...</td>\n",
       "      <td>Study of an Archivolt in Saint Mark's, Venice</td>\n",
       "      <td>Venice</td>\n",
       "      <td>tgn/7018159</td>\n",
       "      <td>45.438611,12.326667</td>\n",
       "    </tr>\n",
       "  </tbody>\n",
       "</table>\n",
       "</div>"
      ],
      "text/plain": [
       "                                                   id  \\\n",
       "17  https://www.harvardartmuseums.org/collections/...   \n",
       "\n",
       "                                            place place_modified          tgn  \\\n",
       "17  Study of an Archivolt in Saint Mark's, Venice         Venice  tgn/7018159   \n",
       "\n",
       "                 coords  \n",
       "17  45.438611,12.326667  "
      ]
     },
     "metadata": {},
     "output_type": "display_data"
    },
    {
     "data": {
      "text/html": [
       "<h4>Afternoon in Spring, with south Wind, at Neuchâtel</h4>"
      ],
      "text/plain": [
       "<IPython.core.display.HTML object>"
      ]
     },
     "metadata": {},
     "output_type": "display_data"
    },
    {
     "data": {
      "text/html": [
       "<div>\n",
       "<style scoped>\n",
       "    .dataframe tbody tr th:only-of-type {\n",
       "        vertical-align: middle;\n",
       "    }\n",
       "\n",
       "    .dataframe tbody tr th {\n",
       "        vertical-align: top;\n",
       "    }\n",
       "\n",
       "    .dataframe thead th {\n",
       "        text-align: right;\n",
       "    }\n",
       "</style>\n",
       "<table border=\"1\" class=\"dataframe\">\n",
       "  <thead>\n",
       "    <tr style=\"text-align: right;\">\n",
       "      <th></th>\n",
       "      <th>id</th>\n",
       "      <th>place</th>\n",
       "      <th>place_modified</th>\n",
       "      <th>tgn</th>\n",
       "      <th>coords</th>\n",
       "    </tr>\n",
       "  </thead>\n",
       "  <tbody>\n",
       "    <tr>\n",
       "      <th>78</th>\n",
       "      <td>https://collections.ashmolean.org/collection/1...</td>\n",
       "      <td>Afternoon in Spring, with south Wind, at Neuch...</td>\n",
       "      <td>Neuchâtel</td>\n",
       "      <td>tgn/7003751</td>\n",
       "      <td>46.990867,6.797675</td>\n",
       "    </tr>\n",
       "  </tbody>\n",
       "</table>\n",
       "</div>"
      ],
      "text/plain": [
       "                                                   id  \\\n",
       "78  https://collections.ashmolean.org/collection/1...   \n",
       "\n",
       "                                                place place_modified  \\\n",
       "78  Afternoon in Spring, with south Wind, at Neuch...      Neuchâtel   \n",
       "\n",
       "            tgn              coords  \n",
       "78  tgn/7003751  46.990867,6.797675  "
      ]
     },
     "metadata": {},
     "output_type": "display_data"
    },
    {
     "data": {
      "text/html": [
       "<h4>Sketch of the Oak Spray in Mantegna's Fresco of 'The Martyrdom of Saint James' in the Church of the Eremitani, Padua</h4>"
      ],
      "text/plain": [
       "<IPython.core.display.HTML object>"
      ]
     },
     "metadata": {},
     "output_type": "display_data"
    },
    {
     "data": {
      "text/html": [
       "<div>\n",
       "<style scoped>\n",
       "    .dataframe tbody tr th:only-of-type {\n",
       "        vertical-align: middle;\n",
       "    }\n",
       "\n",
       "    .dataframe tbody tr th {\n",
       "        vertical-align: top;\n",
       "    }\n",
       "\n",
       "    .dataframe thead th {\n",
       "        text-align: right;\n",
       "    }\n",
       "</style>\n",
       "<table border=\"1\" class=\"dataframe\">\n",
       "  <thead>\n",
       "    <tr style=\"text-align: right;\">\n",
       "      <th></th>\n",
       "      <th>id</th>\n",
       "      <th>place</th>\n",
       "      <th>place_modified</th>\n",
       "      <th>tgn</th>\n",
       "      <th>coords</th>\n",
       "    </tr>\n",
       "  </thead>\n",
       "  <tbody>\n",
       "    <tr>\n",
       "      <th>87</th>\n",
       "      <td>https://collections.ashmolean.org/collection/1...</td>\n",
       "      <td>Sketch of the Oak Spray in Mantegna's Fresco o...</td>\n",
       "      <td>Padua</td>\n",
       "      <td>tgn/7003085</td>\n",
       "      <td>45.416667,11.883333</td>\n",
       "    </tr>\n",
       "  </tbody>\n",
       "</table>\n",
       "</div>"
      ],
      "text/plain": [
       "                                                   id  \\\n",
       "87  https://collections.ashmolean.org/collection/1...   \n",
       "\n",
       "                                                place place_modified  \\\n",
       "87  Sketch of the Oak Spray in Mantegna's Fresco o...          Padua   \n",
       "\n",
       "            tgn               coords  \n",
       "87  tgn/7003085  45.416667,11.883333  "
      ]
     },
     "metadata": {},
     "output_type": "display_data"
    },
    {
     "data": {
      "text/html": [
       "<h4>Part of a Sketch of the Northwest Porch of St. Mark's</h4>"
      ],
      "text/plain": [
       "<IPython.core.display.HTML object>"
      ]
     },
     "metadata": {},
     "output_type": "display_data"
    },
    {
     "data": {
      "text/html": [
       "<div>\n",
       "<style scoped>\n",
       "    .dataframe tbody tr th:only-of-type {\n",
       "        vertical-align: middle;\n",
       "    }\n",
       "\n",
       "    .dataframe tbody tr th {\n",
       "        vertical-align: top;\n",
       "    }\n",
       "\n",
       "    .dataframe thead th {\n",
       "        text-align: right;\n",
       "    }\n",
       "</style>\n",
       "<table border=\"1\" class=\"dataframe\">\n",
       "  <thead>\n",
       "    <tr style=\"text-align: right;\">\n",
       "      <th></th>\n",
       "      <th>id</th>\n",
       "      <th>place</th>\n",
       "      <th>place_modified</th>\n",
       "      <th>tgn</th>\n",
       "      <th>coords</th>\n",
       "    </tr>\n",
       "  </thead>\n",
       "  <tbody>\n",
       "    <tr>\n",
       "      <th>18</th>\n",
       "      <td>https://www.harvardartmuseums.org/collections/...</td>\n",
       "      <td>Part of a Sketch of the Northwest Porch of St....</td>\n",
       "      <td>Venice</td>\n",
       "      <td>tgn/7018159</td>\n",
       "      <td>45.438611,12.326667</td>\n",
       "    </tr>\n",
       "  </tbody>\n",
       "</table>\n",
       "</div>"
      ],
      "text/plain": [
       "                                                   id  \\\n",
       "18  https://www.harvardartmuseums.org/collections/...   \n",
       "\n",
       "                                                place place_modified  \\\n",
       "18  Part of a Sketch of the Northwest Porch of St....         Venice   \n",
       "\n",
       "            tgn               coords  \n",
       "18  tgn/7018159  45.438611,12.326667  "
      ]
     },
     "metadata": {},
     "output_type": "display_data"
    },
    {
     "data": {
      "text/html": [
       "<h4>Study of the Marble Inlaying on the Front of the Casa Loredan, Venice</h4>"
      ],
      "text/plain": [
       "<IPython.core.display.HTML object>"
      ]
     },
     "metadata": {},
     "output_type": "display_data"
    },
    {
     "data": {
      "text/html": [
       "<div>\n",
       "<style scoped>\n",
       "    .dataframe tbody tr th:only-of-type {\n",
       "        vertical-align: middle;\n",
       "    }\n",
       "\n",
       "    .dataframe tbody tr th {\n",
       "        vertical-align: top;\n",
       "    }\n",
       "\n",
       "    .dataframe thead th {\n",
       "        text-align: right;\n",
       "    }\n",
       "</style>\n",
       "<table border=\"1\" class=\"dataframe\">\n",
       "  <thead>\n",
       "    <tr style=\"text-align: right;\">\n",
       "      <th></th>\n",
       "      <th>id</th>\n",
       "      <th>place</th>\n",
       "      <th>place_modified</th>\n",
       "      <th>tgn</th>\n",
       "      <th>coords</th>\n",
       "    </tr>\n",
       "  </thead>\n",
       "  <tbody>\n",
       "    <tr>\n",
       "      <th>19</th>\n",
       "      <td>https://collections.ashmolean.org/collection/1...</td>\n",
       "      <td>Study of the Marble Inlaying on the Front of t...</td>\n",
       "      <td>Venice</td>\n",
       "      <td>tgn/7018159</td>\n",
       "      <td>45.438611,12.326667</td>\n",
       "    </tr>\n",
       "  </tbody>\n",
       "</table>\n",
       "</div>"
      ],
      "text/plain": [
       "                                                   id  \\\n",
       "19  https://collections.ashmolean.org/collection/1...   \n",
       "\n",
       "                                                place place_modified  \\\n",
       "19  Study of the Marble Inlaying on the Front of t...         Venice   \n",
       "\n",
       "            tgn               coords  \n",
       "19  tgn/7018159  45.438611,12.326667  "
      ]
     },
     "metadata": {},
     "output_type": "display_data"
    },
    {
     "data": {
      "text/html": [
       "<h4>Files updated</h4>"
      ],
      "text/plain": [
       "<IPython.core.display.HTML object>"
      ]
     },
     "execution_count": 117,
     "metadata": {},
     "output_type": "execute_result"
    }
   ],
   "source": [
    "try:\n",
    "    import cromulent \n",
    "except:\n",
    "    !pip install cromulent\n",
    "    import cromulent\n",
    "    \n",
    "from cromulent.model import factory\n",
    "\n",
    "from cromulent.model import factory, Actor, Production, BeginningOfExistence, EndOfExistence, TimeSpan, Place\n",
    "from cromulent.model import InformationObject, Phase, VisualItem \n",
    "from cromulent.vocab import Painting, Drawing,Miniature,add_art_setter, PrimaryName, Name, CollectionSet, instances, Sculpture \n",
    "from cromulent.vocab import aat_culture_mapping, AccessionNumber, Height, Width, SupportPart, Gallery, MuseumPlace \n",
    "from cromulent.vocab import BottomPart, Description, RightsStatement, MuseumOrg, Purchase\n",
    "from cromulent.vocab import Furniture, Mosaic, Photograph, Coin, Vessel, Graphic, Enamel, Embroidery, PhotographPrint\n",
    "from cromulent.vocab import PhotographAlbum, PhotographBook, PhotographColor, PhotographBW, Negative, Map, Clothing, Furniture\n",
    "from cromulent.vocab import Sample, Architecture, Armor, Book, DecArts, Implement, Jewelry, Manuscript, SiteInstallation, Text, Print\n",
    "from cromulent.vocab import TimeBasedMedia, Page, Folio, Folder, Box, Envelope, Binder, Case, FlatfileCabinet\n",
    "from cromulent.vocab import HumanMadeObject,Tapestry,LocalNumber\n",
    "from cromulent.vocab import Type,Set\n",
    "from cromulent.vocab import TimeSpan, Actor, Group, Acquisition, Place\n",
    "from cromulent.vocab import Production, TimeSpan, Actor\n",
    "from cromulent.vocab import LinguisticObject,DigitalObject, DigitalService\n",
    "from cromulent import reader\n",
    "\n",
    "try:\n",
    "    import pandas as pd\n",
    "except:\n",
    "    !pip install pandas\n",
    "    import pandas as pd\n",
    "    \n",
    "try:\n",
    "    import os\n",
    "except:\n",
    "    !pip install os\n",
    "    import os\n",
    "    \n",
    "try:\n",
    "    import json\n",
    "except:\n",
    "    !pip install json\n",
    "    import json \n",
    "    \n",
    "\n",
    "    \n",
    "\n",
    "from lib import linkedart as la\n",
    "\n",
    "artwork = {}\n",
    "cnt=1\n",
    "\n",
    "# directory containing Rusking artworks represented in Linked Art JSON-LD\n",
    "ruskindir = \"data/ruskin/output/json\"\n",
    "file_list=os.listdir(ruskindir)\n",
    "\n",
    "# directory that will contain updated Ruskin artwork representations including geo coords\n",
    "storyvisdir = \"data/ruskin/storyvis/json\"\n",
    "\n",
    "# file containing reconciled data with coordinates\n",
    "filecoord = \"./data/ruskin/ruskin-places-rec-coords.csv\" \n",
    "# open file containing reconciled data with geo coordinates\n",
    "dataframeGeo = pd.read_csv(filecoord,low_memory=False)\n",
    "\n",
    "# for each linked art json file\n",
    "for file in file_list:\n",
    "    # open file\n",
    "    with open( ruskindir + \"/\" + file) as json_file:\n",
    "        \n",
    "        # get json object from file object with json.load() https://www.geeksforgeeks.org/json-load-in-python/\n",
    "        artwork = json.load(json_file)\n",
    "        \n",
    "        # if id field is in the id field of data file containing geographical coordinates, add update the file\n",
    "        if artwork[\"id\"] in dataframeGeo[\"id\"].tolist():\n",
    "            \n",
    "            display(HTML(\"<h4>\" + artwork[\"_label\"] + \"</h4>\"))\n",
    "            # get rows in dataframeGeo where id == artwork id from JSON-LD file\n",
    "            # Access a group of rows and columns by label(s) or a boolean array\n",
    "            # https://pandas.pydata.org/docs/reference/api/pandas.DataFrame.loc.html\n",
    "            rows = dataframeGeo.loc[dataframeGeo['id'] == artwork[\"id\"]]\n",
    "            \n",
    "            print(\"Matching row in geographical coordinates file for artwork\")\n",
    "            display(rows)\n",
    "            \n",
    "            # get first row https://pandas.pydata.org/docs/reference/api/pandas.DataFrame.iloc.html\n",
    "            row=rows.iloc[0]\n",
    "            \n",
    "         \n",
    "            \n",
    "            # get place name and coords from geocoords file \n",
    "            placeName = row[\"place\"]\n",
    "            coords = row[\"coords\"]\n",
    "            # replace comma in coords with space\n",
    "            coords = coords.replace(\",\", \" \")\n",
    "           \n",
    "            # increment counter\n",
    "            cnt = cnt+1\n",
    "             \n",
    "            # use cromulent to create Linked Art representation of place depicted\n",
    "             # https://github.com/thegetty/crom\n",
    "            \n",
    "            approx_place = Place()\n",
    "            approx_place._label = placeName\n",
    "            approx_place.defined_by = \"POINT(\" + coords + \")\"\n",
    "            \n",
    "            place = Place()\n",
    "            place._label = placeName\n",
    "            place.approximated_by = approx_place\n",
    "            \n",
    "            visualItem = VisualItem()\n",
    "            visualItem.represents = place\n",
    "            \n",
    "            # append new representation to artwork json object\n",
    "            artwork[\"shows\"] = factory.toJSON(visualItem)\n",
    "            \n",
    "            print(\"Geographical coordinates representation to be added:\")\n",
    "            print(json.dumps(factory.toJSON(visualItem), indent=2))\n",
    "            \n",
    "            # open output file \n",
    "            text_file = open(storyvisdir + \"/\" + str(cnt) + \".json\", \"wt\")\n",
    "            \n",
    "            # write to file and close\n",
    "            n = text_file.write(json.dumps(artwork,indent=2))\n",
    "            text_file.close()\n",
    "            print(\"File updated\" )\n",
    "\n",
    "HTML(\"<h4>Files updated</h4>\")"
   ]
  },
  {
   "cell_type": "markdown",
   "id": "dffac831",
   "metadata": {},
   "source": [
    "## Example Linked Art JSON-LD including Geographical Identifier and Coordinates \n",
    "\n",
    "The following is an example JSON-LD Linked Art representation, updated to include geographical coordinates.\n",
    "    \n",
    "### Image Title: Study of the Marble Inlaying on the Front of the Casa Loredan, Venice\n",
    "\n",
    "<img src=\"https://upload.wikimedia.org/wikipedia/commons/thumb/5/5f/Study_of_the_Marble_Inlaying_on_the_Front_of_the_Casa_Loredan.jpg/508px-Study_of_the_Marble_Inlaying_on_the_Front_of_the_Casa_Loredan.jpg\"/>\n",
    "\n",
    "\n",
    "\n",
    "<a href=\"http://ruskin.ashmolean.org/collection/8979/object/14491\">Ashmolean Museum artwork page</a>\n",
    "\n",
    "\n",
    "### JSON-LD Representation"
   ]
  },
  {
   "cell_type": "code",
   "execution_count": 118,
   "id": "09c99833",
   "metadata": {},
   "outputs": [
    {
     "name": "stdout",
     "output_type": "stream",
     "text": [
      "{\n",
      "  \"@context\": \"https://linked.art/ns/v1/linked-art.json\",\n",
      "  \"id\": \"https://collections.ashmolean.org/collection/159660\",\n",
      "  \"type\": \"HumanMadeObject\",\n",
      "  \"_label\": \"Study of the Marble Inlaying on the Front of the Casa Loredan, Venice\",\n",
      "  \"identified_by\": [\n",
      "    {\n",
      "      \"id\": \"http://lod.example.org/museum/Identifier/WA.RS.RUD.022\",\n",
      "      \"type\": \"Identifier\",\n",
      "      \"classified_as\": [\n",
      "        {\n",
      "          \"id\": \"http://vocab.getty.edu/aat/300312355\",\n",
      "          \"type\": \"Type\",\n",
      "          \"_label\": \"Accession Number\"\n",
      "        }\n",
      "      ],\n",
      "      \"content\": \"WA.RS.RUD.022\"\n",
      "    },\n",
      "    {\n",
      "      \"id\": \"http://lod.example.org/museum/Identifier/159660\",\n",
      "      \"type\": \"Identifier\",\n",
      "      \"classified_as\": [\n",
      "        {\n",
      "          \"id\": \"http://vocab.getty.edu/aat/300404621\",\n",
      "          \"type\": \"Type\",\n",
      "          \"_label\": \"Owner-Assigned Number\"\n",
      "        }\n",
      "      ],\n",
      "      \"content\": \"159660\"\n",
      "    },\n",
      "    {\n",
      "      \"id\": \"https://collections.ashmolean.org/collection/159660/primary-name\",\n",
      "      \"type\": \"Name\",\n",
      "      \"classified_as\": [\n",
      "        {\n",
      "          \"id\": \"http://vocab.getty.edu/aat/300404670\",\n",
      "          \"type\": \"Type\",\n",
      "          \"_label\": \"Primary Name\"\n",
      "        }\n",
      "      ],\n",
      "      \"content\": \"Study of the Marble Inlaying on the Front of the Casa Loredan, Venice\"\n",
      "    }\n",
      "  ],\n",
      "  \"representation\": [\n",
      "    {\n",
      "      \"id\": \"https://collections.ashmolean.org/media/ashmole6_collection/w800/Collections/Single_Objects/WA/WA_RS/WA_RS_RUD_022-a-L.jpg\",\n",
      "      \"type\": \"VisualItem\",\n",
      "      \"_label\": \"Digital image of artwork\",\n",
      "      \"digitally_shown_by\": [\n",
      "        {\n",
      "          \"id\": \"https://collections.ashmolean.org/media/ashmole6_collection/w800/Collections/Single_Objects/WA/WA_RS/WA_RS_RUD_022-a-L.jpg\",\n",
      "          \"type\": \"DigitalObject\",\n",
      "          \"_label\": \"Image of artwork\",\n",
      "          \"classified_as\": [\n",
      "            {\n",
      "              \"id\": \"http://vocab.getty.edu/aat/300215302\",\n",
      "              \"type\": \"Type\",\n",
      "              \"_label\": \"Digital Image\"\n",
      "            }\n",
      "          ],\n",
      "          \"access_point\": [\n",
      "            {\n",
      "              \"id\": \"https://collections.ashmolean.org/media/ashmole6_collection/w800/Collections/Single_Objects/WA/WA_RS/WA_RS_RUD_022-a-L.jpg\",\n",
      "              \"type\": \"DigitalObject\"\n",
      "            }\n",
      "          ]\n",
      "        }\n",
      "      ]\n",
      "    }\n",
      "  ],\n",
      "  \"subject_of\": [\n",
      "    {\n",
      "      \"id\": \"https://collections.ashmolean.org/collection/browse-9148/object/159660\",\n",
      "      \"type\": \"LinguisticObject\",\n",
      "      \"_label\": \"Homepage for the Object\",\n",
      "      \"classified_as\": [\n",
      "        {\n",
      "          \"id\": \"http://vocab/getty.edu/aat/300264578\",\n",
      "          \"type\": \"Type\",\n",
      "          \"_label\": \"Web pages (documents)\"\n",
      "        },\n",
      "        {\n",
      "          \"id\": \"http://vocab.getty.edu/aat/300266277\",\n",
      "          \"type\": \"Type\",\n",
      "          \"_label\": \"home pages\"\n",
      "        }\n",
      "      ],\n",
      "      \"format\": \"text/html\"\n",
      "    }\n",
      "  ],\n",
      "  \"current_owner\": [\n",
      "    {\n",
      "      \"id\": \"http://vocab.getty.edu/ulan/500300517\",\n",
      "      \"type\": \"Group\",\n",
      "      \"_label\": \"Ashmolean Museum\",\n",
      "      \"classified_as\": [\n",
      "        {\n",
      "          \"id\": \"http://vocab.getty.edu/aat/300312281\",\n",
      "          \"type\": \"Type\",\n",
      "          \"_label\": \"museums (institutions)\"\n",
      "        }\n",
      "      ]\n",
      "    }\n",
      "  ],\n",
      "  \"shows\": {\n",
      "    \"@context\": \"https://linked.art/ns/v1/linked-art.json\",\n",
      "    \"id\": \"http://lod.example.org/museum/VisualItem/2551\",\n",
      "    \"type\": \"VisualItem\",\n",
      "    \"represents\": [\n",
      "      {\n",
      "        \"id\": \"http://lod.example.org/museum/Place/5103\",\n",
      "        \"type\": \"Place\",\n",
      "        \"_label\": \"Study of the Marble Inlaying on the Front of the Casa Loredan, Venice\",\n",
      "        \"approximated_by\": [\n",
      "          {\n",
      "            \"id\": \"http://lod.example.org/museum/Place/5102\",\n",
      "            \"type\": \"Place\",\n",
      "            \"_label\": \"Study of the Marble Inlaying on the Front of the Casa Loredan, Venice\",\n",
      "            \"defined_by\": \"POINT(45.438611 12.326667)\"\n",
      "          }\n",
      "        ]\n",
      "      }\n",
      "    ]\n",
      "  }\n",
      "}\n"
     ]
    }
   ],
   "source": [
    "print(json.dumps(artwork,indent=2))"
   ]
  },
  {
   "cell_type": "markdown",
   "id": "2ba69fa4",
   "metadata": {},
   "source": [
    "<h3>Visualisation -  Artwork Description with Geographical Coordinates of Place Depicted</h3>\n",
    "\n",
    "If you'd like to view a different file change the value of `file` filepath in the code below (examples: 1.json .. 89.json)"
   ]
  },
  {
   "cell_type": "code",
   "execution_count": 119,
   "id": "6cf0476b",
   "metadata": {},
   "outputs": [
    {
     "data": {
      "application/javascript": [
       "\n",
       "require.config({paths: {\n",
       "    d3: \"http://d3js.org/d3.v3.min\"\n",
       "}});\n",
       "\n",
       "function visjsonld(file, selector){\n",
       "   \n",
       "    require([\"d3\"], function(d3) {\n",
       "        \n",
       "    d3.json(file, (err, jsonld) => {\n",
       "        \n",
       "    var config = {};\n",
       "    \n",
       "    var h = config.h || 800\n",
       "          , w = config.w || 3000\n",
       "          , maxLabelWidth = config.maxLabelWidth || 200\n",
       "          , transitionDuration = config.transitionDuration || 750\n",
       "          , transitionEase = config.transitionEase || 'cubic-in-out'\n",
       "          , minRadius = config.minRadius || 5\n",
       "          , scalingFactor = config.scalingFactor || 2;\n",
       "    \n",
       "    var i = 0;\n",
       "\n",
       "    var tree = d3.layout.tree()\n",
       "          .size([h, w]);\n",
       "        \n",
       "    var diagonal = d3.svg.diagonal()\n",
       "          .projection(function(d) { return [d.y, d.x]; });\n",
       "        \n",
       "    d3.select(selector).selectAll(\"svg\").remove();\n",
       "   \n",
       "    var svg = d3.select(selector).append('svg')\n",
       "            .attr('width', w)\n",
       "            .attr('height', h)\n",
       "            .attr('style', 'background-color:#446a7f')\n",
       "            .append('g')\n",
       "            .attr('transform', 'translate(' + maxLabelWidth + ',0)');\n",
       "            \n",
       "     var root = jsonldTree(jsonld);\n",
       "        root.x0 = h / 2;\n",
       "        root.y0 = 0;\n",
       "        root.children.forEach(collapse);\n",
       "    \n",
       "        function changeSVGWidth(newWidth) {\n",
       "          if (w !== newWidth) {\n",
       "            d3.select(selector + ' > svg').attr('width', newWidth);\n",
       "          }\n",
       "        }\n",
       "    \n",
       "        function jsonldTree(source) {\n",
       "          var tree = {};\n",
       "    \n",
       "          if ('@id' in source) {\n",
       "            tree.isIdNode = true;\n",
       "            tree.name = source['@id'];\n",
       "            if (tree.name.length > maxLabelWidth / 9) {\n",
       "              tree.valueExtended = tree.name;\n",
       "              tree.name = '...' + tree.valueExtended.slice(-Math.floor(maxLabelWidth / 9));\n",
       "            }\n",
       "          } else {\n",
       "            tree.isIdNode = true;\n",
       "            tree.isBlankNode = true;\n",
       "            // random id, can replace with actual uuid generator if needed\n",
       "            tree.name = '_' + Math.random().toString(10).slice(-7);\n",
       "          }\n",
       "    \n",
       "          var children = [];\n",
       "          Object.keys(source).forEach(function(key) {\n",
       "            if (key === '@id' || key === '@context' || source[key] === null) return;\n",
       "    \n",
       "            var valueExtended, value;\n",
       "            if (typeof source[key] === 'object' && !Array.isArray(source[key])) {\n",
       "              children.push({\n",
       "                name: key,\n",
       "                children: [jsonldTree(source[key])]\n",
       "              });\n",
       "            } else if (Array.isArray(source[key])) {\n",
       "              children.push({\n",
       "                name: key,\n",
       "                children: source[key].map(function(item) {\n",
       "                  if (typeof item === 'object') {\n",
       "                    return jsonldTree(item);\n",
       "                  } else {\n",
       "                    return { name: item };\n",
       "                  }\n",
       "                })\n",
       "              });\n",
       "            } else {\n",
       "              valueExtended = source[key];\n",
       "              value = valueExtended;\n",
       "              if (value.length > maxLabelWidth / 9) {\n",
       "                value = value.slice(0, Math.floor(maxLabelWidth / 2)) + '...';\n",
       "                children.push({\n",
       "                  name: key,\n",
       "                  value: value,\n",
       "                  valueExtended: valueExtended\n",
       "                });\n",
       "              } else {\n",
       "                children.push({\n",
       "                  name: key,\n",
       "                  value: value\n",
       "                });\n",
       "              }\n",
       "            }\n",
       "          });\n",
       "    \n",
       "          if (children.length) {\n",
       "            tree.children = children;\n",
       "          }\n",
       "    \n",
       "          return tree;\n",
       "        }\n",
       "    \n",
       "        function update(source) {\n",
       "          var nodes = tree.nodes(root).reverse();\n",
       "          var links = tree.links(nodes);\n",
       "    \n",
       "          nodes.forEach(function(d) { d.y = d.depth * maxLabelWidth; });\n",
       "    \n",
       "          var node = svg.selectAll('g.node')\n",
       "            .data(nodes, function(d) { return d.id || (d.id = ++i); });\n",
       "    \n",
       "          var nodeEnter = node.enter()\n",
       "            .append('g')\n",
       "            .attr('class', 'node')\n",
       "            .attr('transform', function(d) { return 'translate(' + source.y0 + ',' + source.x0 + ')'; })\n",
       "            .on('click', click);\n",
       "    \n",
       "          nodeEnter.append('circle')\n",
       "            .attr('r', 0)\n",
       "            .style('stroke-width', function(d) {\n",
       "              return d.isIdNode ? '2px' : '1px';\n",
       "            })\n",
       "            .style('stroke', function(d) {\n",
       "              return d.isIdNode ? 'navy' : '#78BE21';\n",
       "            })\n",
       "            .style('fill', function(d) {\n",
       "              if (d.isIdNode) {\n",
       "                return d._children ? 'white' : 'white';\n",
       "              } else {\n",
       "                return d._children ? 'white' : 'white';\n",
       "              }\n",
       "            })\n",
       "            \n",
       "    \n",
       "          nodeEnter.append('text')\n",
       "            .attr('x', function(d) {\n",
       "              var spacing = computeRadius(d) + 5;\n",
       "              return d.children || d._children ? -spacing : spacing;\n",
       "            })\n",
       "            .attr('dy', '4')\n",
       "            .attr('text-anchor', function(d) { return d.children || d._children ? 'end' : 'start'; })\n",
       "            .text(function(d) { return d.name + (d.value ? ': ' + d.value : ''); })\n",
       "            .style('fill-opacity', 0)\n",
       "            \n",
       ";\n",
       "    \n",
       "          var maxSpan = Math.max.apply(Math, nodes.map(function(d) { return d.y + maxLabelWidth; }));\n",
       "          if (maxSpan + maxLabelWidth + 20 > w) {\n",
       "            changeSVGWidth(maxSpan + maxLabelWidth);\n",
       "            d3.select(selector).node().scrollLeft = source.y0;\n",
       "          }\n",
       "    \n",
       "          var nodeUpdate = node.transition()\n",
       "            .duration(transitionDuration)\n",
       "            .ease(transitionEase)\n",
       "            .attr('transform', function(d) { return 'translate(' + d.y + ',' + d.x + ')'; });\n",
       "    \n",
       "          nodeUpdate.select('circle')\n",
       "            .attr('r', function(d) { return computeRadius(d); })\n",
       "            .style('stroke-width', function(d) {\n",
       "              return d.isIdNode ? '2px' : '1px';\n",
       "            })\n",
       "            .style('stroke', function(d) {\n",
       "              return d.isIdNode ? '#78BE21' : '#78BE21';\n",
       "            })\n",
       "            .style('fill', function(d) {\n",
       "              if (d.isIdNode) {\n",
       "                return d._children ? 'navy' : '#78BE21';\n",
       "              } else {\n",
       "                return d._children ? 'navy' : '#78BE21';\n",
       "              }\n",
       "            });\n",
       "    \n",
       "            nodeUpdate.select('text').style('fill-opacity', 1);\n",
       "            nodeUpdate.select('text').style('font-family', \"'Open Sans', 'Helvetica Neue', Helvetica, sans-serif\");\n",
       "            nodeUpdate.select('text').style('fill', 'white');\n",
       "            nodeUpdate.select('text').style('font-size', '12px');\n",
       "            \n",
       "            \n",
       "            \n",
       "           \n",
       "            \n",
       "    \n",
       "      \n",
       "    \n",
       "          var nodeExit = node.exit().transition()\n",
       "            .duration(transitionDuration)\n",
       "            .ease(transitionEase)\n",
       "            .attr('transform', function(d) { return 'translate(' + source.y + ',' + source.x + ')'; })\n",
       "            .remove();\n",
       "    \n",
       "          nodeExit.select('circle').attr('r', 0);\n",
       "          nodeExit.select('text').style('fill-opacity', 0);\n",
       "    \n",
       "          var link = svg.selectAll('path.link')\n",
       "            .data(links, function(d) { return d.target.id; });\n",
       "    \n",
       "          link.enter().insert('path', 'g')\n",
       "            .attr('class', 'link')\n",
       "            .attr('style', 'fill: none;stroke: #DADFE1;stroke-width: 1px;')\n",
       "            .attr('d', function(d) {\n",
       "              var o = { x: source.x0, y: source.y0 };\n",
       "              return diagonal({ source: o, target: o });\n",
       "            });\n",
       "    \n",
       "          link.transition()\n",
       "            .duration(transitionDuration)\n",
       "            .ease(transitionEase)\n",
       "            .attr('d', diagonal);\n",
       "    \n",
       "          link.exit().transition()\n",
       "            .duration(transitionDuration)\n",
       "            .ease(transitionEase)\n",
       "            .attr('d', function(d) {\n",
       "              var o = { x: source.x, y: source.y };\n",
       "              return diagonal({ source: o, target: o });\n",
       "            })\n",
       "            .remove();\n",
       "    \n",
       "          nodes.forEach(function(d) {\n",
       "            d.x0 = d.x;\n",
       "            d.y0 = d.y;\n",
       "          });\n",
       "        }\n",
       "    \n",
       "        function computeRadius(d) {\n",
       "          if (d.children || d._children) {\n",
       "            return minRadius + (numEndNodes(d) / scalingFactor);\n",
       "          } else {\n",
       "            return minRadius;\n",
       "          }\n",
       "        }\n",
       "    \n",
       "        function numEndNodes(n) {\n",
       "          var num = 0;\n",
       "          if (n.children) {\n",
       "            n.children.forEach(function(c) {\n",
       "              num += numEndNodes(c);\n",
       "            });\n",
       "          } else if (n._children) {\n",
       "            n._children.forEach(function(c) {\n",
       "              num += numEndNodes(c);\n",
       "            });\n",
       "          } else {\n",
       "            num++;\n",
       "          }\n",
       "          return num;\n",
       "        }\n",
       "    \n",
       "        function click(d) {\n",
       "          if (d.children) {\n",
       "            d._children = d.children;\n",
       "            d.children = null;\n",
       "          } else {\n",
       "            d.children = d._children;\n",
       "            d._children = null;\n",
       "          }\n",
       "    \n",
       "          update(d);\n",
       "    \n",
       "          // fast-forward blank nodes\n",
       "          if (d.children) {\n",
       "            d.children.forEach(function(child) {\n",
       "              if (child.isBlankNode && child._children) {\n",
       "                click(child);\n",
       "              }\n",
       "            });\n",
       "          }\n",
       "        }\n",
       "    \n",
       "        function collapse(d) {\n",
       "          if (d.children) {\n",
       "            d._children = d.children;\n",
       "            d._children.forEach(collapse);\n",
       "            d.children = null;\n",
       "          }\n",
       "        }\n",
       "    \n",
       "        update(root);\n",
       "      \n",
       "        \n",
       "    })\n",
       "\n",
       "\n",
       "\n",
       "\n",
       "})}\n",
       "var file = './data/ruskin/storyvis/json/4.json';var selector = '#vis2';visjsonld(file, selector); "
      ],
      "text/plain": [
       "<IPython.core.display.Javascript object>"
      ]
     },
     "execution_count": 119,
     "metadata": {},
     "output_type": "execute_result"
    }
   ],
   "source": [
    "from IPython.core.display import Javascript\n",
    "\n",
    "code2 = \"var file = './data/ruskin/storyvis/json/4.json';\"\\\n",
    "        \"var selector = '#vis2';\" \\\n",
    "        \"visjsonld(file, selector); \"  \n",
    "\n",
    "with open('./src/js/visld.js', 'r') as _jscript:\n",
    "    code = _jscript.read() + code2\n",
    "\n",
    "Javascript(code)"
   ]
  },
  {
   "cell_type": "markdown",
   "id": "2898a38b",
   "metadata": {},
   "source": [
    "<div id='vis2' style='height:100%;width:6000px'></div>"
   ]
  }
 ],
 "metadata": {
  "celltoolbar": "Edit Metadata",
  "finalized": {
   "timestamp": 1650806743954,
   "trusted": true
  },
  "kernelspec": {
   "display_name": "Python 3",
   "language": "python",
   "name": "python3"
  },
  "language_info": {
   "codemirror_mode": {
    "name": "ipython",
    "version": 3
   },
   "file_extension": ".py",
   "mimetype": "text/x-python",
   "name": "python",
   "nbconvert_exporter": "python",
   "pygments_lexer": "ipython3",
   "version": "3.8.8"
  },
  "require": {
   "paths": {
    "d3": "https://d3js.org/d3.v7.min"
   },
   "shim": {}
  }
 },
 "nbformat": 4,
 "nbformat_minor": 5
}
