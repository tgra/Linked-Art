{
 "cells": [
  {
   "cell_type": "markdown",
   "id": "ffd291f6",
   "metadata": {},
   "source": [
    "# Transforming Collections Data to Linked Art \n",
    "\n",
    "[Linked Art](https://linked.art) is a community working together to create a shared Model based on Linked Open Data to describe Art. \n",
    "\n",
    "A number of exemplars will be published to demonstrate the processes involved in producing Linked Art JSON-LD, and also the potential applications of Linked Art, on the theme of:\n",
    "- `Transformation` - Documented transformation process - using code, documentation and possibly visualisation\n",
    "- `Reconciliation` - Documented reconciliation process - matching data with an external identifier source\n",
    "- `Visualisation` - Documented transformation of Linked Art JSON-LD to data visualisation\n",
    "\n",
    "This exemplar is concerned with `Transformation` - the transformation process, from collections data to Linked Art JSON-LD.\n",
    "\n",
    "## Aim of the Notebook\n",
    "The aim of the notebook is to demonstrate how easy it is to transform collections data to Linked Art JSON-LD.\n",
    "\n",
    "## How\n",
    "The notebooks provide a documented, interactive code example of the transformation process, from collections data to Linked Art. \n",
    "\n",
    "## Attribution\n",
    "\n",
    "The Linked Art data model documentation has been sourced from the [Linked Art website](https://linked.art)\n"
   ]
  },
  {
   "cell_type": "markdown",
   "id": "5f8f72f3",
   "metadata": {},
   "source": [
    "## Python Libraries Used\n",
    "\n",
    "- [ipywidgets](https://github.com/jupyter-widgets/ipywidgets) - interactive HTML widgets for Jupyter notebooks\n",
    "- [IPython](https://ipython.readthedocs.io/en/stable/) - for interactive and exploratory computing\n",
    "- [xmltodict](https://pypi.org/project/xmltodict/) - for working with XML\n",
    "- [json](https://docs.python.org/3/library/json.html) - JSON encoder and decoder\n",
    "- [requests](https://docs.python-requests.org/en/latest/) - simple HTTP library\n",
    "- [cromulent](https://github.com/thegetty/crom) - make creation of CIDOC CRM easier \n",
    "- [pandas](https://pandas.pydata.org/) - data analysis and manipulation tool\n"
   ]
  },
  {
   "cell_type": "code",
   "execution_count": null,
   "id": "fa0f9db8",
   "metadata": {},
   "outputs": [],
   "source": []
  }
 ],
 "metadata": {
  "kernelspec": {
   "display_name": "Python 3",
   "language": "python",
   "name": "python3"
  },
  "language_info": {
   "codemirror_mode": {
    "name": "ipython",
    "version": 3
   },
   "file_extension": ".py",
   "mimetype": "text/x-python",
   "name": "python",
   "nbconvert_exporter": "python",
   "pygments_lexer": "ipython3",
   "version": "3.8.8"
  }
 },
 "nbformat": 4,
 "nbformat_minor": 5
}
